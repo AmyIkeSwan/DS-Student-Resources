{
 "cells": [
  {
   "cell_type": "markdown",
   "id": "dc8bc06c-333f-4dc9-9e0f-9749dbbf078c",
   "metadata": {},
   "source": [
    "# Change Log\n",
    "\n",
    "1. DS101L1P4, Added PowerBI example, [DS101L1P4 PowerBI](../DS101L1.ipynb#DS101L1_PowerBI), [UAT Link](https://wozu.uat.exeterlms.com/lesson/50197/topic/829439), [Jira ticket link](https://woz-u-projects.atlassian.net/browse/CUR-1891) \n",
    "2. DS101L7P7, Fix broken link, [link to issue](../DS101L7.ipynb#fix_link), [Jira ticket link](https://woz-u-projects.atlassian.net/browse/CUR-1922)"
   ]
  },
  {
   "cell_type": "markdown",
   "id": "ca2d8d01-9a1f-42f7-affd-5d3932e45cd1",
   "metadata": {},
   "source": [
    "# TODO List:\n",
    "\n",
    "1. Lesson 2 Page 5 needs better example\n",
    "2.\n"
   ]
  },
  {
   "cell_type": "code",
   "execution_count": null,
   "id": "9481ecbf-fe00-44af-a6f0-4569849921a5",
   "metadata": {},
   "outputs": [],
   "source": []
  }
 ],
 "metadata": {
  "kernelspec": {
   "display_name": "Python 3 (ipykernel)",
   "language": "python",
   "name": "python3"
  },
  "language_info": {
   "codemirror_mode": {
    "name": "ipython",
    "version": 3
   },
   "file_extension": ".py",
   "mimetype": "text/x-python",
   "name": "python",
   "nbconvert_exporter": "python",
   "pygments_lexer": "ipython3",
   "version": "3.9.7"
  }
 },
 "nbformat": 4,
 "nbformat_minor": 5
}
