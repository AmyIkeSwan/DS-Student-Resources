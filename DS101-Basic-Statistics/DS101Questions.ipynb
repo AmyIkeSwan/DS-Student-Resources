{
 "cells": [
  {
   "cell_type": "markdown",
   "id": "ebae2c8b-1d2e-4724-8b13-f3bd87d7f449",
   "metadata": {},
   "source": [
    "# DS101 Questions\n",
    "\n",
    "## Lesson 1"
   ]
  },
  {
   "cell_type": "code",
   "execution_count": 1,
   "id": "cc877c15-39ed-49d3-8494-07b7540a11f1",
   "metadata": {},
   "outputs": [],
   "source": [
    "from DS_Students import *"
   ]
  },
  {
   "cell_type": "markdown",
   "id": "bb7593ff-c5c9-4fa4-8a48-e52c285f7c57",
   "metadata": {},
   "source": [
    "## Page 2"
   ]
  },
  {
   "cell_type": "code",
   "execution_count": 2,
   "id": "f262e652-38c0-455a-80b0-ee16062ada26",
   "metadata": {},
   "outputs": [],
   "source": [
    "L1P2Q1 = MultipleChoice('1. Which of the following fields has helped form the discipline of data science?',['Statistics','Computer Science','Communications', 'All of the above'],'All of the above')\n",
    "L1P2Q2 = MultipleChoice('2. What is the primary goal of data science?',['To make data actionable','To analyze data','Create complex models no one can understand'],'To make data actionable')\n",
    "L1P2Q3 = MultipleChoice('3. As a mid-level data scientist, what skills should you know?',['Machine Learning','Statistical Programming','Big Data such as Spark or Hadoop', 'Project Managment'],'Statistical Programming')\n",
    "L1P2Q4 = MultipleChoice('4. What are the applications for mid-level data scientists?',['Business Analysis','Scientific Applications','Data Entry', 'Descriptive Statistics', 'Both A & B are correct'],'Both A & B are correct')\n",
    "L1P2Q5 = MultipleChoice('5. Which of the following is NOT a benefit from joining a professional society?',['Networking','Field-specific job boards','Access to recruiters', 'Discounts on journals and other publications'],'Access to recruiters')"
   ]
  },
  {
   "cell_type": "code",
   "execution_count": 3,
   "id": "ed8e3b08-08bd-4bfd-a7c3-31724bdf6fa8",
   "metadata": {},
   "outputs": [
    {
     "data": {
      "application/vnd.jupyter.widget-view+json": {
       "model_id": "3250d7de794f4dd1a0f165dc600f52b0",
       "version_major": 2,
       "version_minor": 0
      },
      "text/plain": [
       "VBox(children=(Output(), RadioButtons(layout=Layout(width='max-content'), options=(('Statistics', 0), ('Comput…"
      ]
     },
     "metadata": {},
     "output_type": "display_data"
    },
    {
     "data": {
      "application/vnd.jupyter.widget-view+json": {
       "model_id": "f54d5e4b3e424141a868bd98afd3399e",
       "version_major": 2,
       "version_minor": 0
      },
      "text/plain": [
       "VBox(children=(Output(), RadioButtons(layout=Layout(width='max-content'), options=(('To make data actionable',…"
      ]
     },
     "metadata": {},
     "output_type": "display_data"
    },
    {
     "data": {
      "application/vnd.jupyter.widget-view+json": {
       "model_id": "92153539896346c2bd7d47f3b275b4cc",
       "version_major": 2,
       "version_minor": 0
      },
      "text/plain": [
       "VBox(children=(Output(), RadioButtons(layout=Layout(width='max-content'), options=(('Machine Learning', 0), ('…"
      ]
     },
     "metadata": {},
     "output_type": "display_data"
    },
    {
     "data": {
      "application/vnd.jupyter.widget-view+json": {
       "model_id": "655064c4926f4e719f3a5a7c360f6896",
       "version_major": 2,
       "version_minor": 0
      },
      "text/plain": [
       "VBox(children=(Output(), RadioButtons(layout=Layout(width='max-content'), options=(('Business Analysis', 0), (…"
      ]
     },
     "metadata": {},
     "output_type": "display_data"
    },
    {
     "data": {
      "application/vnd.jupyter.widget-view+json": {
       "model_id": "08aed54b858d4101aaa5737bbeb19bdf",
       "version_major": 2,
       "version_minor": 0
      },
      "text/plain": [
       "VBox(children=(Output(), RadioButtons(layout=Layout(width='max-content'), options=(('Networking', 0), ('Field-…"
      ]
     },
     "metadata": {},
     "output_type": "display_data"
    }
   ],
   "source": [
    "if __name__ == \"__main__\":\n",
    "    display(L1P2Q1, L1P2Q2, L1P2Q3, L1P2Q4, L1P2Q5)"
   ]
  },
  {
   "cell_type": "markdown",
   "id": "b1899a9e-73ec-42d7-a5df-b450d6df1407",
   "metadata": {},
   "source": [
    "## Page 3"
   ]
  },
  {
   "cell_type": "code",
   "execution_count": 4,
   "id": "992b6363-e342-4ca8-a91e-2fd10527baac",
   "metadata": {},
   "outputs": [],
   "source": [
    "L1P3Q1 = MultipleChoice('1. Which of the following does NOT contain the Preparation phase of the data science pipeline?',['Data Wrangling','Data Cleaning','Preparation', 'Data Extraction'],'Data Extraction')\n",
    "L1P3Q2 = MultipleChoice('2. What is the program most often used for data extraction?',['R','SQL','Python', 'Tableau'],'SQL')\n",
    "L1P3Q3 = MultipleChoice('3. What is the program most often used for data visualization?',['R','SQL','Python', 'Tableau'],'Tableau')\n",
    "L1P3Q4 = MultipleChoice('4. What is the purpose of data cleaning?',['To test hypotheses','To report findings','Ensure you have the most accurate information', 'To collect data'],'Ensure you have the most accurate information')"
   ]
  },
  {
   "cell_type": "code",
   "execution_count": 5,
   "id": "9ed81e64-7220-4997-967b-c7bfa20b416b",
   "metadata": {},
   "outputs": [
    {
     "data": {
      "application/vnd.jupyter.widget-view+json": {
       "model_id": "f98aab67a81e4644aebf69c882203428",
       "version_major": 2,
       "version_minor": 0
      },
      "text/plain": [
       "VBox(children=(Output(), RadioButtons(layout=Layout(width='max-content'), options=(('Data Wrangling', 0), ('Da…"
      ]
     },
     "metadata": {},
     "output_type": "display_data"
    },
    {
     "data": {
      "application/vnd.jupyter.widget-view+json": {
       "model_id": "9176308d911a4131ada39319d14b475b",
       "version_major": 2,
       "version_minor": 0
      },
      "text/plain": [
       "VBox(children=(Output(), RadioButtons(layout=Layout(width='max-content'), options=(('R', 0), ('SQL', 1), ('Pyt…"
      ]
     },
     "metadata": {},
     "output_type": "display_data"
    },
    {
     "data": {
      "application/vnd.jupyter.widget-view+json": {
       "model_id": "ea23c2514234427981a0c8cd2ec2f6e5",
       "version_major": 2,
       "version_minor": 0
      },
      "text/plain": [
       "VBox(children=(Output(), RadioButtons(layout=Layout(width='max-content'), options=(('R', 0), ('SQL', 1), ('Pyt…"
      ]
     },
     "metadata": {},
     "output_type": "display_data"
    },
    {
     "data": {
      "application/vnd.jupyter.widget-view+json": {
       "model_id": "e7bbba3e283448d49a26922d7f2399ef",
       "version_major": 2,
       "version_minor": 0
      },
      "text/plain": [
       "VBox(children=(Output(), RadioButtons(layout=Layout(width='max-content'), options=(('To test hypotheses', 0), …"
      ]
     },
     "metadata": {},
     "output_type": "display_data"
    }
   ],
   "source": [
    "if __name__ == \"__main__\":\n",
    "    display(L1P3Q1, L1P3Q2, L1P3Q3, L1P3Q4)"
   ]
  },
  {
   "cell_type": "markdown",
   "id": "05c396e2-de6f-4c32-a032-ce60089596f4",
   "metadata": {},
   "source": [
    "## Page 4"
   ]
  },
  {
   "cell_type": "code",
   "execution_count": 6,
   "id": "21de2de2-86aa-4548-9967-301683bfc5b2",
   "metadata": {},
   "outputs": [],
   "source": [
    "L1P4Q1 = MultipleChoice('1. Which of the following is NOT software typically used for data extraction?',['SPSS','SQL','NoSQL', 'SAP Business Objects'],'SPSS')\n",
    "L1P4Q2 = MultipleChoice('2. Which of the following is the most common software used for data analysis?',['SPSS','SAS','R', 'Python'],'Python')\n",
    "L1P4Q3 = MultipleChoice('3. Which of the following is not typically used in research / academic settings?',['Stata','Mplus','SAS', 'SPSS'],'SAS')\n",
    "L1P4Q4 = MultipleChoice('4. Your manager asks you to recommend data analytics software for the data science team. The requirements are that the software has some point and click function. Your company is willing to pay a decent amount of money, which is for a business setting. What software would you recommend?',['Stata','SAS','Minitab', 'Python'],'SAS')\n",
    "L1P4Q5 = MultipleChoice('5. Your manager asks you to recommend data analytics software for his data science team. His only requirement is that the software is completely free.',['MATLAB','R','SAS', 'Stata'],'R')\n",
    "L1P4Q6 = MultipleChoice('6. Your manager asks you to recommend data analytics software for a data science team tracking wild animal behavior and population growth. What software would you recommend?',['SPSS','Mplus','Python', 'MATLAB'],'MATLAB')\n",
    "L1P4Q7 = MultipleChoice('7. What is the difference between Spark and Hadoop?',['Spark is much faster than Hadoop','Hadoop is much faster than Spark','There are no differences', 'Hadoop can run a wider variety of analyses'],'Spark is much faster than Hadoop')\n",
    "L1P4Q8 = MultipleChoice('8. If you needed to complete data extraction on a tremendous amount of data, what program would you use?',['Spark','Hive','R', 'Hadoop'],'Hive')"
   ]
  },
  {
   "cell_type": "code",
   "execution_count": 7,
   "id": "cce693e3-f94b-4505-8e7e-1f40133ad8b7",
   "metadata": {},
   "outputs": [
    {
     "data": {
      "application/vnd.jupyter.widget-view+json": {
       "model_id": "bc5fc41eb5b3406e943f15b408e73584",
       "version_major": 2,
       "version_minor": 0
      },
      "text/plain": [
       "VBox(children=(Output(), RadioButtons(layout=Layout(width='max-content'), options=(('SPSS', 0), ('SQL', 1), ('…"
      ]
     },
     "metadata": {},
     "output_type": "display_data"
    },
    {
     "data": {
      "application/vnd.jupyter.widget-view+json": {
       "model_id": "ec99b7c0e0ad4cc7a178bdd9a4929cb8",
       "version_major": 2,
       "version_minor": 0
      },
      "text/plain": [
       "VBox(children=(Output(), RadioButtons(layout=Layout(width='max-content'), options=(('SPSS', 0), ('SAS', 1), ('…"
      ]
     },
     "metadata": {},
     "output_type": "display_data"
    },
    {
     "data": {
      "application/vnd.jupyter.widget-view+json": {
       "model_id": "a67cbfda46f54526866f446f14c39756",
       "version_major": 2,
       "version_minor": 0
      },
      "text/plain": [
       "VBox(children=(Output(), RadioButtons(layout=Layout(width='max-content'), options=(('Stata', 0), ('Mplus', 1),…"
      ]
     },
     "metadata": {},
     "output_type": "display_data"
    },
    {
     "data": {
      "application/vnd.jupyter.widget-view+json": {
       "model_id": "e9808e19b370414b9fd6926e9a063b31",
       "version_major": 2,
       "version_minor": 0
      },
      "text/plain": [
       "VBox(children=(Output(), RadioButtons(layout=Layout(width='max-content'), options=(('Stata', 0), ('SAS', 1), (…"
      ]
     },
     "metadata": {},
     "output_type": "display_data"
    },
    {
     "data": {
      "application/vnd.jupyter.widget-view+json": {
       "model_id": "55a1641fa4bb41278aacb0af0aa32ee2",
       "version_major": 2,
       "version_minor": 0
      },
      "text/plain": [
       "VBox(children=(Output(), RadioButtons(layout=Layout(width='max-content'), options=(('MATLAB', 0), ('R', 1), ('…"
      ]
     },
     "metadata": {},
     "output_type": "display_data"
    },
    {
     "data": {
      "application/vnd.jupyter.widget-view+json": {
       "model_id": "02840bf44b74400389edcd18e3336142",
       "version_major": 2,
       "version_minor": 0
      },
      "text/plain": [
       "VBox(children=(Output(), RadioButtons(layout=Layout(width='max-content'), options=(('SPSS', 0), ('Mplus', 1), …"
      ]
     },
     "metadata": {},
     "output_type": "display_data"
    },
    {
     "data": {
      "application/vnd.jupyter.widget-view+json": {
       "model_id": "1708df59d31a416283c20651d6fc3f8a",
       "version_major": 2,
       "version_minor": 0
      },
      "text/plain": [
       "VBox(children=(Output(), RadioButtons(layout=Layout(width='max-content'), options=(('Spark is much faster than…"
      ]
     },
     "metadata": {},
     "output_type": "display_data"
    },
    {
     "data": {
      "application/vnd.jupyter.widget-view+json": {
       "model_id": "a33e97cd337344fcb9c132b77f9c8c9a",
       "version_major": 2,
       "version_minor": 0
      },
      "text/plain": [
       "VBox(children=(Output(), RadioButtons(layout=Layout(width='max-content'), options=(('Spark', 0), ('Hive', 1), …"
      ]
     },
     "metadata": {},
     "output_type": "display_data"
    }
   ],
   "source": [
    "if __name__ == \"__main__\":\n",
    "    display(L1P4Q1, L1P4Q2, L1P4Q3, L1P4Q4, L1P4Q5, L1P4Q6, L1P4Q7, L1P4Q8)"
   ]
  },
  {
   "cell_type": "markdown",
   "id": "7315ab91-85a4-4aef-810d-a1e308a2ca6d",
   "metadata": {},
   "source": [
    "## Page 5"
   ]
  },
  {
   "cell_type": "code",
   "execution_count": 8,
   "id": "df29e853-8b7f-42cb-854e-a51818f89aa4",
   "metadata": {},
   "outputs": [],
   "source": [
    "L1P5Q1 = MultipleChoice('1. This data science curriculum follows the data science pipeline.',['True','False'],'True')\n",
    "L1P5Q2 = MultipleChoice('2. How long is the final project module??',['Eight weeks','Three weeks','Six weeks', 'Two weeks'],'Six weeks')\n",
    "L1P5Q3 = MultipleChoice('3. What is the purpose of the Data Wrangling and Visualization module?',['Learn the basics of data analysis','Learn how to create your own metrics','Learn R', 'Helps others to understand your work'],'Helps others to understand your work')"
   ]
  },
  {
   "cell_type": "code",
   "execution_count": 9,
   "id": "0d587f7e-8f5c-48b6-8c17-545fbb855486",
   "metadata": {},
   "outputs": [
    {
     "data": {
      "application/vnd.jupyter.widget-view+json": {
       "model_id": "ea78506bfe0c4250b7eed3e7a2fd682e",
       "version_major": 2,
       "version_minor": 0
      },
      "text/plain": [
       "VBox(children=(Output(), RadioButtons(layout=Layout(width='max-content'), options=(('True', 0), ('False', 1)),…"
      ]
     },
     "metadata": {},
     "output_type": "display_data"
    },
    {
     "data": {
      "application/vnd.jupyter.widget-view+json": {
       "model_id": "1f17551dcbf44cd8960ed60229198086",
       "version_major": 2,
       "version_minor": 0
      },
      "text/plain": [
       "VBox(children=(Output(), RadioButtons(layout=Layout(width='max-content'), options=(('Eight weeks', 0), ('Three…"
      ]
     },
     "metadata": {},
     "output_type": "display_data"
    },
    {
     "data": {
      "application/vnd.jupyter.widget-view+json": {
       "model_id": "4eb041d5831d4b009e7828de5cb5d091",
       "version_major": 2,
       "version_minor": 0
      },
      "text/plain": [
       "VBox(children=(Output(), RadioButtons(layout=Layout(width='max-content'), options=(('Learn the basics of data …"
      ]
     },
     "metadata": {},
     "output_type": "display_data"
    }
   ],
   "source": [
    "if __name__ == \"__main__\":\n",
    "    display(L1P5Q1, L1P5Q2, L1P5Q3)"
   ]
  },
  {
   "cell_type": "markdown",
   "id": "63887f13-b414-4d00-8b56-7fd4b3545a38",
   "metadata": {},
   "source": [
    "# Lesson 2\n",
    "\n",
    "## Page 2"
   ]
  },
  {
   "cell_type": "markdown",
   "id": "5e03d0b0-7b7e-46c6-8598-2a8d7f200887",
   "metadata": {},
   "source": [
    "<img src=\"Media/L01-04.png\" alt=\"Drawing\" style=\"width: 500px;\"/>"
   ]
  },
  {
   "cell_type": "code",
   "execution_count": 10,
   "id": "def0a0d1-8273-406c-92af-48108c480dc4",
   "metadata": {},
   "outputs": [],
   "source": [
    "L2P2Q1 = MultipleChoice('1. Suppose you have a bag of marbles. There are 12 red marbles, 5 green marbles, and 18 white marbles. If you draw out a single marble, what is the probability that it is green?',['5','5/30','1/6', '5/35'],'5/35')\n",
    "L2P2Q2 = MultipleChoice('2. Given the shapes above, what is the probability of randomly choosing a shape that is square??',['9/28','1/3','9', '1/7'],'9/28')\n",
    "L2P2Q3 = MultipleChoice('3. Given the shapes above, what is the probability of randomly choosing a red shape?',['8','30%','2/7', '2/5'],'2/7')\n",
    "L2P2Q4 = MultipleChoice('4. Given the shapes above, what is the probability of randomly choosing a blue circle?',['3','3/25','1/9', '3/28'],'3/28')"
   ]
  },
  {
   "cell_type": "code",
   "execution_count": 11,
   "id": "3f4ad5ba-3884-4b41-a85a-f78026a1ce48",
   "metadata": {},
   "outputs": [
    {
     "data": {
      "application/vnd.jupyter.widget-view+json": {
       "model_id": "2196b291b4f3495e975a253ed81d4c12",
       "version_major": 2,
       "version_minor": 0
      },
      "text/plain": [
       "VBox(children=(Output(), RadioButtons(layout=Layout(width='max-content'), options=(('5', 0), ('5/30', 1), ('1/…"
      ]
     },
     "metadata": {},
     "output_type": "display_data"
    },
    {
     "data": {
      "application/vnd.jupyter.widget-view+json": {
       "model_id": "5c5170ac97d0447b9bae2702ffb11abf",
       "version_major": 2,
       "version_minor": 0
      },
      "text/plain": [
       "VBox(children=(Output(), RadioButtons(layout=Layout(width='max-content'), options=(('9/28', 0), ('1/3', 1), ('…"
      ]
     },
     "metadata": {},
     "output_type": "display_data"
    },
    {
     "data": {
      "application/vnd.jupyter.widget-view+json": {
       "model_id": "268edb09e1024cffa503534455d77665",
       "version_major": 2,
       "version_minor": 0
      },
      "text/plain": [
       "VBox(children=(Output(), RadioButtons(layout=Layout(width='max-content'), options=(('8', 0), ('30%', 1), ('2/7…"
      ]
     },
     "metadata": {},
     "output_type": "display_data"
    },
    {
     "data": {
      "application/vnd.jupyter.widget-view+json": {
       "model_id": "add0e2293b1349e0bb5134d1d6984484",
       "version_major": 2,
       "version_minor": 0
      },
      "text/plain": [
       "VBox(children=(Output(), RadioButtons(layout=Layout(width='max-content'), options=(('3', 0), ('3/25', 1), ('1/…"
      ]
     },
     "metadata": {},
     "output_type": "display_data"
    }
   ],
   "source": [
    "if __name__ == \"__main__\":\n",
    "    display(L2P2Q1, L2P2Q2, L2P2Q3, L2P2Q4)"
   ]
  },
  {
   "cell_type": "markdown",
   "id": "883affec-82fc-43a0-b6d9-0b9ddd31e72b",
   "metadata": {},
   "source": [
    "## Page 3"
   ]
  },
  {
   "cell_type": "code",
   "execution_count": 12,
   "id": "e20c2ccc-d516-4399-913c-c0ecaea17eab",
   "metadata": {},
   "outputs": [],
   "source": [
    "L2P3Q1 = MultipleChoice('1. Only one of the following is a valid expression of probability. Please select the valid expression.',['-12.7%','18/13','1.25', '160%', '-0.06', '12/17', '-3/7' ],'12/17')\n",
    "L2P3Q2 = MultipleChoice('2. Is 0.03% a valid expression for a probability?',['No','Yes'],'Yes')"
   ]
  },
  {
   "cell_type": "code",
   "execution_count": 13,
   "id": "9b08c8c3-c9af-4236-9eae-1992fbb79434",
   "metadata": {},
   "outputs": [
    {
     "data": {
      "application/vnd.jupyter.widget-view+json": {
       "model_id": "6de5be42256a4abc886da8e92ea412c6",
       "version_major": 2,
       "version_minor": 0
      },
      "text/plain": [
       "VBox(children=(Output(), RadioButtons(layout=Layout(width='max-content'), options=(('-12.7%', 0), ('18/13', 1)…"
      ]
     },
     "metadata": {},
     "output_type": "display_data"
    },
    {
     "data": {
      "application/vnd.jupyter.widget-view+json": {
       "model_id": "32fc3700db4e42c8befeca2e78d291b5",
       "version_major": 2,
       "version_minor": 0
      },
      "text/plain": [
       "VBox(children=(Output(), RadioButtons(layout=Layout(width='max-content'), options=(('No', 0), ('Yes', 1)), val…"
      ]
     },
     "metadata": {},
     "output_type": "display_data"
    }
   ],
   "source": [
    "if __name__ == \"__main__\":\n",
    "    display(L2P3Q1, L2P3Q2)"
   ]
  },
  {
   "cell_type": "markdown",
   "id": "2e55081d-a664-4183-b732-f66617511d37",
   "metadata": {},
   "source": [
    "## Page 4"
   ]
  },
  {
   "cell_type": "code",
   "execution_count": 14,
   "id": "6187205f-3c1e-4635-9c6f-fe890b724d8b",
   "metadata": {},
   "outputs": [],
   "source": [
    "L2P4Q1 = MultipleChoice('1. Given the following information, find the probability that a member of a particular group has exactly two children:',['Cannot be determined','81%','19%', '38%'],'19%')"
   ]
  },
  {
   "cell_type": "code",
   "execution_count": 15,
   "id": "42ff02f8-aba2-4f84-8516-cd2f1576877d",
   "metadata": {},
   "outputs": [
    {
     "data": {
      "application/vnd.jupyter.widget-view+json": {
       "model_id": "583d2caee54b43fd925b31f7cdd02979",
       "version_major": 2,
       "version_minor": 0
      },
      "text/plain": [
       "VBox(children=(Output(), RadioButtons(layout=Layout(width='max-content'), options=(('Cannot be determined', 0)…"
      ]
     },
     "metadata": {},
     "output_type": "display_data"
    }
   ],
   "source": [
    "if __name__ == \"__main__\":\n",
    "    display(L2P4Q1)"
   ]
  },
  {
   "cell_type": "markdown",
   "id": "5f1c111e-d753-4991-845d-266959920338",
   "metadata": {},
   "source": [
    "## Page 5"
   ]
  },
  {
   "cell_type": "code",
   "execution_count": 16,
   "id": "7a8cd829-374d-4562-b563-effe7064f805",
   "metadata": {},
   "outputs": [],
   "source": [
    "L2P5Q1 = MultipleChoice('1. Alex likes to sneak away from home at night. But 93% of the time, he successfully sneaks off without anyone in his family seeing him. \\nWhat is the probability that someone catches him sneaking off?',['93%','70%', '50%', '7%'],'7%')\n",
    "L2P5Q2 = MultipleChoice('2. You have entered a charity drawing to win a free dinner at a local restaurant. Your entry consists of raffle tickets you purchased. Someone in the group is going to win. You have calculated the odds of someone other than yourself winning, and there is a 79% chance that somebody else wins. What is the probability that you will win?',[\"It is impossible to know.\",'0.21','14%', '0.79'],'0.21')"
   ]
  },
  {
   "cell_type": "code",
   "execution_count": 17,
   "id": "084c3dda-4438-4a0f-a9bf-b711d0b6fdd3",
   "metadata": {},
   "outputs": [
    {
     "data": {
      "application/vnd.jupyter.widget-view+json": {
       "model_id": "2652ad64813e4a5c93a872ec67dc925f",
       "version_major": 2,
       "version_minor": 0
      },
      "text/plain": [
       "VBox(children=(Output(), RadioButtons(layout=Layout(width='max-content'), options=(('93%', 0), ('70%', 1), ('5…"
      ]
     },
     "metadata": {},
     "output_type": "display_data"
    },
    {
     "data": {
      "application/vnd.jupyter.widget-view+json": {
       "model_id": "15c41ee59f594c7a849b46ce0f141445",
       "version_major": 2,
       "version_minor": 0
      },
      "text/plain": [
       "VBox(children=(Output(), RadioButtons(layout=Layout(width='max-content'), options=(('It is impossible to know.…"
      ]
     },
     "metadata": {},
     "output_type": "display_data"
    }
   ],
   "source": [
    "if __name__ == \"__main__\":\n",
    "    display(L2P5Q1, L2P5Q2)"
   ]
  },
  {
   "cell_type": "markdown",
   "id": "701a3008-173b-440a-b9e6-8230f9ea9aea",
   "metadata": {},
   "source": [
    "## Page 6"
   ]
  },
  {
   "cell_type": "code",
   "execution_count": 18,
   "id": "8d4e55df-223a-4364-ac65-1f277aa74324",
   "metadata": {},
   "outputs": [],
   "source": [
    "L2P6Q1 = MultipleChoice('1. What is 6!?',['720','36','72', '60'],'720')\n",
    "L2P6Q2 = MultipleChoice('2. Which of the following is not a rule about factorials?',[\"A factorial cannot have a negative number\", \"A factorial can have a decimal\", '0! = 1', '1! = 1'],'A factorial can have a decimal')"
   ]
  },
  {
   "cell_type": "code",
   "execution_count": 19,
   "id": "e8817254-7d78-4b7c-bce8-38039d304f71",
   "metadata": {},
   "outputs": [
    {
     "data": {
      "application/vnd.jupyter.widget-view+json": {
       "model_id": "9d4d34f0a16a4d61801a41c52a10f6ec",
       "version_major": 2,
       "version_minor": 0
      },
      "text/plain": [
       "VBox(children=(Output(), RadioButtons(layout=Layout(width='max-content'), options=(('720', 0), ('36', 1), ('72…"
      ]
     },
     "metadata": {},
     "output_type": "display_data"
    },
    {
     "data": {
      "application/vnd.jupyter.widget-view+json": {
       "model_id": "c04a1e5bda0e4ab1979e0b7806a93614",
       "version_major": 2,
       "version_minor": 0
      },
      "text/plain": [
       "VBox(children=(Output(), RadioButtons(layout=Layout(width='max-content'), options=(('A factorial cannot have a…"
      ]
     },
     "metadata": {},
     "output_type": "display_data"
    }
   ],
   "source": [
    "if __name__ == \"__main__\":\n",
    "    display(L2P6Q1, L2P6Q2)"
   ]
  },
  {
   "cell_type": "markdown",
   "id": "1c5a22c4-0500-446d-a04a-3966520f6ba4",
   "metadata": {},
   "source": [
    "## Page 7"
   ]
  },
  {
   "cell_type": "code",
   "execution_count": 20,
   "id": "44c87e90-8beb-4438-ac9c-67d88ba8c45b",
   "metadata": {},
   "outputs": [],
   "source": [
    "L2P7Q1 = MultipleChoice('1. At a local pizza place, there are 17 different toppings available for your pizza. So, if you have precisely five toppings on your pizza, how many ways could you prepare your pizza?',['422','6188','13,582', '5'],'6188')"
   ]
  },
  {
   "cell_type": "code",
   "execution_count": 21,
   "id": "0af0d13b-00d8-4c5f-b06b-5b6278ef0aee",
   "metadata": {},
   "outputs": [
    {
     "data": {
      "application/vnd.jupyter.widget-view+json": {
       "model_id": "aec242b8cb074987a1269ecde8269820",
       "version_major": 2,
       "version_minor": 0
      },
      "text/plain": [
       "VBox(children=(Output(), RadioButtons(layout=Layout(width='max-content'), options=(('422', 0), ('6188', 1), ('…"
      ]
     },
     "metadata": {},
     "output_type": "display_data"
    }
   ],
   "source": [
    "if __name__ == \"__main__\":\n",
    "    display(L2P7Q1)"
   ]
  },
  {
   "cell_type": "markdown",
   "id": "77b41143-3ed5-4664-adbc-04d41d4801c7",
   "metadata": {},
   "source": [
    "## Page 8"
   ]
  },
  {
   "cell_type": "code",
   "execution_count": 22,
   "id": "45ab180a-58a8-4033-ab7a-c7c3dad3fe49",
   "metadata": {},
   "outputs": [],
   "source": [
    "L2P8Q1 = MultipleChoice('1. Suppose the committee decided to choose a leadership group of 5 out of the 11 people on the committee. There will be a president, vice-president, secretary, treasurer, and public relations specialist. How many possible leadership groups would there be?',['420','462','55,440', '462,720'],'55,440')"
   ]
  },
  {
   "cell_type": "code",
   "execution_count": 23,
   "id": "806e12c5-f0bc-4a2a-bd74-d9f049a0b23e",
   "metadata": {},
   "outputs": [
    {
     "data": {
      "application/vnd.jupyter.widget-view+json": {
       "model_id": "daeff0bf216f4b79b3df0a6a81e1a79c",
       "version_major": 2,
       "version_minor": 0
      },
      "text/plain": [
       "VBox(children=(Output(), RadioButtons(layout=Layout(width='max-content'), options=(('420', 0), ('462', 1), ('5…"
      ]
     },
     "metadata": {},
     "output_type": "display_data"
    }
   ],
   "source": [
    "if __name__ == \"__main__\":\n",
    "    display(L2P8Q1)"
   ]
  },
  {
   "cell_type": "markdown",
   "id": "6accf081-f45e-4653-9237-746d1f781f44",
   "metadata": {},
   "source": [
    "## Page 9"
   ]
  },
  {
   "cell_type": "code",
   "execution_count": 24,
   "id": "92ca9641-d128-444e-a5e4-0309f92b3e76",
   "metadata": {},
   "outputs": [],
   "source": [
    "L2P9Q1 = MultipleChoice('1. Suppose my wardrobe consists of these items - Pants: jeans, slacks, and sweats - Tops: a polo, a button-down, a t-shirt, and a tank-top. \\nWhich Boolean operator would you use to create a statement about me wearing either jeans or slacks?',['And','Or','Not'],'Or')\n",
    "L2P9Q2 = MultipleChoice('2. Suppose my wardrobe consists of these items - Pants: jeans, slacks, and sweats - Tops: a polo, a button-down, a t-shirt, and a tank-top. \\nWhich Boolean operator would you use to create a statement about me wearing some sort of shirt other than a polo?',['And','Or','Not'],'Not')\n",
    "L2P9Q3 = MultipleChoice('3. Suppose my wardrobe consists of these items - Pants: jeans, slacks, and sweats - Tops: a polo, a button-down, a t-shirt, and a tank-top. \\nWhich Boolean operator would you use to create a statement about me wearing jeans and a t-shirt?',['And','Or','Not'],'And')"
   ]
  },
  {
   "cell_type": "code",
   "execution_count": 25,
   "id": "fc464f27-a85d-4bdd-835a-7e00c8998074",
   "metadata": {},
   "outputs": [
    {
     "data": {
      "application/vnd.jupyter.widget-view+json": {
       "model_id": "14235b9485774094ac60f3a610c516e9",
       "version_major": 2,
       "version_minor": 0
      },
      "text/plain": [
       "VBox(children=(Output(), RadioButtons(layout=Layout(width='max-content'), options=(('And', 0), ('Or', 1), ('No…"
      ]
     },
     "metadata": {},
     "output_type": "display_data"
    },
    {
     "data": {
      "application/vnd.jupyter.widget-view+json": {
       "model_id": "4de9c5da551f41629a8aabc37bee00d9",
       "version_major": 2,
       "version_minor": 0
      },
      "text/plain": [
       "VBox(children=(Output(), RadioButtons(layout=Layout(width='max-content'), options=(('And', 0), ('Or', 1), ('No…"
      ]
     },
     "metadata": {},
     "output_type": "display_data"
    },
    {
     "data": {
      "application/vnd.jupyter.widget-view+json": {
       "model_id": "3b5dcab53d8c4ec299128e50e430a3d3",
       "version_major": 2,
       "version_minor": 0
      },
      "text/plain": [
       "VBox(children=(Output(), RadioButtons(layout=Layout(width='max-content'), options=(('And', 0), ('Or', 1), ('No…"
      ]
     },
     "metadata": {},
     "output_type": "display_data"
    }
   ],
   "source": [
    "if __name__ == \"__main__\":\n",
    "    display(L2P9Q1, L2P9Q2, L2P9Q3)"
   ]
  },
  {
   "cell_type": "markdown",
   "id": "d63da683-1614-45ad-90ca-cab56e41a05b",
   "metadata": {},
   "source": [
    "## Page 10"
   ]
  },
  {
   "cell_type": "markdown",
   "id": "2920bbfe-f151-450a-b758-1c98109b8bbb",
   "metadata": {},
   "source": [
    "<img src=\"Media/l02-01.png\" alt=\"Drawing\" style=\"width: 500px;\"/>"
   ]
  },
  {
   "cell_type": "code",
   "execution_count": 26,
   "id": "605ca3e7-d4fa-4a54-8339-136586fe4beb",
   "metadata": {},
   "outputs": [],
   "source": [
    "L2P10Q1 = MultipleChoice('1. Consider the spinner shown above, with indicated portions of the circle and a 10-sided die with the numbers 1-10. \\nWhat is the probability of spinning red and rolling a 7?',['1/10','1/8','1/18', '1/80'],'1/80')\n",
    "L2P10Q2 = MultipleChoice('2. Consider the spinner and die shown above. \\nWhat is the probability of spinning blue and rolling an odd number?',['1/2','1/4','5/18', '1/8'],'1/4')"
   ]
  },
  {
   "cell_type": "code",
   "execution_count": 27,
   "id": "855a48f4-789d-4497-bd03-cd0da4ce5554",
   "metadata": {},
   "outputs": [
    {
     "data": {
      "application/vnd.jupyter.widget-view+json": {
       "model_id": "d997f3134f974462aac4b2f331991b14",
       "version_major": 2,
       "version_minor": 0
      },
      "text/plain": [
       "VBox(children=(Output(), RadioButtons(layout=Layout(width='max-content'), options=(('1/10', 0), ('1/8', 1), ('…"
      ]
     },
     "metadata": {},
     "output_type": "display_data"
    },
    {
     "data": {
      "application/vnd.jupyter.widget-view+json": {
       "model_id": "35746f017c614e1aba2542e00b243f92",
       "version_major": 2,
       "version_minor": 0
      },
      "text/plain": [
       "VBox(children=(Output(), RadioButtons(layout=Layout(width='max-content'), options=(('1/2', 0), ('1/4', 1), ('5…"
      ]
     },
     "metadata": {},
     "output_type": "display_data"
    }
   ],
   "source": [
    "if __name__ == \"__main__\":\n",
    "    display(L2P10Q1, L2P10Q2)"
   ]
  },
  {
   "cell_type": "markdown",
   "id": "5aa0a7ad-86d9-4edc-b595-d2d7f6d63cab",
   "metadata": {},
   "source": [
    "## Page 11"
   ]
  },
  {
   "cell_type": "markdown",
   "id": "6b2b8ba2-d8a3-4378-a09b-960e89fb6efb",
   "metadata": {},
   "source": [
    "<img src=\"Media/l02-01.png\" alt=\"Drawing\" style=\"width: 500px;\"/>"
   ]
  },
  {
   "cell_type": "code",
   "execution_count": 28,
   "id": "ba97168a-8ac5-41e5-95f8-f1e945ad724a",
   "metadata": {},
   "outputs": [],
   "source": [
    "L2P11Q1 = MultipleChoice('1. Consider the die shown above. What is the probability of rolling an even number, or a 3, or a 5?',['7/10','0.07','7', '7%'],'7/10')"
   ]
  },
  {
   "cell_type": "code",
   "execution_count": 29,
   "id": "10dcc66c-b451-49e8-bf6b-243071da24af",
   "metadata": {},
   "outputs": [
    {
     "data": {
      "application/vnd.jupyter.widget-view+json": {
       "model_id": "c958fd7dea3e48aca6e086699b5b89d7",
       "version_major": 2,
       "version_minor": 0
      },
      "text/plain": [
       "VBox(children=(Output(), RadioButtons(layout=Layout(width='max-content'), options=(('7/10', 0), ('0.07', 1), (…"
      ]
     },
     "metadata": {},
     "output_type": "display_data"
    }
   ],
   "source": [
    "if __name__ == \"__main__\":\n",
    "    display(L2P11Q1)"
   ]
  },
  {
   "cell_type": "markdown",
   "id": "bf0bf7c7-e3de-4a72-861c-544595fea19e",
   "metadata": {},
   "source": [
    "## Page 12"
   ]
  },
  {
   "cell_type": "code",
   "execution_count": 30,
   "id": "256d54b8-8855-417c-a09e-0b3a54710a9c",
   "metadata": {},
   "outputs": [],
   "source": [
    "L2P12Q1 = MultipleChoice(\"1. You'd like to know the probability of a Chef listing your favorite meal (macaroni and cheese) on their specials board. Of course, you don't know how often the Chef serves macaroni and cheese, but you know the other dishes' probabilities on the specials board. They are listed above. \\nWhat is the probability of having macaroni and cheese on the specials board tonight?\",['60%','25%','20%', '2%'],'20%')\n",
    "L2P12Q2 = MultipleChoice(\"2. Your grandmother is visiting for your birthday, and you'd like to know how likely it is that she will give you money for your birthday instead of a present. There is a 72% chance your grandmother will shower you with a gift. \\nWhat is the probability that you will get money for your birthday instead?\",['28%','22%','72%', '70%'],'28%')"
   ]
  },
  {
   "cell_type": "markdown",
   "id": "2d07b445-6b70-499f-83f6-c41c770fe155",
   "metadata": {},
   "source": [
    "**Beef Wellington:** 10%\n",
    "\n",
    "**Chicken Kyiv:** 10%\n",
    "\n",
    "**Spaghetti and Meatballs:** 40%\n",
    "\n",
    "**Pot Roast:** 20%"
   ]
  },
  {
   "cell_type": "code",
   "execution_count": 31,
   "id": "e22fc446-19c0-4002-9e65-9b23fd90bdbe",
   "metadata": {},
   "outputs": [
    {
     "data": {
      "application/vnd.jupyter.widget-view+json": {
       "model_id": "ea48a5b03ef649cc89468283403a5022",
       "version_major": 2,
       "version_minor": 0
      },
      "text/plain": [
       "VBox(children=(Output(), RadioButtons(layout=Layout(width='max-content'), options=(('60%', 0), ('25%', 1), ('2…"
      ]
     },
     "metadata": {},
     "output_type": "display_data"
    },
    {
     "data": {
      "application/vnd.jupyter.widget-view+json": {
       "model_id": "f1648ceebb494831b1f831b5e822fcf5",
       "version_major": 2,
       "version_minor": 0
      },
      "text/plain": [
       "VBox(children=(Output(), RadioButtons(layout=Layout(width='max-content'), options=(('28%', 0), ('22%', 1), ('7…"
      ]
     },
     "metadata": {},
     "output_type": "display_data"
    }
   ],
   "source": [
    "if __name__ == \"__main__\":\n",
    "    display(L2P12Q1, L2P12Q2)"
   ]
  },
  {
   "cell_type": "markdown",
   "id": "9cae9bb7-15ec-4d63-a700-598c67a9bd21",
   "metadata": {},
   "source": [
    "## Page 13"
   ]
  },
  {
   "cell_type": "code",
   "execution_count": 32,
   "id": "cef80256-0620-40fd-98a5-14219c889c47",
   "metadata": {},
   "outputs": [],
   "source": [
    "L2P13Q1 = MultipleChoice('1. Which of the following situations is most likely not mutually exclusive?',['A group of people get a gift as an award, and they choose between a blender, a toaster oven, and a mixer','Prospective employees are asked to choose their greatest strength','Diners are asked which cuisines they like', \"Parents are asked if they would prefer to be a teacher's aid for art or physical fitness\"],'Diners are asked which cuisines they like This situation allows them to choose more than one option')\n",
    "L2P13Q2 = MultipleChoice('1. What is the probability of drawing a seven or a diamond from a standard deck of cards?',['8%','33%','31%', '25%'],'31%')"
   ]
  },
  {
   "cell_type": "code",
   "execution_count": 33,
   "id": "14dd94c5-a8eb-4b0e-aef1-4454af78d47d",
   "metadata": {},
   "outputs": [
    {
     "data": {
      "application/vnd.jupyter.widget-view+json": {
       "model_id": "66c6cfd37a7941b2b5691c341935ddf6",
       "version_major": 2,
       "version_minor": 0
      },
      "text/plain": [
       "VBox(children=(Output(), RadioButtons(layout=Layout(width='max-content'), options=(('8%', 0), ('33%', 1), ('31…"
      ]
     },
     "metadata": {},
     "output_type": "display_data"
    }
   ],
   "source": [
    "if __name__ == \"__main__\":\n",
    "    display(L2P13Q2)"
   ]
  },
  {
   "cell_type": "markdown",
   "id": "d21f7914-d12d-4586-8755-6c02354392bc",
   "metadata": {},
   "source": [
    "## Page 14"
   ]
  },
  {
   "cell_type": "code",
   "execution_count": 34,
   "id": "c7996900-3f4f-402b-9426-7fde05119ea0",
   "metadata": {},
   "outputs": [],
   "source": [
    "L2P14Q1 = MultipleChoice('1. What is the probability of drawing three Jacks from a deck of cards without replacement?',['.00018','.25','.12', '.004'],'.00018')\n",
    "L2P14Q2 = MultipleChoice('2. From above, What is the probability of drawing out a knight and then the king without replacement?',['.78%','9.7%','9.4%', '0.83%'],'0.83%')"
   ]
  },
  {
   "cell_type": "code",
   "execution_count": 35,
   "id": "00a2b275-494a-4449-baaa-f138c42c5d98",
   "metadata": {},
   "outputs": [
    {
     "data": {
      "application/vnd.jupyter.widget-view+json": {
       "model_id": "5ec145dec47342459b9bbd56057a49d5",
       "version_major": 2,
       "version_minor": 0
      },
      "text/plain": [
       "VBox(children=(Output(), RadioButtons(layout=Layout(width='max-content'), options=(('.00018', 0), ('.25', 1), …"
      ]
     },
     "metadata": {},
     "output_type": "display_data"
    }
   ],
   "source": [
    "if __name__ == \"__main__\":\n",
    "    display(L2P14Q1)"
   ]
  },
  {
   "cell_type": "markdown",
   "id": "cd46cd8e-5cad-4fb7-be62-d690e331f89e",
   "metadata": {},
   "source": [
    "**You have a bag filled with black chess pieces, There are:** 1 king, 1 queen, 2 knights, 2 bishops, 2 castles, 8 pawns"
   ]
  },
  {
   "cell_type": "code",
   "execution_count": 36,
   "id": "3121d233-52b4-4f09-afd8-84b8bafb5681",
   "metadata": {},
   "outputs": [
    {
     "data": {
      "application/vnd.jupyter.widget-view+json": {
       "model_id": "b6c270ca14344fbba680b2bddd961cea",
       "version_major": 2,
       "version_minor": 0
      },
      "text/plain": [
       "VBox(children=(Output(), RadioButtons(layout=Layout(width='max-content'), options=(('.78%', 0), ('9.7%', 1), (…"
      ]
     },
     "metadata": {},
     "output_type": "display_data"
    }
   ],
   "source": [
    "if __name__ == \"__main__\":\n",
    "    display(L2P14Q2)"
   ]
  },
  {
   "cell_type": "markdown",
   "id": "03bf1ec9-e764-4557-84a0-50b8d1d12535",
   "metadata": {},
   "source": [
    "## Page 15"
   ]
  },
  {
   "cell_type": "code",
   "execution_count": 37,
   "id": "4eb1019e-a7e6-47ef-b421-810850fa0e74",
   "metadata": {},
   "outputs": [],
   "source": [
    "L2P15Q1 = MultipleChoice('1. How do you know two things statistically differ from one another?',[\"Less than 10% chance, the results are the same\",'Less than a 5% chance the results are the same',\"You can't be ever sure\"],'Less than a 5% chance the results are the same')\n",
    "L2P15Q2 = MultipleChoice('2. What is probability called when it references statistical analysis?',[\"The name doesn't change\",'Stats probability','Alpha', 'p value', 'Both alpha and p value are used often'],'Both alpha and p value are used often')\n",
    "L2P15Q3 = MultipleChoice('3. What does the word random mean in data science?',[\"Equal chance of all members being selected\",'Something strange happened','Conversation changes quickly'],\"Equal chance of all members being selected\")"
   ]
  },
  {
   "cell_type": "code",
   "execution_count": 38,
   "id": "e08a3276-976a-46cd-806a-3230e15161e6",
   "metadata": {},
   "outputs": [
    {
     "data": {
      "application/vnd.jupyter.widget-view+json": {
       "model_id": "e96f8b9aeac64af8aad1fd3621a783ce",
       "version_major": 2,
       "version_minor": 0
      },
      "text/plain": [
       "VBox(children=(Output(), RadioButtons(layout=Layout(width='max-content'), options=(('Less than 10% chance, the…"
      ]
     },
     "metadata": {},
     "output_type": "display_data"
    },
    {
     "data": {
      "application/vnd.jupyter.widget-view+json": {
       "model_id": "3cd4633142b84a5f82b44e487714d792",
       "version_major": 2,
       "version_minor": 0
      },
      "text/plain": [
       "VBox(children=(Output(), RadioButtons(layout=Layout(width='max-content'), options=((\"The name doesn't change\",…"
      ]
     },
     "metadata": {},
     "output_type": "display_data"
    },
    {
     "data": {
      "application/vnd.jupyter.widget-view+json": {
       "model_id": "1ea25557d9f94113af20cac0bb5a8c2f",
       "version_major": 2,
       "version_minor": 0
      },
      "text/plain": [
       "VBox(children=(Output(), RadioButtons(layout=Layout(width='max-content'), options=(('Equal chance of all membe…"
      ]
     },
     "metadata": {},
     "output_type": "display_data"
    }
   ],
   "source": [
    "if __name__ == \"__main__\":\n",
    "    display(L2P15Q1, L2P15Q2, L2P15Q3)"
   ]
  },
  {
   "cell_type": "markdown",
   "id": "7aa7a151-8510-41c0-a96a-8b07171a1919",
   "metadata": {},
   "source": [
    "## Lesson 3\n",
    "\n",
    "## Page 2\n",
    "\n",
    "**For the next three questions:** Novum Ice Cream has taken three of their most popular flavors of ice cream and sent several containers of each flavor to a local lab. They are looking for an independent evaluation of the fat content for the three flavors. They believe that the fat content is the same for each flavor. After doing the analysis, the lab sends the results back to Novum."
   ]
  },
  {
   "cell_type": "code",
   "execution_count": 39,
   "id": "3b719398-73e2-4072-8dd8-56b4e2ef5281",
   "metadata": {},
   "outputs": [],
   "source": [
    "L3P2Q1 = MC('1. What is the independent variable for this scenario?',['The different flavors of ice cream','The fat content of one flavor','The local lab doing the analysis', 'One container of ice cream'],'The different flavors of ice cream', cor='The test is being done on the flavors.', incor='')\n",
    "L3P2Q2 = MC('2. What is the dependent variable?',['The different flavors of ice cream','The fat content of the ice cream','The local lab doing the analysis', 'One flavor of ice cream'],'The fat content of the ice cream', cor='This is what is being measured as a result of the change in the independent variable.', incor='')\n",
    "L3P2Q3 = MC('3. After learning that all flavors are full of fat, Novum Ice Cream decides to experiment with fat content. They want to know whether ice cream will sell better with whole milk or fat-free.\\nWhat is the control group?',['Fat-free ice cream','Ice cream sales','Full-fat ice cream', 'Fat content'],'Full-fat ice cream', cor='The full-fat ice cream was the existing group; therefore, it is the control group.',incor='')"
   ]
  },
  {
   "cell_type": "code",
   "execution_count": 40,
   "id": "2cc61373-1e6a-4651-a920-db186d335281",
   "metadata": {},
   "outputs": [
    {
     "data": {
      "application/vnd.jupyter.widget-view+json": {
       "model_id": "a321dfc0430e41c3b9d92f777a00f1b2",
       "version_major": 2,
       "version_minor": 0
      },
      "text/plain": [
       "VBox(children=(Output(), RadioButtons(layout=Layout(width='max-content'), options=(('The different flavors of …"
      ]
     },
     "metadata": {},
     "output_type": "display_data"
    },
    {
     "data": {
      "application/vnd.jupyter.widget-view+json": {
       "model_id": "f217a7ae07cb44b6be2341c1d0eb3199",
       "version_major": 2,
       "version_minor": 0
      },
      "text/plain": [
       "VBox(children=(Output(), RadioButtons(layout=Layout(width='max-content'), options=(('The different flavors of …"
      ]
     },
     "metadata": {},
     "output_type": "display_data"
    },
    {
     "data": {
      "application/vnd.jupyter.widget-view+json": {
       "model_id": "ff4dd49ae047465a99412f8767a22e35",
       "version_major": 2,
       "version_minor": 0
      },
      "text/plain": [
       "VBox(children=(Output(), RadioButtons(layout=Layout(width='max-content'), options=(('Fat-free ice cream', 0), …"
      ]
     },
     "metadata": {},
     "output_type": "display_data"
    }
   ],
   "source": [
    "if __name__ == \"__main__\":\n",
    "    display(L3P2Q1, L3P2Q2, L3P2Q3)"
   ]
  },
  {
   "cell_type": "markdown",
   "id": "b2b035d1-b3bb-4b4c-9ca3-2f2bd78969b9",
   "metadata": {},
   "source": [
    "## Page 3"
   ]
  },
  {
   "cell_type": "code",
   "execution_count": 41,
   "id": "73dcec54-58dd-418c-8669-43af565fc22d",
   "metadata": {},
   "outputs": [],
   "source": [
    "L3P3Q1 = MultipleChoice('1. Which research design is the most rigorous?',['Surveys','Quasi-experimental design','Experimental design', 'Observations'],'Experimental design')\n",
    "L3P3Q2 = MultipleChoice('2. What is the difference between the quasi-experimental and the experimental design?',[\"Experimental designs randomly assign people to conditions, quasi-experiments don't\",\"Quasi-experimental designs randomly assign people to conditions; experimental designs don't\",'Experimental designs are in the real world, quasi-experimental designs are in a controlled lab', 'Experimental designs are more common than quasi-experimental designs'],\"Experimental designs randomly assign people to conditions, quasi-experiments don't\")\n",
    "L3P3Q3 = MultipleChoice('3. Why are surveys and observational studies the least rigorous?',['No one does them anymore','They don\\'t examine anything over time','They are too common', 'Without control, you can\\'t prove a cause-and-effect relationship'],'Without control, you can\\'t prove a cause-and-effect relationship')\n",
    "L3P3Q4 = MC('4. A biologist wants to study the developmental differences in babies to determine how aging takes place. He wants to examine babies at 2 months, 4 months, and 6 months, and uses the same babies for each measurement. \\nWhat kind of longitudinal design is this?',['Cross-Sectional','Longitudinal','Cohort'],'Longitudinal', cor='A longitudinal design looks at the same people or things over time.', incor='')\n",
    "L3P3Q5 = MC('5. A biologist wants to study the developmental differences in babies to determine how aging takes place. He wants to examine babies at 2 months, 4 months, and 6 months, and uses the different babies of those ages all at the same time.\\nWhat kind of longitudinal design is this?',['Cross-Sectional','Longitudinal','Cohort'],'Cohort', cor='A cohort design looks at different people or things at different time points.', incor='')\n",
    "L3P3Q6 = MC('6. A biologist wants to study the developmental differences in babies to determine how aging takes place. He wants to examine babies at 2 months, 4 months, and 6 months. To minimize the burden on any one group of children, the biologist takes 2-month-old babies and studies them for 2 months, takes 4-month-old babies and studies them for 2 months, and 6-month-old babies and studies them for two months.\\nWhat kind of longitudinal design is this?',['Cross-Sectional','Longitudinal','Cohort'],'Cross-Sectional', cor='A cross-sectional design combines the longitudinal and Cohort designs to examine the same people or things at more than one-time point and have a different set of people or things at another time point.',incor='')"
   ]
  },
  {
   "cell_type": "code",
   "execution_count": 42,
   "id": "af0e9fba-df6b-47e6-b1d7-e406f6d01441",
   "metadata": {},
   "outputs": [
    {
     "data": {
      "application/vnd.jupyter.widget-view+json": {
       "model_id": "37d2e20474504ebbbe24ef038592f61a",
       "version_major": 2,
       "version_minor": 0
      },
      "text/plain": [
       "VBox(children=(Output(), RadioButtons(layout=Layout(width='max-content'), options=(('Surveys', 0), ('Quasi-exp…"
      ]
     },
     "metadata": {},
     "output_type": "display_data"
    },
    {
     "data": {
      "application/vnd.jupyter.widget-view+json": {
       "model_id": "02a13df4a7954b54b2e805cf1ac53317",
       "version_major": 2,
       "version_minor": 0
      },
      "text/plain": [
       "VBox(children=(Output(), RadioButtons(layout=Layout(width='max-content'), options=((\"Experimental designs rand…"
      ]
     },
     "metadata": {},
     "output_type": "display_data"
    },
    {
     "data": {
      "application/vnd.jupyter.widget-view+json": {
       "model_id": "54ebf724a5554b99b586ac926f95e33c",
       "version_major": 2,
       "version_minor": 0
      },
      "text/plain": [
       "VBox(children=(Output(), RadioButtons(layout=Layout(width='max-content'), options=(('No one does them anymore'…"
      ]
     },
     "metadata": {},
     "output_type": "display_data"
    },
    {
     "data": {
      "application/vnd.jupyter.widget-view+json": {
       "model_id": "1e3c6faa3cff43e0bbf5309940ae461d",
       "version_major": 2,
       "version_minor": 0
      },
      "text/plain": [
       "VBox(children=(Output(), RadioButtons(layout=Layout(width='max-content'), options=(('Cross-Sectional', 0), ('L…"
      ]
     },
     "metadata": {},
     "output_type": "display_data"
    },
    {
     "data": {
      "application/vnd.jupyter.widget-view+json": {
       "model_id": "8767909a66b745a593391c34336efcea",
       "version_major": 2,
       "version_minor": 0
      },
      "text/plain": [
       "VBox(children=(Output(), RadioButtons(layout=Layout(width='max-content'), options=(('Cross-Sectional', 0), ('L…"
      ]
     },
     "metadata": {},
     "output_type": "display_data"
    },
    {
     "data": {
      "application/vnd.jupyter.widget-view+json": {
       "model_id": "2fbfbad5f46943dd89c8b727ea777c2e",
       "version_major": 2,
       "version_minor": 0
      },
      "text/plain": [
       "VBox(children=(Output(), RadioButtons(layout=Layout(width='max-content'), options=(('Cross-Sectional', 0), ('L…"
      ]
     },
     "metadata": {},
     "output_type": "display_data"
    }
   ],
   "source": [
    "if __name__ == \"__main__\":\n",
    "    display(L3P3Q1, L3P3Q2, L3P3Q3, L3P3Q4, L3P3Q5, L3P3Q6)"
   ]
  },
  {
   "cell_type": "markdown",
   "id": "b7a7b6bc-4a35-4c08-8ab5-9a5001dd8953",
   "metadata": {
    "tags": []
   },
   "source": [
    "## Page 4"
   ]
  },
  {
   "cell_type": "code",
   "execution_count": 43,
   "id": "25881438-ed62-4953-a0e2-26d41a63f220",
   "metadata": {},
   "outputs": [],
   "source": [
    "L3P4Q1 = MC('1. You are looking at the jersey numbers on the backs of the football team players:',['This is a quantitative variable','This is a categorical variable','This is an ordinal variable'],'This is a categorical variable', cor='Even though the information on a jersey has a number in it, this is categorical because it represents a player. You couldn\\'t do the math on the jersey numbers and get any meaningful information out of it.',incor='')\n",
    "L3P4Q2 = MC('2. You read an article about the ten best \"sleeper\" movies of the year, in order from worst to best:',['This is a quantitative variable','This is a categorical variable','This is an ordinal variable'],'This is an ordinal variable', cor='Since this list is ordered, it is ordinal, not categorical.',incor='')\n",
    "L3P4Q3 = MC('3. You read an article about the ten best \"sleeper\" movies of the year, but the writer says they are \"in no particular order\":',['This is a quantitative variable','This is a categorical variable','This is an ordinal variable'],'This is a categorical variable',cor='Since this list is in no particular order, it is categorical, not ordinal.', incor='')\n",
    "L3P4Q4 = MC('4. This week\\'s coaches\\’ poll of the top 25 college football teams is released, and you are looking at the teams and their rankings:',['This is a quantitative variable','This is a categorical variable','This is an ordinal variable'],'This is an ordinal variable', cor='The list is ordered, making it ordinal, not categorical.', incor='')\n",
    "L3P4Q5 = MC('5. This week\\'s coaches\\’ poll of the top 25 college football teams is released, and you are looking at the number of votes give to each team:',['This is a quantitative variable','This is a categorical variable','This is an ordinal variable'],'This is a quantitative variable', cor='This is a number, which means it is quantitative.', incor='')\n",
    "L3P4Q6 = MC('6. You have a copy of the breakfast menu from your favorite greasy spoon, and there are 7 breakfast options:',['This is a quantitative variable','This is a categorical variable','This is an ordinal variable'],'This is a categorical variable', cor='There are no numbers involved, which means this can\\'t be quantitative. The breakfast items are not in order in any way, so this is categorical, not ordinal.',incor='')\n",
    "L3P4Q7 = MC('7. People on the street are asked to estimate the distance between them and a sign a few doors down the street:',['This is a quantitative variable','This is a categorical variable','This is an ordinal variable'],'This is a quantitative variable', cor='Distance can be measured with a number, so it is quantitative.',incor='')"
   ]
  },
  {
   "cell_type": "markdown",
   "id": "8679fc48-2555-4998-a115-d29f1ee485a6",
   "metadata": {},
   "source": [
    "**For the nex seven questions:** In each of the following situations, how would you categorize the variable?"
   ]
  },
  {
   "cell_type": "code",
   "execution_count": 44,
   "id": "c1337c1a-97bd-49a7-862c-98826a3bf616",
   "metadata": {},
   "outputs": [
    {
     "data": {
      "application/vnd.jupyter.widget-view+json": {
       "model_id": "77860ed53b4c4deeb6b7c26b4e1ca82c",
       "version_major": 2,
       "version_minor": 0
      },
      "text/plain": [
       "VBox(children=(Output(), RadioButtons(layout=Layout(width='max-content'), options=(('This is a quantitative va…"
      ]
     },
     "metadata": {},
     "output_type": "display_data"
    },
    {
     "data": {
      "application/vnd.jupyter.widget-view+json": {
       "model_id": "c8160666f5434209838fe7693c865aad",
       "version_major": 2,
       "version_minor": 0
      },
      "text/plain": [
       "VBox(children=(Output(), RadioButtons(layout=Layout(width='max-content'), options=(('This is a quantitative va…"
      ]
     },
     "metadata": {},
     "output_type": "display_data"
    },
    {
     "data": {
      "application/vnd.jupyter.widget-view+json": {
       "model_id": "3e3ad142b6934284a5a792712efb5b65",
       "version_major": 2,
       "version_minor": 0
      },
      "text/plain": [
       "VBox(children=(Output(), RadioButtons(layout=Layout(width='max-content'), options=(('This is a quantitative va…"
      ]
     },
     "metadata": {},
     "output_type": "display_data"
    },
    {
     "data": {
      "application/vnd.jupyter.widget-view+json": {
       "model_id": "fe108445f9064fb988c62bb08e4488db",
       "version_major": 2,
       "version_minor": 0
      },
      "text/plain": [
       "VBox(children=(Output(), RadioButtons(layout=Layout(width='max-content'), options=(('This is a quantitative va…"
      ]
     },
     "metadata": {},
     "output_type": "display_data"
    },
    {
     "data": {
      "application/vnd.jupyter.widget-view+json": {
       "model_id": "3197bc0383a443958248420b7f8254b8",
       "version_major": 2,
       "version_minor": 0
      },
      "text/plain": [
       "VBox(children=(Output(), RadioButtons(layout=Layout(width='max-content'), options=(('This is a quantitative va…"
      ]
     },
     "metadata": {},
     "output_type": "display_data"
    },
    {
     "data": {
      "application/vnd.jupyter.widget-view+json": {
       "model_id": "74c5d91a9e304417ba36ea33aa8d3efc",
       "version_major": 2,
       "version_minor": 0
      },
      "text/plain": [
       "VBox(children=(Output(), RadioButtons(layout=Layout(width='max-content'), options=(('This is a quantitative va…"
      ]
     },
     "metadata": {},
     "output_type": "display_data"
    },
    {
     "data": {
      "application/vnd.jupyter.widget-view+json": {
       "model_id": "b2df4967fac846e99267075597ae0d32",
       "version_major": 2,
       "version_minor": 0
      },
      "text/plain": [
       "VBox(children=(Output(), RadioButtons(layout=Layout(width='max-content'), options=(('This is a quantitative va…"
      ]
     },
     "metadata": {},
     "output_type": "display_data"
    }
   ],
   "source": [
    "if __name__ == \"__main__\":\n",
    "    display(L3P4Q1, L3P4Q2, L3P4Q3, L3P4Q4, L3P4Q5, L3P4Q6, L3P4Q7)"
   ]
  },
  {
   "cell_type": "markdown",
   "id": "ac3cdd21-98d3-422e-9398-443dbbcbaf65",
   "metadata": {},
   "source": [
    "## Page 5"
   ]
  },
  {
   "cell_type": "code",
   "execution_count": 45,
   "id": "0e654523-f885-42c4-9f72-cad6e5533f7c",
   "metadata": {},
   "outputs": [],
   "source": [
    "L3P5Q1 = MultipleChoice('1. How would you recode someone\\'s height into categories?',['Small: Under 5\\'; Medium: 5\\'1\" to 5\\'7\"; Large: 5\\'8\" or More','Small, Medium, or Large','It is not appropriate to recode this data', 'Look at each person and make a snap judgement as to whether they seem short or tall'],'Small: Under 5\\'; Medium: 5\\'1\" to 5\\'7\"; Large: 5\\'8\" or More')\n",
    "L3P5Q2 = MC('2. True or False? It is easier to go from categorical to quantitative variables',['True','False'],'False', cor='Typically, you want to go from quantitative to categorical, because the quantitative variable is more precise and thus can be translated into categories. The categories are less precise than the quantitative, so something in a category has the possibility of being more than one number.', incor='')"
   ]
  },
  {
   "cell_type": "code",
   "execution_count": 46,
   "id": "498465c2-ccb5-4cd9-9b32-aa735dd67034",
   "metadata": {},
   "outputs": [
    {
     "data": {
      "application/vnd.jupyter.widget-view+json": {
       "model_id": "1758a2a86f73446a9d6f69f609101e3f",
       "version_major": 2,
       "version_minor": 0
      },
      "text/plain": [
       "VBox(children=(Output(), RadioButtons(layout=Layout(width='max-content'), options=(('Small: Under 5\\'; Medium:…"
      ]
     },
     "metadata": {},
     "output_type": "display_data"
    },
    {
     "data": {
      "application/vnd.jupyter.widget-view+json": {
       "model_id": "360cbb5b44a24d2396a396b4453c0a96",
       "version_major": 2,
       "version_minor": 0
      },
      "text/plain": [
       "VBox(children=(Output(), RadioButtons(layout=Layout(width='max-content'), options=(('True', 0), ('False', 1)),…"
      ]
     },
     "metadata": {},
     "output_type": "display_data"
    }
   ],
   "source": [
    "if __name__ == \"__main__\":\n",
    "    display(L3P5Q1, L3P5Q2)"
   ]
  },
  {
   "cell_type": "markdown",
   "id": "27641477-debd-4503-8ee2-9d30a6ec9c1f",
   "metadata": {},
   "source": [
    "## Page 6"
   ]
  },
  {
   "cell_type": "code",
   "execution_count": 47,
   "id": "71b60929-bd03-4910-99d0-e56fe3a94a9b",
   "metadata": {},
   "outputs": [],
   "source": [
    "L3P6Q1 = MultipleChoice('1. What is the difference between an ordinal and a categorical variable?',['An ordinal variable uses rank-ordered data, and categorical variables do not','An ordinal variable doesn\\'t use rank-ordered data; categorical does','Ordinal data is quantitative, categorical is qualitative', 'Ordinal data is qualitative, categorical is quantitative'],'An ordinal variable uses rank-ordered data, and categorical variables do not')\n",
    "L3P6Q2 = MC('2. Which of the following is an example of ordinal data?',['Age in years','Gender','Rankings of runners in a race', 'Written sentences about education equality'],'Rankings of runners in a race', cor='Since you are ordering the runners, this would be ordinal, not categorical.',incor='')"
   ]
  },
  {
   "cell_type": "code",
   "execution_count": 48,
   "id": "77d4254b-8931-4292-831d-ba017f60c3fc",
   "metadata": {},
   "outputs": [
    {
     "data": {
      "application/vnd.jupyter.widget-view+json": {
       "model_id": "abfedb84d4af448ea38e5a769bc120bc",
       "version_major": 2,
       "version_minor": 0
      },
      "text/plain": [
       "VBox(children=(Output(), RadioButtons(layout=Layout(width='max-content'), options=(('An ordinal variable uses …"
      ]
     },
     "metadata": {},
     "output_type": "display_data"
    },
    {
     "data": {
      "application/vnd.jupyter.widget-view+json": {
       "model_id": "d043bc7404b84525a2c291a419134eee",
       "version_major": 2,
       "version_minor": 0
      },
      "text/plain": [
       "VBox(children=(Output(), RadioButtons(layout=Layout(width='max-content'), options=(('Age in years', 0), ('Gend…"
      ]
     },
     "metadata": {},
     "output_type": "display_data"
    }
   ],
   "source": [
    "if __name__ == \"__main__\":\n",
    "    display(L3P6Q1, L3P6Q2)"
   ]
  },
  {
   "cell_type": "markdown",
   "id": "f81476df-1308-4a66-afc4-ad5314e35b7b",
   "metadata": {},
   "source": [
    "## Page 7"
   ]
  },
  {
   "cell_type": "code",
   "execution_count": 49,
   "id": "be51cd2e-56a0-4499-8372-10c24f8f0f89",
   "metadata": {},
   "outputs": [],
   "source": [
    "L3P7Q1 = MC('1. Please state whether the variable is discrete or continuous. Measurement of cheese wheels',['Discrete','Continuous'],'Continuous', cor='This is continuous because you can have half a cheese wheel.', incor='Sorry.. Try again!!')\n",
    "L3P7Q2 = MC('2. Please state whether the variable is discrete or continuous. Number of dogs you own',['Discrete','Continuous'],'Discrete', cor='It is impossible to have half a dog, so this is discrete.', incor='Sorry.. Try again!!')\n",
    "L3P7Q3 = MC('3. Please state whether the variable is discrete or continuous. Time it takes to gulp down a glass of milk',['Discrete','Continuous'],'Continuous', cor='You can have time on a continuum (for instance, part of a second), so it is continuous.', incor='Sorry.. Try again!!')"
   ]
  },
  {
   "cell_type": "code",
   "execution_count": 50,
   "id": "68ec9db8-8fe1-48f1-8d7f-9d21a884d99a",
   "metadata": {},
   "outputs": [
    {
     "data": {
      "application/vnd.jupyter.widget-view+json": {
       "model_id": "106deff8ced54a369e5d55b04d5fd54b",
       "version_major": 2,
       "version_minor": 0
      },
      "text/plain": [
       "VBox(children=(Output(), RadioButtons(layout=Layout(width='max-content'), options=(('Discrete', 0), ('Continuo…"
      ]
     },
     "metadata": {},
     "output_type": "display_data"
    },
    {
     "data": {
      "application/vnd.jupyter.widget-view+json": {
       "model_id": "ec3cb86b5b4542f09f6c7514f8f019f8",
       "version_major": 2,
       "version_minor": 0
      },
      "text/plain": [
       "VBox(children=(Output(), RadioButtons(layout=Layout(width='max-content'), options=(('Discrete', 0), ('Continuo…"
      ]
     },
     "metadata": {},
     "output_type": "display_data"
    },
    {
     "data": {
      "application/vnd.jupyter.widget-view+json": {
       "model_id": "c3b12712791b4dda9ae7a05d0f69439a",
       "version_major": 2,
       "version_minor": 0
      },
      "text/plain": [
       "VBox(children=(Output(), RadioButtons(layout=Layout(width='max-content'), options=(('Discrete', 0), ('Continuo…"
      ]
     },
     "metadata": {},
     "output_type": "display_data"
    }
   ],
   "source": [
    "if __name__ == \"__main__\":\n",
    "    display(L3P7Q1, L3P7Q2, L3P7Q3)"
   ]
  },
  {
   "cell_type": "markdown",
   "id": "719efa58-168e-43a3-9dca-85ad6103c896",
   "metadata": {},
   "source": [
    "## Lesson 3 Exam\n",
    "### Page 9\n",
    "##### Below is an exam to review the recently covered material. This exam is not graded. Please feel free to refer to your notes or the curriculum since you don't have to memorize everything in the real world - as long as you know where to find information!"
   ]
  },
  {
   "cell_type": "code",
   "execution_count": 51,
   "id": "7c263b8d-dd3d-4be1-aa74-f5b06f6ad4c3",
   "metadata": {},
   "outputs": [],
   "source": [
    "L3P9Q1 = MC('1. Is type of rock a categorical, quantitative, or ordinal variable type?',['Categorical','Quantitative','Ordinal'],'Categorical', cor='Type of rock can be grouped, not in order, so it is categorical.', incor='')\n",
    "L3P9Q2 = MC('2. Is speed of a car a categorical, quantitative, or ordinal variable type?',['Categorical','Quantitative','Ordinal'],'Quantitative', cor='Speed is a number, so it is quantitative.', incor='')\n",
    "L3P9Q3 = MC('3. Is the state you live in a categorical, quantitative, or ordinal variable type?',['Categorical','Quantitative','Ordinal'],'Categorical', cor='State is a category and not numeric, so it is categorical.', incor='')\n",
    "L3P9Q4 = MC('4. Is height of buildings in a city block a categorical, quantitative, or ordinal variable type?',['Categorical','Quantitative','Ordinal'],'Quantitative', cor='Height is a number and can be measured, so it is quantitative.', incor='')\n",
    "L3P9Q5 = MC('5. Is the \"hot\" scale for peppers a categorical, quantitative, or ordinal variable type?',['Categorical','Quantitative','Ordinal'],'Ordinal', cor='Because there is the hottest pepper and a least hot pepper, this is an ordered list, which means it is an ordinal variable.', incor='')\n",
    "L3P9Q6 = MC('6. Is weight of newborn babies a categorical, quantitative, or ordinal variable type?',['Categorical','Quantitative','Ordinal'],'Quantitative', cor='Weight is a number and can be measured, so it is quantitative.', incor='')\n",
    "L3P9Q7 = MC('7. Is socio-economic class a categorical, quantitative, or ordinal variable type?',['Categorical','Quantitative','Ordinal'],'Ordinal', cor='Because upper, middle, and lower classes can appear in a specific order, thus making this is an ordinal variable, not a categorical one.', incor='')\n",
    "L3P9Q8 = MultipleChoice('8. Look at the following situation, and determine which best describes the data conversion. \\nIn a cooking class, students have self-identified as excellent cooks, average cooks, or poor cooks by preparing their best dishes for a judge. Then, the judges determine which is the best dish.',['Quantitative to categorical','Categorical to quantitative','Both of the above','Neither of the above'],'Neither of the above')\n",
    "L3P9Q9 = MC('9. Look at the following situation, and determine which best describes the data conversion: \\nUsing a stopwatch, a teacher measures the time it takes for each student\\'s paper airplane to hit the ground after being dropped from the top of the bleachers. After counting 140 drops, the teacher reports the results in the following groups: \"like a rock,\" \"got lucky because of an updraft,\" and \"would make Orville and Wilbur proud.\"',['Quantitative to categorical','Categorical to quantitative','Both of the above','Neither of the above'],'Quantitative to categorical', cor='This starts as a quantitative measurement of time and then is converted into categories.', incor='')"
   ]
  },
  {
   "cell_type": "code",
   "execution_count": 52,
   "id": "1476772c-c595-4bae-894e-c449431562ba",
   "metadata": {},
   "outputs": [
    {
     "data": {
      "application/vnd.jupyter.widget-view+json": {
       "model_id": "389fd7e8b6d24a349abe3733af9aff16",
       "version_major": 2,
       "version_minor": 0
      },
      "text/plain": [
       "VBox(children=(Output(), RadioButtons(layout=Layout(width='max-content'), options=(('Categorical', 0), ('Quant…"
      ]
     },
     "metadata": {},
     "output_type": "display_data"
    },
    {
     "data": {
      "application/vnd.jupyter.widget-view+json": {
       "model_id": "e9193c7f892c44c980083c2de5f1d346",
       "version_major": 2,
       "version_minor": 0
      },
      "text/plain": [
       "VBox(children=(Output(), RadioButtons(layout=Layout(width='max-content'), options=(('Categorical', 0), ('Quant…"
      ]
     },
     "metadata": {},
     "output_type": "display_data"
    },
    {
     "data": {
      "application/vnd.jupyter.widget-view+json": {
       "model_id": "5764f136f4254ce8a84c26f53b94080b",
       "version_major": 2,
       "version_minor": 0
      },
      "text/plain": [
       "VBox(children=(Output(), RadioButtons(layout=Layout(width='max-content'), options=(('Categorical', 0), ('Quant…"
      ]
     },
     "metadata": {},
     "output_type": "display_data"
    },
    {
     "data": {
      "application/vnd.jupyter.widget-view+json": {
       "model_id": "530a512ee2a544c8b209d79b84657b4c",
       "version_major": 2,
       "version_minor": 0
      },
      "text/plain": [
       "VBox(children=(Output(), RadioButtons(layout=Layout(width='max-content'), options=(('Categorical', 0), ('Quant…"
      ]
     },
     "metadata": {},
     "output_type": "display_data"
    },
    {
     "data": {
      "application/vnd.jupyter.widget-view+json": {
       "model_id": "b0359ff8a2334dc68ccfbeb6d1ac74bd",
       "version_major": 2,
       "version_minor": 0
      },
      "text/plain": [
       "VBox(children=(Output(), RadioButtons(layout=Layout(width='max-content'), options=(('Categorical', 0), ('Quant…"
      ]
     },
     "metadata": {},
     "output_type": "display_data"
    },
    {
     "data": {
      "application/vnd.jupyter.widget-view+json": {
       "model_id": "e1cb9486b31840478ba0494f13691b0e",
       "version_major": 2,
       "version_minor": 0
      },
      "text/plain": [
       "VBox(children=(Output(), RadioButtons(layout=Layout(width='max-content'), options=(('Categorical', 0), ('Quant…"
      ]
     },
     "metadata": {},
     "output_type": "display_data"
    },
    {
     "data": {
      "application/vnd.jupyter.widget-view+json": {
       "model_id": "3e2a7569d4104353bba0ebb8255451ee",
       "version_major": 2,
       "version_minor": 0
      },
      "text/plain": [
       "VBox(children=(Output(), RadioButtons(layout=Layout(width='max-content'), options=(('Categorical', 0), ('Quant…"
      ]
     },
     "metadata": {},
     "output_type": "display_data"
    },
    {
     "data": {
      "application/vnd.jupyter.widget-view+json": {
       "model_id": "a195414f932544dbb4bdd6b383328a1f",
       "version_major": 2,
       "version_minor": 0
      },
      "text/plain": [
       "VBox(children=(Output(), RadioButtons(layout=Layout(width='max-content'), options=(('Quantitative to categoric…"
      ]
     },
     "metadata": {},
     "output_type": "display_data"
    },
    {
     "data": {
      "application/vnd.jupyter.widget-view+json": {
       "model_id": "3a6ece133125493b9ebf10d23b686777",
       "version_major": 2,
       "version_minor": 0
      },
      "text/plain": [
       "VBox(children=(Output(), RadioButtons(layout=Layout(width='max-content'), options=(('Quantitative to categoric…"
      ]
     },
     "metadata": {},
     "output_type": "display_data"
    }
   ],
   "source": [
    "if __name__ == \"__main__\":\n",
    "    display(L3P9Q1, L3P9Q2, L3P9Q3, L3P9Q4, L3P9Q5, L3P9Q6, L3P9Q7, L3P9Q8, L3P9Q9)"
   ]
  },
  {
   "cell_type": "markdown",
   "id": "29c9b6be-4d57-46d0-b421-6ae371794622",
   "metadata": {},
   "source": [
    "## Lesson 4\n",
    "\n",
    "## Page 2"
   ]
  },
  {
   "cell_type": "code",
   "execution_count": 53,
   "id": "162d8148-c1cf-452c-b1ab-2ffad5fcb12a",
   "metadata": {},
   "outputs": [],
   "source": [
    "L4P2Q1 = MultipleChoice('1. To what does the word parameter refer?',['Population','Sample'],'Population')\n",
    "L4P2Q2 = MultipleChoice('2. To what does the word statistic refer?',['Population','Sample'],'Sample')\n",
    "L4P2Q3 = MultipleChoice('3. When would you use inferential statistics?',['When drawing conclusions about your data','When describing your data','When taking a sample from your data', 'When you are using a population parameter'],'When drawing conclusions about your data')\n",
    "L4P2Q4 = MultipleChoice('4. When would you use descriptive statistics?',['When drawing conclusions about your data','When describing your data','When taking a sample from your data', 'When you are using a population parameter'],'When describing your data')"
   ]
  },
  {
   "cell_type": "code",
   "execution_count": 54,
   "id": "71b58ccd-de7e-4e6a-b4af-2a3edf4fed2b",
   "metadata": {},
   "outputs": [
    {
     "data": {
      "application/vnd.jupyter.widget-view+json": {
       "model_id": "552002ad05e048ddb2e2674512e08998",
       "version_major": 2,
       "version_minor": 0
      },
      "text/plain": [
       "VBox(children=(Output(), RadioButtons(layout=Layout(width='max-content'), options=(('Population', 0), ('Sample…"
      ]
     },
     "metadata": {},
     "output_type": "display_data"
    },
    {
     "data": {
      "application/vnd.jupyter.widget-view+json": {
       "model_id": "3ff9280cf87b4e9a8cfdf39465bd6272",
       "version_major": 2,
       "version_minor": 0
      },
      "text/plain": [
       "VBox(children=(Output(), RadioButtons(layout=Layout(width='max-content'), options=(('Population', 0), ('Sample…"
      ]
     },
     "metadata": {},
     "output_type": "display_data"
    },
    {
     "data": {
      "application/vnd.jupyter.widget-view+json": {
       "model_id": "4294caedc3944e6ead039e7ba6ebdf50",
       "version_major": 2,
       "version_minor": 0
      },
      "text/plain": [
       "VBox(children=(Output(), RadioButtons(layout=Layout(width='max-content'), options=(('When drawing conclusions …"
      ]
     },
     "metadata": {},
     "output_type": "display_data"
    },
    {
     "data": {
      "application/vnd.jupyter.widget-view+json": {
       "model_id": "a9182af9730247b2b395acf5cc50b4e6",
       "version_major": 2,
       "version_minor": 0
      },
      "text/plain": [
       "VBox(children=(Output(), RadioButtons(layout=Layout(width='max-content'), options=(('When drawing conclusions …"
      ]
     },
     "metadata": {},
     "output_type": "display_data"
    }
   ],
   "source": [
    "if __name__ == \"__main__\":\n",
    "    display(L4P2Q1, L4P2Q2, L4P2Q3, L4P2Q4)"
   ]
  },
  {
   "cell_type": "markdown",
   "id": "916e8a24-b3bf-4cf6-9c8c-3af3f6f60601",
   "metadata": {},
   "source": [
    "## Page 3"
   ]
  },
  {
   "cell_type": "code",
   "execution_count": 55,
   "id": "e4fb0703-1981-4787-9ed9-05f1ef9a5e2f",
   "metadata": {},
   "outputs": [],
   "source": [
    "L4P3Q1 = MultipleChoice('1. How do you calculate the mean for a categorical variable?',['Add up all the responses and divide by the number of responses','The mean of a categorical variable cannot be calculated','Find the probability of each occurring and then multiply by the discrete number in the question and add up the totals', 'Add up all the responses'],'The mean of a categorical variable cannot be calculated')\n",
    "L4P3Q2 = MC('2. A carpenter wants to make sure he has all his boards cut correctly. He measures the same board three different times and then takes the average. Given the following measurements, what is the average board length?',['3','18','6.1', '6'],'6', cor='6 + 6.1 + 5.9 = 18, 18 / 3 = 6', incor='')\n",
    "L4P3Q3 = MultipleChoice('3. What is the mode?',['The height of fashion','The addition of all numbers together divided by the number of numbers','The middle of the dataset', 'The most frequent number in a dataset'],'The most frequent number in a dataset')\n",
    "L4P3Q4 = MultipleChoice('4. What is the median?',['The weighted addition of all numbers divided by the total','The addition of all numbers together divided by the number of numbers','The middle of the dataset', 'The most frequent number in a dataset'],'The middle of the dataset')"
   ]
  },
  {
   "cell_type": "code",
   "execution_count": 56,
   "id": "8d691a32-2108-447f-a6be-9968c547af0f",
   "metadata": {},
   "outputs": [
    {
     "data": {
      "application/vnd.jupyter.widget-view+json": {
       "model_id": "5c862c3fcaa34a28a812ced5541352ba",
       "version_major": 2,
       "version_minor": 0
      },
      "text/plain": [
       "VBox(children=(Output(), RadioButtons(layout=Layout(width='max-content'), options=(('Add up all the responses …"
      ]
     },
     "metadata": {},
     "output_type": "display_data"
    },
    {
     "data": {
      "application/vnd.jupyter.widget-view+json": {
       "model_id": "cb950d8f1a2549d4bcdd8835f03764e9",
       "version_major": 2,
       "version_minor": 0
      },
      "text/plain": [
       "VBox(children=(Output(), RadioButtons(layout=Layout(width='max-content'), options=(('3', 0), ('18', 1), ('6.1'…"
      ]
     },
     "metadata": {},
     "output_type": "display_data"
    }
   ],
   "source": [
    "if __name__ == \"__main__\":\n",
    "    display(L4P3Q1, L4P3Q2)"
   ]
  },
  {
   "cell_type": "markdown",
   "id": "9932479a-bd67-4c24-b980-afd248c28a3d",
   "metadata": {},
   "source": [
    "A carpenter wants to make sure he has all his boards cut correctly. He measures the same board three different times and then takes the average. Given the following measurements, what is the average board length?\n",
    "\n",
    "**6**\n",
    "\n",
    "**6.1**\n",
    "\n",
    "**5.9**"
   ]
  },
  {
   "cell_type": "code",
   "execution_count": 57,
   "id": "a82c4f08-6269-4677-a884-5926f1f890ad",
   "metadata": {},
   "outputs": [
    {
     "data": {
      "application/vnd.jupyter.widget-view+json": {
       "model_id": "189cce7fc2bf4dbb967ab1ebdded2357",
       "version_major": 2,
       "version_minor": 0
      },
      "text/plain": [
       "VBox(children=(Output(), RadioButtons(layout=Layout(width='max-content'), options=(('The height of fashion', 0…"
      ]
     },
     "metadata": {},
     "output_type": "display_data"
    },
    {
     "data": {
      "application/vnd.jupyter.widget-view+json": {
       "model_id": "eb0702bda17b4c4ba274e2ea41943d91",
       "version_major": 2,
       "version_minor": 0
      },
      "text/plain": [
       "VBox(children=(Output(), RadioButtons(layout=Layout(width='max-content'), options=(('The weighted addition of …"
      ]
     },
     "metadata": {},
     "output_type": "display_data"
    }
   ],
   "source": [
    "if __name__ == \"__main__\":\n",
    "    display(L4P3Q3, L4P3Q4)"
   ]
  },
  {
   "cell_type": "markdown",
   "id": "e55be1d5-12cd-45af-bdf8-8a19b49cb225",
   "metadata": {},
   "source": [
    "## Page 6"
   ]
  },
  {
   "cell_type": "code",
   "execution_count": 58,
   "id": "450c04d0-d818-4e2b-b28d-2bb691531fb6",
   "metadata": {},
   "outputs": [],
   "source": [
    "L4P6Q1 = MultipleChoice('1. How is the range calculated?',['By subtracting the minimum value from the maximum value','By subtracting the maximum value from the minimum value','By subtracting the third quartile from the first quartile', 'By subtracting the first quartile from the third quartile'],'By subtracting the minimum value from the maximum value')\n",
    "L4P6Q2 = MultipleChoice('2. What is the advantage of the inter-quartile range compared to the range?',['It looks at the average change in data','It can be graphed with a box-and-whisker plot','It is more stable because it does not take into account outliers'],'It is more stable because it does not take into account outliers')\n",
    "L4P6Q3 = MultipleChoice('3. How are variance and standard deviation related?',['Standard deviation is the square of variance','Variance is the square of standard deviation','Variance is the square root of standard deviation', 'Only standard deviation looks at the sum of the differences'],'Variance is the square of standard deviation')\n",
    "L4P6Q4 = MultipleChoice('4. What is the advantage of the inter-quartile range compared to the range?',['It looks at the average change in data','A box-and-whisker plot graph','It is more stable because it does not take into account outliers'],'It is more stable because it does not take into account outliers')\n",
    "L4P6Q5 = MultipleChoice('5. How are variance and standard deviation related?',['Standard deviation is the square of variance','Variance is the square of standard deviation','Variance is the square root of standard deviation', 'Only standard deviation looks at the sum of the differences'],'Variance is the square of standard deviation')"
   ]
  },
  {
   "cell_type": "code",
   "execution_count": 59,
   "id": "8ccf723c-c887-4a15-b329-a97fa83d3bb5",
   "metadata": {},
   "outputs": [
    {
     "data": {
      "application/vnd.jupyter.widget-view+json": {
       "model_id": "04bd2191fbca43a3b3d682d3a6af87d7",
       "version_major": 2,
       "version_minor": 0
      },
      "text/plain": [
       "VBox(children=(Output(), RadioButtons(layout=Layout(width='max-content'), options=(('By subtracting the minimu…"
      ]
     },
     "metadata": {},
     "output_type": "display_data"
    },
    {
     "data": {
      "application/vnd.jupyter.widget-view+json": {
       "model_id": "c75859bf0c9945c8923b42c1d99ef9aa",
       "version_major": 2,
       "version_minor": 0
      },
      "text/plain": [
       "VBox(children=(Output(), RadioButtons(layout=Layout(width='max-content'), options=(('It looks at the average c…"
      ]
     },
     "metadata": {},
     "output_type": "display_data"
    },
    {
     "data": {
      "application/vnd.jupyter.widget-view+json": {
       "model_id": "e1207062023d44a0949c7246452bfeac",
       "version_major": 2,
       "version_minor": 0
      },
      "text/plain": [
       "VBox(children=(Output(), RadioButtons(layout=Layout(width='max-content'), options=(('Standard deviation is the…"
      ]
     },
     "metadata": {},
     "output_type": "display_data"
    },
    {
     "data": {
      "application/vnd.jupyter.widget-view+json": {
       "model_id": "d2b6d3d470684abcb692a4e102e7da19",
       "version_major": 2,
       "version_minor": 0
      },
      "text/plain": [
       "VBox(children=(Output(), RadioButtons(layout=Layout(width='max-content'), options=(('It looks at the average c…"
      ]
     },
     "metadata": {},
     "output_type": "display_data"
    },
    {
     "data": {
      "application/vnd.jupyter.widget-view+json": {
       "model_id": "4dee9a09ef684b2abb99e06a33961b56",
       "version_major": 2,
       "version_minor": 0
      },
      "text/plain": [
       "VBox(children=(Output(), RadioButtons(layout=Layout(width='max-content'), options=(('Standard deviation is the…"
      ]
     },
     "metadata": {},
     "output_type": "display_data"
    }
   ],
   "source": [
    "if __name__ == \"__main__\":\n",
    "    display(L4P6Q1, L4P6Q2, L4P6Q3, L4P6Q4, L4P6Q5)"
   ]
  },
  {
   "cell_type": "markdown",
   "id": "b77b4867-f55b-4c79-afea-0fdf385a502a",
   "metadata": {},
   "source": [
    "## Page 9"
   ]
  },
  {
   "cell_type": "code",
   "execution_count": 60,
   "id": "d3b08fd9-4f3d-415a-b2e5-cdf43001e85d",
   "metadata": {},
   "outputs": [],
   "source": [
    "L4P9Q1 = MultipleChoice('1. What does a confidence interval represent?',['The variance','The population mean','The amount of error that estimated on either side of the mean', 'The amount of change that expected'],'The amount of error that estimated on either side of the mean')"
   ]
  },
  {
   "cell_type": "code",
   "execution_count": 61,
   "id": "a8b209a6-9643-4d7b-a706-ccfd87e4bff9",
   "metadata": {},
   "outputs": [
    {
     "data": {
      "application/vnd.jupyter.widget-view+json": {
       "model_id": "71176c782f7a4beea204403fb78a6b6b",
       "version_major": 2,
       "version_minor": 0
      },
      "text/plain": [
       "VBox(children=(Output(), RadioButtons(layout=Layout(width='max-content'), options=(('The variance', 0), ('The …"
      ]
     },
     "metadata": {},
     "output_type": "display_data"
    }
   ],
   "source": [
    "if __name__ == \"__main__\":\n",
    "    display(L4P9Q1)"
   ]
  },
  {
   "cell_type": "markdown",
   "id": "d72c7912-107d-4d2f-8e72-f80a1fdcdceb",
   "metadata": {},
   "source": [
    "## Page 10"
   ]
  },
  {
   "cell_type": "code",
   "execution_count": 62,
   "id": "dd6923ec-863c-456e-b184-2227f413324f",
   "metadata": {},
   "outputs": [],
   "source": [
    "L4P10Q1 = MultipleChoice('1. How would you report on a categorical variable?',['Using means','Convert it into a quantitative variable','Convert it into an ordinal variable', 'Using frequency counts or percentages'],'Using frequency counts or percentages')\n",
    "L4P10Q2 = MultipleChoice('2. How does probability differ from proportion?',['Probability uses frequencies, and proportions don\\'t','Probability counts from the sample, a proportion is theoretical','Probability is theoretical, and a proportion counts from the sample', 'Probability doesn\\'t use frequencies; proportions do'],'Probability is theoretical, and a proportion counts from the sample')"
   ]
  },
  {
   "cell_type": "code",
   "execution_count": 63,
   "id": "7c590f02-2c02-48a8-9c40-93ce44c8ab99",
   "metadata": {},
   "outputs": [
    {
     "data": {
      "application/vnd.jupyter.widget-view+json": {
       "model_id": "fd20fb22b9f74d73b373ea75f7445be9",
       "version_major": 2,
       "version_minor": 0
      },
      "text/plain": [
       "VBox(children=(Output(), RadioButtons(layout=Layout(width='max-content'), options=(('Using means', 0), ('Conve…"
      ]
     },
     "metadata": {},
     "output_type": "display_data"
    },
    {
     "data": {
      "application/vnd.jupyter.widget-view+json": {
       "model_id": "b6df48c100b74d03baf0e1a59a5d9944",
       "version_major": 2,
       "version_minor": 0
      },
      "text/plain": [
       "VBox(children=(Output(), RadioButtons(layout=Layout(width='max-content'), options=((\"Probability uses frequenc…"
      ]
     },
     "metadata": {},
     "output_type": "display_data"
    }
   ],
   "source": [
    "if __name__ == \"__main__\":\n",
    "    display(L4P10Q1, L4P10Q2)"
   ]
  },
  {
   "cell_type": "markdown",
   "id": "6e4e0ec8-5895-4518-a36f-1ded002716c6",
   "metadata": {},
   "source": [
    "---\n",
    "## Common Descriptive Statistics\n",
    "### Lesson 4 Exam\n",
    "---\n",
    "This exam ***will be graded***, but please feel free to refer to your notes or the curriculum since you don't have to memorize everything in the real world - as long as you know where to find information!\n",
    "Which of the following formulas will yield the mean in a spreadsheet program like MS Excel or Google Sheets?"
   ]
  },
  {
   "cell_type": "code",
   "execution_count": 64,
   "id": "ea4488e7-f318-4d2c-8fd1-73a23e7cb8e8",
   "metadata": {},
   "outputs": [],
   "source": [
    "L1P2Q1 = MultipleChoice('1. Which of the following formulas will yield the mean in a spreadsheet program like MS Excel or Google Sheets?',['.mean()','.average()','.median()', '.stdev.s()'],'.average()')\n",
    "L1P2Q2 = MultipleChoice('2. Which of the following measures of central tendency looks at the exact middle of the data?',['Mean','Median','Mode'],'Median')\n",
    "L1P2Q3 = MultipleChoice('3. Which of the following formulas in MS Excel or Google Sheets will assist in finding the range?',['.min()','.max()','.range()', 'Both A & B'],'Both A & B')\n",
    "L1P2Q4 = MultipleChoice('4. Which of the following measures of distribution is the standard deviation squared?',['Range','Inter-quartile Range','Variance', 'Percentiles'],'Variance')\n",
    "L1P2Q5 = MultipleChoice('5. In reference to the margin of error, what does CV stand for?',['Coefficient of variation','Coded Variable','Confidence Value', 'Critical Value'],'Critical Value')\n",
    "L1P2Q6 = MultipleChoice('6. What is the purpose of creating a confidence interval?',['It provides a range for where the true mean of a population lies','It is an exercise to frustrate and confuse students','It builds up a student\\'s confidence for future questions', 'It provides a little bit of leeway for rounding errors during calculations'],'It provides a range for where the true mean of a population lies')"
   ]
  },
  {
   "cell_type": "code",
   "execution_count": 65,
   "id": "b238f567-2915-4b2a-848a-4207f685c4ec",
   "metadata": {},
   "outputs": [
    {
     "data": {
      "application/vnd.jupyter.widget-view+json": {
       "model_id": "16b80b20247e4936b4777541043f034d",
       "version_major": 2,
       "version_minor": 0
      },
      "text/plain": [
       "VBox(children=(Output(), RadioButtons(layout=Layout(width='max-content'), options=(('.mean()', 0), ('.average(…"
      ]
     },
     "metadata": {},
     "output_type": "display_data"
    },
    {
     "data": {
      "application/vnd.jupyter.widget-view+json": {
       "model_id": "60c1f600b0174f72adf238a2b811ed02",
       "version_major": 2,
       "version_minor": 0
      },
      "text/plain": [
       "VBox(children=(Output(), RadioButtons(layout=Layout(width='max-content'), options=(('Mean', 0), ('Median', 1),…"
      ]
     },
     "metadata": {},
     "output_type": "display_data"
    },
    {
     "data": {
      "application/vnd.jupyter.widget-view+json": {
       "model_id": "f08bd0c2f9884bb9a3a72d223108b5e3",
       "version_major": 2,
       "version_minor": 0
      },
      "text/plain": [
       "VBox(children=(Output(), RadioButtons(layout=Layout(width='max-content'), options=(('.min()', 0), ('.max()', 1…"
      ]
     },
     "metadata": {},
     "output_type": "display_data"
    },
    {
     "data": {
      "application/vnd.jupyter.widget-view+json": {
       "model_id": "a56a1c12107d49ca9f1fb923ce7eb958",
       "version_major": 2,
       "version_minor": 0
      },
      "text/plain": [
       "VBox(children=(Output(), RadioButtons(layout=Layout(width='max-content'), options=(('Range', 0), ('Inter-quart…"
      ]
     },
     "metadata": {},
     "output_type": "display_data"
    },
    {
     "data": {
      "application/vnd.jupyter.widget-view+json": {
       "model_id": "b1318cf3a28541b98e6551c9bcfba6f2",
       "version_major": 2,
       "version_minor": 0
      },
      "text/plain": [
       "VBox(children=(Output(), RadioButtons(layout=Layout(width='max-content'), options=(('Coefficient of variation'…"
      ]
     },
     "metadata": {},
     "output_type": "display_data"
    },
    {
     "data": {
      "application/vnd.jupyter.widget-view+json": {
       "model_id": "8ffe98972fe94447b639c8ade593461e",
       "version_major": 2,
       "version_minor": 0
      },
      "text/plain": [
       "VBox(children=(Output(), RadioButtons(layout=Layout(width='max-content'), options=(('It provides a range for w…"
      ]
     },
     "metadata": {},
     "output_type": "display_data"
    }
   ],
   "source": [
    "if __name__ == \"__main__\":\n",
    "    display(L1P2Q1, L1P2Q2, L1P2Q3, L1P2Q4, L1P2Q5, L1P2Q6)"
   ]
  },
  {
   "cell_type": "code",
   "execution_count": null,
   "id": "16b8e206-22c3-4768-8390-a5bb7643d8d6",
   "metadata": {},
   "outputs": [],
   "source": []
  }
 ],
 "metadata": {
  "kernelspec": {
   "display_name": "Python 3 (ipykernel)",
   "language": "python",
   "name": "python3"
  },
  "language_info": {
   "codemirror_mode": {
    "name": "ipython",
    "version": 3
   },
   "file_extension": ".py",
   "mimetype": "text/x-python",
   "name": "python",
   "nbconvert_exporter": "python",
   "pygments_lexer": "ipython3",
   "version": "3.9.7"
  }
 },
 "nbformat": 4,
 "nbformat_minor": 5
}
