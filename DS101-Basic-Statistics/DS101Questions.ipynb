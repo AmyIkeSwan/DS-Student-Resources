{
 "cells": [
  {
   "cell_type": "markdown",
   "id": "ebae2c8b-1d2e-4724-8b13-f3bd87d7f449",
   "metadata": {},
   "source": [
    "# DS101 Questions\n",
    "\n",
    "## Lesson 1"
   ]
  },
  {
   "cell_type": "code",
   "execution_count": 1,
   "id": "cc877c15-39ed-49d3-8494-07b7540a11f1",
   "metadata": {},
   "outputs": [],
   "source": [
    "from DS_Students import *"
   ]
  },
  {
   "cell_type": "markdown",
   "id": "bb7593ff-c5c9-4fa4-8a48-e52c285f7c57",
   "metadata": {},
   "source": [
    "## Page 2"
   ]
  },
  {
   "cell_type": "code",
   "execution_count": 2,
   "id": "f262e652-38c0-455a-80b0-ee16062ada26",
   "metadata": {},
   "outputs": [],
   "source": [
    "L1P2Q1 = MultipleChoice('1. Which of the following fields has helped form the discipline of data science?',['Statistics','Computer Science','Communications', 'All of the above'],'All of the above')\n",
    "L1P2Q2 = MultipleChoice('2. What is the primary goal of data science?',['To make data actionable','To analyze data','Create complex models no one can understand'],'To make data actionable')\n",
    "L1P2Q3 = MultipleChoice('3. As a mid-level data scientist, what skills should you know?',['Machine Learning','Statistical Programming','Big Data such as Spark or Hadoop', 'Project Managment'],'Statistical Programming')\n",
    "L1P2Q4 = MultipleChoice('4. What are the applications for mid-level data scientists?',['Business Analysis','Scientific Applications','Data Entry', 'Descriptive Statistics', 'Both A & B are correct'],'Both A & B are correct')\n",
    "L1P2Q5 = MultipleChoice('5. Which of the following is NOT a benefit from joining a professional society?',['Networking','Field-specific job boards','Access to recruiters', 'Discounts on journals and other publications'],'Access to recruiters')"
   ]
  },
  {
   "cell_type": "code",
   "execution_count": 3,
   "id": "ed8e3b08-08bd-4bfd-a7c3-31724bdf6fa8",
   "metadata": {},
   "outputs": [
    {
     "data": {
      "application/vnd.jupyter.widget-view+json": {
       "model_id": "ee04a43a1c474376a327fdca3fb729ba",
       "version_major": 2,
       "version_minor": 0
      },
      "text/plain": [
       "VBox(children=(Output(), RadioButtons(layout=Layout(width='max-content'), options=(('Statistics', 0), ('Comput…"
      ]
     },
     "metadata": {},
     "output_type": "display_data"
    },
    {
     "data": {
      "application/vnd.jupyter.widget-view+json": {
       "model_id": "0246d0cc002f4f0aae81378793e2c195",
       "version_major": 2,
       "version_minor": 0
      },
      "text/plain": [
       "VBox(children=(Output(), RadioButtons(layout=Layout(width='max-content'), options=(('To make data actionable',…"
      ]
     },
     "metadata": {},
     "output_type": "display_data"
    },
    {
     "data": {
      "application/vnd.jupyter.widget-view+json": {
       "model_id": "a3ce8ecbf4e441d0b118fd1074380daa",
       "version_major": 2,
       "version_minor": 0
      },
      "text/plain": [
       "VBox(children=(Output(), RadioButtons(layout=Layout(width='max-content'), options=(('Machine Learning', 0), ('…"
      ]
     },
     "metadata": {},
     "output_type": "display_data"
    },
    {
     "data": {
      "application/vnd.jupyter.widget-view+json": {
       "model_id": "9e9ed47de7004a63a4e915c8cb5fe74e",
       "version_major": 2,
       "version_minor": 0
      },
      "text/plain": [
       "VBox(children=(Output(), RadioButtons(layout=Layout(width='max-content'), options=(('Business Analysis', 0), (…"
      ]
     },
     "metadata": {},
     "output_type": "display_data"
    },
    {
     "data": {
      "application/vnd.jupyter.widget-view+json": {
       "model_id": "3f844384a80a4965b0d107a484f86ffd",
       "version_major": 2,
       "version_minor": 0
      },
      "text/plain": [
       "VBox(children=(Output(), RadioButtons(layout=Layout(width='max-content'), options=(('Networking', 0), ('Field-…"
      ]
     },
     "metadata": {},
     "output_type": "display_data"
    }
   ],
   "source": [
    "if __name__ == \"__main__\":\n",
    "    display(L1P2Q1, L1P2Q2, L1P2Q3, L1P2Q4, L1P2Q5)"
   ]
  },
  {
   "cell_type": "markdown",
   "id": "b1899a9e-73ec-42d7-a5df-b450d6df1407",
   "metadata": {},
   "source": [
    "## Page 3"
   ]
  },
  {
   "cell_type": "code",
   "execution_count": 4,
   "id": "992b6363-e342-4ca8-a91e-2fd10527baac",
   "metadata": {},
   "outputs": [],
   "source": [
    "L1P3Q1 = MultipleChoice('1. Which of the following does NOT contain the Preparation phase of the data science pipeline?',['Data Wrangling','Data Cleaning','Preparation', 'Data Extraction'],'Data Extraction')\n",
    "L1P3Q2 = MultipleChoice('2. What is the program most often used for data extraction?',['R','SQL','Python', 'Tableau'],'SQL')\n",
    "L1P3Q3 = MultipleChoice('3. What is the program most often used for data visualization?',['R','SQL','Python', 'Tableau'],'Tableau')\n",
    "L1P3Q4 = MultipleChoice('4. What is the purpose of data cleaning?',['To test hypotheses','To report findings','Ensure you have the most accurate information', 'To collect data'],'Ensure you have the most accurate information')"
   ]
  },
  {
   "cell_type": "code",
   "execution_count": 5,
   "id": "9ed81e64-7220-4997-967b-c7bfa20b416b",
   "metadata": {},
   "outputs": [
    {
     "data": {
      "application/vnd.jupyter.widget-view+json": {
       "model_id": "d4924f06139a4ad39858ffe2ad6f01d4",
       "version_major": 2,
       "version_minor": 0
      },
      "text/plain": [
       "VBox(children=(Output(), RadioButtons(layout=Layout(width='max-content'), options=(('Data Wrangling', 0), ('Da…"
      ]
     },
     "metadata": {},
     "output_type": "display_data"
    },
    {
     "data": {
      "application/vnd.jupyter.widget-view+json": {
       "model_id": "80a63c0746a2479e92ad7be4ecf7ba36",
       "version_major": 2,
       "version_minor": 0
      },
      "text/plain": [
       "VBox(children=(Output(), RadioButtons(layout=Layout(width='max-content'), options=(('R', 0), ('SQL', 1), ('Pyt…"
      ]
     },
     "metadata": {},
     "output_type": "display_data"
    },
    {
     "data": {
      "application/vnd.jupyter.widget-view+json": {
       "model_id": "e3858dc1485d40f3923b56a90d46c67b",
       "version_major": 2,
       "version_minor": 0
      },
      "text/plain": [
       "VBox(children=(Output(), RadioButtons(layout=Layout(width='max-content'), options=(('R', 0), ('SQL', 1), ('Pyt…"
      ]
     },
     "metadata": {},
     "output_type": "display_data"
    },
    {
     "data": {
      "application/vnd.jupyter.widget-view+json": {
       "model_id": "5aa2f02576a44d4e9092d399201490cf",
       "version_major": 2,
       "version_minor": 0
      },
      "text/plain": [
       "VBox(children=(Output(), RadioButtons(layout=Layout(width='max-content'), options=(('To test hypotheses', 0), …"
      ]
     },
     "metadata": {},
     "output_type": "display_data"
    }
   ],
   "source": [
    "if __name__ == \"__main__\":\n",
    "    display(L1P3Q1, L1P3Q2, L1P3Q3, L1P3Q4)"
   ]
  },
  {
   "cell_type": "markdown",
   "id": "05c396e2-de6f-4c32-a032-ce60089596f4",
   "metadata": {},
   "source": [
    "## Page 4"
   ]
  },
  {
   "cell_type": "code",
   "execution_count": 6,
   "id": "21de2de2-86aa-4548-9967-301683bfc5b2",
   "metadata": {},
   "outputs": [],
   "source": [
    "L1P4Q1 = MultipleChoice('1. Which of the following is NOT software typically used for data extraction?',['SPSS','SQL','NoSQL', 'SAP Business Objects'],'SPSS')\n",
    "L1P4Q2 = MultipleChoice('2. Which of the following is the most common software used for data analysis?',['SPSS','SAS','R', 'Python'],'Python')\n",
    "L1P4Q3 = MultipleChoice('3. Which of the following is not typically used in research / academic settings?',['Stata','Mplus','SAS', 'SPSS'],'SAS')\n",
    "L1P4Q4 = MultipleChoice('4. Your manager asks you to recommend data analytics software for the data science team. The requirements are that the software has some point and click function. Your company is willing to pay a decent amount of money, which is for a business setting. What software would you recommend?',['Stata','SAS','Minitab', 'Python'],'SAS')\n",
    "L1P4Q5 = MultipleChoice('5. Your manager asks you to recommend data analytics software for his data science team. His only requirement is that the software is completely free.',['MATLAB','R','SAS', 'Stata'],'R')\n",
    "L1P4Q6 = MultipleChoice('6. Your manager asks you to recommend data analytics software for a data science team tracking wild animal behavior and population growth. What software would you recommend?',['SPSS','Mplus','Python', 'MATLAB'],'MATLAB')\n",
    "L1P4Q7 = MultipleChoice('7. What is the difference between Spark and Hadoop?',['Spark is much faster than Hadoop','Hadoop is much faster than Spark','There are no differences', 'Hadoop can run a wider variety of analyses'],'Spark is much faster than Hadoop')\n",
    "L1P4Q8 = MultipleChoice('8. If you needed to complete data extraction on a tremendous amount of data, what program would you use?',['Spark','Hive','R', 'Hadoop'],'Hive')"
   ]
  },
  {
   "cell_type": "code",
   "execution_count": 7,
   "id": "cce693e3-f94b-4505-8e7e-1f40133ad8b7",
   "metadata": {},
   "outputs": [
    {
     "data": {
      "application/vnd.jupyter.widget-view+json": {
       "model_id": "2d4b9ebf1b094efeab68a29f30334ce0",
       "version_major": 2,
       "version_minor": 0
      },
      "text/plain": [
       "VBox(children=(Output(), RadioButtons(layout=Layout(width='max-content'), options=(('SPSS', 0), ('SQL', 1), ('…"
      ]
     },
     "metadata": {},
     "output_type": "display_data"
    },
    {
     "data": {
      "application/vnd.jupyter.widget-view+json": {
       "model_id": "abb3ae63b624491da63c1aec6e59aa12",
       "version_major": 2,
       "version_minor": 0
      },
      "text/plain": [
       "VBox(children=(Output(), RadioButtons(layout=Layout(width='max-content'), options=(('SPSS', 0), ('SAS', 1), ('…"
      ]
     },
     "metadata": {},
     "output_type": "display_data"
    },
    {
     "data": {
      "application/vnd.jupyter.widget-view+json": {
       "model_id": "53ed5a34aab54c63bbe8697059032935",
       "version_major": 2,
       "version_minor": 0
      },
      "text/plain": [
       "VBox(children=(Output(), RadioButtons(layout=Layout(width='max-content'), options=(('Stata', 0), ('Mplus', 1),…"
      ]
     },
     "metadata": {},
     "output_type": "display_data"
    },
    {
     "data": {
      "application/vnd.jupyter.widget-view+json": {
       "model_id": "b39cf529aefe46e0a77e1ba970ced89b",
       "version_major": 2,
       "version_minor": 0
      },
      "text/plain": [
       "VBox(children=(Output(), RadioButtons(layout=Layout(width='max-content'), options=(('Stata', 0), ('SAS', 1), (…"
      ]
     },
     "metadata": {},
     "output_type": "display_data"
    },
    {
     "data": {
      "application/vnd.jupyter.widget-view+json": {
       "model_id": "140b29e601c14101b8626ead48e4f275",
       "version_major": 2,
       "version_minor": 0
      },
      "text/plain": [
       "VBox(children=(Output(), RadioButtons(layout=Layout(width='max-content'), options=(('MATLAB', 0), ('R', 1), ('…"
      ]
     },
     "metadata": {},
     "output_type": "display_data"
    },
    {
     "data": {
      "application/vnd.jupyter.widget-view+json": {
       "model_id": "af8804d33c3f492581cbbf9feebbfa6d",
       "version_major": 2,
       "version_minor": 0
      },
      "text/plain": [
       "VBox(children=(Output(), RadioButtons(layout=Layout(width='max-content'), options=(('SPSS', 0), ('Mplus', 1), …"
      ]
     },
     "metadata": {},
     "output_type": "display_data"
    },
    {
     "data": {
      "application/vnd.jupyter.widget-view+json": {
       "model_id": "ae6a0d55b593433b96d759d97eaccd69",
       "version_major": 2,
       "version_minor": 0
      },
      "text/plain": [
       "VBox(children=(Output(), RadioButtons(layout=Layout(width='max-content'), options=(('Spark is much faster than…"
      ]
     },
     "metadata": {},
     "output_type": "display_data"
    },
    {
     "data": {
      "application/vnd.jupyter.widget-view+json": {
       "model_id": "0fc7297b66054fc5b1ff50c4ad0f3d71",
       "version_major": 2,
       "version_minor": 0
      },
      "text/plain": [
       "VBox(children=(Output(), RadioButtons(layout=Layout(width='max-content'), options=(('Spark', 0), ('Hive', 1), …"
      ]
     },
     "metadata": {},
     "output_type": "display_data"
    }
   ],
   "source": [
    "if __name__ == \"__main__\":\n",
    "    display(L1P4Q1, L1P4Q2, L1P4Q3, L1P4Q4, L1P4Q5, L1P4Q6, L1P4Q7, L1P4Q8)"
   ]
  },
  {
   "cell_type": "markdown",
   "id": "7315ab91-85a4-4aef-810d-a1e308a2ca6d",
   "metadata": {},
   "source": [
    "## Page 5"
   ]
  },
  {
   "cell_type": "code",
   "execution_count": 8,
   "id": "df29e853-8b7f-42cb-854e-a51818f89aa4",
   "metadata": {},
   "outputs": [],
   "source": [
    "L1P5Q1 = MultipleChoice('1. This data science curriculum follows the data science pipeline.',['True','False'],'True')\n",
    "L1P5Q2 = MultipleChoice('2. How long is the final project module??',['Eight weeks','Three weeks','Six weeks', 'Two weeks'],'Six weeks')\n",
    "L1P5Q3 = MultipleChoice('3. What is the purpose of the Data Wrangling and Visualization module?',['Learn the basics of data analysis','Learn how to create your own metrics','Learn R', 'Helps others to understand your work'],'Helps others to understand your work')"
   ]
  },
  {
   "cell_type": "code",
   "execution_count": 9,
   "id": "0d587f7e-8f5c-48b6-8c17-545fbb855486",
   "metadata": {},
   "outputs": [
    {
     "data": {
      "application/vnd.jupyter.widget-view+json": {
       "model_id": "828f29e7061e42d8a0d828d29e6ca349",
       "version_major": 2,
       "version_minor": 0
      },
      "text/plain": [
       "VBox(children=(Output(), RadioButtons(layout=Layout(width='max-content'), options=(('True', 0), ('False', 1)),…"
      ]
     },
     "metadata": {},
     "output_type": "display_data"
    },
    {
     "data": {
      "application/vnd.jupyter.widget-view+json": {
       "model_id": "1613eccc1621459e8816473f187e3821",
       "version_major": 2,
       "version_minor": 0
      },
      "text/plain": [
       "VBox(children=(Output(), RadioButtons(layout=Layout(width='max-content'), options=(('Eight weeks', 0), ('Three…"
      ]
     },
     "metadata": {},
     "output_type": "display_data"
    },
    {
     "data": {
      "application/vnd.jupyter.widget-view+json": {
       "model_id": "4b02e85c9d3f4c3398aa4756e141651a",
       "version_major": 2,
       "version_minor": 0
      },
      "text/plain": [
       "VBox(children=(Output(), RadioButtons(layout=Layout(width='max-content'), options=(('Learn the basics of data …"
      ]
     },
     "metadata": {},
     "output_type": "display_data"
    }
   ],
   "source": [
    "if __name__ == \"__main__\":\n",
    "    display(L1P5Q1, L1P5Q2, L1P5Q3)"
   ]
  },
  {
   "cell_type": "markdown",
   "id": "63887f13-b414-4d00-8b56-7fd4b3545a38",
   "metadata": {},
   "source": [
    "# Lesson 2\n",
    "\n",
    "## Page 2"
   ]
  },
  {
   "cell_type": "markdown",
   "id": "5e03d0b0-7b7e-46c6-8598-2a8d7f200887",
   "metadata": {},
   "source": [
    "<img src=\"Media/L01-04.png\" alt=\"Drawing\" style=\"width: 500px;\"/>"
   ]
  },
  {
   "cell_type": "code",
   "execution_count": 10,
   "id": "def0a0d1-8273-406c-92af-48108c480dc4",
   "metadata": {},
   "outputs": [],
   "source": [
    "L2P2Q1 = MultipleChoice('1. Suppose you have a bag of marbles. There are 12 red marbles, 5 green marbles, and 18 white marbles. If you draw out a single marble, what is the probability that it is green?',['5','5/30','1/6', '5/35'],'5/35')\n",
    "L2P2Q2 = MultipleChoice('2. Given the shapes above, what is the probability of randomly choosing a shape that is square??',['9/28','1/3','9', '1/7'],'9/28')\n",
    "L2P2Q3 = MultipleChoice('3. Given the shapes above, what is the probability of randomly choosing a red shape?',['8','30%','2/7', '2/5'],'2/7')\n",
    "L2P2Q4 = MultipleChoice('4. Given the shapes above, what is the probability of randomly choosing a blue circle?',['3','3/25','1/9', '3/28'],'3/28')"
   ]
  },
  {
   "cell_type": "code",
   "execution_count": 11,
   "id": "3f4ad5ba-3884-4b41-a85a-f78026a1ce48",
   "metadata": {},
   "outputs": [
    {
     "data": {
      "application/vnd.jupyter.widget-view+json": {
       "model_id": "b6f9c23ae0214ef8acdccf0adaa86327",
       "version_major": 2,
       "version_minor": 0
      },
      "text/plain": [
       "VBox(children=(Output(), RadioButtons(layout=Layout(width='max-content'), options=(('5', 0), ('5/30', 1), ('1/…"
      ]
     },
     "metadata": {},
     "output_type": "display_data"
    },
    {
     "data": {
      "application/vnd.jupyter.widget-view+json": {
       "model_id": "fb356e7c3b1344c98aac798ff12add50",
       "version_major": 2,
       "version_minor": 0
      },
      "text/plain": [
       "VBox(children=(Output(), RadioButtons(layout=Layout(width='max-content'), options=(('9/28', 0), ('1/3', 1), ('…"
      ]
     },
     "metadata": {},
     "output_type": "display_data"
    },
    {
     "data": {
      "application/vnd.jupyter.widget-view+json": {
       "model_id": "9444188c4e8f404c80a1b13e1083b828",
       "version_major": 2,
       "version_minor": 0
      },
      "text/plain": [
       "VBox(children=(Output(), RadioButtons(layout=Layout(width='max-content'), options=(('8', 0), ('30%', 1), ('2/7…"
      ]
     },
     "metadata": {},
     "output_type": "display_data"
    },
    {
     "data": {
      "application/vnd.jupyter.widget-view+json": {
       "model_id": "02a2bef26fb446ef90e046b3a6a0006c",
       "version_major": 2,
       "version_minor": 0
      },
      "text/plain": [
       "VBox(children=(Output(), RadioButtons(layout=Layout(width='max-content'), options=(('3', 0), ('3/25', 1), ('1/…"
      ]
     },
     "metadata": {},
     "output_type": "display_data"
    }
   ],
   "source": [
    "if __name__ == \"__main__\":\n",
    "    display(L2P2Q1, L2P2Q2, L2P2Q3, L2P2Q4)"
   ]
  },
  {
   "cell_type": "markdown",
   "id": "883affec-82fc-43a0-b6d9-0b9ddd31e72b",
   "metadata": {},
   "source": [
    "## Page 3"
   ]
  },
  {
   "cell_type": "code",
   "execution_count": 12,
   "id": "e20c2ccc-d516-4399-913c-c0ecaea17eab",
   "metadata": {},
   "outputs": [],
   "source": [
    "L2P3Q1 = MultipleChoice('1. Only one of the following is a valid expression of probability. Please select the valid expression.',['-12.7%','18/13','1.25', '160%', '-0.06', '12/17', '-3/7' ],'12/17')\n",
    "L2P3Q2 = MultipleChoice('2. Is 0.03% a valid expression for a probability?',['No','Yes'],'Yes')"
   ]
  },
  {
   "cell_type": "code",
   "execution_count": 13,
   "id": "9b08c8c3-c9af-4236-9eae-1992fbb79434",
   "metadata": {},
   "outputs": [
    {
     "data": {
      "application/vnd.jupyter.widget-view+json": {
       "model_id": "60affc73c23349788e09adb347cc1440",
       "version_major": 2,
       "version_minor": 0
      },
      "text/plain": [
       "VBox(children=(Output(), RadioButtons(layout=Layout(width='max-content'), options=(('-12.7%', 0), ('18/13', 1)…"
      ]
     },
     "metadata": {},
     "output_type": "display_data"
    },
    {
     "data": {
      "application/vnd.jupyter.widget-view+json": {
       "model_id": "abd6ff9a7efd493c88c8f3ec8d0a5a01",
       "version_major": 2,
       "version_minor": 0
      },
      "text/plain": [
       "VBox(children=(Output(), RadioButtons(layout=Layout(width='max-content'), options=(('No', 0), ('Yes', 1)), val…"
      ]
     },
     "metadata": {},
     "output_type": "display_data"
    }
   ],
   "source": [
    "if __name__ == \"__main__\":\n",
    "    display(L2P3Q1, L2P3Q2)"
   ]
  },
  {
   "cell_type": "markdown",
   "id": "2e55081d-a664-4183-b732-f66617511d37",
   "metadata": {},
   "source": [
    "## Page 4"
   ]
  },
  {
   "cell_type": "code",
   "execution_count": 14,
   "id": "6187205f-3c1e-4635-9c6f-fe890b724d8b",
   "metadata": {},
   "outputs": [],
   "source": [
    "L2P4Q1 = MultipleChoice('1. Given the following information, find the probability that a member of a particular group has exactly two children:',['Cannot be determined','81%','19%', '38%'],'19%')"
   ]
  },
  {
   "cell_type": "code",
   "execution_count": 15,
   "id": "42ff02f8-aba2-4f84-8516-cd2f1576877d",
   "metadata": {},
   "outputs": [
    {
     "data": {
      "application/vnd.jupyter.widget-view+json": {
       "model_id": "09edc3d4fa3c4701bdf772354187402f",
       "version_major": 2,
       "version_minor": 0
      },
      "text/plain": [
       "VBox(children=(Output(), RadioButtons(layout=Layout(width='max-content'), options=(('Cannot be determined', 0)…"
      ]
     },
     "metadata": {},
     "output_type": "display_data"
    }
   ],
   "source": [
    "if __name__ == \"__main__\":\n",
    "    display(L2P4Q1)"
   ]
  },
  {
   "cell_type": "markdown",
   "id": "5f1c111e-d753-4991-845d-266959920338",
   "metadata": {},
   "source": [
    "## Page 5"
   ]
  },
  {
   "cell_type": "code",
   "execution_count": 16,
   "id": "7a8cd829-374d-4562-b563-effe7064f805",
   "metadata": {},
   "outputs": [],
   "source": [
    "L2P5Q1 = MultipleChoice('1. Alex likes to sneak away from home at night. But 93% of the time, he successfully sneaks off without anyone in his family seeing him. \\nWhat is the probability that someone catches him sneaking off?',['93%','70%', '50%', '7%'],'7%')\n",
    "L2P5Q2 = MultipleChoice('2. You have entered a charity drawing to win a free dinner at a local restaurant. Your entry consists of raffle tickets you purchased. Someone in the group is going to win. You have calculated the odds of someone other than yourself winning, and there is a 79% chance that somebody else wins. What is the probability that you will win?',[\"It is impossible to know.\",'0.21','14%', '0.79'],'0.21')"
   ]
  },
  {
   "cell_type": "code",
   "execution_count": 17,
   "id": "084c3dda-4438-4a0f-a9bf-b711d0b6fdd3",
   "metadata": {},
   "outputs": [
    {
     "data": {
      "application/vnd.jupyter.widget-view+json": {
       "model_id": "1a5ce73adb6d447bbeadb37bf2dd8a5a",
       "version_major": 2,
       "version_minor": 0
      },
      "text/plain": [
       "VBox(children=(Output(), RadioButtons(layout=Layout(width='max-content'), options=(('93%', 0), ('70%', 1), ('5…"
      ]
     },
     "metadata": {},
     "output_type": "display_data"
    },
    {
     "data": {
      "application/vnd.jupyter.widget-view+json": {
       "model_id": "cda419eb11654a388d3a3441535ae202",
       "version_major": 2,
       "version_minor": 0
      },
      "text/plain": [
       "VBox(children=(Output(), RadioButtons(layout=Layout(width='max-content'), options=(('It is impossible to know.…"
      ]
     },
     "metadata": {},
     "output_type": "display_data"
    }
   ],
   "source": [
    "if __name__ == \"__main__\":\n",
    "    display(L2P5Q1, L2P5Q2)"
   ]
  },
  {
   "cell_type": "markdown",
   "id": "701a3008-173b-440a-b9e6-8230f9ea9aea",
   "metadata": {},
   "source": [
    "## Page 6"
   ]
  },
  {
   "cell_type": "code",
   "execution_count": 18,
   "id": "8d4e55df-223a-4364-ac65-1f277aa74324",
   "metadata": {},
   "outputs": [],
   "source": [
    "L2P6Q1 = MultipleChoice('1. What is 6!?',['720','36','72', '60'],'720')\n",
    "L2P6Q2 = MultipleChoice('2. Which of the following is not a rule about factorials?',[\"A factorial cannot have a negative number\", \"A factorial can have a decimal\", '0! = 1', '1! = 1'],'A factorial can have a decimal')"
   ]
  },
  {
   "cell_type": "code",
   "execution_count": 19,
   "id": "e8817254-7d78-4b7c-bce8-38039d304f71",
   "metadata": {},
   "outputs": [
    {
     "data": {
      "application/vnd.jupyter.widget-view+json": {
       "model_id": "57f828d92840438496b68281c673d937",
       "version_major": 2,
       "version_minor": 0
      },
      "text/plain": [
       "VBox(children=(Output(), RadioButtons(layout=Layout(width='max-content'), options=(('720', 0), ('36', 1), ('72…"
      ]
     },
     "metadata": {},
     "output_type": "display_data"
    },
    {
     "data": {
      "application/vnd.jupyter.widget-view+json": {
       "model_id": "d2d6d2f9f6c84cac9839b0ec1836028b",
       "version_major": 2,
       "version_minor": 0
      },
      "text/plain": [
       "VBox(children=(Output(), RadioButtons(layout=Layout(width='max-content'), options=(('A factorial cannot have a…"
      ]
     },
     "metadata": {},
     "output_type": "display_data"
    }
   ],
   "source": [
    "if __name__ == \"__main__\":\n",
    "    display(L2P6Q1, L2P6Q2)"
   ]
  },
  {
   "cell_type": "markdown",
   "id": "1c5a22c4-0500-446d-a04a-3966520f6ba4",
   "metadata": {},
   "source": [
    "## Page 7"
   ]
  },
  {
   "cell_type": "code",
   "execution_count": 20,
   "id": "44c87e90-8beb-4438-ac9c-67d88ba8c45b",
   "metadata": {},
   "outputs": [],
   "source": [
    "L2P7Q1 = MultipleChoice('1. At a local pizza place, there are 17 different toppings available for your pizza. So, if you have precisely five toppings on your pizza, how many ways could you prepare your pizza?',['422','6188','13,582', '5'],'6188')"
   ]
  },
  {
   "cell_type": "code",
   "execution_count": 21,
   "id": "0af0d13b-00d8-4c5f-b06b-5b6278ef0aee",
   "metadata": {},
   "outputs": [
    {
     "data": {
      "application/vnd.jupyter.widget-view+json": {
       "model_id": "2d74bbe1bbc44bd089738c038957cf35",
       "version_major": 2,
       "version_minor": 0
      },
      "text/plain": [
       "VBox(children=(Output(), RadioButtons(layout=Layout(width='max-content'), options=(('422', 0), ('6188', 1), ('…"
      ]
     },
     "metadata": {},
     "output_type": "display_data"
    }
   ],
   "source": [
    "if __name__ == \"__main__\":\n",
    "    display(L2P7Q1)"
   ]
  },
  {
   "cell_type": "markdown",
   "id": "77b41143-3ed5-4664-adbc-04d41d4801c7",
   "metadata": {},
   "source": [
    "## Page 8"
   ]
  },
  {
   "cell_type": "code",
   "execution_count": 22,
   "id": "45ab180a-58a8-4033-ab7a-c7c3dad3fe49",
   "metadata": {},
   "outputs": [],
   "source": [
    "L2P8Q1 = MultipleChoice('1. Suppose the committee decided to choose a leadership group of 5 out of the 11 people on the committee. There will be a president, vice-president, secretary, treasurer, and public relations specialist. How many possible leadership groups would there be?',['420','462','55,440', '462,720'],'55,440')"
   ]
  },
  {
   "cell_type": "code",
   "execution_count": 23,
   "id": "806e12c5-f0bc-4a2a-bd74-d9f049a0b23e",
   "metadata": {},
   "outputs": [
    {
     "data": {
      "application/vnd.jupyter.widget-view+json": {
       "model_id": "bb9816e661be4994b553fe5723dcf138",
       "version_major": 2,
       "version_minor": 0
      },
      "text/plain": [
       "VBox(children=(Output(), RadioButtons(layout=Layout(width='max-content'), options=(('420', 0), ('462', 1), ('5…"
      ]
     },
     "metadata": {},
     "output_type": "display_data"
    }
   ],
   "source": [
    "if __name__ == \"__main__\":\n",
    "    display(L2P8Q1)"
   ]
  },
  {
   "cell_type": "markdown",
   "id": "6accf081-f45e-4653-9237-746d1f781f44",
   "metadata": {},
   "source": [
    "## Page 9"
   ]
  },
  {
   "cell_type": "code",
   "execution_count": 24,
   "id": "92ca9641-d128-444e-a5e4-0309f92b3e76",
   "metadata": {},
   "outputs": [],
   "source": [
    "L2P9Q1 = MultipleChoice('1. Suppose my wardrobe consists of these items - Pants: jeans, slacks, and sweats - Tops: a polo, a button-down, a t-shirt, and a tank-top. \\nWhich Boolean operator would you use to create a statement about me wearing either jeans or slacks?',['And','Or','Not'],'Or')\n",
    "L2P9Q2 = MultipleChoice('2. Suppose my wardrobe consists of these items - Pants: jeans, slacks, and sweats - Tops: a polo, a button-down, a t-shirt, and a tank-top. \\nWhich Boolean operator would you use to create a statement about me wearing some sort of shirt other than a polo?',['And','Or','Not'],'Not')\n",
    "L2P9Q3 = MultipleChoice('3. Suppose my wardrobe consists of these items - Pants: jeans, slacks, and sweats - Tops: a polo, a button-down, a t-shirt, and a tank-top. \\nWhich Boolean operator would you use to create a statement about me wearing jeans and a t-shirt?',['And','Or','Not'],'And')"
   ]
  },
  {
   "cell_type": "code",
   "execution_count": 25,
   "id": "fc464f27-a85d-4bdd-835a-7e00c8998074",
   "metadata": {},
   "outputs": [
    {
     "data": {
      "application/vnd.jupyter.widget-view+json": {
       "model_id": "6ad82c7170074436b79b8b9f9fd073ab",
       "version_major": 2,
       "version_minor": 0
      },
      "text/plain": [
       "VBox(children=(Output(), RadioButtons(layout=Layout(width='max-content'), options=(('And', 0), ('Or', 1), ('No…"
      ]
     },
     "metadata": {},
     "output_type": "display_data"
    },
    {
     "data": {
      "application/vnd.jupyter.widget-view+json": {
       "model_id": "03ac5103e3124040905579349c6e148a",
       "version_major": 2,
       "version_minor": 0
      },
      "text/plain": [
       "VBox(children=(Output(), RadioButtons(layout=Layout(width='max-content'), options=(('And', 0), ('Or', 1), ('No…"
      ]
     },
     "metadata": {},
     "output_type": "display_data"
    },
    {
     "data": {
      "application/vnd.jupyter.widget-view+json": {
       "model_id": "918ed221722d458aa65489aa82b6ae11",
       "version_major": 2,
       "version_minor": 0
      },
      "text/plain": [
       "VBox(children=(Output(), RadioButtons(layout=Layout(width='max-content'), options=(('And', 0), ('Or', 1), ('No…"
      ]
     },
     "metadata": {},
     "output_type": "display_data"
    }
   ],
   "source": [
    "if __name__ == \"__main__\":\n",
    "    display(L2P9Q1, L2P9Q2, L2P9Q3)"
   ]
  },
  {
   "cell_type": "markdown",
   "id": "d63da683-1614-45ad-90ca-cab56e41a05b",
   "metadata": {},
   "source": [
    "## Page 10"
   ]
  },
  {
   "cell_type": "markdown",
   "id": "2920bbfe-f151-450a-b758-1c98109b8bbb",
   "metadata": {},
   "source": [
    "<img src=\"Media/l02-01.png\" alt=\"Drawing\" style=\"width: 500px;\"/>"
   ]
  },
  {
   "cell_type": "code",
   "execution_count": 26,
   "id": "605ca3e7-d4fa-4a54-8339-136586fe4beb",
   "metadata": {},
   "outputs": [],
   "source": [
    "L2P10Q1 = MultipleChoice('1. Consider the spinner shown above, with indicated portions of the circle and a 10-sided die with the numbers 1-10. \\nWhat is the probability of spinning red and rolling a 7?',['1/10','1/8','1/18', '1/80'],'1/80')\n",
    "L2P10Q2 = MultipleChoice('2. Consider the spinner and die shown above. \\nWhat is the probability of spinning blue and rolling an odd number?',['1/2','1/4','5/18', '1/8'],'1/4')"
   ]
  },
  {
   "cell_type": "code",
   "execution_count": 27,
   "id": "855a48f4-789d-4497-bd03-cd0da4ce5554",
   "metadata": {},
   "outputs": [
    {
     "data": {
      "application/vnd.jupyter.widget-view+json": {
       "model_id": "ac67275a4efc456788afa9391b44e5fd",
       "version_major": 2,
       "version_minor": 0
      },
      "text/plain": [
       "VBox(children=(Output(), RadioButtons(layout=Layout(width='max-content'), options=(('1/10', 0), ('1/8', 1), ('…"
      ]
     },
     "metadata": {},
     "output_type": "display_data"
    },
    {
     "data": {
      "application/vnd.jupyter.widget-view+json": {
       "model_id": "49519425ee8349549788036268b642fb",
       "version_major": 2,
       "version_minor": 0
      },
      "text/plain": [
       "VBox(children=(Output(), RadioButtons(layout=Layout(width='max-content'), options=(('1/2', 0), ('1/4', 1), ('5…"
      ]
     },
     "metadata": {},
     "output_type": "display_data"
    }
   ],
   "source": [
    "if __name__ == \"__main__\":\n",
    "    display(L2P10Q1, L2P10Q2)"
   ]
  },
  {
   "cell_type": "markdown",
   "id": "5aa0a7ad-86d9-4edc-b595-d2d7f6d63cab",
   "metadata": {},
   "source": [
    "## Page 11"
   ]
  },
  {
   "cell_type": "markdown",
   "id": "6b2b8ba2-d8a3-4378-a09b-960e89fb6efb",
   "metadata": {},
   "source": [
    "<img src=\"Media/l02-01.png\" alt=\"Drawing\" style=\"width: 500px;\"/>"
   ]
  },
  {
   "cell_type": "code",
   "execution_count": 28,
   "id": "ba97168a-8ac5-41e5-95f8-f1e945ad724a",
   "metadata": {},
   "outputs": [],
   "source": [
    "L2P11Q1 = MultipleChoice('1. Consider the die shown above. What is the probability of rolling an even number, or a 3, or a 5?',['7/10','0.07','7', '7%'],'7/10')"
   ]
  },
  {
   "cell_type": "code",
   "execution_count": 29,
   "id": "10dcc66c-b451-49e8-bf6b-243071da24af",
   "metadata": {},
   "outputs": [
    {
     "data": {
      "application/vnd.jupyter.widget-view+json": {
       "model_id": "a0dcf8067cb74e4cbe57ea59da1e8914",
       "version_major": 2,
       "version_minor": 0
      },
      "text/plain": [
       "VBox(children=(Output(), RadioButtons(layout=Layout(width='max-content'), options=(('7/10', 0), ('0.07', 1), (…"
      ]
     },
     "metadata": {},
     "output_type": "display_data"
    }
   ],
   "source": [
    "if __name__ == \"__main__\":\n",
    "    display(L2P11Q1)"
   ]
  },
  {
   "cell_type": "markdown",
   "id": "bf0bf7c7-e3de-4a72-861c-544595fea19e",
   "metadata": {},
   "source": [
    "## Page 12"
   ]
  },
  {
   "cell_type": "code",
   "execution_count": 30,
   "id": "256d54b8-8855-417c-a09e-0b3a54710a9c",
   "metadata": {},
   "outputs": [],
   "source": [
    "L2P12Q1 = MultipleChoice(\"1. You'd like to know the probability of a Chef listing your favorite meal (macaroni and cheese) on their specials board. Of course, you don't know how often the Chef serves macaroni and cheese, but you know the other dishes' probabilities on the specials board. They are listed above. \\nWhat is the probability of having macaroni and cheese on the specials board tonight?\",['60%','25%','20%', '2%'],'20%')\n",
    "L2P12Q2 = MultipleChoice(\"2. Your grandmother is visiting for your birthday, and you'd like to know how likely it is that she will give you money for your birthday instead of a present. There is a 72% chance your grandmother will shower you with a gift. \\nWhat is the probability that you will get money for your birthday instead?\",['28%','22%','72%', '70%'],'28%')"
   ]
  },
  {
   "cell_type": "markdown",
   "id": "2d07b445-6b70-499f-83f6-c41c770fe155",
   "metadata": {},
   "source": [
    "**Beef Wellington:** 10%\n",
    "\n",
    "**Chicken Kyiv:** 10%\n",
    "\n",
    "**Spaghetti and Meatballs:** 40%\n",
    "\n",
    "**Pot Roast:** 20%"
   ]
  },
  {
   "cell_type": "code",
   "execution_count": 31,
   "id": "e22fc446-19c0-4002-9e65-9b23fd90bdbe",
   "metadata": {},
   "outputs": [
    {
     "data": {
      "application/vnd.jupyter.widget-view+json": {
       "model_id": "97ac2a94043a49cbb6d51b78d49633e8",
       "version_major": 2,
       "version_minor": 0
      },
      "text/plain": [
       "VBox(children=(Output(), RadioButtons(layout=Layout(width='max-content'), options=(('60%', 0), ('25%', 1), ('2…"
      ]
     },
     "metadata": {},
     "output_type": "display_data"
    },
    {
     "data": {
      "application/vnd.jupyter.widget-view+json": {
       "model_id": "8202c1c0cc104782b2a61d67eb5242f5",
       "version_major": 2,
       "version_minor": 0
      },
      "text/plain": [
       "VBox(children=(Output(), RadioButtons(layout=Layout(width='max-content'), options=(('28%', 0), ('22%', 1), ('7…"
      ]
     },
     "metadata": {},
     "output_type": "display_data"
    }
   ],
   "source": [
    "if __name__ == \"__main__\":\n",
    "    display(L2P12Q1, L2P12Q2)"
   ]
  },
  {
   "cell_type": "markdown",
   "id": "9cae9bb7-15ec-4d63-a700-598c67a9bd21",
   "metadata": {},
   "source": [
    "## Page 13"
   ]
  },
  {
   "cell_type": "code",
   "execution_count": 32,
   "id": "cef80256-0620-40fd-98a5-14219c889c47",
   "metadata": {},
   "outputs": [],
   "source": [
    "L2P13Q1 = MultipleChoice('1. Which of the following situations is most likely not mutually exclusive?',['A group of people get a gift as an award, and they choose between a blender, a toaster oven, and a mixer','Prospective employees are asked to choose their greatest strength','Diners are asked which cuisines they like', \"Parents are asked if they would prefer to be a teacher's aid for art or physical fitness\"],'Diners are asked which cuisines they like This situation allows them to choose more than one option')\n",
    "L2P13Q2 = MultipleChoice('1. What is the probability of drawing a seven or a diamond from a standard deck of cards?',['8%','33%','31%', '25%'],'31%')"
   ]
  },
  {
   "cell_type": "code",
   "execution_count": 33,
   "id": "14dd94c5-a8eb-4b0e-aef1-4454af78d47d",
   "metadata": {},
   "outputs": [
    {
     "data": {
      "application/vnd.jupyter.widget-view+json": {
       "model_id": "b22ff410699146e2ad1d8f608b0034b5",
       "version_major": 2,
       "version_minor": 0
      },
      "text/plain": [
       "VBox(children=(Output(), RadioButtons(layout=Layout(width='max-content'), options=(('8%', 0), ('33%', 1), ('31…"
      ]
     },
     "metadata": {},
     "output_type": "display_data"
    }
   ],
   "source": [
    "if __name__ == \"__main__\":\n",
    "    display(L2P13Q2)"
   ]
  },
  {
   "cell_type": "markdown",
   "id": "d21f7914-d12d-4586-8755-6c02354392bc",
   "metadata": {},
   "source": [
    "## Page 14"
   ]
  },
  {
   "cell_type": "code",
   "execution_count": 34,
   "id": "c7996900-3f4f-402b-9426-7fde05119ea0",
   "metadata": {},
   "outputs": [],
   "source": [
    "L2P14Q1 = MultipleChoice('1. What is the probability of drawing three Jacks from a deck of cards without replacement?',['.00018','.25','.12', '.004'],'.00018')\n",
    "L2P14Q2 = MultipleChoice('2. From above, What is the probability of drawing out a knight and then the king without replacement?',['.78%','9.7%','9.4%', '0.83%'],'0.83%')"
   ]
  },
  {
   "cell_type": "code",
   "execution_count": 35,
   "id": "00a2b275-494a-4449-baaa-f138c42c5d98",
   "metadata": {},
   "outputs": [
    {
     "data": {
      "application/vnd.jupyter.widget-view+json": {
       "model_id": "602a045d85e447af9d1091296342a9ba",
       "version_major": 2,
       "version_minor": 0
      },
      "text/plain": [
       "VBox(children=(Output(), RadioButtons(layout=Layout(width='max-content'), options=(('.00018', 0), ('.25', 1), …"
      ]
     },
     "metadata": {},
     "output_type": "display_data"
    }
   ],
   "source": [
    "if __name__ == \"__main__\":\n",
    "    display(L2P14Q1)"
   ]
  },
  {
   "cell_type": "markdown",
   "id": "cd46cd8e-5cad-4fb7-be62-d690e331f89e",
   "metadata": {},
   "source": [
    "**You have a bag filled with black chess pieces, There are:** 1 king, 1 queen, 2 knights, 2 bishops, 2 castles, 8 pawns"
   ]
  },
  {
   "cell_type": "code",
   "execution_count": 36,
   "id": "3121d233-52b4-4f09-afd8-84b8bafb5681",
   "metadata": {},
   "outputs": [
    {
     "data": {
      "application/vnd.jupyter.widget-view+json": {
       "model_id": "edba90d91451470390a03e2cd1cc8e26",
       "version_major": 2,
       "version_minor": 0
      },
      "text/plain": [
       "VBox(children=(Output(), RadioButtons(layout=Layout(width='max-content'), options=(('.78%', 0), ('9.7%', 1), (…"
      ]
     },
     "metadata": {},
     "output_type": "display_data"
    }
   ],
   "source": [
    "if __name__ == \"__main__\":\n",
    "    display(L2P14Q2)"
   ]
  },
  {
   "cell_type": "markdown",
   "id": "03bf1ec9-e764-4557-84a0-50b8d1d12535",
   "metadata": {},
   "source": [
    "## Page 15"
   ]
  },
  {
   "cell_type": "code",
   "execution_count": 37,
   "id": "4eb1019e-a7e6-47ef-b421-810850fa0e74",
   "metadata": {},
   "outputs": [],
   "source": [
    "L2P15Q1 = MultipleChoice('1. How do you know two things statistically differ from one another?',[\"Less than 10% chance, the results are the same\",'Less than a 5% chance the results are the same',\"You can't be ever sure\"],'Less than a 5% chance the results are the same')\n",
    "L2P15Q2 = MultipleChoice('2. What is probability called when it references statistical analysis?',[\"The name doesn't change\",'Stats probability','Alpha', 'p value', 'Both alpha and p value are used often'],'Both alpha and p value are used often')\n",
    "L2P15Q3 = MultipleChoice('3. What does the word random mean in data science?',[\"Equal chance of all members being selected\",'Something strange happened','Conversation changes quickly'],\"Equal chance of all members being selected\")"
   ]
  },
  {
   "cell_type": "code",
   "execution_count": 38,
   "id": "e08a3276-976a-46cd-806a-3230e15161e6",
   "metadata": {},
   "outputs": [
    {
     "data": {
      "application/vnd.jupyter.widget-view+json": {
       "model_id": "3abbb35cce5c4b5291703d06b6a6a5d6",
       "version_major": 2,
       "version_minor": 0
      },
      "text/plain": [
       "VBox(children=(Output(), RadioButtons(layout=Layout(width='max-content'), options=(('Less than 10% chance, the…"
      ]
     },
     "metadata": {},
     "output_type": "display_data"
    },
    {
     "data": {
      "application/vnd.jupyter.widget-view+json": {
       "model_id": "ddd39cd3e3d4471c95a5373c95417e7f",
       "version_major": 2,
       "version_minor": 0
      },
      "text/plain": [
       "VBox(children=(Output(), RadioButtons(layout=Layout(width='max-content'), options=((\"The name doesn't change\",…"
      ]
     },
     "metadata": {},
     "output_type": "display_data"
    },
    {
     "data": {
      "application/vnd.jupyter.widget-view+json": {
       "model_id": "22ae282cb7e0466ba6ad4387b90c37ef",
       "version_major": 2,
       "version_minor": 0
      },
      "text/plain": [
       "VBox(children=(Output(), RadioButtons(layout=Layout(width='max-content'), options=(('Equal chance of all membe…"
      ]
     },
     "metadata": {},
     "output_type": "display_data"
    }
   ],
   "source": [
    "if __name__ == \"__main__\":\n",
    "    display(L2P15Q1, L2P15Q2, L2P15Q3)"
   ]
  },
  {
   "cell_type": "markdown",
   "id": "7aa7a151-8510-41c0-a96a-8b07171a1919",
   "metadata": {},
   "source": [
    "## Lesson 3\n",
    "\n",
    "## Page 2\n",
    "\n",
    "**For the next three questions:** Novum Ice Cream has taken three of their most popular flavors of ice cream and sent several containers of each flavor to a local lab. They are looking for an independent evaluation of the fat content for the three flavors. They believe that the fat content is the same for each flavor. After doing the analysis, the lab sends the results back to Novum."
   ]
  },
  {
   "cell_type": "code",
   "execution_count": 39,
   "id": "3b719398-73e2-4072-8dd8-56b4e2ef5281",
   "metadata": {},
   "outputs": [],
   "source": [
    "L3P2Q1 = MC('1. What is the independent variable for this scenario?',['The different flavors of ice cream','The fat content of one flavor','The local lab doing the analysis', 'One container of ice cream'],'The different flavors of ice cream', cor='The test is being done on the flavors.', incor='')\n",
    "L3P2Q2 = MC('2. What is the dependent variable?',['The different flavors of ice cream','The fat content of the ice cream','The local lab doing the analysis', 'One flavor of ice cream'],'The fat content of the ice cream', cor='This is what is being measured as a result of the change in the independent variable.', incor='')\n",
    "L3P2Q3 = MC('3. After learning that all flavors are full of fat, Novum Ice Cream decides to experiment with fat content. They want to know whether ice cream will sell better with whole milk or fat-free.\\nWhat is the control group?',['Fat-free ice cream','Ice cream sales','Full-fat ice cream', 'Fat content'],'Full-fat ice cream', cor='The full-fat ice cream was the existing group; therefore, it is the control group.',incor='')"
   ]
  },
  {
   "cell_type": "code",
   "execution_count": 40,
   "id": "2cc61373-1e6a-4651-a920-db186d335281",
   "metadata": {},
   "outputs": [
    {
     "data": {
      "application/vnd.jupyter.widget-view+json": {
       "model_id": "74335f141bc841c7a0e61fb1fe435605",
       "version_major": 2,
       "version_minor": 0
      },
      "text/plain": [
       "VBox(children=(Output(), RadioButtons(layout=Layout(width='max-content'), options=(('The different flavors of …"
      ]
     },
     "metadata": {},
     "output_type": "display_data"
    },
    {
     "data": {
      "application/vnd.jupyter.widget-view+json": {
       "model_id": "b01bd8e2be3a410685056c160fd38e9c",
       "version_major": 2,
       "version_minor": 0
      },
      "text/plain": [
       "VBox(children=(Output(), RadioButtons(layout=Layout(width='max-content'), options=(('The different flavors of …"
      ]
     },
     "metadata": {},
     "output_type": "display_data"
    },
    {
     "data": {
      "application/vnd.jupyter.widget-view+json": {
       "model_id": "0234e67b4e2f484fb6800c5dc931f24f",
       "version_major": 2,
       "version_minor": 0
      },
      "text/plain": [
       "VBox(children=(Output(), RadioButtons(layout=Layout(width='max-content'), options=(('Fat-free ice cream', 0), …"
      ]
     },
     "metadata": {},
     "output_type": "display_data"
    }
   ],
   "source": [
    "if __name__ == \"__main__\":\n",
    "    display(L3P2Q1, L3P2Q2, L3P2Q3)"
   ]
  },
  {
   "cell_type": "markdown",
   "id": "b2b035d1-b3bb-4b4c-9ca3-2f2bd78969b9",
   "metadata": {},
   "source": [
    "## Page 3"
   ]
  },
  {
   "cell_type": "code",
   "execution_count": 41,
   "id": "73dcec54-58dd-418c-8669-43af565fc22d",
   "metadata": {},
   "outputs": [],
   "source": [
    "L3P3Q1 = MultipleChoice('1. Which research design is the most rigorous?',['Surveys','Quasi-experimental design','Experimental design', 'Observations'],'Experimental design')\n",
    "L3P3Q2 = MultipleChoice('2. What is the difference between the quasi-experimental and the experimental design?',[\"Experimental designs randomly assign people to conditions, quasi-experiments don't\",\"Quasi-experimental designs randomly assign people to conditions; experimental designs don't\",'Experimental designs are in the real world, quasi-experimental designs are in a controlled lab', 'Experimental designs are more common than quasi-experimental designs'],\"Experimental designs randomly assign people to conditions, quasi-experiments don't\")\n",
    "L3P3Q3 = MultipleChoice('3. Why are surveys and observational studies the least rigorous?',['No one does them anymore','They don\\'t examine anything over time','They are too common', 'Without control, you can\\'t prove a cause-and-effect relationship'],'Without control, you can\\'t prove a cause-and-effect relationship')\n",
    "L3P3Q4 = MC('4. A biologist wants to study the developmental differences in babies to determine how aging takes place. He wants to examine babies at 2 months, 4 months, and 6 months, and uses the same babies for each measurement. \\nWhat kind of longitudinal design is this?',['Cross-Sectional','Longitudinal','Cohort'],'Longitudinal', cor='A longitudinal design looks at the same people or things over time.', incor='')\n",
    "L3P3Q5 = MC('5. A biologist wants to study the developmental differences in babies to determine how aging takes place. He wants to examine babies at 2 months, 4 months, and 6 months, and uses the different babies of those ages all at the same time.\\nWhat kind of longitudinal design is this?',['Cross-Sectional','Longitudinal','Cohort'],'Cohort', cor='A cohort design looks at different people or things at different time points.', incor='')\n",
    "L3P3Q6 = MC('6. A biologist wants to study the developmental differences in babies to determine how aging takes place. He wants to examine babies at 2 months, 4 months, and 6 months. To minimize the burden on any one group of children, the biologist takes 2-month-old babies and studies them for 2 months, takes 4-month-old babies and studies them for 2 months, and 6-month-old babies and studies them for two months.\\nWhat kind of longitudinal design is this?',['Cross-Sectional','Longitudinal','Cohort'],'Cross-Sectional', cor='A cross-sectional design combines the longitudinal and Cohort designs to examine the same people or things at more than one-time point and have a different set of people or things at another time point.',incor='')"
   ]
  },
  {
   "cell_type": "code",
   "execution_count": 42,
   "id": "af0e9fba-df6b-47e6-b1d7-e406f6d01441",
   "metadata": {},
   "outputs": [
    {
     "data": {
      "application/vnd.jupyter.widget-view+json": {
       "model_id": "2e6bdbafb1564deab424b124c083d987",
       "version_major": 2,
       "version_minor": 0
      },
      "text/plain": [
       "VBox(children=(Output(), RadioButtons(layout=Layout(width='max-content'), options=(('Surveys', 0), ('Quasi-exp…"
      ]
     },
     "metadata": {},
     "output_type": "display_data"
    },
    {
     "data": {
      "application/vnd.jupyter.widget-view+json": {
       "model_id": "5657243e97b9452fa24e5cbcb4cf79e6",
       "version_major": 2,
       "version_minor": 0
      },
      "text/plain": [
       "VBox(children=(Output(), RadioButtons(layout=Layout(width='max-content'), options=((\"Experimental designs rand…"
      ]
     },
     "metadata": {},
     "output_type": "display_data"
    },
    {
     "data": {
      "application/vnd.jupyter.widget-view+json": {
       "model_id": "9542927e9b4a4f39ab53d2a99db970e6",
       "version_major": 2,
       "version_minor": 0
      },
      "text/plain": [
       "VBox(children=(Output(), RadioButtons(layout=Layout(width='max-content'), options=(('No one does them anymore'…"
      ]
     },
     "metadata": {},
     "output_type": "display_data"
    },
    {
     "data": {
      "application/vnd.jupyter.widget-view+json": {
       "model_id": "43ac16a8ae9c4894bf41205f643ef9d7",
       "version_major": 2,
       "version_minor": 0
      },
      "text/plain": [
       "VBox(children=(Output(), RadioButtons(layout=Layout(width='max-content'), options=(('Cross-Sectional', 0), ('L…"
      ]
     },
     "metadata": {},
     "output_type": "display_data"
    },
    {
     "data": {
      "application/vnd.jupyter.widget-view+json": {
       "model_id": "9a174138657f47659cc93f3410367b5e",
       "version_major": 2,
       "version_minor": 0
      },
      "text/plain": [
       "VBox(children=(Output(), RadioButtons(layout=Layout(width='max-content'), options=(('Cross-Sectional', 0), ('L…"
      ]
     },
     "metadata": {},
     "output_type": "display_data"
    },
    {
     "data": {
      "application/vnd.jupyter.widget-view+json": {
       "model_id": "7aea3c2c0f0347dfb32fef67c8f3305a",
       "version_major": 2,
       "version_minor": 0
      },
      "text/plain": [
       "VBox(children=(Output(), RadioButtons(layout=Layout(width='max-content'), options=(('Cross-Sectional', 0), ('L…"
      ]
     },
     "metadata": {},
     "output_type": "display_data"
    }
   ],
   "source": [
    "if __name__ == \"__main__\":\n",
    "    display(L3P3Q1, L3P3Q2, L3P3Q3, L3P3Q4, L3P3Q5, L3P3Q6)"
   ]
  },
  {
   "cell_type": "markdown",
   "id": "b7a7b6bc-4a35-4c08-8ab5-9a5001dd8953",
   "metadata": {
    "tags": []
   },
   "source": [
    "## Page 4"
   ]
  },
  {
   "cell_type": "code",
   "execution_count": 43,
   "id": "25881438-ed62-4953-a0e2-26d41a63f220",
   "metadata": {},
   "outputs": [],
   "source": [
    "L3P4Q1 = MC('1. You are looking at the jersey numbers on the backs of the football team players:',['This is a quantitative variable','This is a categorical variable','This is an ordinal variable'],'This is a categorical variable', cor='Even though the information on a jersey has a number in it, this is categorical because it represents a player. You couldn\\'t do the math on the jersey numbers and get any meaningful information out of it.',incor='')\n",
    "L3P4Q2 = MC('2. You read an article about the ten best \"sleeper\" movies of the year, in order from worst to best:',['This is a quantitative variable','This is a categorical variable','This is an ordinal variable'],'This is an ordinal variable', cor='Since this list is ordered, it is ordinal, not categorical.',incor='')\n",
    "L3P4Q3 = MC('3. You read an article about the ten best \"sleeper\" movies of the year, but the writer says they are \"in no particular order\":',['This is a quantitative variable','This is a categorical variable','This is an ordinal variable'],'This is a categorical variable',cor='Since this list is in no particular order, it is categorical, not ordinal.', incor='')\n",
    "L3P4Q4 = MC('4. This week\\'s coaches\\’ poll of the top 25 college football teams is released, and you are looking at the teams and their rankings:',['This is a quantitative variable','This is a categorical variable','This is an ordinal variable'],'This is an ordinal variable', cor='The list is ordered, making it ordinal, not categorical.', incor='')\n",
    "L3P4Q5 = MC('5. This week\\'s coaches\\’ poll of the top 25 college football teams is released, and you are looking at the number of votes give to each team:',['This is a quantitative variable','This is a categorical variable','This is an ordinal variable'],'This is a quantitative variable', cor='This is a number, which means it is quantitative.', incor='')\n",
    "L3P4Q6 = MC('6. You have a copy of the breakfast menu from your favorite greasy spoon, and there are 7 breakfast options:',['This is a quantitative variable','This is a categorical variable','This is an ordinal variable'],'This is a categorical variable', cor='There are no numbers involved, which means this can\\'t be quantitative. The breakfast items are not in order in any way, so this is categorical, not ordinal.',incor='')\n",
    "L3P4Q7 = MC('7. People on the street are asked to estimate the distance between them and a sign a few doors down the street:',['This is a quantitative variable','This is a categorical variable','This is an ordinal variable'],'This is a quantitative variable', cor='Distance can be measured with a number, so it is quantitative.',incor='')"
   ]
  },
  {
   "cell_type": "markdown",
   "id": "8679fc48-2555-4998-a115-d29f1ee485a6",
   "metadata": {},
   "source": [
    "**For the nex seven questions:** In each of the following situations, how would you categorize the variable?"
   ]
  },
  {
   "cell_type": "code",
   "execution_count": 44,
   "id": "c1337c1a-97bd-49a7-862c-98826a3bf616",
   "metadata": {},
   "outputs": [
    {
     "data": {
      "application/vnd.jupyter.widget-view+json": {
       "model_id": "c1d9fe16e54443e38c5ac887dd06c73b",
       "version_major": 2,
       "version_minor": 0
      },
      "text/plain": [
       "VBox(children=(Output(), RadioButtons(layout=Layout(width='max-content'), options=(('This is a quantitative va…"
      ]
     },
     "metadata": {},
     "output_type": "display_data"
    },
    {
     "data": {
      "application/vnd.jupyter.widget-view+json": {
       "model_id": "c7e5dbde64204e1dae6315e9208979c1",
       "version_major": 2,
       "version_minor": 0
      },
      "text/plain": [
       "VBox(children=(Output(), RadioButtons(layout=Layout(width='max-content'), options=(('This is a quantitative va…"
      ]
     },
     "metadata": {},
     "output_type": "display_data"
    },
    {
     "data": {
      "application/vnd.jupyter.widget-view+json": {
       "model_id": "857bb0109ab446e9b50164ae9599b180",
       "version_major": 2,
       "version_minor": 0
      },
      "text/plain": [
       "VBox(children=(Output(), RadioButtons(layout=Layout(width='max-content'), options=(('This is a quantitative va…"
      ]
     },
     "metadata": {},
     "output_type": "display_data"
    },
    {
     "data": {
      "application/vnd.jupyter.widget-view+json": {
       "model_id": "2f25a46399424ba6965701ba8a45056b",
       "version_major": 2,
       "version_minor": 0
      },
      "text/plain": [
       "VBox(children=(Output(), RadioButtons(layout=Layout(width='max-content'), options=(('This is a quantitative va…"
      ]
     },
     "metadata": {},
     "output_type": "display_data"
    },
    {
     "data": {
      "application/vnd.jupyter.widget-view+json": {
       "model_id": "a592b5d94396411c841f119a105a6f48",
       "version_major": 2,
       "version_minor": 0
      },
      "text/plain": [
       "VBox(children=(Output(), RadioButtons(layout=Layout(width='max-content'), options=(('This is a quantitative va…"
      ]
     },
     "metadata": {},
     "output_type": "display_data"
    },
    {
     "data": {
      "application/vnd.jupyter.widget-view+json": {
       "model_id": "d56fd5790dca4042a0acc56592b5b5c8",
       "version_major": 2,
       "version_minor": 0
      },
      "text/plain": [
       "VBox(children=(Output(), RadioButtons(layout=Layout(width='max-content'), options=(('This is a quantitative va…"
      ]
     },
     "metadata": {},
     "output_type": "display_data"
    },
    {
     "data": {
      "application/vnd.jupyter.widget-view+json": {
       "model_id": "3be479eac44646c0b7427321c5fc1cfa",
       "version_major": 2,
       "version_minor": 0
      },
      "text/plain": [
       "VBox(children=(Output(), RadioButtons(layout=Layout(width='max-content'), options=(('This is a quantitative va…"
      ]
     },
     "metadata": {},
     "output_type": "display_data"
    }
   ],
   "source": [
    "if __name__ == \"__main__\":\n",
    "    display(L3P4Q1, L3P4Q2, L3P4Q3, L3P4Q4, L3P4Q5, L3P4Q6, L3P4Q7)"
   ]
  },
  {
   "cell_type": "markdown",
   "id": "ac3cdd21-98d3-422e-9398-443dbbcbaf65",
   "metadata": {},
   "source": [
    "## Page 5"
   ]
  },
  {
   "cell_type": "code",
   "execution_count": 45,
   "id": "0e654523-f885-42c4-9f72-cad6e5533f7c",
   "metadata": {},
   "outputs": [],
   "source": [
    "L3P5Q1 = MultipleChoice('1. How would you recode someone\\'s height into categories?',['Small: Under 5\\'; Medium: 5\\'1\" to 5\\'7\"; Large: 5\\'8\" or More','Small, Medium, or Large','It is not appropriate to recode this data', 'Look at each person and make a snap judgement as to whether they seem short or tall'],'Small: Under 5\\'; Medium: 5\\'1\" to 5\\'7\"; Large: 5\\'8\" or More')\n",
    "L3P5Q2 = MC('2. True or False? It is easier to go from categorical to quantitative variables',['True','False'],'False', cor='Typically, you want to go from quantitative to categorical, because the quantitative variable is more precise and thus can be translated into categories. The categories are less precise than the quantitative, so something in a category has the possibility of being more than one number.', incor='')"
   ]
  },
  {
   "cell_type": "code",
   "execution_count": 46,
   "id": "498465c2-ccb5-4cd9-9b32-aa735dd67034",
   "metadata": {},
   "outputs": [
    {
     "data": {
      "application/vnd.jupyter.widget-view+json": {
       "model_id": "93697ede416f412abe3515b033908f2b",
       "version_major": 2,
       "version_minor": 0
      },
      "text/plain": [
       "VBox(children=(Output(), RadioButtons(layout=Layout(width='max-content'), options=(('Small: Under 5\\'; Medium:…"
      ]
     },
     "metadata": {},
     "output_type": "display_data"
    },
    {
     "data": {
      "application/vnd.jupyter.widget-view+json": {
       "model_id": "c990f760d1ee4ae2872c7866f05143ac",
       "version_major": 2,
       "version_minor": 0
      },
      "text/plain": [
       "VBox(children=(Output(), RadioButtons(layout=Layout(width='max-content'), options=(('True', 0), ('False', 1)),…"
      ]
     },
     "metadata": {},
     "output_type": "display_data"
    }
   ],
   "source": [
    "if __name__ == \"__main__\":\n",
    "    display(L3P5Q1, L3P5Q2)"
   ]
  },
  {
   "cell_type": "markdown",
   "id": "27641477-debd-4503-8ee2-9d30a6ec9c1f",
   "metadata": {},
   "source": [
    "## Page 6"
   ]
  },
  {
   "cell_type": "code",
   "execution_count": 47,
   "id": "71b60929-bd03-4910-99d0-e56fe3a94a9b",
   "metadata": {},
   "outputs": [],
   "source": [
    "L3P6Q1 = MultipleChoice('1. What is the difference between an ordinal and a categorical variable?',['An ordinal variable uses rank-ordered data, and categorical variables do not','An ordinal variable doesn\\'t use rank-ordered data; categorical does','Ordinal data is quantitative, categorical is qualitative', 'Ordinal data is qualitative, categorical is quantitative'],'An ordinal variable uses rank-ordered data, and categorical variables do not')\n",
    "L3P6Q2 = MC('2. Which of the following is an example of ordinal data?',['Age in years','Gender','Rankings of runners in a race', 'Written sentences about education equality'],'Rankings of runners in a race', cor='Since you are ordering the runners, this would be ordinal, not categorical.',incor='')"
   ]
  },
  {
   "cell_type": "code",
   "execution_count": 48,
   "id": "77d4254b-8931-4292-831d-ba017f60c3fc",
   "metadata": {},
   "outputs": [
    {
     "data": {
      "application/vnd.jupyter.widget-view+json": {
       "model_id": "5576be603b5946518b4ecedcb140efa1",
       "version_major": 2,
       "version_minor": 0
      },
      "text/plain": [
       "VBox(children=(Output(), RadioButtons(layout=Layout(width='max-content'), options=(('An ordinal variable uses …"
      ]
     },
     "metadata": {},
     "output_type": "display_data"
    },
    {
     "data": {
      "application/vnd.jupyter.widget-view+json": {
       "model_id": "39da0f93af2743b3a69245476d1ad763",
       "version_major": 2,
       "version_minor": 0
      },
      "text/plain": [
       "VBox(children=(Output(), RadioButtons(layout=Layout(width='max-content'), options=(('Age in years', 0), ('Gend…"
      ]
     },
     "metadata": {},
     "output_type": "display_data"
    }
   ],
   "source": [
    "if __name__ == \"__main__\":\n",
    "    display(L3P6Q1, L3P6Q2)"
   ]
  },
  {
   "cell_type": "markdown",
   "id": "f81476df-1308-4a66-afc4-ad5314e35b7b",
   "metadata": {},
   "source": [
    "## Page 7"
   ]
  },
  {
   "cell_type": "code",
   "execution_count": 49,
   "id": "be51cd2e-56a0-4499-8372-10c24f8f0f89",
   "metadata": {},
   "outputs": [],
   "source": [
    "L3P7Q1 = MC('1. Please state whether the variable is discrete or continuous. Measurement of cheese wheels',['Discrete','Continuous'],'Continuous', cor='This is continuous because you can have half a cheese wheel.', incor='Sorry.. Try again!!')\n",
    "L3P7Q2 = MC('2. Please state whether the variable is discrete or continuous. Number of dogs you own',['Discrete','Continuous'],'Discrete', cor='It is impossible to have half a dog, so this is discrete.', incor='Sorry.. Try again!!')\n",
    "L3P7Q3 = MC('3. Please state whether the variable is discrete or continuous. Time it takes to gulp down a glass of milk',['Discrete','Continuous'],'Continuous', cor='You can have time on a continuum (for instance, part of a second), so it is continuous.', incor='Sorry.. Try again!!')"
   ]
  },
  {
   "cell_type": "code",
   "execution_count": 50,
   "id": "68ec9db8-8fe1-48f1-8d7f-9d21a884d99a",
   "metadata": {},
   "outputs": [
    {
     "data": {
      "application/vnd.jupyter.widget-view+json": {
       "model_id": "bf5708422d9849dc9f73c50d13d4286f",
       "version_major": 2,
       "version_minor": 0
      },
      "text/plain": [
       "VBox(children=(Output(), RadioButtons(layout=Layout(width='max-content'), options=(('Discrete', 0), ('Continuo…"
      ]
     },
     "metadata": {},
     "output_type": "display_data"
    },
    {
     "data": {
      "application/vnd.jupyter.widget-view+json": {
       "model_id": "d9c2953f7ab944c5aeea5e3f10a8f4cb",
       "version_major": 2,
       "version_minor": 0
      },
      "text/plain": [
       "VBox(children=(Output(), RadioButtons(layout=Layout(width='max-content'), options=(('Discrete', 0), ('Continuo…"
      ]
     },
     "metadata": {},
     "output_type": "display_data"
    },
    {
     "data": {
      "application/vnd.jupyter.widget-view+json": {
       "model_id": "c5b05a84c1c44e1e92d2b068b50c11ae",
       "version_major": 2,
       "version_minor": 0
      },
      "text/plain": [
       "VBox(children=(Output(), RadioButtons(layout=Layout(width='max-content'), options=(('Discrete', 0), ('Continuo…"
      ]
     },
     "metadata": {},
     "output_type": "display_data"
    }
   ],
   "source": [
    "if __name__ == \"__main__\":\n",
    "    display(L3P7Q1, L3P7Q2, L3P7Q3)"
   ]
  },
  {
   "cell_type": "markdown",
   "id": "719efa58-168e-43a3-9dca-85ad6103c896",
   "metadata": {},
   "source": [
    "## Lesson 3 Exam\n",
    "### Page 9\n",
    "##### Below is an exam to review the recently covered material. This exam is not graded. Please feel free to refer to your notes or the curriculum since you don't have to memorize everything in the real world - as long as you know where to find information!"
   ]
  },
  {
   "cell_type": "code",
   "execution_count": 51,
   "id": "7c263b8d-dd3d-4be1-aa74-f5b06f6ad4c3",
   "metadata": {},
   "outputs": [],
   "source": [
    "L3P9Q1 = MC('1. Is type of rock a categorical, quantitative, or ordinal variable type?',['Categorical','Quantitative','Ordinal'],'Categorical', cor='Type of rock can be grouped, not in order, so it is categorical.', incor='')\n",
    "L3P9Q2 = MC('2. Is speed of a car a categorical, quantitative, or ordinal variable type?',['Categorical','Quantitative','Ordinal'],'Quantitative', cor='Speed is a number, so it is quantitative.', incor='')\n",
    "L3P9Q3 = MC('3. Is the state you live in a categorical, quantitative, or ordinal variable type?',['Categorical','Quantitative','Ordinal'],'Categorical', cor='State is a category and not numeric, so it is categorical.', incor='')\n",
    "L3P9Q4 = MC('4. Is height of buildings in a city block a categorical, quantitative, or ordinal variable type?',['Categorical','Quantitative','Ordinal'],'Quantitative', cor='Height is a number and can be measured, so it is quantitative.', incor='')\n",
    "L3P9Q5 = MC('5. Is the \"hot\" scale for peppers a categorical, quantitative, or ordinal variable type?',['Categorical','Quantitative','Ordinal'],'Ordinal', cor='Because there is the hottest pepper and a least hot pepper, this is an ordered list, which means it is an ordinal variable.', incor='')\n",
    "L3P9Q6 = MC('6. Is weight of newborn babies a categorical, quantitative, or ordinal variable type?',['Categorical','Quantitative','Ordinal'],'Quantitative', cor='Weight is a number and can be measured, so it is quantitative.', incor='')\n",
    "L3P9Q7 = MC('7. Is socio-economic class a categorical, quantitative, or ordinal variable type?',['Categorical','Quantitative','Ordinal'],'Ordinal', cor='Because upper, middle, and lower classes can appear in a specific order, thus making this is an ordinal variable, not a categorical one.', incor='')\n",
    "L3P9Q8 = MultipleChoice('8. Look at the following situation, and determine which best describes the data conversion. \\nIn a cooking class, students have self-identified as excellent cooks, average cooks, or poor cooks by preparing their best dishes for a judge. Then, the judges determine which is the best dish.',['Quantitative to categorical','Categorical to quantitative','Both of the above','Neither of the above'],'Neither of the above')\n",
    "L3P9Q9 = MC('9. Look at the following situation, and determine which best describes the data conversion: \\nUsing a stopwatch, a teacher measures the time it takes for each student\\'s paper airplane to hit the ground after being dropped from the top of the bleachers. After counting 140 drops, the teacher reports the results in the following groups: \"like a rock,\" \"got lucky because of an updraft,\" and \"would make Orville and Wilbur proud.\"',['Quantitative to categorical','Categorical to quantitative','Both of the above','Neither of the above'],'Quantitative to categorical', cor='This starts as a quantitative measurement of time and then is converted into categories.', incor='')"
   ]
  },
  {
   "cell_type": "code",
   "execution_count": 52,
   "id": "1476772c-c595-4bae-894e-c449431562ba",
   "metadata": {},
   "outputs": [
    {
     "data": {
      "application/vnd.jupyter.widget-view+json": {
       "model_id": "2fa1d48a20a64af3a7b072c3f5331caf",
       "version_major": 2,
       "version_minor": 0
      },
      "text/plain": [
       "VBox(children=(Output(), RadioButtons(layout=Layout(width='max-content'), options=(('Categorical', 0), ('Quant…"
      ]
     },
     "metadata": {},
     "output_type": "display_data"
    },
    {
     "data": {
      "application/vnd.jupyter.widget-view+json": {
       "model_id": "efc91a1c3a574b87835a5ea78cb358cc",
       "version_major": 2,
       "version_minor": 0
      },
      "text/plain": [
       "VBox(children=(Output(), RadioButtons(layout=Layout(width='max-content'), options=(('Categorical', 0), ('Quant…"
      ]
     },
     "metadata": {},
     "output_type": "display_data"
    },
    {
     "data": {
      "application/vnd.jupyter.widget-view+json": {
       "model_id": "cee3f42451e741f3b884f431f58cb9af",
       "version_major": 2,
       "version_minor": 0
      },
      "text/plain": [
       "VBox(children=(Output(), RadioButtons(layout=Layout(width='max-content'), options=(('Categorical', 0), ('Quant…"
      ]
     },
     "metadata": {},
     "output_type": "display_data"
    },
    {
     "data": {
      "application/vnd.jupyter.widget-view+json": {
       "model_id": "75ceef7bf23640d1abae4c9eb6b593b5",
       "version_major": 2,
       "version_minor": 0
      },
      "text/plain": [
       "VBox(children=(Output(), RadioButtons(layout=Layout(width='max-content'), options=(('Categorical', 0), ('Quant…"
      ]
     },
     "metadata": {},
     "output_type": "display_data"
    },
    {
     "data": {
      "application/vnd.jupyter.widget-view+json": {
       "model_id": "f77c8d36c5c24d66938f61bbea9bf2c0",
       "version_major": 2,
       "version_minor": 0
      },
      "text/plain": [
       "VBox(children=(Output(), RadioButtons(layout=Layout(width='max-content'), options=(('Categorical', 0), ('Quant…"
      ]
     },
     "metadata": {},
     "output_type": "display_data"
    },
    {
     "data": {
      "application/vnd.jupyter.widget-view+json": {
       "model_id": "99bce3ff127d4239a2ba4365d934e73e",
       "version_major": 2,
       "version_minor": 0
      },
      "text/plain": [
       "VBox(children=(Output(), RadioButtons(layout=Layout(width='max-content'), options=(('Categorical', 0), ('Quant…"
      ]
     },
     "metadata": {},
     "output_type": "display_data"
    },
    {
     "data": {
      "application/vnd.jupyter.widget-view+json": {
       "model_id": "2df6b5818ce8482d9b2cb16ce80d3175",
       "version_major": 2,
       "version_minor": 0
      },
      "text/plain": [
       "VBox(children=(Output(), RadioButtons(layout=Layout(width='max-content'), options=(('Categorical', 0), ('Quant…"
      ]
     },
     "metadata": {},
     "output_type": "display_data"
    },
    {
     "data": {
      "application/vnd.jupyter.widget-view+json": {
       "model_id": "f56fbe27e0154fa28781cbfa0c4ce1ee",
       "version_major": 2,
       "version_minor": 0
      },
      "text/plain": [
       "VBox(children=(Output(), RadioButtons(layout=Layout(width='max-content'), options=(('Quantitative to categoric…"
      ]
     },
     "metadata": {},
     "output_type": "display_data"
    },
    {
     "data": {
      "application/vnd.jupyter.widget-view+json": {
       "model_id": "9c8f847dfc6843ebb39d37149720c0d9",
       "version_major": 2,
       "version_minor": 0
      },
      "text/plain": [
       "VBox(children=(Output(), RadioButtons(layout=Layout(width='max-content'), options=(('Quantitative to categoric…"
      ]
     },
     "metadata": {},
     "output_type": "display_data"
    }
   ],
   "source": [
    "if __name__ == \"__main__\":\n",
    "    display(L3P9Q1, L3P9Q2, L3P9Q3, L3P9Q4, L3P9Q5, L3P9Q6, L3P9Q7, L3P9Q8, L3P9Q9)"
   ]
  },
  {
   "cell_type": "markdown",
   "id": "29c9b6be-4d57-46d0-b421-6ae371794622",
   "metadata": {},
   "source": [
    "## Lesson 4\n",
    "\n",
    "## Page 2"
   ]
  },
  {
   "cell_type": "code",
   "execution_count": 53,
   "id": "162d8148-c1cf-452c-b1ab-2ffad5fcb12a",
   "metadata": {},
   "outputs": [],
   "source": [
    "L4P2Q1 = MultipleChoice('1. To what does the word parameter refer?',['Population','Sample'],'Population')\n",
    "L4P2Q2 = MultipleChoice('2. To what does the word statistic refer?',['Population','Sample'],'Sample')\n",
    "L4P2Q3 = MultipleChoice('3. When would you use inferential statistics?',['When drawing conclusions about your data','When describing your data','When taking a sample from your data', 'When you are using a population parameter'],'When drawing conclusions about your data')\n",
    "L4P2Q4 = MultipleChoice('4. When would you use descriptive statistics?',['When drawing conclusions about your data','When describing your data','When taking a sample from your data', 'When you are using a population parameter'],'When describing your data')"
   ]
  },
  {
   "cell_type": "code",
   "execution_count": 54,
   "id": "71b58ccd-de7e-4e6a-b4af-2a3edf4fed2b",
   "metadata": {},
   "outputs": [
    {
     "data": {
      "application/vnd.jupyter.widget-view+json": {
       "model_id": "1376dcf9e171431e8db9edd231f3e580",
       "version_major": 2,
       "version_minor": 0
      },
      "text/plain": [
       "VBox(children=(Output(), RadioButtons(layout=Layout(width='max-content'), options=(('Population', 0), ('Sample…"
      ]
     },
     "metadata": {},
     "output_type": "display_data"
    },
    {
     "data": {
      "application/vnd.jupyter.widget-view+json": {
       "model_id": "6ad50dcc8ade437f933bfc8b12ac9609",
       "version_major": 2,
       "version_minor": 0
      },
      "text/plain": [
       "VBox(children=(Output(), RadioButtons(layout=Layout(width='max-content'), options=(('Population', 0), ('Sample…"
      ]
     },
     "metadata": {},
     "output_type": "display_data"
    },
    {
     "data": {
      "application/vnd.jupyter.widget-view+json": {
       "model_id": "c4a5a6200f454f978805a1d41a368897",
       "version_major": 2,
       "version_minor": 0
      },
      "text/plain": [
       "VBox(children=(Output(), RadioButtons(layout=Layout(width='max-content'), options=(('When drawing conclusions …"
      ]
     },
     "metadata": {},
     "output_type": "display_data"
    },
    {
     "data": {
      "application/vnd.jupyter.widget-view+json": {
       "model_id": "97997d219bc744ec8ef544fd9907f659",
       "version_major": 2,
       "version_minor": 0
      },
      "text/plain": [
       "VBox(children=(Output(), RadioButtons(layout=Layout(width='max-content'), options=(('When drawing conclusions …"
      ]
     },
     "metadata": {},
     "output_type": "display_data"
    }
   ],
   "source": [
    "if __name__ == \"__main__\":\n",
    "    display(L4P2Q1, L4P2Q2, L4P2Q3, L4P2Q4)"
   ]
  },
  {
   "cell_type": "markdown",
   "id": "916e8a24-b3bf-4cf6-9c8c-3af3f6f60601",
   "metadata": {},
   "source": [
    "## Page 3"
   ]
  },
  {
   "cell_type": "code",
   "execution_count": 55,
   "id": "e4fb0703-1981-4787-9ed9-05f1ef9a5e2f",
   "metadata": {},
   "outputs": [],
   "source": [
    "L4P3Q1 = MultipleChoice('1. How do you calculate the mean for a categorical variable?',['Add up all the responses and divide by the number of responses','The mean of a categorical variable cannot be calculated','Find the probability of each occurring and then multiply by the discrete number in the question and add up the totals', 'Add up all the responses'],'The mean of a categorical variable cannot be calculated')\n",
    "L4P3Q2 = MC('2. A carpenter wants to make sure he has all his boards cut correctly. He measures the same board three different times and then takes the average. Given the following measurements, what is the average board length?',['3','18','6.1', '6'],'6', cor='6 + 6.1 + 5.9 = 18, 18 / 3 = 6', incor='')\n",
    "L4P3Q3 = MultipleChoice('3. What is the mode?',['The height of fashion','The addition of all numbers together divided by the number of numbers','The middle of the dataset', 'The most frequent number in a dataset'],'The most frequent number in a dataset')\n",
    "L4P3Q4 = MultipleChoice('4. What is the median?',['The weighted addition of all numbers divided by the total','The addition of all numbers together divided by the number of numbers','The middle of the dataset', 'The most frequent number in a dataset'],'The middle of the dataset')"
   ]
  },
  {
   "cell_type": "code",
   "execution_count": 56,
   "id": "8d691a32-2108-447f-a6be-9968c547af0f",
   "metadata": {},
   "outputs": [
    {
     "data": {
      "application/vnd.jupyter.widget-view+json": {
       "model_id": "dce0964e2a4c4f1e9e2b7bb66cda6b5d",
       "version_major": 2,
       "version_minor": 0
      },
      "text/plain": [
       "VBox(children=(Output(), RadioButtons(layout=Layout(width='max-content'), options=(('Add up all the responses …"
      ]
     },
     "metadata": {},
     "output_type": "display_data"
    },
    {
     "data": {
      "application/vnd.jupyter.widget-view+json": {
       "model_id": "031543561d4749cebe6cb76561cf1d71",
       "version_major": 2,
       "version_minor": 0
      },
      "text/plain": [
       "VBox(children=(Output(), RadioButtons(layout=Layout(width='max-content'), options=(('3', 0), ('18', 1), ('6.1'…"
      ]
     },
     "metadata": {},
     "output_type": "display_data"
    }
   ],
   "source": [
    "if __name__ == \"__main__\":\n",
    "    display(L4P3Q1, L4P3Q2)"
   ]
  },
  {
   "cell_type": "markdown",
   "id": "9932479a-bd67-4c24-b980-afd248c28a3d",
   "metadata": {},
   "source": [
    "A carpenter wants to make sure he has all his boards cut correctly. He measures the same board three different times and then takes the average. Given the following measurements, what is the average board length?\n",
    "\n",
    "**6**\n",
    "\n",
    "**6.1**\n",
    "\n",
    "**5.9**"
   ]
  },
  {
   "cell_type": "code",
   "execution_count": 57,
   "id": "a82c4f08-6269-4677-a884-5926f1f890ad",
   "metadata": {},
   "outputs": [
    {
     "data": {
      "application/vnd.jupyter.widget-view+json": {
       "model_id": "f4fc7408b71240e68ce539af6e2ebcd6",
       "version_major": 2,
       "version_minor": 0
      },
      "text/plain": [
       "VBox(children=(Output(), RadioButtons(layout=Layout(width='max-content'), options=(('The height of fashion', 0…"
      ]
     },
     "metadata": {},
     "output_type": "display_data"
    },
    {
     "data": {
      "application/vnd.jupyter.widget-view+json": {
       "model_id": "3f22df8c10c8485f81a72676d2279f2b",
       "version_major": 2,
       "version_minor": 0
      },
      "text/plain": [
       "VBox(children=(Output(), RadioButtons(layout=Layout(width='max-content'), options=(('The weighted addition of …"
      ]
     },
     "metadata": {},
     "output_type": "display_data"
    }
   ],
   "source": [
    "if __name__ == \"__main__\":\n",
    "    display(L4P3Q3, L4P3Q4)"
   ]
  },
  {
   "cell_type": "markdown",
   "id": "e55be1d5-12cd-45af-bdf8-8a19b49cb225",
   "metadata": {},
   "source": [
    "## Page 6"
   ]
  },
  {
   "cell_type": "code",
   "execution_count": 58,
   "id": "450c04d0-d818-4e2b-b28d-2bb691531fb6",
   "metadata": {},
   "outputs": [],
   "source": [
    "L4P6Q1 = MultipleChoice('1. How is the range calculated?',['By subtracting the minimum value from the maximum value','By subtracting the maximum value from the minimum value','By subtracting the third quartile from the first quartile', 'By subtracting the first quartile from the third quartile'],'By subtracting the minimum value from the maximum value')\n",
    "L4P6Q2 = MultipleChoice('2. What is the advantage of the inter-quartile range compared to the range?',['It looks at the average change in data','It can be graphed with a box-and-whisker plot','It is more stable because it does not take into account outliers'],'It is more stable because it does not take into account outliers')\n",
    "L4P6Q3 = MultipleChoice('3. How are variance and standard deviation related?',['Standard deviation is the square of variance','Variance is the square of standard deviation','Variance is the square root of standard deviation', 'Only standard deviation looks at the sum of the differences'],'Variance is the square of standard deviation')\n",
    "L4P6Q4 = MultipleChoice('4. What is the advantage of the inter-quartile range compared to the range?',['It looks at the average change in data','A box-and-whisker plot graph','It is more stable because it does not take into account outliers'],'It is more stable because it does not take into account outliers')\n",
    "L4P6Q5 = MultipleChoice('5. How are variance and standard deviation related?',['Standard deviation is the square of variance','Variance is the square of standard deviation','Variance is the square root of standard deviation', 'Only standard deviation looks at the sum of the differences'],'Variance is the square of standard deviation')"
   ]
  },
  {
   "cell_type": "code",
   "execution_count": 59,
   "id": "8ccf723c-c887-4a15-b329-a97fa83d3bb5",
   "metadata": {},
   "outputs": [
    {
     "data": {
      "application/vnd.jupyter.widget-view+json": {
       "model_id": "b4e24ad3c1164252a83b4b5f8ce0bb43",
       "version_major": 2,
       "version_minor": 0
      },
      "text/plain": [
       "VBox(children=(Output(), RadioButtons(layout=Layout(width='max-content'), options=(('By subtracting the minimu…"
      ]
     },
     "metadata": {},
     "output_type": "display_data"
    },
    {
     "data": {
      "application/vnd.jupyter.widget-view+json": {
       "model_id": "dccb5f20a51a435b8f4c083b51ba512d",
       "version_major": 2,
       "version_minor": 0
      },
      "text/plain": [
       "VBox(children=(Output(), RadioButtons(layout=Layout(width='max-content'), options=(('It looks at the average c…"
      ]
     },
     "metadata": {},
     "output_type": "display_data"
    },
    {
     "data": {
      "application/vnd.jupyter.widget-view+json": {
       "model_id": "5d8bb6be9fb643dbaeaeaae4d4ce9539",
       "version_major": 2,
       "version_minor": 0
      },
      "text/plain": [
       "VBox(children=(Output(), RadioButtons(layout=Layout(width='max-content'), options=(('Standard deviation is the…"
      ]
     },
     "metadata": {},
     "output_type": "display_data"
    },
    {
     "data": {
      "application/vnd.jupyter.widget-view+json": {
       "model_id": "2f537ba293f8405daedec40dc0fffe76",
       "version_major": 2,
       "version_minor": 0
      },
      "text/plain": [
       "VBox(children=(Output(), RadioButtons(layout=Layout(width='max-content'), options=(('It looks at the average c…"
      ]
     },
     "metadata": {},
     "output_type": "display_data"
    },
    {
     "data": {
      "application/vnd.jupyter.widget-view+json": {
       "model_id": "067a690d6e3f49f69a2657335015a4ad",
       "version_major": 2,
       "version_minor": 0
      },
      "text/plain": [
       "VBox(children=(Output(), RadioButtons(layout=Layout(width='max-content'), options=(('Standard deviation is the…"
      ]
     },
     "metadata": {},
     "output_type": "display_data"
    }
   ],
   "source": [
    "if __name__ == \"__main__\":\n",
    "    display(L4P6Q1, L4P6Q2, L4P6Q3, L4P6Q4, L4P6Q5)"
   ]
  },
  {
   "cell_type": "markdown",
   "id": "b77b4867-f55b-4c79-afea-0fdf385a502a",
   "metadata": {},
   "source": [
    "## Page 9"
   ]
  },
  {
   "cell_type": "code",
   "execution_count": 60,
   "id": "d3b08fd9-4f3d-415a-b2e5-cdf43001e85d",
   "metadata": {},
   "outputs": [],
   "source": [
    "L4P9Q1 = MultipleChoice('1. What does a confidence interval represent?',['The variance','The population mean','The amount of error that estimated on either side of the mean', 'The amount of change that expected'],'The amount of error that estimated on either side of the mean')"
   ]
  },
  {
   "cell_type": "code",
   "execution_count": 61,
   "id": "a8b209a6-9643-4d7b-a706-ccfd87e4bff9",
   "metadata": {},
   "outputs": [
    {
     "data": {
      "application/vnd.jupyter.widget-view+json": {
       "model_id": "f7bc0c90874c482d84406314b2304078",
       "version_major": 2,
       "version_minor": 0
      },
      "text/plain": [
       "VBox(children=(Output(), RadioButtons(layout=Layout(width='max-content'), options=(('The variance', 0), ('The …"
      ]
     },
     "metadata": {},
     "output_type": "display_data"
    }
   ],
   "source": [
    "if __name__ == \"__main__\":\n",
    "    display(L4P9Q1)"
   ]
  },
  {
   "cell_type": "markdown",
   "id": "d72c7912-107d-4d2f-8e72-f80a1fdcdceb",
   "metadata": {},
   "source": [
    "## Page 10"
   ]
  },
  {
   "cell_type": "code",
   "execution_count": 62,
   "id": "dd6923ec-863c-456e-b184-2227f413324f",
   "metadata": {},
   "outputs": [],
   "source": [
    "L4P10Q1 = MultipleChoice('1. How would you report on a categorical variable?',['Using means','Convert it into a quantitative variable','Convert it into an ordinal variable', 'Using frequency counts or percentages'],'Using frequency counts or percentages')\n",
    "L4P10Q2 = MultipleChoice('2. How does probability differ from proportion?',['Probability uses frequencies, and proportions don\\'t','Probability counts from the sample, a proportion is theoretical','Probability is theoretical, and a proportion counts from the sample', 'Probability doesn\\'t use frequencies; proportions do'],'Probability is theoretical, and a proportion counts from the sample')"
   ]
  },
  {
   "cell_type": "code",
   "execution_count": 63,
   "id": "7c590f02-2c02-48a8-9c40-93ce44c8ab99",
   "metadata": {},
   "outputs": [
    {
     "data": {
      "application/vnd.jupyter.widget-view+json": {
       "model_id": "b1e233bf59ca469eb8a77c0790186506",
       "version_major": 2,
       "version_minor": 0
      },
      "text/plain": [
       "VBox(children=(Output(), RadioButtons(layout=Layout(width='max-content'), options=(('Using means', 0), ('Conve…"
      ]
     },
     "metadata": {},
     "output_type": "display_data"
    },
    {
     "data": {
      "application/vnd.jupyter.widget-view+json": {
       "model_id": "996802c83e09431d8d071d74bf7b8d52",
       "version_major": 2,
       "version_minor": 0
      },
      "text/plain": [
       "VBox(children=(Output(), RadioButtons(layout=Layout(width='max-content'), options=((\"Probability uses frequenc…"
      ]
     },
     "metadata": {},
     "output_type": "display_data"
    }
   ],
   "source": [
    "if __name__ == \"__main__\":\n",
    "    display(L4P10Q1, L4P10Q2)"
   ]
  },
  {
   "cell_type": "markdown",
   "id": "6e4e0ec8-5895-4518-a36f-1ded002716c6",
   "metadata": {},
   "source": [
    "---\n",
    "## Common Descriptive Statistics\n",
    "### Lesson 4 Exam\n",
    "---\n",
    "This exam ***will be graded***, but please feel free to refer to your notes or the curriculum since you don't have to memorize everything in the real world - as long as you know where to find information!\n",
    "Which of the following formulas will yield the mean in a spreadsheet program like MS Excel or Google Sheets?"
   ]
  },
  {
   "cell_type": "code",
   "execution_count": 64,
   "id": "ea4488e7-f318-4d2c-8fd1-73a23e7cb8e8",
   "metadata": {},
   "outputs": [],
   "source": [
    "L1P2Q1 = MultipleChoice('1. Which of the following formulas will yield the mean in a spreadsheet program like MS Excel or Google Sheets?',['.mean()','.average()','.median()', '.stdev.s()'],'.average()')\n",
    "L1P2Q2 = MultipleChoice('2. Which of the following measures of central tendency looks at the exact middle of the data?',['Mean','Median','Mode'],'Median')\n",
    "L1P2Q3 = MultipleChoice('3. Which of the following formulas in MS Excel or Google Sheets will assist in finding the range?',['.min()','.max()','.range()', 'Both A & B'],'Both A & B')\n",
    "L1P2Q4 = MultipleChoice('4. Which of the following measures of distribution is the standard deviation squared?',['Range','Inter-quartile Range','Variance', 'Percentiles'],'Variance')\n",
    "L1P2Q5 = MultipleChoice('5. In reference to the margin of error, what does CV stand for?',['Coefficient of variation','Coded Variable','Confidence Value', 'Critical Value'],'Critical Value')\n",
    "L1P2Q6 = MultipleChoice('6. What is the purpose of creating a confidence interval?',['It provides a range for where the true mean of a population lies','It is an exercise to frustrate and confuse students','It builds up a student\\'s confidence for future questions', 'It provides a little bit of leeway for rounding errors during calculations'],'It provides a range for where the true mean of a population lies')"
   ]
  },
  {
   "cell_type": "code",
   "execution_count": 65,
   "id": "b238f567-2915-4b2a-848a-4207f685c4ec",
   "metadata": {},
   "outputs": [
    {
     "data": {
      "application/vnd.jupyter.widget-view+json": {
       "model_id": "59d874445d2a4662af68b7662f9630a9",
       "version_major": 2,
       "version_minor": 0
      },
      "text/plain": [
       "VBox(children=(Output(), RadioButtons(layout=Layout(width='max-content'), options=(('.mean()', 0), ('.average(…"
      ]
     },
     "metadata": {},
     "output_type": "display_data"
    },
    {
     "data": {
      "application/vnd.jupyter.widget-view+json": {
       "model_id": "648c312637604952a4f6c2632d788d34",
       "version_major": 2,
       "version_minor": 0
      },
      "text/plain": [
       "VBox(children=(Output(), RadioButtons(layout=Layout(width='max-content'), options=(('Mean', 0), ('Median', 1),…"
      ]
     },
     "metadata": {},
     "output_type": "display_data"
    },
    {
     "data": {
      "application/vnd.jupyter.widget-view+json": {
       "model_id": "5bb0a1ffd96d409895f533894dabe1b8",
       "version_major": 2,
       "version_minor": 0
      },
      "text/plain": [
       "VBox(children=(Output(), RadioButtons(layout=Layout(width='max-content'), options=(('.min()', 0), ('.max()', 1…"
      ]
     },
     "metadata": {},
     "output_type": "display_data"
    },
    {
     "data": {
      "application/vnd.jupyter.widget-view+json": {
       "model_id": "7aadef914ad74ee39b61f73ad50cfe90",
       "version_major": 2,
       "version_minor": 0
      },
      "text/plain": [
       "VBox(children=(Output(), RadioButtons(layout=Layout(width='max-content'), options=(('Range', 0), ('Inter-quart…"
      ]
     },
     "metadata": {},
     "output_type": "display_data"
    },
    {
     "data": {
      "application/vnd.jupyter.widget-view+json": {
       "model_id": "d958b07d38c54f38a881f28ddac50773",
       "version_major": 2,
       "version_minor": 0
      },
      "text/plain": [
       "VBox(children=(Output(), RadioButtons(layout=Layout(width='max-content'), options=(('Coefficient of variation'…"
      ]
     },
     "metadata": {},
     "output_type": "display_data"
    },
    {
     "data": {
      "application/vnd.jupyter.widget-view+json": {
       "model_id": "6dc6e324fc574725abbc4ed94220a993",
       "version_major": 2,
       "version_minor": 0
      },
      "text/plain": [
       "VBox(children=(Output(), RadioButtons(layout=Layout(width='max-content'), options=(('It provides a range for w…"
      ]
     },
     "metadata": {},
     "output_type": "display_data"
    }
   ],
   "source": [
    "if __name__ == \"__main__\":\n",
    "    display(L1P2Q1, L1P2Q2, L1P2Q3, L1P2Q4, L1P2Q5, L1P2Q6)"
   ]
  },
  {
   "cell_type": "markdown",
   "id": "a74634c1-5616-4a2f-a25d-ae105881d41d",
   "metadata": {},
   "source": [
    "## Lesson 5\n",
    "\n",
    "## Page 2"
   ]
  },
  {
   "cell_type": "code",
   "execution_count": 66,
   "id": "e2a33d9d-04e4-4d15-bad3-18895ac72ad4",
   "metadata": {},
   "outputs": [],
   "source": [
    "L5P2Q1 = MultipleChoice('1. For a normal distribution, which is greater, the mean or median?',['They are equal','The mean','The median'],'They are equal')\n",
    "L5P2Q2 = MultipleChoice('2. When considering a normal distribution, how far away from the mean does the curve contact the horizontal axis?',['Usually at about two standard deviations','Between two and three standard deviations','Right at three standard deviations', 'At about four standard deviations', 'It never does'],'It never does')"
   ]
  },
  {
   "cell_type": "code",
   "execution_count": 67,
   "id": "c3716d3b-21b2-4660-a0f5-108257dbf992",
   "metadata": {},
   "outputs": [
    {
     "data": {
      "application/vnd.jupyter.widget-view+json": {
       "model_id": "ab8846dcfefb4a708eba268e2ed843ed",
       "version_major": 2,
       "version_minor": 0
      },
      "text/plain": [
       "VBox(children=(Output(), RadioButtons(layout=Layout(width='max-content'), options=(('They are equal', 0), ('Th…"
      ]
     },
     "metadata": {},
     "output_type": "display_data"
    },
    {
     "data": {
      "application/vnd.jupyter.widget-view+json": {
       "model_id": "cd373b7d51d542d6addf23d9d0a01b1b",
       "version_major": 2,
       "version_minor": 0
      },
      "text/plain": [
       "VBox(children=(Output(), RadioButtons(layout=Layout(width='max-content'), options=(('Usually at about two stan…"
      ]
     },
     "metadata": {},
     "output_type": "display_data"
    }
   ],
   "source": [
    "if __name__ == \"__main__\":\n",
    "    display(L5P2Q1, L5P2Q2)"
   ]
  },
  {
   "cell_type": "markdown",
   "id": "d91043b2-b96f-4f43-b8dd-2adeedc37d6f",
   "metadata": {},
   "source": [
    "## Page 3"
   ]
  },
  {
   "cell_type": "code",
   "execution_count": 68,
   "id": "8d8475e5-c81a-4fd5-8367-4d747338a0aa",
   "metadata": {},
   "outputs": [],
   "source": [
    "L5P3Q1 = MultipleChoice('1. What is the mean of the standard normal distribution?',['It depends on the dataset','0','1', '3'],'0')\n",
    "L5P3Q2 = MultipleChoice('2. What is the standard deviation of the standard normal distribution?',['It depends on the dataset','0','1', '3'],'1')\n",
    "L5P3Q3 = MultipleChoice('3. What is the probability that all values fall within one standard deviation of the mean?',['34%','68%','95%', '99%'],'68%')\n",
    "L5P3Q4 = MultipleChoice('4. What is the probability that all values fall within two standard deviations of the mean?',['34%','68%','95%', '99%'],'95%')\n",
    "L5P3Q5 = MultipleChoice('5. What is the probability that all values fall with three standard deviations of the mean?',['34%','68%','95%', '99%'],'99%')"
   ]
  },
  {
   "cell_type": "code",
   "execution_count": 69,
   "id": "bf94e733-197b-4804-a6bf-1d63171e4951",
   "metadata": {},
   "outputs": [
    {
     "data": {
      "application/vnd.jupyter.widget-view+json": {
       "model_id": "3a96524cdb8843a68cf9c75e91e1a075",
       "version_major": 2,
       "version_minor": 0
      },
      "text/plain": [
       "VBox(children=(Output(), RadioButtons(layout=Layout(width='max-content'), options=(('It depends on the dataset…"
      ]
     },
     "metadata": {},
     "output_type": "display_data"
    },
    {
     "data": {
      "application/vnd.jupyter.widget-view+json": {
       "model_id": "08257076679f492eb9919e8875966ea4",
       "version_major": 2,
       "version_minor": 0
      },
      "text/plain": [
       "VBox(children=(Output(), RadioButtons(layout=Layout(width='max-content'), options=(('It depends on the dataset…"
      ]
     },
     "metadata": {},
     "output_type": "display_data"
    },
    {
     "data": {
      "application/vnd.jupyter.widget-view+json": {
       "model_id": "1466f19b0f9c4f5f85a0ab47c671941c",
       "version_major": 2,
       "version_minor": 0
      },
      "text/plain": [
       "VBox(children=(Output(), RadioButtons(layout=Layout(width='max-content'), options=(('34%', 0), ('68%', 1), ('9…"
      ]
     },
     "metadata": {},
     "output_type": "display_data"
    },
    {
     "data": {
      "application/vnd.jupyter.widget-view+json": {
       "model_id": "d9292ddf6946421aacac9646a7a16589",
       "version_major": 2,
       "version_minor": 0
      },
      "text/plain": [
       "VBox(children=(Output(), RadioButtons(layout=Layout(width='max-content'), options=(('34%', 0), ('68%', 1), ('9…"
      ]
     },
     "metadata": {},
     "output_type": "display_data"
    },
    {
     "data": {
      "application/vnd.jupyter.widget-view+json": {
       "model_id": "05e56040b3154e83aa56365726b01a4b",
       "version_major": 2,
       "version_minor": 0
      },
      "text/plain": [
       "VBox(children=(Output(), RadioButtons(layout=Layout(width='max-content'), options=(('34%', 0), ('68%', 1), ('9…"
      ]
     },
     "metadata": {},
     "output_type": "display_data"
    }
   ],
   "source": [
    "if __name__ == \"__main__\":\n",
    "    display(L5P3Q1, L5P3Q2, L5P3Q3, L5P3Q4, L5P3Q5)"
   ]
  },
  {
   "cell_type": "markdown",
   "id": "b686ff53-3aad-4597-9255-f0348e843b40",
   "metadata": {},
   "source": [
    "## Page 4"
   ]
  },
  {
   "cell_type": "code",
   "execution_count": 70,
   "id": "e229ec92-a5da-4eeb-802f-8ec4d008a1ba",
   "metadata": {},
   "outputs": [],
   "source": [
    "L5P4Q1 = MC('1. Which of the following scenarios has a z-score of 2.72?',['mu = 55, sigma = 8, x = 49','mu = 220, sigma = 82, x = 443','mu = -28, sigma = 2, x = -23', 'mu = 125, sigma = 16.8, x = 79.3'],'mu = 220, sigma = 82, x = 443', cor='Use the z score formula.',incor='')\n",
    "L5P4Q2 = MC('2. Calculate the z-score for a value of 9.2 when the population mean is 18.4 and the standard deviation is 9.2:',['0','1','-1', 'Not enough information has been given'],'-1', cor='Use the z score formula, where x is 9.2, mu is 18.4, and sigma is 9.2.',incor='')"
   ]
  },
  {
   "cell_type": "code",
   "execution_count": 71,
   "id": "0e36f778-6d87-40eb-b886-c49d8acd2146",
   "metadata": {},
   "outputs": [
    {
     "data": {
      "application/vnd.jupyter.widget-view+json": {
       "model_id": "adf2a114772a4c808ed7fbcc0032ca2d",
       "version_major": 2,
       "version_minor": 0
      },
      "text/plain": [
       "VBox(children=(Output(), RadioButtons(layout=Layout(width='max-content'), options=(('mu = 55, sigma = 8, x = 4…"
      ]
     },
     "metadata": {},
     "output_type": "display_data"
    },
    {
     "data": {
      "application/vnd.jupyter.widget-view+json": {
       "model_id": "f9a0e592b21041109d63cee7a4aac577",
       "version_major": 2,
       "version_minor": 0
      },
      "text/plain": [
       "VBox(children=(Output(), RadioButtons(layout=Layout(width='max-content'), options=(('0', 0), ('1', 1), ('-1', …"
      ]
     },
     "metadata": {},
     "output_type": "display_data"
    }
   ],
   "source": [
    "if __name__ == \"__main__\":\n",
    "    display(L5P4Q1, L5P4Q2)"
   ]
  },
  {
   "cell_type": "markdown",
   "id": "a95906ee-430f-485f-844d-d37bfc7bdecb",
   "metadata": {},
   "source": [
    "## Page 5"
   ]
  },
  {
   "cell_type": "code",
   "execution_count": 72,
   "id": "3a9691b7-2629-486d-87e2-cf84ec7057bc",
   "metadata": {},
   "outputs": [],
   "source": [
    "L5P5Q1 = MultipleChoice('1. When is an event considered rare?',['When it falls outside one standard deviation of the mean','When the probability is 68%','When the probability is less than 5%', 'When it is not a random chance'],'When the probability is less than 5%')"
   ]
  },
  {
   "cell_type": "code",
   "execution_count": 73,
   "id": "ff630957-6a4a-4f0c-88d5-d915e91262df",
   "metadata": {},
   "outputs": [
    {
     "data": {
      "application/vnd.jupyter.widget-view+json": {
       "model_id": "5c01c08c9b12454487c72ae17eff1330",
       "version_major": 2,
       "version_minor": 0
      },
      "text/plain": [
       "VBox(children=(Output(), RadioButtons(layout=Layout(width='max-content'), options=(('When it falls outside one…"
      ]
     },
     "metadata": {},
     "output_type": "display_data"
    }
   ],
   "source": [
    "if __name__ == \"__main__\":\n",
    "    display(L5P5Q1)"
   ]
  },
  {
   "cell_type": "markdown",
   "id": "5102e8dc-8f2f-4dbc-aaa0-920edb796590",
   "metadata": {},
   "source": [
    "## Page 6"
   ]
  },
  {
   "cell_type": "code",
   "execution_count": 74,
   "id": "56dbf96a-3251-4dfb-be26-00579a326b5d",
   "metadata": {},
   "outputs": [],
   "source": [
    "L5P6Q1 = MC('1. What is the probability that a single milk bottle will have between 128.1 and 128.3 oz?',['0.909','1.000','0.818', '0.683'],'0.818', cor='Enter the mean and standard deviation into the applet, then choose the between number and impute 128.1 and 128.3, which yields an area, or probability, of .82.', incor='')\n",
    "L5P6Q2 = MC('2. What is the probability that a single milk bottle has less than 128 oz?',['0.004','0.008','0.015', '0.213'],'0.004', cor='Choose the below 128 option on the applet, and you will get a probability of .0038, which rounds to .004.', incor='')"
   ]
  },
  {
   "cell_type": "markdown",
   "id": "35d747b3-e8df-4629-9f42-cd6a41880267",
   "metadata": {},
   "source": [
    "**For the next two questions:** A milk producer bottles milk in gallon bottles. The machine that fills the bottles has a bit of variation, so the producer can't just set the dial to 128 oz, because that would cause some of the bottles to have slightly less than one gallon. To be reasonably sure that each bottle will have at least 1 gallon, the producer set it a bit higher.\n",
    "Historical data indicate that each bottle has an average of 128.2 oz, and the standard deviation is 0.075 oz."
   ]
  },
  {
   "cell_type": "code",
   "execution_count": 75,
   "id": "f1f9a706-d4c3-4f0c-b984-7487c8e1b9c3",
   "metadata": {},
   "outputs": [
    {
     "data": {
      "application/vnd.jupyter.widget-view+json": {
       "model_id": "3f9f643fc20c410a8e2b3a6257601c6c",
       "version_major": 2,
       "version_minor": 0
      },
      "text/plain": [
       "VBox(children=(Output(), RadioButtons(layout=Layout(width='max-content'), options=(('0.909', 0), ('1.000', 1),…"
      ]
     },
     "metadata": {},
     "output_type": "display_data"
    },
    {
     "data": {
      "application/vnd.jupyter.widget-view+json": {
       "model_id": "762d0f2360074500a90f0dda28d66cad",
       "version_major": 2,
       "version_minor": 0
      },
      "text/plain": [
       "VBox(children=(Output(), RadioButtons(layout=Layout(width='max-content'), options=(('0.004', 0), ('0.008', 1),…"
      ]
     },
     "metadata": {},
     "output_type": "display_data"
    }
   ],
   "source": [
    "if __name__ == \"__main__\":\n",
    "    display(L5P6Q1, L5P6Q2)"
   ]
  },
  {
   "cell_type": "markdown",
   "id": "435b24c7-da2a-4094-bda8-f8128e5e0850",
   "metadata": {},
   "source": [
    "## Page 7"
   ]
  },
  {
   "cell_type": "code",
   "execution_count": 76,
   "id": "d854c05b-91ea-4022-9adc-eaa37b772008",
   "metadata": {},
   "outputs": [],
   "source": [
    "L5P7Q1 = MC('1. A particular track athlete has a personal best high jump of 6.4 ft. However, the average high jump is 6.1 ft for his age division, with a standard deviation of 0.27 ft. What is the percentile of this athlete\\'s best jump?',['78th percentile','73rd percentile','87th percentile', '91st percentile'],'87th percentile', cor='Enter the mean and standard deviation into the probability applet, and choose the below option because, with a percentile, you are looking to see what percentage of people fall Below a particular score. The area then becomes your percentile.', incor='')\n",
    "L5P7Q2 = MC('2. A woman takes her baby in for a well-baby checkup at 12 months. The doctor weighs the baby, and she then looks it up on a chart. She tells you your baby is healthy and in the 75th percentile for weight. The weight of 12-month-old babies is normally distributed with a mean of 19.8 lbs with a standard deviation of 0.6 lbs. \\nHow much does your baby weigh?',['20.2 lbs','20.4 lbs','21.6 lbs', '23.3 lbs'],'20.2 lbs', cor='For this problem, you will need to work backward, so make sure the radio button for Value from an area is selected. Enter the mean and standard deviation and the percentile as a decimal (.75) into the applet. Then choose the below option, which will provide the value of your baby.', incor='')"
   ]
  },
  {
   "cell_type": "code",
   "execution_count": 77,
   "id": "c32ddd94-41db-465f-bf29-c1d5e9fc23b8",
   "metadata": {},
   "outputs": [
    {
     "data": {
      "application/vnd.jupyter.widget-view+json": {
       "model_id": "3d985ef2289242b69df9c02431670bc9",
       "version_major": 2,
       "version_minor": 0
      },
      "text/plain": [
       "VBox(children=(Output(), RadioButtons(layout=Layout(width='max-content'), options=(('78th percentile', 0), ('7…"
      ]
     },
     "metadata": {},
     "output_type": "display_data"
    },
    {
     "data": {
      "application/vnd.jupyter.widget-view+json": {
       "model_id": "7f9b787d82604e108f87f5f9600bb120",
       "version_major": 2,
       "version_minor": 0
      },
      "text/plain": [
       "VBox(children=(Output(), RadioButtons(layout=Layout(width='max-content'), options=(('20.2 lbs', 0), ('20.4 lbs…"
      ]
     },
     "metadata": {},
     "output_type": "display_data"
    }
   ],
   "source": [
    "if __name__ == \"__main__\":\n",
    "    display(L5P7Q1, L5P7Q2)"
   ]
  },
  {
   "cell_type": "markdown",
   "id": "990c813c-608b-4eaa-a318-f6d59af75d24",
   "metadata": {},
   "source": [
    "## Page 8"
   ]
  },
  {
   "cell_type": "code",
   "execution_count": 78,
   "id": "d460bf68-fdb8-486e-ae64-2fa1dc0a089b",
   "metadata": {},
   "outputs": [],
   "source": [
    "L5P8Q1 = MultipleChoice('1. Which is the larger overall group?',['Parent','Child'],'Parent')\n",
    "L5P8Q2 = MultipleChoice('2. How is the mean of a child distribution and the mean of a parent distribution-related?',['The means are approximately equal','The mean of the child distribution is larger than the mean of the parent','The mean of the parent distribution is larger than the mean of the child', 'The means are not related'],'The means are approximately equal')\n",
    "L5P8Q3 = MultipleChoice('3. How is the standard deviation of the child distribution related to the mean of the parent distribution?',['The child distribution has a larger standard deviation','The child distribution has a smaller standard deviation','The standard deviations are equal', 'The standard deviations are not related'],'The child distribution has a smaller standard deviation')\n",
    "L5P8Q4 = MultipleChoice('4. Please fill in the blanks in this sentence: According to the Central Limit Theorem, as the sample size gets ________, the sample is more likely to be ________.',['Smaller, normally distributed','Larger, normally distributed','Larger, not normally distributed'],'Larger, normally distributed')"
   ]
  },
  {
   "cell_type": "code",
   "execution_count": 79,
   "id": "cd03adda-4ae8-4bd9-a640-e6c5f79aca74",
   "metadata": {},
   "outputs": [
    {
     "data": {
      "application/vnd.jupyter.widget-view+json": {
       "model_id": "994f42f24e354aa493033a77ce7a46f4",
       "version_major": 2,
       "version_minor": 0
      },
      "text/plain": [
       "VBox(children=(Output(), RadioButtons(layout=Layout(width='max-content'), options=(('Parent', 0), ('Child', 1)…"
      ]
     },
     "metadata": {},
     "output_type": "display_data"
    },
    {
     "data": {
      "application/vnd.jupyter.widget-view+json": {
       "model_id": "061591a7197345ff807dc9bbb484d150",
       "version_major": 2,
       "version_minor": 0
      },
      "text/plain": [
       "VBox(children=(Output(), RadioButtons(layout=Layout(width='max-content'), options=(('The means are approximate…"
      ]
     },
     "metadata": {},
     "output_type": "display_data"
    },
    {
     "data": {
      "application/vnd.jupyter.widget-view+json": {
       "model_id": "758b96ff0c0c4c68b66d0dfb1a41a904",
       "version_major": 2,
       "version_minor": 0
      },
      "text/plain": [
       "VBox(children=(Output(), RadioButtons(layout=Layout(width='max-content'), options=(('The child distribution ha…"
      ]
     },
     "metadata": {},
     "output_type": "display_data"
    },
    {
     "data": {
      "application/vnd.jupyter.widget-view+json": {
       "model_id": "a8de59c5cdcc4eb3a8cc24e2212ecba8",
       "version_major": 2,
       "version_minor": 0
      },
      "text/plain": [
       "VBox(children=(Output(), RadioButtons(layout=Layout(width='max-content'), options=(('Smaller, normally distrib…"
      ]
     },
     "metadata": {},
     "output_type": "display_data"
    }
   ],
   "source": [
    "if __name__ == \"__main__\":\n",
    "    display(L5P8Q1, L5P8Q2, L5P8Q3, L5P8Q4)"
   ]
  },
  {
   "cell_type": "markdown",
   "id": "7dda2484-527b-4d89-a1fd-3bf7d7126f7d",
   "metadata": {},
   "source": [
    "---\n",
    "## The Normal Distribution\n",
    "## Lesson 5 Exam\n",
    "\n",
    "Below is an exam to review the recently covered material. This exam is not graded. Please feel free to refer to your notes or the curriculum since you don't have to memorize everything in the real world - as long as you know where to find information!"
   ]
  },
  {
   "cell_type": "code",
   "execution_count": 80,
   "id": "8ca9dbbd-8717-482d-99a1-42668bb86d91",
   "metadata": {},
   "outputs": [],
   "source": [
    "L5P9Q1 = MC('1. For a normally distributed variable with mean of 44 and standard deviation of 6, how much of the distribution is between 32 and 56, according to the 68-95-99.7 rule?',['68%','95%','99.7%', '40%'],'95%', cor='Start by determining how many standard deviations away those numbers are. You can begin by adding the standard deviation to the mean once. 44 + 6 is 50. That\\'s one standard deviation away. Then again, the standard deviation to the mean a second time: 50 + 6 = 56. So that makes two standard deviations on the top. Then start subtracting the standard deviation value from the mean to get how many standard deviations below 32 is. 44 - 6 is 38. That\\'s one standard deviation. 38 - 6 is 32, so that\\'s two standard deviations away. So you know that both the top and bottom values are two standard deviations away, and the 68-95-99 rule says that 95% of the distribution is between two standard deviations from the mean.', incor='')\n",
    "L5P9Q2 = MC('2. For a normally distributed variable with mean of 44 and standard deviation of 6, how much of the distribution is between 44 and 56, according to the 68-95-99.7 rule?',['34%','47.5%','68%', '50%'],'47.5%', cor='Start by determining how many standard deviations away those numbers are. You already know from the last problem that 56 is two standard deviations away. So now you need to add up the area percentages for each of those. According to the percentages from the 68-95-99 rule, for two standard deviations above the mean, the value will be .341 + .136, or .477.', incor='')\n",
    "L5P9Q3 = MC('3. For a normally distributed variable with mean of 44 and standard deviation of 6, how much of the distribution is between 38 and 44, according to the 68-95-99.7 rule?',['34%','47.5%','68%', '95%'],'34%', cor='Start by determining how many standard deviations away those numbers are. You already know from the problems before that 38 is one standard deviation below. So, the area from one standard deviation below to the mean according to the 68-95-99 rule is .34, or 34%.', incor='')\n",
    "L5P9Q4 = MC('4. What is the z-score if mu = 72 and sigma = 18?',['-1','0','2.8', 'There is not enough information given'],'There is not enough information given', cor='You also need an x to calculate a z score.', incor='')\n",
    "L5P9Q5 = MC('5. What is the z-score if mu = 80, sigma = 10, and x = 57?',['-3.3','-2.3','1.65', '2.3'],'-2.3', cor='z = (57 - 80) / 10', incor='')\n",
    "L5P9Q6 = MC('6. If x = 270, mu = 225, and the z-score is 1.5, what is sigma?',['495','255','85', '30'],'30', cor='You will plug all the other numbers in and solve for sigma: 1.5 = (270 - 225 ) / sigma', incor='')\n",
    "L5P9Q7 = MC('7. For a distribution whose mean is 320 and sigma is 14, what is the probability of randomly selecting a single value that is less than 290?',['0.0161','0.0321','0.161', '0.321'],'0.0161', cor='Plug in the mean and standard deviation into the applet, with the radio button for Area from a value selected. Then choose the below option and type in 290. The result is your answer.', incor='')\n",
    "L5P9Q8 = MC('8. For a distribution whose mean is 320 and sigma is 14, what is the probability of randomly selecting a single value that is less than 345?',['0.0741','0.6854','0.9259', '0.9630'],'0.9630', cor='Plug in the mean and standard deviation into the applet, with the radio button for Area from a value selected. Then choose the below option and type in 345. The result is your answer.', incor='')\n",
    "L5P9Q9 = MC('9. For a distribution whose mean is 320 and sigma is 14, what is the probability of randomly selecting a single value that is either less than 317 or greater than 323?',['0.4153','0.5000','0.8305', '1.0000'],'0.8305', cor='Plug in the mean and standard deviation into the applet, with the radio button for Area from a value selected. Then choose the outside option and type in the values. The result is your answer.', incor='')\n",
    "L5P9Q10 = MC('10. For a distribution whose mean is 320 and sigma is 14, what is the probability of randomly selecting a single value that is either less than 312 or greater than 325?',['0.2840','0.3605','0.6445', '0.7211'],'0.6445', cor='Plug in the mean and standard deviation into the applet, with the radio button for Area from a value selected. Then choose the outside option and type in the values. The result is your answer.', incor='')\n",
    "L5P9Q11 = MC('11. If the LSAT exam has a mean score of 151 and a standard deviation of 10, what is your percentile if you score a 172?',['98th percentile','18th percentile','96th percentile', '35th percentile'],'98th percentile', cor='Plug in the mean and standard deviation into the applet, with the radio button for Area from a value selected. Then choose the below option and type in the value 172. The result is your answer.', incor='')\n",
    "L5P9Q12 = MC('12. If your score on a standardized exam reports as being in the 68th percentile, what is your raw score if the mean for the exam is 260 points?',['Cannot determine from the information provided','328','382', '355'],'Cannot determine from the information provided', cor='You are missing the sigma as well.', incor='')\n",
    "L5P9Q13 = MC('13. If a parent distribution has a mean of 160 and a standard deviation of 24, and you create a distribution of x-bar using samples of size 16, what are the mean and standard deviation of your distribution',['Mean = 160, standard deviation = 24','Mean = 160, standard deviation = 6','Mean = 10, standard deviation = 24'],'Mean = 160, standard deviation = 6', cor='The mean of a child distribution will always be the same as the parent, but the standard deviation will be smaller.', incor='')"
   ]
  },
  {
   "cell_type": "code",
   "execution_count": 81,
   "id": "64ad9274-5fca-4bde-a3ec-56e873b97b96",
   "metadata": {},
   "outputs": [
    {
     "data": {
      "application/vnd.jupyter.widget-view+json": {
       "model_id": "4277509411564ead97a7150952248020",
       "version_major": 2,
       "version_minor": 0
      },
      "text/plain": [
       "VBox(children=(Output(), RadioButtons(layout=Layout(width='max-content'), options=(('68%', 0), ('95%', 1), ('9…"
      ]
     },
     "metadata": {},
     "output_type": "display_data"
    },
    {
     "data": {
      "application/vnd.jupyter.widget-view+json": {
       "model_id": "bd741dfa18f74d20a8c94fd0a6c9c3f9",
       "version_major": 2,
       "version_minor": 0
      },
      "text/plain": [
       "VBox(children=(Output(), RadioButtons(layout=Layout(width='max-content'), options=(('34%', 0), ('47.5%', 1), (…"
      ]
     },
     "metadata": {},
     "output_type": "display_data"
    },
    {
     "data": {
      "application/vnd.jupyter.widget-view+json": {
       "model_id": "6fea13c59ba54b849438dd40d8028623",
       "version_major": 2,
       "version_minor": 0
      },
      "text/plain": [
       "VBox(children=(Output(), RadioButtons(layout=Layout(width='max-content'), options=(('34%', 0), ('47.5%', 1), (…"
      ]
     },
     "metadata": {},
     "output_type": "display_data"
    },
    {
     "data": {
      "application/vnd.jupyter.widget-view+json": {
       "model_id": "0b868ea0a7444d4199bdc26ff153fed0",
       "version_major": 2,
       "version_minor": 0
      },
      "text/plain": [
       "VBox(children=(Output(), RadioButtons(layout=Layout(width='max-content'), options=(('-1', 0), ('0', 1), ('2.8'…"
      ]
     },
     "metadata": {},
     "output_type": "display_data"
    },
    {
     "data": {
      "application/vnd.jupyter.widget-view+json": {
       "model_id": "6c115b3af3ee4c7b9c1b04948ff71318",
       "version_major": 2,
       "version_minor": 0
      },
      "text/plain": [
       "VBox(children=(Output(), RadioButtons(layout=Layout(width='max-content'), options=(('-3.3', 0), ('-2.3', 1), (…"
      ]
     },
     "metadata": {},
     "output_type": "display_data"
    },
    {
     "data": {
      "application/vnd.jupyter.widget-view+json": {
       "model_id": "7d0559af442c46ae9e6e445f0cf6a080",
       "version_major": 2,
       "version_minor": 0
      },
      "text/plain": [
       "VBox(children=(Output(), RadioButtons(layout=Layout(width='max-content'), options=(('495', 0), ('255', 1), ('8…"
      ]
     },
     "metadata": {},
     "output_type": "display_data"
    },
    {
     "data": {
      "application/vnd.jupyter.widget-view+json": {
       "model_id": "3d91ae6da8154d12a1ad2a18bc4d7f30",
       "version_major": 2,
       "version_minor": 0
      },
      "text/plain": [
       "VBox(children=(Output(), RadioButtons(layout=Layout(width='max-content'), options=(('0.0161', 0), ('0.0321', 1…"
      ]
     },
     "metadata": {},
     "output_type": "display_data"
    },
    {
     "data": {
      "application/vnd.jupyter.widget-view+json": {
       "model_id": "2a2964e27ea24243a1f5471c09d1427f",
       "version_major": 2,
       "version_minor": 0
      },
      "text/plain": [
       "VBox(children=(Output(), RadioButtons(layout=Layout(width='max-content'), options=(('0.0741', 0), ('0.6854', 1…"
      ]
     },
     "metadata": {},
     "output_type": "display_data"
    },
    {
     "data": {
      "application/vnd.jupyter.widget-view+json": {
       "model_id": "b2c4ebdfc912423aa8a33ee9eddee9ef",
       "version_major": 2,
       "version_minor": 0
      },
      "text/plain": [
       "VBox(children=(Output(), RadioButtons(layout=Layout(width='max-content'), options=(('0.4153', 0), ('0.5000', 1…"
      ]
     },
     "metadata": {},
     "output_type": "display_data"
    },
    {
     "data": {
      "application/vnd.jupyter.widget-view+json": {
       "model_id": "f1fdc343fe89447c942f615ca9c3d83d",
       "version_major": 2,
       "version_minor": 0
      },
      "text/plain": [
       "VBox(children=(Output(), RadioButtons(layout=Layout(width='max-content'), options=(('0.2840', 0), ('0.3605', 1…"
      ]
     },
     "metadata": {},
     "output_type": "display_data"
    },
    {
     "data": {
      "application/vnd.jupyter.widget-view+json": {
       "model_id": "bff6dd4e6d44495dbc523a2b5072c576",
       "version_major": 2,
       "version_minor": 0
      },
      "text/plain": [
       "VBox(children=(Output(), RadioButtons(layout=Layout(width='max-content'), options=(('98th percentile', 0), ('1…"
      ]
     },
     "metadata": {},
     "output_type": "display_data"
    },
    {
     "data": {
      "application/vnd.jupyter.widget-view+json": {
       "model_id": "d978e59db8dc4e52a76c8e1767592974",
       "version_major": 2,
       "version_minor": 0
      },
      "text/plain": [
       "VBox(children=(Output(), RadioButtons(layout=Layout(width='max-content'), options=(('Cannot determine from the…"
      ]
     },
     "metadata": {},
     "output_type": "display_data"
    },
    {
     "data": {
      "application/vnd.jupyter.widget-view+json": {
       "model_id": "18fd867161a64f49b1be4e16a54c7ee5",
       "version_major": 2,
       "version_minor": 0
      },
      "text/plain": [
       "VBox(children=(Output(), RadioButtons(layout=Layout(width='max-content'), options=(('Mean = 160, standard devi…"
      ]
     },
     "metadata": {},
     "output_type": "display_data"
    }
   ],
   "source": [
    "if __name__ == \"__main__\":\n",
    "    display(L5P9Q1, L5P9Q2, L5P9Q3, L5P9Q4, L5P9Q5, L5P9Q6, L5P9Q7, L5P9Q8, L5P9Q9, L5P9Q10, L5P9Q11, L5P9Q12, L5P9Q13)"
   ]
  },
  {
   "cell_type": "markdown",
   "id": "fa605826-98ce-45ec-9c94-d034d229f4ec",
   "metadata": {},
   "source": [
    "## Lesson 6\n",
    "\n",
    "## Page 2"
   ]
  },
  {
   "cell_type": "code",
   "execution_count": 82,
   "id": "70d0dc6a-5e93-47c8-8681-8e969fe18b2e",
   "metadata": {},
   "outputs": [],
   "source": [
    "L6P2Q1 = MC('1. A marketing firm in Austin is researching a local auto parts chain based in Dallas. They have identified 72,500 households within 10 miles of any store. They send out surveys to 2,200 homes in the Dallas area. Of those 2,200 surveys, the marketing firm gets some response from 168 of them. What is the sample in this example?',['All marketing firms in Austin','The 168 households that responded to the survey','All 72,500 households in the Dallas area', 'The 2200 households that received a survey'],'The 168 households that responded to the survey', cor='Since the sample is the smaller part and only the portion you have data for, the 168 households are the sample.', incor=\"\")\n",
    "L6P2Q2 = MultipleChoice('2. A marketing firm in Austin is researching a local auto parts chain based in Dallas. They have identified 72,500 households within 10 miles of any store. They send out surveys to 2,200 homes in the Dallas area. Of those 2,200 surveys, the marketing firm gets some response from 168 of them. What is the population in this example?',['All marketing firms in Austin','The 168 households that responded to the survey','All 72,500 households in the Dallas area'],'All 72,500 households in the Dallas area')"
   ]
  },
  {
   "cell_type": "code",
   "execution_count": 83,
   "id": "493357be-29a3-49be-96d2-0b4333f3d0e5",
   "metadata": {},
   "outputs": [
    {
     "data": {
      "application/vnd.jupyter.widget-view+json": {
       "model_id": "096d93914b5a44e2b7e1b335adee89a5",
       "version_major": 2,
       "version_minor": 0
      },
      "text/plain": [
       "VBox(children=(Output(), RadioButtons(layout=Layout(width='max-content'), options=(('All marketing firms in Au…"
      ]
     },
     "metadata": {},
     "output_type": "display_data"
    },
    {
     "data": {
      "application/vnd.jupyter.widget-view+json": {
       "model_id": "28ea94c042e9496cb091c87ac84b4e34",
       "version_major": 2,
       "version_minor": 0
      },
      "text/plain": [
       "VBox(children=(Output(), RadioButtons(layout=Layout(width='max-content'), options=(('All marketing firms in Au…"
      ]
     },
     "metadata": {},
     "output_type": "display_data"
    }
   ],
   "source": [
    "if __name__ == \"__main__\":\n",
    "    display(L6P2Q1, L6P2Q2)"
   ]
  },
  {
   "cell_type": "markdown",
   "id": "225fafb1-7a74-44f6-89fc-c8455acace46",
   "metadata": {},
   "source": [
    "## Page 3"
   ]
  },
  {
   "cell_type": "code",
   "execution_count": 84,
   "id": "f75e1004-cada-4eae-ba81-c653da5bbc26",
   "metadata": {},
   "outputs": [],
   "source": [
    "L6P3Q1 = MultipleChoice('1. A simple random sample means that every person/object has an equal chance of being selected.',['True','False'],'True')"
   ]
  },
  {
   "cell_type": "code",
   "execution_count": 85,
   "id": "130ed844-b54a-4035-87bc-576d36533ff0",
   "metadata": {},
   "outputs": [
    {
     "data": {
      "application/vnd.jupyter.widget-view+json": {
       "model_id": "914143ce7fd04b1ebacaa926f9649fdb",
       "version_major": 2,
       "version_minor": 0
      },
      "text/plain": [
       "VBox(children=(Output(), RadioButtons(layout=Layout(width='max-content'), options=(('True', 0), ('False', 1)),…"
      ]
     },
     "metadata": {},
     "output_type": "display_data"
    }
   ],
   "source": [
    "if __name__ == \"__main__\":\n",
    "    display(L6P3Q1)"
   ]
  },
  {
   "cell_type": "markdown",
   "id": "3b78bf9a-53ac-4c91-b6d6-4aa0de48dbb3",
   "metadata": {},
   "source": [
    "## Page 4"
   ]
  },
  {
   "cell_type": "code",
   "execution_count": 86,
   "id": "99f8136f-c735-495e-acfb-dce3ed726e0b",
   "metadata": {},
   "outputs": [],
   "source": [
    "L6P4Q1 = MC('1. A financial auditor has to audit 6,000 accounts receivable. The accounts cover 12 years\\' worth of business, which comes down to about ten accounts per week on average. So, the financial auditor decides to randomly choose five different weeks during those 12 years and review all of the registered accounts for each of those weeks, totaling 57 accounts. What type of sampling is this?',['Stratified sampling','Cluster sampling','Systematic sampling', 'Simple random sampling', 'Convenience sampling'],'Cluster sampling', cor='The data is broken down into chunks, or clusters, of weeks. So, by choosing everything in certain weeks, that is cluster sampling.', incor='')\n",
    "L6P4Q2 = MultipleChoice('2. What is the difference between cluster and simple random sampling?',['Simple random sampling randomly selects groups; cluster sampling randomly selects individuals','Cluster sampling randomly selects groups; simple random sampling randomly selects individuals','Cluster sampling is proportionate to the population; simple random sampling isn\\t', 'Simple random sampling is proportionate to the population; cluster sampling isn\\'t'],'Cluster sampling randomly selects groups; simple random sampling randomly selects individuals')"
   ]
  },
  {
   "cell_type": "code",
   "execution_count": 87,
   "id": "5344a982-19cd-425f-af81-0922d4f051cc",
   "metadata": {},
   "outputs": [
    {
     "data": {
      "application/vnd.jupyter.widget-view+json": {
       "model_id": "aedba8e4ebbd41a3ad9c7585b0feec4d",
       "version_major": 2,
       "version_minor": 0
      },
      "text/plain": [
       "VBox(children=(Output(), RadioButtons(layout=Layout(width='max-content'), options=(('Stratified sampling', 0),…"
      ]
     },
     "metadata": {},
     "output_type": "display_data"
    },
    {
     "data": {
      "application/vnd.jupyter.widget-view+json": {
       "model_id": "a42bb78cd1a242fd938ed1d38d5b2270",
       "version_major": 2,
       "version_minor": 0
      },
      "text/plain": [
       "VBox(children=(Output(), RadioButtons(layout=Layout(width='max-content'), options=(('Simple random sampling ra…"
      ]
     },
     "metadata": {},
     "output_type": "display_data"
    }
   ],
   "source": [
    "if __name__ == \"__main__\":\n",
    "    display(L6P4Q1, L6P4Q2)"
   ]
  },
  {
   "cell_type": "markdown",
   "id": "74abc89a-65b3-4ae6-8053-14eab0d87b79",
   "metadata": {},
   "source": [
    "## Page 5"
   ]
  },
  {
   "cell_type": "code",
   "execution_count": 88,
   "id": "f7283b6e-dd8c-44e3-8430-67d8ed14e85c",
   "metadata": {},
   "outputs": [],
   "source": [
    "L6P5Q1 = MC('1. An insurance company is reviewing policies to see if they can recommend a better coverage option for their clients. They have hundreds of thousands of policyholders and don\\'t have time to review them all. One employee suggests they categorize the policyholders into the following groups: Auto only, auto and home, motorcycle only, and recreational vehicles only. From each of these groups, they randomly select a small portion of the total policyholders in that category. What type of sampling does this example show?',['Stratified sampling','Cluster sampling','Systematic sampling', 'Simple random sampling'],'Stratified sampling', cor='This is stratified sampling because the policyholders break up into groups, or strata, based on their characteristics.', incor='')"
   ]
  },
  {
   "cell_type": "code",
   "execution_count": 89,
   "id": "86469cf6-516a-499c-9cf1-1d06e96920d1",
   "metadata": {},
   "outputs": [
    {
     "data": {
      "application/vnd.jupyter.widget-view+json": {
       "model_id": "e4408c6a66594d94b86dcfb8bead960a",
       "version_major": 2,
       "version_minor": 0
      },
      "text/plain": [
       "VBox(children=(Output(), RadioButtons(layout=Layout(width='max-content'), options=(('Stratified sampling', 0),…"
      ]
     },
     "metadata": {},
     "output_type": "display_data"
    }
   ],
   "source": [
    "if __name__ == \"__main__\":\n",
    "    display(L6P5Q1)"
   ]
  },
  {
   "cell_type": "markdown",
   "id": "789ac406-049b-4867-8a39-6f73023b2213",
   "metadata": {},
   "source": [
    "## Page 6"
   ]
  },
  {
   "cell_type": "code",
   "execution_count": 90,
   "id": "6689f10e-2767-4c73-b578-c8a6d1d09dea",
   "metadata": {},
   "outputs": [],
   "source": [
    "L6P6Q1 = MC('1. A financial auditor has 6,000 accounts receivable that need auditing. She wants to audit 50 of the accounts, so she calculates that 50 / 6,000 is 120. She randomly selects a starting point of 85 and then selects every 120th account after that. Thus, her total sample size is 50 accounts. What type of sampling is this?',['Stratified sampling','Cluster sampling','Systematic sampling', 'Simple random sampling'],'Systematic sampling', cor='This is systematic sampling because the starting point is identified, and then every nth thing is selected.', incor='')"
   ]
  },
  {
   "cell_type": "code",
   "execution_count": 91,
   "id": "7cbb7b3a-6e00-473b-8031-1174187867e8",
   "metadata": {},
   "outputs": [
    {
     "data": {
      "application/vnd.jupyter.widget-view+json": {
       "model_id": "753b233da9cd430f98049114542a6365",
       "version_major": 2,
       "version_minor": 0
      },
      "text/plain": [
       "VBox(children=(Output(), RadioButtons(layout=Layout(width='max-content'), options=(('Stratified sampling', 0),…"
      ]
     },
     "metadata": {},
     "output_type": "display_data"
    }
   ],
   "source": [
    "if __name__ == \"__main__\":\n",
    "    display(L6P6Q1)"
   ]
  },
  {
   "cell_type": "markdown",
   "id": "37075aa6-65a9-41d9-9a4f-bf3bc5485869",
   "metadata": {},
   "source": [
    "## Page 7"
   ]
  },
  {
   "cell_type": "code",
   "execution_count": 92,
   "id": "07edad15-7169-43bd-bb68-a220db082c4d",
   "metadata": {},
   "outputs": [],
   "source": [
    "L6P7Q1 = MC('1. A financial auditor has to audit 6,000 accounts receivable. She has all of the account files on a single sub-directory on her computer, so she sorts them from smallest file to largest file. Experience tells her that the smaller files are usually less messy. She then takes the 50 smallest files and audits those because she has better things to do than this audit. What type of sampling is this?',['Stratified sampling','Cluster sampling','Systematic sampling', 'Simple random sampling', 'Convenience sampling'],'Convenience sampling', cor='This is easy, or convenient, for the auditor because it is the 50 smallest files. There is no systematic way of choosing files, so this is convenience sampling.',incor='')"
   ]
  },
  {
   "cell_type": "code",
   "execution_count": 93,
   "id": "ae04f94e-14b6-49cf-b115-ab848ecc304a",
   "metadata": {},
   "outputs": [
    {
     "data": {
      "application/vnd.jupyter.widget-view+json": {
       "model_id": "35c6e5dcb7cf4d70bf9a3e6088c94396",
       "version_major": 2,
       "version_minor": 0
      },
      "text/plain": [
       "VBox(children=(Output(), RadioButtons(layout=Layout(width='max-content'), options=(('Stratified sampling', 0),…"
      ]
     },
     "metadata": {},
     "output_type": "display_data"
    }
   ],
   "source": [
    "if __name__ == \"__main__\":\n",
    "    display(L6P7Q1)"
   ]
  },
  {
   "cell_type": "markdown",
   "id": "824dd473-4659-4423-9c13-db5d2f443e1e",
   "metadata": {},
   "source": [
    "## Page 8"
   ]
  },
  {
   "cell_type": "code",
   "execution_count": 94,
   "id": "0638f80b-ba48-4202-abbf-ffdfcfc137fa",
   "metadata": {},
   "outputs": [],
   "source": [
    "L6P8Q1 = MC('1. Which sampling strategy is the least rigorous and yet the most common?',['Stratified Sampling','Simple Random Sampling','Cluster Sampling', 'Convenience Sampling'],'Convenience Sampling', cor='Convenience sampling happens often but isn\\'t a robust design because there isn\\'t a rationale for choosing data.', incor='')"
   ]
  },
  {
   "cell_type": "code",
   "execution_count": 95,
   "id": "f596a3d0-599a-4351-899b-366ec0b2e01f",
   "metadata": {},
   "outputs": [
    {
     "data": {
      "application/vnd.jupyter.widget-view+json": {
       "model_id": "68ca0723f60e429eb58c79785c1f34a6",
       "version_major": 2,
       "version_minor": 0
      },
      "text/plain": [
       "VBox(children=(Output(), RadioButtons(layout=Layout(width='max-content'), options=(('Stratified Sampling', 0),…"
      ]
     },
     "metadata": {},
     "output_type": "display_data"
    }
   ],
   "source": [
    "if __name__ == \"__main__\":\n",
    "    display(L6P8Q1)"
   ]
  },
  {
   "cell_type": "markdown",
   "id": "a2977bac-cdaa-4c4f-9d96-c32444f9e445",
   "metadata": {},
   "source": [
    "## Page 9"
   ]
  },
  {
   "cell_type": "code",
   "execution_count": 96,
   "id": "2f203a77-eb11-48ef-b15c-b8194b9ca3f4",
   "metadata": {},
   "outputs": [],
   "source": [
    "L6P9Q1 = MultipleChoice('1. Which of the following is not a good reason for sampling?',['It helps you estimate the population','It is cheaper than looking at the whole population','You can make up data if you are sampling', 'You can develop confidence intervals for our estimates', 'You usually get results faster'],'You can make up data if you are sampling')\n",
    "L6P9Q2 = MC('2. Which method of sampling is least reliable?',['Stratified sampling','Cluster sampling','Simple random sampling', 'Systematic sampling', 'Convenience sampling'],'Convenience sampling', cor=\"Convenience sampling does not follow a routine method, so the possibility of bias is high.\", incor='')\n",
    "L6P9Q3 = MC('3. Which method of sampling is the most reliable?',['Stratified sampling','Cluster sampling','Simple random sampling', 'Systematic sampling', 'Convenience sampling'],'Simple random sampling', cor='When you are simple random sampling, you are making every effort to reduce bias.', incor='')"
   ]
  },
  {
   "cell_type": "code",
   "execution_count": 97,
   "id": "4bae0048-4708-4789-b1f9-a00712433710",
   "metadata": {},
   "outputs": [
    {
     "data": {
      "application/vnd.jupyter.widget-view+json": {
       "model_id": "cec058b11ec04a2ca35ce967a0141177",
       "version_major": 2,
       "version_minor": 0
      },
      "text/plain": [
       "VBox(children=(Output(), RadioButtons(layout=Layout(width='max-content'), options=(('It helps you estimate the…"
      ]
     },
     "metadata": {},
     "output_type": "display_data"
    },
    {
     "data": {
      "application/vnd.jupyter.widget-view+json": {
       "model_id": "105dd90c3e114e309c26ac271e82f71d",
       "version_major": 2,
       "version_minor": 0
      },
      "text/plain": [
       "VBox(children=(Output(), RadioButtons(layout=Layout(width='max-content'), options=(('Stratified sampling', 0),…"
      ]
     },
     "metadata": {},
     "output_type": "display_data"
    },
    {
     "data": {
      "application/vnd.jupyter.widget-view+json": {
       "model_id": "83f9a557b7054f8695946eca29b33cb9",
       "version_major": 2,
       "version_minor": 0
      },
      "text/plain": [
       "VBox(children=(Output(), RadioButtons(layout=Layout(width='max-content'), options=(('Stratified sampling', 0),…"
      ]
     },
     "metadata": {},
     "output_type": "display_data"
    }
   ],
   "source": [
    "if __name__ == \"__main__\":\n",
    "    display(L6P9Q1, L6P9Q2, L6P9Q3)"
   ]
  },
  {
   "cell_type": "markdown",
   "id": "5cf76658-e622-448e-9232-fa0cfee610fa",
   "metadata": {},
   "source": [
    "## Page 10"
   ]
  },
  {
   "cell_type": "code",
   "execution_count": 98,
   "id": "e80912ac-65c4-4e28-89e3-91fad904d88b",
   "metadata": {},
   "outputs": [],
   "source": [
    "L6P10Q1 = MultipleChoice('1. Which hypothesis always contains the \"=\" sign?',['The alternative hypothesis','The null hypothesis','Both the null and alternative hypotheses', 'The LaGuardia hypothesis'],'The null hypothesis')\n",
    "L6P10Q2 = MC('2. Which of the following is NOT a form the alternative hypothesis can take?',['Better than','Worse than','The same as', 'Different than'],'The same as', cor='\"The same as\" would be a form of the null, not the alternative, hypothesis.',incor='')\n",
    "L6P10Q3 = MultipleChoice('3. Ha is the symbol for the alternative hypothesis. \\nTrue or False?',['True','False'],'True')\n",
    "L6P10Q4 = MultipleChoice('4. What is the p value?',['The null hypothesis','The alternative hypothesis','The probability of having a value greater than or less than the test statistic', 'The alpha value'],'The probability of having a value greater than or less than the test statistic')\n",
    "L6P10Q5 = MultipleChoice('5. What does an alpha level of .01 mean?',['There is a 99% chance of accuracy','There is a 1% chance of error','There is a 99% chance of error', 'Both A & B are correct'],'Both A & B are correct')\n",
    "L6P10Q6 = MultipleChoice('6. If the p-value is less than alpha, what should you do?',['Accept the null hypothesis','Reject the alternative hypothesis','Fail to reject the null hypothesis', 'Reject the null hypothesis'],'Reject the null hypothesis')"
   ]
  },
  {
   "cell_type": "code",
   "execution_count": 99,
   "id": "6fd55939-0845-4a38-a661-b975f4b4c54c",
   "metadata": {},
   "outputs": [
    {
     "data": {
      "application/vnd.jupyter.widget-view+json": {
       "model_id": "f6d9ecd9dc44426e8db67cef1c6d49eb",
       "version_major": 2,
       "version_minor": 0
      },
      "text/plain": [
       "VBox(children=(Output(), RadioButtons(layout=Layout(width='max-content'), options=(('The alternative hypothesi…"
      ]
     },
     "metadata": {},
     "output_type": "display_data"
    },
    {
     "data": {
      "application/vnd.jupyter.widget-view+json": {
       "model_id": "df6287dd6920417589eb43cd9dc8e82d",
       "version_major": 2,
       "version_minor": 0
      },
      "text/plain": [
       "VBox(children=(Output(), RadioButtons(layout=Layout(width='max-content'), options=(('Better than', 0), ('Worse…"
      ]
     },
     "metadata": {},
     "output_type": "display_data"
    },
    {
     "data": {
      "application/vnd.jupyter.widget-view+json": {
       "model_id": "226adfba273141d498deaef2b9875313",
       "version_major": 2,
       "version_minor": 0
      },
      "text/plain": [
       "VBox(children=(Output(), RadioButtons(layout=Layout(width='max-content'), options=(('True', 0), ('False', 1)),…"
      ]
     },
     "metadata": {},
     "output_type": "display_data"
    },
    {
     "data": {
      "application/vnd.jupyter.widget-view+json": {
       "model_id": "2671a0cc8e6347fbb854c1ad6a80b804",
       "version_major": 2,
       "version_minor": 0
      },
      "text/plain": [
       "VBox(children=(Output(), RadioButtons(layout=Layout(width='max-content'), options=(('The null hypothesis', 0),…"
      ]
     },
     "metadata": {},
     "output_type": "display_data"
    },
    {
     "data": {
      "application/vnd.jupyter.widget-view+json": {
       "model_id": "41e7c1659eda48ffbc48397fd202aa9b",
       "version_major": 2,
       "version_minor": 0
      },
      "text/plain": [
       "VBox(children=(Output(), RadioButtons(layout=Layout(width='max-content'), options=(('There is a 99% chance of …"
      ]
     },
     "metadata": {},
     "output_type": "display_data"
    },
    {
     "data": {
      "application/vnd.jupyter.widget-view+json": {
       "model_id": "15aed625c3584fb99dd12fba7eccebb1",
       "version_major": 2,
       "version_minor": 0
      },
      "text/plain": [
       "VBox(children=(Output(), RadioButtons(layout=Layout(width='max-content'), options=(('Accept the null hypothesi…"
      ]
     },
     "metadata": {},
     "output_type": "display_data"
    }
   ],
   "source": [
    "if __name__ == \"__main__\":\n",
    "    display(L6P10Q1, L6P10Q2, L6P10Q3, L6P10Q4, L6P10Q5, L6P10Q6)"
   ]
  },
  {
   "cell_type": "markdown",
   "id": "733aa33d-e0d3-4617-8e4a-9200cf692fac",
   "metadata": {},
   "source": [
    "## Page 11"
   ]
  },
  {
   "cell_type": "code",
   "execution_count": 100,
   "id": "22d30e11-436b-4599-a2e0-080988b9f548",
   "metadata": {},
   "outputs": [],
   "source": [
    "L6P11Q1 = MultipleChoice('1. What is a Type I error?',['It happens when you collect the wrong data','It happens when you don\\'t use the right formula for the standard deviation','It happens when the null is false, but you fail to reject it anyway', 'It happens when the null is true, but you reject it anyway'],'It happens when the null is true, but you reject it anyway')\n",
    "L6P11Q2 = MultipleChoice('2. What is a Type II error?',['It happens when you collect the wrong data','It happens when you don\\'t use the right formula for the standard deviation','It happens when the null is false, but you fail to reject it anyway', 'It happens when the null is true, but you reject it anyway'],'It happens when the null is false, but you fail to reject it anyway')"
   ]
  },
  {
   "cell_type": "code",
   "execution_count": 101,
   "id": "e3fcf824-826e-4828-b8ed-c0bd0a8c2d58",
   "metadata": {},
   "outputs": [
    {
     "data": {
      "application/vnd.jupyter.widget-view+json": {
       "model_id": "43c7f4a4149a4928980cfe6ad72f19f4",
       "version_major": 2,
       "version_minor": 0
      },
      "text/plain": [
       "VBox(children=(Output(), RadioButtons(layout=Layout(width='max-content'), options=(('It happens when you colle…"
      ]
     },
     "metadata": {},
     "output_type": "display_data"
    },
    {
     "data": {
      "application/vnd.jupyter.widget-view+json": {
       "model_id": "e7a4de9f78394c2ca43f35ccbab3105e",
       "version_major": 2,
       "version_minor": 0
      },
      "text/plain": [
       "VBox(children=(Output(), RadioButtons(layout=Layout(width='max-content'), options=(('It happens when you colle…"
      ]
     },
     "metadata": {},
     "output_type": "display_data"
    }
   ],
   "source": [
    "if __name__ == \"__main__\":\n",
    "    display(L6P11Q1, L6P11Q2)"
   ]
  },
  {
   "cell_type": "markdown",
   "id": "88a76ee9-8361-421e-af87-e754e24fa380",
   "metadata": {},
   "source": [
    "## Page 12"
   ]
  },
  {
   "cell_type": "code",
   "execution_count": 102,
   "id": "044fe200-d797-4bb9-9fb7-b665e07f9fe8",
   "metadata": {},
   "outputs": [],
   "source": [
    "L6P12Q1 = MultipleChoice('1. If a defendant is \\033[1mguilty\\033[0m, but the jury finds him not guilty, is this an example of Type I or Type II error?',['Type I','Type II'],'Type II')\n",
    "L6P12Q2 = MultipleChoice('2. If a defendant is \\033[1mnot guilty\\033[0m, but the jury finds him guilty, is this an example of Type I or Type II error?',['Type I','Type II'],'Type I')"
   ]
  },
  {
   "cell_type": "code",
   "execution_count": 103,
   "id": "fdf6ca00-dca6-4a94-9324-71e587dcf9b3",
   "metadata": {},
   "outputs": [
    {
     "data": {
      "application/vnd.jupyter.widget-view+json": {
       "model_id": "db69ad59ccba43c3961d5b83380f77c3",
       "version_major": 2,
       "version_minor": 0
      },
      "text/plain": [
       "VBox(children=(Output(), RadioButtons(layout=Layout(width='max-content'), options=(('Type I', 0), ('Type II', …"
      ]
     },
     "metadata": {},
     "output_type": "display_data"
    },
    {
     "data": {
      "application/vnd.jupyter.widget-view+json": {
       "model_id": "28dec31f08d342c59b77657403feb371",
       "version_major": 2,
       "version_minor": 0
      },
      "text/plain": [
       "VBox(children=(Output(), RadioButtons(layout=Layout(width='max-content'), options=(('Type I', 0), ('Type II', …"
      ]
     },
     "metadata": {},
     "output_type": "display_data"
    }
   ],
   "source": [
    "if __name__ == \"__main__\":\n",
    "    display(L6P12Q1, L6P12Q2)"
   ]
  },
  {
   "cell_type": "markdown",
   "id": "a906d765-224d-47db-a665-14af3bd959f4",
   "metadata": {},
   "source": [
    "---\n",
    "## Lesson 6 Exam \n",
    "## Statistical Inference\n",
    "### Page 14\n",
    "\n",
    "Below is an exam to review the recently covered material. Please feel free to refer to your notes or the curriculum since you don't have to memorize everything in the real world - as long as you know where to find information!"
   ]
  },
  {
   "cell_type": "code",
   "execution_count": 104,
   "id": "492682f7-e9e6-4a03-a6d1-410b5fc6d775",
   "metadata": {},
   "outputs": [],
   "source": [
    "L6P14Q1 = MC('1. The following scenario is an example of what type of sampling? Shonda is doing some polling for an organization in her city. She starts at her neighbor\\'s house and begins knocking on doors until she has collected the necessary data.',['Cluster sampling','Simple Random sampling','Convenience sampling', 'Stratified sampling', 'Systematic sampling'],'Convenience sampling', cor='Since Shonda starts at her neighbor\\'s house, convenient and easy for her, this is convenience sampling.', incor='')\n",
    "L6P14Q2 = MC('2. The following scenario is an example of what type of sampling? At the Mars plant, a single candy bar is pulled for nutritional content testing out of every 300th batch.',['Cluster sampling','Simple Random sampling','Convenience sampling', 'Stratified sampling', 'Systematic sampling'],'Systematic sampling', cor='Since they are pulling every nth bar, this is systematically done and thus systematic sampling.', incor='')\n",
    "L6P14Q3 = MC('3. The following scenario is an example of what type of sampling? A new testing method is being investigated at Timpview High School. The investigation will sample all students in the 3rd period American History class and the 5th-period Geography class.',['Cluster sampling','Simple Random sampling','Convenience sampling', 'Stratified sampling', 'Systematic sampling'],'Cluster sampling', cor='The high school is being broken into groups, or clusters, by class. Everyone in the entire class is a part of the sample, so this is cluster sampling.', incor='')\n",
    "L6P14Q4 = MC('4. The following scenario is an example of what type of sampling? A company is interested in the amount of time a customer spends on their website. When the visit starts, the number generator creates a random number from 1 to 50. If the number generated is 50, then the visit details are recorded, but otherwise, they are not.',['Cluster sampling','Simple random sampling','Convenience sampling', 'Stratified sampling', 'Systematic sampling'],'Simple random sampling', cor='Since there is a random number generator, and customers are assigned a random number, this is simple random sampling.', incor='')\n",
    "L6P14Q5 = MC('5. The following scenario is an example of what type of sampling?',['Cluster sampling','Simple Random sampling','Convenience sampling', 'Stratified sampling', 'Systematic sampling'],'Convenience sampling', cor='Since there is no set plan for sampling, and the police department gives tickets/warnings nearby, this is convenience sampling.', incor='')\n",
    "\n",
    "L6P14Q6 = MC('6. The following scenario is an example of what type of sampling? A fertilizer is being tested on crops eighteen different planted plots of land with barley and the fertilizer. Scientists use 3 of the plots (selected randomly).',['Cluster sampling','Simple Random sampling','Convenience sampling', 'Stratified sampling', 'Systematic sampling'],'Simple Random sampling', cor='Since the three plots were selected randomly, this is simple random sampling.', incor='')\n",
    "L6P14Q7 = MC('7. The following scenario is an example of what type of sampling? People in Europe are asked about whether they agree with a new monetary policy. All 22 European countries will participate in the survey, and the number of people surveyed in each country is proportional to the population in that country.',['Cluster sampling','Simple Random sampling','Convenience sampling', 'Stratified sampling','Systematic sampling'],'Stratified sampling', cor='The strata, or groups, are the countries. Since they are trying to get a proportional sample, this is stratified sampling.', incor='')\n",
    "L6P14Q8 = MC('8. The following scenario is an example of what type of sampling? A packaging facility puts digital desk clocks into clamshell packages and then welds them shut. Then, they pull every 40th package to do a visual inspection on the welds.',['Cluster sampling','Simple Random sampling','Convenience sampling', 'Stratified sampling', 'Systematic sampling'],'Systematic sampling', cor='Because they inspect every 40th package, this is systematic sampling.', incor='')\n",
    "L6P14Q9 = MultipleChoice('9. Which is bigger?',['Population','Sample'],'Population')\n",
    "L6P14Q10 = MultipleChoice('10. What is meant by the phrase \"convenience sample?\"',['It means you do what is convenient for the people you are surveying, such as talk to them when they are available, etc.','It means you use a convenient source for your randomization','It means you should use an app on your phone to select your sample', 'It means that you grab whatever is easily available to create your sample, without worrying about whether it is representative of the population'],'It means that you grab whatever is easily available to create your sample, without worrying about whether it is representative of the population')\n",
    "\n",
    "L6P14Q11 = MultipleChoice('11. Which hypothesis makes a statement of equality?',['The alternative hypothesis','The null hypothesis','Either one can; it just depends on what you are trying to prove', 'Equality cannot be proven, so it doesn\\'t matter which one contains the statement of equality'],'The null hypothesis')\n",
    "L6P14Q12 = MultipleChoice('12. How do the p value and alpha relate to each other?',['Calculate the p value using alpha','If the p value is less than alpha; reject the null hypothesis','If the p value is greater than alpha; reject the null hypothesis', 'If the p value is greater than alpha; accept the null hypothesis', 'Both B & D are correct'],'Both B & D are correct')\n",
    "L6P14Q13 = MultipleChoice('13. What is a type II error?',['The null is true; fail to reject it','The null is true; reject it','The null is false; fail to reject it', 'The null is false; reject it'],'The null is false; fail to reject it')\n",
    "L6P14Q14 = MultipleChoice('14. What is a type I error?',['The null is true; fail to reject it','The null is true; reject it','The null is false; fail to reject it', 'The null is false; reject it'],'The null is true; reject it')\n",
    "L6P14Q15 = MultipleChoice('15. Which of the following is NOT a way in which you can state the alternative hypothesis?',['A and B are not equal','A is greater than B','A and B are equal', 'A is less than B'],'A and B are equal')\n",
    "\n",
    "L6P14Q16 = MultipleChoice('16. True or false? The greater your alpha, the larger the possibility for error.',['True','False'],'True')\n",
    "L6P14Q17 = MultipleChoice('17. True or false? You should assume alpha is .05 unless told otherwise.',['True','False'],'True')"
   ]
  },
  {
   "cell_type": "code",
   "execution_count": 105,
   "id": "72c62c85-08c0-4635-b72e-887dacea9667",
   "metadata": {},
   "outputs": [
    {
     "data": {
      "application/vnd.jupyter.widget-view+json": {
       "model_id": "0535dc3b45e0453d8e5b5cd152694a89",
       "version_major": 2,
       "version_minor": 0
      },
      "text/plain": [
       "VBox(children=(Output(), RadioButtons(layout=Layout(width='max-content'), options=(('Cluster sampling', 0), ('…"
      ]
     },
     "metadata": {},
     "output_type": "display_data"
    },
    {
     "data": {
      "application/vnd.jupyter.widget-view+json": {
       "model_id": "fc1fb9c4d61548579196f18ab98d0cad",
       "version_major": 2,
       "version_minor": 0
      },
      "text/plain": [
       "VBox(children=(Output(), RadioButtons(layout=Layout(width='max-content'), options=(('Cluster sampling', 0), ('…"
      ]
     },
     "metadata": {},
     "output_type": "display_data"
    },
    {
     "data": {
      "application/vnd.jupyter.widget-view+json": {
       "model_id": "6b6f531256da44629ae085037b1ec5fa",
       "version_major": 2,
       "version_minor": 0
      },
      "text/plain": [
       "VBox(children=(Output(), RadioButtons(layout=Layout(width='max-content'), options=(('Cluster sampling', 0), ('…"
      ]
     },
     "metadata": {},
     "output_type": "display_data"
    },
    {
     "data": {
      "application/vnd.jupyter.widget-view+json": {
       "model_id": "6c18c2e5a6e04ac48e64b83e589af8ea",
       "version_major": 2,
       "version_minor": 0
      },
      "text/plain": [
       "VBox(children=(Output(), RadioButtons(layout=Layout(width='max-content'), options=(('Cluster sampling', 0), ('…"
      ]
     },
     "metadata": {},
     "output_type": "display_data"
    },
    {
     "data": {
      "application/vnd.jupyter.widget-view+json": {
       "model_id": "00113fa7f32f412681373838aae7d956",
       "version_major": 2,
       "version_minor": 0
      },
      "text/plain": [
       "VBox(children=(Output(), RadioButtons(layout=Layout(width='max-content'), options=(('Cluster sampling', 0), ('…"
      ]
     },
     "metadata": {},
     "output_type": "display_data"
    },
    {
     "data": {
      "application/vnd.jupyter.widget-view+json": {
       "model_id": "4ef3b0f541f948729c698b978f2320e2",
       "version_major": 2,
       "version_minor": 0
      },
      "text/plain": [
       "VBox(children=(Output(), RadioButtons(layout=Layout(width='max-content'), options=(('Cluster sampling', 0), ('…"
      ]
     },
     "metadata": {},
     "output_type": "display_data"
    },
    {
     "data": {
      "application/vnd.jupyter.widget-view+json": {
       "model_id": "9722ea01a03a4907af7d6e8ca2128ecc",
       "version_major": 2,
       "version_minor": 0
      },
      "text/plain": [
       "VBox(children=(Output(), RadioButtons(layout=Layout(width='max-content'), options=(('Cluster sampling', 0), ('…"
      ]
     },
     "metadata": {},
     "output_type": "display_data"
    },
    {
     "data": {
      "application/vnd.jupyter.widget-view+json": {
       "model_id": "1b9b4592d861425085fd6582ec47b402",
       "version_major": 2,
       "version_minor": 0
      },
      "text/plain": [
       "VBox(children=(Output(), RadioButtons(layout=Layout(width='max-content'), options=(('Cluster sampling', 0), ('…"
      ]
     },
     "metadata": {},
     "output_type": "display_data"
    },
    {
     "data": {
      "application/vnd.jupyter.widget-view+json": {
       "model_id": "0ef26ec591fb4d76961f09c509727637",
       "version_major": 2,
       "version_minor": 0
      },
      "text/plain": [
       "VBox(children=(Output(), RadioButtons(layout=Layout(width='max-content'), options=(('Population', 0), ('Sample…"
      ]
     },
     "metadata": {},
     "output_type": "display_data"
    },
    {
     "data": {
      "application/vnd.jupyter.widget-view+json": {
       "model_id": "d44cd2f1674140159d9f1230a6058385",
       "version_major": 2,
       "version_minor": 0
      },
      "text/plain": [
       "VBox(children=(Output(), RadioButtons(layout=Layout(width='max-content'), options=(('It means you do what is c…"
      ]
     },
     "metadata": {},
     "output_type": "display_data"
    },
    {
     "data": {
      "application/vnd.jupyter.widget-view+json": {
       "model_id": "0e5e2f1e9d224e78b6288a9ceeb744b6",
       "version_major": 2,
       "version_minor": 0
      },
      "text/plain": [
       "VBox(children=(Output(), RadioButtons(layout=Layout(width='max-content'), options=(('The alternative hypothesi…"
      ]
     },
     "metadata": {},
     "output_type": "display_data"
    },
    {
     "data": {
      "application/vnd.jupyter.widget-view+json": {
       "model_id": "7e42f94fa7ed456da29b47099187ea9e",
       "version_major": 2,
       "version_minor": 0
      },
      "text/plain": [
       "VBox(children=(Output(), RadioButtons(layout=Layout(width='max-content'), options=(('Calculate the p value usi…"
      ]
     },
     "metadata": {},
     "output_type": "display_data"
    },
    {
     "data": {
      "application/vnd.jupyter.widget-view+json": {
       "model_id": "b38a33928d7f45aca11ab75550759d15",
       "version_major": 2,
       "version_minor": 0
      },
      "text/plain": [
       "VBox(children=(Output(), RadioButtons(layout=Layout(width='max-content'), options=(('The null is true; fail to…"
      ]
     },
     "metadata": {},
     "output_type": "display_data"
    },
    {
     "data": {
      "application/vnd.jupyter.widget-view+json": {
       "model_id": "372895a8181542938176ae697e5a55be",
       "version_major": 2,
       "version_minor": 0
      },
      "text/plain": [
       "VBox(children=(Output(), RadioButtons(layout=Layout(width='max-content'), options=(('The null is true; fail to…"
      ]
     },
     "metadata": {},
     "output_type": "display_data"
    },
    {
     "data": {
      "application/vnd.jupyter.widget-view+json": {
       "model_id": "7ffb5ca86e46470abc829e65d6408899",
       "version_major": 2,
       "version_minor": 0
      },
      "text/plain": [
       "VBox(children=(Output(), RadioButtons(layout=Layout(width='max-content'), options=(('A and B are not equal', 0…"
      ]
     },
     "metadata": {},
     "output_type": "display_data"
    },
    {
     "data": {
      "application/vnd.jupyter.widget-view+json": {
       "model_id": "147744fc32ee441281738a0eeb13eaaf",
       "version_major": 2,
       "version_minor": 0
      },
      "text/plain": [
       "VBox(children=(Output(), RadioButtons(layout=Layout(width='max-content'), options=(('True', 0), ('False', 1)),…"
      ]
     },
     "metadata": {},
     "output_type": "display_data"
    },
    {
     "data": {
      "application/vnd.jupyter.widget-view+json": {
       "model_id": "07308eb57a4142228ca02a62690a2c2b",
       "version_major": 2,
       "version_minor": 0
      },
      "text/plain": [
       "VBox(children=(Output(), RadioButtons(layout=Layout(width='max-content'), options=(('True', 0), ('False', 1)),…"
      ]
     },
     "metadata": {},
     "output_type": "display_data"
    }
   ],
   "source": [
    "if __name__ == \"__main__\":\n",
    "    display(L6P14Q1, L6P14Q2, L6P14Q3, L6P14Q4, L6P14Q5, L6P14Q6, L6P14Q7, L6P14Q8, L6P14Q9, L6P14Q10, L6P14Q11, L6P14Q12, L6P14Q13, L6P14Q14, L6P14Q15, L6P14Q16,L6P14Q17)"
   ]
  },
  {
   "cell_type": "code",
   "execution_count": null,
   "id": "97b3515b-43a7-4087-8acc-4481677ac6c2",
   "metadata": {},
   "outputs": [],
   "source": []
  }
 ],
 "metadata": {
  "kernelspec": {
   "display_name": "Python 3 (ipykernel)",
   "language": "python",
   "name": "python3"
  },
  "language_info": {
   "codemirror_mode": {
    "name": "ipython",
    "version": 3
   },
   "file_extension": ".py",
   "mimetype": "text/x-python",
   "name": "python",
   "nbconvert_exporter": "python",
   "pygments_lexer": "ipython3",
   "version": "3.9.7"
  }
 },
 "nbformat": 4,
 "nbformat_minor": 5
}
