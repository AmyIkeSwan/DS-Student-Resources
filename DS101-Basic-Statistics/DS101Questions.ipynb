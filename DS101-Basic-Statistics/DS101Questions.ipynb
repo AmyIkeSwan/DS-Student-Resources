{
 "cells": [
  {
   "cell_type": "markdown",
   "id": "ebae2c8b-1d2e-4724-8b13-f3bd87d7f449",
   "metadata": {},
   "source": [
    "# DS101 Lesson 1 Questions"
   ]
  },
  {
   "cell_type": "code",
   "execution_count": 1,
   "id": "cc877c15-39ed-49d3-8494-07b7540a11f1",
   "metadata": {},
   "outputs": [],
   "source": [
    "from DS_Students import MultipleChoice"
   ]
  },
  {
   "cell_type": "markdown",
   "id": "bb7593ff-c5c9-4fa4-8a48-e52c285f7c57",
   "metadata": {},
   "source": [
    "## Page 2"
   ]
  },
  {
   "cell_type": "code",
   "execution_count": 2,
   "id": "f262e652-38c0-455a-80b0-ee16062ada26",
   "metadata": {},
   "outputs": [],
   "source": [
    "L1P2Q1 = MultipleChoice('1. Which of the following fields has helped form the discipline of data science?',['Statistics','Computer Science','Communications', 'All of the above'],'All of the above')\n",
    "L1P2Q2 = MultipleChoice('2. What is the primary goal of data science?',['To make data actionable','To analyze data','Create complex models no one can understand'],'To make data actionable')\n",
    "L1P2Q3 = MultipleChoice('3. As a mid-level data scientist, what skills should you know?',['Machine Learning','Statistical Programming','Big Data such as Spark or Hadoop', 'Project Managment'],'Statistical Programming')\n",
    "L1P2Q4 = MultipleChoice('4. What are the applications for mid-level data scientists?',['Business Analysis','Scientific Applications','Data Entry', 'Descriptive Statistics', 'Both A & B are correct'],'Both A & B are correct')\n",
    "L1P2Q5 = MultipleChoice('5. Which of the following is NOT a benefit from joining a professional society?',['Networking','Field-specific job boards','Access to recruiters', 'Discounts on journals and other publications'],'Access to recruiters')"
   ]
  },
  {
   "cell_type": "code",
   "execution_count": 3,
   "id": "ed8e3b08-08bd-4bfd-a7c3-31724bdf6fa8",
   "metadata": {},
   "outputs": [
    {
     "data": {
      "application/vnd.jupyter.widget-view+json": {
       "model_id": "79084c29233e4ad1993802149132b16b",
       "version_major": 2,
       "version_minor": 0
      },
      "text/plain": [
       "VBox(children=(Output(), RadioButtons(options=(('Statistics', 0), ('Computer Science', 1), ('Communications', …"
      ]
     },
     "metadata": {},
     "output_type": "display_data"
    },
    {
     "data": {
      "application/vnd.jupyter.widget-view+json": {
       "model_id": "749fe0e25e8b477ab0dc8bba11b971be",
       "version_major": 2,
       "version_minor": 0
      },
      "text/plain": [
       "VBox(children=(Output(), RadioButtons(options=(('To make data actionable', 0), ('To analyze data', 1), ('Creat…"
      ]
     },
     "metadata": {},
     "output_type": "display_data"
    },
    {
     "data": {
      "application/vnd.jupyter.widget-view+json": {
       "model_id": "3cba3e1b20804f2296719ba9049703ae",
       "version_major": 2,
       "version_minor": 0
      },
      "text/plain": [
       "VBox(children=(Output(), RadioButtons(options=(('Machine Learning', 0), ('Statistical Programming', 1), ('Big …"
      ]
     },
     "metadata": {},
     "output_type": "display_data"
    },
    {
     "data": {
      "application/vnd.jupyter.widget-view+json": {
       "model_id": "1d98e10e02ba4072bc6a00473c963ca5",
       "version_major": 2,
       "version_minor": 0
      },
      "text/plain": [
       "VBox(children=(Output(), RadioButtons(options=(('Business Analysis', 0), ('Scientific Applications', 1), ('Dat…"
      ]
     },
     "metadata": {},
     "output_type": "display_data"
    },
    {
     "data": {
      "application/vnd.jupyter.widget-view+json": {
       "model_id": "b0fbb7d4c69d4097bbd180802923241c",
       "version_major": 2,
       "version_minor": 0
      },
      "text/plain": [
       "VBox(children=(Output(), RadioButtons(options=(('Networking', 0), ('Field-specific job boards', 1), ('Access t…"
      ]
     },
     "metadata": {},
     "output_type": "display_data"
    }
   ],
   "source": [
    "if __name__ == \"__main__\":\n",
    "    display(L1P2Q1, L1P2Q2, L1P2Q3, L1P2Q4, L1P2Q5)"
   ]
  },
  {
   "cell_type": "markdown",
   "id": "b1899a9e-73ec-42d7-a5df-b450d6df1407",
   "metadata": {},
   "source": [
    "## Page 3"
   ]
  },
  {
   "cell_type": "code",
   "execution_count": 4,
   "id": "992b6363-e342-4ca8-a91e-2fd10527baac",
   "metadata": {},
   "outputs": [],
   "source": [
    "L1P3Q1 = MultipleChoice('1. Which of the following does NOT contain the Preparation phase of the data science pipeline?',['Data Wrangling','Data Cleaning','Preparation', 'Data Extraction'],'Data Extraction')\n",
    "L1P3Q2 = MultipleChoice('2. What is the program most often used for data extraction?',['R','SQL','Python', 'Tableau'],'SQL')\n",
    "L1P3Q3 = MultipleChoice('3. What is the program most often used for data visualization?',['R','SQL','Python', 'Tableau'],'Tableau')\n",
    "L1P3Q4 = MultipleChoice('4. What is the purpose of data cleaning?',['To test hypotheses','To report findings','Ensure you have the most accurate information', 'To collect data'],'Ensure you have the most accurate information')"
   ]
  },
  {
   "cell_type": "code",
   "execution_count": 5,
   "id": "9ed81e64-7220-4997-967b-c7bfa20b416b",
   "metadata": {},
   "outputs": [
    {
     "data": {
      "application/vnd.jupyter.widget-view+json": {
       "model_id": "e0eb22098fbf44e787b0a93ecc61ca1b",
       "version_major": 2,
       "version_minor": 0
      },
      "text/plain": [
       "VBox(children=(Output(), RadioButtons(options=(('Data Wrangling', 0), ('Data Cleaning', 1), ('Preparation', 2)…"
      ]
     },
     "metadata": {},
     "output_type": "display_data"
    },
    {
     "data": {
      "application/vnd.jupyter.widget-view+json": {
       "model_id": "5f6512e894af4709a8f68fc7dbde55f1",
       "version_major": 2,
       "version_minor": 0
      },
      "text/plain": [
       "VBox(children=(Output(), RadioButtons(options=(('R', 0), ('SQL', 1), ('Python', 2), ('Tableau', 3)), value=0),…"
      ]
     },
     "metadata": {},
     "output_type": "display_data"
    },
    {
     "data": {
      "application/vnd.jupyter.widget-view+json": {
       "model_id": "dd7af4251e334df8b0466d027ade01c8",
       "version_major": 2,
       "version_minor": 0
      },
      "text/plain": [
       "VBox(children=(Output(), RadioButtons(options=(('R', 0), ('SQL', 1), ('Python', 2), ('Tableau', 3)), value=0),…"
      ]
     },
     "metadata": {},
     "output_type": "display_data"
    },
    {
     "data": {
      "application/vnd.jupyter.widget-view+json": {
       "model_id": "567c55b0e2714106880e0b3b2686375c",
       "version_major": 2,
       "version_minor": 0
      },
      "text/plain": [
       "VBox(children=(Output(), RadioButtons(options=(('To test hypotheses', 0), ('To report findings', 1), ('Ensure …"
      ]
     },
     "metadata": {},
     "output_type": "display_data"
    }
   ],
   "source": [
    "if __name__ == \"__main__\":\n",
    "    display(L1P3Q1, L1P3Q2, L1P3Q3, L1P3Q4)"
   ]
  },
  {
   "cell_type": "markdown",
   "id": "05c396e2-de6f-4c32-a032-ce60089596f4",
   "metadata": {},
   "source": [
    "## Page 4"
   ]
  },
  {
   "cell_type": "code",
   "execution_count": 6,
   "id": "21de2de2-86aa-4548-9967-301683bfc5b2",
   "metadata": {},
   "outputs": [],
   "source": [
    "L1P4Q1 = MultipleChoice('1. Which of the following is NOT software typically used for data extraction?',['SPSS','SQL','NoSQL', 'SAP Business Objects'],'SPSS')\n",
    "L1P4Q2 = MultipleChoice('2. Which of the following is the most common software used for data analysis?',['SPSS','SAS','R', 'Python'],'Python')\n",
    "L1P4Q3 = MultipleChoice('3. Which of the following is not typically used in research / academic settings?',['Stata','Mplus','SAS', 'SPSS'],'SAS')\n",
    "L1P4Q4 = MultipleChoice('4. Your manager asks you to recommend data analytics software for the data science team. The requirements are that the software has some point and click function. Your company is willing to pay a decent amount of money, which is for a business setting. What software would you recommend?',['Stata','SAS','Minitab', 'Python'],'SAS')\n",
    "L1P4Q5 = MultipleChoice('5. Your manager asks you to recommend data analytics software for his data science team. His only requirement is that the software is completely free.',['MATLAB','R','SAS', 'Stata'],'R')\n",
    "L1P4Q6 = MultipleChoice('6. Your manager asks you to recommend data analytics software for a data science team tracking wild animal behavior and population growth. What software would you recommend?',['SPSS','Mplus','Python', 'MATLAB'],'MATLAB')\n",
    "L1P4Q7 = MultipleChoice('7. What is the difference between Spark and Hadoop?',['Spark is much faster than Hadoop','Hadoop is much faster than Spark','There are no differences', 'Hadoop can run a wider variety of analyses'],'Spark is much faster than Hadoop')\n",
    "L1P4Q8 = MultipleChoice('8. If you needed to complete data extraction on a tremendous amount of data, what program would you use?',['Spark','Hive','R', 'Hadoop'],'Hive')"
   ]
  },
  {
   "cell_type": "code",
   "execution_count": 7,
   "id": "cce693e3-f94b-4505-8e7e-1f40133ad8b7",
   "metadata": {},
   "outputs": [
    {
     "data": {
      "application/vnd.jupyter.widget-view+json": {
       "model_id": "461872723ea047b5ad0a2cda9137331e",
       "version_major": 2,
       "version_minor": 0
      },
      "text/plain": [
       "VBox(children=(Output(), RadioButtons(options=(('SPSS', 0), ('SQL', 1), ('NoSQL', 2), ('SAP Business Objects',…"
      ]
     },
     "metadata": {},
     "output_type": "display_data"
    },
    {
     "data": {
      "application/vnd.jupyter.widget-view+json": {
       "model_id": "b5bb1eb6c8454933a0cd028d25893b32",
       "version_major": 2,
       "version_minor": 0
      },
      "text/plain": [
       "VBox(children=(Output(), RadioButtons(options=(('SPSS', 0), ('SAS', 1), ('R', 2), ('Python', 3)), value=0), Bu…"
      ]
     },
     "metadata": {},
     "output_type": "display_data"
    },
    {
     "data": {
      "application/vnd.jupyter.widget-view+json": {
       "model_id": "1d08eb0c8fbb4380a4976761e04b76a0",
       "version_major": 2,
       "version_minor": 0
      },
      "text/plain": [
       "VBox(children=(Output(), RadioButtons(options=(('Stata', 0), ('Mplus', 1), ('SAS', 2), ('SPSS', 3)), value=0),…"
      ]
     },
     "metadata": {},
     "output_type": "display_data"
    },
    {
     "data": {
      "application/vnd.jupyter.widget-view+json": {
       "model_id": "79b87e01484b424ea504fcee5a35d7c2",
       "version_major": 2,
       "version_minor": 0
      },
      "text/plain": [
       "VBox(children=(Output(), RadioButtons(options=(('Stata', 0), ('SAS', 1), ('Minitab', 2), ('Python', 3)), value…"
      ]
     },
     "metadata": {},
     "output_type": "display_data"
    },
    {
     "data": {
      "application/vnd.jupyter.widget-view+json": {
       "model_id": "d353754cf98b4b1eaba093f99cd862d6",
       "version_major": 2,
       "version_minor": 0
      },
      "text/plain": [
       "VBox(children=(Output(), RadioButtons(options=(('MATLAB', 0), ('R', 1), ('SAS', 2), ('Stata', 3)), value=0), B…"
      ]
     },
     "metadata": {},
     "output_type": "display_data"
    },
    {
     "data": {
      "application/vnd.jupyter.widget-view+json": {
       "model_id": "d7be805266c1420f9c304b4217901e8f",
       "version_major": 2,
       "version_minor": 0
      },
      "text/plain": [
       "VBox(children=(Output(), RadioButtons(options=(('SPSS', 0), ('Mplus', 1), ('Python', 2), ('MATLAB', 3)), value…"
      ]
     },
     "metadata": {},
     "output_type": "display_data"
    },
    {
     "data": {
      "application/vnd.jupyter.widget-view+json": {
       "model_id": "6a4727a7a0fe4940b02a5022d7c09aa7",
       "version_major": 2,
       "version_minor": 0
      },
      "text/plain": [
       "VBox(children=(Output(), RadioButtons(options=(('Spark is much faster than Hadoop', 0), ('Hadoop is much faste…"
      ]
     },
     "metadata": {},
     "output_type": "display_data"
    },
    {
     "data": {
      "application/vnd.jupyter.widget-view+json": {
       "model_id": "7103861613914f6f924cd4013722ff5c",
       "version_major": 2,
       "version_minor": 0
      },
      "text/plain": [
       "VBox(children=(Output(), RadioButtons(options=(('Spark', 0), ('Hive', 1), ('R', 2), ('Hadoop', 3)), value=0), …"
      ]
     },
     "metadata": {},
     "output_type": "display_data"
    }
   ],
   "source": [
    "if __name__ == \"__main__\":\n",
    "    display(L1P4Q1, L1P4Q2, L1P4Q3, L1P4Q4, L1P4Q5, L1P4Q6, L1P4Q7, L1P4Q8)"
   ]
  },
  {
   "cell_type": "markdown",
   "id": "7315ab91-85a4-4aef-810d-a1e308a2ca6d",
   "metadata": {},
   "source": [
    "## Page 5"
   ]
  },
  {
   "cell_type": "code",
   "execution_count": 8,
   "id": "df29e853-8b7f-42cb-854e-a51818f89aa4",
   "metadata": {},
   "outputs": [],
   "source": [
    "L1P5Q1 = MultipleChoice('1. This data science curriculum follows the data science pipeline.',['True','False'],'True')\n",
    "L1P5Q2 = MultipleChoice('2. How long is the final project module??',['Eight weeks','Three weeks','Six weeks', 'Two weeks'],'Six weeks')\n",
    "L1P5Q3 = MultipleChoice('3. What is the purpose of the Data Wrangling and Visualization module?',['Learn the basics of data analysis','Learn how to create your own metrics','Learn R', 'Helps others to understand your work'],'Helps others to understand your work')"
   ]
  },
  {
   "cell_type": "code",
   "execution_count": 9,
   "id": "0d587f7e-8f5c-48b6-8c17-545fbb855486",
   "metadata": {},
   "outputs": [
    {
     "data": {
      "application/vnd.jupyter.widget-view+json": {
       "model_id": "61c0a4079f2f450385885d2f943a63da",
       "version_major": 2,
       "version_minor": 0
      },
      "text/plain": [
       "VBox(children=(Output(), RadioButtons(options=(('True', 0), ('False', 1)), value=0), Button(description='submi…"
      ]
     },
     "metadata": {},
     "output_type": "display_data"
    },
    {
     "data": {
      "application/vnd.jupyter.widget-view+json": {
       "model_id": "0874991f79854baabbf97d68f525cd01",
       "version_major": 2,
       "version_minor": 0
      },
      "text/plain": [
       "VBox(children=(Output(), RadioButtons(options=(('Eight weeks', 0), ('Three weeks', 1), ('Six weeks', 2), ('Two…"
      ]
     },
     "metadata": {},
     "output_type": "display_data"
    },
    {
     "data": {
      "application/vnd.jupyter.widget-view+json": {
       "model_id": "0d0a54360a8c4de8bfc1d88b27d02493",
       "version_major": 2,
       "version_minor": 0
      },
      "text/plain": [
       "VBox(children=(Output(), RadioButtons(options=(('Learn the basics of data analysis', 0), ('Learn how to create…"
      ]
     },
     "metadata": {},
     "output_type": "display_data"
    }
   ],
   "source": [
    "if __name__ == \"__main__\":\n",
    "    display(L1P5Q1, L1P5Q2, L1P5Q3)"
   ]
  },
  {
   "cell_type": "code",
   "execution_count": null,
   "id": "687df7a2-537c-4437-a889-cdf74774b0e9",
   "metadata": {},
   "outputs": [],
   "source": []
  }
 ],
 "metadata": {
  "kernelspec": {
   "display_name": "Python 3 (ipykernel)",
   "language": "python",
   "name": "python3"
  },
  "language_info": {
   "codemirror_mode": {
    "name": "ipython",
    "version": 3
   },
   "file_extension": ".py",
   "mimetype": "text/x-python",
   "name": "python",
   "nbconvert_exporter": "python",
   "pygments_lexer": "ipython3",
   "version": "3.9.7"
  }
 },
 "nbformat": 4,
 "nbformat_minor": 5
}
