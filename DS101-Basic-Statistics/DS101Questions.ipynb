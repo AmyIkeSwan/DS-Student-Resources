{
 "cells": [
  {
   "cell_type": "markdown",
   "id": "ebae2c8b-1d2e-4724-8b13-f3bd87d7f449",
   "metadata": {},
   "source": [
    "# DS101 Lesson 1 Questions"
   ]
  },
  {
   "cell_type": "code",
   "execution_count": 1,
   "id": "cc877c15-39ed-49d3-8494-07b7540a11f1",
   "metadata": {},
   "outputs": [],
   "source": [
    "from DS_Students import MultipleChoice"
   ]
  },
  {
   "cell_type": "markdown",
   "id": "bb7593ff-c5c9-4fa4-8a48-e52c285f7c57",
   "metadata": {},
   "source": [
    "## Page 2"
   ]
  },
  {
   "cell_type": "code",
   "execution_count": 2,
   "id": "f262e652-38c0-455a-80b0-ee16062ada26",
   "metadata": {},
   "outputs": [],
   "source": [
    "L1P2Q1 = MultipleChoice('1. Which of the following fields has helped form the discipline of data science?',['Statistics','Computer Science','Communications', 'All of the above'],'All of the above')\n",
    "L1P2Q2 = MultipleChoice('2. What is the primary goal of data science?',['To make data actionable','To analyze data','Create complex models no one can understand'],'To make data actionable')\n",
    "L1P2Q3 = MultipleChoice('3. As a mid-level data scientist, what skills should you know?',['Machine Learning','Statistical Programming','Big Data such as Spark or Hadoop', 'Project Managment'],'Statistical Programming')\n",
    "L1P2Q4 = MultipleChoice('4. What are the applications for mid-level data scientists?',['Business Analysis','Scientific Applications','Data Entry', 'Descriptive Statistics', 'Both A & B are correct'],'Both A & B are correct')\n",
    "L1P2Q5 = MultipleChoice('5. Which of the following is NOT a benefit from joining a professional society?',['Networking','Field-specific job boards','Access to recruiters', 'Discounts on journals and other publications'],'Access to recruiters')"
   ]
  },
  {
   "cell_type": "code",
   "execution_count": 3,
   "id": "ed8e3b08-08bd-4bfd-a7c3-31724bdf6fa8",
   "metadata": {},
   "outputs": [
    {
     "data": {
      "application/vnd.jupyter.widget-view+json": {
       "model_id": "711e28be0fb141b2856afe137abbcd53",
       "version_major": 2,
       "version_minor": 0
      },
      "text/plain": [
       "VBox(children=(Output(), RadioButtons(options=(('Statistics', 0), ('Computer Science', 1), ('Communications', …"
      ]
     },
     "metadata": {},
     "output_type": "display_data"
    },
    {
     "data": {
      "application/vnd.jupyter.widget-view+json": {
       "model_id": "826c9a62d8744f008d69943a20b4225f",
       "version_major": 2,
       "version_minor": 0
      },
      "text/plain": [
       "VBox(children=(Output(), RadioButtons(options=(('To make data actionable', 0), ('To analyze data', 1), ('Creat…"
      ]
     },
     "metadata": {},
     "output_type": "display_data"
    },
    {
     "data": {
      "application/vnd.jupyter.widget-view+json": {
       "model_id": "87ac89e707734cd6907f0e6bfb0eaeb5",
       "version_major": 2,
       "version_minor": 0
      },
      "text/plain": [
       "VBox(children=(Output(), RadioButtons(options=(('Machine Learning', 0), ('Statistical Programming', 1), ('Big …"
      ]
     },
     "metadata": {},
     "output_type": "display_data"
    },
    {
     "data": {
      "application/vnd.jupyter.widget-view+json": {
       "model_id": "fb1ce10145b94052b453eb5874c03301",
       "version_major": 2,
       "version_minor": 0
      },
      "text/plain": [
       "VBox(children=(Output(), RadioButtons(options=(('Business Analysis', 0), ('Scientific Applications', 1), ('Dat…"
      ]
     },
     "metadata": {},
     "output_type": "display_data"
    },
    {
     "data": {
      "application/vnd.jupyter.widget-view+json": {
       "model_id": "1fd2f1b91d5442808c534007bd1f2e75",
       "version_major": 2,
       "version_minor": 0
      },
      "text/plain": [
       "VBox(children=(Output(), RadioButtons(options=(('Networking', 0), ('Field-specific job boards', 1), ('Access t…"
      ]
     },
     "metadata": {},
     "output_type": "display_data"
    }
   ],
   "source": [
    "if __name__ == \"__main__\":\n",
    "    display(L1P2Q1, L1P2Q2, L1P2Q3, L1P2Q4, L1P2Q5)"
   ]
  },
  {
   "cell_type": "markdown",
   "id": "b1899a9e-73ec-42d7-a5df-b450d6df1407",
   "metadata": {},
   "source": [
    "## Page 3"
   ]
  },
  {
   "cell_type": "code",
   "execution_count": 4,
   "id": "992b6363-e342-4ca8-a91e-2fd10527baac",
   "metadata": {},
   "outputs": [],
   "source": [
    "L1P3Q1 = MultipleChoice('1. Which of the following does NOT contain the Preparation phase of the data science pipeline?',['Data Wrangling','Data Cleaning','Preparation', 'Data Extraction'],'Data Extraction')\n",
    "L1P3Q2 = MultipleChoice('2. What is the program most often used for data extraction?',['R','SQL','Python', 'Tableau'],'SQL')\n",
    "L1P3Q3 = MultipleChoice('3. What is the program most often used for data visualization?',['R','SQL','Python', 'Tableau'],'Tableau')\n",
    "L1P3Q4 = MultipleChoice('4. What is the purpose of data cleaning?',['To test hypotheses','To report findings','Ensure you have the most accurate information', 'To collect data'],'Ensure you have the most accurate information')"
   ]
  },
  {
   "cell_type": "code",
   "execution_count": 5,
   "id": "9ed81e64-7220-4997-967b-c7bfa20b416b",
   "metadata": {},
   "outputs": [
    {
     "data": {
      "application/vnd.jupyter.widget-view+json": {
       "model_id": "dfb0b81b8eb24a859c4d5d0bf2933682",
       "version_major": 2,
       "version_minor": 0
      },
      "text/plain": [
       "VBox(children=(Output(), RadioButtons(options=(('Data Wrangling', 0), ('Data Cleaning', 1), ('Preparation', 2)…"
      ]
     },
     "metadata": {},
     "output_type": "display_data"
    },
    {
     "data": {
      "application/vnd.jupyter.widget-view+json": {
       "model_id": "2300e6f8fa16467eba82e27ff270e4ea",
       "version_major": 2,
       "version_minor": 0
      },
      "text/plain": [
       "VBox(children=(Output(), RadioButtons(options=(('R', 0), ('SQL', 1), ('Python', 2), ('Tableau', 3)), value=0),…"
      ]
     },
     "metadata": {},
     "output_type": "display_data"
    },
    {
     "data": {
      "application/vnd.jupyter.widget-view+json": {
       "model_id": "023ee8e4a28b4e8986917771ec670246",
       "version_major": 2,
       "version_minor": 0
      },
      "text/plain": [
       "VBox(children=(Output(), RadioButtons(options=(('R', 0), ('SQL', 1), ('Python', 2), ('Tableau', 3)), value=0),…"
      ]
     },
     "metadata": {},
     "output_type": "display_data"
    },
    {
     "data": {
      "application/vnd.jupyter.widget-view+json": {
       "model_id": "a56b1388a40b4d409b292efadb357d6d",
       "version_major": 2,
       "version_minor": 0
      },
      "text/plain": [
       "VBox(children=(Output(), RadioButtons(options=(('To test hypotheses', 0), ('To report findings', 1), ('Ensure …"
      ]
     },
     "metadata": {},
     "output_type": "display_data"
    }
   ],
   "source": [
    "if __name__ == \"__main__\":\n",
    "    display(L1P3Q1, L1P3Q2, L1P3Q3, L1P3Q4)"
   ]
  },
  {
   "cell_type": "markdown",
   "id": "05c396e2-de6f-4c32-a032-ce60089596f4",
   "metadata": {},
   "source": [
    "## Page 4"
   ]
  },
  {
   "cell_type": "code",
   "execution_count": 6,
   "id": "21de2de2-86aa-4548-9967-301683bfc5b2",
   "metadata": {},
   "outputs": [],
   "source": [
    "L1P4Q1 = MultipleChoice('1. Which of the following is NOT software typically used for data extraction?',['SPSS','SQL','NoSQL', 'SAP Business Objects'],'SPSS')\n",
    "L1P4Q2 = MultipleChoice('2. Which of the following is the most common software used for data analysis?',['SPSS','SAS','R', 'Python'],'Python')\n",
    "L1P4Q3 = MultipleChoice('3. Which of the following is not typically used in research / academic settings?',['Stata','Mplus','SAS', 'SPSS'],'SAS')\n",
    "L1P4Q4 = MultipleChoice('4. Your manager asks you to recommend data analytics software for the data science team. The requirements are that the software has some point and click function. Your company is willing to pay a decent amount of money, which is for a business setting. What software would you recommend?',['Stata','SAS','Minitab', 'Python'],'SAS')\n",
    "L1P4Q5 = MultipleChoice('5. Your manager asks you to recommend data analytics software for his data science team. His only requirement is that the software is completely free.',['MATLAB','R','SAS', 'Stata'],'R')\n",
    "L1P4Q6 = MultipleChoice('6. Your manager asks you to recommend data analytics software for a data science team tracking wild animal behavior and population growth. What software would you recommend?',['SPSS','Mplus','Python', 'MATLAB'],'MATLAB')\n",
    "L1P4Q7 = MultipleChoice('7. What is the difference between Spark and Hadoop?',['Spark is much faster than Hadoop','Hadoop is much faster than Spark','There are no differences', 'Hadoop can run a wider variety of analyses'],'Spark is much faster than Hadoop')\n",
    "L1P4Q8 = MultipleChoice('8. If you needed to complete data extraction on a tremendous amount of data, what program would you use?',['Spark','Hive','R', 'Hadoop'],'Hive')"
   ]
  },
  {
   "cell_type": "code",
   "execution_count": 7,
   "id": "cce693e3-f94b-4505-8e7e-1f40133ad8b7",
   "metadata": {},
   "outputs": [
    {
     "data": {
      "application/vnd.jupyter.widget-view+json": {
       "model_id": "e37d0e8c90b045169400503932239ddd",
       "version_major": 2,
       "version_minor": 0
      },
      "text/plain": [
       "VBox(children=(Output(), RadioButtons(options=(('SPSS', 0), ('SQL', 1), ('NoSQL', 2), ('SAP Business Objects',…"
      ]
     },
     "metadata": {},
     "output_type": "display_data"
    },
    {
     "data": {
      "application/vnd.jupyter.widget-view+json": {
       "model_id": "f6332f6f68c0484f966ed5031970e81a",
       "version_major": 2,
       "version_minor": 0
      },
      "text/plain": [
       "VBox(children=(Output(), RadioButtons(options=(('SPSS', 0), ('SAS', 1), ('R', 2), ('Python', 3)), value=0), Bu…"
      ]
     },
     "metadata": {},
     "output_type": "display_data"
    },
    {
     "data": {
      "application/vnd.jupyter.widget-view+json": {
       "model_id": "dacadb4f857f4c0cab487173f9dd9bb2",
       "version_major": 2,
       "version_minor": 0
      },
      "text/plain": [
       "VBox(children=(Output(), RadioButtons(options=(('Stata', 0), ('Mplus', 1), ('SAS', 2), ('SPSS', 3)), value=0),…"
      ]
     },
     "metadata": {},
     "output_type": "display_data"
    },
    {
     "data": {
      "application/vnd.jupyter.widget-view+json": {
       "model_id": "38619ea3dc5641119c1540679d0d9eb1",
       "version_major": 2,
       "version_minor": 0
      },
      "text/plain": [
       "VBox(children=(Output(), RadioButtons(options=(('Stata', 0), ('SAS', 1), ('Minitab', 2), ('Python', 3)), value…"
      ]
     },
     "metadata": {},
     "output_type": "display_data"
    },
    {
     "data": {
      "application/vnd.jupyter.widget-view+json": {
       "model_id": "ed21e9e7a844400d94ac95d2ba5a25a7",
       "version_major": 2,
       "version_minor": 0
      },
      "text/plain": [
       "VBox(children=(Output(), RadioButtons(options=(('MATLAB', 0), ('R', 1), ('SAS', 2), ('Stata', 3)), value=0), B…"
      ]
     },
     "metadata": {},
     "output_type": "display_data"
    },
    {
     "data": {
      "application/vnd.jupyter.widget-view+json": {
       "model_id": "bee2fe48aaac4914b090bda5430d7fb9",
       "version_major": 2,
       "version_minor": 0
      },
      "text/plain": [
       "VBox(children=(Output(), RadioButtons(options=(('SPSS', 0), ('Mplus', 1), ('Python', 2), ('MATLAB', 3)), value…"
      ]
     },
     "metadata": {},
     "output_type": "display_data"
    },
    {
     "data": {
      "application/vnd.jupyter.widget-view+json": {
       "model_id": "aea1b827e6f5463784547fa26cbfa73a",
       "version_major": 2,
       "version_minor": 0
      },
      "text/plain": [
       "VBox(children=(Output(), RadioButtons(options=(('Spark is much faster than Hadoop', 0), ('Hadoop is much faste…"
      ]
     },
     "metadata": {},
     "output_type": "display_data"
    },
    {
     "data": {
      "application/vnd.jupyter.widget-view+json": {
       "model_id": "b5b2409891e04a13a4c0bb13eeabc9be",
       "version_major": 2,
       "version_minor": 0
      },
      "text/plain": [
       "VBox(children=(Output(), RadioButtons(options=(('Spark', 0), ('Hive', 1), ('R', 2), ('Hadoop', 3)), value=0), …"
      ]
     },
     "metadata": {},
     "output_type": "display_data"
    }
   ],
   "source": [
    "if __name__ == \"__main__\":\n",
    "    display(L1P4Q1, L1P4Q2, L1P4Q3, L1P4Q4, L1P4Q5, L1P4Q6, L1P4Q7, L1P4Q8)"
   ]
  },
  {
   "cell_type": "markdown",
   "id": "7315ab91-85a4-4aef-810d-a1e308a2ca6d",
   "metadata": {},
   "source": [
    "## Page 5"
   ]
  },
  {
   "cell_type": "code",
   "execution_count": 8,
   "id": "df29e853-8b7f-42cb-854e-a51818f89aa4",
   "metadata": {},
   "outputs": [],
   "source": [
    "L1P5Q1 = MultipleChoice('1. This data science curriculum follows the data science pipeline.',['True','False'],'True')\n",
    "L1P5Q2 = MultipleChoice('2. How long is the final project module??',['Eight weeks','Three weeks','Six weeks', 'Two weeks'],'Six weeks')\n",
    "L1P5Q3 = MultipleChoice('3. What is the purpose of the Data Wrangling and Visualization module?',['Learn the basics of data analysis','Learn how to create your own metrics','Learn R', 'Helps others to understand your work'],'Helps others to understand your work')"
   ]
  },
  {
   "cell_type": "code",
   "execution_count": 9,
   "id": "0d587f7e-8f5c-48b6-8c17-545fbb855486",
   "metadata": {},
   "outputs": [
    {
     "data": {
      "application/vnd.jupyter.widget-view+json": {
       "model_id": "53ba0535d9cc4929bd51b7c1a1f89d95",
       "version_major": 2,
       "version_minor": 0
      },
      "text/plain": [
       "VBox(children=(Output(), RadioButtons(options=(('True', 0), ('False', 1)), value=0), Button(description='submi…"
      ]
     },
     "metadata": {},
     "output_type": "display_data"
    },
    {
     "data": {
      "application/vnd.jupyter.widget-view+json": {
       "model_id": "51dd9cfd809947e5824de42ba4eab4fa",
       "version_major": 2,
       "version_minor": 0
      },
      "text/plain": [
       "VBox(children=(Output(), RadioButtons(options=(('Eight weeks', 0), ('Three weeks', 1), ('Six weeks', 2), ('Two…"
      ]
     },
     "metadata": {},
     "output_type": "display_data"
    },
    {
     "data": {
      "application/vnd.jupyter.widget-view+json": {
       "model_id": "2b510b3d89df4bac9a5c786d3cabca05",
       "version_major": 2,
       "version_minor": 0
      },
      "text/plain": [
       "VBox(children=(Output(), RadioButtons(options=(('Learn the basics of data analysis', 0), ('Learn how to create…"
      ]
     },
     "metadata": {},
     "output_type": "display_data"
    }
   ],
   "source": [
    "if __name__ == \"__main__\":\n",
    "    display(L1P5Q1, L1P5Q2, L1P5Q3)"
   ]
  },
  {
   "cell_type": "markdown",
   "id": "63887f13-b414-4d00-8b56-7fd4b3545a38",
   "metadata": {},
   "source": [
    "# Lesson 2 Questions"
   ]
  },
  {
   "cell_type": "markdown",
   "id": "5e03d0b0-7b7e-46c6-8598-2a8d7f200887",
   "metadata": {},
   "source": [
    "<img src=\"Media/Shapes.png\" alt=\"Drawing\" style=\"width: 500px;\"/>"
   ]
  },
  {
   "cell_type": "code",
   "execution_count": 10,
   "id": "def0a0d1-8273-406c-92af-48108c480dc4",
   "metadata": {},
   "outputs": [],
   "source": [
    "L2P2Q1 = MultipleChoice('1. Suppose you have a bag of marbles. There are 12 red marbles, 5 green marbles, and 18 white marbles. If you draw out a single marble, what is the probability that it is green?',['5','5/30','1/6', '5/35'],'5/35')\n",
    "L2P2Q2 = MultipleChoice('2. Given the shapes above, what is the probability of randomly choosing a shape that is square??',['9/28','1/3','9', '1/7'],'9/28')\n",
    "L2P2Q3 = MultipleChoice('3. Given the shapes above, what is the probability of randomly choosing a red shape?',['8','30%','2/7', '2/5'],'2/7')\n",
    "L2P2Q4 = MultipleChoice('4. Given the shapes above, what is the probability of randomly choosing a blue circle?',['3','3/25','1/9', '3/28'],'3/28')"
   ]
  },
  {
   "cell_type": "code",
   "execution_count": 11,
   "id": "3f4ad5ba-3884-4b41-a85a-f78026a1ce48",
   "metadata": {},
   "outputs": [
    {
     "data": {
      "application/vnd.jupyter.widget-view+json": {
       "model_id": "5c9764bb9fd246d883ca49ce50e58b8f",
       "version_major": 2,
       "version_minor": 0
      },
      "text/plain": [
       "VBox(children=(Output(), RadioButtons(options=(('5', 0), ('5/30', 1), ('1/6', 2), ('5/35', 3)), value=0), Butt…"
      ]
     },
     "metadata": {},
     "output_type": "display_data"
    },
    {
     "data": {
      "application/vnd.jupyter.widget-view+json": {
       "model_id": "a94e7aeed95642bbabf553c9a29140b6",
       "version_major": 2,
       "version_minor": 0
      },
      "text/plain": [
       "VBox(children=(Output(), RadioButtons(options=(('9/28', 0), ('1/3', 1), ('9', 2), ('1/7', 3)), value=0), Butto…"
      ]
     },
     "metadata": {},
     "output_type": "display_data"
    },
    {
     "data": {
      "application/vnd.jupyter.widget-view+json": {
       "model_id": "c6844bca300e4ef192753256a126639c",
       "version_major": 2,
       "version_minor": 0
      },
      "text/plain": [
       "VBox(children=(Output(), RadioButtons(options=(('8', 0), ('30%', 1), ('2/7', 2), ('2/5', 3)), value=0), Button…"
      ]
     },
     "metadata": {},
     "output_type": "display_data"
    },
    {
     "data": {
      "application/vnd.jupyter.widget-view+json": {
       "model_id": "fb32c38240ba46f187b50580d7a74a30",
       "version_major": 2,
       "version_minor": 0
      },
      "text/plain": [
       "VBox(children=(Output(), RadioButtons(options=(('3', 0), ('3/25', 1), ('1/9', 2), ('3/28', 3)), value=0), Butt…"
      ]
     },
     "metadata": {},
     "output_type": "display_data"
    }
   ],
   "source": [
    "if __name__ == \"__main__\":\n",
    "    display(L2P2Q1, L2P2Q2, L2P2Q3, L2P2Q4)"
   ]
  },
  {
   "cell_type": "markdown",
   "id": "883affec-82fc-43a0-b6d9-0b9ddd31e72b",
   "metadata": {},
   "source": [
    "## Page 3"
   ]
  },
  {
   "cell_type": "code",
   "execution_count": 12,
   "id": "e20c2ccc-d516-4399-913c-c0ecaea17eab",
   "metadata": {},
   "outputs": [],
   "source": [
    "L2P2Q1 = MultipleChoice('1. Only one of the following is a valid expression of probability. Please select the valid expression.',['-12.7%','18/13','1.25', '160%', '-0.06', '12/17', '-3/7' ],'12/17')\n",
    "L2P2Q2 = MultipleChoice('2. Is 0.03% a valid expression for a probability?',['No','Yes'],'Yes')"
   ]
  },
  {
   "cell_type": "code",
   "execution_count": 13,
   "id": "9b08c8c3-c9af-4236-9eae-1992fbb79434",
   "metadata": {},
   "outputs": [
    {
     "data": {
      "application/vnd.jupyter.widget-view+json": {
       "model_id": "c546d2cb500a4802a1594cc3e647c2d3",
       "version_major": 2,
       "version_minor": 0
      },
      "text/plain": [
       "VBox(children=(Output(), RadioButtons(options=(('-12.7%', 0), ('18/13', 1), ('1.25', 2), ('160%', 3), ('-0.06'…"
      ]
     },
     "metadata": {},
     "output_type": "display_data"
    },
    {
     "data": {
      "application/vnd.jupyter.widget-view+json": {
       "model_id": "ceeba069a8ca4a2a8fbf72e86da07b63",
       "version_major": 2,
       "version_minor": 0
      },
      "text/plain": [
       "VBox(children=(Output(), RadioButtons(options=(('No', 0), ('Yes', 1)), value=0), Button(description='submit', …"
      ]
     },
     "metadata": {},
     "output_type": "display_data"
    }
   ],
   "source": [
    "if __name__ == \"__main__\":\n",
    "    display(L2P2Q1, L2P2Q2)"
   ]
  },
  {
   "cell_type": "markdown",
   "id": "2e55081d-a664-4183-b732-f66617511d37",
   "metadata": {},
   "source": [
    "## Page 4"
   ]
  },
  {
   "cell_type": "code",
   "execution_count": 14,
   "id": "6187205f-3c1e-4635-9c6f-fe890b724d8b",
   "metadata": {},
   "outputs": [],
   "source": [
    "L2P4Q1 = MultipleChoice('1. Given the following information, find the probability that a member of a particular group has exactly two children:',['Cannot be determined','81%','19%', '38%'],'19%')"
   ]
  },
  {
   "cell_type": "code",
   "execution_count": 15,
   "id": "42ff02f8-aba2-4f84-8516-cd2f1576877d",
   "metadata": {},
   "outputs": [
    {
     "data": {
      "application/vnd.jupyter.widget-view+json": {
       "model_id": "90bf8e071ba247839359c71fd0eddde8",
       "version_major": 2,
       "version_minor": 0
      },
      "text/plain": [
       "VBox(children=(Output(), RadioButtons(options=(('Cannot be determined', 0), ('81%', 1), ('19%', 2), ('38%', 3)…"
      ]
     },
     "metadata": {},
     "output_type": "display_data"
    }
   ],
   "source": [
    "if __name__ == \"__main__\":\n",
    "    display(L2P4Q1)"
   ]
  },
  {
   "cell_type": "markdown",
   "id": "5f1c111e-d753-4991-845d-266959920338",
   "metadata": {},
   "source": [
    "## Page 5"
   ]
  },
  {
   "cell_type": "code",
   "execution_count": 16,
   "id": "7a8cd829-374d-4562-b563-effe7064f805",
   "metadata": {},
   "outputs": [],
   "source": [
    "L2P5Q1 = MultipleChoice('1. Alex likes to sneak away from home at night. But 93% of the time, he successfully sneaks off without anyone in his family seeing him. \\nWhat is the probability that someone catches him sneaking off?',['93%','70%', '50%', '7%'],'7%')\n",
    "L2P5Q2 = MultipleChoice('2. You have entered a charity drawing to win a free dinner at a local restaurant. Your entry consists of raffle tickets you purchased. Someone in the group is going to win. You have calculated the odds of someone other than yourself winning, and there is a 79% chance that somebody else wins. What is the probability that you will win?',[\"It is impossible to know.\",'0.21','14%', '0.79'],'0.21')"
   ]
  },
  {
   "cell_type": "code",
   "execution_count": 17,
   "id": "084c3dda-4438-4a0f-a9bf-b711d0b6fdd3",
   "metadata": {},
   "outputs": [
    {
     "data": {
      "application/vnd.jupyter.widget-view+json": {
       "model_id": "64e0e6000b3b481a883dd091c8833051",
       "version_major": 2,
       "version_minor": 0
      },
      "text/plain": [
       "VBox(children=(Output(), RadioButtons(options=(('93%', 0), ('70%', 1), ('50%', 2), ('7%', 3)), value=0), Butto…"
      ]
     },
     "metadata": {},
     "output_type": "display_data"
    },
    {
     "data": {
      "application/vnd.jupyter.widget-view+json": {
       "model_id": "a2517144a85d458fb61f10b6a3d27b91",
       "version_major": 2,
       "version_minor": 0
      },
      "text/plain": [
       "VBox(children=(Output(), RadioButtons(options=(('It is impossible to know.', 0), ('0.21', 1), ('14%', 2), ('0.…"
      ]
     },
     "metadata": {},
     "output_type": "display_data"
    }
   ],
   "source": [
    "if __name__ == \"__main__\":\n",
    "    display(L2P5Q1, L2P5Q2)"
   ]
  },
  {
   "cell_type": "markdown",
   "id": "701a3008-173b-440a-b9e6-8230f9ea9aea",
   "metadata": {},
   "source": [
    "## Page 6"
   ]
  },
  {
   "cell_type": "code",
   "execution_count": 18,
   "id": "8d4e55df-223a-4364-ac65-1f277aa74324",
   "metadata": {},
   "outputs": [],
   "source": [
    "L2P6Q1 = MultipleChoice('1. What is 6!?',['720','36','72', '60'],'720')\n",
    "L2P6Q2 = MultipleChoice('2. Which of the following is not a rule about factorials?',[\"A factorial cannot have a negative number\", \"A factorial can have a decimal\", '0! = 1', '1! = 1'],'A factorial can have a decimal')"
   ]
  },
  {
   "cell_type": "code",
   "execution_count": 19,
   "id": "e8817254-7d78-4b7c-bce8-38039d304f71",
   "metadata": {},
   "outputs": [
    {
     "data": {
      "application/vnd.jupyter.widget-view+json": {
       "model_id": "f06962061cb540dc9e97ab947dfe3a42",
       "version_major": 2,
       "version_minor": 0
      },
      "text/plain": [
       "VBox(children=(Output(), RadioButtons(options=(('720', 0), ('36', 1), ('72', 2), ('60', 3)), value=0), Button(…"
      ]
     },
     "metadata": {},
     "output_type": "display_data"
    },
    {
     "data": {
      "application/vnd.jupyter.widget-view+json": {
       "model_id": "4bd6cb9d14f2426788d52ce939fccf96",
       "version_major": 2,
       "version_minor": 0
      },
      "text/plain": [
       "VBox(children=(Output(), RadioButtons(options=(('A factorial cannot have a negative number', 0), ('A factorial…"
      ]
     },
     "metadata": {},
     "output_type": "display_data"
    }
   ],
   "source": [
    "if __name__ == \"__main__\":\n",
    "    display(L2P6Q1, L2P6Q2)"
   ]
  },
  {
   "cell_type": "markdown",
   "id": "1c5a22c4-0500-446d-a04a-3966520f6ba4",
   "metadata": {},
   "source": [
    "## Page 7"
   ]
  },
  {
   "cell_type": "code",
   "execution_count": 20,
   "id": "44c87e90-8beb-4438-ac9c-67d88ba8c45b",
   "metadata": {},
   "outputs": [],
   "source": [
    "L2P7Q1 = MultipleChoice('1. At a local pizza place, there are 17 different toppings available for your pizza. So, if you have precisely five toppings on your pizza, how many ways could you prepare your pizza?',['422','6188','13,582', '5'],'6188')"
   ]
  },
  {
   "cell_type": "code",
   "execution_count": 21,
   "id": "0af0d13b-00d8-4c5f-b06b-5b6278ef0aee",
   "metadata": {},
   "outputs": [
    {
     "data": {
      "application/vnd.jupyter.widget-view+json": {
       "model_id": "e89571c5108b4647965638ce56d9bd3a",
       "version_major": 2,
       "version_minor": 0
      },
      "text/plain": [
       "VBox(children=(Output(), RadioButtons(options=(('422', 0), ('6188', 1), ('13,582', 2), ('5', 3)), value=0), Bu…"
      ]
     },
     "metadata": {},
     "output_type": "display_data"
    }
   ],
   "source": [
    "if __name__ == \"__main__\":\n",
    "    display(L2P7Q1)"
   ]
  },
  {
   "cell_type": "markdown",
   "id": "77b41143-3ed5-4664-adbc-04d41d4801c7",
   "metadata": {},
   "source": [
    "## Page 8"
   ]
  },
  {
   "cell_type": "code",
   "execution_count": 22,
   "id": "45ab180a-58a8-4033-ab7a-c7c3dad3fe49",
   "metadata": {},
   "outputs": [],
   "source": [
    "L2P8Q1 = MultipleChoice('1. Suppose the committee decided to choose a leadership group of 5 out of the 11 people on the committee. There will be a president, vice-president, secretary, treasurer, and public relations specialist. How many possible leadership groups would there be?',['420','462','55,440', '462,720'],'55,440')"
   ]
  },
  {
   "cell_type": "code",
   "execution_count": 23,
   "id": "806e12c5-f0bc-4a2a-bd74-d9f049a0b23e",
   "metadata": {},
   "outputs": [
    {
     "data": {
      "application/vnd.jupyter.widget-view+json": {
       "model_id": "87608ca9910e416f86b37d3deb885b5c",
       "version_major": 2,
       "version_minor": 0
      },
      "text/plain": [
       "VBox(children=(Output(), RadioButtons(options=(('420', 0), ('462', 1), ('55,440', 2), ('462,720', 3)), value=0…"
      ]
     },
     "metadata": {},
     "output_type": "display_data"
    }
   ],
   "source": [
    "if __name__ == \"__main__\":\n",
    "    display(L2P8Q1)"
   ]
  },
  {
   "cell_type": "markdown",
   "id": "6accf081-f45e-4653-9237-746d1f781f44",
   "metadata": {},
   "source": [
    "## Page 9"
   ]
  },
  {
   "cell_type": "code",
   "execution_count": 24,
   "id": "92ca9641-d128-444e-a5e4-0309f92b3e76",
   "metadata": {},
   "outputs": [],
   "source": [
    "L2P9Q1 = MultipleChoice('1. Suppose my wardrobe consists of these items - Pants: jeans, slacks, and sweats - Tops: a polo, a button-down, a t-shirt, and a tank-top. \\nWhich Boolean operator would you use to create a statement about me wearing either jeans or slacks?',['And','Or','Not'],'Or')\n",
    "L2P9Q2 = MultipleChoice('2. Suppose my wardrobe consists of these items - Pants: jeans, slacks, and sweats - Tops: a polo, a button-down, a t-shirt, and a tank-top. \\nWhich Boolean operator would you use to create a statement about me wearing some sort of shirt other than a polo?',['And','Or','Not'],'Not')\n",
    "L2P9Q3 = MultipleChoice('3. Suppose my wardrobe consists of these items - Pants: jeans, slacks, and sweats - Tops: a polo, a button-down, a t-shirt, and a tank-top. \\nWhich Boolean operator would you use to create a statement about me wearing jeans and a t-shirt?',['And','Or','Not'],'And')"
   ]
  },
  {
   "cell_type": "code",
   "execution_count": 25,
   "id": "fc464f27-a85d-4bdd-835a-7e00c8998074",
   "metadata": {},
   "outputs": [
    {
     "data": {
      "application/vnd.jupyter.widget-view+json": {
       "model_id": "6979842dad384fd588eabb1636e98bc7",
       "version_major": 2,
       "version_minor": 0
      },
      "text/plain": [
       "VBox(children=(Output(), RadioButtons(options=(('And', 0), ('Or', 1), ('Not', 2)), value=0), Button(descriptio…"
      ]
     },
     "metadata": {},
     "output_type": "display_data"
    },
    {
     "data": {
      "application/vnd.jupyter.widget-view+json": {
       "model_id": "64c004f6f7364a578eb20812bdd2ec7b",
       "version_major": 2,
       "version_minor": 0
      },
      "text/plain": [
       "VBox(children=(Output(), RadioButtons(options=(('And', 0), ('Or', 1), ('Not', 2)), value=0), Button(descriptio…"
      ]
     },
     "metadata": {},
     "output_type": "display_data"
    },
    {
     "data": {
      "application/vnd.jupyter.widget-view+json": {
       "model_id": "4a3578488fdd4cc4aa800c3c42b87a9f",
       "version_major": 2,
       "version_minor": 0
      },
      "text/plain": [
       "VBox(children=(Output(), RadioButtons(options=(('And', 0), ('Or', 1), ('Not', 2)), value=0), Button(descriptio…"
      ]
     },
     "metadata": {},
     "output_type": "display_data"
    }
   ],
   "source": [
    "if __name__ == \"__main__\":\n",
    "    display(L2P9Q1, L2P9Q2, L2P9Q3)"
   ]
  },
  {
   "cell_type": "markdown",
   "id": "d63da683-1614-45ad-90ca-cab56e41a05b",
   "metadata": {},
   "source": [
    "## Page 10"
   ]
  },
  {
   "cell_type": "markdown",
   "id": "2920bbfe-f151-450a-b758-1c98109b8bbb",
   "metadata": {},
   "source": [
    "<img src=\"Media/L2P10Questions.png\" alt=\"Drawing\" style=\"width: 500px;\"/>"
   ]
  },
  {
   "cell_type": "code",
   "execution_count": 26,
   "id": "605ca3e7-d4fa-4a54-8339-136586fe4beb",
   "metadata": {},
   "outputs": [],
   "source": [
    "L2P10Q1 = MultipleChoice('1. Consider the spinner shown above, with indicated portions of the circle and a 10-sided die with the numbers 1-10. \\nWhat is the probability of spinning red and rolling a 7?',['1/10','1/8','1/18', '1/80'],'1/80')\n",
    "L2P10Q2 = MultipleChoice('2. Consider the spinner and die shown above. \\nWhat is the probability of spinning blue and rolling an odd number?',['1/2','1/4','5/18', '1/8'],'1/4')"
   ]
  },
  {
   "cell_type": "code",
   "execution_count": 27,
   "id": "855a48f4-789d-4497-bd03-cd0da4ce5554",
   "metadata": {},
   "outputs": [
    {
     "data": {
      "application/vnd.jupyter.widget-view+json": {
       "model_id": "ed55668e791845aa98f8b9084da8bd2e",
       "version_major": 2,
       "version_minor": 0
      },
      "text/plain": [
       "VBox(children=(Output(), RadioButtons(options=(('1/10', 0), ('1/8', 1), ('1/18', 2), ('1/80', 3)), value=0), B…"
      ]
     },
     "metadata": {},
     "output_type": "display_data"
    },
    {
     "data": {
      "application/vnd.jupyter.widget-view+json": {
       "model_id": "896d5221b7a44945bcd7c149bf1cdfa4",
       "version_major": 2,
       "version_minor": 0
      },
      "text/plain": [
       "VBox(children=(Output(), RadioButtons(options=(('1/2', 0), ('1/4', 1), ('5/18', 2), ('1/8', 3)), value=0), But…"
      ]
     },
     "metadata": {},
     "output_type": "display_data"
    }
   ],
   "source": [
    "if __name__ == \"__main__\":\n",
    "    display(L2P10Q1, L2P10Q2)"
   ]
  },
  {
   "cell_type": "markdown",
   "id": "5aa0a7ad-86d9-4edc-b595-d2d7f6d63cab",
   "metadata": {},
   "source": [
    "## Page 11"
   ]
  },
  {
   "cell_type": "markdown",
   "id": "6b2b8ba2-d8a3-4378-a09b-960e89fb6efb",
   "metadata": {},
   "source": [
    "<img src=\"Media/L2P10Questions.png\" alt=\"Drawing\" style=\"width: 500px;\"/>"
   ]
  },
  {
   "cell_type": "code",
   "execution_count": 28,
   "id": "ba97168a-8ac5-41e5-95f8-f1e945ad724a",
   "metadata": {},
   "outputs": [],
   "source": [
    "L2P11Q1 = MultipleChoice('1. Consider the die shown above. What is the probability of rolling an even number, or a 3, or a 5?',['7/10','0.07','7', '7%'],'7/10')"
   ]
  },
  {
   "cell_type": "code",
   "execution_count": 29,
   "id": "10dcc66c-b451-49e8-bf6b-243071da24af",
   "metadata": {},
   "outputs": [
    {
     "data": {
      "application/vnd.jupyter.widget-view+json": {
       "model_id": "31942cad53d346e6bab1cabb9ee71374",
       "version_major": 2,
       "version_minor": 0
      },
      "text/plain": [
       "VBox(children=(Output(), RadioButtons(options=(('7/10', 0), ('0.07', 1), ('7', 2), ('7%', 3)), value=0), Butto…"
      ]
     },
     "metadata": {},
     "output_type": "display_data"
    }
   ],
   "source": [
    "if __name__ == \"__main__\":\n",
    "    display(L2P11Q1)"
   ]
  },
  {
   "cell_type": "markdown",
   "id": "bf0bf7c7-e3de-4a72-861c-544595fea19e",
   "metadata": {},
   "source": [
    "## Page 12"
   ]
  },
  {
   "cell_type": "code",
   "execution_count": 30,
   "id": "256d54b8-8855-417c-a09e-0b3a54710a9c",
   "metadata": {},
   "outputs": [],
   "source": [
    "L2P12Q1 = MultipleChoice(\"1. You'd like to know the probability of a Chef listing your favorite meal (macaroni and cheese) on their specials board. Of course, you don't know how often the Chef serves macaroni and cheese, but you know the other dishes' probabilities on the specials board. They are listed above. \\nWhat is the probability of having macaroni and cheese on the specials board tonight?\",['60%','25%','20%', '2%'],'20%')\n",
    "L2P12Q2 = MultipleChoice(\"2. Your grandmother is visiting for your birthday, and you'd like to know how likely it is that she will give you money for your birthday instead of a present. There is a 72% chance your grandmother will shower you with a gift. \\nWhat is the probability that you will get money for your birthday instead?\",['28%','22%','72%', '70%'],'28%')"
   ]
  },
  {
   "cell_type": "markdown",
   "id": "2d07b445-6b70-499f-83f6-c41c770fe155",
   "metadata": {},
   "source": [
    "**Beef Wellington:** 10%\n",
    "\n",
    "**Chicken Kyiv:** 10%\n",
    "\n",
    "**Spaghetti and Meatballs:** 40%\n",
    "\n",
    "**Pot Roast:** 20%"
   ]
  },
  {
   "cell_type": "code",
   "execution_count": 31,
   "id": "e22fc446-19c0-4002-9e65-9b23fd90bdbe",
   "metadata": {},
   "outputs": [
    {
     "data": {
      "application/vnd.jupyter.widget-view+json": {
       "model_id": "fca518b0d5ee4e7f9987abdf912aeaf8",
       "version_major": 2,
       "version_minor": 0
      },
      "text/plain": [
       "VBox(children=(Output(), RadioButtons(options=(('60%', 0), ('25%', 1), ('20%', 2), ('2%', 3)), value=0), Butto…"
      ]
     },
     "metadata": {},
     "output_type": "display_data"
    },
    {
     "data": {
      "application/vnd.jupyter.widget-view+json": {
       "model_id": "12006d79a3ad4bc4bd8c9d2779af983b",
       "version_major": 2,
       "version_minor": 0
      },
      "text/plain": [
       "VBox(children=(Output(), RadioButtons(options=(('28%', 0), ('22%', 1), ('72%', 2), ('70%', 3)), value=0), Butt…"
      ]
     },
     "metadata": {},
     "output_type": "display_data"
    }
   ],
   "source": [
    "if __name__ == \"__main__\":\n",
    "    display(L2P12Q1, L2P12Q2)"
   ]
  },
  {
   "cell_type": "markdown",
   "id": "9cae9bb7-15ec-4d63-a700-598c67a9bd21",
   "metadata": {},
   "source": [
    "## Page 13"
   ]
  },
  {
   "cell_type": "code",
   "execution_count": 32,
   "id": "cef80256-0620-40fd-98a5-14219c889c47",
   "metadata": {},
   "outputs": [],
   "source": [
    "L2P13Q1 = MultipleChoice('1. Which of the following situations is most likely not mutually exclusive?',['A group of people get a gift as an award, and they choose between a blender, a toaster oven, and a mixer','Prospective employees are asked to choose their greatest strength','Diners are asked which cuisines they like', \"Parents are asked if they would prefer to be a teacher's aid for art or physical fitness\"],'Diners are asked which cuisines they like This situation allows them to choose more than one option')\n",
    "L2P13Q2 = MultipleChoice('1. What is the probability of drawing a seven or a diamond from a standard deck of cards?',['8%','33%','31%', '25%'],'31%')"
   ]
  },
  {
   "cell_type": "code",
   "execution_count": 33,
   "id": "14dd94c5-a8eb-4b0e-aef1-4454af78d47d",
   "metadata": {},
   "outputs": [
    {
     "data": {
      "application/vnd.jupyter.widget-view+json": {
       "model_id": "24b20b5e20984579a0d22f3d21f00401",
       "version_major": 2,
       "version_minor": 0
      },
      "text/plain": [
       "VBox(children=(Output(), RadioButtons(options=(('8%', 0), ('33%', 1), ('31%', 2), ('25%', 3)), value=0), Butto…"
      ]
     },
     "metadata": {},
     "output_type": "display_data"
    }
   ],
   "source": [
    "if __name__ == \"__main__\":\n",
    "    display(L2P13Q2)"
   ]
  },
  {
   "cell_type": "markdown",
   "id": "d21f7914-d12d-4586-8755-6c02354392bc",
   "metadata": {},
   "source": [
    "## Page 14"
   ]
  },
  {
   "cell_type": "code",
   "execution_count": 34,
   "id": "c7996900-3f4f-402b-9426-7fde05119ea0",
   "metadata": {},
   "outputs": [],
   "source": [
    "L2P14Q1 = MultipleChoice('1. What is the probability of drawing three Jacks from a deck of cards without replacement?',['.00018','.25','.12', '.004'],'.00018')\n",
    "L2P14Q2 = MultipleChoice('2. What is the probability of drawing out a knight and then the king without replacement?',['.78%','9.7%','9.4%', '0.83%'],'0.83%')"
   ]
  },
  {
   "cell_type": "code",
   "execution_count": 35,
   "id": "00a2b275-494a-4449-baaa-f138c42c5d98",
   "metadata": {},
   "outputs": [
    {
     "data": {
      "application/vnd.jupyter.widget-view+json": {
       "model_id": "e7b7e1513c52438c93461f6c833848dc",
       "version_major": 2,
       "version_minor": 0
      },
      "text/plain": [
       "VBox(children=(Output(), RadioButtons(options=(('.00018', 0), ('.25', 1), ('.12', 2), ('.004', 3)), value=0), …"
      ]
     },
     "metadata": {},
     "output_type": "display_data"
    }
   ],
   "source": [
    "if __name__ == \"__main__\":\n",
    "    display(L2P14Q1)"
   ]
  },
  {
   "cell_type": "markdown",
   "id": "cd46cd8e-5cad-4fb7-be62-d690e331f89e",
   "metadata": {},
   "source": [
    "**You have a bag filled with black chess pieces, There are:** 1 king, 1 queen, 2 knights, 2 bishops, 2 castles, 8 pawns"
   ]
  },
  {
   "cell_type": "code",
   "execution_count": 36,
   "id": "3121d233-52b4-4f09-afd8-84b8bafb5681",
   "metadata": {},
   "outputs": [
    {
     "data": {
      "application/vnd.jupyter.widget-view+json": {
       "model_id": "454434a6918547ff93655afc75fe22c8",
       "version_major": 2,
       "version_minor": 0
      },
      "text/plain": [
       "VBox(children=(Output(), RadioButtons(options=(('.78%', 0), ('9.7%', 1), ('9.4%', 2), ('0.83%', 3)), value=0),…"
      ]
     },
     "metadata": {},
     "output_type": "display_data"
    }
   ],
   "source": [
    "if __name__ == \"__main__\":\n",
    "    display(L2P14Q2)"
   ]
  },
  {
   "cell_type": "markdown",
   "id": "03bf1ec9-e764-4557-84a0-50b8d1d12535",
   "metadata": {},
   "source": [
    "## Page 15"
   ]
  },
  {
   "cell_type": "code",
   "execution_count": 37,
   "id": "4eb1019e-a7e6-47ef-b421-810850fa0e74",
   "metadata": {},
   "outputs": [],
   "source": [
    "L2P15Q1 = MultipleChoice('1. How do you know two things statistically differ from one another?',[\"Less than 10% chance, the results are the same\",'Less than a 5% chance the results are the same',\"You can't be ever sure\"],'Less than a 5% chance the results are the same')\n",
    "L2P15Q2 = MultipleChoice('2. What is probability called when it references statistical analysis?',[\"The name doesn't change\",'Stats probability','Alpha', 'p value', 'Both alpha and p value are used often'],'Both alpha and p value are used often')\n",
    "L2P15Q3 = MultipleChoice('3. What does the word random mean in data science?',[\"Equal chance of all members being selected\",'Something strange happened','Conversation changes quickly'],\"Equal chance of all members being selected\")"
   ]
  },
  {
   "cell_type": "code",
   "execution_count": 38,
   "id": "e08a3276-976a-46cd-806a-3230e15161e6",
   "metadata": {},
   "outputs": [
    {
     "data": {
      "application/vnd.jupyter.widget-view+json": {
       "model_id": "95d80900cc3c468b8f81193c02769eaf",
       "version_major": 2,
       "version_minor": 0
      },
      "text/plain": [
       "VBox(children=(Output(), RadioButtons(options=(('Less than 10% chance, the results are the same', 0), ('Less t…"
      ]
     },
     "metadata": {},
     "output_type": "display_data"
    },
    {
     "data": {
      "application/vnd.jupyter.widget-view+json": {
       "model_id": "2305e7ec59f54bcda11a75d3cc15952d",
       "version_major": 2,
       "version_minor": 0
      },
      "text/plain": [
       "VBox(children=(Output(), RadioButtons(options=((\"The name doesn't change\", 0), ('Stats probability', 1), ('Alp…"
      ]
     },
     "metadata": {},
     "output_type": "display_data"
    },
    {
     "data": {
      "application/vnd.jupyter.widget-view+json": {
       "model_id": "7faa9b8b922b4fe69bc3208a7b456863",
       "version_major": 2,
       "version_minor": 0
      },
      "text/plain": [
       "VBox(children=(Output(), RadioButtons(options=(('Equal chance of all members being selected', 0), ('Something …"
      ]
     },
     "metadata": {},
     "output_type": "display_data"
    }
   ],
   "source": [
    "if __name__ == \"__main__\":\n",
    "    display(L2P15Q1, L2P15Q2, L2P15Q3)"
   ]
  },
  {
   "cell_type": "code",
   "execution_count": null,
   "id": "183329fe-e1c2-4e44-85e7-b114987169e9",
   "metadata": {},
   "outputs": [],
   "source": []
  }
 ],
 "metadata": {
  "kernelspec": {
   "display_name": "Python 3 (ipykernel)",
   "language": "python",
   "name": "python3"
  },
  "language_info": {
   "codemirror_mode": {
    "name": "ipython",
    "version": 3
   },
   "file_extension": ".py",
   "mimetype": "text/x-python",
   "name": "python",
   "nbconvert_exporter": "python",
   "pygments_lexer": "ipython3",
   "version": "3.9.7"
  }
 },
 "nbformat": 4,
 "nbformat_minor": 5
}
