{
 "cells": [
  {
   "cell_type": "code",
   "execution_count": 2,
   "id": "38a2359d-122f-4576-a1b2-d042c5fe6a2f",
   "metadata": {},
   "outputs": [
    {
     "name": "stdout",
     "output_type": "stream",
     "text": [
      "hello WOrld\n"
     ]
    }
   ],
   "source": [
    "my_message = \"hello WOrld\"\n",
    "print(my_message)"
   ]
  },
  {
   "cell_type": "code",
   "execution_count": 1,
   "id": "e0044c14-f2b4-4f68-b5b4-9f404cb0b51b",
   "metadata": {},
   "outputs": [
    {
     "name": "stdout",
     "output_type": "stream",
     "text": [
      "hello Julie B\n"
     ]
    }
   ],
   "source": [
    "print(\"hello Julie B\")"
   ]
  },
  {
   "cell_type": "code",
   "execution_count": null,
   "id": "4ce12a0a-296b-4fb9-8d42-cb8f66557232",
   "metadata": {},
   "outputs": [],
   "source": []
  }
 ],
 "metadata": {
  "kernelspec": {
   "display_name": "Python 3 (ipykernel)",
   "language": "python",
   "name": "python3"
  },
  "language_info": {
   "codemirror_mode": {
    "name": "ipython",
    "version": 3
   },
   "file_extension": ".py",
   "mimetype": "text/x-python",
   "name": "python",
   "nbconvert_exporter": "python",
   "pygments_lexer": "ipython3",
   "version": "3.9.7"
  }
 },
 "nbformat": 4,
 "nbformat_minor": 5
}
