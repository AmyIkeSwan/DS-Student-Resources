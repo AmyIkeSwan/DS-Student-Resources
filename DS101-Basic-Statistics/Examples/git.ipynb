{
 "cells": [
  {
   "cell_type": "code",
   "execution_count": 1,
   "id": "f43bb492-a3f4-46a7-bacb-34a3abaa7fa4",
   "metadata": {},
   "outputs": [
    {
     "name": "stdout",
     "output_type": "stream",
     "text": [
      "Hello World\n"
     ]
    }
   ],
   "source": [
    "print(\"Hello World\")"
   ]
  },
  {
   "cell_type": "code",
   "execution_count": 1,
   "id": "06511feb-9d89-429e-9ead-5929170076ed",
   "metadata": {},
   "outputs": [
    {
     "name": "stdout",
     "output_type": "stream",
     "text": [
      "Hello Back\n"
     ]
    }
   ],
   "source": [
    "print(\"Hello Back\")"
   ]
  },
  {
   "cell_type": "markdown",
   "id": "0d307292-b3e9-4bb2-bd68-9ba3674fa35a",
   "metadata": {},
   "source": [
    "```git\n",
    "git fetch\n",
    "git pull\n",
    "git status\n",
    "git add .\n",
    "git commit -m \"added file\"\n",
    "git push\n",
    "```"
   ]
  },
  {
   "cell_type": "code",
   "execution_count": null,
   "id": "8d44977c-5e8a-4906-a358-de8e41e506ff",
   "metadata": {},
   "outputs": [],
   "source": []
  }
 ],
 "metadata": {
  "kernelspec": {
   "display_name": "Python 3 (ipykernel)",
   "language": "python",
   "name": "python3"
  },
  "language_info": {
   "codemirror_mode": {
    "name": "ipython",
    "version": 3
   },
   "file_extension": ".py",
   "mimetype": "text/x-python",
   "name": "python",
   "nbconvert_exporter": "python",
   "pygments_lexer": "ipython3",
   "version": "3.9.7"
  }
 },
 "nbformat": 4,
 "nbformat_minor": 5
}
