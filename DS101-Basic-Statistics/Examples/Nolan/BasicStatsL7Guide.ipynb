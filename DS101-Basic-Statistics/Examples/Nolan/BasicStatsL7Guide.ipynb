{
 "cells": [
  {
   "cell_type": "markdown",
   "id": "21dcfed3-24b3-4bf0-8879-8c47ef740ce3",
   "metadata": {},
   "source": [
    "# DS101 Basic Statistics Lesson 7 Guide with Examples\n",
    "## Nolan Hardeman\n",
    "\n",
    "During Lesson 7 we are introduced to __Uniform, Binomial, Student's T, & F-Distributions__.\n",
    "\n",
    "### Uniform Distribution Examples\n",
    "<p style=\"text-align: left;\">\n",
    "  <img width=\"600\" alt=\"uniform distribution\" src=\"../../Media/uniform.png\">\n",
    "</p>\n",
    "\n",
    "[Reference](https://www.google.com/url?sa=i&url=https%3A%2F%2Fcorporatefinanceinstitute.com%2Fresources%2Fknowledge%2Fother%2Funiform-distribution%2F&psig=AOvVaw3-9rjWF5RdaW6sxfuWNCvK&ust=1634582540720000&source=images&cd=vfe&ved=0CAgQjRxqFwoTCOC4ntyM0vMCFQAAAAAdAAAAABAD)"
   ]
  },
  {
   "cell_type": "code",
   "execution_count": null,
   "id": "868e90e0-65ff-4a30-a3b6-4dc77553cfe3",
   "metadata": {},
   "outputs": [],
   "source": [
    "# DS101 Basic Statistics Lesson 6 Guide with Examples\n",
    "## Nolan Hardeman\n",
    "\n",
    "During Lesson 6 we are introduced to some the __Statistical Inference__.\n",
    "\n",
    "### Population and Samples\n",
    "<p style=\"text-align: left;\">\n",
    "  <img width=\"600\" alt=\"the normal distribution\" src=\"../../Media/Population-and-Sample1.jpg\">\n",
    "</p>\n",
    "\n",
    "[Reference]("
   ]
  }
 ],
 "metadata": {
  "kernelspec": {
   "display_name": "Python 3 (ipykernel)",
   "language": "python",
   "name": "python3"
  },
  "language_info": {
   "codemirror_mode": {
    "name": "ipython",
    "version": 3
   },
   "file_extension": ".py",
   "mimetype": "text/x-python",
   "name": "python",
   "nbconvert_exporter": "python",
   "pygments_lexer": "ipython3",
   "version": "3.9.5"
  }
 },
 "nbformat": 4,
 "nbformat_minor": 5
}
