{
 "cells": [
  {
   "cell_type": "markdown",
   "id": "21dcfed3-24b3-4bf0-8879-8c47ef740ce3",
   "metadata": {},
   "source": [
    "# DS101 Basic Statistics Lesson 7 Guide with Examples\n",
    "## Nolan Hardeman\n",
    "\n",
    "During Lesson 7 we are introduced to __Stati__.\n",
    "\n",
    "### Population and Samples\n",
    "<p style=\"text-align: left;\">\n",
    "  <img width=\"600\" alt=\"the normal distribution\" src=\"../../Media/Population-and-Sample1.jpg\">\n",
    "</p>\n",
    "\n",
    "[Reference]("
   ]
  },
  {
   "cell_type": "code",
   "execution_count": null,
   "id": "868e90e0-65ff-4a30-a3b6-4dc77553cfe3",
   "metadata": {},
   "outputs": [],
   "source": []
  }
 ],
 "metadata": {
  "kernelspec": {
   "display_name": "Python 3 (ipykernel)",
   "language": "python",
   "name": "python3"
  },
  "language_info": {
   "codemirror_mode": {
    "name": "ipython",
    "version": 3
   },
   "file_extension": ".py",
   "mimetype": "text/x-python",
   "name": "python",
   "nbconvert_exporter": "python",
   "pygments_lexer": "ipython3",
   "version": "3.9.5"
  }
 },
 "nbformat": 4,
 "nbformat_minor": 5
}
