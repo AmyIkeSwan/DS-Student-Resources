{
 "cells": [
  {
   "cell_type": "markdown",
   "id": "fc7979bb-91a8-4596-a073-f15b406861fa",
   "metadata": {},
   "source": [
    "God, grant me the serenity to accept the things I cannot change, courage to change the things I can, and wisdom to know the difference."
   ]
  },
  {
   "cell_type": "code",
   "execution_count": null,
   "id": "83e7ee10-1ccc-4779-9790-715a9b14a834",
   "metadata": {},
   "outputs": [],
   "source": []
  }
 ],
 "metadata": {
  "kernelspec": {
   "display_name": "Python 3 (ipykernel)",
   "language": "python",
   "name": "python3"
  },
  "language_info": {
   "codemirror_mode": {
    "name": "ipython",
    "version": 3
   },
   "file_extension": ".py",
   "mimetype": "text/x-python",
   "name": "python",
   "nbconvert_exporter": "python",
   "pygments_lexer": "ipython3",
   "version": "3.9.7"
  }
 },
 "nbformat": 4,
 "nbformat_minor": 5
}
