{
 "cells": [
  {
   "cell_type": "code",
   "execution_count": 1,
   "id": "fe6c9363-0ca7-4e2a-a666-7570867e9827",
   "metadata": {},
   "outputs": [
    {
     "data": {
      "text/html": [
       "<Iframe src=https://en.wikipedia.org/wiki/Statistical_hypothesis_testing width=800 height=600</iframe>\n"
      ],
      "text/plain": [
       "<IPython.core.display.HTML object>"
      ]
     },
     "metadata": {},
     "output_type": "display_data"
    }
   ],
   "source": [
    "%%html\n",
    "<Iframe src=https://en.wikipedia.org/wiki/Statistical_hypothesis_testing width=800 height=600</iframe>"
   ]
  }
 ],
 "metadata": {
  "kernelspec": {
   "display_name": "Python 3 (ipykernel)",
   "language": "python",
   "name": "python3"
  },
  "language_info": {
   "codemirror_mode": {
    "name": "ipython",
    "version": 3
   },
   "file_extension": ".py",
   "mimetype": "text/x-python",
   "name": "python",
   "nbconvert_exporter": "python",
   "pygments_lexer": "ipython3",
   "version": "3.9.7"
  }
 },
 "nbformat": 4,
 "nbformat_minor": 5
}
