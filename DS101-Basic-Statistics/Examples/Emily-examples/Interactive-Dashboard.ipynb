{
 "cells": [
  {
   "cell_type": "markdown",
   "id": "ca71eb46-eda8-4725-9139-f17cf0d50ecf",
   "metadata": {},
   "source": [
    "## Interactive Dasboard with Viola"
   ]
  },
  {
   "cell_type": "markdown",
   "id": "2f178ca3-87ed-40cb-90bb-6b4c6033d1ec",
   "metadata": {},
   "source": [
    "We are going to create widgets to add to our interactive dashboard! FYI-A widget is an element of a graphical user interface (GUI) that displays information or provides a specific way for a user to interact with the operating system or an application."
   ]
  },
  {
   "cell_type": "code",
   "execution_count": 16,
   "id": "25eff796-5f03-42a3-a91a-4fda6c0ce062",
   "metadata": {},
   "outputs": [],
   "source": [
    "import numpy as np\n",
    "import pandas as pd\n",
    "import folium"
   ]
  },
  {
   "cell_type": "code",
   "execution_count": 17,
   "id": "39fda5e0-fdb0-41dd-b932-e2ba1c4ec0fb",
   "metadata": {},
   "outputs": [],
   "source": [
    "df = pd.read_csv('C:/Users/Windows/Desktop/honey.csv')"
   ]
  },
  {
   "cell_type": "code",
   "execution_count": 18,
   "id": "0723642d-a391-4fb1-8383-634b2dcd527c",
   "metadata": {},
   "outputs": [
    {
     "data": {
      "text/html": [
       "<div>\n",
       "<style scoped>\n",
       "    .dataframe tbody tr th:only-of-type {\n",
       "        vertical-align: middle;\n",
       "    }\n",
       "\n",
       "    .dataframe tbody tr th {\n",
       "        vertical-align: top;\n",
       "    }\n",
       "\n",
       "    .dataframe thead th {\n",
       "        text-align: right;\n",
       "    }\n",
       "</style>\n",
       "<table border=\"1\" class=\"dataframe\">\n",
       "  <thead>\n",
       "    <tr style=\"text-align: right;\">\n",
       "      <th></th>\n",
       "      <th>state</th>\n",
       "      <th>numcol</th>\n",
       "      <th>yieldpercol</th>\n",
       "      <th>totalprod</th>\n",
       "      <th>stocks</th>\n",
       "      <th>priceperlb</th>\n",
       "      <th>prodvalue</th>\n",
       "      <th>year</th>\n",
       "    </tr>\n",
       "  </thead>\n",
       "  <tbody>\n",
       "    <tr>\n",
       "      <th>0</th>\n",
       "      <td>AL</td>\n",
       "      <td>9000.0</td>\n",
       "      <td>66</td>\n",
       "      <td>594000.0</td>\n",
       "      <td>214000</td>\n",
       "      <td>1.90</td>\n",
       "      <td>1129000</td>\n",
       "      <td>2008</td>\n",
       "    </tr>\n",
       "    <tr>\n",
       "      <th>1</th>\n",
       "      <td>AZ</td>\n",
       "      <td>25000.0</td>\n",
       "      <td>64</td>\n",
       "      <td>1600000.0</td>\n",
       "      <td>336000</td>\n",
       "      <td>1.26</td>\n",
       "      <td>2016000</td>\n",
       "      <td>2008</td>\n",
       "    </tr>\n",
       "    <tr>\n",
       "      <th>2</th>\n",
       "      <td>AR</td>\n",
       "      <td>28000.0</td>\n",
       "      <td>75</td>\n",
       "      <td>2100000.0</td>\n",
       "      <td>525000</td>\n",
       "      <td>1.35</td>\n",
       "      <td>2835000</td>\n",
       "      <td>2008</td>\n",
       "    </tr>\n",
       "    <tr>\n",
       "      <th>3</th>\n",
       "      <td>CA</td>\n",
       "      <td>360000.0</td>\n",
       "      <td>51</td>\n",
       "      <td>18360000.0</td>\n",
       "      <td>4039000</td>\n",
       "      <td>1.39</td>\n",
       "      <td>25520000</td>\n",
       "      <td>2008</td>\n",
       "    </tr>\n",
       "    <tr>\n",
       "      <th>4</th>\n",
       "      <td>CO</td>\n",
       "      <td>27000.0</td>\n",
       "      <td>45</td>\n",
       "      <td>1215000.0</td>\n",
       "      <td>656000</td>\n",
       "      <td>1.51</td>\n",
       "      <td>1835000</td>\n",
       "      <td>2008</td>\n",
       "    </tr>\n",
       "  </tbody>\n",
       "</table>\n",
       "</div>"
      ],
      "text/plain": [
       "  state    numcol  yieldpercol   totalprod   stocks  priceperlb  prodvalue  \\\n",
       "0    AL    9000.0           66    594000.0   214000        1.90    1129000   \n",
       "1    AZ   25000.0           64   1600000.0   336000        1.26    2016000   \n",
       "2    AR   28000.0           75   2100000.0   525000        1.35    2835000   \n",
       "3    CA  360000.0           51  18360000.0  4039000        1.39   25520000   \n",
       "4    CO   27000.0           45   1215000.0   656000        1.51    1835000   \n",
       "\n",
       "   year  \n",
       "0  2008  \n",
       "1  2008  \n",
       "2  2008  \n",
       "3  2008  \n",
       "4  2008  "
      ]
     },
     "execution_count": 18,
     "metadata": {},
     "output_type": "execute_result"
    }
   ],
   "source": [
    "df.head()"
   ]
  },
  {
   "cell_type": "markdown",
   "id": "af07306e-8bd1-46bc-85b3-429a90bb52de",
   "metadata": {},
   "source": [
    "### Creating Interactive Widgets"
   ]
  },
  {
   "cell_type": "markdown",
   "id": "bfbd59db-2c6d-4f7f-94ec-9b2fd98fa737",
   "metadata": {},
   "source": [
    "Let's create 3 widgets. A slider widget that enables use to see a range of our data and two multiple selection widgets."
   ]
  },
  {
   "cell_type": "code",
   "execution_count": 33,
   "id": "fee4cdf5-44ea-4398-a15e-b0192ab335f3",
   "metadata": {},
   "outputs": [],
   "source": [
    "import ipywidgets as widgets"
   ]
  },
  {
   "cell_type": "markdown",
   "id": "5aeaef29-c226-42b3-9a90-9df268a5ccfa",
   "metadata": {},
   "source": [
    "This slider widget will control how many rows of our data set we can load. If the slider value is 1000, Pandas should load the first number of rows to match. For example, our honey data has 201 rows. So let's set our value somewhere in the middle. Then set the min and max accordingly. Then, we use step as the value increment or decrement when we move the slider up and down"
   ]
  },
  {
   "cell_type": "code",
   "execution_count": 34,
   "id": "0e519c55-092b-4af4-ab84-9bd3512e34e2",
   "metadata": {},
   "outputs": [],
   "source": [
    "style = {'description_width': 'initial'}\n",
    "limit_case = widgets.IntSlider(\n",
    "    value=101,\n",
    "    min=1,\n",
    "    max=202,\n",
    "    step=1,\n",
    "    description='Max amount of States:',\n",
    "    disabled=False,\n",
    "    style=style)"
   ]
  },
  {
   "cell_type": "code",
   "execution_count": 35,
   "id": "babea1f2-cf51-4583-ac9c-edde6c454c66",
   "metadata": {},
   "outputs": [],
   "source": [
    "\n",
    "def update_df_length(limit):\n",
    "    \n",
    "    df = pd.read_csv('C:/Users/Windows/Desktop/honey.csv')\n",
    "    df = df.iloc[0:limit, :]\n",
    "    \n",
    "    print(\"Number of rows in the dataset that have been successfully loaded:\"+str(len(df)))"
   ]
  },
  {
   "cell_type": "code",
   "execution_count": 36,
   "id": "22d28659-a8c2-4432-8c7c-ed0ab40f4b63",
   "metadata": {},
   "outputs": [
    {
     "name": "stdout",
     "output_type": "stream",
     "text": [
      "Number of rows in the dataset that have been successfully loaded:101\n"
     ]
    }
   ],
   "source": [
    "widgets.interactive(update_df_length, limit=limit_case)"
   ]
  },
  {
   "cell_type": "code",
   "execution_count": null,
   "id": "8f5636ad-268c-4d47-b615-504ab1656b57",
   "metadata": {},
   "outputs": [],
   "source": []
  },
  {
   "cell_type": "code",
   "execution_count": null,
   "id": "db2371da-283f-4d37-bce6-4c264cda3ea7",
   "metadata": {},
   "outputs": [],
   "source": []
  }
 ],
 "metadata": {
  "kernelspec": {
   "display_name": "Python 3 (ipykernel)",
   "language": "python",
   "name": "python3"
  },
  "language_info": {
   "codemirror_mode": {
    "name": "ipython",
    "version": 3
   },
   "file_extension": ".py",
   "mimetype": "text/x-python",
   "name": "python",
   "nbconvert_exporter": "python",
   "pygments_lexer": "ipython3",
   "version": "3.9.7"
  }
 },
 "nbformat": 4,
 "nbformat_minor": 5
}
