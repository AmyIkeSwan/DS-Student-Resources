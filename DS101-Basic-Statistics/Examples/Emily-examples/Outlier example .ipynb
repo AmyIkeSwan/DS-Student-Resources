{
 "cells": [
  {
   "cell_type": "markdown",
   "id": "f82822e8-e197-476e-a1ee-1128acb961d7",
   "metadata": {},
   "source": [
    "# What do you do with outliers and what are they?"
   ]
  },
  {
   "cell_type": "markdown",
   "id": "7efcdb2b-1406-4c90-bb39-2f9ba8c56d41",
   "metadata": {},
   "source": [
    " An outlier  an observation that lies an abnormal distance from other values in a random sample from a population. \n",
    " In a sense, this definition leaves it up to the analyst (or a consensus process) to decide what will be considered abnormal. \n",
    " These points are often referred to as outliers."
   ]
  },
  {
   "cell_type": "markdown",
   "id": "e14798f4-d115-44dd-81c5-7c55ea0b4c59",
   "metadata": {},
   "source": [
    "Let's create sample data to see what an outlier is and how it can skew your data using MatPlotLib. This data will represent what can happen if a billionaire's salary is included in a lower range of salaries."
   ]
  },
  {
   "cell_type": "code",
   "execution_count": 2,
   "id": "9c69a9bc-d585-492d-8347-525cf3a46328",
   "metadata": {},
   "outputs": [
    {
     "data": {
      "image/png": "[encoded data removed]",
      "text/plain": [
       "<Figure size 432x288 with 1 Axes>"
      ]
     },
     "metadata": {
      "needs_background": "light"
     },
     "output_type": "display_data"
    }
   ],
   "source": [
    "%matplotlib inline\n",
    "import numpy as np\n",
    "\n",
    "incomes = np.random.normal(27000, 15000, 10000)\n",
    "incomes = np.append(incomes, [1000000000])\n",
    "\n",
    "import matplotlib.pyplot as plt\n",
    "plt.hist(incomes, 50)\n",
    "plt.show()"
   ]
  },
  {
   "cell_type": "markdown",
   "id": "58042b79-9751-4de0-bfbb-a33a71f743b3",
   "metadata": {},
   "source": [
    "This blue line is showing out of the three salaries what were plotted the billionaire salary seriously skewed the data and skewing the mean significantly"
   ]
  },
  {
   "cell_type": "code",
   "execution_count": 3,
   "id": "e8a3f597-8048-4586-a677-323fdc3bb9af",
   "metadata": {},
   "outputs": [
    {
     "data": {
      "text/plain": [
       "126889.39933208487"
      ]
     },
     "execution_count": 3,
     "metadata": {},
     "output_type": "execute_result"
    }
   ],
   "source": [
    "incomes.mean()"
   ]
  },
  {
   "cell_type": "markdown",
   "id": "f402fdbf-a964-483b-9113-932ab4bb9454",
   "metadata": {},
   "source": [
    "## Finding out what causes outliers and understanding where they are coming from"
   ]
  },
  {
   "cell_type": "markdown",
   "id": "cf4148f6-7efd-4c9f-88ef-3e61ebb5e623",
   "metadata": {},
   "source": [
    "It is essential to understand where your outliers are coming from. In the example above, you can see out of the four salaries, one had a huge salary. This causes your data to be skewed. The goal for your analysis is to find out the salaries of the 'typical American'. You would remove the Billionaire's salary. Take a look below ."
   ]
  },
  {
   "cell_type": "code",
   "execution_count": 4,
   "id": "16318636-2c54-4ca3-9532-d599f24f0d18",
   "metadata": {},
   "outputs": [
    {
     "data": {
      "image/png": "[encoded data removed]",
      "text/plain": [
       "<Figure size 432x288 with 1 Axes>"
      ]
     },
     "metadata": {
      "needs_background": "light"
     },
     "output_type": "display_data"
    }
   ],
   "source": [
    "def reject_outliers(data):\n",
    "    u = np.median(data)\n",
    "    s = np.std(data)\n",
    "    filtered = [e for e in data if (u - 2 * s < e < u + 2 * s)]\n",
    "    return filtered\n",
    "\n",
    "filtered = reject_outliers(incomes)\n",
    "\n",
    "plt.hist(filtered, 50)\n",
    "plt.show()"
   ]
  },
  {
   "cell_type": "markdown",
   "id": "a8cb2191-345e-4bfb-995e-1f57b1be1114",
   "metadata": {},
   "source": [
    "How awesome is that? Now that the Billionaire's salary has been removed, the data is evenly distributed."
   ]
  },
  {
   "cell_type": "code",
   "execution_count": 5,
   "id": "86e96167-8004-4b60-8f1e-8895ea01ad8f",
   "metadata": {},
   "outputs": [
    {
     "data": {
      "text/plain": [
       "26902.08827201807"
      ]
     },
     "execution_count": 5,
     "metadata": {},
     "output_type": "execute_result"
    }
   ],
   "source": [
    "np.mean(filtered)"
   ]
  },
  {
   "cell_type": "code",
   "execution_count": null,
   "id": "50bece09-fc4f-4fdc-a701-6f4cf0f94cf7",
   "metadata": {},
   "outputs": [],
   "source": []
  }
 ],
 "metadata": {
  "kernelspec": {
   "display_name": "Python 3 (ipykernel)",
   "language": "python",
   "name": "python3"
  },
  "language_info": {
   "codemirror_mode": {
    "name": "ipython",
    "version": 3
   },
   "file_extension": ".py",
   "mimetype": "text/x-python",
   "name": "python",
   "nbconvert_exporter": "python",
   "pygments_lexer": "ipython3",
   "version": "3.9.7"
  }
 },
 "nbformat": 4,
 "nbformat_minor": 5
}
