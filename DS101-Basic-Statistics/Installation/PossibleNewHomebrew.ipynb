{
 "cells": [
  {
   "cell_type": "markdown",
   "id": "247ec4c9-6658-49c6-b666-ec926dfb3faa",
   "metadata": {},
   "source": [
    "# Welcome to our Data Science Program!!\n",
    "+ Our program requires downloading a number of programs that you will use to complete coursework.<br>\n",
    "<img src=\"https://brew.sh/assets/img/homebrew-256x256.png\" align=\"left\" alt=\"homebrew image\" width = \"100\">\n",
    "\n",
    "## Homebrew\n",
    "##### The Missing Package Manager for macOS (or Linux)\n",
    "<br>\n",
    "\n",
    "+ If you have a MacOS, you will use Homebrew to download and install all of these programs at once!\n",
    "    + Homebrew is a software package management system. We will utilize it to download, install, and update/maintain all of the software necessary for this course!\n",
    "    + These instuctions cover downloading Homebrew, and then having Homebrew download all of the necessary programs\n",
    "    + The instructions finish by setting up your GitHub, linking your programs together, and walking you through our Companion Notebooks\n",
    "    + There are links to videos that can help you walk through this process! The links will open up in Vimeo. You can follow along with the video and pause/start the video as needed during this process!\n",
    "    + You will use your Terminal to complete the majority of the installation process! If you have never used your Terminal before, **don't worry**! Just follow along with the videos and instructions. In the words of our Instructor, Joseph Raetano - **Go slow, to go fast.** Read each line carefully, take it step-by-step, and reach out to your mentor or the group discussion on Slack if you need additional help!\n",
    "    "
   ]
  },
  {
   "cell_type": "markdown",
   "id": "999c9325-cacb-4294-8786-7704be6235d3",
   "metadata": {},
   "source": [
    "# Step 1:\n",
    "##### Setup\n",
    "+ Ensure you have about 45 minutes to 1 hour to complete this process. It will vary depending on your internet connection!\n",
    "+ Check your internet connection. Ensure you have a solid, high-bandwidth, and unlimited connection to the internet.\n",
    "    + Do NOT install during a storm!\n",
    "+ In the unlikely event that you have previously installed Anaconda or Python3, please uninstall it!\n",
    "+ Check your OSX version. \n",
    "    + Click on the Apple icon in the upper left hand corner of your screen and click 'About This Mac' to check to see what MacOs you are running.\n",
    "        + You should be using Big Sur 11.x or Monterey 12.x\n",
    "        + If you currently have an older OSX, you should first upgrade to the most recent version that your computer can run. Otherwise, many of these applications won't install. \n",
    "            + To upgrade your OSX, from your 'About This Mac' screen, click 'Software Update' in the lower right, and then click 'Update Now'.\n",
    "+ Check your processor type\n",
    "    + The instructions are different for Step 2 depending on the type of processing chip in your Mac.\n",
    "    + On the 'About This Mac' Screen next to Chip or Processor.\n",
    "        + If you have the newest M1 processor, watch this video and you will follow instructions listed for M1.\n",
    "            + https://vimeo.com/652120936\n",
    "        + If you have _ANY OTHER_ processor (i.e.- Intel i5, i7, or i9), you will watch this video and follow instructions for i86 chips.\n",
    "            + https://vimeo.com/625214363"
   ]
  },
  {
   "cell_type": "markdown",
   "id": "5c56d23a-90b4-456e-98ce-17d86820fbdc",
   "metadata": {},
   "source": [
    "### Step 2 for M1 chip:\n",
    "##### Open Terminal and download Homebrew and Programs\n",
    "+ You can open your Terminal a few different ways, but we will commonly access it by searching for it with Spotlight Search.\n",
    "    + Open Spotlight Search by pressing <kbd>&#8984;</kbd> and <kbd>Space</kbd> at the same time.\n",
    "    + In the Search bar that pops up on your screen, start typing ```Terminal```.\n",
    "    + The Terminal Application should be the first result that pops up. It automatically highlights the first result, so just press <kbd>Enter</kbd> to open the Terminal.\n",
    "+ The Terminal will open as a small, black box and will show the name of your computer ending in a <kbd>%</kbd>\n",
    "    + Type ```cd Desktop``` and then press <kbd>Enter</kbd>\n",
    "    + This changes your directory to locate yourself into your Desktop directory\n",
    "+ Copy (<kbd>&#8984;</kbd> + <kbd>C</kbd>) and paste (<kbd>&#8984;</kbd> + <kbd>V</kbd>) the following command and then press <kbd>Enter</kbd><br><br>\n",
    "```curl -O https://raw.githubusercontent.com/woz-u/DS-Student-Resources/main/DS101-Basic-Statistics/Installation/M1-Homebrew-install.sh```<br><br>\n",
    "+ Next, copy (<kbd>&#8984;</kbd> + <kbd>C</kbd>) and paste (<kbd>&#8984;</kbd> + <kbd>V</kbd>) the following command and then press <kbd>Enter</kbd><br><br>\n",
    "```chmod 755 M1-Homebrew-install.sh```<br><br>\n",
    "+ Finally, copy (<kbd>&#8984;</kbd> + <kbd>C</kbd>) and paste (<kbd>&#8984;</kbd> + <kbd>V</kbd>) the following command and then press <kbd>Enter</kbd><br><br>\n",
    "    + This last command will take a while to run as it is downloading all of the programs needed!<br><br>\n",
    "```./M1-Homebrew-install.sh```<br><br>\n",
    "    + Anytime you see it request a password, type the password you use to log into your computer user profile.\n",
    "    + When you are typing in a password, it may not look like it is taking the password, but it is! Just type your password and press <kbd>Enter</kbd>.\n",
    "    + You may need to press <kbd>Y</kbd> for Yes, <kbd>A</kbd> for All, or <kbd>Enter</kbd> as needed while it it goes through downloading each program.\n",
    "    + At the end, you should see CONGRATULATIONS!\n",
    "    + You may now close your Terminal application\n",
    "    + You can also check your Applications Folder to ensure that the programs downloaded successfully! You should see (in alphabetical order): G*Power, GitHub Desktop, MySQLWorkbench, R, RStudio, Tableau Public, and Visual Studio Code."
   ]
  },
  {
   "cell_type": "markdown",
   "id": "dd9c7cb6-af4e-4599-b7e2-a7563641116c",
   "metadata": {},
   "source": [
    "### Step 2 for i86 chips:\n",
    "##### Open Terminal and download Homebrew and Programs\n",
    "+ You can open your Terminal a few different ways, but we will commonly access it by searching for it with Spotlight Search.\n",
    "    + Open Spotlight Search by pressing <kbd>&#8984;</kbd> and <kbd>Space</kbd> at the same time.\n",
    "    + In the Search bar that pops up on your screen, start typing ```Terminal```.\n",
    "    + The Terminal Application should be the first result that pops up. It automatically highlights the first result, so just press <kbd>Enter</kbd> to open the Terminal.\n",
    "+ The Terminal will open as a small, black box and will show the name of your computer ending in a <kbd>%</kbd>\n",
    "    + Type ```cd Desktop``` and then press <kbd>Enter</kbd>\n",
    "    + This changes your directory to locate yourself into your Desktop directory\n",
    "+ Copy (<kbd>&#8984;</kbd> + <kbd>C</kbd>) and paste (<kbd>&#8984;</kbd> + <kbd>V</kbd>) the following command and then press <kbd>Enter</kbd><br><br>\n",
    "```curl -O https://raw.githubusercontent.com/woz-u/DS-Student-Resources/main/DS101-Basic-Statistics/Installation/i86-Homebrew-install.sh```<br><br>\n",
    "+ Next, copy (<kbd>&#8984;</kbd> + <kbd>C</kbd>) and paste (<kbd>&#8984;</kbd> + <kbd>V</kbd>) the following command and then press <kbd>Enter</kbd><br><br>\n",
    "```chmod 755 i86-Homebrew-install.sh```<br><br>\n",
    "+ Finally, copy (<kbd>&#8984;</kbd> + <kbd>C</kbd>) and paste (<kbd>&#8984;</kbd> + <kbd>V</kbd>) the following command and then press <kbd>Enter</kbd><br><br>\n",
    "    + This last command will take a while to run as it is downloading all of the programs needed!<br><br>\n",
    "```./i86-Homebrew-install.sh```<br><br>\n",
    "    + Anytime you see it request a password, type the password you use to log into your computer user profile.\n",
    "    + When you are typing in a password, it may not look like it is taking the password, but it is! Just type your password and press <kbd>Enter</kbd>.\n",
    "    + You may need to press <kbd>Y</kbd> for Yes, <kbd>A</kbd> for All, or <kbd>Enter</kbd> as needed while it it goes through downloading each program.\n",
    "    + At the end, you should see CONGRATULATIONS!\n",
    "    + You may now close your Terminal application\n",
    "    + You can also check your Applications Folder to ensure that the programs downloaded successfully! You should see (in alphabetical order): G*Power, GitHub Desktop, MySQLWorkbench, R, RStudio, Tableau Public, and Visual Studio Code."
   ]
  },
  {
   "cell_type": "markdown",
   "id": "cde8be70-817d-4795-a7d5-e6e8a47c23c4",
   "metadata": {},
   "source": [
    "### Step 3 (for both M1 and i86 chips):\n",
    "##### Setup and Link a GitHub account\n",
    "+ You can start this process while you are waiting for Step 2 to complete! But you will not be able to link your account to GitHub Desktop until it is finished installing.\n",
    "+ Go to [Github.com](https://github.com) (right-click and open as a new tab)\n",
    "+ Sign up for a GitHub Account\n",
    "    + Follow their sign-up process, choosing the free account version when prompted.\n",
    "+ Once GitHub Desktop has been installed on your computer, open GitHub Desktop\n",
    "+ "
   ]
  },
  {
   "cell_type": "code",
   "execution_count": null,
   "id": "f875729c-d0fa-45ab-90ef-5d66af072266",
   "metadata": {},
   "outputs": [],
   "source": []
  }
 ],
 "metadata": {
  "kernelspec": {
   "display_name": "Python 3 (ipykernel)",
   "language": "python",
   "name": "python3"
  },
  "language_info": {
   "codemirror_mode": {
    "name": "ipython",
    "version": 3
   },
   "file_extension": ".py",
   "mimetype": "text/x-python",
   "name": "python",
   "nbconvert_exporter": "python",
   "pygments_lexer": "ipython3",
   "version": "3.9.9"
  }
 },
 "nbformat": 4,
 "nbformat_minor": 5
}
