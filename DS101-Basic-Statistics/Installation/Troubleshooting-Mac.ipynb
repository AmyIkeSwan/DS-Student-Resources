{
 "cells": [
  {
   "cell_type": "markdown",
   "id": "c0160552-3dfb-4cc3-8247-d99117c99949",
   "metadata": {},
   "source": [
    "# Troubleshooting on Mac"
   ]
  },
  {
   "cell_type": "markdown",
   "id": "9e12a08e-b0e1-4c29-ab26-64750471e718",
   "metadata": {},
   "source": [
    "## Networking"
   ]
  },
  {
   "cell_type": "code",
   "execution_count": 1,
   "id": "0b8999ea-a866-4513-93b1-dc7c6c477655",
   "metadata": {},
   "outputs": [
    {
     "name": "stdout",
     "output_type": "stream",
     "text": [
      "PING google.com (172.217.0.46): 56 data bytes\n",
      "64 bytes from 172.217.0.46: icmp_seq=0 ttl=118 time=14.482 ms\n",
      "64 bytes from 172.217.0.46: icmp_seq=1 ttl=118 time=13.553 ms\n",
      "64 bytes from 172.217.0.46: icmp_seq=2 ttl=118 time=14.973 ms\n",
      "64 bytes from 172.217.0.46: icmp_seq=3 ttl=118 time=18.245 ms\n",
      "64 bytes from 172.217.0.46: icmp_seq=4 ttl=118 time=13.400 ms\n",
      "\n",
      "--- google.com ping statistics ---\n",
      "5 packets transmitted, 5 packets received, 0.0% packet loss\n",
      "round-trip min/avg/max/stddev = 13.400/14.931/18.245/1.757 ms\n"
     ]
    }
   ],
   "source": [
    "!ping -c 5 google.com"
   ]
  },
  {
   "cell_type": "code",
   "execution_count": 2,
   "id": "1bd0e7b1-f9b8-41d9-b775-4602e476a58e",
   "metadata": {},
   "outputs": [
    {
     "name": "stdout",
     "output_type": "stream",
     "text": [
      "traceroute to google.com (172.217.0.46), 64 hops max, 52 byte packets\n",
      " 1  192.168.1.1 (192.168.1.1)  0.552 ms  0.149 ms  0.138 ms\n",
      " 2  10.2.24.1 (10.2.24.1)  6.062 ms  6.888 ms  6.712 ms\n",
      " 3  100.127.40.86 (100.127.40.86)  8.841 ms  9.297 ms  7.487 ms\n",
      " 4  100.120.124.22 (100.120.124.22)  8.832 ms  9.387 ms  8.942 ms\n",
      " 5  ashbbprj02-ae2.0.rd.as.cox.net (68.1.4.139)  12.782 ms  13.455 ms\n",
      "    ashbbprj01-ae2.rd.as.cox.net (68.1.0.242)  12.723 ms\n",
      " 6  98.182.1.86 (98.182.1.86)  16.964 ms\n",
      "    184.187.207.214 (184.187.207.214)  12.416 ms\n",
      "    209.85.168.194 (209.85.168.194)  12.029 ms\n",
      " 7  108.170.246.1 (108.170.246.1)  14.216 ms * *\n",
      " 8  142.251.77.62 (142.251.77.62)  24.099 ms\n",
      "    108.170.246.33 (108.170.246.33)  14.882 ms\n",
      "    142.251.52.64 (142.251.52.64)  13.308 ms\n",
      " 9  108.170.246.34 (108.170.246.34)  14.209 ms\n",
      "    142.251.77.61 (142.251.77.61)  14.785 ms\n",
      "    108.170.246.34 (108.170.246.34)  13.763 ms\n",
      "10  lga15s43-in-f14.1e100.net (172.217.0.46)  12.582 ms  13.057 ms\n",
      "    142.251.49.187 (142.251.49.187)  14.401 ms\n"
     ]
    }
   ],
   "source": [
    "!traceroute google.com"
   ]
  },
  {
   "cell_type": "code",
   "execution_count": 3,
   "id": "b6f1053f-8410-413f-9393-fe9a0e576a77",
   "metadata": {},
   "outputs": [
    {
     "name": "stdout",
     "output_type": "stream",
     "text": [
      "% IANA WHOIS server\n",
      "% for more information on IANA, visit http://www.iana.org\n",
      "% This query returned 1 object\n",
      "\n",
      "refer:        whois.arin.net\n",
      "\n",
      "inetnum:      142.0.0.0 - 142.255.255.255\n",
      "organisation: Administered by ARIN\n",
      "status:       LEGACY\n",
      "\n",
      "whois:        whois.arin.net\n",
      "\n",
      "changed:      1993-05\n",
      "source:       IANA\n",
      "\n",
      "# whois.arin.net\n",
      "\n",
      "NetRange:       142.250.0.0 - 142.251.255.255\n",
      "CIDR:           142.250.0.0/15\n",
      "NetName:        GOOGLE\n",
      "NetHandle:      NET-142-250-0-0-1\n",
      "Parent:         NET142 (NET-142-0-0-0-0)\n",
      "NetType:        Direct Allocation\n",
      "OriginAS:       AS15169\n",
      "Organization:   Google LLC (GOGL)\n",
      "RegDate:        2012-05-24\n",
      "Updated:        2012-05-24\n",
      "Ref:            https://rdap.arin.net/registry/ip/142.250.0.0\n",
      "\n",
      "\n",
      "\n",
      "OrgName:        Google LLC\n",
      "OrgId:          GOGL\n",
      "Address:        1600 Amphitheatre Parkway\n",
      "City:           Mountain View\n",
      "StateProv:      CA\n",
      "PostalCode:     94043\n",
      "Country:        US\n",
      "RegDate:        2000-03-30\n",
      "Updated:        2019-10-31\n",
      "Comment:        Please note that the recommended way to file abuse complaints are located in the following links. \n",
      "Comment:        \n",
      "Comment:        To report abuse and illegal activity: https://www.google.com/contact/\n",
      "Comment:        \n",
      "Comment:        For legal requests: http://support.google.com/legal \n",
      "Comment:        \n",
      "Comment:        Regards, \n",
      "Comment:        The Google Team\n",
      "Ref:            https://rdap.arin.net/registry/entity/GOGL\n",
      "\n",
      "\n",
      "OrgAbuseHandle: ABUSE5250-ARIN\n",
      "OrgAbuseName:   Abuse\n",
      "OrgAbusePhone:  +1-650-253-0000 \n",
      "OrgAbuseEmail:  network-abuse@google.com\n",
      "OrgAbuseRef:    https://rdap.arin.net/registry/entity/ABUSE5250-ARIN\n",
      "\n",
      "OrgTechHandle: ZG39-ARIN\n",
      "OrgTechName:   Google LLC\n",
      "OrgTechPhone:  +1-650-253-0000 \n",
      "OrgTechEmail:  arin-contact@google.com\n",
      "OrgTechRef:    https://rdap.arin.net/registry/entity/ZG39-ARIN\n",
      "\n",
      "\n"
     ]
    }
   ],
   "source": [
    "!whois 142.251.49.187"
   ]
  },
  {
   "cell_type": "markdown",
   "id": "74ef2d6f-ac07-434a-ac8d-5784b8caa81f",
   "metadata": {},
   "source": [
    "# Wifi"
   ]
  },
  {
   "cell_type": "markdown",
   "id": "e8d94c3c-13b6-4e79-b5aa-ddca08dde747",
   "metadata": {},
   "source": [
    "There basically two components for you Wifi connection.\n",
    "- Signal strength\n",
    "- Bandwidth\n",
    "\n",
    "Let's check them!\n",
    "\n",
    "<p style=\"text-align: center\">\n",
    "  <img  src=\"Media/Signal-Strength.png\" width=\"400\" alt=\"Signal Strength\">\n",
    "</p>\n",
    "\n"
   ]
  },
  {
   "cell_type": "markdown",
   "id": "e6e0e56f-588c-4bd3-8e26-dd11289eb67f",
   "metadata": {},
   "source": [
    "### Signal Strength\n",
    "\n",
    "Notice that on a Mac you have a little radar looking icon in the above left corner of this graphic above.\n",
    "\n",
    "And Notice how currently I'm connected to my [Starlink](https://www.starlink.com/) system. Notice that I only have 2 bars, whereas Matrix and Tik have a stronger signal with 3 bars. Also notice my IPhone connect to an LTE network to use as a Hotspot. That has 3 out of 4 bars.\n",
    "\n",
    "If you don't have good signal strength you may have degraded bandwidth and things like dropped packets. So you should try to move closer to the Wifi access point to increase you signal strength.\n",
    "\n",
    "### Bandwidth\n",
    "\n",
    "In your homebrew script, I've included speedtest-cli so you don't have to utilize the web based version that has ads. \n",
    "\n",
    "Now let's check you bandwidth"
   ]
  },
  {
   "cell_type": "code",
   "execution_count": 5,
   "id": "02e05b7e-f078-4ce8-a8ac-658b489aa96b",
   "metadata": {},
   "outputs": [
    {
     "name": "stdout",
     "output_type": "stream",
     "text": [
      "Retrieving speedtest.net configuration...\n",
      "Testing from Cox Communications (68.10.194.70)...\n",
      "Retrieving speedtest.net server list...\n",
      "Selecting best server based on ping...\n",
      "Hosted by All Points Broadband (Ashburn, VA) [298.30 km]: 17.4 ms\n",
      "Testing download speed................................................................................\n",
      "Download: 405.94 Mbit/s\n",
      "Testing upload speed......................................................................................................\n",
      "Upload: 33.49 Mbit/s\n"
     ]
    }
   ],
   "source": [
    "!speedtest"
   ]
  },
  {
   "cell_type": "markdown",
   "id": "ba589949-7a1e-48aa-8b4b-500612b72783",
   "metadata": {},
   "source": [
    "## Is your computer slowing you down?\n",
    "\n",
    "Operating on the Internet is fairly complicated but can be broken down into various puzzle pieces.\n",
    "\n",
    "Currently we've focused on the networking aspect, but your computer could be slowing you down also.\n",
    "\n",
    "### First thing is to check is \"About this Mac\" by pressing the little apple icon on the top left corner of your desktop\n",
    "\n",
    "<p style=\"text-align: center\">\n",
    "  <img  src=\"Media/About-This-Mac.png\" width=\"600\" alt=\"About This Mac\">\n",
    "</p>\n",
    "\n",
    "Check to ensure you have at least 8GB of memory and an I5 i85 Intel or M1/M2 chipset\n",
    "\n",
    "Then click on storage to ensure you have available hard disk space.\n",
    "\n",
    "### Check your activity monitor\n",
    "\n",
    "<p style=\"text-align: center\">\n",
    "  <img  src=\"Media/Activity-Monitor.png\" width=\"600\" alt=\"Activity Monitor\">\n",
    "</p>\n",
    "\n",
    "Check to see if there are any hung or offending applications that are utilizing upwards of 70-100 % of your CPU\n",
    "\n",
    "Then check to see if your maxed out on Memory\n",
    "\n",
    "<p style=\"text-align: center\">\n",
    "  <img  src=\"Media/Check-Memory.png\" width=\"600\" alt=\"Activity Monitor\">\n",
    "</p>"
   ]
  },
  {
   "cell_type": "markdown",
   "id": "f3b124f0-5edc-4106-a3ec-1d81842db41b",
   "metadata": {},
   "source": [
    "### In the Activity Monitor app  \n",
    "\n",
    "on your Mac, click Memory to see the following in the bottom of the window:\n",
    "\n",
    "- Memory Pressure: Graphically represents how efficiently your memory is serving your processing needs.\n",
    "\n",
    "Memory pressure is determined by the amount of free memory, swap rate, wired memory, and file cached memory.\n",
    "\n",
    "- Physical Memory: The amount of RAM installed.\n",
    "\n",
    "- Memory Used: The amount of RAM being used. To the right, you can see where the memory is allocated.\n",
    "\n",
    "- App Memory: The amount of memory being used by apps.\n",
    "\n",
    "- Wired Memory: Memory required by the system to operate. This memory can’t be cached and must stay in RAM, so it’s not available to other apps.\n",
    "\n",
    "- Compressed: The amount of memory that has been compressed to make more RAM available.\n",
    "\n",
    "When your computer approaches its maximum memory capacity, inactive apps in memory are compressed, making more memory available to active apps. Select the Compressed Memory column, then look in the VM Compressed column for each app to see the amount of memory being compressed for that app.\n",
    "\n",
    "- Cached Files: The size of files cached by the system into unused memory to improve performance.\n",
    "\n",
    "Until this memory is overwritten, it remains cached, so it can help improve performance when you reopen the app.\n",
    "\n",
    "- Swap Used: The amount of space being used on your startup disk to swap unused files to and from RAM.\n",
    "\n",
    "To display more columns, choose View > Columns, then choose the columns you want to show."
   ]
  },
  {
   "cell_type": "code",
   "execution_count": null,
   "id": "e5b170fb-67dd-40df-bb5b-9ef19e582701",
   "metadata": {},
   "outputs": [],
   "source": []
  }
 ],
 "metadata": {
  "kernelspec": {
   "display_name": "Python 3 (ipykernel)",
   "language": "python",
   "name": "python3"
  },
  "language_info": {
   "codemirror_mode": {
    "name": "ipython",
    "version": 3
   },
   "file_extension": ".py",
   "mimetype": "text/x-python",
   "name": "python",
   "nbconvert_exporter": "python",
   "pygments_lexer": "ipython3",
   "version": "3.9.10"
  }
 },
 "nbformat": 4,
 "nbformat_minor": 5
}
