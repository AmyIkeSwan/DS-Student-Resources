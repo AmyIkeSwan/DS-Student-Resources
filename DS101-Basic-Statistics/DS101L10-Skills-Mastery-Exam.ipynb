{
 "cells": [
  {
   "cell_type": "markdown",
   "id": "0900c7e3-3657-424b-b62c-cd3e7c347d2e",
   "metadata": {
    "tags": []
   },
   "source": [
    "#  Basic Statistics - Skills Mastery Exam\n",
    "\n",
    "Below is an exam to review the recently covered material.  Please feel free to refer to your notes or the curriculum since you don't have to memorize everything in the real world - as long as you know where to find information!\n",
    "\n",
    "\n",
    "The following scenario is an example of what type of sampling?"
   ]
  },
  {
   "cell_type": "code",
   "execution_count": null,
   "id": "66ecdac4-4a26-454e-963c-7a227973221a",
   "metadata": {},
   "outputs": [],
   "source": [
    "L10Q1 = MultipleChoice('1. A single candy bar is pulled at the Mars plant for nutritional content testing out of every 300th batch of Snickers selected.',['Cluster sampling','Simple Random sampling','Convenience sampling', 'Stratified sampling', 'Systematic sampling'],'Systematic sampling')\n",
    "L10Q2 = MultipleChoice('2. Is the following variable categorical, quantitative, or ordinal? n\\The \"hot\" scale for peppers',['Categorical','Quantitative','Ordinal'],'Ordinal')\n",
    "L10Q3 = MultipleChoice('3. If two events are independent, how do you calculate the probability of an \"or\" in the probability question?',[\"Bayes' Theorem\",'Add the two individual probabilities','Multiply the two probabilities', 'Use a Gantt chart'],'Use a Gantt chart')\n",
    "L10Q4 = MultipleChoice('4. Question?',['A','B','C', 'D'],'D')\n",
    "L10Q5 = MultipleChoice('5. Question?',['A','B','C', 'D'],'D')\n",
    "\n",
    "L10Q6 = MultipleChoice('6. Question?',['A','B','C', 'D'],'D')\n",
    "L10Q7 = MultipleChoice('7. Question?',['A','B','C', 'D'],'D')\n",
    "L10Q8 = MultipleChoice('8. Question?',['A','B','C', 'D'],'D')\n",
    "L10Q9 = MultipleChoice('9. Question?',['A','B','C', 'D'],'D')\n",
    "L10Q10 = MultipleChoice('10. Question?',['A','B','C', 'D'],'D')\n",
    "\n",
    "L10Q11 = MultipleChoice('11. Question?',['A','B','C', 'D'],'D')\n",
    "L10Q12 = MultipleChoice('12. Question?',['A','B','C', 'D'],'D')\n",
    "L10Q13 = MultipleChoice('13. Question?',['A','B','C', 'D'],'D')\n",
    "L10Q14 = MultipleChoice('14. Question?',['A','B','C', 'D'],'D')\n",
    "L10Q15 = MultipleChoice('15. Question?',['A','B','C', 'D'],'D')\n",
    "\n",
    "L10Q16 = MultipleChoice('16. Question?',['A','B','C', 'D'],'D')\n",
    "L10Q17 = MultipleChoice('17. Question?',['A','B','C', 'D'],'D')\n",
    "L10Q18 = MultipleChoice('18. Question?',['A','B','C', 'D'],'D')\n",
    "L10Q19 = MultipleChoice('19. Question?',['A','B','C', 'D'],'D')\n",
    "L10Q20 = MultipleChoice('20. Question?',['A','B','C', 'D'],'D')\n",
    "\n",
    "L10Q21 = MultipleChoice('21. Question?',['A','B','C', 'D'],'D')\n",
    "L10Q22 = MultipleChoice('22. Question?',['A','B','C', 'D'],'D')\n",
    "L10Q23 = MultipleChoice('23. Question?',['A','B','C', 'D'],'D')\n",
    "L10Q24 = MultipleChoice('24. Question?',['A','B','C', 'D'],'D')\n",
    "L10Q25 = MultipleChoice('25. Question?',['A','B','C', 'D'],'D')\n",
    "\n",
    "L10Q26 = MultipleChoice('26. Question?',['A','B','C', 'D'],'D')\n",
    "L10Q27 = MultipleChoice('27. Question?',['A','B','C', 'D'],'D')\n",
    "L10Q28 = MultipleChoice('28. Question?',['A','B','C', 'D'],'D')"
   ]
  }
 ],
 "metadata": {
  "kernelspec": {
   "display_name": "Python 3 (ipykernel)",
   "language": "python",
   "name": "python3"
  },
  "language_info": {
   "codemirror_mode": {
    "name": "ipython",
    "version": 3
   },
   "file_extension": ".py",
   "mimetype": "text/x-python",
   "name": "python",
   "nbconvert_exporter": "python",
   "pygments_lexer": "ipython3",
   "version": "3.9.7"
  }
 },
 "nbformat": 4,
 "nbformat_minor": 5
}
