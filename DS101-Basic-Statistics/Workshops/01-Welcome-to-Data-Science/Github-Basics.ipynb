{
 "cells": [
  {
   "cell_type": "markdown",
   "id": "22c1c6e3-29e2-4a8a-ac67-4bf7990c829d",
   "metadata": {},
   "source": [
    "# Github Basics"
   ]
  },
  {
   "cell_type": "markdown",
   "id": "ddfa3c1a-598b-4338-80cd-ff9c82db61f8",
   "metadata": {},
   "source": [
    "1. If you haven't already done so create a github.com account by going to [github.com](https://github.com/)\n",
    "2. Ensure you are logged into your Github.com account."
   ]
  },
  {
   "cell_type": "code",
   "execution_count": 1,
   "id": "d4083f7d-f0b3-462c-8c4f-72ea8ead0673",
   "metadata": {},
   "outputs": [
    {
     "data": {
      "text/html": [
       "\n",
       "        <iframe\n",
       "            width=\"720\"\n",
       "            height=\"480\"\n",
       "            src=\"https://player.vimeo.com/video/570012385\"\n",
       "            frameborder=\"0\"\n",
       "            allowfullscreen\n",
       "            \n",
       "        ></iframe>\n",
       "        "
      ],
      "text/plain": [
       "<IPython.lib.display.VimeoVideo at 0x11207b880>"
      ]
     },
     "execution_count": 1,
     "metadata": {},
     "output_type": "execute_result"
    }
   ],
   "source": [
    "from IPython.display import VimeoVideo\n",
    "# Tutorial Video Name: Introduction to Python\n",
    "VimeoVideo('570012385', width=720, height=480)"
   ]
  },
  {
   "cell_type": "code",
   "execution_count": null,
   "id": "7844755e-59b9-4ff5-ab25-fbd05fbb5c19",
   "metadata": {},
   "outputs": [],
   "source": []
  }
 ],
 "metadata": {
  "kernelspec": {
   "display_name": "Python 3 (ipykernel)",
   "language": "python",
   "name": "python3"
  },
  "language_info": {
   "codemirror_mode": {
    "name": "ipython",
    "version": 3
   },
   "file_extension": ".py",
   "mimetype": "text/x-python",
   "name": "python",
   "nbconvert_exporter": "python",
   "pygments_lexer": "ipython3",
   "version": "3.9.7"
  }
 },
 "nbformat": 4,
 "nbformat_minor": 5
}
