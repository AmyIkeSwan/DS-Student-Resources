{
 "cells": [
  {
   "cell_type": "markdown",
   "id": "50e6ddbb-52d3-4a02-9b69-100a4181e3b0",
   "metadata": {},
   "source": [
    "# DS106 Modeling : Lesson One Companion Notebook"
   ]
  },
  {
   "cell_type": "markdown",
   "id": "d1bd4bfc-9b15-4b80-87b4-b8b60eb56371",
   "metadata": {},
   "source": [
    "### Table of Contents <a class=\"anchor\" id=\"DS106L1_toc\"></a>\n",
    "\n",
    "* [Table of Contents](#DS106L1_toc)\n",
    "    * [Page 1 - Introduction to Modeling](#DS106L1_page_1)\n",
    "    * [Page 2 - Introduction to Linear Regression](#DS106L1_page_2)\n",
    "    * [Page 3 - ](#DS106L1_page_3)\n",
    "    * [Page 4 - ](#DS106L1_page_4)\n",
    "    * [Page 5 - ](#DS106L1_page_5)\n",
    "    * [Page 6 - ](#DS106L1_page_6)\n",
    "    * [Page 7 - ](#DS106L1_page_7)\n",
    "    * [Page 8 - ](#DS106L1_page_8)\n",
    "    * [Page 9 - ](#DS106L1_page_9)\n",
    "    * [Page 10 - ](#DS106L1_page_10)\n",
    "    "
   ]
  },
  {
   "cell_type": "markdown",
   "id": "ef5a8c65-ed48-4354-a257-e01b0fd733d4",
   "metadata": {},
   "source": [
    "<hr style=\"height:10px;border-width:0;color:gray;background-color:gray\">\n",
    "\n",
    "# Page 1 - Introduction to Modeling <a class=\"anchor\" id=\"DS106L1_page_1\"></a>\n",
    "\n",
    "[Back to Top](#DS106L1_toc)\n",
    "\n",
    "<hr style=\"height:10px;border-width:0;color:gray;background-color:gray\">"
   ]
  },
  {
   "cell_type": "code",
   "execution_count": 1,
   "id": "fb8f2011-1cd8-4973-a187-7786ed4a2f13",
   "metadata": {},
   "outputs": [
    {
     "data": {
      "text/html": [
       "\n",
       "        <iframe\n",
       "            width=\"720\"\n",
       "            height=\"480\"\n",
       "            src=\"https://player.vimeo.com/video/246121269\"\n",
       "            frameborder=\"0\"\n",
       "            allowfullscreen\n",
       "        ></iframe>\n",
       "        "
      ],
      "text/plain": [
       "<IPython.lib.display.VimeoVideo at 0x7fe8801d1460>"
      ]
     },
     "execution_count": 1,
     "metadata": {},
     "output_type": "execute_result"
    }
   ],
   "source": [
    "from IPython.display import VimeoVideo\n",
    "# Tutorial Video Name: Introduction to Modeling\n",
    "VimeoVideo('246121269', width=720, height=480)"
   ]
  },
  {
   "cell_type": "markdown",
   "id": "5b6ad526-95fa-43c4-bc43-1fe807708ed3",
   "metadata": {},
   "source": [
    "# Introduction\n",
    "\n",
    "This lesson will be your first foray into modeling.  At its core, all modeling consists of is regression - and you will learn all the different ways to build on a simple linear regression so that you can best fit your data!\n",
    "\n",
    "By the end of this lesson, you should be able to:\n",
    "\n",
    "* Calculate the equation of a line\n",
    "* Understand residuals\n",
    "* List the assumptions for linear regression\n",
    "* Test assumptions and complete linear regression in R and Python\n",
    "\n",
    "This lesson will culminate in a hands-on in which you complete your own linear regression analyses in R and Python.\n",
    "\n",
    "<div class=\"panel panel-success\">\n",
    "    <div class=\"panel-heading\">\n",
    "        <h3 class=\"panel-title\">Additional Info!</h3>\n",
    "    </div>\n",
    "    <div class=\"panel-body\">\n",
    "        <p>You may want to watch this <a href=\"https://vimeo.com/436309839\"> recorded live workshop </a> that goes over the theory of regressions and the statistical assumptions associated with them.</p>\n",
    "    </div>\n",
    "</div>"
   ]
  },
  {
   "cell_type": "markdown",
   "id": "7990ac7a-5a2f-4744-af14-1b7e385ea484",
   "metadata": {},
   "source": [
    "<hr style=\"height:10px;border-width:0;color:gray;background-color:gray\">\n",
    "\n",
    "# Page 2 - Introduction to Linear Regression<a class=\"anchor\" id=\"DS106L1_page_2\"></a>\n",
    "\n",
    "[Back to Top](#DS106L1_toc)\n",
    "\n",
    "<hr style=\"height:10px;border-width:0;color:gray;background-color:gray\">\n"
   ]
  },
  {
   "cell_type": "markdown",
   "id": "612429df-e4ef-4d85-8460-5bc8914079c3",
   "metadata": {},
   "source": [
    "*Simple linear regression* is a method used to fit a line to data when you only have two variables.  Regression allows you to write an equation that models the relationship between the independent variable, x, and the dependent variable, y. You can think of x as a predictor, and y as the outcome you are trying to predict. When the model is created, it allows you to predict the value of y for any given value of x. \n",
    "\n",
    "The table below shows all the different terminology you may encounter for independent and dependent variables.\n",
    "\n",
    "![A table with two columns. Column one, independent variable. I V. X. Predictor. Explanatory. Column two, dependent variable. D V. Y. Outcome. Response.](Media/106.L6.20.png)\n",
    "\n",
    "---\n",
    "\n",
    "## Linear Equations\n",
    "\n",
    "A linear equation is the technical term for any equation that describes a line. Two important characteristics of a line are its *slope* and its *y-intercept*.\n",
    "\n",
    "---\n",
    "\n",
    "### y-Intercept\n",
    "\n",
    "The *y-intercept* is the value at which the line crosses the y-axis. Stated differently, the y-intercept is the value of y that corresponds to x = 0. Given the equation of a line, you can find the y-intercept by plugging in a zero for the x. You may remember having done this during algebra class in high school. Remember that old standby equation, ```y = mx + b```? Well, the ```b``` part of it is the y-intercept.\n",
    "\n",
    "For example, if your equation is:\n",
    "\n",
    "```y = 12x + 7```\n",
    "\n",
    "and you set the value of x to 0, then the equation becomes:\n",
    "\n",
    "```y = 12(0) + 7```.  \n",
    "\n",
    "Anything times zero is zero, so ```y = 7```.\n",
    "\n",
    "---\n",
    "\n",
    "### Slope\n",
    "\n",
    "The *slope* of a line, ```m```, is a measure of how steep the line is. It shows how much influence x has on y. If the slope is positive, then the value of y increases as the value of x increases. If the slope is negative, the value of y decreases as x increases. This is similar to correlations. \n",
    "\n",
    "When the slope is expressed as a fraction, the numerator (the number on top) indicates the vertical change when moving from a single point on the line to another point on the line. The denominator (the number on the bottom) indicates the horizontal change. Try an example:\n",
    "\n",
    "There is a point on the graph below at (0,2) - which is expressed as being at (x,y).  So it is 0 on the x-axis, and 2 on the y-axis. If you have the linear equation ```y = (3/5)x + 2```, where would the next point fall?\n",
    "\n",
    "![A graph showing the x and y axes. There is a point plotted at open parentheses zero comma two close parentheses. A line with an upward slope passes through the point.](Media/L01-01.png)\n",
    "\n",
    "Since the slope is 3/5, then if you want to move from the point (0, 2) to another point on the graph, you can go up 3 (the numerator of the slope, up is positive) and to the right 5 (the denominator of the slope, right is positive) to arrive at the point (5, 5), which will also be on the line.\n",
    "\n",
    "![A graph showing the x and y axes. There is a point plotted at open parentheses zero comma two close parentheses and a point at open parentheses five comma five close parentheses. A line with an upward slope of three fifths passes through the two points and continues in both directions.](Media/L01-02.png)\n",
    "\n",
    "With two points, you now have a better idea of the shape of the line and you have a good idea of the relationship between x and y.\n",
    "\n",
    "---\n",
    "\n",
    "## Linear Equations in Statistics\n",
    "\n",
    "In regression, you probably will see different notation than in algebra. The y-intercept is represented with the symbol b<sub>0</sub> and the slope with the symbol b<sub>1</sub>. You can remember the difference between these two by thinking that your y-intercept is the y value when x is zero - so the symbol has a zero in it ( b<sub>0</sub>). \n",
    "\n",
    "This leads to the following representation of the linear equation:\n",
    "\n",
    "> y = b<sub>1</sub>x +  b<sub>0</sub>\n",
    "\n",
    "Sometimes, you may also see the y-intercept as the first part of this equation instead of tacked onto the end (order changed).\n",
    "\n",
    "---"
   ]
  },
  {
   "cell_type": "markdown",
   "id": "832358fd-55fa-420a-8aa2-46fbf2097986",
   "metadata": {},
   "source": [
    "<hr style=\"height:10px;border-width:0;color:gray;background-color:gray\">\n",
    "\n",
    "# Page 3 - A Basic Regression Example<a class=\"anchor\" id=\"DS106L1_page_3\"></a>\n",
    "\n",
    "[Back to Top](#DS106L1_toc)\n",
    "\n",
    "<hr style=\"height:10px;border-width:0;color:gray;background-color:gray\">\n"
   ]
  },
  {
   "cell_type": "markdown",
   "id": "f564e3e7-3a7f-4936-b3a3-2e0a9ab78512",
   "metadata": {},
   "source": [
    "# A Basic Regression Example to Sink your *Teeth* Into\n",
    "\n",
    "You will revisit the **[crocodile data you used previously](https://repo.exeterlms.com/documents/V2/DataScience/Data-Wrang-Visual/crocodiles.zip)**. \n",
    "\n",
    "Recall that the crocodile data was arranged in two columns, and looks like this:\n",
    "\n",
    "![A table with three columns, common name, head length, and body length. In each row, the common name is estuarine crocodile. Each row has different data for head length and body length.](Media/L01-03.png)\n",
    "\n",
    "---\n",
    "\n",
    "## Interpreting the Regression Output\n",
    "\n",
    "You can assume that there is a linear relationship between the head length and the body length, and you can express this symbolically as:\n",
    "\n",
    "> y = b<sub>1</sub>x + b<sub>0</sub>\n",
    "\n",
    "where y represents the predicted body length of an estuarine crocodile with a head length of x. The number b<sub>1</sub> is called the *estimated regression coefficient*. The coefficient represents the magnitude of change that will take place in y based on the x variable. Regardless of what tool is used to create the regression equation, the output will give values for b<sub>0</sub> and b<sub>1</sub>. In this case, the y-intercept, b<sub>0</sub>, = −18.274. The slope, b<sub>1</sub>, = 7.660.\n",
    "\n",
    "---\n",
    "\n",
    "### Interpreting the Slope\n",
    "\n",
    "When the regression equation was created, the head length was the predictor variable (x), and the body length was the response (y). So, in terms of the regression equation, you have a slope of b<sub>1</sub> = 7.660. Or, with every 1 cm increase in the length of the head, the body is expected to increase by about 7.66 cm. This is the practical interpretation for any simple linear regression equation - that is, a one unit change in the horizontal axis variable predicts a b<sub>1</sub> unit change in the vertical axis variable. \n",
    "\n",
    "---\n",
    "\n",
    "### Interpreting the y-Intercept\n",
    "\n",
    "What about the interpretation of b<sub>0</sub>, the y-intercept? For this, you often need to be a bit careful. For example, with the crocodile data, the y-intercept of the regression equation is b<sub>0</sub> = −18.274. This means that if the head length gets down to 0 cm, the predicted body length is ~ -18.3 cm. Well, you can't have a negative body length, and you also can't have a head that is zero cm.  It just doesn't make sense.\n",
    "\n",
    "Note that in the data table, the head lengths range from 24 cm to 61 cm. You have no business predicting the body length of a crocodile whose head length is outside of this range, because you don't have enough data to be accurate.\n",
    "\n",
    "---\n",
    "\n",
    "## Making Predictions\n",
    "\n",
    "During an archaeological dig in northwest Africa, an 87 cm skull from a juvenile sarcosuchus (an extinct genus of crocodile from a distant relative of living crocodiles, believed to have lived 112 million years ago) was discovered. You want to estimate the body length of this crocodilian using the regression equation you calculated for the estuarine crocodiles.\n",
    "\n",
    "![A drawing of a sarcosuchus, an extinct genus of crocodile that is believed to have lived one hundred and twelve million years ago.](Media/L01-04.png)\n",
    "\n",
    "You are going to ignore for a moment that making this estimate will require extrapolation (guesstimating), because in the absence of anything else to help you predict, it seems to be the best approach. Besides, extrapolation on the high side of the range is less risky than extrapolating on the low side. And all you are really trying to do anyway is estimate the length of an extinct crocodile. It is not likely to affect world peace.\n",
    "\n",
    "To predict the body length, you can substitute x = 87 into the regression equation, since the found skull was 87cm:\n",
    "\n",
    "```y = 7.660x -18.274```\n",
    "```y = 7.660(87) -18.274```\n",
    "```y = 648.146```\n",
    "\n",
    "Stop and think about this for a minute. This juvenile sarcosuchus is estimated to be over six and a half meters long! That is over 21 feet! Imagine how big it might have been if it reached maturity! And you thought regular crocs were scary!\n",
    "\n",
    "---"
   ]
  },
  {
   "cell_type": "markdown",
   "id": "bb1aade2-59af-4cbc-b5ed-da31e39f266d",
   "metadata": {},
   "source": [
    "<hr style=\"height:10px;border-width:0;color:gray;background-color:gray\">\n",
    "\n",
    "# Page 4 - <a class=\"anchor\" id=\"DS106L1_page_4\"></a>\n",
    "\n",
    "[Back to Top](#DS106L1_toc)\n",
    "\n",
    "<hr style=\"height:10px;border-width:0;color:gray;background-color:gray\">\n"
   ]
  },
  {
   "cell_type": "markdown",
   "id": "eba2ed6e-98dd-43f7-8761-6ecc9a13af08",
   "metadata": {},
   "source": []
  },
  {
   "cell_type": "markdown",
   "id": "ead4ad3c-2fe6-457e-8924-1410e951bebd",
   "metadata": {},
   "source": [
    "<hr style=\"height:10px;border-width:0;color:gray;background-color:gray\">\n",
    "\n",
    "# Page 5 - <a class=\"anchor\" id=\"DS106L1_page_5\"></a>\n",
    "\n",
    "[Back to Top](#DS106L1_toc)\n",
    "\n",
    "<hr style=\"height:10px;border-width:0;color:gray;background-color:gray\">\n"
   ]
  },
  {
   "cell_type": "markdown",
   "id": "bbbc06a2-e702-47a1-942f-cbcbe31221a7",
   "metadata": {},
   "source": []
  },
  {
   "cell_type": "markdown",
   "id": "dd9e3b8a-9224-447f-8cf7-5035cae86421",
   "metadata": {},
   "source": [
    "<hr style=\"height:10px;border-width:0;color:gray;background-color:gray\">\n",
    "\n",
    "# Page 6 - <a class=\"anchor\" id=\"DS106L1_page_6\"></a>\n",
    "\n",
    "[Back to Top](#DS106L1_toc)\n",
    "\n",
    "<hr style=\"height:10px;border-width:0;color:gray;background-color:gray\">\n"
   ]
  },
  {
   "cell_type": "markdown",
   "id": "a81e2098-28ef-4ff5-a155-afe824de4323",
   "metadata": {},
   "source": []
  },
  {
   "cell_type": "markdown",
   "id": "42cb7d8a-aced-42e5-ac24-32acf8c95473",
   "metadata": {},
   "source": [
    "<hr style=\"height:10px;border-width:0;color:gray;background-color:gray\">\n",
    "\n",
    "# Page 7 - <a class=\"anchor\" id=\"DS106L1_page_7\"></a>\n",
    "\n",
    "[Back to Top](#DS106L1_toc)\n",
    "\n",
    "<hr style=\"height:10px;border-width:0;color:gray;background-color:gray\">\n"
   ]
  },
  {
   "cell_type": "markdown",
   "id": "cf0debaf-5fae-4035-8e7d-ae62e62456cb",
   "metadata": {},
   "source": []
  },
  {
   "cell_type": "markdown",
   "id": "d7b3f800-0a14-4d13-8c32-390965c537ca",
   "metadata": {},
   "source": [
    "<hr style=\"height:10px;border-width:0;color:gray;background-color:gray\">\n",
    "\n",
    "# Page 8 - <a class=\"anchor\" id=\"DS106L1_page_8\"></a>\n",
    "\n",
    "[Back to Top](#DS106L1_toc)\n",
    "\n",
    "<hr style=\"height:10px;border-width:0;color:gray;background-color:gray\">\n"
   ]
  },
  {
   "cell_type": "markdown",
   "id": "4597e4b4-ce22-448d-843e-eab5ba74a9c4",
   "metadata": {},
   "source": []
  },
  {
   "cell_type": "markdown",
   "id": "36943bcd-7e16-4af1-97d3-c09e81ae5e99",
   "metadata": {},
   "source": [
    "<hr style=\"height:10px;border-width:0;color:gray;background-color:gray\">\n",
    "\n",
    "# Page 9 - <a class=\"anchor\" id=\"DS106L1_page_9\"></a>\n",
    "\n",
    "[Back to Top](#DS106L1_toc)\n",
    "\n",
    "<hr style=\"height:10px;border-width:0;color:gray;background-color:gray\">\n"
   ]
  },
  {
   "cell_type": "markdown",
   "id": "fdf2cdde-9447-49b5-8936-17d80f46b45e",
   "metadata": {},
   "source": []
  },
  {
   "cell_type": "markdown",
   "id": "2a0d02d5-04fa-4220-9637-d02c3b32dce5",
   "metadata": {},
   "source": [
    "<hr style=\"height:10px;border-width:0;color:gray;background-color:gray\">\n",
    "\n",
    "# Page 10 - <a class=\"anchor\" id=\"DS106L1_page_10\"></a>\n",
    "\n",
    "[Back to Top](#DS106L1_toc)\n",
    "\n",
    "<hr style=\"height:10px;border-width:0;color:gray;background-color:gray\">"
   ]
  },
  {
   "cell_type": "code",
   "execution_count": null,
   "id": "54670854-6a9d-41cd-98a2-66ba1f0b865e",
   "metadata": {},
   "outputs": [],
   "source": []
  }
 ],
 "metadata": {
  "kernelspec": {
   "display_name": "Python 3",
   "language": "python",
   "name": "python3"
  },
  "language_info": {
   "codemirror_mode": {
    "name": "ipython",
    "version": 3
   },
   "file_extension": ".py",
   "mimetype": "text/x-python",
   "name": "python",
   "nbconvert_exporter": "python",
   "pygments_lexer": "ipython3",
   "version": "3.9.5"
  }
 },
 "nbformat": 4,
 "nbformat_minor": 5
}
