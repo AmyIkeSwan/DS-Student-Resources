{
 "cells": [
  {
   "cell_type": "markdown",
   "metadata": {},
   "source": [
    "### DSO106 Modeling"
   ]
  },
  {
   "cell_type": "code",
   "execution_count": 10,
   "metadata": {},
   "outputs": [],
   "source": [
    "from DS_Students import *"
   ]
  },
  {
   "cell_type": "markdown",
   "metadata": {},
   "source": [
    "### lesson 1 Modeling with Linear Regression"
   ]
  },
  {
   "cell_type": "markdown",
   "metadata": {},
   "source": [
    "### L1P2 Quiz\n"
   ]
  },
  {
   "cell_type": "code",
   "execution_count": 8,
   "metadata": {},
   "outputs": [],
   "source": [
    "L1P2Q1 = MultipleChoice('1. If the equation of a line is y = 3x – 2, where does it cross the y-axis?',['A. -2','B. 2','C. 3', 'D. 3/2'],'A. -2')\n",
    "L1P2Q2 = MultipleChoice('2. If the equation of a line is y = 3x – 2, what happens to the value of y as x increases?',['A. For every increase in x by 1, y increase by 2','B. For every increase in x by 1, y decreases by 3','C. For every increase in x by 2, y increases by 3', 'D. For every increase in x by 1, y increases by 3'],'D. For every increase in x by 1, y increases by 3')\n",
    "L1P2Q3 = MultipleChoice('3. For the linear regression equation y = -3.4x + 1.2, what is the slope?',['A. 1.2','B. -1.2','C. -3.4', 'D. 3.4'],'C. -3.4')\n",
    "L1P2Q4 = MultipleChoice('4. For the linear regression equation y = –3.4x + 1.2, what is the y-intercept?',['A. 1.2','B. -1.2','C. -3.4', 'D. 3.4'],'A. 1.2')\n",
    "L1P2Q5 = MultipleChoice('4. If a line crosses the y-axis at −3 and has a slope of 52, how would you write the equation of this line?',['A. y=-52x + 3','B. y=52x - 3','C. y=3x -52', 'D. y= -3x +52'],'B. y=52x - 3')\n"
   ]
  },
  {
   "cell_type": "code",
   "execution_count": 9,
   "metadata": {},
   "outputs": [
    {
     "data": {
      "application/vnd.jupyter.widget-view+json": {
       "model_id": "e62cb5e24bbd45e2b71e06795e6bc84b",
       "version_major": 2,
       "version_minor": 0
      },
      "text/plain": [
       "VBox(children=(Output(outputs=({'name': 'stdout', 'text': '1. If the equation of a line is y = 3x – 2, where d…"
      ]
     },
     "metadata": {},
     "output_type": "display_data"
    },
    {
     "data": {
      "application/vnd.jupyter.widget-view+json": {
       "model_id": "06cf344b6aa54fc2be1e0636e8382b7d",
       "version_major": 2,
       "version_minor": 0
      },
      "text/plain": [
       "VBox(children=(Output(outputs=({'name': 'stdout', 'text': '2. If the equation of a line is y = 3x – 2, what ha…"
      ]
     },
     "metadata": {},
     "output_type": "display_data"
    },
    {
     "data": {
      "application/vnd.jupyter.widget-view+json": {
       "model_id": "da7b013d538a4ddeadd12e1db58ceebe",
       "version_major": 2,
       "version_minor": 0
      },
      "text/plain": [
       "VBox(children=(Output(outputs=({'name': 'stdout', 'text': '3. For the linear regression equation y = -3.4x + 1…"
      ]
     },
     "metadata": {},
     "output_type": "display_data"
    },
    {
     "data": {
      "application/vnd.jupyter.widget-view+json": {
       "model_id": "0e25b53ad6b448878919188fd95bb709",
       "version_major": 2,
       "version_minor": 0
      },
      "text/plain": [
       "VBox(children=(Output(outputs=({'name': 'stdout', 'text': '4. For the linear regression equation y = –3.4x + 1…"
      ]
     },
     "metadata": {},
     "output_type": "display_data"
    },
    {
     "data": {
      "application/vnd.jupyter.widget-view+json": {
       "model_id": "2fd1d31b456e45878a776001371b9c42",
       "version_major": 2,
       "version_minor": 0
      },
      "text/plain": [
       "VBox(children=(Output(outputs=({'name': 'stdout', 'text': '4. If a line crosses the y-axis at −3 and has a slo…"
      ]
     },
     "metadata": {},
     "output_type": "display_data"
    }
   ],
   "source": [
    "if __name__ == \"__main__\":\n",
    "    display(L1P2Q1, L1P2Q2, L1P2Q3, L1P2Q4, L1P2Q5)"
   ]
  },
  {
   "cell_type": "markdown",
   "metadata": {},
   "source": [
    "### L1P3 Quiz"
   ]
  },
  {
   "cell_type": "code",
   "execution_count": 40,
   "metadata": {},
   "outputs": [],
   "source": [
    "L1P3Q1 = MultipleChoice('1. Using the equation y = 7.660x −18.274 where y is the crocodile body length and x is the crocodile skull length. The fossil of the mature specimen of sarcosuchus had a head length of 160 cm. Using the linear regression equation, how long would the body would be?',['A. 796 cm','B. 854 cm','C. 1207 cm', 'D. 1398 cm'],'C. 1207 cm')"
   ]
  },
  {
   "cell_type": "code",
   "execution_count": 41,
   "metadata": {},
   "outputs": [
    {
     "data": {
      "application/vnd.jupyter.widget-view+json": {
       "model_id": "1fed9a7572bb4a1a9856771453e39f1e",
       "version_major": 2,
       "version_minor": 0
      },
      "text/plain": [
       "VBox(children=(Output(outputs=({'name': 'stdout', 'text': '1. Using the equation y = 7.660x −18.274 where y is…"
      ]
     },
     "metadata": {},
     "output_type": "display_data"
    }
   ],
   "source": [
    "if __name__ == \"__main__\":\n",
    "    display(L1P3Q1)"
   ]
  },
  {
   "cell_type": "markdown",
   "metadata": {},
   "source": [
    "### L1P4 Quiz"
   ]
  },
  {
   "cell_type": "code",
   "execution_count": 94,
   "metadata": {},
   "outputs": [],
   "source": [
    "L1P4Q1 = MultipleChoice('1.True or False? The residual is the difference between your prediction and reality.',['A. True','B. False'],'A. True')\n",
    "L1P4Q2 = MC('2. In an ideal world, would you want a small or large residual?',['A. Small','B. Large'], 'A. Small',cor=\"A small residual indicates that your model is relatively accurate and thus not prone to much error.\", incor=\"\")"
   ]
  },
  {
   "cell_type": "code",
   "execution_count": 95,
   "metadata": {},
   "outputs": [
    {
     "data": {
      "application/vnd.jupyter.widget-view+json": {
       "model_id": "0ea830f70dc74e64aa5bb979e9f7b5f8",
       "version_major": 2,
       "version_minor": 0
      },
      "text/plain": [
       "VBox(children=(Output(outputs=({'name': 'stdout', 'text': '1.True or False? The residual is the difference bet…"
      ]
     },
     "metadata": {},
     "output_type": "display_data"
    },
    {
     "data": {
      "application/vnd.jupyter.widget-view+json": {
       "model_id": "73bbf31b0c3f458aaeafe4407594954e",
       "version_major": 2,
       "version_minor": 0
      },
      "text/plain": [
       "VBox(children=(Output(outputs=({'name': 'stdout', 'text': '2. In an ideal world, would you want a small or lar…"
      ]
     },
     "metadata": {},
     "output_type": "display_data"
    }
   ],
   "source": [
    "if __name__ == \"__main__\":\n",
    "    display(L1P4Q1, L1P4Q2)"
   ]
  },
  {
   "cell_type": "markdown",
   "metadata": {},
   "source": [
    "### L1P5 Quiz"
   ]
  },
  {
   "cell_type": "code",
   "execution_count": 100,
   "metadata": {},
   "outputs": [],
   "source": [
    "L1P5Q1 = MC('1. Which of the following assumptions DOES NOT deal with residuals (error)?',['A. Testing for a linear relationship','B. Homoscedasticity','C. Homogeneity of variance', 'D. Lack of outliers'],'D. Lack of outliers', cor=\"You'll look at your actual data, not the residuals, to look for outliers.\", incor=\"\")\n",
    "L1P5Q2 = MC('2. Does the plot above meet the assumption of homogeneity of variance?',['A. Yes','B. No'],'B. No', cor=\"Since the points are not flat, but rather form a cone shape, you have not met the assumption of homogeneity of variance.\", incor=\"\")\n",
    "L1P5Q3 = MultipleChoice('3. Which of the following assumptions CANNOT be tested?',['A. Multicollinearity','B. Linearity','C. Xs are measured without error', 'D. Outliers'],'C. Xs are measured without error')\n",
    "L1P5Q4 = MultipleChoice('4. Which type of outlier is extreme in both x and y space?',['A. Leverage','B. Distance','C. Influential'],'C. Influential')\n",
    "L1P5Q5 = MultipleChoice('5. If you find an outlier, before removing it, what should you do?',['A. Check the data for errors','B. Run another statistic','C. Run the model with and without the outlier', 'D. You should try all of the above first'],'D. You should try all of the above first')\n"
   ]
  },
  {
   "cell_type": "code",
   "execution_count": 99,
   "metadata": {},
   "outputs": [
    {
     "data": {
      "application/vnd.jupyter.widget-view+json": {
       "model_id": "3fb6495742ad4bd1b714f3242249de36",
       "version_major": 2,
       "version_minor": 0
      },
      "text/plain": [
       "VBox(children=(Output(), RadioButtons(options=(('A. Testing for a linear relationship', 0), ('B. Homoscedastic…"
      ]
     },
     "metadata": {},
     "output_type": "display_data"
    }
   ],
   "source": [
    "if __name__ == \"__main__\":\n",
    "    display(L1P5Q1)"
   ]
  },
  {
   "cell_type": "markdown",
   "metadata": {},
   "source": [
    "<img src=\"Media/modeling2.png\" alt=\"Drawing\" style=\"width: 400px;\"/>\n",
    "\n"
   ]
  },
  {
   "cell_type": "code",
   "execution_count": 101,
   "metadata": {},
   "outputs": [
    {
     "data": {
      "application/vnd.jupyter.widget-view+json": {
       "model_id": "7a22d32f9ec64c7689adfd37cc25ab7f",
       "version_major": 2,
       "version_minor": 0
      },
      "text/plain": [
       "VBox(children=(Output(outputs=({'name': 'stdout', 'text': '2. Does the plot above meet the assumption of homog…"
      ]
     },
     "metadata": {},
     "output_type": "display_data"
    }
   ],
   "source": [
    "if __name__ == \"__main__\":\n",
    "    display(L1P5Q2)"
   ]
  },
  {
   "cell_type": "code",
   "execution_count": 36,
   "metadata": {},
   "outputs": [
    {
     "data": {
      "application/vnd.jupyter.widget-view+json": {
       "model_id": "13bc0f319125427d891876607458bd65",
       "version_major": 2,
       "version_minor": 0
      },
      "text/plain": [
       "VBox(children=(Output(outputs=({'name': 'stdout', 'text': '3. Which of the following assumptions CANNOT be tes…"
      ]
     },
     "metadata": {},
     "output_type": "display_data"
    },
    {
     "data": {
      "application/vnd.jupyter.widget-view+json": {
       "model_id": "5df08a80ada147b8872c1bbc041a43fb",
       "version_major": 2,
       "version_minor": 0
      },
      "text/plain": [
       "VBox(children=(Output(outputs=({'name': 'stdout', 'text': '4. Which type of outlier is extreme in both x and y…"
      ]
     },
     "metadata": {},
     "output_type": "display_data"
    },
    {
     "data": {
      "application/vnd.jupyter.widget-view+json": {
       "model_id": "366badbda6f34ed9b2d3dfbedfb8f4b9",
       "version_major": 2,
       "version_minor": 0
      },
      "text/plain": [
       "VBox(children=(Output(outputs=({'name': 'stdout', 'text': '5. If you find an outlier, before removing it, what…"
      ]
     },
     "metadata": {},
     "output_type": "display_data"
    }
   ],
   "source": [
    "if __name__ == \"__main__\":\n",
    "    display(L1P5Q3, L1P5Q4, L1P5Q5)"
   ]
  },
  {
   "cell_type": "markdown",
   "metadata": {},
   "source": [
    "### L1P6 Quiz"
   ]
  },
  {
   "cell_type": "code",
   "execution_count": 103,
   "metadata": {},
   "outputs": [],
   "source": [
    "L1P6Q1 = MC('1. Which functions are used for homoscedasticity?',['A. bptest()','B. ncvtest()','C. BoxCoxTrans()', 'D. All of the above'],'D. All of the above', cor=\"bptest() and ncvtest() are used to test for homoscedasticity, and BoxCoxTrans() is used to correct for homoscedasticity\", incor=\"\")\n",
    "L1P6Q2 = MultipleChoice('2. True or False? Interpret the output of the gvlma() function with care.',['A. True','B. False'],'A. True')\n",
    "L1P6Q3 = MultipleChoice('3. Which of the following will test for influential outliers?',['A. CookD()','B. hat()','C. outlierTest()', 'D. influence.measures()'],'D. influence.measures()')"
   ]
  },
  {
   "cell_type": "code",
   "execution_count": 104,
   "metadata": {},
   "outputs": [
    {
     "data": {
      "application/vnd.jupyter.widget-view+json": {
       "model_id": "6c9f805de2484d18a39a3348af46c76d",
       "version_major": 2,
       "version_minor": 0
      },
      "text/plain": [
       "VBox(children=(Output(outputs=({'name': 'stdout', 'text': '1. Which functions are used for homoscedasticity?\\n…"
      ]
     },
     "metadata": {},
     "output_type": "display_data"
    },
    {
     "data": {
      "application/vnd.jupyter.widget-view+json": {
       "model_id": "e2373c4073eb4292a7f30f80841fb9a4",
       "version_major": 2,
       "version_minor": 0
      },
      "text/plain": [
       "VBox(children=(Output(outputs=({'name': 'stdout', 'text': '2. True or False? Interpret the output of the gvlma…"
      ]
     },
     "metadata": {},
     "output_type": "display_data"
    },
    {
     "data": {
      "application/vnd.jupyter.widget-view+json": {
       "model_id": "94da21718c59479ab9466b9a2bc79ede",
       "version_major": 2,
       "version_minor": 0
      },
      "text/plain": [
       "VBox(children=(Output(outputs=({'name': 'stdout', 'text': '3. Which of the following will test for influential…"
      ]
     },
     "metadata": {},
     "output_type": "display_data"
    }
   ],
   "source": [
    "if __name__ == \"__main__\":\n",
    "    display(L1P6Q1, L1P6Q2, L1P6Q3)"
   ]
  },
  {
   "cell_type": "markdown",
   "metadata": {},
   "source": [
    "### L1P7 Quiz"
   ]
  },
  {
   "cell_type": "code",
   "execution_count": 108,
   "metadata": {},
   "outputs": [],
   "source": [
    "L1P7Q1 = MC('1. Which hypothesis is this for regression? The slope is not equal to zero.',['A. Null hypothesis', 'B. Alternative hypothesis'],'B. Alternative hypothesis', cor=\"This means that you have some sort of linear relationship between the variables!\", incor=\"\")\n",
    "L1P7Q2 = MC('2. What is the first thing you should examine in your regression output?',['A. Coefficients table','B. t-value','C. Multiple R-squared', 'D. F-statistic'],'D. F-statistic', cor=\"This will show overall whether the model is significant or not. A p value < .05 related to the F statistic means that the independent variable is significantly influencing the dependent variable.\", incor=\"\")\n",
    "L1P7Q3 = MultipleChoice('3. What is the difference between Multiple R Squared and Adjusted R Squared?',['A. Multiple R Squared corrects for the number of variables in the model; use Multiple R Squared','B. Multiple R Squared corrects for the number of variables in the model; use Adjusted R Squared','C. Adjusted R Squared corrects for the number of variables in the model; use Adjusted R Squared', 'D. Adjusted R Squared corrects for the number of variables in the model; use Multiple R Squared'],'C. Adjusted R Squared corrects for the number of variables in the model; use Adjusted R Squared')\n",
    "L1P7Q4 = MultipleChoice('4. When looking at the raw regression output, how would you interpret the coefficients?',['A. The variable is significant if the p value associated with the t test is < .05','B. Ignore the (Intercept) row','C. For every 1 unit influence in the specified x variable, there will be change in the y as specified under the Estimate column', 'D. All of the above'],'D. All of the above')"
   ]
  },
  {
   "cell_type": "code",
   "execution_count": 109,
   "metadata": {},
   "outputs": [
    {
     "data": {
      "application/vnd.jupyter.widget-view+json": {
       "model_id": "614326e01cbe4547bfc705bfa00037ce",
       "version_major": 2,
       "version_minor": 0
      },
      "text/plain": [
       "VBox(children=(Output(outputs=({'name': 'stdout', 'text': '1. Which hypothesis is this for regression? The slo…"
      ]
     },
     "metadata": {},
     "output_type": "display_data"
    },
    {
     "data": {
      "application/vnd.jupyter.widget-view+json": {
       "model_id": "bcc18fde62b74bc2afd9c88cded17789",
       "version_major": 2,
       "version_minor": 0
      },
      "text/plain": [
       "VBox(children=(Output(outputs=({'name': 'stdout', 'text': '2. What is the first thing you should examine in yo…"
      ]
     },
     "metadata": {},
     "output_type": "display_data"
    },
    {
     "data": {
      "application/vnd.jupyter.widget-view+json": {
       "model_id": "3a50f0cb52d44ff1aadc978c78cfefc6",
       "version_major": 2,
       "version_minor": 0
      },
      "text/plain": [
       "VBox(children=(Output(outputs=({'name': 'stdout', 'text': '3. What is the difference between Multiple R Square…"
      ]
     },
     "metadata": {},
     "output_type": "display_data"
    },
    {
     "data": {
      "application/vnd.jupyter.widget-view+json": {
       "model_id": "37366f31774d42a7859b6cbe3009a18d",
       "version_major": 2,
       "version_minor": 0
      },
      "text/plain": [
       "VBox(children=(Output(outputs=({'name': 'stdout', 'text': '4. When looking at the raw regression output, how w…"
      ]
     },
     "metadata": {},
     "output_type": "display_data"
    }
   ],
   "source": [
    "if __name__ == \"__main__\":\n",
    "    display(L1P7Q1, L1P7Q2, L1P7Q3, L1P7Q4)"
   ]
  },
  {
   "cell_type": "markdown",
   "metadata": {},
   "source": [
    "### L1P8 Quiz"
   ]
  },
  {
   "cell_type": "code",
   "execution_count": 51,
   "metadata": {},
   "outputs": [],
   "source": [
    "L1P8Q1 = MultipleChoice('1. Which of the following is NOT a way to check for outliers in Python?',['A. sms.linear_harvey_collier()', 'B. sms.graphics.influence_plot()', 'C. model.get_influence()'],'A. sms.linear_harvey_collier()')\n",
    "L1P8Q2 = MultipleChoice('2. You have a problem with DFFITS and DFBETAS if their value is:',['A. Between .2-.5','B. Over .5','C. Greater than 1', 'D. Over 2.5-3'], 'C. Greater than 1')\n"
   ]
  },
  {
   "cell_type": "code",
   "execution_count": 52,
   "metadata": {},
   "outputs": [
    {
     "data": {
      "application/vnd.jupyter.widget-view+json": {
       "model_id": "d82adf7333224eb3b97e2203ae74dc64",
       "version_major": 2,
       "version_minor": 0
      },
      "text/plain": [
       "VBox(children=(Output(outputs=({'name': 'stdout', 'text': '1. Which of the following is NOT a way to check for…"
      ]
     },
     "metadata": {},
     "output_type": "display_data"
    },
    {
     "data": {
      "application/vnd.jupyter.widget-view+json": {
       "model_id": "eae006aa1bde4243b417bb2cf51e8b15",
       "version_major": 2,
       "version_minor": 0
      },
      "text/plain": [
       "VBox(children=(Output(outputs=({'name': 'stdout', 'text': '2. You have a problem with DFFITS and DFBETAS if th…"
      ]
     },
     "metadata": {},
     "output_type": "display_data"
    }
   ],
   "source": [
    "if __name__ == \"__main__\":\n",
    "    display(L1P8Q1, L1P8Q2)"
   ]
  },
  {
   "cell_type": "markdown",
   "metadata": {},
   "source": [
    "### L1P9 Quiz"
   ]
  },
  {
   "cell_type": "code",
   "execution_count": 110,
   "metadata": {},
   "outputs": [],
   "source": [
    "L1P9Q1 = MultipleChoice('1. Which of the following should be close to zero to pass the assumptions listed in the output?',['A. Omnibus', 'B. Prob(Omnibus)', 'C. Skew', 'D. Kurtosis', 'E. Jarque-Bera', 'F. Prob(JB)', 'G. All of the above'],'G. All of the above')\n",
    "L1P9Q2 = MC('2. You have high multicollinearity if the condition number is less than 30.',['A. True','B. False'], 'B. False', cor=\"Less than 30 is good-it means your multicollinearity is low.\", incor=\"\")\n"
   ]
  },
  {
   "cell_type": "code",
   "execution_count": 111,
   "metadata": {},
   "outputs": [
    {
     "data": {
      "application/vnd.jupyter.widget-view+json": {
       "model_id": "65e4040ee5d647a3b5efdecca6fd4945",
       "version_major": 2,
       "version_minor": 0
      },
      "text/plain": [
       "VBox(children=(Output(outputs=({'name': 'stdout', 'text': '1. Which of the following should be close to zero t…"
      ]
     },
     "metadata": {},
     "output_type": "display_data"
    },
    {
     "data": {
      "application/vnd.jupyter.widget-view+json": {
       "model_id": "71930f7bac6b47fdba889de1b469a1a3",
       "version_major": 2,
       "version_minor": 0
      },
      "text/plain": [
       "VBox(children=(Output(outputs=({'name': 'stdout', 'text': '2. You have high multicollinearity if the condition…"
      ]
     },
     "metadata": {},
     "output_type": "display_data"
    }
   ],
   "source": [
    "if __name__ == \"__main__\":\n",
    "    display(L1P9Q1, L1P9Q2)"
   ]
  },
  {
   "cell_type": "markdown",
   "metadata": {},
   "source": [
    "### Lesson 2 Modeling with Logistic Regression"
   ]
  },
  {
   "cell_type": "markdown",
   "metadata": {},
   "source": [
    "### L2P2 Quiz"
   ]
  },
  {
   "cell_type": "code",
   "execution_count": 113,
   "metadata": {},
   "outputs": [],
   "source": [
    "L2P2Q1 = MultipleChoice('1. What is the difference between linear regression and logistic regression?',['A. Linear regression has a categorical DV; logistic regression has a continuous one', 'B. Linear regression has a continuous DV; logistic regression has a categorical one', 'C. Linear regression has a categorical IV; logistic regression has a continuous one', 'D. Linear regression has a continuous IV; logistic regression has a categorical one'],'B. Linear regression has a continuous DV; logistic regression has a categorical one')\n",
    "L2P2Q2 = MC('2. You are looking at some rehabilitation data and have a dependent variable with three levels: returned to work full time, returned to work part time, and did not return to work. What type of logistic regression would this be?',['A. Binary logistic regression','B. Multiple logistic regression'], 'B. Multiple logistic regression', cor=\"Multiple logistic regression has a DV with three or more levels.\", incor=\"\")\n"
   ]
  },
  {
   "cell_type": "code",
   "execution_count": 114,
   "metadata": {},
   "outputs": [
    {
     "data": {
      "application/vnd.jupyter.widget-view+json": {
       "model_id": "4c01a5cd01da45c99caef80dfcf2fac8",
       "version_major": 2,
       "version_minor": 0
      },
      "text/plain": [
       "VBox(children=(Output(outputs=({'name': 'stdout', 'text': '1. What is the difference between linear regression…"
      ]
     },
     "metadata": {},
     "output_type": "display_data"
    },
    {
     "data": {
      "application/vnd.jupyter.widget-view+json": {
       "model_id": "c819f58204864673be4c3ef788af5540",
       "version_major": 2,
       "version_minor": 0
      },
      "text/plain": [
       "VBox(children=(Output(outputs=({'name': 'stdout', 'text': '2. You are looking at some rehabilitation data and …"
      ]
     },
     "metadata": {},
     "output_type": "display_data"
    }
   ],
   "source": [
    "if __name__ == \"__main__\":\n",
    "    display(L2P2Q1, L2P2Q2)"
   ]
  },
  {
   "cell_type": "markdown",
   "metadata": {},
   "source": [
    "### L2P3 Quiz"
   ]
  },
  {
   "cell_type": "code",
   "execution_count": 60,
   "metadata": {},
   "outputs": [],
   "source": [
    "L2P3Q1 = MultipleChoice('1. The logit needs to be linearly related to the independent variable.',['A. True', 'B. False'],'A. True')\n",
    "L2P3Q2 = MC('2. Would a correlation of .8 indicate multicollinearity?',['A. Yes','B. No'],'A. Yes', cor=\"Any correlation between your IVs of .6 - .7 would be considered multicollinearity.\", incor=\"\")\n",
    "L2P3Q3 = MultipleChoice('3. Which of the following is NOT tested the same way as you would in linear regression?',['A. Multicollinearity','B. Absence of outliers','C. Independence of errors'],'C. Independence of errors')\n"
   ]
  },
  {
   "cell_type": "code",
   "execution_count": 61,
   "metadata": {},
   "outputs": [
    {
     "data": {
      "application/vnd.jupyter.widget-view+json": {
       "model_id": "b28d39ce89244d75b28ce4e7b909c03b",
       "version_major": 2,
       "version_minor": 0
      },
      "text/plain": [
       "VBox(children=(Output(outputs=({'name': 'stdout', 'text': '1. The logit needs to be linearly related to the in…"
      ]
     },
     "metadata": {},
     "output_type": "display_data"
    },
    {
     "data": {
      "application/vnd.jupyter.widget-view+json": {
       "model_id": "be01ad4a315943449f815810e774fc6f",
       "version_major": 2,
       "version_minor": 0
      },
      "text/plain": [
       "VBox(children=(Output(outputs=({'name': 'stdout', 'text': '2. Would a correlation of .8 indicate multicollinea…"
      ]
     },
     "metadata": {},
     "output_type": "display_data"
    },
    {
     "data": {
      "application/vnd.jupyter.widget-view+json": {
       "model_id": "17d6deaaba8c4040942ee0e799df259c",
       "version_major": 2,
       "version_minor": 0
      },
      "text/plain": [
       "VBox(children=(Output(outputs=({'name': 'stdout', 'text': '3. Which of the following is NOT tested the same wa…"
      ]
     },
     "metadata": {},
     "output_type": "display_data"
    }
   ],
   "source": [
    "if __name__ == \"__main__\":\n",
    "    display(L2P3Q1, L2P3Q2, L2P3Q3)"
   ]
  },
  {
   "cell_type": "markdown",
   "metadata": {},
   "source": [
    "### L2P4 Quiz"
   ]
  },
  {
   "cell_type": "code",
   "execution_count": 115,
   "metadata": {},
   "outputs": [],
   "source": [
    "L2P4Q1 = MultipleChoice('1. How would you interpret the confusion matrix below, for an outcome variable about surviving a heart attack, where 0 is \"did not survive\" and 1 is \"survived\"?\\n Reference \\n Prediction 0 1 \\n0  27  300 \\n1  79 1500',['A. 27 were accurately predicted to not survive', 'B. 300 were predicted to not survive, but did', 'C. 79 were predicted to survive, but did not', 'D. 1500 were accurately predicted to survive', 'E. All of the above is true'],'E. All of the above is true')\n",
    "L2P4Q2 = MultipleChoice('2. True or False? You need to create the logit using dplyr.',['A. True','B. False'],'A. True')\n",
    "L2P4Q3 = MultipleChoice('3. Which of the following is NOT a way to test for independent errors?',['A. Graphing','B. influence.measures()','C. dwtest()'],'B. influence.measures()')\n"
   ]
  },
  {
   "cell_type": "code",
   "execution_count": 116,
   "metadata": {},
   "outputs": [
    {
     "data": {
      "application/vnd.jupyter.widget-view+json": {
       "model_id": "5e480ef3fafc4aab82073245ba19103f",
       "version_major": 2,
       "version_minor": 0
      },
      "text/plain": [
       "VBox(children=(Output(outputs=({'name': 'stdout', 'text': '1. How would you interpret the confusion matrix bel…"
      ]
     },
     "metadata": {},
     "output_type": "display_data"
    },
    {
     "data": {
      "application/vnd.jupyter.widget-view+json": {
       "model_id": "290097986e814c68807433a8ad947e49",
       "version_major": 2,
       "version_minor": 0
      },
      "text/plain": [
       "VBox(children=(Output(outputs=({'name': 'stdout', 'text': '2. True or False? You need to create the logit usin…"
      ]
     },
     "metadata": {},
     "output_type": "display_data"
    },
    {
     "data": {
      "application/vnd.jupyter.widget-view+json": {
       "model_id": "14f7e9c88abb461fb14b8584a95c7376",
       "version_major": 2,
       "version_minor": 0
      },
      "text/plain": [
       "VBox(children=(Output(outputs=({'name': 'stdout', 'text': '3. Which of the following is NOT a way to test for …"
      ]
     },
     "metadata": {},
     "output_type": "display_data"
    }
   ],
   "source": [
    "if __name__ == \"__main__\":\n",
    "    display(L2P4Q1, L2P4Q2, L2P4Q3)"
   ]
  },
  {
   "cell_type": "markdown",
   "metadata": {},
   "source": [
    "### L2P5 Quiz"
   ]
  },
  {
   "cell_type": "code",
   "execution_count": 70,
   "metadata": {},
   "outputs": [],
   "source": [
    "L2P5Q1 = MultipleChoice('1. True or False? The z value in the output, also known as the Wald Statistic, is similar in function to the t test for linear regression.',['A. True', 'B. False'],'A. True')\n",
    "L2P5Q2 = MultipleChoice('2. Which package will you use to graph a logistic regression model in R?',['A. lmtest','B. caret', 'C. popbio', 'D. ggplot2'],'C. popbio')"
   ]
  },
  {
   "cell_type": "code",
   "execution_count": 71,
   "metadata": {},
   "outputs": [
    {
     "data": {
      "application/vnd.jupyter.widget-view+json": {
       "model_id": "0475639ba8ac41b88742465eb74453d4",
       "version_major": 2,
       "version_minor": 0
      },
      "text/plain": [
       "VBox(children=(Output(outputs=({'name': 'stdout', 'text': '1. True or False? The z value in the output, also k…"
      ]
     },
     "metadata": {},
     "output_type": "display_data"
    },
    {
     "data": {
      "application/vnd.jupyter.widget-view+json": {
       "model_id": "57fb80cdd1be43e889beec50fddb2eb9",
       "version_major": 2,
       "version_minor": 0
      },
      "text/plain": [
       "VBox(children=(Output(outputs=({'name': 'stdout', 'text': '2. Which package will you use to graph a logistic r…"
      ]
     },
     "metadata": {},
     "output_type": "display_data"
    }
   ],
   "source": [
    "if __name__ == \"__main__\":\n",
    "    display(L2P5Q1, L2P5Q2)"
   ]
  },
  {
   "cell_type": "markdown",
   "metadata": {},
   "source": [
    "### L2P6 Quiz\n"
   ]
  },
  {
   "cell_type": "code",
   "execution_count": 72,
   "metadata": {},
   "outputs": [],
   "source": [
    "L2P6Q1 = MC('1. True or False? You can test all the assumptions you need for logistic regression in Python.',['A. True', 'B. False'],'B. False', cor=\"You can only test for outliers and multicollinearity. Thus, it is not recommended to run logistic regression in Python if you need a test of incredibly high rigor.\", incor=\"\")\n",
    "L2P6Q2 = MultipleChoice('2. True or False? Your variables need to be in their own datasets to compute logistic regression in Python.',['A. True','B. False'],'A. True')\n",
    "L2P6Q3 = MultipleChoice('3. Which of the following creates the logistic regression model in Python?',['A. .apply()','B. .summary2()','C. .fit()', 'D. sm.Logit()'],'D. sm.Logit()')\n"
   ]
  },
  {
   "cell_type": "code",
   "execution_count": 73,
   "metadata": {},
   "outputs": [
    {
     "data": {
      "application/vnd.jupyter.widget-view+json": {
       "model_id": "16ac564e3d6a46ed8d645c681ea0000b",
       "version_major": 2,
       "version_minor": 0
      },
      "text/plain": [
       "VBox(children=(Output(outputs=({'name': 'stdout', 'text': '1. True or False? You can test all the assumptions …"
      ]
     },
     "metadata": {},
     "output_type": "display_data"
    },
    {
     "data": {
      "application/vnd.jupyter.widget-view+json": {
       "model_id": "a9820cfc21f845afa38958ca2cc89673",
       "version_major": 2,
       "version_minor": 0
      },
      "text/plain": [
       "VBox(children=(Output(outputs=({'name': 'stdout', 'text': '2. True or False? Your variables need to be in thei…"
      ]
     },
     "metadata": {},
     "output_type": "display_data"
    },
    {
     "data": {
      "application/vnd.jupyter.widget-view+json": {
       "model_id": "2e82ef1d09644f2bb6f7e11abdb659c1",
       "version_major": 2,
       "version_minor": 0
      },
      "text/plain": [
       "VBox(children=(Output(outputs=({'name': 'stdout', 'text': '3. Which of the following creates the logistic regr…"
      ]
     },
     "metadata": {},
     "output_type": "display_data"
    }
   ],
   "source": [
    "if __name__ == \"__main__\":\n",
    "    display(L2P6Q1, L2P6Q2, L2P6Q3)"
   ]
  },
  {
   "cell_type": "markdown",
   "metadata": {},
   "source": [
    "### Lesson 3 Non-Linear Modeling"
   ]
  },
  {
   "cell_type": "markdown",
   "metadata": {},
   "source": [
    "### L3P2 Quiz"
   ]
  },
  {
   "cell_type": "code",
   "execution_count": 74,
   "metadata": {},
   "outputs": [],
   "source": [
    "L3P2Q1 = MultipleChoice('1. Is the below image an example of a quadratic relationship?',['A. Yes','B. No'], 'A. Yes')"
   ]
  },
  {
   "cell_type": "markdown",
   "metadata": {},
   "source": [
    "<img src=\"Media/nonlinear3.jpg\" alt=\"Drawing\" style=\"width: 400px;\"/>"
   ]
  },
  {
   "cell_type": "code",
   "execution_count": 75,
   "metadata": {},
   "outputs": [
    {
     "data": {
      "application/vnd.jupyter.widget-view+json": {
       "model_id": "66eb4d7bc1eb46b0ba63a06b67520825",
       "version_major": 2,
       "version_minor": 0
      },
      "text/plain": [
       "VBox(children=(Output(outputs=({'name': 'stdout', 'text': '1. Is the below image an example of a quadratic rel…"
      ]
     },
     "metadata": {},
     "output_type": "display_data"
    }
   ],
   "source": [
    "if __name__ == \"__main__\":\n",
    "    display(L3P2Q1)"
   ]
  },
  {
   "cell_type": "markdown",
   "metadata": {},
   "source": [
    "### L3P3 Quiz"
   ]
  },
  {
   "cell_type": "code",
   "execution_count": 80,
   "metadata": {},
   "outputs": [],
   "source": [
    "L3P3Q1 = MultipleChoice('1. True or False? You will need to specify the quadratic formula in stat_smooth() when plotting a quadratic relationship.',['A. True','B. False'],'A. True')\n",
    "L3P3Q2 = MultipleChoice('2. True or False? You will need to square your x-term and include it in your model in order to test a quadratic relationhip.',['A. True','B. False'],'A. True')\n"
   ]
  },
  {
   "cell_type": "code",
   "execution_count": 81,
   "metadata": {},
   "outputs": [
    {
     "data": {
      "application/vnd.jupyter.widget-view+json": {
       "model_id": "8e07191f5a214c94a58068725a3363be",
       "version_major": 2,
       "version_minor": 0
      },
      "text/plain": [
       "VBox(children=(Output(outputs=({'name': 'stdout', 'text': '1. True or False? You will need to specify the quad…"
      ]
     },
     "metadata": {},
     "output_type": "display_data"
    },
    {
     "data": {
      "application/vnd.jupyter.widget-view+json": {
       "model_id": "89c58e8d52d74d3c93e99c9696a4f7d2",
       "version_major": 2,
       "version_minor": 0
      },
      "text/plain": [
       "VBox(children=(Output(outputs=({'name': 'stdout', 'text': '2. True or False? You will need to square your x-te…"
      ]
     },
     "metadata": {},
     "output_type": "display_data"
    }
   ],
   "source": [
    "if __name__ == \"__main__\":\n",
    "    display(L3P3Q1, L3P3Q2)"
   ]
  },
  {
   "cell_type": "markdown",
   "metadata": {},
   "source": [
    "### L3P4 Quiz"
   ]
  },
  {
   "cell_type": "code",
   "execution_count": 90,
   "metadata": {},
   "outputs": [],
   "source": [
    "L3P4Q1 = MultipleChoice('1. What is the difference between a quadratic and an exponential relationship?',['A. A quadratic relationship goes both up and down, while an exponential one only goes in one direction (up or down)','B. An exponential relationship goes both up and down, while a quadratic one only goes in one direction (up or down)'],'A. A quadratic relationship goes both up and down, while an exponential one only goes in one direction (up or down)')\n",
    "L3P4Q2 = MC('2. What type of relationship does the above graph generally show?',['A. Linear','B. Quadratic', 'C. Exponential'],'C. Exponential', cor=\"It is generally increasing at a pace that is larger in the x than the y.\", incor=\"\")\n"
   ]
  },
  {
   "cell_type": "code",
   "execution_count": 88,
   "metadata": {},
   "outputs": [
    {
     "data": {
      "application/vnd.jupyter.widget-view+json": {
       "model_id": "7475f7ba0d4543f8b6ca520bfd11aa59",
       "version_major": 2,
       "version_minor": 0
      },
      "text/plain": [
       "VBox(children=(Output(outputs=({'name': 'stdout', 'text': '1. What is the difference between a quadratic and a…"
      ]
     },
     "metadata": {},
     "output_type": "display_data"
    }
   ],
   "source": [
    "if __name__ == \"__main__\":\n",
    "    display(L3P4Q1)"
   ]
  },
  {
   "cell_type": "markdown",
   "metadata": {},
   "source": [
    "<img src=\"Media/nonlinear5.jpg\" alt=\"Drawing\" style=\"width: 400px;\"/>"
   ]
  },
  {
   "cell_type": "code",
   "execution_count": 91,
   "metadata": {},
   "outputs": [
    {
     "data": {
      "application/vnd.jupyter.widget-view+json": {
       "model_id": "c469484dca0445b888ee47ff68c42d79",
       "version_major": 2,
       "version_minor": 0
      },
      "text/plain": [
       "VBox(children=(Output(outputs=({'name': 'stdout', 'text': '2. What type of relationship does the above graph g…"
      ]
     },
     "metadata": {},
     "output_type": "display_data"
    }
   ],
   "source": [
    "if __name__ == \"__main__\":\n",
    "    display(L3P4Q2)"
   ]
  },
  {
   "cell_type": "markdown",
   "metadata": {},
   "source": [
    "### L3P5 Quiz"
   ]
  },
  {
   "cell_type": "code",
   "execution_count": 92,
   "metadata": {},
   "outputs": [],
   "source": [
    "L3P5Q1 = MC('1. True or False? You need several additional libraries to do exponential modeling in R.',['A. True','B. False'],'B. False', cor=\"You don't need any additional libraries to perform exponential modeling in R\", incor=\"\")\n",
    "L3P5Q2 = MultipleChoice('2. What variable should you take the log of to make your model exponential?',['A. x','B. x squared', 'C. y'], 'C. y')\n"
   ]
  },
  {
   "cell_type": "code",
   "execution_count": 93,
   "metadata": {},
   "outputs": [
    {
     "data": {
      "application/vnd.jupyter.widget-view+json": {
       "model_id": "13eacf4a818c4cdd882917d25675e3db",
       "version_major": 2,
       "version_minor": 0
      },
      "text/plain": [
       "VBox(children=(Output(outputs=({'name': 'stdout', 'text': '1. True or False? You need several additional libra…"
      ]
     },
     "metadata": {},
     "output_type": "display_data"
    },
    {
     "data": {
      "application/vnd.jupyter.widget-view+json": {
       "model_id": "f0edde37fb2841eeb9a18e3e1df0b390",
       "version_major": 2,
       "version_minor": 0
      },
      "text/plain": [
       "VBox(children=(Output(outputs=({'name': 'stdout', 'text': '2. What variable should you take the log of to make…"
      ]
     },
     "metadata": {},
     "output_type": "display_data"
    }
   ],
   "source": [
    "if __name__ == \"__main__\":\n",
    "    display(L3P5Q1, L3P5Q2)"
   ]
  },
  {
   "cell_type": "code",
   "execution_count": null,
   "metadata": {},
   "outputs": [],
   "source": []
  }
 ],
 "metadata": {
  "kernelspec": {
   "display_name": "Python 3",
   "language": "python",
   "name": "python3"
  },
  "language_info": {
   "codemirror_mode": {
    "name": "ipython",
    "version": 3
   },
   "file_extension": ".py",
   "mimetype": "text/x-python",
   "name": "python",
   "nbconvert_exporter": "python",
   "pygments_lexer": "ipython3",
   "version": "3.8.5"
  }
 },
 "nbformat": 4,
 "nbformat_minor": 4
}
