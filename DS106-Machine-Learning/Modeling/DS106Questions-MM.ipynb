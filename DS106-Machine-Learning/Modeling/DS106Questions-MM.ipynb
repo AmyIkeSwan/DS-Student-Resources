{
 "cells": [
  {
   "cell_type": "markdown",
   "id": "7c90d311-6821-48b1-ab9e-528b4cd799fb",
   "metadata": {},
   "source": [
    "# DS106 Questions\n",
    "\n",
    "## Lesson 4\n",
    "\n",
    "## Page 2"
   ]
  },
  {
   "cell_type": "code",
   "execution_count": 76,
   "id": "8965a284-a260-48f0-834a-7b7e3cb081b1",
   "metadata": {},
   "outputs": [],
   "source": [
    "from DS_Students import *"
   ]
  },
  {
   "cell_type": "code",
   "execution_count": 77,
   "id": "f7300cf5-8770-49ab-b037-d94565b469f5",
   "metadata": {},
   "outputs": [],
   "source": [
    "L4P2Q1 = MultipleChoice('1. What variables does a multiple regression need?',['A: Multiple independent variables, one dependent variable', 'B: One independent variable, one dependent variable','C: Multiple independent variables, multiple dependent variables', 'D: One independent variable, multiple dependent variables'],'A: Multiple independent variables, one dependent variable')\n"
   ]
  },
  {
   "cell_type": "code",
   "execution_count": 78,
   "id": "e58946c0-798b-4b03-8e52-3149482c6ea3",
   "metadata": {},
   "outputs": [
    {
     "data": {
      "application/vnd.jupyter.widget-view+json": {
       "model_id": "a0b9235a3bf44ffc9423f1eec3c6755e",
       "version_major": 2,
       "version_minor": 0
      },
      "text/plain": [
       "VBox(children=(Output(outputs=({'name': 'stdout', 'text': '1. What variables does a multiple regression need?\\…"
      ]
     },
     "metadata": {},
     "output_type": "display_data"
    }
   ],
   "source": [
    "if __name__ == \"__main__\":\n",
    "    display(L4P2Q1)"
   ]
  },
  {
   "cell_type": "markdown",
   "id": "9768d100-87f1-496c-9e28-6606c6dc2677",
   "metadata": {},
   "source": [
    "## Page 3"
   ]
  },
  {
   "cell_type": "code",
   "execution_count": 79,
   "id": "0146eb37-b2ff-4966-a08c-ed48a416cfa4",
   "metadata": {},
   "outputs": [],
   "source": [
    "L4P3Q1 = MultipleChoice('1. Which of the following is NOT a reason why trying all IV combinations is a bad idea?',['A: Too many model possibilities', 'B: R2 will never decrease', 'C: Overfitting', 'D: It\\'s easy to do'],'D: It\\'s easy to do')\n",
    "L4P3Q2 = MultipleChoice('2. You start with only one predictor in your model, and then add each additional independent variable in one at a time. What type of stepwise regression is this?',['A: Exponential','B: Forward','C: Backward', 'D: Hybrid'],'B: Forward')\n",
    "L4P3Q3 = MultipleChoice('3. True or False? Overfitting is desired.',['A: True','B: False'],'B: False')\n",
    "L4P3Q4 = MultipleChoice('4. If given a choice, should you go with the simpler or more complex model?',['A: Simple model','B: More complex model'],'A: Simple model')\n"
   ]
  },
  {
   "cell_type": "code",
   "execution_count": 80,
   "id": "1f78ffa0-cd06-4324-b36e-96d6e114f2df",
   "metadata": {},
   "outputs": [
    {
     "data": {
      "application/vnd.jupyter.widget-view+json": {
       "model_id": "7b37b0c591414d18bdd2596474fc38c5",
       "version_major": 2,
       "version_minor": 0
      },
      "text/plain": [
       "VBox(children=(Output(outputs=({'name': 'stdout', 'text': '1. Which of the following is NOT a reason why tryin…"
      ]
     },
     "metadata": {},
     "output_type": "display_data"
    },
    {
     "data": {
      "application/vnd.jupyter.widget-view+json": {
       "model_id": "975ec70b85df4eed805625b84e5b6fd5",
       "version_major": 2,
       "version_minor": 0
      },
      "text/plain": [
       "VBox(children=(Output(outputs=({'name': 'stdout', 'text': '2. You start with only one predictor in your model,…"
      ]
     },
     "metadata": {},
     "output_type": "display_data"
    },
    {
     "data": {
      "application/vnd.jupyter.widget-view+json": {
       "model_id": "731c9637bebd4c50b3f80a352a510ede",
       "version_major": 2,
       "version_minor": 0
      },
      "text/plain": [
       "VBox(children=(Output(outputs=({'name': 'stdout', 'text': '3. True or False? Overfitting is desired.\\n', 'outp…"
      ]
     },
     "metadata": {},
     "output_type": "display_data"
    },
    {
     "data": {
      "application/vnd.jupyter.widget-view+json": {
       "model_id": "57f7a8281e024fea950fe223908b6c6f",
       "version_major": 2,
       "version_minor": 0
      },
      "text/plain": [
       "VBox(children=(Output(outputs=({'name': 'stdout', 'text': '4. If given a choice, should you go with the simple…"
      ]
     },
     "metadata": {},
     "output_type": "display_data"
    }
   ],
   "source": [
    "if __name__ == \"__main__\":\n",
    "    display(L4P3Q1, L4P3Q2, L4P3Q3, L4P3Q4)"
   ]
  },
  {
   "cell_type": "markdown",
   "id": "e2690ad5-9b42-4644-b747-483e40aa90d1",
   "metadata": {},
   "source": [
    "## Page 4"
   ]
  },
  {
   "cell_type": "code",
   "execution_count": 81,
   "id": "c1b8376e-6294-436e-b82a-1ffa1991f9f2",
   "metadata": {},
   "outputs": [],
   "source": [
    "L4P4Q1 = MultipleChoice('1. Which function is for doing stepwise regression in R?',['A: lm()', 'B: summary()', 'C: step()', 'D: direction='],'C: step()')\n",
    "L4P4Q3 = MultipleChoice('2. True or False? You must create a linear model with all your predictors included before attempting a stepwise regression.',['A: True','B: False'],'A: True')\n",
    "L4P4Q3 = MC('3. The original model has an AIC of 80. A second model without one variable has an AIC of 72. Which model is better?',['A: The original model','B: The second model'],'B: The second model',cor=\"The smallest AIC is desirable.\", incor= \"The smallest AIC is desirable.\")\n",
    "L4P4Q4 = MultipleChoice('4. How do you know when you have found the best model with backward elimination?',['A: When removing more variables makes the AIC larger','B: When R provides you with coefficients','C: When you have the smallest AIC possible', 'D: All of the above'],'D: All of the above')\n",
    "L4P4Q5 = MultipleChoice('5. True or False? You need to examine the summary for the model once R has finished the backwards elimination process.',['A: True','B: False'],'A: True')\n"
   ]
  },
  {
   "cell_type": "code",
   "execution_count": 82,
   "id": "0a466845-92bd-46bc-ab61-c16bbb0c5132",
   "metadata": {},
   "outputs": [
    {
     "data": {
      "application/vnd.jupyter.widget-view+json": {
       "model_id": "ecc43b23e8e840d08e7f761c763c23ff",
       "version_major": 2,
       "version_minor": 0
      },
      "text/plain": [
       "VBox(children=(Output(outputs=({'name': 'stdout', 'text': '1. Which function is for doing stepwise regression …"
      ]
     },
     "metadata": {},
     "output_type": "display_data"
    },
    {
     "data": {
      "application/vnd.jupyter.widget-view+json": {
       "model_id": "439bd9fea52b4d8382da0843570980d5",
       "version_major": 2,
       "version_minor": 0
      },
      "text/plain": [
       "VBox(children=(Output(outputs=({'name': 'stdout', 'text': '2.Using the code snippet \\x1b[1m=NORMINV(RAND(), 10…"
      ]
     },
     "metadata": {},
     "output_type": "display_data"
    },
    {
     "data": {
      "application/vnd.jupyter.widget-view+json": {
       "model_id": "c971d3cbcfc34e6ea970ee43928f11ba",
       "version_major": 2,
       "version_minor": 0
      },
      "text/plain": [
       "VBox(children=(Output(outputs=({'name': 'stdout', 'text': '3. The original model has an AIC of 80. A second mo…"
      ]
     },
     "metadata": {},
     "output_type": "display_data"
    },
    {
     "data": {
      "application/vnd.jupyter.widget-view+json": {
       "model_id": "2cd710b44f324c2893006f50c46e946e",
       "version_major": 2,
       "version_minor": 0
      },
      "text/plain": [
       "VBox(children=(Output(outputs=({'name': 'stdout', 'text': '4. How do you know when you have found the best mod…"
      ]
     },
     "metadata": {},
     "output_type": "display_data"
    },
    {
     "data": {
      "application/vnd.jupyter.widget-view+json": {
       "model_id": "3eea12cfcf5b4e8789f14625ad7b15dd",
       "version_major": 2,
       "version_minor": 0
      },
      "text/plain": [
       "VBox(children=(Output(outputs=({'name': 'stdout', 'text': '5. True or False? You need to examine the summary f…"
      ]
     },
     "metadata": {},
     "output_type": "display_data"
    }
   ],
   "source": [
    "if __name__ == \"__main__\":\n",
    "    display(L4P4Q1, L4P4Q2, L4P4Q3, L4P4Q4, L4P4Q5)"
   ]
  },
  {
   "cell_type": "markdown",
   "id": "d0f8e3a1-e8e2-461d-9363-32bce87c5945",
   "metadata": {},
   "source": [
    "## Page 5"
   ]
  },
  {
   "cell_type": "code",
   "execution_count": 83,
   "id": "41c07487-0170-41e3-8053-ecef71bca978",
   "metadata": {},
   "outputs": [],
   "source": [
    "L4P5Q1 = MultipleChoice('1. What does a 1 in a linear model indicate?',['A: Include no predictors', 'B: Include all predictors', 'C: Include one predictor', 'D: Start a stepwise regression'],'A: Include no predictors')\n",
    "L4P5Q2 = MC('2. True or False? You need to specify \\033[1mscope=\\033[0m when doing a forward selection stepwise regression.',['A: True','B: False'],'A: True', cor=\"This indicates how many variables it should work towards including.\", incor=\"\")\n"
   ]
  },
  {
   "cell_type": "code",
   "execution_count": 84,
   "id": "77ec0c3b-9628-4c39-9736-01263f36f06f",
   "metadata": {},
   "outputs": [
    {
     "data": {
      "application/vnd.jupyter.widget-view+json": {
       "model_id": "5a1f341501a048dfa318e59318ee42cb",
       "version_major": 2,
       "version_minor": 0
      },
      "text/plain": [
       "VBox(children=(Output(outputs=({'name': 'stdout', 'text': '1. What does a 1 in a linear model indicate?\\n', 'o…"
      ]
     },
     "metadata": {},
     "output_type": "display_data"
    },
    {
     "data": {
      "application/vnd.jupyter.widget-view+json": {
       "model_id": "6a13a0a5254a4ba9be1a2ba8aed051fd",
       "version_major": 2,
       "version_minor": 0
      },
      "text/plain": [
       "VBox(children=(Output(outputs=({'name': 'stdout', 'text': '2. True or False? You need to specify \\x1b[1mscope=…"
      ]
     },
     "metadata": {},
     "output_type": "display_data"
    }
   ],
   "source": [
    "if __name__ == \"__main__\":\n",
    "    display(L4P5Q1, L4P5Q2)"
   ]
  },
  {
   "cell_type": "markdown",
   "id": "9cf9ef44-57d6-48ed-b3ff-5be7b4b6a547",
   "metadata": {},
   "source": [
    "## Page 6"
   ]
  },
  {
   "cell_type": "code",
   "execution_count": 85,
   "id": "4ded7779-a62e-49ea-8e08-3363b877516d",
   "metadata": {},
   "outputs": [],
   "source": [
    "L4P6Q1 = MultipleChoice('1. What argument for \\033[1mdirection=\\033[0m needs to be specified to complete hybrid stepwise regression?',['A: direction=backward', 'B: direction=\"forward\"', 'C: direction=\"both\"', 'D: direction=hybrid'],'C: direction=\"both\"')\n",
    "L4P6Q2 = MultipleChoice('2. When looking at predictors in each iteration, what does the plus sign indicate?',['A: The variable being added to the model', 'B: The variable being removed from the model'],'A: The variable being added to the model')\n"
   ]
  },
  {
   "cell_type": "code",
   "execution_count": 86,
   "id": "5a112501-c345-4a03-834c-b5686aad190b",
   "metadata": {},
   "outputs": [
    {
     "data": {
      "application/vnd.jupyter.widget-view+json": {
       "model_id": "9332a78ee2b94dc7bed92b9291342eaa",
       "version_major": 2,
       "version_minor": 0
      },
      "text/plain": [
       "VBox(children=(Output(outputs=({'name': 'stdout', 'text': '1. What argument for \\x1b[1mdirection=\\x1b[0m needs…"
      ]
     },
     "metadata": {},
     "output_type": "display_data"
    },
    {
     "data": {
      "application/vnd.jupyter.widget-view+json": {
       "model_id": "2ab0e5c774664514b356be42da703fe1",
       "version_major": 2,
       "version_minor": 0
      },
      "text/plain": [
       "VBox(children=(Output(outputs=({'name': 'stdout', 'text': '2. When looking at predictors in each iteration, wh…"
      ]
     },
     "metadata": {},
     "output_type": "display_data"
    }
   ],
   "source": [
    "if __name__ == \"__main__\":\n",
    "    display(L4P6Q1, L4P6Q2)"
   ]
  },
  {
   "cell_type": "markdown",
   "id": "bdfde37f",
   "metadata": {},
   "source": [
    "## Lesson 5\n",
    "\n",
    "## Page 2"
   ]
  },
  {
   "cell_type": "code",
   "execution_count": 87,
   "id": "f7eeabf3",
   "metadata": {},
   "outputs": [],
   "source": [
    "L5P2Q1 = MultipleChoice('1. What is the property of a random variable that makes it random?',['A: It is the first number that comes to your mind when asked','B: Every possible value has an equally likely probability of being chosen','C: If you ask enough people, you won\\'t get any repeats', 'D: It would likely be found on a license plate'],'B: Every possible value has an equally likely probability of being chosen')\n",
    "L5P2Q2 = MultipleChoice('2. Are humans capable of generating random numbers without a computer?',['A: Yes','B: No'],'B: No')\n"
   ]
  },
  {
   "cell_type": "code",
   "execution_count": 3,
   "id": "8d59749c",
   "metadata": {},
   "outputs": [
    {
     "data": {
      "application/vnd.jupyter.widget-view+json": {
       "model_id": "98bc95ce3d364d459e32f2074796b086",
       "version_major": 2,
       "version_minor": 0
      },
      "text/plain": [
       "VBox(children=(Output(outputs=({'name': 'stdout', 'text': '1. What is the property of a random variable that m…"
      ]
     },
     "metadata": {},
     "output_type": "display_data"
    },
    {
     "data": {
      "application/vnd.jupyter.widget-view+json": {
       "model_id": "254d3bb1b8b942018de3ce460825c47e",
       "version_major": 2,
       "version_minor": 0
      },
      "text/plain": [
       "VBox(children=(Output(outputs=({'name': 'stdout', 'text': '2. Are humans capable of generating random numbers …"
      ]
     },
     "metadata": {},
     "output_type": "display_data"
    }
   ],
   "source": [
    "if __name__ == \"__main__\":\n",
    "    display(L5P2Q1, L5P2Q2)"
   ]
  },
  {
   "cell_type": "markdown",
   "id": "df0791b9",
   "metadata": {},
   "source": [
    "## Page 3"
   ]
  },
  {
   "cell_type": "code",
   "execution_count": 89,
   "id": "2a81e6d9",
   "metadata": {},
   "outputs": [],
   "source": [
    "L5P3Q1 = MultipleChoice('1. Using the code snippet \\033[1m=RAND()*7+22\\033[0m, what sort of output would you expect using a spreadsheet program? ',['A: A uniform random number between 7 and 22','B: A uniform random number between 0 and 7','C: A uniform random number between 22 and 29', 'D: A uniform random number greater than 29'],'C: A uniform random number between 22 and 29')\n",
    "L5P3Q2 = MultipleChoice('2. Using the code snippet \\033[1mvalue = random.uniform(18, 23)\\033[0m, what sort of output would you expect using Python?',['A: A uniform random number between 18 and 23','B: A uniform random number between 18 and 41','C: An error', 'D: A uniform random number between 0 an 18'],'A: A uniform random number between 18 and 23')\n",
    "L5P3Q3 = MultipleChoice('3. Which of the following code snippets would you use to create a uniform random variable between -6 and 18 using a spreadsheet program?',['A: =RAND() * 18 + 6','B: =RAND() * 18 - 6','C: =RAND(-6, 18)', 'D: =RAND() * 24 - 6'],'D: =RAND() * 24 - 6')\n",
    "\n"
   ]
  },
  {
   "cell_type": "code",
   "execution_count": 90,
   "id": "efe969ee",
   "metadata": {},
   "outputs": [
    {
     "data": {
      "application/vnd.jupyter.widget-view+json": {
       "model_id": "da2d2c0864eb4d3fb8f9a9e97e0d8c13",
       "version_major": 2,
       "version_minor": 0
      },
      "text/plain": [
       "VBox(children=(Output(outputs=({'name': 'stdout', 'text': '1. Using the code snippet \\x1b[1m=RAND()*7+22\\x1b[0…"
      ]
     },
     "metadata": {},
     "output_type": "display_data"
    },
    {
     "data": {
      "application/vnd.jupyter.widget-view+json": {
       "model_id": "89f2a5e3346b4764becaabdb10f283f7",
       "version_major": 2,
       "version_minor": 0
      },
      "text/plain": [
       "VBox(children=(Output(outputs=({'name': 'stdout', 'text': '2. Using the code snippet \\x1b[1mvalue = random.uni…"
      ]
     },
     "metadata": {},
     "output_type": "display_data"
    },
    {
     "data": {
      "application/vnd.jupyter.widget-view+json": {
       "model_id": "69b1cc11bb574995b5c25a0fa2f92ccb",
       "version_major": 2,
       "version_minor": 0
      },
      "text/plain": [
       "VBox(children=(Output(outputs=({'name': 'stdout', 'text': '3. Which of the following code snippets would you u…"
      ]
     },
     "metadata": {},
     "output_type": "display_data"
    }
   ],
   "source": [
    "if __name__ == \"__main__\":\n",
    "    display(L5P3Q1, L5P3Q2, L5P3Q3)"
   ]
  },
  {
   "cell_type": "markdown",
   "id": "a6c3af6b",
   "metadata": {},
   "source": [
    "## Page 4"
   ]
  },
  {
   "cell_type": "code",
   "execution_count": 91,
   "id": "9e4e3edc",
   "metadata": {},
   "outputs": [],
   "source": [
    "L5P4Q1 = MultipleChoice('1.Using the code snippet \\033[1m=(RAND(NORMAL), 30, 10)\\033[0m what sort of output would you expect using a spreadsheet program?',['A: A normal random number with mean 10 and stdev 30', 'B: A normal random number with mean 30 and stdev 10', 'C: An error', 'D: A uniform random number between 10 and 30'],'C: An error')\n",
    "L5P4Q2 = MultipleChoice('2.Using the code snippet \\033[1m=NORMINV(RAND(), 100, 20)\\033[0m, what sort of output would you expect using a spreadsheet program?',['A: A uniform random number between 20 and 100','B: A uniform random number with mean 100 and stdev 20','C: A normal random number with mean 100 and stdev 20', 'D: A normal random number between 40 and 160'],'C: A normal random number with mean 100 and stdev 20')\n",
    "L5P4Q3 = MultipleChoice('3. Using the code snippet \\033[1mrnorm(5, 50, 10)\\033[0m, what sort of output would you expect using R?',['A: A normal random number with mean 50 and stdev 10','B: A normal random number between 5 and 50, incremented by 10','C: A list of normal random numbers by 5\\'s, between 10 and 50', 'D: A list of 5 normal random numbers with mean 50 and stdev 10'],'D: A list of 5 normal random numbers with mean 50 and stdev 10')\n",
    "L5P4Q4 = MultipleChoice('4. Using the code snippet \\033[1mnrv = (np.random.normal(size = 20)) * 50 + 100\\033[0m, what sort of output would you expect using Python?.',['A: A list of 20 normal random numbers with stdev = 100','B: A list of normal random numbers between 20 and 50','C: A list of 20 normal random numbers with mean = 100 and stdev = 50', 'D: A list of 20 normal random numbers between 50 and 150'],'C: A list of 20 normal random numbers with mean = 100 and stdev = 50')\n"
   ]
  },
  {
   "cell_type": "code",
   "execution_count": 92,
   "id": "bf8e9876",
   "metadata": {},
   "outputs": [
    {
     "data": {
      "application/vnd.jupyter.widget-view+json": {
       "model_id": "86a6113bc8454e8da2d7ecbffc7fdd02",
       "version_major": 2,
       "version_minor": 0
      },
      "text/plain": [
       "VBox(children=(Output(outputs=({'name': 'stdout', 'text': '1.Using the code snippet \\x1b[1m=(RAND(NORMAL), 30,…"
      ]
     },
     "metadata": {},
     "output_type": "display_data"
    },
    {
     "data": {
      "application/vnd.jupyter.widget-view+json": {
       "model_id": "d51a29c257664bbead20366692c2249d",
       "version_major": 2,
       "version_minor": 0
      },
      "text/plain": [
       "VBox(children=(Output(outputs=({'name': 'stdout', 'text': '2.Using the code snippet \\x1b[1m=NORMINV(RAND(), 10…"
      ]
     },
     "metadata": {},
     "output_type": "display_data"
    },
    {
     "data": {
      "application/vnd.jupyter.widget-view+json": {
       "model_id": "eadfb8e09ca141e5baab676b5b2c4038",
       "version_major": 2,
       "version_minor": 0
      },
      "text/plain": [
       "VBox(children=(Output(outputs=({'name': 'stdout', 'text': '3. Using the code snippet \\x1b[1mrnorm(5, 50, 10)\\x…"
      ]
     },
     "metadata": {},
     "output_type": "display_data"
    },
    {
     "data": {
      "application/vnd.jupyter.widget-view+json": {
       "model_id": "57297674ce774672bfc513e72c175d42",
       "version_major": 2,
       "version_minor": 0
      },
      "text/plain": [
       "VBox(children=(Output(outputs=({'name': 'stdout', 'text': '4. Using the code snippet \\x1b[1mnrv = (np.random.n…"
      ]
     },
     "metadata": {},
     "output_type": "display_data"
    }
   ],
   "source": [
    "if __name__ == \"__main__\":\n",
    "    display (L5P4Q1, L5P4Q2, L5P4Q3, L5P4Q4)"
   ]
  },
  {
   "cell_type": "markdown",
   "id": "b0675a0a",
   "metadata": {},
   "source": [
    "## Page 5"
   ]
  },
  {
   "cell_type": "code",
   "execution_count": 93,
   "id": "ffac49a2",
   "metadata": {},
   "outputs": [],
   "source": [
    "L5P5Q1 = MultipleChoice('1. True or False? You can use more than one \\033[1m=if()\\033[0m= function in a formula.',['A: True','B: False'],'A: True')\n"
   ]
  },
  {
   "cell_type": "code",
   "execution_count": 94,
   "id": "b127e4dc",
   "metadata": {},
   "outputs": [
    {
     "data": {
      "application/vnd.jupyter.widget-view+json": {
       "model_id": "2256d4304487438b82c5e722550f6823",
       "version_major": 2,
       "version_minor": 0
      },
      "text/plain": [
       "VBox(children=(Output(outputs=({'name': 'stdout', 'text': '1. True or False? You can use more than one \\x1b[1m…"
      ]
     },
     "metadata": {},
     "output_type": "display_data"
    }
   ],
   "source": [
    "if __name__ == \"__main__\":\n",
    "    display(L5P5Q1)"
   ]
  },
  {
   "cell_type": "markdown",
   "id": "5e07f49f",
   "metadata": {},
   "source": [
    "## Page 6"
   ]
  },
  {
   "cell_type": "code",
   "execution_count": 95,
   "id": "75ade541",
   "metadata": {},
   "outputs": [],
   "source": [
    "L5P6Q1 = MultipleChoice('1. What is the benefit of simulating data?',['A: It is free','B: It allows you to try things without the risk','C: It may not be as accurate', 'D: Both A & B'],'D: Both A & B')\n"
   ]
  },
  {
   "cell_type": "code",
   "execution_count": 96,
   "id": "1559a085",
   "metadata": {},
   "outputs": [
    {
     "data": {
      "application/vnd.jupyter.widget-view+json": {
       "model_id": "12d2fad7289c47a99fb34ab4b7f91e1b",
       "version_major": 2,
       "version_minor": 0
      },
      "text/plain": [
       "VBox(children=(Output(outputs=({'name': 'stdout', 'text': '1. What is the benefit of simulating data?\\n', 'out…"
      ]
     },
     "metadata": {},
     "output_type": "display_data"
    }
   ],
   "source": [
    "if __name__ == \"__main__\":\n",
    "    display(L5P6Q1)"
   ]
  }
 ],
 "metadata": {
  "kernelspec": {
   "display_name": "Python 3 (ipykernel)",
   "language": "python",
   "name": "python3"
  },
  "language_info": {
   "codemirror_mode": {
    "name": "ipython",
    "version": 3
   },
   "file_extension": ".py",
   "mimetype": "text/x-python",
   "name": "python",
   "nbconvert_exporter": "python",
   "pygments_lexer": "ipython3",
   "version": "3.9.7"
  }
 },
 "nbformat": 4,
 "nbformat_minor": 5
}
