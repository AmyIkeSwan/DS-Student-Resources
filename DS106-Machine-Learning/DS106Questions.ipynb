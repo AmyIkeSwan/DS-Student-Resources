{
 "cells": [
  {
   "cell_type": "markdown",
   "id": "701c6664-c3af-4538-bac7-f1a5cc1826cd",
   "metadata": {},
   "source": [
    "# DS106 Questions\n",
    "\n",
    "## Lesson 1\n",
    "\n",
    "## Page 2"
   ]
  },
  {
   "cell_type": "code",
   "execution_count": 4,
   "id": "9fdc1222-3d73-42e1-b6bf-b95d73e3d8ff",
   "metadata": {},
   "outputs": [],
   "source": [
    "from DS_Students import *"
   ]
  },
  {
   "cell_type": "code",
   "execution_count": 34,
   "id": "cf433206-b1c6-41d7-86db-486d7cb4756e",
   "metadata": {},
   "outputs": [],
   "source": [
    "L1P2Q1 = MultipleChoice('1. When data is labeled, what kind of machine learning is this?',['Supervised','Unsupervised','Reinforcement', 'Instance-based'],'Supervised')\n",
    "L1P2Q2 = MultipleChoice('2. When a computer observes, performs an action, receives a consequence, and learns from it, what type of machine learning is this?',['Supervised','Unsupervised','Reinforcement', 'Instance-based'],'Reinforcement')\n",
    "L1P2Q3 = MultipleChoice('3. If the computer learns all at once, what type of machine learning is this?',['Model-based','Incremental learning','Online learning', 'Batch learning'],'Batch learning')\n",
    "L1P2Q4 = MultipleChoice('4. If the computer creates a model that represents the data, which then becomes its knowledge source, what type of machine learning is this?',['Model-based','Instance-based','Online learning', 'Batch learning'],'Model-based')\n"
   ]
  },
  {
   "cell_type": "code",
   "execution_count": 35,
   "id": "6f20d99a-0d5d-482e-82a1-2adf01327726",
   "metadata": {},
   "outputs": [
    {
     "data": {
      "application/vnd.jupyter.widget-view+json": {
       "model_id": "5c381e11bf2345ad925459d02ff7794a",
       "version_major": 2,
       "version_minor": 0
      },
      "text/plain": [
       "VBox(children=(Output(outputs=({'name': 'stdout', 'text': '1. When data is labeled, what kind of machine learn…"
      ]
     },
     "metadata": {},
     "output_type": "display_data"
    },
    {
     "data": {
      "application/vnd.jupyter.widget-view+json": {
       "model_id": "3f366ff304664b93a935a5112c1e549b",
       "version_major": 2,
       "version_minor": 0
      },
      "text/plain": [
       "VBox(children=(Output(outputs=({'name': 'stdout', 'text': '2. When a computer observes, performs an action, re…"
      ]
     },
     "metadata": {},
     "output_type": "display_data"
    },
    {
     "data": {
      "application/vnd.jupyter.widget-view+json": {
       "model_id": "066722a4315445e382ec03c821a078a6",
       "version_major": 2,
       "version_minor": 0
      },
      "text/plain": [
       "VBox(children=(Output(outputs=({'name': 'stdout', 'text': '3. If the computer learns all at once, what type of…"
      ]
     },
     "metadata": {},
     "output_type": "display_data"
    },
    {
     "data": {
      "application/vnd.jupyter.widget-view+json": {
       "model_id": "8d9c674b81f248448577f95b65b51fe2",
       "version_major": 2,
       "version_minor": 0
      },
      "text/plain": [
       "VBox(children=(Output(outputs=({'name': 'stdout', 'text': '4. If the computer creates a model that represents …"
      ]
     },
     "metadata": {},
     "output_type": "display_data"
    }
   ],
   "source": [
    "if __name__ == \"__main__\":\n",
    "    display(L1P2Q1, L1P2Q2, L1P2Q3, L1P2Q4,)"
   ]
  },
  {
   "cell_type": "markdown",
   "id": "59237b93-23a1-4511-9c47-069ff58089ca",
   "metadata": {},
   "source": [
    "## Page 3"
   ]
  },
  {
   "cell_type": "code",
   "execution_count": 13,
   "id": "9e09c0eb-06d1-440a-9c2a-4ced3fa16e4e",
   "metadata": {},
   "outputs": [],
   "source": [
    "L1P3Q1 = MultipleChoice('1. Which Python package is for performing machine learning?',['pandas','matplotlib','sklearn', 'numpy'],'sklearn')\n",
    "L1P3Q2 = MultipleChoice('2. You can feed a full pandas dataset into a machine learning algorithm.',['True','False'],'False')\n",
    "L1P3Q3 = MultipleChoice('3. If you wanted to use an 80/20 split for your testing/training data, what value would you place in the test_size= argument of train_test_split()?',['.8','80','20', '.2'],'.2')\n",
    "L1P3Q4 = MultipleChoice('4. True or False? You can include string data in a machine learning model.',['True','False'],'False')"
   ]
  },
  {
   "cell_type": "code",
   "execution_count": 15,
   "id": "395b4e32-213a-432c-8570-dba7e76bc602",
   "metadata": {},
   "outputs": [
    {
     "data": {
      "application/vnd.jupyter.widget-view+json": {
       "model_id": "dbb6d2b08f4e4fa9bf75f65ca5584968",
       "version_major": 2,
       "version_minor": 0
      },
      "text/plain": [
       "VBox(children=(Output(outputs=({'name': 'stdout', 'text': '1. Which Python package is for performing machine l…"
      ]
     },
     "metadata": {},
     "output_type": "display_data"
    },
    {
     "data": {
      "application/vnd.jupyter.widget-view+json": {
       "model_id": "3385ed4a20cd48efbc5d9f582bc134bd",
       "version_major": 2,
       "version_minor": 0
      },
      "text/plain": [
       "VBox(children=(Output(outputs=({'name': 'stdout', 'text': '2. You can feed a full pandas dataset into a machin…"
      ]
     },
     "metadata": {},
     "output_type": "display_data"
    },
    {
     "data": {
      "application/vnd.jupyter.widget-view+json": {
       "model_id": "3256956ccf4443beb613b1e4e7a7b170",
       "version_major": 2,
       "version_minor": 0
      },
      "text/plain": [
       "VBox(children=(Output(outputs=({'name': 'stdout', 'text': '3. If you wanted to use an 80/20 split for your tes…"
      ]
     },
     "metadata": {},
     "output_type": "display_data"
    },
    {
     "data": {
      "application/vnd.jupyter.widget-view+json": {
       "model_id": "8e73e57f5b394e6fb846005d078a5360",
       "version_major": 2,
       "version_minor": 0
      },
      "text/plain": [
       "VBox(children=(Output(outputs=({'name': 'stdout', 'text': '4. True or False? You can include string data in a …"
      ]
     },
     "metadata": {},
     "output_type": "display_data"
    }
   ],
   "source": [
    "if __name__ == \"__main__\":\n",
    "    display(L1P3Q1, L1P3Q2, L1P3Q3, L1P3Q4)"
   ]
  },
  {
   "cell_type": "markdown",
   "id": "214526dd-72ee-40d8-a2e5-41e165dcd951",
   "metadata": {},
   "source": [
    "## Page 4"
   ]
  },
  {
   "cell_type": "code",
   "execution_count": 16,
   "id": "c8eb6a46-ef59-46c0-8adb-773a004ded82",
   "metadata": {},
   "outputs": [],
   "source": [
    "L1P4Q1 = MultipleChoice('1. What does an accuracy score of .92 mean?',['The model accurately predicts 1% of the time','The model accurately predicts 92% of the time','The model accurately predicts 8% of the time', 'The model will accurately predict 92 times'],'The model accurately predicts 92% of the time')\n",
    "L1P4Q2 = MultipleChoice('2. Given a comparison between a MAE of 12 or an MAE of 30, which indicates better model fit?',['12','30','MAE', 'MSE'],'12')\n",
    "L1P4Q3 = MultipleChoice('3. Which measure of error is the most popular?',['MAE','MSE','RMSE', 'Accuracy prediction'],'RMSE')\n",
    "L1P4Q4 = MultipleChoice('4. Which measure of error is best for real-world scenarios where you have large errors?',['MAE','MSE','RMSE', 'Accuracy prediction'],'MSE')\n"
   ]
  },
  {
   "cell_type": "code",
   "execution_count": 17,
   "id": "3adf2b8c-6d74-449d-abd7-f2ecd2cef18e",
   "metadata": {},
   "outputs": [
    {
     "data": {
      "application/vnd.jupyter.widget-view+json": {
       "model_id": "7f82602627d64cc4a8449fdea92715cf",
       "version_major": 2,
       "version_minor": 0
      },
      "text/plain": [
       "VBox(children=(Output(outputs=({'name': 'stdout', 'text': '1. What does an accuracy score of .92 mean?\\n', 'ou…"
      ]
     },
     "metadata": {},
     "output_type": "display_data"
    },
    {
     "data": {
      "application/vnd.jupyter.widget-view+json": {
       "model_id": "f6c73acc2f2648ad9f9db6fdbbc4aa1d",
       "version_major": 2,
       "version_minor": 0
      },
      "text/plain": [
       "VBox(children=(Output(outputs=({'name': 'stdout', 'text': '2. Given a comparison between a MAE of 12 or an MAE…"
      ]
     },
     "metadata": {},
     "output_type": "display_data"
    },
    {
     "data": {
      "application/vnd.jupyter.widget-view+json": {
       "model_id": "ada3376f60564c708bee48b65b8a6ff6",
       "version_major": 2,
       "version_minor": 0
      },
      "text/plain": [
       "VBox(children=(Output(outputs=({'name': 'stdout', 'text': '3. Which measure of error is the most popular?\\n', …"
      ]
     },
     "metadata": {},
     "output_type": "display_data"
    },
    {
     "data": {
      "application/vnd.jupyter.widget-view+json": {
       "model_id": "9b562e3b1e33404b849d21617c581032",
       "version_major": 2,
       "version_minor": 0
      },
      "text/plain": [
       "VBox(children=(Output(outputs=({'name': 'stdout', 'text': '4. Which measure of error is best for real-world sc…"
      ]
     },
     "metadata": {},
     "output_type": "display_data"
    }
   ],
   "source": [
    "if __name__ == \"__main__\":\n",
    "    display(L1P4Q1, L1P4Q2, L1P4Q3, L1P4Q4)"
   ]
  },
  {
   "cell_type": "markdown",
   "id": "fbd02314-2ef4-43be-aa7f-82453a99c3aa",
   "metadata": {},
   "source": [
    "## Page 5"
   ]
  },
  {
   "cell_type": "code",
   "execution_count": 32,
   "id": "d909d1fb-8f00-4e28-b8ed-31c3be525a4c",
   "metadata": {},
   "outputs": [],
   "source": [
    "L1P5Q1 = MultipleChoice('1. True or False? The Microsoft researchers concluded that its more economical to perfect the learning algorithm than it was to gather more data.',['True','False'],'False')\n",
    "L1P5Q2 = MultipleChoice('2. What is it called when the model is too simple?',['Overfitting','Underfitting','Irrelevant features', 'Bad data'],'Underfitting')\n",
    "L1P5Q3 = MultipleChoice('3. What is it called when you include data thats not necessary for prediction?',['Overfitting','Underfitting','Irrelevant features', 'Bad data'],'Irrelevant features')\n"
   ]
  },
  {
   "cell_type": "code",
   "execution_count": 33,
   "id": "f4a337b9-96c0-4d01-b65a-d8ef9f3cb7ef",
   "metadata": {},
   "outputs": [
    {
     "data": {
      "application/vnd.jupyter.widget-view+json": {
       "model_id": "a70bff1d73eb4e8392f5866b40774884",
       "version_major": 2,
       "version_minor": 0
      },
      "text/plain": [
       "VBox(children=(Output(outputs=({'name': 'stdout', 'text': '1. True or False? The Microsoft researchers conclud…"
      ]
     },
     "metadata": {},
     "output_type": "display_data"
    },
    {
     "data": {
      "application/vnd.jupyter.widget-view+json": {
       "model_id": "e42ce077cab947778d4eea05ff069835",
       "version_major": 2,
       "version_minor": 0
      },
      "text/plain": [
       "VBox(children=(Output(outputs=({'name': 'stdout', 'text': '2. What is it called when the model is too simple?\\…"
      ]
     },
     "metadata": {},
     "output_type": "display_data"
    },
    {
     "data": {
      "application/vnd.jupyter.widget-view+json": {
       "model_id": "9b497b4797a44e70ace3baf36659748a",
       "version_major": 2,
       "version_minor": 0
      },
      "text/plain": [
       "VBox(children=(Output(outputs=({'name': 'stdout', 'text': '3. What is it called when you include data thats no…"
      ]
     },
     "metadata": {},
     "output_type": "display_data"
    }
   ],
   "source": [
    "if __name__ == \"__main__\":\n",
    "    display(L1P5Q1, L1P5Q2, L1P5Q3)"
   ]
  },
  {
   "cell_type": "markdown",
   "id": "b678ed98-677d-4112-8f4e-f0c91cf549e1",
   "metadata": {},
   "source": [
    "## Page 6"
   ]
  },
  {
   "cell_type": "code",
   "execution_count": 27,
   "id": "b6fad58e-9379-4ed2-9367-a2e28d136422",
   "metadata": {},
   "outputs": [],
   "source": [
    "L1P6Q1 = MultipleChoice('1. Which cross validation technique creates as many folds as observations in a dataset?',['k-folds','Leave one out'],'Leave one out')\n",
    "L1P6Q2 = MultipleChoice('2. Which of the following is NOT a step in k-fold cross validation?',['Data randomization','Split the data into groups','Test and fit a model for each group', 'Eating nachos'],'Data randomization')\n"
   ]
  },
  {
   "cell_type": "code",
   "execution_count": 28,
   "id": "0d94f17b-c760-4be5-9218-79446165a41f",
   "metadata": {},
   "outputs": [
    {
     "data": {
      "application/vnd.jupyter.widget-view+json": {
       "model_id": "57815fc8b0f24a81ad54e2c725e820bf",
       "version_major": 2,
       "version_minor": 0
      },
      "text/plain": [
       "VBox(children=(Output(outputs=({'name': 'stdout', 'text': '1. Which cross validation technique creates as many…"
      ]
     },
     "metadata": {},
     "output_type": "display_data"
    },
    {
     "data": {
      "application/vnd.jupyter.widget-view+json": {
       "model_id": "0fe58f28b2b74b37a648cf37d2f53af4",
       "version_major": 2,
       "version_minor": 0
      },
      "text/plain": [
       "VBox(children=(Output(outputs=({'name': 'stdout', 'text': '2. Which of the following is NOT a step in k-fold c…"
      ]
     },
     "metadata": {},
     "output_type": "display_data"
    }
   ],
   "source": [
    "if __name__ == \"__main__\":\n",
    "    display(L1P6Q1, L1P6Q2)"
   ]
  },
  {
   "cell_type": "markdown",
   "id": "eadd1858-8196-4001-9ed2-a099b6ce3f8d",
   "metadata": {},
   "source": [
    "## Page 7"
   ]
  },
  {
   "cell_type": "code",
   "execution_count": 30,
   "id": "fee041d4-6c3c-41f9-b693-c7e09c2fe965",
   "metadata": {},
   "outputs": [],
   "source": [
    "L1P7Q1 = MultipleChoice('1. What does the following line of code do, kFold(10,True)?',['Shuffle ten iterations of the train/test data','Create ten iterations of the train/test data','Perform kFold randomly ten times', 'Perform kFold non-randomly ten times'],'Shuffle ten iterations of the train/test data')\n",
    "L1P7Q2 = MultipleChoice('2. Which function prints accuracy scores for each iteration??',['kFold()','.split()','cross_val_score()', 'train_test_split()'],'cross_val_score()')"
   ]
  },
  {
   "cell_type": "code",
   "execution_count": 31,
   "id": "3d022d30-4f19-4b95-9279-5bb9e3c4d1e0",
   "metadata": {},
   "outputs": [
    {
     "data": {
      "application/vnd.jupyter.widget-view+json": {
       "model_id": "4f87f7057eb944179e2883b20a080f91",
       "version_major": 2,
       "version_minor": 0
      },
      "text/plain": [
       "VBox(children=(Output(outputs=({'name': 'stdout', 'text': '1. What does the following line of code do, kFold(1…"
      ]
     },
     "metadata": {},
     "output_type": "display_data"
    },
    {
     "data": {
      "application/vnd.jupyter.widget-view+json": {
       "model_id": "c276ba5eb42c4a0ba250fedc37bbb944",
       "version_major": 2,
       "version_minor": 0
      },
      "text/plain": [
       "VBox(children=(Output(outputs=({'name': 'stdout', 'text': '2. Which function prints accuracy scores for each i…"
      ]
     },
     "metadata": {},
     "output_type": "display_data"
    }
   ],
   "source": [
    "if __name__ == \"__main__\":\n",
    "    display(L1P7Q1, L1P7Q2)"
   ]
  },
  {
   "cell_type": "markdown",
   "id": "6ad8ced5-5474-45b1-bbf1-de0cf7efa912",
   "metadata": {},
   "source": [
    "## Lesson 2"
   ]
  },
  {
   "cell_type": "markdown",
   "id": "0802e76d-b7c5-43b8-bd7a-2974a0af164b",
   "metadata": {},
   "source": [
    "## Page 2"
   ]
  },
  {
   "cell_type": "code",
   "execution_count": 55,
   "id": "3625cc79-a2db-4bcc-a85b-2e8e24230a73",
   "metadata": {},
   "outputs": [],
   "source": [
    "L2P2Q1 = MultipleChoice('1.Which of the following is NOT a step in k-means clustering that the computer does? ',['Choose the number of clusters','Assign data to clusters','Calculate the center of the cluster', 'Reassign data points'],'Choose the number of clusters')\n",
    "L2P2Q2 = MultipleChoice('2. What is the center of each cluster called?',['Cluster','Cluster mean','labels_', 'Centroid'], 'Centroid')\n"
   ]
  },
  {
   "cell_type": "code",
   "execution_count": 56,
   "id": "0eeb95e4-36a5-410c-ac8a-626fcc474b48",
   "metadata": {},
   "outputs": [
    {
     "data": {
      "application/vnd.jupyter.widget-view+json": {
       "model_id": "584cee73860648ecbaece26e266708ce",
       "version_major": 2,
       "version_minor": 0
      },
      "text/plain": [
       "VBox(children=(Output(outputs=({'name': 'stdout', 'text': '1.Which of the following is NOT a step in k-means c…"
      ]
     },
     "metadata": {},
     "output_type": "display_data"
    },
    {
     "data": {
      "application/vnd.jupyter.widget-view+json": {
       "model_id": "8718773979d84e1c8eab3cf8cedc49de",
       "version_major": 2,
       "version_minor": 0
      },
      "text/plain": [
       "VBox(children=(Output(outputs=({'name': 'stdout', 'text': '2. What is the center of each cluster called?\\n', '…"
      ]
     },
     "metadata": {},
     "output_type": "display_data"
    }
   ],
   "source": [
    "if __name__ == \"__main__\":\n",
    "    display(L2P2Q1, L2P2Q2)"
   ]
  },
  {
   "cell_type": "markdown",
   "id": "7341bd94-90a7-41f9-8944-0899dd200cc3",
   "metadata": {},
   "source": [
    "## Page 3"
   ]
  },
  {
   "cell_type": "code",
   "execution_count": 57,
   "id": "3e283e8a-89be-44ca-99ff-690a663d8e9c",
   "metadata": {},
   "outputs": [],
   "source": [
    "L2P3Q1 = MultipleChoice('1. True or False? You can utilize string data in k-means clustering?',['True','False'],'False')\n",
    "L2P3Q2 = MultipleChoice('2. Which piece of code specifies the number of clusters for which you are looking?',['KMeans()This performs the acutal KMeans() analysis.','n_clusters=','labels_This tells you which data point is in which cluster.', 'cluster_centers This provides the center of each cluster.'], 'n_clusters=')\n"
   ]
  },
  {
   "cell_type": "code",
   "execution_count": 58,
   "id": "e0696be6-27fa-433d-8c1f-e64ced00f405",
   "metadata": {},
   "outputs": [
    {
     "data": {
      "application/vnd.jupyter.widget-view+json": {
       "model_id": "16153690eeac4c9a86117f77dfbc7f77",
       "version_major": 2,
       "version_minor": 0
      },
      "text/plain": [
       "VBox(children=(Output(outputs=({'name': 'stdout', 'text': '1. True or False? You can utilize string data in k-…"
      ]
     },
     "metadata": {},
     "output_type": "display_data"
    },
    {
     "data": {
      "application/vnd.jupyter.widget-view+json": {
       "model_id": "b630685462ce47819b69b747ddc593be",
       "version_major": 2,
       "version_minor": 0
      },
      "text/plain": [
       "VBox(children=(Output(outputs=({'name': 'stdout', 'text': '2. Which piece of code specifies the number of clus…"
      ]
     },
     "metadata": {},
     "output_type": "display_data"
    }
   ],
   "source": [
    "if __name__ == \"__main__\":\n",
    "    display(L2P3Q1, L2P3Q2)"
   ]
  },
  {
   "cell_type": "markdown",
   "id": "9c498764-aa4f-4f36-bb93-f7dd05760de8",
   "metadata": {},
   "source": [
    "## Page 4"
   ]
  },
  {
   "cell_type": "code",
   "execution_count": 59,
   "id": "21a82900-2816-498e-958a-0bf42b055d9f",
   "metadata": {},
   "outputs": [],
   "source": [
    "L2P4Q1 = MultipleChoice('1. True or False? KNN looks at all the points around a data point to determine what group it should be in?',['True','False',],'True')\n",
    "\n"
   ]
  },
  {
   "cell_type": "code",
   "execution_count": 60,
   "id": "7449cc33-2a48-45b8-9459-6afc676940e4",
   "metadata": {},
   "outputs": [
    {
     "data": {
      "application/vnd.jupyter.widget-view+json": {
       "model_id": "3c2dad63f75449f6b04b6e323690846c",
       "version_major": 2,
       "version_minor": 0
      },
      "text/plain": [
       "VBox(children=(Output(outputs=({'name': 'stdout', 'text': '1. True or False? KNN looks at all the points aroun…"
      ]
     },
     "metadata": {},
     "output_type": "display_data"
    }
   ],
   "source": [
    "if __name__ == \"__main__\":\n",
    "    display(L2P4Q1)"
   ]
  },
  {
   "cell_type": "markdown",
   "id": "972a203f-4b91-4736-a33c-ddebb0893ebf",
   "metadata": {},
   "source": [
    "## Page 5"
   ]
  },
  {
   "cell_type": "code",
   "execution_count": 61,
   "id": "68398aaf-3f97-493b-a69d-3d310f39450e",
   "metadata": {},
   "outputs": [],
   "source": [
    "L2P5Q1 = MultipleChoice('2. True or False? All your data must be on the same scale when you perform KNN.',['True','False',],'True')"
   ]
  },
  {
   "cell_type": "code",
   "execution_count": 62,
   "id": "2491e0ac-d400-4496-8e98-2d019fe1bbba",
   "metadata": {},
   "outputs": [
    {
     "data": {
      "application/vnd.jupyter.widget-view+json": {
       "model_id": "5fddd63206b3441da305ac627a728674",
       "version_major": 2,
       "version_minor": 0
      },
      "text/plain": [
       "VBox(children=(Output(outputs=({'name': 'stdout', 'text': '2. True or False? All your data must be on the same…"
      ]
     },
     "metadata": {},
     "output_type": "display_data"
    }
   ],
   "source": [
    "if __name__ == \"__main__\":\n",
    "    display(L2P5Q1)"
   ]
  },
  {
   "cell_type": "markdown",
   "id": "ce189040-a384-4ace-aff0-4069cb1c6a9c",
   "metadata": {},
   "source": [
    "## Page 6"
   ]
  },
  {
   "cell_type": "code",
   "execution_count": 63,
   "id": "85c5ebaf-d7c9-479d-9b2f-c0d332f8b1ff",
   "metadata": {},
   "outputs": [],
   "source": [
    "L2P6Q1 = MultipleChoice('1. Where will the overall accuracy of the algorithm be located in the classification report?',['precision - micro avg','precision - weighted avg','recall', 'support'],'precision - weighted avg')\n",
    "L2P6Q2 = MultipleChoice('2. What is the benefit of the elbow method?',['You can examine which ks have the best error rate quickly','You can explore each k in depth','It automatically fits the best model for you', 'It reduces the error rate automatically'],'You can examine which ks have the best error rate quickly')\n"
   ]
  },
  {
   "cell_type": "code",
   "execution_count": 64,
   "id": "2460834d-2097-42f9-8497-2eb458416193",
   "metadata": {},
   "outputs": [
    {
     "data": {
      "application/vnd.jupyter.widget-view+json": {
       "model_id": "8151d39cf0ba4d9d9187b7b3a4de35a7",
       "version_major": 2,
       "version_minor": 0
      },
      "text/plain": [
       "VBox(children=(Output(outputs=({'name': 'stdout', 'text': '1. Where will the overall accuracy of the algorithm…"
      ]
     },
     "metadata": {},
     "output_type": "display_data"
    },
    {
     "data": {
      "application/vnd.jupyter.widget-view+json": {
       "model_id": "87c0dca5f54e48669f1b642b090ef5ec",
       "version_major": 2,
       "version_minor": 0
      },
      "text/plain": [
       "VBox(children=(Output(outputs=({'name': 'stdout', 'text': '2. What is the benefit of the elbow method?\\n', 'ou…"
      ]
     },
     "metadata": {},
     "output_type": "display_data"
    }
   ],
   "source": [
    "if __name__ == \"__main__\":\n",
    "    display(L2P6Q1,L2P6Q2)"
   ]
  },
  {
   "cell_type": "markdown",
   "id": "b164e7ea-d69b-4d7f-8c35-e9711fe0a3e5",
   "metadata": {},
   "source": [
    "## Lesson 3"
   ]
  },
  {
   "cell_type": "markdown",
   "id": "656f3175-5f37-4b2e-a8fe-b0a0df4be568",
   "metadata": {},
   "source": [
    "## Page 2"
   ]
  },
  {
   "cell_type": "code",
   "execution_count": 66,
   "id": "735c4771-a95e-4acf-bb6b-6fa7f414d35f",
   "metadata": {},
   "outputs": [],
   "source": [
    "L3P2Q1 = MultipleChoice('1. Where do you start on a decision tree?',['Root node','Node','Edge', 'Leave'],'Root node')\n",
    "L3P2Q2 = MultipleChoice('2. When would you utilize a decision tree or random forest model?',['When you are predicting continuous variables','When you are predicting categorical variables',],'When you are predicting categorical variables')\n",
    "\n"
   ]
  },
  {
   "cell_type": "code",
   "execution_count": 67,
   "id": "e406796e-a82a-48a8-b7d7-bf0a8bfe0f52",
   "metadata": {},
   "outputs": [
    {
     "data": {
      "application/vnd.jupyter.widget-view+json": {
       "model_id": "e4660456091540259c57df5c62fb274a",
       "version_major": 2,
       "version_minor": 0
      },
      "text/plain": [
       "VBox(children=(Output(outputs=({'name': 'stdout', 'text': '1. Where do you start on a decision tree?\\n', 'outp…"
      ]
     },
     "metadata": {},
     "output_type": "display_data"
    },
    {
     "data": {
      "application/vnd.jupyter.widget-view+json": {
       "model_id": "4c3a3c358eab4f1cbb5faeef9356aff4",
       "version_major": 2,
       "version_minor": 0
      },
      "text/plain": [
       "VBox(children=(Output(outputs=({'name': 'stdout', 'text': '2. When would you utilize a decision tree or random…"
      ]
     },
     "metadata": {},
     "output_type": "display_data"
    }
   ],
   "source": [
    "if __name__ == \"__main__\":\n",
    "    display(L3P2Q1, L3P2Q2)"
   ]
  },
  {
   "cell_type": "markdown",
   "id": "c275d4e6-8dbb-4afd-8b28-2dcadb5cf840",
   "metadata": {},
   "source": [
    "## Page 4"
   ]
  },
  {
   "cell_type": "code",
   "execution_count": 72,
   "id": "21ceab5f-fc79-44aa-b5b4-27c2ef6da220",
   "metadata": {},
   "outputs": [],
   "source": [
    "L3P4Q1 = MultipleChoice('1. Which function will create a decision tree in Python?',['train_test_split()This will split your data into testing and training data.','DecisionTreeClassifier()','model_selectionThis is the package that contains the train_test_split() function.','classification_report()This is the function that provides precision ratings.'],'DecisionTreeClassifier()')\n"
   ]
  },
  {
   "cell_type": "code",
   "execution_count": 73,
   "id": "993d2561-ee03-4f5a-82d5-40419d1520f9",
   "metadata": {},
   "outputs": [
    {
     "data": {
      "application/vnd.jupyter.widget-view+json": {
       "model_id": "7eb851edb5ac41979d0a594ba5e13bc4",
       "version_major": 2,
       "version_minor": 0
      },
      "text/plain": [
       "VBox(children=(Output(outputs=({'name': 'stdout', 'text': '3. Which function will create a decision tree in Py…"
      ]
     },
     "metadata": {},
     "output_type": "display_data"
    }
   ],
   "source": [
    "if __name__ == \"__main__\":\n",
    "    display(L3P4Q1)"
   ]
  },
  {
   "cell_type": "markdown",
   "id": "0b36a354-a0ce-49f8-9ea8-d9bc52d9c260",
   "metadata": {},
   "source": [
    "## Page 5"
   ]
  },
  {
   "cell_type": "code",
   "execution_count": 74,
   "id": "5f24d7e9-8613-40c0-88a8-ae419a47f922",
   "metadata": {},
   "outputs": [],
   "source": [
    "L3P5Q1 = MultipleChoice('1. True or False? You need to complete a decision tree model before completing a random forest model.',['True','False'],'False')\n",
    "L3P5Q2 = MultipleChoice('2. From which package can you find the RandomForestClassifier()?',['sklearn.model_selection','sklearn.ensemble','sklearn.metrics','sklearn.tree'],'sklearn.ensemble')"
   ]
  },
  {
   "cell_type": "code",
   "execution_count": 76,
   "id": "7f3a0306-415d-483f-865e-79d48e8ee923",
   "metadata": {},
   "outputs": [
    {
     "data": {
      "application/vnd.jupyter.widget-view+json": {
       "model_id": "f825a7ca23964837abc09535bbd1ca37",
       "version_major": 2,
       "version_minor": 0
      },
      "text/plain": [
       "VBox(children=(Output(outputs=({'name': 'stdout', 'text': '1. True or False? You need to complete a decision t…"
      ]
     },
     "metadata": {},
     "output_type": "display_data"
    },
    {
     "data": {
      "application/vnd.jupyter.widget-view+json": {
       "model_id": "aaead134929841b2ade29cb25a5efcca",
       "version_major": 2,
       "version_minor": 0
      },
      "text/plain": [
       "VBox(children=(Output(outputs=({'name': 'stdout', 'text': '2. From which package can you find the RandomForest…"
      ]
     },
     "metadata": {},
     "output_type": "display_data"
    }
   ],
   "source": [
    "if __name__ == \"__main__\":\n",
    "    display(L3P5Q1, L3P5Q2)"
   ]
  },
  {
   "cell_type": "markdown",
   "id": "4807d1f1-3b4b-44f1-9225-2beef3066928",
   "metadata": {},
   "source": [
    "## Page 6"
   ]
  },
  {
   "cell_type": "code",
   "execution_count": 77,
   "id": "c43c5243-fa11-41d0-ad8b-b883f47ab7ef",
   "metadata": {},
   "outputs": [],
   "source": [
    "L3P6Q1 = MultipleChoice('1. The _______ is the decision points, or branches, on the tree.?',['Maximum depth','Maximum number of features','Number of estimators', 'Minimum number of samples for a leaf'],'Maximum number of features')\n",
    "L3P6Q2 = MultipleChoice('2. The _________ indicates how many data points are being sorted at each feature.',['Maximum depth','Maximum number of features','Minimum number of samples for a leaf', 'Number of estimators'],'Minimum number of samples for a leaf')\n",
    "L3P6Q3 = MultipleChoice('3. The _______ is how many trees that make up a forest.',['Maximum depth','Maximum number of features','Minimum number of samples for a leaf', 'Number of estimators'],'Number of estimators')\n",
    "L3P6Q4 = MultipleChoice('4. The _______ is how far down the \"roots\" of your tree go.',['Maximum depth','Number of estimators','Maximum number of features', 'Minimum number of samples for a leaf'],'Maximum depth')\n",
    "L3P6Q5 = MultipleChoice('5. Parameters that are adjustable are called _______?',['Hydroparameter','Hyperparameter','Hectoparameter', 'Hypoparameter'],'Hyperparameter')"
   ]
  },
  {
   "cell_type": "code",
   "execution_count": 78,
   "id": "409bae88-626f-40cc-9dd4-4578cbd17855",
   "metadata": {},
   "outputs": [
    {
     "data": {
      "application/vnd.jupyter.widget-view+json": {
       "model_id": "aa8d03e0c0fe43c28327520b025b1f47",
       "version_major": 2,
       "version_minor": 0
      },
      "text/plain": [
       "VBox(children=(Output(outputs=({'name': 'stdout', 'text': '1. The _______ is the decision points, or branches,…"
      ]
     },
     "metadata": {},
     "output_type": "display_data"
    },
    {
     "data": {
      "application/vnd.jupyter.widget-view+json": {
       "model_id": "b99f7a99dc084da6955a78c9b3d20452",
       "version_major": 2,
       "version_minor": 0
      },
      "text/plain": [
       "VBox(children=(Output(outputs=({'name': 'stdout', 'text': '2. The _________ indicates how many data points are…"
      ]
     },
     "metadata": {},
     "output_type": "display_data"
    },
    {
     "data": {
      "application/vnd.jupyter.widget-view+json": {
       "model_id": "09df470382784e97a9249b74315c7f21",
       "version_major": 2,
       "version_minor": 0
      },
      "text/plain": [
       "VBox(children=(Output(outputs=({'name': 'stdout', 'text': '3. The _______ is how many trees that make up a for…"
      ]
     },
     "metadata": {},
     "output_type": "display_data"
    },
    {
     "data": {
      "application/vnd.jupyter.widget-view+json": {
       "model_id": "5db26e9e18294fabbbd51375ecca4754",
       "version_major": 2,
       "version_minor": 0
      },
      "text/plain": [
       "VBox(children=(Output(outputs=({'name': 'stdout', 'text': '4. The _______ is how far down the \"roots\" of your …"
      ]
     },
     "metadata": {},
     "output_type": "display_data"
    },
    {
     "data": {
      "application/vnd.jupyter.widget-view+json": {
       "model_id": "029b11c241c24f88b0e5b5011b6d70f6",
       "version_major": 2,
       "version_minor": 0
      },
      "text/plain": [
       "VBox(children=(Output(outputs=({'name': 'stdout', 'text': '5. Parameters that are adjustable are called ______…"
      ]
     },
     "metadata": {},
     "output_type": "display_data"
    }
   ],
   "source": [
    "if __name__ == \"__main__\":\n",
    "    display(L3P6Q1, L3P6Q2, L3P6Q3, L3P6Q4, L3P6Q5)"
   ]
  },
  {
   "cell_type": "markdown",
   "id": "a0753980-2b5e-453f-8d3b-7a59a8972bf8",
   "metadata": {},
   "source": [
    "## Page 7"
   ]
  },
  {
   "cell_type": "code",
   "execution_count": 79,
   "id": "66fef3d3-09bc-40c4-998a-333ab54183d8",
   "metadata": {},
   "outputs": [],
   "source": [
    "L3P7Q1 = MultipleChoice('1. Where do you plug in the random_grid dictionary?',['after n_iter','after param_distributions','after estimator', 'after random_state'],'after param_distributions')\n",
    "L3P7Q2 = MultipleChoice('2. What is the very first thing you want to do when hyperparameter tuning?',['Create a for loop.','Create lists with all the hyperparameter values you want to trial.','Create an array.', 'Find the number of estimators.'],'Find the number of estimators.')\n"
   ]
  },
  {
   "cell_type": "code",
   "execution_count": 80,
   "id": "94ed7aa1-8dd3-4881-84ac-dd7c005f1574",
   "metadata": {},
   "outputs": [
    {
     "data": {
      "application/vnd.jupyter.widget-view+json": {
       "model_id": "4e7b13dc39764214a573f0e09221a7e1",
       "version_major": 2,
       "version_minor": 0
      },
      "text/plain": [
       "VBox(children=(Output(outputs=({'name': 'stdout', 'text': '1. Where do you plug in the random_grid dictionary?…"
      ]
     },
     "metadata": {},
     "output_type": "display_data"
    },
    {
     "data": {
      "application/vnd.jupyter.widget-view+json": {
       "model_id": "fab1a984a86743fda6cb8dc9df1262aa",
       "version_major": 2,
       "version_minor": 0
      },
      "text/plain": [
       "VBox(children=(Output(outputs=({'name': 'stdout', 'text': '2. What is the very first thing you want to do when…"
      ]
     },
     "metadata": {},
     "output_type": "display_data"
    }
   ],
   "source": [
    "if __name__ == \"__main__\":\n",
    "    display(L3P7Q1, L3P7Q2)"
   ]
  },
  {
   "cell_type": "markdown",
   "id": "781c0da3-d0b5-469a-8e37-5577f93d7714",
   "metadata": {},
   "source": [
    "## Page 8"
   ]
  },
  {
   "cell_type": "code",
   "execution_count": 82,
   "id": "4fb3a41b-42a9-4e81-af76-64ca06ac81c8",
   "metadata": {},
   "outputs": [],
   "source": [
    "L3P8Q1 = MultipleChoice('1. True or False? The feature in machine learning can be referred to as a variable.',['True','False'],'True')\n",
    "L3P8Q2 = MultipleChoice('2. True or False? Feature Importance is formatted as a pandas series, using the function pd.Series().',['True','False'],'True')\n",
    "L3P8Q3 = MultipleChoice('3. True or False? Ascending=True means that this goes from largest to smallest.',['True','False'],'False')\n"
   ]
  },
  {
   "cell_type": "code",
   "execution_count": 83,
   "id": "04ba7099-273a-48d2-80c4-d541665b2b6b",
   "metadata": {},
   "outputs": [
    {
     "data": {
      "application/vnd.jupyter.widget-view+json": {
       "model_id": "908af2c317094b858a7632c2991142fa",
       "version_major": 2,
       "version_minor": 0
      },
      "text/plain": [
       "VBox(children=(Output(outputs=({'name': 'stdout', 'text': '1. True or False? The feature in machine learning c…"
      ]
     },
     "metadata": {},
     "output_type": "display_data"
    },
    {
     "data": {
      "application/vnd.jupyter.widget-view+json": {
       "model_id": "895937aa711d4166acb2f7830ca8910d",
       "version_major": 2,
       "version_minor": 0
      },
      "text/plain": [
       "VBox(children=(Output(outputs=({'name': 'stdout', 'text': '2. True or False? Feature Importance is formatted a…"
      ]
     },
     "metadata": {},
     "output_type": "display_data"
    },
    {
     "data": {
      "application/vnd.jupyter.widget-view+json": {
       "model_id": "908af2c317094b858a7632c2991142fa",
       "version_major": 2,
       "version_minor": 0
      },
      "text/plain": [
       "VBox(children=(Output(outputs=({'name': 'stdout', 'text': '1. True or False? The feature in machine learning c…"
      ]
     },
     "metadata": {},
     "output_type": "display_data"
    }
   ],
   "source": [
    "if __name__ == \"__main__\":\n",
    "    display(L3P8Q1, L3P8Q2, L3P8Q1)"
   ]
  },
  {
   "cell_type": "markdown",
   "id": "1d5a49da-0819-43ad-87ec-ca708c93fd32",
   "metadata": {},
   "source": [
    "## Page 9"
   ]
  },
  {
   "cell_type": "code",
   "execution_count": 86,
   "id": "a50b69e3-947a-4ea6-85c7-11068d3c5684",
   "metadata": {},
   "outputs": [],
   "source": [
    "L3P9Q1 = MultipleChoice('1. For what is an API used?',['Analyzing data','Creating data','Retrieving data'],'Retrieving data')\n",
    "L3P9Q2 = MultipleChoice('2. True or False? You may need an API key to access large amounts of data.',['True','False'],'True')\n"
   ]
  },
  {
   "cell_type": "code",
   "execution_count": 87,
   "id": "2e3946bf-0b83-4400-942b-0790f26b4411",
   "metadata": {},
   "outputs": [
    {
     "data": {
      "application/vnd.jupyter.widget-view+json": {
       "model_id": "302e0fb8a8b6406ca21e5f67b2860c24",
       "version_major": 2,
       "version_minor": 0
      },
      "text/plain": [
       "VBox(children=(Output(outputs=({'name': 'stdout', 'text': '1. For what is an API used?\\n', 'output_type': 'str…"
      ]
     },
     "metadata": {},
     "output_type": "display_data"
    },
    {
     "data": {
      "application/vnd.jupyter.widget-view+json": {
       "model_id": "42831ec73ab44b79ae9d5e182d7a2d23",
       "version_major": 2,
       "version_minor": 0
      },
      "text/plain": [
       "VBox(children=(Output(outputs=({'name': 'stdout', 'text': '2. True or False? You may need an API key to access…"
      ]
     },
     "metadata": {},
     "output_type": "display_data"
    }
   ],
   "source": [
    "if __name__ == \"__main__\":\n",
    "    display(L3P9Q1, L3P9Q2)"
   ]
  },
  {
   "cell_type": "code",
   "execution_count": null,
   "id": "44c0ce51-b37b-4c37-9d1f-2abb6f391d11",
   "metadata": {},
   "outputs": [],
   "source": []
  }
 ],
 "metadata": {
  "kernelspec": {
   "display_name": "Python 3",
   "language": "python",
   "name": "python3"
  },
  "language_info": {
   "codemirror_mode": {
    "name": "ipython",
    "version": 3
   },
   "file_extension": ".py",
   "mimetype": "text/x-python",
   "name": "python",
   "nbconvert_exporter": "python",
   "pygments_lexer": "ipython3",
   "version": "3.9.7"
  }
 },
 "nbformat": 4,
 "nbformat_minor": 5
}
