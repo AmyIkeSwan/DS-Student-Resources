{
 "cells": [
  {
   "cell_type": "markdown",
   "id": "701c6664-c3af-4538-bac7-f1a5cc1826cd",
   "metadata": {},
   "source": [
    "# DS106 Questions\n",
    "\n",
    "## Lesson 1\n",
    "\n",
    "## Page 2"
   ]
  },
  {
   "cell_type": "code",
   "execution_count": 4,
   "id": "9fdc1222-3d73-42e1-b6bf-b95d73e3d8ff",
   "metadata": {},
   "outputs": [],
   "source": [
    "from DS_Students import *"
   ]
  },
  {
   "cell_type": "code",
   "execution_count": 34,
   "id": "cf433206-b1c6-41d7-86db-486d7cb4756e",
   "metadata": {},
   "outputs": [],
   "source": [
    "L1P2Q1 = MultipleChoice('1. When data is labeled, what kind of machine learning is this?',['Supervised','Unsupervised','Reinforcement', 'Instance-based'],'Supervised')\n",
    "L1P2Q2 = MultipleChoice('2. When a computer observes, performs an action, receives a consequence, and learns from it, what type of machine learning is this?',['Supervised','Unsupervised','Reinforcement', 'Instance-based'],'Reinforcement')\n",
    "L1P2Q3 = MultipleChoice('3. If the computer learns all at once, what type of machine learning is this?',['Model-based','Incremental learning','Online learning', 'Batch learning'],'Batch learning')\n",
    "L1P2Q4 = MultipleChoice('4. If the computer creates a model that represents the data, which then becomes its knowledge source, what type of machine learning is this?',['Model-based','Instance-based','Online learning', 'Batch learning'],'Model-based')\n"
   ]
  },
  {
   "cell_type": "code",
   "execution_count": 35,
   "id": "6f20d99a-0d5d-482e-82a1-2adf01327726",
   "metadata": {},
   "outputs": [
    {
     "data": {
      "application/vnd.jupyter.widget-view+json": {
       "model_id": "5c381e11bf2345ad925459d02ff7794a",
       "version_major": 2,
       "version_minor": 0
      },
      "text/plain": [
       "VBox(children=(Output(outputs=({'name': 'stdout', 'text': '1. When data is labeled, what kind of machine learn…"
      ]
     },
     "metadata": {},
     "output_type": "display_data"
    },
    {
     "data": {
      "application/vnd.jupyter.widget-view+json": {
       "model_id": "3f366ff304664b93a935a5112c1e549b",
       "version_major": 2,
       "version_minor": 0
      },
      "text/plain": [
       "VBox(children=(Output(outputs=({'name': 'stdout', 'text': '2. When a computer observes, performs an action, re…"
      ]
     },
     "metadata": {},
     "output_type": "display_data"
    },
    {
     "data": {
      "application/vnd.jupyter.widget-view+json": {
       "model_id": "066722a4315445e382ec03c821a078a6",
       "version_major": 2,
       "version_minor": 0
      },
      "text/plain": [
       "VBox(children=(Output(outputs=({'name': 'stdout', 'text': '3. If the computer learns all at once, what type of…"
      ]
     },
     "metadata": {},
     "output_type": "display_data"
    },
    {
     "data": {
      "application/vnd.jupyter.widget-view+json": {
       "model_id": "8d9c674b81f248448577f95b65b51fe2",
       "version_major": 2,
       "version_minor": 0
      },
      "text/plain": [
       "VBox(children=(Output(outputs=({'name': 'stdout', 'text': '4. If the computer creates a model that represents …"
      ]
     },
     "metadata": {},
     "output_type": "display_data"
    }
   ],
   "source": [
    "if __name__ == \"__main__\":\n",
    "    display(L1P2Q1, L1P2Q2, L1P2Q3, L1P2Q4,)"
   ]
  },
  {
   "cell_type": "markdown",
   "id": "59237b93-23a1-4511-9c47-069ff58089ca",
   "metadata": {},
   "source": [
    "## Page 3"
   ]
  },
  {
   "cell_type": "code",
   "execution_count": 13,
   "id": "9e09c0eb-06d1-440a-9c2a-4ced3fa16e4e",
   "metadata": {},
   "outputs": [],
   "source": [
    "L1P3Q1 = MultipleChoice('1. Which Python package is for performing machine learning?',['pandas','matplotlib','sklearn', 'numpy'],'sklearn')\n",
    "L1P3Q2 = MultipleChoice('2. You can feed a full pandas dataset into a machine learning algorithm.',['True','False'],'False')\n",
    "L1P3Q3 = MultipleChoice('3. If you wanted to use an 80/20 split for your testing/training data, what value would you place in the test_size= argument of train_test_split()?',['.8','80','20', '.2'],'.2')\n",
    "L1P3Q4 = MultipleChoice('4. True or False? You can include string data in a machine learning model.',['True','False'],'False')"
   ]
  },
  {
   "cell_type": "code",
   "execution_count": 15,
   "id": "395b4e32-213a-432c-8570-dba7e76bc602",
   "metadata": {},
   "outputs": [
    {
     "data": {
      "application/vnd.jupyter.widget-view+json": {
       "model_id": "dbb6d2b08f4e4fa9bf75f65ca5584968",
       "version_major": 2,
       "version_minor": 0
      },
      "text/plain": [
       "VBox(children=(Output(outputs=({'name': 'stdout', 'text': '1. Which Python package is for performing machine l…"
      ]
     },
     "metadata": {},
     "output_type": "display_data"
    },
    {
     "data": {
      "application/vnd.jupyter.widget-view+json": {
       "model_id": "3385ed4a20cd48efbc5d9f582bc134bd",
       "version_major": 2,
       "version_minor": 0
      },
      "text/plain": [
       "VBox(children=(Output(outputs=({'name': 'stdout', 'text': '2. You can feed a full pandas dataset into a machin…"
      ]
     },
     "metadata": {},
     "output_type": "display_data"
    },
    {
     "data": {
      "application/vnd.jupyter.widget-view+json": {
       "model_id": "3256956ccf4443beb613b1e4e7a7b170",
       "version_major": 2,
       "version_minor": 0
      },
      "text/plain": [
       "VBox(children=(Output(outputs=({'name': 'stdout', 'text': '3. If you wanted to use an 80/20 split for your tes…"
      ]
     },
     "metadata": {},
     "output_type": "display_data"
    },
    {
     "data": {
      "application/vnd.jupyter.widget-view+json": {
       "model_id": "8e73e57f5b394e6fb846005d078a5360",
       "version_major": 2,
       "version_minor": 0
      },
      "text/plain": [
       "VBox(children=(Output(outputs=({'name': 'stdout', 'text': '4. True or False? You can include string data in a …"
      ]
     },
     "metadata": {},
     "output_type": "display_data"
    }
   ],
   "source": [
    "if __name__ == \"__main__\":\n",
    "    display(L1P3Q1, L1P3Q2, L1P3Q3, L1P3Q4)"
   ]
  },
  {
   "cell_type": "markdown",
   "id": "214526dd-72ee-40d8-a2e5-41e165dcd951",
   "metadata": {},
   "source": [
    "## Page 4"
   ]
  },
  {
   "cell_type": "code",
   "execution_count": 16,
   "id": "c8eb6a46-ef59-46c0-8adb-773a004ded82",
   "metadata": {},
   "outputs": [],
   "source": [
    "L1P4Q1 = MultipleChoice('1. What does an accuracy score of .92 mean?',['The model accurately predicts 1% of the time','The model accurately predicts 92% of the time','The model accurately predicts 8% of the time', 'The model will accurately predict 92 times'],'The model accurately predicts 92% of the time')\n",
    "L1P4Q2 = MultipleChoice('2. Given a comparison between a MAE of 12 or an MAE of 30, which indicates better model fit?',['12','30','MAE', 'MSE'],'12')\n",
    "L1P4Q3 = MultipleChoice('3. Which measure of error is the most popular?',['MAE','MSE','RMSE', 'Accuracy prediction'],'RMSE')\n",
    "L1P4Q4 = MultipleChoice('4. Which measure of error is best for real-world scenarios where you have large errors?',['MAE','MSE','RMSE', 'Accuracy prediction'],'MSE')\n"
   ]
  },
  {
   "cell_type": "code",
   "execution_count": 17,
   "id": "3adf2b8c-6d74-449d-abd7-f2ecd2cef18e",
   "metadata": {},
   "outputs": [
    {
     "data": {
      "application/vnd.jupyter.widget-view+json": {
       "model_id": "7f82602627d64cc4a8449fdea92715cf",
       "version_major": 2,
       "version_minor": 0
      },
      "text/plain": [
       "VBox(children=(Output(outputs=({'name': 'stdout', 'text': '1. What does an accuracy score of .92 mean?\\n', 'ou…"
      ]
     },
     "metadata": {},
     "output_type": "display_data"
    },
    {
     "data": {
      "application/vnd.jupyter.widget-view+json": {
       "model_id": "f6c73acc2f2648ad9f9db6fdbbc4aa1d",
       "version_major": 2,
       "version_minor": 0
      },
      "text/plain": [
       "VBox(children=(Output(outputs=({'name': 'stdout', 'text': '2. Given a comparison between a MAE of 12 or an MAE…"
      ]
     },
     "metadata": {},
     "output_type": "display_data"
    },
    {
     "data": {
      "application/vnd.jupyter.widget-view+json": {
       "model_id": "ada3376f60564c708bee48b65b8a6ff6",
       "version_major": 2,
       "version_minor": 0
      },
      "text/plain": [
       "VBox(children=(Output(outputs=({'name': 'stdout', 'text': '3. Which measure of error is the most popular?\\n', …"
      ]
     },
     "metadata": {},
     "output_type": "display_data"
    },
    {
     "data": {
      "application/vnd.jupyter.widget-view+json": {
       "model_id": "9b562e3b1e33404b849d21617c581032",
       "version_major": 2,
       "version_minor": 0
      },
      "text/plain": [
       "VBox(children=(Output(outputs=({'name': 'stdout', 'text': '4. Which measure of error is best for real-world sc…"
      ]
     },
     "metadata": {},
     "output_type": "display_data"
    }
   ],
   "source": [
    "if __name__ == \"__main__\":\n",
    "    display(L1P4Q1, L1P4Q2, L1P4Q3, L1P4Q4)"
   ]
  },
  {
   "cell_type": "markdown",
   "id": "fbd02314-2ef4-43be-aa7f-82453a99c3aa",
   "metadata": {},
   "source": [
    "## Page 5"
   ]
  },
  {
   "cell_type": "code",
   "execution_count": 32,
   "id": "d909d1fb-8f00-4e28-b8ed-31c3be525a4c",
   "metadata": {},
   "outputs": [],
   "source": [
    "L1P5Q1 = MultipleChoice('1. True or False? The Microsoft researchers concluded that its more economical to perfect the learning algorithm than it was to gather more data.',['True','False'],'False')\n",
    "L1P5Q2 = MultipleChoice('2. What is it called when the model is too simple?',['Overfitting','Underfitting','Irrelevant features', 'Bad data'],'Underfitting')\n",
    "L1P5Q3 = MultipleChoice('3. What is it called when you include data thats not necessary for prediction?',['Overfitting','Underfitting','Irrelevant features', 'Bad data'],'Irrelevant features')\n"
   ]
  },
  {
   "cell_type": "code",
   "execution_count": 33,
   "id": "f4a337b9-96c0-4d01-b65a-d8ef9f3cb7ef",
   "metadata": {},
   "outputs": [
    {
     "data": {
      "application/vnd.jupyter.widget-view+json": {
       "model_id": "a70bff1d73eb4e8392f5866b40774884",
       "version_major": 2,
       "version_minor": 0
      },
      "text/plain": [
       "VBox(children=(Output(outputs=({'name': 'stdout', 'text': '1. True or False? The Microsoft researchers conclud…"
      ]
     },
     "metadata": {},
     "output_type": "display_data"
    },
    {
     "data": {
      "application/vnd.jupyter.widget-view+json": {
       "model_id": "e42ce077cab947778d4eea05ff069835",
       "version_major": 2,
       "version_minor": 0
      },
      "text/plain": [
       "VBox(children=(Output(outputs=({'name': 'stdout', 'text': '2. What is it called when the model is too simple?\\…"
      ]
     },
     "metadata": {},
     "output_type": "display_data"
    },
    {
     "data": {
      "application/vnd.jupyter.widget-view+json": {
       "model_id": "9b497b4797a44e70ace3baf36659748a",
       "version_major": 2,
       "version_minor": 0
      },
      "text/plain": [
       "VBox(children=(Output(outputs=({'name': 'stdout', 'text': '3. What is it called when you include data thats no…"
      ]
     },
     "metadata": {},
     "output_type": "display_data"
    }
   ],
   "source": [
    "if __name__ == \"__main__\":\n",
    "    display(L1P5Q1, L1P5Q2, L1P5Q3)"
   ]
  },
  {
   "cell_type": "markdown",
   "id": "b678ed98-677d-4112-8f4e-f0c91cf549e1",
   "metadata": {},
   "source": [
    "## Page 6"
   ]
  },
  {
   "cell_type": "code",
   "execution_count": 27,
   "id": "b6fad58e-9379-4ed2-9367-a2e28d136422",
   "metadata": {},
   "outputs": [],
   "source": [
    "L1P6Q1 = MultipleChoice('1. Which cross validation technique creates as many folds as observations in a dataset?',['k-folds','Leave one out'],'Leave one out')\n",
    "L1P6Q2 = MultipleChoice('2. Which of the following is NOT a step in k-fold cross validation?',['Data randomization','Split the data into groups','Test and fit a model for each group', 'Eating nachos'],'Data randomization')\n"
   ]
  },
  {
   "cell_type": "code",
   "execution_count": 28,
   "id": "0d94f17b-c760-4be5-9218-79446165a41f",
   "metadata": {},
   "outputs": [
    {
     "data": {
      "application/vnd.jupyter.widget-view+json": {
       "model_id": "57815fc8b0f24a81ad54e2c725e820bf",
       "version_major": 2,
       "version_minor": 0
      },
      "text/plain": [
       "VBox(children=(Output(outputs=({'name': 'stdout', 'text': '1. Which cross validation technique creates as many…"
      ]
     },
     "metadata": {},
     "output_type": "display_data"
    },
    {
     "data": {
      "application/vnd.jupyter.widget-view+json": {
       "model_id": "0fe58f28b2b74b37a648cf37d2f53af4",
       "version_major": 2,
       "version_minor": 0
      },
      "text/plain": [
       "VBox(children=(Output(outputs=({'name': 'stdout', 'text': '2. Which of the following is NOT a step in k-fold c…"
      ]
     },
     "metadata": {},
     "output_type": "display_data"
    }
   ],
   "source": [
    "if __name__ == \"__main__\":\n",
    "    display(L1P6Q1, L1P6Q2)"
   ]
  },
  {
   "cell_type": "markdown",
   "id": "eadd1858-8196-4001-9ed2-a099b6ce3f8d",
   "metadata": {},
   "source": [
    "## Page 7"
   ]
  },
  {
   "cell_type": "code",
   "execution_count": 30,
   "id": "fee041d4-6c3c-41f9-b693-c7e09c2fe965",
   "metadata": {},
   "outputs": [],
   "source": [
    "L1P7Q1 = MultipleChoice('1. What does the following line of code do, kFold(10,True)?',['Shuffle ten iterations of the train/test data','Create ten iterations of the train/test data','Perform kFold randomly ten times', 'Perform kFold non-randomly ten times'],'Shuffle ten iterations of the train/test data')\n",
    "L1P7Q2 = MultipleChoice('2. Which function prints accuracy scores for each iteration??',['kFold()','.split()','cross_val_score()', 'train_test_split()'],'cross_val_score()')"
   ]
  },
  {
   "cell_type": "code",
   "execution_count": 31,
   "id": "3d022d30-4f19-4b95-9279-5bb9e3c4d1e0",
   "metadata": {},
   "outputs": [
    {
     "data": {
      "application/vnd.jupyter.widget-view+json": {
       "model_id": "4f87f7057eb944179e2883b20a080f91",
       "version_major": 2,
       "version_minor": 0
      },
      "text/plain": [
       "VBox(children=(Output(outputs=({'name': 'stdout', 'text': '1. What does the following line of code do, kFold(1…"
      ]
     },
     "metadata": {},
     "output_type": "display_data"
    },
    {
     "data": {
      "application/vnd.jupyter.widget-view+json": {
       "model_id": "c276ba5eb42c4a0ba250fedc37bbb944",
       "version_major": 2,
       "version_minor": 0
      },
      "text/plain": [
       "VBox(children=(Output(outputs=({'name': 'stdout', 'text': '2. Which function prints accuracy scores for each i…"
      ]
     },
     "metadata": {},
     "output_type": "display_data"
    }
   ],
   "source": [
    "if __name__ == \"__main__\":\n",
    "    display(L1P7Q1, L1P7Q2)"
   ]
  },
  {
   "cell_type": "code",
   "execution_count": null,
   "id": "05005aa1-5568-4113-8178-c70f5d54b577",
   "metadata": {},
   "outputs": [],
   "source": []
  }
 ],
 "metadata": {
  "kernelspec": {
   "display_name": "Python 3",
   "language": "python",
   "name": "python3"
  },
  "language_info": {
   "codemirror_mode": {
    "name": "ipython",
    "version": 3
   },
   "file_extension": ".py",
   "mimetype": "text/x-python",
   "name": "python",
   "nbconvert_exporter": "python",
   "pygments_lexer": "ipython3",
   "version": "3.9.7"
  }
 },
 "nbformat": 4,
 "nbformat_minor": 5
}
