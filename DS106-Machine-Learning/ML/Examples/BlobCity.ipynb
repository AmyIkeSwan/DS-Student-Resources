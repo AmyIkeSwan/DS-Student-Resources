{
 "cells": [
  {
   "cell_type": "markdown",
   "id": "9ff001f8-fb17-4170-bd36-d82391c357df",
   "metadata": {},
   "source": [
    "# Blob City"
   ]
  },
  {
   "cell_type": "markdown",
   "id": "505cb44e-158e-4010-a6e4-b065a3dcbf6f",
   "metadata": {},
   "source": [
    "https://github.com/blobcity/ai-seed"
   ]
  }
 ],
 "metadata": {
  "kernelspec": {
   "display_name": "Python 3 (ipykernel)",
   "language": "python",
   "name": "python3"
  },
  "language_info": {
   "codemirror_mode": {
    "name": "ipython",
    "version": 3
   },
   "file_extension": ".py",
   "mimetype": "text/x-python",
   "name": "python",
   "nbconvert_exporter": "python",
   "pygments_lexer": "ipython3",
   "version": "3.9.7"
  }
 },
 "nbformat": 4,
 "nbformat_minor": 5
}
