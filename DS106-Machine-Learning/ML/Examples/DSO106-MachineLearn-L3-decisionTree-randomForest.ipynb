{
 "cells": [
  {
   "cell_type": "markdown",
   "id": "fa36cc4a",
   "metadata": {},
   "source": [
    "# DSO106 MachineLearn L3 - decisionTree randomForest"
   ]
  },
  {
   "cell_type": "markdown",
   "id": "a408f559",
   "metadata": {},
   "source": [
    "## Decision Trees and Random Forests"
   ]
  },
  {
   "cell_type": "markdown",
   "id": "324a4847",
   "metadata": {},
   "source": [
    "## Import packages"
   ]
  },
  {
   "cell_type": "code",
   "execution_count": null,
   "id": "8f5724f5",
   "metadata": {},
   "outputs": [],
   "source": [
    "import pandas as pd\n",
    "import numpy as np\n",
    "import matplotlib.pyplot as plt\n",
    "import seaborn as sns\n",
    "%matplotlib inline\n",
    "from sklearn.model_selection import train_test_split\n",
    "from sklearn.tree import DecisionTreeClassifier\n",
    "from sklearn.metrics import classification_report, confusion_matrix, accuracy_score"
   ]
  },
  {
   "cell_type": "markdown",
   "id": "eefc9a43",
   "metadata": {},
   "source": [
    "## Load in data"
   ]
  },
  {
   "cell_type": "code",
   "execution_count": null,
   "id": "a590ed63",
   "metadata": {},
   "outputs": [],
   "source": [
    "iris = sns.load_dataset('iris')"
   ]
  },
  {
   "cell_type": "markdown",
   "id": "c834b077",
   "metadata": {},
   "source": [
    "# Decision Trees In Python"
   ]
  },
  {
   "cell_type": "markdown",
   "id": "5a68c282",
   "metadata": {},
   "source": [
    "## Data Wrangling"
   ]
  },
  {
   "cell_type": "code",
   "execution_count": null,
   "id": "2f58deb6",
   "metadata": {},
   "outputs": [],
   "source": [
    "x = iris.drop('species', axis=1)\n",
    "y = iris['species']"
   ]
  },
  {
   "cell_type": "markdown",
   "id": "cca54cb7",
   "metadata": {},
   "source": [
    "## Train Test Split"
   ]
  },
  {
   "cell_type": "code",
   "execution_count": null,
   "id": "78b1ac7a",
   "metadata": {},
   "outputs": [],
   "source": [
    "x_train, x_test, y_train, y_test = train_test_split(x,y, test_size=0.3, random_state=76)"
   ]
  },
  {
   "cell_type": "markdown",
   "id": "d7a850ff",
   "metadata": {},
   "source": [
    "## Create the Initial Decision Tree"
   ]
  },
  {
   "cell_type": "code",
   "execution_count": null,
   "id": "c5f0237e",
   "metadata": {},
   "outputs": [],
   "source": [
    "decisionTree = DecisionTreeClassifier(random_state=76)\n",
    "decisionTree.fit(x_train, y_train)"
   ]
  },
  {
   "cell_type": "markdown",
   "id": "e53dd2ca",
   "metadata": {},
   "source": [
    "### Assess the Model"
   ]
  },
  {
   "cell_type": "code",
   "execution_count": null,
   "id": "1b8ba09f",
   "metadata": {},
   "outputs": [],
   "source": [
    "treePredictions = decisionTree.predict(x_test)"
   ]
  },
  {
   "cell_type": "code",
   "execution_count": null,
   "id": "04be2ad3",
   "metadata": {},
   "outputs": [],
   "source": [
    "print(confusion_matrix(y_test, treePredictions))"
   ]
  },
  {
   "cell_type": "markdown",
   "id": "f777a070",
   "metadata": {},
   "source": [
    "### Seeing how well the model fits the data"
   ]
  },
  {
   "cell_type": "code",
   "execution_count": null,
   "id": "99c9c9a9",
   "metadata": {},
   "outputs": [],
   "source": [
    "print(classification_report(y_test, treePredictions))"
   ]
  },
  {
   "cell_type": "markdown",
   "id": "cc26e79c",
   "metadata": {},
   "source": [
    "# Random Forests in Python"
   ]
  },
  {
   "cell_type": "code",
   "execution_count": null,
   "id": "0fa21328",
   "metadata": {},
   "outputs": [],
   "source": [
    "forest = RandomForestClassifier(n_estimators=500, random_state=76)\n",
    "forest.fit(x_train, y_train)"
   ]
  },
  {
   "cell_type": "markdown",
   "id": "47fa7771",
   "metadata": {},
   "source": [
    "# Code for the Random Forest Classifier"
   ]
  },
  {
   "cell_type": "code",
   "execution_count": null,
   "id": "0cdb6b50",
   "metadata": {},
   "outputs": [],
   "source": [
    "from sklearn.ensemble import RandomForestClassifier"
   ]
  },
  {
   "cell_type": "markdown",
   "id": "3b913f58",
   "metadata": {},
   "source": [
    "# Now it will work"
   ]
  },
  {
   "cell_type": "code",
   "execution_count": null,
   "id": "1fc3fccc",
   "metadata": {},
   "outputs": [],
   "source": [
    "forest = RandomForestClassifier(n_estimators=500, random_state=76)\n",
    "forest.fit(x_train, y_train)"
   ]
  },
  {
   "cell_type": "markdown",
   "id": "c455a055",
   "metadata": {},
   "source": [
    "# Next is to create predictions and run a report on the model"
   ]
  },
  {
   "cell_type": "code",
   "execution_count": null,
   "id": "1a4a318a",
   "metadata": {},
   "outputs": [],
   "source": [
    "forestPredictions = forest.predict(x_test)\n",
    "print(confusion_matrix(y_test, forestPredictions))\n",
    "print(classification_report(y_test, forestPredictions))"
   ]
  },
  {
   "cell_type": "markdown",
   "id": "51364f6f",
   "metadata": {},
   "source": [
    "# Model is 96% percent accurate"
   ]
  },
  {
   "cell_type": "markdown",
   "id": "b317bfb8",
   "metadata": {},
   "source": [
    "import pandas as pd\n",
    "import numpy as np\n",
    "import matplotlib.pyplot as plt\n",
    "import seaborn as sns\n",
    "%matplotlib inline\n",
    "from sklearn.ensemble import RandomForestClassifier\n",
    "from sklearn.model_selection import train_test_split\n",
    "from sklearn.metrics import classification_report, confusion_matrix"
   ]
  },
  {
   "cell_type": "markdown",
   "id": "a7cbe8a3",
   "metadata": {},
   "source": [
    "# #Hyperparameter Tuning"
   ]
  },
  {
   "cell_type": "code",
   "execution_count": null,
   "id": "39d618b4",
   "metadata": {},
   "outputs": [],
   "source": [
    "from sklearn.model_selection import RandomizedSearchCV"
   ]
  },
  {
   "cell_type": "code",
   "execution_count": null,
   "id": "28267999",
   "metadata": {},
   "outputs": [],
   "source": [
    "n_estimators_array = [1, 4, 5, 8, 10, 20, 50, 75, 100, 250, 500]\n",
    "results = []\n",
    "for n in n_estimators_array:\n",
    "    forest = RandomForestClassifier(n_estimators=n, random_state=76)\n",
    "    forest.fit(x_train, y_train)\n",
    "    result = accuracy_score(y_test, forest.predict(x_test))\n",
    "    results.append(result) \n",
    "    print(n, ':', result)"
   ]
  },
  {
   "cell_type": "markdown",
   "id": "e42be4e2",
   "metadata": {},
   "source": [
    "## The highest accuracy occurs at 10 Tree Random Forest"
   ]
  },
  {
   "cell_type": "code",
   "execution_count": null,
   "id": "85438a29",
   "metadata": {},
   "outputs": [],
   "source": [
    "plt.plot(n_estimators_array, results)"
   ]
  },
  {
   "cell_type": "markdown",
   "id": "890f7309",
   "metadata": {},
   "source": [
    "# Tuning remaining 3"
   ]
  },
  {
   "cell_type": "code",
   "execution_count": null,
   "id": "a1c4215d",
   "metadata": {},
   "outputs": [],
   "source": [
    "# Number of features to consider at every split\n",
    "max_features = ['auto', None, 'log2']\n",
    "# Maximum number of levels in tree\n",
    "max_depth = [10, 20, 30, 40, 50, 60, 70, 80, 90, None]\n",
    "# Minimum number of samples required at each leaf node\n",
    "min_samples_leaf = [1, 2, 4]\n",
    "# Method of selecting samples for training each tree\n",
    "random_grid = {'max_features': max_features,\n",
    "               'max_depth': max_depth,\n",
    "               'min_samples_leaf': min_samples_leaf}\n",
    "print(random_grid)"
   ]
  },
  {
   "cell_type": "code",
   "execution_count": null,
   "id": "719344c9",
   "metadata": {},
   "outputs": [],
   "source": [
    "rf = RandomForestClassifier(n_estimators=10)\n",
    "rf_random = RandomizedSearchCV(estimator = rf, param_distributions = random_grid, n_iter = 90, cv = 3, random_state=42)"
   ]
  },
  {
   "cell_type": "code",
   "execution_count": null,
   "id": "f9398e31",
   "metadata": {},
   "outputs": [],
   "source": [
    "rf_random.fit(x_train, y_train)"
   ]
  },
  {
   "cell_type": "code",
   "execution_count": null,
   "id": "908ec145",
   "metadata": {},
   "outputs": [],
   "source": [
    "rf_random.best_params_"
   ]
  },
  {
   "cell_type": "code",
   "execution_count": null,
   "id": "ac16f149",
   "metadata": {},
   "outputs": [],
   "source": [
    "forest = RandomForestClassifier(n_estimators=10, min_samples_leaf=4, max_features=\"auto\", max_depth=30)\n",
    "forest.fit(x_train, y_train)"
   ]
  },
  {
   "cell_type": "code",
   "execution_count": null,
   "id": "47db419b",
   "metadata": {},
   "outputs": [],
   "source": [
    "forestPredictions = forest.predict(x_test)\n",
    "print(confusion_matrix(y_test, forestPredictions))\n",
    "print(classification_report(y_test, forestPredictions))"
   ]
  },
  {
   "cell_type": "markdown",
   "id": "43d1afd6",
   "metadata": {},
   "source": [
    "# Feature Importance in Python"
   ]
  },
  {
   "cell_type": "code",
   "execution_count": null,
   "id": "7cd0ed8d",
   "metadata": {},
   "outputs": [],
   "source": [
    "feature_importances = pd.Series(forest.feature_importances_, index=x.columns)\n",
    "feature_importances"
   ]
  },
  {
   "cell_type": "markdown",
   "id": "a59419dc",
   "metadata": {},
   "source": [
    "# Print in DESC order"
   ]
  },
  {
   "cell_type": "code",
   "execution_count": null,
   "id": "ff9b04be",
   "metadata": {},
   "outputs": [],
   "source": [
    "feature_importances.sort_values(inplace=True, ascending=False)\n",
    "print(feature_importances)"
   ]
  },
  {
   "cell_type": "code",
   "execution_count": null,
   "id": "78419ca9",
   "metadata": {
    "scrolled": true
   },
   "outputs": [],
   "source": [
    "feature_importances.plot(kind='barh', figsize=(7,6))"
   ]
  },
  {
   "cell_type": "markdown",
   "id": "c44f6237",
   "metadata": {},
   "source": [
    "# Accessing an API"
   ]
  },
  {
   "cell_type": "code",
   "execution_count": null,
   "id": "9b136b27",
   "metadata": {},
   "outputs": [],
   "source": [
    "pip install quandl"
   ]
  },
  {
   "cell_type": "code",
   "execution_count": null,
   "id": "37f39fbe",
   "metadata": {},
   "outputs": [],
   "source": [
    "import quandl"
   ]
  },
  {
   "cell_type": "code",
   "execution_count": null,
   "id": "d0db4482",
   "metadata": {},
   "outputs": [],
   "source": [
    "Alaska = quandl.get(\"FMAC/HPI_AK\")\n",
    "Alaska.head()"
   ]
  },
  {
   "cell_type": "markdown",
   "id": "5f2f8a44",
   "metadata": {},
   "source": [
    "## API allows Python to access data from a website"
   ]
  },
  {
   "cell_type": "code",
   "execution_count": null,
   "id": "87170bfc",
   "metadata": {},
   "outputs": [],
   "source": []
  },
  {
   "cell_type": "code",
   "execution_count": null,
   "id": "be3d9f54",
   "metadata": {},
   "outputs": [],
   "source": []
  },
  {
   "cell_type": "code",
   "execution_count": null,
   "id": "5f08f0d0",
   "metadata": {},
   "outputs": [],
   "source": []
  },
  {
   "cell_type": "code",
   "execution_count": null,
   "id": "063801a6",
   "metadata": {},
   "outputs": [],
   "source": []
  },
  {
   "cell_type": "code",
   "execution_count": null,
   "id": "d22f929a",
   "metadata": {},
   "outputs": [],
   "source": []
  },
  {
   "cell_type": "code",
   "execution_count": null,
   "id": "a5af8995",
   "metadata": {},
   "outputs": [],
   "source": []
  },
  {
   "cell_type": "code",
   "execution_count": null,
   "id": "5307fda6",
   "metadata": {},
   "outputs": [],
   "source": []
  },
  {
   "cell_type": "code",
   "execution_count": null,
   "id": "7d70f5a8",
   "metadata": {},
   "outputs": [],
   "source": []
  }
 ],
 "metadata": {
  "kernelspec": {
   "display_name": "Python 3 (ipykernel)",
   "language": "python",
   "name": "python3"
  },
  "language_info": {
   "codemirror_mode": {
    "name": "ipython",
    "version": 3
   },
   "file_extension": ".py",
   "mimetype": "text/x-python",
   "name": "python",
   "nbconvert_exporter": "python",
   "pygments_lexer": "ipython3",
   "version": "3.9.7"
  }
 },
 "nbformat": 4,
 "nbformat_minor": 5
}
