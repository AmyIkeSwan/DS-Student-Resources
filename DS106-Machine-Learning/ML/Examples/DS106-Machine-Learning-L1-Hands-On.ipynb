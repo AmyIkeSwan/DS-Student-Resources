{
 "cells": [
  {
   "cell_type": "markdown",
   "id": "9b523253-88db-4b73-aa2b-e042449ed0cf",
   "metadata": {},
   "source": [
    "# DS106: Machine Learning Lesson 1- Hands on"
   ]
  },
  {
   "cell_type": "code",
   "execution_count": 1,
   "id": "62bd55bd-06b6-4326-a60a-29d644c4b5a3",
   "metadata": {},
   "outputs": [],
   "source": [
    "import pandas as pd\n",
    "from sklearn.linear_model import LinearRegression\n",
    "from sklearn.model_selection import train_test_split\n",
    "import matplotlib.pyplot as plt\n",
    "%matplotlib inline\n",
    "from sklearn import metrics\n",
    "import numpy as np\n",
    "from sklearn.model_selection import KFold\n",
    "from sklearn.model_selection import cross_val_score"
   ]
  },
  {
   "cell_type": "markdown",
   "id": "d7760836",
   "metadata": {},
   "source": [
    "# import data"
   ]
  },
  {
   "cell_type": "code",
   "execution_count": 2,
   "id": "bafc7cba",
   "metadata": {},
   "outputs": [],
   "source": [
    "import seaborn as sns\n",
    "from sklearn.utils import shuffle\n",
    "Diamonds = shuffle(sns.load_dataset('diamonds'))"
   ]
  },
  {
   "cell_type": "code",
   "execution_count": 3,
   "id": "3d05a38a",
   "metadata": {},
   "outputs": [
    {
     "data": {
      "text/html": [
       "<div>\n",
       "<style scoped>\n",
       "    .dataframe tbody tr th:only-of-type {\n",
       "        vertical-align: middle;\n",
       "    }\n",
       "\n",
       "    .dataframe tbody tr th {\n",
       "        vertical-align: top;\n",
       "    }\n",
       "\n",
       "    .dataframe thead th {\n",
       "        text-align: right;\n",
       "    }\n",
       "</style>\n",
       "<table border=\"1\" class=\"dataframe\">\n",
       "  <thead>\n",
       "    <tr style=\"text-align: right;\">\n",
       "      <th></th>\n",
       "      <th>carat</th>\n",
       "      <th>cut</th>\n",
       "      <th>color</th>\n",
       "      <th>clarity</th>\n",
       "      <th>depth</th>\n",
       "      <th>table</th>\n",
       "      <th>price</th>\n",
       "      <th>x</th>\n",
       "      <th>y</th>\n",
       "      <th>z</th>\n",
       "    </tr>\n",
       "  </thead>\n",
       "  <tbody>\n",
       "    <tr>\n",
       "      <th>21321</th>\n",
       "      <td>1.51</td>\n",
       "      <td>Ideal</td>\n",
       "      <td>F</td>\n",
       "      <td>SI2</td>\n",
       "      <td>62.6</td>\n",
       "      <td>55.0</td>\n",
       "      <td>9471</td>\n",
       "      <td>7.39</td>\n",
       "      <td>7.35</td>\n",
       "      <td>4.61</td>\n",
       "    </tr>\n",
       "    <tr>\n",
       "      <th>20418</th>\n",
       "      <td>1.06</td>\n",
       "      <td>Ideal</td>\n",
       "      <td>F</td>\n",
       "      <td>VVS2</td>\n",
       "      <td>61.1</td>\n",
       "      <td>57.0</td>\n",
       "      <td>8776</td>\n",
       "      <td>6.62</td>\n",
       "      <td>6.57</td>\n",
       "      <td>4.03</td>\n",
       "    </tr>\n",
       "    <tr>\n",
       "      <th>44639</th>\n",
       "      <td>0.54</td>\n",
       "      <td>Ideal</td>\n",
       "      <td>E</td>\n",
       "      <td>VS2</td>\n",
       "      <td>61.7</td>\n",
       "      <td>55.0</td>\n",
       "      <td>1609</td>\n",
       "      <td>5.23</td>\n",
       "      <td>5.20</td>\n",
       "      <td>3.22</td>\n",
       "    </tr>\n",
       "    <tr>\n",
       "      <th>28653</th>\n",
       "      <td>0.33</td>\n",
       "      <td>Very Good</td>\n",
       "      <td>E</td>\n",
       "      <td>VS2</td>\n",
       "      <td>60.6</td>\n",
       "      <td>58.0</td>\n",
       "      <td>675</td>\n",
       "      <td>4.45</td>\n",
       "      <td>4.49</td>\n",
       "      <td>2.71</td>\n",
       "    </tr>\n",
       "    <tr>\n",
       "      <th>20420</th>\n",
       "      <td>1.52</td>\n",
       "      <td>Good</td>\n",
       "      <td>I</td>\n",
       "      <td>VS2</td>\n",
       "      <td>63.3</td>\n",
       "      <td>61.0</td>\n",
       "      <td>8778</td>\n",
       "      <td>7.23</td>\n",
       "      <td>7.27</td>\n",
       "      <td>4.59</td>\n",
       "    </tr>\n",
       "  </tbody>\n",
       "</table>\n",
       "</div>"
      ],
      "text/plain": [
       "       carat        cut color clarity  depth  table  price     x     y     z\n",
       "21321   1.51      Ideal     F     SI2   62.6   55.0   9471  7.39  7.35  4.61\n",
       "20418   1.06      Ideal     F    VVS2   61.1   57.0   8776  6.62  6.57  4.03\n",
       "44639   0.54      Ideal     E     VS2   61.7   55.0   1609  5.23  5.20  3.22\n",
       "28653   0.33  Very Good     E     VS2   60.6   58.0    675  4.45  4.49  2.71\n",
       "20420   1.52       Good     I     VS2   63.3   61.0   8778  7.23  7.27  4.59"
      ]
     },
     "execution_count": 3,
     "metadata": {},
     "output_type": "execute_result"
    }
   ],
   "source": [
    "Diamonds.head()"
   ]
  },
  {
   "cell_type": "markdown",
   "id": "060e9674",
   "metadata": {},
   "source": [
    "# Goal: Use carat, cut, color, and clarity to predict the price of diamonds"
   ]
  },
  {
   "cell_type": "markdown",
   "id": "91dbc343",
   "metadata": {},
   "source": [
    "# Recode the variables to numeric"
   ]
  },
  {
   "cell_type": "code",
   "execution_count": 4,
   "id": "c25de7b8",
   "metadata": {},
   "outputs": [
    {
     "data": {
      "text/plain": [
       "Ideal        21551\n",
       "Premium      13791\n",
       "Very Good    12082\n",
       "Good          4906\n",
       "Fair          1610\n",
       "Name: cut, dtype: int64"
      ]
     },
     "execution_count": 4,
     "metadata": {},
     "output_type": "execute_result"
    }
   ],
   "source": [
    "Diamonds.cut.value_counts()"
   ]
  },
  {
   "cell_type": "code",
   "execution_count": 5,
   "id": "04fba6a6",
   "metadata": {},
   "outputs": [],
   "source": [
    "def cut_recode (series):\n",
    "    if series == \"Ideal\":\n",
    "        return 0\n",
    "    if series == \"Premium\":\n",
    "        return 1\n",
    "    if series == \"Very Good\":\n",
    "        return 2\n",
    "    if series == \"Good\":\n",
    "        return 3\n",
    "    if series == \"Fair\":\n",
    "        return 4\n",
    "Diamonds['cutR'] = Diamonds['cut'].apply(cut_recode)"
   ]
  },
  {
   "cell_type": "code",
   "execution_count": 6,
   "id": "45895d92",
   "metadata": {},
   "outputs": [
    {
     "data": {
      "text/html": [
       "<div>\n",
       "<style scoped>\n",
       "    .dataframe tbody tr th:only-of-type {\n",
       "        vertical-align: middle;\n",
       "    }\n",
       "\n",
       "    .dataframe tbody tr th {\n",
       "        vertical-align: top;\n",
       "    }\n",
       "\n",
       "    .dataframe thead th {\n",
       "        text-align: right;\n",
       "    }\n",
       "</style>\n",
       "<table border=\"1\" class=\"dataframe\">\n",
       "  <thead>\n",
       "    <tr style=\"text-align: right;\">\n",
       "      <th></th>\n",
       "      <th>carat</th>\n",
       "      <th>cut</th>\n",
       "      <th>color</th>\n",
       "      <th>clarity</th>\n",
       "      <th>depth</th>\n",
       "      <th>table</th>\n",
       "      <th>price</th>\n",
       "      <th>x</th>\n",
       "      <th>y</th>\n",
       "      <th>z</th>\n",
       "      <th>cutR</th>\n",
       "    </tr>\n",
       "  </thead>\n",
       "  <tbody>\n",
       "    <tr>\n",
       "      <th>21321</th>\n",
       "      <td>1.51</td>\n",
       "      <td>Ideal</td>\n",
       "      <td>F</td>\n",
       "      <td>SI2</td>\n",
       "      <td>62.6</td>\n",
       "      <td>55.0</td>\n",
       "      <td>9471</td>\n",
       "      <td>7.39</td>\n",
       "      <td>7.35</td>\n",
       "      <td>4.61</td>\n",
       "      <td>0</td>\n",
       "    </tr>\n",
       "    <tr>\n",
       "      <th>20418</th>\n",
       "      <td>1.06</td>\n",
       "      <td>Ideal</td>\n",
       "      <td>F</td>\n",
       "      <td>VVS2</td>\n",
       "      <td>61.1</td>\n",
       "      <td>57.0</td>\n",
       "      <td>8776</td>\n",
       "      <td>6.62</td>\n",
       "      <td>6.57</td>\n",
       "      <td>4.03</td>\n",
       "      <td>0</td>\n",
       "    </tr>\n",
       "    <tr>\n",
       "      <th>44639</th>\n",
       "      <td>0.54</td>\n",
       "      <td>Ideal</td>\n",
       "      <td>E</td>\n",
       "      <td>VS2</td>\n",
       "      <td>61.7</td>\n",
       "      <td>55.0</td>\n",
       "      <td>1609</td>\n",
       "      <td>5.23</td>\n",
       "      <td>5.20</td>\n",
       "      <td>3.22</td>\n",
       "      <td>0</td>\n",
       "    </tr>\n",
       "    <tr>\n",
       "      <th>28653</th>\n",
       "      <td>0.33</td>\n",
       "      <td>Very Good</td>\n",
       "      <td>E</td>\n",
       "      <td>VS2</td>\n",
       "      <td>60.6</td>\n",
       "      <td>58.0</td>\n",
       "      <td>675</td>\n",
       "      <td>4.45</td>\n",
       "      <td>4.49</td>\n",
       "      <td>2.71</td>\n",
       "      <td>2</td>\n",
       "    </tr>\n",
       "    <tr>\n",
       "      <th>20420</th>\n",
       "      <td>1.52</td>\n",
       "      <td>Good</td>\n",
       "      <td>I</td>\n",
       "      <td>VS2</td>\n",
       "      <td>63.3</td>\n",
       "      <td>61.0</td>\n",
       "      <td>8778</td>\n",
       "      <td>7.23</td>\n",
       "      <td>7.27</td>\n",
       "      <td>4.59</td>\n",
       "      <td>3</td>\n",
       "    </tr>\n",
       "  </tbody>\n",
       "</table>\n",
       "</div>"
      ],
      "text/plain": [
       "       carat        cut color clarity  depth  table  price     x     y     z  \\\n",
       "21321   1.51      Ideal     F     SI2   62.6   55.0   9471  7.39  7.35  4.61   \n",
       "20418   1.06      Ideal     F    VVS2   61.1   57.0   8776  6.62  6.57  4.03   \n",
       "44639   0.54      Ideal     E     VS2   61.7   55.0   1609  5.23  5.20  3.22   \n",
       "28653   0.33  Very Good     E     VS2   60.6   58.0    675  4.45  4.49  2.71   \n",
       "20420   1.52       Good     I     VS2   63.3   61.0   8778  7.23  7.27  4.59   \n",
       "\n",
       "      cutR  \n",
       "21321    0  \n",
       "20418    0  \n",
       "44639    0  \n",
       "28653    2  \n",
       "20420    3  "
      ]
     },
     "execution_count": 6,
     "metadata": {},
     "output_type": "execute_result"
    }
   ],
   "source": [
    "Diamonds.head()"
   ]
  },
  {
   "cell_type": "code",
   "execution_count": 7,
   "id": "8d535eb9",
   "metadata": {},
   "outputs": [
    {
     "data": {
      "text/plain": [
       "0.30    2604\n",
       "0.31    2249\n",
       "1.01    2242\n",
       "0.70    1981\n",
       "0.32    1840\n",
       "        ... \n",
       "2.64       1\n",
       "3.05       1\n",
       "2.67       1\n",
       "3.40       1\n",
       "4.13       1\n",
       "Name: carat, Length: 273, dtype: int64"
      ]
     },
     "execution_count": 7,
     "metadata": {},
     "output_type": "execute_result"
    }
   ],
   "source": [
    "Diamonds.carat.value_counts()"
   ]
  },
  {
   "cell_type": "code",
   "execution_count": 8,
   "id": "f472a809",
   "metadata": {},
   "outputs": [
    {
     "data": {
      "text/plain": [
       "G    11292\n",
       "E     9797\n",
       "F     9542\n",
       "H     8304\n",
       "D     6775\n",
       "I     5422\n",
       "J     2808\n",
       "Name: color, dtype: int64"
      ]
     },
     "execution_count": 8,
     "metadata": {},
     "output_type": "execute_result"
    }
   ],
   "source": [
    "Diamonds.color.value_counts()"
   ]
  },
  {
   "cell_type": "code",
   "execution_count": 9,
   "id": "e148b159",
   "metadata": {},
   "outputs": [],
   "source": [
    "def color_recode (series):\n",
    "    if series == \"G\":\n",
    "        return 0\n",
    "    if series == \"E\":\n",
    "        return 1\n",
    "    if series == \"F\":\n",
    "        return 2\n",
    "    if series == \"H\":\n",
    "        return 3\n",
    "    if series == \"D\":\n",
    "        return 4\n",
    "    if series == \"I\":\n",
    "        return 5\n",
    "    if series == \"J\":\n",
    "        return 6\n",
    "Diamonds['colorR'] = Diamonds['color'].apply(color_recode)"
   ]
  },
  {
   "cell_type": "code",
   "execution_count": 10,
   "id": "a3b7d9a7",
   "metadata": {},
   "outputs": [
    {
     "data": {
      "text/html": [
       "<div>\n",
       "<style scoped>\n",
       "    .dataframe tbody tr th:only-of-type {\n",
       "        vertical-align: middle;\n",
       "    }\n",
       "\n",
       "    .dataframe tbody tr th {\n",
       "        vertical-align: top;\n",
       "    }\n",
       "\n",
       "    .dataframe thead th {\n",
       "        text-align: right;\n",
       "    }\n",
       "</style>\n",
       "<table border=\"1\" class=\"dataframe\">\n",
       "  <thead>\n",
       "    <tr style=\"text-align: right;\">\n",
       "      <th></th>\n",
       "      <th>carat</th>\n",
       "      <th>cut</th>\n",
       "      <th>color</th>\n",
       "      <th>clarity</th>\n",
       "      <th>depth</th>\n",
       "      <th>table</th>\n",
       "      <th>price</th>\n",
       "      <th>x</th>\n",
       "      <th>y</th>\n",
       "      <th>z</th>\n",
       "      <th>cutR</th>\n",
       "      <th>colorR</th>\n",
       "    </tr>\n",
       "  </thead>\n",
       "  <tbody>\n",
       "    <tr>\n",
       "      <th>21321</th>\n",
       "      <td>1.51</td>\n",
       "      <td>Ideal</td>\n",
       "      <td>F</td>\n",
       "      <td>SI2</td>\n",
       "      <td>62.6</td>\n",
       "      <td>55.0</td>\n",
       "      <td>9471</td>\n",
       "      <td>7.39</td>\n",
       "      <td>7.35</td>\n",
       "      <td>4.61</td>\n",
       "      <td>0</td>\n",
       "      <td>2</td>\n",
       "    </tr>\n",
       "    <tr>\n",
       "      <th>20418</th>\n",
       "      <td>1.06</td>\n",
       "      <td>Ideal</td>\n",
       "      <td>F</td>\n",
       "      <td>VVS2</td>\n",
       "      <td>61.1</td>\n",
       "      <td>57.0</td>\n",
       "      <td>8776</td>\n",
       "      <td>6.62</td>\n",
       "      <td>6.57</td>\n",
       "      <td>4.03</td>\n",
       "      <td>0</td>\n",
       "      <td>2</td>\n",
       "    </tr>\n",
       "    <tr>\n",
       "      <th>44639</th>\n",
       "      <td>0.54</td>\n",
       "      <td>Ideal</td>\n",
       "      <td>E</td>\n",
       "      <td>VS2</td>\n",
       "      <td>61.7</td>\n",
       "      <td>55.0</td>\n",
       "      <td>1609</td>\n",
       "      <td>5.23</td>\n",
       "      <td>5.20</td>\n",
       "      <td>3.22</td>\n",
       "      <td>0</td>\n",
       "      <td>1</td>\n",
       "    </tr>\n",
       "    <tr>\n",
       "      <th>28653</th>\n",
       "      <td>0.33</td>\n",
       "      <td>Very Good</td>\n",
       "      <td>E</td>\n",
       "      <td>VS2</td>\n",
       "      <td>60.6</td>\n",
       "      <td>58.0</td>\n",
       "      <td>675</td>\n",
       "      <td>4.45</td>\n",
       "      <td>4.49</td>\n",
       "      <td>2.71</td>\n",
       "      <td>2</td>\n",
       "      <td>1</td>\n",
       "    </tr>\n",
       "    <tr>\n",
       "      <th>20420</th>\n",
       "      <td>1.52</td>\n",
       "      <td>Good</td>\n",
       "      <td>I</td>\n",
       "      <td>VS2</td>\n",
       "      <td>63.3</td>\n",
       "      <td>61.0</td>\n",
       "      <td>8778</td>\n",
       "      <td>7.23</td>\n",
       "      <td>7.27</td>\n",
       "      <td>4.59</td>\n",
       "      <td>3</td>\n",
       "      <td>5</td>\n",
       "    </tr>\n",
       "  </tbody>\n",
       "</table>\n",
       "</div>"
      ],
      "text/plain": [
       "       carat        cut color clarity  depth  table  price     x     y     z  \\\n",
       "21321   1.51      Ideal     F     SI2   62.6   55.0   9471  7.39  7.35  4.61   \n",
       "20418   1.06      Ideal     F    VVS2   61.1   57.0   8776  6.62  6.57  4.03   \n",
       "44639   0.54      Ideal     E     VS2   61.7   55.0   1609  5.23  5.20  3.22   \n",
       "28653   0.33  Very Good     E     VS2   60.6   58.0    675  4.45  4.49  2.71   \n",
       "20420   1.52       Good     I     VS2   63.3   61.0   8778  7.23  7.27  4.59   \n",
       "\n",
       "      cutR colorR  \n",
       "21321    0      2  \n",
       "20418    0      2  \n",
       "44639    0      1  \n",
       "28653    2      1  \n",
       "20420    3      5  "
      ]
     },
     "execution_count": 10,
     "metadata": {},
     "output_type": "execute_result"
    }
   ],
   "source": [
    "Diamonds.head()"
   ]
  },
  {
   "cell_type": "code",
   "execution_count": 11,
   "id": "894d6428",
   "metadata": {},
   "outputs": [
    {
     "data": {
      "text/plain": [
       "SI1     13065\n",
       "VS2     12258\n",
       "SI2      9194\n",
       "VS1      8171\n",
       "VVS2     5066\n",
       "VVS1     3655\n",
       "IF       1790\n",
       "I1        741\n",
       "Name: clarity, dtype: int64"
      ]
     },
     "execution_count": 11,
     "metadata": {},
     "output_type": "execute_result"
    }
   ],
   "source": [
    "Diamonds.clarity.value_counts()"
   ]
  },
  {
   "cell_type": "code",
   "execution_count": 12,
   "id": "ee5adebe",
   "metadata": {},
   "outputs": [],
   "source": [
    "def clarity_recode (series):\n",
    "    if series == \"SI1\":\n",
    "        return 0\n",
    "    if series == \"VS2\":\n",
    "        return 1\n",
    "    if series == \"SI2\":\n",
    "        return 2\n",
    "    if series == \"VS1\":\n",
    "        return 3\n",
    "    if series == \"VVS2\":\n",
    "        return 4\n",
    "    if series == \"VVS1\":\n",
    "        return 5\n",
    "    if series == \"IF\":\n",
    "        return 6\n",
    "    if series == \"I1\":\n",
    "        return 7\n",
    "Diamonds['clarityR'] = Diamonds['clarity'].apply(clarity_recode)"
   ]
  },
  {
   "cell_type": "code",
   "execution_count": 13,
   "id": "4385e91c",
   "metadata": {},
   "outputs": [
    {
     "data": {
      "text/html": [
       "<div>\n",
       "<style scoped>\n",
       "    .dataframe tbody tr th:only-of-type {\n",
       "        vertical-align: middle;\n",
       "    }\n",
       "\n",
       "    .dataframe tbody tr th {\n",
       "        vertical-align: top;\n",
       "    }\n",
       "\n",
       "    .dataframe thead th {\n",
       "        text-align: right;\n",
       "    }\n",
       "</style>\n",
       "<table border=\"1\" class=\"dataframe\">\n",
       "  <thead>\n",
       "    <tr style=\"text-align: right;\">\n",
       "      <th></th>\n",
       "      <th>carat</th>\n",
       "      <th>cut</th>\n",
       "      <th>color</th>\n",
       "      <th>clarity</th>\n",
       "      <th>depth</th>\n",
       "      <th>table</th>\n",
       "      <th>price</th>\n",
       "      <th>x</th>\n",
       "      <th>y</th>\n",
       "      <th>z</th>\n",
       "      <th>cutR</th>\n",
       "      <th>colorR</th>\n",
       "      <th>clarityR</th>\n",
       "    </tr>\n",
       "  </thead>\n",
       "  <tbody>\n",
       "    <tr>\n",
       "      <th>21321</th>\n",
       "      <td>1.51</td>\n",
       "      <td>Ideal</td>\n",
       "      <td>F</td>\n",
       "      <td>SI2</td>\n",
       "      <td>62.6</td>\n",
       "      <td>55.0</td>\n",
       "      <td>9471</td>\n",
       "      <td>7.39</td>\n",
       "      <td>7.35</td>\n",
       "      <td>4.61</td>\n",
       "      <td>0</td>\n",
       "      <td>2</td>\n",
       "      <td>2</td>\n",
       "    </tr>\n",
       "    <tr>\n",
       "      <th>20418</th>\n",
       "      <td>1.06</td>\n",
       "      <td>Ideal</td>\n",
       "      <td>F</td>\n",
       "      <td>VVS2</td>\n",
       "      <td>61.1</td>\n",
       "      <td>57.0</td>\n",
       "      <td>8776</td>\n",
       "      <td>6.62</td>\n",
       "      <td>6.57</td>\n",
       "      <td>4.03</td>\n",
       "      <td>0</td>\n",
       "      <td>2</td>\n",
       "      <td>4</td>\n",
       "    </tr>\n",
       "    <tr>\n",
       "      <th>44639</th>\n",
       "      <td>0.54</td>\n",
       "      <td>Ideal</td>\n",
       "      <td>E</td>\n",
       "      <td>VS2</td>\n",
       "      <td>61.7</td>\n",
       "      <td>55.0</td>\n",
       "      <td>1609</td>\n",
       "      <td>5.23</td>\n",
       "      <td>5.20</td>\n",
       "      <td>3.22</td>\n",
       "      <td>0</td>\n",
       "      <td>1</td>\n",
       "      <td>1</td>\n",
       "    </tr>\n",
       "    <tr>\n",
       "      <th>28653</th>\n",
       "      <td>0.33</td>\n",
       "      <td>Very Good</td>\n",
       "      <td>E</td>\n",
       "      <td>VS2</td>\n",
       "      <td>60.6</td>\n",
       "      <td>58.0</td>\n",
       "      <td>675</td>\n",
       "      <td>4.45</td>\n",
       "      <td>4.49</td>\n",
       "      <td>2.71</td>\n",
       "      <td>2</td>\n",
       "      <td>1</td>\n",
       "      <td>1</td>\n",
       "    </tr>\n",
       "    <tr>\n",
       "      <th>20420</th>\n",
       "      <td>1.52</td>\n",
       "      <td>Good</td>\n",
       "      <td>I</td>\n",
       "      <td>VS2</td>\n",
       "      <td>63.3</td>\n",
       "      <td>61.0</td>\n",
       "      <td>8778</td>\n",
       "      <td>7.23</td>\n",
       "      <td>7.27</td>\n",
       "      <td>4.59</td>\n",
       "      <td>3</td>\n",
       "      <td>5</td>\n",
       "      <td>1</td>\n",
       "    </tr>\n",
       "  </tbody>\n",
       "</table>\n",
       "</div>"
      ],
      "text/plain": [
       "       carat        cut color clarity  depth  table  price     x     y     z  \\\n",
       "21321   1.51      Ideal     F     SI2   62.6   55.0   9471  7.39  7.35  4.61   \n",
       "20418   1.06      Ideal     F    VVS2   61.1   57.0   8776  6.62  6.57  4.03   \n",
       "44639   0.54      Ideal     E     VS2   61.7   55.0   1609  5.23  5.20  3.22   \n",
       "28653   0.33  Very Good     E     VS2   60.6   58.0    675  4.45  4.49  2.71   \n",
       "20420   1.52       Good     I     VS2   63.3   61.0   8778  7.23  7.27  4.59   \n",
       "\n",
       "      cutR colorR clarityR  \n",
       "21321    0      2        2  \n",
       "20418    0      2        4  \n",
       "44639    0      1        1  \n",
       "28653    2      1        1  \n",
       "20420    3      5        1  "
      ]
     },
     "execution_count": 13,
     "metadata": {},
     "output_type": "execute_result"
    }
   ],
   "source": [
    "Diamonds.head()"
   ]
  },
  {
   "cell_type": "markdown",
   "id": "25c5bceb",
   "metadata": {},
   "source": [
    "# X & Y"
   ]
  },
  {
   "cell_type": "code",
   "execution_count": 14,
   "id": "affa2d13",
   "metadata": {},
   "outputs": [],
   "source": [
    "x = Diamonds[['cutR', 'carat', 'colorR', 'clarityR']]\n",
    "y = Diamonds['price']"
   ]
  },
  {
   "cell_type": "markdown",
   "id": "52a75a7f",
   "metadata": {},
   "source": [
    "# Train Test Split"
   ]
  },
  {
   "cell_type": "code",
   "execution_count": 15,
   "id": "e9c6b110",
   "metadata": {},
   "outputs": [],
   "source": [
    "x_train, x_test, y_train, y_test = train_test_split(x,y, test_size = .4, random_state=101)"
   ]
  },
  {
   "cell_type": "code",
   "execution_count": 16,
   "id": "054a2788",
   "metadata": {},
   "outputs": [
    {
     "name": "stdout",
     "output_type": "stream",
     "text": [
      "(32364, 4) (32364,)\n",
      "(21576, 4) (21576,)\n"
     ]
    }
   ],
   "source": [
    "print(x_train.shape, y_train.shape)\n",
    "print(x_test.shape, y_test.shape)"
   ]
  },
  {
   "cell_type": "markdown",
   "id": "5f4bd02e",
   "metadata": {},
   "source": [
    "# Linear Model"
   ]
  },
  {
   "cell_type": "code",
   "execution_count": 17,
   "id": "c57e44e3",
   "metadata": {},
   "outputs": [
    {
     "data": {
      "text/plain": [
       "LinearRegression()"
      ]
     },
     "execution_count": 17,
     "metadata": {},
     "output_type": "execute_result"
    }
   ],
   "source": [
    "lm = LinearRegression()\n",
    "lm.fit(x_train, y_train)"
   ]
  },
  {
   "cell_type": "markdown",
   "id": "62dd29c2",
   "metadata": {},
   "source": [
    "# Examining the Predictions"
   ]
  },
  {
   "cell_type": "code",
   "execution_count": 18,
   "id": "61e409bb",
   "metadata": {},
   "outputs": [
    {
     "data": {
      "text/plain": [
       "array([2556.17401329, 6485.14684615,  406.70550394, ..., 2406.72358943,\n",
       "       1192.93959528, 1227.00970414])"
      ]
     },
     "execution_count": 18,
     "metadata": {},
     "output_type": "execute_result"
    }
   ],
   "source": [
    "predictions = lm.predict(x_test)\n",
    "predictions"
   ]
  },
  {
   "cell_type": "markdown",
   "id": "1de36618",
   "metadata": {},
   "source": [
    "# Graph y_test against the predictors"
   ]
  },
  {
   "cell_type": "code",
   "execution_count": 19,
   "id": "be882982",
   "metadata": {},
   "outputs": [
    {
     "data": {
      "text/plain": [
       "<matplotlib.collections.PathCollection at 0x176c9f7f0>"
      ]
     },
     "execution_count": 19,
     "metadata": {},
     "output_type": "execute_result"
    },
    {
     "data": {
      "image/png": "[encoded data removed]",
      "text/plain": [
       "<Figure size 432x288 with 1 Axes>"
      ]
     },
     "metadata": {
      "needs_background": "light"
     },
     "output_type": "display_data"
    }
   ],
   "source": [
    "plt.scatter(y_test, predictions)"
   ]
  },
  {
   "cell_type": "markdown",
   "id": "a828819d",
   "metadata": {},
   "source": [
    "# Accuracy Score"
   ]
  },
  {
   "cell_type": "code",
   "execution_count": 20,
   "id": "6ddf3b49",
   "metadata": {},
   "outputs": [
    {
     "name": "stdout",
     "output_type": "stream",
     "text": [
      "Score: 0.8677091657557514\n"
     ]
    }
   ],
   "source": [
    "print(\"Score:\", lm.score(x_test, y_test))"
   ]
  },
  {
   "cell_type": "markdown",
   "id": "ef97f441",
   "metadata": {},
   "source": [
    "# This model predicts the price of diamonds 86.5% of the time"
   ]
  },
  {
   "cell_type": "markdown",
   "id": "78b566c3",
   "metadata": {},
   "source": [
    "# Examining the Error"
   ]
  },
  {
   "cell_type": "markdown",
   "id": "045464eb",
   "metadata": {},
   "source": [
    "# Mean Absolute Error"
   ]
  },
  {
   "cell_type": "code",
   "execution_count": 21,
   "id": "1e06214d",
   "metadata": {},
   "outputs": [
    {
     "data": {
      "text/plain": [
       "946.6505124053449"
      ]
     },
     "execution_count": 21,
     "metadata": {},
     "output_type": "execute_result"
    }
   ],
   "source": [
    "metrics.mean_absolute_error(y_test, predictions)"
   ]
  },
  {
   "cell_type": "markdown",
   "id": "cbcf21ef",
   "metadata": {},
   "source": [
    "# Mean Squared Error"
   ]
  },
  {
   "cell_type": "code",
   "execution_count": 22,
   "id": "67715440",
   "metadata": {},
   "outputs": [
    {
     "data": {
      "text/plain": [
       "2132993.106789253"
      ]
     },
     "execution_count": 22,
     "metadata": {},
     "output_type": "execute_result"
    }
   ],
   "source": [
    "metrics.mean_squared_error(y_test, predictions)"
   ]
  },
  {
   "cell_type": "markdown",
   "id": "f2f4a38b",
   "metadata": {},
   "source": [
    "# Root Mean Squared Error"
   ]
  },
  {
   "cell_type": "code",
   "execution_count": 23,
   "id": "d91b7b9d",
   "metadata": {},
   "outputs": [
    {
     "data": {
      "text/plain": [
       "1460.477013440901"
      ]
     },
     "execution_count": 23,
     "metadata": {},
     "output_type": "execute_result"
    }
   ],
   "source": [
    "np.sqrt(metrics.mean_squared_error(y_test, predictions))"
   ]
  },
  {
   "cell_type": "markdown",
   "id": "b41a04ca",
   "metadata": {},
   "source": [
    "# K-fold cross validation"
   ]
  },
  {
   "cell_type": "code",
   "execution_count": 28,
   "id": "610f0744",
   "metadata": {},
   "outputs": [
    {
     "name": "stdout",
     "output_type": "stream",
     "text": [
      "train: [    0     1     4 ... 53937 53938 53939], test: [    2     3     8 ... 53932 53934 53935]\n",
      "train: [    1     2     3 ... 53935 53938 53939], test: [    0     4     6 ... 53933 53936 53937]\n",
      "train: [    0     2     3 ... 53935 53936 53937], test: [    1     5     9 ... 53931 53938 53939]\n"
     ]
    }
   ],
   "source": [
    "#class sklearn.model_selection.KFold(n_splits=5, *, shuffle=False, random_state=None)[source]¶\n",
    "kfold = KFold(n_splits= 3, shuffle=True, random_state=1)\n",
    "for train, test in kfold.split(x,y):\n",
    "    print('train: %s, test: %s' % (train,test))"
   ]
  },
  {
   "cell_type": "code",
   "execution_count": 29,
   "id": "4d1ac7f6",
   "metadata": {},
   "outputs": [
    {
     "name": "stdout",
     "output_type": "stream",
     "text": [
      "[0.86662717 0.86415095 0.86100751]\n"
     ]
    }
   ],
   "source": [
    "print(cross_val_score(lm, x,y, cv=3))"
   ]
  },
  {
   "cell_type": "code",
   "execution_count": null,
   "id": "3e39eec8",
   "metadata": {},
   "outputs": [],
   "source": []
  },
  {
   "cell_type": "code",
   "execution_count": null,
   "id": "65b4b2fa",
   "metadata": {},
   "outputs": [],
   "source": []
  },
  {
   "cell_type": "code",
   "execution_count": null,
   "id": "4ca3d6b3",
   "metadata": {},
   "outputs": [],
   "source": []
  },
  {
   "cell_type": "code",
   "execution_count": null,
   "id": "c79c9522",
   "metadata": {},
   "outputs": [],
   "source": []
  },
  {
   "cell_type": "code",
   "execution_count": null,
   "id": "be346f5f",
   "metadata": {},
   "outputs": [],
   "source": []
  }
 ],
 "metadata": {
  "kernelspec": {
   "display_name": "Python 3 (ipykernel)",
   "language": "python",
   "name": "python3"
  },
  "language_info": {
   "codemirror_mode": {
    "name": "ipython",
    "version": 3
   },
   "file_extension": ".py",
   "mimetype": "text/x-python",
   "name": "python",
   "nbconvert_exporter": "python",
   "pygments_lexer": "ipython3",
   "version": "3.9.9"
  }
 },
 "nbformat": 4,
 "nbformat_minor": 5
}
