{
 "cells": [
  {
   "cell_type": "markdown",
   "id": "6ffcfe36-3354-48d3-a3eb-4a3eb2549c49",
   "metadata": {},
   "source": [
    "<img src=\"https://numpy.org/doc/stable/_static/numpylogo.svg\" align=\"left\" alt=\"Python image\" width = \"300\">"
   ]
  },
  {
   "cell_type": "markdown",
   "id": "dcf4ae3c-417d-48e4-8652-7740e4e0b26d",
   "metadata": {
    "tags": []
   },
   "source": [
    "# Linear Algebra Basics using Numpy\n",
    "\n",
    "- [Jason Brownlee's Linear Algebra Cheat Sheet for Machine Learning](https://machinelearningmastery.com/linear-algebra-cheat-sheet-for-machine-learning/)\n",
    "- [Ivan Savov's Linear algebra explained in four pages](https://minireference.com/static/tutorials/linear_algebra_in_4_pages.pdf)\n",
    "- [Numpy Linear Algebra](https://numpy.org/doc/stable/reference/routines.linalg.html)\n",
    "- [Numpy Statistics](https://numpy.org/doc/stable/reference/routines.statistics.html)\n",
    "- [Linear Algebra Cheet Sheet](https://github.com/scalanlp/breeze/wiki/Linear-Algebra-Cheat-Sheet)\n"
   ]
  },
  {
   "cell_type": "markdown",
   "id": "e5185454-dbe1-4229-94cb-c4cb403cb9a5",
   "metadata": {
    "tags": []
   },
   "source": [
    "## 1. Arrays\n",
    "There are many ways to create NumPy arrays."
   ]
  },
  {
   "cell_type": "code",
   "execution_count": 5,
   "id": "57d7bb81-a2d3-4abe-ad13-9e3ed9a4d5f3",
   "metadata": {},
   "outputs": [
    {
     "data": {
      "text/plain": [
       "array([[1, 2, 3],\n",
       "       [1, 2, 3],\n",
       "       [1, 2, 3]])"
      ]
     },
     "execution_count": 5,
     "metadata": {},
     "output_type": "execute_result"
    }
   ],
   "source": [
    "# Array\n",
    "from numpy import array\n",
    "A = array([[1,2,3],[1,2,3],[1,2,3]])\n",
    "A"
   ]
  },
  {
   "cell_type": "code",
   "execution_count": 6,
   "id": "c504cd22-8e3c-4059-a656-8bf692fddfde",
   "metadata": {},
   "outputs": [
    {
     "data": {
      "text/plain": [
       "array([[4.9e-324, 9.9e-324, 1.5e-323],\n",
       "       [4.9e-324, 9.9e-324, 1.5e-323],\n",
       "       [4.9e-324, 9.9e-324, 1.5e-323]])"
      ]
     },
     "execution_count": 6,
     "metadata": {},
     "output_type": "execute_result"
    }
   ],
   "source": [
    "# Empty\n",
    "from numpy import empty\n",
    "B = empty([3,3])\n",
    "B"
   ]
  },
  {
   "cell_type": "code",
   "execution_count": 7,
   "id": "23455110-7dde-4db6-8fa1-13bc05c8576f",
   "metadata": {},
   "outputs": [
    {
     "data": {
      "text/plain": [
       "array([[0., 0., 0., 0., 0.],\n",
       "       [0., 0., 0., 0., 0.],\n",
       "       [0., 0., 0., 0., 0.]])"
      ]
     },
     "execution_count": 7,
     "metadata": {},
     "output_type": "execute_result"
    }
   ],
   "source": [
    "# Zeros\n",
    "from numpy import zeros\n",
    "C = zeros([3,5])\n",
    "C"
   ]
  },
  {
   "cell_type": "code",
   "execution_count": 8,
   "id": "c4bcd8e1-09b5-49ca-baee-ec2b96c3eb44",
   "metadata": {},
   "outputs": [
    {
     "data": {
      "text/plain": [
       "array([[1., 1., 1., 1., 1.],\n",
       "       [1., 1., 1., 1., 1.],\n",
       "       [1., 1., 1., 1., 1.],\n",
       "       [1., 1., 1., 1., 1.],\n",
       "       [1., 1., 1., 1., 1.]])"
      ]
     },
     "execution_count": 8,
     "metadata": {},
     "output_type": "execute_result"
    }
   ],
   "source": [
    "from numpy import ones\n",
    "D = ones([5, 5])\n",
    "D"
   ]
  },
  {
   "cell_type": "markdown",
   "id": "afa04960-7be3-48dc-a3ee-ffdfc4dfb085",
   "metadata": {},
   "source": [
    "## 2. Vectors\n",
    "A vector is a list or column of scalars."
   ]
  },
  {
   "cell_type": "code",
   "execution_count": 19,
   "id": "72a09ffe-790d-4b56-8edb-ce30db42d1c2",
   "metadata": {},
   "outputs": [
    {
     "name": "stdout",
     "output_type": "stream",
     "text": [
      "<class 'list'>\n",
      "<class 'list'>\n"
     ]
    }
   ],
   "source": [
    "# Create a simple list in Python\n",
    "\n",
    "a = [0, 1, 2, 3, 4, 5, 6, 7, 8, 9]\n",
    "b = [0, 1, 2, 3, 4, 5, 6, 7, 8, 9]\n",
    "print(type(a))\n",
    "print(type(b))"
   ]
  },
  {
   "cell_type": "code",
   "execution_count": 20,
   "id": "7fb767c9-a638-413a-b909-1ccc3e7594e6",
   "metadata": {},
   "outputs": [
    {
     "name": "stdout",
     "output_type": "stream",
     "text": [
      "<class 'numpy.ndarray'>\n",
      "<class 'numpy.ndarray'>\n",
      "you'll notice that lists and vectors are really a 1 dimensional array\n"
     ]
    }
   ],
   "source": [
    "import numpy as np\n",
    "# convert the list to vectors\n",
    "vctr_a = np.array(a) \n",
    "vctr_b = np.array(b)\n",
    "print(type(vctr_a))\n",
    "print(type(vctr_b))\n",
    "print(\"you'll notice that lists and vectors are really a 1 dimensional array\")"
   ]
  },
  {
   "cell_type": "code",
   "execution_count": 21,
   "id": "c7dec261-91eb-49b9-81a1-fcda9ff4d509",
   "metadata": {},
   "outputs": [
    {
     "name": "stdout",
     "output_type": "stream",
     "text": [
      "[0, 1, 2, 3, 4, 5, 6, 7, 8, 9]\n",
      "---\n",
      "[0, 1, 2, 3, 4, 5, 6, 7, 8, 9]\n",
      "---\n",
      "[0, 1, 2, 3, 4, 5, 6, 7, 8, 9, 0, 1, 2, 3, 4, 5, 6, 7, 8, 9]\n"
     ]
    }
   ],
   "source": [
    "# list Addition\n",
    "print (a)\n",
    "print (\"---\")\n",
    "print (b)\n",
    "print (\"---\")\n",
    "c = a + b\n",
    "print(c)"
   ]
  },
  {
   "cell_type": "code",
   "execution_count": 22,
   "id": "04e841ee-0a42-4750-b5d4-f1350d5aac5d",
   "metadata": {},
   "outputs": [
    {
     "name": "stdout",
     "output_type": "stream",
     "text": [
      "[0 1 2 3 4 5 6 7 8 9]\n",
      "---\n",
      "[0 1 2 3 4 5 6 7 8 9]\n",
      "---\n",
      "[ 0  2  4  6  8 10 12 14 16 18]\n"
     ]
    }
   ],
   "source": [
    "# vector Addition\n",
    "print (vctr_a)\n",
    "print (\"---\")\n",
    "print (vctr_b)\n",
    "print (\"---\")\n",
    "vctr_c = vctr_a + vctr_b\n",
    "print(vctr_c)"
   ]
  },
  {
   "cell_type": "markdown",
   "id": "3cd39a34-dfcd-4e9d-bab4-3b539345495b",
   "metadata": {},
   "source": [
    "## What do you notice with the difference between lists and vectors?"
   ]
  },
  {
   "cell_type": "markdown",
   "id": "c4e40d55-d1cf-48ab-bad9-9796f2aa89eb",
   "metadata": {},
   "source": [
    "1. commas... \n",
    "2. by adding the two lists together it just Python just appended b onto a.\n",
    "3. with vectors the \"+\" actually ran addition on each variable in the vector/ndarray"
   ]
  },
  {
   "cell_type": "code",
   "execution_count": 23,
   "id": "8221af13-a546-4f92-81df-13da91faef3c",
   "metadata": {},
   "outputs": [
    {
     "ename": "TypeError",
     "evalue": "unsupported operand type(s) for -: 'list' and 'list'",
     "output_type": "error",
     "traceback": [
      "\u001b[0;31m---------------------------------------------------------------------------\u001b[0m",
      "\u001b[0;31mTypeError\u001b[0m                                 Traceback (most recent call last)",
      "\u001b[0;32m/var/folders/wk/6why77bn1kn0l0pkd4vd3zl00000gn/T/ipykernel_79097/618802591.py\u001b[0m in \u001b[0;36m<module>\u001b[0;34m\u001b[0m\n\u001b[1;32m      1\u001b[0m \u001b[0;31m# list Subtraction\u001b[0m\u001b[0;34m\u001b[0m\u001b[0;34m\u001b[0m\u001b[0m\n\u001b[0;32m----> 2\u001b[0;31m \u001b[0mc\u001b[0m \u001b[0;34m=\u001b[0m \u001b[0ma\u001b[0m \u001b[0;34m-\u001b[0m \u001b[0mb\u001b[0m\u001b[0;34m\u001b[0m\u001b[0;34m\u001b[0m\u001b[0m\n\u001b[0m\u001b[1;32m      3\u001b[0m \u001b[0mprint\u001b[0m \u001b[0;34m(\u001b[0m\u001b[0mc\u001b[0m\u001b[0;34m)\u001b[0m\u001b[0;34m\u001b[0m\u001b[0;34m\u001b[0m\u001b[0m\n",
      "\u001b[0;31mTypeError\u001b[0m: unsupported operand type(s) for -: 'list' and 'list'"
     ]
    }
   ],
   "source": [
    "# list Subtraction and you'll notice this won't work, and neither will the rest of the mathematical operators\n",
    "c = a - b\n",
    "print (c)"
   ]
  },
  {
   "cell_type": "code",
   "execution_count": 24,
   "id": "dd57eb60-3ff2-4dc6-902f-02128917f1da",
   "metadata": {},
   "outputs": [
    {
     "name": "stdout",
     "output_type": "stream",
     "text": [
      "[0 1 2 3 4 5 6 7 8 9]\n",
      "---\n",
      "[0 1 2 3 4 5 6 7 8 9]\n",
      "---\n",
      "[0 0 0 0 0 0 0 0 0 0]\n"
     ]
    }
   ],
   "source": [
    "# Vector Subtraction\n",
    "print (vctr_a)\n",
    "print (\"---\")\n",
    "print (vctr_b)\n",
    "print (\"---\")\n",
    "vctr_c = vctr_a - vctr_b\n",
    "print(vctr_c)"
   ]
  },
  {
   "cell_type": "code",
   "execution_count": 25,
   "id": "915b59f2-66a8-4af6-bc32-bd4cef25fa15",
   "metadata": {},
   "outputs": [
    {
     "name": "stdout",
     "output_type": "stream",
     "text": [
      "[0 1 2 3 4 5 6 7 8 9]\n",
      "---\n",
      "[0 1 2 3 4 5 6 7 8 9]\n",
      "---\n",
      "[ 0  1  4  9 16 25 36 49 64 81]\n"
     ]
    }
   ],
   "source": [
    "# Vector Multiplication\n",
    "print (vctr_a)\n",
    "print (\"---\")\n",
    "print (vctr_b)\n",
    "print (\"---\")\n",
    "vctr_c = vctr_a * vctr_b\n",
    "print(vctr_c)"
   ]
  },
  {
   "cell_type": "code",
   "execution_count": 26,
   "id": "070688a5-b394-40d2-90e8-13aa9841d95f",
   "metadata": {},
   "outputs": [
    {
     "name": "stdout",
     "output_type": "stream",
     "text": [
      "[0 1 2 3 4 5 6 7 8 9]\n",
      "---\n",
      "[0 1 2 3 4 5 6 7 8 9]\n",
      "---\n",
      "[nan  1.  1.  1.  1.  1.  1.  1.  1.  1.]\n"
     ]
    },
    {
     "name": "stderr",
     "output_type": "stream",
     "text": [
      "/var/folders/wk/6why77bn1kn0l0pkd4vd3zl00000gn/T/ipykernel_79097/1311159810.py:6: RuntimeWarning: invalid value encountered in true_divide\n",
      "  vctr_c = vctr_a / vctr_b\n"
     ]
    }
   ],
   "source": [
    "# Vector Division notice can't divide by zero\n",
    "print (vctr_a)\n",
    "print (\"---\")\n",
    "print (vctr_b)\n",
    "print (\"---\")\n",
    "vctr_c = vctr_a / vctr_b\n",
    "print(vctr_c)"
   ]
  },
  {
   "cell_type": "code",
   "execution_count": 28,
   "id": "2015ccce-1634-475b-b17b-5f406838a006",
   "metadata": {},
   "outputs": [
    {
     "name": "stdout",
     "output_type": "stream",
     "text": [
      "285\n"
     ]
    }
   ],
   "source": [
    "# Vector Dot Product\n",
    "vctr_c = vctr_a.dot(vctr_b)\n",
    "print (vctr_c)"
   ]
  },
  {
   "cell_type": "code",
   "execution_count": 29,
   "id": "492f5a8e-b2b9-46a9-8297-d72647c617c5",
   "metadata": {},
   "outputs": [
    {
     "name": "stdout",
     "output_type": "stream",
     "text": [
      "285\n"
     ]
    }
   ],
   "source": [
    "vctr_c = vctr_a @ vctr_b\n",
    "print (vctr_c)"
   ]
  },
  {
   "cell_type": "code",
   "execution_count": 31,
   "id": "7effa508-474f-4ca4-a186-2ceaad086de7",
   "metadata": {},
   "outputs": [
    {
     "name": "stdout",
     "output_type": "stream",
     "text": [
      "[0 1 2 3 4 5 6 7 8 9]\n",
      "---\n",
      "[ 0.   2.2  4.4  6.6  8.8 11.  13.2 15.4 17.6 19.8]\n"
     ]
    }
   ],
   "source": [
    "# Vector-Scalar Multiplication\n",
    "print (vctr_a)\n",
    "print (\"---\")\n",
    "vctr_c = vctr_a * 2.2\n",
    "print(vctr_c)"
   ]
  },
  {
   "cell_type": "code",
   "execution_count": 32,
   "id": "b26b431a-fdf8-4616-897b-9c4c7d2e70e8",
   "metadata": {},
   "outputs": [
    {
     "name": "stdout",
     "output_type": "stream",
     "text": [
      "37.14027463549509\n"
     ]
    }
   ],
   "source": [
    "# Vector Norm\n",
    "from numpy.linalg import norm\n",
    "l2 = norm(vctr_c)\n",
    "print(l2)"
   ]
  },
  {
   "cell_type": "markdown",
   "id": "5d505e88-5795-48af-9b8c-2551786fb9f8",
   "metadata": {},
   "source": [
    "## 3. Matrices\n",
    "A matrix is a two-dimensional array of scalars.\n",
    "\n",
    "Matrix Addition\n"
   ]
  },
  {
   "cell_type": "code",
   "execution_count": 92,
   "id": "99bb8162-79d7-4fb6-8e20-76659c10bc42",
   "metadata": {},
   "outputs": [
    {
     "data": {
      "text/plain": [
       "matrix([[1, 2],\n",
       "        [3, 4]])"
      ]
     },
     "execution_count": 92,
     "metadata": {},
     "output_type": "execute_result"
    }
   ],
   "source": [
    "#A = np.array([[0, 1, 2, 3],[4, 5, 6, 7]])\n",
    "\n",
    "A = np.matrix('1 2; 3 4')\n",
    "A"
   ]
  },
  {
   "cell_type": "code",
   "execution_count": 93,
   "id": "131ecf11-bd2d-40c1-973c-296cdd7e8065",
   "metadata": {},
   "outputs": [
    {
     "name": "stdout",
     "output_type": "stream",
     "text": [
      "[[1 2]\n",
      " [3 4]]\n"
     ]
    }
   ],
   "source": [
    "print(A)"
   ]
  },
  {
   "cell_type": "code",
   "execution_count": 94,
   "id": "dc658bb4-0f2f-4738-a304-2e04fe500e8a",
   "metadata": {},
   "outputs": [
    {
     "data": {
      "text/plain": [
       "matrix([[1, 2],\n",
       "        [3, 4]])"
      ]
     },
     "execution_count": 94,
     "metadata": {},
     "output_type": "execute_result"
    }
   ],
   "source": [
    "B = np.matrix('1 2; 3 4')\n",
    "B"
   ]
  },
  {
   "cell_type": "code",
   "execution_count": 95,
   "id": "3e7a6424-d61a-4bc6-a616-b28e9261adf8",
   "metadata": {},
   "outputs": [
    {
     "name": "stdout",
     "output_type": "stream",
     "text": [
      "[[1 2]\n",
      " [3 4]]\n"
     ]
    }
   ],
   "source": [
    "print(B)"
   ]
  },
  {
   "cell_type": "code",
   "execution_count": 96,
   "id": "a923c14e-d698-4cfe-a4bf-ebef6cc2280a",
   "metadata": {},
   "outputs": [
    {
     "name": "stdout",
     "output_type": "stream",
     "text": [
      "[[2 4]\n",
      " [6 8]]\n"
     ]
    }
   ],
   "source": [
    "# Matrix Addition\n",
    "C = A + B\n",
    "print(C)"
   ]
  },
  {
   "cell_type": "code",
   "execution_count": 97,
   "id": "cb896e6d-ea9e-494f-af34-4ebeb612a17d",
   "metadata": {},
   "outputs": [
    {
     "name": "stdout",
     "output_type": "stream",
     "text": [
      "[[0 0]\n",
      " [0 0]]\n"
     ]
    }
   ],
   "source": [
    "# Matrix Subtraction\n",
    "C = A - B\n",
    "print(C)"
   ]
  },
  {
   "cell_type": "code",
   "execution_count": 98,
   "id": "84fd7aed-a861-433a-9720-9c1639d439df",
   "metadata": {},
   "outputs": [
    {
     "name": "stdout",
     "output_type": "stream",
     "text": [
      "[[ 7 10]\n",
      " [15 22]]\n"
     ]
    }
   ],
   "source": [
    "# Matrix Multiplication (Hadamard Product)\n",
    "C = A * B\n",
    "print(C)"
   ]
  },
  {
   "cell_type": "code",
   "execution_count": 99,
   "id": "92d4ff3a-b756-458c-85ba-4f5a40fb9532",
   "metadata": {},
   "outputs": [
    {
     "name": "stdout",
     "output_type": "stream",
     "text": [
      "[[1. 1.]\n",
      " [1. 1.]]\n"
     ]
    }
   ],
   "source": [
    "# Matrix Division \n",
    "C = A / B\n",
    "print(C)"
   ]
  },
  {
   "cell_type": "code",
   "execution_count": 100,
   "id": "1cb7e5a5-e95a-4cf3-81f2-81b7a76e98d9",
   "metadata": {},
   "outputs": [
    {
     "name": "stdout",
     "output_type": "stream",
     "text": [
      "[[ 7 10]\n",
      " [15 22]]\n"
     ]
    }
   ],
   "source": [
    "# Matrix-Matrix Multiplication (Dot Product)\n",
    "C = A.dot(B)\n",
    "print(C)"
   ]
  },
  {
   "cell_type": "code",
   "execution_count": 101,
   "id": "b95e3cef-d3d7-4495-bdc9-4b2abf095619",
   "metadata": {},
   "outputs": [
    {
     "name": "stdout",
     "output_type": "stream",
     "text": [
      "2\n",
      "2\n",
      "2\n"
     ]
    }
   ],
   "source": [
    "#hmmm what is going on here?\n",
    "print(A.ndim)\n",
    "print(B.ndim)\n",
    "print(C.ndim)"
   ]
  },
  {
   "cell_type": "code",
   "execution_count": 102,
   "id": "dd6e33de-81c7-4578-bbe3-262af783f418",
   "metadata": {},
   "outputs": [
    {
     "name": "stdout",
     "output_type": "stream",
     "text": [
      "4\n",
      "4\n",
      "4\n"
     ]
    }
   ],
   "source": [
    "print(A.size)\n",
    "print(B.size)\n",
    "print(C.size)"
   ]
  },
  {
   "cell_type": "code",
   "execution_count": 103,
   "id": "9a56bff4-f0d4-432a-809e-f29e627e1c11",
   "metadata": {},
   "outputs": [
    {
     "name": "stdout",
     "output_type": "stream",
     "text": [
      "(2, 2)\n",
      "(2, 2)\n",
      "(2, 2)\n"
     ]
    }
   ],
   "source": [
    "print(A.shape)\n",
    "print(B.shape)\n",
    "print(C.shape)"
   ]
  },
  {
   "cell_type": "code",
   "execution_count": 104,
   "id": "7c4e1586-3ec6-4c93-8784-9bbc780a6114",
   "metadata": {},
   "outputs": [
    {
     "name": "stdout",
     "output_type": "stream",
     "text": [
      "<class 'numpy.matrix'>\n"
     ]
    }
   ],
   "source": [
    "print(type(A))"
   ]
  },
  {
   "cell_type": "code",
   "execution_count": 112,
   "id": "298f9e65-5377-4e61-b803-b7f162a908ca",
   "metadata": {},
   "outputs": [
    {
     "data": {
      "text/plain": [
       "matrix([[ 7, 10],\n",
       "        [15, 22]])"
      ]
     },
     "execution_count": 112,
     "metadata": {},
     "output_type": "execute_result"
    }
   ],
   "source": [
    "# Matrix-Vector Multiplication (Dot Product)\n",
    "b = np.array([[1, 2],[3, 4]])\n",
    "C = A.dot(b)\n",
    "C\n",
    "# or another way\n",
    "C = A @ b\n",
    "C"
   ]
  },
  {
   "cell_type": "code",
   "execution_count": 111,
   "id": "12e385b7-6634-4b2e-a68f-92a9c26ee9e2",
   "metadata": {},
   "outputs": [
    {
     "data": {
      "text/plain": [
       "matrix([[2.2, 4.4],\n",
       "        [6.6, 8.8]])"
      ]
     },
     "execution_count": 111,
     "metadata": {},
     "output_type": "execute_result"
    }
   ],
   "source": [
    "# Matrix-Scalar Multiplication\n",
    "C = A.dot(2.2)\n",
    "C\n",
    "# or another way \n",
    "C = A * 2.2\n",
    "C"
   ]
  },
  {
   "cell_type": "markdown",
   "id": "f5b68ded-7c29-423d-9064-a8f66e7b6f26",
   "metadata": {},
   "source": [
    "## 4. Types of Matrices\n",
    "Different types of matrices are often used as elements in broader calculations."
   ]
  },
  {
   "cell_type": "code",
   "execution_count": 116,
   "id": "781db8c5-ede6-4072-887a-abbb14df73e2",
   "metadata": {},
   "outputs": [
    {
     "data": {
      "text/plain": [
       "array([[1, 0],\n",
       "       [3, 4]])"
      ]
     },
     "execution_count": 116,
     "metadata": {},
     "output_type": "execute_result"
    }
   ],
   "source": [
    "# Triangle Matrix\n",
    "# lower\n",
    "from numpy import tril\n",
    "lower = tril(A)\n",
    "lower"
   ]
  },
  {
   "cell_type": "code",
   "execution_count": 118,
   "id": "50a9b636-984b-49dd-b791-e4339a783678",
   "metadata": {},
   "outputs": [
    {
     "data": {
      "text/plain": [
       "array([[1, 2],\n",
       "       [0, 4]])"
      ]
     },
     "execution_count": 118,
     "metadata": {},
     "output_type": "execute_result"
    }
   ],
   "source": [
    "# upper\n",
    "from numpy import triu\n",
    "upper = triu(A)\n",
    "upper"
   ]
  },
  {
   "cell_type": "code",
   "execution_count": 120,
   "id": "954e1b2f-45d4-4171-b906-e5f32a606d4d",
   "metadata": {},
   "outputs": [
    {
     "data": {
      "text/plain": [
       "array([1, 4])"
      ]
     },
     "execution_count": 120,
     "metadata": {},
     "output_type": "execute_result"
    }
   ],
   "source": [
    "# Diagonal Matrix\n",
    "from numpy import diag\n",
    "d = diag(A)\n",
    "d"
   ]
  },
  {
   "cell_type": "code",
   "execution_count": 121,
   "id": "70274bd8-59ca-46c4-bef1-c21145f2f608",
   "metadata": {},
   "outputs": [
    {
     "data": {
      "text/plain": [
       "matrix([[1, 2],\n",
       "        [3, 4]])"
      ]
     },
     "execution_count": 121,
     "metadata": {},
     "output_type": "execute_result"
    }
   ],
   "source": [
    "A"
   ]
  },
  {
   "cell_type": "code",
   "execution_count": 123,
   "id": "bc3a44a9-4a92-4935-bd46-f6176cdba66d",
   "metadata": {},
   "outputs": [
    {
     "data": {
      "text/plain": [
       "array([[1., 0., 0.],\n",
       "       [0., 1., 0.],\n",
       "       [0., 0., 1.]])"
      ]
     },
     "execution_count": 123,
     "metadata": {},
     "output_type": "execute_result"
    }
   ],
   "source": [
    "# Identity Matrix\n",
    "from numpy import eye\n",
    "I = eye(3)\n",
    "I"
   ]
  },
  {
   "cell_type": "markdown",
   "id": "ad712e8a-57f2-4328-9e6e-b839d6a78ae4",
   "metadata": {},
   "source": [
    "## 5. Matrix Operations\n",
    "Matrix operations are often used as elements in broader calculations."
   ]
  },
  {
   "cell_type": "code",
   "execution_count": 125,
   "id": "ff9f6de2-4b25-422f-997e-669866580002",
   "metadata": {},
   "outputs": [
    {
     "data": {
      "text/plain": [
       "matrix([[1, 3],\n",
       "        [2, 4]])"
      ]
     },
     "execution_count": 125,
     "metadata": {},
     "output_type": "execute_result"
    }
   ],
   "source": [
    "# Matrix Transpose\n",
    "B = A.T\n",
    "B"
   ]
  },
  {
   "cell_type": "code",
   "execution_count": 126,
   "id": "08ef323b-1f53-4849-a5ed-c55098aae246",
   "metadata": {},
   "outputs": [
    {
     "data": {
      "text/plain": [
       "matrix([[-2. ,  1. ],\n",
       "        [ 1.5, -0.5]])"
      ]
     },
     "execution_count": 126,
     "metadata": {},
     "output_type": "execute_result"
    }
   ],
   "source": [
    "# Matrix Inversion\n",
    "from numpy.linalg import inv\n",
    "B = inv(A)\n",
    "B"
   ]
  },
  {
   "cell_type": "code",
   "execution_count": 127,
   "id": "0dc192a2-07da-462f-9bab-0496d08c3154",
   "metadata": {},
   "outputs": [
    {
     "data": {
      "text/plain": [
       "5"
      ]
     },
     "execution_count": 127,
     "metadata": {},
     "output_type": "execute_result"
    }
   ],
   "source": [
    "# Matrix Trace\n",
    "from numpy import trace\n",
    "B = trace(A)\n",
    "B"
   ]
  },
  {
   "cell_type": "code",
   "execution_count": 128,
   "id": "38203dc8-2016-42c5-a725-06e7faee3dab",
   "metadata": {},
   "outputs": [
    {
     "data": {
      "text/plain": [
       "2"
      ]
     },
     "execution_count": 128,
     "metadata": {},
     "output_type": "execute_result"
    }
   ],
   "source": [
    "# Matrix Rank\n",
    "from numpy.linalg import matrix_rank\n",
    "r = matrix_rank(A)\n",
    "r"
   ]
  },
  {
   "cell_type": "markdown",
   "id": "136af322-b031-47eb-b1a6-7f90d711e105",
   "metadata": {},
   "source": [
    "## 6. Matrix Factorization\n",
    "Matrix factorization, or matrix decomposition, breaks a matrix down into its constituent parts to make other operations simpler and more numerically stable."
   ]
  },
  {
   "cell_type": "code",
   "execution_count": 130,
   "id": "7e4f4793-d65d-449e-8160-8b2f6aed7109",
   "metadata": {},
   "outputs": [
    {
     "name": "stdout",
     "output_type": "stream",
     "text": [
      "[[0. 1.]\n",
      " [1. 0.]] [[1.         0.        ]\n",
      " [0.33333333 1.        ]] [[3.         4.        ]\n",
      " [0.         0.66666667]]\n"
     ]
    }
   ],
   "source": [
    "# LU Decomposition\n",
    "from scipy.linalg import lu\n",
    "P, L, U = lu(A)\n",
    "print(P, L, U)"
   ]
  },
  {
   "cell_type": "code",
   "execution_count": 131,
   "id": "18e71966-4da5-4cef-b45a-5f5370c03f3b",
   "metadata": {},
   "outputs": [
    {
     "name": "stdout",
     "output_type": "stream",
     "text": [
      "[[-0.31622777 -0.9486833 ]\n",
      " [-0.9486833   0.31622777]] [[-3.16227766 -4.42718872]\n",
      " [ 0.         -0.63245553]]\n"
     ]
    }
   ],
   "source": [
    "# QR Decomposition\n",
    "from numpy.linalg import qr\n",
    "Q, R = qr(A, 'complete')\n",
    "print (Q, R)"
   ]
  },
  {
   "cell_type": "code",
   "execution_count": 132,
   "id": "51fc26c4-bd98-48e3-a7d3-a6d4e84fb689",
   "metadata": {},
   "outputs": [
    {
     "name": "stdout",
     "output_type": "stream",
     "text": [
      "[-0.37228132  5.37228132] [[-0.82456484 -0.41597356]\n",
      " [ 0.56576746 -0.90937671]]\n"
     ]
    }
   ],
   "source": [
    "# Eigendecomposition\n",
    "from numpy.linalg import eig\n",
    "values, vectors = eig(A)\n",
    "print(values, vectors)"
   ]
  },
  {
   "cell_type": "code",
   "execution_count": 133,
   "id": "5b8fec33-1bcc-49d5-be9c-634ec727f69a",
   "metadata": {},
   "outputs": [
    {
     "name": "stdout",
     "output_type": "stream",
     "text": [
      "[[-0.40455358 -0.9145143 ]\n",
      " [-0.9145143   0.40455358]] [5.4649857  0.36596619] [[-0.57604844 -0.81741556]\n",
      " [ 0.81741556 -0.57604844]]\n"
     ]
    }
   ],
   "source": [
    "# Singular-Value Decomposition\n",
    "from scipy.linalg import svd\n",
    "U, s, V = svd(A)\n",
    "print(U,s,V)"
   ]
  },
  {
   "cell_type": "markdown",
   "id": "eca98b90-4614-4785-9a34-4a1f0d8eec6e",
   "metadata": {},
   "source": [
    "## 7. Statistics\n",
    "Statistics summarize the contents of vectors or matrices and are often used as components in broader operations."
   ]
  },
  {
   "cell_type": "code",
   "execution_count": 135,
   "id": "ee16808b-26f9-41b3-ae17-e0e5d2f99812",
   "metadata": {},
   "outputs": [
    {
     "name": "stdout",
     "output_type": "stream",
     "text": [
      "2.5\n"
     ]
    }
   ],
   "source": [
    "# Mean\n",
    "from numpy import mean\n",
    "result = mean(b)\n",
    "print(result)"
   ]
  },
  {
   "cell_type": "code",
   "execution_count": 137,
   "id": "052bb4b9-1f13-4ec1-86c3-f6c6ace1cbd0",
   "metadata": {},
   "outputs": [
    {
     "name": "stdout",
     "output_type": "stream",
     "text": [
      "1.6666666666666667\n"
     ]
    }
   ],
   "source": [
    "# Variance\n",
    "from numpy import var\n",
    "result = var(b, ddof=1)\n",
    "print(result)"
   ]
  },
  {
   "cell_type": "code",
   "execution_count": 138,
   "id": "1a83d276-1c0e-4cf8-946d-e98715175202",
   "metadata": {},
   "outputs": [
    {
     "name": "stdout",
     "output_type": "stream",
     "text": [
      "1.2909944487358056\n"
     ]
    }
   ],
   "source": [
    "# Standard Deviation\n",
    "from numpy import std\n",
    "result = std(b, ddof=1)\n",
    "print(result)"
   ]
  },
  {
   "cell_type": "code",
   "execution_count": 140,
   "id": "012ff52d-b592-4c91-8641-2515f2f36a15",
   "metadata": {},
   "outputs": [
    {
     "name": "stdout",
     "output_type": "stream",
     "text": [
      "[[9.16666667 9.16666667]\n",
      " [9.16666667 9.16666667]]\n"
     ]
    }
   ],
   "source": [
    "# Covariance Matrix\n",
    "from numpy import cov\n",
    "sigma = cov(vctr_a, vctr_b)\n",
    "print(sigma)"
   ]
  },
  {
   "cell_type": "code",
   "execution_count": 146,
   "id": "74006c88-5956-4b57-87c2-84573df82985",
   "metadata": {},
   "outputs": [
    {
     "name": "stdout",
     "output_type": "stream",
     "text": [
      "(array([[ 1.00000000e+00,  3.00928583e-16],\n",
      "       [-4.01238111e-16,  1.00000000e+00]]), array([], dtype=float64), 2, array([5.4649857 , 0.36596619]))\n"
     ]
    }
   ],
   "source": [
    "# Linear Least Squares\n",
    "a = np.array([[1, 2],[3, 4]])\n",
    "b = np.array([[1, 2],[3, 4]])\n",
    "from numpy.linalg import lstsq\n",
    "c = lstsq(a, b, rcond=None)\n",
    "print (c)"
   ]
  },
  {
   "cell_type": "code",
   "execution_count": null,
   "id": "51526ba8-d40d-4b11-80fa-de9bd66a67d5",
   "metadata": {},
   "outputs": [],
   "source": []
  }
 ],
 "metadata": {
  "kernelspec": {
   "display_name": "Python 3 (ipykernel)",
   "language": "python",
   "name": "python3"
  },
  "language_info": {
   "codemirror_mode": {
    "name": "ipython",
    "version": 3
   },
   "file_extension": ".py",
   "mimetype": "text/x-python",
   "name": "python",
   "nbconvert_exporter": "python",
   "pygments_lexer": "ipython3",
   "version": "3.9.9"
  }
 },
 "nbformat": 4,
 "nbformat_minor": 5
}
