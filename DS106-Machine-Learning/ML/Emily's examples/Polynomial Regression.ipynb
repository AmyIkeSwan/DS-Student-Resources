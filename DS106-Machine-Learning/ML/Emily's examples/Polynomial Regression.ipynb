{
 "cells": [
  {
   "cell_type": "markdown",
   "id": "84ddbc1f-5ea8-437e-a0e1-913c323a5ad2",
   "metadata": {},
   "source": [
    "## Polynomial Regression"
   ]
  },
  {
   "cell_type": "markdown",
   "id": "76f7dd0f-d091-4a0d-84ba-6342ab97db3e",
   "metadata": {},
   "source": [
    "What is Polynomial Regression? \n",
    "\n",
    "In statistics, polynomial regression is a form of regression analysis in which the relationship between the independent variable x and the dependent variable y is modelled as an nth degree polynomial in x. Polynomial regression fits a nonlinear relationship between the value of x and the corresponding conditional mean of y, denoted E(y |x). Although polynomial regression fits a nonlinear model to the data, as a statistical estimation problem it is linear, in the sense that the regression function E(y | x) is linear in the unknown parameters that are estimated from the data. For this reason, polynomial regression is considered to be a special case of multiple linear regression. -Wikipedia"
   ]
  },
  {
   "cell_type": "markdown",
   "id": "8e1d9c62-3287-470c-9453-8e21786c5226",
   "metadata": {},
   "source": [
    "Take a look at the example below. We will create realistic-looking page speed/purchase data:"
   ]
  },
  {
   "cell_type": "code",
   "execution_count": 1,
   "id": "a7562dfc-bf35-47e0-a046-5c36fb4557f5",
   "metadata": {},
   "outputs": [
    {
     "data": {
      "text/plain": [
       "<matplotlib.collections.PathCollection at 0x140942f9160>"
      ]
     },
     "execution_count": 1,
     "metadata": {},
     "output_type": "execute_result"
    },
    {
     "data": {
      "image/png": "[encoded data removed]",
      "text/plain": [
       "<Figure size 432x288 with 1 Axes>"
      ]
     },
     "metadata": {
      "needs_background": "light"
     },
     "output_type": "display_data"
    }
   ],
   "source": [
    "%matplotlib inline\n",
    "from pylab import *\n",
    "import numpy as np\n",
    "\n",
    "np.random.seed(2)\n",
    "pageSpeeds = np.random.normal(3.0, 1.0, 1000)\n",
    "purchaseAmount = np.random.normal(50.0, 10.0, 1000) / pageSpeeds\n",
    "\n",
    "scatter(pageSpeeds, purchaseAmount)"
   ]
  },
  {
   "cell_type": "code",
   "execution_count": null,
   "id": "61e12ad2-8c64-4585-b6b0-fb8a059aa7e3",
   "metadata": {},
   "outputs": [],
   "source": []
  }
 ],
 "metadata": {
  "kernelspec": {
   "display_name": "Python 3 (ipykernel)",
   "language": "python",
   "name": "python3"
  },
  "language_info": {
   "codemirror_mode": {
    "name": "ipython",
    "version": 3
   },
   "file_extension": ".py",
   "mimetype": "text/x-python",
   "name": "python",
   "nbconvert_exporter": "python",
   "pygments_lexer": "ipython3",
   "version": "3.9.7"
  }
 },
 "nbformat": 4,
 "nbformat_minor": 5
}
