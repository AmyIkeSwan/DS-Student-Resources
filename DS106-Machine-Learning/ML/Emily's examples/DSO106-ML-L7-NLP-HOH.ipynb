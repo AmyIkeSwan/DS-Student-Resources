{
 "cells": [
  {
   "cell_type": "markdown",
   "id": "16cccb1a-f69f-4e0d-8387-4103007135d7",
   "metadata": {},
   "source": [
    "## Natural Language Processing Lesson 5 Hands-On Helper"
   ]
  },
  {
   "cell_type": "markdown",
   "id": "ed6e25f1-812e-4bf6-8177-546b423c2281",
   "metadata": {},
   "source": [
    "### Import Packages "
   ]
  },
  {
   "cell_type": "markdown",
   "id": "bdf28e39-3872-4bb0-8c65-0adbea59cea6",
   "metadata": {},
   "source": [
    " Note-If you get an error while importing these packages do a !pip install \"package\" in the cell and it will fix your error"
   ]
  },
  {
   "cell_type": "code",
   "execution_count": 1,
   "id": "beb76fe9-a2d8-470c-9a80-c356f596fa4a",
   "metadata": {},
   "outputs": [],
   "source": [
    "import requests\n",
    "from bs4 import BeautifulSoup\n",
    "import nltk\n",
    "from nltk.tokenize import RegexpTokenizer\n",
    "import matplotlib.pyplot as plt\n",
    "import seaborn as sns"
   ]
  },
  {
   "cell_type": "code",
   "execution_count": null,
   "id": "6484bee4-ddb5-4769-8ab0-c53c85308d6e",
   "metadata": {},
   "outputs": [],
   "source": [
    "import matplotlib.image as img\n",
    "\n",
    "image = img.imread('C:\\Users\\Windows\\Desktop\\Joseph.jpg')\n",
    "plt.imshow(image)\n",
    "plt.show()"
   ]
  },
  {
   "cell_type": "markdown",
   "id": "6b662500-adf4-4bac-95f0-d3c5fa89b406",
   "metadata": {},
   "source": [
    "### Read in your data"
   ]
  },
  {
   "cell_type": "code",
   "execution_count": 7,
   "id": "1950beb5-147c-4801-b8c0-218400c70bdc",
   "metadata": {},
   "outputs": [],
   "source": [
    "url = 'https://www.gutenberg.org/cache/epub/66884/pg66884-images.html'\n",
    "r = requests.get(url)"
   ]
  },
  {
   "cell_type": "code",
   "execution_count": 8,
   "id": "b198a6f4-e8fd-40da-a9e2-cf6577c7192c",
   "metadata": {},
   "outputs": [
    {
     "data": {
      "text/plain": [
       "requests.models.Response"
      ]
     },
     "execution_count": 8,
     "metadata": {},
     "output_type": "execute_result"
    }
   ],
   "source": [
    "type(r)"
   ]
  },
  {
   "cell_type": "markdown",
   "id": "aea86a54-51d2-4676-83b5-c92755505f00",
   "metadata": {},
   "source": [
    "### Converting your text to soup"
   ]
  },
  {
   "cell_type": "code",
   "execution_count": 9,
   "id": "5a17e4bc-292e-4a65-a0be-2ca88f9f06da",
   "metadata": {},
   "outputs": [
    {
     "data": {
      "text/plain": [
       "bs4.BeautifulSoup"
      ]
     },
     "execution_count": 9,
     "metadata": {},
     "output_type": "execute_result"
    }
   ],
   "source": [
    "html = r.text\n",
    "soup = BeautifulSoup(html,\"html.parser\")\n",
    "type(soup)"
   ]
  },
  {
   "cell_type": "markdown",
   "id": "896e3ca2-cca2-499e-9c8d-15577fc7e3e1",
   "metadata": {},
   "source": [
    "### Use HTML Tags to Extract Useful Info\n"
   ]
  },
  {
   "cell_type": "code",
   "execution_count": 10,
   "id": "ef8eaf39-5fc8-4893-955f-583aec753c5d",
   "metadata": {},
   "outputs": [
    {
     "data": {
      "text/plain": [
       "'Joseph and his Brethren'"
      ]
     },
     "execution_count": 10,
     "metadata": {},
     "output_type": "execute_result"
    }
   ],
   "source": [
    "soup.title.string"
   ]
  },
  {
   "cell_type": "markdown",
   "id": "fa3d3a99-500e-4177-83ef-b8913af3d59a",
   "metadata": {},
   "source": [
    "### Tokenize Data"
   ]
  },
  {
   "cell_type": "markdown",
   "id": "0639a0a4-f693-4a06-9c3c-bd3d0deb2ae7",
   "metadata": {},
   "source": [
    "The following code uses the function get_text() to retrieve your text, and then you will use the function RegexpTokenizer() to break it down into words, separated by spaces. Spaces, you might ask? Well, in the language RegEx, \\w+ is the symbol for space.\n",
    "\n",
    "Then the function tokenize() will actually perform the operation, and you will get the first five words with [:5]:"
   ]
  },
  {
   "cell_type": "code",
   "execution_count": 11,
   "id": "88901e37-565d-47ae-b166-5a4bcfeb39e4",
   "metadata": {},
   "outputs": [
    {
     "data": {
      "text/plain": [
       "['Joseph', 'and', 'his', 'Brethren', 'The']"
      ]
     },
     "execution_count": 11,
     "metadata": {},
     "output_type": "execute_result"
    }
   ],
   "source": [
    "text = soup.get_text()\n",
    "tokenizer = RegexpTokenizer('\\w+')\n",
    "tokens = tokenizer.tokenize(text)\n",
    "tokens[:5]"
   ]
  },
  {
   "cell_type": "markdown",
   "id": "c99b3236-cd26-450c-89d4-24de6357002e",
   "metadata": {},
   "source": [
    "### Remove Capitalization\n"
   ]
  },
  {
   "cell_type": "markdown",
   "id": "66743ebb-15e4-4a5b-96e9-03ab97b03920",
   "metadata": {},
   "source": [
    "The above code uses a for loop, and makes use of the function lower() to strip caps. It all goes into a dictionary named words. You can take a look at the first five entries in the dictionary like this:"
   ]
  },
  {
   "cell_type": "code",
   "execution_count": 12,
   "id": "dfb1343b-bb12-46cb-9c91-1097bcee5c0b",
   "metadata": {},
   "outputs": [],
   "source": [
    "words = []\n",
    "for word in tokens:\n",
    "    words.append(word.lower())"
   ]
  },
  {
   "cell_type": "code",
   "execution_count": 13,
   "id": "cddb647c-92c9-4424-89e2-37bf5a7d2b63",
   "metadata": {},
   "outputs": [
    {
     "data": {
      "text/plain": [
       "['joseph', 'and', 'his', 'brethren', 'the']"
      ]
     },
     "execution_count": 13,
     "metadata": {},
     "output_type": "execute_result"
    }
   ],
   "source": [
    "words[:5]"
   ]
  },
  {
   "cell_type": "markdown",
   "id": "0cfdb79e-323f-4163-8d7d-4af1f37fa27a",
   "metadata": {},
   "source": [
    "### Remove Stopwords"
   ]
  },
  {
   "cell_type": "markdown",
   "id": "dc21a773-38e9-48df-b6a9-6ba04101401b",
   "metadata": {},
   "source": [
    "These are words that do nothing for your analysis. It's best to get them out of the way! \n",
    "\n",
    "Note you may need to import nltk\n",
    "nltk.download('stopwords') before running the code below."
   ]
  },
  {
   "cell_type": "code",
   "execution_count": 17,
   "id": "d43c86b8-487e-4c97-b8ba-223f873e2c1d",
   "metadata": {},
   "outputs": [],
   "source": [
    "stopwords = nltk.corpus.stopwords.words('english')"
   ]
  },
  {
   "cell_type": "markdown",
   "id": "041f7396-2707-478b-8a03-78ba62587039",
   "metadata": {},
   "source": [
    "First 10 words"
   ]
  },
  {
   "cell_type": "code",
   "execution_count": 18,
   "id": "76848c1c-110b-46b6-9cc8-4ca6c6300e7c",
   "metadata": {},
   "outputs": [
    {
     "data": {
      "text/plain": [
       "['i', 'me', 'my', 'myself', 'we', 'our', 'ours', 'ourselves', 'you', \"you're\"]"
      ]
     },
     "execution_count": 18,
     "metadata": {},
     "output_type": "execute_result"
    }
   ],
   "source": [
    "stopwords[:10]"
   ]
  },
  {
   "cell_type": "markdown",
   "id": "6e36d607-23ae-44be-9772-cdf88bf53e16",
   "metadata": {},
   "source": [
    "The above words do not contain any emotion or valuable information for your analysis, so you need to remove them."
   ]
  },
  {
   "cell_type": "code",
   "execution_count": 19,
   "id": "48d6af26-152c-4244-a335-8ac11c043267",
   "metadata": {},
   "outputs": [],
   "source": [
    "wordsWithoutStops = []\n",
    "for word in words:\n",
    "    if word not in stopwords:\n",
    "        wordsWithoutStops.append(word)"
   ]
  },
  {
   "cell_type": "markdown",
   "id": "0e4f1d57-dd50-4e80-b05b-3951185a1dc2",
   "metadata": {},
   "source": [
    "Let's check again to see if they were removed.."
   ]
  },
  {
   "cell_type": "code",
   "execution_count": 20,
   "id": "4afcff9c-53bb-476d-9336-c3794ed7ffe0",
   "metadata": {},
   "outputs": [
    {
     "data": {
      "text/plain": [
       "['joseph', 'brethren', 'project', 'gutenberg', 'ebook']"
      ]
     },
     "execution_count": 20,
     "metadata": {},
     "output_type": "execute_result"
    }
   ],
   "source": [
    "wordsWithoutStops[:5]"
   ]
  },
  {
   "cell_type": "markdown",
   "id": "fdc098b5-9a71-4dd8-9ac1-d2a42104ad89",
   "metadata": {},
   "source": [
    "Yes, great job!"
   ]
  },
  {
   "cell_type": "markdown",
   "id": "1efe27af-c3f7-4beb-8260-7dcff317cdb1",
   "metadata": {},
   "source": [
    "### Count and Plot Words"
   ]
  },
  {
   "cell_type": "code",
   "execution_count": 21,
   "id": "ff4c5c6a-6fed-4119-beab-8f4e65962715",
   "metadata": {},
   "outputs": [
    {
     "data": {
      "image/png": "[encoded data removed]",
      "text/plain": [
       "<Figure size 432x288 with 1 Axes>"
      ]
     },
     "metadata": {},
     "output_type": "display_data"
    },
    {
     "data": {
      "text/plain": [
       "<AxesSubplot:xlabel='Samples', ylabel='Counts'>"
      ]
     },
     "execution_count": 21,
     "metadata": {},
     "output_type": "execute_result"
    }
   ],
   "source": [
    "sns.set()\n",
    "frequencyDis = nltk.FreqDist(wordsWithoutStops)\n",
    "frequencyDis.plot(25)"
   ]
  },
  {
   "cell_type": "code",
   "execution_count": null,
   "id": "88da5692-9956-4f86-a1b9-a74cc23ea26b",
   "metadata": {},
   "outputs": [],
   "source": []
  }
 ],
 "metadata": {
  "kernelspec": {
   "display_name": "Python 3 (ipykernel)",
   "language": "python",
   "name": "python3"
  },
  "language_info": {
   "codemirror_mode": {
    "name": "ipython",
    "version": 3
   },
   "file_extension": ".py",
   "mimetype": "text/x-python",
   "name": "python",
   "nbconvert_exporter": "python",
   "pygments_lexer": "ipython3",
   "version": "3.9.7"
  }
 },
 "nbformat": 4,
 "nbformat_minor": 5
}
