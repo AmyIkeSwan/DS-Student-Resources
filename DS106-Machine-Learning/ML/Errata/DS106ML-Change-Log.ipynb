{
 "cells": [
  {
   "cell_type": "markdown",
   "id": "b46c3f78",
   "metadata": {},
   "source": [
    "# Change Log\n",
    "\n",
    "1.  [DS106MLL1P3 LinearRegression()](../DS106MLL1.ipynb#LR), Changed to Linear Regression(), [UAT Link](https://wozu.uat.exeterlms.com/lesson/47815/topic/785700),  [Jira ticket #](https://woz-u-projects.atlassian.net/browse/CUR-1898)"
   ]
  },
  {
   "cell_type": "code",
   "execution_count": null,
   "id": "65ff0624",
   "metadata": {},
   "outputs": [],
   "source": []
  }
 ],
 "metadata": {
  "kernelspec": {
   "display_name": "Python 3 (ipykernel)",
   "language": "python",
   "name": "python3"
  },
  "language_info": {
   "codemirror_mode": {
    "name": "ipython",
    "version": 3
   },
   "file_extension": ".py",
   "mimetype": "text/x-python",
   "name": "python",
   "nbconvert_exporter": "python",
   "pygments_lexer": "ipython3",
   "version": "3.9.7"
  }
 },
 "nbformat": 4,
 "nbformat_minor": 5
}
