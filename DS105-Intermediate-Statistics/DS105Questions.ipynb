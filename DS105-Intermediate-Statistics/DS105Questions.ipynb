{
 "cells": [
  {
   "cell_type": "markdown",
   "id": "701c6664-c3af-4538-bac7-f1a5cc1826cd",
   "metadata": {},
   "source": [
    "# DS105 Questions\n",
    "\n",
    "## Lesson 1\n",
    "\n",
    "## Page 2"
   ]
  },
  {
   "cell_type": "code",
   "execution_count": 1,
   "id": "9fdc1222-3d73-42e1-b6bf-b95d73e3d8ff",
   "metadata": {},
   "outputs": [],
   "source": [
    "from DS_Students import *"
   ]
  },
  {
   "cell_type": "code",
   "execution_count": 2,
   "id": "cf433206-b1c6-41d7-86db-486d7cb4756e",
   "metadata": {},
   "outputs": [],
   "source": [
    "L1P2Q1 = MultipleChoice('1. Which of the following packages are often used for statistical analysis in Python?',['A. pandas','B. numpy','C. scipy', 'D. stats', 'E. Both C & D'],'E. Both C & D')\n",
    "L1P2Q2 = MultipleChoice('2. When would you perform a single sample t-test?',['A. When comparing two related samples','B. Comparing population mean to a single value','C. Looking for relationship between two continuous variables', 'D. When comparing two unrelated samples'],'B. Comparing population mean to a single value')"
   ]
  },
  {
   "cell_type": "code",
   "execution_count": 3,
   "id": "6f20d99a-0d5d-482e-82a1-2adf01327726",
   "metadata": {},
   "outputs": [
    {
     "data": {
      "application/vnd.jupyter.widget-view+json": {
       "model_id": "ae41e1f7d80642cfb49af11017e72900",
       "version_major": 2,
       "version_minor": 0
      },
      "text/plain": [
       "VBox(children=(Output(), RadioButtons(layout=Layout(width='max-content'), options=(('A. pandas', 0), ('B. nump…"
      ]
     },
     "metadata": {},
     "output_type": "display_data"
    },
    {
     "data": {
      "application/vnd.jupyter.widget-view+json": {
       "model_id": "567a0f2fd4cb4238b8d7b25e9578705d",
       "version_major": 2,
       "version_minor": 0
      },
      "text/plain": [
       "VBox(children=(Output(), RadioButtons(layout=Layout(width='max-content'), options=(('A. When comparing two rel…"
      ]
     },
     "metadata": {},
     "output_type": "display_data"
    }
   ],
   "source": [
    "if __name__ == \"__main__\":\n",
    "    display(L1P2Q1, L1P2Q2)"
   ]
  },
  {
   "cell_type": "markdown",
   "id": "59237b93-23a1-4511-9c47-069ff58089ca",
   "metadata": {},
   "source": [
    "## Page 5"
   ]
  },
  {
   "cell_type": "code",
   "execution_count": 4,
   "id": "9e09c0eb-06d1-440a-9c2a-4ced3fa16e4e",
   "metadata": {},
   "outputs": [],
   "source": [
    "L1P5Q1 = MultipleChoice('1. When would you perform an independent t-test?',['A. When comparing two related samples','B. When comparing a population mean to a single value','C. When looking for the relationship between two continuous variables', 'D. When comparing two unrelated samples'],'D. When comparing two unrelated samples')\n",
    "L1P5Q2 = MultipleChoice('2. What data is required for an independent t-test?',['A. One independent, categorical variable and one dependent, continuous variable','B. One independent continuous variable and one dependent categorical variable','C. Two independent categorical variables and one dependent, continous variable', 'D. One independent categorical variable and two dependent, continuous variables'],'A. One independent, categorical variable and one dependent, continuous variable')"
   ]
  },
  {
   "cell_type": "code",
   "execution_count": 5,
   "id": "395b4e32-213a-432c-8570-dba7e76bc602",
   "metadata": {},
   "outputs": [
    {
     "data": {
      "application/vnd.jupyter.widget-view+json": {
       "model_id": "93da463ef4e849378fbed7b49b95ce9c",
       "version_major": 2,
       "version_minor": 0
      },
      "text/plain": [
       "VBox(children=(Output(), RadioButtons(layout=Layout(width='max-content'), options=(('A. When comparing two rel…"
      ]
     },
     "metadata": {},
     "output_type": "display_data"
    },
    {
     "data": {
      "application/vnd.jupyter.widget-view+json": {
       "model_id": "d3863d90354b445890a80ffa27f901bb",
       "version_major": 2,
       "version_minor": 0
      },
      "text/plain": [
       "VBox(children=(Output(), RadioButtons(layout=Layout(width='max-content'), options=(('A. One independent, categ…"
      ]
     },
     "metadata": {},
     "output_type": "display_data"
    }
   ],
   "source": [
    "if __name__ == \"__main__\":\n",
    "    display(L1P5Q1, L1P5Q2)"
   ]
  },
  {
   "cell_type": "markdown",
   "id": "214526dd-72ee-40d8-a2e5-41e165dcd951",
   "metadata": {},
   "source": [
    "## Page 8"
   ]
  },
  {
   "cell_type": "code",
   "execution_count": 6,
   "id": "c8eb6a46-ef59-46c0-8adb-773a004ded82",
   "metadata": {},
   "outputs": [],
   "source": [
    "L1P8Q1 = MultipleChoice('1. When would you perform a dependent t-test?',['A. When comparing two related samples','B. When comparing a population mean to a single value','C. When looking for the relationship between two continuous variables', 'D. When comparing two unrelated samples'],'A. When comparing two related samples')\n",
    "L1P8Q2 = MultipleChoice('2. What data is required for an dependent t-test?',['A. One independent, categorical variable and one dependent, continuous variable','B. One independent continuous variable and one dependent categorical variable','C. Two independent categorical variables and one dependent, continous variable', 'D. One independent categorical variable and two dependent, continuous variables'],'A. One independent, categorical variable and one dependent, continuous variable')\n",
    "L1P8Q3 = MultipleChoice('3. Which function is used for a dependent t-test?',['A. stats.ttest_1samp()','B. ttest_ind()','C. stats.ttest_rel()', 'D. .hist()'],'C. stats.ttest_rel()')"
   ]
  },
  {
   "cell_type": "code",
   "execution_count": 7,
   "id": "3adf2b8c-6d74-449d-abd7-f2ecd2cef18e",
   "metadata": {},
   "outputs": [
    {
     "data": {
      "application/vnd.jupyter.widget-view+json": {
       "model_id": "54977e6cec3246ea94ab56a7e7682726",
       "version_major": 2,
       "version_minor": 0
      },
      "text/plain": [
       "VBox(children=(Output(), RadioButtons(layout=Layout(width='max-content'), options=(('A. When comparing two rel…"
      ]
     },
     "metadata": {},
     "output_type": "display_data"
    },
    {
     "data": {
      "application/vnd.jupyter.widget-view+json": {
       "model_id": "e43920d8791c43058bbec7193a6fda9d",
       "version_major": 2,
       "version_minor": 0
      },
      "text/plain": [
       "VBox(children=(Output(), RadioButtons(layout=Layout(width='max-content'), options=(('A. One independent, categ…"
      ]
     },
     "metadata": {},
     "output_type": "display_data"
    },
    {
     "data": {
      "application/vnd.jupyter.widget-view+json": {
       "model_id": "8a2b63f0a4bf465893479b0858bc615b",
       "version_major": 2,
       "version_minor": 0
      },
      "text/plain": [
       "VBox(children=(Output(), RadioButtons(layout=Layout(width='max-content'), options=(('A. stats.ttest_1samp()', …"
      ]
     },
     "metadata": {},
     "output_type": "display_data"
    }
   ],
   "source": [
    "if __name__ == \"__main__\":\n",
    "    display(L1P8Q1, L1P8Q2, L1P8Q3)"
   ]
  },
  {
   "cell_type": "markdown",
   "id": "fbd02314-2ef4-43be-aa7f-82453a99c3aa",
   "metadata": {},
   "source": [
    "## Page 11"
   ]
  },
  {
   "cell_type": "code",
   "execution_count": 8,
   "id": "d909d1fb-8f00-4e28-b8ed-31c3be525a4c",
   "metadata": {},
   "outputs": [],
   "source": [
    "L1P11Q1 = MultipleChoice('1. What kind of data does a Chi-Square require?',['A. Continuous','B. Categorical','C. Both continuous and categorical'],'B. Categorical')\n",
    "L1P11Q2 = MultipleChoice('2. What is the assumption for Chi-Square?',['A. Expected values of each cell greater than 5','B. Normality','C. Independence'],'A. Expected values of each cell greater than 5')\n",
    "L1P11Q3 = MultipleChoice('3. A contingency table is necessary to run a Chi-Square in Python.',['A. True','B. False'],'A. True')"
   ]
  },
  {
   "cell_type": "code",
   "execution_count": 9,
   "id": "6e065133-ed4b-4985-b9d1-f6cd5b3cbe48",
   "metadata": {},
   "outputs": [
    {
     "data": {
      "application/vnd.jupyter.widget-view+json": {
       "model_id": "e62bd079f3c34608bea818e40801a2c3",
       "version_major": 2,
       "version_minor": 0
      },
      "text/plain": [
       "VBox(children=(Output(), RadioButtons(layout=Layout(width='max-content'), options=(('A. Continuous', 0), ('B. …"
      ]
     },
     "metadata": {},
     "output_type": "display_data"
    },
    {
     "data": {
      "application/vnd.jupyter.widget-view+json": {
       "model_id": "e96c7c0ee4bf45ac894d21db49fe18c1",
       "version_major": 2,
       "version_minor": 0
      },
      "text/plain": [
       "VBox(children=(Output(), RadioButtons(layout=Layout(width='max-content'), options=(('A. Expected values of eac…"
      ]
     },
     "metadata": {},
     "output_type": "display_data"
    },
    {
     "data": {
      "application/vnd.jupyter.widget-view+json": {
       "model_id": "beb6f85f476e4f61b46db463418f2c42",
       "version_major": 2,
       "version_minor": 0
      },
      "text/plain": [
       "VBox(children=(Output(), RadioButtons(layout=Layout(width='max-content'), options=(('A. True', 0), ('B. False'…"
      ]
     },
     "metadata": {},
     "output_type": "display_data"
    }
   ],
   "source": [
    "if __name__ == \"__main__\":\n",
    "    display(L1P11Q1, L1P11Q2, L1P11Q3)"
   ]
  },
  {
   "cell_type": "markdown",
   "id": "daf65896-1c5e-4a53-9017-053cac6fc35b",
   "metadata": {},
   "source": [
    "## Page 14"
   ]
  },
  {
   "cell_type": "code",
   "execution_count": 10,
   "id": "efddf6c3-d45d-466f-849c-6b86d6626668",
   "metadata": {},
   "outputs": [],
   "source": [
    "L1P14Q1 = MultipleChoice('1. A correlation matrix looks at only two variables.',['A. True','B. False'],'B. False')\n",
    "L1P14Q2 = MultipleChoice(\"2. A typical Pearson's correlation is only done on continuous variables.\",['A. True','B. False'],'A. True')"
   ]
  },
  {
   "cell_type": "code",
   "execution_count": 11,
   "id": "461730cf-9d31-4e95-bf67-48904b28f02e",
   "metadata": {},
   "outputs": [
    {
     "data": {
      "application/vnd.jupyter.widget-view+json": {
       "model_id": "b88cb81b01e349c880d081e865a948dc",
       "version_major": 2,
       "version_minor": 0
      },
      "text/plain": [
       "VBox(children=(Output(), RadioButtons(layout=Layout(width='max-content'), options=(('A. True', 0), ('B. False'…"
      ]
     },
     "metadata": {},
     "output_type": "display_data"
    },
    {
     "data": {
      "application/vnd.jupyter.widget-view+json": {
       "model_id": "f44ace7726bc439eb131cc5174e613e0",
       "version_major": 2,
       "version_minor": 0
      },
      "text/plain": [
       "VBox(children=(Output(), RadioButtons(layout=Layout(width='max-content'), options=(('A. True', 0), ('B. False'…"
      ]
     },
     "metadata": {},
     "output_type": "display_data"
    }
   ],
   "source": [
    "if __name__ == \"__main__\":\n",
    "    display(L1P14Q1, L1P14Q2)"
   ]
  },
  {
   "cell_type": "markdown",
   "id": "6500d234-afdc-4ed5-ac3c-1472239bef19",
   "metadata": {},
   "source": [
    "## Lesson 2\n",
    "\n",
    "## Page 2"
   ]
  },
  {
   "cell_type": "code",
   "execution_count": 12,
   "id": "08f1e16b-281e-4422-99de-89da951de06f",
   "metadata": {},
   "outputs": [],
   "source": [
    "L2P2Q1 = MultipleChoice('1. What kind of distribution has a tail of data on the left, and the majority of the data on the right?',['A. Negatively skewed','B. Positively skewed', 'C. Negatively kurtotic', 'D. Postively kurtotic'],'A. Negatively skewed')\n",
    "L2P2Q2 = MultipleChoice('2. What kind of distribution has a tail of data on the right, and the majority of the data on the left?',['A. Negatively skewed','B. Positively skewed', 'C. Negatively kurtotic', 'D. Postively kurtotic'],'B. Positively skewed')\n",
    "L2P2Q3 = MultipleChoice('3. What kind of distribution is taller than the bell curve?',['A. Negatively skewed','B. Positively skewed', 'C. Negatively kurtotic', 'D. Postively kurtotic'],'D. Positively kurtotic')\n",
    "L2P2Q4 = MultipleChoice('4.  What kind of distribution is flatter than the bell curve?',['A. Negatively skewed','B. Positively skewed', 'C. Negatively kurtotic', 'D. Postively kurtotic'],'C. Negatively kurtotic')\n",
    "L2P2Q5 = MultipleChoice('5. Platykurtic is the term for a positively kurtotic distribution.',['A. True','B. False'],'B. False')"
   ]
  },
  {
   "cell_type": "code",
   "execution_count": 13,
   "id": "0bae0966-731f-4d6f-bb63-623f71f5aec3",
   "metadata": {},
   "outputs": [
    {
     "data": {
      "application/vnd.jupyter.widget-view+json": {
       "model_id": "a7607d253eaa4bdebd345e693a7d436d",
       "version_major": 2,
       "version_minor": 0
      },
      "text/plain": [
       "VBox(children=(Output(), RadioButtons(layout=Layout(width='max-content'), options=(('A. Negatively skewed', 0)…"
      ]
     },
     "metadata": {},
     "output_type": "display_data"
    },
    {
     "data": {
      "application/vnd.jupyter.widget-view+json": {
       "model_id": "9b356e56e2984565922ff1531bd7c633",
       "version_major": 2,
       "version_minor": 0
      },
      "text/plain": [
       "VBox(children=(Output(), RadioButtons(layout=Layout(width='max-content'), options=(('A. Negatively skewed', 0)…"
      ]
     },
     "metadata": {},
     "output_type": "display_data"
    },
    {
     "data": {
      "application/vnd.jupyter.widget-view+json": {
       "model_id": "b742f11065d541fcb3d24f37541d63e4",
       "version_major": 2,
       "version_minor": 0
      },
      "text/plain": [
       "VBox(children=(Output(), RadioButtons(layout=Layout(width='max-content'), options=(('A. Negatively skewed', 0)…"
      ]
     },
     "metadata": {},
     "output_type": "display_data"
    },
    {
     "data": {
      "application/vnd.jupyter.widget-view+json": {
       "model_id": "9c8207fb7740438a8d188790cf8c512a",
       "version_major": 2,
       "version_minor": 0
      },
      "text/plain": [
       "VBox(children=(Output(), RadioButtons(layout=Layout(width='max-content'), options=(('A. Negatively skewed', 0)…"
      ]
     },
     "metadata": {},
     "output_type": "display_data"
    },
    {
     "data": {
      "application/vnd.jupyter.widget-view+json": {
       "model_id": "94028b8f7d384abebf9f1ed64b197fd7",
       "version_major": 2,
       "version_minor": 0
      },
      "text/plain": [
       "VBox(children=(Output(), RadioButtons(layout=Layout(width='max-content'), options=(('A. True', 0), ('B. False'…"
      ]
     },
     "metadata": {},
     "output_type": "display_data"
    }
   ],
   "source": [
    "if __name__ == \"__main__\":\n",
    "    display(L2P2Q1, L2P2Q2, L2P2Q3, L2P2Q4, L2P2Q5)"
   ]
  },
  {
   "cell_type": "markdown",
   "id": "982f68d8-ba4e-474e-bcb5-98e5c9bf5810",
   "metadata": {},
   "source": [
    "## Page 3"
   ]
  },
  {
   "cell_type": "code",
   "execution_count": 14,
   "id": "850dc1c3-c0f8-4699-b045-05ddc702dff8",
   "metadata": {},
   "outputs": [],
   "source": [
    "L2P3Q1 = MultipleChoice('1. If you had negatively skewed data, which transformation should you try first?',['A. Square','B. Cube', 'C. Logarithm', ' D. Reciprocal'],'A. Square')\n",
    "L2P3Q2 = MultipleChoice('2. If you had positively skewed data, which transformation should you try first?',['A. Square','B. Cube', 'C. Logarithm', ' D. Square root'],'B. Square root')\n",
    "L2P3Q3 = MultipleChoice('3. What does taking the reciprocal do?',['A. Corrects for negative skew','B. Corrects for positive skew', 'C. Reverses the direction of the data', 'D. Corrects for kurtosis'],'C. Reverses the direction of the data')"
   ]
  },
  {
   "cell_type": "code",
   "execution_count": 15,
   "id": "ab1c82c4-871f-4872-afe8-629f7446c798",
   "metadata": {},
   "outputs": [
    {
     "data": {
      "application/vnd.jupyter.widget-view+json": {
       "model_id": "8acb1d0206c4402982d5b53a50d1fb1d",
       "version_major": 2,
       "version_minor": 0
      },
      "text/plain": [
       "VBox(children=(Output(), RadioButtons(layout=Layout(width='max-content'), options=(('A. Square', 0), ('B. Cube…"
      ]
     },
     "metadata": {},
     "output_type": "display_data"
    },
    {
     "data": {
      "application/vnd.jupyter.widget-view+json": {
       "model_id": "59d7c3b7e1b0407a94fd75b68835d4c0",
       "version_major": 2,
       "version_minor": 0
      },
      "text/plain": [
       "VBox(children=(Output(), RadioButtons(layout=Layout(width='max-content'), options=(('A. Square', 0), ('B. Cube…"
      ]
     },
     "metadata": {},
     "output_type": "display_data"
    },
    {
     "data": {
      "application/vnd.jupyter.widget-view+json": {
       "model_id": "c00948c834f742e889851d340091247c",
       "version_major": 2,
       "version_minor": 0
      },
      "text/plain": [
       "VBox(children=(Output(), RadioButtons(layout=Layout(width='max-content'), options=(('A. Corrects for negative …"
      ]
     },
     "metadata": {},
     "output_type": "display_data"
    }
   ],
   "source": [
    "if __name__ == \"__main__\":\n",
    "    display(L2P3Q1, L2P3Q2, L2P3Q3)"
   ]
  },
  {
   "cell_type": "markdown",
   "id": "154e5989-8dee-46a1-bc77-d541303d4510",
   "metadata": {},
   "source": [
    "## Page 4"
   ]
  },
  {
   "cell_type": "code",
   "execution_count": 16,
   "id": "69575d3a-928a-41bb-9063-e5e7441afbba",
   "metadata": {},
   "outputs": [],
   "source": [
    "L2P4Q1 = MultipleChoice('1. What does the rcompanion library allow you to do?',['A. Add a best fit curve to your histogram','B. Use the transformTukey() function', 'C. Both A & B'],'C. Both A & B')\n",
    "L2P4Q2 = MultipleChoice('2. Can you plot infinite values?',['A. Yes','B. No'],'B. No')\n",
    "L2P4Q3 = MultipleChoice('3. What is the function to take the log of your data?',['A. sqrt()','B. log()', 'C. Just multiply the variable by itself', 'D. ^3'],'B. log()')"
   ]
  },
  {
   "cell_type": "code",
   "execution_count": 17,
   "id": "44d62e53-3974-46f6-abd5-a7fb1d6c1d70",
   "metadata": {},
   "outputs": [
    {
     "data": {
      "application/vnd.jupyter.widget-view+json": {
       "model_id": "6b6825eaee524aa08842bf90a5c63c9f",
       "version_major": 2,
       "version_minor": 0
      },
      "text/plain": [
       "VBox(children=(Output(), RadioButtons(layout=Layout(width='max-content'), options=(('A. Add a best fit curve t…"
      ]
     },
     "metadata": {},
     "output_type": "display_data"
    },
    {
     "data": {
      "application/vnd.jupyter.widget-view+json": {
       "model_id": "2b2d37f11c1949b7aa74a8df75140160",
       "version_major": 2,
       "version_minor": 0
      },
      "text/plain": [
       "VBox(children=(Output(), RadioButtons(layout=Layout(width='max-content'), options=(('A. Yes', 0), ('B. No', 1)…"
      ]
     },
     "metadata": {},
     "output_type": "display_data"
    },
    {
     "data": {
      "application/vnd.jupyter.widget-view+json": {
       "model_id": "166b587884774dc18902bd7561eee847",
       "version_major": 2,
       "version_minor": 0
      },
      "text/plain": [
       "VBox(children=(Output(), RadioButtons(layout=Layout(width='max-content'), options=(('A. sqrt()', 0), ('B. log(…"
      ]
     },
     "metadata": {},
     "output_type": "display_data"
    }
   ],
   "source": [
    "if __name__ == \"__main__\":\n",
    "    display(L2P4Q1, L2P4Q2, L2P4Q3)"
   ]
  },
  {
   "cell_type": "markdown",
   "id": "f371d1f7-a98b-4e85-b988-a9791b3fbcd7",
   "metadata": {},
   "source": [
    "## Page 7"
   ]
  },
  {
   "cell_type": "code",
   "execution_count": 18,
   "id": "8c6840b7-28ff-471a-9eb8-7e06bd984c66",
   "metadata": {},
   "outputs": [],
   "source": [
    "L2P7Q1 = MultipleChoice('1. If you wanted to see a histogram with a best fit curve, which function would you use?',['A. .hist()','B. pyplot', 'C. sns.distplot()'],'C. sns.distplot()')\n",
    "L2P7Q2 = MultipleChoice('2. What is the function to take the log of your data?',['A. np.sqrt()','B. np.log()', 'C. Just multiply the variable by itself', 'D. ^3'],'B. np.log()')\n",
    "L2P7Q3 = MultipleChoice('3. What package do you need to make use of the boxcox transformations?',['A. pandas','B. numpy', 'C. scipy', 'D. sklearn'],'C. scipy')"
   ]
  },
  {
   "cell_type": "code",
   "execution_count": 19,
   "id": "d5a94751-80c0-4201-a803-112c519f93ac",
   "metadata": {},
   "outputs": [
    {
     "data": {
      "application/vnd.jupyter.widget-view+json": {
       "model_id": "8f4369a5ece9469c825eac15216813e1",
       "version_major": 2,
       "version_minor": 0
      },
      "text/plain": [
       "VBox(children=(Output(), RadioButtons(layout=Layout(width='max-content'), options=(('A. .hist()', 0), ('B. pyp…"
      ]
     },
     "metadata": {},
     "output_type": "display_data"
    },
    {
     "data": {
      "application/vnd.jupyter.widget-view+json": {
       "model_id": "cc83694f6c72440c8a5c3dc10c1643bd",
       "version_major": 2,
       "version_minor": 0
      },
      "text/plain": [
       "VBox(children=(Output(), RadioButtons(layout=Layout(width='max-content'), options=(('A. np.sqrt()', 0), ('B. n…"
      ]
     },
     "metadata": {},
     "output_type": "display_data"
    },
    {
     "data": {
      "application/vnd.jupyter.widget-view+json": {
       "model_id": "d11d071d2d4d4010b0d5f73f13230449",
       "version_major": 2,
       "version_minor": 0
      },
      "text/plain": [
       "VBox(children=(Output(), RadioButtons(layout=Layout(width='max-content'), options=(('A. pandas', 0), ('B. nump…"
      ]
     },
     "metadata": {},
     "output_type": "display_data"
    }
   ],
   "source": [
    "if __name__ == \"__main__\":\n",
    "    display(L2P7Q1, L2P7Q2, L2P7Q3)"
   ]
  },
  {
   "cell_type": "markdown",
   "id": "6ba20c20-8793-46df-8221-31451bf32cf9",
   "metadata": {},
   "source": [
    "## Lesson 3\n",
    "\n",
    "## Page 2"
   ]
  },
  {
   "cell_type": "code",
   "execution_count": 20,
   "id": "73cf6c8c-ec1e-4f60-8172-f2f9875cafe9",
   "metadata": {},
   "outputs": [],
   "source": [
    "L3P2Q1 = MultipleChoice('1. What goes in the argument n= for the prop.test() function?',['A. The proportion','B. The p value', \"C. The total number of one particular item you're interested in\", 'D. The total number of items'],'D. The total number of items')\n",
    "L3P2Q2 = MultipleChoice(\"2. Where can you find the proportion of the item in the output?\",['A. Under sample estimates','B. Under data', 'C. Under p value', 'D. Under confidence interval'],'A. Under sample estimates')"
   ]
  },
  {
   "cell_type": "code",
   "execution_count": 21,
   "id": "42b31b2f-b43a-4dd0-a289-e819acc097f5",
   "metadata": {},
   "outputs": [
    {
     "data": {
      "application/vnd.jupyter.widget-view+json": {
       "model_id": "491a9164be3947ee9d5f74b10b98306d",
       "version_major": 2,
       "version_minor": 0
      },
      "text/plain": [
       "VBox(children=(Output(), RadioButtons(layout=Layout(width='max-content'), options=(('A. The proportion', 0), (…"
      ]
     },
     "metadata": {},
     "output_type": "display_data"
    },
    {
     "data": {
      "application/vnd.jupyter.widget-view+json": {
       "model_id": "a5a4a811faa94eefba8af11e06360331",
       "version_major": 2,
       "version_minor": 0
      },
      "text/plain": [
       "VBox(children=(Output(), RadioButtons(layout=Layout(width='max-content'), options=(('A. Under sample estimates…"
      ]
     },
     "metadata": {},
     "output_type": "display_data"
    }
   ],
   "source": [
    "if __name__ == \"__main__\":\n",
    "    display(L3P2Q1, L3P2Q2)"
   ]
  },
  {
   "cell_type": "markdown",
   "id": "38720125-5436-4cb5-af7c-0c376aa81a38",
   "metadata": {},
   "source": [
    "## Page 3"
   ]
  },
  {
   "cell_type": "code",
   "execution_count": 22,
   "id": "5fc6d96b-f269-4a0c-b68a-0b42c474be74",
   "metadata": {},
   "outputs": [],
   "source": [
    "L3P3Q1 = MultipleChoice('1. If you wanted to test whether there was 80% jelly beans, what would you put for the value variable?',['A. .8','B. .5', \"C. .05\", 'D. .08'],'A. .8')\n",
    "L3P3Q2 = MultipleChoice(\"2. The number you place in the nobs variable is the total number of objects.\",['A. True','B. False'],'A. True')"
   ]
  },
  {
   "cell_type": "code",
   "execution_count": 23,
   "id": "aa074637-a23b-4657-914a-9974ffbec2e3",
   "metadata": {},
   "outputs": [
    {
     "data": {
      "application/vnd.jupyter.widget-view+json": {
       "model_id": "35c335cd6b6141a5b56d6c2d30bd633d",
       "version_major": 2,
       "version_minor": 0
      },
      "text/plain": [
       "VBox(children=(Output(), RadioButtons(layout=Layout(width='max-content'), options=(('A. .8', 0), ('B. .5', 1),…"
      ]
     },
     "metadata": {},
     "output_type": "display_data"
    },
    {
     "data": {
      "application/vnd.jupyter.widget-view+json": {
       "model_id": "39441733e5174589a0dc3b76802b88d0",
       "version_major": 2,
       "version_minor": 0
      },
      "text/plain": [
       "VBox(children=(Output(), RadioButtons(layout=Layout(width='max-content'), options=(('A. True', 0), ('B. False'…"
      ]
     },
     "metadata": {},
     "output_type": "display_data"
    }
   ],
   "source": [
    "if __name__ == \"__main__\":\n",
    "    display(L3P3Q1, L3P3Q2)"
   ]
  },
  {
   "cell_type": "markdown",
   "id": "cbb67806-14f4-48be-a146-f7f35ff76b69",
   "metadata": {},
   "source": [
    "## Page 4"
   ]
  },
  {
   "cell_type": "code",
   "execution_count": 24,
   "id": "3906df98-b855-41e0-9b65-f088672cd958",
   "metadata": {},
   "outputs": [],
   "source": [
    "L3P4Q1 = MultipleChoice('1. If you wanted a one-tailed test to see if the proportions were greater, which option for alternative= would you choose?',['A. one-tailed','B. greater', \"C. less\", 'D. two-tailed'],'B. greater')\n",
    "L3P4Q2 = MultipleChoice(\"2. You need to feed a vector of in both your x= and n= arguments..\",['A. True','B. False'],'A. True')"
   ]
  },
  {
   "cell_type": "code",
   "execution_count": 25,
   "id": "91023b03-0f8c-491e-aeb0-e264f01128f5",
   "metadata": {},
   "outputs": [
    {
     "data": {
      "application/vnd.jupyter.widget-view+json": {
       "model_id": "bf7f17acc6b34a438bcb75f2abf399d0",
       "version_major": 2,
       "version_minor": 0
      },
      "text/plain": [
       "VBox(children=(Output(), RadioButtons(layout=Layout(width='max-content'), options=(('A. one-tailed', 0), ('B. …"
      ]
     },
     "metadata": {},
     "output_type": "display_data"
    },
    {
     "data": {
      "application/vnd.jupyter.widget-view+json": {
       "model_id": "1e4b407e1b62451aad38b60d0b821a8d",
       "version_major": 2,
       "version_minor": 0
      },
      "text/plain": [
       "VBox(children=(Output(), RadioButtons(layout=Layout(width='max-content'), options=(('A. True', 0), ('B. False'…"
      ]
     },
     "metadata": {},
     "output_type": "display_data"
    }
   ],
   "source": [
    "if __name__ == \"__main__\":\n",
    "    display(L3P4Q1, L3P4Q2)"
   ]
  },
  {
   "cell_type": "markdown",
   "id": "e92a6411-8cbc-4bfd-8286-b78438364ff1",
   "metadata": {},
   "source": [
    "## Page 5"
   ]
  },
  {
   "cell_type": "code",
   "execution_count": 26,
   "id": "e84b113d-5366-4592-9434-cf5fb4206c49",
   "metadata": {},
   "outputs": [],
   "source": [
    "L3P5Q1 = MultipleChoice(\"1. The same function for one proportion testing is used for two proportion testing in Python.\",['A. True','B. False'],'A. True')"
   ]
  },
  {
   "cell_type": "code",
   "execution_count": 27,
   "id": "58245bdb-2ea6-47d9-b597-296f8a007fd8",
   "metadata": {},
   "outputs": [
    {
     "data": {
      "application/vnd.jupyter.widget-view+json": {
       "model_id": "33845f01bcb8472abc96b08dd62e4ced",
       "version_major": 2,
       "version_minor": 0
      },
      "text/plain": [
       "VBox(children=(Output(), RadioButtons(layout=Layout(width='max-content'), options=(('A. True', 0), ('B. False'…"
      ]
     },
     "metadata": {},
     "output_type": "display_data"
    }
   ],
   "source": [
    "if __name__ == \"__main__\":\n",
    "    display(L3P5Q1)"
   ]
  },
  {
   "cell_type": "markdown",
   "id": "6fd95fc2-f369-4898-a15c-402a15239d78",
   "metadata": {},
   "source": [
    "## Page 6"
   ]
  },
  {
   "cell_type": "code",
   "execution_count": 28,
   "id": "cc7dd978-728c-4a87-b35e-8bf6bbf95402",
   "metadata": {},
   "outputs": [],
   "source": [
    "L3P6Q1 = MultipleChoice('1. Which package provides the ability to do Chi-Squares in R?',['A. chisquare','B. prop.test', \"C. tidyr\", 'D. gmodels'],'D. gmodels')\n",
    "L3P6Q2 = MultipleChoice(\"2. Which of the following will print out your expected frequencies?\",['A. expected=TRUE','B. chisq=TRUE', 'C. format=\"SPSS\"', 'D. sredid=TRUE'],'C. format=\"SPSS\"')\n",
    "L3P6Q3 = MultipleChoice(\"3. Above what cut-off is a standardized residual significant?\",['A. .2','B. 2', 'C. +- 2', 'D. +2'],'C. +- 2')"
   ]
  },
  {
   "cell_type": "code",
   "execution_count": 29,
   "id": "47a0cc04-740c-4650-9d50-e17180057542",
   "metadata": {},
   "outputs": [
    {
     "data": {
      "application/vnd.jupyter.widget-view+json": {
       "model_id": "948748faf6b64cdd907b48466c46cef2",
       "version_major": 2,
       "version_minor": 0
      },
      "text/plain": [
       "VBox(children=(Output(), RadioButtons(layout=Layout(width='max-content'), options=(('A. chisquare', 0), ('B. p…"
      ]
     },
     "metadata": {},
     "output_type": "display_data"
    },
    {
     "data": {
      "application/vnd.jupyter.widget-view+json": {
       "model_id": "d02bcd3223634c4ba56ccca14d7b12dc",
       "version_major": 2,
       "version_minor": 0
      },
      "text/plain": [
       "VBox(children=(Output(), RadioButtons(layout=Layout(width='max-content'), options=(('A. expected=TRUE', 0), ('…"
      ]
     },
     "metadata": {},
     "output_type": "display_data"
    },
    {
     "data": {
      "application/vnd.jupyter.widget-view+json": {
       "model_id": "393b3cd946b64192b910c9ea90dd2990",
       "version_major": 2,
       "version_minor": 0
      },
      "text/plain": [
       "VBox(children=(Output(), RadioButtons(layout=Layout(width='max-content'), options=(('A. .2', 0), ('B. 2', 1), …"
      ]
     },
     "metadata": {},
     "output_type": "display_data"
    }
   ],
   "source": [
    "if __name__ == \"__main__\":\n",
    "    display(L3P6Q1, L3P6Q2, L3P6Q3)"
   ]
  },
  {
   "cell_type": "markdown",
   "id": "7ae5a2c2-964d-47f2-8bea-31e3762e9253",
   "metadata": {},
   "source": [
    "## Page 7"
   ]
  },
  {
   "cell_type": "code",
   "execution_count": 64,
   "id": "74f261cb-b2da-4087-82c6-a69026d17c2d",
   "metadata": {},
   "outputs": [],
   "source": [
    "L3P7Q1 = MultipleChoice('1. When would you use a goodness of fit Chi-Square?',['A. To compare proportions','B. To determine whether two categorical variables are related', \"C. To look at categorical variables over time\", 'D. When testing to see if a sample came from a population'],'D. When testing to see if a sample came from a population')\n",
    "L3P7Q2 = MultipleChoice('2. What is required to perform a goodness of fit Chi-Square?',['A. A dataframe','B. Expected frequencies', 'C. Observed frequencies', 'D. Observed & expected frequencies'],'D. Observed & expected frequencies')\n",
    "L3P7Q3 = MultipleChoice('3. You run a goodness of fit Chi-Square as follows:(See Above) And get a p value of .9. What is the correct interpretation of this test?',['A. The observed & expected frequencies are similar, and thus the sample probably did not come from the population','B. The observed & expected frequencies are similar, and thus the sample probably came from the population', 'C. The observed & expected frequencies are dissimilar, and thus the sample probably did not come from the population', 'D. The observed & expected frequencies are dissimilar, and thus the sample probably came from the population'],'B. The observed & expected frequencies are similar, and thus the sample probably came from the population')"
   ]
  },
  {
   "cell_type": "code",
   "execution_count": 31,
   "id": "22a337e6-6f9d-4ecc-b135-77dd8f3ec13e",
   "metadata": {},
   "outputs": [
    {
     "data": {
      "application/vnd.jupyter.widget-view+json": {
       "model_id": "b1d632d938514980a58ceee9a596be77",
       "version_major": 2,
       "version_minor": 0
      },
      "text/plain": [
       "VBox(children=(Output(), RadioButtons(layout=Layout(width='max-content'), options=(('A. To compare proportions…"
      ]
     },
     "metadata": {},
     "output_type": "display_data"
    },
    {
     "data": {
      "application/vnd.jupyter.widget-view+json": {
       "model_id": "e0e63a4baeb84b408fe09de368ed8d4e",
       "version_major": 2,
       "version_minor": 0
      },
      "text/plain": [
       "VBox(children=(Output(), RadioButtons(layout=Layout(width='max-content'), options=(('A. A dataframe', 0), ('B.…"
      ]
     },
     "metadata": {},
     "output_type": "display_data"
    }
   ],
   "source": [
    "if __name__ == \"__main__\":\n",
    "    display(L3P7Q1, L3P7Q2)"
   ]
  },
  {
   "cell_type": "markdown",
   "id": "7bc20ca3-d02a-4852-be5b-94714980fd13",
   "metadata": {},
   "source": [
    "#### Question 3 goodness of fit Chi-Square info\n",
    "\n",
    "observed = c(721, 850)\n",
    "\n",
    "expected = c(0.60, 0.40)\n",
    "\n",
    "chisq.test(x = observed, p = expected)"
   ]
  },
  {
   "cell_type": "code",
   "execution_count": 66,
   "id": "3113cac0-5e17-455c-8da1-ab00c50b1ac8",
   "metadata": {},
   "outputs": [
    {
     "data": {
      "application/vnd.jupyter.widget-view+json": {
       "model_id": "ba86fc350e8545c4a05e54fa6317f753",
       "version_major": 2,
       "version_minor": 0
      },
      "text/plain": [
       "VBox(children=(Output(outputs=({'name': 'stdout', 'text': '3. You run a goodness of fit Chi-Square as follows:…"
      ]
     },
     "metadata": {},
     "output_type": "display_data"
    }
   ],
   "source": [
    "if __name__ == \"__main__\":\n",
    "    display(L3P7Q3)"
   ]
  },
  {
   "cell_type": "markdown",
   "id": "a8e668a0-b1e6-400d-8162-8f0d2326f218",
   "metadata": {},
   "source": [
    "## Page 8"
   ]
  },
  {
   "cell_type": "code",
   "execution_count": 33,
   "id": "0a6d7dad-70b0-49f2-b772-e9684e24f157",
   "metadata": {},
   "outputs": [],
   "source": [
    "L3P8Q1 = MultipleChoice('1. How does computing a goodness of fit Chi-Square in Python differ from computing it in R?',['A. Python takes percentages for the observed values, while R takes raw values','B. Python takes raw values for the observed values, while R takes percentages', 'C. Python takes percentages for the expected values, while R takes raw values', 'D. Python takes raw alues for the expected values, while R takes percentages'],'D. Python takes raw alues for the expected values, while R takes percentages')\n",
    "L3P8Q2 = MultipleChoice('2. Would a p value of 4.7213478932-15 be significant?',['A. Yes','B. No'],'A. Yes')"
   ]
  },
  {
   "cell_type": "code",
   "execution_count": 34,
   "id": "63aabd83-a41e-46ea-a462-717736bc2f78",
   "metadata": {},
   "outputs": [
    {
     "data": {
      "application/vnd.jupyter.widget-view+json": {
       "model_id": "81cc48ecc1ea435f988a1389e7391497",
       "version_major": 2,
       "version_minor": 0
      },
      "text/plain": [
       "VBox(children=(Output(), RadioButtons(layout=Layout(width='max-content'), options=(('A. Python takes percentag…"
      ]
     },
     "metadata": {},
     "output_type": "display_data"
    },
    {
     "data": {
      "application/vnd.jupyter.widget-view+json": {
       "model_id": "2c526efcbe0840a5a8a9bed36306a00f",
       "version_major": 2,
       "version_minor": 0
      },
      "text/plain": [
       "VBox(children=(Output(), RadioButtons(layout=Layout(width='max-content'), options=(('A. Yes', 0), ('B. No', 1)…"
      ]
     },
     "metadata": {},
     "output_type": "display_data"
    }
   ],
   "source": [
    "if __name__ == \"__main__\":\n",
    "    display(L3P8Q1, L3P8Q2)"
   ]
  },
  {
   "cell_type": "markdown",
   "id": "0fd17a99-d0e2-45ae-8924-8f8ebe0b37cf",
   "metadata": {},
   "source": [
    "## Page 9"
   ]
  },
  {
   "cell_type": "code",
   "execution_count": 35,
   "id": "542ab104-b5de-4d24-bce2-7f0343368029",
   "metadata": {},
   "outputs": [],
   "source": [
    "L3P9Q1 = MultipleChoice('1. Which of the following is an assumption of the McNemar Chi-Square?',['A. Expected values in every cell greater than 5','B. Observed values in every cell greater than 5', 'C. Independence', 'D. Normality'],'A. Expected values in every cell greater than 5')\n",
    "L3P9Q2 = MultipleChoice(\"2. When doing a McNemar Chi-Square, you need to look at the Pearson's Chi-squared test value.\",['A. True','B. False'],'B. False')"
   ]
  },
  {
   "cell_type": "code",
   "execution_count": 36,
   "id": "10a6cb24-ae35-4b94-8374-d284e023c401",
   "metadata": {},
   "outputs": [
    {
     "data": {
      "application/vnd.jupyter.widget-view+json": {
       "model_id": "5b79e098b44f436fa3e3df5040b7073b",
       "version_major": 2,
       "version_minor": 0
      },
      "text/plain": [
       "VBox(children=(Output(), RadioButtons(layout=Layout(width='max-content'), options=(('A. Expected values in eve…"
      ]
     },
     "metadata": {},
     "output_type": "display_data"
    },
    {
     "data": {
      "application/vnd.jupyter.widget-view+json": {
       "model_id": "24177e75f2a64dc799b418fbc92e9df2",
       "version_major": 2,
       "version_minor": 0
      },
      "text/plain": [
       "VBox(children=(Output(), RadioButtons(layout=Layout(width='max-content'), options=(('A. True', 0), ('B. False'…"
      ]
     },
     "metadata": {},
     "output_type": "display_data"
    }
   ],
   "source": [
    "if __name__ == \"__main__\":\n",
    "    display(L3P9Q1, L3P9Q2)"
   ]
  },
  {
   "cell_type": "markdown",
   "id": "5fef6f46-66ac-4fec-8c44-6a904c6d9a7d",
   "metadata": {},
   "source": [
    "## Page 10"
   ]
  },
  {
   "cell_type": "code",
   "execution_count": 37,
   "id": "1c3a4283-c782-4780-816b-86ea09a2ee0a",
   "metadata": {},
   "outputs": [],
   "source": [
    "L3P10Q1 = MultipleChoice('1. If you use a greater than or less than operand, you must have numeric data in Python',['A. True','B. False'],'A. True')\n",
    "L3P10Q2 = MultipleChoice('2. The McNemar Chi-Square function in Python will take raw data.',['A. True','B. False'],'B. False')\n",
    "L3P10Q3 = MultipleChoice('3. How does Python differ from R in McNemar Chi-Square output?',['A. Python only provides standardized residuals, R does not','B. Python only provides expected frequencies, R does not', 'C. Python does not provide expected frequencies or standardized residuals, R provides both', 'D. R does not provide expected frequencies or standardized residuals, Python provides both'],'C. Python does not provide expected frequencies or standardized residuals, R provides both')"
   ]
  },
  {
   "cell_type": "code",
   "execution_count": 38,
   "id": "7adf80c9-5aef-4615-9424-fb2ef20afd8e",
   "metadata": {},
   "outputs": [
    {
     "data": {
      "application/vnd.jupyter.widget-view+json": {
       "model_id": "a2cab9d2078345ce9a642042f4c74e36",
       "version_major": 2,
       "version_minor": 0
      },
      "text/plain": [
       "VBox(children=(Output(), RadioButtons(layout=Layout(width='max-content'), options=(('A. True', 0), ('B. False'…"
      ]
     },
     "metadata": {},
     "output_type": "display_data"
    },
    {
     "data": {
      "application/vnd.jupyter.widget-view+json": {
       "model_id": "a8d1f3c684214c38b54eb40f858dadbc",
       "version_major": 2,
       "version_minor": 0
      },
      "text/plain": [
       "VBox(children=(Output(), RadioButtons(layout=Layout(width='max-content'), options=(('A. True', 0), ('B. False'…"
      ]
     },
     "metadata": {},
     "output_type": "display_data"
    },
    {
     "data": {
      "application/vnd.jupyter.widget-view+json": {
       "model_id": "dd0df5e894a247d7bf55936d70b16dac",
       "version_major": 2,
       "version_minor": 0
      },
      "text/plain": [
       "VBox(children=(Output(), RadioButtons(layout=Layout(width='max-content'), options=(('A. Python only provides s…"
      ]
     },
     "metadata": {},
     "output_type": "display_data"
    }
   ],
   "source": [
    "if __name__ == \"__main__\":\n",
    "    display(L3P10Q1, L3P10Q2, L3P10Q3)"
   ]
  },
  {
   "cell_type": "markdown",
   "id": "23990a1c-4faf-4a26-a3dd-b1162dc85a69",
   "metadata": {},
   "source": [
    "## Lesson 4\n",
    "\n",
    "## Page 2"
   ]
  },
  {
   "cell_type": "code",
   "execution_count": 39,
   "id": "e33ff5ad-6fbf-4408-8ff4-ed4d275a78f6",
   "metadata": {},
   "outputs": [],
   "source": [
    "L4P2Q1 = MultipleChoice('1. What is the branch of statistics called that deals with multiple independent variables at once?',['A. Multivariate statistics','B. Intermediate statistics', 'C. Statistics', 'D. Modeling'],'A. Multivariate statistics')\n",
    "L4P2Q2 = MultipleChoice('2. What is the difference between an ANOVA and a t-test?',['A. An ANOVA can only handle two levels, t-tests can handle more','B. t-tests can handle multiple levels of an independent variable and multiple independent variables; ANOVAs cannot', 'C. An ANOVA can handle multiple levels of an independent variable and multiple independent variables; t-tests cannot', 'D. An ANOVA can only handle one independent variable; t-tests can handle more'],'C. An ANOVA can handle multiple levels of an independent variable and multiple independent variables; t-tests cannot')\n",
    "L4P2Q3 = MultipleChoice('3. What is the difference between a between subjects and a within subjects ANOVA?',['A. Between subjects looks at the same people or groups; within subjects looks at different people or groups','B. Bewteen subjects looks at different people of groups; within subjects looks at the same people or groups', 'C. Between subjects has multiple independent variables; wihtin subjects has only one', 'D. Within subjects has multiple independent variables, between subjects has only one'],'B. Bewteen subjects looks at different people of groups; within subjects looks at the same people or groups')\n",
    "L4P2Q4 = MultipleChoice('4. What is the difference between a one-way and a factorial ANOVA?',['A. One-way ANOVAs look at different people or groups; factorial ANOVAs look at the same people or groups','B. One-way ANOVAs look at the same people or groups; factorial ANOVAs look at different people or groups', 'C. One-way ANOVAs have more than one independent variable; factorial ANOVAs have only one', 'D. One-way ANOVAs only have one independent variable; factorial ANOVAs have more than one'],'D. One-way ANOVAs only have one independent variable; factorial ANOVAs have more than one')\n",
    "L4P2Q5 = MultipleChoice('5. A mixed method ANOVA combines both within and between subjects ANOVAs.',['A. True','B. False'],'A. True')"
   ]
  },
  {
   "cell_type": "code",
   "execution_count": 40,
   "id": "60b6e2fb-d26b-467b-98a1-8809535ee5e1",
   "metadata": {},
   "outputs": [
    {
     "data": {
      "application/vnd.jupyter.widget-view+json": {
       "model_id": "dc3af6786f844da4ae68d685ed333161",
       "version_major": 2,
       "version_minor": 0
      },
      "text/plain": [
       "VBox(children=(Output(), RadioButtons(layout=Layout(width='max-content'), options=(('A. Multivariate statistic…"
      ]
     },
     "metadata": {},
     "output_type": "display_data"
    },
    {
     "data": {
      "application/vnd.jupyter.widget-view+json": {
       "model_id": "fb98b1185f8d47b9a1fae0042091ffb2",
       "version_major": 2,
       "version_minor": 0
      },
      "text/plain": [
       "VBox(children=(Output(), RadioButtons(layout=Layout(width='max-content'), options=(('A. An ANOVA can only hand…"
      ]
     },
     "metadata": {},
     "output_type": "display_data"
    },
    {
     "data": {
      "application/vnd.jupyter.widget-view+json": {
       "model_id": "b9224dff356944839c95cd3568923792",
       "version_major": 2,
       "version_minor": 0
      },
      "text/plain": [
       "VBox(children=(Output(), RadioButtons(layout=Layout(width='max-content'), options=(('A. Between subjects looks…"
      ]
     },
     "metadata": {},
     "output_type": "display_data"
    },
    {
     "data": {
      "application/vnd.jupyter.widget-view+json": {
       "model_id": "e6bb79373afc4e788af369d5f720aea5",
       "version_major": 2,
       "version_minor": 0
      },
      "text/plain": [
       "VBox(children=(Output(), RadioButtons(layout=Layout(width='max-content'), options=(('A. One-way ANOVAs look at…"
      ]
     },
     "metadata": {},
     "output_type": "display_data"
    },
    {
     "data": {
      "application/vnd.jupyter.widget-view+json": {
       "model_id": "fb2d7b6196b145a992c742b58a53b521",
       "version_major": 2,
       "version_minor": 0
      },
      "text/plain": [
       "VBox(children=(Output(), RadioButtons(layout=Layout(width='max-content'), options=(('A. True', 0), ('B. False'…"
      ]
     },
     "metadata": {},
     "output_type": "display_data"
    }
   ],
   "source": [
    "if __name__ == \"__main__\":\n",
    "    display(L4P2Q1, L4P2Q2, L4P2Q3, L4P2Q4, L4P2Q5)"
   ]
  },
  {
   "cell_type": "markdown",
   "id": "0667cebd-8bf8-4922-a7a8-ac3688a5897c",
   "metadata": {},
   "source": [
    "## Page 3"
   ]
  },
  {
   "cell_type": "code",
   "execution_count": 42,
   "id": "62c7d186-c8d7-4d34-ae7f-41243a634baf",
   "metadata": {},
   "outputs": [],
   "source": [
    "L4P3Q1 = MultipleChoice('1. Which of the following is NOT an assumption of ANOVA?',['A. Homogeneity of variance','B. Heterogeneity of variance', 'C. Independence', 'D. Sphericity'],'B. Heterogeneity of variance')\n",
    "L4P3Q2 = MultipleChoice('2. You want to run a factorial ANOVA with three independent variables. What sample size do you need?',['A. 20','B. 60', 'C. 40', 'D. 80'],'B. 60')\n",
    "L4P3Q3 = MultipleChoice('3. You are analyzing data about poison dart frogs, and have an independent variable about skin color, where the levels are \"red skin\", \"blue skin\", and \"green skin.\" You place frogs that have both red and green markings into both the \"red skin\" group and the \"green skin\" group. Will your ANOVA meet the assumption of independence?',['A. Yes','B. No'],'B. No')"
   ]
  },
  {
   "cell_type": "code",
   "execution_count": 43,
   "id": "8a272e6a-afdc-4bb2-916f-bd5e85d8c814",
   "metadata": {},
   "outputs": [
    {
     "data": {
      "application/vnd.jupyter.widget-view+json": {
       "model_id": "9fa45c1b52d64180a972d6e49e6db37e",
       "version_major": 2,
       "version_minor": 0
      },
      "text/plain": [
       "VBox(children=(Output(outputs=({'name': 'stdout', 'text': '1. Which of the following is NOT an assumption of A…"
      ]
     },
     "metadata": {},
     "output_type": "display_data"
    },
    {
     "data": {
      "application/vnd.jupyter.widget-view+json": {
       "model_id": "729301626e284bac8c1d2f347375cc44",
       "version_major": 2,
       "version_minor": 0
      },
      "text/plain": [
       "VBox(children=(Output(outputs=({'name': 'stdout', 'text': '2. You want to run a factorial ANOVA with three ind…"
      ]
     },
     "metadata": {},
     "output_type": "display_data"
    },
    {
     "data": {
      "application/vnd.jupyter.widget-view+json": {
       "model_id": "ef7422107a5744518b826116a8574844",
       "version_major": 2,
       "version_minor": 0
      },
      "text/plain": [
       "VBox(children=(Output(outputs=({'name': 'stdout', 'text': '3. You are analyzing data about poison dart frogs, …"
      ]
     },
     "metadata": {},
     "output_type": "display_data"
    }
   ],
   "source": [
    "if __name__ == \"__main__\":\n",
    "    display(L4P3Q1, L4P3Q2, L4P3Q3)"
   ]
  },
  {
   "cell_type": "markdown",
   "id": "a2a05e33-87fb-4224-9fa6-43a1c95d83c0",
   "metadata": {},
   "source": [
    "## Page 4"
   ]
  },
  {
   "cell_type": "code",
   "execution_count": 44,
   "id": "a087b758-0ea7-46f7-aa08-8a17b4db2ff8",
   "metadata": {},
   "outputs": [],
   "source": [
    "L4P4Q1 = MultipleChoice('1. Which test is used to test for homogeneity of variance when your data is normally distributed?',[\"A. Bartlett's test\",\"B. Fligner's test\"],\"A. Bartlett's test\")\n",
    "L4P4Q2 = MultipleChoice('2. When testing for homogeneity of variance, to meet the assumption the p value should be less than .05.',['A. True','B. False'],'B. False')"
   ]
  },
  {
   "cell_type": "code",
   "execution_count": 45,
   "id": "5f9e46ea-0dbe-4cfc-89a8-dc958201814c",
   "metadata": {},
   "outputs": [
    {
     "data": {
      "application/vnd.jupyter.widget-view+json": {
       "model_id": "9f79d7de9de548c092899fa9c72c7f17",
       "version_major": 2,
       "version_minor": 0
      },
      "text/plain": [
       "VBox(children=(Output(outputs=({'name': 'stdout', 'text': '1. Which test is used to test for homogeneity of va…"
      ]
     },
     "metadata": {},
     "output_type": "display_data"
    },
    {
     "data": {
      "application/vnd.jupyter.widget-view+json": {
       "model_id": "347a768446894758a5e95d07961eb460",
       "version_major": 2,
       "version_minor": 0
      },
      "text/plain": [
       "VBox(children=(Output(outputs=({'name': 'stdout', 'text': '2. When testing for homogeneity of variance, to mee…"
      ]
     },
     "metadata": {},
     "output_type": "display_data"
    }
   ],
   "source": [
    "if __name__ == \"__main__\":\n",
    "    display(L4P4Q1, L4P4Q2)"
   ]
  },
  {
   "cell_type": "markdown",
   "id": "33913053-c9ab-4c43-8e40-a962b2be83fa",
   "metadata": {},
   "source": [
    "## Page 5"
   ]
  },
  {
   "cell_type": "code",
   "execution_count": 47,
   "id": "ab3c1095-aa41-43b9-bfb7-02ceac26e8ab",
   "metadata": {},
   "outputs": [],
   "source": [
    "L4P5Q1 = MultipleChoice('1. For which situation is the aov() function used?',['A. When variance is equal','B. When variance is unequal'],'A. When variance is equal')\n",
    "L4P5Q2 = MultipleChoice('2. What part of the ANOVA output tells you whether the overall model is significant?',['A. Df','B. Sum sq','C. Mean sq','D. Pr(>F)'],'D. Pr(>F)')\n",
    "L4P5Q3 = MultipleChoice('3. The statistic for regression and ANOVAs is the same, but how that statistic is used differs.',['A. True','B. False'],'A. True')\n",
    "L4P5Q4 = MultipleChoice('4. What does the p.adjust= argument do in a post hoc?',['A. Corect for the assumption of homogeneity of variance','B. Correct for Type 1 error','C. Correct for Type 2 error','D. Correct for the assumption of independence'],'B. Correct for Type 1 error')\n",
    "L4P5Q5 = MultipleChoice('5. What does the pool.sd=FALSE argument do in a post hoc?',['A. Corect for the assumption of homogeneity of variance','B. Correct for Type 1 error','C. Correct for Type 2 error','D. Correct for the assumption of independence'],'A. Corect for the assumption of homogeneity of variance')\n",
    "L4P5Q6 = MultipleChoice('6. When interpreting your ANOVA, which of the following is not needed?',['A. Examination of the overall p value','B. Examination of the post hoc p values', 'C. Examination of the means', 'D. Examination of the sum of squares'],'D. Examination of the sum of squares')"
   ]
  },
  {
   "cell_type": "code",
   "execution_count": 48,
   "id": "54de7634-5f7a-4943-92e7-a1c569630af5",
   "metadata": {},
   "outputs": [
    {
     "data": {
      "application/vnd.jupyter.widget-view+json": {
       "model_id": "d7a69c46478f4202a9825e2bab3baad8",
       "version_major": 2,
       "version_minor": 0
      },
      "text/plain": [
       "VBox(children=(Output(outputs=({'name': 'stdout', 'text': '1. For which situation is the aov() function used?\\…"
      ]
     },
     "metadata": {},
     "output_type": "display_data"
    },
    {
     "data": {
      "application/vnd.jupyter.widget-view+json": {
       "model_id": "9b3fee32723c4197977b7899cf5a2843",
       "version_major": 2,
       "version_minor": 0
      },
      "text/plain": [
       "VBox(children=(Output(outputs=({'name': 'stdout', 'text': '2. What part of the ANOVA output tells you whether …"
      ]
     },
     "metadata": {},
     "output_type": "display_data"
    },
    {
     "data": {
      "application/vnd.jupyter.widget-view+json": {
       "model_id": "4d6c1ad56b024a719815e7685b818f97",
       "version_major": 2,
       "version_minor": 0
      },
      "text/plain": [
       "VBox(children=(Output(outputs=({'name': 'stdout', 'text': '3. The statistic for regression and ANOVAs is the s…"
      ]
     },
     "metadata": {},
     "output_type": "display_data"
    },
    {
     "data": {
      "application/vnd.jupyter.widget-view+json": {
       "model_id": "1e3bbfdb1dc84853a3da2a88d3736809",
       "version_major": 2,
       "version_minor": 0
      },
      "text/plain": [
       "VBox(children=(Output(outputs=({'name': 'stdout', 'text': '4. What does the p.adjust= argument do in a post ho…"
      ]
     },
     "metadata": {},
     "output_type": "display_data"
    },
    {
     "data": {
      "application/vnd.jupyter.widget-view+json": {
       "model_id": "abe83c328e4c4e41a2e0435b73a2aa22",
       "version_major": 2,
       "version_minor": 0
      },
      "text/plain": [
       "VBox(children=(Output(outputs=({'name': 'stdout', 'text': '5. What does the pool.sd=FALSE argument do in a pos…"
      ]
     },
     "metadata": {},
     "output_type": "display_data"
    },
    {
     "data": {
      "application/vnd.jupyter.widget-view+json": {
       "model_id": "1b34ee1b77cf49b386f72fd8efa5f750",
       "version_major": 2,
       "version_minor": 0
      },
      "text/plain": [
       "VBox(children=(Output(outputs=({'name': 'stdout', 'text': '6. When interpreting your ANOVA, which of the follo…"
      ]
     },
     "metadata": {},
     "output_type": "display_data"
    }
   ],
   "source": [
    "if __name__ == \"__main__\":\n",
    "    display(L4P5Q1, L4P5Q2, L4P5Q3, L4P5Q4, L4P5Q5, L4P5Q6)"
   ]
  },
  {
   "cell_type": "markdown",
   "id": "1aada971-0682-432c-8933-a1a00b0f0ebe",
   "metadata": {},
   "source": [
    "## Page 8"
   ]
  },
  {
   "cell_type": "code",
   "execution_count": 50,
   "id": "b3bf7721-7271-4bc6-a6dc-ec248374eb85",
   "metadata": {},
   "outputs": [],
   "source": [
    "L4P8Q1 = MultipleChoice('1. To test assumptions and run post-hocs in Python, what steps will you need to take?',[\"A. Only keep the levels of the independent variable you're testing\",'B. Only keep the two variables in your ANOVA','C. Ensure your DV is an integer','D. Recode your IV to be numeric','E. All of the above'],'E. All of the above')\n",
    "L4P8Q2 = MultipleChoice('2. You can correct for violating the assumption of homogeneity of variance in Python.',['A. True','B. False'],'B. False')"
   ]
  },
  {
   "cell_type": "code",
   "execution_count": 51,
   "id": "e2d2bc8c-abe0-4fd9-b19b-bcbc1a2d228b",
   "metadata": {},
   "outputs": [
    {
     "data": {
      "application/vnd.jupyter.widget-view+json": {
       "model_id": "7e49d1d8f4e340699087ef2e71915220",
       "version_major": 2,
       "version_minor": 0
      },
      "text/plain": [
       "VBox(children=(Output(outputs=({'name': 'stdout', 'text': '1. To test assumptions and run post-hocs in Python,…"
      ]
     },
     "metadata": {},
     "output_type": "display_data"
    },
    {
     "data": {
      "application/vnd.jupyter.widget-view+json": {
       "model_id": "c639928748e34a7daa0e95676e246cc2",
       "version_major": 2,
       "version_minor": 0
      },
      "text/plain": [
       "VBox(children=(Output(outputs=({'name': 'stdout', 'text': '2. You can correct for violating the assumption of …"
      ]
     },
     "metadata": {},
     "output_type": "display_data"
    }
   ],
   "source": [
    "if __name__ == \"__main__\":\n",
    "    display(L4P8Q1, L4P8Q2)"
   ]
  },
  {
   "cell_type": "markdown",
   "id": "ce9f3538-f1db-4a5a-9d9a-8ef25f80eb12",
   "metadata": {},
   "source": [
    "## Page 9"
   ]
  },
  {
   "cell_type": "code",
   "execution_count": 52,
   "id": "24febd23-f925-4f63-ad08-be05ce62bfb9",
   "metadata": {},
   "outputs": [],
   "source": [
    "L4P9Q1 = MultipleChoice('1. Which of the following will give you a basic one way ANOVA in Python?',['A. posthoc.tukeyhsd()','B. MultiComparison()','C. stats.f_oneway()','D. .groupby()'],'C. stats.f_oneway()')\n",
    "L4P9Q2 = MultipleChoice('2. Can you address a violation of the assumption of homogeneity of variance in Python?',['A. Yes','B. No'],'B. No')"
   ]
  },
  {
   "cell_type": "code",
   "execution_count": 53,
   "id": "15d42c64-8898-478b-9a40-579a160e06bd",
   "metadata": {},
   "outputs": [
    {
     "data": {
      "application/vnd.jupyter.widget-view+json": {
       "model_id": "67745c1a6363410eb8d3c1724ceafc28",
       "version_major": 2,
       "version_minor": 0
      },
      "text/plain": [
       "VBox(children=(Output(outputs=({'name': 'stdout', 'text': '1. Which of the following will give you a basic one…"
      ]
     },
     "metadata": {},
     "output_type": "display_data"
    },
    {
     "data": {
      "application/vnd.jupyter.widget-view+json": {
       "model_id": "d9cbfd69b9ce45f49486ea4564359618",
       "version_major": 2,
       "version_minor": 0
      },
      "text/plain": [
       "VBox(children=(Output(outputs=({'name': 'stdout', 'text': '2. Can you address a violation of the assumption of…"
      ]
     },
     "metadata": {},
     "output_type": "display_data"
    }
   ],
   "source": [
    "if __name__ == \"__main__\":\n",
    "    display(L4P9Q1, L4P9Q2)"
   ]
  },
  {
   "cell_type": "markdown",
   "id": "5fa39846-af97-4b68-b741-7bdc3ebcaa61",
   "metadata": {},
   "source": [
    "## Lesson 5\n",
    "\n",
    "## Page 2"
   ]
  },
  {
   "cell_type": "code",
   "execution_count": 56,
   "id": "0c596943-dd75-41dc-bbfb-9568443b1739",
   "metadata": {},
   "outputs": [],
   "source": [
    "L5P2Q1 = MultipleChoice('1. Which data format is required for repeated measures ANOVAs in R?',['A. Long','B. Wide'],'A. Long')\n",
    "L5P2Q2 = MultipleChoice('2. The assumptions for one-way ANOVAs and repeated measures ANOVAs are the same.',['A. True','B. False'],'B. False')"
   ]
  },
  {
   "cell_type": "code",
   "execution_count": 57,
   "id": "31e1df7c-3cb4-432a-9a90-5595664c5842",
   "metadata": {},
   "outputs": [
    {
     "data": {
      "application/vnd.jupyter.widget-view+json": {
       "model_id": "eb9facb87c924d3b989b90b9d1ef655a",
       "version_major": 2,
       "version_minor": 0
      },
      "text/plain": [
       "VBox(children=(Output(outputs=({'name': 'stdout', 'text': '1. Which data format is required for repeated measu…"
      ]
     },
     "metadata": {},
     "output_type": "display_data"
    },
    {
     "data": {
      "application/vnd.jupyter.widget-view+json": {
       "model_id": "80b5d741667c46b79bcd1adde9d77277",
       "version_major": 2,
       "version_minor": 0
      },
      "text/plain": [
       "VBox(children=(Output(outputs=({'name': 'stdout', 'text': '2. The assumptions for one-way ANOVAs and repeated …"
      ]
     },
     "metadata": {},
     "output_type": "display_data"
    }
   ],
   "source": [
    "if __name__ == \"__main__\":\n",
    "    display(L5P2Q1, L5P2Q2)"
   ]
  },
  {
   "cell_type": "markdown",
   "id": "f0d0fb5d-250e-4853-9bf6-9ad3438300be",
   "metadata": {},
   "source": [
    "## Page 3"
   ]
  },
  {
   "cell_type": "code",
   "execution_count": 58,
   "id": "168dac41-bdbd-4dbd-8d6e-65b33aacc23a",
   "metadata": {},
   "outputs": [],
   "source": [
    "L5P3Q1 = MultipleChoice('1. What part of the code when running an ANOVA indicates that it is repeated measures?',['A. aov()','B. ~','C. summary()','D. Error()'],'D. Error()')\n",
    "L5P3Q2 = MultipleChoice('2. You see a line in your repeated measures ANOVA output that starts with Group:contrasts. What type of effect is that?',['A. Significant effect','B. Interaction effect','C. One way effect of time','D. One way effect of group'],'B. Interaction effect')"
   ]
  },
  {
   "cell_type": "code",
   "execution_count": 60,
   "id": "b0cb8401-74ce-4c46-b6e1-9d189ef47d3b",
   "metadata": {},
   "outputs": [
    {
     "data": {
      "application/vnd.jupyter.widget-view+json": {
       "model_id": "1eaf275b6294473f8a40c2550b4eb004",
       "version_major": 2,
       "version_minor": 0
      },
      "text/plain": [
       "VBox(children=(Output(outputs=({'name': 'stdout', 'text': '1. What part of the code when running an ANOVA indi…"
      ]
     },
     "metadata": {},
     "output_type": "display_data"
    },
    {
     "data": {
      "application/vnd.jupyter.widget-view+json": {
       "model_id": "8543b0fe82ac45eea23e04c0a2c377f4",
       "version_major": 2,
       "version_minor": 0
      },
      "text/plain": [
       "VBox(children=(Output(outputs=({'name': 'stdout', 'text': '2. You see a line in your repeated measures ANOVA o…"
      ]
     },
     "metadata": {},
     "output_type": "display_data"
    }
   ],
   "source": [
    "if __name__ == \"__main__\":\n",
    "    display(L5P3Q1, L5P3Q2)"
   ]
  },
  {
   "cell_type": "markdown",
   "id": "b11f5104-9379-42eb-9260-837991e741bd",
   "metadata": {},
   "source": [
    "## Lesson 6\n",
    "\n",
    "## Page 2"
   ]
  },
  {
   "cell_type": "code",
   "execution_count": 62,
   "id": "48dd51bf-1ceb-44d5-a667-fa54b523081f",
   "metadata": {},
   "outputs": [],
   "source": [
    "L6P2Q1 = MultipleChoice('1. How does a mixed measures ANOVA differ from a repeated measures ANOVA?',['A. Mixed measures has a wihtin and a bewteen subjects factor, repeated measures only has a within subjects factor','B. Mized measures had only a wihtin subjects factor, repeated measures has a wihtin and between subjects factor','C. Mixed measures has a factor of time, repeated measures does not','D. Repeated measures has a factor of time, mixed measures does not'],'A. Mixed measures has a wihtin and a bewteen subjects factor, repeated measures only has a within subjects factor')"
   ]
  },
  {
   "cell_type": "code",
   "execution_count": 63,
   "id": "7f61bcd6-6850-43f6-93d7-93fa9b426831",
   "metadata": {},
   "outputs": [
    {
     "data": {
      "application/vnd.jupyter.widget-view+json": {
       "model_id": "d078b2bf562e43818ccbc61c8f6592eb",
       "version_major": 2,
       "version_minor": 0
      },
      "text/plain": [
       "VBox(children=(Output(outputs=({'name': 'stdout', 'text': '1. How does a mixed measures ANOVA differ from a re…"
      ]
     },
     "metadata": {},
     "output_type": "display_data"
    }
   ],
   "source": [
    "if __name__ == \"__main__\":\n",
    "    display(L6P2Q1)"
   ]
  },
  {
   "cell_type": "markdown",
   "id": "c724b0be-8382-4560-876a-31051abdc4da",
   "metadata": {},
   "source": [
    "## Page 3"
   ]
  },
  {
   "cell_type": "code",
   "execution_count": 2,
   "id": "2cc3ad74-689f-48c6-b84d-36971217fa80",
   "metadata": {},
   "outputs": [],
   "source": [
    "L6P3Q1 = MultipleChoice('1. You see a line in your repeated measures ANOVA output that starts with Group:contrasts. What type of effect is that?',['A. Significant effect','B. Interaction effect','C. One way effect of time','D. One way effect of group'],'B. Interaction effect')"
   ]
  },
  {
   "cell_type": "code",
   "execution_count": 3,
   "id": "12ed78d4-736e-497e-873b-56fd58818e97",
   "metadata": {},
   "outputs": [
    {
     "data": {
      "application/vnd.jupyter.widget-view+json": {
       "model_id": "5e588ea7b25047f1ab9038d9ef928d09",
       "version_major": 2,
       "version_minor": 0
      },
      "text/plain": [
       "VBox(children=(Output(outputs=({'name': 'stdout', 'text': '1. You see a line in your repeated measures ANOVA o…"
      ]
     },
     "metadata": {},
     "output_type": "display_data"
    }
   ],
   "source": [
    "if __name__ == \"__main__\":\n",
    "    display(L6P3Q1)"
   ]
  },
  {
   "cell_type": "markdown",
   "id": "6d1aa4a0-95e8-4a2e-9374-358dcd31fbdd",
   "metadata": {},
   "source": [
    "## Lesson 7\n",
    "\n",
    "## Page 2"
   ]
  },
  {
   "cell_type": "code",
   "execution_count": 4,
   "id": "a786f80d-e033-49f3-85eb-c5dd12c27813",
   "metadata": {},
   "outputs": [],
   "source": [
    "L7P2Q1 = MultipleChoice('1. Analyses of covariance are very similar to ANOVAs.',['A. True','B. False'],'A. True')\n",
    "L7P2Q2 = MultipleChoice('2. What is a covariate meant to do?',['A. Look at change over time','B. Be another factor in your ANOVA','C. Control for natural effects','D. Determine between subjects effects'],'C. Control for natural effects')\n",
    "L7P2Q3 = MultipleChoice('3. Can you use categorical covariates?',['A. Yes, but they need to be dummy coded','B. Yes','C. No'],'A. Yes, but they need to be dummy coded')"
   ]
  },
  {
   "cell_type": "code",
   "execution_count": 5,
   "id": "9588155b-f378-46b3-8ec5-f21113ae1cef",
   "metadata": {},
   "outputs": [
    {
     "data": {
      "application/vnd.jupyter.widget-view+json": {
       "model_id": "cbf4b3834180488eabed994a1a309315",
       "version_major": 2,
       "version_minor": 0
      },
      "text/plain": [
       "VBox(children=(Output(outputs=({'name': 'stdout', 'text': '1. Analyses of covariance are very similar to ANOVA…"
      ]
     },
     "metadata": {},
     "output_type": "display_data"
    },
    {
     "data": {
      "application/vnd.jupyter.widget-view+json": {
       "model_id": "04d1782de209402a8cb4fb3197c312e4",
       "version_major": 2,
       "version_minor": 0
      },
      "text/plain": [
       "VBox(children=(Output(outputs=({'name': 'stdout', 'text': '2. What is a covariate meant to do?\\n', 'output_typ…"
      ]
     },
     "metadata": {},
     "output_type": "display_data"
    },
    {
     "data": {
      "application/vnd.jupyter.widget-view+json": {
       "model_id": "702ca54113444831b65515cede17862a",
       "version_major": 2,
       "version_minor": 0
      },
      "text/plain": [
       "VBox(children=(Output(outputs=({'name': 'stdout', 'text': '3. Can you use categorical covariates?\\n', 'output_…"
      ]
     },
     "metadata": {},
     "output_type": "display_data"
    }
   ],
   "source": [
    "if __name__ == \"__main__\":\n",
    "    display(L7P2Q1, L7P2Q2, L7P2Q3)"
   ]
  },
  {
   "cell_type": "markdown",
   "id": "8c7942d9-d401-445c-85d8-d9c7acdc82f9",
   "metadata": {},
   "source": [
    "## Page 3"
   ]
  },
  {
   "cell_type": "code",
   "execution_count": 6,
   "id": "d0c765b2-0830-46fb-a36e-afc3e4d646c0",
   "metadata": {},
   "outputs": [],
   "source": [
    "L7P3Q1 = MultipleChoice('1. All categorical variables need to be factors in R to complete all the necessary steps of ANCOVAs.',['A. True','B. False'],'A. True')\n",
    "L7P3Q2 = MultipleChoice('2. What does the assumption of homogeneity of regression slopes test for?',['A. Whether the IVs are related','B. Whether the IV and the DV are related','C. Whether the covariate and the DV are related','D. Whether the covariate and the IV are related'],'C. Whether the covariate and the DV are related')\n",
    "L7P3Q3 = MultipleChoice('3. If you violate the assumption of homogeneity of regression slopes, what should you do?',['A. Panic','B. Use the CV as an additional IV in your ANOVA model instead','C. Use the IV as an additional CV in your ANOVA model instead','D. Do not conduct any tests in the family of ANOVAs'],'B. Use the CV as an additional IV in your ANOVA model instead')\n",
    "L7P3Q4 = MultipleChoice('4. Jenny decides to create an ANCOVA model holding gender and age constant that looks at the influence of horses on happiness levels for an equine therapy trial. What is the minimum sample size she needs, per the assumptions of ANCOVA?',['A. 20','B. 40','C. 60','D. 80'],'C. 60')"
   ]
  },
  {
   "cell_type": "code",
   "execution_count": 7,
   "id": "852234fa-66f3-4b96-97a8-be6895f7437c",
   "metadata": {},
   "outputs": [
    {
     "data": {
      "application/vnd.jupyter.widget-view+json": {
       "model_id": "be8e0b897ce047b88e41e776e27b0762",
       "version_major": 2,
       "version_minor": 0
      },
      "text/plain": [
       "VBox(children=(Output(outputs=({'name': 'stdout', 'text': '1. All categorical variables need to be factors in …"
      ]
     },
     "metadata": {},
     "output_type": "display_data"
    },
    {
     "data": {
      "application/vnd.jupyter.widget-view+json": {
       "model_id": "a4e7c7ee23974685ad2d49e77525625a",
       "version_major": 2,
       "version_minor": 0
      },
      "text/plain": [
       "VBox(children=(Output(outputs=({'name': 'stdout', 'text': '2. What does the assumption of homogeneity of regre…"
      ]
     },
     "metadata": {},
     "output_type": "display_data"
    },
    {
     "data": {
      "application/vnd.jupyter.widget-view+json": {
       "model_id": "7f3afe05710748ab81e148a8cfa1169d",
       "version_major": 2,
       "version_minor": 0
      },
      "text/plain": [
       "VBox(children=(Output(outputs=({'name': 'stdout', 'text': '3. If you violate the assumption of homogeneity of …"
      ]
     },
     "metadata": {},
     "output_type": "display_data"
    },
    {
     "data": {
      "application/vnd.jupyter.widget-view+json": {
       "model_id": "2d182852eabd438883b566363431fc68",
       "version_major": 2,
       "version_minor": 0
      },
      "text/plain": [
       "VBox(children=(Output(outputs=({'name': 'stdout', 'text': '4. Jenny decides to create an ANCOVA model holding …"
      ]
     },
     "metadata": {},
     "output_type": "display_data"
    }
   ],
   "source": [
    "if __name__ == \"__main__\":\n",
    "    display(L7P3Q1, L7P3Q2, L7P3Q3, L7P3Q4)"
   ]
  },
  {
   "cell_type": "markdown",
   "id": "3ba84f1c-eb86-4392-aa9e-080f4b43157e",
   "metadata": {},
   "source": [
    "## Page 4"
   ]
  },
  {
   "cell_type": "code",
   "execution_count": 8,
   "id": "cef134a9-fb03-4a01-b0cc-6557ff5d9776",
   "metadata": {},
   "outputs": [],
   "source": [
    "L7P4Q1 = MultipleChoice('1. In the above model, which variable is guaranteed to be a covariate?',['A. Gender','B. Age','C. MooseDroppings','D. Diet'],'A. Gender')\n",
    "L7P4Q2 = MultipleChoice('2. Which sign looks at an interaction between variables in an ANOVA-family model?',['A. ~','B. +','C. *','D. ='],'C. *')\n",
    "L7P4Q3 = MultipleChoice('3. If you have an interaction effect, which type= specification is required if the assumption of homogeneity of variance has been violated?',['A. Type 1','B. Type 2','C. Type 3'],'A. Type 1')\n",
    "L7P4Q4 = MultipleChoice('4. It is important to look at adjusted means when using ANCOVAS.',['A. True','B. False'],'A. True')"
   ]
  },
  {
   "cell_type": "markdown",
   "id": "1eda0059-fcc8-434e-b4cc-7fff6873caa0",
   "metadata": {},
   "source": [
    "#### Question 1 info\n",
    "\n",
    "ANCOVA = lm(MooseDroppings~Gender + Age + Diet*Gender + Diet*Age, data=MoosePoop)"
   ]
  },
  {
   "cell_type": "code",
   "execution_count": 9,
   "id": "821040a5-4ed9-47f3-9abb-450f20d5a519",
   "metadata": {},
   "outputs": [
    {
     "data": {
      "application/vnd.jupyter.widget-view+json": {
       "model_id": "adf9e39001584fbf9aedbc91c1432298",
       "version_major": 2,
       "version_minor": 0
      },
      "text/plain": [
       "VBox(children=(Output(outputs=({'name': 'stdout', 'text': '1. In the above model, which variable is guaranteed…"
      ]
     },
     "metadata": {},
     "output_type": "display_data"
    }
   ],
   "source": [
    "if __name__ == \"__main__\":\n",
    "    display(L7P4Q1)"
   ]
  },
  {
   "cell_type": "code",
   "execution_count": 10,
   "id": "3a859d0c-89ce-49ae-b422-771dec7e6b05",
   "metadata": {},
   "outputs": [
    {
     "data": {
      "application/vnd.jupyter.widget-view+json": {
       "model_id": "9ed49520977242669d8fa3c593a9c076",
       "version_major": 2,
       "version_minor": 0
      },
      "text/plain": [
       "VBox(children=(Output(outputs=({'name': 'stdout', 'text': '2. Which sign looks at an interaction between varia…"
      ]
     },
     "metadata": {},
     "output_type": "display_data"
    },
    {
     "data": {
      "application/vnd.jupyter.widget-view+json": {
       "model_id": "543d9ddb04d84052bb13556fc3128414",
       "version_major": 2,
       "version_minor": 0
      },
      "text/plain": [
       "VBox(children=(Output(outputs=({'name': 'stdout', 'text': '3. If you have an interaction effect, which type= s…"
      ]
     },
     "metadata": {},
     "output_type": "display_data"
    },
    {
     "data": {
      "application/vnd.jupyter.widget-view+json": {
       "model_id": "9a43273b696e43cfb96cd557021f25c2",
       "version_major": 2,
       "version_minor": 0
      },
      "text/plain": [
       "VBox(children=(Output(outputs=({'name': 'stdout', 'text': '4. It is important to look at adjusted means when u…"
      ]
     },
     "metadata": {},
     "output_type": "display_data"
    }
   ],
   "source": [
    "if __name__ == \"__main__\":\n",
    "    display(L7P4Q2, L7P4Q3, L7P4Q4)"
   ]
  },
  {
   "cell_type": "markdown",
   "id": "133af83f-90b7-476a-a1bd-2cef00ffcc03",
   "metadata": {},
   "source": [
    "## Lesson 8\n",
    "\n",
    "## Page 2"
   ]
  },
  {
   "cell_type": "code",
   "execution_count": 11,
   "id": "46bc7362-4a78-45f0-93b4-e1758e84981a",
   "metadata": {},
   "outputs": [],
   "source": [
    "L8P2Q1 = MultipleChoice('1. What is the primary way in which ANOVAs differ from MANOVAs?',['A. ANOVAs have only one dependent variable, MANOVAs have multiple','B. ANOVAs have multiple dependent variables, MANOVAs have just one','C. ANOVAs have only one independent variable, MANOVAs have multiple','D. ANOVAs have multiple independent variables, MANOVAs have just one'],'A. ANOVAs have only one dependent variable, MANOVAs have multiple')\n",
    "L8P2Q2 = MultipleChoice('2. Which of the following is NOT a reason to use one MANOVA instead of multiple ANOVAs?',['A. Reduces type 1 error rate','B. Reduces type 2 error rate','C. Increased power to detect effects','D. Saves time and coding'],'B. Reduces type 2 error rate')\n",
    "L8P2Q3 = MultipleChoice('3. Any variation of ANOVAs can be applied to MANOVAs as well.',['A. True','B. False'],'B. True')"
   ]
  },
  {
   "cell_type": "code",
   "execution_count": 12,
   "id": "01d21956-1b6b-40d4-b5a5-625fefc3dc5c",
   "metadata": {},
   "outputs": [
    {
     "data": {
      "application/vnd.jupyter.widget-view+json": {
       "model_id": "5f29cb7864724d00addeff7af25ba188",
       "version_major": 2,
       "version_minor": 0
      },
      "text/plain": [
       "VBox(children=(Output(outputs=({'name': 'stdout', 'text': '1. What is the primary way in which ANOVAs differ f…"
      ]
     },
     "metadata": {},
     "output_type": "display_data"
    },
    {
     "data": {
      "application/vnd.jupyter.widget-view+json": {
       "model_id": "1515fd39992440a9acad8004960a90e3",
       "version_major": 2,
       "version_minor": 0
      },
      "text/plain": [
       "VBox(children=(Output(outputs=({'name': 'stdout', 'text': '2. Which of the following is NOT a reason to use on…"
      ]
     },
     "metadata": {},
     "output_type": "display_data"
    },
    {
     "data": {
      "application/vnd.jupyter.widget-view+json": {
       "model_id": "aa3aa9a2293045569c92dc14505148cc",
       "version_major": 2,
       "version_minor": 0
      },
      "text/plain": [
       "VBox(children=(Output(outputs=({'name': 'stdout', 'text': '3. Any variation of ANOVAs can be applied to MANOVA…"
      ]
     },
     "metadata": {},
     "output_type": "display_data"
    }
   ],
   "source": [
    "if __name__ == \"__main__\":\n",
    "    display(L8P2Q1, L8P2Q2, L8P2Q3)"
   ]
  },
  {
   "cell_type": "markdown",
   "id": "3f8e847e-a217-4433-9d0c-b849cff10a4f",
   "metadata": {},
   "source": [
    "## Page 3"
   ]
  },
  {
   "cell_type": "code",
   "execution_count": 13,
   "id": "0d53cc4a-bd39-4bd5-b70e-855382fb4289",
   "metadata": {},
   "outputs": [],
   "source": [
    "L8P3Q1 = MultipleChoice('1. Which of the following is not required to perform the Wilks-Shapiro test of multivariate normality?',['A. Data stored in a matrix','B. Numeric data','C. 5000 or fewer cases','D. Data stored in a data frame'],'D. Data stored in a data frame')\n",
    "L8P3Q2 = MultipleChoice(\"2. If you had 5 dependent variables, how many times would you need to run Levene's Test of homogeneity of variance?\",['A. 1','B. 5','C. 7','D. 3'],'B. 5')\n",
    "L8P3Q3 = MultipleChoice('3. How do you test for the absence of multicollinearity?',['A. Determine the correlation between independent variables','B. Determine the correlation between dependent variables','C. Determine the correlation between all variables in your model','D. Use the Wilks-Shapiro test'],'B. Determine the correlation between dependent variables')"
   ]
  },
  {
   "cell_type": "code",
   "execution_count": 14,
   "id": "55f3bf8d-1b81-45c0-9f8f-dd87198c34d5",
   "metadata": {},
   "outputs": [
    {
     "data": {
      "application/vnd.jupyter.widget-view+json": {
       "model_id": "5f6713cf70e643b9890f523dc445c439",
       "version_major": 2,
       "version_minor": 0
      },
      "text/plain": [
       "VBox(children=(Output(outputs=({'name': 'stdout', 'text': '1. Which of the following is not required to perfor…"
      ]
     },
     "metadata": {},
     "output_type": "display_data"
    },
    {
     "data": {
      "application/vnd.jupyter.widget-view+json": {
       "model_id": "7dbcfaeee05044e6baad0e345ca0ec64",
       "version_major": 2,
       "version_minor": 0
      },
      "text/plain": [
       "VBox(children=(Output(outputs=({'name': 'stdout', 'text': \"2. If you had 5 dependent variables, how many times…"
      ]
     },
     "metadata": {},
     "output_type": "display_data"
    },
    {
     "data": {
      "application/vnd.jupyter.widget-view+json": {
       "model_id": "79422dd67cbf4d12832fccda6797d249",
       "version_major": 2,
       "version_minor": 0
      },
      "text/plain": [
       "VBox(children=(Output(outputs=({'name': 'stdout', 'text': '3. How do you test for the absence of multicollinea…"
      ]
     },
     "metadata": {},
     "output_type": "display_data"
    }
   ],
   "source": [
    "if __name__ == \"__main__\":\n",
    "    display(L8P3Q1, L8P3Q2, L8P3Q3)"
   ]
  },
  {
   "cell_type": "markdown",
   "id": "26956f54-0b68-4c9e-92d8-150dd63c6543",
   "metadata": {},
   "source": [
    "## Page 4"
   ]
  },
  {
   "cell_type": "code",
   "execution_count": 15,
   "id": "3813fc8f-cd35-4455-877e-ab4d2c22de38",
   "metadata": {},
   "outputs": [],
   "source": [
    "L8P4Q1 = MultipleChoice('1. What does the function cbind() do?',['A. Perform a post hoc on the dependent variables','B. Perform a post hoc on the independent variables','C. Stick your dependent variables together','D. Stick your independent variables together'],'C. Stick your dependent variables together')\n",
    "L8P4Q2 = MultipleChoice('2. What is the appropriate post hoc for a MANOVA?',['A. ANOVAs','B. Pairwise t-tests','C. Chi-Squares'],'A. ANOVAs')"
   ]
  },
  {
   "cell_type": "code",
   "execution_count": 16,
   "id": "f3ef1b21-4bce-42f1-a367-61c79ee5486f",
   "metadata": {},
   "outputs": [
    {
     "data": {
      "application/vnd.jupyter.widget-view+json": {
       "model_id": "8d8c608017184587989f0bcc4a29d51b",
       "version_major": 2,
       "version_minor": 0
      },
      "text/plain": [
       "VBox(children=(Output(outputs=({'name': 'stdout', 'text': '1. What does the function cbind() do?\\n', 'output_t…"
      ]
     },
     "metadata": {},
     "output_type": "display_data"
    },
    {
     "data": {
      "application/vnd.jupyter.widget-view+json": {
       "model_id": "3f8b2d5170a6444ab71e940547924cf9",
       "version_major": 2,
       "version_minor": 0
      },
      "text/plain": [
       "VBox(children=(Output(outputs=({'name': 'stdout', 'text': '2. What is the appropriate post hoc for a MANOVA?\\n…"
      ]
     },
     "metadata": {},
     "output_type": "display_data"
    }
   ],
   "source": [
    "if __name__ == \"__main__\":\n",
    "    display(L8P4Q1, L8P4Q2)"
   ]
  },
  {
   "cell_type": "markdown",
   "id": "0b61f12c-1344-451d-ac29-68275cc99ba7",
   "metadata": {},
   "source": [
    "## Lesson 9\n",
    "\n",
    "## Page 2"
   ]
  },
  {
   "cell_type": "code",
   "execution_count": 17,
   "id": "ced50c4e-7878-4a7c-913e-eb41bf21335f",
   "metadata": {},
   "outputs": [],
   "source": [
    "L9P2Q1 = MultipleChoice('1. Of which type of error is this statement above an example?',['A. Type 1 error','B. Type 2 error'],'A. Type 1 error')\n",
    "L9P2Q2 = MultipleChoice('2. Of which type of error is this statement above an example?',['A. Type 1 error','B. Type 2 error'],'B. Type 2 error')\n",
    "L9P2Q3 = MultipleChoice('3. Which of the following statements about power is INCORRECT?',['A. Power is great with a one-tailed test','B. As the standard deviation gets bigger, power gets smaller','C. As the sample size gets smaller, power gets larger','D. As the sample size gets bigger, power gets larger'],'C. As the sample size gets smaller, power gets larger')\n",
    "L9P2Q4 = MultipleChoice('4. If you want to examine power ahead of time, which type of power should you use?',['A. A priori','B. post hoc'],'A. A priori')\n",
    "L9P2Q5 = MultipleChoice('5. What is the typical value for power?',['A. .05','B. .08','C. .2','D. .8'],'D. .8')"
   ]
  },
  {
   "cell_type": "markdown",
   "id": "add169d1-f3dc-47d0-b642-f04440f63b75",
   "metadata": {},
   "source": [
    "#### Question 1 info\n",
    "\n",
    "You are looking at some ice cream sales data and report that mint chocolate chip is selling better than cookie dough, but in reality, they are selling at the same rate."
   ]
  },
  {
   "cell_type": "code",
   "execution_count": 18,
   "id": "c3997735-97cf-43a8-8374-0aebf81edc40",
   "metadata": {},
   "outputs": [
    {
     "data": {
      "application/vnd.jupyter.widget-view+json": {
       "model_id": "7af5ad2ea143407095a62e21227ec430",
       "version_major": 2,
       "version_minor": 0
      },
      "text/plain": [
       "VBox(children=(Output(outputs=({'name': 'stdout', 'text': '1. Of which type of error is this statement above a…"
      ]
     },
     "metadata": {},
     "output_type": "display_data"
    }
   ],
   "source": [
    "if __name__ == \"__main__\":\n",
    "    display(L9P2Q1)"
   ]
  },
  {
   "cell_type": "markdown",
   "id": "4cd0a32b-844c-4770-8798-717b4924c348",
   "metadata": {},
   "source": [
    "#### Question 2 info\n",
    "\n",
    "Of which type of error is this statement an example?"
   ]
  },
  {
   "cell_type": "code",
   "execution_count": 19,
   "id": "5da4582c-eb6a-44ed-8ddc-ad790a668f81",
   "metadata": {},
   "outputs": [
    {
     "data": {
      "application/vnd.jupyter.widget-view+json": {
       "model_id": "bcd002366dbc4b9f89de1939bc03bd66",
       "version_major": 2,
       "version_minor": 0
      },
      "text/plain": [
       "VBox(children=(Output(outputs=({'name': 'stdout', 'text': '2. Of which type of error is this statement above a…"
      ]
     },
     "metadata": {},
     "output_type": "display_data"
    }
   ],
   "source": [
    "if __name__ == \"__main__\":\n",
    "    display(L9P2Q2)"
   ]
  },
  {
   "cell_type": "code",
   "execution_count": 20,
   "id": "fed0cf11-e3ad-43a5-a631-b2a942ef4f70",
   "metadata": {},
   "outputs": [
    {
     "data": {
      "application/vnd.jupyter.widget-view+json": {
       "model_id": "cb16bf9735d5482fb40c41498bbadb4e",
       "version_major": 2,
       "version_minor": 0
      },
      "text/plain": [
       "VBox(children=(Output(outputs=({'name': 'stdout', 'text': '3. Which of the following statements about power is…"
      ]
     },
     "metadata": {},
     "output_type": "display_data"
    },
    {
     "data": {
      "application/vnd.jupyter.widget-view+json": {
       "model_id": "82898f0ca8a14c2884ba487db5ecb340",
       "version_major": 2,
       "version_minor": 0
      },
      "text/plain": [
       "VBox(children=(Output(outputs=({'name': 'stdout', 'text': '4. If you want to examine power ahead of time, whic…"
      ]
     },
     "metadata": {},
     "output_type": "display_data"
    },
    {
     "data": {
      "application/vnd.jupyter.widget-view+json": {
       "model_id": "47e4d6c426c24840b5f26949e441dc30",
       "version_major": 2,
       "version_minor": 0
      },
      "text/plain": [
       "VBox(children=(Output(outputs=({'name': 'stdout', 'text': '5. What is the typical value for power?\\n', 'output…"
      ]
     },
     "metadata": {},
     "output_type": "display_data"
    }
   ],
   "source": [
    "if __name__ == \"__main__\":\n",
    "    display(L9P2Q3, L9P2Q4, L9P2Q5)"
   ]
  },
  {
   "cell_type": "markdown",
   "id": "b2cc1b71-8074-4c04-b1d9-7a7586f17747",
   "metadata": {},
   "source": [
    "## Page 5"
   ]
  },
  {
   "cell_type": "code",
   "execution_count": null,
   "id": "c22a8c3f-d0fa-4935-8691-bd55371cda8e",
   "metadata": {},
   "outputs": [],
   "source": [
    "L9P5Q1 = MultipleChoice('1. ',['A. ','B. '],'B. ')\n",
    "L9P5Q2 = MultipleChoice('2. ',['A. ','B. '],'A. ')"
   ]
  },
  {
   "cell_type": "code",
   "execution_count": null,
   "id": "2db40fe9-c45b-4d01-b9a8-51e7f834b3fe",
   "metadata": {},
   "outputs": [],
   "source": [
    "if __name__ == \"__main__\":\n",
    "    display(L9P5Q1, L9P5Q2)"
   ]
  },
  {
   "cell_type": "code",
   "execution_count": null,
   "id": "1280b077-d2dc-4a63-bb92-ca2d8a01c561",
   "metadata": {},
   "outputs": [],
   "source": []
  },
  {
   "cell_type": "code",
   "execution_count": null,
   "id": "8a69107d-1add-4e29-b7af-93d45fb2eeed",
   "metadata": {},
   "outputs": [],
   "source": []
  },
  {
   "cell_type": "code",
   "execution_count": null,
   "id": "7db2fc82-671a-49ae-a315-26cc6d1a9805",
   "metadata": {},
   "outputs": [],
   "source": []
  },
  {
   "cell_type": "code",
   "execution_count": 41,
   "id": "ceb0ea0d-5154-4c99-bf95-970a58e60cdc",
   "metadata": {},
   "outputs": [],
   "source": [
    "L4P2Q2 = MultipleChoice('2. ',['A. ','B. '],'B. ')\n",
    "L4P2Q3 = MultipleChoice('3. ',['A. ','B. '],'A. ')\n",
    "L4P2Q4 = MultipleChoice('4. ',['A. ','B. '],'B. ')\n",
    "L4P2Q5 = MultipleChoice('5. ',['A. ','B. '],'A. ')"
   ]
  },
  {
   "cell_type": "code",
   "execution_count": null,
   "id": "397df2a6-0693-4a04-9314-3a957be605d2",
   "metadata": {},
   "outputs": [],
   "source": [
    "if __name__ == \"__main__\":\n",
    "    display(L4P9Q1, L4P9Q2)"
   ]
  }
 ],
 "metadata": {
  "kernelspec": {
   "display_name": "Python 3 (ipykernel)",
   "language": "python",
   "name": "python3"
  },
  "language_info": {
   "codemirror_mode": {
    "name": "ipython",
    "version": 3
   },
   "file_extension": ".py",
   "mimetype": "text/x-python",
   "name": "python",
   "nbconvert_exporter": "python",
   "pygments_lexer": "ipython3",
   "version": "3.9.9"
  }
 },
 "nbformat": 4,
 "nbformat_minor": 5
}
