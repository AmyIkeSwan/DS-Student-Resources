{
 "cells": [
  {
   "cell_type": "markdown",
   "id": "701c6664-c3af-4538-bac7-f1a5cc1826cd",
   "metadata": {},
   "source": [
    "# DS105 Questions\n",
    "\n",
    "## Lesson 1\n",
    "\n",
    "## Page 2"
   ]
  },
  {
   "cell_type": "code",
   "execution_count": 1,
   "id": "9fdc1222-3d73-42e1-b6bf-b95d73e3d8ff",
   "metadata": {},
   "outputs": [],
   "source": [
    "from DS_Students import *"
   ]
  },
  {
   "cell_type": "code",
   "execution_count": 3,
   "id": "cf433206-b1c6-41d7-86db-486d7cb4756e",
   "metadata": {},
   "outputs": [],
   "source": [
    "L1P2Q1 = MultipleChoice('1. Which of the following packages are often used for statistical analysis in Python?',['A. pandas','B. numpy','C. scipy', 'D. stats', 'E. Both C & D'],'E. Both C & D')\n",
    "L1P2Q2 = MultipleChoice('2. When would you perform a single sample t-test?',['A. When comparing two related samples','B. Comparing population mean to a single value','C. Looking for relationship between two continuous variables', 'D. When comparing two unrelated samples'],'B. Comparing population mean to a single value')"
   ]
  },
  {
   "cell_type": "code",
   "execution_count": 4,
   "id": "6f20d99a-0d5d-482e-82a1-2adf01327726",
   "metadata": {},
   "outputs": [
    {
     "data": {
      "application/vnd.jupyter.widget-view+json": {
       "model_id": "806e871ab12e4d3a92dd2218da44f40e",
       "version_major": 2,
       "version_minor": 0
      },
      "text/plain": [
       "VBox(children=(Output(outputs=({'name': 'stdout', 'text': '1. Which of the following packages are often used f…"
      ]
     },
     "metadata": {},
     "output_type": "display_data"
    },
    {
     "data": {
      "application/vnd.jupyter.widget-view+json": {
       "model_id": "1108c9ac2302409c9795d6361517b078",
       "version_major": 2,
       "version_minor": 0
      },
      "text/plain": [
       "VBox(children=(Output(outputs=({'name': 'stdout', 'text': '2. When would you perform a single sample t-test?\\n…"
      ]
     },
     "metadata": {},
     "output_type": "display_data"
    }
   ],
   "source": [
    "if __name__ == \"__main__\":\n",
    "    display(L1P2Q1, L1P2Q2)"
   ]
  },
  {
   "cell_type": "markdown",
   "id": "59237b93-23a1-4511-9c47-069ff58089ca",
   "metadata": {},
   "source": [
    "## Page 5"
   ]
  },
  {
   "cell_type": "code",
   "execution_count": 5,
   "id": "9e09c0eb-06d1-440a-9c2a-4ced3fa16e4e",
   "metadata": {},
   "outputs": [],
   "source": [
    "L1P5Q1 = MultipleChoice('1. When would you perform an independent t-test?',['A. When comparing two related samples','B. When comparing a population mean to a single value','C. When looking for the relationship between two continuous variables', 'D. When comparing two unrelated samples'],'D. When comparing two unrelated samples')\n",
    "L1P5Q2 = MultipleChoice('2. What data is required for an independent t-test?',['A. One independent, categorical variable and one dependent, continuous variable','B. One independent continuous variable and one dependent categorical variable','C. Two independent categorical variables and one dependent, continous variable', 'D. One independent categorical variable and two dependent, continuous variables'],'A. One independent, categorical variable and one dependent, continuous variable')"
   ]
  },
  {
   "cell_type": "code",
   "execution_count": 6,
   "id": "395b4e32-213a-432c-8570-dba7e76bc602",
   "metadata": {},
   "outputs": [
    {
     "data": {
      "application/vnd.jupyter.widget-view+json": {
       "model_id": "4ed29fbfc46b452f81a5c0438633c63b",
       "version_major": 2,
       "version_minor": 0
      },
      "text/plain": [
       "VBox(children=(Output(outputs=({'name': 'stdout', 'text': '1. When would you perform an independent t-test?\\n'…"
      ]
     },
     "metadata": {},
     "output_type": "display_data"
    },
    {
     "data": {
      "application/vnd.jupyter.widget-view+json": {
       "model_id": "fb6a7985ff25462eacd4caae35c653a8",
       "version_major": 2,
       "version_minor": 0
      },
      "text/plain": [
       "VBox(children=(Output(outputs=({'name': 'stdout', 'text': '2. What data is required for an independent t-test?…"
      ]
     },
     "metadata": {},
     "output_type": "display_data"
    }
   ],
   "source": [
    "if __name__ == \"__main__\":\n",
    "    display(L1P5Q1, L1P5Q2)"
   ]
  },
  {
   "cell_type": "markdown",
   "id": "214526dd-72ee-40d8-a2e5-41e165dcd951",
   "metadata": {},
   "source": [
    "## Page 8"
   ]
  },
  {
   "cell_type": "code",
   "execution_count": 7,
   "id": "c8eb6a46-ef59-46c0-8adb-773a004ded82",
   "metadata": {},
   "outputs": [],
   "source": [
    "L1P8Q1 = MultipleChoice('1. When would you perform a dependent t-test?',['A. When comparing two related samples','B. When comparing a population mean to a single value','C. When looking for the relationship between two continuous variables', 'D. When comparing two unrelated samples'],'A. When comparing two related samples')\n",
    "L1P8Q2 = MultipleChoice('2. What data is required for an dependent t-test?',['A. One independent, categorical variable and one dependent, continuous variable','B. One independent continuous variable and one dependent categorical variable','C. Two independent categorical variables and one dependent, continous variable', 'D. One independent categorical variable and two dependent, continuous variables'],'A. One independent, categorical variable and one dependent, continuous variable')\n",
    "L1P8Q3 = MultipleChoice('3. Which function is used for a dependent t-test?',['A. stats.ttest_1samp()','B. ttest_ind()','C. stats.ttest_rel()', 'D. .hist()'],'C. stats.ttest_rel()')"
   ]
  },
  {
   "cell_type": "code",
   "execution_count": 8,
   "id": "3adf2b8c-6d74-449d-abd7-f2ecd2cef18e",
   "metadata": {},
   "outputs": [
    {
     "data": {
      "application/vnd.jupyter.widget-view+json": {
       "model_id": "3c33dc075d7b49e0b48908b8b82fae67",
       "version_major": 2,
       "version_minor": 0
      },
      "text/plain": [
       "VBox(children=(Output(outputs=({'name': 'stdout', 'text': '1. When would you perform a dependent t-test?\\n', '…"
      ]
     },
     "metadata": {},
     "output_type": "display_data"
    },
    {
     "data": {
      "application/vnd.jupyter.widget-view+json": {
       "model_id": "189774207af24cae8691c12fbc3925e8",
       "version_major": 2,
       "version_minor": 0
      },
      "text/plain": [
       "VBox(children=(Output(outputs=({'name': 'stdout', 'text': '2. What data is required for an dependent t-test?\\n…"
      ]
     },
     "metadata": {},
     "output_type": "display_data"
    },
    {
     "data": {
      "application/vnd.jupyter.widget-view+json": {
       "model_id": "871686d86db1498c9a7a35402fa7919a",
       "version_major": 2,
       "version_minor": 0
      },
      "text/plain": [
       "VBox(children=(Output(outputs=({'name': 'stdout', 'text': '3. Which function is used for a dependent t-test?\\n…"
      ]
     },
     "metadata": {},
     "output_type": "display_data"
    }
   ],
   "source": [
    "if __name__ == \"__main__\":\n",
    "    display(L1P8Q1, L1P8Q2, L1P8Q3)"
   ]
  },
  {
   "cell_type": "markdown",
   "id": "fbd02314-2ef4-43be-aa7f-82453a99c3aa",
   "metadata": {},
   "source": [
    "## Page 11"
   ]
  },
  {
   "cell_type": "code",
   "execution_count": 9,
   "id": "d909d1fb-8f00-4e28-b8ed-31c3be525a4c",
   "metadata": {},
   "outputs": [],
   "source": [
    "L1P11Q1 = MultipleChoice('1. What kind of data does a Chi-Square require?',['A. Continuous','B. Categorical','C. Both continuous and categorical'],'B. Categorical')\n",
    "L1P11Q2 = MultipleChoice('2. What is the assumption for Chi-Square?',['A. Expected values of each cell greater than 5','B. Normality','C. Independence'],'A. Expected values of each cell greater than 5')\n",
    "L1P11Q3 = MultipleChoice('3. A contingency table is necessary to run a Chi-Square in Python.',['A. True','B. False'],'A. True')"
   ]
  },
  {
   "cell_type": "code",
   "execution_count": 10,
   "id": "6e065133-ed4b-4985-b9d1-f6cd5b3cbe48",
   "metadata": {},
   "outputs": [
    {
     "data": {
      "application/vnd.jupyter.widget-view+json": {
       "model_id": "2c0d46ddacc947bb8c4dcefb8e06bedb",
       "version_major": 2,
       "version_minor": 0
      },
      "text/plain": [
       "VBox(children=(Output(outputs=({'name': 'stdout', 'text': '1. What kind of data does a Chi-Square require?\\n',…"
      ]
     },
     "metadata": {},
     "output_type": "display_data"
    },
    {
     "data": {
      "application/vnd.jupyter.widget-view+json": {
       "model_id": "677582b043c64bf4badfa1abedfd0c8b",
       "version_major": 2,
       "version_minor": 0
      },
      "text/plain": [
       "VBox(children=(Output(outputs=({'name': 'stdout', 'text': '2. What is the assumption for Chi-Square?\\n', 'outp…"
      ]
     },
     "metadata": {},
     "output_type": "display_data"
    },
    {
     "data": {
      "application/vnd.jupyter.widget-view+json": {
       "model_id": "aff25c357ed7475ca6be15e56d2f754c",
       "version_major": 2,
       "version_minor": 0
      },
      "text/plain": [
       "VBox(children=(Output(outputs=({'name': 'stdout', 'text': '3. A contingency table is necessary to run a Chi-Sq…"
      ]
     },
     "metadata": {},
     "output_type": "display_data"
    }
   ],
   "source": [
    "if __name__ == \"__main__\":\n",
    "    display(L1P11Q1, L1P11Q2, L1P11Q3)"
   ]
  },
  {
   "cell_type": "markdown",
   "id": "daf65896-1c5e-4a53-9017-053cac6fc35b",
   "metadata": {},
   "source": [
    "## Page 14"
   ]
  },
  {
   "cell_type": "code",
   "execution_count": 11,
   "id": "efddf6c3-d45d-466f-849c-6b86d6626668",
   "metadata": {},
   "outputs": [],
   "source": [
    "L1P14Q1 = MultipleChoice('1. A correlation matrix looks at only two variables.',['A. True','B. False'],'B. False')\n",
    "L1P14Q2 = MultipleChoice(\"2. A typical Pearson's correlation is only done on continuous variables.\",['A. True','B. False'],'A. True')"
   ]
  },
  {
   "cell_type": "code",
   "execution_count": 12,
   "id": "461730cf-9d31-4e95-bf67-48904b28f02e",
   "metadata": {},
   "outputs": [
    {
     "data": {
      "application/vnd.jupyter.widget-view+json": {
       "model_id": "6e8c10a9ae434658bdc568d5a5705b67",
       "version_major": 2,
       "version_minor": 0
      },
      "text/plain": [
       "VBox(children=(Output(outputs=({'name': 'stdout', 'text': '1. A correlation matrix looks at only two variables…"
      ]
     },
     "metadata": {},
     "output_type": "display_data"
    },
    {
     "data": {
      "application/vnd.jupyter.widget-view+json": {
       "model_id": "4ebf3ee23f3d4a2381a6b323f1c0a1d5",
       "version_major": 2,
       "version_minor": 0
      },
      "text/plain": [
       "VBox(children=(Output(outputs=({'name': 'stdout', 'text': \"2. A typical Pearson's correlation is only done on …"
      ]
     },
     "metadata": {},
     "output_type": "display_data"
    }
   ],
   "source": [
    "if __name__ == \"__main__\":\n",
    "    display(L1P14Q1, L1P14Q2)"
   ]
  },
  {
   "cell_type": "markdown",
   "id": "6500d234-afdc-4ed5-ac3c-1472239bef19",
   "metadata": {},
   "source": [
    "## Lesson 2\n",
    "\n",
    "## Page 2"
   ]
  },
  {
   "cell_type": "code",
   "execution_count": 13,
   "id": "08f1e16b-281e-4422-99de-89da951de06f",
   "metadata": {},
   "outputs": [],
   "source": [
    "L2P2Q1 = MultipleChoice('1. What kind of distribution has a tail of data on the left, and the majority of the data on the right?',['A. Negatively skewed','B. Positively skewed', 'C. Negatively kurtotic', 'D. Postively kurtotic'],'A. Negatively skewed')\n",
    "L2P2Q2 = MultipleChoice('2. What kind of distribution has a tail of data on the right, and the majority of the data on the left?',['A. Negatively skewed','B. Positively skewed', 'C. Negatively kurtotic', 'D. Postively kurtotic'],'B. Positively skewed')\n",
    "L2P2Q3 = MultipleChoice('3. What kind of distribution is taller than the bell curve?',['A. Negatively skewed','B. Positively skewed', 'C. Negatively kurtotic', 'D. Postively kurtotic'],'D. Positively kurtotic')\n",
    "L2P2Q4 = MultipleChoice('4.  What kind of distribution is flatter than the bell curve?',['A. Negatively skewed','B. Positively skewed', 'C. Negatively kurtotic', 'D. Postively kurtotic'],'C. Negatively kurtotic')\n",
    "L2P2Q5 = MultipleChoice('5. Platykurtic is the term for a positively kurtotic distribution.',['A. True','B. False'],'B. False')"
   ]
  },
  {
   "cell_type": "code",
   "execution_count": 14,
   "id": "0bae0966-731f-4d6f-bb63-623f71f5aec3",
   "metadata": {},
   "outputs": [
    {
     "data": {
      "application/vnd.jupyter.widget-view+json": {
       "model_id": "17516794f83a4b45b3ebefcf144121f2",
       "version_major": 2,
       "version_minor": 0
      },
      "text/plain": [
       "VBox(children=(Output(outputs=({'name': 'stdout', 'text': '1. What kind of distribution has a tail of data on …"
      ]
     },
     "metadata": {},
     "output_type": "display_data"
    },
    {
     "data": {
      "application/vnd.jupyter.widget-view+json": {
       "model_id": "9cfcecbbc7e548fabb1a74c596358332",
       "version_major": 2,
       "version_minor": 0
      },
      "text/plain": [
       "VBox(children=(Output(outputs=({'name': 'stdout', 'text': '2. What kind of distribution has a tail of data on …"
      ]
     },
     "metadata": {},
     "output_type": "display_data"
    },
    {
     "data": {
      "application/vnd.jupyter.widget-view+json": {
       "model_id": "97097d87eb2142a9890655a4d9021461",
       "version_major": 2,
       "version_minor": 0
      },
      "text/plain": [
       "VBox(children=(Output(outputs=({'name': 'stdout', 'text': '3. What kind of distribution is taller than the bel…"
      ]
     },
     "metadata": {},
     "output_type": "display_data"
    },
    {
     "data": {
      "application/vnd.jupyter.widget-view+json": {
       "model_id": "858d8b898f36401abda8fe81baf65cd3",
       "version_major": 2,
       "version_minor": 0
      },
      "text/plain": [
       "VBox(children=(Output(outputs=({'name': 'stdout', 'text': '4.  What kind of distribution is flatter than the b…"
      ]
     },
     "metadata": {},
     "output_type": "display_data"
    },
    {
     "data": {
      "application/vnd.jupyter.widget-view+json": {
       "model_id": "b8ab04a342c54d9a9c127fa6cc7fe2f8",
       "version_major": 2,
       "version_minor": 0
      },
      "text/plain": [
       "VBox(children=(Output(outputs=({'name': 'stdout', 'text': '5. Platykurtic is the term for a positively kurtoti…"
      ]
     },
     "metadata": {},
     "output_type": "display_data"
    }
   ],
   "source": [
    "if __name__ == \"__main__\":\n",
    "    display(L2P2Q1, L2P2Q2, L2P2Q3, L2P2Q4, L2P2Q5)"
   ]
  },
  {
   "cell_type": "markdown",
   "id": "982f68d8-ba4e-474e-bcb5-98e5c9bf5810",
   "metadata": {},
   "source": [
    "## Page 3"
   ]
  },
  {
   "cell_type": "code",
   "execution_count": 15,
   "id": "850dc1c3-c0f8-4699-b045-05ddc702dff8",
   "metadata": {},
   "outputs": [],
   "source": [
    "L2P3Q1 = MultipleChoice('1. If you had negatively skewed data, which transformation should you try first?',['A. Square','B. Cube', 'C. Logarithm', ' D. Reciprocal'],'A. Square')\n",
    "L2P3Q2 = MultipleChoice('2. If you had positively skewed data, which transformation should you try first?',['A. Square','B. Cube', 'C. Logarithm', ' D. Square root'],'B. Square root')\n",
    "L2P3Q3 = MultipleChoice('3. What does taking the reciprocal do?',['A. Corrects for negative skew','B. Corrects for positive skew', 'C. Reverses the direction of the data', 'D. Corrects for kurtosis'],'C. Reverses the direction of the data')"
   ]
  },
  {
   "cell_type": "code",
   "execution_count": 16,
   "id": "ab1c82c4-871f-4872-afe8-629f7446c798",
   "metadata": {},
   "outputs": [
    {
     "data": {
      "application/vnd.jupyter.widget-view+json": {
       "model_id": "2513851a68c94ed0a46b96701a91a607",
       "version_major": 2,
       "version_minor": 0
      },
      "text/plain": [
       "VBox(children=(Output(outputs=({'name': 'stdout', 'text': '1. If you had negatively skewed data, which transfo…"
      ]
     },
     "metadata": {},
     "output_type": "display_data"
    },
    {
     "data": {
      "application/vnd.jupyter.widget-view+json": {
       "model_id": "31ff09b9ad944ef89fcd4a37d72611a1",
       "version_major": 2,
       "version_minor": 0
      },
      "text/plain": [
       "VBox(children=(Output(outputs=({'name': 'stdout', 'text': '2. If you had positively skewed data, which transfo…"
      ]
     },
     "metadata": {},
     "output_type": "display_data"
    },
    {
     "data": {
      "application/vnd.jupyter.widget-view+json": {
       "model_id": "5a92adc3baf343f8baf143af7a0c5daf",
       "version_major": 2,
       "version_minor": 0
      },
      "text/plain": [
       "VBox(children=(Output(outputs=({'name': 'stdout', 'text': '3. What does taking the reciprocal do?\\n', 'output_…"
      ]
     },
     "metadata": {},
     "output_type": "display_data"
    }
   ],
   "source": [
    "if __name__ == \"__main__\":\n",
    "    display(L2P3Q1, L2P3Q2, L2P3Q3)"
   ]
  },
  {
   "cell_type": "markdown",
   "id": "154e5989-8dee-46a1-bc77-d541303d4510",
   "metadata": {},
   "source": [
    "## Page 4"
   ]
  },
  {
   "cell_type": "code",
   "execution_count": 17,
   "id": "69575d3a-928a-41bb-9063-e5e7441afbba",
   "metadata": {},
   "outputs": [],
   "source": [
    "L2P4Q1 = MultipleChoice('1. What does the rcompanion library allow you to do?',['A. Add a best fit curve to your histogram','B. Use the transformTukey() function', 'C. Both A & B'],'C. Both A & B')\n",
    "L2P4Q2 = MultipleChoice('2. Can you plot infinite values?',['A. Yes','B. No'],'B. No')\n",
    "L2P4Q3 = MultipleChoice('3. What is the function to take the log of your data?',['A. sqrt()','B. log()', 'C. Just multiply the variable by itself', 'D. ^3'],'B. log()')"
   ]
  },
  {
   "cell_type": "code",
   "execution_count": 18,
   "id": "44d62e53-3974-46f6-abd5-a7fb1d6c1d70",
   "metadata": {},
   "outputs": [
    {
     "data": {
      "application/vnd.jupyter.widget-view+json": {
       "model_id": "6c7bbfe55c7945c892f66ce68505c93b",
       "version_major": 2,
       "version_minor": 0
      },
      "text/plain": [
       "VBox(children=(Output(outputs=({'name': 'stdout', 'text': '1. What does the rcompanion library allow you to do…"
      ]
     },
     "metadata": {},
     "output_type": "display_data"
    },
    {
     "data": {
      "application/vnd.jupyter.widget-view+json": {
       "model_id": "34ba094c2c154fdc88d58568c9560dfe",
       "version_major": 2,
       "version_minor": 0
      },
      "text/plain": [
       "VBox(children=(Output(outputs=({'name': 'stdout', 'text': '2. Can you plot infinite values?\\n', 'output_type':…"
      ]
     },
     "metadata": {},
     "output_type": "display_data"
    },
    {
     "data": {
      "application/vnd.jupyter.widget-view+json": {
       "model_id": "9147753dd70845cc97182a1e59898632",
       "version_major": 2,
       "version_minor": 0
      },
      "text/plain": [
       "VBox(children=(Output(outputs=({'name': 'stdout', 'text': '3. What is the function to take the log of your dat…"
      ]
     },
     "metadata": {},
     "output_type": "display_data"
    }
   ],
   "source": [
    "if __name__ == \"__main__\":\n",
    "    display(L2P4Q1, L2P4Q2, L2P4Q3)"
   ]
  },
  {
   "cell_type": "markdown",
   "id": "f371d1f7-a98b-4e85-b988-a9791b3fbcd7",
   "metadata": {},
   "source": [
    "## Page 7"
   ]
  },
  {
   "cell_type": "code",
   "execution_count": 19,
   "id": "8c6840b7-28ff-471a-9eb8-7e06bd984c66",
   "metadata": {},
   "outputs": [],
   "source": [
    "L2P7Q1 = MultipleChoice('1. If you wanted to see a histogram with a best fit curve, which function would you use?',['A. .hist()','B. pyplot', 'C. sns.distplot()'],'C. sns.distplot()')\n",
    "L2P7Q2 = MultipleChoice('2. What is the function to take the log of your data?',['A. np.sqrt()','B. np.log()', 'C. Just multiply the variable by itself', 'D. ^3'],'B. np.log()')\n",
    "L2P7Q3 = MultipleChoice('3. What package do you need to make use of the boxcox transformations?',['A. pandas','B. numpy', 'C. scipy', 'D. sklearn'],'C. scipy')"
   ]
  },
  {
   "cell_type": "code",
   "execution_count": 20,
   "id": "d5a94751-80c0-4201-a803-112c519f93ac",
   "metadata": {},
   "outputs": [
    {
     "data": {
      "application/vnd.jupyter.widget-view+json": {
       "model_id": "b5470ba597c84c8b98ed2f878f37991b",
       "version_major": 2,
       "version_minor": 0
      },
      "text/plain": [
       "VBox(children=(Output(outputs=({'name': 'stdout', 'text': '1. If you wanted to see a histogram with a best fit…"
      ]
     },
     "metadata": {},
     "output_type": "display_data"
    },
    {
     "data": {
      "application/vnd.jupyter.widget-view+json": {
       "model_id": "6ad6cc4754054955bba4e2594e1ef512",
       "version_major": 2,
       "version_minor": 0
      },
      "text/plain": [
       "VBox(children=(Output(outputs=({'name': 'stdout', 'text': '2. What is the function to take the log of your dat…"
      ]
     },
     "metadata": {},
     "output_type": "display_data"
    },
    {
     "data": {
      "application/vnd.jupyter.widget-view+json": {
       "model_id": "e8ba34d8efc044eb8bd4123859c04517",
       "version_major": 2,
       "version_minor": 0
      },
      "text/plain": [
       "VBox(children=(Output(outputs=({'name': 'stdout', 'text': '3. What package do you need to make use of the boxc…"
      ]
     },
     "metadata": {},
     "output_type": "display_data"
    }
   ],
   "source": [
    "if __name__ == \"__main__\":\n",
    "    display(L2P7Q1, L2P7Q2, L2P7Q3)"
   ]
  },
  {
   "cell_type": "markdown",
   "id": "6ba20c20-8793-46df-8221-31451bf32cf9",
   "metadata": {},
   "source": [
    "## Lesson 3\n",
    "\n",
    "## Page 2"
   ]
  },
  {
   "cell_type": "code",
   "execution_count": 25,
   "id": "73cf6c8c-ec1e-4f60-8172-f2f9875cafe9",
   "metadata": {},
   "outputs": [],
   "source": [
    "L3P2Q1 = MultipleChoice('1. What goes in the argument n= for the prop.test() function?',['A. The proportion','B. The p value', \"C. The total number of one particular item you're interested in\", 'D. The total number of items'],'D. The total number of items')\n",
    "L3P2Q2 = MultipleChoice(\"2. Where can you find the proportion of the item in the output?\",['A. Under sample estimates','B. Under data', 'C. Under p value', 'D. Under confidence interval'],'A. Under sample estimates')"
   ]
  },
  {
   "cell_type": "code",
   "execution_count": 26,
   "id": "42b31b2f-b43a-4dd0-a289-e819acc097f5",
   "metadata": {},
   "outputs": [
    {
     "data": {
      "application/vnd.jupyter.widget-view+json": {
       "model_id": "2fabce066bfe4cc1a21ad17c41226f31",
       "version_major": 2,
       "version_minor": 0
      },
      "text/plain": [
       "VBox(children=(Output(outputs=({'name': 'stdout', 'text': '1. What goes in the argument n= for the prop.test()…"
      ]
     },
     "metadata": {},
     "output_type": "display_data"
    },
    {
     "data": {
      "application/vnd.jupyter.widget-view+json": {
       "model_id": "08ff3bada8d74e24849576d770ce5b10",
       "version_major": 2,
       "version_minor": 0
      },
      "text/plain": [
       "VBox(children=(Output(outputs=({'name': 'stdout', 'text': '2. Where can you find the proportion of the item in…"
      ]
     },
     "metadata": {},
     "output_type": "display_data"
    }
   ],
   "source": [
    "if __name__ == \"__main__\":\n",
    "    display(L3P2Q1, L3P2Q2)"
   ]
  },
  {
   "cell_type": "markdown",
   "id": "38720125-5436-4cb5-af7c-0c376aa81a38",
   "metadata": {},
   "source": [
    "## Page 3"
   ]
  },
  {
   "cell_type": "code",
   "execution_count": 30,
   "id": "5fc6d96b-f269-4a0c-b68a-0b42c474be74",
   "metadata": {},
   "outputs": [],
   "source": [
    "L3P3Q1 = MultipleChoice('1. If you wanted to test whether there was 80% jelly beans, what would you put for the value variable?',['A. .8','B. .5', \"C. .05\", 'D. .08'],'A. .8')\n",
    "L3P3Q2 = MultipleChoice(\"2. The number you place in the nobs variable is the total number of objects.\",['A. True','B. False'],'A. True')"
   ]
  },
  {
   "cell_type": "code",
   "execution_count": 28,
   "id": "aa074637-a23b-4657-914a-9974ffbec2e3",
   "metadata": {},
   "outputs": [
    {
     "data": {
      "application/vnd.jupyter.widget-view+json": {
       "model_id": "b30b8fe09289493ebd4f499dffc8c117",
       "version_major": 2,
       "version_minor": 0
      },
      "text/plain": [
       "VBox(children=(Output(outputs=({'name': 'stdout', 'text': '1. If you wanted to test whether there was 80% jell…"
      ]
     },
     "metadata": {},
     "output_type": "display_data"
    },
    {
     "data": {
      "application/vnd.jupyter.widget-view+json": {
       "model_id": "4bf149bd5da14d55bc5f0c8337252e64",
       "version_major": 2,
       "version_minor": 0
      },
      "text/plain": [
       "VBox(children=(Output(outputs=({'name': 'stdout', 'text': '2. The number you place in the nobs variable is the…"
      ]
     },
     "metadata": {},
     "output_type": "display_data"
    }
   ],
   "source": [
    "if __name__ == \"__main__\":\n",
    "    display(L3P3Q1, L3P3Q2)"
   ]
  },
  {
   "cell_type": "markdown",
   "id": "cbb67806-14f4-48be-a146-f7f35ff76b69",
   "metadata": {},
   "source": [
    "## Page 4"
   ]
  },
  {
   "cell_type": "code",
   "execution_count": 31,
   "id": "3906df98-b855-41e0-9b65-f088672cd958",
   "metadata": {},
   "outputs": [],
   "source": [
    "L3P4Q1 = MultipleChoice('1. If you wanted a one-tailed test to see if the proportions were greater, which option for alternative= would you choose?',['A. one-tailed','B. greater', \"C. less\", 'D. two-tailed'],'B. greater')\n",
    "L3P4Q2 = MultipleChoice(\"2. You need to feed a vector of in both your x= and n= arguments..\",['A. True','B. False'],'A. True')"
   ]
  },
  {
   "cell_type": "code",
   "execution_count": 32,
   "id": "91023b03-0f8c-491e-aeb0-e264f01128f5",
   "metadata": {},
   "outputs": [
    {
     "data": {
      "application/vnd.jupyter.widget-view+json": {
       "model_id": "a1a602a2d150403691d4a25cf1a042d9",
       "version_major": 2,
       "version_minor": 0
      },
      "text/plain": [
       "VBox(children=(Output(outputs=({'name': 'stdout', 'text': '1. If you wanted a one-tailed test to see if the pr…"
      ]
     },
     "metadata": {},
     "output_type": "display_data"
    },
    {
     "data": {
      "application/vnd.jupyter.widget-view+json": {
       "model_id": "486aeb28459f4ed1ae4d48ff5923eca6",
       "version_major": 2,
       "version_minor": 0
      },
      "text/plain": [
       "VBox(children=(Output(outputs=({'name': 'stdout', 'text': '2. You need to feed a vector of in both your x= and…"
      ]
     },
     "metadata": {},
     "output_type": "display_data"
    }
   ],
   "source": [
    "if __name__ == \"__main__\":\n",
    "    display(L3P4Q1, L3P4Q2)"
   ]
  },
  {
   "cell_type": "markdown",
   "id": "e92a6411-8cbc-4bfd-8286-b78438364ff1",
   "metadata": {},
   "source": [
    "## Page 5"
   ]
  },
  {
   "cell_type": "code",
   "execution_count": 34,
   "id": "e84b113d-5366-4592-9434-cf5fb4206c49",
   "metadata": {},
   "outputs": [],
   "source": [
    "L3P5Q1 = MultipleChoice(\"1. The same function for one proportion testing is used for two proportion testing in Python.\",['A. True','B. False'],'A. True')"
   ]
  },
  {
   "cell_type": "code",
   "execution_count": 35,
   "id": "58245bdb-2ea6-47d9-b597-296f8a007fd8",
   "metadata": {},
   "outputs": [
    {
     "data": {
      "application/vnd.jupyter.widget-view+json": {
       "model_id": "fbf6475fb214471abeab63d9dc9cabef",
       "version_major": 2,
       "version_minor": 0
      },
      "text/plain": [
       "VBox(children=(Output(outputs=({'name': 'stdout', 'text': '1. The same function for one proportion testing is …"
      ]
     },
     "metadata": {},
     "output_type": "display_data"
    }
   ],
   "source": [
    "if __name__ == \"__main__\":\n",
    "    display(L3P5Q1)"
   ]
  },
  {
   "cell_type": "markdown",
   "id": "6fd95fc2-f369-4898-a15c-402a15239d78",
   "metadata": {},
   "source": [
    "## Page 6"
   ]
  },
  {
   "cell_type": "code",
   "execution_count": null,
   "id": "cc7dd978-728c-4a87-b35e-8bf6bbf95402",
   "metadata": {},
   "outputs": [],
   "source": []
  }
 ],
 "metadata": {
  "kernelspec": {
   "display_name": "Python 3 (ipykernel)",
   "language": "python",
   "name": "python3"
  },
  "language_info": {
   "codemirror_mode": {
    "name": "ipython",
    "version": 3
   },
   "file_extension": ".py",
   "mimetype": "text/x-python",
   "name": "python",
   "nbconvert_exporter": "python",
   "pygments_lexer": "ipython3",
   "version": "3.9.9"
  }
 },
 "nbformat": 4,
 "nbformat_minor": 5
}
