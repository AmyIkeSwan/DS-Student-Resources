{
 "cells": [
  {
   "cell_type": "markdown",
   "id": "701c6664-c3af-4538-bac7-f1a5cc1826cd",
   "metadata": {},
   "source": [
    "# DS105 Questions\n",
    "\n",
    "## Lesson 1\n",
    "\n",
    "## Page 2"
   ]
  },
  {
   "cell_type": "code",
   "execution_count": 1,
   "id": "9fdc1222-3d73-42e1-b6bf-b95d73e3d8ff",
   "metadata": {},
   "outputs": [],
   "source": [
    "from DS_Students import *"
   ]
  },
  {
   "cell_type": "code",
   "execution_count": 2,
   "id": "cf433206-b1c6-41d7-86db-486d7cb4756e",
   "metadata": {},
   "outputs": [],
   "source": [
    "L1P2Q1 = MultipleChoice('1. Which of the following packages are often used for statistical analysis in Python?',['A. pandas','B. numpy','C. scipy', 'D. stats', 'E. Both C & D'],'E. Both C & D')\n",
    "L1P2Q2 = MultipleChoice('2. When would you perform a single sample t-test?',['A. When comparing two related samples','B. Comparing population mean to a single value','C. Looking for relationship between two continuous variables', 'D. When comparing two unrelated samples'],'B. Comparing population mean to a single value')"
   ]
  },
  {
   "cell_type": "code",
   "execution_count": 3,
   "id": "6f20d99a-0d5d-482e-82a1-2adf01327726",
   "metadata": {},
   "outputs": [
    {
     "data": {
      "application/vnd.jupyter.widget-view+json": {
       "model_id": "dd0aeec6eb504148ae2ada5f2e10b68f",
       "version_major": 2,
       "version_minor": 0
      },
      "text/plain": [
       "VBox(children=(Output(outputs=({'name': 'stdout', 'text': '1. Which of the following packages are often used f…"
      ]
     },
     "metadata": {},
     "output_type": "display_data"
    },
    {
     "data": {
      "application/vnd.jupyter.widget-view+json": {
       "model_id": "c38bdb7764004727bf655ad22e71f671",
       "version_major": 2,
       "version_minor": 0
      },
      "text/plain": [
       "VBox(children=(Output(outputs=({'name': 'stdout', 'text': '2. When would you perform a single sample t-test?\\n…"
      ]
     },
     "metadata": {},
     "output_type": "display_data"
    }
   ],
   "source": [
    "if __name__ == \"__main__\":\n",
    "    display(L1P2Q1, L1P2Q2)"
   ]
  },
  {
   "cell_type": "markdown",
   "id": "59237b93-23a1-4511-9c47-069ff58089ca",
   "metadata": {},
   "source": [
    "## Page 5"
   ]
  },
  {
   "cell_type": "code",
   "execution_count": 8,
   "id": "9e09c0eb-06d1-440a-9c2a-4ced3fa16e4e",
   "metadata": {},
   "outputs": [],
   "source": [
    "L1P5Q1 = MultipleChoice('1. When would you perform an independent t-test?',['A. When comparing two related samples','B. When comparing a population mean to a single value','C. When looking for the relationship between two continuous variables', 'D. When comparing two unrelated samples'],'D. When comparing two unrelated samples')\n",
    "L1P5Q2 = MultipleChoice('2. What data is required for an independent t-test?',['A. One independent, categorical variable and one dependent, continuous variable','B. One independent continuous variable and one dependent categorical variable','C. Two independent categorical variables and one dependent, continous variable', 'D. One independent categorical variable and two dependent, continuous variables'],'A. One independent, categorical variable and one dependent, continuous variable')"
   ]
  },
  {
   "cell_type": "code",
   "execution_count": 9,
   "id": "395b4e32-213a-432c-8570-dba7e76bc602",
   "metadata": {},
   "outputs": [
    {
     "data": {
      "application/vnd.jupyter.widget-view+json": {
       "model_id": "a821e086055447b4824eb151ece07e54",
       "version_major": 2,
       "version_minor": 0
      },
      "text/plain": [
       "VBox(children=(Output(outputs=({'name': 'stdout', 'text': '1. When would you perform an independent t-test?\\n'…"
      ]
     },
     "metadata": {},
     "output_type": "display_data"
    },
    {
     "data": {
      "application/vnd.jupyter.widget-view+json": {
       "model_id": "38b8abcba6f647ea87d6166688951e7f",
       "version_major": 2,
       "version_minor": 0
      },
      "text/plain": [
       "VBox(children=(Output(outputs=({'name': 'stdout', 'text': '2. What data is required for an independent t-test?…"
      ]
     },
     "metadata": {},
     "output_type": "display_data"
    }
   ],
   "source": [
    "if __name__ == \"__main__\":\n",
    "    display(L1P5Q1, L1P5Q2)"
   ]
  },
  {
   "cell_type": "markdown",
   "id": "214526dd-72ee-40d8-a2e5-41e165dcd951",
   "metadata": {},
   "source": [
    "## Page 8"
   ]
  },
  {
   "cell_type": "code",
   "execution_count": 11,
   "id": "c8eb6a46-ef59-46c0-8adb-773a004ded82",
   "metadata": {},
   "outputs": [],
   "source": [
    "L1P8Q1 = MultipleChoice('1. When would you perform a dependent t-test?',['A. When comparing two related samples','B. When comparing a population mean to a single value','C. When looking for the relationship between two continuous variables', 'D. When comparing two unrelated samples'],'A. When comparing two related samples')\n",
    "L1P8Q2 = MultipleChoice('2. What data is required for an dependent t-test?',['A. One independent, categorical variable and one dependent, continuous variable','B. One independent continuous variable and one dependent categorical variable','C. Two independent categorical variables and one dependent, continous variable', 'D. One independent categorical variable and two dependent, continuous variables'],'A. One independent, categorical variable and one dependent, continuous variable')\n",
    "L1P8Q3 = MultipleChoice('3. Which function is used for a dependent t-test?',['A. stats.ttest_1samp()','B. ttest_ind()','C. stats.ttest_rel()', 'D. .hist()'],'C. stats.ttest_rel()')"
   ]
  },
  {
   "cell_type": "code",
   "execution_count": 12,
   "id": "3adf2b8c-6d74-449d-abd7-f2ecd2cef18e",
   "metadata": {},
   "outputs": [
    {
     "data": {
      "application/vnd.jupyter.widget-view+json": {
       "model_id": "493f6d1ffd43478da559587d1e0c3974",
       "version_major": 2,
       "version_minor": 0
      },
      "text/plain": [
       "VBox(children=(Output(outputs=({'name': 'stdout', 'text': '1. When would you perform a dependent t-test?\\n', '…"
      ]
     },
     "metadata": {},
     "output_type": "display_data"
    },
    {
     "data": {
      "application/vnd.jupyter.widget-view+json": {
       "model_id": "50ebfc8f32f44b8c8d5d4bcef7f2ec7a",
       "version_major": 2,
       "version_minor": 0
      },
      "text/plain": [
       "VBox(children=(Output(outputs=({'name': 'stdout', 'text': '2. What data is required for an dependent t-test?\\n…"
      ]
     },
     "metadata": {},
     "output_type": "display_data"
    },
    {
     "data": {
      "application/vnd.jupyter.widget-view+json": {
       "model_id": "19ac2d01d0fd4935a467d118c7e9afae",
       "version_major": 2,
       "version_minor": 0
      },
      "text/plain": [
       "VBox(children=(Output(outputs=({'name': 'stdout', 'text': '3. Which function is used for a dependent t-test?\\n…"
      ]
     },
     "metadata": {},
     "output_type": "display_data"
    }
   ],
   "source": [
    "if __name__ == \"__main__\":\n",
    "    display(L1P8Q1, L1P8Q2, L1P8Q3)"
   ]
  },
  {
   "cell_type": "markdown",
   "id": "fbd02314-2ef4-43be-aa7f-82453a99c3aa",
   "metadata": {},
   "source": [
    "## Page 11"
   ]
  },
  {
   "cell_type": "code",
   "execution_count": 14,
   "id": "d909d1fb-8f00-4e28-b8ed-31c3be525a4c",
   "metadata": {},
   "outputs": [],
   "source": [
    "L1P11Q1 = MultipleChoice('1. What kind of data does a Chi-Square require?',['A. Continuous','B. Categorical','C. Both continuous and categorical'],'B. Categorical')\n",
    "L1P11Q2 = MultipleChoice('2. What is the assumption for Chi-Square?',['A. Expected values of each cell greater than 5','B. Normality','C. Independence'],'A. Expected values of each cell greater than 5')\n",
    "L1P11Q3 = MultipleChoice('3. A contingency table is necessary to run a Chi-Square in Python.',['A. True','B. False'],'A. True')"
   ]
  },
  {
   "cell_type": "code",
   "execution_count": 15,
   "id": "6e065133-ed4b-4985-b9d1-f6cd5b3cbe48",
   "metadata": {},
   "outputs": [
    {
     "data": {
      "application/vnd.jupyter.widget-view+json": {
       "model_id": "ce65f0f3b6a448db8bdb7af85e48fb48",
       "version_major": 2,
       "version_minor": 0
      },
      "text/plain": [
       "VBox(children=(Output(outputs=({'name': 'stdout', 'text': '1. What kind of data does a Chi-Square require?\\n',…"
      ]
     },
     "metadata": {},
     "output_type": "display_data"
    },
    {
     "data": {
      "application/vnd.jupyter.widget-view+json": {
       "model_id": "eb230e88d0644c0f818291355b2ea14c",
       "version_major": 2,
       "version_minor": 0
      },
      "text/plain": [
       "VBox(children=(Output(outputs=({'name': 'stdout', 'text': '2. What is the assumption for Chi-Square?\\n', 'outp…"
      ]
     },
     "metadata": {},
     "output_type": "display_data"
    },
    {
     "data": {
      "application/vnd.jupyter.widget-view+json": {
       "model_id": "07c5abda642546e091b91a16a8ae8c6b",
       "version_major": 2,
       "version_minor": 0
      },
      "text/plain": [
       "VBox(children=(Output(outputs=({'name': 'stdout', 'text': '3. A contingency table is necessary to run a Chi-Sq…"
      ]
     },
     "metadata": {},
     "output_type": "display_data"
    }
   ],
   "source": [
    "if __name__ == \"__main__\":\n",
    "    display(L1P11Q1, L1P11Q2, L1P11Q3)"
   ]
  },
  {
   "cell_type": "markdown",
   "id": "daf65896-1c5e-4a53-9017-053cac6fc35b",
   "metadata": {},
   "source": [
    "## Page 14"
   ]
  },
  {
   "cell_type": "code",
   "execution_count": 16,
   "id": "efddf6c3-d45d-466f-849c-6b86d6626668",
   "metadata": {},
   "outputs": [],
   "source": [
    "L1P14Q1 = MultipleChoice('1. A correlation matrix looks at only two variables.',['A. True','B. False'],'B. False')\n",
    "L1P14Q2 = MultipleChoice(\"2. A typical Pearson's correlation is only done on continuous variables.\",['A. True','B. False'],'A. True')"
   ]
  },
  {
   "cell_type": "code",
   "execution_count": 17,
   "id": "461730cf-9d31-4e95-bf67-48904b28f02e",
   "metadata": {},
   "outputs": [
    {
     "data": {
      "application/vnd.jupyter.widget-view+json": {
       "model_id": "5d0cc01938fc4ed19b0ee7f3b8e44944",
       "version_major": 2,
       "version_minor": 0
      },
      "text/plain": [
       "VBox(children=(Output(outputs=({'name': 'stdout', 'text': '1. A correlation matrix looks at only two variables…"
      ]
     },
     "metadata": {},
     "output_type": "display_data"
    },
    {
     "data": {
      "application/vnd.jupyter.widget-view+json": {
       "model_id": "6918f626c82b4f458f9854d2a0653783",
       "version_major": 2,
       "version_minor": 0
      },
      "text/plain": [
       "VBox(children=(Output(outputs=({'name': 'stdout', 'text': \"2. A typical Pearson's correlation is only done on …"
      ]
     },
     "metadata": {},
     "output_type": "display_data"
    }
   ],
   "source": [
    "if __name__ == \"__main__\":\n",
    "    display(L1P14Q1, L1P14Q2)"
   ]
  },
  {
   "cell_type": "markdown",
   "id": "6500d234-afdc-4ed5-ac3c-1472239bef19",
   "metadata": {},
   "source": [
    "## Lesson 2\n",
    "\n",
    "## Page 2"
   ]
  },
  {
   "cell_type": "code",
   "execution_count": 18,
   "id": "08f1e16b-281e-4422-99de-89da951de06f",
   "metadata": {},
   "outputs": [],
   "source": [
    "L2P2Q1 = MultipleChoice('1. What kind of distribution has a tail of data on the left, and the majority of the data on the right?',['A. Negatively skewed','B. Positively skewed', 'C. Negatively kurtotic', 'D. Postively kurtotic'],'A. Negatively skewed')\n",
    "L2P2Q2 = MultipleChoice('2. What kind of distribution has a tail of data on the right, and the majority of the data on the left?',['A. Negatively skewed','B. Positively skewed', 'C. Negatively kurtotic', 'D. Postively kurtotic'],'B. Positively skewed')\n",
    "L2P2Q3 = MultipleChoice('3. What kind of distribution is taller than the bell curve?',['A. Negatively skewed','B. Positively skewed', 'C. Negatively kurtotic', 'D. Postively kurtotic'],'D. Positively kurtotic')\n",
    "L2P2Q4 = MultipleChoice('4.  What kind of distribution is flatter than the bell curve?',['A. Negatively skewed','B. Positively skewed', 'C. Negatively kurtotic', 'D. Postively kurtotic'],'C. Negatively kurtotic')\n",
    "L2P2Q5 = MultipleChoice('5. Platykurtic is the term for a positively kurtotic distribution.',['A. True','B. False'],'B. False')"
   ]
  },
  {
   "cell_type": "code",
   "execution_count": 19,
   "id": "0bae0966-731f-4d6f-bb63-623f71f5aec3",
   "metadata": {},
   "outputs": [
    {
     "data": {
      "application/vnd.jupyter.widget-view+json": {
       "model_id": "d86f693287034de4b2c1f6d362b8453b",
       "version_major": 2,
       "version_minor": 0
      },
      "text/plain": [
       "VBox(children=(Output(outputs=({'name': 'stdout', 'text': '1. What kind of distribution has a tail of data on …"
      ]
     },
     "metadata": {},
     "output_type": "display_data"
    },
    {
     "data": {
      "application/vnd.jupyter.widget-view+json": {
       "model_id": "2840686136534bb99554c1475fb024e4",
       "version_major": 2,
       "version_minor": 0
      },
      "text/plain": [
       "VBox(children=(Output(outputs=({'name': 'stdout', 'text': '2. What kind of distribution has a tail of data on …"
      ]
     },
     "metadata": {},
     "output_type": "display_data"
    },
    {
     "data": {
      "application/vnd.jupyter.widget-view+json": {
       "model_id": "e49ab73660f74baab38c58828e20e130",
       "version_major": 2,
       "version_minor": 0
      },
      "text/plain": [
       "VBox(children=(Output(outputs=({'name': 'stdout', 'text': '3. What kind of distribution is taller than the bel…"
      ]
     },
     "metadata": {},
     "output_type": "display_data"
    },
    {
     "data": {
      "application/vnd.jupyter.widget-view+json": {
       "model_id": "08539731abaf4b8ea41ddc5cc928408c",
       "version_major": 2,
       "version_minor": 0
      },
      "text/plain": [
       "VBox(children=(Output(outputs=({'name': 'stdout', 'text': '4.  What kind of distribution is flatter than the b…"
      ]
     },
     "metadata": {},
     "output_type": "display_data"
    },
    {
     "data": {
      "application/vnd.jupyter.widget-view+json": {
       "model_id": "432367f29fca4d5089ba625f00aaee65",
       "version_major": 2,
       "version_minor": 0
      },
      "text/plain": [
       "VBox(children=(Output(outputs=({'name': 'stdout', 'text': '5. Platykurtic is the term for a positively kurtoti…"
      ]
     },
     "metadata": {},
     "output_type": "display_data"
    }
   ],
   "source": [
    "if __name__ == \"__main__\":\n",
    "    display(L2P2Q1, L2P2Q2, L2P2Q3, L2P2Q4, L2P2Q5)"
   ]
  },
  {
   "cell_type": "markdown",
   "id": "982f68d8-ba4e-474e-bcb5-98e5c9bf5810",
   "metadata": {},
   "source": [
    "## Page 3"
   ]
  },
  {
   "cell_type": "code",
   "execution_count": 20,
   "id": "850dc1c3-c0f8-4699-b045-05ddc702dff8",
   "metadata": {},
   "outputs": [],
   "source": [
    "L2P3Q1 = MultipleChoice('1. If you had negatively skewed data, which transformation should you try first?',['A. Square','B. Cube', 'C. Logarithm', ' D. Reciprocal'],'A. Square')\n",
    "L2P3Q2 = MultipleChoice('2. If you had positively skewed data, which transformation should you try first?',['A. Square','B. Cube', 'C. Logarithm', ' D. Square root'],'B. Square root')\n",
    "L2P3Q3 = MultipleChoice('3. What does taking the reciprocal do?',['A. Corrects for negative skew','B. Corrects for positive skew', 'C. Reverses the direction of the data', 'D. Corrects for kurtosis'],'C. Reverses the direction of the data')"
   ]
  },
  {
   "cell_type": "code",
   "execution_count": 21,
   "id": "ab1c82c4-871f-4872-afe8-629f7446c798",
   "metadata": {},
   "outputs": [
    {
     "data": {
      "application/vnd.jupyter.widget-view+json": {
       "model_id": "1d1450b1efb448f8a719e9639ad3838c",
       "version_major": 2,
       "version_minor": 0
      },
      "text/plain": [
       "VBox(children=(Output(outputs=({'name': 'stdout', 'text': '1. If you had negatively skewed data, which transfo…"
      ]
     },
     "metadata": {},
     "output_type": "display_data"
    },
    {
     "data": {
      "application/vnd.jupyter.widget-view+json": {
       "model_id": "a05e176550a24e668ae011ee095cc8b9",
       "version_major": 2,
       "version_minor": 0
      },
      "text/plain": [
       "VBox(children=(Output(outputs=({'name': 'stdout', 'text': '2. If you had positively skewed data, which transfo…"
      ]
     },
     "metadata": {},
     "output_type": "display_data"
    },
    {
     "data": {
      "application/vnd.jupyter.widget-view+json": {
       "model_id": "196c4f14c67045ec85319c90b5d7e0a5",
       "version_major": 2,
       "version_minor": 0
      },
      "text/plain": [
       "VBox(children=(Output(outputs=({'name': 'stdout', 'text': '3. What does taking the reciprocal do?\\n', 'output_…"
      ]
     },
     "metadata": {},
     "output_type": "display_data"
    }
   ],
   "source": [
    "if __name__ == \"__main__\":\n",
    "    display(L2P3Q1, L2P3Q2, L2P3Q3)"
   ]
  },
  {
   "cell_type": "code",
   "execution_count": null,
   "id": "11a403a9-8f80-41ef-a11e-6ba03960f42b",
   "metadata": {},
   "outputs": [],
   "source": []
  }
 ],
 "metadata": {
  "kernelspec": {
   "display_name": "Python 3 (ipykernel)",
   "language": "python",
   "name": "python3"
  },
  "language_info": {
   "codemirror_mode": {
    "name": "ipython",
    "version": 3
   },
   "file_extension": ".py",
   "mimetype": "text/x-python",
   "name": "python",
   "nbconvert_exporter": "python",
   "pygments_lexer": "ipython3",
   "version": "3.9.7"
  }
 },
 "nbformat": 4,
 "nbformat_minor": 5
}
