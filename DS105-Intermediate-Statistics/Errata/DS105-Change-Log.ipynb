{
 "cells": [
  {
   "cell_type": "markdown",
   "id": "55971411-f532-4e8d-a13a-e91e4c283531",
   "metadata": {},
   "source": [
    "# Change Log\n",
    "\n",
    "1. example DS101L1P4, Added PowerBI example, [DS101L1P4 PowerBI](../DS101L1.ipynb#DS101L1_PowerBI), [UAT Link](https://wozu.uat.exeterlms.com/lesson/50197/topic/829439), [Jira ticket link](https://woz-u-projects.atlassian.net/browse/CUR-1891) \n",
    "2. DS105L2P7, Change displot to histplot, link to issue, [Jira ticket link](https://woz-u-projects.atlassian.net/browse/CUR-1917)"
   ]
  },
  {
   "cell_type": "markdown",
   "id": "2b5047e9-12ed-42e3-a5b8-248f2103cf3e",
   "metadata": {},
   "source": [
    "# TODO List:\n",
    "\n",
    "1. Lesson 2 Page 5 needs better example\n",
    "2.\n"
   ]
  },
  {
   "cell_type": "code",
   "execution_count": null,
   "id": "f6e8c488-6a70-4943-9f61-8441ee6b6e4a",
   "metadata": {},
   "outputs": [],
   "source": []
  }
 ],
 "metadata": {
  "kernelspec": {
   "display_name": "Python 3 (ipykernel)",
   "language": "python",
   "name": "python3"
  },
  "language_info": {
   "codemirror_mode": {
    "name": "ipython",
    "version": 3
   },
   "file_extension": ".py",
   "mimetype": "text/x-python",
   "name": "python",
   "nbconvert_exporter": "python",
   "pygments_lexer": "ipython3",
   "version": "3.9.7"
  }
 },
 "nbformat": 4,
 "nbformat_minor": 5
}
