{
 "cells": [
  {
   "cell_type": "markdown",
   "id": "15384922-a578-42c9-9288-d7a70437f3c4",
   "metadata": {},
   "source": [
    "# DS105 L8 P6 Hands on Helper"
   ]
  },
  {
   "cell_type": "code",
   "execution_count": 16,
   "id": "3ccf7b0d-2b8d-47ff-80b4-ed3265788e01",
   "metadata": {},
   "outputs": [
    {
     "name": "stdout",
     "output_type": "stream",
     "text": [
      "\n",
      "The downloaded binary packages are in\n",
      "\t/var/folders/9q/yp0trhm570d82rk1lfh67tq00000gn/T//RtmpDzvxQC/downloaded_packages\n",
      "\n",
      "The downloaded binary packages are in\n",
      "\t/var/folders/9q/yp0trhm570d82rk1lfh67tq00000gn/T//RtmpDzvxQC/downloaded_packages\n",
      "\n",
      "The downloaded binary packages are in\n",
      "\t/var/folders/9q/yp0trhm570d82rk1lfh67tq00000gn/T//RtmpDzvxQC/downloaded_packages\n"
     ]
    }
   ],
   "source": [
    "install.packages(\"mvnormtest\")\n",
    "install.packages(\"car\")\n",
    "install.packages(\"plyr\")"
   ]
  },
  {
   "cell_type": "code",
   "execution_count": 17,
   "id": "b83588b4-ea45-489a-8be5-704dc4ac6cbd",
   "metadata": {},
   "outputs": [],
   "source": [
    "library(\"mvnormtest\")\n",
    "library(\"car\")\n",
    "library(\"plyr\")"
   ]
  },
  {
   "cell_type": "code",
   "execution_count": 6,
   "id": "e7e59677-40eb-40c3-9e26-ad68d5475530",
   "metadata": {},
   "outputs": [],
   "source": [
    "data <- read.csv(\"../Data/hockey1.csv\")"
   ]
  },
  {
   "cell_type": "code",
   "execution_count": 9,
   "id": "23157268-c510-438e-ac5a-c356bd863fea",
   "metadata": {},
   "outputs": [
    {
     "data": {
      "text/html": [
       "<table class=\"dataframe\">\n",
       "<caption>A data.frame: 6 × 11</caption>\n",
       "<thead>\n",
       "\t<tr><th></th><th scope=col>ID</th><th scope=col>game_id</th><th scope=col>team_id</th><th scope=col>HoA</th><th scope=col>won</th><th scope=col>settled_in</th><th scope=col>head_coach</th><th scope=col>goals</th><th scope=col>shots</th><th scope=col>hits</th><th scope=col>pim</th></tr>\n",
       "\t<tr><th></th><th scope=col>&lt;dbl&gt;</th><th scope=col>&lt;int&gt;</th><th scope=col>&lt;int&gt;</th><th scope=col>&lt;chr&gt;</th><th scope=col>&lt;lgl&gt;</th><th scope=col>&lt;chr&gt;</th><th scope=col>&lt;chr&gt;</th><th scope=col>&lt;int&gt;</th><th scope=col>&lt;int&gt;</th><th scope=col>&lt;int&gt;</th><th scope=col>&lt;int&gt;</th></tr>\n",
       "</thead>\n",
       "<tbody>\n",
       "\t<tr><th scope=row>1</th><td>20120302213</td><td>2012030221</td><td>3</td><td>away</td><td>FALSE</td><td>OT </td><td>John Tortorella</td><td>2</td><td>35</td><td>44</td><td> 8</td></tr>\n",
       "\t<tr><th scope=row>2</th><td>20120302216</td><td>2012030221</td><td>6</td><td>home</td><td> TRUE</td><td>OT </td><td>Claude Julien  </td><td>3</td><td>48</td><td>51</td><td> 6</td></tr>\n",
       "\t<tr><th scope=row>3</th><td>20120302223</td><td>2012030222</td><td>3</td><td>away</td><td>FALSE</td><td>REG</td><td>John Tortorella</td><td>2</td><td>37</td><td>33</td><td>11</td></tr>\n",
       "\t<tr><th scope=row>4</th><td>20120302226</td><td>2012030222</td><td>6</td><td>home</td><td> TRUE</td><td>REG</td><td>Claude Julien  </td><td>5</td><td>32</td><td>36</td><td>19</td></tr>\n",
       "\t<tr><th scope=row>5</th><td>20120302236</td><td>2012030223</td><td>6</td><td>away</td><td> TRUE</td><td>REG</td><td>Claude Julien  </td><td>2</td><td>34</td><td>28</td><td> 6</td></tr>\n",
       "\t<tr><th scope=row>6</th><td>20120302233</td><td>2012030223</td><td>3</td><td>home</td><td>FALSE</td><td>REG</td><td>John Tortorella</td><td>1</td><td>24</td><td>37</td><td> 2</td></tr>\n",
       "</tbody>\n",
       "</table>\n"
      ],
      "text/latex": [
       "A data.frame: 6 × 11\n",
       "\\begin{tabular}{r|lllllllllll}\n",
       "  & ID & game\\_id & team\\_id & HoA & won & settled\\_in & head\\_coach & goals & shots & hits & pim\\\\\n",
       "  & <dbl> & <int> & <int> & <chr> & <lgl> & <chr> & <chr> & <int> & <int> & <int> & <int>\\\\\n",
       "\\hline\n",
       "\t1 & 20120302213 & 2012030221 & 3 & away & FALSE & OT  & John Tortorella & 2 & 35 & 44 &  8\\\\\n",
       "\t2 & 20120302216 & 2012030221 & 6 & home &  TRUE & OT  & Claude Julien   & 3 & 48 & 51 &  6\\\\\n",
       "\t3 & 20120302223 & 2012030222 & 3 & away & FALSE & REG & John Tortorella & 2 & 37 & 33 & 11\\\\\n",
       "\t4 & 20120302226 & 2012030222 & 6 & home &  TRUE & REG & Claude Julien   & 5 & 32 & 36 & 19\\\\\n",
       "\t5 & 20120302236 & 2012030223 & 6 & away &  TRUE & REG & Claude Julien   & 2 & 34 & 28 &  6\\\\\n",
       "\t6 & 20120302233 & 2012030223 & 3 & home & FALSE & REG & John Tortorella & 1 & 24 & 37 &  2\\\\\n",
       "\\end{tabular}\n"
      ],
      "text/markdown": [
       "\n",
       "A data.frame: 6 × 11\n",
       "\n",
       "| <!--/--> | ID &lt;dbl&gt; | game_id &lt;int&gt; | team_id &lt;int&gt; | HoA &lt;chr&gt; | won &lt;lgl&gt; | settled_in &lt;chr&gt; | head_coach &lt;chr&gt; | goals &lt;int&gt; | shots &lt;int&gt; | hits &lt;int&gt; | pim &lt;int&gt; |\n",
       "|---|---|---|---|---|---|---|---|---|---|---|---|\n",
       "| 1 | 20120302213 | 2012030221 | 3 | away | FALSE | OT  | John Tortorella | 2 | 35 | 44 |  8 |\n",
       "| 2 | 20120302216 | 2012030221 | 6 | home |  TRUE | OT  | Claude Julien   | 3 | 48 | 51 |  6 |\n",
       "| 3 | 20120302223 | 2012030222 | 3 | away | FALSE | REG | John Tortorella | 2 | 37 | 33 | 11 |\n",
       "| 4 | 20120302226 | 2012030222 | 6 | home |  TRUE | REG | Claude Julien   | 5 | 32 | 36 | 19 |\n",
       "| 5 | 20120302236 | 2012030223 | 6 | away |  TRUE | REG | Claude Julien   | 2 | 34 | 28 |  6 |\n",
       "| 6 | 20120302233 | 2012030223 | 3 | home | FALSE | REG | John Tortorella | 1 | 24 | 37 |  2 |\n",
       "\n"
      ],
      "text/plain": [
       "  ID          game_id    team_id HoA  won   settled_in head_coach      goals\n",
       "1 20120302213 2012030221 3       away FALSE OT         John Tortorella 2    \n",
       "2 20120302216 2012030221 6       home  TRUE OT         Claude Julien   3    \n",
       "3 20120302223 2012030222 3       away FALSE REG        John Tortorella 2    \n",
       "4 20120302226 2012030222 6       home  TRUE REG        Claude Julien   5    \n",
       "5 20120302236 2012030223 6       away  TRUE REG        Claude Julien   2    \n",
       "6 20120302233 2012030223 3       home FALSE REG        John Tortorella 1    \n",
       "  shots hits pim\n",
       "1 35    44    8 \n",
       "2 48    51    6 \n",
       "3 37    33   11 \n",
       "4 32    36   19 \n",
       "5 34    28    6 \n",
       "6 24    37    2 "
      ]
     },
     "metadata": {},
     "output_type": "display_data"
    }
   ],
   "source": [
    "head(data)"
   ]
  },
  {
   "cell_type": "markdown",
   "id": "59a3fe11-8665-4e2b-93a4-41ad13c786e9",
   "metadata": {},
   "source": [
    "### independent variable is won\n",
    "### dependent variables are shots and hits"
   ]
  },
  {
   "cell_type": "code",
   "execution_count": 12,
   "id": "063c8386-6793-4317-a815-68dd3bebfc75",
   "metadata": {},
   "outputs": [],
   "source": [
    "data$shots <- as.numeric(data$shots)\n",
    "data$hits <- as.numeric(data$hits)"
   ]
  },
  {
   "cell_type": "code",
   "execution_count": 13,
   "id": "9de23bc7-ec33-4045-91eb-49fd4308ab88",
   "metadata": {},
   "outputs": [],
   "source": [
    "data$wonFactor <- as.factor(data$won)"
   ]
  },
  {
   "cell_type": "code",
   "execution_count": 14,
   "id": "fe496e4c-d3bd-4300-bfab-43a29348c849",
   "metadata": {},
   "outputs": [
    {
     "data": {
      "text/html": [
       "<table class=\"dataframe\">\n",
       "<caption>A data.frame: 6 × 12</caption>\n",
       "<thead>\n",
       "\t<tr><th></th><th scope=col>ID</th><th scope=col>game_id</th><th scope=col>team_id</th><th scope=col>HoA</th><th scope=col>won</th><th scope=col>settled_in</th><th scope=col>head_coach</th><th scope=col>goals</th><th scope=col>shots</th><th scope=col>hits</th><th scope=col>pim</th><th scope=col>wonFactor</th></tr>\n",
       "\t<tr><th></th><th scope=col>&lt;dbl&gt;</th><th scope=col>&lt;int&gt;</th><th scope=col>&lt;int&gt;</th><th scope=col>&lt;chr&gt;</th><th scope=col>&lt;lgl&gt;</th><th scope=col>&lt;chr&gt;</th><th scope=col>&lt;chr&gt;</th><th scope=col>&lt;int&gt;</th><th scope=col>&lt;dbl&gt;</th><th scope=col>&lt;dbl&gt;</th><th scope=col>&lt;int&gt;</th><th scope=col>&lt;fct&gt;</th></tr>\n",
       "</thead>\n",
       "<tbody>\n",
       "\t<tr><th scope=row>1</th><td>20120302213</td><td>2012030221</td><td>3</td><td>away</td><td>FALSE</td><td>OT </td><td>John Tortorella</td><td>2</td><td>35</td><td>44</td><td> 8</td><td>FALSE</td></tr>\n",
       "\t<tr><th scope=row>2</th><td>20120302216</td><td>2012030221</td><td>6</td><td>home</td><td> TRUE</td><td>OT </td><td>Claude Julien  </td><td>3</td><td>48</td><td>51</td><td> 6</td><td>TRUE </td></tr>\n",
       "\t<tr><th scope=row>3</th><td>20120302223</td><td>2012030222</td><td>3</td><td>away</td><td>FALSE</td><td>REG</td><td>John Tortorella</td><td>2</td><td>37</td><td>33</td><td>11</td><td>FALSE</td></tr>\n",
       "\t<tr><th scope=row>4</th><td>20120302226</td><td>2012030222</td><td>6</td><td>home</td><td> TRUE</td><td>REG</td><td>Claude Julien  </td><td>5</td><td>32</td><td>36</td><td>19</td><td>TRUE </td></tr>\n",
       "\t<tr><th scope=row>5</th><td>20120302236</td><td>2012030223</td><td>6</td><td>away</td><td> TRUE</td><td>REG</td><td>Claude Julien  </td><td>2</td><td>34</td><td>28</td><td> 6</td><td>TRUE </td></tr>\n",
       "\t<tr><th scope=row>6</th><td>20120302233</td><td>2012030223</td><td>3</td><td>home</td><td>FALSE</td><td>REG</td><td>John Tortorella</td><td>1</td><td>24</td><td>37</td><td> 2</td><td>FALSE</td></tr>\n",
       "</tbody>\n",
       "</table>\n"
      ],
      "text/latex": [
       "A data.frame: 6 × 12\n",
       "\\begin{tabular}{r|llllllllllll}\n",
       "  & ID & game\\_id & team\\_id & HoA & won & settled\\_in & head\\_coach & goals & shots & hits & pim & wonFactor\\\\\n",
       "  & <dbl> & <int> & <int> & <chr> & <lgl> & <chr> & <chr> & <int> & <dbl> & <dbl> & <int> & <fct>\\\\\n",
       "\\hline\n",
       "\t1 & 20120302213 & 2012030221 & 3 & away & FALSE & OT  & John Tortorella & 2 & 35 & 44 &  8 & FALSE\\\\\n",
       "\t2 & 20120302216 & 2012030221 & 6 & home &  TRUE & OT  & Claude Julien   & 3 & 48 & 51 &  6 & TRUE \\\\\n",
       "\t3 & 20120302223 & 2012030222 & 3 & away & FALSE & REG & John Tortorella & 2 & 37 & 33 & 11 & FALSE\\\\\n",
       "\t4 & 20120302226 & 2012030222 & 6 & home &  TRUE & REG & Claude Julien   & 5 & 32 & 36 & 19 & TRUE \\\\\n",
       "\t5 & 20120302236 & 2012030223 & 6 & away &  TRUE & REG & Claude Julien   & 2 & 34 & 28 &  6 & TRUE \\\\\n",
       "\t6 & 20120302233 & 2012030223 & 3 & home & FALSE & REG & John Tortorella & 1 & 24 & 37 &  2 & FALSE\\\\\n",
       "\\end{tabular}\n"
      ],
      "text/markdown": [
       "\n",
       "A data.frame: 6 × 12\n",
       "\n",
       "| <!--/--> | ID &lt;dbl&gt; | game_id &lt;int&gt; | team_id &lt;int&gt; | HoA &lt;chr&gt; | won &lt;lgl&gt; | settled_in &lt;chr&gt; | head_coach &lt;chr&gt; | goals &lt;int&gt; | shots &lt;dbl&gt; | hits &lt;dbl&gt; | pim &lt;int&gt; | wonFactor &lt;fct&gt; |\n",
       "|---|---|---|---|---|---|---|---|---|---|---|---|---|\n",
       "| 1 | 20120302213 | 2012030221 | 3 | away | FALSE | OT  | John Tortorella | 2 | 35 | 44 |  8 | FALSE |\n",
       "| 2 | 20120302216 | 2012030221 | 6 | home |  TRUE | OT  | Claude Julien   | 3 | 48 | 51 |  6 | TRUE  |\n",
       "| 3 | 20120302223 | 2012030222 | 3 | away | FALSE | REG | John Tortorella | 2 | 37 | 33 | 11 | FALSE |\n",
       "| 4 | 20120302226 | 2012030222 | 6 | home |  TRUE | REG | Claude Julien   | 5 | 32 | 36 | 19 | TRUE  |\n",
       "| 5 | 20120302236 | 2012030223 | 6 | away |  TRUE | REG | Claude Julien   | 2 | 34 | 28 |  6 | TRUE  |\n",
       "| 6 | 20120302233 | 2012030223 | 3 | home | FALSE | REG | John Tortorella | 1 | 24 | 37 |  2 | FALSE |\n",
       "\n"
      ],
      "text/plain": [
       "  ID          game_id    team_id HoA  won   settled_in head_coach      goals\n",
       "1 20120302213 2012030221 3       away FALSE OT         John Tortorella 2    \n",
       "2 20120302216 2012030221 6       home  TRUE OT         Claude Julien   3    \n",
       "3 20120302223 2012030222 3       away FALSE REG        John Tortorella 2    \n",
       "4 20120302226 2012030222 6       home  TRUE REG        Claude Julien   5    \n",
       "5 20120302236 2012030223 6       away  TRUE REG        Claude Julien   2    \n",
       "6 20120302233 2012030223 3       home FALSE REG        John Tortorella 1    \n",
       "  shots hits pim wonFactor\n",
       "1 35    44    8  FALSE    \n",
       "2 48    51    6  TRUE     \n",
       "3 37    33   11  FALSE    \n",
       "4 32    36   19  TRUE     \n",
       "5 34    28    6  TRUE     \n",
       "6 24    37    2  FALSE    "
      ]
     },
     "metadata": {},
     "output_type": "display_data"
    }
   ],
   "source": [
    "head(data)"
   ]
  },
  {
   "cell_type": "code",
   "execution_count": 15,
   "id": "4ee070ff-d0f6-4862-894f-4abb9d0d20ca",
   "metadata": {},
   "outputs": [],
   "source": [
    "#feature selection\n",
    "keeps <- c(\"wonFactor\", \"shots\", \"hits\")\n",
    "data <- data[keeps]"
   ]
  },
  {
   "cell_type": "code",
   "execution_count": 18,
   "id": "199fcf63-230d-4b85-ab5c-533efc19bbed",
   "metadata": {},
   "outputs": [
    {
     "data": {
      "text/html": [
       "<table class=\"dataframe\">\n",
       "<caption>A data.frame: 2 × 2</caption>\n",
       "<thead>\n",
       "\t<tr><th scope=col>wonFactor</th><th scope=col>freq</th></tr>\n",
       "\t<tr><th scope=col>&lt;fct&gt;</th><th scope=col>&lt;int&gt;</th></tr>\n",
       "</thead>\n",
       "<tbody>\n",
       "\t<tr><td>FALSE</td><td>7441</td></tr>\n",
       "\t<tr><td>TRUE </td><td>7441</td></tr>\n",
       "</tbody>\n",
       "</table>\n"
      ],
      "text/latex": [
       "A data.frame: 2 × 2\n",
       "\\begin{tabular}{ll}\n",
       " wonFactor & freq\\\\\n",
       " <fct> & <int>\\\\\n",
       "\\hline\n",
       "\t FALSE & 7441\\\\\n",
       "\t TRUE  & 7441\\\\\n",
       "\\end{tabular}\n"
      ],
      "text/markdown": [
       "\n",
       "A data.frame: 2 × 2\n",
       "\n",
       "| wonFactor &lt;fct&gt; | freq &lt;int&gt; |\n",
       "|---|---|\n",
       "| FALSE | 7441 |\n",
       "| TRUE  | 7441 |\n",
       "\n"
      ],
      "text/plain": [
       "  wonFactor freq\n",
       "1 FALSE     7441\n",
       "2 TRUE      7441"
      ]
     },
     "metadata": {},
     "output_type": "display_data"
    }
   ],
   "source": [
    "#assumption sample size\n",
    "count(data, \"wonFactor\") #assumption NOT violated - more cases per number of dependent variables for male and female"
   ]
  },
  {
   "cell_type": "code",
   "execution_count": 21,
   "id": "34f2f07c-a291-4c98-a78e-482a1107f127",
   "metadata": {},
   "outputs": [
    {
     "ename": "ERROR",
     "evalue": "Error in `[.data.frame`(data[keeps1], 1:5000): undefined columns selected\n",
     "output_type": "error",
     "traceback": [
      "Error in `[.data.frame`(data[keeps1], 1:5000): undefined columns selected\nTraceback:\n",
      "1. data[keeps1][1:5000]",
      "2. `[.data.frame`(data[keeps1], 1:5000)",
      "3. stop(\"undefined columns selected\")"
     ]
    }
   ],
   "source": [
    "#feature selection for shapiro test\n",
    "keeps1 <- c(\"shots\", \"hits\")\n",
    "data1 <- data[keeps1]"
   ]
  },
  {
   "cell_type": "code",
   "execution_count": 27,
   "id": "29717a7a-ad85-4dd4-a24a-1c5130b66e13",
   "metadata": {},
   "outputs": [
    {
     "data": {
      "text/plain": [
       "\n",
       "\tShapiro-Wilk normality test\n",
       "\n",
       "data:  Z\n",
       "W = 0.97779, p-value < 2.2e-16\n"
      ]
     },
     "metadata": {},
     "output_type": "display_data"
    }
   ],
   "source": [
    "#multivariate normality\n",
    "# NOTE: we must limit this to top 5000 rows \n",
    "mshapiro.test(t(data1[1:5000,]))  #violates this assumption, p < .05"
   ]
  },
  {
   "cell_type": "code",
   "execution_count": 29,
   "id": "6d3fe4bc-fe87-403f-a4a6-08ee0dcc9262",
   "metadata": {},
   "outputs": [
    {
     "data": {
      "text/html": [
       "<table class=\"dataframe\">\n",
       "<caption>A anova: 2 × 3</caption>\n",
       "<thead>\n",
       "\t<tr><th></th><th scope=col>Df</th><th scope=col>F value</th><th scope=col>Pr(&gt;F)</th></tr>\n",
       "\t<tr><th></th><th scope=col>&lt;int&gt;</th><th scope=col>&lt;dbl&gt;</th><th scope=col>&lt;dbl&gt;</th></tr>\n",
       "</thead>\n",
       "<tbody>\n",
       "\t<tr><th scope=row>group</th><td>    1</td><td>8.369727</td><td>0.003820764</td></tr>\n",
       "\t<tr><th scope=row> </th><td>14880</td><td>      NA</td><td>         NA</td></tr>\n",
       "</tbody>\n",
       "</table>\n"
      ],
      "text/latex": [
       "A anova: 2 × 3\n",
       "\\begin{tabular}{r|lll}\n",
       "  & Df & F value & Pr(>F)\\\\\n",
       "  & <int> & <dbl> & <dbl>\\\\\n",
       "\\hline\n",
       "\tgroup &     1 & 8.369727 & 0.003820764\\\\\n",
       "\t  & 14880 &       NA &          NA\\\\\n",
       "\\end{tabular}\n"
      ],
      "text/markdown": [
       "\n",
       "A anova: 2 × 3\n",
       "\n",
       "| <!--/--> | Df &lt;int&gt; | F value &lt;dbl&gt; | Pr(&gt;F) &lt;dbl&gt; |\n",
       "|---|---|---|---|\n",
       "| group |     1 | 8.369727 | 0.003820764 |\n",
       "| <!----> | 14880 |       NA |          NA |\n",
       "\n"
      ],
      "text/plain": [
       "      Df    F value  Pr(>F)     \n",
       "group     1 8.369727 0.003820764\n",
       "      14880       NA          NA"
      ]
     },
     "metadata": {},
     "output_type": "display_data"
    },
    {
     "data": {
      "text/html": [
       "<table class=\"dataframe\">\n",
       "<caption>A anova: 2 × 3</caption>\n",
       "<thead>\n",
       "\t<tr><th></th><th scope=col>Df</th><th scope=col>F value</th><th scope=col>Pr(&gt;F)</th></tr>\n",
       "\t<tr><th></th><th scope=col>&lt;int&gt;</th><th scope=col>&lt;dbl&gt;</th><th scope=col>&lt;dbl&gt;</th></tr>\n",
       "</thead>\n",
       "<tbody>\n",
       "\t<tr><th scope=row>group</th><td>    1</td><td>3.357201</td><td>0.0669317</td></tr>\n",
       "\t<tr><th scope=row> </th><td>14880</td><td>      NA</td><td>       NA</td></tr>\n",
       "</tbody>\n",
       "</table>\n"
      ],
      "text/latex": [
       "A anova: 2 × 3\n",
       "\\begin{tabular}{r|lll}\n",
       "  & Df & F value & Pr(>F)\\\\\n",
       "  & <int> & <dbl> & <dbl>\\\\\n",
       "\\hline\n",
       "\tgroup &     1 & 3.357201 & 0.0669317\\\\\n",
       "\t  & 14880 &       NA &        NA\\\\\n",
       "\\end{tabular}\n"
      ],
      "text/markdown": [
       "\n",
       "A anova: 2 × 3\n",
       "\n",
       "| <!--/--> | Df &lt;int&gt; | F value &lt;dbl&gt; | Pr(&gt;F) &lt;dbl&gt; |\n",
       "|---|---|---|---|\n",
       "| group |     1 | 3.357201 | 0.0669317 |\n",
       "| <!----> | 14880 |       NA |        NA |\n",
       "\n"
      ],
      "text/plain": [
       "      Df    F value  Pr(>F)   \n",
       "group     1 3.357201 0.0669317\n",
       "      14880       NA        NA"
      ]
     },
     "metadata": {},
     "output_type": "display_data"
    }
   ],
   "source": [
    "#Homogeneity of Variance\n",
    "leveneTest(shots ~ wonFactor, data=data) # Violates\n",
    "leveneTest(hits ~ wonFactor, data=data)  # Passes"
   ]
  },
  {
   "cell_type": "code",
   "execution_count": 30,
   "id": "7b84719c-dee5-457e-a212-26924b4abd97",
   "metadata": {},
   "outputs": [
    {
     "data": {
      "text/plain": [
       "\n",
       "\tPearson's product-moment correlation\n",
       "\n",
       "data:  data$shots and data$hits\n",
       "t = 2.2984, df = 14880, p-value = 0.02155\n",
       "alternative hypothesis: true correlation is not equal to 0\n",
       "95 percent confidence interval:\n",
       " 0.00277288 0.03489467\n",
       "sample estimates:\n",
       "       cor \n",
       "0.01883864 \n"
      ]
     },
     "metadata": {},
     "output_type": "display_data"
    }
   ],
   "source": [
    "#Absence of Multicollinearity\n",
    "cor.test(data$shots, data$hits, method=\"pearson\", use=\"complete.obs\") #below .7, no strong multicollinearity"
   ]
  },
  {
   "cell_type": "code",
   "execution_count": 37,
   "id": "0d67ba31-84c4-4d5b-ac48-0fa8dec34f87",
   "metadata": {},
   "outputs": [],
   "source": [
    "#MANOVA\n",
    "MANOVA <- manova(cbind(shots, hits) ~ wonFactor, data = data)"
   ]
  },
  {
   "cell_type": "code",
   "execution_count": 38,
   "id": "2bedbfd7-2a61-478a-86f2-b2e43c3236f7",
   "metadata": {},
   "outputs": [
    {
     "data": {
      "text/plain": [
       "             Df    Pillai approx F num Df den Df    Pr(>F)    \n",
       "wonFactor     1 0.0045269   33.831      2  14879 2.192e-15 ***\n",
       "Residuals 14880                                               \n",
       "---\n",
       "Signif. codes:  0 ‘***’ 0.001 ‘**’ 0.01 ‘*’ 0.05 ‘.’ 0.1 ‘ ’ 1"
      ]
     },
     "metadata": {},
     "output_type": "display_data"
    }
   ],
   "source": [
    "summary(MANOVA)"
   ]
  },
  {
   "cell_type": "code",
   "execution_count": 39,
   "id": "1ed4f0f7-6916-4cf8-a5a9-1b08481ec107",
   "metadata": {},
   "outputs": [
    {
     "data": {
      "text/plain": [
       " Response shots :\n",
       "               Df Sum Sq Mean Sq F value Pr(>F)\n",
       "wonFactor       1     90  89.640  1.9297 0.1648\n",
       "Residuals   14880 691208  46.452               \n",
       "\n",
       " Response hits :\n",
       "               Df  Sum Sq Mean Sq F value    Pr(>F)    \n",
       "wonFactor       1    5068  5068.5  65.269 7.032e-16 ***\n",
       "Residuals   14880 1155506    77.7                      \n",
       "---\n",
       "Signif. codes:  0 ‘***’ 0.001 ‘**’ 0.01 ‘*’ 0.05 ‘.’ 0.1 ‘ ’ 1\n"
      ]
     },
     "metadata": {},
     "output_type": "display_data"
    }
   ],
   "source": [
    "summary.aov(MANOVA, test = \"wilks\") "
   ]
  },
  {
   "cell_type": "code",
   "execution_count": 40,
   "id": "c180c4b4-d180-4bc8-91a6-3f6d1d3f61a2",
   "metadata": {},
   "outputs": [],
   "source": [
    "#There is a significant difference in hits in relation to winning."
   ]
  },
  {
   "cell_type": "code",
   "execution_count": null,
   "id": "ac9960c1-0233-4140-a8f9-e2f422ead49b",
   "metadata": {},
   "outputs": [],
   "source": []
  }
 ],
 "metadata": {
  "kernelspec": {
   "display_name": "R",
   "language": "R",
   "name": "ir"
  },
  "language_info": {
   "codemirror_mode": "r",
   "file_extension": ".r",
   "mimetype": "text/x-r-source",
   "name": "R",
   "pygments_lexer": "r",
   "version": "4.1.1"
  }
 },
 "nbformat": 4,
 "nbformat_minor": 5
}
