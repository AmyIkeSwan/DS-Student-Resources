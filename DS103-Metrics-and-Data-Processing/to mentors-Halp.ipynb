{
 "cells": [
  {
   "cell_type": "code",
   "execution_count": null,
   "id": "e94e8343-e965-49c5-90ac-88b5d93b8d99",
   "metadata": {},
   "outputs": [],
   "source": [
    "#this is for 103 part one lesson 5, the quizzes! If you can, please finish these and i will integrate them into the main document. Thank you! "
   ]
  },
  {
   "cell_type": "markdown",
   "id": "bd72c8b7-0981-4d01-b031-4cb8b8d5d1b5",
   "metadata": {
    "jp-MarkdownHeadingCollapsed": true,
    "tags": []
   },
   "source": [
    "### Lesson 5: Reliability and Validity"
   ]
  },
  {
   "cell_type": "markdown",
   "id": "8e7f8c7b-b36c-460c-946c-3675c72bcc6d",
   "metadata": {},
   "source": [
    "## Page 2"
   ]
  },
  {
   "cell_type": "code",
   "execution_count": 1,
   "id": "a4957309-2856-4871-83df-365067a63b27",
   "metadata": {},
   "outputs": [],
   "source": [
    "from DS_Students import *"
   ]
  },
  {
   "cell_type": "code",
   "execution_count": 15,
   "id": "23d04432-25c4-4038-af03-56e3ad8cf74a",
   "metadata": {},
   "outputs": [],
   "source": [
    "L5P2Q1 = MC('1. The statement below is an example of what kind of testing?\\n\\n   You are looking at the behavior of schoolchildren on the playground, and mark different behaviors down on a tally-sheet on a clipboard. However, the children notice you, and play a little less rambunctiously.',['A. Destructive','B. Disruptive'],'B. Disruptive', cor='Since the children change the way they behaved, your measuring them disrupted the process and made measurement inaccurate.', incor='')\n",
    "L5P2Q2 = MC('2. The statement below is an example of what kind of testing?\\n\\n   The most accurate way to measure someone\\'s body fat is to kill them and weigh the fat in each organ.',['A. Destructive','B. Disruptive'],'A. Destructive', cor='Even though this is technically true, no one would conduct the most accurate test because it is completely destructive! You could never measure that person again (let alone contemplating the loss of life!) Destructive tests are almost always not feasible, and with good reason.', incor='')\n"
   ]
  },
  {
   "cell_type": "code",
   "execution_count": 16,
   "id": "522cfe8e-44c7-4584-aaf1-8c24e0565f30",
   "metadata": {},
   "outputs": [
    {
     "data": {
      "application/vnd.jupyter.widget-view+json": {
       "model_id": "a85b8095d8784a5795d3fe70c3bb23ce",
       "version_major": 2,
       "version_minor": 0
      },
      "text/plain": [
       "VBox(children=(Output(outputs=({'name': 'stdout', 'text': '1. The statement below is an example of what kind o…"
      ]
     },
     "metadata": {},
     "output_type": "display_data"
    },
    {
     "data": {
      "application/vnd.jupyter.widget-view+json": {
       "model_id": "cb2136b28a16481897ac0745fcf47c3a",
       "version_major": 2,
       "version_minor": 0
      },
      "text/plain": [
       "VBox(children=(Output(outputs=({'name': 'stdout', 'text': \"2. The statement below is an example of what kind o…"
      ]
     },
     "metadata": {},
     "output_type": "display_data"
    }
   ],
   "source": [
    "if __name__ == \"__main__\":\n",
    "    display(L5P2Q1, L5P2Q2)"
   ]
  },
  {
   "cell_type": "markdown",
   "id": "1c77d26c-e2bb-478d-b9ed-1cb3d6094a28",
   "metadata": {},
   "source": [
    "## Page 3"
   ]
  },
  {
   "cell_type": "code",
   "execution_count": 17,
   "id": "311f4134-0ef8-436d-8065-06da31695810",
   "metadata": {},
   "outputs": [],
   "source": [
    "L5P3Q1 = MC('1. What is the systematic error in a measurement called?',['A. Accuracy','B. Precision', 'C. Bias', 'D. Calibration'],'C. Bias', cor='', incor='')\n",
    "L5P3Q2 = MC('2. What is the \\'correctness\\' in a measurement called?',['A. Accuracy','B. Precision', 'C. Bias', 'D. Calibration'],'A. Accuracy', cor='', incor='')\n",
    "L5P3Q3 = MC('3. What is the \\'repeatedness\\' in a measurement called?',['A. Accuracy','B. Precision', 'C. Bias', 'D. Calibration'],'B. Precision', cor='', incor='')\n",
    "L5P3Q4 = MC('4. What would be a reasonable measurement of accuracy?',['A. Using a \\'gold standard\\' as a known value.','B. The standard deviation of the measurements', 'C. The distance between the target and the mean of the measurements','D. There isn\\'t one'],'C. The distance between the target and the mean of the measurements', cor='', incor='')\n",
    "L5P3Q5 = MC('5. What would be a reasonable measurement of bias?',['A. Using a \\'gold standard\\' as a known value.','B. The standard deviation of the measurements', 'C. The distance between the target and the mean of the measurements','D. There isn\\'t one'], 'A. Using a \\'gold standard\\' as a known value.', cor='', incor='')\n",
    "L5P3Q6 = MC('6. What would be a reasonable measurement of precision?',['A. Using a \\'gold standard\\' as a known value.','B. The standard deviation of the measurements', 'C. The distance between the target and the mean of the measurements','D. There isn\\'t one'],'B. The standard deviation of the measurements', cor='', incor='')\n"
   ]
  },
  {
   "cell_type": "code",
   "execution_count": 18,
   "id": "fa5c1f76-4d22-4a78-bb81-9b27e1104a30",
   "metadata": {},
   "outputs": [
    {
     "data": {
      "application/vnd.jupyter.widget-view+json": {
       "model_id": "a49541cc4bbb42c4983b262d8f58420f",
       "version_major": 2,
       "version_minor": 0
      },
      "text/plain": [
       "VBox(children=(Output(outputs=({'name': 'stdout', 'text': '1. What is the systematic error in a measurement ca…"
      ]
     },
     "metadata": {},
     "output_type": "display_data"
    },
    {
     "data": {
      "application/vnd.jupyter.widget-view+json": {
       "model_id": "3822390c8722499d8b157364dfb9f4e6",
       "version_major": 2,
       "version_minor": 0
      },
      "text/plain": [
       "VBox(children=(Output(outputs=({'name': 'stdout', 'text': \"2. What is the 'correctness' in a measurement calle…"
      ]
     },
     "metadata": {},
     "output_type": "display_data"
    },
    {
     "data": {
      "application/vnd.jupyter.widget-view+json": {
       "model_id": "fcf84401a168429fba030b5a5d163997",
       "version_major": 2,
       "version_minor": 0
      },
      "text/plain": [
       "VBox(children=(Output(outputs=({'name': 'stdout', 'text': \"3. What is the 'repeatedness' in a measurement call…"
      ]
     },
     "metadata": {},
     "output_type": "display_data"
    },
    {
     "data": {
      "application/vnd.jupyter.widget-view+json": {
       "model_id": "6ddff42324f04fa699ac57710411f59e",
       "version_major": 2,
       "version_minor": 0
      },
      "text/plain": [
       "VBox(children=(Output(outputs=({'name': 'stdout', 'text': '4. What would be a reasonable measurement of accura…"
      ]
     },
     "metadata": {},
     "output_type": "display_data"
    },
    {
     "data": {
      "application/vnd.jupyter.widget-view+json": {
       "model_id": "3ac4ac788f044fdca34eeab54f778702",
       "version_major": 2,
       "version_minor": 0
      },
      "text/plain": [
       "VBox(children=(Output(outputs=({'name': 'stdout', 'text': '5. What would be a reasonable measurement of bias?\\…"
      ]
     },
     "metadata": {},
     "output_type": "display_data"
    },
    {
     "data": {
      "application/vnd.jupyter.widget-view+json": {
       "model_id": "9dae2a46305c43e4b98880180c5dd58a",
       "version_major": 2,
       "version_minor": 0
      },
      "text/plain": [
       "VBox(children=(Output(outputs=({'name': 'stdout', 'text': '6. What would be a reasonable measurement of precis…"
      ]
     },
     "metadata": {},
     "output_type": "display_data"
    }
   ],
   "source": [
    "if __name__ == \"__main__\":\n",
    "    display(L5P3Q1, L5P3Q2, L5P3Q3, L5P3Q4, L5P3Q5, L5P3Q6)"
   ]
  },
  {
   "cell_type": "markdown",
   "id": "b5db404e-5615-4505-ab72-1f10f2eaa3d4",
   "metadata": {},
   "source": [
    "## Page 4"
   ]
  },
  {
   "cell_type": "code",
   "execution_count": 19,
   "id": "a30f7517-09bd-4e3d-8e49-aba5972c0a11",
   "metadata": {},
   "outputs": [],
   "source": [
    "L5P4Q1 = MC('1. Which of the following is indicative of variation because of different operators measuring the same item?',['A. Part-to-part variation','B. Repeatability', 'C. Reproducibility'],'C. Reproducibility', cor='', incor='')\n",
    "L5P4Q2 = MC('2. Which of the following is indicative of variation because of the gauge itself?',['A. Part-to-part variation','B. Repeatability', 'C. Reproducibility'],'B. Repeatability', cor='', incor='')\n",
    "L5P4Q3 = MC('3. Which of the following is indicative of variation because of the normal range of all measurements?',['A. Part-to-part variation','B. Repeatability', 'C. Reproducibility'],'A. Part-to-part variation', cor='', incor='')\n"
   ]
  },
  {
   "cell_type": "code",
   "execution_count": 20,
   "id": "83502199-b547-4ca0-8735-0caf468a8119",
   "metadata": {},
   "outputs": [
    {
     "data": {
      "application/vnd.jupyter.widget-view+json": {
       "model_id": "3a660ad2e49446c69581e7023ef3227b",
       "version_major": 2,
       "version_minor": 0
      },
      "text/plain": [
       "VBox(children=(Output(outputs=({'name': 'stdout', 'text': '1. Which of the following is indicative of variatio…"
      ]
     },
     "metadata": {},
     "output_type": "display_data"
    },
    {
     "data": {
      "application/vnd.jupyter.widget-view+json": {
       "model_id": "88e80f0e1c5a445aae2401239121d65a",
       "version_major": 2,
       "version_minor": 0
      },
      "text/plain": [
       "VBox(children=(Output(outputs=({'name': 'stdout', 'text': '2. Which of the following is indicative of variatio…"
      ]
     },
     "metadata": {},
     "output_type": "display_data"
    },
    {
     "data": {
      "application/vnd.jupyter.widget-view+json": {
       "model_id": "b2eccb122adc4d16a06258500203f1f1",
       "version_major": 2,
       "version_minor": 0
      },
      "text/plain": [
       "VBox(children=(Output(outputs=({'name': 'stdout', 'text': '3. Which of the following is indicative of variatio…"
      ]
     },
     "metadata": {},
     "output_type": "display_data"
    }
   ],
   "source": [
    "if __name__ == \"__main__\":\n",
    "    display(L5P4Q1, L5P4Q2, L5P4Q3)"
   ]
  },
  {
   "cell_type": "markdown",
   "id": "1b28cb30-7240-4fc4-89dd-9bb024ca230d",
   "metadata": {},
   "source": [
    "## Page 5"
   ]
  },
  {
   "cell_type": "code",
   "execution_count": 23,
   "id": "68fbc4d4-72e0-43ca-8574-73c935892cbe",
   "metadata": {},
   "outputs": [],
   "source": [
    "L5P5Q1 = MC('1. What is the survey term for accuracy?',['A. Precision','B. Reliability', 'C. Validity'],'C. Validity', cor='', incor='')\n",
    "L5P5Q2 = MC('2. What is the survey term for precision?',['A. Reliability','B. Validity', 'C. Accuracy'],'A. Reliability', cor='', incor='')\n",
    "L5P5Q3 = MC('3. Which type of reliability is described below?\\n\\n   You have one person take the survey, and then have that person take the survey again a week later.',['A. Inter-rater reliability','B. Inter-item reliability'],'A. Inter-rater reliability', cor='', incor='')\n",
    "L5P5Q4 = MC('4. Which of the following is NOT a way to validate your survey?',['A. Compare groups with and without the trait you\\'re measuring','B. Compare your survey to other similar surveys', 'C. Factor Analysis', 'D. Chronbach\\'s alpha'],'D. Chronbach\\'s alpha', cor='', incor='')\n"
   ]
  },
  {
   "cell_type": "code",
   "execution_count": 24,
   "id": "14bd4192-b575-417e-9671-7e0730a372e7",
   "metadata": {},
   "outputs": [
    {
     "data": {
      "application/vnd.jupyter.widget-view+json": {
       "model_id": "1550d9aba5bb49118e32089e789d3178",
       "version_major": 2,
       "version_minor": 0
      },
      "text/plain": [
       "VBox(children=(Output(outputs=({'name': 'stdout', 'text': '1. What is the survey term for accuracy?\\n', 'outpu…"
      ]
     },
     "metadata": {},
     "output_type": "display_data"
    },
    {
     "data": {
      "application/vnd.jupyter.widget-view+json": {
       "model_id": "3637d849d7a94c44b8c454fcf62ee185",
       "version_major": 2,
       "version_minor": 0
      },
      "text/plain": [
       "VBox(children=(Output(outputs=({'name': 'stdout', 'text': '2. What is the survey term for precision?\\n', 'outp…"
      ]
     },
     "metadata": {},
     "output_type": "display_data"
    },
    {
     "data": {
      "application/vnd.jupyter.widget-view+json": {
       "model_id": "eee116c4ace04012a3e33c3658d110e3",
       "version_major": 2,
       "version_minor": 0
      },
      "text/plain": [
       "VBox(children=(Output(outputs=({'name': 'stdout', 'text': '3. Which type of reliability is described below?\\n\\…"
      ]
     },
     "metadata": {},
     "output_type": "display_data"
    },
    {
     "data": {
      "application/vnd.jupyter.widget-view+json": {
       "model_id": "4fcb8f83aaef41058c3302a5ce4e8196",
       "version_major": 2,
       "version_minor": 0
      },
      "text/plain": [
       "VBox(children=(Output(outputs=({'name': 'stdout', 'text': '4. Which of the following is NOT a way to validate …"
      ]
     },
     "metadata": {},
     "output_type": "display_data"
    }
   ],
   "source": [
    "if __name__ == \"__main__\":\n",
    "    display(L5P5Q1, L5P5Q2, L5P5Q3, L5P5Q4)"
   ]
  },
  {
   "cell_type": "markdown",
   "id": "a74b09ce-d21c-4db2-bee7-8a47f061a844",
   "metadata": {},
   "source": [
    "## Page 6"
   ]
  },
  {
   "cell_type": "code",
   "execution_count": 26,
   "id": "f96e9c26-9972-4d26-8237-e037a6ea7db8",
   "metadata": {},
   "outputs": [],
   "source": [
    "L5P6Q1 = MC('1. Which of the following is NOT a difference between exploratory and confirmatory factor analysis?',['A. Exploratory doesn\\'t know what the data will yiels; confirmatory does','B. Exploratory just validates data; confirmatory tests data for the first time', 'C. Exploratory is easier than confirmatory', 'D. Exploratory is more popular that confirmatory'],'B. Exploratory just validates data; confirmatory tests data for the first time', cor='', incor='')\n",
    "L5P6Q2 = MC('2. Which of the following is NOT an assumption for EFA?',['A. Sample size','B. Absence of multicollinearity', 'C. Related survey items', 'D. Normality'],'D. Normality', cor='', incor='')\n",
    "L5P6Q3 = MC('3. What is the minimum sample size you should ever consider using for factor analysis?',['A. 100','B. 150', 'C. 50', 'D. 200'],'B. 150', cor='', incor='')\n",
    "L5P6Q4 = MC('4. You have multicollinearity in a factor analysis if:',['A. Any survey item correlates with another greater than .9','B. Your determinant p value is less than .00001', 'C. You fail a Bartlett\\'s test', 'D. Both A & B'],'D. Both A & B', cor='', incor='')\n",
    "L5P6Q5 = MC('5. Which type of factor rotation gets turned 90 degrees?',['A. Orthogonal','B. Oblique'],'A. Orthogonal', cor='', incor='')\n"
   ]
  },
  {
   "cell_type": "code",
   "execution_count": 27,
   "id": "eb366b66-79d2-41ef-bc02-4c8f81abfb4d",
   "metadata": {},
   "outputs": [
    {
     "data": {
      "application/vnd.jupyter.widget-view+json": {
       "model_id": "e786040bc256476d8e258aa481773058",
       "version_major": 2,
       "version_minor": 0
      },
      "text/plain": [
       "VBox(children=(Output(outputs=({'name': 'stdout', 'text': '1. Which of the following is NOT a difference betwe…"
      ]
     },
     "metadata": {},
     "output_type": "display_data"
    },
    {
     "data": {
      "application/vnd.jupyter.widget-view+json": {
       "model_id": "375e4a85a0d94788b6d81f1b716dd632",
       "version_major": 2,
       "version_minor": 0
      },
      "text/plain": [
       "VBox(children=(Output(outputs=({'name': 'stdout', 'text': '2. Which of the following is NOT an assumption for …"
      ]
     },
     "metadata": {},
     "output_type": "display_data"
    },
    {
     "data": {
      "application/vnd.jupyter.widget-view+json": {
       "model_id": "a6ea380d3afe403eaac27968b6afdc7f",
       "version_major": 2,
       "version_minor": 0
      },
      "text/plain": [
       "VBox(children=(Output(outputs=({'name': 'stdout', 'text': '3. What is the minimum sample size you should ever …"
      ]
     },
     "metadata": {},
     "output_type": "display_data"
    },
    {
     "data": {
      "application/vnd.jupyter.widget-view+json": {
       "model_id": "4ba4d09f60104faea82ca1a9f5d875d3",
       "version_major": 2,
       "version_minor": 0
      },
      "text/plain": [
       "VBox(children=(Output(outputs=({'name': 'stdout', 'text': '4. You have multicollinearity in a factor analysis …"
      ]
     },
     "metadata": {},
     "output_type": "display_data"
    },
    {
     "data": {
      "application/vnd.jupyter.widget-view+json": {
       "model_id": "037ff0d46f73459a8e3b2188002370d5",
       "version_major": 2,
       "version_minor": 0
      },
      "text/plain": [
       "VBox(children=(Output(outputs=({'name': 'stdout', 'text': '5. Which type of factor rotation gets turned 90 deg…"
      ]
     },
     "metadata": {},
     "output_type": "display_data"
    }
   ],
   "source": [
    "if __name__ == \"__main__\":\n",
    "    display(L5P6Q1, L5P6Q2, L5P6Q3, L5P6Q4, L5P6Q5)"
   ]
  },
  {
   "cell_type": "markdown",
   "id": "b59615db-2e2a-431e-ac6a-4f8b6aa7eb01",
   "metadata": {},
   "source": [
    "## Page 7"
   ]
  },
  {
   "cell_type": "code",
   "execution_count": 35,
   "id": "550b7798-2670-4077-b8de-7c25aab88637",
   "metadata": {},
   "outputs": [],
   "source": [
    "L5P7Q1 = MC('1. True or False?\\n\\n   You can specify in the factor analysis function what variables you want to use, so you don\\'t need to subset your data ahead of time.',['A. True','B. False'],'B. False', cor='', incor='')\n",
    "L5P7Q2 = MC('2. What will this code do?\\n\\n   View(round(Datamatrix, 4))\\n',['A. Print your correlation matrix with two numbers after the decimal point','B. Print your correlation matrix with four numbers after the decimal point', 'C. Show your correlation matrix in the data pane with four numbers after the decimal point', 'D. Show only the first four variables in the correlation matrix'],'C. Show your correlation matrix in the data pane with four numbers after the decimal point', cor='', incor='')\n",
    "L5P7Q3 = MC('3. Should you proceed with factor analysis if you get a determinant of \\033[31m3.179686e-10\\033[0m?',['A. Yes','B. No'],'B. No', cor='Since this is written in scientific notation, this number is really .00000000031, which is smaller than .00001', incor='')\n",
    "L5P7Q4 = MC('4. Should you proceed with factor analysis if you get a signficant Bartlett\\'s test?',['A. Yes','B. No'],'B. No', cor='', incor='')\n"
   ]
  },
  {
   "cell_type": "code",
   "execution_count": 36,
   "id": "e700903e-42c0-4ccc-8cea-32b7b96ade01",
   "metadata": {},
   "outputs": [
    {
     "data": {
      "application/vnd.jupyter.widget-view+json": {
       "model_id": "c3a2800a0cf14a03adec3209c0954a19",
       "version_major": 2,
       "version_minor": 0
      },
      "text/plain": [
       "VBox(children=(Output(outputs=({'name': 'stdout', 'text': \"1. True or False?\\n\\n   You can specify in the fact…"
      ]
     },
     "metadata": {},
     "output_type": "display_data"
    },
    {
     "data": {
      "application/vnd.jupyter.widget-view+json": {
       "model_id": "f2243f6e5cac4261b0e579a257d2cb5c",
       "version_major": 2,
       "version_minor": 0
      },
      "text/plain": [
       "VBox(children=(Output(outputs=({'name': 'stdout', 'text': '2. What will this code do?\\n\\n   View(round(Datamat…"
      ]
     },
     "metadata": {},
     "output_type": "display_data"
    },
    {
     "data": {
      "application/vnd.jupyter.widget-view+json": {
       "model_id": "35c5e46a0e594eff9b91aa16052a77f0",
       "version_major": 2,
       "version_minor": 0
      },
      "text/plain": [
       "VBox(children=(Output(outputs=({'name': 'stdout', 'text': '3. Should you proceed with factor analysis if you g…"
      ]
     },
     "metadata": {},
     "output_type": "display_data"
    },
    {
     "data": {
      "application/vnd.jupyter.widget-view+json": {
       "model_id": "3fb252433f7d4f9b9e86fbd352e2e996",
       "version_major": 2,
       "version_minor": 0
      },
      "text/plain": [
       "VBox(children=(Output(outputs=({'name': 'stdout', 'text': \"4. Should you proceed with factor analysis if you g…"
      ]
     },
     "metadata": {},
     "output_type": "display_data"
    }
   ],
   "source": [
    "if __name__ == \"__main__\":\n",
    "    display(L5P7Q1, L5P7Q2, L5P7Q3, L5P7Q4)"
   ]
  },
  {
   "cell_type": "markdown",
   "id": "38f7498a-eb25-484f-abe8-16db244f10cd",
   "metadata": {},
   "source": [
    "## Page 8"
   ]
  },
  {
   "cell_type": "code",
   "execution_count": 37,
   "id": "ccdbc573-0a1f-48d9-972f-ce1a1ba63020",
   "metadata": {},
   "outputs": [],
   "source": [
    "L5P8Q1 = MC('1. What is the first thing you will want to do once you have met your assumptions and start the factor analysis process?',['A. Determine the approximate number of factors using eigenvalue and the scree plot','B. Rotate your factors', 'C. Determine where each item goes', 'D. Determine model fit'],'A. Determine the approximate number of factors using eigenvalue and the scree plot', cor='', incor='')\n",
    "L5P8Q2 = MC('2. What does examining the percentage of large residuals tell you?',['A. Number of factors','B. How each item loads on the factor', 'C. Model fit'],'C. Model fit', cor='', incor='')\n",
    "L5P8Q3 = MC('3. You examine residuals and find that 65% are large. Is your model fit good?',['A. Yes','B. No'],'B. No', cor='You should have 50% or fewer residuals that are considered large to have a good model fit.', incor='')\n",
    "L5P8Q4 = MC('4. What is considered a \"good\" factor loading value?',['A. Above .2','B. Above .3-.4 ish', 'C. Above .5', 'D. Above .9'],'B. Above .3-.4 ish', cor='', incor='')\n",
    "L5P8Q5 = MC('5. True or false?\\n\\n   It\\'s a good idea to try multiple different rotations and even different number of factors',['A. True','B. False'],'A. True', cor='Factor analysis is very subjective, so try many different options to see what yields the best fit and makes the most sense theoretically with your survey items.', incor='')\n"
   ]
  },
  {
   "cell_type": "code",
   "execution_count": 38,
   "id": "7cf99b78-ff28-4ae5-8cd9-038a9bf15478",
   "metadata": {},
   "outputs": [
    {
     "data": {
      "application/vnd.jupyter.widget-view+json": {
       "model_id": "8122d48fef3b4b31a1c481092a3b3bcf",
       "version_major": 2,
       "version_minor": 0
      },
      "text/plain": [
       "VBox(children=(Output(outputs=({'name': 'stdout', 'text': '1. What is the first thing you will want to do once…"
      ]
     },
     "metadata": {},
     "output_type": "display_data"
    },
    {
     "data": {
      "application/vnd.jupyter.widget-view+json": {
       "model_id": "8ab15fe6b43a4840b746fe34b8c1691c",
       "version_major": 2,
       "version_minor": 0
      },
      "text/plain": [
       "VBox(children=(Output(outputs=({'name': 'stdout', 'text': '2. What does examining the percentage of large resi…"
      ]
     },
     "metadata": {},
     "output_type": "display_data"
    },
    {
     "data": {
      "application/vnd.jupyter.widget-view+json": {
       "model_id": "f4e78c350e284dd9b481d1f1d603611f",
       "version_major": 2,
       "version_minor": 0
      },
      "text/plain": [
       "VBox(children=(Output(outputs=({'name': 'stdout', 'text': '3. You examine residuals and find that 65% are larg…"
      ]
     },
     "metadata": {},
     "output_type": "display_data"
    },
    {
     "data": {
      "application/vnd.jupyter.widget-view+json": {
       "model_id": "515ab2673b8848caa6e2849fb635f157",
       "version_major": 2,
       "version_minor": 0
      },
      "text/plain": [
       "VBox(children=(Output(outputs=({'name': 'stdout', 'text': '4. What is considered a \"good\" factor loading value…"
      ]
     },
     "metadata": {},
     "output_type": "display_data"
    },
    {
     "data": {
      "application/vnd.jupyter.widget-view+json": {
       "model_id": "673ce9a592764dd890f315202bbbf482",
       "version_major": 2,
       "version_minor": 0
      },
      "text/plain": [
       "VBox(children=(Output(outputs=({'name': 'stdout', 'text': \"5. True or false?\\n\\n   It's a good idea to try mul…"
      ]
     },
     "metadata": {},
     "output_type": "display_data"
    }
   ],
   "source": [
    "if __name__ == \"__main__\":\n",
    "    display(L5P8Q1, L5P8Q2, L5P8Q3, L5P8Q4, L5P8Q5)"
   ]
  },
  {
   "cell_type": "markdown",
   "id": "09eaafbf-bc02-401a-b058-187ca3438772",
   "metadata": {},
   "source": [
    "## Page 9"
   ]
  },
  {
   "cell_type": "code",
   "execution_count": 39,
   "id": "97f3360c-96a4-42ce-a23b-a1e02e398b3c",
   "metadata": {},
   "outputs": [],
   "source": [
    "L5P9Q1 = MC('1. True or false?\\n\\n   You will need a separate dataset for for every subscale you found in factor analysis.',['A. True','B. False'],'A. True', cor='', incor='')\n",
    "L5P9Q2 = MC('2. True or false?\\n\\n   If you ask questions in both a negative and a positive direction, you do not need to reverse code any items.',['A. True','B. False'],'B. False', cor='You will need to reverse code the items going in a \"negative\" direction so that all your items face the same way.', incor='')\n",
    "L5P9Q3 = MC('3. True or false?\\n\\n   There are a lot of assumptions for reliability analysis.',['A. True','B. False'],'B. False', cor='There are no assumptions you need to meet to test for reliability!', incor='')\n"
   ]
  },
  {
   "cell_type": "code",
   "execution_count": 41,
   "id": "eeee408c-fdd8-49ea-960e-2b1369c71064",
   "metadata": {},
   "outputs": [
    {
     "data": {
      "application/vnd.jupyter.widget-view+json": {
       "model_id": "e0f0790f12db49119d96974c361d74a9",
       "version_major": 2,
       "version_minor": 0
      },
      "text/plain": [
       "VBox(children=(Output(outputs=({'name': 'stdout', 'text': '1. True or false?\\n\\n   You will need a separate da…"
      ]
     },
     "metadata": {},
     "output_type": "display_data"
    },
    {
     "data": {
      "application/vnd.jupyter.widget-view+json": {
       "model_id": "a9770917563f4f5e9f94f413906fba06",
       "version_major": 2,
       "version_minor": 0
      },
      "text/plain": [
       "VBox(children=(Output(outputs=({'name': 'stdout', 'text': '2. True or false?\\n\\n   If you ask questions in bot…"
      ]
     },
     "metadata": {},
     "output_type": "display_data"
    },
    {
     "data": {
      "application/vnd.jupyter.widget-view+json": {
       "model_id": "2ff0cd4997d24201a07b7ac65f322c5c",
       "version_major": 2,
       "version_minor": 0
      },
      "text/plain": [
       "VBox(children=(Output(outputs=({'name': 'stdout', 'text': '3. True or false?\\n\\n   There are a lot of assumpti…"
      ]
     },
     "metadata": {},
     "output_type": "display_data"
    }
   ],
   "source": [
    "if __name__ == \"__main__\":\n",
    "    display(L5P9Q1, L5P9Q2, L5P9Q3)"
   ]
  },
  {
   "cell_type": "markdown",
   "id": "a261c7f5-8b99-42ab-962e-663104734b97",
   "metadata": {},
   "source": [
    "## Page 10"
   ]
  },
  {
   "cell_type": "code",
   "execution_count": 58,
   "id": "c7888868-a1ca-4f11-8669-85207985097d",
   "metadata": {},
   "outputs": [],
   "source": [
    "L5P10Q1 = MC('1. True or false?\\n\\n   Having the \\033[31;1mggplot2\\033[0m package installed can mess with your reliability analysis.',['A. True','B. False'],'A. True', cor='Since they both contain an \\033[31;1malpha()\\033[0m function, they can run into problems, so make sure to only load the \\033[31;1mpsych\\033[0m package before reliability analysis or to uncheck the \\033[31;1mggplot2\\033[0m package if you already have it loaded.', incor='')\n",
    "L5P10Q2 = MC('2. Where should you look for information on inter-rater reliability?',['A. Overall Chronbach\\'s alpha score','B. In the first table', 'C. In the second table', 'D. At both the overall Chronbach\\'s alpha score and in the first table'],'D. At both the overall Chronbach\\'s alpha score and in the first table', cor='', incor='')\n",
    "L5P10Q3 = MC('3. Where should you look for information on inter-item reliability?',['A. In the first table','B. In the second table under raw.r', 'C. In the second table under r.drop', 'D. In the third table', 'E. At both the second table under r.drop and in the third table'],'E. At both the second table under r.drop and in the third table', cor='', incor='')\n",
    "L5P10Q4 = MC('4. If the first \\033[31;1mraw_alpha\\033[0m score is .6, would you consider the scale reliable?',['A. Yes','B. No'],'B. No', cor='Typically around .8 is considered reliable.', incor='')\n",
    "L5P10Q5 = MC('5. What should you do if you find a \\033[31;1mdrop.r\\033[0m value of .2?',['A. Drop an item and re-check your reliability and factor analysis','B. Nothing', 'C. Drop the item and proceed on your merry way', 'D. Re-issue the scale to participants'],'A. Drop an item and re-check your reliability and factor analysis', cor='', incor='')\n"
   ]
  },
  {
   "cell_type": "code",
   "execution_count": 59,
   "id": "d94e7889-31b5-4b6e-a22e-723cdbfb9bab",
   "metadata": {},
   "outputs": [
    {
     "data": {
      "application/vnd.jupyter.widget-view+json": {
       "model_id": "088c1b7384b040e28a537481320cb20a",
       "version_major": 2,
       "version_minor": 0
      },
      "text/plain": [
       "VBox(children=(Output(outputs=({'name': 'stdout', 'text': '1. True or false?\\n\\n   Having the \\x1b[31;1mggplot…"
      ]
     },
     "metadata": {},
     "output_type": "display_data"
    },
    {
     "data": {
      "application/vnd.jupyter.widget-view+json": {
       "model_id": "a22ced951c224e7896bc82e7aeb770ef",
       "version_major": 2,
       "version_minor": 0
      },
      "text/plain": [
       "VBox(children=(Output(outputs=({'name': 'stdout', 'text': '2. Where should you look for information on inter-r…"
      ]
     },
     "metadata": {},
     "output_type": "display_data"
    },
    {
     "data": {
      "application/vnd.jupyter.widget-view+json": {
       "model_id": "edd001e1bb334d4f99e421839e66331b",
       "version_major": 2,
       "version_minor": 0
      },
      "text/plain": [
       "VBox(children=(Output(outputs=({'name': 'stdout', 'text': '3. Where should you look for information on inter-i…"
      ]
     },
     "metadata": {},
     "output_type": "display_data"
    },
    {
     "data": {
      "application/vnd.jupyter.widget-view+json": {
       "model_id": "110dec92332443bc8abcd8602b5baee3",
       "version_major": 2,
       "version_minor": 0
      },
      "text/plain": [
       "VBox(children=(Output(outputs=({'name': 'stdout', 'text': '4. If the first \\x1b[31;1mraw_alpha\\x1b[0m score is…"
      ]
     },
     "metadata": {},
     "output_type": "display_data"
    },
    {
     "data": {
      "application/vnd.jupyter.widget-view+json": {
       "model_id": "ecffc95c062547eabc0e02caf3b40fd8",
       "version_major": 2,
       "version_minor": 0
      },
      "text/plain": [
       "VBox(children=(Output(outputs=({'name': 'stdout', 'text': '5. What should you do if you find a \\x1b[31;1mdrop.…"
      ]
     },
     "metadata": {},
     "output_type": "display_data"
    }
   ],
   "source": [
    "if __name__ == \"__main__\":\n",
    "    display(L5P10Q1, L5P10Q2, L5P10Q3, L5P10Q4, L5P10Q5)"
   ]
  },
  {
   "cell_type": "code",
   "execution_count": null,
   "id": "558bb727-09b8-474d-9e87-01ff18604478",
   "metadata": {},
   "outputs": [],
   "source": []
  }
 ],
 "metadata": {
  "kernelspec": {
   "display_name": "Python 3 (ipykernel)",
   "language": "python",
   "name": "python3"
  },
  "language_info": {
   "codemirror_mode": {
    "name": "ipython",
    "version": 3
   },
   "file_extension": ".py",
   "mimetype": "text/x-python",
   "name": "python",
   "nbconvert_exporter": "python",
   "pygments_lexer": "ipython3",
   "version": "3.9.9"
  }
 },
 "nbformat": 4,
 "nbformat_minor": 5
}
