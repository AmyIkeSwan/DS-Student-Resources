{
 "cells": [
  {
   "cell_type": "code",
   "execution_count": null,
   "id": "e94e8343-e965-49c5-90ac-88b5d93b8d99",
   "metadata": {},
   "outputs": [],
   "source": [
    "#this is for 103 part one lesson 5, the quizzes! If you can, please finish these and i will integrate them into the main document. Thank you! "
   ]
  },
  {
   "cell_type": "markdown",
   "id": "bd72c8b7-0981-4d01-b031-4cb8b8d5d1b5",
   "metadata": {
    "jp-MarkdownHeadingCollapsed": true,
    "tags": []
   },
   "source": [
    "### Lesson 5: Reliability and Validity"
   ]
  },
  {
   "cell_type": "markdown",
   "id": "8e7f8c7b-b36c-460c-946c-3675c72bcc6d",
   "metadata": {},
   "source": [
    "## Page 2"
   ]
  },
  {
   "cell_type": "markdown",
   "id": "1c77d26c-e2bb-478d-b9ed-1cb3d6094a28",
   "metadata": {},
   "source": [
    "## Page 3"
   ]
  },
  {
   "cell_type": "markdown",
   "id": "b5db404e-5615-4505-ab72-1f10f2eaa3d4",
   "metadata": {},
   "source": [
    "## Page 4"
   ]
  },
  {
   "cell_type": "markdown",
   "id": "1b28cb30-7240-4fc4-89dd-9bb024ca230d",
   "metadata": {},
   "source": [
    "## Page 5"
   ]
  },
  {
   "cell_type": "markdown",
   "id": "a74b09ce-d21c-4db2-bee7-8a47f061a844",
   "metadata": {},
   "source": [
    "## Page 6"
   ]
  },
  {
   "cell_type": "markdown",
   "id": "b59615db-2e2a-431e-ac6a-4f8b6aa7eb01",
   "metadata": {},
   "source": [
    "## Page 7"
   ]
  },
  {
   "cell_type": "markdown",
   "id": "38f7498a-eb25-484f-abe8-16db244f10cd",
   "metadata": {},
   "source": [
    "## Page 8"
   ]
  },
  {
   "cell_type": "markdown",
   "id": "09eaafbf-bc02-401a-b058-187ca3438772",
   "metadata": {},
   "source": [
    "## Page 9"
   ]
  },
  {
   "cell_type": "markdown",
   "id": "a261c7f5-8b99-42ab-962e-663104734b97",
   "metadata": {},
   "source": [
    "## Page 10"
   ]
  }
 ],
 "metadata": {
  "kernelspec": {
   "display_name": "Python 3 (ipykernel)",
   "language": "python",
   "name": "python3"
  },
  "language_info": {
   "codemirror_mode": {
    "name": "ipython",
    "version": 3
   },
   "file_extension": ".py",
   "mimetype": "text/x-python",
   "name": "python",
   "nbconvert_exporter": "python",
   "pygments_lexer": "ipython3",
   "version": "3.9.7"
  }
 },
 "nbformat": 4,
 "nbformat_minor": 5
}
