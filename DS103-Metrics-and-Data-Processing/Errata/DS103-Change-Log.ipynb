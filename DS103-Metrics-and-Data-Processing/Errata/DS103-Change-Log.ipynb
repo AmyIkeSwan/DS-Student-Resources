{
 "cells": [
  {
   "cell_type": "markdown",
   "id": "0c0db268-1874-49ec-ba25-2886d998c467",
   "metadata": {},
   "source": [
    "# Change Log\n",
    "\n",
    "1. example: DS101L1P4, Added PowerBI example, [DS101L1P4 PowerBI](../DS101L1.ipynb#DS101L1_PowerBI), [UAT Link](https://wozu.uat.exeterlms.com/lesson/50197/topic/829439), [Jira ticket link](https://woz-u-projects.atlassian.net/browse/CUR-1891) \n",
    "2. example: DS101L2P1, Issue to be changed, link to issue, link to UAT, Jira ticket link"
   ]
  },
  {
   "cell_type": "markdown",
   "id": "801ebebd-03e0-45f7-b402-a8cdb0fbcb10",
   "metadata": {},
   "source": [
    "# TODO List:\n",
    "\n",
    "1. Example: Lesson 2 Page 5 needs better example\n",
    "2.\n"
   ]
  },
  {
   "cell_type": "code",
   "execution_count": null,
   "id": "c851f389-e53e-4129-b05a-c2d1ff60858e",
   "metadata": {},
   "outputs": [],
   "source": []
  }
 ],
 "metadata": {
  "kernelspec": {
   "display_name": "Python 3 (ipykernel)",
   "language": "python",
   "name": "python3"
  },
  "language_info": {
   "codemirror_mode": {
    "name": "ipython",
    "version": 3
   },
   "file_extension": ".py",
   "mimetype": "text/x-python",
   "name": "python",
   "nbconvert_exporter": "python",
   "pygments_lexer": "ipython3",
   "version": "3.9.7"
  }
 },
 "nbformat": 4,
 "nbformat_minor": 5
}
