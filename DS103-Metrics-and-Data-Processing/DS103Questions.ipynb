{
 "cells": [
  {
   "cell_type": "markdown",
   "id": "701c6664-c3af-4538-bac7-f1a5cc1826cd",
   "metadata": {},
   "source": [
    "# DS103 Questions\n",
    "\n",
    "## Lesson 1\n",
    "\n",
    "## Page 2"
   ]
  },
  {
   "cell_type": "code",
   "execution_count": 1,
   "id": "9fdc1222-3d73-42e1-b6bf-b95d73e3d8ff",
   "metadata": {},
   "outputs": [],
   "source": [
    "from DS_Students import *"
   ]
  },
  {
   "cell_type": "code",
   "execution_count": 6,
   "id": "cf433206-b1c6-41d7-86db-486d7cb4756e",
   "metadata": {},
   "outputs": [],
   "source": [
    "L1P2Q1 = MC('1. The exercise of transforming a corporate mission statement to metrics is straightforward and universal.',['True','False'],'False',cor=\"\", incor=\"\")\n",
    "L1P2Q2 = MC('2. It is common for the corporate metrics to be developed first, and then the mission, vision, and values pretty much write themselves.',['True','False'],'False',cor=\"\", incor=\"\")"
   ]
  },
  {
   "cell_type": "code",
   "execution_count": 8,
   "id": "6f20d99a-0d5d-482e-82a1-2adf01327726",
   "metadata": {},
   "outputs": [
    {
     "data": {
      "application/vnd.jupyter.widget-view+json": {
       "model_id": "1278f71ba2ad4acb86879ff56fd2334a",
       "version_major": 2,
       "version_minor": 0
      },
      "text/plain": [
       "VBox(children=(Output(outputs=({'name': 'stdout', 'text': '1. The exercise of transforming a corporate mission…"
      ]
     },
     "metadata": {},
     "output_type": "display_data"
    },
    {
     "data": {
      "application/vnd.jupyter.widget-view+json": {
       "model_id": "94cf8b2353aa43a4ad500e145dae1a37",
       "version_major": 2,
       "version_minor": 0
      },
      "text/plain": [
       "VBox(children=(Output(outputs=({'name': 'stdout', 'text': '2. It is common for the corporate metrics to be dev…"
      ]
     },
     "metadata": {},
     "output_type": "display_data"
    }
   ],
   "source": [
    "if __name__ == \"__main__\":\n",
    "    display(L1P2Q1, L1P2Q2)"
   ]
  },
  {
   "cell_type": "markdown",
   "id": "59237b93-23a1-4511-9c47-069ff58089ca",
   "metadata": {},
   "source": [
    "## Page 3"
   ]
  },
  {
   "cell_type": "code",
   "execution_count": 15,
   "id": "9e09c0eb-06d1-440a-9c2a-4ced3fa16e4e",
   "metadata": {},
   "outputs": [],
   "source": [
    "L1P3Q1 = MultipleChoice('1. Which of the following is NOT a quality that makes a good KPI?',['Based on validated data','Complexity','Provides thresholds and targets', \"Reflective of the company's goals and values\"],'Complexity')\n",
    "L1P3Q2 = MultipleChoice('2. It is up to data scientists to ensure that KPIs are:',['Based on valid data','Relevant','Measurable with thresholds and targets', 'Empowering', 'All of the above'],'All of the above')\n",
    "L1P3Q3 = MultipleChoice('3. Almost any industry will have a KPI based around sales.',['True','False'],'True')"
   ]
  },
  {
   "cell_type": "code",
   "execution_count": 16,
   "id": "395b4e32-213a-432c-8570-dba7e76bc602",
   "metadata": {},
   "outputs": [
    {
     "data": {
      "application/vnd.jupyter.widget-view+json": {
       "model_id": "fe629b5d8d504d748c067e71913b95f9",
       "version_major": 2,
       "version_minor": 0
      },
      "text/plain": [
       "VBox(children=(Output(outputs=({'name': 'stdout', 'text': '1. Which of the following is NOT a quality that mak…"
      ]
     },
     "metadata": {},
     "output_type": "display_data"
    },
    {
     "data": {
      "application/vnd.jupyter.widget-view+json": {
       "model_id": "3ae54c7cbdb54f57b42a137df616b400",
       "version_major": 2,
       "version_minor": 0
      },
      "text/plain": [
       "VBox(children=(Output(outputs=({'name': 'stdout', 'text': '2. It is up to data scientists to ensure that KPIs …"
      ]
     },
     "metadata": {},
     "output_type": "display_data"
    },
    {
     "data": {
      "application/vnd.jupyter.widget-view+json": {
       "model_id": "2d2dd0b9a17342b798fc577d8f1a4088",
       "version_major": 2,
       "version_minor": 0
      },
      "text/plain": [
       "VBox(children=(Output(outputs=({'name': 'stdout', 'text': '3. Almost any industry will have a KPI based around…"
      ]
     },
     "metadata": {},
     "output_type": "display_data"
    }
   ],
   "source": [
    "if __name__ == \"__main__\":\n",
    "    display(L1P3Q1, L1P3Q2, L1P3Q3)"
   ]
  },
  {
   "cell_type": "markdown",
   "id": "214526dd-72ee-40d8-a2e5-41e165dcd951",
   "metadata": {},
   "source": [
    "## Page 4"
   ]
  },
  {
   "cell_type": "code",
   "execution_count": 17,
   "id": "c8eb6a46-ef59-46c0-8adb-773a004ded82",
   "metadata": {},
   "outputs": [],
   "source": [
    "L1P4Q1 = MultipleChoice('1. It is easy to compare metrics from one company to another.',['True','False'],'False')\n",
    "L1P4Q2 = MultipleChoice('2.Customer feedback is a good basis for industry standards.',['True','False'],'True')\n"
   ]
  },
  {
   "cell_type": "code",
   "execution_count": 18,
   "id": "3adf2b8c-6d74-449d-abd7-f2ecd2cef18e",
   "metadata": {},
   "outputs": [
    {
     "data": {
      "application/vnd.jupyter.widget-view+json": {
       "model_id": "194735c49ac64a7b8c6af92a89e97732",
       "version_major": 2,
       "version_minor": 0
      },
      "text/plain": [
       "VBox(children=(Output(outputs=({'name': 'stdout', 'text': '1. It is easy to compare metrics from one company t…"
      ]
     },
     "metadata": {},
     "output_type": "display_data"
    },
    {
     "data": {
      "application/vnd.jupyter.widget-view+json": {
       "model_id": "ba27ef7cd8e440219e36f35468525088",
       "version_major": 2,
       "version_minor": 0
      },
      "text/plain": [
       "VBox(children=(Output(outputs=({'name': 'stdout', 'text': '2.Customer feedback is a good basis for industry st…"
      ]
     },
     "metadata": {},
     "output_type": "display_data"
    }
   ],
   "source": [
    "if __name__ == \"__main__\":\n",
    "    display(L1P4Q1, L1P4Q2)"
   ]
  },
  {
   "cell_type": "markdown",
   "id": "f472a7a8-4f65-4b0d-b5ac-254923dafba0",
   "metadata": {},
   "source": [
    "## Page 5"
   ]
  },
  {
   "cell_type": "code",
   "execution_count": 19,
   "id": "97e630df-d5ab-4923-bd06-bdf386a95826",
   "metadata": {},
   "outputs": [],
   "source": [
    "L1P5Q1 = MultipleChoice('1. Which of the following is NOT something that influences metrics you develop:',['Customer input','Problems to solve', 'Business objectives', 'Competitor input'],'Competitor input')"
   ]
  },
  {
   "cell_type": "code",
   "execution_count": 20,
   "id": "423ce3a2-163b-4f29-a3c1-b1d67834c38b",
   "metadata": {},
   "outputs": [
    {
     "data": {
      "application/vnd.jupyter.widget-view+json": {
       "model_id": "995bc7e437c44888875a16744c7caf50",
       "version_major": 2,
       "version_minor": 0
      },
      "text/plain": [
       "VBox(children=(Output(outputs=({'name': 'stdout', 'text': '1. Which of the following is NOT something that inf…"
      ]
     },
     "metadata": {},
     "output_type": "display_data"
    }
   ],
   "source": [
    "if __name__ == \"__main__\":\n",
    "    display(L1P5Q1)"
   ]
  },
  {
   "cell_type": "markdown",
   "id": "df8e1814-d22a-4401-be1f-f87abdb9b8d0",
   "metadata": {},
   "source": [
    "## Page 6"
   ]
  },
  {
   "cell_type": "code",
   "execution_count": 21,
   "id": "7d9c4c5a-fa96-4919-9922-d59f68d91b26",
   "metadata": {},
   "outputs": [],
   "source": [
    "L1P6Q1 = MultipleChoice('1.Is the below metric \"SMART?\" \"Improve sales by gaining three additional customers who are willing to buy at least $100,000 of merchandise in the next three months.\"',['Yes','No'],'Yes')\n",
    "L1P6Q2 = MultipleChoice('2.Is the below metric \"SMART?\" \"Increase customer loyalty.\"',['Yes','No'],'No')\n",
    "L1P6Q3 = MultipleChoice('3.Is the below metric \"SMART?\" \"Increase customer loyalty in the next six months, as measured by the number of customers who purchase additional merchandise from the company, by providing coupons with every order.\"', ['Yes', 'No'], 'Yes')"
   ]
  },
  {
   "cell_type": "code",
   "execution_count": 22,
   "id": "af1443b8-04fd-4ba5-94fd-111dfdd5c7b1",
   "metadata": {},
   "outputs": [
    {
     "data": {
      "application/vnd.jupyter.widget-view+json": {
       "model_id": "eb15a9adbd224dd5aab0acb9e70ebcae",
       "version_major": 2,
       "version_minor": 0
      },
      "text/plain": [
       "VBox(children=(Output(outputs=({'name': 'stdout', 'text': '1.Is the below metric \"SMART?\" \"Improve sales by ga…"
      ]
     },
     "metadata": {},
     "output_type": "display_data"
    },
    {
     "data": {
      "application/vnd.jupyter.widget-view+json": {
       "model_id": "a5857b112cb443fd8afa15b8ac25b9bf",
       "version_major": 2,
       "version_minor": 0
      },
      "text/plain": [
       "VBox(children=(Output(outputs=({'name': 'stdout', 'text': '2.Is the below metric \"SMART?\" \"Increase customer l…"
      ]
     },
     "metadata": {},
     "output_type": "display_data"
    },
    {
     "data": {
      "application/vnd.jupyter.widget-view+json": {
       "model_id": "a00def7b9f7d47b98fbe4de730bb385c",
       "version_major": 2,
       "version_minor": 0
      },
      "text/plain": [
       "VBox(children=(Output(outputs=({'name': 'stdout', 'text': '3.Is the below metric \"SMART?\" \"Increase customer l…"
      ]
     },
     "metadata": {},
     "output_type": "display_data"
    }
   ],
   "source": [
    "if __name__ == \"__main__\":\n",
    "    display(L1P6Q1, L1P6Q2, L1P6Q3)"
   ]
  },
  {
   "cell_type": "markdown",
   "id": "d5eeb4cb-fef8-4560-bb1f-d81943bb600c",
   "metadata": {},
   "source": [
    "## Page 7"
   ]
  },
  {
   "cell_type": "code",
   "execution_count": 23,
   "id": "ff06cd5a-fd5c-45a3-80d4-2eaea19f6e30",
   "metadata": {},
   "outputs": [],
   "source": [
    "L1P7Q1 = MultipleChoice('1. The performance life cycle is round because you should always be undergoing improvement.',['True','False'],'True')\n",
    "L1P7Q2 = MultipleChoice('2.It is not important to align goals from executive level all the way down to the individual.',['True','False'],'False')\n"
   ]
  },
  {
   "cell_type": "code",
   "execution_count": 25,
   "id": "099de7b2-467e-413f-ba5b-63368a012376",
   "metadata": {},
   "outputs": [
    {
     "data": {
      "application/vnd.jupyter.widget-view+json": {
       "model_id": "658cb9b625594cafb6a1b073241de034",
       "version_major": 2,
       "version_minor": 0
      },
      "text/plain": [
       "VBox(children=(Output(outputs=({'name': 'stdout', 'text': '1. The performance life cycle is round because you …"
      ]
     },
     "metadata": {},
     "output_type": "display_data"
    },
    {
     "data": {
      "application/vnd.jupyter.widget-view+json": {
       "model_id": "f023ac7b9ce54b33a9dc20411a70d36d",
       "version_major": 2,
       "version_minor": 0
      },
      "text/plain": [
       "VBox(children=(Output(outputs=({'name': 'stdout', 'text': '2.It is not important to align goals from executive…"
      ]
     },
     "metadata": {},
     "output_type": "display_data"
    }
   ],
   "source": [
    "if __name__ == \"__main__\":\n",
    "    display(L1P7Q1, L1P7Q2)"
   ]
  },
  {
   "cell_type": "markdown",
   "id": "e5a66d34-2178-4239-b95c-a9d27747208e",
   "metadata": {},
   "source": [
    "## Page 8"
   ]
  },
  {
   "cell_type": "code",
   "execution_count": 27,
   "id": "ccde2293-c195-4baa-9e9a-0ba4323958b3",
   "metadata": {},
   "outputs": [],
   "source": [
    "L1P8Q1 = MultipleChoice('1. Financial metrics are generally well-used and understood.',['True','False'],'True')"
   ]
  },
  {
   "cell_type": "code",
   "execution_count": 28,
   "id": "70082c1f-6037-42fd-95c0-6923f0318bdf",
   "metadata": {},
   "outputs": [
    {
     "data": {
      "application/vnd.jupyter.widget-view+json": {
       "model_id": "228f3eebcbb043a9a8f4c57359a98010",
       "version_major": 2,
       "version_minor": 0
      },
      "text/plain": [
       "VBox(children=(Output(outputs=({'name': 'stdout', 'text': '1. Financial metrics are generally well-used and un…"
      ]
     },
     "metadata": {},
     "output_type": "display_data"
    }
   ],
   "source": [
    "if __name__ == \"__main__\":\n",
    "    display(L1P8Q1)"
   ]
  },
  {
   "cell_type": "markdown",
   "id": "064fc6c2-5f76-44be-9e94-eef9b9ccb1d3",
   "metadata": {
    "tags": []
   },
   "source": [
    "## Page 9"
   ]
  },
  {
   "cell_type": "code",
   "execution_count": 29,
   "id": "d73f1da1-fc4b-4381-af30-b5d179d322b0",
   "metadata": {},
   "outputs": [],
   "source": [
    "L1P9Q1 = MultipleChoice('1. Which of the following is NOT something to avoid in a workplace?',['Reliance on metrics to drive business decisions','Inflexibility', 'Insufficient vertial alignment', 'Insufficient horizontal alignment'],'Reliance on metrics to drive business decisions')"
   ]
  },
  {
   "cell_type": "code",
   "execution_count": 30,
   "id": "aefc33e7-cac3-4344-9f0d-71c4c34afa8d",
   "metadata": {},
   "outputs": [
    {
     "data": {
      "application/vnd.jupyter.widget-view+json": {
       "model_id": "a8ceadab96cc4372b7868fb867e07222",
       "version_major": 2,
       "version_minor": 0
      },
      "text/plain": [
       "VBox(children=(Output(outputs=({'name': 'stdout', 'text': '1. Which of the following is NOT something to avoid…"
      ]
     },
     "metadata": {},
     "output_type": "display_data"
    }
   ],
   "source": [
    "if __name__ == \"__main__\":\n",
    "    display(L1P9Q1)"
   ]
  }
 ],
 "metadata": {
  "kernelspec": {
   "display_name": "Python 3 (ipykernel)",
   "language": "python",
   "name": "python3"
  },
  "language_info": {
   "codemirror_mode": {
    "name": "ipython",
    "version": 3
   },
   "file_extension": ".py",
   "mimetype": "text/x-python",
   "name": "python",
   "nbconvert_exporter": "python",
   "pygments_lexer": "ipython3",
   "version": "3.9.7"
  }
 },
 "nbformat": 4,
 "nbformat_minor": 5
}
