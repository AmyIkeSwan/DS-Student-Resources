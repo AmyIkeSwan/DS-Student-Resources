{
 "cells": [
  {
   "cell_type": "markdown",
   "id": "701c6664-c3af-4538-bac7-f1a5cc1826cd",
   "metadata": {},
   "source": [
    "# DS103 Questions\n",
    "\n",
    "### Part 1 Metrics and Data Processing\n",
    "\n",
    "### Lesson 1: Metrics In The Business World\n",
    "\n",
    "## Page 2"
   ]
  },
  {
   "cell_type": "code",
   "execution_count": 1,
   "id": "9fdc1222-3d73-42e1-b6bf-b95d73e3d8ff",
   "metadata": {},
   "outputs": [],
   "source": [
    "from DS_Students import *"
   ]
  },
  {
   "cell_type": "code",
   "execution_count": 39,
   "id": "cf433206-b1c6-41d7-86db-486d7cb4756e",
   "metadata": {},
   "outputs": [
    {
     "data": {
      "application/vnd.jupyter.widget-view+json": {
       "model_id": "0cd4bc1d4be34c8f9d1c00935dbda507",
       "version_major": 2,
       "version_minor": 0
      },
      "text/plain": [
       "VBox(children=(Output(), RadioButtons(options=(('True', 0), ('False', 1)), value=0), Button(description='submi…"
      ]
     },
     "metadata": {},
     "output_type": "display_data"
    },
    {
     "data": {
      "application/vnd.jupyter.widget-view+json": {
       "model_id": "d8696f458eca4ad39a546473f9c1e745",
       "version_major": 2,
       "version_minor": 0
      },
      "text/plain": [
       "VBox(children=(Output(), RadioButtons(options=(('True', 0), ('False', 1)), value=0), Button(description='submi…"
      ]
     },
     "metadata": {},
     "output_type": "display_data"
    }
   ],
   "source": [
    "L1P2Q1 = MC('1. The exercise of transforming a corporate mission statement to metrics is straightforward and universal.',['True','False'],'False',cor=\"\", incor=\"\")\n",
    "L1P2Q2 = MC('2. It is common for the corporate metrics to be developed first, and then the mission, vision, and values pretty much write themselves.',['True','False'],'False',cor=\"\", incor=\"\")\n",
    "\n",
    "if __name__ == \"__main__\":\n",
    "    display(L1P2Q1, L1P2Q2)"
   ]
  },
  {
   "cell_type": "markdown",
   "id": "59237b93-23a1-4511-9c47-069ff58089ca",
   "metadata": {},
   "source": [
    "## Page 3"
   ]
  },
  {
   "cell_type": "code",
   "execution_count": 40,
   "id": "9e09c0eb-06d1-440a-9c2a-4ced3fa16e4e",
   "metadata": {},
   "outputs": [
    {
     "data": {
      "application/vnd.jupyter.widget-view+json": {
       "model_id": "1a16bd6b6c8d446e9f1fc185c1b32e06",
       "version_major": 2,
       "version_minor": 0
      },
      "text/plain": [
       "VBox(children=(Output(), RadioButtons(layout=Layout(width='max-content'), options=(('Based on validated data',…"
      ]
     },
     "metadata": {},
     "output_type": "display_data"
    },
    {
     "data": {
      "application/vnd.jupyter.widget-view+json": {
       "model_id": "977012c3e90c4735ae429bc533cc80e8",
       "version_major": 2,
       "version_minor": 0
      },
      "text/plain": [
       "VBox(children=(Output(), RadioButtons(layout=Layout(width='max-content'), options=(('Based on valid data', 0),…"
      ]
     },
     "metadata": {},
     "output_type": "display_data"
    },
    {
     "data": {
      "application/vnd.jupyter.widget-view+json": {
       "model_id": "d806ff84fbd64f7abd32c5d02d42a67b",
       "version_major": 2,
       "version_minor": 0
      },
      "text/plain": [
       "VBox(children=(Output(), RadioButtons(layout=Layout(width='max-content'), options=(('True', 0), ('False', 1)),…"
      ]
     },
     "metadata": {},
     "output_type": "display_data"
    }
   ],
   "source": [
    "L1P3Q1 = MultipleChoice('1. Which of the following is NOT a quality that makes a good KPI?',['Based on validated data','Complexity','Provides thresholds and targets', \"Reflective of the company's goals and values\"],'Complexity')\n",
    "L1P3Q2 = MultipleChoice('2. It is up to data scientists to ensure that KPIs are:',['Based on valid data','Relevant','Measurable with thresholds and targets', 'Empowering', 'All of the above'],'All of the above')\n",
    "L1P3Q3 = MultipleChoice('3. Almost any industry will have a KPI based around sales.',['True','False'],'True')\n",
    "\n",
    "if __name__ == \"__main__\":\n",
    "    display(L1P3Q1, L1P3Q2, L1P3Q3)"
   ]
  },
  {
   "cell_type": "markdown",
   "id": "214526dd-72ee-40d8-a2e5-41e165dcd951",
   "metadata": {},
   "source": [
    "## Page 4"
   ]
  },
  {
   "cell_type": "code",
   "execution_count": 41,
   "id": "a2bbef1f-471c-438a-ab6f-b034921bdcf1",
   "metadata": {},
   "outputs": [
    {
     "data": {
      "application/vnd.jupyter.widget-view+json": {
       "model_id": "33f622c72d9a474dba62f323926b485e",
       "version_major": 2,
       "version_minor": 0
      },
      "text/plain": [
       "VBox(children=(Output(), RadioButtons(layout=Layout(width='max-content'), options=(('True', 0), ('False', 1)),…"
      ]
     },
     "metadata": {},
     "output_type": "display_data"
    },
    {
     "data": {
      "application/vnd.jupyter.widget-view+json": {
       "model_id": "1812b4a9910d43819fb1014a57a5d99b",
       "version_major": 2,
       "version_minor": 0
      },
      "text/plain": [
       "VBox(children=(Output(), RadioButtons(layout=Layout(width='max-content'), options=(('True', 0), ('False', 1)),…"
      ]
     },
     "metadata": {},
     "output_type": "display_data"
    }
   ],
   "source": [
    "L1P4Q1 = MultipleChoice('1. It is easy to compare metrics from one company to another.',['True','False'],'False')\n",
    "L1P4Q2 = MultipleChoice('2.Customer feedback is a good basis for industry standards.',['True','False'],'True')\n",
    "\n",
    "if __name__ == \"__main__\":\n",
    "    display(L1P4Q1, L1P4Q2)"
   ]
  },
  {
   "cell_type": "markdown",
   "id": "f472a7a8-4f65-4b0d-b5ac-254923dafba0",
   "metadata": {},
   "source": [
    "## Page 5"
   ]
  },
  {
   "cell_type": "code",
   "execution_count": 42,
   "id": "97e630df-d5ab-4923-bd06-bdf386a95826",
   "metadata": {},
   "outputs": [
    {
     "data": {
      "application/vnd.jupyter.widget-view+json": {
       "model_id": "d49ec7227d024e138c7a970ecb28c1ae",
       "version_major": 2,
       "version_minor": 0
      },
      "text/plain": [
       "VBox(children=(Output(), RadioButtons(layout=Layout(width='max-content'), options=(('Customer input', 0), ('Pr…"
      ]
     },
     "metadata": {},
     "output_type": "display_data"
    }
   ],
   "source": [
    "L1P5Q1 = MultipleChoice('1. Which of the following is NOT something that influences metrics you develop:',['Customer input','Problems to solve', 'Business objectives', 'Competitor input'],'Competitor input')\n",
    "\n",
    "if __name__ == \"__main__\":\n",
    "    display(L1P5Q1)"
   ]
  },
  {
   "cell_type": "markdown",
   "id": "df8e1814-d22a-4401-be1f-f87abdb9b8d0",
   "metadata": {},
   "source": [
    "## Page 6"
   ]
  },
  {
   "cell_type": "code",
   "execution_count": 12,
   "id": "7d9c4c5a-fa96-4919-9922-d59f68d91b26",
   "metadata": {},
   "outputs": [
    {
     "data": {
      "application/vnd.jupyter.widget-view+json": {
       "model_id": "6d89cb1e5b3847d28b1abd3d58549431",
       "version_major": 2,
       "version_minor": 0
      },
      "text/plain": [
       "VBox(children=(Output(), RadioButtons(layout=Layout(width='max-content'), options=(('Yes', 0), ('No', 1)), val…"
      ]
     },
     "metadata": {},
     "output_type": "display_data"
    },
    {
     "data": {
      "application/vnd.jupyter.widget-view+json": {
       "model_id": "34ae0baa2b6d4f8a86e218d868ae0e2e",
       "version_major": 2,
       "version_minor": 0
      },
      "text/plain": [
       "VBox(children=(Output(), RadioButtons(layout=Layout(width='max-content'), options=(('Yes', 0), ('No', 1)), val…"
      ]
     },
     "metadata": {},
     "output_type": "display_data"
    },
    {
     "data": {
      "application/vnd.jupyter.widget-view+json": {
       "model_id": "cd14a63272514516be6ab1ce4b96542e",
       "version_major": 2,
       "version_minor": 0
      },
      "text/plain": [
       "VBox(children=(Output(), RadioButtons(layout=Layout(width='max-content'), options=(('Yes', 0), ('No', 1)), val…"
      ]
     },
     "metadata": {},
     "output_type": "display_data"
    }
   ],
   "source": [
    "L1P6Q1 = MultipleChoice('1.Is the below metric \"SMART?\" \\n \\n \"Improve sales by gaining three additional customers who are willing to buy at least $100,000 of merchandise in the next three months.\"\\n',['Yes','No'],'Yes')\n",
    "L1P6Q2 = MultipleChoice('2.Is the below metric \"SMART?\" \\n \\n \"Increase customer loyalty.\" \\n',['Yes','No'],'No')\n",
    "L1P6Q3 = MultipleChoice('3.Is the below metric \"SMART?\" \\n \\n \"Increase customer loyalty in the next six months, as measured by the number of customers who purchase additional merchandise from the company, by providing coupons with every order.\"\\n', ['Yes', 'No'], 'Yes')\n",
    "\n",
    "if __name__ == \"__main__\":\n",
    "    display(L1P6Q1, L1P6Q2, L1P6Q3)"
   ]
  },
  {
   "cell_type": "markdown",
   "id": "d5eeb4cb-fef8-4560-bb1f-d81943bb600c",
   "metadata": {},
   "source": [
    "## Page 7"
   ]
  },
  {
   "cell_type": "code",
   "execution_count": 44,
   "id": "ff06cd5a-fd5c-45a3-80d4-2eaea19f6e30",
   "metadata": {},
   "outputs": [
    {
     "data": {
      "application/vnd.jupyter.widget-view+json": {
       "model_id": "420aa95d5e3344aeafbf7c336fe3b834",
       "version_major": 2,
       "version_minor": 0
      },
      "text/plain": [
       "VBox(children=(Output(), RadioButtons(layout=Layout(width='max-content'), options=(('True', 0), ('False', 1)),…"
      ]
     },
     "metadata": {},
     "output_type": "display_data"
    },
    {
     "data": {
      "application/vnd.jupyter.widget-view+json": {
       "model_id": "0a6e6c459d224c5899e433a69a56beda",
       "version_major": 2,
       "version_minor": 0
      },
      "text/plain": [
       "VBox(children=(Output(), RadioButtons(layout=Layout(width='max-content'), options=(('True', 0), ('False', 1)),…"
      ]
     },
     "metadata": {},
     "output_type": "display_data"
    }
   ],
   "source": [
    "L1P7Q1 = MultipleChoice('1. The performance life cycle is round because you should always be undergoing improvement.',['True','False'],'True')\n",
    "L1P7Q2 = MultipleChoice('2.It is not important to align goals from executive level all the way down to the individual.',['True','False'],'False')\n",
    "\n",
    "if __name__ == \"__main__\":\n",
    "    display(L1P7Q1, L1P7Q2)"
   ]
  },
  {
   "cell_type": "markdown",
   "id": "e5a66d34-2178-4239-b95c-a9d27747208e",
   "metadata": {},
   "source": [
    "## Page 8"
   ]
  },
  {
   "cell_type": "code",
   "execution_count": 45,
   "id": "ccde2293-c195-4baa-9e9a-0ba4323958b3",
   "metadata": {},
   "outputs": [
    {
     "data": {
      "application/vnd.jupyter.widget-view+json": {
       "model_id": "6b0f7010561b4d979b00d1ab7325e85d",
       "version_major": 2,
       "version_minor": 0
      },
      "text/plain": [
       "VBox(children=(Output(), RadioButtons(layout=Layout(width='max-content'), options=(('True', 0), ('False', 1)),…"
      ]
     },
     "metadata": {},
     "output_type": "display_data"
    }
   ],
   "source": [
    "L1P8Q1 = MultipleChoice('1. Financial metrics are generally well-used and understood.',['True','False'],'True')\n",
    "\n",
    "if __name__ == \"__main__\":\n",
    "    display(L1P8Q1)"
   ]
  },
  {
   "cell_type": "markdown",
   "id": "064fc6c2-5f76-44be-9e94-eef9b9ccb1d3",
   "metadata": {
    "tags": []
   },
   "source": [
    "## Page 9"
   ]
  },
  {
   "cell_type": "code",
   "execution_count": 46,
   "id": "d73f1da1-fc4b-4381-af30-b5d179d322b0",
   "metadata": {},
   "outputs": [
    {
     "data": {
      "application/vnd.jupyter.widget-view+json": {
       "model_id": "724327ef87cf415dba9c8a01e94ba0b2",
       "version_major": 2,
       "version_minor": 0
      },
      "text/plain": [
       "VBox(children=(Output(), RadioButtons(layout=Layout(width='max-content'), options=(('Reliance on metrics to dr…"
      ]
     },
     "metadata": {},
     "output_type": "display_data"
    }
   ],
   "source": [
    "L1P9Q1 = MultipleChoice('1. Which of the following is NOT something to avoid in a workplace?',['Reliance on metrics to drive business decisions','Inflexibility', 'Insufficient vertial alignment', 'Insufficient horizontal alignment'],'Reliance on metrics to drive business decisions')\n",
    "\n",
    "if __name__ == \"__main__\":\n",
    "    display(L1P9Q1)"
   ]
  },
  {
   "cell_type": "markdown",
   "id": "5b99af4b-0bee-4961-b054-d126f0560905",
   "metadata": {},
   "source": [
    "### Lesson 2: Statistical Process Control"
   ]
  },
  {
   "cell_type": "markdown",
   "id": "2d7f8905-bbdb-47da-beca-80878dd6865c",
   "metadata": {},
   "source": [
    "## Page 2"
   ]
  },
  {
   "cell_type": "code",
   "execution_count": 48,
   "id": "8b96586d-3c2e-406d-a6b9-7f6c5aecd24f",
   "metadata": {},
   "outputs": [
    {
     "data": {
      "application/vnd.jupyter.widget-view+json": {
       "model_id": "b71453d37f394d818340ddbf3ff65fa2",
       "version_major": 2,
       "version_minor": 0
      },
      "text/plain": [
       "VBox(children=(Output(), RadioButtons(options=(('True', 0), ('False', 1)), value=0), Button(description='submi…"
      ]
     },
     "metadata": {},
     "output_type": "display_data"
    },
    {
     "data": {
      "application/vnd.jupyter.widget-view+json": {
       "model_id": "5c4def4465aa44b894b56f5dcaac3cc6",
       "version_major": 2,
       "version_minor": 0
      },
      "text/plain": [
       "VBox(children=(Output(), RadioButtons(options=(('Fishbone diagram', 0), ('Flow chart', 1), ('Control chart', 2…"
      ]
     },
     "metadata": {},
     "output_type": "display_data"
    }
   ],
   "source": [
    "L2P2Q1 = MC('1. A data scientist usually has a lot of responsibility for quality assurance for the company',['True','False'],'True',cor=\"\", incor=\"\")\n",
    "L2P2Q2 = MC('2. Which of the following is a good way to track occurrences of events over a given time period?',['Fishbone diagram','Flow chart', 'Control chart', 'Check sheet'],'Check sheet',cor=\"\", incor=\"\")\n",
    "\n",
    "if __name__ == \"__main__\":\n",
    "    display(L2P2Q1, L2P2Q2)"
   ]
  },
  {
   "cell_type": "markdown",
   "id": "24aef5b2-ff1e-4b07-8dc3-c31982076450",
   "metadata": {},
   "source": [
    "## Page 3\n"
   ]
  },
  {
   "cell_type": "code",
   "execution_count": 51,
   "id": "d5e5ad7e-6d80-4c57-9f34-07be0a9e6415",
   "metadata": {},
   "outputs": [
    {
     "data": {
      "application/vnd.jupyter.widget-view+json": {
       "model_id": "b34654f76b43466883d30bc14494d5a2",
       "version_major": 2,
       "version_minor": 0
      },
      "text/plain": [
       "VBox(children=(Output(), RadioButtons(options=(('Fishbone diagram', 0), ('Flow chart', 1), ('Control chart', 2…"
      ]
     },
     "metadata": {},
     "output_type": "display_data"
    },
    {
     "data": {
      "application/vnd.jupyter.widget-view+json": {
       "model_id": "54333b026c9740209d4b8f79c71cb60b",
       "version_major": 2,
       "version_minor": 0
      },
      "text/plain": [
       "VBox(children=(Output(), RadioButtons(options=(('Materials', 0), ('Machines', 1), ('Maintenance', 2), ('Method…"
      ]
     },
     "metadata": {},
     "output_type": "display_data"
    }
   ],
   "source": [
    "L2P3Q1 = MC('1. Which of the following is a good way to determine what might be causing problems in a process?',['Fishbone diagram','Flow chart', 'Control chart', 'Check sheet'],'Fishbone diagram',cor=\"\", incor=\"\")\n",
    "L2P3Q2 = MC(\"2. Which of the following M's is not a category for a fishbone diagram?\",['Materials','Machines', 'Maintenance', 'Methods'],'Maintenance',cor=\"\", incor=\"\")\n",
    "\n",
    "if __name__ == \"__main__\":\n",
    "    display(L2P3Q1, L2P3Q2)"
   ]
  },
  {
   "cell_type": "markdown",
   "id": "71f4531b-3c27-4124-84e7-df5a831c9d22",
   "metadata": {},
   "source": [
    "## Page 4"
   ]
  },
  {
   "cell_type": "code",
   "execution_count": 53,
   "id": "012649ea-eb3f-40a4-81b5-2e483984ab94",
   "metadata": {},
   "outputs": [
    {
     "data": {
      "application/vnd.jupyter.widget-view+json": {
       "model_id": "bb28e9c82b4b411994a7204aeba409de",
       "version_major": 2,
       "version_minor": 0
      },
      "text/plain": [
       "VBox(children=(Output(), RadioButtons(layout=Layout(width='max-content'), options=(('Fishbone diagram', 0), ('…"
      ]
     },
     "metadata": {},
     "output_type": "display_data"
    }
   ],
   "source": [
    "L2P4Q1 = MultipleChoice('1. Which of the following is a good way map the sequence of a process?',['Fishbone diagram','Flow chart', 'Control chart', 'Check sheet'], 'Flow chart')\n",
    "\n",
    "if __name__ == \"__main__\":\n",
    "    display(L2P4Q1)"
   ]
  },
  {
   "cell_type": "markdown",
   "id": "7b442659-9292-46ad-9a3e-b6f5450a6055",
   "metadata": {},
   "source": [
    "## Page 5"
   ]
  },
  {
   "cell_type": "code",
   "execution_count": 54,
   "id": "14858001-0689-4774-befa-465ed1cc5f90",
   "metadata": {},
   "outputs": [
    {
     "data": {
      "application/vnd.jupyter.widget-view+json": {
       "model_id": "0fdd9156bdcb4f88befdb4a18bb4c509",
       "version_major": 2,
       "version_minor": 0
      },
      "text/plain": [
       "VBox(children=(Output(), RadioButtons(layout=Layout(width='max-content'), options=(('Continual Process Adjustm…"
      ]
     },
     "metadata": {},
     "output_type": "display_data"
    },
    {
     "data": {
      "application/vnd.jupyter.widget-view+json": {
       "model_id": "f681986e4dcb46eba0775f022db39286",
       "version_major": 2,
       "version_minor": 0
      },
      "text/plain": [
       "VBox(children=(Output(), RadioButtons(layout=Layout(width='max-content'), options=(('The method of Continual P…"
      ]
     },
     "metadata": {},
     "output_type": "display_data"
    },
    {
     "data": {
      "application/vnd.jupyter.widget-view+json": {
       "model_id": "e219eacace554a5eacd2b335ee4fcac3",
       "version_major": 2,
       "version_minor": 0
      },
      "text/plain": [
       "VBox(children=(Output(), RadioButtons(layout=Layout(width='max-content'), options=(('The natural variation bec…"
      ]
     },
     "metadata": {},
     "output_type": "display_data"
    }
   ],
   "source": [
    "L2P5Q1 = MultipleChoice('1. The method of making an adjustment to the process after each individual iteration is known as',['Continual Process Adjustment','Continual Quality Adjustment', 'Continual Process Manipulation', 'Repeated Manufacturing Adjustment'],'Continual Process Adjustment')\n",
    "L2P5Q2 = MultipleChoice('2. The method of letting a process run to gain a better understanding of natural variation was first proposed by',['The method of Continual Process Adjustment','W. Edwards Deming', 'Socrates', 'Walter Shewhart'],'Walter Shewhart')\n",
    "L2P5Q3 = MultipleChoice('3.What is the typical result of a process where Continual Process Adjustment is used?',['The natural variation becomes evident','Engineers receive recognition for being involved in their process', 'Overall variation increases because of tampering' ,'There are no changes in the process'],'Overall variation increases because of tampering')\n",
    "\n",
    "if __name__ == \"__main__\":\n",
    "    display(L2P5Q1, L2P5Q2, L2P5Q3)"
   ]
  },
  {
   "cell_type": "markdown",
   "id": "899187c4-1fcb-4700-93fc-5d23adaa57fe",
   "metadata": {},
   "source": [
    "## Page 6"
   ]
  },
  {
   "cell_type": "code",
   "execution_count": 39,
   "id": "66c72798-5c2c-41fc-86dc-e134ddff17ad",
   "metadata": {},
   "outputs": [
    {
     "data": {
      "application/vnd.jupyter.widget-view+json": {
       "model_id": "0cd4bc1d4be34c8f9d1c00935dbda507",
       "version_major": 2,
       "version_minor": 0
      },
      "text/plain": [
       "VBox(children=(Output(), RadioButtons(options=(('True', 0), ('False', 1)), value=0), Button(description='submi…"
      ]
     },
     "metadata": {},
     "output_type": "display_data"
    },
    {
     "data": {
      "application/vnd.jupyter.widget-view+json": {
       "model_id": "d8696f458eca4ad39a546473f9c1e745",
       "version_major": 2,
       "version_minor": 0
      },
      "text/plain": [
       "VBox(children=(Output(), RadioButtons(options=(('True', 0), ('False', 1)), value=0), Button(description='submi…"
      ]
     },
     "metadata": {},
     "output_type": "display_data"
    }
   ],
   "source": [
    "L2P6Q1 = MultipleChoice('1. Most processes have variation which is a combination of which two types?',['Common cause and special cause','Fized cause and variable cause', 'Primary cause and secondary cause','Special cause and ordinary cause'],'Common cause and special cause')\n",
    "L2P6Q2 = MultipleChoice('2. A SPC chart is the normal distribution turned on its side.',['True','False'],'True')\n",
    "L2P6Q3 = MultipleChoice('3. What do you call three standard deviations above the mean on a SPC chart?',['Upper control limit','Lower control limit', 'Process mean'],'Upper control limit')\n",
    "\n",
    "if __name__ == \"__main__\":\n",
    "    display(L2P6Q1, L2P6Q2, L2P6Q3)"
   ]
  },
  {
   "cell_type": "markdown",
   "id": "b72cb9c1-30fb-4d49-848b-5436d8857dd2",
   "metadata": {},
   "source": [
    "## Page 7"
   ]
  },
  {
   "cell_type": "code",
   "execution_count": 39,
   "id": "ed7d49dd-77b4-4caf-a44c-5dba4d8aa5bb",
   "metadata": {},
   "outputs": [
    {
     "data": {
      "application/vnd.jupyter.widget-view+json": {
       "model_id": "0cd4bc1d4be34c8f9d1c00935dbda507",
       "version_major": 2,
       "version_minor": 0
      },
      "text/plain": [
       "VBox(children=(Output(), RadioButtons(options=(('True', 0), ('False', 1)), value=0), Button(description='submi…"
      ]
     },
     "metadata": {},
     "output_type": "display_data"
    },
    {
     "data": {
      "application/vnd.jupyter.widget-view+json": {
       "model_id": "d8696f458eca4ad39a546473f9c1e745",
       "version_major": 2,
       "version_minor": 0
      },
      "text/plain": [
       "VBox(children=(Output(), RadioButtons(options=(('True', 0), ('False', 1)), value=0), Button(description='submi…"
      ]
     },
     "metadata": {},
     "output_type": "display_data"
    }
   ],
   "source": [
    "L2P7Q1 = MultipleChoice('1. Which of the following is not a common rule for an SPC chart?',['One point at least 3 standard deviations away from the mean','4 out of 5 points at least 1 standard deviation away from the mean', '5 consecutive points between 1 and 2 standard deviations away from the mean','2 out of 3 points at least 2 standard deviations away from the mean', '15 consecutive points less than 1 standard deviation away from the mean'],'5 consecutive points between 1 and 2 standard deviations away from the mean')\n",
    "L2P7Q2 = MultipleChoice('2. For a control chart, which data are the most recent?',['Data on the left side of the chart','Data on the rightt side of the chart'],'Data on the right side of the chart')\n",
    "L2P7Q3 = MultipleChoice('3. SPC rules are based on:',['Charts that look funny','Probabilities', 'Charts that show uncommon patterns'],'Probabilities')\n",
    "\n",
    "if __name__ == \"__main__\":\n",
    "    display(L2P7Q1, L2P7Q2, L2P7Q3)"
   ]
  },
  {
   "cell_type": "markdown",
   "id": "0586e841-049b-465a-9160-8a235c617cf0",
   "metadata": {},
   "source": [
    "## Page 8"
   ]
  },
  {
   "cell_type": "code",
   "execution_count": 39,
   "id": "fa0889e0-fb8a-4cfe-841a-f214e982531f",
   "metadata": {},
   "outputs": [
    {
     "data": {
      "application/vnd.jupyter.widget-view+json": {
       "model_id": "0cd4bc1d4be34c8f9d1c00935dbda507",
       "version_major": 2,
       "version_minor": 0
      },
      "text/plain": [
       "VBox(children=(Output(), RadioButtons(options=(('True', 0), ('False', 1)), value=0), Button(description='submi…"
      ]
     },
     "metadata": {},
     "output_type": "display_data"
    },
    {
     "data": {
      "application/vnd.jupyter.widget-view+json": {
       "model_id": "d8696f458eca4ad39a546473f9c1e745",
       "version_major": 2,
       "version_minor": 0
      },
      "text/plain": [
       "VBox(children=(Output(), RadioButtons(options=(('True', 0), ('False', 1)), value=0), Button(description='submi…"
      ]
     },
     "metadata": {},
     "output_type": "display_data"
    }
   ],
   "source": [
    "L2P8Q1 = MultipleChoice('1. Which of the following is NOT a common error that can be made with SPC charts?',['Calculating limits with bad data','Creating new limits continuously', 'Missing violations', 'Over-reacting to SPC charts'],'Missing violations')\n",
    "\n",
    "if __name__ == \"__main__\":\n",
    "    display(L2P8Q1)"
   ]
  },
  {
   "cell_type": "markdown",
   "id": "6fe8979b-d46e-4ed6-a196-96a218a86507",
   "metadata": {},
   "source": [
    "### Lesson 3: Process Capability"
   ]
  },
  {
   "cell_type": "markdown",
   "id": "6ee1f877-f1d2-4873-a81e-1701e1213178",
   "metadata": {},
   "source": [
    "## Page 2"
   ]
  },
  {
   "cell_type": "code",
   "execution_count": 39,
   "id": "6cc5b1a9-206c-4881-a721-f9b65ab5f5c0",
   "metadata": {},
   "outputs": [
    {
     "data": {
      "application/vnd.jupyter.widget-view+json": {
       "model_id": "0cd4bc1d4be34c8f9d1c00935dbda507",
       "version_major": 2,
       "version_minor": 0
      },
      "text/plain": [
       "VBox(children=(Output(), RadioButtons(options=(('True', 0), ('False', 1)), value=0), Button(description='submi…"
      ]
     },
     "metadata": {},
     "output_type": "display_data"
    },
    {
     "data": {
      "application/vnd.jupyter.widget-view+json": {
       "model_id": "d8696f458eca4ad39a546473f9c1e745",
       "version_major": 2,
       "version_minor": 0
      },
      "text/plain": [
       "VBox(children=(Output(), RadioButtons(options=(('True', 0), ('False', 1)), value=0), Button(description='submi…"
      ]
     },
     "metadata": {},
     "output_type": "display_data"
    }
   ],
   "source": [
    "L3P2Q1 = MultipleChoice('1. Cp is a measure of:',['Process control','Process potential', 'Process measure','Process stability'],'Process potential')\n",
    "\n",
    "if __name__ == \"__main__\":\n",
    "    display(L3P2Q1)"
   ]
  },
  {
   "cell_type": "markdown",
   "id": "62eacdb4-f1e4-47a3-9b76-d2483e16afa5",
   "metadata": {},
   "source": [
    "## Page 3"
   ]
  },
  {
   "cell_type": "code",
   "execution_count": 47,
   "id": "ef072663-1b53-4de4-afe2-44a83df6a4c5",
   "metadata": {},
   "outputs": [
    {
     "data": {
      "application/vnd.jupyter.widget-view+json": {
       "model_id": "59901771aef34590ad74b828cfaec0a4",
       "version_major": 2,
       "version_minor": 0
      },
      "text/plain": [
       "VBox(children=(Output(), RadioButtons(layout=Layout(width='max-content'), options=(('True', 0), ('False', 1)),…"
      ]
     },
     "metadata": {},
     "output_type": "display_data"
    },
    {
     "data": {
      "application/vnd.jupyter.widget-view+json": {
       "model_id": "e847801c1d6945d7a931d616cbeb73d5",
       "version_major": 2,
       "version_minor": 0
      },
      "text/plain": [
       "VBox(children=(Output(), RadioButtons(layout=Layout(width='max-content'), options=(('Know what procedures to f…"
      ]
     },
     "metadata": {},
     "output_type": "display_data"
    },
    {
     "data": {
      "application/vnd.jupyter.widget-view+json": {
       "model_id": "ec9a5e3bdc504cd3a2a0297962b566e0",
       "version_major": 2,
       "version_minor": 0
      },
      "text/plain": [
       "VBox(children=(Output(), RadioButtons(layout=Layout(width='max-content'), options=(('Safe computer storage are…"
      ]
     },
     "metadata": {},
     "output_type": "display_data"
    },
    {
     "data": {
      "application/vnd.jupyter.widget-view+json": {
       "model_id": "f45916f4fc8c4fd38a547daf38792ef4",
       "version_major": 2,
       "version_minor": 0
      },
      "text/plain": [
       "VBox(children=(Output(), RadioButtons(layout=Layout(width='max-content'), options=(('Power Circuits', 0), ('Fl…"
      ]
     },
     "metadata": {},
     "output_type": "display_data"
    },
    {
     "data": {
      "application/vnd.jupyter.widget-view+json": {
       "model_id": "46c489ce004345359556024909881eda",
       "version_major": 2,
       "version_minor": 0
      },
      "text/plain": [
       "VBox(children=(Output(), RadioButtons(layout=Layout(width='max-content'), options=(('Paper, apple, skip, and s…"
      ]
     },
     "metadata": {},
     "output_type": "display_data"
    },
    {
     "data": {
      "application/vnd.jupyter.widget-view+json": {
       "model_id": "949090f3170f4060962dc56509088b8e",
       "version_major": 2,
       "version_minor": 0
      },
      "text/plain": [
       "VBox(children=(Output(), RadioButtons(layout=Layout(width='max-content'), options=(('1', 0), ('6', 1), ('5', 2…"
      ]
     },
     "metadata": {},
     "output_type": "display_data"
    },
    {
     "data": {
      "application/vnd.jupyter.widget-view+json": {
       "model_id": "33f0e1cdcee94a7d8534a6080becf50d",
       "version_major": 2,
       "version_minor": 0
      },
      "text/plain": [
       "VBox(children=(Output(), RadioButtons(layout=Layout(width='max-content'), options=(('Class C', 0), ('Class K',…"
      ]
     },
     "metadata": {},
     "output_type": "display_data"
    },
    {
     "data": {
      "application/vnd.jupyter.widget-view+json": {
       "model_id": "56e160b31d5942638d49215e04760ece",
       "version_major": 2,
       "version_minor": 0
      },
      "text/plain": [
       "VBox(children=(Output(), RadioButtons(layout=Layout(width='max-content'), options=(('Campus Director', 0), ('D…"
      ]
     },
     "metadata": {},
     "output_type": "display_data"
    }
   ],
   "source": [
    "L3P3Q1 = MultipleChoice(\"1. In layman's terms, the Cp is a ratio of:\",['The spec width to the control width','The process mean to the process standard deviation', 'The control width to the spec width', 'The process standard deviation to the population standard deviation'],'The spec width to the control width')\n",
    "L3P3Q2 = MultipleChoice('2. Calculate the Cp for a scenario where the USL is 250, the UCL is 244, the LSL is 214, and the LCL is 228',['1.8', '2.4', '2.25', '1.95'] , '2.25')\n",
    "L3P3Q3 = MultipleChoice(\"3. Since Cp doesn't make any reference to where the spec width or control width are centered, it is sometimes referred to as\",['Process customization','Useless', 'Meaningless', 'Process potential'],'Process potential')\n",
    "L3P3Q4 = MultipleChoice('4.What is the range for a Cp that is marginally capable?',['0.7 to 1.0','1.0 to 1.5', '1.0 to 1.33', '1.33 or greater'],'1.0 to 1.33')\n",
    "L3P3Q5 = MultipleChoice('5. For a Cp = 1.2, and a control window that goes from 56 to 76, where is the spec window?',['54 to 78', '76 to 100' ,'44 to 58', 'A & B both work' ],'A & B both work')\n",
    "L3P3Q6 = MultipleChoice('6. For a Cp = 1.5, and a spec window that goes from 112 to 157, and a LCL of 82, where is the UCL?',['110', '112', '134.5', 'Cannot be determined'],'112')\n",
    "\n",
    "if __name__ == \"__main__\":\n",
    "    display(L3P3Q1, L3P3Q2, L3P3Q3, L3P3Q4, L3P3Q5, L3P3Q6)"
   ]
  },
  {
   "cell_type": "markdown",
   "id": "0b9f05a7-2313-4d1a-8718-069885126737",
   "metadata": {},
   "source": [
    "## Page 4"
   ]
  },
  {
   "cell_type": "code",
   "execution_count": 47,
   "id": "ed07f714-5aef-40f5-a736-16f1510062a3",
   "metadata": {},
   "outputs": [
    {
     "data": {
      "application/vnd.jupyter.widget-view+json": {
       "model_id": "59901771aef34590ad74b828cfaec0a4",
       "version_major": 2,
       "version_minor": 0
      },
      "text/plain": [
       "VBox(children=(Output(), RadioButtons(layout=Layout(width='max-content'), options=(('True', 0), ('False', 1)),…"
      ]
     },
     "metadata": {},
     "output_type": "display_data"
    },
    {
     "data": {
      "application/vnd.jupyter.widget-view+json": {
       "model_id": "e847801c1d6945d7a931d616cbeb73d5",
       "version_major": 2,
       "version_minor": 0
      },
      "text/plain": [
       "VBox(children=(Output(), RadioButtons(layout=Layout(width='max-content'), options=(('Know what procedures to f…"
      ]
     },
     "metadata": {},
     "output_type": "display_data"
    },
    {
     "data": {
      "application/vnd.jupyter.widget-view+json": {
       "model_id": "ec9a5e3bdc504cd3a2a0297962b566e0",
       "version_major": 2,
       "version_minor": 0
      },
      "text/plain": [
       "VBox(children=(Output(), RadioButtons(layout=Layout(width='max-content'), options=(('Safe computer storage are…"
      ]
     },
     "metadata": {},
     "output_type": "display_data"
    },
    {
     "data": {
      "application/vnd.jupyter.widget-view+json": {
       "model_id": "f45916f4fc8c4fd38a547daf38792ef4",
       "version_major": 2,
       "version_minor": 0
      },
      "text/plain": [
       "VBox(children=(Output(), RadioButtons(layout=Layout(width='max-content'), options=(('Power Circuits', 0), ('Fl…"
      ]
     },
     "metadata": {},
     "output_type": "display_data"
    },
    {
     "data": {
      "application/vnd.jupyter.widget-view+json": {
       "model_id": "46c489ce004345359556024909881eda",
       "version_major": 2,
       "version_minor": 0
      },
      "text/plain": [
       "VBox(children=(Output(), RadioButtons(layout=Layout(width='max-content'), options=(('Paper, apple, skip, and s…"
      ]
     },
     "metadata": {},
     "output_type": "display_data"
    },
    {
     "data": {
      "application/vnd.jupyter.widget-view+json": {
       "model_id": "949090f3170f4060962dc56509088b8e",
       "version_major": 2,
       "version_minor": 0
      },
      "text/plain": [
       "VBox(children=(Output(), RadioButtons(layout=Layout(width='max-content'), options=(('1', 0), ('6', 1), ('5', 2…"
      ]
     },
     "metadata": {},
     "output_type": "display_data"
    },
    {
     "data": {
      "application/vnd.jupyter.widget-view+json": {
       "model_id": "33f0e1cdcee94a7d8534a6080becf50d",
       "version_major": 2,
       "version_minor": 0
      },
      "text/plain": [
       "VBox(children=(Output(), RadioButtons(layout=Layout(width='max-content'), options=(('Class C', 0), ('Class K',…"
      ]
     },
     "metadata": {},
     "output_type": "display_data"
    },
    {
     "data": {
      "application/vnd.jupyter.widget-view+json": {
       "model_id": "56e160b31d5942638d49215e04760ece",
       "version_major": 2,
       "version_minor": 0
      },
      "text/plain": [
       "VBox(children=(Output(), RadioButtons(layout=Layout(width='max-content'), options=(('Campus Director', 0), ('D…"
      ]
     },
     "metadata": {},
     "output_type": "display_data"
    }
   ],
   "source": [
    "L3P4Q1 = MultipleChoice('1. Cpk is the minimum of what two measures?',['Cp and Cpk','Cpk and Cpl', 'Cpu and Cpl', 'Cpu and Cp'],'Cpu and Cpl')\n",
    "\n",
    "if __name__ == \"__main__\":\n",
    "    display(L3P4Q1)"
   ]
  },
  {
   "cell_type": "markdown",
   "id": "9a371885-2dad-4340-b16a-b12c7b3ba79f",
   "metadata": {},
   "source": [
    "## Page 5"
   ]
  },
  {
   "cell_type": "code",
   "execution_count": 47,
   "id": "a151df8f-4fc2-401f-b3c4-5a2eccca2259",
   "metadata": {},
   "outputs": [
    {
     "data": {
      "application/vnd.jupyter.widget-view+json": {
       "model_id": "59901771aef34590ad74b828cfaec0a4",
       "version_major": 2,
       "version_minor": 0
      },
      "text/plain": [
       "VBox(children=(Output(), RadioButtons(layout=Layout(width='max-content'), options=(('True', 0), ('False', 1)),…"
      ]
     },
     "metadata": {},
     "output_type": "display_data"
    },
    {
     "data": {
      "application/vnd.jupyter.widget-view+json": {
       "model_id": "e847801c1d6945d7a931d616cbeb73d5",
       "version_major": 2,
       "version_minor": 0
      },
      "text/plain": [
       "VBox(children=(Output(), RadioButtons(layout=Layout(width='max-content'), options=(('Know what procedures to f…"
      ]
     },
     "metadata": {},
     "output_type": "display_data"
    },
    {
     "data": {
      "application/vnd.jupyter.widget-view+json": {
       "model_id": "ec9a5e3bdc504cd3a2a0297962b566e0",
       "version_major": 2,
       "version_minor": 0
      },
      "text/plain": [
       "VBox(children=(Output(), RadioButtons(layout=Layout(width='max-content'), options=(('Safe computer storage are…"
      ]
     },
     "metadata": {},
     "output_type": "display_data"
    },
    {
     "data": {
      "application/vnd.jupyter.widget-view+json": {
       "model_id": "f45916f4fc8c4fd38a547daf38792ef4",
       "version_major": 2,
       "version_minor": 0
      },
      "text/plain": [
       "VBox(children=(Output(), RadioButtons(layout=Layout(width='max-content'), options=(('Power Circuits', 0), ('Fl…"
      ]
     },
     "metadata": {},
     "output_type": "display_data"
    },
    {
     "data": {
      "application/vnd.jupyter.widget-view+json": {
       "model_id": "46c489ce004345359556024909881eda",
       "version_major": 2,
       "version_minor": 0
      },
      "text/plain": [
       "VBox(children=(Output(), RadioButtons(layout=Layout(width='max-content'), options=(('Paper, apple, skip, and s…"
      ]
     },
     "metadata": {},
     "output_type": "display_data"
    },
    {
     "data": {
      "application/vnd.jupyter.widget-view+json": {
       "model_id": "949090f3170f4060962dc56509088b8e",
       "version_major": 2,
       "version_minor": 0
      },
      "text/plain": [
       "VBox(children=(Output(), RadioButtons(layout=Layout(width='max-content'), options=(('1', 0), ('6', 1), ('5', 2…"
      ]
     },
     "metadata": {},
     "output_type": "display_data"
    },
    {
     "data": {
      "application/vnd.jupyter.widget-view+json": {
       "model_id": "33f0e1cdcee94a7d8534a6080becf50d",
       "version_major": 2,
       "version_minor": 0
      },
      "text/plain": [
       "VBox(children=(Output(), RadioButtons(layout=Layout(width='max-content'), options=(('Class C', 0), ('Class K',…"
      ]
     },
     "metadata": {},
     "output_type": "display_data"
    },
    {
     "data": {
      "application/vnd.jupyter.widget-view+json": {
       "model_id": "56e160b31d5942638d49215e04760ece",
       "version_major": 2,
       "version_minor": 0
      },
      "text/plain": [
       "VBox(children=(Output(), RadioButtons(layout=Layout(width='max-content'), options=(('Campus Director', 0), ('D…"
      ]
     },
     "metadata": {},
     "output_type": "display_data"
    }
   ],
   "source": [
    "L3P5Q1 = MultipleChoice('1. Can Cp and Cpk be negative?',['Neither will be negative ever','They are both always negative', 'Cp might be negative, but Cpk never will be', 'Cpk might be negative, but Cp never will be'],'Cpk might be negative, but Cp never will be')\n",
    "\n",
    "if __name__ == \"__main__\":\n",
    "    display(L3P5Q1)"
   ]
  },
  {
   "cell_type": "markdown",
   "id": "c08fcc59-ccba-4c62-84fa-0fd0a1070721",
   "metadata": {},
   "source": [
    "## Page 6"
   ]
  },
  {
   "cell_type": "code",
   "execution_count": 22,
   "id": "0b7fb201-bfcd-49fa-a66c-4b7710d7fee2",
   "metadata": {},
   "outputs": [
    {
     "data": {
      "application/vnd.jupyter.widget-view+json": {
       "model_id": "8ac1aad11f9545f792f9847e44c3bef2",
       "version_major": 2,
       "version_minor": 0
      },
      "text/plain": [
       "VBox(children=(Output(), RadioButtons(layout=Layout(width='max-content'), options=((\"Don't worry about it, the…"
      ]
     },
     "metadata": {},
     "output_type": "display_data"
    },
    {
     "data": {
      "application/vnd.jupyter.widget-view+json": {
       "model_id": "fa3e5abe6ef247d580576e2b1467f150",
       "version_major": 2,
       "version_minor": 0
      },
      "text/plain": [
       "VBox(children=(Output(), RadioButtons(layout=Layout(width='max-content'), options=(('The process is broken, fi…"
      ]
     },
     "metadata": {},
     "output_type": "display_data"
    },
    {
     "data": {
      "application/vnd.jupyter.widget-view+json": {
       "model_id": "59cf4b28a59d4bfbb40e8e1a9fd544b1",
       "version_major": 2,
       "version_minor": 0
      },
      "text/plain": [
       "VBox(children=(Output(), RadioButtons(layout=Layout(width='max-content'), options=(('Turn some dials and get t…"
      ]
     },
     "metadata": {},
     "output_type": "display_data"
    }
   ],
   "source": [
    "L3P6Q1 = MultipleChoice('1. What should you do when your process is out-of-spec?',[\"Don't worry about it, the process will probably drift back into control\", 'Turn some dials to get the process centered up', 'Re-engineer the process', 'Do nothing'],'Re-engineer the process')\n",
    "L3P6Q2 = MultipleChoice('2. What should you do when your process is out-of-control?',['The process is broken, fix it', 'You need to re-engineer the process', 'Do nothing', 'Leave it alone, it will drift back into control eventually'] , 'The process is broken, fix it')\n",
    "L3P6Q3 = MultipleChoice('3. What should you do if your process is both out-of-control and out-of-spec',['Turn some dials and get the process back in control', 'Re-engineer the process', 'Shut the process down, it is a mess', 'Find some balance between fixing the process while coming up with a new process that has less variation'],'Find some balance between fixing the process while coming up with a new process that has less variation')\n",
    "\n",
    "if __name__ == \"__main__\":\n",
    "    display(L3P6Q1, L3P6Q2, L3P6Q3)"
   ]
  },
  {
   "cell_type": "markdown",
   "id": "7dd51d78-e329-4cfd-bb82-fbaf51b4f70b",
   "metadata": {},
   "source": [
    "### Lesson 4: Survey Design"
   ]
  },
  {
   "cell_type": "markdown",
   "id": "7237e39e-1126-4ddc-a778-27161c1723ce",
   "metadata": {},
   "source": [
    "## Page 2"
   ]
  },
  {
   "cell_type": "code",
   "execution_count": 21,
   "id": "992cc513-710b-41c3-9abe-14b0e2364b7c",
   "metadata": {},
   "outputs": [
    {
     "data": {
      "application/vnd.jupyter.widget-view+json": {
       "model_id": "12ee3ac2625643e6b7e4e878e92c6916",
       "version_major": 2,
       "version_minor": 0
      },
      "text/plain": [
       "VBox(children=(Output(), RadioButtons(layout=Layout(width='max-content'), options=(('Determine the purpose', 0…"
      ]
     },
     "metadata": {},
     "output_type": "display_data"
    },
    {
     "data": {
      "application/vnd.jupyter.widget-view+json": {
       "model_id": "78489c0665fc438994d2199830e39992",
       "version_major": 2,
       "version_minor": 0
      },
      "text/plain": [
       "VBox(children=(Output(), RadioButtons(layout=Layout(width='max-content'), options=(('Supervisors', 0), ('Clien…"
      ]
     },
     "metadata": {},
     "output_type": "display_data"
    },
    {
     "data": {
      "application/vnd.jupyter.widget-view+json": {
       "model_id": "f42515eb7d714712a3f57ee33dc19a55",
       "version_major": 2,
       "version_minor": 0
      },
      "text/plain": [
       "VBox(children=(Output(), RadioButtons(layout=Layout(width='max-content'), options=(('True', 0), ('False', 1)),…"
      ]
     },
     "metadata": {},
     "output_type": "display_data"
    }
   ],
   "source": [
    "L4P2Q1 = MultipleChoice('1. Which of the following is NOT a survey design step?',['Determine the purpose', 'Brainstorm the evaluation questions', 'Jump right into to writing survey items', 'Set the format of the survey'],'Jump right into to writing survey items')\n",
    "L4P2Q2 = MultipleChoice('2. Who will typically set your overall survey purpose?',['Supervisors', 'Clients', 'You', 'Both A & B'] , 'Both A & B')\n",
    "L4P2Q3 = MultipleChoice('3. Evaluation questions can have subparts.',['True', 'False'],'True')\n",
    "\n",
    "if __name__ == \"__main__\":\n",
    "    display(L4P2Q1, L4P2Q2, L4P2Q3)"
   ]
  },
  {
   "cell_type": "markdown",
   "id": "47d61bf8-1b9c-47ab-b661-aa08a934d35c",
   "metadata": {},
   "source": [
    "## Page 3"
   ]
  },
  {
   "cell_type": "code",
   "execution_count": 20,
   "id": "a8a3b746-a218-4ba7-aee0-67f4a50d1677",
   "metadata": {},
   "outputs": [
    {
     "data": {
      "application/vnd.jupyter.widget-view+json": {
       "model_id": "ea56ac55c5974a149466d6eb7fbf81e7",
       "version_major": 2,
       "version_minor": 0
      },
      "text/plain": [
       "VBox(children=(Output(), RadioButtons(layout=Layout(width='max-content'), options=(('Multiple choice', 0), ('W…"
      ]
     },
     "metadata": {},
     "output_type": "display_data"
    },
    {
     "data": {
      "application/vnd.jupyter.widget-view+json": {
       "model_id": "8839d7a1aa54447bb595f3a75957e1dd",
       "version_major": 2,
       "version_minor": 0
      },
      "text/plain": [
       "VBox(children=(Output(), RadioButtons(layout=Layout(width='max-content'), options=(('Multiple choice', 0), ('S…"
      ]
     },
     "metadata": {},
     "output_type": "display_data"
    },
    {
     "data": {
      "application/vnd.jupyter.widget-view+json": {
       "model_id": "6f2fa56b6ed149a1be217495836d05fd",
       "version_major": 2,
       "version_minor": 0
      },
      "text/plain": [
       "VBox(children=(Output(), RadioButtons(layout=Layout(width='max-content'), options=(('Multiple choice', 0), ('O…"
      ]
     },
     "metadata": {},
     "output_type": "display_data"
    },
    {
     "data": {
      "application/vnd.jupyter.widget-view+json": {
       "model_id": "93c0acdb93294f46b94c86ec9104a9f1",
       "version_major": 2,
       "version_minor": 0
      },
      "text/plain": [
       "VBox(children=(Output(), RadioButtons(layout=Layout(width='max-content'), options=(('They can be difficult to …"
      ]
     },
     "metadata": {},
     "output_type": "display_data"
    },
    {
     "data": {
      "application/vnd.jupyter.widget-view+json": {
       "model_id": "c025fc5b83514d78891c7168e8871c6a",
       "version_major": 2,
       "version_minor": 0
      },
      "text/plain": [
       "VBox(children=(Output(), RadioButtons(layout=Layout(width='max-content'), options=(('They can be difficult to …"
      ]
     },
     "metadata": {},
     "output_type": "display_data"
    },
    {
     "data": {
      "application/vnd.jupyter.widget-view+json": {
       "model_id": "2ae955cd601147d4adc75683858d9280",
       "version_major": 2,
       "version_minor": 0
      },
      "text/plain": [
       "VBox(children=(Output(), RadioButtons(layout=Layout(width='max-content'), options=(('True', 0), ('False', 1)),…"
      ]
     },
     "metadata": {},
     "output_type": "display_data"
    }
   ],
   "source": [
    "L4P3Q1 = MultipleChoice('1. Which question type will yield ONLY categorical data?',[\"Multiple choice\", 'Write-in', 'Open-essay'],'Multiple choice')\n",
    "L4P3Q2 = MultipleChoice('2. Which of the following will NOT yield categorical data?',[\"Multiple choice\", 'Scale', 'Open-essay', 'Matrix'], 'Open-essay')\n",
    "L4P3Q3 = MultipleChoice('3. Which of the following will provide continuous data?', ['Multiple choice', 'Open-essay', 'Matrix' ,'Write-in'], 'Write-in')\n",
    "L4P3Q4 = MultipleChoice('4. What is the disadvantage of matrix and scale questions?', ['They can be difficult to read on mobile devices', 'They yield qualitative data that are difficult to analyze', 'They repeat themselves a lot', 'They have exclusive options'], 'They can be difficult to read on mobile devices')\n",
    "L4P3Q5 = MultipleChoice('5. What is the disadvantage of open-essay and write-in questions?', ['They can be difficult to read on mobile devices', 'They yield qualitative data that are difficult to wrangle and analyze', 'They repeat themselves a lot', 'They have exclusive options'], 'They yield qualitative data that are difficult to wrangle and analyze')\n",
    "L4P3Q6 = MultipleChoice('6. You can limit the data input on a write-in question to get higher data quality.' ,['True', 'False'], 'True')\n",
    "\n",
    "if __name__ == \"__main__\":\n",
    "    display(L4P3Q1, L4P3Q2, L4P3Q3, L4P3Q4, L4P3Q5, L4P3Q6)"
   ]
  },
  {
   "cell_type": "markdown",
   "id": "4059a55d-9753-4805-8aff-2562502d3ef7",
   "metadata": {},
   "source": [
    "## Page 4"
   ]
  },
  {
   "cell_type": "code",
   "execution_count": 17,
   "id": "d3e68926-8b29-4067-9c2e-6cf60dedb048",
   "metadata": {},
   "outputs": [
    {
     "data": {
      "application/vnd.jupyter.widget-view+json": {
       "model_id": "3e680240ef354042adb2d9774f330558",
       "version_major": 2,
       "version_minor": 0
      },
      "text/plain": [
       "VBox(children=(Output(), RadioButtons(layout=Layout(width='max-content'), options=(('Question banks', 0), ('Po…"
      ]
     },
     "metadata": {},
     "output_type": "display_data"
    },
    {
     "data": {
      "application/vnd.jupyter.widget-view+json": {
       "model_id": "7c9f549249974046ab020c8ec56cccc3",
       "version_major": 2,
       "version_minor": 0
      },
      "text/plain": [
       "VBox(children=(Output(), RadioButtons(layout=Layout(width='max-content'), options=(('True', 0), ('False', 1)),…"
      ]
     },
     "metadata": {},
     "output_type": "display_data"
    },
    {
     "data": {
      "application/vnd.jupyter.widget-view+json": {
       "model_id": "f7b634c1886b44238aa68404eee92721",
       "version_major": 2,
       "version_minor": 0
      },
      "text/plain": [
       "VBox(children=(Output(), RadioButtons(options=(('True', 0), ('False', 1)), value=0), Button(description='submi…"
      ]
     },
     "metadata": {},
     "output_type": "display_data"
    }
   ],
   "source": [
    "L4P4Q1 = MultipleChoice('1. Which of the following is NOT a good source of survey questions?',['Question banks', 'Popular magazines', 'Peer-reviewed articles', 'Google Scholar'],'Popular magazines')\n",
    "L4P4Q2 = MultipleChoice('2. Psychology covers a wide range of topics and fields and thus their databases can be useful for many things.' ,['True', 'False'], 'True')\n",
    "L4P4Q3 = MC(\"3. You'll be able to access all articles for free with Google Scholar.\", ['True', 'False'], 'False', cor= 'Many articles are available, but not all, due to copyright laws. Make do with what is available if you cannot find or borrow library database access.', incor=\"\")\n",
    "\n",
    "if __name__ == \"__main__\":\n",
    "    display(L4P4Q1, L4P4Q2, L4P4Q3)"
   ]
  },
  {
   "cell_type": "markdown",
   "id": "f957467b-61b2-469a-83f5-9d7d31290784",
   "metadata": {},
   "source": [
    "## Page 5"
   ]
  },
  {
   "cell_type": "code",
   "execution_count": 20,
   "id": "98619bc0-b7b2-4a72-b545-7bd4f490a6de",
   "metadata": {},
   "outputs": [
    {
     "data": {
      "application/vnd.jupyter.widget-view+json": {
       "model_id": "6a4627aa77c24d588f12a1af5cdd64ca",
       "version_major": 2,
       "version_minor": 0
      },
      "text/plain": [
       "VBox(children=(Output(), RadioButtons(layout=Layout(width='max-content'), options=(('Not phrased as a question…"
      ]
     },
     "metadata": {},
     "output_type": "display_data"
    },
    {
     "data": {
      "application/vnd.jupyter.widget-view+json": {
       "model_id": "25fd466a4204400290f97fe9f7376762",
       "version_major": 2,
       "version_minor": 0
      },
      "text/plain": [
       "VBox(children=(Output(), RadioButtons(layout=Layout(width='max-content'), options=(('Not phrased as a question…"
      ]
     },
     "metadata": {},
     "output_type": "display_data"
    },
    {
     "data": {
      "application/vnd.jupyter.widget-view+json": {
       "model_id": "5f92716133104eec82afff0b1ec62d26",
       "version_major": 2,
       "version_minor": 0
      },
      "text/plain": [
       "VBox(children=(Output(), RadioButtons(layout=Layout(width='max-content'), options=(('Not phrased as a question…"
      ]
     },
     "metadata": {},
     "output_type": "display_data"
    }
   ],
   "source": [
    "L4P5Q1 = MultipleChoice('1. What is wrong with this survey question? \\n \\n \\033[1mHeight:\\033[0m \\n',['Not phrased as a question', 'Did not specify units', \"Gives the answer you're looking for in the question\", 'Both A & B'],'Both A & B')\n",
    "L4P5Q2 = MC('2. What is wrong with this survey question? \\n \\n \\033[1mWhat is your average calorie intake per day?\\033[0m \\n',['Not phrased as a question', 'Did not specify units', 'It makes the respondent do math', 'Does not specify a time frame', 'Both C & D'] , 'Both C & D', cor=\"The respondent has to figure out how many calories each item of food is they eat per day and then add it all up for each day and then find an average. It also does not specify from whence they should take their average intake per day. A better question would be to ask them what they ate yesterday.\\n \", incor=\"\")\n",
    "L4P5Q3 = MC('3. What is wrong with this survey question? \\n \\n \\033[1mDo you enjoy data engineering?\\033[0m \\n',['Not phrased as a question', 'Did not specify units', \"Gives the answer you're looking for in the question\", \"Does not define the term and thus isn't specific enough\" ],\"Does not define the term and thus isn't specific enough\", cor=\"Defining data engineering in the question or in a hover-over box would make this question better.\", incor=\"\")\n",
    "\n",
    "if __name__ == \"__main__\":\n",
    "    display(L4P5Q1, L4P5Q2, L4P5Q3)"
   ]
  },
  {
   "cell_type": "markdown",
   "id": "0ca9f126-1382-484e-9ac8-8b042f9a959d",
   "metadata": {},
   "source": [
    "## Page 6"
   ]
  },
  {
   "cell_type": "code",
   "execution_count": 21,
   "id": "17e2c9a3-b412-4fe6-ad2f-6acdaad071f5",
   "metadata": {},
   "outputs": [
    {
     "data": {
      "application/vnd.jupyter.widget-view+json": {
       "model_id": "c6efdd4153cd4f8caa68ec58400d271e",
       "version_major": 2,
       "version_minor": 0
      },
      "text/plain": [
       "VBox(children=(Output(), RadioButtons(layout=Layout(width='max-content'), options=(('Does not provide an exhau…"
      ]
     },
     "metadata": {},
     "output_type": "display_data"
    },
    {
     "data": {
      "application/vnd.jupyter.widget-view+json": {
       "model_id": "ddaf9da2d04b47d4a7c8b72634fd040a",
       "version_major": 2,
       "version_minor": 0
      },
      "text/plain": [
       "VBox(children=(Output(), RadioButtons(layout=Layout(width='max-content'), options=(('Yes', 0), ('No', 1)), val…"
      ]
     },
     "metadata": {},
     "output_type": "display_data"
    },
    {
     "data": {
      "application/vnd.jupyter.widget-view+json": {
       "model_id": "a58601af8a3149329bc2db4717f582ba",
       "version_major": 2,
       "version_minor": 0
      },
      "text/plain": [
       "VBox(children=(Output(), RadioButtons(layout=Layout(width='max-content'), options=(('True', 0), ('False', 1)),…"
      ]
     },
     "metadata": {},
     "output_type": "display_data"
    },
    {
     "data": {
      "application/vnd.jupyter.widget-view+json": {
       "model_id": "ec68c91a938e42cd803d0105d1d0d946",
       "version_major": 2,
       "version_minor": 0
      },
      "text/plain": [
       "VBox(children=(Output(), RadioButtons(layout=Layout(width='max-content'), options=(('It is not phrased as a qu…"
      ]
     },
     "metadata": {},
     "output_type": "display_data"
    }
   ],
   "source": [
    "L4P6Q1 = MC('1. What is wrong with this survey question? \\n \\n\\033[1mWhat is your height? \\n \\n152-182 \\n \\n182-213\\033[0m \\n',['Does not provide an exhaustive list of answers', 'Units are not specified', 'Answers are not exclusive', 'All of the above'],'All of the above', cor=\"This question does not specify that height is being measured in centimeters. It also starts out at approximately 5 feet tall, and only goes until approximately 7 feet tall, so if you have anyone extremely short or tall, they will not be covered in the standard response options. Lastly, the number 182 overlaps on both questions, so people who are exactly 182 centimeters could respond in both categories. \\n\", incor=\"\")\n",
    "L4P6Q2 = MC('2. What is wrong with this survey question? \\n \\n\\033[1mIs this scale balanced?\\n \\nCompletely unacceptable\\n \\nUnacceptable\\n \\nSlightly unacceptable\\n \\nSlightly acceptable\\n \\nAcceptable\\n \\nCompletely acceptable\\033[0m \\n',['Yes', 'No'] , 'Yes', cor='Each \"bad descriptor\" has a matching \"good descriptor.\"\\n ', incor=\"\")\n",
    "L4P6Q3 = MC('3. If you include a neutral option, people will pick it.',['True', 'False'],'True', cor=\"Because of this, consider carefully what you will do with a neutral opinion and whether it is better to force respondents to pick a side.\", incor=\"\")\n",
    "L4P6Q4 = MC('4. What is wrong with this survey question? \\n \\n\\033[1mHow many times have you been abused? _____________\\033[0m \\n',['It is not phrased as a question', 'It does not provide ranges as response options', 'It is not balanced', 'It allows for a neutral option'],'It does not provide ranges as response options', cor=\"Since abuse is a sensitive subject, to make respondents feel more comfortable, it would be better to make this a multiple choice question with ranges. \\n\", incor=\"\")\n",
    "                                                                                                           \n",
    "if __name__ == \"__main__\":\n",
    "    display(L4P6Q1, L4P6Q2, L4P6Q3, L4P6Q4)"
   ]
  },
  {
   "cell_type": "markdown",
   "id": "a43fa4a0-858f-4c58-b872-bf4035bc7b93",
   "metadata": {},
   "source": [
    "## Page 7"
   ]
  },
  {
   "cell_type": "code",
   "execution_count": null,
   "id": "1819e614-36f9-4253-9bcb-297b74f4467a",
   "metadata": {},
   "outputs": [],
   "source": [
    "L3P6Q1 = MultipleChoice('1. What should you do when your process is out-of-spec?',[\"Don't worry about it, the process will probably drift back into control\", 'Turn some dials to get the process centered up', 'Re-engineer the process', 'Do nothing'],'Re-engineer the process')\n",
    "L3P6Q2 = MultipleChoice('2. What should you do when your process is out-of-control?',['The process is broken, fix it', 'You need to re-engineer the process', 'Do nothing', 'Leave it alone, it will drift back into control eventually'] , 'The process is broken, fix it')\n",
    "L3P6Q3 = MultipleChoice('3. What should you do if your process is both out-of-control and out-of-spec',['Turn some dials and get the process back in control', 'Re-engineer the process', 'Shut the process down, it is a mess', 'Find some balance between fixing the process while coming up with a new process that has less variation'],'Find some balance between fixing the process while coming up with a new process that has less variation')\n",
    "\n",
    "if __name__ == \"__main__\":\n",
    "    display(L3P6Q1, L3P6Q2, L3P6Q3)"
   ]
  },
  {
   "cell_type": "markdown",
   "id": "e6a75495-fff7-4ea1-8657-36bde4cd7462",
   "metadata": {},
   "source": [
    "## Page 8"
   ]
  },
  {
   "cell_type": "code",
   "execution_count": null,
   "id": "6e705989-43b1-47ea-8cd3-85e6dc54f163",
   "metadata": {},
   "outputs": [],
   "source": [
    "L3P6Q1 = MultipleChoice('1. What should you do when your process is out-of-spec?',[\"Don't worry about it, the process will probably drift back into control\", 'Turn some dials to get the process centered up', 'Re-engineer the process', 'Do nothing'],'Re-engineer the process')\n",
    "L3P6Q2 = MultipleChoice('2. What should you do when your process is out-of-control?',['The process is broken, fix it', 'You need to re-engineer the process', 'Do nothing', 'Leave it alone, it will drift back into control eventually'] , 'The process is broken, fix it')\n",
    "L3P6Q3 = MultipleChoice('3. What should you do if your process is both out-of-control and out-of-spec',['Turn some dials and get the process back in control', 'Re-engineer the process', 'Shut the process down, it is a mess', 'Find some balance between fixing the process while coming up with a new process that has less variation'],'Find some balance between fixing the process while coming up with a new process that has less variation')\n",
    "\n",
    "if __name__ == \"__main__\":\n",
    "    display(L3P6Q1, L3P6Q2, L3P6Q3)"
   ]
  },
  {
   "cell_type": "markdown",
   "id": "0b19bdc4-1710-4d24-a92f-d5599c362b10",
   "metadata": {},
   "source": [
    "## Page 9"
   ]
  },
  {
   "cell_type": "code",
   "execution_count": null,
   "id": "d425b4b7-0b5a-4dc6-9100-7408af5ad434",
   "metadata": {},
   "outputs": [],
   "source": [
    "L3P6Q1 = MultipleChoice('1. What should you do when your process is out-of-spec?',[\"Don't worry about it, the process will probably drift back into control\", 'Turn some dials to get the process centered up', 'Re-engineer the process', 'Do nothing'],'Re-engineer the process')\n",
    "L3P6Q2 = MultipleChoice('2. What should you do when your process is out-of-control?',['The process is broken, fix it', 'You need to re-engineer the process', 'Do nothing', 'Leave it alone, it will drift back into control eventually'] , 'The process is broken, fix it')\n",
    "L3P6Q3 = MultipleChoice('3. What should you do if your process is both out-of-control and out-of-spec',['Turn some dials and get the process back in control', 'Re-engineer the process', 'Shut the process down, it is a mess', 'Find some balance between fixing the process while coming up with a new process that has less variation'],'Find some balance between fixing the process while coming up with a new process that has less variation')\n",
    "\n",
    "if __name__ == \"__main__\":\n",
    "    display(L3P6Q1, L3P6Q2, L3P6Q3)"
   ]
  },
  {
   "cell_type": "markdown",
   "id": "c2de1c80-0ead-4fbb-9103-2efb9b4e16c8",
   "metadata": {},
   "source": [
    "## Page 10"
   ]
  },
  {
   "cell_type": "code",
   "execution_count": null,
   "id": "d5f540fb-c2cb-42a7-b410-bf693a630002",
   "metadata": {},
   "outputs": [],
   "source": [
    "L3P6Q1 = MultipleChoice('1. What should you do when your process is out-of-spec?',[\"Don't worry about it, the process will probably drift back into control\", 'Turn some dials to get the process centered up', 'Re-engineer the process', 'Do nothing'],'Re-engineer the process')\n",
    "L3P6Q2 = MultipleChoice('2. What should you do when your process is out-of-control?',['The process is broken, fix it', 'You need to re-engineer the process', 'Do nothing', 'Leave it alone, it will drift back into control eventually'] , 'The process is broken, fix it')\n",
    "L3P6Q3 = MultipleChoice('3. What should you do if your process is both out-of-control and out-of-spec',['Turn some dials and get the process back in control', 'Re-engineer the process', 'Shut the process down, it is a mess', 'Find some balance between fixing the process while coming up with a new process that has less variation'],'Find some balance between fixing the process while coming up with a new process that has less variation')\n",
    "\n",
    "if __name__ == \"__main__\":\n",
    "    display(L3P6Q1, L3P6Q2, L3P6Q3)"
   ]
  },
  {
   "cell_type": "markdown",
   "id": "d469b9e2-9938-4d53-9069-733384e8ccaf",
   "metadata": {},
   "source": [
    "## Page 11"
   ]
  },
  {
   "cell_type": "code",
   "execution_count": null,
   "id": "df2587fc-4252-4cbc-837b-ae9766aa4e5e",
   "metadata": {},
   "outputs": [],
   "source": [
    "L3P6Q1 = MultipleChoice('1. What should you do when your process is out-of-spec?',[\"Don't worry about it, the process will probably drift back into control\", 'Turn some dials to get the process centered up', 'Re-engineer the process', 'Do nothing'],'Re-engineer the process')\n",
    "L3P6Q2 = MultipleChoice('2. What should you do when your process is out-of-control?',['The process is broken, fix it', 'You need to re-engineer the process', 'Do nothing', 'Leave it alone, it will drift back into control eventually'] , 'The process is broken, fix it')\n",
    "L3P6Q3 = MultipleChoice('3. What should you do if your process is both out-of-control and out-of-spec',['Turn some dials and get the process back in control', 'Re-engineer the process', 'Shut the process down, it is a mess', 'Find some balance between fixing the process while coming up with a new process that has less variation'],'Find some balance between fixing the process while coming up with a new process that has less variation')\n",
    "\n",
    "if __name__ == \"__main__\":\n",
    "    display(L3P6Q1, L3P6Q2, L3P6Q3)"
   ]
  },
  {
   "cell_type": "markdown",
   "id": "c054862a-7e2c-470d-a8bb-670727e701eb",
   "metadata": {},
   "source": [
    "### Lesson 5: Reliability and Validity"
   ]
  },
  {
   "cell_type": "markdown",
   "id": "bf0333b6-8e09-4c75-8f9d-6ccf09df57bc",
   "metadata": {},
   "source": [
    "### Lesson 6: Workplace Health and Fire Safety"
   ]
  },
  {
   "cell_type": "code",
   "execution_count": 47,
   "id": "fdae5745-5039-4138-b0ac-983aea442ee0",
   "metadata": {},
   "outputs": [
    {
     "data": {
      "application/vnd.jupyter.widget-view+json": {
       "model_id": "59901771aef34590ad74b828cfaec0a4",
       "version_major": 2,
       "version_minor": 0
      },
      "text/plain": [
       "VBox(children=(Output(), RadioButtons(layout=Layout(width='max-content'), options=(('True', 0), ('False', 1)),…"
      ]
     },
     "metadata": {},
     "output_type": "display_data"
    },
    {
     "data": {
      "application/vnd.jupyter.widget-view+json": {
       "model_id": "e847801c1d6945d7a931d616cbeb73d5",
       "version_major": 2,
       "version_minor": 0
      },
      "text/plain": [
       "VBox(children=(Output(), RadioButtons(layout=Layout(width='max-content'), options=(('Know what procedures to f…"
      ]
     },
     "metadata": {},
     "output_type": "display_data"
    },
    {
     "data": {
      "application/vnd.jupyter.widget-view+json": {
       "model_id": "ec9a5e3bdc504cd3a2a0297962b566e0",
       "version_major": 2,
       "version_minor": 0
      },
      "text/plain": [
       "VBox(children=(Output(), RadioButtons(layout=Layout(width='max-content'), options=(('Safe computer storage are…"
      ]
     },
     "metadata": {},
     "output_type": "display_data"
    },
    {
     "data": {
      "application/vnd.jupyter.widget-view+json": {
       "model_id": "f45916f4fc8c4fd38a547daf38792ef4",
       "version_major": 2,
       "version_minor": 0
      },
      "text/plain": [
       "VBox(children=(Output(), RadioButtons(layout=Layout(width='max-content'), options=(('Power Circuits', 0), ('Fl…"
      ]
     },
     "metadata": {},
     "output_type": "display_data"
    },
    {
     "data": {
      "application/vnd.jupyter.widget-view+json": {
       "model_id": "46c489ce004345359556024909881eda",
       "version_major": 2,
       "version_minor": 0
      },
      "text/plain": [
       "VBox(children=(Output(), RadioButtons(layout=Layout(width='max-content'), options=(('Paper, apple, skip, and s…"
      ]
     },
     "metadata": {},
     "output_type": "display_data"
    },
    {
     "data": {
      "application/vnd.jupyter.widget-view+json": {
       "model_id": "949090f3170f4060962dc56509088b8e",
       "version_major": 2,
       "version_minor": 0
      },
      "text/plain": [
       "VBox(children=(Output(), RadioButtons(layout=Layout(width='max-content'), options=(('1', 0), ('6', 1), ('5', 2…"
      ]
     },
     "metadata": {},
     "output_type": "display_data"
    },
    {
     "data": {
      "application/vnd.jupyter.widget-view+json": {
       "model_id": "33f0e1cdcee94a7d8534a6080becf50d",
       "version_major": 2,
       "version_minor": 0
      },
      "text/plain": [
       "VBox(children=(Output(), RadioButtons(layout=Layout(width='max-content'), options=(('Class C', 0), ('Class K',…"
      ]
     },
     "metadata": {},
     "output_type": "display_data"
    },
    {
     "data": {
      "application/vnd.jupyter.widget-view+json": {
       "model_id": "56e160b31d5942638d49215e04760ece",
       "version_major": 2,
       "version_minor": 0
      },
      "text/plain": [
       "VBox(children=(Output(), RadioButtons(layout=Layout(width='max-content'), options=(('Campus Director', 0), ('D…"
      ]
     },
     "metadata": {},
     "output_type": "display_data"
    }
   ],
   "source": [
    "L6P1Q1 = MultipleChoice('1. WhichWorkplace safety is a high priority for every organization.',['True','False'],'True')\n",
    "L6P1Q2 = MultipleChoice('2. Why is your awareness of a fire safety plan is important?',['Know what procedures to follow in case of an emergency','Equips and prepares you for such emergencies', \"Shows the workplaces's commitment to your safety\", 'All of the above'] , 'All of the above')\n",
    "L6P1Q3 = MultipleChoice('3. How do you prevent a computer fire?',['Safe computer storage area','Check power cords', 'Know workplace fire emergency plan', 'All of the above'],'All of the above')\n",
    "L6P1Q4 = MultipleChoice('4. A workplace fire hazard where dust build-up on common areas such as such computers, microwaves and cords?',['Power Circuits','Flammable Liquids', 'Dust Build-up', 'Combustible Materials'],'Dust Build-up')\n",
    "L6P1Q5 = MultipleChoice('5. What is the PASS method?',['Paper, apple, skip, and swim','Pass, aim, squeeze, and sweep', 'Pin, add, sink, and summe', 'Peel, air, sun, and soap'],'Pass, aim, squeeze, and sweep')\n",
    "L6P1Q6 = MultipleChoice('6. How many classes of fire extinguishers are there?',['1', '6', '5', '20'],'5')\n",
    "L6P1Q7 = MultipleChoice('7. Which of the following fire extinguishers are used to put out electrical fires such as for computers and appliances?',['Class C', 'Class K', \"Class A\", 'Class B'],'Class C')\n",
    "L6P1Q8 = MultipleChoice('8. Who on your campus should you talk to if you have more questions about fire and safety?', ['Campus Director', 'Director of Education', 'Instructor', 'Admissions Representative', 'All of the above'], 'All of the above')\n",
    "\n",
    "if __name__ == \"__main__\":\n",
    "    display(L6P1Q1, L6P1Q2, L6P1Q3, L6P1Q4, L6P1Q5, L6P1Q6, L6P1Q7, L6P1Q8)"
   ]
  },
  {
   "cell_type": "markdown",
   "id": "4429f948-9944-499e-b5b1-62a596dfcb69",
   "metadata": {},
   "source": [
    "### Part 2: Agile Project Management\n",
    "\n",
    "### Lesson 1: Introduction to Agile Project Management"
   ]
  },
  {
   "cell_type": "markdown",
   "id": "60217fc4-6667-4978-8168-e08dabfdf6b7",
   "metadata": {},
   "source": [
    "### Lesson 2: Goals of Project Management and Agile"
   ]
  },
  {
   "cell_type": "markdown",
   "id": "be872e36-3c0a-49d9-bb3d-630db4894dbf",
   "metadata": {},
   "source": [
    "### Lesson 3: Scrum"
   ]
  },
  {
   "cell_type": "markdown",
   "id": "38c6ad86-6a74-42ae-83ed-0faa9ab20894",
   "metadata": {},
   "source": [
    "### Lesson 4: Kanban"
   ]
  },
  {
   "cell_type": "markdown",
   "id": "2a8d279a-850d-47e6-897a-1f2f5623eccb",
   "metadata": {},
   "source": [
    "### Lesson 5: Project Planning"
   ]
  },
  {
   "cell_type": "markdown",
   "id": "dc421ee8-d611-4ccf-a33b-61bcccbc31b8",
   "metadata": {},
   "source": [
    "Lesson 6 repeats, see \"Workplace Health and Fire Safety\" above"
   ]
  }
 ],
 "metadata": {
  "kernelspec": {
   "display_name": "Python 3 (ipykernel)",
   "language": "python",
   "name": "python3"
  },
  "language_info": {
   "codemirror_mode": {
    "name": "ipython",
    "version": 3
   },
   "file_extension": ".py",
   "mimetype": "text/x-python",
   "name": "python",
   "nbconvert_exporter": "python",
   "pygments_lexer": "ipython3",
   "version": "3.9.7"
  }
 },
 "nbformat": 4,
 "nbformat_minor": 5
}
