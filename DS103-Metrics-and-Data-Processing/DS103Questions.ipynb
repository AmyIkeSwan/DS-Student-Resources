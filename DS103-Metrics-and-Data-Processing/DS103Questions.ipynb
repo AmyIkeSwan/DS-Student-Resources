{
 "cells": [
  {
   "cell_type": "markdown",
   "id": "701c6664-c3af-4538-bac7-f1a5cc1826cd",
   "metadata": {},
   "source": [
    "# DS103 Questions\n",
    "\n",
    "### Part 1 Metrics and Data Processing\n",
    "\n",
    "### Lesson 1: Metrics In The Business World\n",
    "\n",
    "## Page 2"
   ]
  },
  {
   "cell_type": "code",
   "execution_count": 1,
   "id": "9fdc1222-3d73-42e1-b6bf-b95d73e3d8ff",
   "metadata": {},
   "outputs": [],
   "source": [
    "from DS_Students import *"
   ]
  },
  {
   "cell_type": "code",
   "execution_count": 39,
   "id": "cf433206-b1c6-41d7-86db-486d7cb4756e",
   "metadata": {},
   "outputs": [
    {
     "data": {
      "application/vnd.jupyter.widget-view+json": {
       "model_id": "0cd4bc1d4be34c8f9d1c00935dbda507",
       "version_major": 2,
       "version_minor": 0
      },
      "text/plain": [
       "VBox(children=(Output(), RadioButtons(options=(('True', 0), ('False', 1)), value=0), Button(description='submi…"
      ]
     },
     "metadata": {},
     "output_type": "display_data"
    },
    {
     "data": {
      "application/vnd.jupyter.widget-view+json": {
       "model_id": "d8696f458eca4ad39a546473f9c1e745",
       "version_major": 2,
       "version_minor": 0
      },
      "text/plain": [
       "VBox(children=(Output(), RadioButtons(options=(('True', 0), ('False', 1)), value=0), Button(description='submi…"
      ]
     },
     "metadata": {},
     "output_type": "display_data"
    }
   ],
   "source": [
    "L1P2Q1 = MC('1. The exercise of transforming a corporate mission statement to metrics is straightforward and universal.',['True','False'],'False',cor=\"\", incor=\"\")\n",
    "L1P2Q2 = MC('2. It is common for the corporate metrics to be developed first, and then the mission, vision, and values pretty much write themselves.',['True','False'],'False',cor=\"\", incor=\"\")\n",
    "\n",
    "if __name__ == \"__main__\":\n",
    "    display(L1P2Q1, L1P2Q2)"
   ]
  },
  {
   "cell_type": "markdown",
   "id": "59237b93-23a1-4511-9c47-069ff58089ca",
   "metadata": {},
   "source": [
    "## Page 3"
   ]
  },
  {
   "cell_type": "code",
   "execution_count": 40,
   "id": "9e09c0eb-06d1-440a-9c2a-4ced3fa16e4e",
   "metadata": {},
   "outputs": [
    {
     "data": {
      "application/vnd.jupyter.widget-view+json": {
       "model_id": "1a16bd6b6c8d446e9f1fc185c1b32e06",
       "version_major": 2,
       "version_minor": 0
      },
      "text/plain": [
       "VBox(children=(Output(), RadioButtons(layout=Layout(width='max-content'), options=(('Based on validated data',…"
      ]
     },
     "metadata": {},
     "output_type": "display_data"
    },
    {
     "data": {
      "application/vnd.jupyter.widget-view+json": {
       "model_id": "977012c3e90c4735ae429bc533cc80e8",
       "version_major": 2,
       "version_minor": 0
      },
      "text/plain": [
       "VBox(children=(Output(), RadioButtons(layout=Layout(width='max-content'), options=(('Based on valid data', 0),…"
      ]
     },
     "metadata": {},
     "output_type": "display_data"
    },
    {
     "data": {
      "application/vnd.jupyter.widget-view+json": {
       "model_id": "d806ff84fbd64f7abd32c5d02d42a67b",
       "version_major": 2,
       "version_minor": 0
      },
      "text/plain": [
       "VBox(children=(Output(), RadioButtons(layout=Layout(width='max-content'), options=(('True', 0), ('False', 1)),…"
      ]
     },
     "metadata": {},
     "output_type": "display_data"
    }
   ],
   "source": [
    "L1P3Q1 = MultipleChoice('1. Which of the following is NOT a quality that makes a good KPI?',['Based on validated data','Complexity','Provides thresholds and targets', \"Reflective of the company's goals and values\"],'Complexity')\n",
    "L1P3Q2 = MultipleChoice('2. It is up to data scientists to ensure that KPIs are:',['Based on valid data','Relevant','Measurable with thresholds and targets', 'Empowering', 'All of the above'],'All of the above')\n",
    "L1P3Q3 = MultipleChoice('3. Almost any industry will have a KPI based around sales.',['True','False'],'True')\n",
    "\n",
    "if __name__ == \"__main__\":\n",
    "    display(L1P3Q1, L1P3Q2, L1P3Q3)"
   ]
  },
  {
   "cell_type": "markdown",
   "id": "214526dd-72ee-40d8-a2e5-41e165dcd951",
   "metadata": {},
   "source": [
    "## Page 4"
   ]
  },
  {
   "cell_type": "code",
   "execution_count": 41,
   "id": "a2bbef1f-471c-438a-ab6f-b034921bdcf1",
   "metadata": {},
   "outputs": [
    {
     "data": {
      "application/vnd.jupyter.widget-view+json": {
       "model_id": "33f622c72d9a474dba62f323926b485e",
       "version_major": 2,
       "version_minor": 0
      },
      "text/plain": [
       "VBox(children=(Output(), RadioButtons(layout=Layout(width='max-content'), options=(('True', 0), ('False', 1)),…"
      ]
     },
     "metadata": {},
     "output_type": "display_data"
    },
    {
     "data": {
      "application/vnd.jupyter.widget-view+json": {
       "model_id": "1812b4a9910d43819fb1014a57a5d99b",
       "version_major": 2,
       "version_minor": 0
      },
      "text/plain": [
       "VBox(children=(Output(), RadioButtons(layout=Layout(width='max-content'), options=(('True', 0), ('False', 1)),…"
      ]
     },
     "metadata": {},
     "output_type": "display_data"
    }
   ],
   "source": [
    "L1P4Q1 = MultipleChoice('1. It is easy to compare metrics from one company to another.',['True','False'],'False')\n",
    "L1P4Q2 = MultipleChoice('2.Customer feedback is a good basis for industry standards.',['True','False'],'True')\n",
    "\n",
    "if __name__ == \"__main__\":\n",
    "    display(L1P4Q1, L1P4Q2)"
   ]
  },
  {
   "cell_type": "markdown",
   "id": "f472a7a8-4f65-4b0d-b5ac-254923dafba0",
   "metadata": {},
   "source": [
    "## Page 5"
   ]
  },
  {
   "cell_type": "code",
   "execution_count": 42,
   "id": "97e630df-d5ab-4923-bd06-bdf386a95826",
   "metadata": {},
   "outputs": [
    {
     "data": {
      "application/vnd.jupyter.widget-view+json": {
       "model_id": "d49ec7227d024e138c7a970ecb28c1ae",
       "version_major": 2,
       "version_minor": 0
      },
      "text/plain": [
       "VBox(children=(Output(), RadioButtons(layout=Layout(width='max-content'), options=(('Customer input', 0), ('Pr…"
      ]
     },
     "metadata": {},
     "output_type": "display_data"
    }
   ],
   "source": [
    "L1P5Q1 = MultipleChoice('1. Which of the following is NOT something that influences metrics you develop:',['Customer input','Problems to solve', 'Business objectives', 'Competitor input'],'Competitor input')\n",
    "\n",
    "if __name__ == \"__main__\":\n",
    "    display(L1P5Q1)"
   ]
  },
  {
   "cell_type": "markdown",
   "id": "df8e1814-d22a-4401-be1f-f87abdb9b8d0",
   "metadata": {},
   "source": [
    "## Page 6"
   ]
  },
  {
   "cell_type": "code",
   "execution_count": 43,
   "id": "7d9c4c5a-fa96-4919-9922-d59f68d91b26",
   "metadata": {},
   "outputs": [
    {
     "data": {
      "application/vnd.jupyter.widget-view+json": {
       "model_id": "00329d130855418ea3f524fd3dbf5fcb",
       "version_major": 2,
       "version_minor": 0
      },
      "text/plain": [
       "VBox(children=(Output(), RadioButtons(layout=Layout(width='max-content'), options=(('Yes', 0), ('No', 1)), val…"
      ]
     },
     "metadata": {},
     "output_type": "display_data"
    },
    {
     "data": {
      "application/vnd.jupyter.widget-view+json": {
       "model_id": "08dfdf79fb9d42c59a56b50a7b935283",
       "version_major": 2,
       "version_minor": 0
      },
      "text/plain": [
       "VBox(children=(Output(), RadioButtons(layout=Layout(width='max-content'), options=(('Yes', 0), ('No', 1)), val…"
      ]
     },
     "metadata": {},
     "output_type": "display_data"
    },
    {
     "data": {
      "application/vnd.jupyter.widget-view+json": {
       "model_id": "daa6acad040943558a6530c331ba8f8d",
       "version_major": 2,
       "version_minor": 0
      },
      "text/plain": [
       "VBox(children=(Output(), RadioButtons(layout=Layout(width='max-content'), options=(('Yes', 0), ('No', 1)), val…"
      ]
     },
     "metadata": {},
     "output_type": "display_data"
    }
   ],
   "source": [
    "L1P6Q1 = MultipleChoice('1.Is the below metric \"SMART?\" \"Improve sales by gaining three additional customers who are willing to buy at least $100,000 of merchandise in the next three months.\"',['Yes','No'],'Yes')\n",
    "L1P6Q2 = MultipleChoice('2.Is the below metric \"SMART?\" \"Increase customer loyalty.\"',['Yes','No'],'No')\n",
    "L1P6Q3 = MultipleChoice('3.Is the below metric \"SMART?\" \"Increase customer loyalty in the next six months, as measured by the number of customers who purchase additional merchandise from the company, by providing coupons with every order.\"', ['Yes', 'No'], 'Yes')\n",
    "\n",
    "if __name__ == \"__main__\":\n",
    "    display(L1P6Q1, L1P6Q2, L1P6Q3)"
   ]
  },
  {
   "cell_type": "markdown",
   "id": "d5eeb4cb-fef8-4560-bb1f-d81943bb600c",
   "metadata": {},
   "source": [
    "## Page 7"
   ]
  },
  {
   "cell_type": "code",
   "execution_count": 44,
   "id": "ff06cd5a-fd5c-45a3-80d4-2eaea19f6e30",
   "metadata": {},
   "outputs": [
    {
     "data": {
      "application/vnd.jupyter.widget-view+json": {
       "model_id": "420aa95d5e3344aeafbf7c336fe3b834",
       "version_major": 2,
       "version_minor": 0
      },
      "text/plain": [
       "VBox(children=(Output(), RadioButtons(layout=Layout(width='max-content'), options=(('True', 0), ('False', 1)),…"
      ]
     },
     "metadata": {},
     "output_type": "display_data"
    },
    {
     "data": {
      "application/vnd.jupyter.widget-view+json": {
       "model_id": "0a6e6c459d224c5899e433a69a56beda",
       "version_major": 2,
       "version_minor": 0
      },
      "text/plain": [
       "VBox(children=(Output(), RadioButtons(layout=Layout(width='max-content'), options=(('True', 0), ('False', 1)),…"
      ]
     },
     "metadata": {},
     "output_type": "display_data"
    }
   ],
   "source": [
    "L1P7Q1 = MultipleChoice('1. The performance life cycle is round because you should always be undergoing improvement.',['True','False'],'True')\n",
    "L1P7Q2 = MultipleChoice('2.It is not important to align goals from executive level all the way down to the individual.',['True','False'],'False')\n",
    "\n",
    "if __name__ == \"__main__\":\n",
    "    display(L1P7Q1, L1P7Q2)"
   ]
  },
  {
   "cell_type": "markdown",
   "id": "e5a66d34-2178-4239-b95c-a9d27747208e",
   "metadata": {},
   "source": [
    "## Page 8"
   ]
  },
  {
   "cell_type": "code",
   "execution_count": 45,
   "id": "ccde2293-c195-4baa-9e9a-0ba4323958b3",
   "metadata": {},
   "outputs": [
    {
     "data": {
      "application/vnd.jupyter.widget-view+json": {
       "model_id": "6b0f7010561b4d979b00d1ab7325e85d",
       "version_major": 2,
       "version_minor": 0
      },
      "text/plain": [
       "VBox(children=(Output(), RadioButtons(layout=Layout(width='max-content'), options=(('True', 0), ('False', 1)),…"
      ]
     },
     "metadata": {},
     "output_type": "display_data"
    }
   ],
   "source": [
    "L1P8Q1 = MultipleChoice('1. Financial metrics are generally well-used and understood.',['True','False'],'True')\n",
    "\n",
    "if __name__ == \"__main__\":\n",
    "    display(L1P8Q1)"
   ]
  },
  {
   "cell_type": "markdown",
   "id": "064fc6c2-5f76-44be-9e94-eef9b9ccb1d3",
   "metadata": {
    "tags": []
   },
   "source": [
    "## Page 9"
   ]
  },
  {
   "cell_type": "code",
   "execution_count": 46,
   "id": "d73f1da1-fc4b-4381-af30-b5d179d322b0",
   "metadata": {},
   "outputs": [
    {
     "data": {
      "application/vnd.jupyter.widget-view+json": {
       "model_id": "724327ef87cf415dba9c8a01e94ba0b2",
       "version_major": 2,
       "version_minor": 0
      },
      "text/plain": [
       "VBox(children=(Output(), RadioButtons(layout=Layout(width='max-content'), options=(('Reliance on metrics to dr…"
      ]
     },
     "metadata": {},
     "output_type": "display_data"
    }
   ],
   "source": [
    "L1P9Q1 = MultipleChoice('1. Which of the following is NOT something to avoid in a workplace?',['Reliance on metrics to drive business decisions','Inflexibility', 'Insufficient vertial alignment', 'Insufficient horizontal alignment'],'Reliance on metrics to drive business decisions')\n",
    "\n",
    "if __name__ == \"__main__\":\n",
    "    display(L1P9Q1)"
   ]
  },
  {
   "cell_type": "markdown",
   "id": "5b99af4b-0bee-4961-b054-d126f0560905",
   "metadata": {},
   "source": [
    "### Lesson 2: Statistical Process Control"
   ]
  },
  {
   "cell_type": "markdown",
   "id": "2d7f8905-bbdb-47da-beca-80878dd6865c",
   "metadata": {},
   "source": [
    "## Page 2"
   ]
  },
  {
   "cell_type": "code",
   "execution_count": 48,
   "id": "8b96586d-3c2e-406d-a6b9-7f6c5aecd24f",
   "metadata": {},
   "outputs": [
    {
     "data": {
      "application/vnd.jupyter.widget-view+json": {
       "model_id": "b71453d37f394d818340ddbf3ff65fa2",
       "version_major": 2,
       "version_minor": 0
      },
      "text/plain": [
       "VBox(children=(Output(), RadioButtons(options=(('True', 0), ('False', 1)), value=0), Button(description='submi…"
      ]
     },
     "metadata": {},
     "output_type": "display_data"
    },
    {
     "data": {
      "application/vnd.jupyter.widget-view+json": {
       "model_id": "5c4def4465aa44b894b56f5dcaac3cc6",
       "version_major": 2,
       "version_minor": 0
      },
      "text/plain": [
       "VBox(children=(Output(), RadioButtons(options=(('Fishbone diagram', 0), ('Flow chart', 1), ('Control chart', 2…"
      ]
     },
     "metadata": {},
     "output_type": "display_data"
    }
   ],
   "source": [
    "L2P2Q1 = MC('1. A data scientist usually has a lot of responsibility for quality assurance for the company',['True','False'],'True',cor=\"\", incor=\"\")\n",
    "L2P2Q2 = MC('2. Which of the following is a good way to track occurrences of events over a given time period?',['Fishbone diagram','Flow chart', 'Control chart', 'Check sheet'],'Check sheet',cor=\"\", incor=\"\")\n",
    "\n",
    "if __name__ == \"__main__\":\n",
    "    display(L2P2Q1, L2P2Q2)"
   ]
  },
  {
   "cell_type": "markdown",
   "id": "24aef5b2-ff1e-4b07-8dc3-c31982076450",
   "metadata": {},
   "source": [
    "## Page 3\n"
   ]
  },
  {
   "cell_type": "code",
   "execution_count": 51,
   "id": "d5e5ad7e-6d80-4c57-9f34-07be0a9e6415",
   "metadata": {},
   "outputs": [
    {
     "data": {
      "application/vnd.jupyter.widget-view+json": {
       "model_id": "b34654f76b43466883d30bc14494d5a2",
       "version_major": 2,
       "version_minor": 0
      },
      "text/plain": [
       "VBox(children=(Output(), RadioButtons(options=(('Fishbone diagram', 0), ('Flow chart', 1), ('Control chart', 2…"
      ]
     },
     "metadata": {},
     "output_type": "display_data"
    },
    {
     "data": {
      "application/vnd.jupyter.widget-view+json": {
       "model_id": "54333b026c9740209d4b8f79c71cb60b",
       "version_major": 2,
       "version_minor": 0
      },
      "text/plain": [
       "VBox(children=(Output(), RadioButtons(options=(('Materials', 0), ('Machines', 1), ('Maintenance', 2), ('Method…"
      ]
     },
     "metadata": {},
     "output_type": "display_data"
    }
   ],
   "source": [
    "L2P3Q1 = MC('1. Which of the following is a good way to determine what might be causing problems in a process?',['Fishbone diagram','Flow chart', 'Control chart', 'Check sheet'],'Fishbone diagram',cor=\"\", incor=\"\")\n",
    "L2P3Q2 = MC(\"2. Which of the following M's is not a category for a fishbone diagram?\",['Materials','Machines', 'Maintenance', 'Methods'],'Maintenance',cor=\"\", incor=\"\")\n",
    "\n",
    "if __name__ == \"__main__\":\n",
    "    display(L2P3Q1, L2P3Q2)"
   ]
  },
  {
   "cell_type": "markdown",
   "id": "71f4531b-3c27-4124-84e7-df5a831c9d22",
   "metadata": {},
   "source": [
    "## Page 4"
   ]
  },
  {
   "cell_type": "code",
   "execution_count": 53,
   "id": "012649ea-eb3f-40a4-81b5-2e483984ab94",
   "metadata": {},
   "outputs": [
    {
     "data": {
      "application/vnd.jupyter.widget-view+json": {
       "model_id": "bb28e9c82b4b411994a7204aeba409de",
       "version_major": 2,
       "version_minor": 0
      },
      "text/plain": [
       "VBox(children=(Output(), RadioButtons(layout=Layout(width='max-content'), options=(('Fishbone diagram', 0), ('…"
      ]
     },
     "metadata": {},
     "output_type": "display_data"
    }
   ],
   "source": [
    "L2P4Q1 = MultipleChoice('1. Which of the following is a good way map the sequence of a process?',['Fishbone diagram','Flow chart', 'Control chart', 'Check sheet'], 'Flow chart')\n",
    "\n",
    "if __name__ == \"__main__\":\n",
    "    display(L2P4Q1)"
   ]
  },
  {
   "cell_type": "markdown",
   "id": "7b442659-9292-46ad-9a3e-b6f5450a6055",
   "metadata": {},
   "source": [
    "## Page 5"
   ]
  },
  {
   "cell_type": "code",
   "execution_count": 54,
   "id": "14858001-0689-4774-befa-465ed1cc5f90",
   "metadata": {},
   "outputs": [
    {
     "data": {
      "application/vnd.jupyter.widget-view+json": {
       "model_id": "0fdd9156bdcb4f88befdb4a18bb4c509",
       "version_major": 2,
       "version_minor": 0
      },
      "text/plain": [
       "VBox(children=(Output(), RadioButtons(layout=Layout(width='max-content'), options=(('Continual Process Adjustm…"
      ]
     },
     "metadata": {},
     "output_type": "display_data"
    },
    {
     "data": {
      "application/vnd.jupyter.widget-view+json": {
       "model_id": "f681986e4dcb46eba0775f022db39286",
       "version_major": 2,
       "version_minor": 0
      },
      "text/plain": [
       "VBox(children=(Output(), RadioButtons(layout=Layout(width='max-content'), options=(('The method of Continual P…"
      ]
     },
     "metadata": {},
     "output_type": "display_data"
    },
    {
     "data": {
      "application/vnd.jupyter.widget-view+json": {
       "model_id": "e219eacace554a5eacd2b335ee4fcac3",
       "version_major": 2,
       "version_minor": 0
      },
      "text/plain": [
       "VBox(children=(Output(), RadioButtons(layout=Layout(width='max-content'), options=(('The natural variation bec…"
      ]
     },
     "metadata": {},
     "output_type": "display_data"
    }
   ],
   "source": [
    "L2P5Q1 = MultipleChoice('1. The method of making an adjustment to the process after each individual iteration is known as',['Continual Process Adjustment','Continual Quality Adjustment', 'Continual Process Manipulation', 'Repeated Manufacturing Adjustment'],'Continual Process Adjustment')\n",
    "L2P5Q2 = MultipleChoice('2. The method of letting a process run to gain a better understanding of natural variation was first proposed by',['The method of Continual Process Adjustment','W. Edwards Deming', 'Socrates', 'Walter Shewhart'],'Walter Shewhart')\n",
    "L2P5Q3 = MultipleChoice('3.What is the typical result of a process where Continual Process Adjustment is used?',['The natural variation becomes evident','Engineers receive recognition for being involved in their process', 'Overall variation increases because of tampering' ,'There are no changes in the process'],'Overall variation increases because of tampering')\n",
    "\n",
    "if __name__ == \"__main__\":\n",
    "    display(L2P5Q1, L2P5Q2, L2P5Q3)"
   ]
  },
  {
   "cell_type": "markdown",
   "id": "899187c4-1fcb-4700-93fc-5d23adaa57fe",
   "metadata": {},
   "source": [
    "## Page 6 RESUME HEREEEEEE"
   ]
  },
  {
   "cell_type": "code",
   "execution_count": 39,
   "id": "66c72798-5c2c-41fc-86dc-e134ddff17ad",
   "metadata": {},
   "outputs": [
    {
     "data": {
      "application/vnd.jupyter.widget-view+json": {
       "model_id": "0cd4bc1d4be34c8f9d1c00935dbda507",
       "version_major": 2,
       "version_minor": 0
      },
      "text/plain": [
       "VBox(children=(Output(), RadioButtons(options=(('True', 0), ('False', 1)), value=0), Button(description='submi…"
      ]
     },
     "metadata": {},
     "output_type": "display_data"
    },
    {
     "data": {
      "application/vnd.jupyter.widget-view+json": {
       "model_id": "d8696f458eca4ad39a546473f9c1e745",
       "version_major": 2,
       "version_minor": 0
      },
      "text/plain": [
       "VBox(children=(Output(), RadioButtons(options=(('True', 0), ('False', 1)), value=0), Button(description='submi…"
      ]
     },
     "metadata": {},
     "output_type": "display_data"
    }
   ],
   "source": [
    "L2P6Q1 = MultipleChoice('1. The exercise of transforming a corporate mission statement to metrics is straightforward and universal.',['True','False'],'False')\n",
    "L2P6Q2 = MultipleChoice('1. The exercise of transforming a corporate mission statement to metrics is straightforward and universal.',['True','False'],'False')\n",
    "L2P6Q3 = MultipleChoice('1. The exercise of transforming a corporate mission statement to metrics is straightforward and universal.',['True','False'],'False')\n",
    "\n",
    "if __name__ == \"__main__\":\n",
    "    display(L1P2Q1, L1P2Q2)"
   ]
  },
  {
   "cell_type": "markdown",
   "id": "b72cb9c1-30fb-4d49-848b-5436d8857dd2",
   "metadata": {},
   "source": [
    "## Page 7"
   ]
  },
  {
   "cell_type": "code",
   "execution_count": 39,
   "id": "ed7d49dd-77b4-4caf-a44c-5dba4d8aa5bb",
   "metadata": {},
   "outputs": [
    {
     "data": {
      "application/vnd.jupyter.widget-view+json": {
       "model_id": "0cd4bc1d4be34c8f9d1c00935dbda507",
       "version_major": 2,
       "version_minor": 0
      },
      "text/plain": [
       "VBox(children=(Output(), RadioButtons(options=(('True', 0), ('False', 1)), value=0), Button(description='submi…"
      ]
     },
     "metadata": {},
     "output_type": "display_data"
    },
    {
     "data": {
      "application/vnd.jupyter.widget-view+json": {
       "model_id": "d8696f458eca4ad39a546473f9c1e745",
       "version_major": 2,
       "version_minor": 0
      },
      "text/plain": [
       "VBox(children=(Output(), RadioButtons(options=(('True', 0), ('False', 1)), value=0), Button(description='submi…"
      ]
     },
     "metadata": {},
     "output_type": "display_data"
    }
   ],
   "source": [
    "L2P5Q1 = MultipleChoice('1. The exercise of transforming a corporate mission statement to metrics is straightforward and universal.',['True','False'],'False')\n",
    "L2P5Q2 = MultipleChoice('1. The exercise of transforming a corporate mission statement to metrics is straightforward and universal.',['True','False'],'False')\n",
    "L2P5Q3 = MultipleChoice('1. The exercise of transforming a corporate mission statement to metrics is straightforward and universal.',['True','False'],'False')\n",
    "\n",
    "if __name__ == \"__main__\":\n",
    "    display(L1P2Q1, L1P2Q2)"
   ]
  },
  {
   "cell_type": "markdown",
   "id": "0586e841-049b-465a-9160-8a235c617cf0",
   "metadata": {},
   "source": [
    "## Page 8"
   ]
  },
  {
   "cell_type": "code",
   "execution_count": 39,
   "id": "fa0889e0-fb8a-4cfe-841a-f214e982531f",
   "metadata": {},
   "outputs": [
    {
     "data": {
      "application/vnd.jupyter.widget-view+json": {
       "model_id": "0cd4bc1d4be34c8f9d1c00935dbda507",
       "version_major": 2,
       "version_minor": 0
      },
      "text/plain": [
       "VBox(children=(Output(), RadioButtons(options=(('True', 0), ('False', 1)), value=0), Button(description='submi…"
      ]
     },
     "metadata": {},
     "output_type": "display_data"
    },
    {
     "data": {
      "application/vnd.jupyter.widget-view+json": {
       "model_id": "d8696f458eca4ad39a546473f9c1e745",
       "version_major": 2,
       "version_minor": 0
      },
      "text/plain": [
       "VBox(children=(Output(), RadioButtons(options=(('True', 0), ('False', 1)), value=0), Button(description='submi…"
      ]
     },
     "metadata": {},
     "output_type": "display_data"
    }
   ],
   "source": [
    "L2P5Q1 = MultipleChoice('1. The exercise of transforming a corporate mission statement to metrics is straightforward and universal.',['True','False'],'False')\n",
    "\n",
    "if __name__ == \"__main__\":\n",
    "    display(L1P2Q1, L1P2Q2)"
   ]
  },
  {
   "cell_type": "markdown",
   "id": "6fe8979b-d46e-4ed6-a196-96a218a86507",
   "metadata": {},
   "source": [
    "### Lesson 3: Process Capability"
   ]
  },
  {
   "cell_type": "markdown",
   "id": "6ee1f877-f1d2-4873-a81e-1701e1213178",
   "metadata": {},
   "source": [
    "## Page 2"
   ]
  },
  {
   "cell_type": "code",
   "execution_count": 39,
   "id": "6cc5b1a9-206c-4881-a721-f9b65ab5f5c0",
   "metadata": {},
   "outputs": [
    {
     "data": {
      "application/vnd.jupyter.widget-view+json": {
       "model_id": "0cd4bc1d4be34c8f9d1c00935dbda507",
       "version_major": 2,
       "version_minor": 0
      },
      "text/plain": [
       "VBox(children=(Output(), RadioButtons(options=(('True', 0), ('False', 1)), value=0), Button(description='submi…"
      ]
     },
     "metadata": {},
     "output_type": "display_data"
    },
    {
     "data": {
      "application/vnd.jupyter.widget-view+json": {
       "model_id": "d8696f458eca4ad39a546473f9c1e745",
       "version_major": 2,
       "version_minor": 0
      },
      "text/plain": [
       "VBox(children=(Output(), RadioButtons(options=(('True', 0), ('False', 1)), value=0), Button(description='submi…"
      ]
     },
     "metadata": {},
     "output_type": "display_data"
    }
   ],
   "source": [
    "L2P5Q1 = MultipleChoice('1. The exercise of transforming a corporate mission statement to metrics is straightforward and universal.',['True','False'],'False')\n",
    "\n",
    "if __name__ == \"__main__\":\n",
    "    display(L1P2Q1, L1P2Q2)"
   ]
  },
  {
   "cell_type": "markdown",
   "id": "62eacdb4-f1e4-47a3-9b76-d2483e16afa5",
   "metadata": {},
   "source": [
    "## Page 3"
   ]
  },
  {
   "cell_type": "code",
   "execution_count": 47,
   "id": "ef072663-1b53-4de4-afe2-44a83df6a4c5",
   "metadata": {},
   "outputs": [
    {
     "data": {
      "application/vnd.jupyter.widget-view+json": {
       "model_id": "59901771aef34590ad74b828cfaec0a4",
       "version_major": 2,
       "version_minor": 0
      },
      "text/plain": [
       "VBox(children=(Output(), RadioButtons(layout=Layout(width='max-content'), options=(('True', 0), ('False', 1)),…"
      ]
     },
     "metadata": {},
     "output_type": "display_data"
    },
    {
     "data": {
      "application/vnd.jupyter.widget-view+json": {
       "model_id": "e847801c1d6945d7a931d616cbeb73d5",
       "version_major": 2,
       "version_minor": 0
      },
      "text/plain": [
       "VBox(children=(Output(), RadioButtons(layout=Layout(width='max-content'), options=(('Know what procedures to f…"
      ]
     },
     "metadata": {},
     "output_type": "display_data"
    },
    {
     "data": {
      "application/vnd.jupyter.widget-view+json": {
       "model_id": "ec9a5e3bdc504cd3a2a0297962b566e0",
       "version_major": 2,
       "version_minor": 0
      },
      "text/plain": [
       "VBox(children=(Output(), RadioButtons(layout=Layout(width='max-content'), options=(('Safe computer storage are…"
      ]
     },
     "metadata": {},
     "output_type": "display_data"
    },
    {
     "data": {
      "application/vnd.jupyter.widget-view+json": {
       "model_id": "f45916f4fc8c4fd38a547daf38792ef4",
       "version_major": 2,
       "version_minor": 0
      },
      "text/plain": [
       "VBox(children=(Output(), RadioButtons(layout=Layout(width='max-content'), options=(('Power Circuits', 0), ('Fl…"
      ]
     },
     "metadata": {},
     "output_type": "display_data"
    },
    {
     "data": {
      "application/vnd.jupyter.widget-view+json": {
       "model_id": "46c489ce004345359556024909881eda",
       "version_major": 2,
       "version_minor": 0
      },
      "text/plain": [
       "VBox(children=(Output(), RadioButtons(layout=Layout(width='max-content'), options=(('Paper, apple, skip, and s…"
      ]
     },
     "metadata": {},
     "output_type": "display_data"
    },
    {
     "data": {
      "application/vnd.jupyter.widget-view+json": {
       "model_id": "949090f3170f4060962dc56509088b8e",
       "version_major": 2,
       "version_minor": 0
      },
      "text/plain": [
       "VBox(children=(Output(), RadioButtons(layout=Layout(width='max-content'), options=(('1', 0), ('6', 1), ('5', 2…"
      ]
     },
     "metadata": {},
     "output_type": "display_data"
    },
    {
     "data": {
      "application/vnd.jupyter.widget-view+json": {
       "model_id": "33f0e1cdcee94a7d8534a6080becf50d",
       "version_major": 2,
       "version_minor": 0
      },
      "text/plain": [
       "VBox(children=(Output(), RadioButtons(layout=Layout(width='max-content'), options=(('Class C', 0), ('Class K',…"
      ]
     },
     "metadata": {},
     "output_type": "display_data"
    },
    {
     "data": {
      "application/vnd.jupyter.widget-view+json": {
       "model_id": "56e160b31d5942638d49215e04760ece",
       "version_major": 2,
       "version_minor": 0
      },
      "text/plain": [
       "VBox(children=(Output(), RadioButtons(layout=Layout(width='max-content'), options=(('Campus Director', 0), ('D…"
      ]
     },
     "metadata": {},
     "output_type": "display_data"
    }
   ],
   "source": [
    "L6P1Q1 = MultipleChoice('1. WhichWorkplace safety is a high priority for every organization.',['True','False'],'True')\n",
    "L6P1Q2 = MultipleChoice('2. Why is your awareness of a fire safety plan is important?',['Know what procedures to follow in case of an emergency','Equips and prepares you for such emergencies', \"Shows the workplaces's commitment to your safety\", 'All of the above'] , 'All of the above')\n",
    "L6P1Q3 = MultipleChoice('3. How do you prevent a computer fire?',['Safe computer storage area','Check power cords', 'Know workplace fire emergency plan', 'All of the above'],'All of the above')\n",
    "L6P1Q4 = MultipleChoice('4. A workplace fire hazard where dust build-up on common areas such as such computers, microwaves and cords?',['Power Circuits','Flammable Liquids', 'Dust Build-up', 'Combustible Materials'],'Dust Build-up')\n",
    "L6P1Q5 = MultipleChoice('5. What is the PASS method?',['Paper, apple, skip, and swim','Pass, aim, squeeze, and sweep', 'Pin, add, sink, and summe', 'Peel, air, sun, and soap'],'Pass, aim, squeeze, and sweep')\n",
    "L6P1Q6 = MultipleChoice('6. How many classes of fire extinguishers are there?',['1', '6', '5', '20'],'5')\n",
    "\n",
    "if __name__ == \"__main__\":\n",
    "    display(L6P1Q1, L6P1Q2, L6P1Q3, L6P1Q4, L6P1Q5, L6P1Q6, L6P1Q7, L6P1Q8)"
   ]
  },
  {
   "cell_type": "markdown",
   "id": "0b9f05a7-2313-4d1a-8718-069885126737",
   "metadata": {},
   "source": [
    "## Page 4"
   ]
  },
  {
   "cell_type": "code",
   "execution_count": 47,
   "id": "ed07f714-5aef-40f5-a736-16f1510062a3",
   "metadata": {},
   "outputs": [
    {
     "data": {
      "application/vnd.jupyter.widget-view+json": {
       "model_id": "59901771aef34590ad74b828cfaec0a4",
       "version_major": 2,
       "version_minor": 0
      },
      "text/plain": [
       "VBox(children=(Output(), RadioButtons(layout=Layout(width='max-content'), options=(('True', 0), ('False', 1)),…"
      ]
     },
     "metadata": {},
     "output_type": "display_data"
    },
    {
     "data": {
      "application/vnd.jupyter.widget-view+json": {
       "model_id": "e847801c1d6945d7a931d616cbeb73d5",
       "version_major": 2,
       "version_minor": 0
      },
      "text/plain": [
       "VBox(children=(Output(), RadioButtons(layout=Layout(width='max-content'), options=(('Know what procedures to f…"
      ]
     },
     "metadata": {},
     "output_type": "display_data"
    },
    {
     "data": {
      "application/vnd.jupyter.widget-view+json": {
       "model_id": "ec9a5e3bdc504cd3a2a0297962b566e0",
       "version_major": 2,
       "version_minor": 0
      },
      "text/plain": [
       "VBox(children=(Output(), RadioButtons(layout=Layout(width='max-content'), options=(('Safe computer storage are…"
      ]
     },
     "metadata": {},
     "output_type": "display_data"
    },
    {
     "data": {
      "application/vnd.jupyter.widget-view+json": {
       "model_id": "f45916f4fc8c4fd38a547daf38792ef4",
       "version_major": 2,
       "version_minor": 0
      },
      "text/plain": [
       "VBox(children=(Output(), RadioButtons(layout=Layout(width='max-content'), options=(('Power Circuits', 0), ('Fl…"
      ]
     },
     "metadata": {},
     "output_type": "display_data"
    },
    {
     "data": {
      "application/vnd.jupyter.widget-view+json": {
       "model_id": "46c489ce004345359556024909881eda",
       "version_major": 2,
       "version_minor": 0
      },
      "text/plain": [
       "VBox(children=(Output(), RadioButtons(layout=Layout(width='max-content'), options=(('Paper, apple, skip, and s…"
      ]
     },
     "metadata": {},
     "output_type": "display_data"
    },
    {
     "data": {
      "application/vnd.jupyter.widget-view+json": {
       "model_id": "949090f3170f4060962dc56509088b8e",
       "version_major": 2,
       "version_minor": 0
      },
      "text/plain": [
       "VBox(children=(Output(), RadioButtons(layout=Layout(width='max-content'), options=(('1', 0), ('6', 1), ('5', 2…"
      ]
     },
     "metadata": {},
     "output_type": "display_data"
    },
    {
     "data": {
      "application/vnd.jupyter.widget-view+json": {
       "model_id": "33f0e1cdcee94a7d8534a6080becf50d",
       "version_major": 2,
       "version_minor": 0
      },
      "text/plain": [
       "VBox(children=(Output(), RadioButtons(layout=Layout(width='max-content'), options=(('Class C', 0), ('Class K',…"
      ]
     },
     "metadata": {},
     "output_type": "display_data"
    },
    {
     "data": {
      "application/vnd.jupyter.widget-view+json": {
       "model_id": "56e160b31d5942638d49215e04760ece",
       "version_major": 2,
       "version_minor": 0
      },
      "text/plain": [
       "VBox(children=(Output(), RadioButtons(layout=Layout(width='max-content'), options=(('Campus Director', 0), ('D…"
      ]
     },
     "metadata": {},
     "output_type": "display_data"
    }
   ],
   "source": [
    "L6P1Q1 = MultipleChoice('1. WhichWorkplace safety is a high priority for every organization.',['True','False'],'True')\n",
    "\n",
    "if __name__ == \"__main__\":\n",
    "    display(L6P1Q1, L6P1Q2, L6P1Q3, L6P1Q4, L6P1Q5, L6P1Q6, L6P1Q7, L6P1Q8)"
   ]
  },
  {
   "cell_type": "markdown",
   "id": "9a371885-2dad-4340-b16a-b12c7b3ba79f",
   "metadata": {},
   "source": [
    "## Page 5"
   ]
  },
  {
   "cell_type": "code",
   "execution_count": 47,
   "id": "a151df8f-4fc2-401f-b3c4-5a2eccca2259",
   "metadata": {},
   "outputs": [
    {
     "data": {
      "application/vnd.jupyter.widget-view+json": {
       "model_id": "59901771aef34590ad74b828cfaec0a4",
       "version_major": 2,
       "version_minor": 0
      },
      "text/plain": [
       "VBox(children=(Output(), RadioButtons(layout=Layout(width='max-content'), options=(('True', 0), ('False', 1)),…"
      ]
     },
     "metadata": {},
     "output_type": "display_data"
    },
    {
     "data": {
      "application/vnd.jupyter.widget-view+json": {
       "model_id": "e847801c1d6945d7a931d616cbeb73d5",
       "version_major": 2,
       "version_minor": 0
      },
      "text/plain": [
       "VBox(children=(Output(), RadioButtons(layout=Layout(width='max-content'), options=(('Know what procedures to f…"
      ]
     },
     "metadata": {},
     "output_type": "display_data"
    },
    {
     "data": {
      "application/vnd.jupyter.widget-view+json": {
       "model_id": "ec9a5e3bdc504cd3a2a0297962b566e0",
       "version_major": 2,
       "version_minor": 0
      },
      "text/plain": [
       "VBox(children=(Output(), RadioButtons(layout=Layout(width='max-content'), options=(('Safe computer storage are…"
      ]
     },
     "metadata": {},
     "output_type": "display_data"
    },
    {
     "data": {
      "application/vnd.jupyter.widget-view+json": {
       "model_id": "f45916f4fc8c4fd38a547daf38792ef4",
       "version_major": 2,
       "version_minor": 0
      },
      "text/plain": [
       "VBox(children=(Output(), RadioButtons(layout=Layout(width='max-content'), options=(('Power Circuits', 0), ('Fl…"
      ]
     },
     "metadata": {},
     "output_type": "display_data"
    },
    {
     "data": {
      "application/vnd.jupyter.widget-view+json": {
       "model_id": "46c489ce004345359556024909881eda",
       "version_major": 2,
       "version_minor": 0
      },
      "text/plain": [
       "VBox(children=(Output(), RadioButtons(layout=Layout(width='max-content'), options=(('Paper, apple, skip, and s…"
      ]
     },
     "metadata": {},
     "output_type": "display_data"
    },
    {
     "data": {
      "application/vnd.jupyter.widget-view+json": {
       "model_id": "949090f3170f4060962dc56509088b8e",
       "version_major": 2,
       "version_minor": 0
      },
      "text/plain": [
       "VBox(children=(Output(), RadioButtons(layout=Layout(width='max-content'), options=(('1', 0), ('6', 1), ('5', 2…"
      ]
     },
     "metadata": {},
     "output_type": "display_data"
    },
    {
     "data": {
      "application/vnd.jupyter.widget-view+json": {
       "model_id": "33f0e1cdcee94a7d8534a6080becf50d",
       "version_major": 2,
       "version_minor": 0
      },
      "text/plain": [
       "VBox(children=(Output(), RadioButtons(layout=Layout(width='max-content'), options=(('Class C', 0), ('Class K',…"
      ]
     },
     "metadata": {},
     "output_type": "display_data"
    },
    {
     "data": {
      "application/vnd.jupyter.widget-view+json": {
       "model_id": "56e160b31d5942638d49215e04760ece",
       "version_major": 2,
       "version_minor": 0
      },
      "text/plain": [
       "VBox(children=(Output(), RadioButtons(layout=Layout(width='max-content'), options=(('Campus Director', 0), ('D…"
      ]
     },
     "metadata": {},
     "output_type": "display_data"
    }
   ],
   "source": [
    "L6P1Q1 = MultipleChoice('1. WhichWorkplace safety is a high priority for every organization.',['True','False'],'True')\n",
    "\n",
    "if __name__ == \"__main__\":\n",
    "    display(L6P1Q1, L6P1Q2, L6P1Q3, L6P1Q4, L6P1Q5, L6P1Q6, L6P1Q7, L6P1Q8)"
   ]
  },
  {
   "cell_type": "markdown",
   "id": "c08fcc59-ccba-4c62-84fa-0fd0a1070721",
   "metadata": {},
   "source": [
    "## Page 6"
   ]
  },
  {
   "cell_type": "code",
   "execution_count": 47,
   "id": "0b7fb201-bfcd-49fa-a66c-4b7710d7fee2",
   "metadata": {},
   "outputs": [
    {
     "data": {
      "application/vnd.jupyter.widget-view+json": {
       "model_id": "59901771aef34590ad74b828cfaec0a4",
       "version_major": 2,
       "version_minor": 0
      },
      "text/plain": [
       "VBox(children=(Output(), RadioButtons(layout=Layout(width='max-content'), options=(('True', 0), ('False', 1)),…"
      ]
     },
     "metadata": {},
     "output_type": "display_data"
    },
    {
     "data": {
      "application/vnd.jupyter.widget-view+json": {
       "model_id": "e847801c1d6945d7a931d616cbeb73d5",
       "version_major": 2,
       "version_minor": 0
      },
      "text/plain": [
       "VBox(children=(Output(), RadioButtons(layout=Layout(width='max-content'), options=(('Know what procedures to f…"
      ]
     },
     "metadata": {},
     "output_type": "display_data"
    },
    {
     "data": {
      "application/vnd.jupyter.widget-view+json": {
       "model_id": "ec9a5e3bdc504cd3a2a0297962b566e0",
       "version_major": 2,
       "version_minor": 0
      },
      "text/plain": [
       "VBox(children=(Output(), RadioButtons(layout=Layout(width='max-content'), options=(('Safe computer storage are…"
      ]
     },
     "metadata": {},
     "output_type": "display_data"
    },
    {
     "data": {
      "application/vnd.jupyter.widget-view+json": {
       "model_id": "f45916f4fc8c4fd38a547daf38792ef4",
       "version_major": 2,
       "version_minor": 0
      },
      "text/plain": [
       "VBox(children=(Output(), RadioButtons(layout=Layout(width='max-content'), options=(('Power Circuits', 0), ('Fl…"
      ]
     },
     "metadata": {},
     "output_type": "display_data"
    },
    {
     "data": {
      "application/vnd.jupyter.widget-view+json": {
       "model_id": "46c489ce004345359556024909881eda",
       "version_major": 2,
       "version_minor": 0
      },
      "text/plain": [
       "VBox(children=(Output(), RadioButtons(layout=Layout(width='max-content'), options=(('Paper, apple, skip, and s…"
      ]
     },
     "metadata": {},
     "output_type": "display_data"
    },
    {
     "data": {
      "application/vnd.jupyter.widget-view+json": {
       "model_id": "949090f3170f4060962dc56509088b8e",
       "version_major": 2,
       "version_minor": 0
      },
      "text/plain": [
       "VBox(children=(Output(), RadioButtons(layout=Layout(width='max-content'), options=(('1', 0), ('6', 1), ('5', 2…"
      ]
     },
     "metadata": {},
     "output_type": "display_data"
    },
    {
     "data": {
      "application/vnd.jupyter.widget-view+json": {
       "model_id": "33f0e1cdcee94a7d8534a6080becf50d",
       "version_major": 2,
       "version_minor": 0
      },
      "text/plain": [
       "VBox(children=(Output(), RadioButtons(layout=Layout(width='max-content'), options=(('Class C', 0), ('Class K',…"
      ]
     },
     "metadata": {},
     "output_type": "display_data"
    },
    {
     "data": {
      "application/vnd.jupyter.widget-view+json": {
       "model_id": "56e160b31d5942638d49215e04760ece",
       "version_major": 2,
       "version_minor": 0
      },
      "text/plain": [
       "VBox(children=(Output(), RadioButtons(layout=Layout(width='max-content'), options=(('Campus Director', 0), ('D…"
      ]
     },
     "metadata": {},
     "output_type": "display_data"
    }
   ],
   "source": [
    "L6P1Q1 = MultipleChoice('1. WhichWorkplace safety is a high priority for every organization.',['True','False'],'True')\n",
    "L6P1Q2 = MultipleChoice('2. Why is your awareness of a fire safety plan is important?',['Know what procedures to follow in case of an emergency','Equips and prepares you for such emergencies', \"Shows the workplaces's commitment to your safety\", 'All of the above'] , 'All of the above')\n",
    "L6P1Q3 = MultipleChoice('3. How do you prevent a computer fire?',['Safe computer storage area','Check power cords', 'Know workplace fire emergency plan', 'All of the above'],'All of the above')\n",
    "\n",
    "if __name__ == \"__main__\":\n",
    "    display(L6P1Q1, L6P1Q2, L6P1Q3, L6P1Q4, L6P1Q5, L6P1Q6, L6P1Q7, L6P1Q8)"
   ]
  },
  {
   "cell_type": "markdown",
   "id": "7dd51d78-e329-4cfd-bb82-fbaf51b4f70b",
   "metadata": {},
   "source": [
    "### Lesson 4: Survey Design"
   ]
  },
  {
   "cell_type": "markdown",
   "id": "c054862a-7e2c-470d-a8bb-670727e701eb",
   "metadata": {},
   "source": [
    "### Lesson 5: Reliability and Validity"
   ]
  },
  {
   "cell_type": "markdown",
   "id": "bf0333b6-8e09-4c75-8f9d-6ccf09df57bc",
   "metadata": {},
   "source": [
    "### Lesson 6: Workplace Health and Fire Safety"
   ]
  },
  {
   "cell_type": "code",
   "execution_count": 47,
   "id": "fdae5745-5039-4138-b0ac-983aea442ee0",
   "metadata": {},
   "outputs": [
    {
     "data": {
      "application/vnd.jupyter.widget-view+json": {
       "model_id": "59901771aef34590ad74b828cfaec0a4",
       "version_major": 2,
       "version_minor": 0
      },
      "text/plain": [
       "VBox(children=(Output(), RadioButtons(layout=Layout(width='max-content'), options=(('True', 0), ('False', 1)),…"
      ]
     },
     "metadata": {},
     "output_type": "display_data"
    },
    {
     "data": {
      "application/vnd.jupyter.widget-view+json": {
       "model_id": "e847801c1d6945d7a931d616cbeb73d5",
       "version_major": 2,
       "version_minor": 0
      },
      "text/plain": [
       "VBox(children=(Output(), RadioButtons(layout=Layout(width='max-content'), options=(('Know what procedures to f…"
      ]
     },
     "metadata": {},
     "output_type": "display_data"
    },
    {
     "data": {
      "application/vnd.jupyter.widget-view+json": {
       "model_id": "ec9a5e3bdc504cd3a2a0297962b566e0",
       "version_major": 2,
       "version_minor": 0
      },
      "text/plain": [
       "VBox(children=(Output(), RadioButtons(layout=Layout(width='max-content'), options=(('Safe computer storage are…"
      ]
     },
     "metadata": {},
     "output_type": "display_data"
    },
    {
     "data": {
      "application/vnd.jupyter.widget-view+json": {
       "model_id": "f45916f4fc8c4fd38a547daf38792ef4",
       "version_major": 2,
       "version_minor": 0
      },
      "text/plain": [
       "VBox(children=(Output(), RadioButtons(layout=Layout(width='max-content'), options=(('Power Circuits', 0), ('Fl…"
      ]
     },
     "metadata": {},
     "output_type": "display_data"
    },
    {
     "data": {
      "application/vnd.jupyter.widget-view+json": {
       "model_id": "46c489ce004345359556024909881eda",
       "version_major": 2,
       "version_minor": 0
      },
      "text/plain": [
       "VBox(children=(Output(), RadioButtons(layout=Layout(width='max-content'), options=(('Paper, apple, skip, and s…"
      ]
     },
     "metadata": {},
     "output_type": "display_data"
    },
    {
     "data": {
      "application/vnd.jupyter.widget-view+json": {
       "model_id": "949090f3170f4060962dc56509088b8e",
       "version_major": 2,
       "version_minor": 0
      },
      "text/plain": [
       "VBox(children=(Output(), RadioButtons(layout=Layout(width='max-content'), options=(('1', 0), ('6', 1), ('5', 2…"
      ]
     },
     "metadata": {},
     "output_type": "display_data"
    },
    {
     "data": {
      "application/vnd.jupyter.widget-view+json": {
       "model_id": "33f0e1cdcee94a7d8534a6080becf50d",
       "version_major": 2,
       "version_minor": 0
      },
      "text/plain": [
       "VBox(children=(Output(), RadioButtons(layout=Layout(width='max-content'), options=(('Class C', 0), ('Class K',…"
      ]
     },
     "metadata": {},
     "output_type": "display_data"
    },
    {
     "data": {
      "application/vnd.jupyter.widget-view+json": {
       "model_id": "56e160b31d5942638d49215e04760ece",
       "version_major": 2,
       "version_minor": 0
      },
      "text/plain": [
       "VBox(children=(Output(), RadioButtons(layout=Layout(width='max-content'), options=(('Campus Director', 0), ('D…"
      ]
     },
     "metadata": {},
     "output_type": "display_data"
    }
   ],
   "source": [
    "L6P1Q1 = MultipleChoice('1. WhichWorkplace safety is a high priority for every organization.',['True','False'],'True')\n",
    "L6P1Q2 = MultipleChoice('2. Why is your awareness of a fire safety plan is important?',['Know what procedures to follow in case of an emergency','Equips and prepares you for such emergencies', \"Shows the workplaces's commitment to your safety\", 'All of the above'] , 'All of the above')\n",
    "L6P1Q3 = MultipleChoice('3. How do you prevent a computer fire?',['Safe computer storage area','Check power cords', 'Know workplace fire emergency plan', 'All of the above'],'All of the above')\n",
    "L6P1Q4 = MultipleChoice('4. A workplace fire hazard where dust build-up on common areas such as such computers, microwaves and cords?',['Power Circuits','Flammable Liquids', 'Dust Build-up', 'Combustible Materials'],'Dust Build-up')\n",
    "L6P1Q5 = MultipleChoice('5. What is the PASS method?',['Paper, apple, skip, and swim','Pass, aim, squeeze, and sweep', 'Pin, add, sink, and summe', 'Peel, air, sun, and soap'],'Pass, aim, squeeze, and sweep')\n",
    "L6P1Q6 = MultipleChoice('6. How many classes of fire extinguishers are there?',['1', '6', '5', '20'],'5')\n",
    "L6P1Q7 = MultipleChoice('7. Which of the following fire extinguishers are used to put out electrical fires such as for computers and appliances?',['Class C', 'Class K', \"Class A\", 'Class B'],'Class C')\n",
    "L6P1Q8 = MultipleChoice('8. Who on your campus should you talk to if you have more questions about fire and safety?', ['Campus Director', 'Director of Education', 'Instructor', 'Admissions Representative', 'All of the above'], 'All of the above')\n",
    "\n",
    "if __name__ == \"__main__\":\n",
    "    display(L6P1Q1, L6P1Q2, L6P1Q3, L6P1Q4, L6P1Q5, L6P1Q6, L6P1Q7, L6P1Q8)"
   ]
  },
  {
   "cell_type": "markdown",
   "id": "4429f948-9944-499e-b5b1-62a596dfcb69",
   "metadata": {},
   "source": [
    "### Part 2: Agile Project Management\n",
    "\n",
    "### Lesson 1: Introduction to Agile Project Management"
   ]
  },
  {
   "cell_type": "markdown",
   "id": "60217fc4-6667-4978-8168-e08dabfdf6b7",
   "metadata": {},
   "source": [
    "### Lesson 2: Goals of Project Management and Agile"
   ]
  },
  {
   "cell_type": "markdown",
   "id": "be872e36-3c0a-49d9-bb3d-630db4894dbf",
   "metadata": {},
   "source": [
    "### Lesson 3: Scrum"
   ]
  },
  {
   "cell_type": "markdown",
   "id": "38c6ad86-6a74-42ae-83ed-0faa9ab20894",
   "metadata": {},
   "source": [
    "### Lesson 4: Kanban"
   ]
  },
  {
   "cell_type": "markdown",
   "id": "2a8d279a-850d-47e6-897a-1f2f5623eccb",
   "metadata": {},
   "source": [
    "### Lesson 5: Project Planning"
   ]
  },
  {
   "cell_type": "markdown",
   "id": "dc421ee8-d611-4ccf-a33b-61bcccbc31b8",
   "metadata": {},
   "source": [
    "Lesson 6 repeats, see \"Workplace Health and Fire Safety\" above"
   ]
  }
 ],
 "metadata": {
  "kernelspec": {
   "display_name": "Python 3 (ipykernel)",
   "language": "python",
   "name": "python3"
  },
  "language_info": {
   "codemirror_mode": {
    "name": "ipython",
    "version": 3
   },
   "file_extension": ".py",
   "mimetype": "text/x-python",
   "name": "python",
   "nbconvert_exporter": "python",
   "pygments_lexer": "ipython3",
   "version": "3.9.7"
  }
 },
 "nbformat": 4,
 "nbformat_minor": 5
}
