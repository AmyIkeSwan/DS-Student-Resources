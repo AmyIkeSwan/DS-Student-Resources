{
 "cells": [
  {
   "cell_type": "code",
   "execution_count": null,
   "id": "76280df5-a253-4d2c-a083-93e668248f98",
   "metadata": {},
   "outputs": [],
   "source": [
    "Upper Control Limit = Mean + (3* SD) Lower Control Limit = Mean - (3 * SD) Control Width = UCL - LCL\n",
    "Spec Width = USL - LSL\n",
    "Cp = Spec Width / Control Width Cpu = USL - UCL / (3*SD)\n",
    "Cpl = LSL - LCL / (3*SD)\n",
    "Cpk = Cpu\n",
    "The process is not capable"
   ]
  }
 ],
 "metadata": {
  "kernelspec": {
   "display_name": "R",
   "language": "R",
   "name": "ir"
  },
  "language_info": {
   "codemirror_mode": "r",
   "file_extension": ".r",
   "mimetype": "text/x-r-source",
   "name": "R",
   "pygments_lexer": "r",
   "version": "4.1.1"
  }
 },
 "nbformat": 4,
 "nbformat_minor": 5
}
