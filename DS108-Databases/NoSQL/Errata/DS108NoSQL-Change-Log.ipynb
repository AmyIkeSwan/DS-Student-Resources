{
 "cells": [
  {
   "cell_type": "markdown",
   "id": "dc8bc06c-333f-4dc9-9e0f-9749dbbf078c",
   "metadata": {},
   "source": [
    "# Change Log\n",
    "\n",
    "1.  DS108NoSQLL1P1, Issue to be changed, Jira ticket #"
   ]
  },
  {
   "cell_type": "markdown",
   "id": "6e362dbd-e88a-42ad-8f28-0ab8179254ef",
   "metadata": {},
   "source": [
    "DS108-NOSQL-L4P8, Made handson more consistent, [Jira Ticket](https://woz-u-projects.atlassian.net/browse/CUR-1912)"
   ]
  },
  {
   "cell_type": "code",
   "execution_count": null,
   "id": "d7f5f485-8048-46f8-845a-7da1c3dcfccb",
   "metadata": {},
   "outputs": [],
   "source": []
  }
 ],
 "metadata": {
  "kernelspec": {
   "display_name": "Python 3 (ipykernel)",
   "language": "python",
   "name": "python3"
  },
  "language_info": {
   "codemirror_mode": {
    "name": "ipython",
    "version": 3
   },
   "file_extension": ".py",
   "mimetype": "text/x-python",
   "name": "python",
   "nbconvert_exporter": "python",
   "pygments_lexer": "ipython3",
   "version": "3.9.7"
  }
 },
 "nbformat": 4,
 "nbformat_minor": 5
}
