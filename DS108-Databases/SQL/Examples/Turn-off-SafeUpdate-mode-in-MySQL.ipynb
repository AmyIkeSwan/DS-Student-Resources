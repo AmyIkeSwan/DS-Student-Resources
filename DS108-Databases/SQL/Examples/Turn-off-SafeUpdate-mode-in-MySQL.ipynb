{
 "cells": [
  {
   "cell_type": "markdown",
   "id": "085e7046-411e-4ef7-bc1c-5e88de8a431d",
   "metadata": {},
   "source": [
    "# Turn off SafeUpdate mode in MySQL"
   ]
  },
  {
   "cell_type": "code",
   "execution_count": 1,
   "id": "1c81da37-3618-4316-adaf-0b2e8c3eb729",
   "metadata": {},
   "outputs": [
    {
     "data": {
      "text/html": [
       "\n",
       "        <iframe\n",
       "            width=\"720\"\n",
       "            height=\"480\"\n",
       "            src=\"https://player.vimeo.com/video/640159485\"\n",
       "            frameborder=\"0\"\n",
       "            allowfullscreen\n",
       "            \n",
       "        ></iframe>\n",
       "        "
      ],
      "text/plain": [
       "<IPython.lib.display.VimeoVideo at 0x103073c10>"
      ]
     },
     "execution_count": 1,
     "metadata": {},
     "output_type": "execute_result"
    }
   ],
   "source": [
    "from IPython.display import VimeoVideo\n",
    "# Tutorial Video Name: NLP\n",
    "VimeoVideo('640159485', width=720, height=480)"
   ]
  },
  {
   "cell_type": "markdown",
   "id": "c85a2451-f8b3-4058-855b-ae7c4d48c1f9",
   "metadata": {},
   "source": [
    "https://vimeo.com/640159485"
   ]
  },
  {
   "cell_type": "code",
   "execution_count": null,
   "id": "1ce3093b-c995-4bff-8008-5caa3fc1ab14",
   "metadata": {},
   "outputs": [],
   "source": []
  }
 ],
 "metadata": {
  "kernelspec": {
   "display_name": "Python 3 (ipykernel)",
   "language": "python",
   "name": "python3"
  },
  "language_info": {
   "codemirror_mode": {
    "name": "ipython",
    "version": 3
   },
   "file_extension": ".py",
   "mimetype": "text/x-python",
   "name": "python",
   "nbconvert_exporter": "python",
   "pygments_lexer": "ipython3",
   "version": "3.9.7"
  }
 },
 "nbformat": 4,
 "nbformat_minor": 5
}
