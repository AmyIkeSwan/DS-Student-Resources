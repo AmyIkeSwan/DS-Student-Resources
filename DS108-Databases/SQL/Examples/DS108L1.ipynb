{
 "cells": [
  {
   "cell_type": "markdown",
   "source": [
    "# SQL Lesson 1 Examples - Getting started with SQL\n",
    "\n",
    "## Overview\n",
    "\n",
    "### SQL Data Types\n",
    "### Relationships\n",
    "- One-to-One\n",
    "- One-to-Many\n",
    "- Many-to-Many\n",
    "### Queries\n",
    "- SELECT\n",
    "- LIMIT\n",
    "- WHERE\n",
    "- OR\n",
    "- IN\n",
    "- AND\n",
    "- NOT\n",
    "- UPPER\n",
    "- LOWER\n",
    "- LIKE\n",
    "- ORDER BY"
   ],
   "metadata": {}
  },
  {
   "cell_type": "markdown",
   "source": [
    "# SQL Data Types\n",
    "![](./Media/SQLDataTypes.png)"
   ],
   "metadata": {}
  },
  {
   "cell_type": "markdown",
   "source": [
    "# Relationship Examples\n",
    "![](./Media/relationships.png)\n",
    "\n",
    "If you say the word “many” only once, then this is one-to-many relation. If you would use the word “many” two times, the relation would be many-to-many. And if you wouldn’t use it at all, then it would be one-to-one.\n",
    "\n",
    "## Examples - Mentor and student relationships:\n",
    "\n",
    "### One-to-One\n",
    "- When one row in a table is linked to only one row in another table.\n",
    "> In a student database, each student has only one student ID, and that ID is only assigned to one person. We have not used the word “many”, so this can’t be any type of relation including the word “many”.\n",
    "### One-to-Many\n",
    "- When one row in a table is linked to many rows in another table.\n",
    "> One city can have `many` different students located in it. And the other way around – One student can have only one city. If you said the word “many” only once, then this is one-to-many relation.\n",
    "### Many-to-Many\n",
    "- When any rows in a table are linked to many rows in another table.\n",
    "> One mentor, could call `many` students. Also, one student, could receive calls from `many` mentors. Notice that we’ve mentioned the word “many” two times. This is the signal we need to resolve this using many-to-many relation."
   ],
   "metadata": {}
  },
  {
   "cell_type": "markdown",
   "source": [
    "# Query Examples\n",
    "- SELECT\n",
    "- LIMIT\n",
    "- WHERE\n",
    "- OR\n",
    "- IN\n",
    "- AND\n",
    "- NOT\n",
    "- UPPER\n",
    "- LOWER\n",
    "- LIKE\n",
    "- ORDER BY"
   ],
   "metadata": {}
  },
  {
   "cell_type": "code",
   "execution_count": null,
   "source": [
    "SELECT * FROM sakila.actor;"
   ],
   "outputs": [],
   "metadata": {}
  },
  {
   "cell_type": "code",
   "execution_count": 1,
   "source": [
    "# import libraries\n",
    "import pandas as pd\n",
    "import sqlite3"
   ],
   "outputs": [],
   "metadata": {}
  },
  {
   "cell_type": "code",
   "execution_count": 2,
   "source": [
    "# install the ipython-sql library\n",
    "!pip install ipython-sql"
   ],
   "outputs": [
    {
     "output_type": "stream",
     "name": "stdout",
     "text": [
      "Requirement already satisfied: ipython-sql in /Users/callan/opt/anaconda3/lib/python3.8/site-packages (0.4.0)\n",
      "Requirement already satisfied: sqlparse in /Users/callan/opt/anaconda3/lib/python3.8/site-packages (from ipython-sql) (0.4.2)\n",
      "Requirement already satisfied: six in /Users/callan/opt/anaconda3/lib/python3.8/site-packages (from ipython-sql) (1.15.0)\n",
      "Requirement already satisfied: prettytable<1 in /Users/callan/opt/anaconda3/lib/python3.8/site-packages (from ipython-sql) (0.7.2)\n",
      "Requirement already satisfied: ipython-genutils>=0.1.0 in /Users/callan/opt/anaconda3/lib/python3.8/site-packages (from ipython-sql) (0.2.0)\n",
      "Requirement already satisfied: ipython>=1.0 in /Users/callan/opt/anaconda3/lib/python3.8/site-packages (from ipython-sql) (7.22.0)\n",
      "Requirement already satisfied: sqlalchemy>=0.6.7 in /Users/callan/opt/anaconda3/lib/python3.8/site-packages (from ipython-sql) (1.4.7)\n",
      "Requirement already satisfied: traitlets>=4.2 in /Users/callan/opt/anaconda3/lib/python3.8/site-packages (from ipython>=1.0->ipython-sql) (5.0.5)\n",
      "Requirement already satisfied: jedi>=0.16 in /Users/callan/opt/anaconda3/lib/python3.8/site-packages (from ipython>=1.0->ipython-sql) (0.17.2)\n",
      "Requirement already satisfied: appnope in /Users/callan/opt/anaconda3/lib/python3.8/site-packages (from ipython>=1.0->ipython-sql) (0.1.2)\n",
      "Requirement already satisfied: pexpect>4.3 in /Users/callan/opt/anaconda3/lib/python3.8/site-packages (from ipython>=1.0->ipython-sql) (4.8.0)\n",
      "Requirement already satisfied: pickleshare in /Users/callan/opt/anaconda3/lib/python3.8/site-packages (from ipython>=1.0->ipython-sql) (0.7.5)\n",
      "Requirement already satisfied: setuptools>=18.5 in /Users/callan/opt/anaconda3/lib/python3.8/site-packages (from ipython>=1.0->ipython-sql) (52.0.0.post20210125)\n",
      "Requirement already satisfied: backcall in /Users/callan/opt/anaconda3/lib/python3.8/site-packages (from ipython>=1.0->ipython-sql) (0.2.0)\n",
      "Requirement already satisfied: prompt-toolkit!=3.0.0,!=3.0.1,<3.1.0,>=2.0.0 in /Users/callan/opt/anaconda3/lib/python3.8/site-packages (from ipython>=1.0->ipython-sql) (3.0.17)\n",
      "Requirement already satisfied: pygments in /Users/callan/opt/anaconda3/lib/python3.8/site-packages (from ipython>=1.0->ipython-sql) (2.8.1)\n",
      "Requirement already satisfied: decorator in /Users/callan/opt/anaconda3/lib/python3.8/site-packages (from ipython>=1.0->ipython-sql) (5.0.6)\n",
      "Requirement already satisfied: parso<0.8.0,>=0.7.0 in /Users/callan/opt/anaconda3/lib/python3.8/site-packages (from jedi>=0.16->ipython>=1.0->ipython-sql) (0.7.0)\n",
      "Requirement already satisfied: ptyprocess>=0.5 in /Users/callan/opt/anaconda3/lib/python3.8/site-packages (from pexpect>4.3->ipython>=1.0->ipython-sql) (0.7.0)\n",
      "Requirement already satisfied: wcwidth in /Users/callan/opt/anaconda3/lib/python3.8/site-packages (from prompt-toolkit!=3.0.0,!=3.0.1,<3.1.0,>=2.0.0->ipython>=1.0->ipython-sql) (0.2.5)\n",
      "Requirement already satisfied: greenlet!=0.4.17 in /Users/callan/opt/anaconda3/lib/python3.8/site-packages (from sqlalchemy>=0.6.7->ipython-sql) (1.0.0)\n"
     ]
    }
   ],
   "metadata": {}
  },
  {
   "cell_type": "code",
   "execution_count": null,
   "source": [
    "-- mentors = pd.DataFrame({\n",
    "--   'name': ['Callan', 'Britt', 'Joe'],\n",
    "--   'city': ['Lakeside', 'Scottsdale', 'Somewhere']\n",
    "-- })"
   ],
   "outputs": [],
   "metadata": {}
  },
  {
   "cell_type": "code",
   "execution_count": 7,
   "source": [
    "# create a dataframe for mentors and students\n",
    "\n",
    "mentors = pd.read_csv('../Data/exampleData/mentors.csv')\n",
    "mentors"
   ],
   "outputs": [
    {
     "output_type": "execute_result",
     "data": {
      "text/html": [
       "<div>\n",
       "<style scoped>\n",
       "    .dataframe tbody tr th:only-of-type {\n",
       "        vertical-align: middle;\n",
       "    }\n",
       "\n",
       "    .dataframe tbody tr th {\n",
       "        vertical-align: top;\n",
       "    }\n",
       "\n",
       "    .dataframe thead th {\n",
       "        text-align: right;\n",
       "    }\n",
       "</style>\n",
       "<table border=\"1\" class=\"dataframe\">\n",
       "  <thead>\n",
       "    <tr style=\"text-align: right;\">\n",
       "      <th></th>\n",
       "      <th>0</th>\n",
       "    </tr>\n",
       "  </thead>\n",
       "  <tbody>\n",
       "    <tr>\n",
       "      <th>0</th>\n",
       "      <td>../Data/exampleData/mentors.csv</td>\n",
       "    </tr>\n",
       "  </tbody>\n",
       "</table>\n",
       "</div>"
      ],
      "text/plain": [
       "                                 0\n",
       "0  ../Data/exampleData/mentors.csv"
      ]
     },
     "metadata": {},
     "execution_count": 7
    }
   ],
   "metadata": {}
  }
 ],
 "metadata": {
  "orig_nbformat": 4,
  "language_info": {
   "name": "python",
   "version": "3.8.8",
   "mimetype": "text/x-python",
   "codemirror_mode": {
    "name": "ipython",
    "version": 3
   },
   "pygments_lexer": "ipython3",
   "nbconvert_exporter": "python",
   "file_extension": ".py"
  },
  "kernelspec": {
   "name": "python3",
   "display_name": "Python 3.8.8 64-bit ('base': conda)"
  },
  "interpreter": {
   "hash": "b3146ae678120b891b54f59f67ae256754154d2a56b379396de4363c71081247"
  }
 },
 "nbformat": 4,
 "nbformat_minor": 2
}