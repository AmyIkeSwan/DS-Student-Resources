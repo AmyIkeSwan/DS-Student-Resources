{
 "cells": [
  {
   "cell_type": "markdown",
   "source": [
    "# SQL Lesson 1 Examples - Getting started with SQL\n",
    "\n",
    "## Overview\n",
    "\n",
    "### SQL Data Types\n",
    "### Relationships\n",
    "- One-to-One\n",
    "- One-to-Many\n",
    "- Many-to-Many\n",
    "### Queries\n",
    "- SELECT\n",
    "- LIMIT\n",
    "- WHERE\n",
    "- OR\n",
    "- IN\n",
    "- AND\n",
    "- NOT\n",
    "- UPPER\n",
    "- LOWER\n",
    "- LIKE\n",
    "- ORDER BY"
   ],
   "metadata": {}
  },
  {
   "cell_type": "code",
   "execution_count": 2,
   "source": [
    "#  Setup for the SQL mentor-student examples\n",
    "!pip install ipython-sql\n",
    "%load_ext sql\n",
    "%sql sqlite:///../Data/mentor-student/mentor-student.db"
   ],
   "outputs": [
    {
     "output_type": "stream",
     "name": "stdout",
     "text": [
      "Requirement already satisfied: ipython-sql in /Users/callan/opt/anaconda3/lib/python3.8/site-packages (0.4.0)\n",
      "Requirement already satisfied: ipython>=1.0 in /Users/callan/opt/anaconda3/lib/python3.8/site-packages (from ipython-sql) (7.22.0)\n",
      "Requirement already satisfied: sqlalchemy>=0.6.7 in /Users/callan/opt/anaconda3/lib/python3.8/site-packages (from ipython-sql) (1.4.7)\n",
      "Requirement already satisfied: sqlparse in /Users/callan/opt/anaconda3/lib/python3.8/site-packages (from ipython-sql) (0.4.2)\n",
      "Requirement already satisfied: ipython-genutils>=0.1.0 in /Users/callan/opt/anaconda3/lib/python3.8/site-packages (from ipython-sql) (0.2.0)\n",
      "Requirement already satisfied: six in /Users/callan/opt/anaconda3/lib/python3.8/site-packages (from ipython-sql) (1.15.0)\n",
      "Requirement already satisfied: prettytable<1 in /Users/callan/opt/anaconda3/lib/python3.8/site-packages (from ipython-sql) (0.7.2)\n",
      "Requirement already satisfied: pickleshare in /Users/callan/opt/anaconda3/lib/python3.8/site-packages (from ipython>=1.0->ipython-sql) (0.7.5)\n",
      "Requirement already satisfied: setuptools>=18.5 in /Users/callan/opt/anaconda3/lib/python3.8/site-packages (from ipython>=1.0->ipython-sql) (52.0.0.post20210125)\n",
      "Requirement already satisfied: jedi>=0.16 in /Users/callan/opt/anaconda3/lib/python3.8/site-packages (from ipython>=1.0->ipython-sql) (0.17.2)\n",
      "Requirement already satisfied: appnope in /Users/callan/opt/anaconda3/lib/python3.8/site-packages (from ipython>=1.0->ipython-sql) (0.1.2)\n",
      "Requirement already satisfied: pygments in /Users/callan/opt/anaconda3/lib/python3.8/site-packages (from ipython>=1.0->ipython-sql) (2.8.1)\n",
      "Requirement already satisfied: traitlets>=4.2 in /Users/callan/opt/anaconda3/lib/python3.8/site-packages (from ipython>=1.0->ipython-sql) (5.0.5)\n",
      "Requirement already satisfied: pexpect>4.3 in /Users/callan/opt/anaconda3/lib/python3.8/site-packages (from ipython>=1.0->ipython-sql) (4.8.0)\n",
      "Requirement already satisfied: backcall in /Users/callan/opt/anaconda3/lib/python3.8/site-packages (from ipython>=1.0->ipython-sql) (0.2.0)\n",
      "Requirement already satisfied: prompt-toolkit!=3.0.0,!=3.0.1,<3.1.0,>=2.0.0 in /Users/callan/opt/anaconda3/lib/python3.8/site-packages (from ipython>=1.0->ipython-sql) (3.0.17)\n",
      "Requirement already satisfied: decorator in /Users/callan/opt/anaconda3/lib/python3.8/site-packages (from ipython>=1.0->ipython-sql) (5.0.6)\n",
      "Requirement already satisfied: parso<0.8.0,>=0.7.0 in /Users/callan/opt/anaconda3/lib/python3.8/site-packages (from jedi>=0.16->ipython>=1.0->ipython-sql) (0.7.0)\n",
      "Requirement already satisfied: ptyprocess>=0.5 in /Users/callan/opt/anaconda3/lib/python3.8/site-packages (from pexpect>4.3->ipython>=1.0->ipython-sql) (0.7.0)\n",
      "Requirement already satisfied: wcwidth in /Users/callan/opt/anaconda3/lib/python3.8/site-packages (from prompt-toolkit!=3.0.0,!=3.0.1,<3.1.0,>=2.0.0->ipython>=1.0->ipython-sql) (0.2.5)\n",
      "Requirement already satisfied: greenlet!=0.4.17 in /Users/callan/opt/anaconda3/lib/python3.8/site-packages (from sqlalchemy>=0.6.7->ipython-sql) (1.0.0)\n"
     ]
    }
   ],
   "metadata": {}
  },
  {
   "cell_type": "markdown",
   "source": [
    "# SQL Data Types\n",
    "![](./Media/SQLDataTypes.png)"
   ],
   "metadata": {}
  },
  {
   "cell_type": "markdown",
   "source": [
    "# Relationship Examples\n",
    "![](./Media/relationships.png)\n",
    "\n",
    "If you say the word “many” only once, then this is one-to-many relation. If you would use the word “many” two times, the relation would be many-to-many. And if you wouldn’t use it at all, then it would be one-to-one.\n",
    "\n",
    "## Examples - Mentor and student relationships:"
   ],
   "metadata": {}
  },
  {
   "cell_type": "markdown",
   "source": [
    "### One-to-One\n",
    "- When one row in a table is linked to only one row in another table.\n",
    "> In a student database, each student has only one student ID, and that ID is only assigned to one person. We have not used the word “many”, so this can’t be any type of relation including the word “many”."
   ],
   "metadata": {}
  },
  {
   "cell_type": "code",
   "execution_count": 7,
   "source": [
    "%%sql\n",
    "\n",
    "SELECT studentName, fullId FROM students\n",
    "JOIN studentIdentification USING(studentId);"
   ],
   "outputs": [
    {
     "output_type": "stream",
     "name": "stdout",
     "text": [
      " * sqlite:///../Data/mentor-student/mentor-student.db\n",
      "Done.\n"
     ]
    },
    {
     "output_type": "execute_result",
     "data": {
      "text/html": [
       "<table>\n",
       "    <tr>\n",
       "        <th>studentName</th>\n",
       "        <th>fullId</th>\n",
       "    </tr>\n",
       "    <tr>\n",
       "        <td>Jon</td>\n",
       "        <td>85643215SWD</td>\n",
       "    </tr>\n",
       "    <tr>\n",
       "        <td>Jane</td>\n",
       "        <td>89654398DSO</td>\n",
       "    </tr>\n",
       "    <tr>\n",
       "        <td>Andrew</td>\n",
       "        <td>21405478SWD</td>\n",
       "    </tr>\n",
       "    <tr>\n",
       "        <td>Stephen</td>\n",
       "        <td>65321098SWD</td>\n",
       "    </tr>\n",
       "    <tr>\n",
       "        <td>Sarah</td>\n",
       "        <td>30124578DSO</td>\n",
       "    </tr>\n",
       "    <tr>\n",
       "        <td>Kim</td>\n",
       "        <td>10254901CSO</td>\n",
       "    </tr>\n",
       "</table>"
      ],
      "text/plain": [
       "[('Jon', '85643215SWD'),\n",
       " ('Jane', '89654398DSO'),\n",
       " ('Andrew', '21405478SWD'),\n",
       " ('Stephen', '65321098SWD'),\n",
       " ('Sarah', '30124578DSO'),\n",
       " ('Kim', '10254901CSO')]"
      ]
     },
     "metadata": {},
     "execution_count": 7
    }
   ],
   "metadata": {}
  },
  {
   "cell_type": "markdown",
   "source": [
    "### One-to-Many\n",
    "- When one row in a table is linked to many rows in another table.\n",
    "> One city can have `many` different students located in it. And the other way around – One student can have only one city. If you said the word “many” only once, then this is one-to-many relation."
   ],
   "metadata": {}
  },
  {
   "cell_type": "code",
   "execution_count": 11,
   "source": [
    "%%sql\n",
    "\n",
    "SELECT cityName, studentName FROM city\n",
    "JOIN students USING(cityId)\n",
    "ORDER BY cityName;"
   ],
   "outputs": [
    {
     "output_type": "stream",
     "name": "stdout",
     "text": [
      " * sqlite:///../Data/mentor-student/mentor-student.db\n",
      "Done.\n"
     ]
    },
    {
     "output_type": "execute_result",
     "data": {
      "text/html": [
       "<table>\n",
       "    <tr>\n",
       "        <th>cityName</th>\n",
       "        <th>studentName</th>\n",
       "    </tr>\n",
       "    <tr>\n",
       "        <td>Las Vegas</td>\n",
       "        <td>Jane</td>\n",
       "    </tr>\n",
       "    <tr>\n",
       "        <td>Las Vegas</td>\n",
       "        <td>Kim</td>\n",
       "    </tr>\n",
       "    <tr>\n",
       "        <td>Miami</td>\n",
       "        <td>Andrew</td>\n",
       "    </tr>\n",
       "    <tr>\n",
       "        <td>Phoenix</td>\n",
       "        <td>Jon</td>\n",
       "    </tr>\n",
       "    <tr>\n",
       "        <td>Phoenix</td>\n",
       "        <td>Stephen</td>\n",
       "    </tr>\n",
       "    <tr>\n",
       "        <td>Phoenix</td>\n",
       "        <td>Sarah</td>\n",
       "    </tr>\n",
       "</table>"
      ],
      "text/plain": [
       "[('Las Vegas', 'Jane'),\n",
       " ('Las Vegas', 'Kim'),\n",
       " ('Miami', 'Andrew'),\n",
       " ('Phoenix', 'Jon'),\n",
       " ('Phoenix', 'Stephen'),\n",
       " ('Phoenix', 'Sarah')]"
      ]
     },
     "metadata": {},
     "execution_count": 11
    }
   ],
   "metadata": {}
  },
  {
   "cell_type": "markdown",
   "source": [
    "### Many-to-Many\n",
    "- When any rows in a table are linked to many rows in another table.\n",
    "> One mentor, could call `many` students. Also, one student, could receive calls from `many` mentors. Notice that we’ve mentioned the word “many” two times. This is the signal we need to resolve this using many-to-many relation."
   ],
   "metadata": {}
  },
  {
   "cell_type": "code",
   "execution_count": 14,
   "source": [
    "%%sql\n",
    "\n",
    "SELECT mentorName, studentName, dateTime FROM callLog\n",
    "JOIN mentors USING(mentorId)\n",
    "JOIN students USING(studentId);"
   ],
   "outputs": [
    {
     "output_type": "stream",
     "name": "stdout",
     "text": [
      " * sqlite:///../Data/mentor-student/mentor-student.db\n",
      "Done.\n"
     ]
    },
    {
     "output_type": "execute_result",
     "data": {
      "text/html": [
       "<table>\n",
       "    <tr>\n",
       "        <th>mentorName</th>\n",
       "        <th>studentName</th>\n",
       "        <th>dateTime</th>\n",
       "    </tr>\n",
       "    <tr>\n",
       "        <td>Callan</td>\n",
       "        <td>Jon</td>\n",
       "        <td>2021-10-06 13:04:05</td>\n",
       "    </tr>\n",
       "    <tr>\n",
       "        <td>Callan</td>\n",
       "        <td>Jane</td>\n",
       "        <td>2021-10-01 11:26:27</td>\n",
       "    </tr>\n",
       "    <tr>\n",
       "        <td>Callan</td>\n",
       "        <td>Andrew</td>\n",
       "        <td>2021-10-02 09:14:06</td>\n",
       "    </tr>\n",
       "    <tr>\n",
       "        <td>Britt</td>\n",
       "        <td>Stephen</td>\n",
       "        <td>2021-10-03 15:52:59</td>\n",
       "    </tr>\n",
       "    <tr>\n",
       "        <td>Britt</td>\n",
       "        <td>Jane</td>\n",
       "        <td>2021-10-04 13:19:11</td>\n",
       "    </tr>\n",
       "    <tr>\n",
       "        <td>Joe</td>\n",
       "        <td>Jane</td>\n",
       "        <td>2021-10-05 02:33:45</td>\n",
       "    </tr>\n",
       "</table>"
      ],
      "text/plain": [
       "[('Callan', 'Jon', '2021-10-06 13:04:05'),\n",
       " ('Callan', 'Jane', '2021-10-01 11:26:27'),\n",
       " ('Callan', 'Andrew', '2021-10-02 09:14:06'),\n",
       " ('Britt', 'Stephen', '2021-10-03 15:52:59'),\n",
       " ('Britt', 'Jane', '2021-10-04 13:19:11'),\n",
       " ('Joe', 'Jane', '2021-10-05 02:33:45')]"
      ]
     },
     "metadata": {},
     "execution_count": 14
    }
   ],
   "metadata": {}
  },
  {
   "cell_type": "markdown",
   "source": [
    "# Query Examples\n",
    "- SELECT\n",
    "- LIMIT\n",
    "- WHERE\n",
    "- OR\n",
    "- IN\n",
    "- AND\n",
    "- NOT\n",
    "- UPPER\n",
    "- LOWER\n",
    "- LIKE\n",
    "- ORDER BY"
   ],
   "metadata": {}
  },
  {
   "cell_type": "markdown",
   "source": [
    "### SELECT\n",
    "> SELECT all students"
   ],
   "metadata": {}
  },
  {
   "cell_type": "code",
   "execution_count": null,
   "source": [
    "%%sql\n",
    "\n",
    "SELECT * FROM students;"
   ],
   "outputs": [],
   "metadata": {}
  },
  {
   "cell_type": "markdown",
   "source": [
    "### LIMIT\n",
    "> SELECT students with a LIMIT of 2 results"
   ],
   "metadata": {}
  },
  {
   "cell_type": "code",
   "execution_count": null,
   "source": [
    "%%sql\n",
    "\n",
    "SELECT * FROM students\n",
    "LIMIT 2;"
   ],
   "outputs": [],
   "metadata": {}
  },
  {
   "cell_type": "markdown",
   "source": [
    "### WHERE\n",
    "> SELECT students WHERE studentId is greater than 4"
   ],
   "metadata": {}
  },
  {
   "cell_type": "code",
   "execution_count": null,
   "source": [
    "%%sql\n",
    "\n",
    "SELECT * FROM students\n",
    "WHERE studentId > 4;"
   ],
   "outputs": [],
   "metadata": {}
  },
  {
   "cell_type": "markdown",
   "source": [
    "### OR\n",
    "> SELECT students WHERE studentId is 2 OR 3"
   ],
   "metadata": {}
  },
  {
   "cell_type": "code",
   "execution_count": null,
   "source": [
    "%%sql\n",
    "\n",
    "SELECT * FROM students\n",
    "WHERE studentId = 2 OR studentId = 3;"
   ],
   "outputs": [],
   "metadata": {}
  },
  {
   "cell_type": "markdown",
   "source": [
    "### IN\n",
    "> SELECT students WHERE studentId is 2 OR 3 OR 6 (In is shorthand for having multiple OR conditions)"
   ],
   "metadata": {}
  },
  {
   "cell_type": "code",
   "execution_count": null,
   "source": [
    "%%sql\n",
    "\n",
    "SELECT * FROM students\n",
    "WHERE studentId IN (2, 3, 6);"
   ],
   "outputs": [],
   "metadata": {}
  },
  {
   "cell_type": "markdown",
   "source": [
    "### AND\n",
    "> SELECT students WHERE studentId is 2 AND studentName is Jane"
   ],
   "metadata": {}
  },
  {
   "cell_type": "code",
   "execution_count": null,
   "source": [
    "%%sql\n",
    "\n",
    "SELECT * FROM students\n",
    "WHERE studentId = 2 AND studentName = \"Jane\";"
   ],
   "outputs": [],
   "metadata": {}
  },
  {
   "cell_type": "markdown",
   "source": [
    "### NOT\n",
    "> SELECT students WHERE studentName is NOT Jane"
   ],
   "metadata": {}
  },
  {
   "cell_type": "code",
   "execution_count": null,
   "source": [
    "%%sql\n",
    "\n",
    "SELECT * FROM students\n",
    "WHERE studentName != \"Jane\";"
   ],
   "outputs": [],
   "metadata": {}
  },
  {
   "cell_type": "markdown",
   "source": [
    "### UPPER\n",
    "> Change all mentor names to uppercase"
   ],
   "metadata": {}
  },
  {
   "cell_type": "code",
   "execution_count": null,
   "source": [
    "%%sql\n",
    "\n",
    "SELECT UPPER(mentorName) FROM mentors;"
   ],
   "outputs": [],
   "metadata": {}
  },
  {
   "cell_type": "markdown",
   "source": [
    "### LOWER\n",
    "> Change all mentor names to lowercase"
   ],
   "metadata": {}
  },
  {
   "cell_type": "code",
   "execution_count": null,
   "source": [
    "%%sql\n",
    "\n",
    "SELECT LOWER(mentorName) FROM mentors;"
   ],
   "outputs": [],
   "metadata": {}
  },
  {
   "cell_type": "markdown",
   "source": [
    "### LIKE\n",
    "> SELECT students WHERE studentName is starts with J"
   ],
   "metadata": {}
  },
  {
   "cell_type": "code",
   "execution_count": null,
   "source": [
    "%%sql\n",
    "\n",
    "SELECT * FROM students\n",
    "WHERE studentName LIKE \"J%\";"
   ],
   "outputs": [],
   "metadata": {}
  },
  {
   "cell_type": "markdown",
   "source": [
    "### ORDER BY\n",
    "> Select all mentors and ORDER BY mentorName"
   ],
   "metadata": {}
  },
  {
   "cell_type": "code",
   "execution_count": null,
   "source": [
    "%%sql\n",
    "\n",
    "SELECT * FROM mentors\n",
    "ORDER BY mentorName;"
   ],
   "outputs": [],
   "metadata": {}
  }
 ],
 "metadata": {
  "interpreter": {
   "hash": "b3146ae678120b891b54f59f67ae256754154d2a56b379396de4363c71081247"
  },
  "kernelspec": {
   "name": "python3",
   "display_name": "Python 3.8.8 64-bit ('base': conda)"
  },
  "language_info": {
   "codemirror_mode": {
    "name": "ipython",
    "version": 3
   },
   "file_extension": ".py",
   "mimetype": "text/x-python",
   "name": "python",
   "nbconvert_exporter": "python",
   "pygments_lexer": "ipython3",
   "version": "3.8.8"
  }
 },
 "nbformat": 4,
 "nbformat_minor": 2
}