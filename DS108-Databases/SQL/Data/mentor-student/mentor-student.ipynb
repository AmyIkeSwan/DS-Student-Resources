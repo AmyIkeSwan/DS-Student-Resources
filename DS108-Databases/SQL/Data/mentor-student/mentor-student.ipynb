{
 "cells": [
  {
   "cell_type": "code",
   "execution_count": null,
   "source": [
    "# Create mentor-student database:\n",
    "\n",
    "!pip install ipython-sql\n",
    "\n",
    "%load_ext sql\n",
    "\n",
    "%sql sqlite:///mentor-student.db\n"
   ],
   "outputs": [],
   "metadata": {}
  },
  {
   "cell_type": "code",
   "execution_count": null,
   "source": [
    "%%sql\n",
    "\n",
    "CREATE TABLE `callLog` (\n",
    "  `callLogId` int,\n",
    "  `mentorId` int,\n",
    "  `studentId` int,\n",
    "  `dateTime` datetime DEFAULT CURRENT_TIMESTAMP,\n",
    "  PRIMARY KEY (`callLogId`)\n",
    ");\n",
    "\n",
    "INSERT INTO `callLog` VALUES (1,'1','1','2021-10-06 13:04:05'),(2,'1','2','2021-10-01 11:26:27'),(3,'1','3','2021-10-02 09:14:06'),(4,'2','4','2021-10-03 15:52:59'),(5,'2','2','2021-10-04 13:19:11'),(6,'3','2','2021-10-05 02:33:45');\n",
    "\n",
    "\n",
    "CREATE TABLE `city` (\n",
    "  `cityId` int,\n",
    "  `cityName` varchar(45),\n",
    "  PRIMARY KEY (`cityId`)\n",
    ");\n",
    "\n",
    "INSERT INTO `city` VALUES (1,'Phoenix'),(2,'Las Vegas'),(3,'Miami');\n",
    "\n",
    "CREATE TABLE `mentors` (\n",
    "  `mentorId` int,\n",
    "  `mentorName` varchar(45),\n",
    "  PRIMARY KEY (`mentorId`)\n",
    ");\n",
    "\n",
    "INSERT INTO `mentors` VALUES (1,'Callan'),(2,'Britt'),(3,'Joe'),(4,'Cass'),(5,'Daniel'),(6,'Shaun');\n",
    "\n",
    "CREATE TABLE `students` (\n",
    "  `studentId` int,\n",
    "  `studentName` varchar(45),\n",
    "  `cityId` int,\n",
    "  PRIMARY KEY (`studentId`),\n",
    "  CONSTRAINT `city` FOREIGN KEY (`cityId`) REFERENCES `city` (`cityId`)\n",
    ");\n",
    "\n",
    "INSERT INTO `students` VALUES (1,'Jon',1),(2,'Jane',2),(3,'Andrew',3),(4,'Stephen',1),(5,'Sarah',1),(6,'Kim',2);\n",
    "\n",
    "CREATE TABLE `studentIdentification` (\n",
    "  `studentId` int,\n",
    "  `fullId` varchar(45),\n",
    "  PRIMARY KEY (`studentId`),\n",
    "  CONSTRAINT `fullId` FOREIGN KEY (`studentId`) REFERENCES `students` (`studentId`)\n",
    ");\n",
    "\n",
    "INSERT INTO `studentIdentification` VALUES (1,'85643215SWD'),(2,'89654398DSO'),(3,'21405478SWD'),(4,'65321098SWD'),(5,'30124578DSO'),(6,'10254901CSO');"
   ],
   "outputs": [],
   "metadata": {}
  }
 ],
 "metadata": {
  "orig_nbformat": 4,
  "language_info": {
   "name": "python",
   "version": "3.8.8",
   "mimetype": "text/x-python",
   "codemirror_mode": {
    "name": "ipython",
    "version": 3
   },
   "pygments_lexer": "ipython3",
   "nbconvert_exporter": "python",
   "file_extension": ".py"
  },
  "kernelspec": {
   "name": "python3",
   "display_name": "Python 3.8.8 64-bit ('base': conda)"
  },
  "interpreter": {
   "hash": "b3146ae678120b891b54f59f67ae256754154d2a56b379396de4363c71081247"
  }
 },
 "nbformat": 4,
 "nbformat_minor": 2
}