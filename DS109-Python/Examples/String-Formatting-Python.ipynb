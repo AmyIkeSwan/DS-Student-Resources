{
 "cells": [
  {
   "cell_type": "markdown",
   "id": "19e072d4-e795-408e-8103-7f791ff820b8",
   "metadata": {},
   "source": [
    "# String formatting in Python"
   ]
  },
  {
   "cell_type": "markdown",
   "id": "0651a16a-0080-4ba0-86ee-b35dabc02b11",
   "metadata": {},
   "source": [
    "Strings can be manipulated in Python in several ways.\n",
    "\n",
    "This notebook reviews 4 methods for formatting strings:\n",
    "* Basic string formatting\n",
    "* Join method\n",
    "* .format\n",
    "* f-strings"
   ]
  },
  {
   "cell_type": "code",
   "execution_count": 1,
   "id": "1743424f-d313-4bfa-9f51-561c1a09f18a",
   "metadata": {},
   "outputs": [],
   "source": [
    "a = 'I'\n",
    "b = 'can'\n",
    "c = 'code'\n",
    "d = 'Python!'"
   ]
  },
  {
   "cell_type": "markdown",
   "id": "0e133ac0-b9ec-4efd-9231-53b013d60f35",
   "metadata": {},
   "source": [
    "## Basic Formatting\n",
    "\n",
    "The string will be set up using `%s` to denote a string and arguments placed after the string will be used in order.\n",
    "\n",
    "Notice the `%` following the final `\"` of the string. "
   ]
  },
  {
   "cell_type": "code",
   "execution_count": 2,
   "id": "09589591-7b91-4bc0-8282-e51789520fa3",
   "metadata": {},
   "outputs": [
    {
     "name": "stdout",
     "output_type": "stream",
     "text": [
      "I can code Python!\n"
     ]
    }
   ],
   "source": [
    "print(\"%s %s %s %s\"% (a, b, c, d))"
   ]
  },
  {
   "cell_type": "markdown",
   "id": "cbb20dbc-df97-4796-bb53-4e7408500279",
   "metadata": {},
   "source": [
    "## Joining Strings\n",
    "\n",
    "A list of strings can be concatenated using the join method.\n",
    "\n",
    "The type of join is specified, followed by what to join. "
   ]
  },
  {
   "cell_type": "code",
   "execution_count": 9,
   "id": "25b01077-7a43-4939-91fe-8bd04c20c6fa",
   "metadata": {},
   "outputs": [
    {
     "name": "stdout",
     "output_type": "stream",
     "text": [
      "I can code Python!\n"
     ]
    }
   ],
   "source": [
    "print(' '.join([a, b, c, d]))"
   ]
  },
  {
   "cell_type": "code",
   "execution_count": 10,
   "id": "56ea3755-1d3b-46e2-a0b4-0eb585fb90fd",
   "metadata": {},
   "outputs": [
    {
     "name": "stdout",
     "output_type": "stream",
     "text": [
      "I_can_code_Python!\n"
     ]
    }
   ],
   "source": [
    "print('_'.join([a, b, c, d]))"
   ]
  },
  {
   "cell_type": "markdown",
   "id": "b0b558b8-0ccf-4a00-8b2e-ba03a8caa435",
   "metadata": {},
   "source": [
    "# Format Method\n",
    "\n",
    "The format method can be called on a string and then named arguments can be passed to it."
   ]
  },
  {
   "cell_type": "code",
   "execution_count": 4,
   "id": "c1c9b24c-3146-4476-8947-4165ccbf2008",
   "metadata": {},
   "outputs": [
    {
     "name": "stdout",
     "output_type": "stream",
     "text": [
      "I can code Python!\n"
     ]
    }
   ],
   "source": [
    "print(\"{one} {two} {three} {four}\".format(one=a, two=b, three=c, four=d))"
   ]
  },
  {
   "cell_type": "code",
   "execution_count": 12,
   "id": "7f0e04bb-802c-4d59-80e6-3a0b8178a343",
   "metadata": {},
   "outputs": [
    {
     "name": "stdout",
     "output_type": "stream",
     "text": [
      "I can code R!\n"
     ]
    }
   ],
   "source": [
    "print(\"{one} {two} {three} {four}\".format(one=a, two=b, three=c, four='R!'))"
   ]
  },
  {
   "cell_type": "markdown",
   "id": "b1110470-0893-4fc2-b362-fd90e0845600",
   "metadata": {},
   "source": [
    "# F Strings\n",
    "\n",
    "F strings are a powerful way to manipulate strings. \n",
    "\n",
    "Notice the `f` before the string. This allows the use of python variables to be called using `{var_name}`."
   ]
  },
  {
   "cell_type": "code",
   "execution_count": 5,
   "id": "1cfcf114-6204-43ae-99c6-33b8332ceeaf",
   "metadata": {},
   "outputs": [
    {
     "name": "stdout",
     "output_type": "stream",
     "text": [
      "I can code Python!\n"
     ]
    }
   ],
   "source": [
    "print(f\"{a} {b} {c} {d}\")"
   ]
  }
 ],
 "metadata": {
  "kernelspec": {
   "display_name": "Python 3 (ipykernel)",
   "language": "python",
   "name": "python3"
  },
  "language_info": {
   "codemirror_mode": {
    "name": "ipython",
    "version": 3
   },
   "file_extension": ".py",
   "mimetype": "text/x-python",
   "name": "python",
   "nbconvert_exporter": "python",
   "pygments_lexer": "ipython3",
   "version": "3.9.7"
  }
 },
 "nbformat": 4,
 "nbformat_minor": 5
}
