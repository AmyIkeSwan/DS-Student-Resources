{
 "cells": [
  {
   "cell_type": "markdown",
   "id": "ea77a5ca-6eca-4357-8802-3b81a528b49d",
   "metadata": {},
   "source": [
    "<img src=\"https://www.python.org/static/img/python-logo@2x.png\" align=\"left\" alt=\"Python image\" width = \"300\">"
   ]
  },
  {
   "cell_type": "markdown",
   "id": "7916f62b-0715-4590-a505-f3ab2dd0360d",
   "metadata": {},
   "source": [
    "[Home](https://www.python.org/)\n",
    "[About](https://www.python.org/about/)\n",
    "[Downloads](https://www.python.org/downloads/)\n",
    "[Community](https://www.python.org/community/)\n",
    "[Success-Stories](https://www.python.org/success-stories/)\n",
    "[News](https://www.python.org/blogs/)\n",
    "[Events](https://www.python.org/events/)\n",
    "***"
   ]
  },
  {
   "cell_type": "markdown",
   "id": "e6ffc23a-5cfb-4ca2-b3ec-61f084f6726b",
   "metadata": {},
   "source": [
    "## Check your Python version that Jupyter uses"
   ]
  },
  {
   "cell_type": "code",
   "execution_count": 1,
   "id": "f03a885e-1ab4-44a9-809f-d1a38531bc38",
   "metadata": {},
   "outputs": [
    {
     "name": "stdout",
     "output_type": "stream",
     "text": [
      "3.9.7 (default, Sep  3 2021, 12:37:55) \n",
      "[Clang 12.0.5 (clang-1205.0.22.9)]\n"
     ]
    }
   ],
   "source": [
    "import sys\n",
    "print(sys.version)"
   ]
  },
  {
   "cell_type": "markdown",
   "id": "e2c9565e-eec3-46ee-8677-0c849359c30e",
   "metadata": {},
   "source": [
    "## list your install kernels"
   ]
  },
  {
   "cell_type": "code",
   "execution_count": 3,
   "id": "89172d05-db5b-470a-acb7-df7b72b709f3",
   "metadata": {},
   "outputs": [
    {
     "name": "stdout",
     "output_type": "stream",
     "text": [
      "Available kernels:\n",
      "  python3      /usr/local/Cellar/jupyterlab/3.1.10/libexec/lib/python3.9/site-packages/ipykernel/resources\n",
      "  ir           /Users/jsr/Library/Jupyter/kernels/ir\n",
      "  julia-1.6    /Users/jsr/Library/Jupyter/kernels/julia-1.6\n"
     ]
    }
   ],
   "source": [
    "!jupyter kernelspec list  "
   ]
  },
  {
   "cell_type": "code",
   "execution_count": null,
   "id": "b192a1e2-9943-458e-b651-1f4e253b21be",
   "metadata": {},
   "outputs": [],
   "source": []
  }
 ],
 "metadata": {
  "kernelspec": {
   "display_name": "Python 3 (ipykernel)",
   "language": "python",
   "name": "python3"
  },
  "language_info": {
   "codemirror_mode": {
    "name": "ipython",
    "version": 3
   },
   "file_extension": ".py",
   "mimetype": "text/x-python",
   "name": "python",
   "nbconvert_exporter": "python",
   "pygments_lexer": "ipython3",
   "version": "3.9.7"
  }
 },
 "nbformat": 4,
 "nbformat_minor": 5
}
