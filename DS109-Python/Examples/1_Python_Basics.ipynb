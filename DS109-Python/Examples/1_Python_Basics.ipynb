{
 "cells": [
  {
   "cell_type": "markdown",
   "id": "ea77a5ca-6eca-4357-8802-3b81a528b49d",
   "metadata": {},
   "source": [
    "<img src=\"https://www.python.org/static/img/python-logo@2x.png\" align=\"left\" alt=\"Python image\" width = \"300\">"
   ]
  },
  {
   "cell_type": "markdown",
   "id": "7916f62b-0715-4590-a505-f3ab2dd0360d",
   "metadata": {},
   "source": [
    "[Home](https://www.latex-project.org/)\n",
    "[About](https://www.latex-project.org/about/)\n",
    "[Get](https://www.latex-project.org/get/)\n",
    "[LaTeX3](https://www.latex-project.org/latex3/)\n",
    "[Publications](https://www.latex-project.org/publications/)\n",
    "[Help](https://www.latex-project.org/help/)\n",
    "[News](https://www.latex-project.org/news/)\n",
    "***"
   ]
  },
  {
   "cell_type": "code",
   "execution_count": null,
   "id": "747ea003-5d6f-4a90-a418-b7cee5f7da96",
   "metadata": {},
   "outputs": [],
   "source": []
  }
 ],
 "metadata": {
  "kernelspec": {
   "display_name": "Python 3",
   "language": "python",
   "name": "python3"
  },
  "language_info": {
   "codemirror_mode": {
    "name": "ipython",
    "version": 3
   },
   "file_extension": ".py",
   "mimetype": "text/x-python",
   "name": "python",
   "nbconvert_exporter": "python",
   "pygments_lexer": "ipython3",
   "version": "3.9.5"
  }
 },
 "nbformat": 4,
 "nbformat_minor": 5
}
