{
 "cells": [
  {
   "cell_type": "markdown",
   "id": "66efa3a5-777a-49d1-8871-03a0e7f1bdf1",
   "metadata": {},
   "source": [
    "# Statistical Examples in Python"
   ]
  },
  {
   "cell_type": "markdown",
   "id": "316bc778-ba35-4412-9ed5-6e72306657ce",
   "metadata": {
    "tags": []
   },
   "source": [
    "## Statisical Examples TOC <a class=\"anchor\" id=\"PyStats_toc\"></a>\n",
    "These examples are divide into 5 parts:\n",
    "\n",
    "* [Table of Contents](#PyStatsL1_toc)\n",
    "    * [Normality Tests](#PyStats_page_1)\n",
    "        * [Shapiro-Wilk Test](#PyStats_page_2)\n",
    "        * [D’Agostino’s K^2 Test](#PyStats_page_3)\n",
    "        * [Anderson-Darling Test](#PyStats_page_4)\n",
    "    * [Correlation Tests](#PyStats_page_5)\n",
    "        * [Pearson’s Correlation Coefficient](#PyStats_page_6)\n",
    "        * [Spearman’s Rank Correlation](#PyStats_page_7)\n",
    "        * [Kendall’s Rank Correlation](#PyStats_page_8)\n",
    "        * [Chi-Squared Test](#PyStats_page_9)\n",
    "    * [Stationary Tests](#PyStats_page_10)\n",
    "        * [Augmented Dickey-Fuller](#PyStats_page_11)\n",
    "        * [Kwiatkowski-Phillips-Schmidt-Shin](#PyStats_page_12) \n",
    "        * [Parametric Statistical Hypothesis Tests](#PyStats_page_13)\n",
    "    * [Student’s t-test](#PyStats_page_14)\n",
    "        * [Paired Student’s t-test](#PyStats_page_15)\n",
    "        * [Analysis of Variance Test (ANOVA)](#PyStats_page_16)\n",
    "        * [Repeated Measures ANOVA Test](#PyStats_page_17)\n",
    "    * [Nonparametric Statistical Hypothesis Tests](#PyStats_page_18)\n",
    "        * [Mann-Whitney U Test](#PyStats_page_19)\n",
    "        * [Wilcoxon Signed-Rank Test](#PyStats_page_20)\n",
    "        * [Kruskal-Wallis H Test](#PyStats_page_21)\n",
    "        * [Friedman Test](#PyStats_page_22)\n",
    "\n",
    "\n",
    "\n"
   ]
  },
  {
   "cell_type": "markdown",
   "id": "152dc761-3045-48d6-bdc5-9203f0326e13",
   "metadata": {},
   "source": [
    "<hr style=\"height:10px;border-width:0;color:gray;background-color:gray\">\n",
    "\n",
    "# 1. Normality Tests<a class=\"anchor\" id=\"PyStats_page_1\"></a>\n",
    "\n",
    "Tests that you can use to check if your data has a Gaussian distribution / Normal distribution.\n",
    "\n",
    "For the normal distribution, the values less than one standard deviation away from the mean account for 68.27% of the set; while two standard deviations from the mean account for 95.45%; and three standard deviations account for 99.73%.\n",
    "\n",
    "<p style=\"text-align: center;\">\n",
    "  <img width=\"600\" alt=\"The Normal Distribution - Gaussian\" src=\"../Media/normal.png\">\n",
    "</p>\n",
    "\n",
    "[Back to Top](#PyStats_toc)\n",
    "\n"
   ]
  },
  {
   "cell_type": "markdown",
   "id": "736dfeba-8cd8-46b5-952e-dfa2f14d0040",
   "metadata": {},
   "source": [
    "<hr style=\"height:5px;border-width:0;color:gray;background-color:gray\">\n",
    "\n",
    "# Shapiro-Wilk Test<a class=\"anchor\" id=\"PyStats_page_2\"></a>\n",
    "\n",
    "[Back to Top](#PyStats_toc)\n",
    "\n",
    "## Tests whether a data sample has a Gaussian distribution.\n",
    "\n",
    "### Assumptions\n",
    "\n",
    "- Observations in each sample are independent and identically distributed (iid).\n",
    "\n",
    "### Interpretation\n",
    "\n",
    "- H0: the sample has a Gaussian distribution.\n",
    "- H1: the sample does not have a Gaussian distribution.\n",
    "\n",
    "### References\n",
    "\n",
    "- [A Gentle Introduction to Normality Tests in Python](https://machinelearningmastery.com/a-gentle-introduction-to-normality-tests-in-python/)\n",
    "- [scipy.stats.shapiro](https://docs.scipy.org/doc/scipy/reference/generated/scipy.stats.shapiro.html)\n",
    "- [Shapiro-Wilk test on Wikipedia](https://en.wikipedia.org/wiki/Shapiro%E2%80%93Wilk_test)\n",
    "- [Normal Distribution - Wolfram](https://mathworld.wolfram.com/NormalDistribution.html)\n",
    "\n"
   ]
  },
  {
   "cell_type": "code",
   "execution_count": 2,
   "id": "4eee290b-8dd9-4d98-a5eb-4de87074a5bc",
   "metadata": {},
   "outputs": [
    {
     "name": "stdout",
     "output_type": "stream",
     "text": [
      "stat=0.895, p=0.193\n",
      "Probably Gaussian\n"
     ]
    }
   ],
   "source": [
    "# Example of the Shapiro-Wilk Normality Test\n",
    "from scipy.stats import shapiro\n",
    "data = [0.873, 2.817, 0.121, -0.945, -0.055, -1.436, 0.360, -1.478, -1.637, -1.869]\n",
    "stat, p = shapiro(data)\n",
    "print('stat=%.3f, p=%.3f' % (stat, p))\n",
    "if p > 0.05:\n",
    "\tprint('Probably Gaussian')\n",
    "else:\n",
    "\tprint('Probably not Gaussian')"
   ]
  },
  {
   "cell_type": "markdown",
   "id": "8642a3d1-b538-4177-af59-a5390655b802",
   "metadata": {},
   "source": [
    "<hr style=\"height:5px;border-width:0;color:gray;background-color:gray\">\n",
    "\n",
    "# D’Agostino’s K^2 Test<a class=\"anchor\" id=\"PyStats_page_3\"></a>\n",
    "\n",
    "[Back to Top](#PyStats_toc)\n",
    "\n",
    "\n",
    "## Tests whether a data sample has a Gaussian distribution.\n",
    "\n",
    "### Assumptions\n",
    "- Observations in each sample are independent and identically distributed (iid).\n",
    "\n",
    "### Interpretation\n",
    "- H0: the sample has a Gaussian distribution.\n",
    "- H1: the sample does not have a Gaussian distribution.\n",
    "\n",
    "### References\n",
    "- [A Gentle Introduction to Normality Tests in Python](https://machinelearningmastery.com/a-gentle-introduction-to-normality-tests-in-python/)\n",
    "- [scipy.stats.normaltest](https://docs.scipy.org/doc/scipy/reference/generated/scipy.stats.normaltest.html)\n",
    "- [D’Agostino’s K-squared test on Wikipedia](https://en.wikipedia.org/wiki/D%27Agostino%27s_K-squared_test)\n",
    "\n"
   ]
  },
  {
   "cell_type": "code",
   "execution_count": 3,
   "id": "690cd0ee-dad7-44ce-8081-28b1673518e0",
   "metadata": {},
   "outputs": [
    {
     "name": "stdout",
     "output_type": "stream",
     "text": [
      "stat=3.392, p=0.183\n",
      "Probably Gaussian\n"
     ]
    },
    {
     "name": "stderr",
     "output_type": "stream",
     "text": [
      "/usr/local/lib/python3.9/site-packages/scipy/stats/stats.py:1541: UserWarning: kurtosistest only valid for n>=20 ... continuing anyway, n=10\n",
      "  warnings.warn(\"kurtosistest only valid for n>=20 ... continuing \"\n"
     ]
    }
   ],
   "source": [
    "# Example of the D'Agostino's K^2 Normality Test\n",
    "from scipy.stats import normaltest\n",
    "data = [0.873, 2.817, 0.121, -0.945, -0.055, -1.436, 0.360, -1.478, -1.637, -1.869]\n",
    "stat, p = normaltest(data)\n",
    "print('stat=%.3f, p=%.3f' % (stat, p))\n",
    "if p > 0.05:\n",
    "\tprint('Probably Gaussian')\n",
    "else:\n",
    "\tprint('Probably not Gaussian')"
   ]
  },
  {
   "cell_type": "markdown",
   "id": "f45ec09e-2882-4924-b99a-866320142986",
   "metadata": {},
   "source": [
    "<hr style=\"height:5px;border-width:0;color:gray;background-color:gray\">\n",
    "\n",
    "# Anderson-Darling Test<a class=\"anchor\" id=\"PyStats_page_4\"></a>\n",
    "\n",
    "[Back to Top](#PyStats_toc)\n",
    "\n",
    "## Tests whether a data sample has a Gaussian distribution.\n",
    "\n",
    "### Assumptions\n",
    "- Observations in each sample are independent and identically distributed (iid).\n",
    "\n",
    "### Interpretation\n",
    "- H0: the sample has a Gaussian distribution.\n",
    "- H1: the sample does not have a Gaussian distribution.\n",
    "\n",
    "### References\n",
    "- [A Gentle Introduction to Normality Tests in Python](https://machinelearningmastery.com/a-gentle-introduction-to-normality-tests-in-python/)\n",
    "- [scipy.stats.anderson](https://docs.scipy.org/doc/scipy/reference/generated/scipy.stats.anderson.html)\n",
    "- [Anderson-Darling test on Wikipedia](https://en.wikipedia.org/wiki/Anderson%E2%80%93Darling_test)\n",
    "\n"
   ]
  },
  {
   "cell_type": "code",
   "execution_count": 4,
   "id": "52b5506f-fd07-45d1-95a5-09da1c779919",
   "metadata": {},
   "outputs": [
    {
     "name": "stdout",
     "output_type": "stream",
     "text": [
      "stat=0.424\n",
      "Probably Gaussian at the 15.0% level\n",
      "Probably Gaussian at the 10.0% level\n",
      "Probably Gaussian at the 5.0% level\n",
      "Probably Gaussian at the 2.5% level\n",
      "Probably Gaussian at the 1.0% level\n"
     ]
    }
   ],
   "source": [
    "# Example of the Anderson-Darling Normality Test\n",
    "from scipy.stats import anderson\n",
    "data = [0.873, 2.817, 0.121, -0.945, -0.055, -1.436, 0.360, -1.478, -1.637, -1.869]\n",
    "result = anderson(data)\n",
    "print('stat=%.3f' % (result.statistic))\n",
    "for i in range(len(result.critical_values)):\n",
    "\tsl, cv = result.significance_level[i], result.critical_values[i]\n",
    "\tif result.statistic < cv:\n",
    "\t\tprint('Probably Gaussian at the %.1f%% level' % (sl))\n",
    "\telse:\n",
    "\t\tprint('Probably not Gaussian at the %.1f%% level' % (sl))"
   ]
  },
  {
   "cell_type": "markdown",
   "id": "dc30cb40-ed36-419e-a2bb-ff7e41b82144",
   "metadata": {},
   "source": [
    "<hr style=\"height:10px;border-width:0;color:gray;background-color:gray\">\n",
    "\n",
    "# 2. Correlation Tests<a class=\"anchor\" id=\"PyStats_page_5\"></a>\n",
    "\n",
    "[Back to Top](#PyStats_toc)\n",
    "\n"
   ]
  },
  {
   "cell_type": "markdown",
   "id": "be670084-e3e7-485d-84f7-3dc86f36ac6a",
   "metadata": {},
   "source": [
    "<hr style=\"height:10px;border-width:0;color:gray;background-color:gray\">\n",
    "\n",
    "# Pearson’s Correlation Coefficient<a class=\"anchor\" id=\"PyStats_page_6\"></a>\n",
    "\n",
    "[Back to Top](#PyStats_toc)\n",
    "\n",
    "<hr style=\"height:10px;border-width:0;color:gray;background-color:gray\">"
   ]
  },
  {
   "cell_type": "markdown",
   "id": "aa559a6c-d9c5-4ae9-b4fe-16027a2ff3e6",
   "metadata": {},
   "source": [
    "<hr style=\"height:10px;border-width:0;color:gray;background-color:gray\">\n",
    "\n",
    "# Spearman’s Rank Correlation<a class=\"anchor\" id=\"PyStats_page_7\"></a>\n",
    "\n",
    "[Back to Top](#PyStats_toc)\n",
    "\n",
    "<hr style=\"height:10px;border-width:0;color:gray;background-color:gray\">"
   ]
  },
  {
   "cell_type": "markdown",
   "id": "3bed2dd9-12dc-4c8f-907c-78c53455d249",
   "metadata": {},
   "source": [
    "<hr style=\"height:10px;border-width:0;color:gray;background-color:gray\">\n",
    "\n",
    "# Kendall’s Rank Correlation<a class=\"anchor\" id=\"PyStats_page_8\"></a>\n",
    "\n",
    "[Back to Top](#PyStats_toc)\n",
    "\n",
    "<hr style=\"height:10px;border-width:0;color:gray;background-color:gray\">"
   ]
  },
  {
   "cell_type": "markdown",
   "id": "06b97e5b-9f89-47a5-be90-f5a2fc2a67ef",
   "metadata": {},
   "source": [
    "<hr style=\"height:10px;border-width:0;color:gray;background-color:gray\">\n",
    "\n",
    "# Chi-Squared Test<a class=\"anchor\" id=\"PyStats_page_9\"></a>\n",
    "\n",
    "[Back to Top](#PyStats_toc)\n",
    "\n",
    "<hr style=\"height:10px;border-width:0;color:gray;background-color:gray\">"
   ]
  },
  {
   "cell_type": "markdown",
   "id": "e2ffb966-a260-412d-9c63-7c7013c2f573",
   "metadata": {},
   "source": [
    "<hr style=\"height:10px;border-width:0;color:gray;background-color:gray\">\n",
    "\n",
    "# 3. Stationary Tests<a class=\"anchor\" id=\"PyStats_page_10\"></a>\n",
    "\n",
    "[Back to Top](#PyStats_toc)\n",
    "\n",
    "<hr style=\"height:10px;border-width:0;color:gray;background-color:gray\">"
   ]
  },
  {
   "cell_type": "markdown",
   "id": "f2cb0ffa-1d33-4782-8c5b-1423e88e6dcf",
   "metadata": {},
   "source": [
    "<hr style=\"height:10px;border-width:0;color:gray;background-color:gray\">\n",
    "\n",
    "# Augmented Dickey-Fuller<a class=\"anchor\" id=\"PyStats_page_11\"></a>\n",
    "\n",
    "[Back to Top](#PyStats_toc)\n",
    "\n",
    "<hr style=\"height:10px;border-width:0;color:gray;background-color:gray\">"
   ]
  },
  {
   "cell_type": "markdown",
   "id": "5e17c606-6bf8-4075-90a8-6557fbab5731",
   "metadata": {},
   "source": [
    "<hr style=\"height:10px;border-width:0;color:gray;background-color:gray\">\n",
    "\n",
    "# Kwiatkowski-Phillips-Schmidt-Shin<a class=\"anchor\" id=\"PyStats_page_12\"></a>\n",
    "\n",
    "[Back to Top](#PyStats_toc)\n",
    "\n",
    "<hr style=\"height:10px;border-width:0;color:gray;background-color:gray\">"
   ]
  },
  {
   "cell_type": "markdown",
   "id": "489bb013-920e-4286-bd51-7c1f70ecb2c4",
   "metadata": {},
   "source": [
    "<hr style=\"height:10px;border-width:0;color:gray;background-color:gray\">\n",
    "\n",
    "# Parametric Statistical Hypothesis Tests<a class=\"anchor\" id=\"PyStats_page_13\"></a>\n",
    "\n",
    "[Back to Top](#PyStats_toc)\n",
    "\n",
    "<hr style=\"height:10px;border-width:0;color:gray;background-color:gray\">"
   ]
  },
  {
   "cell_type": "markdown",
   "id": "b509d972-73cc-4318-965a-a5010fa6a70d",
   "metadata": {},
   "source": [
    "<hr style=\"height:10px;border-width:0;color:gray;background-color:gray\">\n",
    "\n",
    "# 4. Student’s t-test<a class=\"anchor\" id=\"PyStats_page_14\"></a>\n",
    "\n",
    "[Back to Top](#PyStats_toc)\n",
    "\n",
    "<hr style=\"height:10px;border-width:0;color:gray;background-color:gray\">"
   ]
  },
  {
   "cell_type": "markdown",
   "id": "8f977a87-eea5-4f82-92a1-414c99260295",
   "metadata": {},
   "source": [
    "<hr style=\"height:10px;border-width:0;color:gray;background-color:gray\">\n",
    "\n",
    "# Paired Student’s t-test<a class=\"anchor\" id=\"PyStats_page_15\"></a>\n",
    "\n",
    "[Back to Top](#PyStats_toc)\n",
    "\n",
    "<hr style=\"height:10px;border-width:0;color:gray;background-color:gray\">"
   ]
  },
  {
   "cell_type": "markdown",
   "id": "a2e03907-2362-4e46-843d-bfa65035e2f7",
   "metadata": {},
   "source": [
    "<hr style=\"height:10px;border-width:0;color:gray;background-color:gray\">\n",
    "\n",
    "# Analysis of Variance Test (ANOVA)<a class=\"anchor\" id=\"PyStats_page_16\"></a>\n",
    "\n",
    "[Back to Top](#PyStats_toc)\n",
    "\n",
    "<hr style=\"height:10px;border-width:0;color:gray;background-color:gray\">"
   ]
  },
  {
   "cell_type": "markdown",
   "id": "ef61a173-32f1-423f-aee3-439604175a90",
   "metadata": {},
   "source": [
    "<hr style=\"height:10px;border-width:0;color:gray;background-color:gray\">\n",
    "\n",
    "# Repeated Measures ANOVA Test<a class=\"anchor\" id=\"PyStats_page_17\"></a>\n",
    "\n",
    "[Back to Top](#PyStats_toc)\n",
    "\n",
    "<hr style=\"height:10px;border-width:0;color:gray;background-color:gray\">"
   ]
  },
  {
   "cell_type": "markdown",
   "id": "9c9b115d-e121-43c8-a8e2-512247442c0f",
   "metadata": {},
   "source": [
    "<hr style=\"height:10px;border-width:0;color:gray;background-color:gray\">\n",
    "\n",
    "# 5. Nonparametric Statistical Hypothesis Tests<a class=\"anchor\" id=\"PyStats_page_18\"></a>\n",
    "\n",
    "[Back to Top](#PyStats_toc)\n",
    "\n",
    "<hr style=\"height:10px;border-width:0;color:gray;background-color:gray\">"
   ]
  },
  {
   "cell_type": "markdown",
   "id": "360e6232-4a07-4ec6-81e3-6a1945cbc87f",
   "metadata": {},
   "source": [
    "<hr style=\"height:10px;border-width:0;color:gray;background-color:gray\">\n",
    "\n",
    "# Mann-Whitney U Test<a class=\"anchor\" id=\"PyStats_page_19\"></a>\n",
    "\n",
    "[Back to Top](#PyStats_toc)\n",
    "\n",
    "<hr style=\"height:10px;border-width:0;color:gray;background-color:gray\">"
   ]
  },
  {
   "cell_type": "markdown",
   "id": "7c3a105a-3d37-4e39-8d64-7e64dd53b7d5",
   "metadata": {},
   "source": [
    "<hr style=\"height:10px;border-width:0;color:gray;background-color:gray\">\n",
    "\n",
    "# Wilcoxon Signed-Rank Test<a class=\"anchor\" id=\"PyStats_page_20\"></a>\n",
    "\n",
    "[Back to Top](#PyStats_toc)\n",
    "\n",
    "<hr style=\"height:10px;border-width:0;color:gray;background-color:gray\">"
   ]
  },
  {
   "cell_type": "markdown",
   "id": "0f6303ea-ea2a-4074-a887-f5b4ad250869",
   "metadata": {},
   "source": [
    "<hr style=\"height:10px;border-width:0;color:gray;background-color:gray\">\n",
    "\n",
    "# Kruskal-Wallis H Test<a class=\"anchor\" id=\"PyStats_page_21\"></a>\n",
    "\n",
    "[Back to Top](#PyStats_toc)\n",
    "\n",
    "<hr style=\"height:10px;border-width:0;color:gray;background-color:gray\">"
   ]
  },
  {
   "cell_type": "markdown",
   "id": "eeb4052c-f977-4c2b-a24f-c0ae2d2a98c9",
   "metadata": {},
   "source": [
    "<hr style=\"height:10px;border-width:0;color:gray;background-color:gray\">\n",
    "\n",
    "# Friedman Test<a class=\"anchor\" id=\"PyStats_page_22\"></a>\n",
    "\n",
    "[Back to Top](#PyStats_toc)\n",
    "\n",
    "<hr style=\"height:10px;border-width:0;color:gray;background-color:gray\">"
   ]
  }
 ],
 "metadata": {
  "kernelspec": {
   "display_name": "Python 3 (ipykernel)",
   "language": "python",
   "name": "python3"
  },
  "language_info": {
   "codemirror_mode": {
    "name": "ipython",
    "version": 3
   },
   "file_extension": ".py",
   "mimetype": "text/x-python",
   "name": "python",
   "nbconvert_exporter": "python",
   "pygments_lexer": "ipython3",
   "version": "3.9.7"
  }
 },
 "nbformat": 4,
 "nbformat_minor": 5
}
