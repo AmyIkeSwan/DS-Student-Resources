{
 "cells": [
  {
   "cell_type": "markdown",
   "id": "0a9b844c-ff12-40c2-94b9-3d7a925a4092",
   "metadata": {},
   "source": [
    "# Classes"
   ]
  },
  {
   "cell_type": "code",
   "execution_count": 1,
   "id": "7398e939-e57c-47bc-8a01-ed886077d066",
   "metadata": {},
   "outputs": [],
   "source": [
    "# Let's set up classes for a video game.  They have different types of characters you can play. Barbarian! \n",
    "\n",
    "# Define the barbarian class\n",
    "\n",
    "class Barbarian: \n",
    "    # This is my initialization statement\n",
    "    def __init__ (self, name, can_read, weapon, enemies_vanquished):\n",
    "        self.name = name\n",
    "        self.can_read = can_read\n",
    "        self.weapon = weapon\n",
    "        self.enemies_vanquished = enemies_vanquished\n",
    "    # This is a function\n",
    "    def Victory(self):\n",
    "        print(self.name + \" the barbarian has had victory over \" + self.enemies_vanquished + \" enemies with a \" + self.weapon + \"!\")\n",
    "    \n",
    "    def educated(self):\n",
    "        if self.can_read ==True:\n",
    "            print(\"Wow! I can't believe \" + self.name + \" can read!\")"
   ]
  },
  {
   "cell_type": "code",
   "execution_count": 2,
   "id": "1eee6730-d600-454a-b4a4-837c9eef22c0",
   "metadata": {},
   "outputs": [],
   "source": [
    "# Create an instance of that class\n",
    "\n",
    "Conan = Barbarian(\"Conan\", True, \"sword\", \"721\")\n",
    "Barbarella = Barbarian(\"Barbarella\", False, \"spear\", \"100\")"
   ]
  },
  {
   "cell_type": "code",
   "execution_count": 3,
   "id": "597a9ee5-2c63-4a5a-9512-8d6e8b5a7a60",
   "metadata": {},
   "outputs": [
    {
     "name": "stdout",
     "output_type": "stream",
     "text": [
      "Conan the barbarian has had victory over 721 enemies with a sword!\n",
      "Wow! I can't believe Conan can read!\n"
     ]
    }
   ],
   "source": [
    "# Call that Function\n",
    "\n",
    "Conan.Victory()\n",
    "Conan.educated()"
   ]
  },
  {
   "cell_type": "code",
   "execution_count": 4,
   "id": "b3193236-0b92-4947-b1df-36e19efc408e",
   "metadata": {},
   "outputs": [
    {
     "name": "stdout",
     "output_type": "stream",
     "text": [
      "Barbarella the barbarian has had victory over 100 enemies with a spear!\n"
     ]
    }
   ],
   "source": [
    "Barbarella.Victory()\n",
    "Barbarella.educated()"
   ]
  },
  {
   "cell_type": "code",
   "execution_count": null,
   "id": "cf4b9b39-0dc3-4bf3-894b-3962f07d35ea",
   "metadata": {},
   "outputs": [],
   "source": []
  }
 ],
 "metadata": {
  "kernelspec": {
   "display_name": "Python 3 (ipykernel)",
   "language": "python",
   "name": "python3"
  },
  "language_info": {
   "codemirror_mode": {
    "name": "ipython",
    "version": 3
   },
   "file_extension": ".py",
   "mimetype": "text/x-python",
   "name": "python",
   "nbconvert_exporter": "python",
   "pygments_lexer": "ipython3",
   "version": "3.9.7"
  }
 },
 "nbformat": 4,
 "nbformat_minor": 5
}
