{
 "cells": [
  {
   "cell_type": "markdown",
   "id": "0a9b844c-ff12-40c2-94b9-3d7a925a4092",
   "metadata": {},
   "source": [
    "# Classes in Python"
   ]
  },
  {
   "cell_type": "code",
   "execution_count": 66,
   "id": "7398e939-e57c-47bc-8a01-ed886077d066",
   "metadata": {},
   "outputs": [],
   "source": [
    "# Let's set up classes for a video game.  They have different types of characters you can play. Barbarian! \n",
    "\n",
    "# Define the barbarian class\n",
    "\n",
    "class Barbarian: \n",
    "    '''This is a class for warriors!\n",
    "    It helps tell tales of great victories!\n",
    "    It has a doc string to help tell others what it's for\n",
    "    '''\n",
    "    # This is my initialization statement\n",
    "    def __init__ (self, name, can_read, weapon, enemies_vanquished, tribe=None):\n",
    "        self.name = name\n",
    "        self.can_read = can_read\n",
    "        self.weapon = weapon\n",
    "        self.enemies_vanquished = enemies_vanquished\n",
    "        self.tribe = tribe\n",
    "    # This is a function\n",
    "    def Victory(self):\n",
    "        print(self.name + \" the barbarian has had victory over \" + self.enemies_vanquished + \" enemies with a \" + self.weapon + \"!\")\n",
    "    \n",
    "    def educated(self):\n",
    "        if self.can_read ==True:\n",
    "            print(\"Wow! I can't believe \" + self.name + \" can read!\")"
   ]
  },
  {
   "cell_type": "markdown",
   "id": "294bae59-cc7f-4d91-9a66-814537278322",
   "metadata": {},
   "source": [
    "## Create an instance of that class"
   ]
  },
  {
   "cell_type": "code",
   "execution_count": 67,
   "id": "1eee6730-d600-454a-b4a4-837c9eef22c0",
   "metadata": {},
   "outputs": [],
   "source": [
    "Conan = Barbarian(\"Conan\", True, \"sword\", \"721\")"
   ]
  },
  {
   "cell_type": "code",
   "execution_count": 68,
   "id": "b7d41d5b-2a9b-4c7b-949f-607b134aded7",
   "metadata": {},
   "outputs": [],
   "source": [
    "Barbarella = Barbarian(\"Barbarella\", False, \"spear\", \"100\")"
   ]
  },
  {
   "cell_type": "markdown",
   "id": "4bcf0707-626d-42b3-be1a-8d02424956f3",
   "metadata": {},
   "source": [
    "## Accessing Attributes"
   ]
  },
  {
   "cell_type": "code",
   "execution_count": 69,
   "id": "726a2fb4-a5f6-4b60-b9fe-c86f56c77f2d",
   "metadata": {},
   "outputs": [
    {
     "data": {
      "text/plain": [
       "'sword'"
      ]
     },
     "execution_count": 69,
     "metadata": {},
     "output_type": "execute_result"
    }
   ],
   "source": [
    "Conan.weapon"
   ]
  },
  {
   "cell_type": "code",
   "execution_count": 70,
   "id": "139a2afd-527a-46a8-a00e-d8308d68e2a8",
   "metadata": {},
   "outputs": [
    {
     "data": {
      "text/plain": [
       "'100'"
      ]
     },
     "execution_count": 70,
     "metadata": {},
     "output_type": "execute_result"
    }
   ],
   "source": [
    "Barbarella.enemies_vanquished"
   ]
  },
  {
   "cell_type": "markdown",
   "id": "dcf7f302-62ff-4493-aaad-655212858716",
   "metadata": {},
   "source": [
    "## Class functions"
   ]
  },
  {
   "cell_type": "code",
   "execution_count": 71,
   "id": "597a9ee5-2c63-4a5a-9512-8d6e8b5a7a60",
   "metadata": {},
   "outputs": [
    {
     "name": "stdout",
     "output_type": "stream",
     "text": [
      "Conan the barbarian has had victory over 721 enemies with a sword!\n"
     ]
    }
   ],
   "source": [
    "Conan.Victory()"
   ]
  },
  {
   "cell_type": "code",
   "execution_count": 72,
   "id": "cbcfb0cc-3639-4d2f-a1b7-75ff298ab3c6",
   "metadata": {},
   "outputs": [
    {
     "name": "stdout",
     "output_type": "stream",
     "text": [
      "Wow! I can't believe Conan can read!\n"
     ]
    }
   ],
   "source": [
    "Conan.educated()"
   ]
  },
  {
   "cell_type": "code",
   "execution_count": 73,
   "id": "b3193236-0b92-4947-b1df-36e19efc408e",
   "metadata": {},
   "outputs": [
    {
     "name": "stdout",
     "output_type": "stream",
     "text": [
      "Barbarella the barbarian has had victory over 100 enemies with a spear!\n"
     ]
    }
   ],
   "source": [
    "Barbarella.Victory()"
   ]
  },
  {
   "cell_type": "code",
   "execution_count": 74,
   "id": "d96b5752-b05c-4729-8e60-e8ba20beac95",
   "metadata": {},
   "outputs": [],
   "source": [
    "Barbarella.educated()"
   ]
  },
  {
   "cell_type": "markdown",
   "id": "51bc1f66-3bed-4152-9686-f766261f383e",
   "metadata": {},
   "source": [
    "## Add Attributes"
   ]
  },
  {
   "cell_type": "code",
   "execution_count": 75,
   "id": "7f27be81-91f0-4f84-b88d-d81e0344ad43",
   "metadata": {},
   "outputs": [],
   "source": [
    "Conan.tribe = 'IronFist'"
   ]
  },
  {
   "cell_type": "code",
   "execution_count": 76,
   "id": "5e504e2c-a37d-4b20-8245-73b408bc87f6",
   "metadata": {},
   "outputs": [
    {
     "data": {
      "text/plain": [
       "'IronFist'"
      ]
     },
     "execution_count": 76,
     "metadata": {},
     "output_type": "execute_result"
    }
   ],
   "source": [
    "Conan.tribe"
   ]
  },
  {
   "cell_type": "code",
   "execution_count": 77,
   "id": "3becc067-fb95-4766-98f6-f61a98ab4366",
   "metadata": {},
   "outputs": [],
   "source": [
    "Barbarella.tribe = 'Amazon'"
   ]
  },
  {
   "cell_type": "code",
   "execution_count": 78,
   "id": "bfd5e83d-d02c-4087-bcdf-31346655417d",
   "metadata": {},
   "outputs": [
    {
     "data": {
      "text/plain": [
       "'Amazon'"
      ]
     },
     "execution_count": 78,
     "metadata": {},
     "output_type": "execute_result"
    }
   ],
   "source": [
    "Barbarella.tribe"
   ]
  },
  {
   "cell_type": "code",
   "execution_count": 79,
   "id": "a1fdfcec-cd62-4b66-a047-6d9ec701a82f",
   "metadata": {},
   "outputs": [],
   "source": [
    "def describe_barbarian(barbarian):\n",
    "    desc = f'{barbarian.name} of the {barbarian.tribe} wields a mighty {barbarian.weapon}!'\n",
    "    print(desc)"
   ]
  },
  {
   "cell_type": "code",
   "execution_count": 80,
   "id": "8f5e1160-00e0-4f79-a4e3-4767806234e2",
   "metadata": {},
   "outputs": [
    {
     "name": "stdout",
     "output_type": "stream",
     "text": [
      "Conan of the IronFist wields a mighty sword!\n"
     ]
    }
   ],
   "source": [
    "describe_barbarian(Conan)"
   ]
  },
  {
   "cell_type": "code",
   "execution_count": 81,
   "id": "d9a2c0d8-fca1-4a83-b79f-3e3bd556b392",
   "metadata": {},
   "outputs": [
    {
     "name": "stdout",
     "output_type": "stream",
     "text": [
      "Barbarella of the Amazon wields a mighty spear!\n"
     ]
    }
   ],
   "source": [
    "describe_barbarian(Barbarella)"
   ]
  },
  {
   "cell_type": "markdown",
   "id": "331fd381-10e0-4bd2-9b74-044a1d3f290e",
   "metadata": {},
   "source": [
    "## Update attributes"
   ]
  },
  {
   "cell_type": "code",
   "execution_count": 82,
   "id": "0698d0d8-21e5-4ea2-bb53-72cbcd6387d4",
   "metadata": {},
   "outputs": [
    {
     "data": {
      "text/plain": [
       "{'name': 'Conan',\n",
       " 'can_read': True,\n",
       " 'weapon': 'sword',\n",
       " 'enemies_vanquished': '721',\n",
       " 'tribe': 'IronFist'}"
      ]
     },
     "execution_count": 82,
     "metadata": {},
     "output_type": "execute_result"
    }
   ],
   "source": [
    "Conan.__dict__"
   ]
  },
  {
   "cell_type": "code",
   "execution_count": 83,
   "id": "5e9814b6-5d61-4961-a713-1a1414c7ae53",
   "metadata": {},
   "outputs": [],
   "source": [
    "Conan.weapon = 'teacup'"
   ]
  },
  {
   "cell_type": "code",
   "execution_count": 84,
   "id": "351e729a-cfc0-4c5b-bbe8-2790efff603a",
   "metadata": {},
   "outputs": [
    {
     "name": "stdout",
     "output_type": "stream",
     "text": [
      "Conan of the IronFist wields a mighty teacup!\n"
     ]
    }
   ],
   "source": [
    "describe_barbarian(Conan)"
   ]
  },
  {
   "cell_type": "code",
   "execution_count": 85,
   "id": "c9540362-969b-432b-a39a-b2eb761f304a",
   "metadata": {},
   "outputs": [
    {
     "data": {
      "text/plain": [
       "{'name': 'Conan',\n",
       " 'can_read': True,\n",
       " 'weapon': 'teacup',\n",
       " 'enemies_vanquished': '721',\n",
       " 'tribe': 'IronFist'}"
      ]
     },
     "execution_count": 85,
     "metadata": {},
     "output_type": "execute_result"
    }
   ],
   "source": [
    "Conan.__dict__"
   ]
  },
  {
   "cell_type": "markdown",
   "id": "217ea797-3592-4656-9b86-3373d1296bb7",
   "metadata": {},
   "source": [
    "## List all attributes"
   ]
  },
  {
   "cell_type": "code",
   "execution_count": 86,
   "id": "40554181-752d-4299-ab14-146be483f2aa",
   "metadata": {},
   "outputs": [
    {
     "data": {
      "text/plain": [
       "['Victory',\n",
       " '__class__',\n",
       " '__delattr__',\n",
       " '__dict__',\n",
       " '__dir__',\n",
       " '__doc__',\n",
       " '__eq__',\n",
       " '__format__',\n",
       " '__ge__',\n",
       " '__getattribute__',\n",
       " '__gt__',\n",
       " '__hash__',\n",
       " '__init__',\n",
       " '__init_subclass__',\n",
       " '__le__',\n",
       " '__lt__',\n",
       " '__module__',\n",
       " '__ne__',\n",
       " '__new__',\n",
       " '__reduce__',\n",
       " '__reduce_ex__',\n",
       " '__repr__',\n",
       " '__setattr__',\n",
       " '__sizeof__',\n",
       " '__str__',\n",
       " '__subclasshook__',\n",
       " '__weakref__',\n",
       " 'can_read',\n",
       " 'educated',\n",
       " 'enemies_vanquished',\n",
       " 'name',\n",
       " 'tribe',\n",
       " 'weapon']"
      ]
     },
     "execution_count": 86,
     "metadata": {},
     "output_type": "execute_result"
    }
   ],
   "source": [
    "dir(Conan)"
   ]
  },
  {
   "cell_type": "code",
   "execution_count": 87,
   "id": "f3b288c3-db35-4348-a14f-fd27c56db89f",
   "metadata": {},
   "outputs": [
    {
     "data": {
      "text/plain": [
       "\"This is a class for warriors!\\n    It helps tell tales of great victories!\\n    It has a doc string to help tell others what it's for\\n    \""
      ]
     },
     "execution_count": 87,
     "metadata": {},
     "output_type": "execute_result"
    }
   ],
   "source": [
    "Conan.__doc__"
   ]
  },
  {
   "cell_type": "code",
   "execution_count": null,
   "id": "c31d58e2-55b6-4ece-b31c-c9256128b9d6",
   "metadata": {},
   "outputs": [],
   "source": []
  }
 ],
 "metadata": {
  "kernelspec": {
   "display_name": "Python 3 (ipykernel)",
   "language": "python",
   "name": "python3"
  },
  "language_info": {
   "codemirror_mode": {
    "name": "ipython",
    "version": 3
   },
   "file_extension": ".py",
   "mimetype": "text/x-python",
   "name": "python",
   "nbconvert_exporter": "python",
   "pygments_lexer": "ipython3",
   "version": "3.9.7"
  }
 },
 "nbformat": 4,
 "nbformat_minor": 5
}
