{
 "cells": [
  {
   "cell_type": "markdown",
   "id": "c596ac57-7892-4725-b47e-d8279df8f44f",
   "metadata": {},
   "source": [
    "# TextBlob: Processing Text in One Line of Code"
   ]
  },
  {
   "cell_type": "markdown",
   "id": "b4ea054a-3bfa-4ef9-a671-bc9771f1ddf7",
   "metadata": {},
   "source": [
    "Processing text doesn't need to be hard. If you want to find the sentiment of the text,\n",
    "tokenize text, find noun phrase and word frequencies, correct spelling, etc in one line of\n",
    "code, try TextBlob."
   ]
  },
  {
   "cell_type": "code",
   "execution_count": 5,
   "id": "1a52c5cb-e1d4-4893-bbfc-0ed2b1c8d1bc",
   "metadata": {},
   "outputs": [
    {
     "name": "stdout",
     "output_type": "stream",
     "text": [
      "3.9.9 (main, Nov 21 2021, 03:23:42) \n",
      "[Clang 13.0.0 (clang-1300.0.29.3)]\n"
     ]
    }
   ],
   "source": [
    "import sys\n",
    "print(sys.version)"
   ]
  },
  {
   "cell_type": "code",
   "execution_count": 6,
   "id": "f4030e09-399f-4302-86c4-f28117d79b6f",
   "metadata": {},
   "outputs": [
    {
     "name": "stdout",
     "output_type": "stream",
     "text": [
      "Requirement already satisfied: textblob in /usr/local/lib/python3.9/site-packages (0.17.1)\n",
      "Requirement already satisfied: nltk>=3.1 in /usr/local/lib/python3.9/site-packages (from textblob) (3.6.3)\n",
      "Requirement already satisfied: regex in /usr/local/lib/python3.9/site-packages (from nltk>=3.1->textblob) (2020.11.13)\n",
      "Requirement already satisfied: joblib in /usr/local/lib/python3.9/site-packages (from nltk>=3.1->textblob) (1.0.1)\n",
      "Requirement already satisfied: click in /usr/local/lib/python3.9/site-packages (from nltk>=3.1->textblob) (7.1.2)\n",
      "Requirement already satisfied: tqdm in /usr/local/lib/python3.9/site-packages (from nltk>=3.1->textblob) (4.62.3)\n",
      "Note: you may need to restart the kernel to use updated packages.\n"
     ]
    }
   ],
   "source": [
    "pip install textblob"
   ]
  },
  {
   "cell_type": "code",
   "execution_count": 10,
   "id": "e541df29-9ddf-4bbd-9140-30b48d696fa3",
   "metadata": {},
   "outputs": [
    {
     "name": "stderr",
     "output_type": "stream",
     "text": [
      "[nltk_data] Downloading package brown to /Users/jsr/nltk_data...\n",
      "[nltk_data]   Unzipping corpora/brown.zip.\n",
      "[nltk_data] Downloading package punkt to /Users/jsr/nltk_data...\n",
      "[nltk_data]   Unzipping tokenizers/punkt.zip.\n",
      "[nltk_data] Downloading package wordnet to /Users/jsr/nltk_data...\n",
      "[nltk_data]   Unzipping corpora/wordnet.zip.\n",
      "[nltk_data] Downloading package averaged_perceptron_tagger to\n",
      "[nltk_data]     /Users/jsr/nltk_data...\n",
      "[nltk_data]   Unzipping taggers/averaged_perceptron_tagger.zip.\n",
      "[nltk_data] Downloading package conll2000 to /Users/jsr/nltk_data...\n",
      "[nltk_data]   Unzipping corpora/conll2000.zip.\n",
      "[nltk_data] Downloading package movie_reviews to\n",
      "[nltk_data]     /Users/jsr/nltk_data...\n",
      "[nltk_data]   Unzipping corpora/movie_reviews.zip.\n"
     ]
    },
    {
     "name": "stdout",
     "output_type": "stream",
     "text": [
      "Finished.\n"
     ]
    }
   ],
   "source": [
    "run -m textblob.download_corpora"
   ]
  },
  {
   "cell_type": "code",
   "execution_count": 9,
   "id": "31e08ad4-2605-42f1-b2fd-5a6e9677c8ae",
   "metadata": {},
   "outputs": [
    {
     "data": {
      "text/plain": [
       "'3.9.9 (main, Nov 21 2021, 03:23:42) \\n[Clang 13.0.0 (clang-1300.0.29.3)]'"
      ]
     },
     "execution_count": 9,
     "metadata": {},
     "output_type": "execute_result"
    }
   ],
   "source": [
    "sys.version"
   ]
  },
  {
   "cell_type": "code",
   "execution_count": null,
   "id": "46ac5056-89bb-41e1-86ad-1ba67cde460b",
   "metadata": {},
   "outputs": [],
   "source": []
  }
 ],
 "metadata": {
  "kernelspec": {
   "display_name": "Python 3 (ipykernel)",
   "language": "python",
   "name": "python3"
  },
  "language_info": {
   "codemirror_mode": {
    "name": "ipython",
    "version": 3
   },
   "file_extension": ".py",
   "mimetype": "text/x-python",
   "name": "python",
   "nbconvert_exporter": "python",
   "pygments_lexer": "ipython3",
   "version": "3.9.9"
  }
 },
 "nbformat": 4,
 "nbformat_minor": 5
}
