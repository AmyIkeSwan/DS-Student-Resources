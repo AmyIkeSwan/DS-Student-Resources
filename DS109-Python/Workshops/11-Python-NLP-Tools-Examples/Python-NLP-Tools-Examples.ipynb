{
 "cells": [
  {
   "cell_type": "markdown",
   "id": "684be0fa-22df-48c8-90f0-d59922dd06b0",
   "metadata": {},
   "source": [
    "# Python NLP Tool Examples"
   ]
  },
  {
   "cell_type": "markdown",
   "id": "f10c94e8-9e0d-4916-9616-455beb217987",
   "metadata": {
    "tags": []
   },
   "source": [
    "### Table of Contents <a class=\"anchor\" id=\"NLP-Example-toc\"></a>\n",
    "\n",
    "* [Table of Contents](#NLP-Example-toc)\n",
    "    * [TextBlob: Processing Text in One Line of Code](#NLP-Example-page_1)\n",
    "    * [sumy: Summarize Text in One Line of Code](#NLP-Example-page_2)\n",
    "    * [Spacy_streamlit: Create a Web App to Visualize Your Text in 3 Lines of Code](#NLP-Example-page_3)\n",
    "    * [textacy: Extract a Contiguous Sequence of 2 Words](#NLP-Example-page_4)\n",
    "    * [Convert Number to Words](#NLP-Example-page_5)\n",
    "    * [texthero.clean: Preprocess Text in One Line of Code](#NLP-Example-page_6)\n",
    "    * [wordfreq: Estimate the Frequency of a Word in 36 Languages](#NLP-Example-page_7)\n",
    "    * [newspaper3k: Extract Meaningful Information From Articles in 2 Lines of Code](#NLP-Example-page_8)"
   ]
  },
  {
   "cell_type": "markdown",
   "id": "c596ac57-7892-4725-b47e-d8279df8f44f",
   "metadata": {
    "tags": []
   },
   "source": [
    "<hr style=\"height:10px;border-width:0;color:gray;background-color:gray\">\n",
    "\n",
    "# TextBlob: Processing Text in One Line of Code<a class=\"anchor\" id=\"NLP-Example-page_1\"></a>\n",
    "\n",
    "[Back to Top](#NLP-Example-toc)\n",
    "\n",
    "<hr style=\"height:10px;border-width:0;color:gray;background-color:gray\">"
   ]
  },
  {
   "cell_type": "markdown",
   "id": "b4ea054a-3bfa-4ef9-a671-bc9771f1ddf7",
   "metadata": {},
   "source": [
    "<p style=\"text-align: center;\">\n",
    "  <img width=\"100\" alt=\"TextBlob Image\" src=\"https://textblob.readthedocs.io/en/dev/_static/textblob-logo.png\">\n",
    "</p>\n",
    "\n",
    "Processing text doesn't need to be hard. If you want to find the sentiment of the text,\n",
    "tokenize text, find noun phrase and word frequencies, correct spelling, etc in one line of\n",
    "code, try TextBlob.\n",
    "\n",
    "[TextBlob Home](https://textblob.readthedocs.io/en/dev/)"
   ]
  },
  {
   "cell_type": "code",
   "execution_count": null,
   "id": "f4030e09-399f-4302-86c4-f28117d79b6f",
   "metadata": {},
   "outputs": [],
   "source": [
    "#pip install textblob"
   ]
  },
  {
   "cell_type": "code",
   "execution_count": 21,
   "id": "685bcac7-4ab5-4a9e-b756-6db80f50b44f",
   "metadata": {},
   "outputs": [],
   "source": [
    "import warnings\n",
    "warnings.filterwarnings(\"ignore\")"
   ]
  },
  {
   "cell_type": "code",
   "execution_count": null,
   "id": "1a52c5cb-e1d4-4893-bbfc-0ed2b1c8d1bc",
   "metadata": {},
   "outputs": [],
   "source": [
    "import sys\n",
    "print(sys.version)"
   ]
  },
  {
   "cell_type": "code",
   "execution_count": null,
   "id": "e541df29-9ddf-4bbd-9140-30b48d696fa3",
   "metadata": {},
   "outputs": [],
   "source": [
    "run -m textblob.download_corpora"
   ]
  },
  {
   "cell_type": "code",
   "execution_count": null,
   "id": "31e08ad4-2605-42f1-b2fd-5a6e9677c8ae",
   "metadata": {},
   "outputs": [],
   "source": [
    "from textblob import TextBlob"
   ]
  },
  {
   "cell_type": "code",
   "execution_count": null,
   "id": "46ac5056-89bb-41e1-86ad-1ba67cde460b",
   "metadata": {},
   "outputs": [],
   "source": [
    "text = \"Today is a beautiful day\""
   ]
  },
  {
   "cell_type": "code",
   "execution_count": null,
   "id": "4bb076b9-bb33-4351-9725-101c2eec436e",
   "metadata": {},
   "outputs": [],
   "source": [
    "blob = TextBlob(text)"
   ]
  },
  {
   "cell_type": "code",
   "execution_count": null,
   "id": "d94446a3-fe0f-43a2-a474-ab9360f22db7",
   "metadata": {},
   "outputs": [],
   "source": [
    "blob.words # Word tokenization"
   ]
  },
  {
   "cell_type": "code",
   "execution_count": null,
   "id": "4dce6a45-5d9b-4555-9a9d-8ff6e3537a66",
   "metadata": {},
   "outputs": [],
   "source": [
    "blob.noun_phrases # Noun phrase extraction"
   ]
  },
  {
   "cell_type": "code",
   "execution_count": null,
   "id": "5ab2890d-9db9-4c7d-b8e7-19ba065640d8",
   "metadata": {},
   "outputs": [],
   "source": [
    "blob.sentiment # Sentiment analysis"
   ]
  },
  {
   "cell_type": "code",
   "execution_count": null,
   "id": "e0906c9f-5737-467f-a34f-5556d4888440",
   "metadata": {},
   "outputs": [],
   "source": [
    "blob.word_counts # Word counts"
   ]
  },
  {
   "cell_type": "code",
   "execution_count": null,
   "id": "218d96d5-ff0c-4034-bede-6fc8e95f9cbc",
   "metadata": {},
   "outputs": [],
   "source": [
    "# Spelling correction\n",
    "text = \"Today is a beutiful day\"\n",
    "blob = TextBlob(text)\n",
    "blob.correct()"
   ]
  },
  {
   "cell_type": "markdown",
   "id": "67794c27-cc6b-473d-a6e9-54cce751d07a",
   "metadata": {},
   "source": [
    "<hr style=\"height:10px;border-width:0;color:gray;background-color:gray\">\n",
    "\n",
    "# sumy: Summarize Text in One Line of Code<a class=\"anchor\" id=\"NLP-Example-page_2\"></a>\n",
    "\n",
    "[Back to Top](#NLP-Example-toc)\n",
    "\n",
    "<hr style=\"height:10px;border-width:0;color:gray;background-color:gray\">"
   ]
  },
  {
   "cell_type": "code",
   "execution_count": null,
   "id": "304a4493-91bc-4101-9db7-a6e69a42dc9e",
   "metadata": {},
   "outputs": [],
   "source": [
    "#pip install sumy"
   ]
  },
  {
   "cell_type": "markdown",
   "id": "663e76b9-e994-42a0-b64c-0d765196c63b",
   "metadata": {},
   "source": [
    "\n",
    "Simple library and command line utility for extracting summary from HTML pages or plain texts. The package also contains simple evaluation framework for text summaries. Implemented summarization methods are described in the documentation.\n",
    "\n",
    "If you want to summarize text using Python or command line, below is how sumy summarizes the article How to Learn Data Science (Step-By-Step)in a DataQuest blog article.\n",
    "\n",
    "[sumy home](https://pypi.org/project/sumy/)"
   ]
  },
  {
   "cell_type": "code",
   "execution_count": null,
   "id": "c9673248-3642-434a-9e31-41e118af694f",
   "metadata": {},
   "outputs": [],
   "source": [
    "!sumy --version"
   ]
  },
  {
   "cell_type": "code",
   "execution_count": null,
   "id": "cb3e3c15-bb70-46b3-85c7-738b6eab72c1",
   "metadata": {},
   "outputs": [],
   "source": [
    "!sumy lex-rank --length=10 --url='https://www.dataquest.io/blog/learn-data-science/'"
   ]
  },
  {
   "cell_type": "markdown",
   "id": "2fe527dd-a894-43d9-acc0-35c48216d38c",
   "metadata": {},
   "source": [
    "<hr style=\"height:10px;border-width:0;color:gray;background-color:gray\">\n",
    "\n",
    "# Spacy_streamlit: Create a Web App to Visualize Your Text in 3 Lines of Code<a class=\"anchor\" id=\"NLP-Example-page_3\"></a>\n",
    "\n",
    "[Back to Top](#NLP-Example-toc)\n",
    "\n",
    "<hr style=\"height:10px;border-width:0;color:gray;background-color:gray\">"
   ]
  },
  {
   "cell_type": "code",
   "execution_count": null,
   "id": "8acd8e8e-919f-4750-8655-a612bf7f195a",
   "metadata": {},
   "outputs": [],
   "source": [
    "#pip install spacy\n",
    "#python -m spacy download en_core_web_sm\n",
    "#python -m spacy download en_core_web_md\n",
    "#pip install spacy-streamlit"
   ]
  },
  {
   "cell_type": "markdown",
   "id": "6bcd050a-cf2d-4aa7-8917-010ab1f97e10",
   "metadata": {},
   "source": [
    "\n",
    "<p style=\"text-align: center;\">\n",
    "  <img width=\"100\" alt=\"spacy_streamlit Image\" src=\"https://i.imgur.com/mhEjluE.jpg\">\n",
    "</p>\n",
    "\n",
    "If you want to quickly create an app to visualize the structure of a text, try spacy_streamlit.\n",
    "To understand how to use spacy_streamlit, we add the code below to a file called streamlit_app.py:\n",
    "\n",
    "[space-streamlit](https://spacy.io/universe/project/spacy-streamlit)"
   ]
  },
  {
   "cell_type": "code",
   "execution_count": null,
   "id": "7675912b-553e-45bc-8c01-310953103fbb",
   "metadata": {},
   "outputs": [
    {
     "name": "stdout",
     "output_type": "stream",
     "text": [
      "\u001b[0m\n",
      "\u001b[34m\u001b[1m  You can now view your Streamlit app in your browser.\u001b[0m\n",
      "\u001b[0m\n",
      "\u001b[34m  Local URL: \u001b[0m\u001b[1mhttp://localhost:8502\u001b[0m\n",
      "\u001b[34m  Network URL: \u001b[0m\u001b[1mhttp://192.168.1.12:8502\u001b[0m\n",
      "\u001b[0m\n",
      "\u001b[34m\u001b[1m  For better performance, install the Watchdog module:\u001b[0m\n",
      "\n",
      "  $ xcode-select --install\n",
      "  $ pip install watchdog\n",
      "            \u001b[0m\n"
     ]
    }
   ],
   "source": [
    "#!streamlit run streamlit_app.py"
   ]
  },
  {
   "cell_type": "markdown",
   "id": "0fcc981b-766f-4fc2-9a66-25fd475477e5",
   "metadata": {},
   "source": [
    "\n",
    "<hr style=\"height:10px;border-width:0;color:gray;background-color:gray\">\n",
    "\n",
    "# textacy: Extract a Contiguous Sequence of 2 Words<a class=\"anchor\" id=\"NLP-Example-page_4\"></a>\n",
    "\n",
    "[Back to Top](#NLP-Example-toc)\n",
    "\n",
    "<hr style=\"height:10px;border-width:0;color:gray;background-color:gray\">"
   ]
  },
  {
   "cell_type": "code",
   "execution_count": null,
   "id": "75edf0a2-8947-4c33-9d2d-815e2da0a0d0",
   "metadata": {},
   "outputs": [],
   "source": [
    "#pip install spacy textacy"
   ]
  },
  {
   "cell_type": "markdown",
   "id": "54817e8d-6ca0-4fb6-8ac1-42ba61723484",
   "metadata": {},
   "source": [
    "<p style=\"text-align: center;\">\n",
    "  <img width=\"100\" alt=\"TextBlob Image\" src=\"https://textacy.readthedocs.io/en/latest/_static/textacy_logo.png\">\n",
    "</p>\n",
    "\n",
    "If you want to extract a contiguous sequence of 2 words, for example, 'data science', not 'data', what should you do? \n",
    "This is when the concept of extracting n-gram from text becomes useful.\n",
    "A really useful tool to easily extract n-gram with a specified number of words in the sequence is textacy.\n",
    "\n",
    "[textacy](https://textacy.readthedocs.io/en/latest/)"
   ]
  },
  {
   "cell_type": "code",
   "execution_count": 3,
   "id": "8d9ca365-0d4c-48fd-b8fc-8e5bb1124688",
   "metadata": {},
   "outputs": [
    {
     "data": {
      "text/plain": [
       "Data science          1\n",
       "disciplinary field    1\n",
       "uses scientific       1\n",
       "scientific methods    1\n",
       "extract knowledge     1\n",
       "unstructured data     1\n",
       "dtype: int64"
      ]
     },
     "execution_count": 3,
     "metadata": {},
     "output_type": "execute_result"
    }
   ],
   "source": [
    "import pandas as pd\n",
    "import spacy\n",
    "from textacy.extract import ngrams\n",
    "\n",
    "nlp = spacy.load('en_core_web_sm')\n",
    "\n",
    "text = nlp('Data science is an inter-disciplinary field that uses scientific methods, processes, algorithms, and systme to extract knowledge and insights from many structural and unstructured data.')\n",
    "\n",
    "n_grams = 2 # contiguous sequence of a word\n",
    "\n",
    "min_freq = 1 # extract n -gram based on its frequency\n",
    "\n",
    "pd.Series([n.text for n in ngrams(text, n=n_grams, min_freq=1)]).value_counts()"
   ]
  },
  {
   "cell_type": "markdown",
   "id": "5c91e6bc-1dd2-46e0-87e5-4f642ed26761",
   "metadata": {},
   "source": [
    "\n",
    "<hr style=\"height:10px;border-width:0;color:gray;background-color:gray\">\n",
    "\n",
    "# Convert Number to Words<a class=\"anchor\" id=\"NLP-Example-page_5\"></a>\n",
    "\n",
    "[Back to Top](#NLP-Example-toc)\n",
    "\n",
    "<hr style=\"height:10px;border-width:0;color:gray;background-color:gray\">"
   ]
  },
  {
   "cell_type": "code",
   "execution_count": 4,
   "id": "47ab322c-bc7a-4fd6-874b-f6f2e5cc1837",
   "metadata": {},
   "outputs": [],
   "source": [
    "#pip install num2words"
   ]
  },
  {
   "cell_type": "markdown",
   "id": "4d54802a-20a2-41f5-9c7a-21c2f4fe20f3",
   "metadata": {},
   "source": [
    "If there are both number 105 and the words ‘one hundred and five’ in a text, they should\n",
    "deliver the same meaning. How can we map 105 to ‘one hundred and five’? There is a\n",
    "Python libary to convert number to words called num2words."
   ]
  },
  {
   "cell_type": "code",
   "execution_count": 5,
   "id": "f3eb675b-37ca-48ae-8ecf-c7a90c338a1b",
   "metadata": {},
   "outputs": [],
   "source": [
    "from num2words import num2words"
   ]
  },
  {
   "cell_type": "code",
   "execution_count": 6,
   "id": "3957c24c-f455-4c7b-82c5-22bca46efaec",
   "metadata": {},
   "outputs": [
    {
     "data": {
      "text/plain": [
       "'one hundred and five'"
      ]
     },
     "execution_count": 6,
     "metadata": {},
     "output_type": "execute_result"
    }
   ],
   "source": [
    "num2words(105)"
   ]
  },
  {
   "cell_type": "code",
   "execution_count": 7,
   "id": "c454b970-68aa-45dc-92a3-1e44ba78d734",
   "metadata": {},
   "outputs": [
    {
     "data": {
      "text/plain": [
       "'one hundred and fifth'"
      ]
     },
     "execution_count": 7,
     "metadata": {},
     "output_type": "execute_result"
    }
   ],
   "source": [
    "num2words(105, to='ordinal')"
   ]
  },
  {
   "cell_type": "markdown",
   "id": "7c2dc413-3328-404d-9d04-94cf642ac951",
   "metadata": {},
   "source": [
    "The library can also generate ordinal numbers and support multiple languages!"
   ]
  },
  {
   "cell_type": "code",
   "execution_count": 8,
   "id": "4c61e2e3-08cc-46d3-b291-2327c60d75ab",
   "metadata": {},
   "outputs": [
    {
     "data": {
      "text/plain": [
       "'một trăm lẻ năm'"
      ]
     },
     "execution_count": 8,
     "metadata": {},
     "output_type": "execute_result"
    }
   ],
   "source": [
    "num2words(105, lang='vi')"
   ]
  },
  {
   "cell_type": "code",
   "execution_count": 9,
   "id": "56139bd3-81fb-44c9-98de-039d35157c4d",
   "metadata": {},
   "outputs": [
    {
     "data": {
      "text/plain": [
       "'ciento cinco'"
      ]
     },
     "execution_count": 9,
     "metadata": {},
     "output_type": "execute_result"
    }
   ],
   "source": [
    "num2words(105, lang='es')"
   ]
  },
  {
   "cell_type": "markdown",
   "id": "a79d5fc1-605c-4baa-94b0-cdeeab263489",
   "metadata": {},
   "source": [
    "\n",
    "<hr style=\"height:10px;border-width:0;color:gray;background-color:gray\">\n",
    "\n",
    "# texthero.clean: Preprocess Text in One Line of Code<a class=\"anchor\" id=\"NLP-Example-page_6\"></a>\n",
    "\n",
    "[Back to Top](#NLP-Example-toc)\n",
    "\n",
    "<hr style=\"height:10px;border-width:0;color:gray;background-color:gray\">"
   ]
  },
  {
   "cell_type": "code",
   "execution_count": null,
   "id": "74828bc3-c931-4972-98bb-4a116c36468c",
   "metadata": {},
   "outputs": [],
   "source": [
    "#pip install texthero"
   ]
  },
  {
   "cell_type": "markdown",
   "id": "58185025-c174-40cc-8d46-a30bea4711cd",
   "metadata": {},
   "source": [
    "If you want to preprocess text in one line of code, try texthero. The texthero.clean\n",
    "method will:\n",
    "\n",
    "- fill missing values\n",
    "- convert upper case to lower case\n",
    "- remove digits\n",
    "- remove punctuation\n",
    "- remove stopwords\n",
    "- remove whitespace\n",
    "\n",
    "The code below shows an example of texthero.clean"
   ]
  },
  {
   "cell_type": "code",
   "execution_count": 12,
   "id": "586ce749-c513-48e2-8082-1582741edc3e",
   "metadata": {},
   "outputs": [
    {
     "data": {
      "text/plain": [
       "0    today beautiful day\n",
       "1             ducks pond\n",
       "2                   cool\n",
       "3                       \n",
       "Name: text, dtype: object"
      ]
     },
     "execution_count": 12,
     "metadata": {},
     "output_type": "execute_result"
    }
   ],
   "source": [
    "import numpy as np\n",
    "#import pandas as pd\n",
    "import texthero as hero\n",
    "\n",
    "df = pd.DataFrame(\n",
    "    {\n",
    "        \"text\": [\n",
    "        \"Today is a beautiful day\",\n",
    "        \"There are 3 ducks in this pond\",\n",
    "        \"This is. very cool.\",\n",
    "        np.nan,\n",
    "        ]\n",
    "    })\n",
    "\n",
    "df.text.pipe(hero.clean)"
   ]
  },
  {
   "cell_type": "markdown",
   "id": "78bac170-6001-4a3a-891b-0e570cd88ea2",
   "metadata": {},
   "source": [
    "\n",
    "<hr style=\"height:10px;border-width:0;color:gray;background-color:gray\">\n",
    "\n",
    "# wordfreq: Estimate the Frequency of a Word in 36 Languages<a class=\"anchor\" id=\"NLP-Example-page_7\"></a>\n",
    "\n",
    "[Back to Top](#NLP-Example-toc)\n",
    "\n",
    "<hr style=\"height:10px;border-width:0;color:gray;background-color:gray\">"
   ]
  },
  {
   "cell_type": "code",
   "execution_count": 13,
   "id": "0b2dc5c3-e37d-4c52-ae6e-6e61322e15d8",
   "metadata": {},
   "outputs": [],
   "source": [
    "import matplotlib.pyplot as plt\n",
    "import seaborn as sns\n",
    "from wordfreq import word_frequency"
   ]
  },
  {
   "cell_type": "code",
   "execution_count": 14,
   "id": "ffbab21b-258b-4396-adcd-4a51a5e8da7d",
   "metadata": {},
   "outputs": [
    {
     "data": {
      "text/plain": [
       "0.000135"
      ]
     },
     "execution_count": 14,
     "metadata": {},
     "output_type": "execute_result"
    }
   ],
   "source": [
    "word_frequency(\"eat\", \"en\")"
   ]
  },
  {
   "cell_type": "code",
   "execution_count": 15,
   "id": "1d0a9655-7378-4904-b7b7-096ea44a8cc1",
   "metadata": {},
   "outputs": [
    {
     "data": {
      "text/plain": [
       "0.0537"
      ]
     },
     "execution_count": 15,
     "metadata": {},
     "output_type": "execute_result"
    }
   ],
   "source": [
    "word_frequency(\"the\", \"en\")"
   ]
  },
  {
   "cell_type": "code",
   "execution_count": 16,
   "id": "c86c27b5-14f7-4746-860b-d28c3030304f",
   "metadata": {},
   "outputs": [],
   "source": [
    "sentence = \"There is a dog running in a park\""
   ]
  },
  {
   "cell_type": "code",
   "execution_count": 17,
   "id": "292669c2-700b-405b-8840-7ccd085891e6",
   "metadata": {},
   "outputs": [],
   "source": [
    "words = sentence.split(\" \")"
   ]
  },
  {
   "cell_type": "code",
   "execution_count": 19,
   "id": "ce66b248-223a-40fa-9836-a5ff682d2ea0",
   "metadata": {},
   "outputs": [],
   "source": [
    "word_frequencies = [word_frequency(word, \"en\") for word in words]"
   ]
  },
  {
   "cell_type": "code",
   "execution_count": 24,
   "id": "e651c9f4-d08f-4fd9-8f41-26aa2a321a95",
   "metadata": {},
   "outputs": [
    {
     "data": {
      "text/plain": [
       "<AxesSubplot:>"
      ]
     },
     "execution_count": 24,
     "metadata": {},
     "output_type": "execute_result"
    },
    {
     "data": {
      "image/png": "[encoded data removed]",
      "text/plain": [
       "<Figure size 432x288 with 1 Axes>"
      ]
     },
     "metadata": {
      "needs_background": "light"
     },
     "output_type": "display_data"
    }
   ],
   "source": [
    "sns.barplot(words, word_frequencies)"
   ]
  },
  {
   "cell_type": "markdown",
   "id": "4f725da0-d29d-4acb-8cd9-8aa30835947f",
   "metadata": {},
   "source": [
    "\n",
    "\n",
    "<hr style=\"height:10px;border-width:0;color:gray;background-color:gray\">\n",
    "\n",
    "# newspaper3k: Extract Meaningful Information From Articles in 2 Lines of Code<a class=\"anchor\" id=\"NLP-Example-page_8\"></a>\n",
    "\n",
    "[Back to Top](#NLP-Example-toc)\n",
    "\n",
    "<hr style=\"height:10px;border-width:0;color:gray;background-color:gray\">"
   ]
  },
  {
   "cell_type": "code",
   "execution_count": 26,
   "id": "81fe89b6-bf87-4f2e-9f6a-db8925077f07",
   "metadata": {},
   "outputs": [],
   "source": [
    "# pip install newspaper3k nltk"
   ]
  },
  {
   "cell_type": "markdown",
   "id": "1c958b40-de2e-4770-8d0e-ffe501e2afd4",
   "metadata": {},
   "source": [
    "If you want to quickly extract meaningful information from an article in a few lines of code, try newspaper3k"
   ]
  },
  {
   "cell_type": "code",
   "execution_count": 27,
   "id": "80ff15bc-14a8-45e0-90a4-3e4faa8a782a",
   "metadata": {},
   "outputs": [],
   "source": [
    "from newspaper import Article\n",
    "import nltk"
   ]
  },
  {
   "cell_type": "code",
   "execution_count": 28,
   "id": "f58ee57c-f99d-444b-ac3d-1e866aefd9ae",
   "metadata": {},
   "outputs": [
    {
     "name": "stderr",
     "output_type": "stream",
     "text": [
      "[nltk_data] Downloading package punkt to /Users/jsr/nltk_data...\n",
      "[nltk_data]   Package punkt is already up-to-date!\n"
     ]
    },
    {
     "data": {
      "text/plain": [
       "True"
      ]
     },
     "execution_count": 28,
     "metadata": {},
     "output_type": "execute_result"
    }
   ],
   "source": [
    "nltk.download(\"punkt\")"
   ]
  },
  {
   "cell_type": "code",
   "execution_count": 29,
   "id": "55a786a7-b8bb-4dee-aecd-14cc47e12eed",
   "metadata": {},
   "outputs": [],
   "source": [
    "url = \"https://www.dataquest.io/blog/learn-data-science/\""
   ]
  },
  {
   "cell_type": "code",
   "execution_count": 30,
   "id": "84e317a9-f5d9-4071-964d-ad31a8b33a76",
   "metadata": {},
   "outputs": [],
   "source": [
    "article = Article(url)"
   ]
  },
  {
   "cell_type": "code",
   "execution_count": 31,
   "id": "c6a5f117-557e-479e-84cf-952688d4c478",
   "metadata": {},
   "outputs": [],
   "source": [
    "article.download()"
   ]
  },
  {
   "cell_type": "code",
   "execution_count": 32,
   "id": "dcdbaf80-e314-4a87-9703-4bcd457d0182",
   "metadata": {},
   "outputs": [],
   "source": [
    "article.parse()"
   ]
  },
  {
   "cell_type": "code",
   "execution_count": 33,
   "id": "d61c8509-5e9a-4ca3-9266-ee34ddf0cc3e",
   "metadata": {},
   "outputs": [
    {
     "data": {
      "text/plain": [
       "'How to Learn Data Science (A step-by-step guide)'"
      ]
     },
     "execution_count": 33,
     "metadata": {},
     "output_type": "execute_result"
    }
   ],
   "source": [
    "article.title"
   ]
  },
  {
   "cell_type": "code",
   "execution_count": 34,
   "id": "c5f851ac-4326-46a3-a37e-3718f17a883c",
   "metadata": {},
   "outputs": [
    {
     "data": {
      "text/plain": [
       "datetime.datetime(2020, 5, 4, 7, 1, tzinfo=tzutc())"
      ]
     },
     "execution_count": 34,
     "metadata": {},
     "output_type": "execute_result"
    }
   ],
   "source": [
    "article.publish_date"
   ]
  },
  {
   "cell_type": "code",
   "execution_count": 38,
   "id": "fa895a95-da8a-4652-adb1-9fe764e139d4",
   "metadata": {},
   "outputs": [
    {
     "data": {
      "text/plain": [
       "'https://www.dataquest.io/favicon.ico'"
      ]
     },
     "execution_count": 38,
     "metadata": {},
     "output_type": "execute_result"
    }
   ],
   "source": [
    "article.top_image"
   ]
  },
  {
   "cell_type": "code",
   "execution_count": 39,
   "id": "dc0f68ad-5e0d-4be5-9048-823fc7edaf61",
   "metadata": {},
   "outputs": [],
   "source": [
    "article.nlp()"
   ]
  },
  {
   "cell_type": "code",
   "execution_count": 40,
   "id": "73b501e5-7bd0-43ff-a82d-c72178d29c97",
   "metadata": {},
   "outputs": [
    {
     "data": {
      "text/plain": [
       "'How to Learn Data Science (A step-by-step guide)There’s no doubt about it: data scientists are in high demand.\\nHow to Learn Data ScienceSo how do you start to learn data science?\\nIf you want to learn data science or just pick up some data science skills, your first goal should be to learn to love data.\\nRather, consider it as a rough set of guidelines to follow as you learn data science on your own path.\\nI personally believe that anyone can learn data science if they approach it with the right frame of mind.'"
      ]
     },
     "execution_count": 40,
     "metadata": {},
     "output_type": "execute_result"
    }
   ],
   "source": [
    "article.summary"
   ]
  },
  {
   "cell_type": "code",
   "execution_count": 41,
   "id": "6dab19c9-620b-4446-b328-2563f89b708f",
   "metadata": {},
   "outputs": [
    {
     "data": {
      "text/plain": [
       "['youre',\n",
       " 'skills',\n",
       " 'learn',\n",
       " 'need',\n",
       " 'stepbystep',\n",
       " 'youll',\n",
       " 'work',\n",
       " 'data',\n",
       " 'scientists',\n",
       " 'science',\n",
       " 'learning',\n",
       " 'guide']"
      ]
     },
     "execution_count": 41,
     "metadata": {},
     "output_type": "execute_result"
    }
   ],
   "source": [
    "article.keywords"
   ]
  }
 ],
 "metadata": {
  "kernelspec": {
   "display_name": "Python 3 (ipykernel)",
   "language": "python",
   "name": "python3"
  },
  "language_info": {
   "codemirror_mode": {
    "name": "ipython",
    "version": 3
   },
   "file_extension": ".py",
   "mimetype": "text/x-python",
   "name": "python",
   "nbconvert_exporter": "python",
   "pygments_lexer": "ipython3",
   "version": "3.9.9"
  }
 },
 "nbformat": 4,
 "nbformat_minor": 5
}
