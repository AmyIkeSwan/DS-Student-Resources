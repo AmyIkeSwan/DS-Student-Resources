{
 "cells": [
  {
   "cell_type": "markdown",
   "id": "701c6664-c3af-4538-bac7-f1a5cc1826cd",
   "metadata": {},
   "source": [
    "# DS109 Questions\n",
    "\n",
    "## Lesson 1\n",
    "\n",
    "## Page 7"
   ]
  },
  {
   "cell_type": "code",
   "execution_count": 2,
   "id": "9fdc1222-3d73-42e1-b6bf-b95d73e3d8ff",
   "metadata": {},
   "outputs": [],
   "source": [
    "from DS_Students import *"
   ]
  },
  {
   "cell_type": "code",
   "execution_count": 3,
   "id": "cf433206-b1c6-41d7-86db-486d7cb4756e",
   "metadata": {},
   "outputs": [],
   "source": [
    "# Python Interpreter Quiz\n",
    "L1P7Q1 = MultipleChoice('1. What is the Python Interpreter?',['A. It reads different languages and translates to English.','B. It determines if your code is suitable for production.','C. The interpreter converts your program into another programming language like C# or C++.', 'D. The interpreter is the program that reads Python programs and carries out their instructions.'],'D. The interpreter is the program that reads Python programs and carries out their instructions.')\n",
    "L1P7Q2 = MultipleChoice('2. What is the proper syntax for the print function?',['A. print','B. print()','C. printLine()', 'D. Print()'],'B. print()')\n",
    "L1P7Q3 = MultipleChoice('3. The print function does not require a set or parentheses() after the word print to function?', ['A. True-The print() function DOES require () to function.', 'B. False'],'B. False')"
   ]
  },
  {
   "cell_type": "code",
   "execution_count": 4,
   "id": "6f20d99a-0d5d-482e-82a1-2adf01327726",
   "metadata": {},
   "outputs": [
    {
     "data": {
      "application/vnd.jupyter.widget-view+json": {
       "model_id": "6c36735717a34892bb0ca63be7b2bccb",
       "version_major": 2,
       "version_minor": 0
      },
      "text/plain": [
       "VBox(children=(Output(outputs=({'name': 'stdout', 'text': '1. What is the Python Interpreter?\\n', 'output_type…"
      ]
     },
     "metadata": {},
     "output_type": "display_data"
    },
    {
     "data": {
      "application/vnd.jupyter.widget-view+json": {
       "model_id": "dfe0d3c7c6cd473f889e8ca416dead5c",
       "version_major": 2,
       "version_minor": 0
      },
      "text/plain": [
       "VBox(children=(Output(outputs=({'name': 'stdout', 'text': '2. What is the proper syntax for the print function…"
      ]
     },
     "metadata": {},
     "output_type": "display_data"
    },
    {
     "data": {
      "application/vnd.jupyter.widget-view+json": {
       "model_id": "c4d25c0d53bf4a55ba68cd3a0f206ed5",
       "version_major": 2,
       "version_minor": 0
      },
      "text/plain": [
       "VBox(children=(Output(outputs=({'name': 'stdout', 'text': '3. The print function does not require a set or par…"
      ]
     },
     "metadata": {},
     "output_type": "display_data"
    }
   ],
   "source": [
    "if __name__ == \"__main__\":\n",
    "    display(L1P7Q1, L1P7Q2, L1P7Q3)"
   ]
  },
  {
   "cell_type": "markdown",
   "id": "59237b93-23a1-4511-9c47-069ff58089ca",
   "metadata": {},
   "source": [
    "## Page 14"
   ]
  },
  {
   "cell_type": "code",
   "execution_count": 5,
   "id": "9e09c0eb-06d1-440a-9c2a-4ced3fa16e4e",
   "metadata": {},
   "outputs": [],
   "source": [
    "L1P14Q1 = MultipleChoice('1. Which of the following is a string?',['A. Hello','B. 25','C. 19.1', 'D. \"Hello\"'],'D. \"Hello\"')\n",
    "L1P14Q2 = MultipleChoice('2. Out of these numbers which is a float?',['A. 19010','B. 190.10','C. 19', 'D. 190'],'B. 190.10')\n",
    "L1P14Q3 = MultipleChoice('3. Strings can use both single and double quotes?',['A. True','B. False'],'A. True')\n",
    "L1P14Q4 = MultipleChoice('4. Strings and numbers are considered what?',['A. Integers','B. Variables','C. Data Types'],'C. Data Types')"
   ]
  },
  {
   "cell_type": "code",
   "execution_count": 6,
   "id": "395b4e32-213a-432c-8570-dba7e76bc602",
   "metadata": {},
   "outputs": [
    {
     "data": {
      "application/vnd.jupyter.widget-view+json": {
       "model_id": "25ffde725f40484a95c20c1e9720fffd",
       "version_major": 2,
       "version_minor": 0
      },
      "text/plain": [
       "VBox(children=(Output(outputs=({'name': 'stdout', 'text': '1. Which of the following is a string?\\n', 'output_…"
      ]
     },
     "metadata": {},
     "output_type": "display_data"
    },
    {
     "data": {
      "application/vnd.jupyter.widget-view+json": {
       "model_id": "c0248aa7ef4645039090b46fda960ba7",
       "version_major": 2,
       "version_minor": 0
      },
      "text/plain": [
       "VBox(children=(Output(outputs=({'name': 'stdout', 'text': '2. Out of these numbers which is a float?\\n', 'outp…"
      ]
     },
     "metadata": {},
     "output_type": "display_data"
    },
    {
     "data": {
      "application/vnd.jupyter.widget-view+json": {
       "model_id": "0a6da6b9e68f4522b5e1c1238fb82155",
       "version_major": 2,
       "version_minor": 0
      },
      "text/plain": [
       "VBox(children=(Output(outputs=({'name': 'stdout', 'text': '3. Strings can use both single and double quotes?\\n…"
      ]
     },
     "metadata": {},
     "output_type": "display_data"
    },
    {
     "data": {
      "application/vnd.jupyter.widget-view+json": {
       "model_id": "f99fae43c34544ee970f20ad850833fb",
       "version_major": 2,
       "version_minor": 0
      },
      "text/plain": [
       "VBox(children=(Output(outputs=({'name': 'stdout', 'text': '4. Strings and numbers are considered what?\\n', 'ou…"
      ]
     },
     "metadata": {},
     "output_type": "display_data"
    }
   ],
   "source": [
    "if __name__ == \"__main__\":\n",
    "    display(L1P14Q1, L1P14Q2, L1P14Q3, L1P14Q4)"
   ]
  },
  {
   "cell_type": "markdown",
   "id": "214526dd-72ee-40d8-a2e5-41e165dcd951",
   "metadata": {},
   "source": [
    "# Lesson 2"
   ]
  },
  {
   "cell_type": "markdown",
   "id": "9e33c4f3-6613-475d-b308-10fc81fae2d1",
   "metadata": {},
   "source": [
    "## Page 14"
   ]
  },
  {
   "cell_type": "code",
   "execution_count": 7,
   "id": "c8eb6a46-ef59-46c0-8adb-773a004ded82",
   "metadata": {},
   "outputs": [],
   "source": [
    "L2P14Q1 = MultipleChoice('1. The reserved word or needs both conditions to pass to execute the action?',['A. True','B. False'],'B. False')\n",
    "L2P14Q2 = MultipleChoice('2. The = operator and == both assign value.',['A. True','B. False'],'B. False')\n",
    "L2P14Q3 = MultipleChoice('3. Which of these operators adds the right operand to the left operand and assigns the result to the left operand?',['A. +==','B. +=','C. ==', 'D. **='],'B. +=')\n",
    "L2P14Q4 = MultipleChoice('4. What would the output of the following be: 10 % 3?',['A. 3','B. 0','C. 10', 'D. 1'],'D. 1')\n",
    "L2P14Q5 = MultipleChoice('5. Which does the // operator accomplish?',['A. Division','B. Floor Division','C. Comments', 'D. Escapes'],'B. Floor Division')\n",
    "L2P14Q6 = MultipleChoice('6. What is the output of the following: 9 // 2?',['A. 4.5','B. 4'],'B. 4')"
   ]
  },
  {
   "cell_type": "code",
   "execution_count": 8,
   "id": "3adf2b8c-6d74-449d-abd7-f2ecd2cef18e",
   "metadata": {},
   "outputs": [
    {
     "data": {
      "application/vnd.jupyter.widget-view+json": {
       "model_id": "ac73060f3ef040cea649778aab371a24",
       "version_major": 2,
       "version_minor": 0
      },
      "text/plain": [
       "VBox(children=(Output(outputs=({'name': 'stdout', 'text': '1. The reserved word or needs both conditions to pa…"
      ]
     },
     "metadata": {},
     "output_type": "display_data"
    },
    {
     "data": {
      "application/vnd.jupyter.widget-view+json": {
       "model_id": "a06c2c7d9dfc434d8bba2c438fc16d2d",
       "version_major": 2,
       "version_minor": 0
      },
      "text/plain": [
       "VBox(children=(Output(outputs=({'name': 'stdout', 'text': '2. The = operator and == both assign value.\\n', 'ou…"
      ]
     },
     "metadata": {},
     "output_type": "display_data"
    },
    {
     "data": {
      "application/vnd.jupyter.widget-view+json": {
       "model_id": "bcfe44c503bf451290298daf956cc140",
       "version_major": 2,
       "version_minor": 0
      },
      "text/plain": [
       "VBox(children=(Output(outputs=({'name': 'stdout', 'text': '3. Which of these operators adds the right operand …"
      ]
     },
     "metadata": {},
     "output_type": "display_data"
    },
    {
     "data": {
      "application/vnd.jupyter.widget-view+json": {
       "model_id": "006eab42449849efa91cccb6c4fbd16b",
       "version_major": 2,
       "version_minor": 0
      },
      "text/plain": [
       "VBox(children=(Output(outputs=({'name': 'stdout', 'text': '4. What would the output of the following be: 10 % …"
      ]
     },
     "metadata": {},
     "output_type": "display_data"
    },
    {
     "data": {
      "application/vnd.jupyter.widget-view+json": {
       "model_id": "c692918fc6be4264ab18af8f35f2365c",
       "version_major": 2,
       "version_minor": 0
      },
      "text/plain": [
       "VBox(children=(Output(outputs=({'name': 'stdout', 'text': '5. Which does the // operator accomplish?\\n', 'outp…"
      ]
     },
     "metadata": {},
     "output_type": "display_data"
    },
    {
     "data": {
      "application/vnd.jupyter.widget-view+json": {
       "model_id": "b9f784fd81b043d5843f48e29099886f",
       "version_major": 2,
       "version_minor": 0
      },
      "text/plain": [
       "VBox(children=(Output(outputs=({'name': 'stdout', 'text': '6. What is the output of the following: 9 // 2?\\n',…"
      ]
     },
     "metadata": {},
     "output_type": "display_data"
    }
   ],
   "source": [
    "if __name__ == \"__main__\":\n",
    "    display(L2P14Q1, L2P14Q2, L2P14Q3, L2P14Q4, L2P14Q5, L2P14Q6)"
   ]
  },
  {
   "cell_type": "markdown",
   "id": "1d1c12ef-be83-4765-bfa4-4c7f00f9dd70",
   "metadata": {},
   "source": [
    "# Lesson 3"
   ]
  },
  {
   "cell_type": "markdown",
   "id": "04dad67f-7a9e-40f8-9014-757ce9009dd0",
   "metadata": {},
   "source": [
    "## Page 13"
   ]
  },
  {
   "cell_type": "code",
   "execution_count": 9,
   "id": "bd03588e-58ba-4704-9219-57219ae718d6",
   "metadata": {},
   "outputs": [],
   "source": [
    "L3P13Q1 = MultipleChoice('1. In this list [1, 2, 3, 4, 5], what number is at the index of 5 ?',['A. 1','B. 3', 'C. 5', 'D. None'],'D. None')\n",
    "L3P13Q2 = MultipleChoice('2. To select the last item of a list you can use which of the following values for the index?',['A. 0','B. -1', 'C. -2', 'D. 99'],'B. -1')\n",
    "L3P13Q3 = MultipleChoice('3. What is the proper syntax to retrieve the range of indices 1 to 5 in a list?',['A. 1;5','B. 1:5','C. {1:5}]', 'D. [1:5]'],'D. [1:5]')\n",
    "L3P13Q4 = MultipleChoice('4. Given a list of items named my_list, what will my_list.insert(3, \"box\") do?',['A. Insert the string value \"box\" into the list at the third position','B. Insert the string value \"box\" into the list at the fourth position','C. Insert the numeric value 3 into the list with an index value of \"box\"', 'D. Insert the string value \"box\" into the list 3 times'],'B. Insert the string value \"box\" into the list at the fourth position')\n",
    "L3P13Q5 = MultipleChoice('5. Given the list my_list = [1, 2, 3, 4, 5], which of the following commands will delete the item with the value 3?',['A. del my_list(2)','B. del my_list[2]','C. del my_list(3)', 'D. del my_list[3]'],'B. del my_list[2]')\n",
    "L3P13Q6 = MultipleChoice('6. Given the list my_list = [1, 2, 3, 4, 5], which of the following commands will delete the item with the value 3?',['A. my_list.remove(2)','B. my_list.remove(3)', 'C. my_list.remove[2]', 'D. my_list.remove[3]'],'B. my_list.remove(3)')"
   ]
  },
  {
   "cell_type": "code",
   "execution_count": 10,
   "id": "491cdb75-1975-4e17-855e-856627a3181f",
   "metadata": {},
   "outputs": [
    {
     "data": {
      "application/vnd.jupyter.widget-view+json": {
       "model_id": "f051c3e49dbc4e27a7267195125403f1",
       "version_major": 2,
       "version_minor": 0
      },
      "text/plain": [
       "VBox(children=(Output(outputs=({'name': 'stdout', 'text': '1. In this list [1, 2, 3, 4, 5], what number is at …"
      ]
     },
     "metadata": {},
     "output_type": "display_data"
    },
    {
     "data": {
      "application/vnd.jupyter.widget-view+json": {
       "model_id": "760d210b09cf4f3aa814c61d2f31504b",
       "version_major": 2,
       "version_minor": 0
      },
      "text/plain": [
       "VBox(children=(Output(outputs=({'name': 'stdout', 'text': '2. To select the last item of a list you can use wh…"
      ]
     },
     "metadata": {},
     "output_type": "display_data"
    },
    {
     "data": {
      "application/vnd.jupyter.widget-view+json": {
       "model_id": "e2a4fadf988b4fc88c58bc2dfc1a2005",
       "version_major": 2,
       "version_minor": 0
      },
      "text/plain": [
       "VBox(children=(Output(outputs=({'name': 'stdout', 'text': '3. What is the proper syntax to retrieve the range …"
      ]
     },
     "metadata": {},
     "output_type": "display_data"
    },
    {
     "data": {
      "application/vnd.jupyter.widget-view+json": {
       "model_id": "855a4966de6542f4a98dd4006cc04de8",
       "version_major": 2,
       "version_minor": 0
      },
      "text/plain": [
       "VBox(children=(Output(outputs=({'name': 'stdout', 'text': '4. Given a list of items named my_list, what will m…"
      ]
     },
     "metadata": {},
     "output_type": "display_data"
    },
    {
     "data": {
      "application/vnd.jupyter.widget-view+json": {
       "model_id": "17195c4fa6b5491faa21fa0d4a611156",
       "version_major": 2,
       "version_minor": 0
      },
      "text/plain": [
       "VBox(children=(Output(outputs=({'name': 'stdout', 'text': '5. Given the list my_list = [1, 2, 3, 4, 5], which …"
      ]
     },
     "metadata": {},
     "output_type": "display_data"
    },
    {
     "data": {
      "application/vnd.jupyter.widget-view+json": {
       "model_id": "4dcb0bc24f434cd4b5d0f01991279841",
       "version_major": 2,
       "version_minor": 0
      },
      "text/plain": [
       "VBox(children=(Output(outputs=({'name': 'stdout', 'text': '6. Given the list my_list = [1, 2, 3, 4, 5], which …"
      ]
     },
     "metadata": {},
     "output_type": "display_data"
    }
   ],
   "source": [
    "if __name__ == \"__main__\":\n",
    "    display(L3P13Q1, L3P13Q2, L3P13Q3, L3P13Q4, L3P13Q5, L3P13Q6)"
   ]
  },
  {
   "cell_type": "markdown",
   "id": "1e434e14-0799-4b70-8bc3-37ee52672b1f",
   "metadata": {},
   "source": [
    "## Page 19"
   ]
  },
  {
   "cell_type": "code",
   "execution_count": 21,
   "id": "aaf51bd2-0d44-429e-8b04-8e2abe2f409f",
   "metadata": {},
   "outputs": [],
   "source": [
    "L3P19Q1 = MultipleChoice('1. A while loop will run as long as a certain condition remains true.',['A. True','B. False'],'A. True')\n",
    "L3P19Q2 = MultipleChoice('2. When writing a for loop, it is best practice for the temporary variable name to represent a single item in your list. Ex: for car in cars',['A. True','B. False'],'A. True')\n",
    "L3P19Q3 = MultipleChoice('3. In the above code snippet, what needs to be changed for the loop to function properly?',['A. Change car to cars','B. Indent the print function', 'C. Indent the for loop', 'D. Remove the [] from the cars variable'],'B. Indent the print function')"
   ]
  },
  {
   "cell_type": "code",
   "execution_count": 12,
   "id": "e4f52c1d-fd7c-45ce-9f09-c19136fa9cdb",
   "metadata": {},
   "outputs": [
    {
     "data": {
      "application/vnd.jupyter.widget-view+json": {
       "model_id": "3469e6deec5146adae8fb5ce8dc59671",
       "version_major": 2,
       "version_minor": 0
      },
      "text/plain": [
       "VBox(children=(Output(outputs=({'name': 'stdout', 'text': '1. A while loop will run as long as a certain condi…"
      ]
     },
     "metadata": {},
     "output_type": "display_data"
    },
    {
     "data": {
      "application/vnd.jupyter.widget-view+json": {
       "model_id": "6157c7ca5bbb4d35863ae1ea3c90038a",
       "version_major": 2,
       "version_minor": 0
      },
      "text/plain": [
       "VBox(children=(Output(outputs=({'name': 'stdout', 'text': '2. When writing a for loop, it is best practice for…"
      ]
     },
     "metadata": {},
     "output_type": "display_data"
    }
   ],
   "source": [
    "if __name__ == \"__main__\":\n",
    "    display(L3P19Q1, L3P19Q2)"
   ]
  },
  {
   "cell_type": "markdown",
   "id": "9a159ba6-0b47-46d5-838b-e8e08c8f6c8f",
   "metadata": {},
   "source": [
    "```python\n",
    "\n",
    "cars = ['bmw', 'chevy', 'ford']\n",
    "\n",
    "for car in cars:\n",
    "\n",
    "print(car)\n",
    "```"
   ]
  },
  {
   "cell_type": "code",
   "execution_count": 22,
   "id": "a655a2a9-2baf-43fb-9093-55089fdb836c",
   "metadata": {},
   "outputs": [
    {
     "data": {
      "application/vnd.jupyter.widget-view+json": {
       "model_id": "1d5f1c03d8a44bdb869044ad13e2a966",
       "version_major": 2,
       "version_minor": 0
      },
      "text/plain": [
       "VBox(children=(Output(outputs=({'name': 'stdout', 'text': '3. In the following code snippet, what needs to be …"
      ]
     },
     "metadata": {},
     "output_type": "display_data"
    }
   ],
   "source": [
    "if __name__ == \"__main__\":\n",
    "    display(L3P19Q3)"
   ]
  },
  {
   "cell_type": "markdown",
   "id": "0b9d932b-1528-4274-89c4-2ff8d673af8e",
   "metadata": {},
   "source": [
    "## Page 20"
   ]
  },
  {
   "cell_type": "code",
   "execution_count": 13,
   "id": "55ddf550-f626-458d-a03e-58efe6fd0011",
   "metadata": {},
   "outputs": [],
   "source": [
    "L3P20Q1 = MultipleChoice('1. Which statement will allow you to exit a loop immediately once a condition is met?',['A. Continue','B. Return', 'C. Break', 'D. End'],'C. Break')\n",
    "L3P20Q2 = MultipleChoice('2. The continue statement can only be used in a for loop?',['A. True','B. False'],'B. False')\n",
    "L3P20Q3 = MultipleChoice('3. The break statement is most commonly used when an external condition is met, requiring you to exit the loop immediately',['A. True','B. False'],'A. True')"
   ]
  },
  {
   "cell_type": "code",
   "execution_count": 14,
   "id": "766e9a97-6436-43bc-b099-4559e44d2124",
   "metadata": {},
   "outputs": [
    {
     "data": {
      "application/vnd.jupyter.widget-view+json": {
       "model_id": "c2ef5d75d6ec4274b8f5eaa28ac5bed6",
       "version_major": 2,
       "version_minor": 0
      },
      "text/plain": [
       "VBox(children=(Output(outputs=({'name': 'stdout', 'text': '1. Which statement will allow you to exit a loop im…"
      ]
     },
     "metadata": {},
     "output_type": "display_data"
    },
    {
     "data": {
      "application/vnd.jupyter.widget-view+json": {
       "model_id": "c6f76106e927471fba71fb67b866825b",
       "version_major": 2,
       "version_minor": 0
      },
      "text/plain": [
       "VBox(children=(Output(outputs=({'name': 'stdout', 'text': '2. The continue statement can only be used in a for…"
      ]
     },
     "metadata": {},
     "output_type": "display_data"
    },
    {
     "data": {
      "application/vnd.jupyter.widget-view+json": {
       "model_id": "76407f8cfa09416eac9097a61c162a6b",
       "version_major": 2,
       "version_minor": 0
      },
      "text/plain": [
       "VBox(children=(Output(outputs=({'name': 'stdout', 'text': '3. The break statement is most commonly used when a…"
      ]
     },
     "metadata": {},
     "output_type": "display_data"
    }
   ],
   "source": [
    "if __name__ == \"__main__\":\n",
    "    display(L3P20Q1, L3P20Q2, L3P20Q3)"
   ]
  },
  {
   "cell_type": "markdown",
   "id": "2081c748-380c-4520-ac95-d8459206c32d",
   "metadata": {},
   "source": [
    "# Lesson 4"
   ]
  },
  {
   "cell_type": "markdown",
   "id": "fd13d6c1-dd50-47eb-a76d-ab04764e67ae",
   "metadata": {},
   "source": [
    "## Page 3"
   ]
  },
  {
   "cell_type": "code",
   "execution_count": 16,
   "id": "f51aa030-6dd5-4990-add9-ef5bc3c1170e",
   "metadata": {},
   "outputs": [],
   "source": [
    "L4P3Q1 = MultipleChoice('1. When a dictionary is created, what set of characters wrap the key-value pairs?',['A. []','B. ()','C. {}', 'D. <>'],'C. {}')\n",
    "L4P3Q2 = MultipleChoice('2. A dictionary cannot store other lists or dictionaries?',['A. True','B. False'],'B. False')"
   ]
  },
  {
   "cell_type": "code",
   "execution_count": 17,
   "id": "fc297f80-92e2-49e6-a3bb-d01b970e79da",
   "metadata": {},
   "outputs": [
    {
     "data": {
      "application/vnd.jupyter.widget-view+json": {
       "model_id": "9240de78531e45de9d9565b9bcf85093",
       "version_major": 2,
       "version_minor": 0
      },
      "text/plain": [
       "VBox(children=(Output(outputs=({'name': 'stdout', 'text': '1. When a dictionary is created, what set of charac…"
      ]
     },
     "metadata": {},
     "output_type": "display_data"
    },
    {
     "data": {
      "application/vnd.jupyter.widget-view+json": {
       "model_id": "45880da3976d4f7aba366f746d40b65c",
       "version_major": 2,
       "version_minor": 0
      },
      "text/plain": [
       "VBox(children=(Output(outputs=({'name': 'stdout', 'text': '2. A dictionary cannot store other lists or diction…"
      ]
     },
     "metadata": {},
     "output_type": "display_data"
    }
   ],
   "source": [
    "if __name__ == \"__main__\":\n",
    "    display(L4P3Q1, L4P3Q2)"
   ]
  },
  {
   "cell_type": "markdown",
   "id": "ca1bcf85-8b80-435c-aadc-d9542421a0c5",
   "metadata": {},
   "source": [
    "## Page 10"
   ]
  },
  {
   "cell_type": "code",
   "execution_count": 19,
   "id": "4d1cd37b-8a28-457b-ab2f-76b615bad149",
   "metadata": {},
   "outputs": [],
   "source": [
    "L4P10Q1 = MultipleChoice(\"1. By default, iterating a dictionary loops over the dictionary's values.\",['A. True','B. False'],'B. False')\n",
    "L4P10Q2 = MultipleChoice('2. Creating an empty dictionary can be done utilizing which of the following?',['A. dict = {}','B. dict = []', 'C. dict()', 'D. dict.empty = empty.{}'],'A. dict = {}')\n",
    "L4P10Q3 = MultipleChoice('3. The only possible way to loop through the keys in a dictionary is to utilize the .keys() syntax?',['A. True','B. False'],'B. False')\n",
    "L4P10Q4 = MultipleChoice(\"4. What is the proper syntax to print the value of a key named 'color' in a dictionary named 'cars'?\",[\"A. printCars['color']\",\"B. print(cars['color'])\",'C. print_cars.color', 'D. print(cars.color)'],\"B. print(cars['color'])\")"
   ]
  },
  {
   "cell_type": "code",
   "execution_count": null,
   "id": "c3485c0c-0b7a-4d42-81a1-90e53fb47c31",
   "metadata": {},
   "outputs": [
    {
     "data": {
      "application/vnd.jupyter.widget-view+json": {
       "model_id": "064ccdb4d1254fc9aec0922e24597f55",
       "version_major": 2,
       "version_minor": 0
      },
      "text/plain": [
       "VBox(children=(Output(outputs=({'name': 'stdout', 'text': \"1. By default, iterating a dictionary loops over th…"
      ]
     },
     "metadata": {},
     "output_type": "display_data"
    },
    {
     "data": {
      "application/vnd.jupyter.widget-view+json": {
       "model_id": "7ede35265b2e45d8a27fc826160ea404",
       "version_major": 2,
       "version_minor": 0
      },
      "text/plain": [
       "VBox(children=(Output(outputs=({'name': 'stdout', 'text': '2. Creating an empty dictionary can be done utilizi…"
      ]
     },
     "metadata": {},
     "output_type": "display_data"
    },
    {
     "data": {
      "application/vnd.jupyter.widget-view+json": {
       "model_id": "4628805dfbdb4372a4a59034d354d31a",
       "version_major": 2,
       "version_minor": 0
      },
      "text/plain": [
       "VBox(children=(Output(outputs=({'name': 'stdout', 'text': '3. The only possible way to loop through the keys i…"
      ]
     },
     "metadata": {},
     "output_type": "display_data"
    },
    {
     "data": {
      "application/vnd.jupyter.widget-view+json": {
       "model_id": "911aba3c333a46ae89b0414bb8d6f2da",
       "version_major": 2,
       "version_minor": 0
      },
      "text/plain": [
       "VBox(children=(Output(outputs=({'name': 'stdout', 'text': \"4. What is the proper syntax to print the value of …"
      ]
     },
     "metadata": {},
     "output_type": "display_data"
    }
   ],
   "source": [
    "if __name__ == \"__main__\":\n",
    "    display(L4P10Q1, L4P10Q2, L4P10Q3, L4P10Q4)"
   ]
  },
  {
   "cell_type": "markdown",
   "id": "fd600af6-2f3e-456a-b9c1-b60c0395fa8f",
   "metadata": {},
   "source": [
    "# Lesson 5"
   ]
  },
  {
   "cell_type": "markdown",
   "id": "4840b379-6a57-4323-b551-e6b43630ab73",
   "metadata": {},
   "source": [
    "## Page 2"
   ]
  },
  {
   "cell_type": "code",
   "execution_count": 25,
   "id": "5fc925bb-5b73-451f-b06e-003a9eccfae1",
   "metadata": {},
   "outputs": [],
   "source": [
    "L5P2Q1 = MultipleChoice(\"1. A function is a block of reusable code that is used to execute a single, related action.\",['A. True','B. False'],'A. True')\n",
    "L5P2Q2 = MultipleChoice('2. The keyword that defines a function is?',['A. def','B. func', 'C. defunc', 'D. function'],'A. def')\n",
    "L5P2Q3 = MultipleChoice('3. The set of three quotes \"\"\" \"\"\" is used to define what part of a function?',['A. Function name','B. docstring', 'C. invoking the function', 'D. parameter'],'B. docstring')"
   ]
  },
  {
   "cell_type": "code",
   "execution_count": 26,
   "id": "cdba365b-9e9a-4b13-b22d-327ba948ef0b",
   "metadata": {},
   "outputs": [
    {
     "data": {
      "application/vnd.jupyter.widget-view+json": {
       "model_id": "53622cd46b8e4973bcda876e4b7c0083",
       "version_major": 2,
       "version_minor": 0
      },
      "text/plain": [
       "VBox(children=(Output(outputs=({'name': 'stdout', 'text': '1. A function is a block of reusable code that is u…"
      ]
     },
     "metadata": {},
     "output_type": "display_data"
    },
    {
     "data": {
      "application/vnd.jupyter.widget-view+json": {
       "model_id": "526ce2bb172d4b4aaf30302fdef6477d",
       "version_major": 2,
       "version_minor": 0
      },
      "text/plain": [
       "VBox(children=(Output(outputs=({'name': 'stdout', 'text': '2. The keyword that defines a function is?\\n', 'out…"
      ]
     },
     "metadata": {},
     "output_type": "display_data"
    },
    {
     "data": {
      "application/vnd.jupyter.widget-view+json": {
       "model_id": "25792973660e4888a5dfccf016a91219",
       "version_major": 2,
       "version_minor": 0
      },
      "text/plain": [
       "VBox(children=(Output(outputs=({'name': 'stdout', 'text': '3. The set of three quotes \"\"\" \"\"\" is used to defin…"
      ]
     },
     "metadata": {},
     "output_type": "display_data"
    }
   ],
   "source": [
    "if __name__ == \"__main__\":\n",
    "    display(L5P2Q1, L5P2Q2, L5P2Q3)"
   ]
  },
  {
   "cell_type": "markdown",
   "id": "e03c6e69-abcc-4ca6-9c3d-031eb3f91f90",
   "metadata": {},
   "source": [
    "## Page 3"
   ]
  },
  {
   "cell_type": "code",
   "execution_count": 28,
   "id": "932fc083-529e-4af2-9984-6370968d9f61",
   "metadata": {},
   "outputs": [],
   "source": [
    "L5P3Q1 = MultipleChoice(\"1. Parameters are used when invoking a function?\",['A. True','B. False'],'B. False')\n",
    "L5P3Q2 = MultipleChoice('2. When two parameters are given, only one argument needs to be given?',['A. True','B. False'],'B. False')\n",
    "L5P3Q3 = MultipleChoice('3. Which of the following are types of arguments?',['A. Positional','B. Keyword', 'C. Default', 'D. All of the above'],'D. All of the above')"
   ]
  },
  {
   "cell_type": "code",
   "execution_count": 29,
   "id": "416e872f-0bb2-44bc-b635-0b9e12f5660d",
   "metadata": {},
   "outputs": [
    {
     "data": {
      "application/vnd.jupyter.widget-view+json": {
       "model_id": "c0d738cc3f0c476e9df5f6ff8db22aa4",
       "version_major": 2,
       "version_minor": 0
      },
      "text/plain": [
       "VBox(children=(Output(outputs=({'name': 'stdout', 'text': '1. Parameters are used when invoking a function?\\n'…"
      ]
     },
     "metadata": {},
     "output_type": "display_data"
    },
    {
     "data": {
      "application/vnd.jupyter.widget-view+json": {
       "model_id": "be5c00c97fd742c9b81c47a702d6943b",
       "version_major": 2,
       "version_minor": 0
      },
      "text/plain": [
       "VBox(children=(Output(outputs=({'name': 'stdout', 'text': '2. When two parameters are given, only one argument…"
      ]
     },
     "metadata": {},
     "output_type": "display_data"
    },
    {
     "data": {
      "application/vnd.jupyter.widget-view+json": {
       "model_id": "d7709e8c69c941578b77d27850a5402f",
       "version_major": 2,
       "version_minor": 0
      },
      "text/plain": [
       "VBox(children=(Output(outputs=({'name': 'stdout', 'text': '3. Which of the following are types of arguments?\\n…"
      ]
     },
     "metadata": {},
     "output_type": "display_data"
    }
   ],
   "source": [
    "if __name__ == \"__main__\":\n",
    "    display(L5P3Q1, L5P3Q2, L5P3Q3)"
   ]
  },
  {
   "cell_type": "markdown",
   "id": "5ad074f1-e799-4583-a8bb-726f7f38eb6b",
   "metadata": {},
   "source": [
    "## Page 5"
   ]
  },
  {
   "cell_type": "code",
   "execution_count": null,
   "id": "60ca8617-612f-485e-b500-903c5628b4e7",
   "metadata": {},
   "outputs": [],
   "source": []
  }
 ],
 "metadata": {
  "kernelspec": {
   "display_name": "Python 3 (ipykernel)",
   "language": "python",
   "name": "python3"
  },
  "language_info": {
   "codemirror_mode": {
    "name": "ipython",
    "version": 3
   },
   "file_extension": ".py",
   "mimetype": "text/x-python",
   "name": "python",
   "nbconvert_exporter": "python",
   "pygments_lexer": "ipython3",
   "version": "3.9.7"
  }
 },
 "nbformat": 4,
 "nbformat_minor": 5
}
