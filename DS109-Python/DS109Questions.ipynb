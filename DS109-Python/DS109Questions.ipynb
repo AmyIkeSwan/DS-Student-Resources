{
 "cells": [
  {
   "cell_type": "markdown",
   "id": "701c6664-c3af-4538-bac7-f1a5cc1826cd",
   "metadata": {},
   "source": [
    "# DS109 Questions\n",
    "\n",
    "## Lesson 1\n",
    "\n",
    "## Page 7"
   ]
  },
  {
   "cell_type": "code",
   "execution_count": 1,
   "id": "9fdc1222-3d73-42e1-b6bf-b95d73e3d8ff",
   "metadata": {},
   "outputs": [],
   "source": [
    "from DS_Students import *"
   ]
  },
  {
   "cell_type": "code",
   "execution_count": 2,
   "id": "cf433206-b1c6-41d7-86db-486d7cb4756e",
   "metadata": {},
   "outputs": [],
   "source": [
    "# Python Interpreter Quiz\n",
    "L1P7Q1 = MultipleChoice('1. What is the Python Interpreter?',['A. It reads different languages and translates to English.','B. It determines if your code is suitable for production.','C. The interpreter converts your program into another programming language like C# or C++.', 'D. The interpreter is the program that reads Python programs and carries out their instructions.'],'D. The interpreter is the program that reads Python programs and carries out their instructions.')\n",
    "L1P7Q2 = MultipleChoice('2. What is the proper syntax for the print function?',['A. print','B. print()','C. printLine()', 'D. Print()'],'B. print()')\n",
    "L1P7Q3 = MultipleChoice('3. The print function does not require a set or parentheses() after the word print to function?', ['A. True-The print() function DOES require () to function.', 'B. False'],'B. False')"
   ]
  },
  {
   "cell_type": "code",
   "execution_count": 3,
   "id": "6f20d99a-0d5d-482e-82a1-2adf01327726",
   "metadata": {},
   "outputs": [
    {
     "data": {
      "application/vnd.jupyter.widget-view+json": {
       "model_id": "51efc842a3f54b38a2fe85044df60d14",
       "version_major": 2,
       "version_minor": 0
      },
      "text/plain": [
       "VBox(children=(Output(), RadioButtons(layout=Layout(width='max-content'), options=(('A. It reads different lan…"
      ]
     },
     "metadata": {},
     "output_type": "display_data"
    },
    {
     "data": {
      "application/vnd.jupyter.widget-view+json": {
       "model_id": "c210a6fe36c6489c93cdad8978d0d39b",
       "version_major": 2,
       "version_minor": 0
      },
      "text/plain": [
       "VBox(children=(Output(), RadioButtons(layout=Layout(width='max-content'), options=(('A. print', 0), ('B. print…"
      ]
     },
     "metadata": {},
     "output_type": "display_data"
    },
    {
     "data": {
      "application/vnd.jupyter.widget-view+json": {
       "model_id": "d23bcb3c2a3f47b29b55ec69d8de8ba5",
       "version_major": 2,
       "version_minor": 0
      },
      "text/plain": [
       "VBox(children=(Output(), RadioButtons(layout=Layout(width='max-content'), options=(('A. True-The print() funct…"
      ]
     },
     "metadata": {},
     "output_type": "display_data"
    }
   ],
   "source": [
    "if __name__ == \"__main__\":\n",
    "    display(L1P7Q1, L1P7Q2, L1P7Q3)"
   ]
  },
  {
   "cell_type": "markdown",
   "id": "59237b93-23a1-4511-9c47-069ff58089ca",
   "metadata": {},
   "source": [
    "## Page 14"
   ]
  },
  {
   "cell_type": "code",
   "execution_count": 4,
   "id": "9e09c0eb-06d1-440a-9c2a-4ced3fa16e4e",
   "metadata": {},
   "outputs": [],
   "source": [
    "L1P14Q1 = MultipleChoice('1. Which of the following is a string?',['A. Hello','B. 25','C. 19.1', 'D. \"Hello\"'],'D. \"Hello\"')\n",
    "L1P14Q2 = MultipleChoice('2. Out of these numbers which is a float?',['A. 19010','B. 190.10','C. 19', 'D. 190'],'B. 190.10')\n",
    "L1P14Q3 = MultipleChoice('3. Strings can use both single and double quotes?',['A. True','B. False'],'A. True')\n",
    "L1P14Q4 = MultipleChoice('4. Strings and numbers are considered what?',['A. Integers','B. Variables','C. Data Types'],'C. Data Types')"
   ]
  },
  {
   "cell_type": "code",
   "execution_count": 5,
   "id": "395b4e32-213a-432c-8570-dba7e76bc602",
   "metadata": {},
   "outputs": [
    {
     "data": {
      "application/vnd.jupyter.widget-view+json": {
       "model_id": "a6060c315ca544ac998bb712e19880fa",
       "version_major": 2,
       "version_minor": 0
      },
      "text/plain": [
       "VBox(children=(Output(), RadioButtons(layout=Layout(width='max-content'), options=(('A. Hello', 0), ('B. 25', …"
      ]
     },
     "metadata": {},
     "output_type": "display_data"
    },
    {
     "data": {
      "application/vnd.jupyter.widget-view+json": {
       "model_id": "f09e2a13c979491185f961f8ffa13718",
       "version_major": 2,
       "version_minor": 0
      },
      "text/plain": [
       "VBox(children=(Output(), RadioButtons(layout=Layout(width='max-content'), options=(('A. 19010', 0), ('B. 190.1…"
      ]
     },
     "metadata": {},
     "output_type": "display_data"
    },
    {
     "data": {
      "application/vnd.jupyter.widget-view+json": {
       "model_id": "9337ea43fd704eaabc4d14760905a1b5",
       "version_major": 2,
       "version_minor": 0
      },
      "text/plain": [
       "VBox(children=(Output(), RadioButtons(layout=Layout(width='max-content'), options=(('A. True', 0), ('B. False'…"
      ]
     },
     "metadata": {},
     "output_type": "display_data"
    },
    {
     "data": {
      "application/vnd.jupyter.widget-view+json": {
       "model_id": "9a0c14e4ad424bfb9367987f10d3eda0",
       "version_major": 2,
       "version_minor": 0
      },
      "text/plain": [
       "VBox(children=(Output(), RadioButtons(layout=Layout(width='max-content'), options=(('A. Integers', 0), ('B. Va…"
      ]
     },
     "metadata": {},
     "output_type": "display_data"
    }
   ],
   "source": [
    "if __name__ == \"__main__\":\n",
    "    display(L1P14Q1, L1P14Q2, L1P14Q3, L1P14Q4)"
   ]
  },
  {
   "cell_type": "markdown",
   "id": "214526dd-72ee-40d8-a2e5-41e165dcd951",
   "metadata": {},
   "source": [
    "# Lesson 2"
   ]
  },
  {
   "cell_type": "markdown",
   "id": "9e33c4f3-6613-475d-b308-10fc81fae2d1",
   "metadata": {},
   "source": [
    "## Page 14"
   ]
  },
  {
   "cell_type": "code",
   "execution_count": 6,
   "id": "c8eb6a46-ef59-46c0-8adb-773a004ded82",
   "metadata": {},
   "outputs": [],
   "source": [
    "L2P14Q1 = MultipleChoice('1. The reserved word or needs both conditions to pass to execute the action?',['A. True','B. False'],'B. False')\n",
    "L2P14Q2 = MultipleChoice('2. The = operator and == both assign value.',['A. True','B. False'],'B. False')\n",
    "L2P14Q3 = MultipleChoice('3. Which of these operators adds the right operand to the left operand and assigns the result to the left operand?',['A. +==','B. +=','C. ==', 'D. **='],'B. +=')\n",
    "L2P14Q4 = MultipleChoice('4. What would the output of the following be: 10 % 3?',['A. 3','B. 0','C. 10', 'D. 1'],'D. 1')\n",
    "L2P14Q5 = MultipleChoice('5. Which does the // operator accomplish?',['A. Division','B. Floor Division','C. Comments', 'D. Escapes'],'B. Floor Division')\n",
    "L2P14Q6 = MultipleChoice('6. What is the output of the following: 9 // 2?',['A. 4.5','B. 4'],'B. 4')"
   ]
  },
  {
   "cell_type": "code",
   "execution_count": 7,
   "id": "3adf2b8c-6d74-449d-abd7-f2ecd2cef18e",
   "metadata": {},
   "outputs": [
    {
     "data": {
      "application/vnd.jupyter.widget-view+json": {
       "model_id": "a28444a7b9284e518b05915c168137e6",
       "version_major": 2,
       "version_minor": 0
      },
      "text/plain": [
       "VBox(children=(Output(), RadioButtons(layout=Layout(width='max-content'), options=(('A. True', 0), ('B. False'…"
      ]
     },
     "metadata": {},
     "output_type": "display_data"
    },
    {
     "data": {
      "application/vnd.jupyter.widget-view+json": {
       "model_id": "66b66081b71248f28381d071fa473ae0",
       "version_major": 2,
       "version_minor": 0
      },
      "text/plain": [
       "VBox(children=(Output(), RadioButtons(layout=Layout(width='max-content'), options=(('A. True', 0), ('B. False'…"
      ]
     },
     "metadata": {},
     "output_type": "display_data"
    },
    {
     "data": {
      "application/vnd.jupyter.widget-view+json": {
       "model_id": "f720b4a1bea843a0932b65f3a9a3729d",
       "version_major": 2,
       "version_minor": 0
      },
      "text/plain": [
       "VBox(children=(Output(), RadioButtons(layout=Layout(width='max-content'), options=(('A. +==', 0), ('B. +=', 1)…"
      ]
     },
     "metadata": {},
     "output_type": "display_data"
    },
    {
     "data": {
      "application/vnd.jupyter.widget-view+json": {
       "model_id": "e6dd43ab53764bf5a74990075d10eaa5",
       "version_major": 2,
       "version_minor": 0
      },
      "text/plain": [
       "VBox(children=(Output(), RadioButtons(layout=Layout(width='max-content'), options=(('A. 3', 0), ('B. 0', 1), (…"
      ]
     },
     "metadata": {},
     "output_type": "display_data"
    },
    {
     "data": {
      "application/vnd.jupyter.widget-view+json": {
       "model_id": "f075061649784bef86ba497a174216a2",
       "version_major": 2,
       "version_minor": 0
      },
      "text/plain": [
       "VBox(children=(Output(), RadioButtons(layout=Layout(width='max-content'), options=(('A. Division', 0), ('B. Fl…"
      ]
     },
     "metadata": {},
     "output_type": "display_data"
    },
    {
     "data": {
      "application/vnd.jupyter.widget-view+json": {
       "model_id": "26085544b21e4324be2e646acd9b46cb",
       "version_major": 2,
       "version_minor": 0
      },
      "text/plain": [
       "VBox(children=(Output(), RadioButtons(layout=Layout(width='max-content'), options=(('A. 4.5', 0), ('B. 4', 1))…"
      ]
     },
     "metadata": {},
     "output_type": "display_data"
    }
   ],
   "source": [
    "if __name__ == \"__main__\":\n",
    "    display(L2P14Q1, L2P14Q2, L2P14Q3, L2P14Q4, L2P14Q5, L2P14Q6)"
   ]
  },
  {
   "cell_type": "markdown",
   "id": "1d1c12ef-be83-4765-bfa4-4c7f00f9dd70",
   "metadata": {},
   "source": [
    "# Lesson 3"
   ]
  },
  {
   "cell_type": "markdown",
   "id": "04dad67f-7a9e-40f8-9014-757ce9009dd0",
   "metadata": {},
   "source": [
    "## Page 13"
   ]
  },
  {
   "cell_type": "code",
   "execution_count": 8,
   "id": "bd03588e-58ba-4704-9219-57219ae718d6",
   "metadata": {},
   "outputs": [],
   "source": [
    "L3P13Q1 = MultipleChoice('1. In this list [1, 2, 3, 4, 5], what number is at the index of 5 ?',['A. 1','B. 3', 'C. 5', 'D. None'],'D. None')\n",
    "L3P13Q2 = MultipleChoice('2. To select the last item of a list you can use which of the following values for the index?',['A. 0','B. -1', 'C. -2', 'D. 99'],'B. -1')\n",
    "L3P13Q3 = MultipleChoice('3. What is the proper syntax to retrieve the range of indices 1 to 5 in a list?',['A. 1;5','B. 1:5','C. {1:5}]', 'D. [1:5]'],'D. [1:5]')\n",
    "L3P13Q4 = MultipleChoice('4. Given a list of items named my_list, what will my_list.insert(3, \"box\") do?',['A. Insert the string value \"box\" into the list at the third position','B. Insert the string value \"box\" into the list at the fourth position','C. Insert the numeric value 3 into the list with an index value of \"box\"', 'D. Insert the string value \"box\" into the list 3 times'],'B. Insert the string value \"box\" into the list at the fourth position')\n",
    "L3P13Q5 = MultipleChoice('5. Given the list my_list = [1, 2, 3, 4, 5], which of the following commands will delete the item with the value 3?',['A. del my_list(2)','B. del my_list[2]','C. del my_list(3)', 'D. del my_list[3]'],'B. del my_list[2]')\n",
    "L3P13Q6 = MultipleChoice('6. Given the list my_list = [1, 2, 3, 4, 5], which of the following commands will delete the item with the value 3?',['A. my_list.remove(2)','B. my_list.remove(3)', 'C. my_list.remove[2]', 'D. my_list.remove[3]'],'B. my_list.remove(3)')"
   ]
  },
  {
   "cell_type": "code",
   "execution_count": 9,
   "id": "491cdb75-1975-4e17-855e-856627a3181f",
   "metadata": {},
   "outputs": [
    {
     "data": {
      "application/vnd.jupyter.widget-view+json": {
       "model_id": "fe243cce9e1145c2bd8cba2a52503975",
       "version_major": 2,
       "version_minor": 0
      },
      "text/plain": [
       "VBox(children=(Output(), RadioButtons(layout=Layout(width='max-content'), options=(('A. 1', 0), ('B. 3', 1), (…"
      ]
     },
     "metadata": {},
     "output_type": "display_data"
    },
    {
     "data": {
      "application/vnd.jupyter.widget-view+json": {
       "model_id": "06b1b353bdd04bcfbb542b017f5c0546",
       "version_major": 2,
       "version_minor": 0
      },
      "text/plain": [
       "VBox(children=(Output(), RadioButtons(layout=Layout(width='max-content'), options=(('A. 0', 0), ('B. -1', 1), …"
      ]
     },
     "metadata": {},
     "output_type": "display_data"
    },
    {
     "data": {
      "application/vnd.jupyter.widget-view+json": {
       "model_id": "f7a09a1e0e394a70bce6248ae702dcd7",
       "version_major": 2,
       "version_minor": 0
      },
      "text/plain": [
       "VBox(children=(Output(), RadioButtons(layout=Layout(width='max-content'), options=(('A. 1;5', 0), ('B. 1:5', 1…"
      ]
     },
     "metadata": {},
     "output_type": "display_data"
    },
    {
     "data": {
      "application/vnd.jupyter.widget-view+json": {
       "model_id": "3b28397512134e62bef0558022abdaf2",
       "version_major": 2,
       "version_minor": 0
      },
      "text/plain": [
       "VBox(children=(Output(), RadioButtons(layout=Layout(width='max-content'), options=(('A. Insert the string valu…"
      ]
     },
     "metadata": {},
     "output_type": "display_data"
    },
    {
     "data": {
      "application/vnd.jupyter.widget-view+json": {
       "model_id": "c695d5c404844d168f1c0f1fc391e30a",
       "version_major": 2,
       "version_minor": 0
      },
      "text/plain": [
       "VBox(children=(Output(), RadioButtons(layout=Layout(width='max-content'), options=(('A. del my_list(2)', 0), (…"
      ]
     },
     "metadata": {},
     "output_type": "display_data"
    },
    {
     "data": {
      "application/vnd.jupyter.widget-view+json": {
       "model_id": "a6083a5bf5b0405d9083696d9242fd18",
       "version_major": 2,
       "version_minor": 0
      },
      "text/plain": [
       "VBox(children=(Output(), RadioButtons(layout=Layout(width='max-content'), options=(('A. my_list.remove(2)', 0)…"
      ]
     },
     "metadata": {},
     "output_type": "display_data"
    }
   ],
   "source": [
    "if __name__ == \"__main__\":\n",
    "    display(L3P13Q1, L3P13Q2, L3P13Q3, L3P13Q4, L3P13Q5, L3P13Q6)"
   ]
  },
  {
   "cell_type": "markdown",
   "id": "1e434e14-0799-4b70-8bc3-37ee52672b1f",
   "metadata": {},
   "source": [
    "## Page 19"
   ]
  },
  {
   "cell_type": "code",
   "execution_count": 10,
   "id": "aaf51bd2-0d44-429e-8b04-8e2abe2f409f",
   "metadata": {},
   "outputs": [],
   "source": [
    "L3P19Q1 = MultipleChoice('1. A while loop will run as long as a certain condition remains true.',['A. True','B. False'],'A. True')\n",
    "L3P19Q2 = MultipleChoice('2. When writing a for loop, it is best practice for the temporary variable name to represent a single item in your list. Ex: for car in cars',['A. True','B. False'],'A. True')\n",
    "L3P19Q3 = MultipleChoice('3. In the above code snippet, what needs to be changed for the loop to function properly?',['A. Change car to cars','B. Indent the print function', 'C. Indent the for loop', 'D. Remove the [] from the cars variable'],'B. Indent the print function')"
   ]
  },
  {
   "cell_type": "code",
   "execution_count": 11,
   "id": "e4f52c1d-fd7c-45ce-9f09-c19136fa9cdb",
   "metadata": {},
   "outputs": [
    {
     "data": {
      "application/vnd.jupyter.widget-view+json": {
       "model_id": "0fadd2b3d1294bfcbe8e59a42703e8a7",
       "version_major": 2,
       "version_minor": 0
      },
      "text/plain": [
       "VBox(children=(Output(), RadioButtons(layout=Layout(width='max-content'), options=(('A. True', 0), ('B. False'…"
      ]
     },
     "metadata": {},
     "output_type": "display_data"
    },
    {
     "data": {
      "application/vnd.jupyter.widget-view+json": {
       "model_id": "6d8994f5ec1e4319b38e6fc7f2bb801c",
       "version_major": 2,
       "version_minor": 0
      },
      "text/plain": [
       "VBox(children=(Output(), RadioButtons(layout=Layout(width='max-content'), options=(('A. True', 0), ('B. False'…"
      ]
     },
     "metadata": {},
     "output_type": "display_data"
    }
   ],
   "source": [
    "if __name__ == \"__main__\":\n",
    "    display(L3P19Q1, L3P19Q2)"
   ]
  },
  {
   "cell_type": "markdown",
   "id": "9a159ba6-0b47-46d5-838b-e8e08c8f6c8f",
   "metadata": {},
   "source": [
    "```python\n",
    "\n",
    "cars = ['bmw', 'chevy', 'ford']\n",
    "\n",
    "for car in cars:\n",
    "\n",
    "print(car)\n",
    "```"
   ]
  },
  {
   "cell_type": "code",
   "execution_count": 12,
   "id": "a655a2a9-2baf-43fb-9093-55089fdb836c",
   "metadata": {},
   "outputs": [
    {
     "data": {
      "application/vnd.jupyter.widget-view+json": {
       "model_id": "ab8abd01ce914c67938879af3cdb566a",
       "version_major": 2,
       "version_minor": 0
      },
      "text/plain": [
       "VBox(children=(Output(), RadioButtons(layout=Layout(width='max-content'), options=(('A. Change car to cars', 0…"
      ]
     },
     "metadata": {},
     "output_type": "display_data"
    }
   ],
   "source": [
    "if __name__ == \"__main__\":\n",
    "    display(L3P19Q3)"
   ]
  },
  {
   "cell_type": "markdown",
   "id": "0b9d932b-1528-4274-89c4-2ff8d673af8e",
   "metadata": {},
   "source": [
    "## Page 20"
   ]
  },
  {
   "cell_type": "code",
   "execution_count": 13,
   "id": "55ddf550-f626-458d-a03e-58efe6fd0011",
   "metadata": {},
   "outputs": [],
   "source": [
    "L3P20Q1 = MultipleChoice('1. Which statement will allow you to exit a loop immediately once a condition is met?',['A. Continue','B. Return', 'C. Break', 'D. End'],'C. Break')\n",
    "L3P20Q2 = MultipleChoice('2. The continue statement can only be used in a for loop?',['A. True','B. False'],'B. False')\n",
    "L3P20Q3 = MultipleChoice('3. The break statement is most commonly used when an external condition is met, requiring you to exit the loop immediately',['A. True','B. False'],'A. True')"
   ]
  },
  {
   "cell_type": "code",
   "execution_count": 14,
   "id": "766e9a97-6436-43bc-b099-4559e44d2124",
   "metadata": {},
   "outputs": [
    {
     "data": {
      "application/vnd.jupyter.widget-view+json": {
       "model_id": "4900d2257ace463c8216a83c22afc89f",
       "version_major": 2,
       "version_minor": 0
      },
      "text/plain": [
       "VBox(children=(Output(), RadioButtons(layout=Layout(width='max-content'), options=(('A. Continue', 0), ('B. Re…"
      ]
     },
     "metadata": {},
     "output_type": "display_data"
    },
    {
     "data": {
      "application/vnd.jupyter.widget-view+json": {
       "model_id": "0c55249c42dc40e887019cc756632921",
       "version_major": 2,
       "version_minor": 0
      },
      "text/plain": [
       "VBox(children=(Output(), RadioButtons(layout=Layout(width='max-content'), options=(('A. True', 0), ('B. False'…"
      ]
     },
     "metadata": {},
     "output_type": "display_data"
    },
    {
     "data": {
      "application/vnd.jupyter.widget-view+json": {
       "model_id": "7385e4b1a2e145879542712f6b570d62",
       "version_major": 2,
       "version_minor": 0
      },
      "text/plain": [
       "VBox(children=(Output(), RadioButtons(layout=Layout(width='max-content'), options=(('A. True', 0), ('B. False'…"
      ]
     },
     "metadata": {},
     "output_type": "display_data"
    }
   ],
   "source": [
    "if __name__ == \"__main__\":\n",
    "    display(L3P20Q1, L3P20Q2, L3P20Q3)"
   ]
  },
  {
   "cell_type": "markdown",
   "id": "2081c748-380c-4520-ac95-d8459206c32d",
   "metadata": {},
   "source": [
    "# Lesson 4"
   ]
  },
  {
   "cell_type": "markdown",
   "id": "fd13d6c1-dd50-47eb-a76d-ab04764e67ae",
   "metadata": {},
   "source": [
    "## Page 3"
   ]
  },
  {
   "cell_type": "code",
   "execution_count": 15,
   "id": "f51aa030-6dd5-4990-add9-ef5bc3c1170e",
   "metadata": {},
   "outputs": [],
   "source": [
    "L4P3Q1 = MultipleChoice('1. When a dictionary is created, what set of characters wrap the key-value pairs?',['A. []','B. ()','C. {}', 'D. <>'],'C. {}')\n",
    "L4P3Q2 = MultipleChoice('2. A dictionary cannot store other lists or dictionaries?',['A. True','B. False'],'B. False')"
   ]
  },
  {
   "cell_type": "code",
   "execution_count": 16,
   "id": "fc297f80-92e2-49e6-a3bb-d01b970e79da",
   "metadata": {},
   "outputs": [
    {
     "data": {
      "application/vnd.jupyter.widget-view+json": {
       "model_id": "5342aad1e76d4187ba56a843d1dac457",
       "version_major": 2,
       "version_minor": 0
      },
      "text/plain": [
       "VBox(children=(Output(), RadioButtons(layout=Layout(width='max-content'), options=(('A. []', 0), ('B. ()', 1),…"
      ]
     },
     "metadata": {},
     "output_type": "display_data"
    },
    {
     "data": {
      "application/vnd.jupyter.widget-view+json": {
       "model_id": "07f18cb0f20c4731a6986c8f996712c9",
       "version_major": 2,
       "version_minor": 0
      },
      "text/plain": [
       "VBox(children=(Output(), RadioButtons(layout=Layout(width='max-content'), options=(('A. True', 0), ('B. False'…"
      ]
     },
     "metadata": {},
     "output_type": "display_data"
    }
   ],
   "source": [
    "if __name__ == \"__main__\":\n",
    "    display(L4P3Q1, L4P3Q2)"
   ]
  },
  {
   "cell_type": "markdown",
   "id": "ca1bcf85-8b80-435c-aadc-d9542421a0c5",
   "metadata": {},
   "source": [
    "## Page 10"
   ]
  },
  {
   "cell_type": "code",
   "execution_count": 17,
   "id": "4d1cd37b-8a28-457b-ab2f-76b615bad149",
   "metadata": {},
   "outputs": [],
   "source": [
    "L4P10Q1 = MultipleChoice(\"1. By default, iterating a dictionary loops over the dictionary's values.\",['A. True','B. False'],'B. False')\n",
    "L4P10Q2 = MultipleChoice('2. Creating an empty dictionary can be done utilizing which of the following?',['A. dict = {}','B. dict = []', 'C. dict()', 'D. dict.empty = empty.{}'],'A. dict = {}')\n",
    "L4P10Q3 = MultipleChoice('3. The only possible way to loop through the keys in a dictionary is to utilize the .keys() syntax?',['A. True','B. False'],'B. False')\n",
    "L4P10Q4 = MultipleChoice(\"4. What is the proper syntax to print the value of a key named 'color' in a dictionary named 'cars'?\",[\"A. printCars['color']\",\"B. print(cars['color'])\",'C. print_cars.color', 'D. print(cars.color)'],\"B. print(cars['color'])\")"
   ]
  },
  {
   "cell_type": "code",
   "execution_count": 18,
   "id": "c3485c0c-0b7a-4d42-81a1-90e53fb47c31",
   "metadata": {},
   "outputs": [
    {
     "data": {
      "application/vnd.jupyter.widget-view+json": {
       "model_id": "2c9bdabc596341168aaedce6b9b07897",
       "version_major": 2,
       "version_minor": 0
      },
      "text/plain": [
       "VBox(children=(Output(), RadioButtons(layout=Layout(width='max-content'), options=(('A. True', 0), ('B. False'…"
      ]
     },
     "metadata": {},
     "output_type": "display_data"
    },
    {
     "data": {
      "application/vnd.jupyter.widget-view+json": {
       "model_id": "867d8fb08dd84068a341d74199f05bca",
       "version_major": 2,
       "version_minor": 0
      },
      "text/plain": [
       "VBox(children=(Output(), RadioButtons(layout=Layout(width='max-content'), options=(('A. dict = {}', 0), ('B. d…"
      ]
     },
     "metadata": {},
     "output_type": "display_data"
    },
    {
     "data": {
      "application/vnd.jupyter.widget-view+json": {
       "model_id": "4463552522404123bd01be7f6de5d9a1",
       "version_major": 2,
       "version_minor": 0
      },
      "text/plain": [
       "VBox(children=(Output(), RadioButtons(layout=Layout(width='max-content'), options=(('A. True', 0), ('B. False'…"
      ]
     },
     "metadata": {},
     "output_type": "display_data"
    },
    {
     "data": {
      "application/vnd.jupyter.widget-view+json": {
       "model_id": "3fa501f6da3941ff8d932376f7aa9e44",
       "version_major": 2,
       "version_minor": 0
      },
      "text/plain": [
       "VBox(children=(Output(), RadioButtons(layout=Layout(width='max-content'), options=((\"A. printCars['color']\", 0…"
      ]
     },
     "metadata": {},
     "output_type": "display_data"
    }
   ],
   "source": [
    "if __name__ == \"__main__\":\n",
    "    display(L4P10Q1, L4P10Q2, L4P10Q3, L4P10Q4)"
   ]
  },
  {
   "cell_type": "markdown",
   "id": "fd600af6-2f3e-456a-b9c1-b60c0395fa8f",
   "metadata": {},
   "source": [
    "# Lesson 5"
   ]
  },
  {
   "cell_type": "markdown",
   "id": "4840b379-6a57-4323-b551-e6b43630ab73",
   "metadata": {},
   "source": [
    "## Page 2"
   ]
  },
  {
   "cell_type": "code",
   "execution_count": 19,
   "id": "5fc925bb-5b73-451f-b06e-003a9eccfae1",
   "metadata": {},
   "outputs": [],
   "source": [
    "L5P2Q1 = MultipleChoice(\"1. A function is a block of reusable code that is used to execute a single, related action.\",['A. True','B. False'],'A. True')\n",
    "L5P2Q2 = MultipleChoice('2. The keyword that defines a function is?',['A. def','B. func', 'C. defunc', 'D. function'],'A. def')\n",
    "L5P2Q3 = MultipleChoice('3. The set of three quotes \"\"\" \"\"\" is used to define what part of a function?',['A. Function name','B. docstring', 'C. invoking the function', 'D. parameter'],'B. docstring')"
   ]
  },
  {
   "cell_type": "code",
   "execution_count": 20,
   "id": "cdba365b-9e9a-4b13-b22d-327ba948ef0b",
   "metadata": {},
   "outputs": [
    {
     "data": {
      "application/vnd.jupyter.widget-view+json": {
       "model_id": "2196c44b20e94b4686eb33aa18b97ca6",
       "version_major": 2,
       "version_minor": 0
      },
      "text/plain": [
       "VBox(children=(Output(), RadioButtons(layout=Layout(width='max-content'), options=(('A. True', 0), ('B. False'…"
      ]
     },
     "metadata": {},
     "output_type": "display_data"
    },
    {
     "data": {
      "application/vnd.jupyter.widget-view+json": {
       "model_id": "5fc97ea549a040b1ab2aa754b41486a1",
       "version_major": 2,
       "version_minor": 0
      },
      "text/plain": [
       "VBox(children=(Output(), RadioButtons(layout=Layout(width='max-content'), options=(('A. def', 0), ('B. func', …"
      ]
     },
     "metadata": {},
     "output_type": "display_data"
    },
    {
     "data": {
      "application/vnd.jupyter.widget-view+json": {
       "model_id": "53f88ca9b20f45e4b2c1b42f958a1178",
       "version_major": 2,
       "version_minor": 0
      },
      "text/plain": [
       "VBox(children=(Output(), RadioButtons(layout=Layout(width='max-content'), options=(('A. Function name', 0), ('…"
      ]
     },
     "metadata": {},
     "output_type": "display_data"
    }
   ],
   "source": [
    "if __name__ == \"__main__\":\n",
    "    display(L5P2Q1, L5P2Q2, L5P2Q3)"
   ]
  },
  {
   "cell_type": "markdown",
   "id": "e03c6e69-abcc-4ca6-9c3d-031eb3f91f90",
   "metadata": {},
   "source": [
    "## Page 3"
   ]
  },
  {
   "cell_type": "code",
   "execution_count": 21,
   "id": "932fc083-529e-4af2-9984-6370968d9f61",
   "metadata": {},
   "outputs": [],
   "source": [
    "L5P3Q1 = MultipleChoice(\"1. Parameters are used when invoking a function?\",['A. True','B. False'],'B. False')\n",
    "L5P3Q2 = MultipleChoice('2. When two parameters are given, only one argument needs to be given?',['A. True','B. False'],'B. False')\n",
    "L5P3Q3 = MultipleChoice('3. Which of the following are types of arguments?',['A. Positional','B. Keyword', 'C. Default', 'D. All of the above'],'D. All of the above')"
   ]
  },
  {
   "cell_type": "code",
   "execution_count": 22,
   "id": "416e872f-0bb2-44bc-b635-0b9e12f5660d",
   "metadata": {},
   "outputs": [
    {
     "data": {
      "application/vnd.jupyter.widget-view+json": {
       "model_id": "9bcb43c1fd22421789ac62c07bea9976",
       "version_major": 2,
       "version_minor": 0
      },
      "text/plain": [
       "VBox(children=(Output(), RadioButtons(layout=Layout(width='max-content'), options=(('A. True', 0), ('B. False'…"
      ]
     },
     "metadata": {},
     "output_type": "display_data"
    },
    {
     "data": {
      "application/vnd.jupyter.widget-view+json": {
       "model_id": "2224aeb1bd544e79be59538ba8f1af92",
       "version_major": 2,
       "version_minor": 0
      },
      "text/plain": [
       "VBox(children=(Output(), RadioButtons(layout=Layout(width='max-content'), options=(('A. True', 0), ('B. False'…"
      ]
     },
     "metadata": {},
     "output_type": "display_data"
    },
    {
     "data": {
      "application/vnd.jupyter.widget-view+json": {
       "model_id": "419e89ca6ec94b6b9cc72751ce595cb4",
       "version_major": 2,
       "version_minor": 0
      },
      "text/plain": [
       "VBox(children=(Output(), RadioButtons(layout=Layout(width='max-content'), options=(('A. Positional', 0), ('B. …"
      ]
     },
     "metadata": {},
     "output_type": "display_data"
    }
   ],
   "source": [
    "if __name__ == \"__main__\":\n",
    "    display(L5P3Q1, L5P3Q2, L5P3Q3)"
   ]
  },
  {
   "cell_type": "markdown",
   "id": "5ad074f1-e799-4583-a8bb-726f7f38eb6b",
   "metadata": {},
   "source": [
    "## Page 5"
   ]
  },
  {
   "cell_type": "code",
   "execution_count": 25,
   "id": "60ca8617-612f-485e-b500-903c5628b4e7",
   "metadata": {},
   "outputs": [],
   "source": [
    "L5P5Q1 = MultipleChoice(\"1. A variable that is declared inside of a function is considered in which scope?\",['A. Local','B. Global'],'A. Local')\n",
    "L5P5Q2 = MultipleChoice('2. In the above code snippet, to change the value of the variable num inside the function what is needed?',['A. This function will work','B. scope num = 10', 'C. global num', 'D. None of the above'],'C. global num')\n",
    "L5P5Q3 = MultipleChoice('3. It is possible to assign a value to a variable defined outside of a function without the use of the global statement?',['A. True','B. False'],'B. False')"
   ]
  },
  {
   "cell_type": "code",
   "execution_count": 26,
   "id": "0f5a6366-5f0d-415a-86ad-542a133a86f1",
   "metadata": {},
   "outputs": [
    {
     "data": {
      "application/vnd.jupyter.widget-view+json": {
       "model_id": "94b57a4a229e4b4680675b7e583f1dac",
       "version_major": 2,
       "version_minor": 0
      },
      "text/plain": [
       "VBox(children=(Output(outputs=({'name': 'stdout', 'text': '1. A variable that is declared inside of a function…"
      ]
     },
     "metadata": {},
     "output_type": "display_data"
    }
   ],
   "source": [
    "if __name__ == \"__main__\":\n",
    "    display(L5P5Q1)"
   ]
  },
  {
   "cell_type": "markdown",
   "id": "f22ca786-5d0d-4773-a409-dfc633b2bfd1",
   "metadata": {},
   "source": [
    "```python\n",
    "num = 15\n",
    "\n",
    "\n",
    "\n",
    "def new_num(x):\n",
    "\n",
    "\n",
    "\n",
    "    num = 10\n",
    "\n",
    "    return num * x\n",
    "```"
   ]
  },
  {
   "cell_type": "code",
   "execution_count": 27,
   "id": "3717b265-2d15-4297-86a2-3b050268e0ca",
   "metadata": {},
   "outputs": [
    {
     "data": {
      "application/vnd.jupyter.widget-view+json": {
       "model_id": "21154a0b549b4f0881855c1a0b23e761",
       "version_major": 2,
       "version_minor": 0
      },
      "text/plain": [
       "VBox(children=(Output(outputs=({'name': 'stdout', 'text': '2. In the above code snippet, to change the value o…"
      ]
     },
     "metadata": {},
     "output_type": "display_data"
    },
    {
     "data": {
      "application/vnd.jupyter.widget-view+json": {
       "model_id": "58b974cc9fad437993e8c95d0e41e8a4",
       "version_major": 2,
       "version_minor": 0
      },
      "text/plain": [
       "VBox(children=(Output(outputs=({'name': 'stdout', 'text': '3. It is possible to assign a value to a variable d…"
      ]
     },
     "metadata": {},
     "output_type": "display_data"
    }
   ],
   "source": [
    "if __name__ == \"__main__\":\n",
    "    display(L5P5Q2, L5P5Q3)"
   ]
  },
  {
   "cell_type": "markdown",
   "id": "82f2cb74-9c65-43ef-807a-1ba680e4cc42",
   "metadata": {},
   "source": [
    "# Lesson 6"
   ]
  },
  {
   "cell_type": "markdown",
   "id": "1a362643-8b95-4cf1-854c-c45b27209bde",
   "metadata": {},
   "source": [
    "## Page 5"
   ]
  },
  {
   "cell_type": "code",
   "execution_count": 32,
   "id": "52c495ee-2763-40ec-bb05-3af197c99d2f",
   "metadata": {},
   "outputs": [],
   "source": [
    "L6P5Q1 = MultipleChoice(\"1. The syntax for creating a class is as shown above:\",['A. True','B. False'],'B. False')\n",
    "L6P5Q2 = MultipleChoice('2. You can create as many instances of a class as you need as long as you give each instance a unique variable name or it occupies a unique spot in a list or dictionary.',['A. True','B. False'],'A. True')\n",
    "L6P5Q3 = MultipleChoice('3. The self parameter is not required in the __init__() method.', ['A. True','B. False'],'B. False')\n",
    "L6P5Q4 = MultipleChoice('4. A class can be described as a ___________.',['A. method','B. function', 'C. blueprint', 'D. list'],'C. blueprint')\n",
    "L6P5Q5 = MultipleChoice(\"5. In my_dog = Dog('Rover'), Dog is the class. What is my_dog?\",['A. Method','B. Object', 'C. Instance', 'D. Function'],'C. Instance')"
   ]
  },
  {
   "cell_type": "markdown",
   "id": "c57bc531-d658-407c-9e8b-f0640a170ac4",
   "metadata": {},
   "source": [
    "```python\n",
    "Class dog:\n",
    "\n",
    "    \"\"\"Models a dog.\"\"\"\n",
    "\n",
    "\n",
    "\n",
    "    def __init__(self, name, age):\n",
    "\n",
    "        \"\"\"Initialize attributes.\"\"\"\n",
    "\n",
    "        self.name = name\n",
    "\n",
    "        self.age = age\n",
    "```"
   ]
  },
  {
   "cell_type": "code",
   "execution_count": 33,
   "id": "071971c7-8682-480d-b0ed-f504b5798082",
   "metadata": {},
   "outputs": [
    {
     "data": {
      "application/vnd.jupyter.widget-view+json": {
       "model_id": "e17289deb96e4b90b00a6f9c12a2e9c3",
       "version_major": 2,
       "version_minor": 0
      },
      "text/plain": [
       "VBox(children=(Output(outputs=({'name': 'stdout', 'text': '1. The syntax for creating a class is as shown abov…"
      ]
     },
     "metadata": {},
     "output_type": "display_data"
    },
    {
     "data": {
      "application/vnd.jupyter.widget-view+json": {
       "model_id": "b81e28a92a454d2281ae531836b2316b",
       "version_major": 2,
       "version_minor": 0
      },
      "text/plain": [
       "VBox(children=(Output(outputs=({'name': 'stdout', 'text': '2. You can create as many instances of a class as y…"
      ]
     },
     "metadata": {},
     "output_type": "display_data"
    },
    {
     "data": {
      "application/vnd.jupyter.widget-view+json": {
       "model_id": "bb85199e2c5744ccaf34a34692d4e4fd",
       "version_major": 2,
       "version_minor": 0
      },
      "text/plain": [
       "VBox(children=(Output(outputs=({'name': 'stdout', 'text': '3. The self parameter is not required in the __init…"
      ]
     },
     "metadata": {},
     "output_type": "display_data"
    },
    {
     "data": {
      "application/vnd.jupyter.widget-view+json": {
       "model_id": "0d2455d9665e4287aaf640644e45053f",
       "version_major": 2,
       "version_minor": 0
      },
      "text/plain": [
       "VBox(children=(Output(outputs=({'name': 'stdout', 'text': '4. A class can be described as a ___________.\\n', '…"
      ]
     },
     "metadata": {},
     "output_type": "display_data"
    },
    {
     "data": {
      "application/vnd.jupyter.widget-view+json": {
       "model_id": "e2add12bbabd4c89898a0e7441b2cfd8",
       "version_major": 2,
       "version_minor": 0
      },
      "text/plain": [
       "VBox(children=(Output(outputs=({'name': 'stdout', 'text': \"In my_dog = Dog('Rover'), Dog is the class. What is…"
      ]
     },
     "metadata": {},
     "output_type": "display_data"
    }
   ],
   "source": [
    "if __name__ == \"__main__\":\n",
    "    display(L6P5Q1, L6P5Q2, L6P5Q3, L6P5Q4, L6P5Q5)"
   ]
  },
  {
   "cell_type": "markdown",
   "id": "11020734-c7a9-4c55-a6ce-dfdea6b54d1c",
   "metadata": {},
   "source": [
    "# Lesson 7 "
   ]
  },
  {
   "cell_type": "markdown",
   "id": "6c55b754-80e6-4f5f-91f7-3702dc9e263a",
   "metadata": {},
   "source": [
    "## Page 5"
   ]
  },
  {
   "cell_type": "code",
   "execution_count": 38,
   "id": "0ed6e533-49dc-4c40-82ef-22d36f79e954",
   "metadata": {},
   "outputs": [],
   "source": [
    "L7P5Q1 = MultipleChoice(\"1. What method in the keyword module prints a list of the reserved keywords in Python?\",['A. list()','B. keywords()', 'C. full_list()', 'D. kwlist()'],'D. kwlist()')\n",
    "L7P5Q2 = MultipleChoice('2. The sys module allows you to explore many features including the Interactive Mode help system.',['A. True','B. False'],'A. True')\n",
    "L7P5Q3 = MultipleChoice('3. This method in the math module takes in two arguments to raise a specified value by a specific power.', ['A. math.ceil()','B. math.pow()', 'C. math.floor()', 'D. math.sqrt()'],'B. math.pow()')\n",
    "L7P5Q4 = MultipleChoice('4. Which method produces a random float between 0 and 1.0?',['A. math.random()','B. random.sample()', 'C. random.random()', 'D. random.range()'],'C. random.random()')"
   ]
  },
  {
   "cell_type": "code",
   "execution_count": 39,
   "id": "d4eb1488-aadf-4d41-a0a8-bff25b3e6027",
   "metadata": {},
   "outputs": [
    {
     "data": {
      "application/vnd.jupyter.widget-view+json": {
       "model_id": "e786b5749cca4593865cacdb066b1f66",
       "version_major": 2,
       "version_minor": 0
      },
      "text/plain": [
       "VBox(children=(Output(outputs=({'name': 'stdout', 'text': '1. What method in the keyword module prints a list …"
      ]
     },
     "metadata": {},
     "output_type": "display_data"
    },
    {
     "data": {
      "application/vnd.jupyter.widget-view+json": {
       "model_id": "68a2d5a18c684c5680b88f20d36999b7",
       "version_major": 2,
       "version_minor": 0
      },
      "text/plain": [
       "VBox(children=(Output(outputs=({'name': 'stdout', 'text': '2. The sys module allows you to explore many featur…"
      ]
     },
     "metadata": {},
     "output_type": "display_data"
    },
    {
     "data": {
      "application/vnd.jupyter.widget-view+json": {
       "model_id": "fd645099999b4ac9a52be397597d3ab6",
       "version_major": 2,
       "version_minor": 0
      },
      "text/plain": [
       "VBox(children=(Output(outputs=({'name': 'stdout', 'text': '3. This method in the math module takes in two argu…"
      ]
     },
     "metadata": {},
     "output_type": "display_data"
    },
    {
     "data": {
      "application/vnd.jupyter.widget-view+json": {
       "model_id": "c2e96222c0204ef397883f56774a1430",
       "version_major": 2,
       "version_minor": 0
      },
      "text/plain": [
       "VBox(children=(Output(outputs=({'name': 'stdout', 'text': '4. Which method produces a random float between 0 a…"
      ]
     },
     "metadata": {},
     "output_type": "display_data"
    }
   ],
   "source": [
    "if __name__ == \"__main__\":\n",
    "    display(L7P5Q1, L7P5Q2, L7P5Q3, L7P5Q4)"
   ]
  },
  {
   "cell_type": "markdown",
   "id": "0b98604b-dfb8-4503-8c7c-a6a3197af9d5",
   "metadata": {},
   "source": [
    "## Page 9"
   ]
  },
  {
   "cell_type": "code",
   "execution_count": 40,
   "id": "5c380bc8-e3eb-49d6-abc9-c9ad5e5692d6",
   "metadata": {},
   "outputs": [],
   "source": [
    "L7P9Q1 = MultipleChoice(\"1. Which of the following must come first to use NumPy?\",['A. import numpy','B. from numpy import *', 'C. pip install numpy', 'D. None of the above'],'C. pip install numpy')\n",
    "L7P9Q2 = MultipleChoice('2. Which file mode is used to append text to a file.',['A. r','B. w', 'C. a', 'D. w+'],'C. a')\n",
    "L7P9Q3 = MultipleChoice('3. What is the proper syntax to open a file named help.txt and make that file writable.', ['A. open(help.txt, w)',\"B. open(help.txt, 'w')\", \"C. open('help.txt', 'w')\", 'D. None of the above'],\"C. open('help.txt', 'w')\")"
   ]
  },
  {
   "cell_type": "code",
   "execution_count": 41,
   "id": "5370b975-2782-4cef-8233-461a6d2e5c4d",
   "metadata": {},
   "outputs": [
    {
     "data": {
      "application/vnd.jupyter.widget-view+json": {
       "model_id": "c81c2e1f3cd14e6383839dc3807d4597",
       "version_major": 2,
       "version_minor": 0
      },
      "text/plain": [
       "VBox(children=(Output(outputs=({'name': 'stdout', 'text': '1. Which of the following must come first to use Nu…"
      ]
     },
     "metadata": {},
     "output_type": "display_data"
    },
    {
     "data": {
      "application/vnd.jupyter.widget-view+json": {
       "model_id": "c29ec669e5e447848bff021143b1c504",
       "version_major": 2,
       "version_minor": 0
      },
      "text/plain": [
       "VBox(children=(Output(outputs=({'name': 'stdout', 'text': '2. Which file mode is used to append text to a file…"
      ]
     },
     "metadata": {},
     "output_type": "display_data"
    },
    {
     "data": {
      "application/vnd.jupyter.widget-view+json": {
       "model_id": "a9b394fd3eb54d1ea96610d3dafed20d",
       "version_major": 2,
       "version_minor": 0
      },
      "text/plain": [
       "VBox(children=(Output(outputs=({'name': 'stdout', 'text': '3. What is the proper syntax to open a file named h…"
      ]
     },
     "metadata": {},
     "output_type": "display_data"
    }
   ],
   "source": [
    "if __name__ == \"__main__\":\n",
    "    display(L7P9Q1, L7P9Q2, L7P9Q3)"
   ]
  },
  {
   "cell_type": "markdown",
   "id": "3eb8e907-2013-48a7-9b85-0dcba4d5d872",
   "metadata": {},
   "source": [
    "# Lesson 8"
   ]
  },
  {
   "cell_type": "markdown",
   "id": "019b653a-2aa4-40dc-b4a0-45f830bd5e37",
   "metadata": {},
   "source": [
    "## Page 4"
   ]
  },
  {
   "cell_type": "code",
   "execution_count": 43,
   "id": "25309682-a6e3-462f-ad01-f02017821ef6",
   "metadata": {},
   "outputs": [],
   "source": [
    "L8P4Q1 = MultipleChoice(\"1. Whatever folder you are navigated to the time you press New is where your new file will be located.\",['A. True','B. False'],'A. True')\n",
    "L8P4Q2 = MultipleChoice('2. When would you use the Revert to Checkpoint feature?',['A. When you need to mkae small changes','B. When you need to re-run a cell', 'C. Only when things have gone catastrophically wrong', 'D. When your Kernel has disconnected'],'C. Only when things have gone catastrophically wrong')\n",
    "L8P4Q3 = MultipleChoice('3. What is the easiest way to add and remove cells?', ['A. The plus sign adds them, and the scissors removes them','B. The plus sign removes them, and the scissors adds them', 'C. Edit -> Cut Cells', 'D. Edit -> Move Cell Up'],'A. The plus sign adds them, and the scissors removes them')\n",
    "L8P4Q4 = MultipleChoice('4. What is the purpose of Markdown?',['A. To allow you to make prettier, more versatile notes','B. To run code'],'A. To allow you to make prettier, more versatile notes')\n",
    "L8P4Q5 = MultipleChoice(\"5. Which of the following symbols is used for denoting a header in Markdown?\",['A. ---','B. *', 'C. #', 'D. &'],'C. #')"
   ]
  },
  {
   "cell_type": "code",
   "execution_count": 44,
   "id": "0e38a22d-133f-4dc3-abe6-c2007521548e",
   "metadata": {},
   "outputs": [
    {
     "data": {
      "application/vnd.jupyter.widget-view+json": {
       "model_id": "3ea4dd98003741aca942e1525175687f",
       "version_major": 2,
       "version_minor": 0
      },
      "text/plain": [
       "VBox(children=(Output(outputs=({'name': 'stdout', 'text': '1. Whatever folder you are navigated to the time yo…"
      ]
     },
     "metadata": {},
     "output_type": "display_data"
    },
    {
     "data": {
      "application/vnd.jupyter.widget-view+json": {
       "model_id": "f06b358fb6e14420ae00d4135fc4ee99",
       "version_major": 2,
       "version_minor": 0
      },
      "text/plain": [
       "VBox(children=(Output(outputs=({'name': 'stdout', 'text': '2. When would you use the Revert to Checkpoint feat…"
      ]
     },
     "metadata": {},
     "output_type": "display_data"
    },
    {
     "data": {
      "application/vnd.jupyter.widget-view+json": {
       "model_id": "5d5fa101451b47df89175f4b8b591a18",
       "version_major": 2,
       "version_minor": 0
      },
      "text/plain": [
       "VBox(children=(Output(outputs=({'name': 'stdout', 'text': '3. What is the easiest way to add and remove cells?…"
      ]
     },
     "metadata": {},
     "output_type": "display_data"
    },
    {
     "data": {
      "application/vnd.jupyter.widget-view+json": {
       "model_id": "8a00b617a4914fb4ac566004eaa3ab0a",
       "version_major": 2,
       "version_minor": 0
      },
      "text/plain": [
       "VBox(children=(Output(outputs=({'name': 'stdout', 'text': '4. What is the purpose of Markdown?\\n', 'output_typ…"
      ]
     },
     "metadata": {},
     "output_type": "display_data"
    },
    {
     "data": {
      "application/vnd.jupyter.widget-view+json": {
       "model_id": "ae06426ab8a74c3eb211ad64cda32488",
       "version_major": 2,
       "version_minor": 0
      },
      "text/plain": [
       "VBox(children=(Output(outputs=({'name': 'stdout', 'text': '5. Which of the following symbols is used for denot…"
      ]
     },
     "metadata": {},
     "output_type": "display_data"
    }
   ],
   "source": [
    "if __name__ == \"__main__\":\n",
    "    display(L8P4Q1, L8P4Q2, L8P4Q3, L8P4Q4, L8P4Q5)"
   ]
  },
  {
   "cell_type": "markdown",
   "id": "c1c3c178-c345-49f6-9982-cf472ae1e170",
   "metadata": {},
   "source": [
    "## Page 5"
   ]
  },
  {
   "cell_type": "code",
   "execution_count": 46,
   "id": "15ef3a6c-aa86-444c-b075-c12ed3b34fcc",
   "metadata": {},
   "outputs": [],
   "source": [
    "L8P5Q1 = MultipleChoice(\"1. You will need to install all packages before using them when using Jupyter Notebook.\",['A. True','B. False'],'B. False')\n",
    "L8P5Q2 = MultipleChoice('2. If you need to install an uncommon package for Jupyter, where should you go?',['A. Jupyter Notebook','B. Anaconda Navigator', 'C. It can be installed in the terminal', 'D. Spyder'],'B. Anaconda Navigator')"
   ]
  },
  {
   "cell_type": "code",
   "execution_count": 47,
   "id": "8e6a47ec-09b8-41fe-a2c8-fbc5f9181e44",
   "metadata": {},
   "outputs": [
    {
     "data": {
      "application/vnd.jupyter.widget-view+json": {
       "model_id": "ca4d44052c5a47eaaed1c27081a1f66f",
       "version_major": 2,
       "version_minor": 0
      },
      "text/plain": [
       "VBox(children=(Output(outputs=({'name': 'stdout', 'text': '1. You will need to install all packages before usi…"
      ]
     },
     "metadata": {},
     "output_type": "display_data"
    },
    {
     "data": {
      "application/vnd.jupyter.widget-view+json": {
       "model_id": "3bf9af03acd84d5b83509dba56b37ecf",
       "version_major": 2,
       "version_minor": 0
      },
      "text/plain": [
       "VBox(children=(Output(outputs=({'name': 'stdout', 'text': '2. If you need to install an uncommon package for J…"
      ]
     },
     "metadata": {},
     "output_type": "display_data"
    }
   ],
   "source": [
    "if __name__ == \"__main__\":\n",
    "    display(L8P5Q1, L8P5Q2)"
   ]
  },
  {
   "cell_type": "markdown",
   "id": "1903276e-32eb-46b9-93cc-49d4617f31a0",
   "metadata": {},
   "source": [
    "## Page 8"
   ]
  },
  {
   "cell_type": "code",
   "execution_count": 48,
   "id": "75463b52-f1a9-40a3-a2e6-2b0c2f0cf1fc",
   "metadata": {},
   "outputs": [],
   "source": [
    "L8P8Q1 = MultipleChoice(\"1. This is the appropriate slash for specifying a directory for your file to read in: /\",['A. True','B. False'],'A. True')\n",
    "L8P8Q2 = MultipleChoice('2. What does the function .head(10) do?',['A. Show the first 5 rows of data','B. Show the last 5 rows of data', 'C. Show the first 10 rows of data', 'D. Show the last 10 rows of data'],'C. Show the first 10 rows of data')\n",
    "L8P8Q3 = MultipleChoice('3. How would you display the names of the columns for a dataset named practice?', ['A. practice.columns','B. columns.practice', 'C. len(practice)', 'D. len(practice.columns)'],'A. practice.columns')\n",
    "L8P8Q4 = MultipleChoice('4. You are working with a dataset and see this dotted line across your rows. How would you fix it?',['A. Just type the name of the dataset in','B. pd.options.display.max_rows = None', 'C. pd.options.display.max_columns = None', 'D. tail()'],'B. pd.options.display.max_rows = None')"
   ]
  },
  {
   "cell_type": "code",
   "execution_count": 49,
   "id": "1fe85cfd-6ec3-4437-98d2-b7593f40ae31",
   "metadata": {},
   "outputs": [
    {
     "data": {
      "application/vnd.jupyter.widget-view+json": {
       "model_id": "dcf1d316a23a4278a28856a64aadee27",
       "version_major": 2,
       "version_minor": 0
      },
      "text/plain": [
       "VBox(children=(Output(outputs=({'name': 'stdout', 'text': '1. This is the appropriate slash for specifying a d…"
      ]
     },
     "metadata": {},
     "output_type": "display_data"
    },
    {
     "data": {
      "application/vnd.jupyter.widget-view+json": {
       "model_id": "aa3a5d1000564d51af4a5d09d9133ed2",
       "version_major": 2,
       "version_minor": 0
      },
      "text/plain": [
       "VBox(children=(Output(outputs=({'name': 'stdout', 'text': '2. What does the function .head(10) do?\\n', 'output…"
      ]
     },
     "metadata": {},
     "output_type": "display_data"
    },
    {
     "data": {
      "application/vnd.jupyter.widget-view+json": {
       "model_id": "6e3cf1b52a3d4e4fbd44f3b694185249",
       "version_major": 2,
       "version_minor": 0
      },
      "text/plain": [
       "VBox(children=(Output(outputs=({'name': 'stdout', 'text': '3. How would you display the names of the columns f…"
      ]
     },
     "metadata": {},
     "output_type": "display_data"
    },
    {
     "data": {
      "application/vnd.jupyter.widget-view+json": {
       "model_id": "3a862cc1d76c40ffa4b207336ef1d6c2",
       "version_major": 2,
       "version_minor": 0
      },
      "text/plain": [
       "VBox(children=(Output(outputs=({'name': 'stdout', 'text': '4. You are working with a dataset and see this dott…"
      ]
     },
     "metadata": {},
     "output_type": "display_data"
    }
   ],
   "source": [
    "if __name__ == \"__main__\":\n",
    "    display(L8P8Q1, L8P8Q2, L8P8Q3, L8P8Q4)"
   ]
  },
  {
   "cell_type": "markdown",
   "id": "7ba7308c-5ef5-4400-97d9-9169cee21c21",
   "metadata": {},
   "source": [
    "## Page 9"
   ]
  },
  {
   "cell_type": "code",
   "execution_count": 50,
   "id": "53c99242-1c4b-4b4a-b916-566bbebdca22",
   "metadata": {},
   "outputs": [],
   "source": [
    "L8P9Q1 = MultipleChoice(\"1. What does the function .mean() do?\",['A. Provides the mean for all data','B. Provides frequency counts', 'C. Provides descriptive statistics for a numeric variable', 'D. Provides the median for all data'],'A. Provides the mean for all data')\n",
    "L8P9Q2 = MultipleChoice('2. If you wanted to view the standard deviation, which function would you use?',['A. .median()','B. .mean()', 'C. .describe()', 'D. .head()'],'C. .describe()')"
   ]
  },
  {
   "cell_type": "code",
   "execution_count": 51,
   "id": "d30f4d58-41c5-47bf-983a-e782f49043f3",
   "metadata": {},
   "outputs": [
    {
     "data": {
      "application/vnd.jupyter.widget-view+json": {
       "model_id": "6af5bc499bd741329227f4c0579d9fd6",
       "version_major": 2,
       "version_minor": 0
      },
      "text/plain": [
       "VBox(children=(Output(outputs=({'name': 'stdout', 'text': '1. What does the function .mean() do?\\n', 'output_t…"
      ]
     },
     "metadata": {},
     "output_type": "display_data"
    },
    {
     "data": {
      "application/vnd.jupyter.widget-view+json": {
       "model_id": "a343d159692e46f5b1e2370fbe61d54d",
       "version_major": 2,
       "version_minor": 0
      },
      "text/plain": [
       "VBox(children=(Output(outputs=({'name': 'stdout', 'text': '2. If you wanted to view the standard deviation, wh…"
      ]
     },
     "metadata": {},
     "output_type": "display_data"
    }
   ],
   "source": [
    "if __name__ == \"__main__\":\n",
    "    display(L8P9Q1, L8P9Q2)"
   ]
  },
  {
   "cell_type": "markdown",
   "id": "61b51040-0f69-431e-81bb-338fa308777a",
   "metadata": {},
   "source": [
    "# Lesson 9"
   ]
  },
  {
   "cell_type": "markdown",
   "id": "3c38e1d7-8052-4b47-8836-1273f0beaf12",
   "metadata": {},
   "source": [
    "## Page 2"
   ]
  },
  {
   "cell_type": "code",
   "execution_count": 54,
   "id": "deea569f-71bb-4467-93bd-978fa6a11c31",
   "metadata": {},
   "outputs": [],
   "source": [
    "L9P2Q1 = MultipleChoice(\"1. What is the typical abbreviation for the numpy Python package?\",['A. np','B. pd', 'C. nmp', 'D. nm'],'A. np')\n",
    "L9P2Q2 = MultipleChoice('2. Fill in the blank in this analogy: pandas: dataframes as numpy: _________',['A. dataframe','B. data set', 'C. array', 'D. matrix'],'C. array')"
   ]
  },
  {
   "cell_type": "code",
   "execution_count": 55,
   "id": "5f0ce3e6-610b-4822-9bab-d6bf280528c0",
   "metadata": {},
   "outputs": [
    {
     "data": {
      "application/vnd.jupyter.widget-view+json": {
       "model_id": "a132662afcf54bc9978b0a8345a2fde4",
       "version_major": 2,
       "version_minor": 0
      },
      "text/plain": [
       "VBox(children=(Output(outputs=({'name': 'stdout', 'text': '1. What is the typical abbreviation for the numpy P…"
      ]
     },
     "metadata": {},
     "output_type": "display_data"
    },
    {
     "data": {
      "application/vnd.jupyter.widget-view+json": {
       "model_id": "5d9d1daa31244ed98b50a8fb5f3b53a2",
       "version_major": 2,
       "version_minor": 0
      },
      "text/plain": [
       "VBox(children=(Output(outputs=({'name': 'stdout', 'text': '2. Fill in the blank in this analogy: pandas: dataf…"
      ]
     },
     "metadata": {},
     "output_type": "display_data"
    }
   ],
   "source": [
    "if __name__ == \"__main__\":\n",
    "    display(L9P2Q1, L9P2Q2)"
   ]
  },
  {
   "cell_type": "markdown",
   "id": "a0e05bbf-5144-4274-b4bf-403ce8a26fe1",
   "metadata": {},
   "source": [
    "## Page 3"
   ]
  },
  {
   "cell_type": "code",
   "execution_count": 59,
   "id": "77de81e8-41b6-40d3-afa4-e90f398e708f",
   "metadata": {},
   "outputs": [],
   "source": [
    "L9P3Q1 = MultipleChoice(\"1. Which of the following is NOT an aggregate function in numpy?\",['A. .min()','B. .max()', 'C. .mean()', 'D. .range()'],'D. .range()')"
   ]
  },
  {
   "cell_type": "code",
   "execution_count": 60,
   "id": "fb33f55f-ca55-44a8-a6df-ecd1ace08a8f",
   "metadata": {},
   "outputs": [
    {
     "data": {
      "application/vnd.jupyter.widget-view+json": {
       "model_id": "ae7fe3f9916e43a29a355b4eeea4e820",
       "version_major": 2,
       "version_minor": 0
      },
      "text/plain": [
       "VBox(children=(Output(outputs=({'name': 'stdout', 'text': '1. Which of the following is NOT an aggregate funct…"
      ]
     },
     "metadata": {},
     "output_type": "display_data"
    }
   ],
   "source": [
    "if __name__ == \"__main__\":\n",
    "    display(L9P3Q1)"
   ]
  },
  {
   "cell_type": "markdown",
   "id": "9b3eb0ed-5c46-4e3f-8749-02b94e5c9bef",
   "metadata": {},
   "source": [
    "## Page 4"
   ]
  },
  {
   "cell_type": "code",
   "execution_count": 61,
   "id": "9e0dc34f-d55c-4ab9-a7ef-b17471b71741",
   "metadata": {},
   "outputs": [],
   "source": [
    "L9P4Q1 = MultipleChoice(\"1. Which of the following functions will generate an array composed only of the number one?\",['A. np.random.random()','B. np.ones()', 'C. np.zeros()', 'D. np.1()'],'B. np.ones()')"
   ]
  },
  {
   "cell_type": "code",
   "execution_count": 62,
   "id": "c1cfbacc-1cc0-4cb1-afe4-351395069890",
   "metadata": {},
   "outputs": [
    {
     "data": {
      "application/vnd.jupyter.widget-view+json": {
       "model_id": "b81bc654c4ae4cabb54f148d6fe9ddf5",
       "version_major": 2,
       "version_minor": 0
      },
      "text/plain": [
       "VBox(children=(Output(outputs=({'name': 'stdout', 'text': '1. Which of the following functions will generate a…"
      ]
     },
     "metadata": {},
     "output_type": "display_data"
    }
   ],
   "source": [
    "if __name__ == \"__main__\":\n",
    "    display(L9P4Q1)"
   ]
  },
  {
   "cell_type": "markdown",
   "id": "849f53f7-b1af-46a5-8ffc-ae8a7d6bff30",
   "metadata": {},
   "source": [
    "## Page 5"
   ]
  },
  {
   "cell_type": "code",
   "execution_count": null,
   "id": "fe9a1da8-e03b-4486-b632-6aeca40d2f1e",
   "metadata": {},
   "outputs": [],
   "source": []
  }
 ],
 "metadata": {
  "kernelspec": {
   "display_name": "Python 3 (ipykernel)",
   "language": "python",
   "name": "python3"
  },
  "language_info": {
   "codemirror_mode": {
    "name": "ipython",
    "version": 3
   },
   "file_extension": ".py",
   "mimetype": "text/x-python",
   "name": "python",
   "nbconvert_exporter": "python",
   "pygments_lexer": "ipython3",
   "version": "3.9.7"
  }
 },
 "nbformat": 4,
 "nbformat_minor": 5
}
