{
 "cells": [
  {
   "cell_type": "markdown",
   "id": "701c6664-c3af-4538-bac7-f1a5cc1826cd",
   "metadata": {},
   "source": [
    "# DS109 Questions\n",
    "\n",
    "## Lesson 1\n",
    "\n",
    "## Page 7"
   ]
  },
  {
   "cell_type": "code",
   "execution_count": 1,
   "id": "9fdc1222-3d73-42e1-b6bf-b95d73e3d8ff",
   "metadata": {},
   "outputs": [],
   "source": [
    "from DS_Students import MultipleChoice"
   ]
  },
  {
   "cell_type": "code",
   "execution_count": 2,
   "id": "cf433206-b1c6-41d7-86db-486d7cb4756e",
   "metadata": {},
   "outputs": [],
   "source": [
    "# Python Interpreter Quiz\n",
    "L1P7Q1 = MultipleChoice('1. What is the Python Interpreter?',['A. It reads different languages and translates to English.','B. It determines if your code is suitable for production.','C. The interpreter converts your program into another programming language like C# or C++.', 'D. The interpreter is the program that reads Python programs and carries out their instructions.'],'D. The interpreter is the program that reads Python programs and carries out their instructions.')\n",
    "L1P7Q2 = MultipleChoice('2. What is the proper syntax for the print function?',['A. print','B. print()','C. printLine()', 'D. Print()'],'B. print()')\n",
    "L1P7Q3 = MultipleChoice('3. The print function does not require a set or parentheses() after the word print to function?', ['A. True-The print() function DOES require () to function.', 'B. False'],'B. False')"
   ]
  },
  {
   "cell_type": "code",
   "execution_count": 3,
   "id": "6f20d99a-0d5d-482e-82a1-2adf01327726",
   "metadata": {},
   "outputs": [
    {
     "data": {
      "application/vnd.jupyter.widget-view+json": {
       "model_id": "01cddd1cec8d4dc1963116a6cbca1515",
       "version_major": 2,
       "version_minor": 0
      },
      "text/plain": [
       "VBox(children=(Output(), RadioButtons(layout=Layout(width='max-content'), options=(('A. It reads different lan…"
      ]
     },
     "metadata": {},
     "output_type": "display_data"
    },
    {
     "data": {
      "application/vnd.jupyter.widget-view+json": {
       "model_id": "a057311e447141388522a318cba6448f",
       "version_major": 2,
       "version_minor": 0
      },
      "text/plain": [
       "VBox(children=(Output(), RadioButtons(layout=Layout(width='max-content'), options=(('A. print', 0), ('B. print…"
      ]
     },
     "metadata": {},
     "output_type": "display_data"
    },
    {
     "data": {
      "application/vnd.jupyter.widget-view+json": {
       "model_id": "2d1adfa1282f452aa1d48a1df50770be",
       "version_major": 2,
       "version_minor": 0
      },
      "text/plain": [
       "VBox(children=(Output(), RadioButtons(layout=Layout(width='max-content'), options=(('A. True-The print() funct…"
      ]
     },
     "metadata": {},
     "output_type": "display_data"
    }
   ],
   "source": [
    "if __name__ == \"__main__\":\n",
    "    display(L1P7Q1, L1P7Q2, L1P7Q3)"
   ]
  },
  {
   "cell_type": "markdown",
   "id": "59237b93-23a1-4511-9c47-069ff58089ca",
   "metadata": {},
   "source": [
    "## Page 14"
   ]
  },
  {
   "cell_type": "code",
   "execution_count": 4,
   "id": "9e09c0eb-06d1-440a-9c2a-4ced3fa16e4e",
   "metadata": {},
   "outputs": [],
   "source": [
    "L1P14Q1 = MultipleChoice('1. Which of the following is a string?',['A. Hello','B. 25','C. 19.1', 'D. \"Hello\"'],'D. \"Hello\"')\n",
    "L1P14Q2 = MultipleChoice('2. Out of these numbers which is a float?',['A. 19010','B. 190.10','C. 19', 'D. 190'],'B. 190.10')\n",
    "L1P14Q3 = MultipleChoice('3. Strings can use both single and double quotes?',['A. True','B. False'],'A. True')\n",
    "L1P14Q4 = MultipleChoice('4. Strings and numbers are considered what?',['A. Integers','B. Variables','C. Data Types'],'C. Data Types')"
   ]
  },
  {
   "cell_type": "code",
   "execution_count": 5,
   "id": "395b4e32-213a-432c-8570-dba7e76bc602",
   "metadata": {},
   "outputs": [
    {
     "data": {
      "application/vnd.jupyter.widget-view+json": {
       "model_id": "1e7552e3a17143a98a39717b8840daca",
       "version_major": 2,
       "version_minor": 0
      },
      "text/plain": [
       "VBox(children=(Output(outputs=({'name': 'stdout', 'text': '1. Which of the following is a string?\\n', 'output_…"
      ]
     },
     "metadata": {},
     "output_type": "display_data"
    },
    {
     "data": {
      "application/vnd.jupyter.widget-view+json": {
       "model_id": "d8bd4de6fc0a4032aefd1d13db766cc3",
       "version_major": 2,
       "version_minor": 0
      },
      "text/plain": [
       "VBox(children=(Output(outputs=({'name': 'stdout', 'text': '2. Out of these numbers which is a float?\\n', 'outp…"
      ]
     },
     "metadata": {},
     "output_type": "display_data"
    },
    {
     "data": {
      "application/vnd.jupyter.widget-view+json": {
       "model_id": "039bad1c348948599b3a0e10043de0d3",
       "version_major": 2,
       "version_minor": 0
      },
      "text/plain": [
       "VBox(children=(Output(outputs=({'name': 'stdout', 'text': '3. Strings can use both single and double quotes?\\n…"
      ]
     },
     "metadata": {},
     "output_type": "display_data"
    },
    {
     "data": {
      "application/vnd.jupyter.widget-view+json": {
       "model_id": "aa27f9949c3b4f60b344fb3768cd7221",
       "version_major": 2,
       "version_minor": 0
      },
      "text/plain": [
       "VBox(children=(Output(outputs=({'name': 'stdout', 'text': '4. Strings and numbers are considered what?\\n', 'ou…"
      ]
     },
     "metadata": {},
     "output_type": "display_data"
    }
   ],
   "source": [
    "if __name__ == \"__main__\":\n",
    "    display(L1P14Q1, L1P14Q2, L1P14Q3, L1P14Q4)"
   ]
  },
  {
   "cell_type": "markdown",
   "id": "214526dd-72ee-40d8-a2e5-41e165dcd951",
   "metadata": {},
   "source": [
    "# Lesson 2"
   ]
  },
  {
   "cell_type": "markdown",
   "id": "9e33c4f3-6613-475d-b308-10fc81fae2d1",
   "metadata": {},
   "source": [
    "## Page 14"
   ]
  },
  {
   "cell_type": "code",
   "execution_count": 6,
   "id": "c8eb6a46-ef59-46c0-8adb-773a004ded82",
   "metadata": {},
   "outputs": [],
   "source": [
    "L2P14Q1 = MultipleChoice('1. The reserved word or needs both conditions to pass to execute the action?',['A. True','B. False'],'B. False')\n",
    "L2P14Q2 = MultipleChoice('2. The = operator and == both assign value.',['A. True','B. False'],'B. False')\n",
    "L2P14Q3 = MultipleChoice('3. Which of these operators adds the right operand to the left operand and assigns the result to the left operand?',['A. +==','B. +=','C. ==', 'D. **='],'B. +=')\n",
    "L2P14Q4 = MultipleChoice('4. What would the output of the following be: 10 % 3?',['A. 3','B. 0','C. 10', 'D. 1'],'D. 1')\n",
    "L2P14Q5 = MultipleChoice('5. Which does the // operator accomplish?',['A. Division','B. Floor Division','C. Comments', 'D. Escapes'],'B. Floor Division')\n",
    "L2P14Q6 = MultipleChoice('6. What is the output of the following: 9 // 2?',['A. 4.5','B. 4'],'B. 4')"
   ]
  },
  {
   "cell_type": "code",
   "execution_count": 7,
   "id": "3adf2b8c-6d74-449d-abd7-f2ecd2cef18e",
   "metadata": {},
   "outputs": [
    {
     "data": {
      "application/vnd.jupyter.widget-view+json": {
       "model_id": "7a46d05f223d4c868204e68f5135b309",
       "version_major": 2,
       "version_minor": 0
      },
      "text/plain": [
       "VBox(children=(Output(outputs=({'name': 'stdout', 'text': '1. The reserved word or needs both conditions to pa…"
      ]
     },
     "metadata": {},
     "output_type": "display_data"
    },
    {
     "data": {
      "application/vnd.jupyter.widget-view+json": {
       "model_id": "7b95216ddafb41559eca9abecab7d6d8",
       "version_major": 2,
       "version_minor": 0
      },
      "text/plain": [
       "VBox(children=(Output(outputs=({'name': 'stdout', 'text': '2. The = operator and == both assign value.\\n', 'ou…"
      ]
     },
     "metadata": {},
     "output_type": "display_data"
    },
    {
     "data": {
      "application/vnd.jupyter.widget-view+json": {
       "model_id": "e9d57ae971a04793896b7b61b85543d6",
       "version_major": 2,
       "version_minor": 0
      },
      "text/plain": [
       "VBox(children=(Output(outputs=({'name': 'stdout', 'text': '3. Which of these operators adds the right operand …"
      ]
     },
     "metadata": {},
     "output_type": "display_data"
    },
    {
     "data": {
      "application/vnd.jupyter.widget-view+json": {
       "model_id": "b34f4cc73373432d91d46d3201ea23a2",
       "version_major": 2,
       "version_minor": 0
      },
      "text/plain": [
       "VBox(children=(Output(outputs=({'name': 'stdout', 'text': '4. What would the output of the following be: 10 % …"
      ]
     },
     "metadata": {},
     "output_type": "display_data"
    },
    {
     "data": {
      "application/vnd.jupyter.widget-view+json": {
       "model_id": "e81e3e37aea44ceea54ff2ef8a789646",
       "version_major": 2,
       "version_minor": 0
      },
      "text/plain": [
       "VBox(children=(Output(outputs=({'name': 'stdout', 'text': '5. Which does the // operator accomplish?\\n', 'outp…"
      ]
     },
     "metadata": {},
     "output_type": "display_data"
    },
    {
     "data": {
      "application/vnd.jupyter.widget-view+json": {
       "model_id": "a6a63a7c566140c3a0542ff7c3f498a8",
       "version_major": 2,
       "version_minor": 0
      },
      "text/plain": [
       "VBox(children=(Output(outputs=({'name': 'stdout', 'text': '6. What is the output of the following: 9 // 2?\\n',…"
      ]
     },
     "metadata": {},
     "output_type": "display_data"
    }
   ],
   "source": [
    "if __name__ == \"__main__\":\n",
    "    display(L2P14Q1, L2P14Q2, L2P14Q3, L2P14Q4, L2P14Q5, L2P14Q6)"
   ]
  },
  {
   "cell_type": "markdown",
   "id": "1d1c12ef-be83-4765-bfa4-4c7f00f9dd70",
   "metadata": {},
   "source": [
    "# Lesson 3"
   ]
  },
  {
   "cell_type": "markdown",
   "id": "04dad67f-7a9e-40f8-9014-757ce9009dd0",
   "metadata": {},
   "source": [
    "## Page 13"
   ]
  },
  {
   "cell_type": "code",
   "execution_count": 9,
   "id": "bd03588e-58ba-4704-9219-57219ae718d6",
   "metadata": {},
   "outputs": [],
   "source": [
    "L3P13Q1 = MultipleChoice('1. In this list [1, 2, 3, 4, 5], what number is at the index of 5 ?',['A. 1','B. 3', 'C. 5', 'D. None'],'D. None')\n",
    "L3P13Q2 = MultipleChoice('2. To select the last item of a list you can use which of the following values for the index?',['A. 0','B. -1', 'C. -2', 'D. 99'],'B. -1')\n",
    "L3P13Q3 = MultipleChoice('3. What is the proper syntax to retrieve the range of indices 1 to 5 in a list?',['A. 1;5','B. 1:5','C. {1:5}]', 'D. [1:5]'],'D. [1:5]')\n",
    "L3P13Q4 = MultipleChoice('4. Given a list of items named my_list, what will my_list.insert(3, \"box\") do?',['A. Insert the string value \"box\" into the list at the third position','B. Insert the string value \"box\" into the list at the fourth position','C. Insert the numeric value 3 into the list with an index value of \"box\"', 'D. Insert the string value \"box\" into the list 3 times'],'B. Insert the string value \"box\" into the list at the fourth position')\n",
    "L3P13Q5 = MultipleChoice('5. Given the list my_list = [1, 2, 3, 4, 5], which of the following commands will delete the item with the value 3?',['A. del my_list(2)','B. del my_list[2]','C. del my_list(3)', 'D. del my_list[3]'],'B. del my_list[2]')\n",
    "L3P13Q6 = MultipleChoice('6. Given the list my_list = [1, 2, 3, 4, 5], which of the following commands will delete the item with the value 3?',['A. my_list.remove(2)','B. my_list.remove(3)', 'C. my_list.remove[2]', 'D. my_list.remove[3]'],'B. my_list.remove(3)')"
   ]
  },
  {
   "cell_type": "code",
   "execution_count": 10,
   "id": "491cdb75-1975-4e17-855e-856627a3181f",
   "metadata": {},
   "outputs": [
    {
     "data": {
      "application/vnd.jupyter.widget-view+json": {
       "model_id": "aa11bb2be1d145f0b9c46fdcf8309bac",
       "version_major": 2,
       "version_minor": 0
      },
      "text/plain": [
       "VBox(children=(Output(outputs=({'name': 'stdout', 'text': '1. In this list [1, 2, 3, 4, 5], what number is at …"
      ]
     },
     "metadata": {},
     "output_type": "display_data"
    },
    {
     "data": {
      "application/vnd.jupyter.widget-view+json": {
       "model_id": "93dd2f45498d4262b9585fcb6eec700e",
       "version_major": 2,
       "version_minor": 0
      },
      "text/plain": [
       "VBox(children=(Output(outputs=({'name': 'stdout', 'text': '2. To select the last item of a list you can use wh…"
      ]
     },
     "metadata": {},
     "output_type": "display_data"
    },
    {
     "data": {
      "application/vnd.jupyter.widget-view+json": {
       "model_id": "b5e71f79a76146ba9b661a2aecbcdf89",
       "version_major": 2,
       "version_minor": 0
      },
      "text/plain": [
       "VBox(children=(Output(outputs=({'name': 'stdout', 'text': '3. What is the proper syntax to retrieve the range …"
      ]
     },
     "metadata": {},
     "output_type": "display_data"
    },
    {
     "data": {
      "application/vnd.jupyter.widget-view+json": {
       "model_id": "a52a155af7874a2f8813d35f5d66be66",
       "version_major": 2,
       "version_minor": 0
      },
      "text/plain": [
       "VBox(children=(Output(outputs=({'name': 'stdout', 'text': '4. Given a list of items named my_list, what will m…"
      ]
     },
     "metadata": {},
     "output_type": "display_data"
    },
    {
     "data": {
      "application/vnd.jupyter.widget-view+json": {
       "model_id": "d0eb82d70d8542bd9ccd3c5614cce025",
       "version_major": 2,
       "version_minor": 0
      },
      "text/plain": [
       "VBox(children=(Output(outputs=({'name': 'stdout', 'text': '5. Given the list my_list = [1, 2, 3, 4, 5], which …"
      ]
     },
     "metadata": {},
     "output_type": "display_data"
    },
    {
     "data": {
      "application/vnd.jupyter.widget-view+json": {
       "model_id": "628d64e83ed2432d805ca094a9256c6c",
       "version_major": 2,
       "version_minor": 0
      },
      "text/plain": [
       "VBox(children=(Output(outputs=({'name': 'stdout', 'text': '6. Given the list my_list = [1, 2, 3, 4, 5], which …"
      ]
     },
     "metadata": {},
     "output_type": "display_data"
    }
   ],
   "source": [
    "if __name__ == \"__main__\":\n",
    "    display(L3P13Q1, L3P13Q2, L3P13Q3, L3P13Q4, L3P13Q5, L3P13Q6)"
   ]
  },
  {
   "cell_type": "markdown",
   "id": "1e434e14-0799-4b70-8bc3-37ee52672b1f",
   "metadata": {},
   "source": [
    "## Page 19"
   ]
  },
  {
   "cell_type": "code",
   "execution_count": 13,
   "id": "aaf51bd2-0d44-429e-8b04-8e2abe2f409f",
   "metadata": {},
   "outputs": [],
   "source": [
    "L3P19Q1 = MultipleChoice('1. A while loop will run as long as a certain condition remains true.',['A. True','B. False'],'A. True')\n",
    "L3P19Q2 = MultipleChoice('2. When writing a for loop, it is best practice for the temporary variable name to represent a single item in your list. Ex: for car in cars',['A. True','B. False'],'A. True')\n",
    "# NOTE L3P19Q3 required code, could not copy into notebook"
   ]
  },
  {
   "cell_type": "code",
   "execution_count": 14,
   "id": "e4f52c1d-fd7c-45ce-9f09-c19136fa9cdb",
   "metadata": {},
   "outputs": [
    {
     "data": {
      "application/vnd.jupyter.widget-view+json": {
       "model_id": "c235d217cc8544b9be660c6cf12ad1f4",
       "version_major": 2,
       "version_minor": 0
      },
      "text/plain": [
       "VBox(children=(Output(outputs=({'name': 'stdout', 'text': '1. A while loop will run as long as a certain condi…"
      ]
     },
     "metadata": {},
     "output_type": "display_data"
    },
    {
     "data": {
      "application/vnd.jupyter.widget-view+json": {
       "model_id": "94f444362805451c84500ed9149c0848",
       "version_major": 2,
       "version_minor": 0
      },
      "text/plain": [
       "VBox(children=(Output(outputs=({'name': 'stdout', 'text': '2. When writing a for loop, it is best practice for…"
      ]
     },
     "metadata": {},
     "output_type": "display_data"
    }
   ],
   "source": [
    "if __name__ == \"__main__\":\n",
    "    display(L3P19Q1, L3P19Q2)"
   ]
  },
  {
   "cell_type": "code",
   "execution_count": null,
   "id": "888563a3-e59c-4a82-8fa3-e840cb8cf56d",
   "metadata": {},
   "outputs": [],
   "source": []
  }
 ],
 "metadata": {
  "kernelspec": {
   "display_name": "Python 3 (ipykernel)",
   "language": "python",
   "name": "python3"
  },
  "language_info": {
   "codemirror_mode": {
    "name": "ipython",
    "version": 3
   },
   "file_extension": ".py",
   "mimetype": "text/x-python",
   "name": "python",
   "nbconvert_exporter": "python",
   "pygments_lexer": "ipython3",
   "version": "3.9.7"
  }
 },
 "nbformat": 4,
 "nbformat_minor": 5
}
