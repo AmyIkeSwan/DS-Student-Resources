{
 "cells": [
  {
   "cell_type": "markdown",
   "id": "dc8bc06c-333f-4dc9-9e0f-9749dbbf078c",
   "metadata": {},
   "source": [
    "# Change Log\n",
    "\n",
    "1.  DS102L2P3, Add Chocolatey Caution, [DS102L2P3](../DS102L2.ipynb#Chocolatey), [UAT Link](https://wozu.uat.exeterlms.com/lesson/50152/topic/828552), [Jira Ticket Number](https://woz-u-projects.atlassian.net/browse/CUR-1892)\n",
    "2.  DS102L2P4, Add Homebrew Caution, [DS102L2P4](../DS102L2.ipynb#Homebrew), [UAT Link](https://wozu.uat.exeterlms.com/lesson/50152/topic/828553), [Jira Ticket Number](https://woz-u-projects.atlassian.net/browse/CUR-1893)"
   ]
  },
  {
   "cell_type": "code",
   "execution_count": null,
   "id": "f6e8c488-6a70-4943-9f61-8441ee6b6e4a",
   "metadata": {},
   "outputs": [],
   "source": []
  }
 ],
 "metadata": {
  "kernelspec": {
   "display_name": "Python 3 (ipykernel)",
   "language": "python",
   "name": "python3"
  },
  "language_info": {
   "codemirror_mode": {
    "name": "ipython",
    "version": 3
   },
   "file_extension": ".py",
   "mimetype": "text/x-python",
   "name": "python",
   "nbconvert_exporter": "python",
   "pygments_lexer": "ipython3",
   "version": "3.9.7"
  }
 },
 "nbformat": 4,
 "nbformat_minor": 5
}
