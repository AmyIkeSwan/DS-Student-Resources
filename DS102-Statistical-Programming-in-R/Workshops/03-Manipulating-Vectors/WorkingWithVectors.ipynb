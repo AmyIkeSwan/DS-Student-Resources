{
 "cells": [
  {
   "cell_type": "code",
   "execution_count": 2,
   "id": "a5fbc38c-9725-4ac1-9dae-7ff210b158c7",
   "metadata": {},
   "outputs": [
    {
     "data": {
      "text/html": [
       "<table class=\"dataframe\">\n",
       "<caption>A data.frame: 6 × 2</caption>\n",
       "<thead>\n",
       "\t<tr><th></th><th scope=col>count</th><th scope=col>spray</th></tr>\n",
       "\t<tr><th></th><th scope=col>&lt;dbl&gt;</th><th scope=col>&lt;fct&gt;</th></tr>\n",
       "</thead>\n",
       "<tbody>\n",
       "\t<tr><th scope=row>1</th><td>10</td><td>A</td></tr>\n",
       "\t<tr><th scope=row>2</th><td> 7</td><td>A</td></tr>\n",
       "\t<tr><th scope=row>3</th><td>20</td><td>A</td></tr>\n",
       "\t<tr><th scope=row>4</th><td>14</td><td>A</td></tr>\n",
       "\t<tr><th scope=row>5</th><td>14</td><td>A</td></tr>\n",
       "\t<tr><th scope=row>6</th><td>12</td><td>A</td></tr>\n",
       "</tbody>\n",
       "</table>\n"
      ],
      "text/latex": [
       "A data.frame: 6 × 2\n",
       "\\begin{tabular}{r|ll}\n",
       "  & count & spray\\\\\n",
       "  & <dbl> & <fct>\\\\\n",
       "\\hline\n",
       "\t1 & 10 & A\\\\\n",
       "\t2 &  7 & A\\\\\n",
       "\t3 & 20 & A\\\\\n",
       "\t4 & 14 & A\\\\\n",
       "\t5 & 14 & A\\\\\n",
       "\t6 & 12 & A\\\\\n",
       "\\end{tabular}\n"
      ],
      "text/markdown": [
       "\n",
       "A data.frame: 6 × 2\n",
       "\n",
       "| <!--/--> | count &lt;dbl&gt; | spray &lt;fct&gt; |\n",
       "|---|---|---|\n",
       "| 1 | 10 | A |\n",
       "| 2 |  7 | A |\n",
       "| 3 | 20 | A |\n",
       "| 4 | 14 | A |\n",
       "| 5 | 14 | A |\n",
       "| 6 | 12 | A |\n",
       "\n"
      ],
      "text/plain": [
       "  count spray\n",
       "1 10    A    \n",
       "2  7    A    \n",
       "3 20    A    \n",
       "4 14    A    \n",
       "5 14    A    \n",
       "6 12    A    "
      ]
     },
     "metadata": {},
     "output_type": "display_data"
    }
   ],
   "source": [
    "# Working with Vectors\n",
    "head(InsectSprays)"
   ]
  },
  {
   "cell_type": "code",
   "execution_count": 3,
   "id": "07ecf1c8-026e-4228-9f08-6a9432fe31b0",
   "metadata": {},
   "outputs": [],
   "source": [
    "countVector <- InsectSprays$count"
   ]
  },
  {
   "cell_type": "code",
   "execution_count": 4,
   "id": "ba18599e-ea11-42ea-a19d-cf0e149b9878",
   "metadata": {},
   "outputs": [],
   "source": [
    "fewBugs <- countVector[countVector <= 5]"
   ]
  },
  {
   "cell_type": "code",
   "execution_count": 5,
   "id": "714a1d24-8bd6-4ff3-a088-a24ddaeb8f6c",
   "metadata": {},
   "outputs": [],
   "source": [
    "moreBugs <- countVector[countVector > 6]"
   ]
  },
  {
   "cell_type": "code",
   "execution_count": 6,
   "id": "d22ba9f6-e7e3-4689-bcbf-b08d803af488",
   "metadata": {},
   "outputs": [
    {
     "data": {
      "text/html": [
       "31"
      ],
      "text/latex": [
       "31"
      ],
      "text/markdown": [
       "31"
      ],
      "text/plain": [
       "[1] 31"
      ]
     },
     "metadata": {},
     "output_type": "display_data"
    }
   ],
   "source": [
    "#How many elements are in the fewBugs vector? \n",
    "length(fewBugs)"
   ]
  },
  {
   "cell_type": "code",
   "execution_count": 7,
   "id": "da4dc3d6-1c47-43ee-b87a-4716d04cd9c0",
   "metadata": {},
   "outputs": [
    {
     "data": {
      "text/html": [
       "38"
      ],
      "text/latex": [
       "38"
      ],
      "text/markdown": [
       "38"
      ],
      "text/plain": [
       "[1] 38"
      ]
     },
     "metadata": {},
     "output_type": "display_data"
    }
   ],
   "source": [
    "#How many elements are in the moreBugs vector? \n",
    "length(moreBugs)"
   ]
  },
  {
   "cell_type": "code",
   "execution_count": 8,
   "id": "312c2b6f-29b4-480a-ab87-1f64969b201f",
   "metadata": {},
   "outputs": [
    {
     "data": {
      "text/html": [
       "2.87096774193548"
      ],
      "text/latex": [
       "2.87096774193548"
      ],
      "text/markdown": [
       "2.87096774193548"
      ],
      "text/plain": [
       "[1] 2.870968"
      ]
     },
     "metadata": {},
     "output_type": "display_data"
    }
   ],
   "source": [
    "#What is the mean number of bugs in the fewBugs vector? \n",
    "mean(fewBugs)"
   ]
  },
  {
   "cell_type": "code",
   "execution_count": 9,
   "id": "3cb6c997-44b3-4e82-95fa-c8120e422ba3",
   "metadata": {},
   "outputs": [
    {
     "data": {
      "text/html": [
       "15.1842105263158"
      ],
      "text/latex": [
       "15.1842105263158"
      ],
      "text/markdown": [
       "15.1842105263158"
      ],
      "text/plain": [
       "[1] 15.18421"
      ]
     },
     "metadata": {},
     "output_type": "display_data"
    }
   ],
   "source": [
    "#What is the mean number of bugs in the moreBugs vector? \n",
    "mean(moreBugs)"
   ]
  },
  {
   "cell_type": "code",
   "execution_count": 10,
   "id": "27bc317c-ebe1-40fb-b460-38e7c1b31145",
   "metadata": {},
   "outputs": [
    {
     "data": {
      "text/html": [
       "1.60710786785602"
      ],
      "text/latex": [
       "1.60710786785602"
      ],
      "text/markdown": [
       "1.60710786785602"
      ],
      "text/plain": [
       "[1] 1.607108"
      ]
     },
     "metadata": {},
     "output_type": "display_data"
    }
   ],
   "source": [
    "#What is the standard deviaon of fewBugs?\n",
    "sd(fewBugs)"
   ]
  },
  {
   "cell_type": "code",
   "execution_count": 11,
   "id": "46758b23-f1e1-4d4d-9e34-6c02c2fe7227",
   "metadata": {},
   "outputs": [
    {
     "data": {
      "text/html": [
       "5.14574220821445"
      ],
      "text/latex": [
       "5.14574220821445"
      ],
      "text/markdown": [
       "5.14574220821445"
      ],
      "text/plain": [
       "[1] 5.145742"
      ]
     },
     "metadata": {},
     "output_type": "display_data"
    }
   ],
   "source": [
    "#What is the standard deviaon of moreBugs? \n",
    "sd(moreBugs)"
   ]
  },
  {
   "cell_type": "code",
   "execution_count": 15,
   "id": "1c02c56c-8e02-4201-b46f-6f4c8028d4a5",
   "metadata": {},
   "outputs": [
    {
     "data": {
      "text/html": [
       "<style>\n",
       ".list-inline {list-style: none; margin:0; padding: 0}\n",
       ".list-inline>li {display: inline-block}\n",
       ".list-inline>li:not(:last-child)::after {content: \"\\00b7\"; padding: 0 .5ex}\n",
       "</style>\n",
       "<ol class=list-inline><li>0</li><li>1</li><li>2</li><li>3</li><li>1</li><li>2</li><li>1</li><li>3</li><li>0</li><li>1</li><li>4</li><li>3</li><li>5</li><li>4</li><li>3</li><li>5</li><li>5</li><li>5</li><li>5</li><li>2</li><li>4</li><li>3</li><li>5</li><li>3</li><li>5</li><li>3</li><li>1</li><li>1</li><li>3</li><li>2</li><li>4</li></ol>\n"
      ],
      "text/latex": [
       "\\begin{enumerate*}\n",
       "\\item 0\n",
       "\\item 1\n",
       "\\item 2\n",
       "\\item 3\n",
       "\\item 1\n",
       "\\item 2\n",
       "\\item 1\n",
       "\\item 3\n",
       "\\item 0\n",
       "\\item 1\n",
       "\\item 4\n",
       "\\item 3\n",
       "\\item 5\n",
       "\\item 4\n",
       "\\item 3\n",
       "\\item 5\n",
       "\\item 5\n",
       "\\item 5\n",
       "\\item 5\n",
       "\\item 2\n",
       "\\item 4\n",
       "\\item 3\n",
       "\\item 5\n",
       "\\item 3\n",
       "\\item 5\n",
       "\\item 3\n",
       "\\item 1\n",
       "\\item 1\n",
       "\\item 3\n",
       "\\item 2\n",
       "\\item 4\n",
       "\\end{enumerate*}\n"
      ],
      "text/markdown": [
       "1. 0\n",
       "2. 1\n",
       "3. 2\n",
       "4. 3\n",
       "5. 1\n",
       "6. 2\n",
       "7. 1\n",
       "8. 3\n",
       "9. 0\n",
       "10. 1\n",
       "11. 4\n",
       "12. 3\n",
       "13. 5\n",
       "14. 4\n",
       "15. 3\n",
       "16. 5\n",
       "17. 5\n",
       "18. 5\n",
       "19. 5\n",
       "20. 2\n",
       "21. 4\n",
       "22. 3\n",
       "23. 5\n",
       "24. 3\n",
       "25. 5\n",
       "26. 3\n",
       "27. 1\n",
       "28. 1\n",
       "29. 3\n",
       "30. 2\n",
       "31. 4\n",
       "\n",
       "\n"
      ],
      "text/plain": [
       " [1] 0 1 2 3 1 2 1 3 0 1 4 3 5 4 3 5 5 5 5 2 4 3 5 3 5 3 1 1 3 2 4"
      ]
     },
     "metadata": {},
     "output_type": "display_data"
    }
   ],
   "source": [
    "# See vector\n",
    "fewBugs"
   ]
  },
  {
   "cell_type": "code",
   "execution_count": 17,
   "id": "7792b7d4-bae5-4681-8dec-2b7f291315cc",
   "metadata": {},
   "outputs": [
    {
     "data": {
      "text/html": [
       "<style>\n",
       ".list-inline {list-style: none; margin:0; padding: 0}\n",
       ".list-inline>li {display: inline-block}\n",
       ".list-inline>li:not(:last-child)::after {content: \"\\00b7\"; padding: 0 .5ex}\n",
       "</style>\n",
       "<ol class=list-inline><li>1</li><li>2</li><li>1</li><li>3</li><li>0</li><li>1</li></ol>\n"
      ],
      "text/latex": [
       "\\begin{enumerate*}\n",
       "\\item 1\n",
       "\\item 2\n",
       "\\item 1\n",
       "\\item 3\n",
       "\\item 0\n",
       "\\item 1\n",
       "\\end{enumerate*}\n"
      ],
      "text/markdown": [
       "1. 1\n",
       "2. 2\n",
       "3. 1\n",
       "4. 3\n",
       "5. 0\n",
       "6. 1\n",
       "\n",
       "\n"
      ],
      "text/plain": [
       "[1] 1 2 1 3 0 1"
      ]
     },
     "metadata": {},
     "output_type": "display_data"
    }
   ],
   "source": [
    "# Slice vector\n",
    "fewBugs[c(5:10)]"
   ]
  },
  {
   "cell_type": "code",
   "execution_count": 19,
   "id": "69448519-cc35-4125-9bf1-64244f8fea36",
   "metadata": {},
   "outputs": [
    {
     "data": {
      "text/html": [
       "20"
      ],
      "text/latex": [
       "20"
      ],
      "text/markdown": [
       "20"
      ],
      "text/plain": [
       "[1] 20"
      ]
     },
     "metadata": {},
     "output_type": "display_data"
    }
   ],
   "source": [
    "moreBugs[10]"
   ]
  },
  {
   "cell_type": "code",
   "execution_count": null,
   "id": "de54b7e8-2817-41c1-99b3-cbe4c6ef300c",
   "metadata": {},
   "outputs": [],
   "source": []
  }
 ],
 "metadata": {
  "kernelspec": {
   "display_name": "R",
   "language": "R",
   "name": "ir"
  },
  "language_info": {
   "codemirror_mode": "r",
   "file_extension": ".r",
   "mimetype": "text/x-r-source",
   "name": "R",
   "pygments_lexer": "r",
   "version": "4.1.1"
  }
 },
 "nbformat": 4,
 "nbformat_minor": 5
}
