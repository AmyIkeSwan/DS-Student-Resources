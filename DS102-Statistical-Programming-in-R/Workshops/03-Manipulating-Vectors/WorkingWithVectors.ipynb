{
 "cells": [
  {
   "cell_type": "code",
   "execution_count": 2,
   "id": "a5fbc38c-9725-4ac1-9dae-7ff210b158c7",
   "metadata": {},
   "outputs": [
    {
     "data": {
      "text/html": [
       "<table class=\"dataframe\">\n",
       "<caption>A data.frame: 6 × 2</caption>\n",
       "<thead>\n",
       "\t<tr><th></th><th scope=col>count</th><th scope=col>spray</th></tr>\n",
       "\t<tr><th></th><th scope=col>&lt;dbl&gt;</th><th scope=col>&lt;fct&gt;</th></tr>\n",
       "</thead>\n",
       "<tbody>\n",
       "\t<tr><th scope=row>1</th><td>10</td><td>A</td></tr>\n",
       "\t<tr><th scope=row>2</th><td> 7</td><td>A</td></tr>\n",
       "\t<tr><th scope=row>3</th><td>20</td><td>A</td></tr>\n",
       "\t<tr><th scope=row>4</th><td>14</td><td>A</td></tr>\n",
       "\t<tr><th scope=row>5</th><td>14</td><td>A</td></tr>\n",
       "\t<tr><th scope=row>6</th><td>12</td><td>A</td></tr>\n",
       "</tbody>\n",
       "</table>\n"
      ],
      "text/latex": [
       "A data.frame: 6 × 2\n",
       "\\begin{tabular}{r|ll}\n",
       "  & count & spray\\\\\n",
       "  & <dbl> & <fct>\\\\\n",
       "\\hline\n",
       "\t1 & 10 & A\\\\\n",
       "\t2 &  7 & A\\\\\n",
       "\t3 & 20 & A\\\\\n",
       "\t4 & 14 & A\\\\\n",
       "\t5 & 14 & A\\\\\n",
       "\t6 & 12 & A\\\\\n",
       "\\end{tabular}\n"
      ],
      "text/markdown": [
       "\n",
       "A data.frame: 6 × 2\n",
       "\n",
       "| <!--/--> | count &lt;dbl&gt; | spray &lt;fct&gt; |\n",
       "|---|---|---|\n",
       "| 1 | 10 | A |\n",
       "| 2 |  7 | A |\n",
       "| 3 | 20 | A |\n",
       "| 4 | 14 | A |\n",
       "| 5 | 14 | A |\n",
       "| 6 | 12 | A |\n",
       "\n"
      ],
      "text/plain": [
       "  count spray\n",
       "1 10    A    \n",
       "2  7    A    \n",
       "3 20    A    \n",
       "4 14    A    \n",
       "5 14    A    \n",
       "6 12    A    "
      ]
     },
     "metadata": {},
     "output_type": "display_data"
    },
    {
     "data": {
      "text/html": [
       "31"
      ],
      "text/latex": [
       "31"
      ],
      "text/markdown": [
       "31"
      ],
      "text/plain": [
       "[1] 31"
      ]
     },
     "metadata": {},
     "output_type": "display_data"
    },
    {
     "data": {
      "text/html": [
       "38"
      ],
      "text/latex": [
       "38"
      ],
      "text/markdown": [
       "38"
      ],
      "text/plain": [
       "[1] 38"
      ]
     },
     "metadata": {},
     "output_type": "display_data"
    },
    {
     "data": {
      "text/html": [
       "2.87096774193548"
      ],
      "text/latex": [
       "2.87096774193548"
      ],
      "text/markdown": [
       "2.87096774193548"
      ],
      "text/plain": [
       "[1] 2.870968"
      ]
     },
     "metadata": {},
     "output_type": "display_data"
    },
    {
     "data": {
      "text/html": [
       "15.1842105263158"
      ],
      "text/latex": [
       "15.1842105263158"
      ],
      "text/markdown": [
       "15.1842105263158"
      ],
      "text/plain": [
       "[1] 15.18421"
      ]
     },
     "metadata": {},
     "output_type": "display_data"
    },
    {
     "data": {
      "text/html": [
       "1.60710786785602"
      ],
      "text/latex": [
       "1.60710786785602"
      ],
      "text/markdown": [
       "1.60710786785602"
      ],
      "text/plain": [
       "[1] 1.607108"
      ]
     },
     "metadata": {},
     "output_type": "display_data"
    },
    {
     "data": {
      "text/html": [
       "5.14574220821445"
      ],
      "text/latex": [
       "5.14574220821445"
      ],
      "text/markdown": [
       "5.14574220821445"
      ],
      "text/plain": [
       "[1] 5.145742"
      ]
     },
     "metadata": {},
     "output_type": "display_data"
    }
   ],
   "source": [
    "# Working with Vectors\n",
    "\n",
    "head(InsectSprays)\n",
    "\n",
    "countVector <- InsectSprays$count\n",
    "\n",
    "fewBugs <- countVector[countVector <= 5]\n",
    "\n",
    "moreBugs <- countVector[countVector > 6]\n",
    "\n",
    "#How many elements are in the fewBugs vector? \n",
    "length(fewBugs)\n",
    "\n",
    "#How many elements are in the moreBugs vector? \n",
    "length(moreBugs)\n",
    "\n",
    "#What is the mean number of bugs in the fewBugs vector? \n",
    "mean(fewBugs)\n",
    "\n",
    "#What is the mean number of bugs in the moreBugs vector? \n",
    "mean(moreBugs)\n",
    "\n",
    "#What is the standard deviaon of fewBugs?\n",
    "sd(fewBugs)\n",
    "\n",
    "#What is the standard deviaon of moreBugs? \n",
    "sd(moreBugs)"
   ]
  },
  {
   "cell_type": "code",
   "execution_count": null,
   "id": "da4dc3d6-1c47-43ee-b87a-4716d04cd9c0",
   "metadata": {},
   "outputs": [],
   "source": []
  }
 ],
 "metadata": {
  "kernelspec": {
   "display_name": "R",
   "language": "R",
   "name": "ir"
  },
  "language_info": {
   "codemirror_mode": "r",
   "file_extension": ".r",
   "mimetype": "text/x-r-source",
   "name": "R",
   "pygments_lexer": "r",
   "version": "4.1.1"
  }
 },
 "nbformat": 4,
 "nbformat_minor": 5
}
