{
 "cells": [
  {
   "cell_type": "markdown",
   "id": "21482d14-51fd-426e-93cd-8b22929726ad",
   "metadata": {},
   "source": [
    "# Moving from Excel to R"
   ]
  },
  {
   "cell_type": "markdown",
   "id": "ab15c772-3a11-45da-b4db-4f9c4eebc222",
   "metadata": {},
   "source": [
    "Many of the functions and features of Excel exist and can be leveraged in R (and Python). \n",
    "\n",
    "This example notebook will review several key functions used in Excel and show their R equivalents.\n",
    "\n",
    "Perhaps the biggest difference is having to read the data into R before being able to query it. \n",
    "\n",
    "Once the data is read in, many common data functions are avialable.\n",
    "\n",
    "Overview of this notebook:\n",
    "\n",
    "- Reading in Excel in R\n",
    "- Single vector math\n",
    "    - Min\n",
    "    - Max\n",
    "    - Mean\n",
    "    - Sum\n",
    "    - Count\n",
    "    - Unique\n",
    "- Multiple vector math\n",
    "    - Row/Column based math (e.g., sum of column)\n",
    "- Creating new columns in R\n",
    "    - Sequence of integers\n",
    "    - Sample of floats\n",
    "- Saving your work\n",
    "- Reloading your saved work"
   ]
  },
  {
   "cell_type": "markdown",
   "id": "70b1b719-68c4-44a9-aadf-446b4a0dbfd0",
   "metadata": {},
   "source": [
    "# Reading in Excel in R"
   ]
  },
  {
   "cell_type": "code",
   "execution_count": 1,
   "id": "37c5ea13-bca6-4f7a-9990-144aea4cddd1",
   "metadata": {},
   "outputs": [
    {
     "name": "stdout",
     "output_type": "stream",
     "text": [
      "\n",
      "The downloaded binary packages are in\n",
      "\t/var/folders/9q/yp0trhm570d82rk1lfh67tq00000gn/T//RtmpDTP0Ai/downloaded_packages\n"
     ]
    }
   ],
   "source": [
    "# Install packages\n",
    "install.packages(\"tidyverse\")"
   ]
  },
  {
   "cell_type": "code",
   "execution_count": 2,
   "id": "4e53d081-ac3b-46dc-9291-84a8b003af70",
   "metadata": {},
   "outputs": [
    {
     "name": "stderr",
     "output_type": "stream",
     "text": [
      "── \u001b[1mAttaching packages\u001b[22m ─────────────────────────────────────── tidyverse 1.3.1 ──\n",
      "\n",
      "\u001b[32m✔\u001b[39m \u001b[34mggplot2\u001b[39m 3.3.5     \u001b[32m✔\u001b[39m \u001b[34mpurrr  \u001b[39m 0.3.4\n",
      "\u001b[32m✔\u001b[39m \u001b[34mtibble \u001b[39m 3.1.4     \u001b[32m✔\u001b[39m \u001b[34mdplyr  \u001b[39m 1.0.7\n",
      "\u001b[32m✔\u001b[39m \u001b[34mtidyr  \u001b[39m 1.1.4     \u001b[32m✔\u001b[39m \u001b[34mstringr\u001b[39m 1.4.0\n",
      "\u001b[32m✔\u001b[39m \u001b[34mreadr  \u001b[39m 2.0.2     \u001b[32m✔\u001b[39m \u001b[34mforcats\u001b[39m 0.5.1\n",
      "\n",
      "── \u001b[1mConflicts\u001b[22m ────────────────────────────────────────── tidyverse_conflicts() ──\n",
      "\u001b[31m✖\u001b[39m \u001b[34mdplyr\u001b[39m::\u001b[32mfilter()\u001b[39m masks \u001b[34mstats\u001b[39m::filter()\n",
      "\u001b[31m✖\u001b[39m \u001b[34mdplyr\u001b[39m::\u001b[32mlag()\u001b[39m    masks \u001b[34mstats\u001b[39m::lag()\n",
      "\n"
     ]
    }
   ],
   "source": [
    "# Load libraries\n",
    "library(tidyverse)\n",
    "library(readxl)"
   ]
  },
  {
   "cell_type": "code",
   "execution_count": 3,
   "id": "3bedd7c9-65bc-47da-8a39-cee348e89184",
   "metadata": {},
   "outputs": [],
   "source": [
    "# Read in simple data for example\n",
    "df = read_excel(\"../../Data/Excel_data.xlsx\")"
   ]
  },
  {
   "cell_type": "code",
   "execution_count": 4,
   "id": "21a7c296-d94f-4f88-aafc-5d63e77acbc2",
   "metadata": {},
   "outputs": [
    {
     "data": {
      "text/html": [
       "<table class=\"dataframe\">\n",
       "<caption>A tibble: 10 × 3</caption>\n",
       "<thead>\n",
       "\t<tr><th scope=col>Integers</th><th scope=col>Random_numbers</th><th scope=col>Categorical_data</th></tr>\n",
       "\t<tr><th scope=col>&lt;dbl&gt;</th><th scope=col>&lt;dbl&gt;</th><th scope=col>&lt;chr&gt;</th></tr>\n",
       "</thead>\n",
       "<tbody>\n",
       "\t<tr><td> 1</td><td>0.84824357</td><td>Group1</td></tr>\n",
       "\t<tr><td> 2</td><td>0.09386627</td><td>Group2</td></tr>\n",
       "\t<tr><td> 3</td><td>0.01546409</td><td>Group3</td></tr>\n",
       "\t<tr><td> 4</td><td>0.88211509</td><td>Group1</td></tr>\n",
       "\t<tr><td> 5</td><td>0.44850776</td><td>Group2</td></tr>\n",
       "\t<tr><td> 6</td><td>0.04717416</td><td>Group3</td></tr>\n",
       "\t<tr><td> 7</td><td>0.83961475</td><td>Group1</td></tr>\n",
       "\t<tr><td> 8</td><td>0.50393142</td><td>Group2</td></tr>\n",
       "\t<tr><td> 9</td><td>0.12537182</td><td>Group3</td></tr>\n",
       "\t<tr><td>10</td><td>0.76823077</td><td>Group2</td></tr>\n",
       "</tbody>\n",
       "</table>\n"
      ],
      "text/latex": [
       "A tibble: 10 × 3\n",
       "\\begin{tabular}{lll}\n",
       " Integers & Random\\_numbers & Categorical\\_data\\\\\n",
       " <dbl> & <dbl> & <chr>\\\\\n",
       "\\hline\n",
       "\t  1 & 0.84824357 & Group1\\\\\n",
       "\t  2 & 0.09386627 & Group2\\\\\n",
       "\t  3 & 0.01546409 & Group3\\\\\n",
       "\t  4 & 0.88211509 & Group1\\\\\n",
       "\t  5 & 0.44850776 & Group2\\\\\n",
       "\t  6 & 0.04717416 & Group3\\\\\n",
       "\t  7 & 0.83961475 & Group1\\\\\n",
       "\t  8 & 0.50393142 & Group2\\\\\n",
       "\t  9 & 0.12537182 & Group3\\\\\n",
       "\t 10 & 0.76823077 & Group2\\\\\n",
       "\\end{tabular}\n"
      ],
      "text/markdown": [
       "\n",
       "A tibble: 10 × 3\n",
       "\n",
       "| Integers &lt;dbl&gt; | Random_numbers &lt;dbl&gt; | Categorical_data &lt;chr&gt; |\n",
       "|---|---|---|\n",
       "|  1 | 0.84824357 | Group1 |\n",
       "|  2 | 0.09386627 | Group2 |\n",
       "|  3 | 0.01546409 | Group3 |\n",
       "|  4 | 0.88211509 | Group1 |\n",
       "|  5 | 0.44850776 | Group2 |\n",
       "|  6 | 0.04717416 | Group3 |\n",
       "|  7 | 0.83961475 | Group1 |\n",
       "|  8 | 0.50393142 | Group2 |\n",
       "|  9 | 0.12537182 | Group3 |\n",
       "| 10 | 0.76823077 | Group2 |\n",
       "\n"
      ],
      "text/plain": [
       "   Integers Random_numbers Categorical_data\n",
       "1   1       0.84824357     Group1          \n",
       "2   2       0.09386627     Group2          \n",
       "3   3       0.01546409     Group3          \n",
       "4   4       0.88211509     Group1          \n",
       "5   5       0.44850776     Group2          \n",
       "6   6       0.04717416     Group3          \n",
       "7   7       0.83961475     Group1          \n",
       "8   8       0.50393142     Group2          \n",
       "9   9       0.12537182     Group3          \n",
       "10 10       0.76823077     Group2          "
      ]
     },
     "metadata": {},
     "output_type": "display_data"
    }
   ],
   "source": [
    "# View data\n",
    "df"
   ]
  },
  {
   "cell_type": "code",
   "execution_count": 5,
   "id": "1883834d-90ba-4cb7-b063-c2c6f62472f8",
   "metadata": {},
   "outputs": [
    {
     "data": {
      "text/html": [
       "<style>\n",
       ".list-inline {list-style: none; margin:0; padding: 0}\n",
       ".list-inline>li {display: inline-block}\n",
       ".list-inline>li:not(:last-child)::after {content: \"\\00b7\"; padding: 0 .5ex}\n",
       "</style>\n",
       "<ol class=list-inline><li>'Integers'</li><li>'Random_numbers'</li><li>'Categorical_data'</li></ol>\n"
      ],
      "text/latex": [
       "\\begin{enumerate*}\n",
       "\\item 'Integers'\n",
       "\\item 'Random\\_numbers'\n",
       "\\item 'Categorical\\_data'\n",
       "\\end{enumerate*}\n"
      ],
      "text/markdown": [
       "1. 'Integers'\n",
       "2. 'Random_numbers'\n",
       "3. 'Categorical_data'\n",
       "\n",
       "\n"
      ],
      "text/plain": [
       "[1] \"Integers\"         \"Random_numbers\"   \"Categorical_data\""
      ]
     },
     "metadata": {},
     "output_type": "display_data"
    }
   ],
   "source": [
    "# List column names\n",
    "names(df)"
   ]
  },
  {
   "cell_type": "markdown",
   "id": "81ba4a3e-926d-49c3-b3f7-b39b66c4aecb",
   "metadata": {},
   "source": [
    "# Single Vector Math in R"
   ]
  },
  {
   "cell_type": "code",
   "execution_count": 6,
   "id": "dd81cc50-6496-4131-bdfd-e7f1b77918d7",
   "metadata": {},
   "outputs": [
    {
     "data": {
      "text/html": [
       "1"
      ],
      "text/latex": [
       "1"
      ],
      "text/markdown": [
       "1"
      ],
      "text/plain": [
       "[1] 1"
      ]
     },
     "metadata": {},
     "output_type": "display_data"
    }
   ],
   "source": [
    "# Get min of Integers column\n",
    "min(df$Integers)"
   ]
  },
  {
   "cell_type": "code",
   "execution_count": 7,
   "id": "1a15a131-5e6b-4d79-ae7e-ac04ec777fda",
   "metadata": {},
   "outputs": [
    {
     "data": {
      "text/html": [
       "10"
      ],
      "text/latex": [
       "10"
      ],
      "text/markdown": [
       "10"
      ],
      "text/plain": [
       "[1] 10"
      ]
     },
     "metadata": {},
     "output_type": "display_data"
    }
   ],
   "source": [
    "# Get min of Integers column\n",
    "max(df$Integers)"
   ]
  },
  {
   "cell_type": "code",
   "execution_count": 8,
   "id": "063394c1-2f1d-43a9-8e3b-17f1d57aa2af",
   "metadata": {},
   "outputs": [
    {
     "data": {
      "text/html": [
       "10"
      ],
      "text/latex": [
       "10"
      ],
      "text/markdown": [
       "10"
      ],
      "text/plain": [
       "[1] 10"
      ]
     },
     "metadata": {},
     "output_type": "display_data"
    }
   ],
   "source": [
    "# Length of a vector\n",
    "length(df$Integers)"
   ]
  },
  {
   "cell_type": "code",
   "execution_count": 9,
   "id": "fb1b6846-2e76-43a8-ab79-48812651f7fe",
   "metadata": {},
   "outputs": [
    {
     "data": {
      "text/html": [
       "0.457251969120097"
      ],
      "text/latex": [
       "0.457251969120097"
      ],
      "text/markdown": [
       "0.457251969120097"
      ],
      "text/plain": [
       "[1] 0.457252"
      ]
     },
     "metadata": {},
     "output_type": "display_data"
    }
   ],
   "source": [
    "# Mean of random numbers column\n",
    "mean(df$Random_numbers)"
   ]
  },
  {
   "cell_type": "code",
   "execution_count": 23,
   "id": "da8dd2f1-ee53-4579-b220-f398593cecb3",
   "metadata": {},
   "outputs": [
    {
     "data": {
      "text/html": [
       "4.57251969120097"
      ],
      "text/latex": [
       "4.57251969120097"
      ],
      "text/markdown": [
       "4.57251969120097"
      ],
      "text/plain": [
       "[1] 4.57252"
      ]
     },
     "metadata": {},
     "output_type": "display_data"
    }
   ],
   "source": [
    "# Sum of random numbers in column\n",
    "sum(df$Random_numbers)"
   ]
  },
  {
   "cell_type": "code",
   "execution_count": 10,
   "id": "e9288091-e06c-4fff-9c90-6f3d4c1b2336",
   "metadata": {},
   "outputs": [
    {
     "data": {
      "text/html": [
       "<style>\n",
       ".list-inline {list-style: none; margin:0; padding: 0}\n",
       ".list-inline>li {display: inline-block}\n",
       ".list-inline>li:not(:last-child)::after {content: \"\\00b7\"; padding: 0 .5ex}\n",
       "</style>\n",
       "<ol class=list-inline><li>'Group1'</li><li>'Group2'</li><li>'Group3'</li></ol>\n"
      ],
      "text/latex": [
       "\\begin{enumerate*}\n",
       "\\item 'Group1'\n",
       "\\item 'Group2'\n",
       "\\item 'Group3'\n",
       "\\end{enumerate*}\n"
      ],
      "text/markdown": [
       "1. 'Group1'\n",
       "2. 'Group2'\n",
       "3. 'Group3'\n",
       "\n",
       "\n"
      ],
      "text/plain": [
       "[1] \"Group1\" \"Group2\" \"Group3\""
      ]
     },
     "metadata": {},
     "output_type": "display_data"
    }
   ],
   "source": [
    "# List of unique items in column\n",
    "unique(df$Categorical_data)"
   ]
  },
  {
   "cell_type": "code",
   "execution_count": 11,
   "id": "f723cef1-97e7-45d9-a623-b816ae0f5063",
   "metadata": {},
   "outputs": [
    {
     "data": {
      "text/html": [
       "<table class=\"dataframe\">\n",
       "<caption>A tibble: 3 × 2</caption>\n",
       "<thead>\n",
       "\t<tr><th scope=col>Categorical_data</th><th scope=col>n</th></tr>\n",
       "\t<tr><th scope=col>&lt;chr&gt;</th><th scope=col>&lt;int&gt;</th></tr>\n",
       "</thead>\n",
       "<tbody>\n",
       "\t<tr><td>Group2</td><td>4</td></tr>\n",
       "\t<tr><td>Group1</td><td>3</td></tr>\n",
       "\t<tr><td>Group3</td><td>3</td></tr>\n",
       "</tbody>\n",
       "</table>\n"
      ],
      "text/latex": [
       "A tibble: 3 × 2\n",
       "\\begin{tabular}{ll}\n",
       " Categorical\\_data & n\\\\\n",
       " <chr> & <int>\\\\\n",
       "\\hline\n",
       "\t Group2 & 4\\\\\n",
       "\t Group1 & 3\\\\\n",
       "\t Group3 & 3\\\\\n",
       "\\end{tabular}\n"
      ],
      "text/markdown": [
       "\n",
       "A tibble: 3 × 2\n",
       "\n",
       "| Categorical_data &lt;chr&gt; | n &lt;int&gt; |\n",
       "|---|---|\n",
       "| Group2 | 4 |\n",
       "| Group1 | 3 |\n",
       "| Group3 | 3 |\n",
       "\n"
      ],
      "text/plain": [
       "  Categorical_data n\n",
       "1 Group2           4\n",
       "2 Group1           3\n",
       "3 Group3           3"
      ]
     },
     "metadata": {},
     "output_type": "display_data"
    }
   ],
   "source": [
    "# Counts of each group\n",
    "dplyr::count(df, Categorical_data, sort = TRUE)"
   ]
  },
  {
   "cell_type": "markdown",
   "id": "11bdf250-4d38-47fa-8e95-020b40ed577f",
   "metadata": {},
   "source": [
    "# Creating New Columns-Multiple Vector Math in R"
   ]
  },
  {
   "cell_type": "code",
   "execution_count": 12,
   "id": "a18d3f39-3888-47c4-b362-4dc4fa0640d9",
   "metadata": {},
   "outputs": [],
   "source": [
    "# Create a new column by adding the two numeric columns\n",
    "df$NewColumn = df$Integers + df$Random_numbers"
   ]
  },
  {
   "cell_type": "code",
   "execution_count": 20,
   "id": "24f1e072-72a1-41c6-bc77-cb0ad677379b",
   "metadata": {},
   "outputs": [
    {
     "data": {
      "text/html": [
       "<table class=\"dataframe\">\n",
       "<caption>A tibble: 10 × 6</caption>\n",
       "<thead>\n",
       "\t<tr><th scope=col>Integers</th><th scope=col>Random_numbers</th><th scope=col>Categorical_data</th><th scope=col>NewColumn</th><th scope=col>newInts</th><th scope=col>newFloats</th></tr>\n",
       "\t<tr><th scope=col>&lt;dbl&gt;</th><th scope=col>&lt;dbl&gt;</th><th scope=col>&lt;chr&gt;</th><th scope=col>&lt;dbl&gt;</th><th scope=col>&lt;int&gt;</th><th scope=col>&lt;dbl&gt;</th></tr>\n",
       "</thead>\n",
       "<tbody>\n",
       "\t<tr><td> 1</td><td>0.84824357</td><td>Group1</td><td> 1.848244</td><td> 1</td><td>0.661376456</td></tr>\n",
       "\t<tr><td> 2</td><td>0.09386627</td><td>Group2</td><td> 2.093866</td><td> 2</td><td>0.138990269</td></tr>\n",
       "\t<tr><td> 3</td><td>0.01546409</td><td>Group3</td><td> 3.015464</td><td> 3</td><td>0.099125593</td></tr>\n",
       "\t<tr><td> 4</td><td>0.88211509</td><td>Group1</td><td> 4.882115</td><td> 4</td><td>0.887230776</td></tr>\n",
       "\t<tr><td> 5</td><td>0.44850776</td><td>Group2</td><td> 5.448508</td><td> 5</td><td>0.007663397</td></tr>\n",
       "\t<tr><td> 6</td><td>0.04717416</td><td>Group3</td><td> 6.047174</td><td> 6</td><td>0.654984571</td></tr>\n",
       "\t<tr><td> 7</td><td>0.83961475</td><td>Group1</td><td> 7.839615</td><td> 7</td><td>0.082449667</td></tr>\n",
       "\t<tr><td> 8</td><td>0.50393142</td><td>Group2</td><td> 8.503931</td><td> 8</td><td>0.232198527</td></tr>\n",
       "\t<tr><td> 9</td><td>0.12537182</td><td>Group3</td><td> 9.125372</td><td> 9</td><td>0.147984678</td></tr>\n",
       "\t<tr><td>10</td><td>0.76823077</td><td>Group2</td><td>10.768231</td><td>10</td><td>0.242302226</td></tr>\n",
       "</tbody>\n",
       "</table>\n"
      ],
      "text/latex": [
       "A tibble: 10 × 6\n",
       "\\begin{tabular}{llllll}\n",
       " Integers & Random\\_numbers & Categorical\\_data & NewColumn & newInts & newFloats\\\\\n",
       " <dbl> & <dbl> & <chr> & <dbl> & <int> & <dbl>\\\\\n",
       "\\hline\n",
       "\t  1 & 0.84824357 & Group1 &  1.848244 &  1 & 0.661376456\\\\\n",
       "\t  2 & 0.09386627 & Group2 &  2.093866 &  2 & 0.138990269\\\\\n",
       "\t  3 & 0.01546409 & Group3 &  3.015464 &  3 & 0.099125593\\\\\n",
       "\t  4 & 0.88211509 & Group1 &  4.882115 &  4 & 0.887230776\\\\\n",
       "\t  5 & 0.44850776 & Group2 &  5.448508 &  5 & 0.007663397\\\\\n",
       "\t  6 & 0.04717416 & Group3 &  6.047174 &  6 & 0.654984571\\\\\n",
       "\t  7 & 0.83961475 & Group1 &  7.839615 &  7 & 0.082449667\\\\\n",
       "\t  8 & 0.50393142 & Group2 &  8.503931 &  8 & 0.232198527\\\\\n",
       "\t  9 & 0.12537182 & Group3 &  9.125372 &  9 & 0.147984678\\\\\n",
       "\t 10 & 0.76823077 & Group2 & 10.768231 & 10 & 0.242302226\\\\\n",
       "\\end{tabular}\n"
      ],
      "text/markdown": [
       "\n",
       "A tibble: 10 × 6\n",
       "\n",
       "| Integers &lt;dbl&gt; | Random_numbers &lt;dbl&gt; | Categorical_data &lt;chr&gt; | NewColumn &lt;dbl&gt; | newInts &lt;int&gt; | newFloats &lt;dbl&gt; |\n",
       "|---|---|---|---|---|---|\n",
       "|  1 | 0.84824357 | Group1 |  1.848244 |  1 | 0.661376456 |\n",
       "|  2 | 0.09386627 | Group2 |  2.093866 |  2 | 0.138990269 |\n",
       "|  3 | 0.01546409 | Group3 |  3.015464 |  3 | 0.099125593 |\n",
       "|  4 | 0.88211509 | Group1 |  4.882115 |  4 | 0.887230776 |\n",
       "|  5 | 0.44850776 | Group2 |  5.448508 |  5 | 0.007663397 |\n",
       "|  6 | 0.04717416 | Group3 |  6.047174 |  6 | 0.654984571 |\n",
       "|  7 | 0.83961475 | Group1 |  7.839615 |  7 | 0.082449667 |\n",
       "|  8 | 0.50393142 | Group2 |  8.503931 |  8 | 0.232198527 |\n",
       "|  9 | 0.12537182 | Group3 |  9.125372 |  9 | 0.147984678 |\n",
       "| 10 | 0.76823077 | Group2 | 10.768231 | 10 | 0.242302226 |\n",
       "\n"
      ],
      "text/plain": [
       "   Integers Random_numbers Categorical_data NewColumn newInts newFloats  \n",
       "1   1       0.84824357     Group1            1.848244  1      0.661376456\n",
       "2   2       0.09386627     Group2            2.093866  2      0.138990269\n",
       "3   3       0.01546409     Group3            3.015464  3      0.099125593\n",
       "4   4       0.88211509     Group1            4.882115  4      0.887230776\n",
       "5   5       0.44850776     Group2            5.448508  5      0.007663397\n",
       "6   6       0.04717416     Group3            6.047174  6      0.654984571\n",
       "7   7       0.83961475     Group1            7.839615  7      0.082449667\n",
       "8   8       0.50393142     Group2            8.503931  8      0.232198527\n",
       "9   9       0.12537182     Group3            9.125372  9      0.147984678\n",
       "10 10       0.76823077     Group2           10.768231 10      0.242302226"
      ]
     },
     "metadata": {},
     "output_type": "display_data"
    }
   ],
   "source": [
    "# View data\n",
    "df"
   ]
  },
  {
   "cell_type": "code",
   "execution_count": 14,
   "id": "f7c4cb00-294d-4f08-ac2a-8d840df17397",
   "metadata": {},
   "outputs": [],
   "source": [
    "# Create new cols of intergers\n",
    "df$newInts <- seq(1, 10)"
   ]
  },
  {
   "cell_type": "code",
   "execution_count": 15,
   "id": "aa1f16f4-f302-433e-903b-789ec3c4663b",
   "metadata": {},
   "outputs": [],
   "source": [
    "# Create new col of floats\n",
    "df$newFloats <- runif(10, 0, 1)"
   ]
  },
  {
   "cell_type": "code",
   "execution_count": 16,
   "id": "9abc5a29-f754-441a-8f22-d8b6b6139203",
   "metadata": {},
   "outputs": [
    {
     "data": {
      "text/html": [
       "<table class=\"dataframe\">\n",
       "<caption>A tibble: 10 × 6</caption>\n",
       "<thead>\n",
       "\t<tr><th scope=col>Integers</th><th scope=col>Random_numbers</th><th scope=col>Categorical_data</th><th scope=col>NewColumn</th><th scope=col>newInts</th><th scope=col>newFloats</th></tr>\n",
       "\t<tr><th scope=col>&lt;dbl&gt;</th><th scope=col>&lt;dbl&gt;</th><th scope=col>&lt;chr&gt;</th><th scope=col>&lt;dbl&gt;</th><th scope=col>&lt;int&gt;</th><th scope=col>&lt;dbl&gt;</th></tr>\n",
       "</thead>\n",
       "<tbody>\n",
       "\t<tr><td> 1</td><td>0.84824357</td><td>Group1</td><td> 1.848244</td><td> 1</td><td>0.661376456</td></tr>\n",
       "\t<tr><td> 2</td><td>0.09386627</td><td>Group2</td><td> 2.093866</td><td> 2</td><td>0.138990269</td></tr>\n",
       "\t<tr><td> 3</td><td>0.01546409</td><td>Group3</td><td> 3.015464</td><td> 3</td><td>0.099125593</td></tr>\n",
       "\t<tr><td> 4</td><td>0.88211509</td><td>Group1</td><td> 4.882115</td><td> 4</td><td>0.887230776</td></tr>\n",
       "\t<tr><td> 5</td><td>0.44850776</td><td>Group2</td><td> 5.448508</td><td> 5</td><td>0.007663397</td></tr>\n",
       "\t<tr><td> 6</td><td>0.04717416</td><td>Group3</td><td> 6.047174</td><td> 6</td><td>0.654984571</td></tr>\n",
       "\t<tr><td> 7</td><td>0.83961475</td><td>Group1</td><td> 7.839615</td><td> 7</td><td>0.082449667</td></tr>\n",
       "\t<tr><td> 8</td><td>0.50393142</td><td>Group2</td><td> 8.503931</td><td> 8</td><td>0.232198527</td></tr>\n",
       "\t<tr><td> 9</td><td>0.12537182</td><td>Group3</td><td> 9.125372</td><td> 9</td><td>0.147984678</td></tr>\n",
       "\t<tr><td>10</td><td>0.76823077</td><td>Group2</td><td>10.768231</td><td>10</td><td>0.242302226</td></tr>\n",
       "</tbody>\n",
       "</table>\n"
      ],
      "text/latex": [
       "A tibble: 10 × 6\n",
       "\\begin{tabular}{llllll}\n",
       " Integers & Random\\_numbers & Categorical\\_data & NewColumn & newInts & newFloats\\\\\n",
       " <dbl> & <dbl> & <chr> & <dbl> & <int> & <dbl>\\\\\n",
       "\\hline\n",
       "\t  1 & 0.84824357 & Group1 &  1.848244 &  1 & 0.661376456\\\\\n",
       "\t  2 & 0.09386627 & Group2 &  2.093866 &  2 & 0.138990269\\\\\n",
       "\t  3 & 0.01546409 & Group3 &  3.015464 &  3 & 0.099125593\\\\\n",
       "\t  4 & 0.88211509 & Group1 &  4.882115 &  4 & 0.887230776\\\\\n",
       "\t  5 & 0.44850776 & Group2 &  5.448508 &  5 & 0.007663397\\\\\n",
       "\t  6 & 0.04717416 & Group3 &  6.047174 &  6 & 0.654984571\\\\\n",
       "\t  7 & 0.83961475 & Group1 &  7.839615 &  7 & 0.082449667\\\\\n",
       "\t  8 & 0.50393142 & Group2 &  8.503931 &  8 & 0.232198527\\\\\n",
       "\t  9 & 0.12537182 & Group3 &  9.125372 &  9 & 0.147984678\\\\\n",
       "\t 10 & 0.76823077 & Group2 & 10.768231 & 10 & 0.242302226\\\\\n",
       "\\end{tabular}\n"
      ],
      "text/markdown": [
       "\n",
       "A tibble: 10 × 6\n",
       "\n",
       "| Integers &lt;dbl&gt; | Random_numbers &lt;dbl&gt; | Categorical_data &lt;chr&gt; | NewColumn &lt;dbl&gt; | newInts &lt;int&gt; | newFloats &lt;dbl&gt; |\n",
       "|---|---|---|---|---|---|\n",
       "|  1 | 0.84824357 | Group1 |  1.848244 |  1 | 0.661376456 |\n",
       "|  2 | 0.09386627 | Group2 |  2.093866 |  2 | 0.138990269 |\n",
       "|  3 | 0.01546409 | Group3 |  3.015464 |  3 | 0.099125593 |\n",
       "|  4 | 0.88211509 | Group1 |  4.882115 |  4 | 0.887230776 |\n",
       "|  5 | 0.44850776 | Group2 |  5.448508 |  5 | 0.007663397 |\n",
       "|  6 | 0.04717416 | Group3 |  6.047174 |  6 | 0.654984571 |\n",
       "|  7 | 0.83961475 | Group1 |  7.839615 |  7 | 0.082449667 |\n",
       "|  8 | 0.50393142 | Group2 |  8.503931 |  8 | 0.232198527 |\n",
       "|  9 | 0.12537182 | Group3 |  9.125372 |  9 | 0.147984678 |\n",
       "| 10 | 0.76823077 | Group2 | 10.768231 | 10 | 0.242302226 |\n",
       "\n"
      ],
      "text/plain": [
       "   Integers Random_numbers Categorical_data NewColumn newInts newFloats  \n",
       "1   1       0.84824357     Group1            1.848244  1      0.661376456\n",
       "2   2       0.09386627     Group2            2.093866  2      0.138990269\n",
       "3   3       0.01546409     Group3            3.015464  3      0.099125593\n",
       "4   4       0.88211509     Group1            4.882115  4      0.887230776\n",
       "5   5       0.44850776     Group2            5.448508  5      0.007663397\n",
       "6   6       0.04717416     Group3            6.047174  6      0.654984571\n",
       "7   7       0.83961475     Group1            7.839615  7      0.082449667\n",
       "8   8       0.50393142     Group2            8.503931  8      0.232198527\n",
       "9   9       0.12537182     Group3            9.125372  9      0.147984678\n",
       "10 10       0.76823077     Group2           10.768231 10      0.242302226"
      ]
     },
     "metadata": {},
     "output_type": "display_data"
    }
   ],
   "source": [
    "# View data\n",
    "df"
   ]
  },
  {
   "cell_type": "markdown",
   "id": "c27e5c46-810c-46ef-9efc-1a1293dbf4a7",
   "metadata": {},
   "source": [
    "# Saving the data"
   ]
  },
  {
   "cell_type": "code",
   "execution_count": 17,
   "id": "ef58c422-e7c5-4503-8245-bb3707a7d26d",
   "metadata": {},
   "outputs": [],
   "source": [
    "# Save new df to a csv format file\n",
    "write.csv(df, '../../Data/Example_output.csv')"
   ]
  },
  {
   "cell_type": "markdown",
   "id": "6482c5e8-e391-4c34-80b2-2bb774a1d02d",
   "metadata": {},
   "source": [
    "# Reading in and checking the output"
   ]
  },
  {
   "cell_type": "code",
   "execution_count": 21,
   "id": "a440ab6f-5fe2-4d72-9739-876af9ce2ba6",
   "metadata": {},
   "outputs": [
    {
     "name": "stderr",
     "output_type": "stream",
     "text": [
      "New names:\n",
      "* `` -> ...1\n",
      "\n",
      "\u001b[1m\u001b[1mRows: \u001b[1m\u001b[22m\u001b[34m\u001b[34m10\u001b[34m\u001b[39m \u001b[1m\u001b[1mColumns: \u001b[1m\u001b[22m\u001b[34m\u001b[34m7\u001b[34m\u001b[39m\n",
      "\n",
      "\u001b[36m──\u001b[39m \u001b[1m\u001b[1mColumn specification\u001b[1m\u001b[22m \u001b[36m────────────────────────────────────────────────────────\u001b[39m\n",
      "\u001b[1mDelimiter:\u001b[22m \",\"\n",
      "\u001b[31mchr\u001b[39m (1): Categorical_data\n",
      "\u001b[32mdbl\u001b[39m (6): ...1, Integers, Random_numbers, NewColumn, newInts, newFloats\n",
      "\n",
      "\n",
      "\u001b[36mℹ\u001b[39m Use \u001b[30m\u001b[47m\u001b[30m\u001b[47m`spec()`\u001b[47m\u001b[30m\u001b[49m\u001b[39m to retrieve the full column specification for this data.\n",
      "\u001b[36mℹ\u001b[39m Specify the column types or set \u001b[30m\u001b[47m\u001b[30m\u001b[47m`show_col_types = FALSE`\u001b[47m\u001b[30m\u001b[49m\u001b[39m to quiet this message.\n",
      "\n"
     ]
    }
   ],
   "source": [
    "# Read in csv file that was just output\n",
    "df2 = read_csv('../../Data/Example_output.csv')"
   ]
  },
  {
   "cell_type": "code",
   "execution_count": 22,
   "id": "415e49e2-b699-4102-912a-cc34a0a523b5",
   "metadata": {},
   "outputs": [
    {
     "data": {
      "text/html": [
       "<table class=\"dataframe\">\n",
       "<caption>A spec_tbl_df: 10 × 7</caption>\n",
       "<thead>\n",
       "\t<tr><th scope=col>...1</th><th scope=col>Integers</th><th scope=col>Random_numbers</th><th scope=col>Categorical_data</th><th scope=col>NewColumn</th><th scope=col>newInts</th><th scope=col>newFloats</th></tr>\n",
       "\t<tr><th scope=col>&lt;dbl&gt;</th><th scope=col>&lt;dbl&gt;</th><th scope=col>&lt;dbl&gt;</th><th scope=col>&lt;chr&gt;</th><th scope=col>&lt;dbl&gt;</th><th scope=col>&lt;dbl&gt;</th><th scope=col>&lt;dbl&gt;</th></tr>\n",
       "</thead>\n",
       "<tbody>\n",
       "\t<tr><td> 1</td><td> 1</td><td>0.84824357</td><td>Group1</td><td> 1.848244</td><td> 1</td><td>0.661376456</td></tr>\n",
       "\t<tr><td> 2</td><td> 2</td><td>0.09386627</td><td>Group2</td><td> 2.093866</td><td> 2</td><td>0.138990269</td></tr>\n",
       "\t<tr><td> 3</td><td> 3</td><td>0.01546409</td><td>Group3</td><td> 3.015464</td><td> 3</td><td>0.099125593</td></tr>\n",
       "\t<tr><td> 4</td><td> 4</td><td>0.88211509</td><td>Group1</td><td> 4.882115</td><td> 4</td><td>0.887230776</td></tr>\n",
       "\t<tr><td> 5</td><td> 5</td><td>0.44850776</td><td>Group2</td><td> 5.448508</td><td> 5</td><td>0.007663397</td></tr>\n",
       "\t<tr><td> 6</td><td> 6</td><td>0.04717416</td><td>Group3</td><td> 6.047174</td><td> 6</td><td>0.654984571</td></tr>\n",
       "\t<tr><td> 7</td><td> 7</td><td>0.83961475</td><td>Group1</td><td> 7.839615</td><td> 7</td><td>0.082449667</td></tr>\n",
       "\t<tr><td> 8</td><td> 8</td><td>0.50393142</td><td>Group2</td><td> 8.503931</td><td> 8</td><td>0.232198527</td></tr>\n",
       "\t<tr><td> 9</td><td> 9</td><td>0.12537182</td><td>Group3</td><td> 9.125372</td><td> 9</td><td>0.147984678</td></tr>\n",
       "\t<tr><td>10</td><td>10</td><td>0.76823077</td><td>Group2</td><td>10.768231</td><td>10</td><td>0.242302226</td></tr>\n",
       "</tbody>\n",
       "</table>\n"
      ],
      "text/latex": [
       "A spec\\_tbl\\_df: 10 × 7\n",
       "\\begin{tabular}{lllllll}\n",
       " ...1 & Integers & Random\\_numbers & Categorical\\_data & NewColumn & newInts & newFloats\\\\\n",
       " <dbl> & <dbl> & <dbl> & <chr> & <dbl> & <dbl> & <dbl>\\\\\n",
       "\\hline\n",
       "\t  1 &  1 & 0.84824357 & Group1 &  1.848244 &  1 & 0.661376456\\\\\n",
       "\t  2 &  2 & 0.09386627 & Group2 &  2.093866 &  2 & 0.138990269\\\\\n",
       "\t  3 &  3 & 0.01546409 & Group3 &  3.015464 &  3 & 0.099125593\\\\\n",
       "\t  4 &  4 & 0.88211509 & Group1 &  4.882115 &  4 & 0.887230776\\\\\n",
       "\t  5 &  5 & 0.44850776 & Group2 &  5.448508 &  5 & 0.007663397\\\\\n",
       "\t  6 &  6 & 0.04717416 & Group3 &  6.047174 &  6 & 0.654984571\\\\\n",
       "\t  7 &  7 & 0.83961475 & Group1 &  7.839615 &  7 & 0.082449667\\\\\n",
       "\t  8 &  8 & 0.50393142 & Group2 &  8.503931 &  8 & 0.232198527\\\\\n",
       "\t  9 &  9 & 0.12537182 & Group3 &  9.125372 &  9 & 0.147984678\\\\\n",
       "\t 10 & 10 & 0.76823077 & Group2 & 10.768231 & 10 & 0.242302226\\\\\n",
       "\\end{tabular}\n"
      ],
      "text/markdown": [
       "\n",
       "A spec_tbl_df: 10 × 7\n",
       "\n",
       "| ...1 &lt;dbl&gt; | Integers &lt;dbl&gt; | Random_numbers &lt;dbl&gt; | Categorical_data &lt;chr&gt; | NewColumn &lt;dbl&gt; | newInts &lt;dbl&gt; | newFloats &lt;dbl&gt; |\n",
       "|---|---|---|---|---|---|---|\n",
       "|  1 |  1 | 0.84824357 | Group1 |  1.848244 |  1 | 0.661376456 |\n",
       "|  2 |  2 | 0.09386627 | Group2 |  2.093866 |  2 | 0.138990269 |\n",
       "|  3 |  3 | 0.01546409 | Group3 |  3.015464 |  3 | 0.099125593 |\n",
       "|  4 |  4 | 0.88211509 | Group1 |  4.882115 |  4 | 0.887230776 |\n",
       "|  5 |  5 | 0.44850776 | Group2 |  5.448508 |  5 | 0.007663397 |\n",
       "|  6 |  6 | 0.04717416 | Group3 |  6.047174 |  6 | 0.654984571 |\n",
       "|  7 |  7 | 0.83961475 | Group1 |  7.839615 |  7 | 0.082449667 |\n",
       "|  8 |  8 | 0.50393142 | Group2 |  8.503931 |  8 | 0.232198527 |\n",
       "|  9 |  9 | 0.12537182 | Group3 |  9.125372 |  9 | 0.147984678 |\n",
       "| 10 | 10 | 0.76823077 | Group2 | 10.768231 | 10 | 0.242302226 |\n",
       "\n"
      ],
      "text/plain": [
       "   ...1 Integers Random_numbers Categorical_data NewColumn newInts newFloats  \n",
       "1   1    1       0.84824357     Group1            1.848244  1      0.661376456\n",
       "2   2    2       0.09386627     Group2            2.093866  2      0.138990269\n",
       "3   3    3       0.01546409     Group3            3.015464  3      0.099125593\n",
       "4   4    4       0.88211509     Group1            4.882115  4      0.887230776\n",
       "5   5    5       0.44850776     Group2            5.448508  5      0.007663397\n",
       "6   6    6       0.04717416     Group3            6.047174  6      0.654984571\n",
       "7   7    7       0.83961475     Group1            7.839615  7      0.082449667\n",
       "8   8    8       0.50393142     Group2            8.503931  8      0.232198527\n",
       "9   9    9       0.12537182     Group3            9.125372  9      0.147984678\n",
       "10 10   10       0.76823077     Group2           10.768231 10      0.242302226"
      ]
     },
     "metadata": {},
     "output_type": "display_data"
    }
   ],
   "source": [
    "# View the data\n",
    "df2"
   ]
  },
  {
   "cell_type": "markdown",
   "id": "72d1cefe-3b1a-4365-bcae-47a64d38340a",
   "metadata": {},
   "source": [
    "Here, in df2, we can see that the new columns have been created and loaded properly"
   ]
  },
  {
   "cell_type": "code",
   "execution_count": null,
   "id": "9631a330-e27f-4438-895c-02f44c0b1b6b",
   "metadata": {},
   "outputs": [],
   "source": []
  }
 ],
 "metadata": {
  "kernelspec": {
   "display_name": "R",
   "language": "R",
   "name": "ir"
  },
  "language_info": {
   "codemirror_mode": "r",
   "file_extension": ".r",
   "mimetype": "text/x-r-source",
   "name": "R",
   "pygments_lexer": "r",
   "version": "4.1.1"
  }
 },
 "nbformat": 4,
 "nbformat_minor": 5
}
