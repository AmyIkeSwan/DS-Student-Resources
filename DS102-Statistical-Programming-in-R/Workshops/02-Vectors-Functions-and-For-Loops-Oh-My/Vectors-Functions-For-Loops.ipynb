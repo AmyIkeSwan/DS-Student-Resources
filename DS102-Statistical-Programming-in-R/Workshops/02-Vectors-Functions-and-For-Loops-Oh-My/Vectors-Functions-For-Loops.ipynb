{
 "cells": [
  {
   "cell_type": "markdown",
   "id": "2bbb49ed-8eef-4e69-ab8a-d9c9cbb7e6e4",
   "metadata": {},
   "source": [
    "# Vectors, functions and for loops in R\n",
    "\n",
    "The goal of this notebook is to introduce vectors, for loops and functions in R. "
   ]
  },
  {
   "cell_type": "markdown",
   "id": "7df40266-1284-4e31-9a99-4e8d25ac35b2",
   "metadata": {},
   "source": [
    "## Basic Vector Operations\n",
    "\n",
    "A vector is string or sequence of data points such as numbers.\n",
    "\n",
    "Here we will deal with a single vector at a time."
   ]
  },
  {
   "cell_type": "code",
   "execution_count": 1,
   "id": "be6e147c-c02a-4cee-bf3e-7e8f1f26acf9",
   "metadata": {},
   "outputs": [],
   "source": [
    "# Create the vector\n",
    "my_vector = c(1, 10, 100, 1000)\n",
    "# The `c` stands for combine"
   ]
  },
  {
   "cell_type": "code",
   "execution_count": 2,
   "id": "a92af4c1-4583-4f7a-bab0-16f6e16880f3",
   "metadata": {},
   "outputs": [
    {
     "data": {
      "text/html": [
       "<style>\n",
       ".list-inline {list-style: none; margin:0; padding: 0}\n",
       ".list-inline>li {display: inline-block}\n",
       ".list-inline>li:not(:last-child)::after {content: \"\\00b7\"; padding: 0 .5ex}\n",
       "</style>\n",
       "<ol class=list-inline><li>1</li><li>10</li><li>100</li><li>1000</li></ol>\n"
      ],
      "text/latex": [
       "\\begin{enumerate*}\n",
       "\\item 1\n",
       "\\item 10\n",
       "\\item 100\n",
       "\\item 1000\n",
       "\\end{enumerate*}\n"
      ],
      "text/markdown": [
       "1. 1\n",
       "2. 10\n",
       "3. 100\n",
       "4. 1000\n",
       "\n",
       "\n"
      ],
      "text/plain": [
       "[1]    1   10  100 1000"
      ]
     },
     "metadata": {},
     "output_type": "display_data"
    }
   ],
   "source": [
    "# View the vector\n",
    "my_vector"
   ]
  },
  {
   "cell_type": "code",
   "execution_count": 3,
   "id": "f236a89d-08e7-4635-a4d8-914a351206ab",
   "metadata": {},
   "outputs": [
    {
     "data": {
      "text/html": [
       "4"
      ],
      "text/latex": [
       "4"
      ],
      "text/markdown": [
       "4"
      ],
      "text/plain": [
       "[1] 4"
      ]
     },
     "metadata": {},
     "output_type": "display_data"
    }
   ],
   "source": [
    "# Check vector length\n",
    "length(my_vector)"
   ]
  },
  {
   "cell_type": "code",
   "execution_count": 4,
   "id": "1d71e938-5143-446f-a79f-9b8611d99e6f",
   "metadata": {},
   "outputs": [
    {
     "data": {
      "text/html": [
       "1000"
      ],
      "text/latex": [
       "1000"
      ],
      "text/markdown": [
       "1000"
      ],
      "text/plain": [
       "[1] 1000"
      ]
     },
     "metadata": {},
     "output_type": "display_data"
    }
   ],
   "source": [
    "# Max value from vector\n",
    "max(my_vector)"
   ]
  },
  {
   "cell_type": "code",
   "execution_count": 5,
   "id": "2835c1c6-eef4-4368-afde-c60f2e5c687a",
   "metadata": {},
   "outputs": [
    {
     "data": {
      "text/html": [
       "1"
      ],
      "text/latex": [
       "1"
      ],
      "text/markdown": [
       "1"
      ],
      "text/plain": [
       "[1] 1"
      ]
     },
     "metadata": {},
     "output_type": "display_data"
    }
   ],
   "source": [
    "# Min value from vector\n",
    "min(my_vector)"
   ]
  },
  {
   "cell_type": "code",
   "execution_count": 6,
   "id": "d3d82415-47c2-4d8f-b19a-06066d8014c0",
   "metadata": {},
   "outputs": [
    {
     "data": {
      "text/html": [
       "277.75"
      ],
      "text/latex": [
       "277.75"
      ],
      "text/markdown": [
       "277.75"
      ],
      "text/plain": [
       "[1] 277.75"
      ]
     },
     "metadata": {},
     "output_type": "display_data"
    }
   ],
   "source": [
    "# Mean of the vector\n",
    "mean(my_vector)"
   ]
  },
  {
   "cell_type": "code",
   "execution_count": 7,
   "id": "6a8f3600-a649-4a17-82e5-5be222fc67b1",
   "metadata": {},
   "outputs": [
    {
     "data": {
      "text/html": [
       "<style>\n",
       ".list-inline {list-style: none; margin:0; padding: 0}\n",
       ".list-inline>li {display: inline-block}\n",
       ".list-inline>li:not(:last-child)::after {content: \"\\00b7\"; padding: 0 .5ex}\n",
       "</style>\n",
       "<ol class=list-inline><li>2</li><li>20</li><li>200</li><li>2000</li></ol>\n"
      ],
      "text/latex": [
       "\\begin{enumerate*}\n",
       "\\item 2\n",
       "\\item 20\n",
       "\\item 200\n",
       "\\item 2000\n",
       "\\end{enumerate*}\n"
      ],
      "text/markdown": [
       "1. 2\n",
       "2. 20\n",
       "3. 200\n",
       "4. 2000\n",
       "\n",
       "\n"
      ],
      "text/plain": [
       "[1]    2   20  200 2000"
      ]
     },
     "metadata": {},
     "output_type": "display_data"
    }
   ],
   "source": [
    "# Vector math\n",
    "my_vector*2"
   ]
  },
  {
   "cell_type": "code",
   "execution_count": 8,
   "id": "d84ecc8f-2a63-4cc7-aeb4-741861fa7469",
   "metadata": {},
   "outputs": [
    {
     "data": {
      "text/html": [
       "1111"
      ],
      "text/latex": [
       "1111"
      ],
      "text/markdown": [
       "1111"
      ],
      "text/plain": [
       "[1] 1111"
      ]
     },
     "metadata": {},
     "output_type": "display_data"
    }
   ],
   "source": [
    "# Get the sum of the vector\n",
    "sum(my_vector)"
   ]
  },
  {
   "cell_type": "code",
   "execution_count": 13,
   "id": "62d804df-a126-4cdd-8ff9-c4bc13a982fc",
   "metadata": {},
   "outputs": [
    {
     "data": {
      "text/html": [
       "<style>\n",
       ".list-inline {list-style: none; margin:0; padding: 0}\n",
       ".list-inline>li {display: inline-block}\n",
       ".list-inline>li:not(:last-child)::after {content: \"\\00b7\"; padding: 0 .5ex}\n",
       "</style>\n",
       "<ol class=list-inline><li>1</li><li>10</li><li>100</li><li>1000</li><li>10000</li><li>10000</li><li>10000</li></ol>\n"
      ],
      "text/latex": [
       "\\begin{enumerate*}\n",
       "\\item 1\n",
       "\\item 10\n",
       "\\item 100\n",
       "\\item 1000\n",
       "\\item 10000\n",
       "\\item 10000\n",
       "\\item 10000\n",
       "\\end{enumerate*}\n"
      ],
      "text/markdown": [
       "1. 1\n",
       "2. 10\n",
       "3. 100\n",
       "4. 1000\n",
       "5. 10000\n",
       "6. 10000\n",
       "7. 10000\n",
       "\n",
       "\n"
      ],
      "text/plain": [
       "[1]     1    10   100  1000 10000 10000 10000"
      ]
     },
     "metadata": {},
     "output_type": "display_data"
    },
    {
     "data": {
      "text/html": [
       "<style>\n",
       ".list-inline {list-style: none; margin:0; padding: 0}\n",
       ".list-inline>li {display: inline-block}\n",
       ".list-inline>li:not(:last-child)::after {content: \"\\00b7\"; padding: 0 .5ex}\n",
       "</style>\n",
       "<ol class=list-inline><li>1</li><li>10</li><li>100</li><li>1000</li><li>10000</li><li>10000</li></ol>\n"
      ],
      "text/latex": [
       "\\begin{enumerate*}\n",
       "\\item 1\n",
       "\\item 10\n",
       "\\item 100\n",
       "\\item 1000\n",
       "\\item 10000\n",
       "\\item 10000\n",
       "\\end{enumerate*}\n"
      ],
      "text/markdown": [
       "1. 1\n",
       "2. 10\n",
       "3. 100\n",
       "4. 1000\n",
       "5. 10000\n",
       "6. 10000\n",
       "\n",
       "\n"
      ],
      "text/plain": [
       "[1]     1    10   100  1000 10000 10000"
      ]
     },
     "metadata": {},
     "output_type": "display_data"
    }
   ],
   "source": [
    "# Add an element to vector\n",
    "append(my_vector, 10000)\n",
    "my_vector"
   ]
  },
  {
   "cell_type": "code",
   "execution_count": 12,
   "id": "75a0c4a0-76dc-4cec-a33c-f1398c11042e",
   "metadata": {},
   "outputs": [
    {
     "data": {
      "text/html": [
       "<style>\n",
       ".list-inline {list-style: none; margin:0; padding: 0}\n",
       ".list-inline>li {display: inline-block}\n",
       ".list-inline>li:not(:last-child)::after {content: \"\\00b7\"; padding: 0 .5ex}\n",
       "</style>\n",
       "<ol class=list-inline><li>1</li><li>10</li><li>100</li><li>1000</li><li>10000</li><li>10000</li></ol>\n"
      ],
      "text/latex": [
       "\\begin{enumerate*}\n",
       "\\item 1\n",
       "\\item 10\n",
       "\\item 100\n",
       "\\item 1000\n",
       "\\item 10000\n",
       "\\item 10000\n",
       "\\end{enumerate*}\n"
      ],
      "text/markdown": [
       "1. 1\n",
       "2. 10\n",
       "3. 100\n",
       "4. 1000\n",
       "5. 10000\n",
       "6. 10000\n",
       "\n",
       "\n"
      ],
      "text/plain": [
       "[1]     1    10   100  1000 10000 10000"
      ]
     },
     "metadata": {},
     "output_type": "display_data"
    }
   ],
   "source": [
    "# Add an element to vector\n",
    "my_vector = append(my_vector, 10000)\n",
    "my_vector"
   ]
  },
  {
   "cell_type": "code",
   "execution_count": 15,
   "id": "38f953e3-4a0f-4f41-ae0a-4eb89a560abf",
   "metadata": {},
   "outputs": [
    {
     "data": {
      "text/html": [
       "6"
      ],
      "text/latex": [
       "6"
      ],
      "text/markdown": [
       "6"
      ],
      "text/plain": [
       "[1] 6"
      ]
     },
     "metadata": {},
     "output_type": "display_data"
    }
   ],
   "source": [
    "# Check updated vector length\n",
    "length(my_vector)"
   ]
  },
  {
   "cell_type": "code",
   "execution_count": 17,
   "id": "a521b28c-fe0b-43db-b176-085c9b009073",
   "metadata": {},
   "outputs": [
    {
     "data": {
      "text/html": [
       "5"
      ],
      "text/latex": [
       "5"
      ],
      "text/markdown": [
       "5"
      ],
      "text/plain": [
       "[1] 5"
      ]
     },
     "metadata": {},
     "output_type": "display_data"
    }
   ],
   "source": [
    "# Remove an element in a vector\n",
    "my_vector = my_vector[1:5]\n",
    "length(my_vector)"
   ]
  },
  {
   "cell_type": "code",
   "execution_count": 18,
   "id": "8829939f-c4c3-437a-8401-562be3315925",
   "metadata": {},
   "outputs": [
    {
     "data": {
      "text/html": [
       "<style>\n",
       ".list-inline {list-style: none; margin:0; padding: 0}\n",
       ".list-inline>li {display: inline-block}\n",
       ".list-inline>li:not(:last-child)::after {content: \"\\00b7\"; padding: 0 .5ex}\n",
       "</style>\n",
       "<ol class=list-inline><li>1</li><li>3</li><li>100</li><li>1000</li><li>10000</li></ol>\n"
      ],
      "text/latex": [
       "\\begin{enumerate*}\n",
       "\\item 1\n",
       "\\item 3\n",
       "\\item 100\n",
       "\\item 1000\n",
       "\\item 10000\n",
       "\\end{enumerate*}\n"
      ],
      "text/markdown": [
       "1. 1\n",
       "2. 3\n",
       "3. 100\n",
       "4. 1000\n",
       "5. 10000\n",
       "\n",
       "\n"
      ],
      "text/plain": [
       "[1]     1     3   100  1000 10000"
      ]
     },
     "metadata": {},
     "output_type": "display_data"
    }
   ],
   "source": [
    "# Change an element of a vector\n",
    "my_vector[2] = 3\n",
    "my_vector"
   ]
  },
  {
   "cell_type": "code",
   "execution_count": 19,
   "id": "c10570cf-18fc-4916-8fa3-8220eebfc1ad",
   "metadata": {},
   "outputs": [
    {
     "name": "stdout",
     "output_type": "stream",
     "text": [
      "[1] 1\n",
      "[1] 3\n",
      "[1] 100\n",
      "[1] 1000\n",
      "[1] 10000\n"
     ]
    }
   ],
   "source": [
    "# Basic for loop\n",
    "for (v in my_vector){\n",
    "    print(v)\n",
    "}"
   ]
  },
  {
   "cell_type": "code",
   "execution_count": 20,
   "id": "ecf17760-706e-43c7-8e9c-1b873c377b0c",
   "metadata": {},
   "outputs": [
    {
     "name": "stdout",
     "output_type": "stream",
     "text": [
      "[1] 2\n",
      "[1] 6\n",
      "[1] 200\n",
      "[1] 2000\n",
      "[1] 20000\n"
     ]
    }
   ],
   "source": [
    "# Basic for loop\n",
    "for (v in my_vector){\n",
    "    print(v * 2)\n",
    "}"
   ]
  },
  {
   "cell_type": "code",
   "execution_count": 21,
   "id": "aec98edb-67f1-4eaf-9d6b-2756381f5227",
   "metadata": {},
   "outputs": [
    {
     "data": {
      "image/png": "[encoded data removed]",
      "text/plain": [
       "plot without title"
      ]
     },
     "metadata": {
      "image/png": {
       "height": 420,
       "width": 420
      }
     },
     "output_type": "display_data"
    }
   ],
   "source": [
    "# Plot the vector\n",
    "plot(my_vector)"
   ]
  },
  {
   "cell_type": "code",
   "execution_count": 23,
   "id": "c49ebda5-4749-429e-9250-02b0831670f1",
   "metadata": {},
   "outputs": [
    {
     "data": {
      "image/png": "[encoded data removed]",
      "text/plain": [
       "plot without title"
      ]
     },
     "metadata": {
      "image/png": {
       "height": 420,
       "width": 420
      }
     },
     "output_type": "display_data"
    }
   ],
   "source": [
    "# Plot the vector\n",
    "plot(my_vector/2)"
   ]
  },
  {
   "cell_type": "markdown",
   "id": "557cbe30-1093-4946-b98e-fca18dd5d497",
   "metadata": {},
   "source": [
    "## Lillipop Radius to Circumference Example"
   ]
  },
  {
   "cell_type": "code",
   "execution_count": 24,
   "id": "af8056e4-89ec-4d10-9956-60ac3934d8bc",
   "metadata": {},
   "outputs": [],
   "source": [
    "# Create vector\n",
    "lollipopRadius = c(2, 4, 6, 8, 10)"
   ]
  },
  {
   "cell_type": "code",
   "execution_count": 25,
   "id": "19d5a377-a0c7-4899-95fe-adb254a96395",
   "metadata": {},
   "outputs": [],
   "source": [
    "# Create function to convert radius to circumference\n",
    "RtoC = function(lollipop){ (2 * pi * lollipop) }"
   ]
  },
  {
   "cell_type": "code",
   "execution_count": 26,
   "id": "fe001997-8493-45bf-95a9-321ee687b073",
   "metadata": {},
   "outputs": [
    {
     "data": {
      "text/html": [
       "<pre class=language-r><code>function (lollipop) \n",
       "{\n",
       "<span style=white-space:pre-wrap>    (2 * pi * lollipop)</span>\n",
       "}</code></pre>"
      ],
      "text/latex": [
       "\\begin{minted}{r}\n",
       "function (lollipop) \n",
       "\\{\n",
       "    (2 * pi * lollipop)\n",
       "\\}\n",
       "\\end{minted}"
      ],
      "text/markdown": [
       "```r\n",
       "function (lollipop) \n",
       "{\n",
       "    (2 * pi * lollipop)\n",
       "}\n",
       "```"
      ],
      "text/plain": [
       "function(lollipop){ (2 * pi * lollipop) }"
      ]
     },
     "metadata": {},
     "output_type": "display_data"
    }
   ],
   "source": [
    "# View the function\n",
    "RtoC"
   ]
  },
  {
   "cell_type": "code",
   "execution_count": 27,
   "id": "17204cee-be80-4f43-9a1a-21ce3a638f46",
   "metadata": {},
   "outputs": [
    {
     "name": "stdout",
     "output_type": "stream",
     "text": [
      "[1] 12.56637\n",
      "[1] 25.13274\n",
      "[1] 37.69911\n",
      "[1] 50.26548\n",
      "[1] 62.83185\n"
     ]
    }
   ],
   "source": [
    "# For loop to iterate over vector\n",
    "for (lollipop in lollipopRadius){\n",
    "  circ = RtoC(lollipop)\n",
    "  print(circ)\n",
    "}"
   ]
  },
  {
   "cell_type": "code",
   "execution_count": 28,
   "id": "02eef706-c812-4885-8529-5b959b378c9c",
   "metadata": {},
   "outputs": [
    {
     "name": "stdout",
     "output_type": "stream",
     "text": [
      "2 radius = 12.56637  circumference\n",
      " 4 radius = 25.13274  circumference\n",
      " 6 radius = 37.69911  circumference\n",
      " 8 radius = 50.26548  circumference\n",
      " 10 radius = 62.83185  circumference\n",
      " "
     ]
    }
   ],
   "source": [
    "# Run function and print results in readable format\n",
    "for (lollipop in lollipopRadius){\n",
    "  circ = RtoC(lollipop)\n",
    "  cat(lollipop, \"radius =\", circ, \" circumference\\n \")\n",
    "}"
   ]
  },
  {
   "cell_type": "code",
   "execution_count": null,
   "id": "2c88b778-0e65-43b9-bbbf-3640679333ee",
   "metadata": {},
   "outputs": [],
   "source": []
  }
 ],
 "metadata": {
  "kernelspec": {
   "display_name": "R",
   "language": "R",
   "name": "ir"
  },
  "language_info": {
   "codemirror_mode": "r",
   "file_extension": ".r",
   "mimetype": "text/x-r-source",
   "name": "R",
   "pygments_lexer": "r",
   "version": "4.1.1"
  }
 },
 "nbformat": 4,
 "nbformat_minor": 5
}
