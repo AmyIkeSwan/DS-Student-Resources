{
 "cells": [
  {
   "cell_type": "markdown",
   "id": "50e6ddbb-52d3-4a02-9b69-100a4181e3b0",
   "metadata": {},
   "source": [
    "# DS102 Statistical Programming in R : Lesson Two Companion Notebook"
   ]
  },
  {
   "cell_type": "markdown",
   "id": "d1bd4bfc-9b15-4b80-87b4-b8b60eb56371",
   "metadata": {},
   "source": [
    "### Table of Contents <a class=\"anchor\" id=\"DS102L2_toc\"></a>\n",
    "\n",
    "* [Table of Contents](#DS102L2_toc)\n",
    "    * [Page 1 - Introduction](#DS102L2_page_1)\n",
    "    * [Page 2 - What is R](#DS102L2_page_2)\n",
    "    * [Page 3 - Installation of R in Windows](#DS102L2_page_3)\n",
    "    * [Page 4 - Installation of R in Mac / Linux](#DS102L2_page_4)\n",
    "    * [Page 5 - Using R](#DS102L2_page_5)\n",
    "    * [Page 6 - The R Console](#DS102L2_page_6)\n",
    "    * [Page 7 - R Script Files](#DS102L2_page_7)\n",
    "    * [Page 8 - Comments](#DS102L2_page_8)\n",
    "    * [Page 9 - Finding Documentation and Help in R](#DS102L2_page_9)\n",
    "    * [Page 10 - Key Terms](#DS102L2_page_10)\n",
    "    "
   ]
  },
  {
   "cell_type": "markdown",
   "id": "ef5a8c65-ed48-4354-a257-e01b0fd733d4",
   "metadata": {},
   "source": [
    "<hr style=\"height:10px;border-width:0;color:gray;background-color:gray\">\n",
    "\n",
    "# Page 1 - Introduction <a class=\"anchor\" id=\"DS102L2_page_1\"></a>\n",
    "\n",
    "[Back to Top](#DS102L2_toc)\n",
    "\n",
    "<hr style=\"height:10px;border-width:0;color:gray;background-color:gray\">"
   ]
  },
  {
   "cell_type": "code",
   "execution_count": 1,
   "id": "1c037e10-e3d1-4b1a-966c-4a51502a4884",
   "metadata": {},
   "outputs": [
    {
     "data": {
      "text/html": [
       "\n",
       "        <iframe\n",
       "            width=\"720\"\n",
       "            height=\"480\"\n",
       "            src=\"https://player.vimeo.com/video/247057870\"\n",
       "            frameborder=\"0\"\n",
       "            allowfullscreen\n",
       "        ></iframe>\n",
       "        "
      ],
      "text/plain": [
       "<IPython.lib.display.VimeoVideo at 0x1a872c410d0>"
      ]
     },
     "execution_count": 1,
     "metadata": {},
     "output_type": "execute_result"
    }
   ],
   "source": [
    "from IPython.display import VimeoVideo\n",
    "# Tutorial Video Name: Introduction to R\n",
    "VimeoVideo('247057870', width=720, height=480)"
   ]
  },
  {
   "cell_type": "markdown",
   "id": "5b6ad526-95fa-43c4-bc43-1fe807708ed3",
   "metadata": {},
   "source": [
    "This lesson introduces R and provides a brief description of its strengths and weaknesses. By the end of this lesson, you will:  \n",
    "\n",
    "* Have R and R Studio installed on your computer \n",
    "* Use your first function, ```print()```\n",
    "* Learn about the R console, script files, and comments\n",
    "* Use the ```help()``` function\n",
    "\n",
    "By the end of this lesson, you will be able to use the ```print()``` command, the R console, and script files in a short exam to test your knowledge.\n"
   ]
  },
  {
   "cell_type": "markdown",
   "id": "7990ac7a-5a2f-4744-af14-1b7e385ea484",
   "metadata": {},
   "source": [
    "<hr style=\"height:10px;border-width:0;color:gray;background-color:gray\">\n",
    "\n",
    "# Page 2 - What is R<a class=\"anchor\" id=\"DS102L2_page_2\"></a>\n",
    "\n",
    "[Back to Top](#DS102L2_toc)\n",
    "\n",
    "<hr style=\"height:10px;border-width:0;color:gray;background-color:gray\">\n"
   ]
  },
  {
   "cell_type": "code",
   "execution_count": 2,
   "id": "13f57790-ed8e-4516-96a9-47b0fb4f88dc",
   "metadata": {},
   "outputs": [
    {
     "data": {
      "text/html": [
       "\n",
       "        <iframe\n",
       "            width=\"720\"\n",
       "            height=\"480\"\n",
       "            src=\"https://player.vimeo.com/video/326366297\"\n",
       "            frameborder=\"0\"\n",
       "            allowfullscreen\n",
       "        ></iframe>\n",
       "        "
      ],
      "text/plain": [
       "<IPython.lib.display.VimeoVideo at 0x1a872c41be0>"
      ]
     },
     "execution_count": 2,
     "metadata": {},
     "output_type": "execute_result"
    }
   ],
   "source": [
    "from IPython.display import VimeoVideo\n",
    "# Tutorial Video Name: What is R\n",
    "VimeoVideo('326366297', width=720, height=480)"
   ]
  },
  {
   "cell_type": "markdown",
   "id": "612429df-e4ef-4d85-8460-5bc8914079c3",
   "metadata": {},
   "source": [
    "The transcript for the above topic tutorial video **[is located here](https://repo.exeterlms.com/documents/V2/DataScience/Video-Transcripts/DSO102-L02-pg2tutorial.zip)**.\n",
    "\n",
    "R is both a programming language and an environment designed to support statistical computations and graphics. R is open source, meaning that the code that implements R is freely available to anyone who would like to use it. R was initially created by Ross Ihaka and Robert Gentleman at the University of Auckland in New Zealand beginning in 1992. \n",
    "\n",
    "<div class=\"panel panel-success\">\n",
    "    <div class=\"panel-heading\">\n",
    "        <h3 class=\"panel-title\">Fun Fact!</h3>\n",
    "    </div>\n",
    "    <div class=\"panel-body\">\n",
    "        <p>Since R was originally designed by folks in New Zealand, there are an awful lot of British spellings in the code you'll use.  Keep this in mind, and you probably won't trip up quite as often when using R! </p>\n",
    "    </div>\n",
    "</div>\n",
    "\n",
    "---\n",
    "\n",
    "## The Strengths of R \n",
    "\n",
    "R has many strengths. Because it is a programming language, it is very flexible and can be extended to do many different types of statistical analysis. There is a large and vibrant user community that is applying R to many different types of analysis and application areas. This user community is also extending the capabilities of R through “packages” that implement specialized statistical techniques.\n",
    "\n",
    "R includes a core set of packages in its distribution; more than 10,000 additional packages are available through the internet. You will use several different packages in this course. In the last several years, R has been used extensively for data science, not just statistics.\n",
    "\n",
    "---\n",
    "\n",
    "## How R Differs from Other Programs and Languages\n",
    "\n",
    "Because R is a programming language, and not just a stats software program, its use is quite different than many statistical analysis packages such as Minitab or SAS. In many stats software programs, there is a point and click element:  you load a data set, then use a menu command to instruct the package to perform an analysis of the data set. The package will produce copious amounts of output and graphs from this analysis.\n",
    "\n",
    "R includes some of these features, but relies much more heavily on coding.  R is designed so that the statistical analysis is normally performed by going through a series of steps, each of which requires a bit of R code; intermediate results from each step are stored in objects. Once the desired object is complete, you will get information and graphics by manipulating the object, again using bits of R code.\n",
    "\n",
    "R is a language that is designed to be good at statistical analysis. While theoretically, you could use it for other tasks, it would be impractical, because other programming languages are better adapted for general software engineering purposes.  \n",
    "\n",
    "---\n"
   ]
  },
  {
   "cell_type": "markdown",
   "id": "832358fd-55fa-420a-8aa2-46fbf2097986",
   "metadata": {},
   "source": [
    "<hr style=\"height:10px;border-width:0;color:gray;background-color:gray\">\n",
    "\n",
    "# Page 3 - Installation of R for Windows<a class=\"anchor\" id=\"DS102L2_page_3\"></a>\n",
    "\n",
    "[Back to Top](#DS102L2_toc)\n",
    "\n",
    "<hr style=\"height:10px;border-width:0;color:gray;background-color:gray\">\n"
   ]
  },
  {
   "cell_type": "code",
   "execution_count": 3,
   "id": "0016c381-d626-46ee-a91f-49963e7d2e13",
   "metadata": {},
   "outputs": [
    {
     "data": {
      "text/html": [
       "\n",
       "        <iframe\n",
       "            width=\"720\"\n",
       "            height=\"480\"\n",
       "            src=\"https://player.vimeo.com/video/328484382\"\n",
       "            frameborder=\"0\"\n",
       "            allowfullscreen\n",
       "        ></iframe>\n",
       "        "
      ],
      "text/plain": [
       "<IPython.lib.display.VimeoVideo at 0x1a872c41c10>"
      ]
     },
     "execution_count": 3,
     "metadata": {},
     "output_type": "execute_result"
    }
   ],
   "source": [
    "from IPython.display import VimeoVideo\n",
    "# Tutorial Video Name: What is R\n",
    "VimeoVideo('328484382', width=720, height=480)"
   ]
  },
  {
   "cell_type": "markdown",
   "id": "f564e3e7-3a7f-4936-b3a3-2e0a9ab78512",
   "metadata": {},
   "source": [
    "# Installation of R for Windows\n",
    "\n",
    "These installation directions are for Windows users.  If you are using a Mac or Linux machine, please proceed to the next page.\n",
    "\n",
    "To become R programmers, you will first need to install R onto your computer. You will also install RStudio, an *integrated development environment* (IDE), sometimes referred to as a \"shell.\"  The advantage of an IDE/shell is that is a much prettier and user-friendly interface.  \n",
    "\n",
    "Both R and R-Studio are open source, and available free of charge.\n",
    "\n",
    "Follow these steps to download R: \n",
    "\n",
    "1. Go to the **[R Download website.](https://cran.r-project.org/mirrors.html)**\n",
    "\n",
    "2. Choose a mirror location reasonably close to your current location and click on the link. \n",
    "\n",
    "    <div class=\"panel panel-success\">\n",
    "        <div class=\"panel-heading\">\n",
    "            <h3 class=\"panel-title\">Fun Fact!</h3>\n",
    "        </div>\n",
    "        <div class=\"panel-body\">\n",
    "            <p>A mirror is a computer site that mirrors the content of a central repository so that users can access the content.</p>\n",
    "        </div>\n",
    "    </div>\n",
    "\n",
    "3. Click on “Download R for Windows” link. This link is at the top of the page.  Once you click on the link, you should see something like this:  \n",
    "\n",
    "    ![R for Windows. Subdirectories, base, which has a red circle around it, contrib, old contrib, R tools. A paragraph reads, Binaries for base distribution open parentheses managed by Duncan Murdoch close parentheses. This is what you want to install R for the first time. Binaries of contributed C R A N packages open parentheses for R greater than or equal two point one one point x, managed by Uwe Ligges end parentheses. There is also information on third party software available for C R A N windows services and corresponding environment and make variables. Binaries of contributed C R A N packages for outdated versions of R open parentheses for R less than two point one one point x, managed by Uwe Ligges close parentheses. Tools to build R and R packages open parentheses managed by Duncan Murdoch close parentheses. This is what you want to build your own packages on Windows, or to build R itself.](Media/L01-WinLink.png)\n",
    "\n",
    "4. Click on \"base\" to see something like this: \n",
    "\n",
    "    ![A screenshot of a download link to download R three point four point one for Windows.](Media/L01-WinLink2.png)\n",
    "\n",
    "5. Click on the link to download the ```.exe``` file.\n",
    "\n",
    "6. Save the ```.exe``` file, double-click to open it, and follow the installation instructions.\n",
    "\n",
    "---\n",
    "\n",
    "# Installation of R Studio for Windows\n",
    "\n",
    "Follow these steps to download R Studio: \n",
    "\n",
    "1. Go to **[this website](https://www.rstudio.com/products/rstudio/download/)** and scroll down to **RStudio Desktop *Open Source License* Free** and click download. This is a *free* version so no need to worry about paying. If you are prompted to pay, click back and follow the instructions from the beginning.\n",
    "\n",
    "2. This will direct you to the *RStudio Desktop 1.4.1106* a little further down the page. Click on the **Download RStudio for Windows** button. \n",
    "    ![A screenshot of a website from which you can download R Studio, with the download button circled in red.](Media/L01-RStudioLink.png)\n",
    "\n",
    "\n",
    "    ![A screenshot of a website from which you can download R studio showing the three versions available to download or purchase. R Studio Desktop open source license is a free download. R Studio Desktop commercial license costs nine hundred ninety five dollars per year. R Studio Server open source license is a free download. There is a link to learn more about each option.](Media/L01-RStudioLink2.png)\n",
    "\n",
    "3. Click on the Windows version:\n",
    "\n",
    "    ![A screenshot of a website from which you can download R Studio Desktop showing different versions. Circled in red are R Studio one point zero point one five three for windows vista, seven, eight, or ten, and R studio one point zero point one five three for mac O S X ten point six plus, sixty four bit.](Media/L01-RStudioLink3.png)\n",
    "\n",
    "4. Save the ```.exe``` file and then click on it.  Follow the installation instructions. \n",
    "\n",
    "And there you have it! You've just downloaded RStudio!"
   ]
  },
  {
   "cell_type": "markdown",
   "id": "bb1aade2-59af-4cbc-b5ed-da31e39f266d",
   "metadata": {},
   "source": [
    "<hr style=\"height:10px;border-width:0;color:gray;background-color:gray\">\n",
    "\n",
    "# Page 4 - Installation of R for Mac / Linux<a class=\"anchor\" id=\"DS102L2_page_4\"></a>\n",
    "\n",
    "[Back to Top](#DS102L2_toc)\n",
    "\n",
    "<hr style=\"height:10px;border-width:0;color:gray;background-color:gray\">\n"
   ]
  },
  {
   "cell_type": "code",
   "execution_count": 4,
   "id": "e7bfb754-32c9-406b-abfa-6a07a163c6e1",
   "metadata": {},
   "outputs": [
    {
     "data": {
      "text/html": [
       "\n",
       "        <iframe\n",
       "            width=\"720\"\n",
       "            height=\"480\"\n",
       "            src=\"https://player.vimeo.com/video/325919775\"\n",
       "            frameborder=\"0\"\n",
       "            allowfullscreen\n",
       "        ></iframe>\n",
       "        "
      ],
      "text/plain": [
       "<IPython.lib.display.VimeoVideo at 0x1a872c41b20>"
      ]
     },
     "execution_count": 4,
     "metadata": {},
     "output_type": "execute_result"
    }
   ],
   "source": [
    "from IPython.display import VimeoVideo\n",
    "# Tutorial Video Name: What is R\n",
    "VimeoVideo('325919775', width=720, height=480)"
   ]
  },
  {
   "cell_type": "markdown",
   "id": "eba2ed6e-98dd-43f7-8761-6ecc9a13af08",
   "metadata": {},
   "source": [
    "\n",
    "# Installation of R for Mac / Linux\n",
    "\n",
    "These installation directions are for Mac / Linux users.  If you are using a Windows machine, please proceed to the next page.\n",
    "\n",
    "To become R programmers, you will first need to install R onto your computer. You will also install RStudio, an *integrated development environment* (IDE), sometimes referred to as a \"shell.\"  The advantage of an IDE/shell is that is a much prettier and user-friendly interface.  \n",
    "\n",
    "Both R and R-Studio are open source, and available free of charge.\n",
    "\n",
    "Follow these steps to download R: \n",
    "\n",
    "1. Go to the **[R Download website.](https://cran.r-project.org/mirrors.html)**\n",
    "\n",
    "2. Choose a mirror location reasonably close to your current location and click on the link. \n",
    "\n",
    "    <div class=\"panel panel-success\">\n",
    "        <div class=\"panel-heading\">\n",
    "            <h3 class=\"panel-title\">Fun Fact!</h3>\n",
    "        </div>\n",
    "        <div class=\"panel-body\">\n",
    "            <p>A mirror is a computer site that mirrors the content of a central repository so that users can access the content.</p>\n",
    "        </div>\n",
    "    </div>\n",
    "\n",
    "3. Click on “Download R for Linux” or \"Download R for (Mac) OS X\" link as appropriate. This link is at the top of the page.  Once you click on the link, you should see something like this:  \n",
    "\n",
    "    ![A screenshot of a website from which you can download R for Linux or Mac. The download link reads R dash three point four point one dot P K G and is circled in red.](Media/L01-MacLink.png)\n",
    "\n",
    "4. Click on the link to download the ```.pkg``` file.\n",
    "\n",
    "5. Save the ```.pkg``` file, double-click to open it, and follow the installation instructions. You should be able to open the R.app application in your Applications folder.\n",
    "\n",
    "---\n",
    "\n",
    "# Installation of R Studio for Mac / Linux\n",
    "\n",
    "Follow these steps to download R Studio: \n",
    "\n",
    "\n",
    "1. Go to **[this website](https://www.rstudio.com/products/rstudio/download/)** and scroll down to **RStudio Desktop *Open Source License* Free** and click download. This is a *free* version so no need to worry about paying. If you are prompted to pay, click back and follow the instructions from the beginning.\n",
    "\n",
    "    ![A screenshot of a website from which you can download R Studio, with the download button circled in red.](Media/L01-RStudioLink.png)\n",
    "\n",
    "2. Click on the \"Download\" button for \"RStudio Desktop, Open Source License:\". This will direct you to the *RStudio Desktop 1.4.1106* a little further down the page. Scroll down a little further to see *All Installers* and click on **macOS 10.13+**.\n",
    "\n",
    "    ![A screenshot of a website from which you can download R studio showing the three versions available to download or purchase. R Studio Desktop open source license is a free download. R Studio Desktop commercial license costs nine hundred ninety five dollars per year. R Studio Server open source license is a free download. There is a link to learn more about each option.](Media/L01-RStudioLink2.png)\n",
    "\n",
    "3. Save the ```.dmg``` file and then click on it.  Follow the installation instructions. \n",
    "    ![A screenshot of a website from which you can download R Studio Desktop showing different versions. Circled in red are R Studio one point zero point one five three for windows vista, seven, eight, or ten, and R studio one point zero point one five three for mac O S X ten point six plus, sixty four bit.](Media/L01-RStudioLink3.png)\n",
    "\n",
    "4. Drag the RStudio application to the Applications folder.\n",
    "\n",
    "And there you have it! You've just downloaded RStudio!\n"
   ]
  },
  {
   "cell_type": "markdown",
   "id": "ead4ad3c-2fe6-457e-8924-1410e951bebd",
   "metadata": {},
   "source": [
    "<hr style=\"height:10px;border-width:0;color:gray;background-color:gray\">\n",
    "\n",
    "# Page 5 - Using R<a class=\"anchor\" id=\"DS102L2_page_5\"></a>\n",
    "\n",
    "[Back to Top](#DS102L2_toc)\n",
    "\n",
    "<hr style=\"height:10px;border-width:0;color:gray;background-color:gray\">\n"
   ]
  },
  {
   "cell_type": "code",
   "execution_count": 5,
   "id": "59a60c26-9c76-4b09-9171-94340c63e76f",
   "metadata": {},
   "outputs": [
    {
     "data": {
      "text/html": [
       "\n",
       "        <iframe\n",
       "            width=\"720\"\n",
       "            height=\"480\"\n",
       "            src=\"https://player.vimeo.com/video/326366353\"\n",
       "            frameborder=\"0\"\n",
       "            allowfullscreen\n",
       "        ></iframe>\n",
       "        "
      ],
      "text/plain": [
       "<IPython.lib.display.VimeoVideo at 0x1a872c41280>"
      ]
     },
     "execution_count": 5,
     "metadata": {},
     "output_type": "execute_result"
    }
   ],
   "source": [
    "from IPython.display import VimeoVideo\n",
    "# Tutorial Video Name: What is R\n",
    "VimeoVideo('326366353', width=720, height=480)"
   ]
  },
  {
   "cell_type": "markdown",
   "id": "bbbc06a2-e702-47a1-942f-cbcbe31221a7",
   "metadata": {},
   "source": [
    "The transcript for the above topic tutorial video **[is located here](https://repo.exeterlms.com/documents/V2/DataScience/Video-Transcripts/DSO102-L02-pg5tutorial.zip)**.\n",
    "\n",
    "# Initiation as a R Programmer\n",
    "\n",
    "Your first action will be to learn how to display \"Hello World!\" on the R Console pane. \n",
    "\n",
    "<div class=\"panel panel-success\">\n",
    "    <div class=\"panel-heading\">\n",
    "        <h3 class=\"panel-title\">Fun Fact!</h3>\n",
    "    </div>\n",
    "    <div class=\"panel-body\">\n",
    "        <p>It is a time-honored tradition when learning a new programming language to first learn how to print the phrase \"Hello, World!\" This tradition was established by an example program in the book <i>The C Programming Language </i> by Brian Kernighan. </p>\n",
    "    </div>\n",
    "</div>\n",
    "\n",
    "Start the RStudio application, and you are ready to begin using R. The RStudio application will come up with a window with various panes. For now, you are interested in the Console pane:\n",
    "\n",
    "![A screenshot of the R Studio application showing various panes, including console, environment, history, files, plots, packages, help, and viewer. The largest pane is console, and a red arrow is pointing to it.](Media/L01-RStudioConsole.png)\n",
    "\n",
    "<div class=\"panel panel-danger\">\n",
    "    <div class=\"panel-heading\">\n",
    "        <h3 class=\"panel-title\">Caution!</h3>\n",
    "    </div>\n",
    "    <div class=\"panel-body\">\n",
    "        <p>If your R doesn't look like this one, chances R you opened up the R GUI instead of RStudio.  Make sure to find the RStudio program instead!</p>\n",
    "    </div>\n",
    "</div>\n",
    "\n",
    "Click in the pane so the cursor becomes active. You can type R statements in the Console pane, and they will be executed as soon as you hit the \"return\" key (on a Mac) or the \"Enter\" key (on a Windows PC). The cursor will flash in front of a ```>```. The ```>``` is R's prompt, letting you know that it is ready for you to type something.\n",
    "\n",
    "Type the following into the Console pane:\n",
    "\n",
    "```{r}\n",
    "print(\"Hello World!\")\n",
    "```\n",
    "\n",
    "Then hit the return or enter key. R will print \"Hello World!\" as shown below:\n",
    "\n",
    "![An example of an R statement the user types and the execution of that statement by the program. You type this, print open parentheses quote hello world exclamation mark end quote close parentheses. R types this, quote hello world exclamation mark end quote.](Media/L01-HelloWorld.png)\n",
    "\n",
    "Congratulations, you have just entered your first valid R command!\n",
    "\n",
    "The R output is the next line-in this case, and in many cases, R will start its output with [1]. \n",
    "\n",
    "In this course, you will typically see R code, followed by the output, like this: \n",
    "\n",
    "```{r}\n",
    "print(\"Hello World!\")\n",
    "```\n",
    "\n",
    "[1] \"Hello World!\"\n",
    "\n",
    "R is case sensitive. This means that a lower case letter has a different meaning than an upper case letter. To see this, try typing the following:\n",
    "\n",
    "```{r}\n",
    "Print(\"Hello World!\")\n",
    "```\n",
    "\n",
    "![An error that has occurred due to case sensitivity in R. The user has used an uppercase P in the function print. The error reads, error in print open parentheses quote hello world exclamation mark end quote close parentheses. Colon. Could not find function quote print end quote.](Media/R1.png)\n",
    "\n",
    "---"
   ]
  },
  {
   "cell_type": "markdown",
   "id": "dd9e3b8a-9224-447f-8cf7-5035cae86421",
   "metadata": {},
   "source": [
    "<hr style=\"height:10px;border-width:0;color:gray;background-color:gray\">\n",
    "\n",
    "# Page 6 - The R Console<a class=\"anchor\" id=\"DS102L2_page_6\"></a>\n",
    "\n",
    "[Back to Top](#DS102L2_toc)\n",
    "\n",
    "<hr style=\"height:10px;border-width:0;color:gray;background-color:gray\">\n"
   ]
  },
  {
   "cell_type": "code",
   "execution_count": 6,
   "id": "e08e46f4-10f6-4a66-9843-a56216e97a66",
   "metadata": {},
   "outputs": [
    {
     "data": {
      "text/html": [
       "\n",
       "        <iframe\n",
       "            width=\"720\"\n",
       "            height=\"480\"\n",
       "            src=\"https://player.vimeo.com/video/326366383\"\n",
       "            frameborder=\"0\"\n",
       "            allowfullscreen\n",
       "        ></iframe>\n",
       "        "
      ],
      "text/plain": [
       "<IPython.lib.display.VimeoVideo at 0x1a872c41d90>"
      ]
     },
     "execution_count": 6,
     "metadata": {},
     "output_type": "execute_result"
    }
   ],
   "source": [
    "from IPython.display import VimeoVideo\n",
    "# Tutorial Video Name: What is R\n",
    "VimeoVideo('326366383', width=720, height=480)"
   ]
  },
  {
   "cell_type": "markdown",
   "id": "a81e2098-28ef-4ff5-a155-afe824de4323",
   "metadata": {},
   "source": [
    "The transcript for the above topic tutorial video **[is located here](https://repo.exeterlms.com/documents/V2/DataScience/Video-Transcripts/DSO102-L02-pg6tutorial.zip)**.\n",
    "\n",
    "# The R Console \n",
    "\n",
    "Using the up and down arrow keys to scroll through previous commands in the R Console is very helpful. You can repeat a previous command by scrolling so that it shows and then typing return or enter. You can edit a previous command by selecting the text you want to change, making the changes you want to make, and then typing return or enter.\n",
    "\n",
    "<div class=\"panel panel-success\">\n",
    "    <div class=\"panel-heading\">\n",
    "        <h3 class=\"panel-title\">Additional Info!</h3>\n",
    "    </div>\n",
    "    <div class=\"panel-body\">\n",
    "        <p>To learn more about the R Console, please visit <a href=\"https://support.rstudio.com/hc/en-us/articles/200404846-Working-in-the-Console\">this website.</a></p>\n",
    "    </div>\n",
    "</div>"
   ]
  },
  {
   "cell_type": "markdown",
   "id": "42cb7d8a-aced-42e5-ac24-32acf8c95473",
   "metadata": {},
   "source": [
    "<hr style=\"height:10px;border-width:0;color:gray;background-color:gray\">\n",
    "\n",
    "# Page 7 - R Script Files<a class=\"anchor\" id=\"DS102L2_page_7\"></a>\n",
    "\n",
    "[Back to Top](#DS102L2_toc)\n",
    "\n",
    "<hr style=\"height:10px;border-width:0;color:gray;background-color:gray\">\n"
   ]
  },
  {
   "cell_type": "code",
   "execution_count": 7,
   "id": "bcf6487d-47c0-4e89-92ca-d94e6daca10a",
   "metadata": {},
   "outputs": [
    {
     "data": {
      "text/html": [
       "\n",
       "        <iframe\n",
       "            width=\"720\"\n",
       "            height=\"480\"\n",
       "            src=\"https://player.vimeo.com/video/326366320\"\n",
       "            frameborder=\"0\"\n",
       "            allowfullscreen\n",
       "        ></iframe>\n",
       "        "
      ],
      "text/plain": [
       "<IPython.lib.display.VimeoVideo at 0x1a872c410a0>"
      ]
     },
     "execution_count": 7,
     "metadata": {},
     "output_type": "execute_result"
    }
   ],
   "source": [
    "from IPython.display import VimeoVideo\n",
    "# Tutorial Video Name: What is R\n",
    "VimeoVideo('326366320', width=720, height=480)"
   ]
  },
  {
   "cell_type": "markdown",
   "id": "cf0debaf-5fae-4035-8e7d-ae62e62456cb",
   "metadata": {},
   "source": [
    "\n",
    "The transcript for the above topic tutorial video **[is located here](https://repo.exeterlms.com/documents/V2/DataScience/Video-Transcripts/DSO102-L02-pg7tutorial.zip)**.\n",
    "\n",
    "# R Script Files \n",
    "As you progress through this module and things become more complex, typing R commands into the Console pane may become cumbersome, especially if you type slowly or inaccurately. There are several things you can do to make this less tiring. One is to create R script files and use RStudio's features to execute these files (or parts of these files). \n",
    "\n",
    "R provides a way to store a sequence of statements in a file so they can be executed together without typing them into the Console window. A sequence of statements stored in a file is called a script (also a program). R executes each statement in a script in order.\n",
    "\n",
    "R scripts are text files and can be edited in any text editor. However, it is much easier to create and edit R scripts in an editor that is designed for this purpose. Fortunately, RStudio has a built-in source editor to create and edit files of R code.\n",
    "\n",
    "The editor has several productivity-enhancing features: \n",
    "\n",
    "* Syntax highlighting.  Different parts will turn color depending on what part of the program it is. \n",
    "* Code completion, which automatically inserts certain characters.\n",
    "* Find/replace\n",
    "\n",
    "You will introduce the process of creating and running a script by building on your first experience as an R programmer. Suppose you want to say \"Hello World!\" in three different languages. You could do this with the following command typed into the console:\n",
    "\n",
    "```{r}\n",
    "print(\"Hello World!\")\n",
    "print(\"Hallo Welt!\")\n",
    "print(\"Hola mundo!\")\n",
    "```\n",
    "\n",
    "Try it and see the result.\n",
    "\n",
    "Now suppose you wish to greet the world in these three languages every morning. You could type the command above every morning, but this would become tiresome. Instead, you can create a script with these commands and then ask R to run the script every morning to greet the world.\n",
    "\n",
    "In RStudio, you can start the editor and create a new R program file by using the ```File -> New File``` menu and selecting ```R Script```.\n",
    "\n",
    "![An R Studio window showing dropdown menus along the top of the window. The dropdown file is selected and shows the options new file, new project, open file, recent files, open project, open project in new session, recent projects, import dataset, and quit session. New file is selected and shows the options R script, R notebook, R markdown, shiny web app, text file, c plus plus file, R sweave, R h t m l, R presentation, and R documentation. R script is selected.](Media/L03-NewFile.png)\n",
    "\n",
    "This opens an editor pane in the RStudio window. Type the three print commands into the editor pane (henceforth known as the script):\n",
    "\n",
    "![An editor pane in an R studio window with three print commands. Line one, print open parentheses quote hello world exclamation mark end quote close parentheses. Line two, print open parentheses quote hallo welt exclamation mark end quote close parentheses. Line three, print open parentheses quote hola mundo exclamation mark end quote close parentheses.](Media/L03-EditorPane.png)\n",
    "\n",
    "Note that each print statement is on its own line. This is generally done when programming, since it makes the code easier to understand.\n",
    "\n",
    "Usually, after having created a script, you will want save it as a file; if you don't save it, it goes away when you quit RStudio. You can do this with the ```File -> Save``` menu, or click the floppy disk icon at the top of the script. Once you have saved your script, you can have R execute it by using the ```Code -> Source``` menu.\n",
    "\n",
    "When you do this, R runs the code in your file and prints the output it generates. (Note that you can also execute your code by clicking on the Source drop-down menu in the editor pane).\n",
    "\n",
    "![An editor pane in an R studio window with three print commands. Above each command is a comment, hash tag this is to demonstrate scripts. Line one, print open parentheses quote hello world exclamation mark end quote close parentheses. Line two, print open parentheses quote hallo welt exclamation mark end quote close parentheses. Line three, print open parentheses quote hola mundo exclamation mark end quote close parentheses.](Media/R3.png)\n",
    "\n",
    "The output generated by your script should be the following:\n",
    "\n",
    "[1] \"Hello World!\"\n",
    "\n",
    "[1] \"Hallo Welt!\"\n",
    "\n",
    "[1] \"Hola mundo!\"\n",
    "\n",
    "Note that R executed the first statement first and printed \"Hello World!\" It then went to the next statement, executed it, and printed \"Hallo Welt!\" Finally, it executed the last statement and printed \"Hola mundo!\"\n",
    "\n",
    "Statements in scripts are executed sequentially except when ```if``` and ```for``` statements alter this (as you will learn later).\n",
    "\n",
    "The RStudio editor has an interesting and useful feature: you can select statements in the editor pane and run the selected statements in the console pane by clicking on the Run button in the editor pane. For example, in the screen shot below, two statements were selected, then the Run button was clicked, and the two statements were executed in the Console pane.\n",
    "\n",
    "![An editor pane in an R studio window with three print commands above a console window. Line one, print open parentheses quote hello world exclamation mark end quote close parentheses. Line two, print open parentheses quote hallo welt exclamation mark end quote close parentheses. Line three, print open parentheses quote hola mundo exclamation mark end quote close parentheses. Line two and three are highlighted. The run button is circled. Below, in the console window, commands two and three are run. The first output is quote hallo welt exclamation mark end quote. The second output is quote hola mundo exclamation mark end quote](Media/L03-SelectAndRun.png)\n",
    "\n",
    "You can use this feature to avoid retyping commands repeatedly as you work in R.\n"
   ]
  },
  {
   "cell_type": "markdown",
   "id": "d7b3f800-0a14-4d13-8c32-390965c537ca",
   "metadata": {},
   "source": [
    "<hr style=\"height:10px;border-width:0;color:gray;background-color:gray\">\n",
    "\n",
    "# Page 8 - Comments<a class=\"anchor\" id=\"DS102L2_page_8\"></a>\n",
    "\n",
    "[Back to Top](#DS102L2_toc)\n",
    "\n",
    "<hr style=\"height:10px;border-width:0;color:gray;background-color:gray\">\n"
   ]
  },
  {
   "cell_type": "code",
   "execution_count": 8,
   "id": "d563d0a9-9b06-4a1f-a60e-0ad722c92b8d",
   "metadata": {},
   "outputs": [
    {
     "data": {
      "text/html": [
       "\n",
       "        <iframe\n",
       "            width=\"720\"\n",
       "            height=\"480\"\n",
       "            src=\"https://player.vimeo.com/video/326366279\"\n",
       "            frameborder=\"0\"\n",
       "            allowfullscreen\n",
       "        ></iframe>\n",
       "        "
      ],
      "text/plain": [
       "<IPython.lib.display.VimeoVideo at 0x1a872c41ee0>"
      ]
     },
     "execution_count": 8,
     "metadata": {},
     "output_type": "execute_result"
    }
   ],
   "source": [
    "from IPython.display import VimeoVideo\n",
    "# Tutorial Video Name: What is R\n",
    "VimeoVideo('326366279', width=720, height=480)"
   ]
  },
  {
   "cell_type": "markdown",
   "id": "4597e4b4-ce22-448d-843e-eab5ba74a9c4",
   "metadata": {},
   "source": [
    "The transcript for the above topic tutorial video **[is located here](https://repo.exeterlms.com/documents/V2/DataScience/Video-Transcripts/DSO102-L02-pg8tutorial.zip)**.\n",
    "\n",
    "# Comments\n",
    "\n",
    "Comments are statements that begin with a ```#``` character. This character is often called a *hashtag* or the *pound* sign. They are ignored by R. You can verify this by typing:\n",
    "\n",
    "```{r}\n",
    "# This is a comment\n",
    "```\n",
    "\n",
    "You will notice that R does nothing in response. This might raise the question in your mind of why you would use a comment. They are often used to:\n",
    "\n",
    "* Indicate information about a program, such as its author, purpose, and date written\n",
    "* Provide information about how the program works\n",
    "* Remind the author of things that still need to be done\n",
    "\n",
    "Using comments are particularly important when working with a group; when there is a chance that someone else will use your code, it should be well documented so that its function and utility can be understood at a glance without too much confusion.  Code that is nicely commented and organized makes for happy co-workers; code that is uncommented and unorganized makes sad, hostile, frustrated co-workers.  Which would you rather have? \n",
    "\n",
    "<div class=\"panel panel-success\">\n",
    "    <div class=\"panel-heading\">\n",
    "        <h3 class=\"panel-title\">Fun Fact!</h3>\n",
    "    </div>\n",
    "    <div class=\"panel-body\">\n",
    "        <p>Messy code is often called \"spaghetti code\" due to its resemblance to a plate of its delicious namesake.  Don't let this happen to you!</p>\n",
    "    </div>\n",
    "</div>\n",
    "\n",
    "The ```#``` can be used anywhere in a line; everything to the right of the # will be ignored by R as a comment. Here is an example of a script that is almost all comments:\n",
    "\n",
    "```{r}\n",
    "# The Comment Script\n",
    "# Written on October 11, 2017\n",
    "# This script does very little except demonstrate comments\n",
    "print(\"Too many comments\") # This line actually does something\n",
    "# Note to self: add more lines that do something\n",
    "```\n",
    "\n",
    "If you run this script, what does it print?\n",
    "\n",
    "---"
   ]
  },
  {
   "cell_type": "markdown",
   "id": "36943bcd-7e16-4af1-97d3-c09e81ae5e99",
   "metadata": {},
   "source": [
    "<hr style=\"height:10px;border-width:0;color:gray;background-color:gray\">\n",
    "\n",
    "# Page 9 - Finding Documentation and Help in R<a class=\"anchor\" id=\"DS102L2_page_9\"></a>\n",
    "\n",
    "[Back to Top](#DS102L2_toc)\n",
    "\n",
    "<hr style=\"height:10px;border-width:0;color:gray;background-color:gray\">\n"
   ]
  },
  {
   "cell_type": "code",
   "execution_count": 10,
   "id": "b6e81ee9-abec-47cd-b7ba-4dc307c626ba",
   "metadata": {},
   "outputs": [
    {
     "data": {
      "text/html": [
       "\n",
       "        <iframe\n",
       "            width=\"720\"\n",
       "            height=\"480\"\n",
       "            src=\"https://player.vimeo.com/video/326366306\"\n",
       "            frameborder=\"0\"\n",
       "            allowfullscreen\n",
       "        ></iframe>\n",
       "        "
      ],
      "text/plain": [
       "<IPython.lib.display.VimeoVideo at 0x1a872c30130>"
      ]
     },
     "execution_count": 10,
     "metadata": {},
     "output_type": "execute_result"
    }
   ],
   "source": [
    "from IPython.display import VimeoVideo\n",
    "# Tutorial Video Name: What is R\n",
    "VimeoVideo('326366306', width=720, height=480)"
   ]
  },
  {
   "cell_type": "markdown",
   "id": "fdf2cdde-9447-49b5-8936-17d80f46b45e",
   "metadata": {},
   "source": [
    "\n",
    "The transcript for the above topic tutorial video **[is located here](https://repo.exeterlms.com/documents/V2/DataScience/Video-Transcripts/DSO102-L02-pg9tutorial.zip)**.\n",
    "\n",
    "# Finding Documentation and Help\n",
    "\n",
    "There may be times that you will need to check R's documentation to see how to do a particular analysis. You can access some documentation in RStudio using the ```Help -> R Help``` menu. This brings up a page of useful links in the Help pane of RStudio. You can also access the official R Manuals online **[here.](https://cran.r-project.org/manuals.html)**\n",
    "\n",
    "To get help on a specific command or function, you can use the ```help()``` command. For example, to get help for the ```print()``` function, type\n",
    "\n",
    "```{r}\n",
    "help(\"print\")\n",
    "```\n",
    "\n",
    "RStudio will display information about the ```print()``` function in the Help pane, like this: \n",
    "\n",
    "![R documentation. Print values. Description. Print prints its argument and returns it invisibly open parentheses via invisible open parentheses x close parentheses close parentheses. It is a generic function which means that new printing methods can be easily added for new classes. Usage. Print open parentheses x comma ellipses close parentheses. Hash hash s three method for class factor. print open parentheses x, quote equals false, max dot levels equals null, width equals get option open parentheses quote width quote close parentheses ellipses close parentheses. Hash hash s three method for class table. Print open parentheses x, digits equals get option open parentheses quote digits end quote close parentheses, quote equals false, na dot print equals quote quote, zero dot print equals quote zero quote, right equals is dot numeric open parentheses x close parentheses verticle bar verticle bar is dot complex open parentheses x close parentheses, justify equals quote none end quote ellipses close parentheses.](Media/R2.png)\n",
    "\n",
    "---\n",
    "\n",
    "## Searching for Help on the Internet\n",
    "\n",
    "It's a good idea to start building up your problem solving skills as soon as possible! The earlier you try to troubleshoot your own issues, the better off you will be, because as a data scientist, you will be expected to solve problems daily and search for solutions! For a primer on how to search the internet for solutions, check out **[this recorded live workshop on How to Google Like a Pro.](https://vimeo.com/416182456)** Even if you are not successful in solving your own issues all the time, giving it a shot will help you build up those critical thinking muscles! Every little bit helps!\n",
    "\n",
    "---\n",
    "\n",
    "## Summary\n",
    "\n",
    "This lesson was your first introduction to R, a program specifically designed for data science and statistical programming! You learned how to use the ```print()``` and ```help()``` functions, and got familiar with the layout of R, including the console and the script files.  You also learned about the importance of commenting your code, for the utility of yourself and others later on.  \n",
    "\n",
    "---"
   ]
  },
  {
   "cell_type": "markdown",
   "id": "2a0d02d5-04fa-4220-9637-d02c3b32dce5",
   "metadata": {},
   "source": [
    "<hr style=\"height:10px;border-width:0;color:gray;background-color:gray\">\n",
    "\n",
    "# Page 10 - Key Terms<a class=\"anchor\" id=\"DS102L2_page_10\"></a>\n",
    "\n",
    "[Back to Top](#DS102L2_toc)\n",
    "\n",
    "<hr style=\"height:10px;border-width:0;color:gray;background-color:gray\">"
   ]
  },
  {
   "cell_type": "markdown",
   "id": "e4e159de-48d2-4a0b-aa3d-c9f3df080d48",
   "metadata": {},
   "source": [
    "# Key Terms\n",
    "\n",
    "Below is a list and short description of the important keywords learned in this lesson. Please read through and go back and review any concepts you do not fully understand. Great Work!\n",
    "\n",
    "<table class=\"table table-striped\">\n",
    "    <tr>\n",
    "        <th>Keyword</th>\n",
    "        <th>Description</th>\n",
    "    </tr>\n",
    "    <tr>\n",
    "        <td style=\"font-weight: bold;\" nowrap>R</td>\n",
    "        <td>Programming language for statistics</td>\n",
    "    </tr>\n",
    "    <tr>\n",
    "        <td style=\"font-weight: bold;\" nowrap>R Studio</td>\n",
    "        <td>A graphical user interface (GUI) for R that makes R more user friendly. </td>\n",
    "    </tr>\n",
    "    <tr>\n",
    "        <td style=\"font-weight: bold;\" nowrap>IDE</td>\n",
    "        <td>Integrated Development Environment (shell) to make interaction with a programming language easier.</td>\n",
    "    </tr>\n",
    "    <tr>\n",
    "        <td style=\"font-weight: bold;\" nowrap>Open Source</td>\n",
    "        <td>A program that is free of charge, and allows anyone to make changes to the program.</td>\n",
    "    </tr>\n",
    "    <tr>\n",
    "        <td style=\"font-weight: bold;\" nowrap>Console</td>\n",
    "        <td>The part of R Studio you can type code directly into.</td>\n",
    "    </tr>\n",
    "    <tr>\n",
    "        <td style=\"font-weight: bold;\" nowrap>Script File</td>\n",
    "        <td>A text editor for R that allows you to save code. </td>\n",
    "    </tr>\n",
    "    <tr>\n",
    "        <td style=\"font-weight: bold;\" nowrap>Comment</td>\n",
    "        <td>Anything to the right of a # in R that provides information about your code or notes to yourself.  Will not be executed in the console.</td>\n",
    "    </tr>  \n",
    "</table>\n",
    "\n",
    "---"
   ]
  },
  {
   "cell_type": "markdown",
   "id": "d1e63cf3-7679-4416-b0a8-7e9a0b6c607e",
   "metadata": {},
   "source": [
    "# Key R Code\n",
    "\n",
    "<table class=\"table table-striped\">\n",
    "    <tr>\n",
    "        <th>Keyword</th>\n",
    "        <th>Description</th>\n",
    "    </tr>\n",
    "    <tr>\n",
    "        <td style=\"font-weight: bold;\" nowrap>print()</td>\n",
    "        <td>Prints anything in the parentheses</td>\n",
    "    </tr>\n",
    "    <tr>\n",
    "        <td style=\"font-weight: bold;\" nowrap>help()</td>\n",
    "        <td>Provides documentation for a particular function in the parentheses. </td>\n",
    "    </tr>\n",
    "</table>"
   ]
  }
 ],
 "metadata": {
  "kernelspec": {
   "display_name": "Python 3",
   "language": "python",
   "name": "python3"
  },
  "language_info": {
   "codemirror_mode": {
    "name": "ipython",
    "version": 3
   },
   "file_extension": ".py",
   "mimetype": "text/x-python",
   "name": "python",
   "nbconvert_exporter": "python",
   "pygments_lexer": "ipython3",
   "version": "3.9.5"
  }
 },
 "nbformat": 4,
 "nbformat_minor": 5
}
