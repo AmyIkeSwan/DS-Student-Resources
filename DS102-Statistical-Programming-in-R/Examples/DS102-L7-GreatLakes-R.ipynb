{
 "cells": [
  {
   "cell_type": "markdown",
   "id": "ab7b1c8b-73ae-4f1b-8358-95b63bebd9e2",
   "metadata": {
    "tags": []
   },
   "source": [
    "## Great Lakes"
   ]
  },
  {
   "cell_type": "markdown",
   "id": "2c57977c-b936-4cd6-936d-012ae059eac6",
   "metadata": {},
   "source": [
    "The DAAG package has data on the levels of several Great Lakes; this data is in the greatLakes dataset. Suppose you want to know whether Lake Erie or Lake Huron has the higher level. You can set up a hypothesis test to do this as follows. First, load the DAAG package with library(DAAG). Then create two vectors with these commands: erie <- greatLakes[,1] and huron <- greatLakes[,2]. Use these vectors to create a hypothesis test to determine whether the two lake levels are equal. \n",
    "\n",
    "### What is the null hypothesis for this test?\n",
    "\n",
    "```R\n",
    "H0 = mean(erie) = mean(huron)\n",
    "```\n",
    "\n",
    "### What is the alternate hypothesis for this test?\n",
    "\n",
    "```R\n",
    "H1 = mean(erie) != mean(huron) \n",
    "```\n",
    "\n",
    "## Description\n",
    "Various data sets and functions used or referred to in the book Maindonald, J.H. and Braun, W.J.\n",
    "(3rd edn 2010) \"Data Analysis and Graphics Using R\", plus other selected datasets and functions.\n",
    "\n",
    "## Details\n",
    "For a list of , use \n",
    "```R\n",
    "library(help=\"DAAG\")\n",
    "```"
   ]
  },
  {
   "cell_type": "markdown",
   "id": "6c672798-c4ac-45d6-a9f3-7b3a4c408818",
   "metadata": {},
   "source": [
    "## where does the great lakes data come from? \n",
    "\n",
    "https://cran.r-project.org/web/packages/DAAG/index.html"
   ]
  },
  {
   "cell_type": "code",
   "execution_count": 40,
   "id": "e94af658-c1de-4952-8ea6-5d2b5672dde3",
   "metadata": {},
   "outputs": [
    {
     "name": "stdout",
     "output_type": "stream",
     "text": [
      "\n",
      "The downloaded binary packages are in\n",
      "\t/var/folders/wk/6why77bn1kn0l0pkd4vd3zl00000gn/T//RtmpZnA2ss/downloaded_packages\n"
     ]
    }
   ],
   "source": [
    "# install the package DAAG\n",
    "install.packages(\"DAAG\")"
   ]
  },
  {
   "cell_type": "code",
   "execution_count": 41,
   "id": "f9212b52-6ad2-464b-ab09-71e7ff03376f",
   "metadata": {},
   "outputs": [],
   "source": [
    "# use the package DAAG\n",
    "library(DAAG)"
   ]
  },
  {
   "cell_type": "code",
   "execution_count": 42,
   "id": "7450fd4d-ee51-4f23-af1a-fd561d8ac917",
   "metadata": {},
   "outputs": [
    {
     "data": {
      "text/html": [
       "<table class=\"dataframe\">\n",
       "<caption>A matrix: 6 × 4 of type dbl</caption>\n",
       "<thead>\n",
       "\t<tr><th scope=col>Erie</th><th scope=col>michHuron</th><th scope=col>Ontario</th><th scope=col>StClair</th></tr>\n",
       "</thead>\n",
       "<tbody>\n",
       "\t<tr><td>174.0150</td><td>176.8867</td><td>74.87250</td><td>174.9567</td></tr>\n",
       "\t<tr><td>174.1808</td><td>176.7450</td><td>74.95583</td><td>175.0767</td></tr>\n",
       "\t<tr><td>173.9083</td><td>176.6250</td><td>74.56750</td><td>174.8150</td></tr>\n",
       "\t<tr><td>174.0258</td><td>176.4883</td><td>74.66583</td><td>174.8692</td></tr>\n",
       "\t<tr><td>173.9275</td><td>176.4450</td><td>74.65667</td><td>174.8108</td></tr>\n",
       "\t<tr><td>173.7575</td><td>176.2642</td><td>74.44333</td><td>174.6525</td></tr>\n",
       "</tbody>\n",
       "</table>\n"
      ],
      "text/latex": [
       "A matrix: 6 × 4 of type dbl\n",
       "\\begin{tabular}{llll}\n",
       " Erie & michHuron & Ontario & StClair\\\\\n",
       "\\hline\n",
       "\t 174.0150 & 176.8867 & 74.87250 & 174.9567\\\\\n",
       "\t 174.1808 & 176.7450 & 74.95583 & 175.0767\\\\\n",
       "\t 173.9083 & 176.6250 & 74.56750 & 174.8150\\\\\n",
       "\t 174.0258 & 176.4883 & 74.66583 & 174.8692\\\\\n",
       "\t 173.9275 & 176.4450 & 74.65667 & 174.8108\\\\\n",
       "\t 173.7575 & 176.2642 & 74.44333 & 174.6525\\\\\n",
       "\\end{tabular}\n"
      ],
      "text/markdown": [
       "\n",
       "A matrix: 6 × 4 of type dbl\n",
       "\n",
       "| Erie | michHuron | Ontario | StClair |\n",
       "|---|---|---|---|\n",
       "| 174.0150 | 176.8867 | 74.87250 | 174.9567 |\n",
       "| 174.1808 | 176.7450 | 74.95583 | 175.0767 |\n",
       "| 173.9083 | 176.6250 | 74.56750 | 174.8150 |\n",
       "| 174.0258 | 176.4883 | 74.66583 | 174.8692 |\n",
       "| 173.9275 | 176.4450 | 74.65667 | 174.8108 |\n",
       "| 173.7575 | 176.2642 | 74.44333 | 174.6525 |\n",
       "\n"
      ],
      "text/plain": [
       "     Erie     michHuron Ontario  StClair \n",
       "[1,] 174.0150 176.8867  74.87250 174.9567\n",
       "[2,] 174.1808 176.7450  74.95583 175.0767\n",
       "[3,] 173.9083 176.6250  74.56750 174.8150\n",
       "[4,] 174.0258 176.4883  74.66583 174.8692\n",
       "[5,] 173.9275 176.4450  74.65667 174.8108\n",
       "[6,] 173.7575 176.2642  74.44333 174.6525"
      ]
     },
     "metadata": {},
     "output_type": "display_data"
    }
   ],
   "source": [
    "# ensure you can see the dataset greatLakes\n",
    "head(greatLakes)"
   ]
  },
  {
   "cell_type": "code",
   "execution_count": 43,
   "id": "29cf8ab5-67ff-4aaf-92b9-8cba9064cbbc",
   "metadata": {},
   "outputs": [
    {
     "data": {
      "text/html": [
       "<style>\n",
       ".list-inline {list-style: none; margin:0; padding: 0}\n",
       ".list-inline>li {display: inline-block}\n",
       ".list-inline>li:not(:last-child)::after {content: \"\\00b7\"; padding: 0 .5ex}\n",
       "</style>\n",
       "<ol class=list-inline><li>'Erie'</li><li>'michHuron'</li><li>'Ontario'</li><li>'StClair'</li></ol>\n"
      ],
      "text/latex": [
       "\\begin{enumerate*}\n",
       "\\item 'Erie'\n",
       "\\item 'michHuron'\n",
       "\\item 'Ontario'\n",
       "\\item 'StClair'\n",
       "\\end{enumerate*}\n"
      ],
      "text/markdown": [
       "1. 'Erie'\n",
       "2. 'michHuron'\n",
       "3. 'Ontario'\n",
       "4. 'StClair'\n",
       "\n",
       "\n"
      ],
      "text/plain": [
       "[1] \"Erie\"      \"michHuron\" \"Ontario\"   \"StClair\"  "
      ]
     },
     "metadata": {},
     "output_type": "display_data"
    }
   ],
   "source": [
    "# list column names\n",
    "colnames(greatLakes)"
   ]
  },
  {
   "cell_type": "code",
   "execution_count": 44,
   "id": "8bb45f7b-06a9-49e4-9fd3-678bd0fc3b92",
   "metadata": {},
   "outputs": [],
   "source": [
    "# extract Erie column and put it into a dataframe called erie\n",
    "erie <-greatLakes[,1]"
   ]
  },
  {
   "cell_type": "code",
   "execution_count": 45,
   "id": "a47c88e3-a4d7-4992-a514-0843736f4335",
   "metadata": {},
   "outputs": [
    {
     "name": "stdout",
     "output_type": "stream",
     "text": [
      "Time Series:\n",
      "Start = 1918 \n",
      "End = 2009 \n",
      "Frequency = 1 \n",
      " [1] 174.0150 174.1808 173.9083 174.0258 173.9275 173.7575 173.8433 173.5933\n",
      " [9] 173.6408 173.8183 173.9517 174.3117 174.2700 173.7050 173.7358 173.6767\n",
      "[17] 173.3317 173.4108 173.4883 173.8200 173.8408 173.8458 173.7950 173.7000\n",
      "[25] 173.8767 174.2317 174.0917 174.1883 174.1358 174.2350 174.2208 173.9733\n",
      "[33] 174.1350 174.3242 174.5200 174.3308 174.2883 174.3483 174.1200 174.0367\n",
      "[41] 173.8083 173.8500 174.0942 174.1008 173.9075 173.7267 173.6075 173.7125\n",
      "[49] 173.8992 174.0592 174.2042 174.3900 174.2583 174.3117 174.5000 174.7408\n",
      "[57] 174.6892 174.6158 174.5733 174.2975 174.3725 174.3917 174.5217 174.3983\n",
      "[65] 174.4250 174.5208 174.5225 174.7283 174.8983 174.6675 174.2617 174.2258\n",
      "[73] 174.2942 174.3267 174.3567 174.5042 174.3667 174.2842 174.3750 174.7175\n",
      "[81] 174.5508 174.1025 173.9900 173.9142 174.0583 173.9658 174.1158 174.1700\n",
      "[89] 174.1467 174.1392 174.1592 174.2483\n"
     ]
    }
   ],
   "source": [
    "# print the dataframe to ensure you have acurate information\n",
    "print(erie)"
   ]
  },
  {
   "cell_type": "code",
   "execution_count": 46,
   "id": "46592a5a-05f7-412a-815b-2d63a4ab6aca",
   "metadata": {},
   "outputs": [],
   "source": [
    "# extract michHuron column and put it into a dataframe called huron\n",
    "huron <-greatLakes[,2]"
   ]
  },
  {
   "cell_type": "code",
   "execution_count": 47,
   "id": "ff98da1f-e9e6-48bc-b314-019d94821663",
   "metadata": {},
   "outputs": [
    {
     "name": "stdout",
     "output_type": "stream",
     "text": [
      "Time Series:\n",
      "Start = 1918 \n",
      "End = 2009 \n",
      "Frequency = 1 \n",
      " [1] 176.8867 176.7450 176.6250 176.4883 176.4450 176.2642 176.1867 175.9192\n",
      " [9] 175.8850 176.1483 176.4433 176.8958 176.6508 176.1183 175.9408 175.8675\n",
      "[17] 175.7667 175.8908 175.9392 175.9225 176.1408 176.2692 176.1417 176.1217\n",
      "[25] 176.3342 176.6267 176.5967 176.5700 176.6017 176.5667 176.5308 176.2108\n",
      "[33] 176.2608 176.7358 177.0850 176.9333 176.8292 176.7225 176.4400 176.2633\n",
      "[41] 176.0675 176.0058 176.4775 176.3767 176.2225 175.9225 175.6825 175.9158\n",
      "[49] 176.1608 176.3008 176.4467 176.6958 176.6783 176.8050 176.8883 177.1233\n",
      "[57] 177.0933 176.9733 176.8992 176.5050 176.5908 176.7942 176.8033 176.6983\n",
      "[65] 176.5983 176.8333 176.8950 177.1267 177.2925 176.9700 176.5642 176.4008\n",
      "[73] 176.3500 176.4692 176.4792 176.6958 176.6783 176.5275 176.6542 176.9842\n",
      "[81] 176.7167 176.2358 175.9783 175.9508 176.1183 175.8917 176.1108 176.0900\n",
      "[89] 176.0158 175.9433 176.0050 176.2583\n"
     ]
    }
   ],
   "source": [
    "print(huron)"
   ]
  },
  {
   "cell_type": "code",
   "execution_count": 48,
   "id": "ece80b61-e864-4ac3-9076-cb9a8243edd5",
   "metadata": {},
   "outputs": [],
   "source": [
    "t_ind <- t.test(erie, huron, alternative='two.sided', var.equal=FALSE)"
   ]
  },
  {
   "cell_type": "code",
   "execution_count": 49,
   "id": "32c99f1f-9f88-489c-993c-daf0e38f0ff5",
   "metadata": {},
   "outputs": [
    {
     "data": {
      "text/plain": [
       "\n",
       "\tWelch Two Sample t-test\n",
       "\n",
       "data:  erie and huron\n",
       "t = -44.455, df = 178, p-value < 2.2e-16\n",
       "alternative hypothesis: true difference in means is not equal to 0\n",
       "95 percent confidence interval:\n",
       " -2.398172 -2.194310\n",
       "sample estimates:\n",
       "mean of x mean of y \n",
       " 174.1382  176.4345 \n"
      ]
     },
     "metadata": {},
     "output_type": "display_data"
    }
   ],
   "source": [
    "t_ind"
   ]
  },
  {
   "cell_type": "code",
   "execution_count": 50,
   "id": "b0db9ab5-6ffa-4df6-9ae8-6cd121c2b111",
   "metadata": {},
   "outputs": [
    {
     "data": {
      "text/html": [
       "174.138233695652"
      ],
      "text/latex": [
       "174.138233695652"
      ],
      "text/markdown": [
       "174.138233695652"
      ],
      "text/plain": [
       "[1] 174.1382"
      ]
     },
     "metadata": {},
     "output_type": "display_data"
    }
   ],
   "source": [
    "# check the mean of erie just to double check that it's the x in the two sample t-test\n",
    "mean(erie)"
   ]
  },
  {
   "cell_type": "code",
   "execution_count": 51,
   "id": "b9df1411-6696-46d9-8a58-2514f653d593",
   "metadata": {},
   "outputs": [
    {
     "data": {
      "text/html": [
       "176.434474637681"
      ],
      "text/latex": [
       "176.434474637681"
      ],
      "text/markdown": [
       "176.434474637681"
      ],
      "text/plain": [
       "[1] 176.4345"
      ]
     },
     "metadata": {},
     "output_type": "display_data"
    }
   ],
   "source": [
    "# check the mean of huron just to double check that it's the y in the two sample t-test\n",
    "mean(huron)"
   ]
  },
  {
   "cell_type": "markdown",
   "id": "23003d6b-e400-4e51-8268-1a758b298544",
   "metadata": {},
   "source": [
    "The two means are not equal so the alternate hypothesis H1 that the two means are not equal is correct."
   ]
  },
  {
   "cell_type": "code",
   "execution_count": null,
   "id": "bf031687-d6ef-4f53-a21e-fd1029e3b87f",
   "metadata": {},
   "outputs": [],
   "source": []
  },
  {
   "cell_type": "code",
   "execution_count": 52,
   "id": "6cacc6a2-32ac-408f-ae89-a9a547dd08a3",
   "metadata": {},
   "outputs": [],
   "source": [
    "# learn more about DAAG!\n",
    "# library(help=\"DAAG\")"
   ]
  },
  {
   "cell_type": "code",
   "execution_count": 53,
   "id": "43518e4a-88b1-4296-a734-41c3e49617ef",
   "metadata": {},
   "outputs": [],
   "source": [
    "# learn about clipr\n",
    "#install.packages('clipr')"
   ]
  },
  {
   "cell_type": "code",
   "execution_count": 54,
   "id": "c1773c6d-02f8-4b34-8f3e-92629bbcda9f",
   "metadata": {},
   "outputs": [],
   "source": [
    "#library(clipr)"
   ]
  },
  {
   "cell_type": "code",
   "execution_count": 55,
   "id": "21c2c2e0-46da-4823-9ac4-3ee12b9f8b8d",
   "metadata": {},
   "outputs": [],
   "source": [
    "#rc <- read_clip(allow_non_interactive = TRUE)"
   ]
  },
  {
   "cell_type": "code",
   "execution_count": 56,
   "id": "df7990e3-87ac-49c3-9bdb-59f90e2cabc8",
   "metadata": {},
   "outputs": [],
   "source": [
    "#print(rc)"
   ]
  },
  {
   "cell_type": "code",
   "execution_count": 57,
   "id": "d55f348b-9570-4fe3-939c-b2e5f6589078",
   "metadata": {},
   "outputs": [],
   "source": [
    "# learn more about clipr\n",
    "#library(help=\"clipr\")"
   ]
  },
  {
   "cell_type": "code",
   "execution_count": null,
   "id": "9ad6647b-13cd-45e9-8f8a-500d4f373d3d",
   "metadata": {},
   "outputs": [],
   "source": []
  }
 ],
 "metadata": {
  "kernelspec": {
   "display_name": "R",
   "language": "R",
   "name": "ir"
  },
  "language_info": {
   "codemirror_mode": "r",
   "file_extension": ".r",
   "mimetype": "text/x-r-source",
   "name": "R",
   "pygments_lexer": "r",
   "version": "4.1.2"
  }
 },
 "nbformat": 4,
 "nbformat_minor": 5
}
