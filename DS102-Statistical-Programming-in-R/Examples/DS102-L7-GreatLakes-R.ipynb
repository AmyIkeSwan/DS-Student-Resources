{
 "cells": [
  {
   "cell_type": "markdown",
   "id": "ab7b1c8b-73ae-4f1b-8358-95b63bebd9e2",
   "metadata": {},
   "source": [
    "## Great Lakes"
   ]
  },
  {
   "cell_type": "code",
   "execution_count": 1,
   "id": "e94af658-c1de-4952-8ea6-5d2b5672dde3",
   "metadata": {},
   "outputs": [
    {
     "name": "stderr",
     "output_type": "stream",
     "text": [
      "also installing the dependencies ‘png’, ‘latticeExtra’\n",
      "\n",
      "\n"
     ]
    },
    {
     "name": "stdout",
     "output_type": "stream",
     "text": [
      "\n",
      "The downloaded binary packages are in\n",
      "\t/var/folders/wk/6why77bn1kn0l0pkd4vd3zl00000gn/T//Rtmpi3wbtE/downloaded_packages\n"
     ]
    }
   ],
   "source": [
    "install.packages(\"DAAG\")"
   ]
  },
  {
   "cell_type": "code",
   "execution_count": 2,
   "id": "f9212b52-6ad2-464b-ab09-71e7ff03376f",
   "metadata": {},
   "outputs": [
    {
     "name": "stderr",
     "output_type": "stream",
     "text": [
      "Loading required package: lattice\n",
      "\n"
     ]
    }
   ],
   "source": [
    "library(DAAG)"
   ]
  },
  {
   "cell_type": "code",
   "execution_count": 3,
   "id": "7450fd4d-ee51-4f23-af1a-fd561d8ac917",
   "metadata": {},
   "outputs": [
    {
     "data": {
      "text/html": [
       "<table class=\"dataframe\">\n",
       "<caption>A matrix: 6 × 4 of type dbl</caption>\n",
       "<thead>\n",
       "\t<tr><th scope=col>Erie</th><th scope=col>michHuron</th><th scope=col>Ontario</th><th scope=col>StClair</th></tr>\n",
       "</thead>\n",
       "<tbody>\n",
       "\t<tr><td>174.0150</td><td>176.8867</td><td>74.87250</td><td>174.9567</td></tr>\n",
       "\t<tr><td>174.1808</td><td>176.7450</td><td>74.95583</td><td>175.0767</td></tr>\n",
       "\t<tr><td>173.9083</td><td>176.6250</td><td>74.56750</td><td>174.8150</td></tr>\n",
       "\t<tr><td>174.0258</td><td>176.4883</td><td>74.66583</td><td>174.8692</td></tr>\n",
       "\t<tr><td>173.9275</td><td>176.4450</td><td>74.65667</td><td>174.8108</td></tr>\n",
       "\t<tr><td>173.7575</td><td>176.2642</td><td>74.44333</td><td>174.6525</td></tr>\n",
       "</tbody>\n",
       "</table>\n"
      ],
      "text/latex": [
       "A matrix: 6 × 4 of type dbl\n",
       "\\begin{tabular}{llll}\n",
       " Erie & michHuron & Ontario & StClair\\\\\n",
       "\\hline\n",
       "\t 174.0150 & 176.8867 & 74.87250 & 174.9567\\\\\n",
       "\t 174.1808 & 176.7450 & 74.95583 & 175.0767\\\\\n",
       "\t 173.9083 & 176.6250 & 74.56750 & 174.8150\\\\\n",
       "\t 174.0258 & 176.4883 & 74.66583 & 174.8692\\\\\n",
       "\t 173.9275 & 176.4450 & 74.65667 & 174.8108\\\\\n",
       "\t 173.7575 & 176.2642 & 74.44333 & 174.6525\\\\\n",
       "\\end{tabular}\n"
      ],
      "text/markdown": [
       "\n",
       "A matrix: 6 × 4 of type dbl\n",
       "\n",
       "| Erie | michHuron | Ontario | StClair |\n",
       "|---|---|---|---|\n",
       "| 174.0150 | 176.8867 | 74.87250 | 174.9567 |\n",
       "| 174.1808 | 176.7450 | 74.95583 | 175.0767 |\n",
       "| 173.9083 | 176.6250 | 74.56750 | 174.8150 |\n",
       "| 174.0258 | 176.4883 | 74.66583 | 174.8692 |\n",
       "| 173.9275 | 176.4450 | 74.65667 | 174.8108 |\n",
       "| 173.7575 | 176.2642 | 74.44333 | 174.6525 |\n",
       "\n"
      ],
      "text/plain": [
       "     Erie     michHuron Ontario  StClair \n",
       "[1,] 174.0150 176.8867  74.87250 174.9567\n",
       "[2,] 174.1808 176.7450  74.95583 175.0767\n",
       "[3,] 173.9083 176.6250  74.56750 174.8150\n",
       "[4,] 174.0258 176.4883  74.66583 174.8692\n",
       "[5,] 173.9275 176.4450  74.65667 174.8108\n",
       "[6,] 173.7575 176.2642  74.44333 174.6525"
      ]
     },
     "metadata": {},
     "output_type": "display_data"
    }
   ],
   "source": [
    "head(greatLakes)"
   ]
  },
  {
   "cell_type": "code",
   "execution_count": null,
   "id": "29cf8ab5-67ff-4aaf-92b9-8cba9064cbbc",
   "metadata": {},
   "outputs": [],
   "source": []
  }
 ],
 "metadata": {
  "kernelspec": {
   "display_name": "R",
   "language": "R",
   "name": "ir"
  },
  "language_info": {
   "codemirror_mode": "r",
   "file_extension": ".r",
   "mimetype": "text/x-r-source",
   "name": "R",
   "pygments_lexer": "r",
   "version": "4.1.2"
  }
 },
 "nbformat": 4,
 "nbformat_minor": 5
}
