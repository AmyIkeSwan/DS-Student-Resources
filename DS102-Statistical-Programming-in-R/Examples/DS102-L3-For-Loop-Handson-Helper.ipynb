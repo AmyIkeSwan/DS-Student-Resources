{
 "cells": [
  {
   "cell_type": "markdown",
   "id": "c1cc87ac-4191-44f8-b884-f48f900dfbab",
   "metadata": {},
   "source": [
    "# DS102 L3 Handson Helper"
   ]
  },
  {
   "cell_type": "markdown",
   "id": "6f3cc578-55cb-447f-a23a-33f83c4d5a6b",
   "metadata": {},
   "source": [
    "## Let's Touch Base and put Certain Concepts into Perspective\n",
    "\n",
    "R-Basics:\n",
    "- Looking at the Big Picture\n",
    "- R Structure\n",
    "- R Structure Visual\n",
    "\n",
    "Vectors:\n",
    "- The Break Down of the Big Picture for Vectors\n",
    "- What is a Vector?\n",
    "- What Types of Vectors are there?\n",
    "- Basic Vector and Indexes\n",
    "- How to Create Vector?\n",
    "\n",
    "Functions:\n",
    "- What are Functions?\n",
    "- How to Create a Function?\n",
    "- What are Formulas and/or Equations?\n",
    "- Basic Arthemtic in R\n",
    "- How to Create a Function using a specific Formula\n",
    "\n",
    "For Loops:\n",
    "- What are For Loops?\n",
    "- Why are For Loops Important\n",
    "- What does a For Loop look like?\n",
    "- How to Create a For Loop\n",
    "\n",
    "### Handson Helper Example for DS102 Lesson 3\n",
    "#"
   ]
  },
  {
   "cell_type": "markdown",
   "id": "82feca64-332f-4f4e-8930-24d172eec2d6",
   "metadata": {},
   "source": [
    "# R-Basics"
   ]
  },
  {
   "cell_type": "code",
   "execution_count": null,
   "id": "a37897db-5d56-4686-937c-9db60c2b45f3",
   "metadata": {},
   "outputs": [],
   "source": []
  },
  {
   "cell_type": "code",
   "execution_count": null,
   "id": "e30e2a9a-cc83-4f1d-92c2-ced2183907e5",
   "metadata": {},
   "outputs": [],
   "source": []
  },
  {
   "cell_type": "markdown",
   "id": "12893ab1-84ff-4a9a-bb07-52a2d7706cd6",
   "metadata": {},
   "source": [
    "### What is a Vector?\n",
    "\n",
    "Vector is a basic data structure in R. It contains element of the same type. The data types can be logical, integer, double, character, complex or raw.\n",
    "\n",
    "A vector’s type can be checked with the typeof() function.\n",
    "\n",
    "Another important property of a vector is its length. This is the number of elements in the vector and can be checked with the function length().\n",
    "\n",
    "https://www.datamentor.io/r-programming/vector/"
   ]
  },
  {
   "cell_type": "markdown",
   "id": "719cb748-80f7-4133-be21-3c370dec1d00",
   "metadata": {
    "tags": []
   },
   "source": [
    "### What does a Vector look like?\n",
    "<p style=\"text-align: left;\">\n",
    "  <img width=\"600\" alt=\"for loop\" src=\"../../../Media/L03-R-for-loop-pic.png\">\n",
    "</p>"
   ]
  },
  {
   "cell_type": "code",
   "execution_count": null,
   "id": "7f51ba5c-bade-4776-a9c6-4c6497932c4f",
   "metadata": {},
   "outputs": [],
   "source": []
  },
  {
   "cell_type": "code",
   "execution_count": null,
   "id": "f0075f9e-d9d9-4bd2-bafb-0728758d29c6",
   "metadata": {},
   "outputs": [],
   "source": []
  },
  {
   "cell_type": "code",
   "execution_count": null,
   "id": "e0f34c34-9235-4283-a5da-a356d8c27fa7",
   "metadata": {},
   "outputs": [],
   "source": []
  },
  {
   "cell_type": "code",
   "execution_count": null,
   "id": "ee5c3a5d-8ac5-496c-b79e-3b0bcc66d61a",
   "metadata": {},
   "outputs": [],
   "source": []
  },
  {
   "cell_type": "markdown",
   "id": "547a5188-f4c8-4b73-a02f-35fd5e9215da",
   "metadata": {},
   "source": [
    "### How to Create Vector in R?\n",
    "\n",
    "Vectors are generally created using the c() function.\n",
    "Since, a vector must have elements of the same type, this function will try and coerce elements to the same type, if they are different.\n",
    "\n",
    "Coercion is from lower to higher types from logical to integer to double to character.\n",
    "\n",
    "https://www.datamentor.io/r-programming/vector/"
   ]
  },
  {
   "cell_type": "markdown",
   "id": "16d7d055-f659-4626-a844-57c9dc848cf1",
   "metadata": {},
   "source": [
    "#\n",
    "## For Loop"
   ]
  },
  {
   "cell_type": "markdown",
   "id": "67f9244d-1824-4504-958b-c4714c88c652",
   "metadata": {},
   "source": [
    "### What Does For Loop Mean?\n",
    "\n",
    "For loop is a programming language conditional iterative statement which is used to check for certain conditions and then repeatedly execute a block of code as long as those conditions are met.\n",
    "\n",
    "https://www.techopedia.com/definition/19415/for-loop"
   ]
  },
  {
   "cell_type": "markdown",
   "id": "b05cbda2-98e8-4df6-ac03-2b320286cac5",
   "metadata": {},
   "source": [
    "### What does a For Loop look like?\n",
    "<p style=\"text-align: left;\">\n",
    "  <img width=\"600\" alt=\"for loop\" src=\"../../../Media/L03-R-for-loop-pic.png\">\n",
    "</p>"
   ]
  },
  {
   "cell_type": "code",
   "execution_count": null,
   "id": "b3e72eea-7e0b-4adc-98d0-4831754a9bca",
   "metadata": {},
   "outputs": [],
   "source": []
  }
 ],
 "metadata": {
  "kernelspec": {
   "display_name": "Python 3.9.9 64-bit",
   "language": "python",
   "name": "python399jvsc74a57bd0b0fa6594d8f4cbf19f97940f81e996739fb7646882a419484c72d19e05852a7e"
  },
  "language_info": {
   "codemirror_mode": {
    "name": "ipython",
    "version": 3
   },
   "file_extension": ".py",
   "mimetype": "text/x-python",
   "name": "python",
   "nbconvert_exporter": "python",
   "pygments_lexer": "ipython3",
   "version": "3.9.10"
  }
 },
 "nbformat": 4,
 "nbformat_minor": 5
}
