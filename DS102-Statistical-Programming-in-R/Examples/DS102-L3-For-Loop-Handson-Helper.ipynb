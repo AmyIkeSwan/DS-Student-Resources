{
 "cells": [
  {
   "cell_type": "markdown",
   "id": "c1cc87ac-4191-44f8-b884-f48f900dfbab",
   "metadata": {},
   "source": [
    "# DS102 L3 Handson Helper"
   ]
  },
  {
   "cell_type": "markdown",
   "id": "6f3cc578-55cb-447f-a23a-33f83c4d5a6b",
   "metadata": {},
   "source": [
    "#\n",
    "## Let's Touch Base and put Certain Concepts into Perspective\n",
    "\n",
    "R-Basics:\n",
    "- Looking at the Big Picture\n",
    "- What is the R Structure?\n",
    "- R Structure Visual\n",
    "\n",
    "Vectors:\n",
    "- The Break Down of Vectors\n",
    "- What is a Vector?\n",
    "- What Types of Vectors are there?\n",
    "- Basic Vector and Indexes\n",
    "- How to Create Vector?\n",
    "\n",
    "Functions:\n",
    "- What are Functions?\n",
    "- How to Create a Function?\n",
    "- What are Formulas and/or Equations?\n",
    "- Basic Arthemtic in R\n",
    "- How to Create a Function using a specific Formula\n",
    "\n",
    "For Loops:\n",
    "- What are For Loops?\n",
    "- Why are For Loops Important\n",
    "- What does a For Loop look like?\n",
    "- How to Create a For Loop\n",
    "\n",
    "### Handson Helper Example for DS102 Lesson 3\n",
    "#"
   ]
  },
  {
   "cell_type": "markdown",
   "id": "82feca64-332f-4f4e-8930-24d172eec2d6",
   "metadata": {},
   "source": [
    "# R-Basics: Looking at the Big Picture"
   ]
  },
  {
   "cell_type": "markdown",
   "id": "c3f63d91-0d5d-472e-8577-85af2524226f",
   "metadata": {},
   "source": [
    "### What is an R structure?\n",
    "\n",
    "R's basic data structures include the vector, list, matrix, data frame, and factors. Some of these structures require that all members be of the same data type (e.g. vectors, matrices) while others permit multiple data types (e.g. lists, data frames). Objects may have attributes, such as name, dimension, and class.\n",
    "\n",
    "Source: \n",
    "https://swcarpentry.github.io/r-novice-inflammation/13-supp-data-structures/"
   ]
  },
  {
   "cell_type": "markdown",
   "id": "67fe8332-bc06-443c-bcb5-0b2b53b823f5",
   "metadata": {},
   "source": [
    "### What makes up the R Structure?\n",
    "<p style=\"text-align: left;\">\n",
    "  <img width=\"600\" alt=\"R Structure\" src=\"../Media/R-L3/r-structures.png\">\n",
    "</p>"
   ]
  },
  {
   "cell_type": "markdown",
   "id": "885a0471-a177-4f4f-b77c-8a121952d234",
   "metadata": {},
   "source": [
    "### What does the R Structure look like?\n",
    "<p style=\"text-align: left;\">\n",
    "  <img width=\"600\" alt=\"R Structure\" src=\"../Media/R-L3/data-structure-in-R.jpeg\">\n",
    "</p>"
   ]
  },
  {
   "cell_type": "markdown",
   "id": "e66ef583-e903-4d21-8a99-e06991a78373",
   "metadata": {},
   "source": [
    "#\n",
    "# Vector: The Break Down of Vectors"
   ]
  },
  {
   "cell_type": "markdown",
   "id": "12893ab1-84ff-4a9a-bb07-52a2d7706cd6",
   "metadata": {},
   "source": [
    "### What is a Vector?\n",
    "\n",
    "Vector is a basic data structure in R. It contains element of the same type. The data types can be logical, integer, double, character, complex or raw.\n",
    "\n",
    "A vector’s type can be checked with the typeof() function.\n",
    "\n",
    "Another important property of a vector is its length. This is the number of elements in the vector and can be checked with the function length().\n",
    "\n",
    "Source:\n",
    "https://www.datamentor.io/r-programming/vector/"
   ]
  },
  {
   "cell_type": "markdown",
   "id": "4945b873-0df3-45be-a5b6-4dc00dfd3090",
   "metadata": {},
   "source": [
    "### What Types of Vectors are there?\n",
    "<p style=\"text-align: left;\">\n",
    "  <img width=\"600\" alt=\"Vector Types\" src=\"../Media/R-L3/all-vectors-in-R.png\">\n",
    "</p>"
   ]
  },
  {
   "cell_type": "markdown",
   "id": "7ce7e31f-808d-4760-9770-4294322d4400",
   "metadata": {},
   "source": [
    "### Basic Vector and Indexes\n",
    "\n",
    "<p style=\"text-align: left;\">\n",
    "  <img width=\"600\" alt=\"Vector Indexes\" src=\"../Media/R-L3/vector-values-indexes.jpeg\">\n",
    "</p>\n"
   ]
  },
  {
   "cell_type": "markdown",
   "id": "547a5188-f4c8-4b73-a02f-35fd5e9215da",
   "metadata": {
    "tags": []
   },
   "source": [
    "### How to Create Vector?\n",
    "\n",
    "Vectors are generally created using the c() function.\n",
    "Since, a vector must have elements of the same type, this function will try and coerce elements to the same type, if they are different.\n",
    "\n",
    "Combine elements into a vector using the c function, eample: x <- c(\"A\", \"B\", \"C\") creates a vector x with three elements. Furthermore, we can extend that vector again using c, e.g. y <- c(x, \"D\") creates a vector y with four elements. \n",
    "\n",
    "Source:\n",
    "https://swcarpentry.github.io/r-novice-inflammation/02-func-R\n",
    "https://www.datamentor.io/r-programming/vector/"
   ]
  },
  {
   "cell_type": "markdown",
   "id": "ec075989-766a-484a-a531-067bc4394c0e",
   "metadata": {},
   "source": [
    "### What is will look like afterwards\n",
    "\n",
    "<p style=\"text-align: left;\">\n",
    "  <img width=\"600\" alt=\"Creating a Vector with c() function\" src=\"../Media/R-L3/r-vector.jpeg\">\n",
    "</p>"
   ]
  },
  {
   "cell_type": "markdown",
   "id": "fc531dfd-bdde-4335-9b76-a5b803c52061",
   "metadata": {},
   "source": [
    "#\n",
    "# Functions:"
   ]
  },
  {
   "cell_type": "markdown",
   "id": "b10f2840-6be9-44fa-830d-3c889a4bc5ef",
   "metadata": {},
   "source": [
    "### What are Functions?"
   ]
  },
  {
   "cell_type": "markdown",
   "id": "c5bd58e2-ac81-47dd-a84f-0561ae3beee2",
   "metadata": {},
   "source": [
    "In R, a function is an object so the R interpreter is able to pass control to the function, along with arguments that may be necessary for the function to accomplish the actions. The function in turn performs its task and returns control to the interpreter as well as any result which may be stored in other objects.\n",
    "\n",
    "Source: \n",
    "https://www.tutorialspoint.com/r/r_functions.htm#:~:text=In%20R%2C%20a%20function%20is,be%20stored%20in%20other%20objects"
   ]
  },
  {
   "cell_type": "markdown",
   "id": "b9bbf9c6-147f-4a55-9a9b-6477e9c219f6",
   "metadata": {},
   "source": [
    "### How to Create a Function?"
   ]
  },
  {
   "cell_type": "markdown",
   "id": "ddaf70ff-cc61-47d4-b75c-d356fc75b7c9",
   "metadata": {},
   "source": [
    "### Syntax for Functions in R\n",
    "<p style=\"text-align: left;\">\n",
    "  <img width=\"600\" alt=\"for loop\" src=\"../Media/R-L3/syntax for function.jpg\">\n",
    "</p>"
   ]
  },
  {
   "cell_type": "markdown",
   "id": "99751c11-037b-4d52-98cf-98163bcd71f1",
   "metadata": {},
   "source": [
    "Here, we can see that the reserved word function is used to declare a function in R.\n",
    "The statements within the curly braces form the body of the function. These braces are optional if the body contains only a single expression.\n",
    "Finally, this function object is given a name by assigning it to a variable, func_name."
   ]
  },
  {
   "cell_type": "markdown",
   "id": "56ba9bf3-d34c-4e2f-82b8-aa8c7553e424",
   "metadata": {},
   "source": [
    "### What are Formulas and/or Equations?"
   ]
  },
  {
   "cell_type": "markdown",
   "id": "fbb57377-0bd1-4611-8330-46caf8580b35",
   "metadata": {},
   "source": []
  },
  {
   "cell_type": "markdown",
   "id": "c11099c0-77b9-4069-a3eb-2b1ebefd1dca",
   "metadata": {},
   "source": [
    "### Basic Arthemtic in R"
   ]
  },
  {
   "cell_type": "code",
   "execution_count": null,
   "id": "24294c9f-2282-474a-b7ce-82b3cc45aef6",
   "metadata": {},
   "outputs": [],
   "source": []
  },
  {
   "cell_type": "markdown",
   "id": "8b5255cf-f782-403e-ac82-d6b4925a17e7",
   "metadata": {},
   "source": [
    "### How to Create a Function using a specific Formula"
   ]
  },
  {
   "cell_type": "code",
   "execution_count": null,
   "id": "e0a8ca55-c6d6-4cb2-90fa-6cb2b3f053e2",
   "metadata": {},
   "outputs": [],
   "source": []
  },
  {
   "cell_type": "markdown",
   "id": "16d7d055-f659-4626-a844-57c9dc848cf1",
   "metadata": {},
   "source": [
    "#\n",
    "## For Loops:"
   ]
  },
  {
   "cell_type": "markdown",
   "id": "67f9244d-1824-4504-958b-c4714c88c652",
   "metadata": {},
   "source": [
    "### What Does For Loop Mean?\n",
    "\n",
    "For loop is a programming language conditional iterative statement which is used to check for certain conditions and then repeatedly execute a block of code as long as those conditions are met.\n",
    "\n",
    "Source:\n",
    "https://www.techopedia.com/definition/19415/for-loop"
   ]
  },
  {
   "cell_type": "markdown",
   "id": "b8efbd1d-d6b1-41c0-ab9f-e03299820ecf",
   "metadata": {},
   "source": [
    "### Why are For Loops Important"
   ]
  },
  {
   "cell_type": "code",
   "execution_count": null,
   "id": "89654c54-3aa5-416f-80d1-44b77cb6dcb6",
   "metadata": {},
   "outputs": [],
   "source": []
  },
  {
   "cell_type": "markdown",
   "id": "b05cbda2-98e8-4df6-ac03-2b320286cac5",
   "metadata": {},
   "source": [
    "### What does a For Loop look like?\n",
    "<p style=\"text-align: left;\">\n",
    "  <img width=\"600\" alt=\"for loop\" src=\"../Media/L03-R-for-loop-pic.png\">\n",
    "</p>"
   ]
  },
  {
   "cell_type": "markdown",
   "id": "087d15b8-db35-44cc-9642-173c68311414",
   "metadata": {},
   "source": [
    "### How to Create a For Loop"
   ]
  },
  {
   "cell_type": "code",
   "execution_count": null,
   "id": "039e146b-a3f5-45ef-92df-bb082b66b0fd",
   "metadata": {},
   "outputs": [],
   "source": []
  },
  {
   "cell_type": "markdown",
   "id": "5c24fa5b-b3b1-4a86-ac0a-64b3c2df23f5",
   "metadata": {},
   "source": [
    "#\n",
    "# Handson Helper Example for DS102 Lesson 3"
   ]
  },
  {
   "cell_type": "markdown",
   "id": "ac812ac3-a9fd-454a-9153-18d60df67281",
   "metadata": {},
   "source": [
    "## Requirements\n",
    "\n",
    "Use the area of a circle example....\n",
    "\n",
    "Premier restaurants and bars are now serving drinks with ice spheres rather than ice cubes to chill the drink. Suppose you work for an ice vendor, and are tasked with measuring the size of manufactured ice spheres. Rather than measure the diameter directly, you weigh each sphere. You consulted with your company's ice scientist, and they gave you the following formula to convert the ice sphere's weight in grams to its diameter in inches (assuming it is weighed at 0 degrees Fahrenheit and is perfectly spherical); d is the sphere's diameter, and w is the sphere's weight.\n",
    "\n",
    "FORMULA\n",
    "\n",
    "---\n",
    "![d equals two divided by two point five four open parentheses w divided by zero point nine two times four thirds times pi close parentheses to one third power.](Media/L03-Exam.png)\n",
    "\n",
    "---\n",
    "\n",
    "Create a function called ```diam()``` that computes the diameter of the sphere from its argument.\n",
    "Create a for loop that will use your ```diam()``` function to compute the diameters of spheres with the following weights in grams: 0.96, 1.51, 2.17, 3.85, 4.45, and 6.02."
   ]
  },
  {
   "cell_type": "code",
   "execution_count": null,
   "id": "8287e0ce-bcf4-47b1-82b3-cea8c7e7d38c",
   "metadata": {},
   "outputs": [],
   "source": []
  }
 ],
 "metadata": {
  "kernelspec": {
   "display_name": "Python 3.9.9 64-bit",
   "language": "python",
   "name": "python399jvsc74a57bd0b0fa6594d8f4cbf19f97940f81e996739fb7646882a419484c72d19e05852a7e"
  },
  "language_info": {
   "codemirror_mode": {
    "name": "ipython",
    "version": 3
   },
   "file_extension": ".py",
   "mimetype": "text/x-python",
   "name": "python",
   "nbconvert_exporter": "python",
   "pygments_lexer": "ipython3",
   "version": "3.9.10"
  }
 },
 "nbformat": 4,
 "nbformat_minor": 5
}
