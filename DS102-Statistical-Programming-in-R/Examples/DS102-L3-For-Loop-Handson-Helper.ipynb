{
 "cells": [
  {
   "cell_type": "markdown",
   "id": "c1cc87ac-4191-44f8-b884-f48f900dfbab",
   "metadata": {},
   "source": [
    "# For Loop Handson Helper"
   ]
  },
  {
   "cell_type": "markdown",
   "id": "16d7d055-f659-4626-a844-57c9dc848cf1",
   "metadata": {},
   "source": [
    "## For Loop"
   ]
  },
  {
   "cell_type": "markdown",
   "id": "67f9244d-1824-4504-958b-c4714c88c652",
   "metadata": {},
   "source": [
    "### What Does For Loop Mean?\n",
    "\n",
    "For loop is a programming language conditional iterative statement which is used to check for certain conditions and then repeatedly execute a block of code as long as those conditions are met.\n",
    "\n",
    "https://www.techopedia.com/definition/19415/for-loop"
   ]
  },
  {
   "cell_type": "code",
   "execution_count": null,
   "id": "03353771-671a-4fd7-bc01-a753d2840650",
   "metadata": {},
   "outputs": [],
   "source": [
    "### What Does a For Loop look like?\n",
    "\n",
    "<p style=\"text-align: left;\">\n",
    "  <img width=\"600\" alt=\"basic probability rules\" src=\"../../../Media/basic-prob-rules.jpg\">\n",
    "</p>"
   ]
  },
  {
   "cell_type": "markdown",
   "id": "12893ab1-84ff-4a9a-bb07-52a2d7706cd6",
   "metadata": {},
   "source": [
    "### What is a Vector?\n",
    "\n",
    "A vector is a basic data structure which plays an important role in R programming.\n",
    "In R, a sequence of elements which share the same data type is known as vector. A vector supports logical, integer, double, character, complex, or raw data type.\n",
    "\n",
    "https://www.javatpoint.com/r-vector#:~:text=A%20vector%20is%20a%20basic,complex%2C%20or%20raw%20data%20type."
   ]
  },
  {
   "cell_type": "code",
   "execution_count": null,
   "id": "3f234dd7-4e56-4bcd-9f93-46cbe9c506b0",
   "metadata": {},
   "outputs": [],
   "source": []
  }
 ],
 "metadata": {
  "kernelspec": {
   "display_name": "Python 3.9.9 64-bit",
   "language": "python",
   "name": "python399jvsc74a57bd0b0fa6594d8f4cbf19f97940f81e996739fb7646882a419484c72d19e05852a7e"
  },
  "language_info": {
   "codemirror_mode": {
    "name": "ipython",
    "version": 3
   },
   "file_extension": ".py",
   "mimetype": "text/x-python",
   "name": "python",
   "nbconvert_exporter": "python",
   "pygments_lexer": "ipython3",
   "version": "3.9.10"
  }
 },
 "nbformat": 4,
 "nbformat_minor": 5
}
