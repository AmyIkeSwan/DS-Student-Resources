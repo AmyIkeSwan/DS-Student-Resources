{
 "cells": [
  {
   "cell_type": "markdown",
   "id": "ae385efa-a828-4cb5-b637-885e0adb015e",
   "metadata": {},
   "source": [
    "## Volume of a Cylinder\n",
    "\n",
    "The volume of a cylinder is expression in the function: $$Volume = pi * (radius)^2 * height$$\n",
    "\n",
    "This reads: The volume of a cylinder is equal to pi times the radius, quantity squared, times the height of the cylinder.\n",
    "\n",
    "Suppose you work for a rubber manufacturing plant, and they are hired to produce rubber cylindrical blocks. The customer has requested only blocks 47 centimeters tall.\n",
    "\n",
    "You are given a list of radii that the people over at R & D believe produce the sturdiest 47 cm tall blocks. You are tasked with reporting the various possible volumes to showcase to the customer before the final block size(s) are chosen."
   ]
  },
  {
   "cell_type": "code",
   "execution_count": 1,
   "id": "3a187e48-5006-4a33-8602-bf7e9a81e38d",
   "metadata": {},
   "outputs": [],
   "source": [
    "## radii list from R & D\n",
    "list = c(5.25, 5.63, 5.77, 5.78, 6.12, 6.68, 6.92, 7.03)"
   ]
  },
  {
   "cell_type": "code",
   "execution_count": 2,
   "id": "32089693-1b7c-4cfe-a794-cceecf4f5272",
   "metadata": {},
   "outputs": [],
   "source": [
    "## go ahead and set height equal to 27, h = 27\n",
    "h = 27"
   ]
  },
  {
   "cell_type": "markdown",
   "id": "ec185a65-d054-4261-aa11-1d38877a79b2",
   "metadata": {},
   "source": [
    "### make the function"
   ]
  },
  {
   "cell_type": "code",
   "execution_count": 5,
   "id": "397da8b7-4b5c-483b-97ea-3e7f7120cea0",
   "metadata": {},
   "outputs": [],
   "source": [
    "## assignt the function a name, and include the arugement of r, for radius\n",
    "CylVol = function(r){pi * (r)^2 * h}"
   ]
  },
  {
   "cell_type": "markdown",
   "id": "f1076070-52d5-4c5f-8682-e124b81a2e12",
   "metadata": {},
   "source": [
    "### For Loop Magic to iterate through our list, getting all volumes at once"
   ]
  },
  {
   "cell_type": "code",
   "execution_count": 6,
   "id": "6ac6a0f8-f03f-4214-b577-c45a87da325a",
   "metadata": {},
   "outputs": [
    {
     "name": "stdout",
     "output_type": "stream",
     "text": [
      "A cylinder with a height of 27 centimeters, and a radius of  5.25  centimeters has a volume of  2337.934  centimeters\n",
      "A cylinder with a height of 27 centimeters, and a radius of  5.63  centimeters has a volume of  2688.626  centimeters\n",
      "A cylinder with a height of 27 centimeters, and a radius of  5.77  centimeters has a volume of  2824.004  centimeters\n",
      "A cylinder with a height of 27 centimeters, and a radius of  5.78  centimeters has a volume of  2833.801  centimeters\n",
      "A cylinder with a height of 27 centimeters, and a radius of  6.12  centimeters has a volume of  3176.995  centimeters\n",
      "A cylinder with a height of 27 centimeters, and a radius of  6.68  centimeters has a volume of  3785.006  centimeters\n",
      "A cylinder with a height of 27 centimeters, and a radius of  6.92  centimeters has a volume of  4061.868  centimeters\n",
      "A cylinder with a height of 27 centimeters, and a radius of  7.03  centimeters has a volume of  4192.029  centimeters\n"
     ]
    }
   ],
   "source": [
    "for (r in list){\n",
    "  d = CylVol(r)\n",
    "  cat(\"A cylinder with a height of 27 centimeters, and a radius of \", r, \" centimeters has a volume of \", d, \" centimeters\\n\")\n",
    "}"
   ]
  },
  {
   "cell_type": "code",
   "execution_count": null,
   "id": "42bbe218-33d8-4e7c-85da-362d2369fa7f",
   "metadata": {},
   "outputs": [],
   "source": []
  }
 ],
 "metadata": {
  "kernelspec": {
   "display_name": "R",
   "language": "R",
   "name": "ir"
  },
  "language_info": {
   "codemirror_mode": "r",
   "file_extension": ".r",
   "mimetype": "text/x-r-source",
   "name": "R",
   "pygments_lexer": "r",
   "version": "4.1.0"
  }
 },
 "nbformat": 4,
 "nbformat_minor": 5
}
