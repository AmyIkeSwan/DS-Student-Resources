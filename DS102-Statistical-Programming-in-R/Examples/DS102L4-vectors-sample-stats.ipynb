{
 "cells": [
  {
   "cell_type": "markdown",
   "id": "d94734f7-0811-46fd-986a-fda6dce1d2ef",
   "metadata": {},
   "source": [
    "### Lesson 4 expands upon the concept of vectors, and introduces the idea of arithmetic functions; along with utilizing sample statistics\n",
    "\n",
    "Recall the discussion on vectors from lesson 4. [Further Reading](https://towardsdatascience.com/a-practical-look-at-vectors-and-your-data-95bde21b37d1)\n",
    "\n",
    "Let's make a basic vector of randomized numbers. Then look at some aggregate, and common functions:"
   ]
  },
  {
   "cell_type": "code",
   "execution_count": 15,
   "id": "ca1d1465-b649-4723-9a55-260ef646fc7b",
   "metadata": {},
   "outputs": [],
   "source": [
    "# Here I am creating a a vector of 15 randomized btween 15 and 515.\n",
    "x = runif(15, min = 15, max = 515)"
   ]
  },
  {
   "cell_type": "code",
   "execution_count": 16,
   "id": "880b9339-2a60-4c76-910b-681ffedf1506",
   "metadata": {},
   "outputs": [
    {
     "data": {
      "text/html": [
       "<style>\n",
       ".list-inline {list-style: none; margin:0; padding: 0}\n",
       ".list-inline>li {display: inline-block}\n",
       ".list-inline>li:not(:last-child)::after {content: \"\\00b7\"; padding: 0 .5ex}\n",
       "</style>\n",
       "<ol class=list-inline><li>293.056121082045</li><li>159.819660694338</li><li>374.532026690431</li><li>69.41612994764</li><li>453.181601697579</li><li>448.323359000497</li><li>366.272607222199</li><li>387.954533086158</li><li>196.433387217112</li><li>76.5877768723294</li><li>442.229911321774</li><li>379.452435052954</li><li>447.317463099025</li><li>249.307125443593</li><li>506.337387473322</li></ol>\n"
      ],
      "text/latex": [
       "\\begin{enumerate*}\n",
       "\\item 293.056121082045\n",
       "\\item 159.819660694338\n",
       "\\item 374.532026690431\n",
       "\\item 69.41612994764\n",
       "\\item 453.181601697579\n",
       "\\item 448.323359000497\n",
       "\\item 366.272607222199\n",
       "\\item 387.954533086158\n",
       "\\item 196.433387217112\n",
       "\\item 76.5877768723294\n",
       "\\item 442.229911321774\n",
       "\\item 379.452435052954\n",
       "\\item 447.317463099025\n",
       "\\item 249.307125443593\n",
       "\\item 506.337387473322\n",
       "\\end{enumerate*}\n"
      ],
      "text/markdown": [
       "1. 293.056121082045\n",
       "2. 159.819660694338\n",
       "3. 374.532026690431\n",
       "4. 69.41612994764\n",
       "5. 453.181601697579\n",
       "6. 448.323359000497\n",
       "7. 366.272607222199\n",
       "8. 387.954533086158\n",
       "9. 196.433387217112\n",
       "10. 76.5877768723294\n",
       "11. 442.229911321774\n",
       "12. 379.452435052954\n",
       "13. 447.317463099025\n",
       "14. 249.307125443593\n",
       "15. 506.337387473322\n",
       "\n",
       "\n"
      ],
      "text/plain": [
       " [1] 293.05612 159.81966 374.53203  69.41613 453.18160 448.32336 366.27261\n",
       " [8] 387.95453 196.43339  76.58778 442.22991 379.45244 447.31746 249.30713\n",
       "[15] 506.33739"
      ]
     },
     "metadata": {},
     "output_type": "display_data"
    }
   ],
   "source": [
    "View(x)"
   ]
  },
  {
   "cell_type": "code",
   "execution_count": 17,
   "id": "690569f0-f55b-4b03-8efe-3927143c81d6",
   "metadata": {},
   "outputs": [],
   "source": [
    "# round to zero decimals\n",
    "example = round(x)"
   ]
  },
  {
   "cell_type": "code",
   "execution_count": 18,
   "id": "d7aa5a29-9353-4e80-bb39-dea3cf6495ca",
   "metadata": {},
   "outputs": [
    {
     "data": {
      "text/html": [
       "<style>\n",
       ".list-inline {list-style: none; margin:0; padding: 0}\n",
       ".list-inline>li {display: inline-block}\n",
       ".list-inline>li:not(:last-child)::after {content: \"\\00b7\"; padding: 0 .5ex}\n",
       "</style>\n",
       "<ol class=list-inline><li>293</li><li>160</li><li>375</li><li>69</li><li>453</li><li>448</li></ol>\n"
      ],
      "text/latex": [
       "\\begin{enumerate*}\n",
       "\\item 293\n",
       "\\item 160\n",
       "\\item 375\n",
       "\\item 69\n",
       "\\item 453\n",
       "\\item 448\n",
       "\\end{enumerate*}\n"
      ],
      "text/markdown": [
       "1. 293\n",
       "2. 160\n",
       "3. 375\n",
       "4. 69\n",
       "5. 453\n",
       "6. 448\n",
       "\n",
       "\n"
      ],
      "text/plain": [
       "[1] 293 160 375  69 453 448"
      ]
     },
     "metadata": {},
     "output_type": "display_data"
    }
   ],
   "source": [
    "head(example)"
   ]
  },
  {
   "cell_type": "code",
   "execution_count": 19,
   "id": "19566338-3bed-4bb1-a274-6e2616a6cdd5",
   "metadata": {},
   "outputs": [
    {
     "data": {
      "text/html": [
       "506"
      ],
      "text/latex": [
       "506"
      ],
      "text/markdown": [
       "506"
      ],
      "text/plain": [
       "[1] 506"
      ]
     },
     "metadata": {},
     "output_type": "display_data"
    }
   ],
   "source": [
    "# largest element in vector\n",
    "max(example)"
   ]
  },
  {
   "cell_type": "code",
   "execution_count": 20,
   "id": "dbb32f7b-fb45-40ec-acbc-9daa385efc2e",
   "metadata": {},
   "outputs": [
    {
     "data": {
      "text/html": [
       "69"
      ],
      "text/latex": [
       "69"
      ],
      "text/markdown": [
       "69"
      ],
      "text/plain": [
       "[1] 69"
      ]
     },
     "metadata": {},
     "output_type": "display_data"
    }
   ],
   "source": [
    "# smallest element\n",
    "min(example)"
   ]
  },
  {
   "cell_type": "code",
   "execution_count": null,
   "id": "b2baac41-6b05-42a3-8e40-0fb455244fa1",
   "metadata": {},
   "outputs": [],
   "source": [
    "# count of elements in vector"
   ]
  },
  {
   "cell_type": "code",
   "execution_count": 21,
   "id": "e0058920-8656-4d9b-908c-6420d7f1bafc",
   "metadata": {},
   "outputs": [
    {
     "data": {
      "text/html": [
       "15"
      ],
      "text/latex": [
       "15"
      ],
      "text/markdown": [
       "15"
      ],
      "text/plain": [
       "[1] 15"
      ]
     },
     "metadata": {},
     "output_type": "display_data"
    }
   ],
   "source": [
    "length(example)"
   ]
  },
  {
   "cell_type": "code",
   "execution_count": 22,
   "id": "8ea71beb-3d06-4a38-9053-f656167b4530",
   "metadata": {},
   "outputs": [
    {
     "data": {
      "text/html": [
       "<style>\n",
       ".list-inline {list-style: none; margin:0; padding: 0}\n",
       ".list-inline>li {display: inline-block}\n",
       ".list-inline>li:not(:last-child)::after {content: \"\\00b7\"; padding: 0 .5ex}\n",
       "</style>\n",
       "<ol class=list-inline><li>69</li><li>77</li><li>160</li><li>196</li><li>249</li><li>293</li><li>366</li><li>375</li><li>379</li><li>388</li><li>442</li><li>447</li><li>448</li><li>453</li><li>506</li></ol>\n"
      ],
      "text/latex": [
       "\\begin{enumerate*}\n",
       "\\item 69\n",
       "\\item 77\n",
       "\\item 160\n",
       "\\item 196\n",
       "\\item 249\n",
       "\\item 293\n",
       "\\item 366\n",
       "\\item 375\n",
       "\\item 379\n",
       "\\item 388\n",
       "\\item 442\n",
       "\\item 447\n",
       "\\item 448\n",
       "\\item 453\n",
       "\\item 506\n",
       "\\end{enumerate*}\n"
      ],
      "text/markdown": [
       "1. 69\n",
       "2. 77\n",
       "3. 160\n",
       "4. 196\n",
       "5. 249\n",
       "6. 293\n",
       "7. 366\n",
       "8. 375\n",
       "9. 379\n",
       "10. 388\n",
       "11. 442\n",
       "12. 447\n",
       "13. 448\n",
       "14. 453\n",
       "15. 506\n",
       "\n",
       "\n"
      ],
      "text/plain": [
       " [1]  69  77 160 196 249 293 366 375 379 388 442 447 448 453 506"
      ]
     },
     "metadata": {},
     "output_type": "display_data"
    }
   ],
   "source": [
    "# arranged from smallest to largest\n",
    "sort(example)"
   ]
  },
  {
   "cell_type": "code",
   "execution_count": null,
   "id": "6bffc869-207e-4aa2-b834-b73db70adfc6",
   "metadata": {},
   "outputs": [],
   "source": []
  },
  {
   "cell_type": "code",
   "execution_count": null,
   "id": "79cdf5bc-a5f8-44ed-8c10-3a1d1e8b3703",
   "metadata": {},
   "outputs": [],
   "source": []
  },
  {
   "cell_type": "code",
   "execution_count": null,
   "id": "dc997fda-a496-4c36-a768-06e95eb8f6b1",
   "metadata": {},
   "outputs": [],
   "source": []
  },
  {
   "cell_type": "code",
   "execution_count": null,
   "id": "fcdcee66-6272-45fb-b92b-559728da1c53",
   "metadata": {},
   "outputs": [],
   "source": []
  },
  {
   "cell_type": "code",
   "execution_count": null,
   "id": "d07194fd-293b-492f-b7b7-d54451779785",
   "metadata": {},
   "outputs": [],
   "source": []
  },
  {
   "cell_type": "code",
   "execution_count": null,
   "id": "c87888a3-6783-4ca4-90c0-4699eb3fbadc",
   "metadata": {},
   "outputs": [],
   "source": []
  },
  {
   "cell_type": "code",
   "execution_count": null,
   "id": "938b0310-88cb-4d5b-80c9-b5e1ee77c6f8",
   "metadata": {},
   "outputs": [],
   "source": []
  },
  {
   "cell_type": "code",
   "execution_count": 1,
   "id": "00fd5866-5f76-4a97-93a6-c6dd2947c84b",
   "metadata": {},
   "outputs": [],
   "source": [
    "library(datasets)"
   ]
  },
  {
   "cell_type": "code",
   "execution_count": 4,
   "id": "b73b2202-e694-4328-abae-1bc7051789a5",
   "metadata": {},
   "outputs": [
    {
     "data": {
      "text/html": [
       "A Time Series:<br><style>\n",
       ".list-inline {list-style: none; margin:0; padding: 0}\n",
       ".list-inline>li {display: inline-block}\n",
       ".list-inline>li:not(:last-child)::after {content: \"\\00b7\"; padding: 0 .5ex}\n",
       "</style>\n",
       "<ol class=list-inline><li>412</li><li>480</li><li>683</li><li>1052</li><li>1385</li><li>1418</li><li>1634</li><li>2178</li><li>3362</li><li>5948</li><li>6109</li><li>5981</li><li>6753</li><li>8003</li><li>10566</li><li>12528</li><li>14760</li><li>16769</li><li>19819</li><li>22362</li><li>25340</li><li>25343</li><li>29269</li><li>30514</li></ol>\n"
      ],
      "text/latex": [
       "A Time Series:\\\\\\begin{enumerate*}\n",
       "\\item 412\n",
       "\\item 480\n",
       "\\item 683\n",
       "\\item 1052\n",
       "\\item 1385\n",
       "\\item 1418\n",
       "\\item 1634\n",
       "\\item 2178\n",
       "\\item 3362\n",
       "\\item 5948\n",
       "\\item 6109\n",
       "\\item 5981\n",
       "\\item 6753\n",
       "\\item 8003\n",
       "\\item 10566\n",
       "\\item 12528\n",
       "\\item 14760\n",
       "\\item 16769\n",
       "\\item 19819\n",
       "\\item 22362\n",
       "\\item 25340\n",
       "\\item 25343\n",
       "\\item 29269\n",
       "\\item 30514\n",
       "\\end{enumerate*}\n"
      ],
      "text/markdown": [
       "A Time Series:  \n",
       "1. 412\n",
       "2. 480\n",
       "3. 683\n",
       "4. 1052\n",
       "5. 1385\n",
       "6. 1418\n",
       "7. 1634\n",
       "8. 2178\n",
       "9. 3362\n",
       "10. 5948\n",
       "11. 6109\n",
       "12. 5981\n",
       "13. 6753\n",
       "14. 8003\n",
       "15. 10566\n",
       "16. 12528\n",
       "17. 14760\n",
       "18. 16769\n",
       "19. 19819\n",
       "20. 22362\n",
       "21. 25340\n",
       "22. 25343\n",
       "23. 29269\n",
       "24. 30514\n",
       "\n",
       "\n"
      ],
      "text/plain": [
       "A Time Series:\n",
       " [1]   412   480   683  1052  1385  1418  1634  2178  3362  5948  6109  5981\n",
       "[13]  6753  8003 10566 12528 14760 16769 19819 22362 25340 25343 29269 30514"
      ]
     },
     "metadata": {},
     "output_type": "display_data"
    }
   ],
   "source": [
    "# Let's look at a stock dataset\n",
    "airmiles"
   ]
  },
  {
   "cell_type": "markdown",
   "id": "c2dd5430-b3b0-427b-9801-c218c519f013",
   "metadata": {},
   "source": [
    "##### The revenue passenger miles flown by commercial airlines in the United States for each year from 1937 to 1960."
   ]
  },
  {
   "cell_type": "code",
   "execution_count": 7,
   "id": "27e30cb9-3159-4715-a688-a53ad139039e",
   "metadata": {},
   "outputs": [
    {
     "data": {
      "text/html": [
       "30514"
      ],
      "text/latex": [
       "30514"
      ],
      "text/markdown": [
       "30514"
      ],
      "text/plain": [
       "[1] 30514"
      ]
     },
     "metadata": {},
     "output_type": "display_data"
    }
   ],
   "source": [
    "# maximum\n",
    "max(airmiles)"
   ]
  },
  {
   "cell_type": "code",
   "execution_count": 8,
   "id": "e42bf682-fae4-47cd-80ca-07b0f7dfaa4a",
   "metadata": {},
   "outputs": [
    {
     "data": {
      "text/html": [
       "412"
      ],
      "text/latex": [
       "412"
      ],
      "text/markdown": [
       "412"
      ],
      "text/plain": [
       "[1] 412"
      ]
     },
     "metadata": {},
     "output_type": "display_data"
    }
   ],
   "source": [
    "# minimum\n",
    "min(airmiles)"
   ]
  },
  {
   "cell_type": "code",
   "execution_count": null,
   "id": "a4e8ff0a-b134-4b11-a63e-ead337dacbaf",
   "metadata": {},
   "outputs": [],
   "source": []
  }
 ],
 "metadata": {
  "kernelspec": {
   "display_name": "R",
   "language": "R",
   "name": "ir"
  },
  "language_info": {
   "codemirror_mode": "r",
   "file_extension": ".r",
   "mimetype": "text/x-r-source",
   "name": "R",
   "pygments_lexer": "r",
   "version": "4.1.0"
  }
 },
 "nbformat": 4,
 "nbformat_minor": 5
}
