{
 "cells": [
  {
   "cell_type": "code",
   "execution_count": 2,
   "id": "9d58e042-ddbd-4fa6-a5ca-d9af4ea6a3d2",
   "metadata": {},
   "outputs": [],
   "source": [
    "# DSO 109 FINAL PROJECT ADJACENT \n",
    "#make a weather app, if, else for loops, make it sassy\n",
    "#do temp and weather pattern\n"
   ]
  },
  {
   "cell_type": "code",
   "execution_count": 3,
   "id": "d9697bf8-1250-45fc-b833-f1221f84df52",
   "metadata": {},
   "outputs": [
    {
     "name": "stdin",
     "output_type": "stream",
     "text": [
      "\n",
      "Welcome! This is the main menu:\n",
      "====================\n",
      "1. List the tasks\n",
      "2. Add a task\n",
      "3. Remove a task\n",
      "4. Mark task complete\n",
      "5. Quit\n",
      "\n",
      "What can I help you with today?  5\n"
     ]
    },
    {
     "name": "stdout",
     "output_type": "stream",
     "text": [
      "Goodbye!\n"
     ]
    }
   ],
   "source": [
    "tasks = [\n",
    "    {'name' : 'Write email to Jan', 'completed' : True},\n",
    "    {'name' : 'Sweep front porch', 'completed' : True},\n",
    "    {'name' : 'Call mom', 'completed' : False},\n",
    "    {'name' : 'task_text', 'completed': False}\n",
    "]\n",
    "\n",
    "def list_tasks():\n",
    "    for index, task in enumerate(tasks):\n",
    "        print(str.format('{}: {} (Completed: {})', index, task['name'], task['completed']))\n",
    "\n",
    "\n",
    "def add_task():\n",
    "    task_text = input('Please add a task: ')\n",
    "    new_task= {'name': task_text, 'completed': False}\n",
    "    tasks.append(new_task)\n",
    "    \n",
    "def remove_task():\n",
    "    list_tasks()\n",
    "    remove_task= int(input('What task do you want to remove?'))\n",
    "    tasks.remove(tasks[remove_task])\n",
    "\n",
    "def complete_task():\n",
    "    list_tasks()\n",
    "    comp_task=int(input(\"Which task has been completed?\"))\n",
    "    tasks[comp_task]['completed']= True\n",
    "\n",
    "\n",
    "    \n",
    "    \n",
    "menu_text = \"\"\"\n",
    "Welcome! This is the main menu:\n",
    "====================\n",
    "1. List the tasks\n",
    "2. Add a task\n",
    "3. Remove a task\n",
    "4. Mark task complete\n",
    "5. Quit\n",
    "\n",
    "What can I help you with today? \"\"\"\n",
    "\n",
    "program_is_running = True\n",
    "\n",
    "while program_is_running:\n",
    "    decision = input(menu_text)\n",
    "    if decision == '1':\n",
    "        list_tasks()\n",
    "    elif decision == '2':\n",
    "        add_task()\n",
    "    elif decision== '3':\n",
    "        remove_task()\n",
    "    elif decision== '4':\n",
    "        complete_task()\n",
    "\n",
    "\n",
    "    elif decision == '5':\n",
    "        program_is_running = False\n",
    "        print(\"Goodbye!\")\n",
    "    else:\n",
    "        print('please choose a valid option')"
   ]
  },
  {
   "cell_type": "code",
   "execution_count": 9,
   "id": "1391dc0f-c099-4dd5-8550-6230714f5075",
   "metadata": {},
   "outputs": [
    {
     "ename": "SyntaxError",
     "evalue": "unexpected EOF while parsing (Temp/ipykernel_16784/990634463.py, line 5)",
     "output_type": "error",
     "traceback": [
      "\u001b[1;36m  File \u001b[1;32m\"C:\\Users\\latri\\AppData\\Local\\Temp/ipykernel_16784/990634463.py\"\u001b[1;36m, line \u001b[1;32m5\u001b[0m\n\u001b[1;33m    print(str.format('What is the temperature today?')\u001b[0m\n\u001b[1;37m                                                      ^\u001b[0m\n\u001b[1;31mSyntaxError\u001b[0m\u001b[1;31m:\u001b[0m unexpected EOF while parsing\n"
     ]
    }
   ],
   "source": [
    "\n",
    "def txt():\n",
    "    \"\"\"this is where they input the number temp for their area\"\"\"\n",
    "    for index, temperature in enumerate(tasks):\n",
    "        print(str.format('What is the temperature today?')\n"
   ]
  },
  {
   "cell_type": "code",
   "execution_count": 13,
   "id": "d2d47970-1c7d-4b1c-afca-07bb57732129",
   "metadata": {},
   "outputs": [],
   "source": [
    "temperatures=list(range(-100,100))"
   ]
  },
  {
   "cell_type": "code",
   "execution_count": 18,
   "id": "716b05d7-9014-45a0-9243-5b5ce9ad892f",
   "metadata": {},
   "outputs": [
    {
     "name": "stdin",
     "output_type": "stream",
     "text": [
      "What is the temperature today? 44\n"
     ]
    },
    {
     "ename": "TypeError",
     "evalue": "remove_task() takes 0 positional arguments but 1 was given",
     "output_type": "error",
     "traceback": [
      "\u001b[1;31m---------------------------------------------------------------------------\u001b[0m",
      "\u001b[1;31mTypeError\u001b[0m                                 Traceback (most recent call last)",
      "\u001b[1;32m~\\AppData\\Local\\Temp/ipykernel_16784/2614596805.py\u001b[0m in \u001b[0;36m<module>\u001b[1;34m\u001b[0m\n\u001b[0;32m      8\u001b[0m         \u001b[0mprint\u001b[0m\u001b[1;33m(\u001b[0m\u001b[1;34m\"Oof, it's a chilly one\"\u001b[0m\u001b[1;33m)\u001b[0m\u001b[1;33m\u001b[0m\u001b[1;33m\u001b[0m\u001b[0m\n\u001b[0;32m      9\u001b[0m     \u001b[1;32melif\u001b[0m \u001b[0mtemp\u001b[0m \u001b[1;33m<=\u001b[0m \u001b[1;36m50\u001b[0m\u001b[1;33m:\u001b[0m\u001b[1;33m\u001b[0m\u001b[1;33m\u001b[0m\u001b[0m\n\u001b[1;32m---> 10\u001b[1;33m         \u001b[0mremove_task\u001b[0m\u001b[1;33m(\u001b[0m\u001b[1;34m\"Tis cold\"\u001b[0m\u001b[1;33m)\u001b[0m\u001b[1;33m\u001b[0m\u001b[1;33m\u001b[0m\u001b[0m\n\u001b[0m\u001b[0;32m     11\u001b[0m     \u001b[1;32melif\u001b[0m \u001b[0mtemp\u001b[0m \u001b[1;33m<=\u001b[0m\u001b[1;36m77\u001b[0m\u001b[1;33m:\u001b[0m\u001b[1;33m\u001b[0m\u001b[1;33m\u001b[0m\u001b[0m\n\u001b[0;32m     12\u001b[0m         \u001b[0mprint\u001b[0m\u001b[1;33m(\u001b[0m\u001b[1;34m\"Well well well, must be nice having a perfect day\"\u001b[0m\u001b[1;33m)\u001b[0m\u001b[1;33m\u001b[0m\u001b[1;33m\u001b[0m\u001b[0m\n",
      "\u001b[1;31mTypeError\u001b[0m: remove_task() takes 0 positional arguments but 1 was given"
     ]
    }
   ],
   "source": [
    "temperature=list(range(-100,180))\n",
    "ON = True\n",
    "while ON:\n",
    "    temp=int(input(\"What is the temperature today?\"))\n",
    "    if temp <= 0:\n",
    "        print(\"Do you live in the arctic??\")\n",
    "    elif temp <=20:\n",
    "        print(\"Oof, it's a chilly one\")\n",
    "    elif temp <= 50:\n",
    "        print(\"Tis cold\")\n",
    "    elif temp <=77:\n",
    "        print(\"Well well well, must be nice having a perfect day\")\n",
    "    elif temp <=130:\n",
    "        print(\"Good luck today! That's too hot!\")\n",
    "    else:\n",
    "        print(\"Now you know that wasn't right, pick a real option!\")"
   ]
  },
  {
   "cell_type": "code",
   "execution_count": null,
   "id": "e317fcbd-f926-4b3d-b741-d1292a7a9c9e",
   "metadata": {},
   "outputs": [],
   "source": []
  }
 ],
 "metadata": {
  "kernelspec": {
   "display_name": "Python 3 (ipykernel)",
   "language": "python",
   "name": "python3"
  },
  "language_info": {
   "codemirror_mode": {
    "name": "ipython",
    "version": 3
   },
   "file_extension": ".py",
   "mimetype": "text/x-python",
   "name": "python",
   "nbconvert_exporter": "python",
   "pygments_lexer": "ipython3",
   "version": "3.9.7"
  }
 },
 "nbformat": 4,
 "nbformat_minor": 5
}
