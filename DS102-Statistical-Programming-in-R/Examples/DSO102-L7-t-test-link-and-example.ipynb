{
 "cells": [
  {
   "cell_type": "markdown",
   "id": "81f81cd9-ecb6-4794-a958-06108540d4cc",
   "metadata": {},
   "source": [
    "# In progress - T test example \n",
    "#### By Melissa Gonzalez and Marcy Misner \n",
    "--- \n",
    "Below is a link which explains when to use a tilde and commas in different instances. There are examples of both in current curriculum, but it doesn't explain the difference. This is the [link](http://www.sthda.com/english/wiki/paired-samples-t-test-in-r#:~:text=The%20paired%20samples%20t%2Dtest,t%2Dtest%20using%20R%20software.&text=Compute%20the%20mean%20(m)%20and,standard%20deviation%20(s)%20of%20d) "
   ]
  },
  {
   "cell_type": "markdown",
   "id": "35af9165-20d6-4504-bcba-b1fd55116c58",
   "metadata": {},
   "source": [
    "![A screenshot of t test examples to illustrate when to use tilde or commas.](../Media/t-test-examples.png)\n",
    "\n"
   ]
  },
  {
   "cell_type": "markdown",
   "id": "0c01484c-05d9-40b8-8d67-9b21e96d9cc1",
   "metadata": {},
   "source": [
    "#### Example with nhtemp data frame using a tilde in a paired t test. \n",
    "+ First, we're going to create a data frame using a built-in dataset. "
   ]
  },
  {
   "cell_type": "code",
   "execution_count": 3,
   "id": "530f7da1-00d9-4238-8d6b-a86182ae7808",
   "metadata": {},
   "outputs": [
    {
     "data": {
      "text/html": [
       "<table class=\"dataframe\">\n",
       "<caption>A data.frame: 6 × 2</caption>\n",
       "<thead>\n",
       "\t<tr><th></th><th scope=col>first30</th><th scope=col>last30</th></tr>\n",
       "\t<tr><th></th><th scope=col>&lt;dbl&gt;</th><th scope=col>&lt;dbl&gt;</th></tr>\n",
       "</thead>\n",
       "<tbody>\n",
       "\t<tr><th scope=row>1</th><td>49.9</td><td>51.0</td></tr>\n",
       "\t<tr><th scope=row>2</th><td>52.3</td><td>50.6</td></tr>\n",
       "\t<tr><th scope=row>3</th><td>49.4</td><td>51.7</td></tr>\n",
       "\t<tr><th scope=row>4</th><td>51.1</td><td>51.5</td></tr>\n",
       "\t<tr><th scope=row>5</th><td>49.4</td><td>52.1</td></tr>\n",
       "\t<tr><th scope=row>6</th><td>47.9</td><td>51.3</td></tr>\n",
       "</tbody>\n",
       "</table>\n"
      ],
      "text/latex": [
       "A data.frame: 6 × 2\n",
       "\\begin{tabular}{r|ll}\n",
       "  & first30 & last30\\\\\n",
       "  & <dbl> & <dbl>\\\\\n",
       "\\hline\n",
       "\t1 & 49.9 & 51.0\\\\\n",
       "\t2 & 52.3 & 50.6\\\\\n",
       "\t3 & 49.4 & 51.7\\\\\n",
       "\t4 & 51.1 & 51.5\\\\\n",
       "\t5 & 49.4 & 52.1\\\\\n",
       "\t6 & 47.9 & 51.3\\\\\n",
       "\\end{tabular}\n"
      ],
      "text/markdown": [
       "\n",
       "A data.frame: 6 × 2\n",
       "\n",
       "| <!--/--> | first30 &lt;dbl&gt; | last30 &lt;dbl&gt; |\n",
       "|---|---|---|\n",
       "| 1 | 49.9 | 51.0 |\n",
       "| 2 | 52.3 | 50.6 |\n",
       "| 3 | 49.4 | 51.7 |\n",
       "| 4 | 51.1 | 51.5 |\n",
       "| 5 | 49.4 | 52.1 |\n",
       "| 6 | 47.9 | 51.3 |\n",
       "\n"
      ],
      "text/plain": [
       "  first30 last30\n",
       "1 49.9    51.0  \n",
       "2 52.3    50.6  \n",
       "3 49.4    51.7  \n",
       "4 51.1    51.5  \n",
       "5 49.4    52.1  \n",
       "6 47.9    51.3  "
      ]
     },
     "metadata": {},
     "output_type": "display_data"
    }
   ],
   "source": [
    "first30 <- nhtemp[1:30]\n",
    "last30 <- nhtemp[31:60]\n",
    "\n",
    "temps <- data.frame(first30, last30)\n",
    "head(temps)"
   ]
  },
  {
   "cell_type": "markdown",
   "id": "3af0bfd3-a312-4e46-8da2-2ee9265aeff9",
   "metadata": {},
   "source": [
    "+ Next we'll run a paired t test using the two columns inside this data frame."
   ]
  },
  {
   "cell_type": "code",
   "execution_count": 5,
   "id": "dc59c813-dfcd-453d-93f3-6fad606a58eb",
   "metadata": {},
   "outputs": [
    {
     "ename": "ERROR",
     "evalue": "Error in t.test.formula(first30 ~ last30, data = temps, paired = TRUE): grouping factor must have exactly 2 levels\n",
     "output_type": "error",
     "traceback": [
      "Error in t.test.formula(first30 ~ last30, data = temps, paired = TRUE): grouping factor must have exactly 2 levels\nTraceback:\n",
      "1. t.test(first30 ~ last30, data = temps, paired = TRUE)",
      "2. t.test.formula(first30 ~ last30, data = temps, paired = TRUE)",
      "3. stop(\"grouping factor must have exactly 2 levels\")"
     ]
    }
   ],
   "source": [
    "tempsT <- t.test(first30~last30, data=temps, paired=TRUE)\n",
    "tempsT"
   ]
  },
  {
   "cell_type": "code",
   "execution_count": 6,
   "id": "9168448f-a91e-4b1f-bed8-51ce8299bd82",
   "metadata": {},
   "outputs": [
    {
     "data": {
      "text/html": [
       "A Time Series:<br><style>\n",
       ".list-inline {list-style: none; margin:0; padding: 0}\n",
       ".list-inline>li {display: inline-block}\n",
       ".list-inline>li:not(:last-child)::after {content: \"\\00b7\"; padding: 0 .5ex}\n",
       "</style>\n",
       "<ol class=list-inline><li>49.9</li><li>52.3</li><li>49.4</li><li>51.1</li><li>49.4</li><li>47.9</li><li>49.8</li><li>50.9</li><li>49.3</li><li>51.9</li><li>50.8</li><li>49.6</li><li>49.3</li><li>50.6</li><li>48.4</li><li>50.7</li><li>50.9</li><li>50.6</li><li>51.5</li><li>52.8</li><li>51.8</li><li>51.1</li><li>49.8</li><li>50.2</li><li>50.4</li><li>51.6</li><li>51.8</li><li>50.9</li><li>48.8</li><li>51.7</li><li>51</li><li>50.6</li><li>51.7</li><li>51.5</li><li>52.1</li><li>51.3</li><li>51</li><li>54</li><li>51.4</li><li>52.7</li><li>53.1</li><li>54.6</li><li>52</li><li>52</li><li>50.9</li><li>52.6</li><li>50.2</li><li>52.6</li><li>51.6</li><li>51.9</li><li>50.5</li><li>50.9</li><li>51.7</li><li>51.4</li><li>51.7</li><li>50.8</li><li>51.9</li><li>51.8</li><li>51.9</li><li>53</li></ol>\n"
      ],
      "text/latex": [
       "A Time Series:\\\\\\begin{enumerate*}\n",
       "\\item 49.9\n",
       "\\item 52.3\n",
       "\\item 49.4\n",
       "\\item 51.1\n",
       "\\item 49.4\n",
       "\\item 47.9\n",
       "\\item 49.8\n",
       "\\item 50.9\n",
       "\\item 49.3\n",
       "\\item 51.9\n",
       "\\item 50.8\n",
       "\\item 49.6\n",
       "\\item 49.3\n",
       "\\item 50.6\n",
       "\\item 48.4\n",
       "\\item 50.7\n",
       "\\item 50.9\n",
       "\\item 50.6\n",
       "\\item 51.5\n",
       "\\item 52.8\n",
       "\\item 51.8\n",
       "\\item 51.1\n",
       "\\item 49.8\n",
       "\\item 50.2\n",
       "\\item 50.4\n",
       "\\item 51.6\n",
       "\\item 51.8\n",
       "\\item 50.9\n",
       "\\item 48.8\n",
       "\\item 51.7\n",
       "\\item 51\n",
       "\\item 50.6\n",
       "\\item 51.7\n",
       "\\item 51.5\n",
       "\\item 52.1\n",
       "\\item 51.3\n",
       "\\item 51\n",
       "\\item 54\n",
       "\\item 51.4\n",
       "\\item 52.7\n",
       "\\item 53.1\n",
       "\\item 54.6\n",
       "\\item 52\n",
       "\\item 52\n",
       "\\item 50.9\n",
       "\\item 52.6\n",
       "\\item 50.2\n",
       "\\item 52.6\n",
       "\\item 51.6\n",
       "\\item 51.9\n",
       "\\item 50.5\n",
       "\\item 50.9\n",
       "\\item 51.7\n",
       "\\item 51.4\n",
       "\\item 51.7\n",
       "\\item 50.8\n",
       "\\item 51.9\n",
       "\\item 51.8\n",
       "\\item 51.9\n",
       "\\item 53\n",
       "\\end{enumerate*}\n"
      ],
      "text/markdown": [
       "A Time Series:  \n",
       "1. 49.9\n",
       "2. 52.3\n",
       "3. 49.4\n",
       "4. 51.1\n",
       "5. 49.4\n",
       "6. 47.9\n",
       "7. 49.8\n",
       "8. 50.9\n",
       "9. 49.3\n",
       "10. 51.9\n",
       "11. 50.8\n",
       "12. 49.6\n",
       "13. 49.3\n",
       "14. 50.6\n",
       "15. 48.4\n",
       "16. 50.7\n",
       "17. 50.9\n",
       "18. 50.6\n",
       "19. 51.5\n",
       "20. 52.8\n",
       "21. 51.8\n",
       "22. 51.1\n",
       "23. 49.8\n",
       "24. 50.2\n",
       "25. 50.4\n",
       "26. 51.6\n",
       "27. 51.8\n",
       "28. 50.9\n",
       "29. 48.8\n",
       "30. 51.7\n",
       "31. 51\n",
       "32. 50.6\n",
       "33. 51.7\n",
       "34. 51.5\n",
       "35. 52.1\n",
       "36. 51.3\n",
       "37. 51\n",
       "38. 54\n",
       "39. 51.4\n",
       "40. 52.7\n",
       "41. 53.1\n",
       "42. 54.6\n",
       "43. 52\n",
       "44. 52\n",
       "45. 50.9\n",
       "46. 52.6\n",
       "47. 50.2\n",
       "48. 52.6\n",
       "49. 51.6\n",
       "50. 51.9\n",
       "51. 50.5\n",
       "52. 50.9\n",
       "53. 51.7\n",
       "54. 51.4\n",
       "55. 51.7\n",
       "56. 50.8\n",
       "57. 51.9\n",
       "58. 51.8\n",
       "59. 51.9\n",
       "60. 53\n",
       "\n",
       "\n"
      ],
      "text/plain": [
       "A Time Series:\n",
       " [1] 49.9 52.3 49.4 51.1 49.4 47.9 49.8 50.9 49.3 51.9 50.8 49.6 49.3 50.6 48.4\n",
       "[16] 50.7 50.9 50.6 51.5 52.8 51.8 51.1 49.8 50.2 50.4 51.6 51.8 50.9 48.8 51.7\n",
       "[31] 51.0 50.6 51.7 51.5 52.1 51.3 51.0 54.0 51.4 52.7 53.1 54.6 52.0 52.0 50.9\n",
       "[46] 52.6 50.2 52.6 51.6 51.9 50.5 50.9 51.7 51.4 51.7 50.8 51.9 51.8 51.9 53.0"
      ]
     },
     "metadata": {},
     "output_type": "display_data"
    }
   ],
   "source": [
    "nhtemp"
   ]
  },
  {
   "cell_type": "code",
   "execution_count": null,
   "id": "8103db31-1e75-4d83-b6bc-8d344d7b2780",
   "metadata": {},
   "outputs": [],
   "source": []
  }
 ],
 "metadata": {
  "kernelspec": {
   "display_name": "R",
   "language": "R",
   "name": "ir"
  },
  "language_info": {
   "codemirror_mode": "r",
   "file_extension": ".r",
   "mimetype": "text/x-r-source",
   "name": "R",
   "pygments_lexer": "r",
   "version": "4.1.1"
  }
 },
 "nbformat": 4,
 "nbformat_minor": 5
}
