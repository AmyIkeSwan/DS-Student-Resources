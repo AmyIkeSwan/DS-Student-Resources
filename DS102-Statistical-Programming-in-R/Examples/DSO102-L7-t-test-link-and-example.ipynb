{
 "cells": [
  {
   "cell_type": "markdown",
   "id": "81f81cd9-ecb6-4794-a958-06108540d4cc",
   "metadata": {},
   "source": [
    "# Below is a link which explains when to use a tilde and commas in different instances. \n",
    "\n",
    "\n",
    "#### There are examples of both in current curriculum, but it doesn't explain the difference. This link does that. "
   ]
  },
  {
   "cell_type": "code",
   "execution_count": null,
   "id": "a695d4fc-ccce-44b6-9808-c39e0804291b",
   "metadata": {},
   "outputs": [],
   "source": [
    "http://www.sthda.com/english/wiki/paired-samples-t-test-in-r#:~:text=The%20paired%20samples%20t%2Dtest,t%2Dtest%20using%20R%20software.&text=Compute%20the%20mean%20(m)%20and,standard%20deviation%20(s)%20of%20d"
   ]
  },
  {
   "cell_type": "markdown",
   "id": "35af9165-20d6-4504-bcba-b1fd55116c58",
   "metadata": {},
   "source": [
    "![A screenshot of t test examples to illustrate when to use tilde.](Media/t-test-examples.png)\n",
    "\n",
    "<div class=\"panel panel-danger\">\n",
    "    <div class=\"panel-heading\">\n",
    "        <h3 class=\"panel-title\">Caution!</h3>\n",
    "    </div>\n",
    "    <div class=\"panel-body\">\n",
    "        <p>If your R doesn't look like this one, chances R you opened up the R GUI instead of RStudio.  Make sure to find the RStudio program instead!</p>\n",
    "    </div>\n",
    "</div>"
   ]
  },
  {
   "cell_type": "code",
   "execution_count": null,
   "id": "7ff927f6-d36f-478c-b22c-4fac73d6c24c",
   "metadata": {},
   "outputs": [],
   "source": []
  },
  {
   "cell_type": "code",
   "execution_count": null,
   "id": "530f7da1-00d9-4238-8d6b-a86182ae7808",
   "metadata": {},
   "outputs": [],
   "source": []
  }
 ],
 "metadata": {
  "kernelspec": {
   "display_name": "R",
   "language": "R",
   "name": "ir"
  },
  "language_info": {
   "codemirror_mode": "r",
   "file_extension": ".r",
   "mimetype": "text/x-r-source",
   "name": "R",
   "pygments_lexer": "r",
   "version": "4.1.1"
  }
 },
 "nbformat": 4,
 "nbformat_minor": 5
}
