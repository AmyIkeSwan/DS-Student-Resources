{
 "cells": [
  {
   "cell_type": "markdown",
   "id": "701c6664-c3af-4538-bac7-f1a5cc1826cd",
   "metadata": {},
   "source": [
    "# DS102 Questions\n",
    "\n",
    "## Lesson 1\n",
    "\n",
    "## Page 7"
   ]
  },
  {
   "cell_type": "code",
   "execution_count": 1,
   "id": "9fdc1222-3d73-42e1-b6bf-b95d73e3d8ff",
   "metadata": {},
   "outputs": [],
   "source": [
    "from DS_Students import *"
   ]
  },
  {
   "cell_type": "code",
   "execution_count": 2,
   "id": "cf433206-b1c6-41d7-86db-486d7cb4756e",
   "metadata": {},
   "outputs": [],
   "source": [
    "L1P7Q1 = MultipleChoice('1. When evaluating a task, you should try to plan how to do everything in one step?',['A. True','B. False'],'B. False')\n",
    "L1P7Q2 = MultipleChoice('2. When giving instructions you should:',['A. Think like a computer','B. Ask your friends how they would do it','C. Be precise'],'C. Be precise')\n",
    "L1P7Q3 = MultipleChoice('3. What is a common tool that programmers use to plan out their programs?',['A. Email','B. Whiteboards','C. Reference books'],'B. Whiteboards')"
   ]
  },
  {
   "cell_type": "code",
   "execution_count": 3,
   "id": "6f20d99a-0d5d-482e-82a1-2adf01327726",
   "metadata": {},
   "outputs": [
    {
     "data": {
      "application/vnd.jupyter.widget-view+json": {
       "model_id": "3e42179e81b741099090196db9093be6",
       "version_major": 2,
       "version_minor": 0
      },
      "text/plain": [
       "VBox(children=(Output(outputs=({'name': 'stdout', 'text': '1. When evaluating a task, you should try to plan h…"
      ]
     },
     "metadata": {},
     "output_type": "display_data"
    },
    {
     "data": {
      "application/vnd.jupyter.widget-view+json": {
       "model_id": "27fdcf89f65644aaa8deec66a1576ab7",
       "version_major": 2,
       "version_minor": 0
      },
      "text/plain": [
       "VBox(children=(Output(outputs=({'name': 'stdout', 'text': '2. When giving instructions you should:\\n', 'output…"
      ]
     },
     "metadata": {},
     "output_type": "display_data"
    },
    {
     "data": {
      "application/vnd.jupyter.widget-view+json": {
       "model_id": "517463ed14e04e9597abffb62254f6e8",
       "version_major": 2,
       "version_minor": 0
      },
      "text/plain": [
       "VBox(children=(Output(outputs=({'name': 'stdout', 'text': '3. What is a common tool that programmers use to pl…"
      ]
     },
     "metadata": {},
     "output_type": "display_data"
    }
   ],
   "source": [
    "if __name__ == \"__main__\":\n",
    "    display(L1P7Q1, L1P7Q2, L1P7Q3)"
   ]
  },
  {
   "cell_type": "markdown",
   "id": "59237b93-23a1-4511-9c47-069ff58089ca",
   "metadata": {},
   "source": [
    "## Page 9"
   ]
  },
  {
   "cell_type": "code",
   "execution_count": 4,
   "id": "9e09c0eb-06d1-440a-9c2a-4ced3fa16e4e",
   "metadata": {},
   "outputs": [],
   "source": [
    "L1P9Q1 = MultipleChoice('1. Mistakes are:',['A. Inevitable','B. A valuble tool','C. Going to come in multiple types', 'D. All of the types'],'D. All of the above')\n",
    "L1P9Q2 = MultipleChoice('2. A problem in code that cannot be detected by the computer is called a:',['A. Lie','B. Logical Error','C. Human Error', 'D. Exception'],'B. Logical Error')\n",
    "L1P9Q3 = MultipleChoice('3. Imposter Syndrome is caused by:',['A. Lack of knowledge','B. Too much work','C. Not believing in your own success', 'D. Imperfect Code'],'C. Not believing in your own success')"
   ]
  },
  {
   "cell_type": "code",
   "execution_count": 5,
   "id": "395b4e32-213a-432c-8570-dba7e76bc602",
   "metadata": {},
   "outputs": [
    {
     "data": {
      "application/vnd.jupyter.widget-view+json": {
       "model_id": "76c42343614b4a6e92fa78d4ee335576",
       "version_major": 2,
       "version_minor": 0
      },
      "text/plain": [
       "VBox(children=(Output(outputs=({'name': 'stdout', 'text': '1. Mistakes are:\\n', 'output_type': 'stream'},)), R…"
      ]
     },
     "metadata": {},
     "output_type": "display_data"
    },
    {
     "data": {
      "application/vnd.jupyter.widget-view+json": {
       "model_id": "a13071558fbb4865ba5e04fe6d12d3da",
       "version_major": 2,
       "version_minor": 0
      },
      "text/plain": [
       "VBox(children=(Output(outputs=({'name': 'stdout', 'text': '2. A problem in code that cannot be detected by the…"
      ]
     },
     "metadata": {},
     "output_type": "display_data"
    },
    {
     "data": {
      "application/vnd.jupyter.widget-view+json": {
       "model_id": "d25a9a03b18544aaa2ee030b570d7fc6",
       "version_major": 2,
       "version_minor": 0
      },
      "text/plain": [
       "VBox(children=(Output(outputs=({'name': 'stdout', 'text': '3. Imposter Syndrome is caused by:\\n', 'output_type…"
      ]
     },
     "metadata": {},
     "output_type": "display_data"
    }
   ],
   "source": [
    "if __name__ == \"__main__\":\n",
    "    display(L1P9Q1, L1P9Q2, L1P9Q3)"
   ]
  },
  {
   "cell_type": "markdown",
   "id": "214526dd-72ee-40d8-a2e5-41e165dcd951",
   "metadata": {},
   "source": [
    "# Lesson 2\n",
    "## Page 2"
   ]
  },
  {
   "cell_type": "code",
   "execution_count": 6,
   "id": "c8eb6a46-ef59-46c0-8adb-773a004ded82",
   "metadata": {},
   "outputs": [],
   "source": [
    "L2P2Q1 = MultipleChoice('1. What is a package in R?',['A. Something delivered to your doorstep','B. An R extension that performs specialized tasks'],'B. An R extension that performs specialized tasks')\n",
    "L2P2Q2 = MultipleChoice('2. How does R differ from other languages or programs?',['A. It is all point and click','B. It is a complete programming language and requires coding, but is specifically for statistics','C. It should be used for all-purpose programming','D. It is the only open-source programming language'],'B. It is a complete programming language and requires coding, but is specifically for statistics')\n"
   ]
  },
  {
   "cell_type": "code",
   "execution_count": 7,
   "id": "3adf2b8c-6d74-449d-abd7-f2ecd2cef18e",
   "metadata": {},
   "outputs": [
    {
     "data": {
      "application/vnd.jupyter.widget-view+json": {
       "model_id": "9a03294340d04a9a8d2c7540463aa481",
       "version_major": 2,
       "version_minor": 0
      },
      "text/plain": [
       "VBox(children=(Output(outputs=({'name': 'stdout', 'text': '1. What is a package in R?\\n', 'output_type': 'stre…"
      ]
     },
     "metadata": {},
     "output_type": "display_data"
    },
    {
     "data": {
      "application/vnd.jupyter.widget-view+json": {
       "model_id": "0ee9c56d70e94be4af39e333648a9ee0",
       "version_major": 2,
       "version_minor": 0
      },
      "text/plain": [
       "VBox(children=(Output(outputs=({'name': 'stdout', 'text': '2. How does R differ from other languages or progra…"
      ]
     },
     "metadata": {},
     "output_type": "display_data"
    }
   ],
   "source": [
    "if __name__ == \"__main__\":\n",
    "    display(L2P2Q1, L2P2Q2)"
   ]
  },
  {
   "cell_type": "markdown",
   "id": "fbd02314-2ef4-43be-aa7f-82453a99c3aa",
   "metadata": {},
   "source": [
    "## Page 5"
   ]
  },
  {
   "cell_type": "code",
   "execution_count": 8,
   "id": "d909d1fb-8f00-4e28-b8ed-31c3be525a4c",
   "metadata": {},
   "outputs": [],
   "source": [
    "L2P5Q1 = MultipleChoice('1. True or False? - R is case sensitive',['A. True','B. False'],'A. True')\n"
   ]
  },
  {
   "cell_type": "code",
   "execution_count": 9,
   "id": "f3588f24-c559-4312-aa66-eede09862ecf",
   "metadata": {},
   "outputs": [
    {
     "data": {
      "application/vnd.jupyter.widget-view+json": {
       "model_id": "c91063c54786463c98fd6f299b283f07",
       "version_major": 2,
       "version_minor": 0
      },
      "text/plain": [
       "VBox(children=(Output(outputs=({'name': 'stdout', 'text': '1. True or False? - R is case sensitive\\n', 'output…"
      ]
     },
     "metadata": {},
     "output_type": "display_data"
    }
   ],
   "source": [
    "if __name__ == \"__main__\":\n",
    "    display(L2P5Q1)"
   ]
  },
  {
   "cell_type": "markdown",
   "id": "df98d83e-068f-4c77-997f-f751c2ffdc32",
   "metadata": {},
   "source": [
    "## Page 6"
   ]
  },
  {
   "cell_type": "code",
   "execution_count": 10,
   "id": "fc676259-53db-4155-a1ad-5df4e3eb6a81",
   "metadata": {},
   "outputs": [],
   "source": [
    "L2P6Q1 = MultipleChoice('1. How do you scroll through previous console commands?',['A. With your mouse','B. Up and down arrow keys','C. Left and right arrow keys','D. Tab'],'B. Up and down arrow keys')\n",
    "L2P6Q2 = MultipleChoice('2. How do you edit a previous command?',['A. Re-do all the work leading up to it','B. You will never edit, only re-run commands','C. Select the text, edit, and press enter','D. Use the up and down arrow keys'],'C. Select the text, edit, and press enter')\n"
   ]
  },
  {
   "cell_type": "code",
   "execution_count": 11,
   "id": "ab909ae5-8dce-49fa-906e-28fb1be8aa92",
   "metadata": {},
   "outputs": [
    {
     "data": {
      "application/vnd.jupyter.widget-view+json": {
       "model_id": "3d6e818ac33746d4b8b1c049c333765d",
       "version_major": 2,
       "version_minor": 0
      },
      "text/plain": [
       "VBox(children=(Output(outputs=({'name': 'stdout', 'text': '1. How do you scroll through previous console comma…"
      ]
     },
     "metadata": {},
     "output_type": "display_data"
    },
    {
     "data": {
      "application/vnd.jupyter.widget-view+json": {
       "model_id": "3891a50e4ab74696826b9e2574c7e91f",
       "version_major": 2,
       "version_minor": 0
      },
      "text/plain": [
       "VBox(children=(Output(outputs=({'name': 'stdout', 'text': '2. How do you edit a previous command?\\n', 'output_…"
      ]
     },
     "metadata": {},
     "output_type": "display_data"
    }
   ],
   "source": [
    "if __name__ == \"__main__\":\n",
    "    display(L2P6Q1, L2P6Q2)"
   ]
  },
  {
   "cell_type": "markdown",
   "id": "7fc997ae-7d69-4ff0-ab4e-2dd8ce6b5133",
   "metadata": {},
   "source": [
    "## Page 7"
   ]
  },
  {
   "cell_type": "code",
   "execution_count": 324,
   "id": "8564a4ea-14b5-4b31-b8e0-95e2f4f9752c",
   "metadata": {},
   "outputs": [],
   "source": [
    "L2P7Q1 = MultipleChoice('1. What is a script?',['A. A text editor specifically for saving R code','B. An all-purpose text editor','C. A terminal','D. Part of the Console'],'A. A text editor specifically for saving R code')\n",
    "L2P7Q2 = MultipleChoice('2. Which is NOT a benefit of a script?',['A. Code runs as soon as you hit enter','B. Code completion','C. Ability to save and re-run code','D. Syntax highlighting'],'A. Code runs as soon as you hit enter')\n",
    "L2P7Q3 = MultipleChoice('3. How is a script run?',['A. Run Button','B. Source Button','C. Hit Enter','D. Both A and B will work'],'D. Both A and B will work')\n"
   ]
  },
  {
   "cell_type": "code",
   "execution_count": 13,
   "id": "4eebcac4-f1bf-4b3e-9d67-b3ae080e71c2",
   "metadata": {},
   "outputs": [
    {
     "data": {
      "application/vnd.jupyter.widget-view+json": {
       "model_id": "c88b1b303e0646de81dbd45116286309",
       "version_major": 2,
       "version_minor": 0
      },
      "text/plain": [
       "VBox(children=(Output(outputs=({'name': 'stdout', 'text': '1. What is a script?\\n', 'output_type': 'stream'},)…"
      ]
     },
     "metadata": {},
     "output_type": "display_data"
    },
    {
     "data": {
      "application/vnd.jupyter.widget-view+json": {
       "model_id": "735b8325bb11418eaa145e17d146b25d",
       "version_major": 2,
       "version_minor": 0
      },
      "text/plain": [
       "VBox(children=(Output(outputs=({'name': 'stdout', 'text': '2. Which is NOT a benefit of a script?\\n', 'output_…"
      ]
     },
     "metadata": {},
     "output_type": "display_data"
    },
    {
     "data": {
      "application/vnd.jupyter.widget-view+json": {
       "model_id": "508e5e77120049dfbec3e8c058555558",
       "version_major": 2,
       "version_minor": 0
      },
      "text/plain": [
       "VBox(children=(Output(outputs=({'name': 'stdout', 'text': '3. How is a script run?\\n', 'output_type': 'stream'…"
      ]
     },
     "metadata": {},
     "output_type": "display_data"
    }
   ],
   "source": [
    "if __name__ == \"__main__\":\n",
    "    display(L2P7Q1, L2P7Q2, L2P7Q3)"
   ]
  },
  {
   "cell_type": "markdown",
   "id": "9638bc87-4a33-450b-830f-2d515ffec3fb",
   "metadata": {},
   "source": [
    "## Page 8"
   ]
  },
  {
   "cell_type": "code",
   "execution_count": 14,
   "id": "77060b27-8548-4271-83ee-e2936dcdfed4",
   "metadata": {},
   "outputs": [],
   "source": [
    "L2P8Q1 = MultipleChoice('1. What does the # do in R??',['A. Nothing','B. Initiate commands','C. Allows R to skip over anything to the right','D. Tag social media posts together'],'C. Allows R to skip over anything to the right')\n",
    "L2P8Q2 = MultipleChoice('2. Which of the following is NOT a use for a comment?',['A. Provide authoring information','B. Run special commands','C. Provide information about program function and use','D. Remind the author about required tasks'],'B. Run special commands')\n",
    "L2P8Q3 = MultipleChoice('3. True or False? - Commenting your code is a best practice that will aid teamwork',['A. True','B. False'],'A. True')\n"
   ]
  },
  {
   "cell_type": "code",
   "execution_count": 15,
   "id": "2ea10ad7-0940-49c9-9bc7-73451c21e3e6",
   "metadata": {},
   "outputs": [
    {
     "data": {
      "application/vnd.jupyter.widget-view+json": {
       "model_id": "cc79a471c6d547d39b2d02329d792de1",
       "version_major": 2,
       "version_minor": 0
      },
      "text/plain": [
       "VBox(children=(Output(outputs=({'name': 'stdout', 'text': '1. What does the # do in R??\\n', 'output_type': 'st…"
      ]
     },
     "metadata": {},
     "output_type": "display_data"
    },
    {
     "data": {
      "application/vnd.jupyter.widget-view+json": {
       "model_id": "3bf7c1950406479d96034eb51f5583da",
       "version_major": 2,
       "version_minor": 0
      },
      "text/plain": [
       "VBox(children=(Output(outputs=({'name': 'stdout', 'text': '2. Which of the following is NOT a use for a commen…"
      ]
     },
     "metadata": {},
     "output_type": "display_data"
    },
    {
     "data": {
      "application/vnd.jupyter.widget-view+json": {
       "model_id": "176f58ee4e534141882158f3ef8ed298",
       "version_major": 2,
       "version_minor": 0
      },
      "text/plain": [
       "VBox(children=(Output(outputs=({'name': 'stdout', 'text': '3. True or False? - Commenting your code is a best …"
      ]
     },
     "metadata": {},
     "output_type": "display_data"
    }
   ],
   "source": [
    "if __name__ == \"__main__\":\n",
    "    display(L2P8Q1, L2P8Q2, L2P8Q3)"
   ]
  },
  {
   "cell_type": "markdown",
   "id": "c0acda46-178f-4683-ac96-6c1892dc4c2d",
   "metadata": {},
   "source": [
    "## Page 9"
   ]
  },
  {
   "cell_type": "code",
   "execution_count": 16,
   "id": "b7ee089a-e8ab-4a41-a8ba-1bd38e4aca61",
   "metadata": {},
   "outputs": [],
   "source": [
    "L2P9Q1 = MultipleChoice('1. What does the \\033[1mhelp()\\033[0m function in R do?',['A. Auto-completes code','B. Initiates a live chat with an R representative','C. Brings up a pane with additional information about the specified function'],'C. Brings up a pane with additional information about the specified function')\n"
   ]
  },
  {
   "cell_type": "code",
   "execution_count": 17,
   "id": "ae3b2f70-d3b1-411f-ad47-c2648eb6ef07",
   "metadata": {},
   "outputs": [
    {
     "data": {
      "application/vnd.jupyter.widget-view+json": {
       "model_id": "4dec134d65cf4364b509a94fccfd3523",
       "version_major": 2,
       "version_minor": 0
      },
      "text/plain": [
       "VBox(children=(Output(outputs=({'name': 'stdout', 'text': '1. What does the \\x1b[1mhelp()\\x1b[0m function in R…"
      ]
     },
     "metadata": {},
     "output_type": "display_data"
    }
   ],
   "source": [
    "if __name__ == \"__main__\":\n",
    "    display(L2P9Q1)"
   ]
  },
  {
   "cell_type": "markdown",
   "id": "ff240dda-07bf-4d10-91e3-3d84cd26d0b3",
   "metadata": {},
   "source": [
    "## Page 11\n",
    "## Lesson 2 Exam"
   ]
  },
  {
   "cell_type": "markdown",
   "id": "857d8059-b437-4b3a-98e8-388b06da22b4",
   "metadata": {},
   "source": [
    "#### **Tip!** \n",
    "##### You might try typing each into the R Console to find the answer.\n",
    "While testing one or more of these, the R prompt may change to a +,  \n",
    "but R will not do anything; in this case, use the esc key to get back to the > prompt."
   ]
  },
  {
   "cell_type": "code",
   "execution_count": 18,
   "id": "30a72050-9b1a-4eba-b40b-4a317f27a8ed",
   "metadata": {},
   "outputs": [],
   "source": [
    "L2P11Q1 = MultipleChoice(\"\"\"1. Suppose you want to change the message from \"Hello World!\" to \"It\\'s a Small World\".\\n Which of the following would do this successfully?\"\"\",[\"A. print(It's a Small World)\",'B. print \"It\\'s a Small World\"',\"\"\"C. print('It's a Small World')\"\"\",\"\"\"D. print(\"It's a Small World\")\"\"\"],\"\"\"D. print(\"It's a Small World\")\"\"\")\n",
    "L2P11Q2 = MultipleChoice(\"\"\"2. R has several datasets included in it. You will use these datasets in future lessons. \\nYou can get information on these datasets by using the command:\\n\\n \\033[1mhelp(\"datasets\")\\033[0m\\n\\n Execute this command.\\n What does the information displayed in the Help pane tell you to do to get a complete list of the datasets?\"\"\",['A. Type library(help = \"datasets\")','B. Google \"R datasets\"','C. Join the R Core Team','D. Type help(library, \"datasets\")'],'A. Type library(help = \"datasets\")')\n"
   ]
  },
  {
   "cell_type": "code",
   "execution_count": 19,
   "id": "0aef6312-54e9-4f67-8909-1bf80eb571d1",
   "metadata": {},
   "outputs": [
    {
     "data": {
      "application/vnd.jupyter.widget-view+json": {
       "model_id": "72ff6a39b6f7473ba0315e0c0013090a",
       "version_major": 2,
       "version_minor": 0
      },
      "text/plain": [
       "VBox(children=(Output(outputs=({'name': 'stdout', 'text': '1. Suppose you want to change the message from \"Hel…"
      ]
     },
     "metadata": {},
     "output_type": "display_data"
    },
    {
     "data": {
      "application/vnd.jupyter.widget-view+json": {
       "model_id": "9adff8359bb4470f8b579d0479625e37",
       "version_major": 2,
       "version_minor": 0
      },
      "text/plain": [
       "VBox(children=(Output(outputs=({'name': 'stdout', 'text': '2. R has several datasets included in it. You will …"
      ]
     },
     "metadata": {},
     "output_type": "display_data"
    }
   ],
   "source": [
    "if __name__ == \"__main__\":\n",
    "    display(L2P11Q1, L2P11Q2)"
   ]
  },
  {
   "cell_type": "markdown",
   "id": "df4b2492-71ce-4324-bbc2-57755ef66785",
   "metadata": {},
   "source": [
    "# Lesson 3\n",
    "## Page 2"
   ]
  },
  {
   "cell_type": "code",
   "execution_count": 20,
   "id": "12b34d0e-d346-4853-b4bf-415d48ebf682",
   "metadata": {},
   "outputs": [],
   "source": [
    "L3P2Q1 = MultipleChoice('1. What is a variable?',['A. Something that fluctuates','B. A value','C. A named object','D. An assignment'],'C. A named object')\n",
    "L3P2Q2 = MultipleChoice('2. Which of the following is NOT a valid naming convention for a variable in R?',['A. Variable Name','B. Variable_Name','C. Variable.Name','D. VariableName'],'A. Variable Name')\n",
    "L3P2Q3 = MultipleChoice('3. Which of the following is NOT a way to assign variables?',['A. <-','B. ->','C. =','D. =='],'D. ==')\n",
    "L3P2Q4 = MultipleChoice('4. Consider the assignment:\\n \\n \\033[1mage.of.aquarius <- 1967\\033[0m \\n \\nWhat variable is created by this assignment??',['A. age','B. 1967','C. age.of.aquarius','D. aquarius'],'C. age.of.aquarius')\n",
    "L3P2Q5 = MultipleChoice('5. Consider the assignment:\\n \\n 21 -> balloons \\n \\nWhat value is assigned to the variable \\033[1mballoons\\033[0m?',['A. 2','B. 21','C. No value is assigned; the assignment is pointing the wrong direction, so this assignment will cause an error.','D. 42'],'B. 21')\n",
    "L3P2Q6 = MultipleChoice('6. True or False? \\n     Once Created, your variable will appear in the \\033[1mEnvironment\\033[0m tab',['A. True','B. False'],'A. True')"
   ]
  },
  {
   "cell_type": "code",
   "execution_count": 21,
   "id": "c355cd5f-0260-4338-bc82-124570aa4f1f",
   "metadata": {},
   "outputs": [
    {
     "data": {
      "application/vnd.jupyter.widget-view+json": {
       "model_id": "dc26ecc2f6fc4136881dbc2af8294bae",
       "version_major": 2,
       "version_minor": 0
      },
      "text/plain": [
       "VBox(children=(Output(outputs=({'name': 'stdout', 'text': '1. What is a variable?\\n', 'output_type': 'stream'}…"
      ]
     },
     "metadata": {},
     "output_type": "display_data"
    },
    {
     "data": {
      "application/vnd.jupyter.widget-view+json": {
       "model_id": "2e20a8cb5b3a4b518b1fb82b0a554e50",
       "version_major": 2,
       "version_minor": 0
      },
      "text/plain": [
       "VBox(children=(Output(outputs=({'name': 'stdout', 'text': '2. Which of the following is NOT a valid naming con…"
      ]
     },
     "metadata": {},
     "output_type": "display_data"
    },
    {
     "data": {
      "application/vnd.jupyter.widget-view+json": {
       "model_id": "5a2af30806b4471eb7210695d2a7f784",
       "version_major": 2,
       "version_minor": 0
      },
      "text/plain": [
       "VBox(children=(Output(outputs=({'name': 'stdout', 'text': '3. Which of the following is NOT a way to assign va…"
      ]
     },
     "metadata": {},
     "output_type": "display_data"
    },
    {
     "data": {
      "application/vnd.jupyter.widget-view+json": {
       "model_id": "43b6fe4559744c299ecae325e7109a3c",
       "version_major": 2,
       "version_minor": 0
      },
      "text/plain": [
       "VBox(children=(Output(outputs=({'name': 'stdout', 'text': '4. Consider the assignment:\\n \\n \\x1b[1mage.of.aqua…"
      ]
     },
     "metadata": {},
     "output_type": "display_data"
    },
    {
     "data": {
      "application/vnd.jupyter.widget-view+json": {
       "model_id": "2cbdc484085449c2ae1fbfcd5a8703ab",
       "version_major": 2,
       "version_minor": 0
      },
      "text/plain": [
       "VBox(children=(Output(outputs=({'name': 'stdout', 'text': '5. Consider the assignment:\\n \\n 21 -> balloons \\n …"
      ]
     },
     "metadata": {},
     "output_type": "display_data"
    },
    {
     "data": {
      "application/vnd.jupyter.widget-view+json": {
       "model_id": "18e5cca6404a4e02af66b050bd0e8138",
       "version_major": 2,
       "version_minor": 0
      },
      "text/plain": [
       "VBox(children=(Output(outputs=({'name': 'stdout', 'text': '6. True or False? \\n     Once Created, your variabl…"
      ]
     },
     "metadata": {},
     "output_type": "display_data"
    }
   ],
   "source": [
    "if __name__ == \"__main__\":\n",
    "    display(L3P2Q1, L3P2Q2, L3P2Q3, L3P2Q4, L3P2Q5, L3P2Q6)"
   ]
  },
  {
   "cell_type": "markdown",
   "id": "526f77c1-11e6-46e3-858a-aa5b5309dc6b",
   "metadata": {},
   "source": [
    "## Page 3"
   ]
  },
  {
   "cell_type": "code",
   "execution_count": 22,
   "id": "1dab046f-cbe7-4922-8039-0224f4c8bc56",
   "metadata": {},
   "outputs": [],
   "source": [
    "L3P3Q1 = MultipleChoice('1. Which of the following R statements will create a variable \\033[1mbob\\033[0m containing a string \\033[1mRobert\\033[0m?',[\"A. bob <- 'Robert'\",'B. bob <- \"Robert\"','C. \"Robert\" -> bob','D. All of the above'],'D. All of the above')\n",
    "L3P3Q2 = MultipleChoice('2. Suppose you have two variables: \\033[1mfirst.name\\033[0m, which contains the string \\033[1mSally\\033[0m, and \\033[1mlast.name\\033[0m, which contains the string \\033[1mRide\\033[0m. \\nWhich of the following statements will cause R to print \"Sally Ride?\"',['A. paste(first.name, last.name)','B. first.name + last.name','C. first.name last.name','D. c(first.name, last.name)'],'A. paste(first.name, last.name)')\n"
   ]
  },
  {
   "cell_type": "code",
   "execution_count": 23,
   "id": "6c10536a-f3c8-4c28-b047-7e33ed404b46",
   "metadata": {},
   "outputs": [
    {
     "data": {
      "application/vnd.jupyter.widget-view+json": {
       "model_id": "250860c97bcc4949ba97162d19e01154",
       "version_major": 2,
       "version_minor": 0
      },
      "text/plain": [
       "VBox(children=(Output(outputs=({'name': 'stdout', 'text': '1. Which of the following R statements will create …"
      ]
     },
     "metadata": {},
     "output_type": "display_data"
    },
    {
     "data": {
      "application/vnd.jupyter.widget-view+json": {
       "model_id": "42fb6076a3064fd5b14dad43120867f1",
       "version_major": 2,
       "version_minor": 0
      },
      "text/plain": [
       "VBox(children=(Output(outputs=({'name': 'stdout', 'text': '2. Suppose you have two variables: \\x1b[1mfirst.nam…"
      ]
     },
     "metadata": {},
     "output_type": "display_data"
    }
   ],
   "source": [
    "if __name__ == \"__main__\":\n",
    "    display(L3P3Q1, L3P3Q2)"
   ]
  },
  {
   "cell_type": "markdown",
   "id": "e066f243-0fe4-4519-923c-40f44255e73c",
   "metadata": {},
   "source": [
    "## Page 4"
   ]
  },
  {
   "cell_type": "code",
   "execution_count": 24,
   "id": "3dca5630-20cf-4bcb-846d-e26d35a5874e",
   "metadata": {},
   "outputs": [],
   "source": [
    "L3P4Q1 = MultipleChoice('1. The area of a circle is given by the following formula: \\n     \\033[1mA = pi*(r^2)\\033[0m \\n   where \\033[1mr\\033[0m is the radius of the circle.\\n  \\nUse R to compute the area of a circle with radius 2.54 cm.\\n   \\n\\033[1mTip! \\npi\\033[0m is a predefined variable in R; you can use it in the above formula.',['A. 7.979645','B. 15.95929','C. 63.67474','D. 20.2683'],'D. 20.2683')\n",
    "L3P4Q2 = MultipleChoice('2. The sample variance can be computed from the sample standard deviation by squaring it. \\nIf you know that the sample standard deviation for a sample is 0.834, what is the sample variance?',['A. 0.695556','B. 1.668','C. 0.417','D. 0.913236'],'A. 0.695556')\n",
    "L3P4Q3 = MultipleChoice(\"3. Gabianu's friend from Ghana is Rashida. Rashida is 154.8 cm tall. \\n   What is the z-score for her height?\",['A. 122.351','B. -0.8571429','C. 0.0','D. 0.8571429'],'B. -0.8571429')\n"
   ]
  },
  {
   "cell_type": "markdown",
   "id": "0842f731-ab97-4164-b8e3-a33408ee555b",
   "metadata": {},
   "source": [
    "<img src=\"Media/L02-circleArea.png\" alt=\"Drawing\" style=\"width: 100px;\"/> "
   ]
  },
  {
   "cell_type": "code",
   "execution_count": 25,
   "id": "899f0429-5087-42dc-bb5f-5e1b66456974",
   "metadata": {},
   "outputs": [
    {
     "data": {
      "application/vnd.jupyter.widget-view+json": {
       "model_id": "ed7e2df86ad74065b27ea51eba9eebdc",
       "version_major": 2,
       "version_minor": 0
      },
      "text/plain": [
       "VBox(children=(Output(outputs=({'name': 'stdout', 'text': '1. The area of a circle is given by the following f…"
      ]
     },
     "metadata": {},
     "output_type": "display_data"
    },
    {
     "data": {
      "application/vnd.jupyter.widget-view+json": {
       "model_id": "619777c4a73243d4806e2b8da9d9fa1b",
       "version_major": 2,
       "version_minor": 0
      },
      "text/plain": [
       "VBox(children=(Output(outputs=({'name': 'stdout', 'text': '2. The sample variance can be computed from the sam…"
      ]
     },
     "metadata": {},
     "output_type": "display_data"
    },
    {
     "data": {
      "application/vnd.jupyter.widget-view+json": {
       "model_id": "a9859547755f489cbaaf9cdbc4c82af3",
       "version_major": 2,
       "version_minor": 0
      },
      "text/plain": [
       "VBox(children=(Output(outputs=({'name': 'stdout', 'text': \"3. Gabianu's friend from Ghana is Rashida. Rashida …"
      ]
     },
     "metadata": {},
     "output_type": "display_data"
    }
   ],
   "source": [
    "if __name__ == \"__main__\":\n",
    "    display(L3P4Q1, L3P4Q2, L3P4Q3)"
   ]
  },
  {
   "cell_type": "markdown",
   "id": "4b10e157-7ae2-48f9-bcf6-ea2180f190fb",
   "metadata": {},
   "source": [
    "## Page 5"
   ]
  },
  {
   "cell_type": "code",
   "execution_count": 26,
   "id": "e9ca1781-d220-46b2-9fcd-aa4fece9048a",
   "metadata": {},
   "outputs": [],
   "source": [
    "L3P5Q1 = MultipleChoice('1. What is a function?',['A. An argument','B. Math formula','C. It performs a specific programming task','D. A value'],'C. It performs a specific programming task')\n",
    "L3P5Q2 = MultipleChoice('2. True or False? \\nAn argument is also known as the output of a function.',['A. True','B. False'],'B. False')\n",
    "L3P5Q3 = MultipleChoice('3. The sample standard deviation can be computed from the sample variance by computing its square root. \\nIf you know that the sample variance for a sample is 6.28, what is the standard deviation?',['A. 39.4384','B. 2.505993','C. 3.14','D. 6.28'],'B. 2.505993')"
   ]
  },
  {
   "cell_type": "code",
   "execution_count": 27,
   "id": "003722d1-a401-4367-8ac2-ce6374552255",
   "metadata": {},
   "outputs": [
    {
     "data": {
      "application/vnd.jupyter.widget-view+json": {
       "model_id": "1b46f619d46a44df907a28fab26fa787",
       "version_major": 2,
       "version_minor": 0
      },
      "text/plain": [
       "VBox(children=(Output(outputs=({'name': 'stdout', 'text': '1. What is a function?\\n', 'output_type': 'stream'}…"
      ]
     },
     "metadata": {},
     "output_type": "display_data"
    },
    {
     "data": {
      "application/vnd.jupyter.widget-view+json": {
       "model_id": "4f2f14dae0f442a3b233a886db68eff3",
       "version_major": 2,
       "version_minor": 0
      },
      "text/plain": [
       "VBox(children=(Output(outputs=({'name': 'stdout', 'text': '2. True or False? \\nAn argument is also known as th…"
      ]
     },
     "metadata": {},
     "output_type": "display_data"
    },
    {
     "data": {
      "application/vnd.jupyter.widget-view+json": {
       "model_id": "40fdbd7b4b104fb8a65b947423eae77e",
       "version_major": 2,
       "version_minor": 0
      },
      "text/plain": [
       "VBox(children=(Output(outputs=({'name': 'stdout', 'text': '3. The sample standard deviation can be computed fr…"
      ]
     },
     "metadata": {},
     "output_type": "display_data"
    }
   ],
   "source": [
    "if __name__ == \"__main__\":\n",
    "    display(L3P5Q1, L3P5Q2, L3P5Q3)"
   ]
  },
  {
   "cell_type": "markdown",
   "id": "9de269a3-eb0b-46f4-9805-db0f8522efeb",
   "metadata": {},
   "source": [
    "## Page 6"
   ]
  },
  {
   "cell_type": "code",
   "execution_count": 28,
   "id": "154acdcb-f10f-4bd8-9527-2ce3222d7848",
   "metadata": {},
   "outputs": [],
   "source": [
    "L3P6Q1 = MultipleChoice('1. What command is required when creating your own function?',['A. print()','B. sqrt()','C. pnorm()','D. function()'],'D. function()')\n",
    "L3P6Q2 = MultipleChoice('2. What do the curly braces \\033[1m{}\\033[0m indicate in the creation of a function?',['A. The definition of the function','B. The name of the function','C. The data for the function','D. The value of the function'],'A. The definition of the function')"
   ]
  },
  {
   "cell_type": "code",
   "execution_count": 29,
   "id": "2fdab0c2-2764-4b3b-81c1-0604db40254b",
   "metadata": {},
   "outputs": [
    {
     "data": {
      "application/vnd.jupyter.widget-view+json": {
       "model_id": "0d6b68bdb7614110a468d8732c3202f6",
       "version_major": 2,
       "version_minor": 0
      },
      "text/plain": [
       "VBox(children=(Output(outputs=({'name': 'stdout', 'text': '1. What command is required when creating your own …"
      ]
     },
     "metadata": {},
     "output_type": "display_data"
    },
    {
     "data": {
      "application/vnd.jupyter.widget-view+json": {
       "model_id": "b2dab62cd65e43b0842603b1e2fd9274",
       "version_major": 2,
       "version_minor": 0
      },
      "text/plain": [
       "VBox(children=(Output(outputs=({'name': 'stdout', 'text': '2. What do the curly braces \\x1b[1m{}\\x1b[0m indica…"
      ]
     },
     "metadata": {},
     "output_type": "display_data"
    }
   ],
   "source": [
    "if __name__ == \"__main__\":\n",
    "    display(L3P6Q1, L3P6Q2)"
   ]
  },
  {
   "cell_type": "markdown",
   "id": "0c45db7f-ebee-4c71-94c3-c0a0d6a3412f",
   "metadata": {},
   "source": [
    "## Page 7"
   ]
  },
  {
   "cell_type": "code",
   "execution_count": 30,
   "id": "bd3fbdb5-28e7-4254-b014-75d2bb128341",
   "metadata": {},
   "outputs": [],
   "source": [
    "L3P7Q1 = MultipleChoice('1. What command creates a vector of non-sequential numbers?',['A. c()','B. v()','C. d()','D. :'],'A. c()')\n"
   ]
  },
  {
   "cell_type": "code",
   "execution_count": 31,
   "id": "d7bc3684-b47f-4501-931d-8027b8557d59",
   "metadata": {},
   "outputs": [
    {
     "data": {
      "application/vnd.jupyter.widget-view+json": {
       "model_id": "544713acb65545139149ec37411ceaef",
       "version_major": 2,
       "version_minor": 0
      },
      "text/plain": [
       "VBox(children=(Output(outputs=({'name': 'stdout', 'text': '1. What command creates a vector of non-sequential …"
      ]
     },
     "metadata": {},
     "output_type": "display_data"
    }
   ],
   "source": [
    "if __name__ == \"__main__\":\n",
    "    display(L3P7Q1)"
   ]
  },
  {
   "cell_type": "markdown",
   "id": "bba1080d-fbbf-4cde-9d19-79d6f2395e2c",
   "metadata": {},
   "source": [
    "## Page 8"
   ]
  },
  {
   "cell_type": "code",
   "execution_count": 32,
   "id": "49bf2367-dd37-400c-a054-01022f195d97",
   "metadata": {},
   "outputs": [],
   "source": [
    "L3P8Q1 = MultipleChoice('1. What is the purpose of a for loop?',['A. To create a function','B. To create a vector','C. To make it easier to repeat a task','D. To put data on the same line'],'C. To make it easier to repeat a task')\n",
    "L3P8Q2 = MultipleChoice('2. What does the command \\033[1m\\\\n\\033[0m do?',['A. Combines lines together','B. Creates a function','C. Removes lines from the output','D. Adds a new line into the output'],'D. Adds a new line into the output')\n"
   ]
  },
  {
   "cell_type": "code",
   "execution_count": 33,
   "id": "134402c3-fe8f-463c-95ae-0c44193336b4",
   "metadata": {},
   "outputs": [
    {
     "data": {
      "application/vnd.jupyter.widget-view+json": {
       "model_id": "54d3478578d54e80b7b292056ee6a937",
       "version_major": 2,
       "version_minor": 0
      },
      "text/plain": [
       "VBox(children=(Output(outputs=({'name': 'stdout', 'text': '1. What is the purpose of a for loop?\\n', 'output_t…"
      ]
     },
     "metadata": {},
     "output_type": "display_data"
    },
    {
     "data": {
      "application/vnd.jupyter.widget-view+json": {
       "model_id": "d1e0dd9d666c4cefb0eb0f6824e4dd0a",
       "version_major": 2,
       "version_minor": 0
      },
      "text/plain": [
       "VBox(children=(Output(outputs=({'name': 'stdout', 'text': '2. What does the command \\x1b[1m\\\\n\\x1b[0m do?\\n', …"
      ]
     },
     "metadata": {},
     "output_type": "display_data"
    }
   ],
   "source": [
    "if __name__ == \"__main__\":\n",
    "    display(L3P8Q1, L3P8Q2)"
   ]
  },
  {
   "cell_type": "markdown",
   "id": "dc622b54-d7e4-42a7-a18b-aa4613ab06c8",
   "metadata": {},
   "source": [
    "# Lesson 4\n",
    "## Page 2"
   ]
  },
  {
   "cell_type": "code",
   "execution_count": 34,
   "id": "3d44423a-2972-4992-90b2-a00a973b43a3",
   "metadata": {},
   "outputs": [],
   "source": [
    "L4P2Q1 = MultipleChoice('1. Which of the following commands would create this vector: \\n   [1] 14 13 12 11 10 9 8',['A. 8:14','B. 14:8','C. 8:15','D. 14:1'],'B. 14:8')\n",
    "L4P2Q2 = MultipleChoice('2. What does the \\033[1mseq()\\033[0m function do?',['A. Performs vector arithmetic','B. Creates a vector','C. Creates sequences of numbers that are arbitrarily spaced','D. Creates sequences of numbers one apart'],'C. Creates sequences of numbers that are arbitrarily spaced')\n",
    "L4P2Q3 = MultipleChoice('3. Which of the following is NOT an argument for the \\033[1mseq()\\033[0m function?',['A. with','B. by =','C. length.out'],'A. with')\n"
   ]
  },
  {
   "cell_type": "code",
   "execution_count": 35,
   "id": "38cb0640-799e-4537-8633-8c93a3267b61",
   "metadata": {},
   "outputs": [
    {
     "data": {
      "application/vnd.jupyter.widget-view+json": {
       "model_id": "b43a2b5fc711484fb8bb0ed27c14ecb2",
       "version_major": 2,
       "version_minor": 0
      },
      "text/plain": [
       "VBox(children=(Output(outputs=({'name': 'stdout', 'text': '1. Which of the following commands would create thi…"
      ]
     },
     "metadata": {},
     "output_type": "display_data"
    },
    {
     "data": {
      "application/vnd.jupyter.widget-view+json": {
       "model_id": "13b04701de7f4905b9b61cd96a5cbfd5",
       "version_major": 2,
       "version_minor": 0
      },
      "text/plain": [
       "VBox(children=(Output(outputs=({'name': 'stdout', 'text': '2. What does the \\x1b[1mseq()\\x1b[0m function do?\\n…"
      ]
     },
     "metadata": {},
     "output_type": "display_data"
    },
    {
     "data": {
      "application/vnd.jupyter.widget-view+json": {
       "model_id": "40dc752439ad475a832fec7083b6e6a7",
       "version_major": 2,
       "version_minor": 0
      },
      "text/plain": [
       "VBox(children=(Output(outputs=({'name': 'stdout', 'text': '3. Which of the following is NOT an argument for th…"
      ]
     },
     "metadata": {},
     "output_type": "display_data"
    }
   ],
   "source": [
    "if __name__ == \"__main__\":\n",
    "    display(L4P2Q1, L4P2Q2, L4P2Q3)"
   ]
  },
  {
   "cell_type": "markdown",
   "id": "8cf4c375-ee1c-4f77-827d-3c2fdb17ed07",
   "metadata": {},
   "source": [
    "## Page 3"
   ]
  },
  {
   "cell_type": "code",
   "execution_count": 36,
   "id": "04c4f326-c559-4029-9e4a-f75be4dfcae9",
   "metadata": {},
   "outputs": [],
   "source": [
    "L4P3Q1 = MultipleChoice('1. Suppose you create the following two vectors: \\n \\n    x <- c(1, 9, 6, 9, 5) \\n    y <- c(4, 8, 2, 7, 7) \\n \\n   What would the following command print? \\n \\n    x+y \\n',['A. [1] -3 1 4 2 -2','B. [1] 5 17 8 16 12','C. [1] 4 72 12 63 35','D. [1] 7 7 -2 5 9'],'B. [1] 5 17 8 16 12')\n",
    "L4P3Q2 = MultipleChoice('2. Can functions be performed on vectors?',['A. Yes','B. No'],'A. Yes')\n"
   ]
  },
  {
   "cell_type": "code",
   "execution_count": 37,
   "id": "fc46c9ad-2cc9-4851-88e6-9c603ec0e52d",
   "metadata": {},
   "outputs": [
    {
     "data": {
      "application/vnd.jupyter.widget-view+json": {
       "model_id": "a5872ebcdd364a7193d7e90a5c3b422f",
       "version_major": 2,
       "version_minor": 0
      },
      "text/plain": [
       "VBox(children=(Output(outputs=({'name': 'stdout', 'text': '1. Suppose you create the following two vectors: \\n…"
      ]
     },
     "metadata": {},
     "output_type": "display_data"
    },
    {
     "data": {
      "application/vnd.jupyter.widget-view+json": {
       "model_id": "7c0310f8e4c3416fbbb7a472492c20ae",
       "version_major": 2,
       "version_minor": 0
      },
      "text/plain": [
       "VBox(children=(Output(outputs=({'name': 'stdout', 'text': '2. Can functions be performed on vectors?\\n', 'outp…"
      ]
     },
     "metadata": {},
     "output_type": "display_data"
    }
   ],
   "source": [
    "if __name__ == \"__main__\":\n",
    "    display(L4P3Q1, L4P3Q2)"
   ]
  },
  {
   "cell_type": "markdown",
   "id": "41fb2b98-6913-4fa6-9d4d-8f842bc6bb68",
   "metadata": {},
   "source": [
    "## Page 4"
   ]
  },
  {
   "cell_type": "code",
   "execution_count": 38,
   "id": "3bdd751e-1463-4a7e-91bd-6d51f34e5822",
   "metadata": {},
   "outputs": [],
   "source": [
    "L4P4Q1 = MC('1. What is the value of the condition 4 < 6?',['A. True','B. False'],'A. True', cor='4 is less than 6, so this statement is true.', incor='')\n",
    "L4P4Q2 = MC('2. What is the value of the condition 4 == 6?',['A. True','B. False'],'B. False', cor='4 does not equal 6, so this statement is false', incor='')\n",
    "L4P4Q3 = MC('3. What is the value of the condition 4 != 6?',['A. True','B. False'],'A. True', cor='4 does not equal 6, so this statement is true.', incor='')\n"
   ]
  },
  {
   "cell_type": "code",
   "execution_count": 39,
   "id": "ed029a36-9e98-4b82-8011-7e06d84527bf",
   "metadata": {},
   "outputs": [
    {
     "data": {
      "application/vnd.jupyter.widget-view+json": {
       "model_id": "4a3263bc2ea64d8fb9254e59f495f0bd",
       "version_major": 2,
       "version_minor": 0
      },
      "text/plain": [
       "VBox(children=(Output(outputs=({'name': 'stdout', 'text': '1. What is the value of the condition 4 < 6?\\n', 'o…"
      ]
     },
     "metadata": {},
     "output_type": "display_data"
    },
    {
     "data": {
      "application/vnd.jupyter.widget-view+json": {
       "model_id": "589e39eee9124d8b8376d8e5961095a6",
       "version_major": 2,
       "version_minor": 0
      },
      "text/plain": [
       "VBox(children=(Output(outputs=({'name': 'stdout', 'text': '2. What is the value of the condition 4 == 6?\\n', '…"
      ]
     },
     "metadata": {},
     "output_type": "display_data"
    },
    {
     "data": {
      "application/vnd.jupyter.widget-view+json": {
       "model_id": "5c6e27edae0f4c8db28d92819699fa9f",
       "version_major": 2,
       "version_minor": 0
      },
      "text/plain": [
       "VBox(children=(Output(outputs=({'name': 'stdout', 'text': '3. What is the value of the condition 4 != 6?\\n', '…"
      ]
     },
     "metadata": {},
     "output_type": "display_data"
    }
   ],
   "source": [
    "if __name__ == \"__main__\":\n",
    "    display(L4P4Q1, L4P4Q2, L4P4Q3)"
   ]
  },
  {
   "cell_type": "markdown",
   "id": "4bafa825-f066-425a-a4ac-1830886468eb",
   "metadata": {},
   "source": [
    "## Page 5"
   ]
  },
  {
   "cell_type": "code",
   "execution_count": 40,
   "id": "2253c8f1-9610-46d1-b1d1-1e439ac380f8",
   "metadata": {},
   "outputs": [],
   "source": [
    "L4P5Q1 = MC('1. Suppose you have two vectors x and y that are defined as follows: \\n\\n   x <- c(1,2,3,4,5,6) \\n   y <- c(7,6,5,4,3,2) \\n\\nWhat is the value of the following condition? \\n\\n   x <= y\\n',['A. [1] FALSE FALSE FALSE FALSE TRUE TRUE','B. [1] TRUE TRUE TRUE TRUE FALSE FALSE','C. [1] TRUE TRUE TRUE FALSE FALSE FALSE','D. [1] TRUE TRUE TRUE TRUE TRUE TRUE'],'B. [1] TRUE TRUE TRUE TRUE FALSE FALSE', cor='', incor='')\n",
    "L4P5Q2 = MC('1. Suppose that you have a data vector that has been corrupted. Between every valid data value, someone inserted the number 42, sometimes multiple \\ntimes. Your data vector is: \\n\\n   arthur.dent <- c(1,42,4,42,42,42,9,42,16,42,42) \\n\\nWhich of the following R expressions will remove the 42\\'s, giving the output:\\n\\n   [1] 1 4 9 16\\n',['A. arthur.dent[arthur.dent >= 42]','B. arthur.dent[arthur.dent != 42]','C. arthur.dent[arthur.dent == 42]','D. arthur.dent[arthur.dent <= 42]'],'B. arthur.dent[arthur.dent != 42]', cor='', incor='')\n"
   ]
  },
  {
   "cell_type": "code",
   "execution_count": 41,
   "id": "64643b44-b7f9-44a5-ab49-a01ba0847aaa",
   "metadata": {},
   "outputs": [
    {
     "data": {
      "application/vnd.jupyter.widget-view+json": {
       "model_id": "b63f578cd1f3494cb107168ebdb702df",
       "version_major": 2,
       "version_minor": 0
      },
      "text/plain": [
       "VBox(children=(Output(outputs=({'name': 'stdout', 'text': '1. Suppose you have two vectors x and y that are de…"
      ]
     },
     "metadata": {},
     "output_type": "display_data"
    },
    {
     "data": {
      "application/vnd.jupyter.widget-view+json": {
       "model_id": "2505f346b2c8422bb4986419c70fc327",
       "version_major": 2,
       "version_minor": 0
      },
      "text/plain": [
       "VBox(children=(Output(outputs=({'name': 'stdout', 'text': \"1. Suppose that you have a data vector that has bee…"
      ]
     },
     "metadata": {},
     "output_type": "display_data"
    }
   ],
   "source": [
    "if __name__ == \"__main__\":\n",
    "    display(L4P5Q1, L4P5Q2)"
   ]
  },
  {
   "cell_type": "markdown",
   "id": "8fca6125-dd71-4152-823c-f9bca6a169b3",
   "metadata": {},
   "source": [
    "## Page 6"
   ]
  },
  {
   "cell_type": "code",
   "execution_count": 42,
   "id": "8780b867-5c6d-4ed3-97a5-806d88c974b7",
   "metadata": {},
   "outputs": [],
   "source": [
    "L4P6Q1 = MC('1. Create a vector of wait times (times between eruptions) with this statement: \\n\\n   wait.times <- faithful$waiting\\n\\nWhich of the following is the mean wait time?',['A. 43','B. 70.89706','C. 76','D. 96'],'B. 70.89706', cor='', incor='')\n",
    "L4P6Q2 = MC('2. Create a vector of wait times (times between eruptions) with this statement: \\n\\n   wait.times <- faithful$waiting\\n\\nWhich of the following is the median wait time?',['A. 43','B. 70.89706','C. 76','D. 96'],'C. 76', cor='', incor='')\n",
    "L4P6Q3 = MC('3. Create a vector of wait times (times between eruptions) with this statement: \\n\\n   wait.times <- faithful$waiting\\n\\nWhich of the following is the minimum wait time?',['A. 43','B. 70.89706','C. 76','D. 96'],'A. 43', cor='', incor='')\n",
    "L4P6Q4 = MC('4. Create a vector of wait times (times between eruptions) with this statement: \\n\\n   wait.times <- faithful$waiting\\n\\nWhich of the following is the maximum wait time?',['A. 43','B. 70.89706','C. 76','D. 96'],'D. 96', cor='', incor='')\n",
    "L4P6Q5 = MC('5. Which statement would product quartiles?',['A. summary()','B. sd()','C. median()','D. max()'],'A. summary()', cor='', incor='')\n"
   ]
  },
  {
   "cell_type": "code",
   "execution_count": 43,
   "id": "23d360cb-6bb1-4f2f-87b6-36abd1bf1df7",
   "metadata": {},
   "outputs": [
    {
     "data": {
      "application/vnd.jupyter.widget-view+json": {
       "model_id": "c141b77c5a1246f1b6f2385a3c34501e",
       "version_major": 2,
       "version_minor": 0
      },
      "text/plain": [
       "VBox(children=(Output(outputs=({'name': 'stdout', 'text': '1. Create a vector of wait times (times between eru…"
      ]
     },
     "metadata": {},
     "output_type": "display_data"
    },
    {
     "data": {
      "application/vnd.jupyter.widget-view+json": {
       "model_id": "ed29e593f25746bdb4b49018d620c6a1",
       "version_major": 2,
       "version_minor": 0
      },
      "text/plain": [
       "VBox(children=(Output(outputs=({'name': 'stdout', 'text': '2. Create a vector of wait times (times between eru…"
      ]
     },
     "metadata": {},
     "output_type": "display_data"
    },
    {
     "data": {
      "application/vnd.jupyter.widget-view+json": {
       "model_id": "3d6fc9a835c145cb9f55692d8a905e35",
       "version_major": 2,
       "version_minor": 0
      },
      "text/plain": [
       "VBox(children=(Output(outputs=({'name': 'stdout', 'text': '3. Create a vector of wait times (times between eru…"
      ]
     },
     "metadata": {},
     "output_type": "display_data"
    },
    {
     "data": {
      "application/vnd.jupyter.widget-view+json": {
       "model_id": "3342d8704d724291b3160f310b078db3",
       "version_major": 2,
       "version_minor": 0
      },
      "text/plain": [
       "VBox(children=(Output(outputs=({'name': 'stdout', 'text': '4. Create a vector of wait times (times between eru…"
      ]
     },
     "metadata": {},
     "output_type": "display_data"
    },
    {
     "data": {
      "application/vnd.jupyter.widget-view+json": {
       "model_id": "0a90a69d9bb74a4a82cc5e9e46337ddf",
       "version_major": 2,
       "version_minor": 0
      },
      "text/plain": [
       "VBox(children=(Output(outputs=({'name': 'stdout', 'text': '5. Which statement would product quartiles?\\n', 'ou…"
      ]
     },
     "metadata": {},
     "output_type": "display_data"
    }
   ],
   "source": [
    "if __name__ == \"__main__\":\n",
    "    display(L4P6Q1, L4P6Q2, L4P6Q3, L4P6Q4, L4P6Q5)"
   ]
  },
  {
   "cell_type": "markdown",
   "id": "b89244c0-5f85-4e19-b9e6-aad2403b94d3",
   "metadata": {},
   "source": [
    "# Lesson 5\n",
    "## Page 2"
   ]
  },
  {
   "cell_type": "code",
   "execution_count": 44,
   "id": "38553156-4bca-400a-b2de-bd7d63139a2a",
   "metadata": {},
   "outputs": [],
   "source": [
    "L5P2Q1 = MC('1. Which of the following is NOT an advantage of using \\033[1mggplot2\\033[0m?',['A. Simple to use','B. Consistency in language and structure','C. Better customization','D. Included in R base'],'D. Included in R base', cor='', incor='')\n",
    "L5P2Q2 = MC('2. What function makes a library usable?',['A. data.frame()','B. library()','C. install.packages()','D. ggplot2'],'B. library()', cor='', incor='')\n"
   ]
  },
  {
   "cell_type": "code",
   "execution_count": 45,
   "id": "e1dd9be5-2c81-484c-ba07-6d5146fcd667",
   "metadata": {},
   "outputs": [
    {
     "data": {
      "application/vnd.jupyter.widget-view+json": {
       "model_id": "9158d673c9d4469e9dbd3e7492df5a17",
       "version_major": 2,
       "version_minor": 0
      },
      "text/plain": [
       "VBox(children=(Output(outputs=({'name': 'stdout', 'text': '1. Which of the following is NOT an advantage of us…"
      ]
     },
     "metadata": {},
     "output_type": "display_data"
    },
    {
     "data": {
      "application/vnd.jupyter.widget-view+json": {
       "model_id": "48cdef4545584ec0bf6f2475ac591d70",
       "version_major": 2,
       "version_minor": 0
      },
      "text/plain": [
       "VBox(children=(Output(outputs=({'name': 'stdout', 'text': '2. What function makes a library usable?\\n', 'outpu…"
      ]
     },
     "metadata": {},
     "output_type": "display_data"
    }
   ],
   "source": [
    "if __name__ == \"__main__\":\n",
    "    display(L5P2Q1, L5P2Q2)"
   ]
  },
  {
   "cell_type": "markdown",
   "id": "94f75fc0-0dc3-4b40-be00-ed84f57606bc",
   "metadata": {},
   "source": [
    "## Page 3"
   ]
  },
  {
   "cell_type": "code",
   "execution_count": 46,
   "id": "adb26281-d394-4c25-a0f3-c7679adbf445",
   "metadata": {},
   "outputs": [],
   "source": [
    "L5P3Q1 = MC('1. Which argument to \\033[31;1mgeom_histogram()\\033[0m will change how wide the histogram bars are??',['A. binwidth=','B. ggtitle()','C. xlab()','D. ylab()'],'A. binwidth=', cor='', incor='')\n",
    "L5P3Q2 = MC('2. The waiting times for the Old Faithful data are in the column labeled waiting. You set up a histogram of these times with the following call to ggplot():\\n\\n   \\033[31mwaiting_histogram <- ggplot(faithful, aes(x = waiting))\\033[0m \\n\\n?Which of the following commands will create the following histogram (above)? This histogram has bins whose width is three minutes.',['A. waiting_histogram + geom_histogram()','B. waiting_histogram + geom_histogram(binwidth = 10)','C. waiting_histogram + geom_histogram(breaks = seq(30, 100, by = 7))','D. waiting_histogram + geom_histogram(binwidth = 3)'],'D. waiting_histogram + geom_histogram(binwidth = 3)', cor='', incor='')\n",
    "L5P3Q3 = MC('3. Which of these arguments to will NOT influence the color of the graph?',['A. color=','B. ylab()','C. fill='],'B. ylab()', cor='', incor='')"
   ]
  },
  {
   "cell_type": "code",
   "execution_count": 47,
   "id": "25b566df-4834-4901-8dfd-7d12406d59c4",
   "metadata": {},
   "outputs": [
    {
     "data": {
      "application/vnd.jupyter.widget-view+json": {
       "model_id": "55ff4debd484463384beb3cc2e349de5",
       "version_major": 2,
       "version_minor": 0
      },
      "text/plain": [
       "VBox(children=(Output(outputs=({'name': 'stdout', 'text': '1. Which argument to \\x1b[31;1mgeom_histogram()\\x1b…"
      ]
     },
     "metadata": {},
     "output_type": "display_data"
    }
   ],
   "source": [
    "if __name__ == \"__main__\":\n",
    "    display(L5P3Q1)"
   ]
  },
  {
   "cell_type": "markdown",
   "id": "6b0619c7-9d97-4bc3-b85c-4ebddca161cf",
   "metadata": {},
   "source": [
    "<p style=\"text-align: center\">\n",
    "  <img src=\"Media/L05-ExerciseWaiting.png\" alt=\"Drawing\" style=\"width: 500px;\"/>\n",
    "</p>"
   ]
  },
  {
   "cell_type": "code",
   "execution_count": 48,
   "id": "4d65a133-2e3d-4702-baf7-e76bb7415280",
   "metadata": {},
   "outputs": [
    {
     "data": {
      "application/vnd.jupyter.widget-view+json": {
       "model_id": "48b3efccd7ca464f92431c6a6a5a2eaf",
       "version_major": 2,
       "version_minor": 0
      },
      "text/plain": [
       "VBox(children=(Output(outputs=({'name': 'stdout', 'text': '2. The waiting times for the Old Faithful data are …"
      ]
     },
     "metadata": {},
     "output_type": "display_data"
    },
    {
     "data": {
      "application/vnd.jupyter.widget-view+json": {
       "model_id": "1779e8b4a69043bd9b6a8575fca22fc7",
       "version_major": 2,
       "version_minor": 0
      },
      "text/plain": [
       "VBox(children=(Output(outputs=({'name': 'stdout', 'text': '3. Which of these arguments to will NOT influence t…"
      ]
     },
     "metadata": {},
     "output_type": "display_data"
    }
   ],
   "source": [
    "if __name__ == \"__main__\":\n",
    "    display(L5P3Q2, L5P3Q3)"
   ]
  },
  {
   "cell_type": "markdown",
   "id": "35a75eef-341b-4210-8764-8189c29a8321",
   "metadata": {},
   "source": [
    "## Page 4"
   ]
  },
  {
   "cell_type": "code",
   "execution_count": 49,
   "id": "2cc860fc-faf4-4669-9c51-68a09fb193da",
   "metadata": {},
   "outputs": [],
   "source": [
    "L5P4Q1 = MC('1. In this statement, what is the purpose of the dollar sign?\\n\\n   \\033[31mplanes$engine\\033[0m\\n',['A. To make a boxplot','B. To specify the variable in the data frame of interest','C. To indicate the vector','D. To remove a variable'],'B. To specify the variable in the data frame of interest', cor='', incor='The command \\033[31mgeom_boxplot()\\033[0m will make a boxplot and a vector will not have multiple variables in it')\n",
    "L5P4Q2 = MC('2. Why are outliers important?',['A. They aren\\'t important','B. They make a boxplot less visually appealing','C. They can bias the data'],'C. They can bias the data', cor='Outliers can make the mean seem higher or lower than it really is', incor='')\n",
    "L5P4Q3 = MC('3. How do you mathematically detect outliers?',['A. Anything that is inside the whisker is an outlier','B. Anything that is outside the whisker is an outlier','C. An outlier is 1.5 times above or below the IQR','D. An outlier is 1.5 time above or below the mean'],'C. An outlier is 1.5 times above or below the IQR', cor='', incor='You can visually inspect for outliers with the whisker, but will need to use the IQR to mathematically detect outliers')\n"
   ]
  },
  {
   "cell_type": "code",
   "execution_count": 50,
   "id": "83bb4d3a-ae65-4043-9a42-8a52e7e1a10a",
   "metadata": {},
   "outputs": [
    {
     "data": {
      "application/vnd.jupyter.widget-view+json": {
       "model_id": "ed061d89015e4ed89c0ccaffabd5ea1e",
       "version_major": 2,
       "version_minor": 0
      },
      "text/plain": [
       "VBox(children=(Output(outputs=({'name': 'stdout', 'text': '1. In this statement, what is the purpose of the do…"
      ]
     },
     "metadata": {},
     "output_type": "display_data"
    },
    {
     "data": {
      "application/vnd.jupyter.widget-view+json": {
       "model_id": "2d38bc6d274f4df6a35d9f8f61c69374",
       "version_major": 2,
       "version_minor": 0
      },
      "text/plain": [
       "VBox(children=(Output(outputs=({'name': 'stdout', 'text': '2. Why are outliers important?\\n', 'output_type': '…"
      ]
     },
     "metadata": {},
     "output_type": "display_data"
    },
    {
     "data": {
      "application/vnd.jupyter.widget-view+json": {
       "model_id": "02a031c60d094402ad3369aea155d3d0",
       "version_major": 2,
       "version_minor": 0
      },
      "text/plain": [
       "VBox(children=(Output(outputs=({'name': 'stdout', 'text': '3. How do you mathematically detect outliers?\\n', '…"
      ]
     },
     "metadata": {},
     "output_type": "display_data"
    }
   ],
   "source": [
    "if __name__ == \"__main__\":\n",
    "    display(L5P4Q1, L5P4Q2, L5P4Q3)"
   ]
  },
  {
   "cell_type": "markdown",
   "id": "2cc3ac61-a16a-430c-b813-b10774df891c",
   "metadata": {},
   "source": [
    "## Page 5"
   ]
  },
  {
   "cell_type": "code",
   "execution_count": 51,
   "id": "641ddf94-3b78-4b45-a51f-f9fe75922f2c",
   "metadata": {},
   "outputs": [],
   "source": [
    "L5P5Q1 = MC('1. How should you interpret a normal probability plot?',['A. If the points fall in approximately a straight line, the the data is normally distributed','B. If a \"fat pencil\" covers most of the points, then the data is normally distributed','C. Both A and B are correct','D. Neither A nor B are correct'],'C. Both A and B are correct', cor='', incor='')"
   ]
  },
  {
   "cell_type": "code",
   "execution_count": 52,
   "id": "a0428665-cdeb-4132-901b-3f573e752691",
   "metadata": {},
   "outputs": [
    {
     "data": {
      "application/vnd.jupyter.widget-view+json": {
       "model_id": "e6aaa72b4e974d6a8fb667e71af08a82",
       "version_major": 2,
       "version_minor": 0
      },
      "text/plain": [
       "VBox(children=(Output(outputs=({'name': 'stdout', 'text': '1. How should you interpret a normal probability pl…"
      ]
     },
     "metadata": {},
     "output_type": "display_data"
    }
   ],
   "source": [
    "if __name__ == \"__main__\":\n",
    "    display(L5P5Q1)"
   ]
  },
  {
   "cell_type": "markdown",
   "id": "769477a6-b69a-4929-8ee3-3fa3e82de730",
   "metadata": {
    "tags": []
   },
   "source": [
    "# Lesson 6\n",
    "## Page 2"
   ]
  },
  {
   "cell_type": "code",
   "execution_count": 77,
   "id": "dfc10aca-0308-451f-8209-b62172f44c8f",
   "metadata": {},
   "outputs": [],
   "source": [
    "L6P2Q1 = MC('1. There is a variable named \\033[31;1mdogs$puppy_class\\033[0m with three categorical options: \\033[31;1mWorking, Herding,\\033[0m and \\033[31;1mSporting\\033[0m. \\nWhat would be the factor(s), and what would be the levels?',['A. Working, Herding, and Sporting are the factors, and dogs$puppy_class is the level','B. puppy_class is the factor, and Working, Herding, and Sporting are the levels','C. dogs is the factor, and Working, Herding, and Sporting are the levels','D. Working, Herding, and Sporting are the factors, and dogs is the level'],'B. puppy_class is the factor, and Working, Herding, and Sporting are the levels', cor='A factor is a categorical variable in R, and the levels are the category options for the data.', incor='')\n",
    "L6P2Q2 = MC('2. True or False?\\n\\n   In the line \\033[31;1mdogs$puppy_class, puppy_class\\033[0m is the name of the data frame.',['A. True','B. False'],'B. False', cor='dogs is the name of the data frame. The data frame name will always come first, followed by the variable or column name.', incor='')\n",
    "L6P2Q3 = MC('3. Which command will pop up a user-friendly view of your data?',['A. c()','B. []','C. $','D. View()'],'D. View()', cor='This will show your data in the View pane without you having to click on it in the Environment pane.', incor='')\n"
   ]
  },
  {
   "cell_type": "code",
   "execution_count": 78,
   "id": "395d3778-f229-4735-ba2e-ed9a179b3dcf",
   "metadata": {},
   "outputs": [
    {
     "data": {
      "application/vnd.jupyter.widget-view+json": {
       "model_id": "901f463eedfd4c0c8416e9d136c292b6",
       "version_major": 2,
       "version_minor": 0
      },
      "text/plain": [
       "VBox(children=(Output(outputs=({'name': 'stdout', 'text': '1. There is a variable named \\x1b[31;1mdogs$puppy_c…"
      ]
     },
     "metadata": {},
     "output_type": "display_data"
    },
    {
     "data": {
      "application/vnd.jupyter.widget-view+json": {
       "model_id": "6485f91906f24cfa886d37d5b32cae71",
       "version_major": 2,
       "version_minor": 0
      },
      "text/plain": [
       "VBox(children=(Output(outputs=({'name': 'stdout', 'text': '2. True or False?\\n\\n   In the line \\x1b[31;1mdogs$…"
      ]
     },
     "metadata": {},
     "output_type": "display_data"
    },
    {
     "data": {
      "application/vnd.jupyter.widget-view+json": {
       "model_id": "90525ae0e6814cf5889d091598457b32",
       "version_major": 2,
       "version_minor": 0
      },
      "text/plain": [
       "VBox(children=(Output(outputs=({'name': 'stdout', 'text': '3. Which command will pop up a user-friendly view o…"
      ]
     },
     "metadata": {},
     "output_type": "display_data"
    }
   ],
   "source": [
    "if __name__ == \"__main__\":\n",
    "    display(L6P2Q1, L6P2Q2, L6P2Q3)"
   ]
  },
  {
   "cell_type": "markdown",
   "id": "3bdc94af-3334-4938-bcb8-9f6ee4f67302",
   "metadata": {},
   "source": [
    "## Page 3"
   ]
  },
  {
   "cell_type": "code",
   "execution_count": 84,
   "id": "638e1d24-0889-4f14-a3d6-bf0420726992",
   "metadata": {},
   "outputs": [],
   "source": [
    "L6P3Q1 = MC('1. In the \\033[31;1mmtcars\\033[0m data frame, which of the following is not the name of a variable?',['A. mpg','B. Valiant','C. gear','D. hp'],'B. Valiant', cor='This is the name of one of the cars in the data frame. The names of the variables are located in the first row.', incor='')\n",
    "L6P3Q2 = MC('2. How would you view only the bottom six rows of the \\033[31;1mmtcars\\033[0m data frame?',['A. View(mtcars)','B. head(mtcars)','C. print(mtcars)','D. tail(mtcars)'],'D. tail(mtcars)', cor='This will print the last six rows of the data frame.', incor='')\n"
   ]
  },
  {
   "cell_type": "code",
   "execution_count": 85,
   "id": "9d48d5eb-7645-4bde-86c1-f1c9e77b6a55",
   "metadata": {},
   "outputs": [
    {
     "data": {
      "application/vnd.jupyter.widget-view+json": {
       "model_id": "f8c3c4c715ea4d5a8fbcef07a78833b9",
       "version_major": 2,
       "version_minor": 0
      },
      "text/plain": [
       "VBox(children=(Output(outputs=({'name': 'stdout', 'text': '1. In the \\x1b[31;1mmtcars\\x1b[0m data frame, which…"
      ]
     },
     "metadata": {},
     "output_type": "display_data"
    },
    {
     "data": {
      "application/vnd.jupyter.widget-view+json": {
       "model_id": "59e5b21c50ac4836a9c9b978359d8010",
       "version_major": 2,
       "version_minor": 0
      },
      "text/plain": [
       "VBox(children=(Output(outputs=({'name': 'stdout', 'text': '2. How would you view only the bottom six rows of t…"
      ]
     },
     "metadata": {},
     "output_type": "display_data"
    }
   ],
   "source": [
    "if __name__ == \"__main__\":\n",
    "    display(L6P3Q1, L6P3Q2)"
   ]
  },
  {
   "cell_type": "markdown",
   "id": "af4074a0-2c58-4159-bbd1-74da825638e1",
   "metadata": {},
   "source": [
    "## Page 4"
   ]
  },
  {
   "cell_type": "code",
   "execution_count": 92,
   "id": "47075472-fac9-45f7-9377-dd0521bfdeea",
   "metadata": {},
   "outputs": [],
   "source": [
    "L6P4Q1 = MC('1. Columns of data are separated by which punctuation mark in a CSV file?',['A. Space','B. Pipe','C. Comma','D. Tab'],'C. Comma', cor='CSV stands for comma separated values. Commas delineate each column of data.', incor='')\n",
    "L6P4Q2 = MC('2. True or False?\\n\\n   The \\033[31;1mread.csv()\\033[0m function brings data in R.',['A. True','B. False'],'A. True', cor='', incor='')\n",
    "L6P4Q3 = MC('3. What is a working directory?',['A. Your RStudio interface','B. The folder out of which R automatically works','C. Your file explorer'],'B. The folder out of which R automatically works', cor='', incor='')\n"
   ]
  },
  {
   "cell_type": "code",
   "execution_count": 93,
   "id": "6c976ed6-0c02-4c36-af4c-952878da705a",
   "metadata": {},
   "outputs": [
    {
     "data": {
      "application/vnd.jupyter.widget-view+json": {
       "model_id": "7c396cd80955404bb6d4bb1f2b93cad1",
       "version_major": 2,
       "version_minor": 0
      },
      "text/plain": [
       "VBox(children=(Output(outputs=({'name': 'stdout', 'text': '1. Columns of data are separated by which punctuati…"
      ]
     },
     "metadata": {},
     "output_type": "display_data"
    },
    {
     "data": {
      "application/vnd.jupyter.widget-view+json": {
       "model_id": "48f71cced5f6447da1da6adefbd918ee",
       "version_major": 2,
       "version_minor": 0
      },
      "text/plain": [
       "VBox(children=(Output(outputs=({'name': 'stdout', 'text': '2. True or False?\\n\\n   The \\x1b[31;1mread.csv()\\x1…"
      ]
     },
     "metadata": {},
     "output_type": "display_data"
    },
    {
     "data": {
      "application/vnd.jupyter.widget-view+json": {
       "model_id": "4d9786b9ceb44e899244181f26001cbd",
       "version_major": 2,
       "version_minor": 0
      },
      "text/plain": [
       "VBox(children=(Output(outputs=({'name': 'stdout', 'text': '3. What is a working directory?\\n', 'output_type': …"
      ]
     },
     "metadata": {},
     "output_type": "display_data"
    }
   ],
   "source": [
    "if __name__ == \"__main__\":\n",
    "    display(L6P4Q1, L6P4Q2, L6P4Q3)"
   ]
  },
  {
   "cell_type": "markdown",
   "id": "707b7510-19da-43e5-b7e8-9a2f7f3ab765",
   "metadata": {},
   "source": [
    "## Page 5"
   ]
  },
  {
   "cell_type": "code",
   "execution_count": 98,
   "id": "225b3093-5ed9-463f-a142-085b75440236",
   "metadata": {},
   "outputs": [],
   "source": [
    "L6P5Q1 = MC('1. What does the \\033[31;1mread.xlsx()\\033[0m function do?',['A. Exports CSV files into R','B. Exports MS Excel files into R','C. Imports CSV files into R','D. Imports MS Excel files into R'],'D. Imports MS Excel files into R', cor='', incor='')"
   ]
  },
  {
   "cell_type": "code",
   "execution_count": 99,
   "id": "76cd0f2f-3e3e-4c38-8c3b-837309f7fc86",
   "metadata": {},
   "outputs": [
    {
     "data": {
      "application/vnd.jupyter.widget-view+json": {
       "model_id": "52458881ec114ec0afa27e447b639f75",
       "version_major": 2,
       "version_minor": 0
      },
      "text/plain": [
       "VBox(children=(Output(outputs=({'name': 'stdout', 'text': '1. What does the \\x1b[31;1mread.xlsx()\\x1b[0m funct…"
      ]
     },
     "metadata": {},
     "output_type": "display_data"
    }
   ],
   "source": [
    "if __name__ == \"__main__\":\n",
    "    display(L6P5Q1)"
   ]
  },
  {
   "cell_type": "markdown",
   "id": "c7ffb68c-1df5-474e-9089-80788d88752a",
   "metadata": {},
   "source": [
    "## Page 6"
   ]
  },
  {
   "cell_type": "code",
   "execution_count": 113,
   "id": "08797f11-bc7e-42d5-9eb4-0b7a8ee96a4f",
   "metadata": {},
   "outputs": [],
   "source": [
    "L6P6Q1 = MC('1. You are trying to create a new variable based on other variables in your dataset. What data manipulation would that be?',['A. Filtering','B. Summarizing','C. Mutation','D. Grouping'],'C. Mutation', cor='', incor='')\n",
    "L6P6Q2 = MC('2. You want to arrange your data in numerical order. What data manipulation should you use?',['A. Ordering','B. Selection','C. Grouping','D. Summarizing'],'A. Ordering', cor='', incor='')\n",
    "L6P6Q3 = MC('3. You want to only use two variables out of a larger dataset. What data manipulation would you use?',['A. Mutation','B. Ordering','C. Summarizing','D. Selection'],'D. Selection', cor='', incor='')\n",
    "L6P6Q4 = MC('4. You\\'d like to group values together based on common characteristics. What data manipulation should you use?',['A. Ordering','B. Filtering','C. Mutation','D. Grouping'],'D. Grouping', cor='', incor='')\n",
    "L6P6Q5 = MC('5. You are hoping to describe the data with some sample statistics. What data manipulation would do that?',['A. Selection','B. Summarizing','C. Filtering','D. Mutation'],'B. Summarizing', cor='', incor='')\n",
    "L6P6Q6 = MC('6. You only want to show rows that meet a specific criteria. What data manipulation would perform that action?',['A. Filtering','B. Mutation','C. Grouping','D. Summarizing'],'A. Filtering', cor='', incor='')\n"
   ]
  },
  {
   "cell_type": "code",
   "execution_count": 114,
   "id": "67ca149c-84ba-4cf4-be10-5cb57bee3ee0",
   "metadata": {},
   "outputs": [
    {
     "data": {
      "application/vnd.jupyter.widget-view+json": {
       "model_id": "d9a6911fee1f48c58558529f37a6091b",
       "version_major": 2,
       "version_minor": 0
      },
      "text/plain": [
       "VBox(children=(Output(outputs=({'name': 'stdout', 'text': '1. You are trying to create a new variable based on…"
      ]
     },
     "metadata": {},
     "output_type": "display_data"
    },
    {
     "data": {
      "application/vnd.jupyter.widget-view+json": {
       "model_id": "87e8ffbecbad424695888c8c9fe5dd18",
       "version_major": 2,
       "version_minor": 0
      },
      "text/plain": [
       "VBox(children=(Output(outputs=({'name': 'stdout', 'text': '2. You want to arrange your data in numerical order…"
      ]
     },
     "metadata": {},
     "output_type": "display_data"
    },
    {
     "data": {
      "application/vnd.jupyter.widget-view+json": {
       "model_id": "05f03576006d47ad88c834509e16a82f",
       "version_major": 2,
       "version_minor": 0
      },
      "text/plain": [
       "VBox(children=(Output(outputs=({'name': 'stdout', 'text': '3. You want to only use two variables out of a larg…"
      ]
     },
     "metadata": {},
     "output_type": "display_data"
    },
    {
     "data": {
      "application/vnd.jupyter.widget-view+json": {
       "model_id": "8b37fbaac9aa4f6aa7848c5fbea92887",
       "version_major": 2,
       "version_minor": 0
      },
      "text/plain": [
       "VBox(children=(Output(outputs=({'name': 'stdout', 'text': \"4. You'd like to group values together based on com…"
      ]
     },
     "metadata": {},
     "output_type": "display_data"
    },
    {
     "data": {
      "application/vnd.jupyter.widget-view+json": {
       "model_id": "0415e11fd0f042ea8518c692d7b7ba33",
       "version_major": 2,
       "version_minor": 0
      },
      "text/plain": [
       "VBox(children=(Output(outputs=({'name': 'stdout', 'text': '5. You are hoping to describe the data with some sa…"
      ]
     },
     "metadata": {},
     "output_type": "display_data"
    },
    {
     "data": {
      "application/vnd.jupyter.widget-view+json": {
       "model_id": "90fb4fdb29b843389217f3c33b575123",
       "version_major": 2,
       "version_minor": 0
      },
      "text/plain": [
       "VBox(children=(Output(outputs=({'name': 'stdout', 'text': '6. You only want to show rows that meet a specific …"
      ]
     },
     "metadata": {},
     "output_type": "display_data"
    }
   ],
   "source": [
    "if __name__ == \"__main__\":\n",
    "    display(L6P6Q1, L6P6Q2, L6P6Q3, L6P6Q4, L6P6Q5, L6P6Q6)"
   ]
  },
  {
   "cell_type": "markdown",
   "id": "24ceb746-4961-4cac-960e-0881e42b0076",
   "metadata": {},
   "source": [
    "### Page 7"
   ]
  },
  {
   "cell_type": "code",
   "execution_count": 122,
   "id": "e280003f-a835-4309-995f-b3990f601fcf",
   "metadata": {},
   "outputs": [],
   "source": [
    "L6P7Q1 = MC('1. One of the variables in the mtcars data frame is cyl, which is the number of cylinders in the engine. Suppose you wish to find all the observations for cars with 4 cylinders. Which command would give all these observations?',['A. arrange(mtcars, cyl)`','B. group_by(mtcars, cyl)','C. select(mtcars, cyl)','D. filter(mtcars, cyl ==4)'],'D. filter(mtcars, cyl ==4)', cor='', incor='')\n",
    "L6P7Q2 = MC('2. Another variable in the mtcars data frame is hp, which is the engine horsepower. Suppose you wish to find all the observations for cars with horsepower lower than 100. Which command would give all these observations?',['A. filter(mtcars, hp < 100)','B. filter(mtcars, hp > 100)','C. filter(mtcars, hp == 100)','D. filter(mtcars, hp != 100)'],'A. filter(mtcars, hp < 100)', cor='', incor='')\n",
    "L6P7Q3 = MC('3. Suppose you wish to compute the median value of mpg for the whole data set. Which command would do this?',['A. summarize(mtcars, median.mpg = st(mpg))','B. summarize(mtcars, mpg)','C. summarize(mtcars, median.mpg = mean(mpg))','D. summarize(mtcars, median.mpg = median(mpg))'],'D. summarize(mtcars, median.mpg = median(mpg))', cor='', incor='')\n",
    "L6P7Q4 = MC('4. Suppose you wish to compute the median value of mpg for the cars with 4 cylinders, the median value for cars with 6 cylinders, and the median value for cars with 8 cylinders; cyl is the number of cylinders. Which command would do this?',['A. mtcars %>% group_by(cyl) %>% summarize(median.mpg = median(mpg))','B. mtcars %>% summarize(median.mpg = median(mpg)) %>% group_by(cyl)','C. summarize(median.mpg = median(mpg)) %>% group_by(cyl) %>% mtcars','D. mtcars %>% group_by(gear) %>% sumarize(median.mpg = median(mpg))'],'A. mtcars %>% group_by(cyl) %>% summarize(median.mpg = median(mpg))', cor='', incor='')\n"
   ]
  },
  {
   "cell_type": "code",
   "execution_count": 123,
   "id": "35f5a1ea-5e11-4456-859c-de56c982c82b",
   "metadata": {},
   "outputs": [
    {
     "data": {
      "application/vnd.jupyter.widget-view+json": {
       "model_id": "f4c9752f7c1f46f59ecb0e6cb2af10ed",
       "version_major": 2,
       "version_minor": 0
      },
      "text/plain": [
       "VBox(children=(Output(outputs=({'name': 'stdout', 'text': '1. One of the variables in the mtcars data frame is…"
      ]
     },
     "metadata": {},
     "output_type": "display_data"
    },
    {
     "data": {
      "application/vnd.jupyter.widget-view+json": {
       "model_id": "b16f28bd765344d9b9d4678e1bf9056c",
       "version_major": 2,
       "version_minor": 0
      },
      "text/plain": [
       "VBox(children=(Output(outputs=({'name': 'stdout', 'text': '2. Another variable in the mtcars data frame is hp,…"
      ]
     },
     "metadata": {},
     "output_type": "display_data"
    },
    {
     "data": {
      "application/vnd.jupyter.widget-view+json": {
       "model_id": "308b2acefc58488896b2d89a7fc46db1",
       "version_major": 2,
       "version_minor": 0
      },
      "text/plain": [
       "VBox(children=(Output(outputs=({'name': 'stdout', 'text': '3. Suppose you wish to compute the median value of …"
      ]
     },
     "metadata": {},
     "output_type": "display_data"
    },
    {
     "data": {
      "application/vnd.jupyter.widget-view+json": {
       "model_id": "091edfb032a641e2b54b1da022e9f373",
       "version_major": 2,
       "version_minor": 0
      },
      "text/plain": [
       "VBox(children=(Output(outputs=({'name': 'stdout', 'text': '4. Suppose you wish to compute the median value of …"
      ]
     },
     "metadata": {},
     "output_type": "display_data"
    }
   ],
   "source": [
    "if __name__ == \"__main__\":\n",
    "    display(L6P7Q1, L6P7Q2, L6P7Q3, L6P7Q4)"
   ]
  },
  {
   "cell_type": "markdown",
   "id": "c6f92979-4cbe-45b3-8536-a46ad2187e17",
   "metadata": {},
   "source": [
    "## Page 8"
   ]
  },
  {
   "cell_type": "code",
   "execution_count": 144,
   "id": "d942bf63-1ec5-4d8e-8fa7-cff5f60a53a1",
   "metadata": {},
   "outputs": [],
   "source": [
    "L6P8Q1 = MC('1. Which of the following is NOT something the pipe operator \\033[31;1m%>%\\033[0m does?',['A. Reduces the number of tiems you have to type the data frame name in','B. Makes data analysis easier to read and understand','C. Functions as \"and then\"','D. Filters automatically'],'D. Filters automatically', cor='', incor='')\n",
    "L6P8Q2 = MC('2. Which of the following commands would arrange the observations in the \\033[31;1mmtcars\\033[0m data frame in order of ascending horsepower (\\033[31;1mhp\\033[0m is the variable containing engine horsepower). In other words, the output would have the car with the lowest horsepower first, followed by the car with the next lowest horsepower, and so on.',['A. select(mtcars, hp)','B. group_by(mtcars, hp)','C. arrange(mtcars, hp)','D. filter(mtcars, hp == 245)'],'C. arrange(mtcars, hp)', cor='', incor='')\n",
    "L6P8Q3 = MC('3. Which function will allow data to be sorted from big to small?',['A. desc()','B. asc()','C. arrange()','D. order()'],'A. desc()', cor='', incor='')"
   ]
  },
  {
   "cell_type": "code",
   "execution_count": 145,
   "id": "37cda3c6-9261-48be-9d62-eb506901f8f4",
   "metadata": {},
   "outputs": [
    {
     "data": {
      "application/vnd.jupyter.widget-view+json": {
       "model_id": "8ee0c1cb96fa4623b5212f14e4dee190",
       "version_major": 2,
       "version_minor": 0
      },
      "text/plain": [
       "VBox(children=(Output(outputs=({'name': 'stdout', 'text': '1. Which of the following is NOT something the pipe…"
      ]
     },
     "metadata": {},
     "output_type": "display_data"
    },
    {
     "data": {
      "application/vnd.jupyter.widget-view+json": {
       "model_id": "995e022c2d0546d3a63eb7ca5583f323",
       "version_major": 2,
       "version_minor": 0
      },
      "text/plain": [
       "VBox(children=(Output(outputs=({'name': 'stdout', 'text': '2. Which of the following commands would arrange th…"
      ]
     },
     "metadata": {},
     "output_type": "display_data"
    },
    {
     "data": {
      "application/vnd.jupyter.widget-view+json": {
       "model_id": "3311e181ff854749ace06da0b0d8917f",
       "version_major": 2,
       "version_minor": 0
      },
      "text/plain": [
       "VBox(children=(Output(outputs=({'name': 'stdout', 'text': '3. Which function will allow data to be sorted from…"
      ]
     },
     "metadata": {},
     "output_type": "display_data"
    }
   ],
   "source": [
    "if __name__ == \"__main__\":\n",
    "    display(L6P8Q1, L6P8Q2, L6P8Q3)"
   ]
  },
  {
   "cell_type": "markdown",
   "id": "a987dd12-169a-4f3c-a54b-554aaca3c207",
   "metadata": {},
   "source": [
    "## Page 9"
   ]
  },
  {
   "cell_type": "code",
   "execution_count": 152,
   "id": "22f6acba-44f6-42bf-a315-c3dfbb7c3715",
   "metadata": {},
   "outputs": [],
   "source": [
    "L6P9Q1 = MC('1. Which of the following commands would return a data frame that has only the variables \\033[31;1mhp\\033[0m and \\033[31;1mcyl\\033[0m?',['A. select(mtcars, hp, cyl)','B. group_by(mtcars, hp, cyl)','C. arrange(mtcars, hp, cyl)','D. filter(mtcars, hp == 245, cyl == 6)'],'A. select(mtcars, hp, cyl)', cor='', incor='')\n",
    "L6P9Q2 = MC('2. What is mutation?',['A. What happens to superheroes when they get hit with radioactivity','B. Removing a column','C. Computing new variables from existing columns','D. Adding in a new variable from a vector'],'C. Computing new variables from existing columns', cor='', incor='')"
   ]
  },
  {
   "cell_type": "code",
   "execution_count": 153,
   "id": "d3a82754-0f14-48f2-ad89-6edf9fbc30ca",
   "metadata": {},
   "outputs": [
    {
     "data": {
      "application/vnd.jupyter.widget-view+json": {
       "model_id": "592e9304e5454ed9999f376483b6a513",
       "version_major": 2,
       "version_minor": 0
      },
      "text/plain": [
       "VBox(children=(Output(outputs=({'name': 'stdout', 'text': '1. Which of the following commands would return a d…"
      ]
     },
     "metadata": {},
     "output_type": "display_data"
    },
    {
     "data": {
      "application/vnd.jupyter.widget-view+json": {
       "model_id": "d8c70faea8aa43dcb7501e1d50b6b9da",
       "version_major": 2,
       "version_minor": 0
      },
      "text/plain": [
       "VBox(children=(Output(outputs=({'name': 'stdout', 'text': '2. What is mutation?\\n', 'output_type': 'stream'},)…"
      ]
     },
     "metadata": {},
     "output_type": "display_data"
    }
   ],
   "source": [
    "if __name__ == \"__main__\":\n",
    "    display(L6P9Q1, L6P9Q2)"
   ]
  },
  {
   "cell_type": "markdown",
   "id": "5f588af8-edf2-45de-b9ba-b2139d4004ef",
   "metadata": {},
   "source": [
    "## Page 10"
   ]
  },
  {
   "cell_type": "code",
   "execution_count": 224,
   "id": "4ec8d358-9b4b-4548-9169-11c0b7a00952",
   "metadata": {},
   "outputs": [],
   "source": [
    "L6P10Q1 = MC('1. What is a tibble?',['A. A function','B. A matrix','C. A \"tidyverse\" specific dataframe','D.'],'A. Exact Answer', cor='', incor='')\n",
    "L6P10Q2 = MC('2. To get the mean of a certain data frame column, which function would you use?',['A. summarize()','B. group_by()','C. select()','D. mutate()'],'A. summarize()', cor='', incor='')\n",
    "L6P10Q3 = MC('3. True or False?\\n\\n   \\033[31;1mgroup_by\\033[0m cannot be combined with any other function.\\n',['A. True','B. False'],'B. False', cor='', incor='')"
   ]
  },
  {
   "cell_type": "code",
   "execution_count": 225,
   "id": "9c029fe4-782e-49e8-a022-8fb317997bd0",
   "metadata": {},
   "outputs": [
    {
     "data": {
      "application/vnd.jupyter.widget-view+json": {
       "model_id": "d0631d68f1d04a4ebf008de6624d4716",
       "version_major": 2,
       "version_minor": 0
      },
      "text/plain": [
       "VBox(children=(Output(outputs=({'name': 'stdout', 'text': '1. What is a tibble?\\n', 'output_type': 'stream'},)…"
      ]
     },
     "metadata": {},
     "output_type": "display_data"
    },
    {
     "data": {
      "application/vnd.jupyter.widget-view+json": {
       "model_id": "2da37f3f03f349ada3b4b8cc09b74140",
       "version_major": 2,
       "version_minor": 0
      },
      "text/plain": [
       "VBox(children=(Output(outputs=({'name': 'stdout', 'text': '2. To get the mean of a certain data frame column, …"
      ]
     },
     "metadata": {},
     "output_type": "display_data"
    },
    {
     "data": {
      "application/vnd.jupyter.widget-view+json": {
       "model_id": "b19b9b827427473bbf525190ccdadc88",
       "version_major": 2,
       "version_minor": 0
      },
      "text/plain": [
       "VBox(children=(Output(outputs=({'name': 'stdout', 'text': '3. True or False?\\n\\n   \\x1b[31;1mgroup_by\\x1b[0m c…"
      ]
     },
     "metadata": {},
     "output_type": "display_data"
    }
   ],
   "source": [
    "if __name__ == \"__main__\":\n",
    "    display(L6P10Q1, L6P10Q2, L6P10Q3)"
   ]
  },
  {
   "cell_type": "markdown",
   "id": "3e47b2e6-822e-4415-9284-a7311a79514b",
   "metadata": {},
   "source": [
    "## Page 11"
   ]
  },
  {
   "cell_type": "code",
   "execution_count": 230,
   "id": "0c2ff872-8998-4f66-b388-f5e39ac5ad30",
   "metadata": {},
   "outputs": [],
   "source": [
    "L6P11Q1 = MC('1. Something created with the following code would yield what?\\n\\n   \\033[31;1mggplot(stress_relief, aes(x = MeditationYN, y = BloodPressure)) + geom_boxplot(aes(group = MeditationYN))',['A. A tibble summarized by MeditationYN','B. A tibble summarized by BloodPressure','C. A side-by-side box plot with BloodPressure as the grouping variable and MeditationYN as the continuous variable','D. A side-by-side box plot with MedicationYN as the grouping variable and BloodPressure as the continuous variable'],'D. A side-by-side box plot with MedicationYN as the grouping variable and BloodPressure as the continuous variable', cor='', incor='')"
   ]
  },
  {
   "cell_type": "code",
   "execution_count": 231,
   "id": "09be7dc4-b22f-4755-8efe-4a9a2fa13597",
   "metadata": {},
   "outputs": [
    {
     "data": {
      "application/vnd.jupyter.widget-view+json": {
       "model_id": "219dee05408b4bab90898b1abb448e82",
       "version_major": 2,
       "version_minor": 0
      },
      "text/plain": [
       "VBox(children=(Output(outputs=({'name': 'stdout', 'text': '1. Something created with the following code would …"
      ]
     },
     "metadata": {},
     "output_type": "display_data"
    }
   ],
   "source": [
    "if __name__ == \"__main__\":\n",
    "    display(L6P11Q1)"
   ]
  },
  {
   "cell_type": "markdown",
   "id": "f75465f4-2605-46b8-8d5a-3757ecb74039",
   "metadata": {},
   "source": [
    "# Lesson 7\n",
    "## Page 2"
   ]
  },
  {
   "cell_type": "code",
   "execution_count": 240,
   "id": "0a49e5a2-5ba1-4a9b-904f-8ec65e660f36",
   "metadata": {},
   "outputs": [],
   "source": [
    "L7P2Q1 = MC('1. Google gives the level of Lake Huron as 577 feet above sea level. You want to test whether the data in the built-in dataset LakeHuron provides evidence that this is the correct lake level. Create a t-test to do this. What is the null hypothesis for this test?',['A. H0: mu = 0','B. H0: mu = 577','C. H0: mu = -577','D. H0: mu = 1000'],'B. H0: mu = 577', cor='', incor='')\n",
    "L7P2Q2 = MC('2. What is the p-value for this t-test?',['A. 0.05','B. 0.01','C. 0.001','D. Less than 2.2e-16 (a very small number)'],'D. Less than 2.2e-16 (a very small number)', cor='', incor='')\n",
    "L7P2Q3 = MC('3. Based on the p-value you chose, does this data provide evidence to reject the null hypotheses?',['A. Yes','B. No'],'A. Yes', cor='', incor='')\n",
    "L7P2Q4 = MC('4. What function would you use to add vertical lines to a histogram?',['A. ggplot()','B. geom_histogram()','C. geom_vline()','D. geom_hline()'],'C. geom_vline()', cor='', incor='')"
   ]
  },
  {
   "cell_type": "code",
   "execution_count": 241,
   "id": "56448ff7-1397-408b-a7c5-0bf712ee86d8",
   "metadata": {},
   "outputs": [
    {
     "data": {
      "application/vnd.jupyter.widget-view+json": {
       "model_id": "e6a64a3439e14de18a4d27f3d1be420a",
       "version_major": 2,
       "version_minor": 0
      },
      "text/plain": [
       "VBox(children=(Output(outputs=({'name': 'stdout', 'text': '1. Google gives the level of Lake Huron as 577 feet…"
      ]
     },
     "metadata": {},
     "output_type": "display_data"
    },
    {
     "data": {
      "application/vnd.jupyter.widget-view+json": {
       "model_id": "7eec234007af42b8bd48d6c6e5831b69",
       "version_major": 2,
       "version_minor": 0
      },
      "text/plain": [
       "VBox(children=(Output(outputs=({'name': 'stdout', 'text': '2. What is the p-value for this t-test?\\n', 'output…"
      ]
     },
     "metadata": {},
     "output_type": "display_data"
    },
    {
     "data": {
      "application/vnd.jupyter.widget-view+json": {
       "model_id": "0130c36df8af40db83e08ec8625a92ec",
       "version_major": 2,
       "version_minor": 0
      },
      "text/plain": [
       "VBox(children=(Output(outputs=({'name': 'stdout', 'text': '3. Based on the p-value you chose, does this data p…"
      ]
     },
     "metadata": {},
     "output_type": "display_data"
    },
    {
     "data": {
      "application/vnd.jupyter.widget-view+json": {
       "model_id": "0b36048b9c8a41658ad420131e95e3f0",
       "version_major": 2,
       "version_minor": 0
      },
      "text/plain": [
       "VBox(children=(Output(outputs=({'name': 'stdout', 'text': '4. What function would you use to add vertical line…"
      ]
     },
     "metadata": {},
     "output_type": "display_data"
    }
   ],
   "source": [
    "if __name__ == \"__main__\":\n",
    "    display(L7P2Q1, L7P2Q2, L7P2Q3, L7P2Q4)"
   ]
  },
  {
   "cell_type": "markdown",
   "id": "cc6db454-449d-47a3-a2d6-9302070f3fda",
   "metadata": {},
   "source": [
    "## Page 3"
   ]
  },
  {
   "cell_type": "code",
   "execution_count": 258,
   "id": "2545a6b8-f8c6-4d97-ac60-037f447fa2bc",
   "metadata": {},
   "outputs": [],
   "source": [
    "L7P3Q1 = MC('1. Which of the following is \\033[1mNOT\\033[0m an argument for \\033[31;1malternative = in t.test()\\033[0m?',['A. greater','B. one.sided','C. less','D. two.sided'],'B. one.sided', cor='', incor='')\n",
    "L7P3Q2 = MC('2. The \\033[31;1mDAAG\\033[0m package has data on the levels of several Great Lakes; this data is in the \\033[31;1mgreatLakes\\033[0m dataset. Suppose you want to know whether Lake Erie or Lake Huron has the higher level. You can set up a hypothesis test to do this as follows. \\n\\nFirst, load the \\033[31;1mDAAG\\033[0m package with library(DAAG). Then create two vectors with these commands: \\n\\n   \\033[31;1merie <- greatLakes[,1]\\033[0m and \\033[31;1mhuron <- greatLakes[,2]\\033[0m. \\n\\nUse these vectors to create a hypothesis test to determine whether the two lake levels are equal. What is the null hypothesis for this test?',['A. H0: mu1 = mu2','B. H0: mu1 > mu2','C. H0: mu1 < mu2','D. H0: mu1 is not equal to mu2'],'A. H0: mu1 = mu2', cor='', incor='')\n",
    "L7P3Q3 = MC('3. What is the p-value for this t-test?',['A. 0.05','B. 0.01','C. 0.001','D. Less than 2.2e-16 (a very small number)'],'D. Less than 2.2e-16 (a very small number)', cor='', incor='')\n",
    "L7P3Q4 = MC('4. Based on the p-value above, does this data provide evidence to reject the null hypotheses?',['A. Yes','B. No'],'A. Yes', cor='', incor='')"
   ]
  },
  {
   "cell_type": "code",
   "execution_count": 259,
   "id": "08d51c27-75d6-454f-aca5-b040e757daf8",
   "metadata": {},
   "outputs": [
    {
     "data": {
      "application/vnd.jupyter.widget-view+json": {
       "model_id": "8cb4836d707e4fefb10030a0e8a6dfaf",
       "version_major": 2,
       "version_minor": 0
      },
      "text/plain": [
       "VBox(children=(Output(outputs=({'name': 'stdout', 'text': '1. Which of the following is \\x1b[1mNOT\\x1b[0m an a…"
      ]
     },
     "metadata": {},
     "output_type": "display_data"
    },
    {
     "data": {
      "application/vnd.jupyter.widget-view+json": {
       "model_id": "d496ffec0905441282bf441bd6452651",
       "version_major": 2,
       "version_minor": 0
      },
      "text/plain": [
       "VBox(children=(Output(outputs=({'name': 'stdout', 'text': '2. The \\x1b[31;1mDAAG\\x1b[0m package has data on th…"
      ]
     },
     "metadata": {},
     "output_type": "display_data"
    },
    {
     "data": {
      "application/vnd.jupyter.widget-view+json": {
       "model_id": "5bd2b8b364634ddc84651ced31bf606f",
       "version_major": 2,
       "version_minor": 0
      },
      "text/plain": [
       "VBox(children=(Output(outputs=({'name': 'stdout', 'text': '3. What is the p-value for this t-test?\\n', 'output…"
      ]
     },
     "metadata": {},
     "output_type": "display_data"
    },
    {
     "data": {
      "application/vnd.jupyter.widget-view+json": {
       "model_id": "7d5a1e64fe3b4228a42df7ac11d11410",
       "version_major": 2,
       "version_minor": 0
      },
      "text/plain": [
       "VBox(children=(Output(outputs=({'name': 'stdout', 'text': '4. Based on the p-value above, does this data provi…"
      ]
     },
     "metadata": {},
     "output_type": "display_data"
    }
   ],
   "source": [
    "if __name__ == \"__main__\":\n",
    "    display(L7P3Q1, L7P3Q2, L7P3Q3, L7P3Q4)"
   ]
  },
  {
   "cell_type": "markdown",
   "id": "0a5efaaa-354b-477d-a4cd-e2997a9090e6",
   "metadata": {},
   "source": [
    "## Page 4"
   ]
  },
  {
   "cell_type": "code",
   "execution_count": 268,
   "id": "fe998168-ce67-40f9-9f71-58888f058dba",
   "metadata": {},
   "outputs": [],
   "source": [
    "L7P4Q1 = MC('1. Which of the following turns \\033[31;1mt.test\\033[0m into a dependent t test?',['A. var.equal=','B. alternative=','C. paired=TRUE','D. paired=FALSE'],'C. paired=TRUE', cor='', incor='')\n",
    "L7P4Q2 = MC('2. True or False?\\n\\nThe \\033[31;1mmelt()\\033[0m function reorganizes your data from having values stored in two columns, with a label as the header row, to values stored in one column, with labels stored in a second column.',['A. True','B. False'],'B. False', cor='', incor='')"
   ]
  },
  {
   "cell_type": "code",
   "execution_count": 269,
   "id": "dd50a7ca-dd7f-4d4a-a86b-059600f2fc5e",
   "metadata": {},
   "outputs": [
    {
     "data": {
      "application/vnd.jupyter.widget-view+json": {
       "model_id": "582d8ca204ea49739b553593a55a4878",
       "version_major": 2,
       "version_minor": 0
      },
      "text/plain": [
       "VBox(children=(Output(outputs=({'name': 'stdout', 'text': '1. Which of the following turns \\x1b[31;1mt.test\\x1…"
      ]
     },
     "metadata": {},
     "output_type": "display_data"
    },
    {
     "data": {
      "application/vnd.jupyter.widget-view+json": {
       "model_id": "9a634d6984444c229786501a46ff66a6",
       "version_major": 2,
       "version_minor": 0
      },
      "text/plain": [
       "VBox(children=(Output(outputs=({'name': 'stdout', 'text': '2. True or False?\\n\\nThe \\x1b[31;1mmelt()\\x1b[0m fu…"
      ]
     },
     "metadata": {},
     "output_type": "display_data"
    }
   ],
   "source": [
    "if __name__ == \"__main__\":\n",
    "    display(L7P4Q1, L7P4Q2)"
   ]
  },
  {
   "cell_type": "markdown",
   "id": "6af4e5ea-b690-4646-83c9-eb61310d79ed",
   "metadata": {},
   "source": [
    "# Lesson 8\n",
    "## Page 2"
   ]
  },
  {
   "cell_type": "code",
   "execution_count": 278,
   "id": "45125675-a352-4de6-88df-c0b0b9e2d2c3",
   "metadata": {},
   "outputs": [],
   "source": [
    "L8P2Q1 = MC('1. Which command would create the following scatter plot? (above)',['A. ggplot(mtcars, aes(x = disp, y = mpg)) + geom_line()','B. ggplot(mtcars, aes(x = mpg, y = disp)) + geom_point()','C. ggplot(mtcars, aes(x = mpg, y = disp)) + geom_line()','D. ggplot(mtcars, aes(x = disp, y = mpg)) + geom_point()'],'D. ggplot(mtcars, aes(x = disp, y = mpg)) + geom_point()', cor='', incor='')\n",
    "L8P2Q2 = MC('2. Which command would create the following scatter plot with the shown regression line? (above)',['A. ggplot(mtcars, aes(x = hp, y = wt)) + geom_point() + geom_smooth(method = lm)','B. A. ggplot(mtcars, aes(x = hp, y = wt)) + geom_point() + geom_smooth(method = loess, se = False)','C. A. ggplot(mtcars, aes(x = hp, y = wt)) + geom_point() + geom_smooth(method = lm, se = FALSE)','D. A. ggplot(mtcars, aes(x = hp, y = wt)) + geom_point()'],'C. A. ggplot(mtcars, aes(x = hp, y = wt)) + geom_point() + geom_smooth(method = lm, se = FALSE)', cor='', incor='')"
   ]
  },
  {
   "cell_type": "markdown",
   "id": "efd382bf-f349-4825-b9df-88cd2fb074a7",
   "metadata": {},
   "source": [
    "<p style=\"text-align: center\">\n",
    "  <img src=\"Media/L07-ScatterPlotEx.png\" alt=\"Drawing\" style=\"width: 500px;\"/>\n",
    "</p>"
   ]
  },
  {
   "cell_type": "code",
   "execution_count": 279,
   "id": "81042cf6-3eaf-4bfc-bbf3-ecf15e351eaa",
   "metadata": {},
   "outputs": [
    {
     "data": {
      "application/vnd.jupyter.widget-view+json": {
       "model_id": "fe01d2ee50ca4cb4b04bfc7bcdc7df38",
       "version_major": 2,
       "version_minor": 0
      },
      "text/plain": [
       "VBox(children=(Output(outputs=({'name': 'stdout', 'text': '1. Which command would create the following scatter…"
      ]
     },
     "metadata": {},
     "output_type": "display_data"
    }
   ],
   "source": [
    "if __name__ == \"__main__\":\n",
    "    display(L8P2Q1)"
   ]
  },
  {
   "cell_type": "markdown",
   "id": "89866812-e0be-4e96-9ce6-a4bba401a063",
   "metadata": {},
   "source": [
    "<p style=\"text-align: center\">\n",
    "  <img src=\"Media/L07-ScatterPlotEx2.png\" alt=\"Drawing\" style=\"width: 500px;\"/>\n",
    "</p>"
   ]
  },
  {
   "cell_type": "code",
   "execution_count": 280,
   "id": "10b36590-195b-45ff-b42e-6c3c210322d9",
   "metadata": {},
   "outputs": [
    {
     "data": {
      "application/vnd.jupyter.widget-view+json": {
       "model_id": "5b3485ca4a62439eb3350bebc84f6e4c",
       "version_major": 2,
       "version_minor": 0
      },
      "text/plain": [
       "VBox(children=(Output(outputs=({'name': 'stdout', 'text': '2. Which command would create the following scatter…"
      ]
     },
     "metadata": {},
     "output_type": "display_data"
    }
   ],
   "source": [
    "if __name__ == \"__main__\":\n",
    "    display(L8P2Q2)"
   ]
  },
  {
   "cell_type": "markdown",
   "id": "e58d9192-8831-4ea1-a664-f31badff8078",
   "metadata": {},
   "source": [
    "## Page 3"
   ]
  },
  {
   "cell_type": "code",
   "execution_count": 294,
   "id": "7b32d725-d5fe-4406-a7f0-d3b7a857271e",
   "metadata": {},
   "outputs": [],
   "source": [
    "L8P3Q1 = MC('1. A scatter plot is shown [above]. Are x and y positively correlated, negatively correlated, or uncorrelated?',['A. Positively correlated','B. Negatively correlated','C. Uncorrelated'],'A. Positively correlated', cor='', incor='')\n",
    "L8P3Q2 = MC('2. Another scatter plot is shown [above]. Are x and y positively correlated, negatively correlated, or uncorrelated?',['A. Positively correlated','B. Negatively correlated','C. Uncorrelated'],'B. Negatively correlated', cor='', incor='')\n",
    "L8P3Q3 = MC('3. A third scatter plot is shown [above]. Are x and y positively correlated, negatively correlated, or uncorrelated?',['A. Posively correlated','B. Negatively correlated','C. Uncorrelated'],'C. Uncorrelated', cor='', incor='')"
   ]
  },
  {
   "cell_type": "markdown",
   "id": "cb5b90cb-b25d-4728-95e1-a563329a37cd",
   "metadata": {},
   "source": [
    "<p style=\"text-align: center\">\n",
    "  <img src=\"Media/L07-CorrelationEx1.png\" alt=\"Drawing\" style=\"width: 300px;\"/>\n",
    "</p>"
   ]
  },
  {
   "cell_type": "code",
   "execution_count": 295,
   "id": "d0c9163c-5c56-48cd-8b25-739c76d4d289",
   "metadata": {},
   "outputs": [
    {
     "data": {
      "application/vnd.jupyter.widget-view+json": {
       "model_id": "21d980b844fe4abba8fa085514611ee9",
       "version_major": 2,
       "version_minor": 0
      },
      "text/plain": [
       "VBox(children=(Output(outputs=({'name': 'stdout', 'text': '1. A scatter plot is shown [above]. Are x and y pos…"
      ]
     },
     "metadata": {},
     "output_type": "display_data"
    }
   ],
   "source": [
    "if __name__ == \"__main__\":\n",
    "    display(L8P3Q1)"
   ]
  },
  {
   "cell_type": "markdown",
   "id": "28350c61-f378-4fbb-9cfa-da88b60da817",
   "metadata": {},
   "source": [
    "<p style=\"text-align: center\">\n",
    "  <img src=\"Media/L07-CorrelationEx2.png\" alt=\"Drawing\" style=\"width: 500px;\"/>\n",
    "</p>"
   ]
  },
  {
   "cell_type": "code",
   "execution_count": 293,
   "id": "add724ab-00a2-4d0c-92f2-388057798e71",
   "metadata": {},
   "outputs": [
    {
     "data": {
      "application/vnd.jupyter.widget-view+json": {
       "model_id": "acd77991b6df4f5da4fbfc43c9fe15c2",
       "version_major": 2,
       "version_minor": 0
      },
      "text/plain": [
       "VBox(children=(Output(outputs=({'name': 'stdout', 'text': '2. Another scatter plot is shown [above]. Are x and…"
      ]
     },
     "metadata": {},
     "output_type": "display_data"
    }
   ],
   "source": [
    "if __name__ == \"__main__\":\n",
    "    display(L8P3Q2)"
   ]
  },
  {
   "cell_type": "markdown",
   "id": "7daf3ec9-97ab-4fc2-b75b-8c431980fc01",
   "metadata": {},
   "source": [
    "<p style=\"text-align: center\">\n",
    "  <img src=\"Media/L07-CorrelationEx3.png\" alt=\"Drawing\" style=\"width: 500px;\"/>\n",
    "</p>"
   ]
  },
  {
   "cell_type": "code",
   "execution_count": 296,
   "id": "221201bd-c596-42a3-be42-20519b22dc92",
   "metadata": {},
   "outputs": [
    {
     "data": {
      "application/vnd.jupyter.widget-view+json": {
       "model_id": "b61c6ce65bf4412491a3eef082141918",
       "version_major": 2,
       "version_minor": 0
      },
      "text/plain": [
       "VBox(children=(Output(outputs=({'name': 'stdout', 'text': '3. A third scatter plot is shown [above]. Are x and…"
      ]
     },
     "metadata": {},
     "output_type": "display_data"
    }
   ],
   "source": [
    "if __name__ == \"__main__\":\n",
    "    display(L8P3Q3)"
   ]
  },
  {
   "cell_type": "markdown",
   "id": "de75cf88-73ad-4603-88ca-79ab5047e43f",
   "metadata": {},
   "source": [
    "## Page 4"
   ]
  },
  {
   "cell_type": "code",
   "execution_count": 303,
   "id": "4173a542-8a1d-42cc-be21-bf9debb8c124",
   "metadata": {},
   "outputs": [],
   "source": [
    "L8P4Q1 = MC('1. Which function would you use if you only wanted to examine the correlation between one set of variables?',['A. cor.test()','B. cor()','C. corrplot()','D. chart.Correlation()'],'A. cor.test()', cor='', incor='')\n",
    "L8P4Q2 = MC('2. Which function would you use to get a correlation matrix for a presentation?',['A. cor.test()','B. cor()','C. corrplot()','D. chart.Correlation()'],'C. corrplot()', cor='', incor='')\n",
    "L8P4Q3 = MC('3. Which function will provide a text-based correlation matrix?',['A. cor.test()','B. cor()','C. corrplot()','D. chart.Correlation()'],'B. cor()', cor='', incor='')\n",
    "L8P4Q4 = MC('4. Which function will provide a chart with both p and r values?',['A. cor.test','B. cor()','C. corrplot()','D. chart.Correlation()'],'D. chart.Correlation()', cor='', incor='')"
   ]
  },
  {
   "cell_type": "code",
   "execution_count": 304,
   "id": "321164cc-e18f-4814-b7ec-e1534afaefe0",
   "metadata": {},
   "outputs": [
    {
     "data": {
      "application/vnd.jupyter.widget-view+json": {
       "model_id": "e132ab075c2745a38fd4f6ea891fc86e",
       "version_major": 2,
       "version_minor": 0
      },
      "text/plain": [
       "VBox(children=(Output(outputs=({'name': 'stdout', 'text': '1. Which function would you use if you only wanted …"
      ]
     },
     "metadata": {},
     "output_type": "display_data"
    },
    {
     "data": {
      "application/vnd.jupyter.widget-view+json": {
       "model_id": "444e9f5dbc9042e4b9eba6c088824a2d",
       "version_major": 2,
       "version_minor": 0
      },
      "text/plain": [
       "VBox(children=(Output(outputs=({'name': 'stdout', 'text': '2. Which function would you use to get a correlatio…"
      ]
     },
     "metadata": {},
     "output_type": "display_data"
    },
    {
     "data": {
      "application/vnd.jupyter.widget-view+json": {
       "model_id": "be4a9341280e41b48688ac11fa9c17a2",
       "version_major": 2,
       "version_minor": 0
      },
      "text/plain": [
       "VBox(children=(Output(outputs=({'name': 'stdout', 'text': '3. Which function will provide a text-based correla…"
      ]
     },
     "metadata": {},
     "output_type": "display_data"
    },
    {
     "data": {
      "application/vnd.jupyter.widget-view+json": {
       "model_id": "717c33e33f854b27a5dfc560f604e61c",
       "version_major": 2,
       "version_minor": 0
      },
      "text/plain": [
       "VBox(children=(Output(outputs=({'name': 'stdout', 'text': '4. Which function will provide a chart with both p …"
      ]
     },
     "metadata": {},
     "output_type": "display_data"
    }
   ],
   "source": [
    "if __name__ == \"__main__\":\n",
    "    display(L8P4Q1, L8P4Q2, L8P4Q3, L8P4Q4)"
   ]
  },
  {
   "cell_type": "markdown",
   "id": "ba866746-5680-48d7-9585-8f9d31a40b5f",
   "metadata": {},
   "source": [
    "## Page 5"
   ]
  },
  {
   "cell_type": "code",
   "execution_count": 309,
   "id": "88499a76-deef-4cd2-b561-bf8a91b4a1a9",
   "metadata": {},
   "outputs": [],
   "source": [
    "L8P5Q1 = MC('1. What is the difference between simple linear regression and multiple regression?',['A. Simple linear regression has only one y, multiple linear regression has more than one.','B. Simple linear regression has more than one y, multiple linear regression has only one','C. Simple linear regression has only one x, multiple linear regression has more than one','D. Simple linear regression has more than one x, multiple linear regression has only one'],'C. Simple linear regression has only one x, multiple linear regression has more than one', cor='', incor='')\n",
    "L8P5Q2 = MC('2. What is the slope of a line?',['A. Variable used to do the predicting','B. What you are predicting','C. How steep the line angles','D. Where the line crosses the y axis'],'C. How steep the line angles', cor='', incor='')\n",
    "L8P5Q3 = MC('3. What is the y-intercept?',['A. Variable used to do the predicting','B. What you are predicting','C. How steep the line angles','D. Where the line crosses the y axis'],'D. Where the line crosses the y axis', cor='', incor='')"
   ]
  },
  {
   "cell_type": "code",
   "execution_count": 310,
   "id": "4c2d64a9-d50c-46d1-b93a-9263fa8e6a80",
   "metadata": {},
   "outputs": [
    {
     "data": {
      "application/vnd.jupyter.widget-view+json": {
       "model_id": "622c10a3d25746d6a11a9187762a6758",
       "version_major": 2,
       "version_minor": 0
      },
      "text/plain": [
       "VBox(children=(Output(outputs=({'name': 'stdout', 'text': '1. What is the difference between simple linear reg…"
      ]
     },
     "metadata": {},
     "output_type": "display_data"
    },
    {
     "data": {
      "application/vnd.jupyter.widget-view+json": {
       "model_id": "7c31c6fe8f4f411d90344b6e4c5086a6",
       "version_major": 2,
       "version_minor": 0
      },
      "text/plain": [
       "VBox(children=(Output(outputs=({'name': 'stdout', 'text': '2. What is the slope of a line?\\n', 'output_type': …"
      ]
     },
     "metadata": {},
     "output_type": "display_data"
    },
    {
     "data": {
      "application/vnd.jupyter.widget-view+json": {
       "model_id": "9a68ae1ed68247a9b6b8845a7faa5f76",
       "version_major": 2,
       "version_minor": 0
      },
      "text/plain": [
       "VBox(children=(Output(outputs=({'name': 'stdout', 'text': '3. What is the y-intercept?\\n', 'output_type': 'str…"
      ]
     },
     "metadata": {},
     "output_type": "display_data"
    }
   ],
   "source": [
    "if __name__ == \"__main__\":\n",
    "    display(L8P5Q1, L8P5Q2, L8P5Q3)"
   ]
  },
  {
   "cell_type": "markdown",
   "id": "6cd3e37a-7a58-4150-90df-f2b974ae85e5",
   "metadata": {},
   "source": [
    "## Page 6"
   ]
  },
  {
   "cell_type": "code",
   "execution_count": 322,
   "id": "6f2101b5-3ba0-45fc-ac41-42ba43c67571",
   "metadata": {},
   "outputs": [],
   "source": [
    "L8P6Q1 = MC('1. What does the \\033[31;1mF-statistic\\033[0m and accompanying p value tell you in the linear model summary?',['A. The y intercept','B. The slope','C. Whether the overall model is significant','D. Whether an individual predictor is significant'],'C. Whether the overall model is significant', cor='', incor='')\n",
    "L8P6Q2 = MC('2. Suppose you have a data frame \\033[31;1mstuff\\033[0m with the variables \\033[31;1mx\\033[0m and \\033[31;1my\\033[0m. You run a linear regression on \\033[31;1mstuff\\033[0m with this command: \\033[31;1mlm(y ~ x, stuff)\\033[0m. You then print the resulting object. From this object, you see that the intercept is 1.2828 and the slope is -0.3285. What is the equation of the linear regression line??',['A. x = 1.2828 y - 0.328','B. x = -0.3285 y + 1.2828','C. y = -0.3285 x + 1.2828','D. y = 1.2828 x - 0.3285'],'C. y = -0.3285 x + 1.2828', cor='', incor='')\n",
    "L8P6Q3 = MC('3. Eating asparagus produces a pungent smell in urine. However, only people with certain genes can smell it! If a model was created using genetics to predict the extent to which the pungent smell was present, and the R-squared value was .88, how would you interpret this?',['A. Smelling urine explains 88% of the variance in genetics','B. Genetics explains 88% of the variance in the ability to smell asparagus-laced urine','C. There is an 88% chance that genetics is a significant predictor of the ability to smell asparagus-laced urine','D. There is an 88% chance that genetics is related to the ability to smell asparagus-laced urine'],'B. Genetics explains 88% of the variance in the ability to smell asparagus-laced urine', cor='', incor='')"
   ]
  },
  {
   "cell_type": "code",
   "execution_count": 323,
   "id": "67a585da-2abd-41e6-93ae-7a7be49853e6",
   "metadata": {},
   "outputs": [
    {
     "data": {
      "application/vnd.jupyter.widget-view+json": {
       "model_id": "ce37a9a3dc7a4967be20433211274602",
       "version_major": 2,
       "version_minor": 0
      },
      "text/plain": [
       "VBox(children=(Output(outputs=({'name': 'stdout', 'text': '1. What does the \\x1b[31;1mF-statistic\\x1b[0m and a…"
      ]
     },
     "metadata": {},
     "output_type": "display_data"
    },
    {
     "data": {
      "application/vnd.jupyter.widget-view+json": {
       "model_id": "f588b5462a034607960ed47ecd5042f4",
       "version_major": 2,
       "version_minor": 0
      },
      "text/plain": [
       "VBox(children=(Output(outputs=({'name': 'stdout', 'text': '2. Suppose you have a data frame \\x1b[31;1mstuff\\x1…"
      ]
     },
     "metadata": {},
     "output_type": "display_data"
    },
    {
     "data": {
      "application/vnd.jupyter.widget-view+json": {
       "model_id": "138ce67aad224e2398e756353050d4d0",
       "version_major": 2,
       "version_minor": 0
      },
      "text/plain": [
       "VBox(children=(Output(outputs=({'name': 'stdout', 'text': '3. Eating asparagus produces a pungent smell in uri…"
      ]
     },
     "metadata": {},
     "output_type": "display_data"
    }
   ],
   "source": [
    "if __name__ == \"__main__\":\n",
    "    display(L8P6Q1, L8P6Q2, L8P6Q3)"
   ]
  },
  {
   "cell_type": "markdown",
   "id": "f5ef8a46-1e3d-4c23-8e31-4b92534b14f4",
   "metadata": {},
   "source": [
    "# Lesson 9\n",
    "## Page 2"
   ]
  },
  {
   "cell_type": "code",
   "execution_count": 345,
   "id": "ba2b34be-9490-4a94-8a5e-e8fa2f190752",
   "metadata": {},
   "outputs": [],
   "source": [
    "L9P2Q1 = MC('1. Suppose you wish to look specifically at countries in Europe. Which of the following commands would give a data set consisting of only the European countries?',['A. gm.Europe <- filter(gapminder, continent == Europe)','B. gm.Europe <- filter(gapminder, continent = \"Europe\")','C. gm.Europe <- filter(gapminder, continent == \"Europe\")','D. gm.Europe <- filter(gapminder, continent = \"Asia\")'],'C. gm.Europe <- filter(gapminder, continent == \"Europe\")', cor='', incor='')\n",
    "L9P2Q2 = MC('2. From your \\033[31;1mgm.Europe\\033[0m tibble, you want to create the following set (above) of box plots of life expectancy of European countries as time increases. \\n\\nWhich of the following commands would create the box plots?',['A. ggplot(gm.Europe, aes(x = year, y = lifeExp)) + geom_boxplot()','B. ggplot(gm.Europe, aes(x = factor(year), y = lifeExp)) + geom_boxplot()','C. ggplot(gm.Europe, aes(x = factor(year), y = pop)) + geom_boxplot()','D. ggplot(gapminder, continent == \"Europe\", aes(x = factor(year), y = lifeExp)) + geom_boxplot()'],'B. ggplot(gm.Europe, aes(x = factor(year), y = lifeExp)) + geom_boxplot()', cor='', incor='')\n",
    "L9P2Q3 = MC('3. In the [above] graph, there was one or more countries that, in the early years, has much shorter life expectancy than the rest of the countries in Europe. Which of the following commands would give you the rows for these countries?',['A. filter(gm.Europe, lifeExp > 53)','B. filter(gm.Europe, lifeExp == 53)','C. filter(gm.Europe, lifeExp != 53)','D. filter(gm.Europe, lifeExp < 53)'],'D. filter(gm.Europe, lifeExp < 53)', cor='', incor='')\n",
    "L9P2Q4 = MC('4. From the rows found in the previous question, which country had significantly lower life spans in the early years?',['A. Albania','B. France','C. Poland','D. Turkey'],'D. Turkey', cor='', incor='')"
   ]
  },
  {
   "cell_type": "code",
   "execution_count": 346,
   "id": "51050b47-3706-4689-a7be-39d237b5f631",
   "metadata": {},
   "outputs": [
    {
     "data": {
      "application/vnd.jupyter.widget-view+json": {
       "model_id": "baf2c6b620a3480e9b8e6577cca5a55e",
       "version_major": 2,
       "version_minor": 0
      },
      "text/plain": [
       "VBox(children=(Output(outputs=({'name': 'stdout', 'text': '1. Suppose you wish to look specifically at countri…"
      ]
     },
     "metadata": {},
     "output_type": "display_data"
    }
   ],
   "source": [
    "if __name__ == \"__main__\":\n",
    "    display(L9P2Q1)"
   ]
  },
  {
   "cell_type": "markdown",
   "id": "c62b2a81-901c-4200-947c-58978c1544aa",
   "metadata": {},
   "source": [
    "<p style=\"text-align: center\">\n",
    "  <img src=\"Media/L09-LifeBoxPlot.png\" alt=\"Drawing\" style=\"width: 500px;\"/>\n",
    "</p>"
   ]
  },
  {
   "cell_type": "code",
   "execution_count": 347,
   "id": "b66fd64f-6bb8-48e0-a6bb-a14c48213d77",
   "metadata": {},
   "outputs": [
    {
     "data": {
      "application/vnd.jupyter.widget-view+json": {
       "model_id": "4253337e17e243b6920758565c969e6d",
       "version_major": 2,
       "version_minor": 0
      },
      "text/plain": [
       "VBox(children=(Output(outputs=({'name': 'stdout', 'text': '2. From your \\x1b[31;1mgm.Europe\\x1b[0m tibble, you…"
      ]
     },
     "metadata": {},
     "output_type": "display_data"
    }
   ],
   "source": [
    "if __name__ == \"__main__\":\n",
    "    display(L9P2Q2)"
   ]
  },
  {
   "cell_type": "markdown",
   "id": "f5361082-e640-49f7-85ab-814662be2f5e",
   "metadata": {},
   "source": [
    "<p style=\"text-align: center\">\n",
    "  <img src=\"Media/L09-LifeBoxPlot.png\" alt=\"Drawing\" style=\"width: 500px;\"/>\n",
    "</p>"
   ]
  },
  {
   "cell_type": "code",
   "execution_count": 348,
   "id": "76a97c63-fa9c-4cc3-a662-19a7e693f4bd",
   "metadata": {},
   "outputs": [
    {
     "data": {
      "application/vnd.jupyter.widget-view+json": {
       "model_id": "94c09b8b787a4a57a6b3b63e552ad195",
       "version_major": 2,
       "version_minor": 0
      },
      "text/plain": [
       "VBox(children=(Output(outputs=({'name': 'stdout', 'text': '3. In the [above] graph, there was one or more coun…"
      ]
     },
     "metadata": {},
     "output_type": "display_data"
    },
    {
     "data": {
      "application/vnd.jupyter.widget-view+json": {
       "model_id": "b08551ae97de4d938e5cfdba8783a26f",
       "version_major": 2,
       "version_minor": 0
      },
      "text/plain": [
       "VBox(children=(Output(outputs=({'name': 'stdout', 'text': '4. From the rows found in the previous question, wh…"
      ]
     },
     "metadata": {},
     "output_type": "display_data"
    }
   ],
   "source": [
    "if __name__ == \"__main__\":\n",
    "    display(L9P2Q3, L9P2Q4)"
   ]
  },
  {
   "cell_type": "markdown",
   "id": "6b5deaec-351d-4e74-80a2-82a501f761fa",
   "metadata": {},
   "source": [
    "## Page 3"
   ]
  },
  {
   "cell_type": "code",
   "execution_count": 370,
   "id": "e51e3794-364a-4ff7-b8fb-56254f0a5a3b",
   "metadata": {},
   "outputs": [],
   "source": [
    "L9P3Q1 = MC('1. Suppose you wish to compare the three most populous countries in 2007: China, India, and the United States. \\nWhich of the following commands would get their data from the \\033[31;1mgapminder\\033[0m data frame?',['A. gm_big3 <- filter(gapminder, country %in% (\"China\", \"India\", \"United States\"))','B. A. gm_big3 <- filter(gapminder, country == c(\"China\", \"India\", \"United States\"))','C. A. gm_big3 <- filter(gapminder, country %in% c(\"China\", \"India\", \"United States\"))','D. A. gm_big3 <- filter(gapminder, country %in% pop > 100000000)'],'C. A. gm_big3 <- filter(gapminder, country %in% c(\"China\", \"India\", \"United States\"))', cor='', incor='')\n",
    "L9P3Q2 = MC('2. Which of the following commands would produce the following [above] plot comparing life expectancy between the three countries?',['A. ggplot(gm_big3) + geom_line(aes(x = year, y = lifeExp, color = country))','B. ggplot(gm_big3) + geom_line(aes(x = year, y = lifeExp))','C. ggplot(gm_big3) + geom_path(aes(x = year, y = lifeExp))','D. ggplot(gm_big3) + geom_point(aes(x = year, y = lifeExp, color = country))'],'A. ggplot(gm_big3) + geom_line(aes(x = year, y = lifeExp, color = country))', cor='', incor='')\n",
    "L9P3Q3 = MC('3. Which of the following commands would produce the following [above] plot showing per capita GDP and population?',['A. ggplot(gm_big3, aes(x = gdpPercap, y = pop)) + geom_point()','B. ggplot(gm_big3, aes(x = gdpPercap, y = pop, color = country)) + geom_point()','C. ggplot(gm_big3, aes(x = pop, y = gdpPercap, color = country)) + geom_path()','D. ggplot(gm_big3, aes(x = pop, y = gdpPercap, color = country)) + geom_point()'],'D. ggplot(gm_big3, aes(x = pop, y = gdpPercap, color = country)) + geom_point()', cor='', incor='')\n"
   ]
  },
  {
   "cell_type": "code",
   "execution_count": 371,
   "id": "a119a07c-b5bb-454a-9d93-2fd57ca91be1",
   "metadata": {},
   "outputs": [
    {
     "data": {
      "application/vnd.jupyter.widget-view+json": {
       "model_id": "e936386491d14654ba33618fdac76202",
       "version_major": 2,
       "version_minor": 0
      },
      "text/plain": [
       "VBox(children=(Output(outputs=({'name': 'stdout', 'text': '1. Suppose you wish to compare the three most popul…"
      ]
     },
     "metadata": {},
     "output_type": "display_data"
    }
   ],
   "source": [
    "if __name__ == \"__main__\":\n",
    "    display(L9P3Q1)"
   ]
  },
  {
   "cell_type": "markdown",
   "id": "f2bcd7e8-4327-421c-9d52-5ab7d935bbe6",
   "metadata": {},
   "source": [
    "<p style=\"text-align: center\">\n",
    "  <img src=\"Media/L09-ExerciseBig3.png\" alt=\"Drawing\" style=\"width: 500px;\"/>\n",
    "</p>"
   ]
  },
  {
   "cell_type": "code",
   "execution_count": 372,
   "id": "9ba6aa78-6fb2-4f15-8bf7-1e35221f5224",
   "metadata": {},
   "outputs": [
    {
     "data": {
      "application/vnd.jupyter.widget-view+json": {
       "model_id": "20d3eba91f424795a0f62069cdf28285",
       "version_major": 2,
       "version_minor": 0
      },
      "text/plain": [
       "VBox(children=(Output(outputs=({'name': 'stdout', 'text': '2. Which of the following commands would produce th…"
      ]
     },
     "metadata": {},
     "output_type": "display_data"
    }
   ],
   "source": [
    "if __name__ == \"__main__\":\n",
    "    display(L9P3Q2)"
   ]
  },
  {
   "cell_type": "markdown",
   "id": "ddbeb8f6-e412-46b3-bad0-bc9984029cef",
   "metadata": {},
   "source": [
    "<p style=\"text-align: center\">\n",
    "  <img src=\"Media/L09-ExerciseBig3Points.png\" alt=\"Drawing\" style=\"width: 500px;\"/>\n",
    "</p>"
   ]
  },
  {
   "cell_type": "code",
   "execution_count": 373,
   "id": "febfda13-ae11-44ff-a549-1d6f1babe5ff",
   "metadata": {},
   "outputs": [
    {
     "data": {
      "application/vnd.jupyter.widget-view+json": {
       "model_id": "a46dba970108428384ce9d6856576783",
       "version_major": 2,
       "version_minor": 0
      },
      "text/plain": [
       "VBox(children=(Output(outputs=({'name': 'stdout', 'text': '3. Which of the following commands would produce th…"
      ]
     },
     "metadata": {},
     "output_type": "display_data"
    }
   ],
   "source": [
    "if __name__ == \"__main__\":\n",
    "    display(L9P3Q3)"
   ]
  },
  {
   "cell_type": "markdown",
   "id": "b02fbb55-ce42-4921-8a07-2785e977ec3e",
   "metadata": {},
   "source": [
    "# Page 4"
   ]
  },
  {
   "cell_type": "code",
   "execution_count": null,
   "id": "6abfbb83-df27-4c36-9a66-bca8c5f3bbec",
   "metadata": {},
   "outputs": [],
   "source": []
  },
  {
   "cell_type": "code",
   "execution_count": null,
   "id": "b59ec304-0b82-40a0-abd0-4c3c92645ae3",
   "metadata": {},
   "outputs": [],
   "source": []
  },
  {
   "cell_type": "markdown",
   "id": "515fa7dd-fe4b-4a9d-8989-6ac2503d25c3",
   "metadata": {},
   "source": [
    "## Page 8"
   ]
  },
  {
   "cell_type": "code",
   "execution_count": null,
   "id": "e5516036-150e-4b92-af94-6adf28b44a50",
   "metadata": {},
   "outputs": [],
   "source": []
  },
  {
   "cell_type": "code",
   "execution_count": null,
   "id": "e46c1ac0-da0f-491f-b260-670c75a1d9bd",
   "metadata": {},
   "outputs": [],
   "source": []
  },
  {
   "cell_type": "markdown",
   "id": "f52f0443-1caf-49b8-8f10-72b32e89629d",
   "metadata": {},
   "source": [
    "## Page 9"
   ]
  },
  {
   "cell_type": "code",
   "execution_count": null,
   "id": "52ff52c7-d8ed-4c2c-bb21-8909b63e4135",
   "metadata": {},
   "outputs": [],
   "source": []
  },
  {
   "cell_type": "code",
   "execution_count": null,
   "id": "a65d7e70-ab3e-4ed8-8828-fca594b5f8ac",
   "metadata": {},
   "outputs": [],
   "source": []
  },
  {
   "cell_type": "markdown",
   "id": "f9a01d77-59eb-491a-9404-1246a9e91216",
   "metadata": {},
   "source": [
    "## Page 10"
   ]
  },
  {
   "cell_type": "code",
   "execution_count": null,
   "id": "b5ead2a2-67fd-4204-9d42-073cc153dad3",
   "metadata": {},
   "outputs": [],
   "source": []
  },
  {
   "cell_type": "code",
   "execution_count": null,
   "id": "061e9755-40b0-4716-a1ed-7a031949e7fc",
   "metadata": {},
   "outputs": [],
   "source": []
  },
  {
   "cell_type": "markdown",
   "id": "58f55324-4291-409c-9e34-8178f4125843",
   "metadata": {},
   "source": [
    "## Page 11"
   ]
  },
  {
   "cell_type": "code",
   "execution_count": null,
   "id": "26ed5368-0e77-48a2-9bdd-3841aff01737",
   "metadata": {},
   "outputs": [],
   "source": []
  },
  {
   "cell_type": "code",
   "execution_count": null,
   "id": "737751aa-cb52-439d-ac7d-04fc40a383ee",
   "metadata": {},
   "outputs": [],
   "source": []
  },
  {
   "cell_type": "code",
   "execution_count": 115,
   "id": "910e3fd4-1318-4347-8a33-f3313e82f7c0",
   "metadata": {},
   "outputs": [],
   "source": [
    "#Template:\n",
    "L9P2Q1 = MC('1. Question?',['A.','B.','C.','D.'],'A. Exact Answer', cor='', incor='')\n",
    "L9P2Q2 = MC('2. Question?',['A.','B.','C.','D.'],'A. Exact Answer', cor='', incor='')\n",
    "L9P2Q3 = MC('3. Question?',['A.','B.','C.','D.'],'A. Exact Answer', cor='', incor='')\n",
    "L9P2Q4 = MC('4. Question?',['A.','B.','C.','D.'],'A. Exact Answer', cor='', incor='')\n",
    "L9P2Q5 = MC('5. Question?',['A.','B.','C.','D.'],'A. Exact Answer', cor='', incor='')\n",
    "L9P2Q6 = MC('6. Question?',['A.','B.','C.','D.'],'A. Exact Answer', cor='', incor='')\n"
   ]
  },
  {
   "cell_type": "code",
   "execution_count": null,
   "id": "cc1a163b-6ab9-475c-b349-19a32fc25592",
   "metadata": {},
   "outputs": [],
   "source": [
    "if __name__ == \"__main__\":\n",
    "    display(L9P2Q1, L9P2Q2, L9P2Q3, L9P2Q4, L9P2Q5, L9P2Q6)"
   ]
  }
 ],
 "metadata": {
  "kernelspec": {
   "display_name": "Python 3 (ipykernel)",
   "language": "python",
   "name": "python3"
  },
  "language_info": {
   "codemirror_mode": {
    "name": "ipython",
    "version": 3
   },
   "file_extension": ".py",
   "mimetype": "text/x-python",
   "name": "python",
   "nbconvert_exporter": "python",
   "pygments_lexer": "ipython3",
   "version": "3.9.9"
  }
 },
 "nbformat": 4,
 "nbformat_minor": 5
}
