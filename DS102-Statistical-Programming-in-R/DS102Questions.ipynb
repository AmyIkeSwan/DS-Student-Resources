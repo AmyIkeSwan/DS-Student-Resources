{
 "cells": [
  {
   "cell_type": "markdown",
   "id": "701c6664-c3af-4538-bac7-f1a5cc1826cd",
   "metadata": {},
   "source": [
    "# DS102 Questions\n",
    "\n",
    "## Lesson 1\n",
    "\n",
    "## Page 7"
   ]
  },
  {
   "cell_type": "code",
   "execution_count": 1,
   "id": "9fdc1222-3d73-42e1-b6bf-b95d73e3d8ff",
   "metadata": {},
   "outputs": [],
   "source": [
    "from DS_Students import *"
   ]
  },
  {
   "cell_type": "code",
   "execution_count": 2,
   "id": "cf433206-b1c6-41d7-86db-486d7cb4756e",
   "metadata": {},
   "outputs": [],
   "source": [
    "L1P7Q1 = MultipleChoice('1. When evaluating a task, you should try to plan how to do everything in one step?',['A. True','B. False'],'B. False')\n",
    "L1P7Q2 = MultipleChoice('2. When giving instructions you should:',['A. Think like a computer','B. Ask your friends how they would do it','C. Be precise'],'C. Be precise')\n",
    "L1P7Q3 = MultipleChoice('3. What is a common tool that programmers use to plan out their programs?',['A. Email','B. Whiteboards','C. Reference books'],'B. Whiteboards')"
   ]
  },
  {
   "cell_type": "code",
   "execution_count": 3,
   "id": "6f20d99a-0d5d-482e-82a1-2adf01327726",
   "metadata": {},
   "outputs": [
    {
     "data": {
      "application/vnd.jupyter.widget-view+json": {
       "model_id": "4356fb48185e4c919ef31e3aebd66788",
       "version_major": 2,
       "version_minor": 0
      },
      "text/plain": [
       "VBox(children=(Output(outputs=({'name': 'stdout', 'text': '1. When evaluating a task, you should try to plan h…"
      ]
     },
     "metadata": {},
     "output_type": "display_data"
    },
    {
     "data": {
      "application/vnd.jupyter.widget-view+json": {
       "model_id": "e4a743df162c4193881ced46ad73e1e2",
       "version_major": 2,
       "version_minor": 0
      },
      "text/plain": [
       "VBox(children=(Output(outputs=({'name': 'stdout', 'text': '2. When giving instructions you should:\\n', 'output…"
      ]
     },
     "metadata": {},
     "output_type": "display_data"
    },
    {
     "data": {
      "application/vnd.jupyter.widget-view+json": {
       "model_id": "19d1af9cb97644ef8169ce030b1af1ae",
       "version_major": 2,
       "version_minor": 0
      },
      "text/plain": [
       "VBox(children=(Output(outputs=({'name': 'stdout', 'text': '3. What is a common tool that programmers use to pl…"
      ]
     },
     "metadata": {},
     "output_type": "display_data"
    }
   ],
   "source": [
    "if __name__ == \"__main__\":\n",
    "    display(L1P7Q1, L1P7Q2, L1P7Q3)"
   ]
  },
  {
   "cell_type": "markdown",
   "id": "59237b93-23a1-4511-9c47-069ff58089ca",
   "metadata": {},
   "source": [
    "## Page 9"
   ]
  },
  {
   "cell_type": "code",
   "execution_count": 4,
   "id": "9e09c0eb-06d1-440a-9c2a-4ced3fa16e4e",
   "metadata": {},
   "outputs": [],
   "source": [
    "L1P9Q1 = MultipleChoice('1. Mistakes are:',['A. Inevitable','B. A valuble tool','C. Going to come in multiple types', 'D. All of the types'],'D. All of the above')\n",
    "L1P9Q2 = MultipleChoice('2. A problem in code that cannot be detected by the computer is called a:',['A. Lie','B. Logical Error','C. Human Error', 'D. Exception'],'B. Logical Error')\n",
    "L1P9Q3 = MultipleChoice('3. Imposter Syndrome is caused by:',['A. Lack of knowledge','B. Too much work','C. Not believing in your own success', 'D. Imperfect Code'],'C. Not believing in your own success')"
   ]
  },
  {
   "cell_type": "code",
   "execution_count": 5,
   "id": "395b4e32-213a-432c-8570-dba7e76bc602",
   "metadata": {},
   "outputs": [
    {
     "data": {
      "application/vnd.jupyter.widget-view+json": {
       "model_id": "62512f5863b745dcafe9fb1dad2eba18",
       "version_major": 2,
       "version_minor": 0
      },
      "text/plain": [
       "VBox(children=(Output(outputs=({'name': 'stdout', 'text': '1. Mistakes are:\\n', 'output_type': 'stream'},)), R…"
      ]
     },
     "metadata": {},
     "output_type": "display_data"
    },
    {
     "data": {
      "application/vnd.jupyter.widget-view+json": {
       "model_id": "73324aaecb614e169aad7612a0583a40",
       "version_major": 2,
       "version_minor": 0
      },
      "text/plain": [
       "VBox(children=(Output(outputs=({'name': 'stdout', 'text': '2. A problem in code that cannot be detected by the…"
      ]
     },
     "metadata": {},
     "output_type": "display_data"
    },
    {
     "data": {
      "application/vnd.jupyter.widget-view+json": {
       "model_id": "aac97d2d15364cd9bee4f0c2ca8e2ad0",
       "version_major": 2,
       "version_minor": 0
      },
      "text/plain": [
       "VBox(children=(Output(outputs=({'name': 'stdout', 'text': '3. Imposter Syndrome is caused by:\\n', 'output_type…"
      ]
     },
     "metadata": {},
     "output_type": "display_data"
    }
   ],
   "source": [
    "if __name__ == \"__main__\":\n",
    "    display(L1P9Q1, L1P9Q2, L1P9Q3)"
   ]
  },
  {
   "cell_type": "markdown",
   "id": "214526dd-72ee-40d8-a2e5-41e165dcd951",
   "metadata": {},
   "source": [
    "# Lesson 2\n",
    "## Page 2"
   ]
  },
  {
   "cell_type": "code",
   "execution_count": 6,
   "id": "c8eb6a46-ef59-46c0-8adb-773a004ded82",
   "metadata": {},
   "outputs": [],
   "source": [
    "L2P2Q1 = MultipleChoice('1. What is a package in R?',['A. Something delivered to your doorstep','B. An R extension that performs specialized tasks'],'B. An R extension that performs specialized tasks')\n",
    "L2P2Q2 = MultipleChoice('2. How does R differ from other languages or programs?',['A. It is all point and click','B. It is a complete programming language and requires coding, but is specifically for statistics','C. It should be used for all-purpose programming','D. It is the only open-source programming language'],'B. It is a complete programming language and requires coding, but is specifically for statistics')\n"
   ]
  },
  {
   "cell_type": "code",
   "execution_count": 7,
   "id": "3adf2b8c-6d74-449d-abd7-f2ecd2cef18e",
   "metadata": {},
   "outputs": [
    {
     "data": {
      "application/vnd.jupyter.widget-view+json": {
       "model_id": "458b11e0643a422fa8ecefdec209e4fb",
       "version_major": 2,
       "version_minor": 0
      },
      "text/plain": [
       "VBox(children=(Output(outputs=({'name': 'stdout', 'text': '1. What is a package in R?\\n', 'output_type': 'stre…"
      ]
     },
     "metadata": {},
     "output_type": "display_data"
    },
    {
     "data": {
      "application/vnd.jupyter.widget-view+json": {
       "model_id": "5f55bad917bf44c8983169c63059100b",
       "version_major": 2,
       "version_minor": 0
      },
      "text/plain": [
       "VBox(children=(Output(outputs=({'name': 'stdout', 'text': '2. How does R differ from other languages or progra…"
      ]
     },
     "metadata": {},
     "output_type": "display_data"
    }
   ],
   "source": [
    "if __name__ == \"__main__\":\n",
    "    display(L2P2Q1, L2P2Q2)"
   ]
  },
  {
   "cell_type": "markdown",
   "id": "fbd02314-2ef4-43be-aa7f-82453a99c3aa",
   "metadata": {},
   "source": [
    "## Page 5"
   ]
  },
  {
   "cell_type": "code",
   "execution_count": 8,
   "id": "d909d1fb-8f00-4e28-b8ed-31c3be525a4c",
   "metadata": {},
   "outputs": [],
   "source": [
    "L2P5Q1 = MultipleChoice('1. True or False? - R is case sensitive',['A. True','B. False'],'A. True')\n"
   ]
  },
  {
   "cell_type": "code",
   "execution_count": 9,
   "id": "f3588f24-c559-4312-aa66-eede09862ecf",
   "metadata": {},
   "outputs": [
    {
     "data": {
      "application/vnd.jupyter.widget-view+json": {
       "model_id": "de3c824fabb646cd80e23fdf0ed6a94c",
       "version_major": 2,
       "version_minor": 0
      },
      "text/plain": [
       "VBox(children=(Output(outputs=({'name': 'stdout', 'text': '1. True or False? - R is case sensitive\\n', 'output…"
      ]
     },
     "metadata": {},
     "output_type": "display_data"
    }
   ],
   "source": [
    "if __name__ == \"__main__\":\n",
    "    display(L2P5Q1)"
   ]
  },
  {
   "cell_type": "markdown",
   "id": "df98d83e-068f-4c77-997f-f751c2ffdc32",
   "metadata": {},
   "source": [
    "## Page 6"
   ]
  },
  {
   "cell_type": "code",
   "execution_count": 10,
   "id": "fc676259-53db-4155-a1ad-5df4e3eb6a81",
   "metadata": {},
   "outputs": [],
   "source": [
    "L2P6Q1 = MultipleChoice('1. How do you scroll through previous console commands?',['A. With your mouse','B. Up and down arrow keys','C. Left and right arrow keys','D. Tab'],'B. Up and down arrow keys')\n",
    "L2P6Q2 = MultipleChoice('2. How do you edit a previous command?',['A. Re-do all the work leading up to it','B. You will never edit, only re-run commands','C. Select the text, edit, and press enter','D. Use the up and down arrow keys'],'C. Select the text, edit, and press enter')\n"
   ]
  },
  {
   "cell_type": "code",
   "execution_count": 11,
   "id": "ab909ae5-8dce-49fa-906e-28fb1be8aa92",
   "metadata": {},
   "outputs": [
    {
     "data": {
      "application/vnd.jupyter.widget-view+json": {
       "model_id": "bad01e91591c4353a9fde9ce326da50a",
       "version_major": 2,
       "version_minor": 0
      },
      "text/plain": [
       "VBox(children=(Output(outputs=({'name': 'stdout', 'text': '1. How do you scroll through previous console comma…"
      ]
     },
     "metadata": {},
     "output_type": "display_data"
    },
    {
     "data": {
      "application/vnd.jupyter.widget-view+json": {
       "model_id": "9c5eb6cafaa248d09327743d8516bd4a",
       "version_major": 2,
       "version_minor": 0
      },
      "text/plain": [
       "VBox(children=(Output(outputs=({'name': 'stdout', 'text': '2. How do you edit a previous command?\\n', 'output_…"
      ]
     },
     "metadata": {},
     "output_type": "display_data"
    }
   ],
   "source": [
    "if __name__ == \"__main__\":\n",
    "    display(L2P6Q1, L2P6Q2)"
   ]
  },
  {
   "cell_type": "markdown",
   "id": "7fc997ae-7d69-4ff0-ab4e-2dd8ce6b5133",
   "metadata": {},
   "source": [
    "## Page 7"
   ]
  },
  {
   "cell_type": "code",
   "execution_count": 12,
   "id": "8564a4ea-14b5-4b31-b8e0-95e2f4f9752c",
   "metadata": {},
   "outputs": [],
   "source": [
    "L2P7Q1 = MultipleChoice('1. What is a script?',['A. A text editor specifically for saving R code','B. An all-purpose text editor','C. A terminal','D. Part of the Console'],'A. A text editor specifically for saving R code')\n",
    "L2P7Q2 = MultipleChoice('2. Which is NOT a benefit of a script?',['A. Code runs as soon as you hit enter','B. Code completion','C. Ability to save and re-run code','D. Syntax highlighting'],'A. Code runs as soon as you hit enter')\n",
    "L2P7Q3 = MultipleChoice('3. How is a script run?',['A. Run Button','B. Source Button','C. Hit Enter','D. Both A and B will work'],'D. Both A and B will work')\n"
   ]
  },
  {
   "cell_type": "code",
   "execution_count": 13,
   "id": "4eebcac4-f1bf-4b3e-9d67-b3ae080e71c2",
   "metadata": {},
   "outputs": [
    {
     "data": {
      "application/vnd.jupyter.widget-view+json": {
       "model_id": "a96e18eea3714a8e994c6633dd5909db",
       "version_major": 2,
       "version_minor": 0
      },
      "text/plain": [
       "VBox(children=(Output(outputs=({'name': 'stdout', 'text': '1. What is a script?\\n', 'output_type': 'stream'},)…"
      ]
     },
     "metadata": {},
     "output_type": "display_data"
    },
    {
     "data": {
      "application/vnd.jupyter.widget-view+json": {
       "model_id": "c41ba2dcfc354f0d9a2f12d2e806a82a",
       "version_major": 2,
       "version_minor": 0
      },
      "text/plain": [
       "VBox(children=(Output(outputs=({'name': 'stdout', 'text': '2. Which is NOT a benefit of a script?\\n', 'output_…"
      ]
     },
     "metadata": {},
     "output_type": "display_data"
    },
    {
     "data": {
      "application/vnd.jupyter.widget-view+json": {
       "model_id": "776713df5fb6440a96d702a40d96e4d0",
       "version_major": 2,
       "version_minor": 0
      },
      "text/plain": [
       "VBox(children=(Output(outputs=({'name': 'stdout', 'text': '3. How is a script run?\\n', 'output_type': 'stream'…"
      ]
     },
     "metadata": {},
     "output_type": "display_data"
    }
   ],
   "source": [
    "if __name__ == \"__main__\":\n",
    "    display(L2P7Q1, L2P7Q2, L2P7Q3)"
   ]
  },
  {
   "cell_type": "markdown",
   "id": "9638bc87-4a33-450b-830f-2d515ffec3fb",
   "metadata": {},
   "source": [
    "## Page 8"
   ]
  },
  {
   "cell_type": "code",
   "execution_count": 14,
   "id": "77060b27-8548-4271-83ee-e2936dcdfed4",
   "metadata": {},
   "outputs": [],
   "source": [
    "L2P8Q1 = MultipleChoice('1. What does the # do in R??',['A. Nothing','B. Initiate commands','C. Allows R to skip over anything to the right','D. Tag social media posts together'],'C. Allows R to skip over anything to the right')\n",
    "L2P8Q2 = MultipleChoice('2. Which of the following is NOT a use for a comment?',['A. Provide authoring information','B. Run special commands','C. Provide information about program function and use','D. Remind the author about required tasks'],'B. Run special commands')\n",
    "L2P8Q3 = MultipleChoice('3. True or False? - Commenting your code is a best practice that will aid teamwork',['A. True','B. False'],'A. True')\n"
   ]
  },
  {
   "cell_type": "code",
   "execution_count": 15,
   "id": "2ea10ad7-0940-49c9-9bc7-73451c21e3e6",
   "metadata": {},
   "outputs": [
    {
     "data": {
      "application/vnd.jupyter.widget-view+json": {
       "model_id": "b60746b14fae439aaeb923918f30a03a",
       "version_major": 2,
       "version_minor": 0
      },
      "text/plain": [
       "VBox(children=(Output(outputs=({'name': 'stdout', 'text': '1. What does the # do in R??\\n', 'output_type': 'st…"
      ]
     },
     "metadata": {},
     "output_type": "display_data"
    },
    {
     "data": {
      "application/vnd.jupyter.widget-view+json": {
       "model_id": "4b34746fc1c64e5eb21fce144daa5605",
       "version_major": 2,
       "version_minor": 0
      },
      "text/plain": [
       "VBox(children=(Output(outputs=({'name': 'stdout', 'text': '2. Which of the following is NOT a use for a commen…"
      ]
     },
     "metadata": {},
     "output_type": "display_data"
    },
    {
     "data": {
      "application/vnd.jupyter.widget-view+json": {
       "model_id": "0e048b45d54c429b81733a69a72101e3",
       "version_major": 2,
       "version_minor": 0
      },
      "text/plain": [
       "VBox(children=(Output(outputs=({'name': 'stdout', 'text': '3. True or False? - Commenting your code is a best …"
      ]
     },
     "metadata": {},
     "output_type": "display_data"
    }
   ],
   "source": [
    "if __name__ == \"__main__\":\n",
    "    display(L2P8Q1, L2P8Q2, L2P8Q3)"
   ]
  },
  {
   "cell_type": "markdown",
   "id": "c0acda46-178f-4683-ac96-6c1892dc4c2d",
   "metadata": {},
   "source": [
    "## Page 9"
   ]
  },
  {
   "cell_type": "code",
   "execution_count": 16,
   "id": "b7ee089a-e8ab-4a41-a8ba-1bd38e4aca61",
   "metadata": {},
   "outputs": [],
   "source": [
    "L2P9Q1 = MultipleChoice('1. What does the \\033[1mhelp()\\033[0m function in R do?',['A. Auto-completes code','B. Initiates a live chat with an R representative','C. Brings up a pane with additional information about the specified function'],'C. Brings up a pane with additional information about the specified function')\n"
   ]
  },
  {
   "cell_type": "code",
   "execution_count": 17,
   "id": "ae3b2f70-d3b1-411f-ad47-c2648eb6ef07",
   "metadata": {},
   "outputs": [
    {
     "data": {
      "application/vnd.jupyter.widget-view+json": {
       "model_id": "891a5e9665194a1daa60f0a659677484",
       "version_major": 2,
       "version_minor": 0
      },
      "text/plain": [
       "VBox(children=(Output(outputs=({'name': 'stdout', 'text': '1. What does the \\x1b[1mhelp()\\x1b[0m function in R…"
      ]
     },
     "metadata": {},
     "output_type": "display_data"
    }
   ],
   "source": [
    "if __name__ == \"__main__\":\n",
    "    display(L2P9Q1)"
   ]
  },
  {
   "cell_type": "markdown",
   "id": "ff240dda-07bf-4d10-91e3-3d84cd26d0b3",
   "metadata": {},
   "source": [
    "## Page 11\n",
    "## Lesson 2 Exam"
   ]
  },
  {
   "cell_type": "markdown",
   "id": "857d8059-b437-4b3a-98e8-388b06da22b4",
   "metadata": {},
   "source": [
    "#### **Tip!** \n",
    "##### You might try typing each into the R Console to find the answer.\n",
    "While testing one or more of these, the R prompt may change to a +,  \n",
    "but R will not do anything; in this case, use the esc key to get back to the > prompt."
   ]
  },
  {
   "cell_type": "code",
   "execution_count": 18,
   "id": "30a72050-9b1a-4eba-b40b-4a317f27a8ed",
   "metadata": {},
   "outputs": [],
   "source": [
    "L2P11Q1 = MultipleChoice(\"\"\"1. Suppose you want to change the message from \"Hello World!\" to \"It\\'s a Small World\".\\n Which of the following would do this successfully?\"\"\",[\"A. print(It's a Small World)\",'B. print \"It\\'s a Small World\"',\"\"\"C. print('It's a Small World')\"\"\",\"\"\"D. print(\"It's a Small World\")\"\"\"],\"\"\"D. print(\"It's a Small World\")\"\"\")\n",
    "L2P11Q2 = MultipleChoice(\"\"\"2. R has several datasets included in it. You will use these datasets in future lessons. \\nYou can get information on these datasets by using the command:\\n\\n \\033[1mhelp(\"datasets\")\\033[0m\\n\\n Execute this command.\\n What does the information displayed in the Help pane tell you to do to get a complete list of the datasets?\"\"\",['A. Type library(help = \"datasets\")','B. Google \"R datasets\"','C. Join the R Core Team','D. Type help(library, \"datasets\")'],'A. Type library(help = \"datasets\")')\n"
   ]
  },
  {
   "cell_type": "code",
   "execution_count": 19,
   "id": "0aef6312-54e9-4f67-8909-1bf80eb571d1",
   "metadata": {},
   "outputs": [
    {
     "data": {
      "application/vnd.jupyter.widget-view+json": {
       "model_id": "44e345676bb3467592647b2891a29a37",
       "version_major": 2,
       "version_minor": 0
      },
      "text/plain": [
       "VBox(children=(Output(outputs=({'name': 'stdout', 'text': '1. Suppose you want to change the message from \"Hel…"
      ]
     },
     "metadata": {},
     "output_type": "display_data"
    },
    {
     "data": {
      "application/vnd.jupyter.widget-view+json": {
       "model_id": "87d97c024f834c1ebef320c1b5031402",
       "version_major": 2,
       "version_minor": 0
      },
      "text/plain": [
       "VBox(children=(Output(outputs=({'name': 'stdout', 'text': '2. R has several datasets included in it. You will …"
      ]
     },
     "metadata": {},
     "output_type": "display_data"
    }
   ],
   "source": [
    "if __name__ == \"__main__\":\n",
    "    display(L2P11Q1, L2P11Q2)"
   ]
  },
  {
   "cell_type": "markdown",
   "id": "df4b2492-71ce-4324-bbc2-57755ef66785",
   "metadata": {},
   "source": [
    "# Lesson 3\n",
    "## Page 2"
   ]
  },
  {
   "cell_type": "code",
   "execution_count": 20,
   "id": "12b34d0e-d346-4853-b4bf-415d48ebf682",
   "metadata": {},
   "outputs": [],
   "source": [
    "L3P2Q1 = MultipleChoice('1. What is a variable?',['A. Something that fluctuates','B. A value','C. A named object','D. An assignment'],'C. A named object')\n",
    "L3P2Q2 = MultipleChoice('2. Which of the following is NOT a valid naming convention for a variable in R?',['A. Variable Name','B. Variable_Name','C. Variable.Name','D. VariableName'],'A. Variable Name')\n",
    "L3P2Q3 = MultipleChoice('3. Which of the following is NOT a way to assign variables?',['A. <-','B. ->','C. =','D. =='],'D. ==')\n",
    "L3P2Q4 = MultipleChoice('4. Consider the assignment:\\n \\n \\033[1mage.of.aquarius <- 1967\\033[0m \\n \\nWhat variable is created by this assignment??',['A. age','B. 1967','C. age.of.aquarius','D. aquarius'],'C. age.of.aquarius')\n",
    "L3P2Q5 = MultipleChoice('5. Consider the assignment:\\n \\n 21 -> balloons \\n \\nWhat value is assigned to the variable \\033[1mballoons\\033[0m?',['A. 2','B. 21','C. No value is assigned; the assignment is pointing the wrong direction, so this assignment will cause an error.','D. 42'],'B. 21')\n",
    "L3P2Q6 = MultipleChoice('6. True or False? \\n     Once Created, your variable will appear in the \\033[1mEnvironment\\033[0m tab',['A. True','B. False'],'A. True')"
   ]
  },
  {
   "cell_type": "code",
   "execution_count": 21,
   "id": "c355cd5f-0260-4338-bc82-124570aa4f1f",
   "metadata": {},
   "outputs": [
    {
     "data": {
      "application/vnd.jupyter.widget-view+json": {
       "model_id": "955b0117ebde4e2f8dff9b72304bfb18",
       "version_major": 2,
       "version_minor": 0
      },
      "text/plain": [
       "VBox(children=(Output(outputs=({'name': 'stdout', 'text': '1. What is a variable?\\n', 'output_type': 'stream'}…"
      ]
     },
     "metadata": {},
     "output_type": "display_data"
    },
    {
     "data": {
      "application/vnd.jupyter.widget-view+json": {
       "model_id": "772ec528044b4d2da3d928e2f018771e",
       "version_major": 2,
       "version_minor": 0
      },
      "text/plain": [
       "VBox(children=(Output(outputs=({'name': 'stdout', 'text': '2. Which of the following is NOT a valid naming con…"
      ]
     },
     "metadata": {},
     "output_type": "display_data"
    },
    {
     "data": {
      "application/vnd.jupyter.widget-view+json": {
       "model_id": "c63ffa5723a84a86a53b7aaf387772da",
       "version_major": 2,
       "version_minor": 0
      },
      "text/plain": [
       "VBox(children=(Output(outputs=({'name': 'stdout', 'text': '3. Which of the following is NOT a way to assign va…"
      ]
     },
     "metadata": {},
     "output_type": "display_data"
    },
    {
     "data": {
      "application/vnd.jupyter.widget-view+json": {
       "model_id": "c0990c8d3bf44aa8a6abecf9b6752b44",
       "version_major": 2,
       "version_minor": 0
      },
      "text/plain": [
       "VBox(children=(Output(outputs=({'name': 'stdout', 'text': '4. Consider the assignment:\\n \\n \\x1b[1mage.of.aqua…"
      ]
     },
     "metadata": {},
     "output_type": "display_data"
    },
    {
     "data": {
      "application/vnd.jupyter.widget-view+json": {
       "model_id": "b3ccc71d34f1433c93751d93482bc351",
       "version_major": 2,
       "version_minor": 0
      },
      "text/plain": [
       "VBox(children=(Output(outputs=({'name': 'stdout', 'text': '5. Consider the assignment:\\n \\n 21 -> balloons \\n …"
      ]
     },
     "metadata": {},
     "output_type": "display_data"
    },
    {
     "data": {
      "application/vnd.jupyter.widget-view+json": {
       "model_id": "0a5c1765ba534229af1e253b037c1c76",
       "version_major": 2,
       "version_minor": 0
      },
      "text/plain": [
       "VBox(children=(Output(outputs=({'name': 'stdout', 'text': '6. True or False? \\n     Once Created, your variabl…"
      ]
     },
     "metadata": {},
     "output_type": "display_data"
    }
   ],
   "source": [
    "if __name__ == \"__main__\":\n",
    "    display(L3P2Q1, L3P2Q2, L3P2Q3, L3P2Q4, L3P2Q5, L3P2Q6)"
   ]
  },
  {
   "cell_type": "markdown",
   "id": "526f77c1-11e6-46e3-858a-aa5b5309dc6b",
   "metadata": {},
   "source": [
    "## Page 3"
   ]
  },
  {
   "cell_type": "code",
   "execution_count": 22,
   "id": "1dab046f-cbe7-4922-8039-0224f4c8bc56",
   "metadata": {},
   "outputs": [],
   "source": [
    "L3P3Q1 = MultipleChoice('1. Which of the following R statements will create a variable \\033[1mbob\\033[0m containing a string \\033[1mRobert\\033[0m?',[\"A. bob <- 'Robert'\",'B. bob <- \"Robert\"','C. \"Robert\" -> bob','D. All of the above'],'D. All of the above')\n",
    "L3P3Q2 = MultipleChoice('2. Suppose you have two variables: \\033[1mfirst.name\\033[0m, which contains the string \\033[1mSally\\033[0m, and \\033[1mlast.name\\033[0m, which contains the string \\033[1mRide\\033[0m. \\nWhich of the following statements will cause R to print \"Sally Ride?\"',['A. paste(first.name, last.name)','B. first.name + last.name','C. first.name last.name','D. c(first.name, last.name)'],'A. paste(first.name, last.name)')\n"
   ]
  },
  {
   "cell_type": "code",
   "execution_count": 23,
   "id": "6c10536a-f3c8-4c28-b047-7e33ed404b46",
   "metadata": {},
   "outputs": [
    {
     "data": {
      "application/vnd.jupyter.widget-view+json": {
       "model_id": "13a896e0664a4ec6b0f346b0571fb4fa",
       "version_major": 2,
       "version_minor": 0
      },
      "text/plain": [
       "VBox(children=(Output(outputs=({'name': 'stdout', 'text': '1. Which of the following R statements will create …"
      ]
     },
     "metadata": {},
     "output_type": "display_data"
    },
    {
     "data": {
      "application/vnd.jupyter.widget-view+json": {
       "model_id": "aa6112637d2d402fa3908b0e8009c4ed",
       "version_major": 2,
       "version_minor": 0
      },
      "text/plain": [
       "VBox(children=(Output(outputs=({'name': 'stdout', 'text': '2. Suppose you have two variables: \\x1b[1mfirst.nam…"
      ]
     },
     "metadata": {},
     "output_type": "display_data"
    }
   ],
   "source": [
    "if __name__ == \"__main__\":\n",
    "    display(L3P3Q1, L3P3Q2)"
   ]
  },
  {
   "cell_type": "markdown",
   "id": "e066f243-0fe4-4519-923c-40f44255e73c",
   "metadata": {},
   "source": [
    "## Page 4"
   ]
  },
  {
   "cell_type": "code",
   "execution_count": 24,
   "id": "3dca5630-20cf-4bcb-846d-e26d35a5874e",
   "metadata": {},
   "outputs": [],
   "source": [
    "L3P4Q1 = MultipleChoice('1. The area of a circle is given by the following formula: \\n     \\033[1mA = pi*(r^2)\\033[0m \\n   where \\033[1mr\\033[0m is the radius of the circle.\\n  \\nUse R to compute the area of a circle with radius 2.54 cm.\\n   \\n\\033[1mTip! \\npi\\033[0m is a predefined variable in R; you can use it in the above formula.',['A. 7.979645','B. 15.95929','C. 63.67474','D. 20.2683'],'D. 20.2683')\n",
    "L3P4Q2 = MultipleChoice('2. The sample variance can be computed from the sample standard deviation by squaring it. \\nIf you know that the sample standard deviation for a sample is 0.834, what is the sample variance?',['A. 0.695556','B. 1.668','C. 0.417','D. 0.913236'],'A. 0.695556')\n",
    "L3P4Q3 = MultipleChoice(\"3. Gabianu's friend from Ghana is Rashida. Rashida is 154.8 cm tall. \\n   What is the z-score for her height?\",['A. 122.351','B. -0.8571429','C. 0.0','D. 0.8571429'],'B. -0.8571429')\n"
   ]
  },
  {
   "cell_type": "markdown",
   "id": "0842f731-ab97-4164-b8e3-a33408ee555b",
   "metadata": {},
   "source": [
    "<img src=\"Media/L02-circleArea.png\" alt=\"Drawing\" style=\"width: 100px;\"/> "
   ]
  },
  {
   "cell_type": "code",
   "execution_count": 25,
   "id": "899f0429-5087-42dc-bb5f-5e1b66456974",
   "metadata": {},
   "outputs": [
    {
     "data": {
      "application/vnd.jupyter.widget-view+json": {
       "model_id": "5984ea3998b4403486d254832054fb7c",
       "version_major": 2,
       "version_minor": 0
      },
      "text/plain": [
       "VBox(children=(Output(outputs=({'name': 'stdout', 'text': '1. The area of a circle is given by the following f…"
      ]
     },
     "metadata": {},
     "output_type": "display_data"
    },
    {
     "data": {
      "application/vnd.jupyter.widget-view+json": {
       "model_id": "9a87ec9511d34bbaa926e830df8f1234",
       "version_major": 2,
       "version_minor": 0
      },
      "text/plain": [
       "VBox(children=(Output(outputs=({'name': 'stdout', 'text': '2. The sample variance can be computed from the sam…"
      ]
     },
     "metadata": {},
     "output_type": "display_data"
    },
    {
     "data": {
      "application/vnd.jupyter.widget-view+json": {
       "model_id": "3ed12fcad4b248dca7e5a6feedbcb91f",
       "version_major": 2,
       "version_minor": 0
      },
      "text/plain": [
       "VBox(children=(Output(outputs=({'name': 'stdout', 'text': \"3. Gabianu's friend from Ghana is Rashida. Rashida …"
      ]
     },
     "metadata": {},
     "output_type": "display_data"
    }
   ],
   "source": [
    "if __name__ == \"__main__\":\n",
    "    display(L3P4Q1, L3P4Q2, L3P4Q3)"
   ]
  },
  {
   "cell_type": "markdown",
   "id": "4b10e157-7ae2-48f9-bcf6-ea2180f190fb",
   "metadata": {},
   "source": [
    "## Page 5"
   ]
  },
  {
   "cell_type": "code",
   "execution_count": 26,
   "id": "e9ca1781-d220-46b2-9fcd-aa4fece9048a",
   "metadata": {},
   "outputs": [],
   "source": [
    "L3P5Q1 = MultipleChoice('1. What is a function?',['A. An argument','B. Math formula','C. It performs a specific programming task','D. A value'],'C. It performs a specific programming task')\n",
    "L3P5Q2 = MultipleChoice('2. True or False? \\nAn argument is also known as the output of a function.',['A. True','B. False'],'B. False')\n",
    "L3P5Q3 = MultipleChoice('3. The sample standard deviation can be computed from the sample variance by computing its square root. \\nIf you know that the sample variance for a sample is 6.28, what is the standard deviation?',['A. 39.4384','B. 2.505993','C. 3.14','D. 6.28'],'B. 2.505993')"
   ]
  },
  {
   "cell_type": "code",
   "execution_count": 27,
   "id": "003722d1-a401-4367-8ac2-ce6374552255",
   "metadata": {},
   "outputs": [
    {
     "data": {
      "application/vnd.jupyter.widget-view+json": {
       "model_id": "709a5f2d556f485d8034e8c429a41c62",
       "version_major": 2,
       "version_minor": 0
      },
      "text/plain": [
       "VBox(children=(Output(outputs=({'name': 'stdout', 'text': '1. What is a function?\\n', 'output_type': 'stream'}…"
      ]
     },
     "metadata": {},
     "output_type": "display_data"
    },
    {
     "data": {
      "application/vnd.jupyter.widget-view+json": {
       "model_id": "369680efa0374e9fa4ac53c4583380f4",
       "version_major": 2,
       "version_minor": 0
      },
      "text/plain": [
       "VBox(children=(Output(outputs=({'name': 'stdout', 'text': '2. True or False? \\nAn argument is also known as th…"
      ]
     },
     "metadata": {},
     "output_type": "display_data"
    },
    {
     "data": {
      "application/vnd.jupyter.widget-view+json": {
       "model_id": "540229a93d7c4c5593cecf3e74158b3c",
       "version_major": 2,
       "version_minor": 0
      },
      "text/plain": [
       "VBox(children=(Output(outputs=({'name': 'stdout', 'text': '3. The sample standard deviation can be computed fr…"
      ]
     },
     "metadata": {},
     "output_type": "display_data"
    }
   ],
   "source": [
    "if __name__ == \"__main__\":\n",
    "    display(L3P5Q1, L3P5Q2, L3P5Q3)"
   ]
  },
  {
   "cell_type": "markdown",
   "id": "9de269a3-eb0b-46f4-9805-db0f8522efeb",
   "metadata": {},
   "source": [
    "## Page 6"
   ]
  },
  {
   "cell_type": "code",
   "execution_count": 28,
   "id": "154acdcb-f10f-4bd8-9527-2ce3222d7848",
   "metadata": {},
   "outputs": [],
   "source": [
    "L3P6Q1 = MultipleChoice('1. What command is required when creating your own function?',['A. print()','B. sqrt()','C. pnorm()','D. function()'],'D. function()')\n",
    "L3P6Q2 = MultipleChoice('2. What do the curly braces \\033[1m{}\\033[0m indicate in the creation of a function?',['A. The definition of the function','B. The name of the function','C. The data for the function','D. The value of the function'],'A. The definition of the function')"
   ]
  },
  {
   "cell_type": "code",
   "execution_count": 29,
   "id": "2fdab0c2-2764-4b3b-81c1-0604db40254b",
   "metadata": {},
   "outputs": [
    {
     "data": {
      "application/vnd.jupyter.widget-view+json": {
       "model_id": "4ae0bd407f4640f587ad1be80f0a4d0c",
       "version_major": 2,
       "version_minor": 0
      },
      "text/plain": [
       "VBox(children=(Output(outputs=({'name': 'stdout', 'text': '1. What command is required when creating your own …"
      ]
     },
     "metadata": {},
     "output_type": "display_data"
    },
    {
     "data": {
      "application/vnd.jupyter.widget-view+json": {
       "model_id": "f93fdcb75f5c40d3a031997f4f123091",
       "version_major": 2,
       "version_minor": 0
      },
      "text/plain": [
       "VBox(children=(Output(outputs=({'name': 'stdout', 'text': '2. What do the curly braces \\x1b[1m{}\\x1b[0m indica…"
      ]
     },
     "metadata": {},
     "output_type": "display_data"
    }
   ],
   "source": [
    "if __name__ == \"__main__\":\n",
    "    display(L3P6Q1, L3P6Q2)"
   ]
  },
  {
   "cell_type": "markdown",
   "id": "0c45db7f-ebee-4c71-94c3-c0a0d6a3412f",
   "metadata": {},
   "source": [
    "## Page 7"
   ]
  },
  {
   "cell_type": "code",
   "execution_count": 30,
   "id": "bd3fbdb5-28e7-4254-b014-75d2bb128341",
   "metadata": {},
   "outputs": [],
   "source": [
    "L3P7Q1 = MultipleChoice('1. What command creates a vector of non-sequential numbers?',['A. c()','B. v()','C. d()','D. :'],'A. c()')\n"
   ]
  },
  {
   "cell_type": "code",
   "execution_count": 31,
   "id": "d7bc3684-b47f-4501-931d-8027b8557d59",
   "metadata": {},
   "outputs": [
    {
     "data": {
      "application/vnd.jupyter.widget-view+json": {
       "model_id": "ea6d98a5f80c45db8cb7e0137205dbe7",
       "version_major": 2,
       "version_minor": 0
      },
      "text/plain": [
       "VBox(children=(Output(outputs=({'name': 'stdout', 'text': '1. What command creates a vector of non-sequential …"
      ]
     },
     "metadata": {},
     "output_type": "display_data"
    }
   ],
   "source": [
    "if __name__ == \"__main__\":\n",
    "    display(L3P7Q1)"
   ]
  },
  {
   "cell_type": "markdown",
   "id": "bba1080d-fbbf-4cde-9d19-79d6f2395e2c",
   "metadata": {},
   "source": [
    "## Page 8"
   ]
  },
  {
   "cell_type": "code",
   "execution_count": 32,
   "id": "49bf2367-dd37-400c-a054-01022f195d97",
   "metadata": {},
   "outputs": [],
   "source": [
    "L3P8Q1 = MultipleChoice('1. What is the purpose of a for loop?',['A. To create a function','B. To create a vector','C. To make it easier to repeat a task','D. To put data on the same line'],'C. To make it easier to repeat a task')\n",
    "L3P8Q2 = MultipleChoice('2. What does the command \\033[1m\\\\n\\033[0m do?',['A. Combines lines together','B. Creates a function','C. Removes lines from the output','D. Adds a new line into the output'],'D. Adds a new line into the output')\n"
   ]
  },
  {
   "cell_type": "code",
   "execution_count": 33,
   "id": "134402c3-fe8f-463c-95ae-0c44193336b4",
   "metadata": {},
   "outputs": [
    {
     "data": {
      "application/vnd.jupyter.widget-view+json": {
       "model_id": "ebe6c425a9054ad882d76690dbf78b11",
       "version_major": 2,
       "version_minor": 0
      },
      "text/plain": [
       "VBox(children=(Output(outputs=({'name': 'stdout', 'text': '1. What is the purpose of a for loop?\\n', 'output_t…"
      ]
     },
     "metadata": {},
     "output_type": "display_data"
    },
    {
     "data": {
      "application/vnd.jupyter.widget-view+json": {
       "model_id": "22e244cddcd34dd3b1beda31cfe181a4",
       "version_major": 2,
       "version_minor": 0
      },
      "text/plain": [
       "VBox(children=(Output(outputs=({'name': 'stdout', 'text': '2. What does the command \\x1b[1m\\\\n\\x1b[0m do?\\n', …"
      ]
     },
     "metadata": {},
     "output_type": "display_data"
    }
   ],
   "source": [
    "if __name__ == \"__main__\":\n",
    "    display(L3P8Q1, L3P8Q2)"
   ]
  },
  {
   "cell_type": "markdown",
   "id": "dc622b54-d7e4-42a7-a18b-aa4613ab06c8",
   "metadata": {},
   "source": [
    "# Lesson 4\n",
    "## Page 2"
   ]
  },
  {
   "cell_type": "code",
   "execution_count": 34,
   "id": "3d44423a-2972-4992-90b2-a00a973b43a3",
   "metadata": {},
   "outputs": [],
   "source": [
    "L4P2Q1 = MultipleChoice('1. Which of the following commands would create this vector: \\n   [1] 14 13 12 11 10 9 8',['A. 8:14','B. 14:8','C. 8:15','D. 14:1'],'B. 14:8')\n",
    "L4P2Q2 = MultipleChoice('2. What does the \\033[1mseq()\\033[0m function do?',['A. Performs vector arithmetic','B. Creates a vector','C. Creates sequences of numbers that are arbitrarily spaced','D. Creates sequences of numbers one apart'],'C. Creates sequences of numbers that are arbitrarily spaced')\n",
    "L4P2Q3 = MultipleChoice('3. Which of the following is NOT an argument for the \\033[1mseq()\\033[0m function?',['A. with','B. by =','C. length.out'],'A. with')\n"
   ]
  },
  {
   "cell_type": "code",
   "execution_count": 35,
   "id": "38cb0640-799e-4537-8633-8c93a3267b61",
   "metadata": {},
   "outputs": [
    {
     "data": {
      "application/vnd.jupyter.widget-view+json": {
       "model_id": "759eb81609dc4204a8008c7c0c1445e9",
       "version_major": 2,
       "version_minor": 0
      },
      "text/plain": [
       "VBox(children=(Output(outputs=({'name': 'stdout', 'text': '1. Which of the following commands would create thi…"
      ]
     },
     "metadata": {},
     "output_type": "display_data"
    },
    {
     "data": {
      "application/vnd.jupyter.widget-view+json": {
       "model_id": "c980665780de4a63a3e675f8fb4d24df",
       "version_major": 2,
       "version_minor": 0
      },
      "text/plain": [
       "VBox(children=(Output(outputs=({'name': 'stdout', 'text': '2. What does the \\x1b[1mseq()\\x1b[0m function do?\\n…"
      ]
     },
     "metadata": {},
     "output_type": "display_data"
    },
    {
     "data": {
      "application/vnd.jupyter.widget-view+json": {
       "model_id": "4f868f9d70e24ee9babae91e15ec137b",
       "version_major": 2,
       "version_minor": 0
      },
      "text/plain": [
       "VBox(children=(Output(outputs=({'name': 'stdout', 'text': '3. Which of the following is NOT an argument for th…"
      ]
     },
     "metadata": {},
     "output_type": "display_data"
    }
   ],
   "source": [
    "if __name__ == \"__main__\":\n",
    "    display(L4P2Q1, L4P2Q2, L4P2Q3)"
   ]
  },
  {
   "cell_type": "markdown",
   "id": "8cf4c375-ee1c-4f77-827d-3c2fdb17ed07",
   "metadata": {},
   "source": [
    "## Page 3"
   ]
  },
  {
   "cell_type": "code",
   "execution_count": 36,
   "id": "04c4f326-c559-4029-9e4a-f75be4dfcae9",
   "metadata": {},
   "outputs": [],
   "source": [
    "L4P3Q1 = MultipleChoice('1. Suppose you create the following two vectors: \\n \\n    x <- c(1, 9, 6, 9, 5) \\n    y <- c(4, 8, 2, 7, 7) \\n \\n   What would the following command print? \\n \\n    x+y \\n',['A. [1] -3 1 4 2 -2','B. [1] 5 17 8 16 12','C. [1] 4 72 12 63 35','D. [1] 7 7 -2 5 9'],'B. [1] 5 17 8 16 12')\n",
    "L4P3Q2 = MultipleChoice('2. Can functions be performed on vectors?',['A. Yes','B. No'],'A. Yes')\n"
   ]
  },
  {
   "cell_type": "code",
   "execution_count": 37,
   "id": "fc46c9ad-2cc9-4851-88e6-9c603ec0e52d",
   "metadata": {},
   "outputs": [
    {
     "data": {
      "application/vnd.jupyter.widget-view+json": {
       "model_id": "94e7410d36c34bf48e1eb4bbb9c230eb",
       "version_major": 2,
       "version_minor": 0
      },
      "text/plain": [
       "VBox(children=(Output(outputs=({'name': 'stdout', 'text': '1. Suppose you create the following two vectors: \\n…"
      ]
     },
     "metadata": {},
     "output_type": "display_data"
    },
    {
     "data": {
      "application/vnd.jupyter.widget-view+json": {
       "model_id": "7ebccf0637534bcdad924b652090cdbc",
       "version_major": 2,
       "version_minor": 0
      },
      "text/plain": [
       "VBox(children=(Output(outputs=({'name': 'stdout', 'text': '2. Can functions be performed on vectors?\\n', 'outp…"
      ]
     },
     "metadata": {},
     "output_type": "display_data"
    }
   ],
   "source": [
    "if __name__ == \"__main__\":\n",
    "    display(L4P3Q1, L4P3Q2)"
   ]
  },
  {
   "cell_type": "markdown",
   "id": "41fb2b98-6913-4fa6-9d4d-8f842bc6bb68",
   "metadata": {},
   "source": [
    "## Page 4"
   ]
  },
  {
   "cell_type": "code",
   "execution_count": 46,
   "id": "3bdd751e-1463-4a7e-91bd-6d51f34e5822",
   "metadata": {},
   "outputs": [],
   "source": [
    "L4P4Q1 = MC('1. What is the value of the condition 4 < 6?',['A. True','B. False'],'A. True', cor='4 is less than 6, so this statement is true.', incor='')\n",
    "L4P4Q2 = MC('2. What is the value of the condition 4 == 6?',['A. True','B. False'],'B. False', cor='4 does not equal 6, so this statement is false', incor='')\n",
    "L4P4Q3 = MC('3. What is the value of the condition 4 != 6?',['A. True','B. False'],'A. True', cor='4 does not equal 6, so this statement is true.', incor='')\n"
   ]
  },
  {
   "cell_type": "code",
   "execution_count": 48,
   "id": "ed029a36-9e98-4b82-8011-7e06d84527bf",
   "metadata": {},
   "outputs": [
    {
     "data": {
      "application/vnd.jupyter.widget-view+json": {
       "model_id": "2fe7fe4d09b04e03969c2acfe3100b1e",
       "version_major": 2,
       "version_minor": 0
      },
      "text/plain": [
       "VBox(children=(Output(outputs=({'name': 'stdout', 'text': '1. What is the value of the condition 4 < 6?\\n', 'o…"
      ]
     },
     "metadata": {},
     "output_type": "display_data"
    },
    {
     "data": {
      "application/vnd.jupyter.widget-view+json": {
       "model_id": "240ef0b40b6a465daa106d66f451feca",
       "version_major": 2,
       "version_minor": 0
      },
      "text/plain": [
       "VBox(children=(Output(outputs=({'name': 'stdout', 'text': '2. What is the value of the condition 4 == 6?\\n', '…"
      ]
     },
     "metadata": {},
     "output_type": "display_data"
    },
    {
     "data": {
      "application/vnd.jupyter.widget-view+json": {
       "model_id": "57463cf8402a4bde928ea0c514e3c41d",
       "version_major": 2,
       "version_minor": 0
      },
      "text/plain": [
       "VBox(children=(Output(outputs=({'name': 'stdout', 'text': '3. What is the value of the condition 4 != 6?\\n', '…"
      ]
     },
     "metadata": {},
     "output_type": "display_data"
    }
   ],
   "source": [
    "if __name__ == \"__main__\":\n",
    "    display(L4P4Q1, L4P4Q2, L4P4Q3)"
   ]
  },
  {
   "cell_type": "markdown",
   "id": "4bafa825-f066-425a-a4ac-1830886468eb",
   "metadata": {},
   "source": [
    "## Page 5"
   ]
  },
  {
   "cell_type": "code",
   "execution_count": 85,
   "id": "2253c8f1-9610-46d1-b1d1-1e439ac380f8",
   "metadata": {},
   "outputs": [],
   "source": [
    "L4P5Q1 = MC('1. Suppose you have two vectors x and y that are defined as follows: \\n\\n   x <- c(1,2,3,4,5,6) \\n   y <- c(7,6,5,4,3,2) \\n\\nWhat is the value of the following condition? \\n\\n   x <= y\\n',['A. [1] FALSE FALSE FALSE FALSE TRUE TRUE','B. [1] TRUE TRUE TRUE TRUE FALSE FALSE','C. [1] TRUE TRUE TRUE FALSE FALSE FALSE','D. [1] TRUE TRUE TRUE TRUE TRUE TRUE'],'B. [1] TRUE TRUE TRUE TRUE FALSE FALSE', cor='', incor='')\n",
    "L4P5Q2 = MC('1. Suppose that you have a data vector that has been corrupted. Between every valid data value, someone inserted the number 42, sometimes multiple \\ntimes. Your data vector is: \\n\\n   arthur.dent <- c(1,42,4,42,42,42,9,42,16,42,42) \\n\\nWhich of the following R expressions will remove the 42\\'s, giving the output:\\n\\n   [1] 1 4 9 16\\n',['A. arthur.dent[arthur.dent >= 42]','B. arthur.dent[arthur.dent != 42]','C. arthur.dent[arthur.dent == 42]','D. arthur.dent[arthur.dent <= 42]'],'B. arthur.dent[arthur.dent != 42]', cor='', incor='')\n"
   ]
  },
  {
   "cell_type": "code",
   "execution_count": 86,
   "id": "64643b44-b7f9-44a5-ab49-a01ba0847aaa",
   "metadata": {},
   "outputs": [
    {
     "data": {
      "application/vnd.jupyter.widget-view+json": {
       "model_id": "2abe01fb2dee4e6892b3d3c1e1f1fb0a",
       "version_major": 2,
       "version_minor": 0
      },
      "text/plain": [
       "VBox(children=(Output(outputs=({'name': 'stdout', 'text': '1. Suppose you have two vectors x and y that are de…"
      ]
     },
     "metadata": {},
     "output_type": "display_data"
    },
    {
     "data": {
      "application/vnd.jupyter.widget-view+json": {
       "model_id": "78199fae976f4eb8b763066d2c31e594",
       "version_major": 2,
       "version_minor": 0
      },
      "text/plain": [
       "VBox(children=(Output(outputs=({'name': 'stdout', 'text': \"1. Suppose that you have a data vector that has bee…"
      ]
     },
     "metadata": {},
     "output_type": "display_data"
    }
   ],
   "source": [
    "if __name__ == \"__main__\":\n",
    "    display(L4P5Q1, L4P5Q2)"
   ]
  },
  {
   "cell_type": "markdown",
   "id": "8fca6125-dd71-4152-823c-f9bca6a169b3",
   "metadata": {},
   "source": [
    "## Page 6"
   ]
  },
  {
   "cell_type": "code",
   "execution_count": 129,
   "id": "8780b867-5c6d-4ed3-97a5-806d88c974b7",
   "metadata": {},
   "outputs": [],
   "source": [
    "L4P6Q1 = MC('1. Create a vector of wait times (times between eruptions) with this statement: \\n\\n   wait.times <- faithful$waiting\\n\\nWhich of the following is the mean wait time?',['A. 43','B. 70.89706','C. 76','D. 96'],'B. 70.89706', cor='', incor='')\n",
    "L4P6Q2 = MC('2. Create a vector of wait times (times between eruptions) with this statement: \\n\\n   wait.times <- faithful$waiting\\n\\nWhich of the following is the median wait time?',['A. 43','B. 70.89706','C. 76','D. 96'],'C. 76', cor='', incor='')\n",
    "L4P6Q3 = MC('3. Create a vector of wait times (times between eruptions) with this statement: \\n\\n   wait.times <- faithful$waiting\\n\\nWhich of the following is the minimum wait time?',['A. 43','B. 70.89706','C. 76','D. 96'],'A. 43', cor='', incor='')\n",
    "L4P6Q4 = MC('4. Create a vector of wait times (times between eruptions) with this statement: \\n\\n   wait.times <- faithful$waiting\\n\\nWhich of the following is the maximum wait time?',['A. 43','B. 70.89706','C. 76','D. 96'],'D. 96', cor='', incor='')\n",
    "L4P6Q5 = MC('5. Which statement would product quartiles?',['A. summary()','B. sd()','C. median()','D. max()'],'A. summary()', cor='', incor='')\n"
   ]
  },
  {
   "cell_type": "code",
   "execution_count": 130,
   "id": "23d360cb-6bb1-4f2f-87b6-36abd1bf1df7",
   "metadata": {},
   "outputs": [
    {
     "data": {
      "application/vnd.jupyter.widget-view+json": {
       "model_id": "aad2a14ef6da44cfaefd7994ec9b50af",
       "version_major": 2,
       "version_minor": 0
      },
      "text/plain": [
       "VBox(children=(Output(outputs=({'name': 'stdout', 'text': '1. Create a vector of wait times (times between eru…"
      ]
     },
     "metadata": {},
     "output_type": "display_data"
    },
    {
     "data": {
      "application/vnd.jupyter.widget-view+json": {
       "model_id": "49bac40d3523496ca9f64155dd7d57f0",
       "version_major": 2,
       "version_minor": 0
      },
      "text/plain": [
       "VBox(children=(Output(outputs=({'name': 'stdout', 'text': '2. Create a vector of wait times (times between eru…"
      ]
     },
     "metadata": {},
     "output_type": "display_data"
    },
    {
     "data": {
      "application/vnd.jupyter.widget-view+json": {
       "model_id": "2af921de82da42c1b14f65edbd6d1770",
       "version_major": 2,
       "version_minor": 0
      },
      "text/plain": [
       "VBox(children=(Output(outputs=({'name': 'stdout', 'text': '3. Create a vector of wait times (times between eru…"
      ]
     },
     "metadata": {},
     "output_type": "display_data"
    },
    {
     "data": {
      "application/vnd.jupyter.widget-view+json": {
       "model_id": "b3ebfb9b352942a1bc13048ffabce69b",
       "version_major": 2,
       "version_minor": 0
      },
      "text/plain": [
       "VBox(children=(Output(outputs=({'name': 'stdout', 'text': '4. Create a vector of wait times (times between eru…"
      ]
     },
     "metadata": {},
     "output_type": "display_data"
    },
    {
     "data": {
      "application/vnd.jupyter.widget-view+json": {
       "model_id": "64cb047a21364f10bd1e781c0e6d73bc",
       "version_major": 2,
       "version_minor": 0
      },
      "text/plain": [
       "VBox(children=(Output(outputs=({'name': 'stdout', 'text': '5. Which statement would product quartiles?\\n', 'ou…"
      ]
     },
     "metadata": {},
     "output_type": "display_data"
    }
   ],
   "source": [
    "if __name__ == \"__main__\":\n",
    "    display(L4P6Q1, L4P6Q2, L4P6Q3, L4P6Q4, L4P6Q5)"
   ]
  },
  {
   "cell_type": "markdown",
   "id": "b89244c0-5f85-4e19-b9e6-aad2403b94d3",
   "metadata": {},
   "source": [
    "# Lesson 5\n",
    "## Page 2"
   ]
  },
  {
   "cell_type": "code",
   "execution_count": 127,
   "id": "38553156-4bca-400a-b2de-bd7d63139a2a",
   "metadata": {},
   "outputs": [],
   "source": [
    "L5P2Q1 = MC('1. Which of the following is NOT an advantage of using \\033[1mggplot2\\033[0m?',['A. Simple to use','B. Consistency in language and structure','C. Better customization','D. Included in R base'],'D. Included in R base', cor='', incor='')\n",
    "L5P2Q2 = MC('2. What function makes a library usable?',['A. data.frame()','B. library()','C. install.packages()','D. ggplot2'],'B. library()', cor='', incor='')\n"
   ]
  },
  {
   "cell_type": "code",
   "execution_count": 128,
   "id": "e1dd9be5-2c81-484c-ba07-6d5146fcd667",
   "metadata": {},
   "outputs": [
    {
     "data": {
      "application/vnd.jupyter.widget-view+json": {
       "model_id": "4f61303a51ae4af996f949c20e27eef1",
       "version_major": 2,
       "version_minor": 0
      },
      "text/plain": [
       "VBox(children=(Output(outputs=({'name': 'stdout', 'text': '1. Which of the following is NOT an advantage of us…"
      ]
     },
     "metadata": {},
     "output_type": "display_data"
    },
    {
     "data": {
      "application/vnd.jupyter.widget-view+json": {
       "model_id": "443ffff5a46747f98ac42037baa18ab1",
       "version_major": 2,
       "version_minor": 0
      },
      "text/plain": [
       "VBox(children=(Output(outputs=({'name': 'stdout', 'text': '2. What function makes a library usable?\\n', 'outpu…"
      ]
     },
     "metadata": {},
     "output_type": "display_data"
    }
   ],
   "source": [
    "if __name__ == \"__main__\":\n",
    "    display(L5P2Q1, L5P2Q2)"
   ]
  },
  {
   "cell_type": "markdown",
   "id": "94f75fc0-0dc3-4b40-be00-ed84f57606bc",
   "metadata": {},
   "source": [
    "## Page 3"
   ]
  },
  {
   "cell_type": "code",
   "execution_count": 124,
   "id": "adb26281-d394-4c25-a0f3-c7679adbf445",
   "metadata": {},
   "outputs": [],
   "source": [
    "L5P3Q1 = MC('1. Which argument to \\033[31;1mgeom_histogram()\\033[0m will change how wide the histogram bars are??',['A. binwidth=','B. ggtitle()','C. xlab()','D. ylab()'],'A. binwidth=', cor='', incor='')\n",
    "L5P3Q2 = MC('2. The waiting times for the Old Faithful data are in the column labeled waiting. You set up a histogram of these times with the following call to ggplot():\\n\\n   \\033[31mwaiting_histogram <- ggplot(faithful, aes(x = waiting))\\033[0m \\n\\n?Which of the following commands will create the following histogram (above)? This histogram has bins whose width is three minutes.',['A. waiting_histogram + geom_histogram()','B. waiting_histogram + geom_histogram(binwidth = 10)','C. waiting_histogram + geom_histogram(breaks = seq(30, 100, by = 7))','D. waiting_histogram + geom_histogram(binwidth = 3)'],'D. waiting_histogram + geom_histogram(binwidth = 3)', cor='', incor='')\n",
    "L5P3Q3 = MC('3. Which of these arguments to will NOT influence the color of the graph?',['A. color=','B. ylab()','C. fill='],'B. ylab()', cor='', incor='')"
   ]
  },
  {
   "cell_type": "code",
   "execution_count": 125,
   "id": "25b566df-4834-4901-8dfd-7d12406d59c4",
   "metadata": {},
   "outputs": [
    {
     "data": {
      "application/vnd.jupyter.widget-view+json": {
       "model_id": "0d120100e0e24b369ceff16d28ef9916",
       "version_major": 2,
       "version_minor": 0
      },
      "text/plain": [
       "VBox(children=(Output(outputs=({'name': 'stdout', 'text': '1. Which argument to \\x1b[31;1mgeom_histogram()\\x1b…"
      ]
     },
     "metadata": {},
     "output_type": "display_data"
    }
   ],
   "source": [
    "if __name__ == \"__main__\":\n",
    "    display(L5P3Q1)"
   ]
  },
  {
   "cell_type": "markdown",
   "id": "6b0619c7-9d97-4bc3-b85c-4ebddca161cf",
   "metadata": {},
   "source": [
    "<p style=\"text-align: center\">\n",
    "  <img src=\"Media/L05-ExerciseWaiting.png\" alt=\"Drawing\" style=\"width: 300px;\"/>\n",
    "</p>"
   ]
  },
  {
   "cell_type": "code",
   "execution_count": 126,
   "id": "4d65a133-2e3d-4702-baf7-e76bb7415280",
   "metadata": {},
   "outputs": [
    {
     "data": {
      "application/vnd.jupyter.widget-view+json": {
       "model_id": "58079492aa494a7e85a0cf75ae8bde58",
       "version_major": 2,
       "version_minor": 0
      },
      "text/plain": [
       "VBox(children=(Output(outputs=({'name': 'stdout', 'text': '2. The waiting times for the Old Faithful data are …"
      ]
     },
     "metadata": {},
     "output_type": "display_data"
    },
    {
     "data": {
      "application/vnd.jupyter.widget-view+json": {
       "model_id": "5dc65abe8d4649bb992fe2bedbe26fcc",
       "version_major": 2,
       "version_minor": 0
      },
      "text/plain": [
       "VBox(children=(Output(outputs=({'name': 'stdout', 'text': '3. Which of these arguments to will NOT influence t…"
      ]
     },
     "metadata": {},
     "output_type": "display_data"
    }
   ],
   "source": [
    "if __name__ == \"__main__\":\n",
    "    display(L5P3Q2, L5P3Q3)"
   ]
  },
  {
   "cell_type": "markdown",
   "id": "35a75eef-341b-4210-8764-8189c29a8321",
   "metadata": {},
   "source": [
    "## Page 4"
   ]
  },
  {
   "cell_type": "code",
   "execution_count": 147,
   "id": "2cc860fc-faf4-4669-9c51-68a09fb193da",
   "metadata": {},
   "outputs": [],
   "source": [
    "L5P4Q1 = MC('1. In this statement, what is the purpose of the dollar sign?\\n\\n   \\033[31mplanes$engine\\033[0m\\n',['A. To make a boxplot','B. To specify the variable in the data frame of interest','C. To indicate the vector','D. To remove a variable'],'B. To specify the variable in the data frame of interest', cor='', incor='The command \\033[31mgeom_boxplot()\\033[0m will make a boxplot and a vector will not have multiple variables in it')\n",
    "L5P4Q2 = MC('2. Why are outliers important?',['A. They aren\\'t important','B. They make a boxplot less visually appealing','C. They can bias the data'],'C. They can bias the data', cor='Outliers can make the mean seem higher or lower than it really is', incor='')\n",
    "L5P4Q3 = MC('3. How do you mathematically detect outliers?',['A. Anything that is inside the whisker is an outlier','B. Anything that is outside the whisker is an outlier','C. An outlier is 1.5 times above or below the IQR','D. An outlier is 1.5 time above or below the mean'],'C. An outlier is 1.5 times above or below the IQR', cor='', incor='You can visually inspect for outliers with the whisker, but will need to use the IQR to mathematically detect outliers')\n"
   ]
  },
  {
   "cell_type": "code",
   "execution_count": 148,
   "id": "83bb4d3a-ae65-4043-9a42-8a52e7e1a10a",
   "metadata": {},
   "outputs": [
    {
     "data": {
      "application/vnd.jupyter.widget-view+json": {
       "model_id": "f312564d72fc4b89b680f3a2b5f335d6",
       "version_major": 2,
       "version_minor": 0
      },
      "text/plain": [
       "VBox(children=(Output(outputs=({'name': 'stdout', 'text': '1. In this statement, what is the purpose of the do…"
      ]
     },
     "metadata": {},
     "output_type": "display_data"
    },
    {
     "data": {
      "application/vnd.jupyter.widget-view+json": {
       "model_id": "8177d411652e48cba4bbcc97c629a360",
       "version_major": 2,
       "version_minor": 0
      },
      "text/plain": [
       "VBox(children=(Output(outputs=({'name': 'stdout', 'text': '2. Why are outliers important?\\n', 'output_type': '…"
      ]
     },
     "metadata": {},
     "output_type": "display_data"
    },
    {
     "data": {
      "application/vnd.jupyter.widget-view+json": {
       "model_id": "173a61b9bf964a62a1eb039c00ebc1d1",
       "version_major": 2,
       "version_minor": 0
      },
      "text/plain": [
       "VBox(children=(Output(outputs=({'name': 'stdout', 'text': '3. How do you mathematically detect outliers?\\n', '…"
      ]
     },
     "metadata": {},
     "output_type": "display_data"
    }
   ],
   "source": [
    "if __name__ == \"__main__\":\n",
    "    display(L5P4Q1, L5P4Q2, L5P4Q3)"
   ]
  },
  {
   "cell_type": "markdown",
   "id": "2cc3ac61-a16a-430c-b813-b10774df891c",
   "metadata": {},
   "source": [
    "## Page 5"
   ]
  },
  {
   "cell_type": "code",
   "execution_count": 149,
   "id": "641ddf94-3b78-4b45-a51f-f9fe75922f2c",
   "metadata": {},
   "outputs": [],
   "source": [
    "L5P5Q1 = MC('1. How should you interpret a normal probability plot?',['A. If the points fall in approximately a straight line, the the data is normally distributed','B. If a \"fat pencil\" covers most of the points, then the data is normally distributed','C. Both A and B are correct','D. Neither A nor B are correct'],'C. Both A and B are correct', cor='', incor='')"
   ]
  },
  {
   "cell_type": "code",
   "execution_count": 150,
   "id": "a0428665-cdeb-4132-901b-3f573e752691",
   "metadata": {},
   "outputs": [
    {
     "data": {
      "application/vnd.jupyter.widget-view+json": {
       "model_id": "20facb0fd01e4e879f57602a8a24c5ce",
       "version_major": 2,
       "version_minor": 0
      },
      "text/plain": [
       "VBox(children=(Output(outputs=({'name': 'stdout', 'text': '1. How should you interpret a normal probability pl…"
      ]
     },
     "metadata": {},
     "output_type": "display_data"
    }
   ],
   "source": [
    "if __name__ == \"__main__\":\n",
    "    display(L5P5Q1)"
   ]
  },
  {
   "cell_type": "markdown",
   "id": "769477a6-b69a-4929-8ee3-3fa3e82de730",
   "metadata": {
    "tags": []
   },
   "source": [
    "# Lesson 6\n",
    "## Page 2"
   ]
  },
  {
   "cell_type": "code",
   "execution_count": null,
   "id": "dfc10aca-0308-451f-8209-b62172f44c8f",
   "metadata": {},
   "outputs": [],
   "source": [
    "L6P2Q1 = MC('1. Question?',['A.','B.','C.','D.'],'A. Exact Answer', cor='', incor='')\n",
    "L6P2Q2 = MC('2. Question?',['A.','B.','C.','D.'],'A. Exact Answer', cor='', incor='')\n",
    "L6P2Q3 = MC('3. Question?',['A.','B.','C.','D.'],'A. Exact Answer', cor='', incor='')"
   ]
  },
  {
   "cell_type": "code",
   "execution_count": null,
   "id": "395d3778-f229-4735-ba2e-ed9a179b3dcf",
   "metadata": {},
   "outputs": [],
   "source": [
    "if __name__ == \"__main__\":\n",
    "    display(L6P2Q1, L6P2Q2, L6P2Q3)"
   ]
  },
  {
   "cell_type": "code",
   "execution_count": 276,
   "id": "910e3fd4-1318-4347-8a33-f3313e82f7c0",
   "metadata": {},
   "outputs": [],
   "source": [
    "#Template:\n",
    "L6P2Q1 = MC('1. Question?',['A.','B.','C.','D.'],'A. Exact Answer', cor='', incor='')\n",
    "L6P2Q2 = MC('2. Question?',['A.','B.','C.','D.'],'A. Exact Answer', cor='', incor='')\n",
    "L6P2Q3 = MC('3. Question?',['A.','B.','C.','D.'],'A. Exact Answer', cor='', incor='')\n",
    "L6P2Q4 = MC('4. Question?',['A.','B.','C.','D.'],'A. Exact Answer', cor='', incor='')\n",
    "L6P2Q5 = MC('5. Question?',['A.','B.','C.','D.'],'A. Exact Answer', cor='', incor='')\n",
    "L6P2Q6 = MC('6. Question?',['A.','B.','C.','D.'],'A. Exact Answer', cor='', incor='')\n"
   ]
  },
  {
   "cell_type": "code",
   "execution_count": null,
   "id": "cc1a163b-6ab9-475c-b349-19a32fc25592",
   "metadata": {},
   "outputs": [],
   "source": [
    "if __name__ == \"__main__\":\n",
    "    display(L6P2Q1, L6P2Q2, L6P2Q3, L6P2Q4, L6P2Q5, L6P2Q6)"
   ]
  }
 ],
 "metadata": {
  "kernelspec": {
   "display_name": "Python 3 (ipykernel)",
   "language": "python",
   "name": "python3"
  },
  "language_info": {
   "codemirror_mode": {
    "name": "ipython",
    "version": 3
   },
   "file_extension": ".py",
   "mimetype": "text/x-python",
   "name": "python",
   "nbconvert_exporter": "python",
   "pygments_lexer": "ipython3",
   "version": "3.9.9"
  }
 },
 "nbformat": 4,
 "nbformat_minor": 5
}
