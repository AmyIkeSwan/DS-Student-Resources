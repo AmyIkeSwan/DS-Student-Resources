{
 "cells": [
  {
   "cell_type": "markdown",
   "id": "4c440c85-e447-44b3-af0a-5ecc263e2332",
   "metadata": {},
   "source": [
    "# DS102 Statistical Programming in R"
   ]
  },
  {
   "cell_type": "markdown",
   "id": "dfdc150c-8580-4b84-8642-d3b1e75eb30a",
   "metadata": {},
   "source": [
    "### Table of Contents <a class=\"anchor\" id=\"toc\"></a>\n",
    "\n",
    "* [Table of Contents](#toc)\n",
    "    * [Page 1 - Welcome](#page_1)\n",
    "    * [Page 2 - How to Think like a Data Scientist](#page_2)\n",
    "    * [Page 3 - Conversion](#page_3)\n",
    "    * [Page 4 - How to Break Down Problems](#page_4)\n",
    "    * [Page 5](#page_5)\n",
    "    * [Page 6](#page_6)\n",
    "    * [Page 7](#page_7)\n",
    "    * [Page 8 Final Project](#page_8)\n",
    "\n"
   ]
  },
  {
   "cell_type": "markdown",
   "id": "d20fa9c9-f53c-47eb-bf3f-07589d2c0a5f",
   "metadata": {},
   "source": [
    "<hr style=\"height:10px;border-width:0;color:gray;background-color:gray\">\n",
    "\n",
    "# Page 1 - Welcome <a class=\"anchor\" id=\"page_1\"></a>\n",
    "\n",
    "[Back to Top](#toc)\n",
    "\n",
    "<hr style=\"height:10px;border-width:0;color:gray;background-color:gray\">"
   ]
  },
  {
   "cell_type": "code",
   "execution_count": 1,
   "id": "579f4f1c-de85-4867-9184-b0e29e11241e",
   "metadata": {},
   "outputs": [
    {
     "data": {
      "text/html": [
       "\n",
       "        <iframe\n",
       "            width=\"720\"\n",
       "            height=\"480\"\n",
       "            src=\"https://player.vimeo.com/video/234929904\"\n",
       "            frameborder=\"0\"\n",
       "            allowfullscreen\n",
       "        ></iframe>\n",
       "        "
      ],
      "text/plain": [
       "<IPython.lib.display.VimeoVideo at 0x7fd4b038f5b0>"
      ]
     },
     "execution_count": 1,
     "metadata": {},
     "output_type": "execute_result"
    }
   ],
   "source": [
    "from IPython.display import VimeoVideo\n",
    "# Tutorial Video Name: Thinking Like a Programmer\n",
    "VimeoVideo('234929904', width=720, height=480)"
   ]
  },
  {
   "cell_type": "markdown",
   "id": "3a4e04c8-5585-4cce-9ef6-f737494e74c8",
   "metadata": {},
   "source": [
    "Congratulations! You are on the brink of learning your very first programming language! You will be learning a lot as you go through the lessons. It will be hard work, but know that you can do it! Follow along and when you get stuck, keep in mind that there are several great public resources available to you like **<a href=\"https://stackoverflow.com/\" target=\"_blank\">StackOverflow</a>**, **<a href=\"https://www.w3schools.com/\" target=\"_blank\">W3Schools</a>**, or a crowd favorite, **<a href=\"https://www.google.com\" target=\"_blank\">Google</a>**.  \n",
    "\n",
    "> _\"Your first projects aren't the greatest things in the world, and they may have no money value, they may go nowhere, but that is how you learn - you put so much effort into making something right if it is for yourself.\"_\n",
    ">\n",
    "> **- Steve Wozniak**\n",
    "\n",
    "In this lesson, you will learn about: \n",
    "\n",
    "* Breaking problems down into simple steps\n",
    "* Providing instructions in simple steps\n",
    "* The value of mistakes\n",
    "* Imposter syndrome\n",
    "\n",
    "This lesson will culminate in a hands on that will require you think like a programmer to solve the logical puzzle.\n"
   ]
  },
  {
   "cell_type": "markdown",
   "id": "1c187a3c-7326-4481-8048-18b2af31ebad",
   "metadata": {},
   "source": [
    "<hr style=\"height:10px;border-width:0;color:gray;background-color:gray\">\n",
    "\n",
    "# Page 2 - Thinking like a Data Scientist <a class=\"anchor\" id=\"page_2\"></a>\n",
    "\n",
    "[Back to Top](#toc)\n",
    "\n",
    "<hr style=\"height:10px;border-width:0;color:gray;background-color:gray\">"
   ]
  },
  {
   "cell_type": "code",
   "execution_count": 2,
   "id": "fffe14b1-c51e-4fe1-97ea-7bd03b84d513",
   "metadata": {},
   "outputs": [
    {
     "data": {
      "text/html": [
       "\n",
       "        <iframe\n",
       "            width=\"720\"\n",
       "            height=\"480\"\n",
       "            src=\"https://player.vimeo.com/video/407763686\"\n",
       "            frameborder=\"0\"\n",
       "            allowfullscreen\n",
       "        ></iframe>\n",
       "        "
      ],
      "text/plain": [
       "<IPython.lib.display.VimeoVideo at 0x7fd430057a00>"
      ]
     },
     "execution_count": 2,
     "metadata": {},
     "output_type": "execute_result"
    }
   ],
   "source": [
    "from IPython.display import VimeoVideo\n",
    "# Tutorial Video Name: Problem Solving and Critical Thinking\n",
    "VimeoVideo('407763686', width=720, height=480)"
   ]
  },
  {
   "cell_type": "code",
   "execution_count": 3,
   "id": "fcde0853-40f9-4920-9ccb-7fe1d29c0562",
   "metadata": {},
   "outputs": [
    {
     "data": {
      "text/html": [
       "\n",
       "        <iframe\n",
       "            width=\"720\"\n",
       "            height=\"480\"\n",
       "            src=\"https://player.vimeo.com/video/325919813\"\n",
       "            frameborder=\"0\"\n",
       "            allowfullscreen\n",
       "        ></iframe>\n",
       "        "
      ],
      "text/plain": [
       "<IPython.lib.display.VimeoVideo at 0x7fd4b038fca0>"
      ]
     },
     "execution_count": 3,
     "metadata": {},
     "output_type": "execute_result"
    }
   ],
   "source": [
    "from IPython.display import VimeoVideo\n",
    "# Tutorial Video Name: Thinking Like a Data Scientist\n",
    "VimeoVideo('325919813', width=720, height=480)"
   ]
  },
  {
   "cell_type": "markdown",
   "id": "e82a1f96-eca6-46ff-8b92-70cbe530b496",
   "metadata": {},
   "source": [
    "The transcript for the above topic tutorial video **[is located here](https://repo.exeterlms.com/documents/V2/DataScience/Video-Transcripts/DSO102-L01-pg2tutorial.zip)**.\n",
    "\n",
    "The biggest issue new students run into is how to adjust their thinking to a style that is necessary for data science. Even as computers become more advanced, they continue to be very good at doing exactly what you tell them to do &mdash; even if it makes no sense at all. This means that you must become very good at saying precisely what you want the computer to do. This seems easy enough at first &ndash; after all, you communicate with other people all the time &ndash; but it is notoriously difficult to get right early on. Other people are capable of understanding your intent, adding context, and asking for clarification when they do not understand. Computers do none of this. At best, computers give an error when they do not understand and at worst they will carry out an instruction that you did not intend. This leads to problems with your program, crashes, or even data loss. The process of learning to think like a programmer is part learning to be very specific and part learning how to deal with seemingly impossibly-large problems. You'll go into both of these throughout this lesson.\n",
    "\n",
    "---\n",
    "\n",
    "## How To Eat An Elephant\n",
    "\n",
    "There's an old joke, `\"How do you eat an elephant?\"` which seems absurd at first. Eating an elephant is not something that any human is going to be able to do. The punchline: `one bite at a time` while corny, does have an element of truth to it. Given enough time and small enough bites, you probably _could_ eat an elephant. So it is with large problems, both in programming and elsewhere. Doing a large report, cooking a three course meal for 20 guests, and using machine learning are all impossible to do in one step. They must be broken down into smaller pieces until you are left with a pile of achievable tasks."
   ]
  },
  {
   "cell_type": "markdown",
   "id": "ecb0cea2-4e42-49db-892f-00f50cd2d617",
   "metadata": {},
   "source": [
    "<hr style=\"height:10px;border-width:0;color:gray;background-color:gray\">\n",
    "\n",
    "## Page 3 - Conversion <a class=\"anchor\" id=\"page_3\"></a>\n",
    "\n",
    "[Back to Top](#toc)\n",
    "\n",
    "<hr style=\"height:10px;border-width:0;color:gray;background-color:gray\">"
   ]
  },
  {
   "cell_type": "code",
   "execution_count": 7,
   "id": "f05768ce-dc66-4d65-819a-2895f9e06b28",
   "metadata": {},
   "outputs": [
    {
     "data": {
      "text/html": [
       "\n",
       "        <iframe\n",
       "            width=\"720\"\n",
       "            height=\"480\"\n",
       "            src=\"https://player.vimeo.com/video/325919753\"\n",
       "            frameborder=\"0\"\n",
       "            allowfullscreen\n",
       "        ></iframe>\n",
       "        "
      ],
      "text/plain": [
       "<IPython.lib.display.VimeoVideo at 0x7fd4b038fd90>"
      ]
     },
     "execution_count": 7,
     "metadata": {},
     "output_type": "execute_result"
    }
   ],
   "source": [
    "from IPython.display import VimeoVideo\n",
    "# Tutorial Video Name: Conversion\n",
    "VimeoVideo('325919753', width=720, height=480)"
   ]
  },
  {
   "cell_type": "markdown",
   "id": "b1598c6a-3112-4477-b864-641014c2aeff",
   "metadata": {},
   "source": [
    "The transcript for the above topic tutorial video **[is located here](https://repo.exeterlms.com/documents/V2/DataScience/Video-Transcripts/DSO102-L01-pg3tutorial.zip)**.\n",
    "\n",
    "# Conversion\n",
    "\n",
    "One example of the kind of thinking that programming and data science requires is conversions. For example, if you have 87 inches of ribbon, and you want to wrap it around a gift box that measures 4 feet around, would you have enough ribbon?\n",
    "\n",
    "The solution requires a few steps:\n",
    "\n",
    "1. Determine how many inches there are in a foot.\n",
    "2. Multiply the box circumference (in feet) by the number of inches per foot to get the total number of inches of ribbon needed to wrap the box.\n",
    "3. Determine whether the result of #2 is less than or equal to the number of inches of available ribbon.\n",
    "\n",
    "Here's how you'd think this through:\n",
    "\n",
    "```text\n",
    "1. 12 inches per foot\n",
    "\n",
    "2. 4 * 12 = 48 inches of ribbon needed\n",
    "\n",
    "3. 48 <= 87\n",
    "```\n",
    "\n",
    "So yes, you would have plenty of ribbon. You could almost wrap around twice!\n",
    "\n",
    "\n",
    "```c-lms\n",
    "topic: PBJ Time\n",
    "```\n",
    "\n",
    "# Peanut Butter and Jelly Time\n",
    "\n",
    "An important aspect of thinking like a programmer is to be precise when giving instructions. This is a tricky thing for most people since it is so unlike what you typically do in everyday life.\n",
    "\n",
    "A classic exercise in learning this skill is to write out a list of step-by-step instructions for making a peanut butter and jelly sandwich.\n",
    "\n",
    "Go ahead and do this now. When you're done, move on to the next section.\n",
    "\n",
    "\n",
    "```c-lms\n",
    "topic: PBJ Instructions\n",
    "```\n",
    "\n",
    "# PBJ Instructions Check\n",
    "\n",
    "Do your instructions look something like this?\n",
    "\n",
    "* Put peanut butter on one slice of bread\n",
    "* Put jelly on a different slice of bread\n",
    "* Place the two slices on top of each other with the peanut butter facing the jelly\n",
    "\n",
    "Perhaps your directions are more detailed. When working with a computer it is like dealing with someone who takes what you say literally. They will do exactly what you tell them. Here are some video examples of people performing the actions others have written out for dramatic effect:\n",
    "\n",
    "**<a href=\"https://www.youtube.com/watch?v=RjHzD2sfWcQ\" target=\"_blank\">Could you describe how to make a P&J sandwich to an alien??</a>**\n",
    "\n",
    "**<a href=\"https://www.youtube.com/watch?v=cDA3_5982h8\" target=\"_blank\">Exact Instructions Challenge</a>**\n",
    "\n",
    "Do you feel you could write a list of instructions that could hold up to that kind of treatment? What sorts of things would you need to include and what (if anything) could be assumed?"
   ]
  },
  {
   "cell_type": "code",
   "execution_count": 4,
   "id": "4c7346da-c472-4609-bcf4-7f9240687358",
   "metadata": {},
   "outputs": [
    {
     "data": {
      "text/html": [
       "\n",
       "        <iframe\n",
       "            width=\"720\"\n",
       "            height=\"480\"\n",
       "            src=\"https://www.youtube.com/embed/RjHzD2sfWcQ\"\n",
       "            frameborder=\"0\"\n",
       "            allowfullscreen\n",
       "        ></iframe>\n",
       "        "
      ],
      "text/plain": [
       "<IPython.lib.display.YouTubeVideo at 0x7fd4b038f910>"
      ]
     },
     "execution_count": 4,
     "metadata": {},
     "output_type": "execute_result"
    }
   ],
   "source": [
    "from IPython.display import YouTubeVideo\n",
    "# Tutorial Video Name: Thinking Like a Data Scientist\n",
    "YouTubeVideo('RjHzD2sfWcQ', width=720, height=480)"
   ]
  },
  {
   "cell_type": "code",
   "execution_count": 5,
   "id": "cafb81e4-f1f1-4a36-8c6f-b28cdb31d695",
   "metadata": {},
   "outputs": [
    {
     "data": {
      "text/html": [
       "\n",
       "        <iframe\n",
       "            width=\"720\"\n",
       "            height=\"480\"\n",
       "            src=\"https://www.youtube.com/embed/cDA3_5982h8\"\n",
       "            frameborder=\"0\"\n",
       "            allowfullscreen\n",
       "        ></iframe>\n",
       "        "
      ],
      "text/plain": [
       "<IPython.lib.display.YouTubeVideo at 0x7fd4300745b0>"
      ]
     },
     "execution_count": 5,
     "metadata": {},
     "output_type": "execute_result"
    }
   ],
   "source": [
    "from IPython.display import YouTubeVideo\n",
    "# Tutorial Video Name: Thinking Like a Data Scientist\n",
    "YouTubeVideo('cDA3_5982h8', width=720, height=480)"
   ]
  },
  {
   "cell_type": "markdown",
   "id": "b0e45497-c62d-47a6-ad75-b82e926bd62f",
   "metadata": {},
   "source": [
    "<hr style=\"height:10px;border-width:0;color:gray;background-color:gray\">\n",
    "\n",
    "# Page 4 - Breaking Down Problems <a class=\"anchor\" id=\"page_4\"></a>\n",
    "\n",
    "[Back to Top](#toc)\n",
    "\n",
    "<hr style=\"height:10px;border-width:0;color:gray;background-color:gray\">"
   ]
  },
  {
   "cell_type": "code",
   "execution_count": 6,
   "id": "5990f960-da85-4262-b8bc-b5a3a9b38ee0",
   "metadata": {},
   "outputs": [
    {
     "data": {
      "text/html": [
       "\n",
       "        <iframe\n",
       "            width=\"720\"\n",
       "            height=\"480\"\n",
       "            src=\"https://player.vimeo.com/video/325919744\"\n",
       "            frameborder=\"0\"\n",
       "            allowfullscreen\n",
       "        ></iframe>\n",
       "        "
      ],
      "text/plain": [
       "<IPython.lib.display.VimeoVideo at 0x7fd430057a90>"
      ]
     },
     "execution_count": 6,
     "metadata": {},
     "output_type": "execute_result"
    }
   ],
   "source": [
    "from IPython.display import VimeoVideo\n",
    "# Tutorial Video Name: Breaking Down Problems\n",
    "VimeoVideo('325919744', width=720, height=480)"
   ]
  },
  {
   "cell_type": "markdown",
   "id": "cbf084ef-2d49-43bf-bdc3-60b37cff10f6",
   "metadata": {},
   "source": [
    "The transcript for the above topic tutorial video **[is located here](https://repo.exeterlms.com/documents/V2/DataScience/Video-Transcripts/DSO102-L01-pg6tutorial.zip)**.\n",
    "\n",
    "# Breaking Down Problems\n",
    "\n",
    "There is one more type of challenge you will look at in this lesson; deconstructing word problems. This type of problem is the most challenging for many people. Word problems, while potentially intimidating, closely resemble real-world data science programming tasks. It is very unlikely that you will be handed a well-written specification from a client, instead of a verbal or text based communication to express the desired solution. The actual implementation of that solution requires you to pick apart what you have been given, to connect what is being asked for with a set of tools you have at your disposal, and then formulate a plan for solving the problem.\n",
    "\n",
    "Consider the problem statement:\n",
    "\n",
    "```text\n",
    "I have a list of scores from a survey sent out to our clients. I want to know how well we did across all the scores as a single number.\n",
    "```\n",
    "\n",
    "What data is present in this sentence? What kind of data is it?\n",
    "\n",
    "<div class=\"cc-content-answer\">\n",
    "    <p><strong>After you've come up with an answer, hover your mouse pointer here</strong>.</p>\n",
    "    <div class=\"well cc-content-answer-hidden\">\n",
    "        A list of scores (numbers).\n",
    "    </div>\n",
    "</div>\n",
    "\n",
    "Once you know the basic elements that are available, you can determine what to do with them. Should you add all the numbers together? Should you pick the largest or the smallest number?\n",
    "\n",
    "The problem is asking for a single number that represents the values of all the individual scores. None of the suggestions above would accomplish this.\n",
    "\n",
    "If you have several very high numbers and a few low numbers, you would expect the answer to be relatively high. If you had several low numbers and one single high number, you might expect the answer to be higher than your low numbers but well below the single high number.\n",
    "\n",
    "So, what kind of operation is being asked for here?\n",
    "\n",
    "<div class=\"cc-content-answer\">\n",
    "    <p><strong>After you've come up with an answer, hover your mouse pointer here</strong>.</p>\n",
    "    <div class=\"well cc-content-answer-hidden\">\n",
    "        The mean (average) of all the scores.\n",
    "    </div>\n",
    "</div>\n",
    "\n",
    "What's important here is identifying the question. In this case, it required an understanding of averages and recognizing it as the question. If you did not know what an average was ahead of time, it would be difficult to solve that particular problem.\n",
    "\n",
    "Learning new programming techniques gives you more tools to apply to any given problem. If a problem seems impossible, it is essential to go through the tools that you have and brush up on less familiar ones. Discovering the right tool is often the hardest part of solving a problem.\n",
    "\n",
    "```c-lms\n",
    "topic: Breaking Down Problems Review\n",
    "```\n",
    "\n",
    "# Breaking Down Problems Review\n",
    "\n",
    "The skills of deconstructing problems and then precisely communicating your instructions will take time to hone. Fortunately, you will have plenty of chances to practice these skills. Try to remember, the process of breaking down the problem and identifying what you want to do next is often the trickiest part. Writing out your list of `what do I have to work with` and `what steps are needed to accomplish my goal` are valuable skills at any level of experience or technical competency. It's no coincidence that whiteboards and sticky notes are widespread in areas where data scientists are working.\n",
    "\n",
    "---"
   ]
  },
  {
   "cell_type": "code",
   "execution_count": 8,
   "id": "4d2cdd06-97fd-4ac5-aa76-75417f721a92",
   "metadata": {},
   "outputs": [
    {
     "data": {
      "text/html": [
       "\n",
       "        <iframe\n",
       "            width=\"720\"\n",
       "            height=\"480\"\n",
       "            src=\"https://player.vimeo.com/video/325919805\"\n",
       "            frameborder=\"0\"\n",
       "            allowfullscreen\n",
       "        ></iframe>\n",
       "        "
      ],
      "text/plain": [
       "<IPython.lib.display.VimeoVideo at 0x7fd430074b50>"
      ]
     },
     "execution_count": 8,
     "metadata": {},
     "output_type": "execute_result"
    }
   ],
   "source": [
    "from IPython.display import VimeoVideo\n",
    "# Tutorial Video Name: Mistakes Are Inevitable\n",
    "VimeoVideo('325919805', width=720, height=480)"
   ]
  },
  {
   "cell_type": "markdown",
   "id": "0707f1a5-d40b-4da4-82dd-946407c77b35",
   "metadata": {},
   "source": [
    "\n",
    "\n",
    "## Review\n",
    "\n",
    "Below is a quiz to review the recently covered material. Quizzes are _not_ graded.\n",
    "\n",
    "```c-lms\n",
    "start-activity: Programmer Mindset Quiz\n",
    "```\n",
    "The transcript for the above topic tutorial video **[is located here](https://repo.exeterlms.com/documents/V2/DataScience/Video-Transcripts/DSO102-L01-pg8tutorial.zip)**.\n",
    "\n",
    "# Mistakes are INEVITABLE\n",
    "\n",
    "> _“Experience is the name everyone gives to their mistakes.”_ – Oscar Wilde\n",
    "\n",
    "In programming there is no truer statement.  You cannot get better at programming without making a lot of mistakes along the way.  In fact, a very common truism in programming is: \n",
    "\n",
    ">_\"If something works the first time you run it, be very afraid._”\n",
    "\n",
    "Mistakes come in all types.  Misspell a word here, use the wrong character there, forget a semi-colon or curly brace there, and all of a sudden you’ll see red on your screen. This should not cause fear.  In fact, errors are your friend.  They’re the greatest teacher and best pathway to learning.  In order to understand what you need to do, you often first need to know what _NOT_ to do.\n",
    "\n",
    "See if you can figure out what’s wrong with the following sentence:\n",
    "\n",
    "```text\n",
    "My friend Ron is from The United Kingdom and he loves French cuisine.\n",
    "```\n",
    "\n",
    "Did you spot the error? Great! There are, in fact, _more than one_ problem with the sentence above. Did you find them, or did you stop once you discovered the first one?\n",
    "\n",
    "A common issue beginning developers have is that once they encounter an error with their code, they tend to stop paying attention to the rest of it.  They can become fixated on the one problem and not realize another problem might also be lurking.  After they fix the first bug, they will see another error message due to the second problem, but believe the error message is still caused by the first error.  It can take days to realize they fixed the original issue all along.\n",
    "\n",
    "Even experienced developers can spend days trying to fix an error in their code.  Since a computer interprets the language literally, you must be perfect in how you articulate the instructions &mdash; you saw this with the peanut butter and jelly sandwich example.  The instructions might be very clear to you as you write them, but when taken literally they don’t make sense.\n",
    "\n",
    "Looking back at the sentence about Ron, despite having two errors, were you still able to understand the meaning?  More than likely you were; however, a computer doesn’t think the same as you do.  It takes a very keen eye and intricate understanding of the language to know that the `T` in the word `the`, when used as an adjective before a proper noun, should be lowercase. That’s the first error. The second error is that there should be a comma before the conjunction `and` to separate the two independent clauses. Miss a comma between arguments when coding, and your computer will definitely be unhappy!\n",
    "\n",
    "---\n",
    "\n",
    "## Logical Errors\n",
    "\n",
    "There is something else interesting about the sentence above: some grammar-correction software may not detect the errors. As far as the grammar-correction software can tell, `The` might be part of the proper noun `The United Kingdom`.  It has no way of knowing your intention is to use `the` as an adjective to `United Kingdom`.  A similar issue is happening with the missing comma.  Without understanding the intent of the sentence the grammar-correction software will not know that it is two conjoined sentences.  It can only interpret the words in their literal form.\n",
    "\n",
    "Both of these errors are what would be called a `logical error` in programming.  The sentence is grammatically correct as far as the grammar-correction software is concerned, but there are logical errors that cannot be determined by the computer since it can only understand the text literally.  The rules of capitalization and punctuation often require an understanding of the intention of the phrase trying to be conveyed, and this is not something a computer can determine easily.  The same is true with programming.  The computer cannot determine the intent of your code, only the syntax you used to write it.\n",
    "\n",
    "Even if you had a keen eye for both problems, consider how often you make grammatical errors in your own writing.  Now imagine that every grammatical error you ever made was taken literally by a computer.  Would the computer comprehend your instructions?  How often would your intention be misinterpreted by the computer? Could your instructions be performed exactly as you wrote them but have unintended results?\n",
    "\n",
    "You will make many mistakes along the way.  Do not fear them, embrace them.  They will help you grow as a programmer.  The more mistakes you make, the faster you will grow.  As you explore R and Python, it is advised that you even take a little time to break your code after a successful attempt, to learn more about what works, what doesn't and why."
   ]
  },
  {
   "cell_type": "code",
   "execution_count": 9,
   "id": "2885cc4a-718a-4c36-a6ec-2b0021ac15d4",
   "metadata": {},
   "outputs": [
    {
     "data": {
      "text/html": [
       "\n",
       "        <iframe\n",
       "            width=\"720\"\n",
       "            height=\"480\"\n",
       "            src=\"https://player.vimeo.com/video/325919763\"\n",
       "            frameborder=\"0\"\n",
       "            allowfullscreen\n",
       "        ></iframe>\n",
       "        "
      ],
      "text/plain": [
       "<IPython.lib.display.VimeoVideo at 0x7fd4b0349d30>"
      ]
     },
     "execution_count": 9,
     "metadata": {},
     "output_type": "execute_result"
    }
   ],
   "source": [
    "from IPython.display import VimeoVideo\n",
    "# Tutorial Video Name: Imposter Syndrome\n",
    "VimeoVideo('325919763', width=720, height=480)"
   ]
  },
  {
   "cell_type": "markdown",
   "id": "54056d7b-30b2-4aaa-8f40-58ba2d5243cd",
   "metadata": {},
   "source": [
    "The transcript for the above topic tutorial video **[is located here](https://repo.exeterlms.com/documents/V2/DataScience/Video-Transcripts/DSO102-L01-pg9tutorial.zip)**.\n",
    "\n",
    "# Imposter Syndrome\n",
    "\n",
    "One of the most commonly-expressed worries beginning data scientists have is feeling not good enough to be labeled a `data scientist`.  It is sometimes hard to see your own successes when compared to others.  You may feel like a fraud, or a fake.  There is a term for this feeling; it’s called the *Imposter Syndrome*.\n",
    "\n",
    "<div class=\"panel panel-success\">\n",
    "    <div class=\"panel-heading\">\n",
    "        <h3 class=\"panel-title\">Check out this article about Imposter Syndrome in Data Science!</h3>\n",
    "    </div>\n",
    "    <div class=\"panel-body\">\n",
    "        <p>If you would like to read more about Imposter Syndrome specifically for data science, and tips to overcome it, check out <a href=\"https://caitlinhudon.com/2018/01/19/imposter-syndrome-in-data-science/\" target=\"_blank\">this blog</a>.</p>\n",
    "    </div>\n",
    "</div>\n",
    "\n",
    "Due to the vast scale of information that a data scientist must comprehend, it's easy to understand why this feeling exists.  However, EVERYONE is facing the same challenges - remember that data science is only a few years old!\n",
    "\n",
    "Much like learning a verbal language, a person can spend years learning it and still only barely pass in a community of native speakers. In fact, learning how to program is a lot like learning a new language, because it **IS** a new language!\n",
    "\n",
    "Your brain has to be trained how to think like a programmer using a programming language.  It takes years to perfect, and it can be intimidating when there are peers who seemingly understand the language better.\n",
    "\n",
    "---\n",
    "\n",
    "## Hard To See Success\n",
    "\n",
    "It is easy to ignore your own success and attribute it to luck or deception.  The result is that the feeling may not go away even after proving your ability to perform the tasks at hand. And as a junior data scientist, there will be several situations where you will feel in over your head.  It’s a significant part of learning.\n",
    "\n",
    "> _\"Every great developer you know got there by solving problems they were unqualified to solve until they actually did it.\"_ - Patrick McKenzie\n",
    "\n",
    "Questioning your skills and abilities is one of the driving forces behind expanding your learning.  Great developers embrace the struggle of not knowing the solution and use it as a means to further their academic understanding. Trying to learn new techniques and become better skilled at a craft is a continuous struggle.  Perfection is not obtainable, but improvement is.\n",
    "\n",
    "<div class=\"panel panel-success\">\n",
    "    <div class=\"panel-heading\">\n",
    "        <h3 class=\"panel-title\">Additional Info!</h3>\n",
    "    </div>\n",
    "    <div class=\"panel-body\">\n",
    "        <p>You may want to watch this <a href=\"https://vimeo.com/456013155\"> recorded live workshop on imposter syndrome and how to combat it! </a> </p>\n",
    "    </div>\n",
    "</div>\n",
    "\n",
    "---\n",
    "\n",
    "## Review\n",
    "\n",
    "Below is a quiz to review the recently covered material. Quizzes are _not_ graded.\n",
    "\n",
    "```c-lms\n",
    "start-activity: Imposter Syndrome Quiz\n",
    "```\n",
    "\n",
    "```c-lms\n",
    "topic: Key Terms\n",
    "```\n",
    "\n",
    "# Key Terms\n",
    "\n",
    "Below is a list and short description of the important keywords you have learned in this lesson. Please, read through, go back and review any concepts you don't understand fully. Great Work!\n",
    "\n",
    "<table class=\"table table-striped\">\n",
    "  <thead>\n",
    "    <tr>\n",
    "      <th>Tag</th>\n",
    "      <th>Description</th>\n",
    "    </tr>\n",
    "  </thead>\n",
    "  <tbody>\n",
    "    <tr>\n",
    "      <td style=\"font-weight: bold;\" nowrap>Conversion</td>\n",
    "      <td>The process of changing or causing something to change from one form to another.</td>\n",
    "    </tr>\n",
    "    <tr>\n",
    "      <td style=\"font-weight: bold;\" nowrap>Logical Errors</td>\n",
    "      <td>A mistake in a program's source code that results in incorrect or unexpected behavior.</td>\n",
    "    </tr>\n",
    "    <tr>\n",
    "      <td style=\"font-weight: bold;\" nowrap>Imposter Syndrome</td>\n",
    "      <td>A psychological pattern in which an individual doubts their accomplishments and has a persistent internalized fear of being exposed as a \"fraud.\"</td>\n",
    "    </tr>\n",
    "  </tbody>\n",
    "</table>\n",
    "\n",
    "```c-lms\n",
    "topic: Hands-On\n",
    "start-activity: Lesson 1 Hands-On\n",
    "```"
   ]
  },
  {
   "cell_type": "code",
   "execution_count": null,
   "id": "ee98c724-c826-47ac-b6ff-fcd76f99028c",
   "metadata": {},
   "outputs": [],
   "source": []
  }
 ],
 "metadata": {
  "kernelspec": {
   "display_name": "Python 3",
   "language": "python",
   "name": "python3"
  },
  "language_info": {
   "codemirror_mode": {
    "name": "ipython",
    "version": 3
   },
   "file_extension": ".py",
   "mimetype": "text/x-python",
   "name": "python",
   "nbconvert_exporter": "python",
   "pygments_lexer": "ipython3",
   "version": "3.9.5"
  }
 },
 "nbformat": 4,
 "nbformat_minor": 5
}
