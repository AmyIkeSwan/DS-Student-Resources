{
 "cells": [
  {
   "cell_type": "code",
   "execution_count": 27,
   "id": "2235c0ac-7823-4b6a-acf9-79d79507b045",
   "metadata": {},
   "outputs": [
    {
     "name": "stdout",
     "output_type": "stream",
     "text": [
      "\n",
      "The downloaded binary packages are in\n",
      "\t/var/folders/wk/6why77bn1kn0l0pkd4vd3zl00000gn/T//RtmplyrvbX/downloaded_packages\n"
     ]
    },
    {
     "name": "stderr",
     "output_type": "stream",
     "text": [
      "Warning message:\n",
      "“package ‘dyplyr’ is not available for this version of R\n",
      "\n",
      "A version of this package for your version of R might be available elsewhere,\n",
      "see the ideas at\n",
      "https://cran.r-project.org/doc/manuals/r-patched/R-admin.html#Installing-packages”\n"
     ]
    },
    {
     "name": "stdout",
     "output_type": "stream",
     "text": [
      "\n",
      "The downloaded binary packages are in\n",
      "\t/var/folders/wk/6why77bn1kn0l0pkd4vd3zl00000gn/T//RtmplyrvbX/downloaded_packages\n"
     ]
    }
   ],
   "source": [
    "#### install packages ####\n",
    "#https://tidyr.tidyverse.org/\n",
    "#https://github.com/rstudio/cheatsheets/blob/master/data-import.pdf\n",
    "install.packages(\"tidyr\")\n",
    "\n",
    "#https://dplyr.tidyverse.org/\n",
    "#https://github.com/rstudio/cheatsheets/blob/master/data-transformation.pdf\n",
    "install.packages(\"dyplyr\")\n",
    "\n",
    "install.packages(\"tidyverse\")"
   ]
  },
  {
   "cell_type": "code",
   "execution_count": 28,
   "id": "b8fb1065-78e9-45dd-b1b4-f38dfc6f4d4c",
   "metadata": {},
   "outputs": [],
   "source": [
    "#### Load in Packages ####\n",
    "library(tidyr) \n",
    "library(dplyr)"
   ]
  },
  {
   "cell_type": "code",
   "execution_count": 29,
   "id": "b9cbec63-8690-42af-b9dd-a8e9e3a6d1f8",
   "metadata": {},
   "outputs": [
    {
     "data": {
      "text/html": [
       "'/Users/jsr/Documents/GitHub/DS-Student-Resources/DS104-Data-Wrangling-and-Visualization/Workshops/01-Data-Wrangling-in-R'"
      ],
      "text/latex": [
       "'/Users/jsr/Documents/GitHub/DS-Student-Resources/DS104-Data-Wrangling-and-Visualization/Workshops/01-Data-Wrangling-in-R'"
      ],
      "text/markdown": [
       "'/Users/jsr/Documents/GitHub/DS-Student-Resources/DS104-Data-Wrangling-and-Visualization/Workshops/01-Data-Wrangling-in-R'"
      ],
      "text/plain": [
       "[1] \"/Users/jsr/Documents/GitHub/DS-Student-Resources/DS104-Data-Wrangling-and-Visualization/Workshops/01-Data-Wrangling-in-R\""
      ]
     },
     "metadata": {},
     "output_type": "display_data"
    }
   ],
   "source": [
    "# To see you current path use:\n",
    "getwd()"
   ]
  },
  {
   "cell_type": "code",
   "execution_count": 39,
   "id": "0bb95308-033e-41ee-91cc-c168bc0813f1",
   "metadata": {},
   "outputs": [
    {
     "data": {
      "text/html": [
       "<table class=\"dataframe\">\n",
       "<caption>A data.frame: 6 × 10</caption>\n",
       "<thead>\n",
       "\t<tr><th></th><th scope=col>volcano_number</th><th scope=col>volcano_name</th><th scope=col>eruption_number</th><th scope=col>eruption_start_year</th><th scope=col>event_number</th><th scope=col>event_type</th><th scope=col>event_remarks</th><th scope=col>event_date_year</th><th scope=col>event_date_month</th><th scope=col>event_date_day</th></tr>\n",
       "\t<tr><th></th><th scope=col>&lt;int&gt;</th><th scope=col>&lt;chr&gt;</th><th scope=col>&lt;int&gt;</th><th scope=col>&lt;int&gt;</th><th scope=col>&lt;int&gt;</th><th scope=col>&lt;chr&gt;</th><th scope=col>&lt;chr&gt;</th><th scope=col>&lt;int&gt;</th><th scope=col>&lt;int&gt;</th><th scope=col>&lt;int&gt;</th></tr>\n",
       "</thead>\n",
       "<tbody>\n",
       "\t<tr><th scope=row>1</th><td>210020</td><td>Chaine des Puys</td><td>10011</td><td>-4040</td><td>100001</td><td>Explosion            </td><td>NA</td><td>NA</td><td>NA</td><td>NA</td></tr>\n",
       "\t<tr><th scope=row>2</th><td>210020</td><td>Chaine des Puys</td><td>10011</td><td>-4040</td><td>100002</td><td>Scoria               </td><td>NA</td><td>NA</td><td>NA</td><td>NA</td></tr>\n",
       "\t<tr><th scope=row>3</th><td>210020</td><td>Chaine des Puys</td><td>10011</td><td>-4040</td><td>100003</td><td>Pyroclastic flow     </td><td>NA</td><td>NA</td><td>NA</td><td>NA</td></tr>\n",
       "\t<tr><th scope=row>4</th><td>210020</td><td>Chaine des Puys</td><td>10011</td><td>-4040</td><td>100004</td><td>Lava flow(s)         </td><td>NA</td><td>NA</td><td>NA</td><td>NA</td></tr>\n",
       "\t<tr><th scope=row>5</th><td>210020</td><td>Chaine des Puys</td><td>10011</td><td>-4040</td><td>100005</td><td>Cinder cone formation</td><td>NA</td><td>NA</td><td>NA</td><td>NA</td></tr>\n",
       "\t<tr><th scope=row>6</th><td>210020</td><td>Chaine des Puys</td><td>10011</td><td>-4040</td><td>100006</td><td>Pumice               </td><td>NA</td><td>NA</td><td>NA</td><td>NA</td></tr>\n",
       "</tbody>\n",
       "</table>\n"
      ],
      "text/latex": [
       "A data.frame: 6 × 10\n",
       "\\begin{tabular}{r|llllllllll}\n",
       "  & volcano\\_number & volcano\\_name & eruption\\_number & eruption\\_start\\_year & event\\_number & event\\_type & event\\_remarks & event\\_date\\_year & event\\_date\\_month & event\\_date\\_day\\\\\n",
       "  & <int> & <chr> & <int> & <int> & <int> & <chr> & <chr> & <int> & <int> & <int>\\\\\n",
       "\\hline\n",
       "\t1 & 210020 & Chaine des Puys & 10011 & -4040 & 100001 & Explosion             & NA & NA & NA & NA\\\\\n",
       "\t2 & 210020 & Chaine des Puys & 10011 & -4040 & 100002 & Scoria                & NA & NA & NA & NA\\\\\n",
       "\t3 & 210020 & Chaine des Puys & 10011 & -4040 & 100003 & Pyroclastic flow      & NA & NA & NA & NA\\\\\n",
       "\t4 & 210020 & Chaine des Puys & 10011 & -4040 & 100004 & Lava flow(s)          & NA & NA & NA & NA\\\\\n",
       "\t5 & 210020 & Chaine des Puys & 10011 & -4040 & 100005 & Cinder cone formation & NA & NA & NA & NA\\\\\n",
       "\t6 & 210020 & Chaine des Puys & 10011 & -4040 & 100006 & Pumice                & NA & NA & NA & NA\\\\\n",
       "\\end{tabular}\n"
      ],
      "text/markdown": [
       "\n",
       "A data.frame: 6 × 10\n",
       "\n",
       "| <!--/--> | volcano_number &lt;int&gt; | volcano_name &lt;chr&gt; | eruption_number &lt;int&gt; | eruption_start_year &lt;int&gt; | event_number &lt;int&gt; | event_type &lt;chr&gt; | event_remarks &lt;chr&gt; | event_date_year &lt;int&gt; | event_date_month &lt;int&gt; | event_date_day &lt;int&gt; |\n",
       "|---|---|---|---|---|---|---|---|---|---|---|\n",
       "| 1 | 210020 | Chaine des Puys | 10011 | -4040 | 100001 | Explosion             | NA | NA | NA | NA |\n",
       "| 2 | 210020 | Chaine des Puys | 10011 | -4040 | 100002 | Scoria                | NA | NA | NA | NA |\n",
       "| 3 | 210020 | Chaine des Puys | 10011 | -4040 | 100003 | Pyroclastic flow      | NA | NA | NA | NA |\n",
       "| 4 | 210020 | Chaine des Puys | 10011 | -4040 | 100004 | Lava flow(s)          | NA | NA | NA | NA |\n",
       "| 5 | 210020 | Chaine des Puys | 10011 | -4040 | 100005 | Cinder cone formation | NA | NA | NA | NA |\n",
       "| 6 | 210020 | Chaine des Puys | 10011 | -4040 | 100006 | Pumice                | NA | NA | NA | NA |\n",
       "\n"
      ],
      "text/plain": [
       "  volcano_number volcano_name    eruption_number eruption_start_year\n",
       "1 210020         Chaine des Puys 10011           -4040              \n",
       "2 210020         Chaine des Puys 10011           -4040              \n",
       "3 210020         Chaine des Puys 10011           -4040              \n",
       "4 210020         Chaine des Puys 10011           -4040              \n",
       "5 210020         Chaine des Puys 10011           -4040              \n",
       "6 210020         Chaine des Puys 10011           -4040              \n",
       "  event_number event_type            event_remarks event_date_year\n",
       "1 100001       Explosion             NA            NA             \n",
       "2 100002       Scoria                NA            NA             \n",
       "3 100003       Pyroclastic flow      NA            NA             \n",
       "4 100004       Lava flow(s)          NA            NA             \n",
       "5 100005       Cinder cone formation NA            NA             \n",
       "6 100006       Pumice                NA            NA             \n",
       "  event_date_month event_date_day\n",
       "1 NA               NA            \n",
       "2 NA               NA            \n",
       "3 NA               NA            \n",
       "4 NA               NA            \n",
       "5 NA               NA            \n",
       "6 NA               NA            "
      ]
     },
     "metadata": {},
     "output_type": "display_data"
    }
   ],
   "source": [
    "#volcanoes.csv\n",
    "volcanoes = read.csv('../../Data/volcanoes.csv')\n",
    "head(volcanoes)"
   ]
  },
  {
   "cell_type": "code",
   "execution_count": 31,
   "id": "947e9a0f-ff44-4b95-95c4-acc6725a408d",
   "metadata": {},
   "outputs": [],
   "source": [
    "# Add Columns\n",
    "volcanoes$ErruptionYN = \"Y\""
   ]
  },
  {
   "cell_type": "code",
   "execution_count": 32,
   "id": "734c6017-3e71-43d1-8477-9e87833dd039",
   "metadata": {},
   "outputs": [
    {
     "data": {
      "text/html": [
       "<table class=\"dataframe\">\n",
       "<caption>A data.frame: 6 × 11</caption>\n",
       "<thead>\n",
       "\t<tr><th></th><th scope=col>volcano_number</th><th scope=col>volcano_name</th><th scope=col>eruption_number</th><th scope=col>eruption_start_year</th><th scope=col>event_number</th><th scope=col>event_type</th><th scope=col>event_remarks</th><th scope=col>event_date_year</th><th scope=col>event_date_month</th><th scope=col>event_date_day</th><th scope=col>ErruptionYN</th></tr>\n",
       "\t<tr><th></th><th scope=col>&lt;int&gt;</th><th scope=col>&lt;chr&gt;</th><th scope=col>&lt;int&gt;</th><th scope=col>&lt;int&gt;</th><th scope=col>&lt;int&gt;</th><th scope=col>&lt;chr&gt;</th><th scope=col>&lt;chr&gt;</th><th scope=col>&lt;int&gt;</th><th scope=col>&lt;int&gt;</th><th scope=col>&lt;int&gt;</th><th scope=col>&lt;chr&gt;</th></tr>\n",
       "</thead>\n",
       "<tbody>\n",
       "\t<tr><th scope=row>1</th><td>210020</td><td>Chaine des Puys</td><td>10011</td><td>-4040</td><td>100001</td><td>Explosion            </td><td>NA</td><td>NA</td><td>NA</td><td>NA</td><td>Y</td></tr>\n",
       "\t<tr><th scope=row>2</th><td>210020</td><td>Chaine des Puys</td><td>10011</td><td>-4040</td><td>100002</td><td>Scoria               </td><td>NA</td><td>NA</td><td>NA</td><td>NA</td><td>Y</td></tr>\n",
       "\t<tr><th scope=row>3</th><td>210020</td><td>Chaine des Puys</td><td>10011</td><td>-4040</td><td>100003</td><td>Pyroclastic flow     </td><td>NA</td><td>NA</td><td>NA</td><td>NA</td><td>Y</td></tr>\n",
       "\t<tr><th scope=row>4</th><td>210020</td><td>Chaine des Puys</td><td>10011</td><td>-4040</td><td>100004</td><td>Lava flow(s)         </td><td>NA</td><td>NA</td><td>NA</td><td>NA</td><td>Y</td></tr>\n",
       "\t<tr><th scope=row>5</th><td>210020</td><td>Chaine des Puys</td><td>10011</td><td>-4040</td><td>100005</td><td>Cinder cone formation</td><td>NA</td><td>NA</td><td>NA</td><td>NA</td><td>Y</td></tr>\n",
       "\t<tr><th scope=row>6</th><td>210020</td><td>Chaine des Puys</td><td>10011</td><td>-4040</td><td>100006</td><td>Pumice               </td><td>NA</td><td>NA</td><td>NA</td><td>NA</td><td>Y</td></tr>\n",
       "</tbody>\n",
       "</table>\n"
      ],
      "text/latex": [
       "A data.frame: 6 × 11\n",
       "\\begin{tabular}{r|lllllllllll}\n",
       "  & volcano\\_number & volcano\\_name & eruption\\_number & eruption\\_start\\_year & event\\_number & event\\_type & event\\_remarks & event\\_date\\_year & event\\_date\\_month & event\\_date\\_day & ErruptionYN\\\\\n",
       "  & <int> & <chr> & <int> & <int> & <int> & <chr> & <chr> & <int> & <int> & <int> & <chr>\\\\\n",
       "\\hline\n",
       "\t1 & 210020 & Chaine des Puys & 10011 & -4040 & 100001 & Explosion             & NA & NA & NA & NA & Y\\\\\n",
       "\t2 & 210020 & Chaine des Puys & 10011 & -4040 & 100002 & Scoria                & NA & NA & NA & NA & Y\\\\\n",
       "\t3 & 210020 & Chaine des Puys & 10011 & -4040 & 100003 & Pyroclastic flow      & NA & NA & NA & NA & Y\\\\\n",
       "\t4 & 210020 & Chaine des Puys & 10011 & -4040 & 100004 & Lava flow(s)          & NA & NA & NA & NA & Y\\\\\n",
       "\t5 & 210020 & Chaine des Puys & 10011 & -4040 & 100005 & Cinder cone formation & NA & NA & NA & NA & Y\\\\\n",
       "\t6 & 210020 & Chaine des Puys & 10011 & -4040 & 100006 & Pumice                & NA & NA & NA & NA & Y\\\\\n",
       "\\end{tabular}\n"
      ],
      "text/markdown": [
       "\n",
       "A data.frame: 6 × 11\n",
       "\n",
       "| <!--/--> | volcano_number &lt;int&gt; | volcano_name &lt;chr&gt; | eruption_number &lt;int&gt; | eruption_start_year &lt;int&gt; | event_number &lt;int&gt; | event_type &lt;chr&gt; | event_remarks &lt;chr&gt; | event_date_year &lt;int&gt; | event_date_month &lt;int&gt; | event_date_day &lt;int&gt; | ErruptionYN &lt;chr&gt; |\n",
       "|---|---|---|---|---|---|---|---|---|---|---|---|\n",
       "| 1 | 210020 | Chaine des Puys | 10011 | -4040 | 100001 | Explosion             | NA | NA | NA | NA | Y |\n",
       "| 2 | 210020 | Chaine des Puys | 10011 | -4040 | 100002 | Scoria                | NA | NA | NA | NA | Y |\n",
       "| 3 | 210020 | Chaine des Puys | 10011 | -4040 | 100003 | Pyroclastic flow      | NA | NA | NA | NA | Y |\n",
       "| 4 | 210020 | Chaine des Puys | 10011 | -4040 | 100004 | Lava flow(s)          | NA | NA | NA | NA | Y |\n",
       "| 5 | 210020 | Chaine des Puys | 10011 | -4040 | 100005 | Cinder cone formation | NA | NA | NA | NA | Y |\n",
       "| 6 | 210020 | Chaine des Puys | 10011 | -4040 | 100006 | Pumice                | NA | NA | NA | NA | Y |\n",
       "\n"
      ],
      "text/plain": [
       "  volcano_number volcano_name    eruption_number eruption_start_year\n",
       "1 210020         Chaine des Puys 10011           -4040              \n",
       "2 210020         Chaine des Puys 10011           -4040              \n",
       "3 210020         Chaine des Puys 10011           -4040              \n",
       "4 210020         Chaine des Puys 10011           -4040              \n",
       "5 210020         Chaine des Puys 10011           -4040              \n",
       "6 210020         Chaine des Puys 10011           -4040              \n",
       "  event_number event_type            event_remarks event_date_year\n",
       "1 100001       Explosion             NA            NA             \n",
       "2 100002       Scoria                NA            NA             \n",
       "3 100003       Pyroclastic flow      NA            NA             \n",
       "4 100004       Lava flow(s)          NA            NA             \n",
       "5 100005       Cinder cone formation NA            NA             \n",
       "6 100006       Pumice                NA            NA             \n",
       "  event_date_month event_date_day ErruptionYN\n",
       "1 NA               NA             Y          \n",
       "2 NA               NA             Y          \n",
       "3 NA               NA             Y          \n",
       "4 NA               NA             Y          \n",
       "5 NA               NA             Y          \n",
       "6 NA               NA             Y          "
      ]
     },
     "metadata": {},
     "output_type": "display_data"
    }
   ],
   "source": [
    "#notice the new ErruptionYN column\n",
    "head(volcanoes)"
   ]
  },
  {
   "cell_type": "code",
   "execution_count": 33,
   "id": "41fb6153-14c2-47cd-af63-b45ad3aace9f",
   "metadata": {},
   "outputs": [
    {
     "data": {
      "text/html": [
       "<table class=\"dataframe\">\n",
       "<caption>A data.frame: 6 × 11</caption>\n",
       "<thead>\n",
       "\t<tr><th></th><th scope=col>volcano_number</th><th scope=col>volcano_name</th><th scope=col>eruption_number</th><th scope=col>eruption_start_year</th><th scope=col>event_number</th><th scope=col>event_type</th><th scope=col>Notes</th><th scope=col>event_date_year</th><th scope=col>event_date_month</th><th scope=col>event_date_day</th><th scope=col>ErruptionYN</th></tr>\n",
       "\t<tr><th></th><th scope=col>&lt;int&gt;</th><th scope=col>&lt;chr&gt;</th><th scope=col>&lt;int&gt;</th><th scope=col>&lt;int&gt;</th><th scope=col>&lt;int&gt;</th><th scope=col>&lt;chr&gt;</th><th scope=col>&lt;chr&gt;</th><th scope=col>&lt;int&gt;</th><th scope=col>&lt;int&gt;</th><th scope=col>&lt;int&gt;</th><th scope=col>&lt;chr&gt;</th></tr>\n",
       "</thead>\n",
       "<tbody>\n",
       "\t<tr><th scope=row>1</th><td>210020</td><td>Chaine des Puys</td><td>10011</td><td>-4040</td><td>100001</td><td>Explosion            </td><td>NA</td><td>NA</td><td>NA</td><td>NA</td><td>Y</td></tr>\n",
       "\t<tr><th scope=row>2</th><td>210020</td><td>Chaine des Puys</td><td>10011</td><td>-4040</td><td>100002</td><td>Scoria               </td><td>NA</td><td>NA</td><td>NA</td><td>NA</td><td>Y</td></tr>\n",
       "\t<tr><th scope=row>3</th><td>210020</td><td>Chaine des Puys</td><td>10011</td><td>-4040</td><td>100003</td><td>Pyroclastic flow     </td><td>NA</td><td>NA</td><td>NA</td><td>NA</td><td>Y</td></tr>\n",
       "\t<tr><th scope=row>4</th><td>210020</td><td>Chaine des Puys</td><td>10011</td><td>-4040</td><td>100004</td><td>Lava flow(s)         </td><td>NA</td><td>NA</td><td>NA</td><td>NA</td><td>Y</td></tr>\n",
       "\t<tr><th scope=row>5</th><td>210020</td><td>Chaine des Puys</td><td>10011</td><td>-4040</td><td>100005</td><td>Cinder cone formation</td><td>NA</td><td>NA</td><td>NA</td><td>NA</td><td>Y</td></tr>\n",
       "\t<tr><th scope=row>6</th><td>210020</td><td>Chaine des Puys</td><td>10011</td><td>-4040</td><td>100006</td><td>Pumice               </td><td>NA</td><td>NA</td><td>NA</td><td>NA</td><td>Y</td></tr>\n",
       "</tbody>\n",
       "</table>\n"
      ],
      "text/latex": [
       "A data.frame: 6 × 11\n",
       "\\begin{tabular}{r|lllllllllll}\n",
       "  & volcano\\_number & volcano\\_name & eruption\\_number & eruption\\_start\\_year & event\\_number & event\\_type & Notes & event\\_date\\_year & event\\_date\\_month & event\\_date\\_day & ErruptionYN\\\\\n",
       "  & <int> & <chr> & <int> & <int> & <int> & <chr> & <chr> & <int> & <int> & <int> & <chr>\\\\\n",
       "\\hline\n",
       "\t1 & 210020 & Chaine des Puys & 10011 & -4040 & 100001 & Explosion             & NA & NA & NA & NA & Y\\\\\n",
       "\t2 & 210020 & Chaine des Puys & 10011 & -4040 & 100002 & Scoria                & NA & NA & NA & NA & Y\\\\\n",
       "\t3 & 210020 & Chaine des Puys & 10011 & -4040 & 100003 & Pyroclastic flow      & NA & NA & NA & NA & Y\\\\\n",
       "\t4 & 210020 & Chaine des Puys & 10011 & -4040 & 100004 & Lava flow(s)          & NA & NA & NA & NA & Y\\\\\n",
       "\t5 & 210020 & Chaine des Puys & 10011 & -4040 & 100005 & Cinder cone formation & NA & NA & NA & NA & Y\\\\\n",
       "\t6 & 210020 & Chaine des Puys & 10011 & -4040 & 100006 & Pumice                & NA & NA & NA & NA & Y\\\\\n",
       "\\end{tabular}\n"
      ],
      "text/markdown": [
       "\n",
       "A data.frame: 6 × 11\n",
       "\n",
       "| <!--/--> | volcano_number &lt;int&gt; | volcano_name &lt;chr&gt; | eruption_number &lt;int&gt; | eruption_start_year &lt;int&gt; | event_number &lt;int&gt; | event_type &lt;chr&gt; | Notes &lt;chr&gt; | event_date_year &lt;int&gt; | event_date_month &lt;int&gt; | event_date_day &lt;int&gt; | ErruptionYN &lt;chr&gt; |\n",
       "|---|---|---|---|---|---|---|---|---|---|---|---|\n",
       "| 1 | 210020 | Chaine des Puys | 10011 | -4040 | 100001 | Explosion             | NA | NA | NA | NA | Y |\n",
       "| 2 | 210020 | Chaine des Puys | 10011 | -4040 | 100002 | Scoria                | NA | NA | NA | NA | Y |\n",
       "| 3 | 210020 | Chaine des Puys | 10011 | -4040 | 100003 | Pyroclastic flow      | NA | NA | NA | NA | Y |\n",
       "| 4 | 210020 | Chaine des Puys | 10011 | -4040 | 100004 | Lava flow(s)          | NA | NA | NA | NA | Y |\n",
       "| 5 | 210020 | Chaine des Puys | 10011 | -4040 | 100005 | Cinder cone formation | NA | NA | NA | NA | Y |\n",
       "| 6 | 210020 | Chaine des Puys | 10011 | -4040 | 100006 | Pumice                | NA | NA | NA | NA | Y |\n",
       "\n"
      ],
      "text/plain": [
       "  volcano_number volcano_name    eruption_number eruption_start_year\n",
       "1 210020         Chaine des Puys 10011           -4040              \n",
       "2 210020         Chaine des Puys 10011           -4040              \n",
       "3 210020         Chaine des Puys 10011           -4040              \n",
       "4 210020         Chaine des Puys 10011           -4040              \n",
       "5 210020         Chaine des Puys 10011           -4040              \n",
       "6 210020         Chaine des Puys 10011           -4040              \n",
       "  event_number event_type            Notes event_date_year event_date_month\n",
       "1 100001       Explosion             NA    NA              NA              \n",
       "2 100002       Scoria                NA    NA              NA              \n",
       "3 100003       Pyroclastic flow      NA    NA              NA              \n",
       "4 100004       Lava flow(s)          NA    NA              NA              \n",
       "5 100005       Cinder cone formation NA    NA              NA              \n",
       "6 100006       Pumice                NA    NA              NA              \n",
       "  event_date_day ErruptionYN\n",
       "1 NA             Y          \n",
       "2 NA             Y          \n",
       "3 NA             Y          \n",
       "4 NA             Y          \n",
       "5 NA             Y          \n",
       "6 NA             Y          "
      ]
     },
     "metadata": {},
     "output_type": "display_data"
    }
   ],
   "source": [
    "# Rename Columns notice the renaming of event_remarks to Notes\n",
    "names(volcanoes)[names(volcanoes) == \"event_remarks\"] <- \"Notes\"\n",
    "head(volcanoes)"
   ]
  },
  {
   "cell_type": "code",
   "execution_count": 34,
   "id": "f57a2b95-0b7c-4771-b580-353860c25f96",
   "metadata": {},
   "outputs": [
    {
     "data": {
      "text/html": [
       "<table class=\"dataframe\">\n",
       "<caption>A data.frame: 6 × 10</caption>\n",
       "<thead>\n",
       "\t<tr><th></th><th scope=col>volcano_number</th><th scope=col>NameType</th><th scope=col>eruption_number</th><th scope=col>eruption_start_year</th><th scope=col>event_number</th><th scope=col>Notes</th><th scope=col>event_date_year</th><th scope=col>event_date_month</th><th scope=col>event_date_day</th><th scope=col>ErruptionYN</th></tr>\n",
       "\t<tr><th></th><th scope=col>&lt;int&gt;</th><th scope=col>&lt;chr&gt;</th><th scope=col>&lt;int&gt;</th><th scope=col>&lt;int&gt;</th><th scope=col>&lt;int&gt;</th><th scope=col>&lt;chr&gt;</th><th scope=col>&lt;int&gt;</th><th scope=col>&lt;int&gt;</th><th scope=col>&lt;int&gt;</th><th scope=col>&lt;chr&gt;</th></tr>\n",
       "</thead>\n",
       "<tbody>\n",
       "\t<tr><th scope=row>1</th><td>210020</td><td>Chaine des Puys,Explosion            </td><td>10011</td><td>-4040</td><td>100001</td><td>NA</td><td>NA</td><td>NA</td><td>NA</td><td>Y</td></tr>\n",
       "\t<tr><th scope=row>2</th><td>210020</td><td>Chaine des Puys,Scoria               </td><td>10011</td><td>-4040</td><td>100002</td><td>NA</td><td>NA</td><td>NA</td><td>NA</td><td>Y</td></tr>\n",
       "\t<tr><th scope=row>3</th><td>210020</td><td>Chaine des Puys,Pyroclastic flow     </td><td>10011</td><td>-4040</td><td>100003</td><td>NA</td><td>NA</td><td>NA</td><td>NA</td><td>Y</td></tr>\n",
       "\t<tr><th scope=row>4</th><td>210020</td><td>Chaine des Puys,Lava flow(s)         </td><td>10011</td><td>-4040</td><td>100004</td><td>NA</td><td>NA</td><td>NA</td><td>NA</td><td>Y</td></tr>\n",
       "\t<tr><th scope=row>5</th><td>210020</td><td>Chaine des Puys,Cinder cone formation</td><td>10011</td><td>-4040</td><td>100005</td><td>NA</td><td>NA</td><td>NA</td><td>NA</td><td>Y</td></tr>\n",
       "\t<tr><th scope=row>6</th><td>210020</td><td>Chaine des Puys,Pumice               </td><td>10011</td><td>-4040</td><td>100006</td><td>NA</td><td>NA</td><td>NA</td><td>NA</td><td>Y</td></tr>\n",
       "</tbody>\n",
       "</table>\n"
      ],
      "text/latex": [
       "A data.frame: 6 × 10\n",
       "\\begin{tabular}{r|llllllllll}\n",
       "  & volcano\\_number & NameType & eruption\\_number & eruption\\_start\\_year & event\\_number & Notes & event\\_date\\_year & event\\_date\\_month & event\\_date\\_day & ErruptionYN\\\\\n",
       "  & <int> & <chr> & <int> & <int> & <int> & <chr> & <int> & <int> & <int> & <chr>\\\\\n",
       "\\hline\n",
       "\t1 & 210020 & Chaine des Puys,Explosion             & 10011 & -4040 & 100001 & NA & NA & NA & NA & Y\\\\\n",
       "\t2 & 210020 & Chaine des Puys,Scoria                & 10011 & -4040 & 100002 & NA & NA & NA & NA & Y\\\\\n",
       "\t3 & 210020 & Chaine des Puys,Pyroclastic flow      & 10011 & -4040 & 100003 & NA & NA & NA & NA & Y\\\\\n",
       "\t4 & 210020 & Chaine des Puys,Lava flow(s)          & 10011 & -4040 & 100004 & NA & NA & NA & NA & Y\\\\\n",
       "\t5 & 210020 & Chaine des Puys,Cinder cone formation & 10011 & -4040 & 100005 & NA & NA & NA & NA & Y\\\\\n",
       "\t6 & 210020 & Chaine des Puys,Pumice                & 10011 & -4040 & 100006 & NA & NA & NA & NA & Y\\\\\n",
       "\\end{tabular}\n"
      ],
      "text/markdown": [
       "\n",
       "A data.frame: 6 × 10\n",
       "\n",
       "| <!--/--> | volcano_number &lt;int&gt; | NameType &lt;chr&gt; | eruption_number &lt;int&gt; | eruption_start_year &lt;int&gt; | event_number &lt;int&gt; | Notes &lt;chr&gt; | event_date_year &lt;int&gt; | event_date_month &lt;int&gt; | event_date_day &lt;int&gt; | ErruptionYN &lt;chr&gt; |\n",
       "|---|---|---|---|---|---|---|---|---|---|---|\n",
       "| 1 | 210020 | Chaine des Puys,Explosion             | 10011 | -4040 | 100001 | NA | NA | NA | NA | Y |\n",
       "| 2 | 210020 | Chaine des Puys,Scoria                | 10011 | -4040 | 100002 | NA | NA | NA | NA | Y |\n",
       "| 3 | 210020 | Chaine des Puys,Pyroclastic flow      | 10011 | -4040 | 100003 | NA | NA | NA | NA | Y |\n",
       "| 4 | 210020 | Chaine des Puys,Lava flow(s)          | 10011 | -4040 | 100004 | NA | NA | NA | NA | Y |\n",
       "| 5 | 210020 | Chaine des Puys,Cinder cone formation | 10011 | -4040 | 100005 | NA | NA | NA | NA | Y |\n",
       "| 6 | 210020 | Chaine des Puys,Pumice                | 10011 | -4040 | 100006 | NA | NA | NA | NA | Y |\n",
       "\n"
      ],
      "text/plain": [
       "  volcano_number NameType                              eruption_number\n",
       "1 210020         Chaine des Puys,Explosion             10011          \n",
       "2 210020         Chaine des Puys,Scoria                10011          \n",
       "3 210020         Chaine des Puys,Pyroclastic flow      10011          \n",
       "4 210020         Chaine des Puys,Lava flow(s)          10011          \n",
       "5 210020         Chaine des Puys,Cinder cone formation 10011          \n",
       "6 210020         Chaine des Puys,Pumice                10011          \n",
       "  eruption_start_year event_number Notes event_date_year event_date_month\n",
       "1 -4040               100001       NA    NA              NA              \n",
       "2 -4040               100002       NA    NA              NA              \n",
       "3 -4040               100003       NA    NA              NA              \n",
       "4 -4040               100004       NA    NA              NA              \n",
       "5 -4040               100005       NA    NA              NA              \n",
       "6 -4040               100006       NA    NA              NA              \n",
       "  event_date_day ErruptionYN\n",
       "1 NA             Y          \n",
       "2 NA             Y          \n",
       "3 NA             Y          \n",
       "4 NA             Y          \n",
       "5 NA             Y          \n",
       "6 NA             Y          "
      ]
     },
     "metadata": {},
     "output_type": "display_data"
    }
   ],
   "source": [
    "# Combine Columns, notice how we combined volcano_name with event_type into the new column name called NameType\n",
    "# https://www.rdocumentation.org/packages/tidyr/versions/0.8.3/topics/unite\n",
    "volcanoes1 <- unite(volcanoes, NameType, volcano_name, event_type, sep = \",\") \n",
    "head(volcanoes1)"
   ]
  },
  {
   "cell_type": "code",
   "execution_count": 35,
   "id": "892d575c-598b-4639-aeef-7a2a0bb034c9",
   "metadata": {},
   "outputs": [
    {
     "name": "stderr",
     "output_type": "stream",
     "text": [
      "Warning message:\n",
      "“Expected 2 pieces. Additional pieces discarded in 2060 rows [1152, 1153, 1154, 1155, 1156, 1157, 1158, 1159, 1308, 1309, 1310, 1311, 1312, 1313, 1314, 1315, 1316, 1317, 1318, 1319, ...].”\n"
     ]
    },
    {
     "data": {
      "text/html": [
       "<table class=\"dataframe\">\n",
       "<caption>A data.frame: 6 × 11</caption>\n",
       "<thead>\n",
       "\t<tr><th></th><th scope=col>volcano_number</th><th scope=col>Name</th><th scope=col>Type</th><th scope=col>eruption_number</th><th scope=col>eruption_start_year</th><th scope=col>event_number</th><th scope=col>Notes</th><th scope=col>event_date_year</th><th scope=col>event_date_month</th><th scope=col>event_date_day</th><th scope=col>ErruptionYN</th></tr>\n",
       "\t<tr><th></th><th scope=col>&lt;int&gt;</th><th scope=col>&lt;chr&gt;</th><th scope=col>&lt;chr&gt;</th><th scope=col>&lt;int&gt;</th><th scope=col>&lt;int&gt;</th><th scope=col>&lt;int&gt;</th><th scope=col>&lt;chr&gt;</th><th scope=col>&lt;int&gt;</th><th scope=col>&lt;int&gt;</th><th scope=col>&lt;int&gt;</th><th scope=col>&lt;chr&gt;</th></tr>\n",
       "</thead>\n",
       "<tbody>\n",
       "\t<tr><th scope=row>1</th><td>210020</td><td>Chaine des Puys</td><td>Explosion            </td><td>10011</td><td>-4040</td><td>100001</td><td>NA</td><td>NA</td><td>NA</td><td>NA</td><td>Y</td></tr>\n",
       "\t<tr><th scope=row>2</th><td>210020</td><td>Chaine des Puys</td><td>Scoria               </td><td>10011</td><td>-4040</td><td>100002</td><td>NA</td><td>NA</td><td>NA</td><td>NA</td><td>Y</td></tr>\n",
       "\t<tr><th scope=row>3</th><td>210020</td><td>Chaine des Puys</td><td>Pyroclastic flow     </td><td>10011</td><td>-4040</td><td>100003</td><td>NA</td><td>NA</td><td>NA</td><td>NA</td><td>Y</td></tr>\n",
       "\t<tr><th scope=row>4</th><td>210020</td><td>Chaine des Puys</td><td>Lava flow(s)         </td><td>10011</td><td>-4040</td><td>100004</td><td>NA</td><td>NA</td><td>NA</td><td>NA</td><td>Y</td></tr>\n",
       "\t<tr><th scope=row>5</th><td>210020</td><td>Chaine des Puys</td><td>Cinder cone formation</td><td>10011</td><td>-4040</td><td>100005</td><td>NA</td><td>NA</td><td>NA</td><td>NA</td><td>Y</td></tr>\n",
       "\t<tr><th scope=row>6</th><td>210020</td><td>Chaine des Puys</td><td>Pumice               </td><td>10011</td><td>-4040</td><td>100006</td><td>NA</td><td>NA</td><td>NA</td><td>NA</td><td>Y</td></tr>\n",
       "</tbody>\n",
       "</table>\n"
      ],
      "text/latex": [
       "A data.frame: 6 × 11\n",
       "\\begin{tabular}{r|lllllllllll}\n",
       "  & volcano\\_number & Name & Type & eruption\\_number & eruption\\_start\\_year & event\\_number & Notes & event\\_date\\_year & event\\_date\\_month & event\\_date\\_day & ErruptionYN\\\\\n",
       "  & <int> & <chr> & <chr> & <int> & <int> & <int> & <chr> & <int> & <int> & <int> & <chr>\\\\\n",
       "\\hline\n",
       "\t1 & 210020 & Chaine des Puys & Explosion             & 10011 & -4040 & 100001 & NA & NA & NA & NA & Y\\\\\n",
       "\t2 & 210020 & Chaine des Puys & Scoria                & 10011 & -4040 & 100002 & NA & NA & NA & NA & Y\\\\\n",
       "\t3 & 210020 & Chaine des Puys & Pyroclastic flow      & 10011 & -4040 & 100003 & NA & NA & NA & NA & Y\\\\\n",
       "\t4 & 210020 & Chaine des Puys & Lava flow(s)          & 10011 & -4040 & 100004 & NA & NA & NA & NA & Y\\\\\n",
       "\t5 & 210020 & Chaine des Puys & Cinder cone formation & 10011 & -4040 & 100005 & NA & NA & NA & NA & Y\\\\\n",
       "\t6 & 210020 & Chaine des Puys & Pumice                & 10011 & -4040 & 100006 & NA & NA & NA & NA & Y\\\\\n",
       "\\end{tabular}\n"
      ],
      "text/markdown": [
       "\n",
       "A data.frame: 6 × 11\n",
       "\n",
       "| <!--/--> | volcano_number &lt;int&gt; | Name &lt;chr&gt; | Type &lt;chr&gt; | eruption_number &lt;int&gt; | eruption_start_year &lt;int&gt; | event_number &lt;int&gt; | Notes &lt;chr&gt; | event_date_year &lt;int&gt; | event_date_month &lt;int&gt; | event_date_day &lt;int&gt; | ErruptionYN &lt;chr&gt; |\n",
       "|---|---|---|---|---|---|---|---|---|---|---|---|\n",
       "| 1 | 210020 | Chaine des Puys | Explosion             | 10011 | -4040 | 100001 | NA | NA | NA | NA | Y |\n",
       "| 2 | 210020 | Chaine des Puys | Scoria                | 10011 | -4040 | 100002 | NA | NA | NA | NA | Y |\n",
       "| 3 | 210020 | Chaine des Puys | Pyroclastic flow      | 10011 | -4040 | 100003 | NA | NA | NA | NA | Y |\n",
       "| 4 | 210020 | Chaine des Puys | Lava flow(s)          | 10011 | -4040 | 100004 | NA | NA | NA | NA | Y |\n",
       "| 5 | 210020 | Chaine des Puys | Cinder cone formation | 10011 | -4040 | 100005 | NA | NA | NA | NA | Y |\n",
       "| 6 | 210020 | Chaine des Puys | Pumice                | 10011 | -4040 | 100006 | NA | NA | NA | NA | Y |\n",
       "\n"
      ],
      "text/plain": [
       "  volcano_number Name            Type                  eruption_number\n",
       "1 210020         Chaine des Puys Explosion             10011          \n",
       "2 210020         Chaine des Puys Scoria                10011          \n",
       "3 210020         Chaine des Puys Pyroclastic flow      10011          \n",
       "4 210020         Chaine des Puys Lava flow(s)          10011          \n",
       "5 210020         Chaine des Puys Cinder cone formation 10011          \n",
       "6 210020         Chaine des Puys Pumice                10011          \n",
       "  eruption_start_year event_number Notes event_date_year event_date_month\n",
       "1 -4040               100001       NA    NA              NA              \n",
       "2 -4040               100002       NA    NA              NA              \n",
       "3 -4040               100003       NA    NA              NA              \n",
       "4 -4040               100004       NA    NA              NA              \n",
       "5 -4040               100005       NA    NA              NA              \n",
       "6 -4040               100006       NA    NA              NA              \n",
       "  event_date_day ErruptionYN\n",
       "1 NA             Y          \n",
       "2 NA             Y          \n",
       "3 NA             Y          \n",
       "4 NA             Y          \n",
       "5 NA             Y          \n",
       "6 NA             Y          "
      ]
     },
     "metadata": {},
     "output_type": "display_data"
    }
   ],
   "source": [
    "# Separate Columns, notice how we are separating the NameType into 2 new columns called Name and Type\n",
    "# https://www.rdocumentation.org/packages/tidyr/versions/1.1.4/topics/separate\n",
    "volcanoes2 <- separate(volcanoes1, NameType, c(\"Name\", \"Type\"), sep=\",\")\n",
    "head(volcanoes2)"
   ]
  },
  {
   "cell_type": "code",
   "execution_count": 36,
   "id": "30f29f09-e6b8-4a6e-937f-ea0a62261580",
   "metadata": {},
   "outputs": [
    {
     "data": {
      "text/html": [
       "<table class=\"dataframe\">\n",
       "<caption>A data.frame: 2 × 11</caption>\n",
       "<thead>\n",
       "\t<tr><th></th><th scope=col>volcano_number</th><th scope=col>Name</th><th scope=col>Type</th><th scope=col>eruption_number</th><th scope=col>eruption_start_year</th><th scope=col>event_number</th><th scope=col>Notes</th><th scope=col>event_date_year</th><th scope=col>event_date_month</th><th scope=col>event_date_day</th><th scope=col>ErruptionYN</th></tr>\n",
       "\t<tr><th></th><th scope=col>&lt;int&gt;</th><th scope=col>&lt;chr&gt;</th><th scope=col>&lt;chr&gt;</th><th scope=col>&lt;int&gt;</th><th scope=col>&lt;int&gt;</th><th scope=col>&lt;int&gt;</th><th scope=col>&lt;chr&gt;</th><th scope=col>&lt;int&gt;</th><th scope=col>&lt;int&gt;</th><th scope=col>&lt;int&gt;</th><th scope=col>&lt;chr&gt;</th></tr>\n",
       "</thead>\n",
       "<tbody>\n",
       "\t<tr><th scope=row>1</th><td>210020</td><td>Chaine des Puys</td><td>Explosion</td><td>10011</td><td>-4040</td><td>100001</td><td>NA</td><td>NA</td><td>NA</td><td>NA</td><td>Y</td></tr>\n",
       "\t<tr><th scope=row>2</th><td>210020</td><td>Chaine des Puys</td><td>Scoria   </td><td>10011</td><td>-4040</td><td>100002</td><td>NA</td><td>NA</td><td>NA</td><td>NA</td><td>Y</td></tr>\n",
       "</tbody>\n",
       "</table>\n"
      ],
      "text/latex": [
       "A data.frame: 2 × 11\n",
       "\\begin{tabular}{r|lllllllllll}\n",
       "  & volcano\\_number & Name & Type & eruption\\_number & eruption\\_start\\_year & event\\_number & Notes & event\\_date\\_year & event\\_date\\_month & event\\_date\\_day & ErruptionYN\\\\\n",
       "  & <int> & <chr> & <chr> & <int> & <int> & <int> & <chr> & <int> & <int> & <int> & <chr>\\\\\n",
       "\\hline\n",
       "\t1 & 210020 & Chaine des Puys & Explosion & 10011 & -4040 & 100001 & NA & NA & NA & NA & Y\\\\\n",
       "\t2 & 210020 & Chaine des Puys & Scoria    & 10011 & -4040 & 100002 & NA & NA & NA & NA & Y\\\\\n",
       "\\end{tabular}\n"
      ],
      "text/markdown": [
       "\n",
       "A data.frame: 2 × 11\n",
       "\n",
       "| <!--/--> | volcano_number &lt;int&gt; | Name &lt;chr&gt; | Type &lt;chr&gt; | eruption_number &lt;int&gt; | eruption_start_year &lt;int&gt; | event_number &lt;int&gt; | Notes &lt;chr&gt; | event_date_year &lt;int&gt; | event_date_month &lt;int&gt; | event_date_day &lt;int&gt; | ErruptionYN &lt;chr&gt; |\n",
       "|---|---|---|---|---|---|---|---|---|---|---|---|\n",
       "| 1 | 210020 | Chaine des Puys | Explosion | 10011 | -4040 | 100001 | NA | NA | NA | NA | Y |\n",
       "| 2 | 210020 | Chaine des Puys | Scoria    | 10011 | -4040 | 100002 | NA | NA | NA | NA | Y |\n",
       "\n"
      ],
      "text/plain": [
       "  volcano_number Name            Type      eruption_number eruption_start_year\n",
       "1 210020         Chaine des Puys Explosion 10011           -4040              \n",
       "2 210020         Chaine des Puys Scoria    10011           -4040              \n",
       "  event_number Notes event_date_year event_date_month event_date_day\n",
       "1 100001       NA    NA              NA               NA            \n",
       "2 100002       NA    NA              NA               NA            \n",
       "  ErruptionYN\n",
       "1 Y          \n",
       "2 Y          "
      ]
     },
     "metadata": {},
     "output_type": "display_data"
    }
   ],
   "source": [
    "# Subset Data - keep only the first two rows of data\n",
    "volcanoes3 <- volcanoes2[1:2,]\n",
    "head(volcanoes3)"
   ]
  },
  {
   "cell_type": "code",
   "execution_count": 37,
   "id": "5851fe47-cf4c-43de-925a-ded4683772f8",
   "metadata": {},
   "outputs": [
    {
     "data": {
      "text/html": [
       "<table class=\"dataframe\">\n",
       "<caption>A data.frame: 2 × 2</caption>\n",
       "<thead>\n",
       "\t<tr><th></th><th scope=col>Name</th><th scope=col>Type</th></tr>\n",
       "\t<tr><th></th><th scope=col>&lt;chr&gt;</th><th scope=col>&lt;chr&gt;</th></tr>\n",
       "</thead>\n",
       "<tbody>\n",
       "\t<tr><th scope=row>1</th><td>Chaine des Puys</td><td>Explosion</td></tr>\n",
       "\t<tr><th scope=row>2</th><td>Chaine des Puys</td><td>Scoria   </td></tr>\n",
       "</tbody>\n",
       "</table>\n"
      ],
      "text/latex": [
       "A data.frame: 2 × 2\n",
       "\\begin{tabular}{r|ll}\n",
       "  & Name & Type\\\\\n",
       "  & <chr> & <chr>\\\\\n",
       "\\hline\n",
       "\t1 & Chaine des Puys & Explosion\\\\\n",
       "\t2 & Chaine des Puys & Scoria   \\\\\n",
       "\\end{tabular}\n"
      ],
      "text/markdown": [
       "\n",
       "A data.frame: 2 × 2\n",
       "\n",
       "| <!--/--> | Name &lt;chr&gt; | Type &lt;chr&gt; |\n",
       "|---|---|---|\n",
       "| 1 | Chaine des Puys | Explosion |\n",
       "| 2 | Chaine des Puys | Scoria    |\n",
       "\n"
      ],
      "text/plain": [
       "  Name            Type     \n",
       "1 Chaine des Puys Explosion\n",
       "2 Chaine des Puys Scoria   "
      ]
     },
     "metadata": {},
     "output_type": "display_data"
    }
   ],
   "source": [
    "# Subset by keeping columns\n",
    "volcanoes4 <- volcanoes3 %>% select(Name, Type)\n",
    "head(volcanoes4)"
   ]
  },
  {
   "cell_type": "code",
   "execution_count": 38,
   "id": "eff093ee-f583-4ff1-83f0-1555eed6aa16",
   "metadata": {},
   "outputs": [
    {
     "data": {
      "text/html": [
       "<table class=\"dataframe\">\n",
       "<caption>A data.frame: 6 × 11</caption>\n",
       "<thead>\n",
       "\t<tr><th></th><th scope=col>volcano_number</th><th scope=col>volcano_name</th><th scope=col>eruption_number</th><th scope=col>eruption_start_year</th><th scope=col>event_number</th><th scope=col>event_type</th><th scope=col>Notes</th><th scope=col>event_date_year</th><th scope=col>event_date_month</th><th scope=col>event_date_day</th><th scope=col>ErruptionYN</th></tr>\n",
       "\t<tr><th></th><th scope=col>&lt;int&gt;</th><th scope=col>&lt;chr&gt;</th><th scope=col>&lt;int&gt;</th><th scope=col>&lt;int&gt;</th><th scope=col>&lt;int&gt;</th><th scope=col>&lt;chr&gt;</th><th scope=col>&lt;chr&gt;</th><th scope=col>&lt;int&gt;</th><th scope=col>&lt;int&gt;</th><th scope=col>&lt;int&gt;</th><th scope=col>&lt;chr&gt;</th></tr>\n",
       "</thead>\n",
       "<tbody>\n",
       "\t<tr><th scope=row>1</th><td>210020</td><td>Chaine des Puys</td><td>10011</td><td>-4040</td><td>100001</td><td>Explosion            </td><td>NA</td><td>NA</td><td>NA</td><td>NA</td><td>Y</td></tr>\n",
       "\t<tr><th scope=row>2</th><td>210020</td><td>Chaine des Puys</td><td>10011</td><td>-4040</td><td>100002</td><td>Scoria               </td><td>NA</td><td>NA</td><td>NA</td><td>NA</td><td>Y</td></tr>\n",
       "\t<tr><th scope=row>3</th><td>210020</td><td>Chaine des Puys</td><td>10011</td><td>-4040</td><td>100003</td><td>Pyroclastic flow     </td><td>NA</td><td>NA</td><td>NA</td><td>NA</td><td>Y</td></tr>\n",
       "\t<tr><th scope=row>4</th><td>210020</td><td>Chaine des Puys</td><td>10011</td><td>-4040</td><td>100004</td><td>Lava flow(s)         </td><td>NA</td><td>NA</td><td>NA</td><td>NA</td><td>Y</td></tr>\n",
       "\t<tr><th scope=row>5</th><td>210020</td><td>Chaine des Puys</td><td>10011</td><td>-4040</td><td>100005</td><td>Cinder cone formation</td><td>NA</td><td>NA</td><td>NA</td><td>NA</td><td>Y</td></tr>\n",
       "\t<tr><th scope=row>6</th><td>210020</td><td>Chaine des Puys</td><td>10011</td><td>-4040</td><td>100006</td><td>Pumice               </td><td>NA</td><td>NA</td><td>NA</td><td>NA</td><td>Y</td></tr>\n",
       "</tbody>\n",
       "</table>\n"
      ],
      "text/latex": [
       "A data.frame: 6 × 11\n",
       "\\begin{tabular}{r|lllllllllll}\n",
       "  & volcano\\_number & volcano\\_name & eruption\\_number & eruption\\_start\\_year & event\\_number & event\\_type & Notes & event\\_date\\_year & event\\_date\\_month & event\\_date\\_day & ErruptionYN\\\\\n",
       "  & <int> & <chr> & <int> & <int> & <int> & <chr> & <chr> & <int> & <int> & <int> & <chr>\\\\\n",
       "\\hline\n",
       "\t1 & 210020 & Chaine des Puys & 10011 & -4040 & 100001 & Explosion             & NA & NA & NA & NA & Y\\\\\n",
       "\t2 & 210020 & Chaine des Puys & 10011 & -4040 & 100002 & Scoria                & NA & NA & NA & NA & Y\\\\\n",
       "\t3 & 210020 & Chaine des Puys & 10011 & -4040 & 100003 & Pyroclastic flow      & NA & NA & NA & NA & Y\\\\\n",
       "\t4 & 210020 & Chaine des Puys & 10011 & -4040 & 100004 & Lava flow(s)          & NA & NA & NA & NA & Y\\\\\n",
       "\t5 & 210020 & Chaine des Puys & 10011 & -4040 & 100005 & Cinder cone formation & NA & NA & NA & NA & Y\\\\\n",
       "\t6 & 210020 & Chaine des Puys & 10011 & -4040 & 100006 & Pumice                & NA & NA & NA & NA & Y\\\\\n",
       "\\end{tabular}\n"
      ],
      "text/markdown": [
       "\n",
       "A data.frame: 6 × 11\n",
       "\n",
       "| <!--/--> | volcano_number &lt;int&gt; | volcano_name &lt;chr&gt; | eruption_number &lt;int&gt; | eruption_start_year &lt;int&gt; | event_number &lt;int&gt; | event_type &lt;chr&gt; | Notes &lt;chr&gt; | event_date_year &lt;int&gt; | event_date_month &lt;int&gt; | event_date_day &lt;int&gt; | ErruptionYN &lt;chr&gt; |\n",
       "|---|---|---|---|---|---|---|---|---|---|---|---|\n",
       "| 1 | 210020 | Chaine des Puys | 10011 | -4040 | 100001 | Explosion             | NA | NA | NA | NA | Y |\n",
       "| 2 | 210020 | Chaine des Puys | 10011 | -4040 | 100002 | Scoria                | NA | NA | NA | NA | Y |\n",
       "| 3 | 210020 | Chaine des Puys | 10011 | -4040 | 100003 | Pyroclastic flow      | NA | NA | NA | NA | Y |\n",
       "| 4 | 210020 | Chaine des Puys | 10011 | -4040 | 100004 | Lava flow(s)          | NA | NA | NA | NA | Y |\n",
       "| 5 | 210020 | Chaine des Puys | 10011 | -4040 | 100005 | Cinder cone formation | NA | NA | NA | NA | Y |\n",
       "| 6 | 210020 | Chaine des Puys | 10011 | -4040 | 100006 | Pumice                | NA | NA | NA | NA | Y |\n",
       "\n"
      ],
      "text/plain": [
       "  volcano_number volcano_name    eruption_number eruption_start_year\n",
       "1 210020         Chaine des Puys 10011           -4040              \n",
       "2 210020         Chaine des Puys 10011           -4040              \n",
       "3 210020         Chaine des Puys 10011           -4040              \n",
       "4 210020         Chaine des Puys 10011           -4040              \n",
       "5 210020         Chaine des Puys 10011           -4040              \n",
       "6 210020         Chaine des Puys 10011           -4040              \n",
       "  event_number event_type            Notes event_date_year event_date_month\n",
       "1 100001       Explosion             NA    NA              NA              \n",
       "2 100002       Scoria                NA    NA              NA              \n",
       "3 100003       Pyroclastic flow      NA    NA              NA              \n",
       "4 100004       Lava flow(s)          NA    NA              NA              \n",
       "5 100005       Cinder cone formation NA    NA              NA              \n",
       "6 100006       Pumice                NA    NA              NA              \n",
       "  event_date_day ErruptionYN\n",
       "1 NA             Y          \n",
       "2 NA             Y          \n",
       "3 NA             Y          \n",
       "4 NA             Y          \n",
       "5 NA             Y          \n",
       "6 NA             Y          "
      ]
     },
     "metadata": {},
     "output_type": "display_data"
    }
   ],
   "source": [
    "head(volcanoes)"
   ]
  },
  {
   "cell_type": "code",
   "execution_count": null,
   "id": "ae755a6f-de94-4211-adf2-99ae1d8e5f5b",
   "metadata": {},
   "outputs": [],
   "source": []
  }
 ],
 "metadata": {
  "kernelspec": {
   "display_name": "R",
   "language": "R",
   "name": "ir"
  },
  "language_info": {
   "codemirror_mode": "r",
   "file_extension": ".r",
   "mimetype": "text/x-r-source",
   "name": "R",
   "pygments_lexer": "r",
   "version": "4.1.1"
  }
 },
 "nbformat": 4,
 "nbformat_minor": 5
}
