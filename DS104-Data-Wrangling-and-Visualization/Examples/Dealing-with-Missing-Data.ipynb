{
 "cells": [
  {
   "cell_type": "markdown",
   "id": "2ec5bc45-8abc-483c-81f5-cf24abcf3b6c",
   "metadata": {},
   "source": [
    "# Dealing with Missing Data\n",
    "\n",
    "This notebook will review ways to deal with missing data in a pandas dataframe. \n",
    "\n",
    "Most machine learning models and visualizations will fail if missing data is present.\n",
    "\n",
    "To avoid this, missing data may be dropped or imputed so that it is not missing.\n",
    "\n",
    "The goal is usually to retain as much data as possible.\n",
    "\n",
    "Overview:\n",
    "* Identify missing data\n",
    "* Drop or impute missing values\n",
    "* Check data manipulations\n",
    "\n",
    "See the [Pandas Documentation](https://pandas.pydata.org/pandas-docs/stable/user_guide/missing_data.html) for more information. "
   ]
  },
  {
   "cell_type": "code",
   "execution_count": null,
   "id": "ed774934-3690-4f5c-af7a-c35efc053fd9",
   "metadata": {},
   "outputs": [],
   "source": [
    "# import packages\n",
    "import pandas as pd"
   ]
  },
  {
   "cell_type": "code",
   "execution_count": null,
   "id": "f496b4eb-5ed5-4d86-b7af-bb725da2b2bd",
   "metadata": {},
   "outputs": [],
   "source": [
    "# read in data\n",
    "df = pd.read_csv('../Data/anime.csv')"
   ]
  },
  {
   "cell_type": "code",
   "execution_count": null,
   "id": "99e03e11-150f-4255-b7e3-ce099b59d0c6",
   "metadata": {},
   "outputs": [],
   "source": [
    "# Check shape of data\n",
    "## Should be 6668 rows and 33 columns\n",
    "df.shape"
   ]
  },
  {
   "cell_type": "code",
   "execution_count": null,
   "id": "a73c0955-1b69-4971-b29c-9ca692c09a8a",
   "metadata": {},
   "outputs": [],
   "source": [
    "# Summarize info with df.info()\n",
    "# Notice the count of non-null values\n",
    "df.info()"
   ]
  },
  {
   "cell_type": "markdown",
   "id": "bf704bf4-024e-4a5e-b606-a0879e100c52",
   "metadata": {},
   "source": [
    "# Check Missing Data"
   ]
  },
  {
   "cell_type": "code",
   "execution_count": null,
   "id": "f20dbc7b-6d76-4fb2-b1dc-b72c7506d99b",
   "metadata": {},
   "outputs": [],
   "source": [
    "# pd.isna() will return True if a NaN value is found and False otherwise\n",
    "pd.isna(df)"
   ]
  },
  {
   "cell_type": "code",
   "execution_count": null,
   "id": "03883386-a218-4f86-9eae-a0d380fe04d6",
   "metadata": {},
   "outputs": [],
   "source": [
    "# You can call a sum on is na to get a total count of missing values for a df or column\n",
    "pd.isna(df['rank']).sum()"
   ]
  },
  {
   "cell_type": "code",
   "execution_count": null,
   "id": "24aaa591-2478-4410-928c-3443b02acdad",
   "metadata": {},
   "outputs": [],
   "source": [
    "# You can call a sum on is na to get a total count of missing values for a df or column\n",
    "pd.isna(df).sum()"
   ]
  },
  {
   "cell_type": "markdown",
   "id": "b5a1bbd1-c93c-46f3-a125-a95009ea74fb",
   "metadata": {},
   "source": [
    "## Plot missing values"
   ]
  },
  {
   "cell_type": "code",
   "execution_count": null,
   "id": "725adca4-6cab-43b7-97f4-a3c6362c70d0",
   "metadata": {},
   "outputs": [],
   "source": [
    "# Get a count of null values and plot the sum\n",
    "df.isnull().sum().plot(kind='bar')"
   ]
  },
  {
   "cell_type": "markdown",
   "id": "d07b765b-ad75-45ae-9495-e1ceff1869b4",
   "metadata": {},
   "source": [
    "## Drop all rows with a NaN value"
   ]
  },
  {
   "cell_type": "code",
   "execution_count": null,
   "id": "7ab30785-1819-411d-8e31-e471957a8f92",
   "metadata": {},
   "outputs": [],
   "source": [
    "# Drop NaNs and return new dataframe\n",
    "df2 = df.dropna()"
   ]
  },
  {
   "cell_type": "code",
   "execution_count": null,
   "id": "97916da2-87de-43a1-8eca-f19fbad25d7a",
   "metadata": {},
   "outputs": [],
   "source": [
    "# Check how much data was lost\n",
    "## Notice, we're down to 282 rows-that is a LOT of dropped data\n",
    "df2.shape"
   ]
  },
  {
   "cell_type": "markdown",
   "id": "194d9126-4538-4c21-abf5-bd9f6688666e",
   "metadata": {},
   "source": [
    "## Drop all Columns with Missing values"
   ]
  },
  {
   "cell_type": "code",
   "execution_count": null,
   "id": "29dd593a-04ca-4c35-8d70-1c920642d763",
   "metadata": {},
   "outputs": [],
   "source": [
    "# Drop cols with NaNs and return new df\n",
    "df3 = df.dropna(axis=1)"
   ]
  },
  {
   "cell_type": "code",
   "execution_count": null,
   "id": "ee582175-1ea2-4715-a5b3-177d1b899c53",
   "metadata": {},
   "outputs": [],
   "source": [
    "# Check how much data was lost\n",
    "## Notice, we dropped cols this time and still have the original number of rows\n",
    "df3.shape"
   ]
  },
  {
   "cell_type": "markdown",
   "id": "4ade0346-b812-4d2e-b9b0-5d86370b7bc7",
   "metadata": {},
   "source": [
    "## Fill NaNs with a value"
   ]
  },
  {
   "cell_type": "code",
   "execution_count": null,
   "id": "9b2c2a0d-181e-4b31-a152-404120e0d20f",
   "metadata": {},
   "outputs": [],
   "source": [
    "# Lets focus on df['rank'] and replace the NaN values in that col\n",
    "df['rank'].describe()"
   ]
  },
  {
   "cell_type": "code",
   "execution_count": null,
   "id": "90a94558-cf7b-4ac0-af15-01a8ec6f6e66",
   "metadata": {},
   "outputs": [],
   "source": [
    "# Create a new column with NaNs filled by mean value\n",
    "df['rank_filled'] = df['rank'].fillna(df['rank'].mean())"
   ]
  },
  {
   "cell_type": "code",
   "execution_count": null,
   "id": "80b5f7f3-6bbf-40e8-8afc-9c44d0e94db5",
   "metadata": {},
   "outputs": [],
   "source": [
    "# Check new column-notice count has changed from above\n",
    "df['rank_filled'].describe()"
   ]
  },
  {
   "cell_type": "code",
   "execution_count": null,
   "id": "0f9f56b5-a404-4b2e-80eb-4b2892701c46",
   "metadata": {},
   "outputs": [],
   "source": [
    "# Create a new column with NaNs filled with a 0\n",
    "df['rank_filled_0'] = df['rank'].fillna(0)"
   ]
  },
  {
   "cell_type": "code",
   "execution_count": null,
   "id": "455e9653-c45e-422b-a1db-09d184c3455a",
   "metadata": {},
   "outputs": [],
   "source": [
    "# Check new column-notice count has changed from above\n",
    "df['rank_filled_0'].describe()"
   ]
  },
  {
   "cell_type": "code",
   "execution_count": null,
   "id": "dfb970d0-76ac-4cf8-aa23-325a275a72ec",
   "metadata": {},
   "outputs": [],
   "source": [
    "# Fill genre with most common\n",
    "df['genre_filled'] = df['genre'].fillna(df['genre'].value_counts().index[0])"
   ]
  },
  {
   "cell_type": "code",
   "execution_count": null,
   "id": "967b1bcd-7053-4f08-9ebe-e0b7ce5c7d82",
   "metadata": {},
   "outputs": [],
   "source": [
    "# Fill genre with most common\n",
    "df['genre_filled'].describe()"
   ]
  },
  {
   "cell_type": "markdown",
   "id": "75dfbd26-00ac-4f9f-9f5f-8e9bd49b3a5a",
   "metadata": {},
   "source": [
    "# Final Tips and Tricks\n",
    "\n",
    "Remember, when cleaning missing data, you usually want to retain as much info/data as possible.\n",
    "\n",
    "For continous values, it may make sense to fill NaNs with a mean value.\n",
    "\n",
    "For categorial values, you can consider filling NaNs with the most common category. "
   ]
  }
 ],
 "metadata": {
  "kernelspec": {
   "display_name": "Python 3 (ipykernel)",
   "language": "python",
   "name": "python3"
  },
  "language_info": {
   "codemirror_mode": {
    "name": "ipython",
    "version": 3
   },
   "file_extension": ".py",
   "mimetype": "text/x-python",
   "name": "python",
   "nbconvert_exporter": "python",
   "pygments_lexer": "ipython3",
   "version": "3.9.7"
  }
 },
 "nbformat": 4,
 "nbformat_minor": 5
}
