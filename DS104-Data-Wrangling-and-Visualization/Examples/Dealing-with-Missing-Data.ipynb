{
 "cells": [
  {
   "cell_type": "markdown",
   "id": "2ec5bc45-8abc-483c-81f5-cf24abcf3b6c",
   "metadata": {},
   "source": [
    "# Dealing with Missing Data\n",
    "\n",
    "This notebook will review ways to deal with missing data in a pandas dataframe. \n",
    "\n",
    "See the [Pandas Documentation](https://pandas.pydata.org/pandas-docs/stable/user_guide/missing_data.html) for more information. "
   ]
  },
  {
   "cell_type": "code",
   "execution_count": 29,
   "id": "ed774934-3690-4f5c-af7a-c35efc053fd9",
   "metadata": {},
   "outputs": [],
   "source": [
    "# import packages\n",
    "import pandas as pd"
   ]
  },
  {
   "cell_type": "code",
   "execution_count": 30,
   "id": "f496b4eb-5ed5-4d86-b7af-bb725da2b2bd",
   "metadata": {},
   "outputs": [],
   "source": [
    "# read in data\n",
    "df = pd.read_csv('../Data/anime.csv')"
   ]
  },
  {
   "cell_type": "code",
   "execution_count": 31,
   "id": "99e03e11-150f-4255-b7e3-ce099b59d0c6",
   "metadata": {},
   "outputs": [
    {
     "data": {
      "text/plain": [
       "(6668, 33)"
      ]
     },
     "execution_count": 31,
     "metadata": {},
     "output_type": "execute_result"
    }
   ],
   "source": [
    "# Check shape of data\n",
    "## Should be 6668 rows and 33 columns\n",
    "df.shape"
   ]
  },
  {
   "cell_type": "code",
   "execution_count": 32,
   "id": "a73c0955-1b69-4971-b29c-9ca692c09a8a",
   "metadata": {},
   "outputs": [
    {
     "name": "stdout",
     "output_type": "stream",
     "text": [
      "<class 'pandas.core.frame.DataFrame'>\n",
      "RangeIndex: 6668 entries, 0 to 6667\n",
      "Data columns (total 33 columns):\n",
      " #   Column           Non-Null Count  Dtype  \n",
      "---  ------           --------------  -----  \n",
      " 0   anime_id         6668 non-null   int64  \n",
      " 1   title            6668 non-null   object \n",
      " 2   title_english    3438 non-null   object \n",
      " 3   title_japanese   6663 non-null   object \n",
      " 4   title_synonyms   4481 non-null   object \n",
      " 5   image_url        6666 non-null   object \n",
      " 6   type             6668 non-null   object \n",
      " 7   source           6668 non-null   object \n",
      " 8   episodes         6668 non-null   int64  \n",
      " 9   status           6668 non-null   object \n",
      " 10  airing           6668 non-null   bool   \n",
      " 11  aired_string     6668 non-null   object \n",
      " 12  aired            6668 non-null   object \n",
      " 13  duration         6668 non-null   object \n",
      " 14  rating           6668 non-null   object \n",
      " 15  score            6668 non-null   float64\n",
      " 16  scored_by        6668 non-null   int64  \n",
      " 17  rank             6312 non-null   float64\n",
      " 18  popularity       6668 non-null   int64  \n",
      " 19  members          6668 non-null   int64  \n",
      " 20  favorites        6668 non-null   int64  \n",
      " 21  background       813 non-null    object \n",
      " 22  premiered        2966 non-null   object \n",
      " 23  broadcast        2980 non-null   object \n",
      " 24  related          6668 non-null   object \n",
      " 25  producer         4402 non-null   object \n",
      " 26  licensor         2787 non-null   object \n",
      " 27  studio           6668 non-null   object \n",
      " 28  genre            6664 non-null   object \n",
      " 29  opening_theme    6668 non-null   object \n",
      " 30  ending_theme     6668 non-null   object \n",
      " 31  duration_min     6668 non-null   float64\n",
      " 32  aired_from_year  6668 non-null   int64  \n",
      "dtypes: bool(1), float64(3), int64(7), object(22)\n",
      "memory usage: 1.6+ MB\n"
     ]
    }
   ],
   "source": [
    "# Summarize info with df.info()\n",
    "# Notice the count of non-null values\n",
    "df.info()"
   ]
  },
  {
   "cell_type": "markdown",
   "id": "bf704bf4-024e-4a5e-b606-a0879e100c52",
   "metadata": {},
   "source": [
    "# Check Missing Data"
   ]
  },
  {
   "cell_type": "code",
   "execution_count": 43,
   "id": "f20dbc7b-6d76-4fb2-b1dc-b72c7506d99b",
   "metadata": {},
   "outputs": [
    {
     "data": {
      "text/html": [
       "<div>\n",
       "<style scoped>\n",
       "    .dataframe tbody tr th:only-of-type {\n",
       "        vertical-align: middle;\n",
       "    }\n",
       "\n",
       "    .dataframe tbody tr th {\n",
       "        vertical-align: top;\n",
       "    }\n",
       "\n",
       "    .dataframe thead th {\n",
       "        text-align: right;\n",
       "    }\n",
       "</style>\n",
       "<table border=\"1\" class=\"dataframe\">\n",
       "  <thead>\n",
       "    <tr style=\"text-align: right;\">\n",
       "      <th></th>\n",
       "      <th>anime_id</th>\n",
       "      <th>title</th>\n",
       "      <th>title_english</th>\n",
       "      <th>title_japanese</th>\n",
       "      <th>title_synonyms</th>\n",
       "      <th>image_url</th>\n",
       "      <th>type</th>\n",
       "      <th>source</th>\n",
       "      <th>episodes</th>\n",
       "      <th>status</th>\n",
       "      <th>...</th>\n",
       "      <th>producer</th>\n",
       "      <th>licensor</th>\n",
       "      <th>studio</th>\n",
       "      <th>genre</th>\n",
       "      <th>opening_theme</th>\n",
       "      <th>ending_theme</th>\n",
       "      <th>duration_min</th>\n",
       "      <th>aired_from_year</th>\n",
       "      <th>rank_filled</th>\n",
       "      <th>rank_filled_0</th>\n",
       "    </tr>\n",
       "  </thead>\n",
       "  <tbody>\n",
       "    <tr>\n",
       "      <th>0</th>\n",
       "      <td>False</td>\n",
       "      <td>False</td>\n",
       "      <td>False</td>\n",
       "      <td>False</td>\n",
       "      <td>False</td>\n",
       "      <td>False</td>\n",
       "      <td>False</td>\n",
       "      <td>False</td>\n",
       "      <td>False</td>\n",
       "      <td>False</td>\n",
       "      <td>...</td>\n",
       "      <td>False</td>\n",
       "      <td>False</td>\n",
       "      <td>False</td>\n",
       "      <td>False</td>\n",
       "      <td>False</td>\n",
       "      <td>False</td>\n",
       "      <td>False</td>\n",
       "      <td>False</td>\n",
       "      <td>False</td>\n",
       "      <td>False</td>\n",
       "    </tr>\n",
       "    <tr>\n",
       "      <th>1</th>\n",
       "      <td>False</td>\n",
       "      <td>False</td>\n",
       "      <td>False</td>\n",
       "      <td>False</td>\n",
       "      <td>False</td>\n",
       "      <td>False</td>\n",
       "      <td>False</td>\n",
       "      <td>False</td>\n",
       "      <td>False</td>\n",
       "      <td>False</td>\n",
       "      <td>...</td>\n",
       "      <td>False</td>\n",
       "      <td>False</td>\n",
       "      <td>False</td>\n",
       "      <td>False</td>\n",
       "      <td>False</td>\n",
       "      <td>False</td>\n",
       "      <td>False</td>\n",
       "      <td>False</td>\n",
       "      <td>False</td>\n",
       "      <td>False</td>\n",
       "    </tr>\n",
       "    <tr>\n",
       "      <th>2</th>\n",
       "      <td>False</td>\n",
       "      <td>False</td>\n",
       "      <td>False</td>\n",
       "      <td>False</td>\n",
       "      <td>False</td>\n",
       "      <td>False</td>\n",
       "      <td>False</td>\n",
       "      <td>False</td>\n",
       "      <td>False</td>\n",
       "      <td>False</td>\n",
       "      <td>...</td>\n",
       "      <td>False</td>\n",
       "      <td>True</td>\n",
       "      <td>False</td>\n",
       "      <td>False</td>\n",
       "      <td>False</td>\n",
       "      <td>False</td>\n",
       "      <td>False</td>\n",
       "      <td>False</td>\n",
       "      <td>False</td>\n",
       "      <td>False</td>\n",
       "    </tr>\n",
       "    <tr>\n",
       "      <th>3</th>\n",
       "      <td>False</td>\n",
       "      <td>False</td>\n",
       "      <td>False</td>\n",
       "      <td>False</td>\n",
       "      <td>True</td>\n",
       "      <td>False</td>\n",
       "      <td>False</td>\n",
       "      <td>False</td>\n",
       "      <td>False</td>\n",
       "      <td>False</td>\n",
       "      <td>...</td>\n",
       "      <td>False</td>\n",
       "      <td>False</td>\n",
       "      <td>False</td>\n",
       "      <td>False</td>\n",
       "      <td>False</td>\n",
       "      <td>False</td>\n",
       "      <td>False</td>\n",
       "      <td>False</td>\n",
       "      <td>False</td>\n",
       "      <td>False</td>\n",
       "    </tr>\n",
       "    <tr>\n",
       "      <th>4</th>\n",
       "      <td>False</td>\n",
       "      <td>False</td>\n",
       "      <td>False</td>\n",
       "      <td>False</td>\n",
       "      <td>False</td>\n",
       "      <td>False</td>\n",
       "      <td>False</td>\n",
       "      <td>False</td>\n",
       "      <td>False</td>\n",
       "      <td>False</td>\n",
       "      <td>...</td>\n",
       "      <td>False</td>\n",
       "      <td>True</td>\n",
       "      <td>False</td>\n",
       "      <td>False</td>\n",
       "      <td>False</td>\n",
       "      <td>False</td>\n",
       "      <td>False</td>\n",
       "      <td>False</td>\n",
       "      <td>False</td>\n",
       "      <td>False</td>\n",
       "    </tr>\n",
       "    <tr>\n",
       "      <th>...</th>\n",
       "      <td>...</td>\n",
       "      <td>...</td>\n",
       "      <td>...</td>\n",
       "      <td>...</td>\n",
       "      <td>...</td>\n",
       "      <td>...</td>\n",
       "      <td>...</td>\n",
       "      <td>...</td>\n",
       "      <td>...</td>\n",
       "      <td>...</td>\n",
       "      <td>...</td>\n",
       "      <td>...</td>\n",
       "      <td>...</td>\n",
       "      <td>...</td>\n",
       "      <td>...</td>\n",
       "      <td>...</td>\n",
       "      <td>...</td>\n",
       "      <td>...</td>\n",
       "      <td>...</td>\n",
       "      <td>...</td>\n",
       "      <td>...</td>\n",
       "    </tr>\n",
       "    <tr>\n",
       "      <th>6663</th>\n",
       "      <td>False</td>\n",
       "      <td>False</td>\n",
       "      <td>True</td>\n",
       "      <td>False</td>\n",
       "      <td>True</td>\n",
       "      <td>False</td>\n",
       "      <td>False</td>\n",
       "      <td>False</td>\n",
       "      <td>False</td>\n",
       "      <td>False</td>\n",
       "      <td>...</td>\n",
       "      <td>True</td>\n",
       "      <td>True</td>\n",
       "      <td>False</td>\n",
       "      <td>False</td>\n",
       "      <td>False</td>\n",
       "      <td>False</td>\n",
       "      <td>False</td>\n",
       "      <td>False</td>\n",
       "      <td>False</td>\n",
       "      <td>False</td>\n",
       "    </tr>\n",
       "    <tr>\n",
       "      <th>6664</th>\n",
       "      <td>False</td>\n",
       "      <td>False</td>\n",
       "      <td>False</td>\n",
       "      <td>False</td>\n",
       "      <td>False</td>\n",
       "      <td>False</td>\n",
       "      <td>False</td>\n",
       "      <td>False</td>\n",
       "      <td>False</td>\n",
       "      <td>False</td>\n",
       "      <td>...</td>\n",
       "      <td>True</td>\n",
       "      <td>True</td>\n",
       "      <td>False</td>\n",
       "      <td>False</td>\n",
       "      <td>False</td>\n",
       "      <td>False</td>\n",
       "      <td>False</td>\n",
       "      <td>False</td>\n",
       "      <td>False</td>\n",
       "      <td>False</td>\n",
       "    </tr>\n",
       "    <tr>\n",
       "      <th>6665</th>\n",
       "      <td>False</td>\n",
       "      <td>False</td>\n",
       "      <td>True</td>\n",
       "      <td>False</td>\n",
       "      <td>True</td>\n",
       "      <td>False</td>\n",
       "      <td>False</td>\n",
       "      <td>False</td>\n",
       "      <td>False</td>\n",
       "      <td>False</td>\n",
       "      <td>...</td>\n",
       "      <td>True</td>\n",
       "      <td>True</td>\n",
       "      <td>False</td>\n",
       "      <td>False</td>\n",
       "      <td>False</td>\n",
       "      <td>False</td>\n",
       "      <td>False</td>\n",
       "      <td>False</td>\n",
       "      <td>False</td>\n",
       "      <td>False</td>\n",
       "    </tr>\n",
       "    <tr>\n",
       "      <th>6666</th>\n",
       "      <td>False</td>\n",
       "      <td>False</td>\n",
       "      <td>False</td>\n",
       "      <td>False</td>\n",
       "      <td>True</td>\n",
       "      <td>False</td>\n",
       "      <td>False</td>\n",
       "      <td>False</td>\n",
       "      <td>False</td>\n",
       "      <td>False</td>\n",
       "      <td>...</td>\n",
       "      <td>True</td>\n",
       "      <td>True</td>\n",
       "      <td>False</td>\n",
       "      <td>False</td>\n",
       "      <td>False</td>\n",
       "      <td>False</td>\n",
       "      <td>False</td>\n",
       "      <td>False</td>\n",
       "      <td>False</td>\n",
       "      <td>False</td>\n",
       "    </tr>\n",
       "    <tr>\n",
       "      <th>6667</th>\n",
       "      <td>False</td>\n",
       "      <td>False</td>\n",
       "      <td>True</td>\n",
       "      <td>False</td>\n",
       "      <td>True</td>\n",
       "      <td>False</td>\n",
       "      <td>False</td>\n",
       "      <td>False</td>\n",
       "      <td>False</td>\n",
       "      <td>False</td>\n",
       "      <td>...</td>\n",
       "      <td>True</td>\n",
       "      <td>True</td>\n",
       "      <td>False</td>\n",
       "      <td>False</td>\n",
       "      <td>False</td>\n",
       "      <td>False</td>\n",
       "      <td>False</td>\n",
       "      <td>False</td>\n",
       "      <td>False</td>\n",
       "      <td>False</td>\n",
       "    </tr>\n",
       "  </tbody>\n",
       "</table>\n",
       "<p>6668 rows × 35 columns</p>\n",
       "</div>"
      ],
      "text/plain": [
       "      anime_id  title  title_english  title_japanese  title_synonyms  \\\n",
       "0        False  False          False           False           False   \n",
       "1        False  False          False           False           False   \n",
       "2        False  False          False           False           False   \n",
       "3        False  False          False           False            True   \n",
       "4        False  False          False           False           False   \n",
       "...        ...    ...            ...             ...             ...   \n",
       "6663     False  False           True           False            True   \n",
       "6664     False  False          False           False           False   \n",
       "6665     False  False           True           False            True   \n",
       "6666     False  False          False           False            True   \n",
       "6667     False  False           True           False            True   \n",
       "\n",
       "      image_url   type  source  episodes  status  ...  producer  licensor  \\\n",
       "0         False  False   False     False   False  ...     False     False   \n",
       "1         False  False   False     False   False  ...     False     False   \n",
       "2         False  False   False     False   False  ...     False      True   \n",
       "3         False  False   False     False   False  ...     False     False   \n",
       "4         False  False   False     False   False  ...     False      True   \n",
       "...         ...    ...     ...       ...     ...  ...       ...       ...   \n",
       "6663      False  False   False     False   False  ...      True      True   \n",
       "6664      False  False   False     False   False  ...      True      True   \n",
       "6665      False  False   False     False   False  ...      True      True   \n",
       "6666      False  False   False     False   False  ...      True      True   \n",
       "6667      False  False   False     False   False  ...      True      True   \n",
       "\n",
       "      studio  genre  opening_theme  ending_theme  duration_min  \\\n",
       "0      False  False          False         False         False   \n",
       "1      False  False          False         False         False   \n",
       "2      False  False          False         False         False   \n",
       "3      False  False          False         False         False   \n",
       "4      False  False          False         False         False   \n",
       "...      ...    ...            ...           ...           ...   \n",
       "6663   False  False          False         False         False   \n",
       "6664   False  False          False         False         False   \n",
       "6665   False  False          False         False         False   \n",
       "6666   False  False          False         False         False   \n",
       "6667   False  False          False         False         False   \n",
       "\n",
       "      aired_from_year  rank_filled  rank_filled_0  \n",
       "0               False        False          False  \n",
       "1               False        False          False  \n",
       "2               False        False          False  \n",
       "3               False        False          False  \n",
       "4               False        False          False  \n",
       "...               ...          ...            ...  \n",
       "6663            False        False          False  \n",
       "6664            False        False          False  \n",
       "6665            False        False          False  \n",
       "6666            False        False          False  \n",
       "6667            False        False          False  \n",
       "\n",
       "[6668 rows x 35 columns]"
      ]
     },
     "execution_count": 43,
     "metadata": {},
     "output_type": "execute_result"
    }
   ],
   "source": [
    "# pd.isna() will return True if a NaN value is found and False otherwise\n",
    "pd.isna(df)"
   ]
  },
  {
   "cell_type": "code",
   "execution_count": 44,
   "id": "03883386-a218-4f86-9eae-a0d380fe04d6",
   "metadata": {},
   "outputs": [
    {
     "data": {
      "text/plain": [
       "356"
      ]
     },
     "execution_count": 44,
     "metadata": {},
     "output_type": "execute_result"
    }
   ],
   "source": [
    "# You can call a sum on is na to get a total count of missing values for a df or column\n",
    "pd.isna(df['rank']).sum()"
   ]
  },
  {
   "cell_type": "code",
   "execution_count": 45,
   "id": "24aaa591-2478-4410-928c-3443b02acdad",
   "metadata": {},
   "outputs": [
    {
     "data": {
      "text/plain": [
       "anime_id              0\n",
       "title                 0\n",
       "title_english      3230\n",
       "title_japanese        5\n",
       "title_synonyms     2187\n",
       "image_url             2\n",
       "type                  0\n",
       "source                0\n",
       "episodes              0\n",
       "status                0\n",
       "airing                0\n",
       "aired_string          0\n",
       "aired                 0\n",
       "duration              0\n",
       "rating                0\n",
       "score                 0\n",
       "scored_by             0\n",
       "rank                356\n",
       "popularity            0\n",
       "members               0\n",
       "favorites             0\n",
       "background         5855\n",
       "premiered          3702\n",
       "broadcast          3688\n",
       "related               0\n",
       "producer           2266\n",
       "licensor           3881\n",
       "studio                0\n",
       "genre                 4\n",
       "opening_theme         0\n",
       "ending_theme          0\n",
       "duration_min          0\n",
       "aired_from_year       0\n",
       "rank_filled           0\n",
       "rank_filled_0         0\n",
       "dtype: int64"
      ]
     },
     "execution_count": 45,
     "metadata": {},
     "output_type": "execute_result"
    }
   ],
   "source": [
    "# You can call a sum on is na to get a total count of missing values for a df or column\n",
    "pd.isna(df).sum()"
   ]
  },
  {
   "cell_type": "markdown",
   "id": "b5a1bbd1-c93c-46f3-a125-a95009ea74fb",
   "metadata": {},
   "source": [
    "## Plot missing values"
   ]
  },
  {
   "cell_type": "code",
   "execution_count": 33,
   "id": "725adca4-6cab-43b7-97f4-a3c6362c70d0",
   "metadata": {},
   "outputs": [
    {
     "data": {
      "text/plain": [
       "<AxesSubplot:>"
      ]
     },
     "execution_count": 33,
     "metadata": {},
     "output_type": "execute_result"
    },
    {
     "data": {
      "image/png": "[encoded data removed]",
      "text/plain": [
       "<Figure size 432x288 with 1 Axes>"
      ]
     },
     "metadata": {
      "needs_background": "light"
     },
     "output_type": "display_data"
    }
   ],
   "source": [
    "# Get a count of null values and plot the sum\n",
    "df.isnull().sum().plot(kind='bar')"
   ]
  },
  {
   "cell_type": "markdown",
   "id": "d07b765b-ad75-45ae-9495-e1ceff1869b4",
   "metadata": {},
   "source": [
    "## Drop all rows with a NaN value"
   ]
  },
  {
   "cell_type": "code",
   "execution_count": 34,
   "id": "7ab30785-1819-411d-8e31-e471957a8f92",
   "metadata": {},
   "outputs": [],
   "source": [
    "# Drop NaNs and return new dataframe\n",
    "df2 = df.dropna()"
   ]
  },
  {
   "cell_type": "code",
   "execution_count": 35,
   "id": "97916da2-87de-43a1-8eca-f19fbad25d7a",
   "metadata": {},
   "outputs": [
    {
     "data": {
      "text/plain": [
       "(282, 33)"
      ]
     },
     "execution_count": 35,
     "metadata": {},
     "output_type": "execute_result"
    }
   ],
   "source": [
    "# Check how much data was lost\n",
    "## Notice, we're down to 282 rows-that is a LOT of dropped data\n",
    "df2.shape"
   ]
  },
  {
   "cell_type": "markdown",
   "id": "194d9126-4538-4c21-abf5-bd9f6688666e",
   "metadata": {},
   "source": [
    "## Drop all Columns with Missing values"
   ]
  },
  {
   "cell_type": "code",
   "execution_count": 36,
   "id": "29dd593a-04ca-4c35-8d70-1c920642d763",
   "metadata": {},
   "outputs": [],
   "source": [
    "# Drop cols with NaNs and return new df\n",
    "df3 = df.dropna(axis=1)"
   ]
  },
  {
   "cell_type": "code",
   "execution_count": 37,
   "id": "ee582175-1ea2-4715-a5b3-177d1b899c53",
   "metadata": {},
   "outputs": [
    {
     "data": {
      "text/plain": [
       "(6668, 22)"
      ]
     },
     "execution_count": 37,
     "metadata": {},
     "output_type": "execute_result"
    }
   ],
   "source": [
    "# Check how much data was lost\n",
    "## Notice, we dropped cols this time and still have the original number of rows\n",
    "df3.shape"
   ]
  },
  {
   "cell_type": "markdown",
   "id": "4ade0346-b812-4d2e-b9b0-5d86370b7bc7",
   "metadata": {},
   "source": [
    "## Fill NaNs with a value"
   ]
  },
  {
   "cell_type": "code",
   "execution_count": 38,
   "id": "9b2c2a0d-181e-4b31-a152-404120e0d20f",
   "metadata": {},
   "outputs": [
    {
     "data": {
      "text/plain": [
       "count     6312.000000\n",
       "mean      4327.645120\n",
       "std       3170.699074\n",
       "min          1.000000\n",
       "25%       1710.750000\n",
       "50%       3754.500000\n",
       "75%       6338.500000\n",
       "max      12856.000000\n",
       "Name: rank, dtype: float64"
      ]
     },
     "execution_count": 38,
     "metadata": {},
     "output_type": "execute_result"
    }
   ],
   "source": [
    "# Lets focus on df['rank'] and replace the NaN values in that col\n",
    "df['rank'].describe()"
   ]
  },
  {
   "cell_type": "code",
   "execution_count": 39,
   "id": "90a94558-cf7b-4ac0-af15-01a8ec6f6e66",
   "metadata": {},
   "outputs": [],
   "source": [
    "# Create a new column with NaNs filled by mean value\n",
    "df['rank_filled'] = df['rank'].fillna(df['rank'].mean())"
   ]
  },
  {
   "cell_type": "code",
   "execution_count": 40,
   "id": "80b5f7f3-6bbf-40e8-8afc-9c44d0e94db5",
   "metadata": {},
   "outputs": [
    {
     "data": {
      "text/plain": [
       "count     6668.000000\n",
       "mean      4327.645120\n",
       "std       3084.884357\n",
       "min          1.000000\n",
       "25%       1825.750000\n",
       "50%       4000.000000\n",
       "75%       6184.500000\n",
       "max      12856.000000\n",
       "Name: rank_filled, dtype: float64"
      ]
     },
     "execution_count": 40,
     "metadata": {},
     "output_type": "execute_result"
    }
   ],
   "source": [
    "# Check new column-notice count has changed from above\n",
    "df['rank_filled'].describe()"
   ]
  },
  {
   "cell_type": "code",
   "execution_count": 41,
   "id": "0f9f56b5-a404-4b2e-80eb-4b2892701c46",
   "metadata": {},
   "outputs": [],
   "source": [
    "# Create a new column with NaNs filled with a 0\n",
    "df['rank_filled_0'] = df['rank'].fillna(0)"
   ]
  },
  {
   "cell_type": "code",
   "execution_count": 42,
   "id": "455e9653-c45e-422b-a1db-09d184c3455a",
   "metadata": {},
   "outputs": [
    {
     "data": {
      "text/plain": [
       "count     6668.000000\n",
       "mean      4096.595081\n",
       "std       3234.682662\n",
       "min          0.000000\n",
       "25%       1401.500000\n",
       "50%       3504.500000\n",
       "75%       6184.500000\n",
       "max      12856.000000\n",
       "Name: rank_filled_0, dtype: float64"
      ]
     },
     "execution_count": 42,
     "metadata": {},
     "output_type": "execute_result"
    }
   ],
   "source": [
    "# Check new column-notice count has changed from above\n",
    "df['rank_filled_0'].describe()"
   ]
  },
  {
   "cell_type": "markdown",
   "id": "75dfbd26-00ac-4f9f-9f5f-8e9bd49b3a5a",
   "metadata": {},
   "source": [
    "# Final Tips and Tricks\n",
    "\n",
    "Remember, when cleaning missing data, you usually want to retain as much info/data as possible.\n",
    "\n",
    "For continous values, it may make sense to fill NaNs with a mean value.\n",
    "\n",
    "For categorial values, you can consider filling NaNs with the most common category. "
   ]
  }
 ],
 "metadata": {
  "kernelspec": {
   "display_name": "Python 3 (ipykernel)",
   "language": "python",
   "name": "python3"
  },
  "language_info": {
   "codemirror_mode": {
    "name": "ipython",
    "version": 3
   },
   "file_extension": ".py",
   "mimetype": "text/x-python",
   "name": "python",
   "nbconvert_exporter": "python",
   "pygments_lexer": "ipython3",
   "version": "3.9.7"
  }
 },
 "nbformat": 4,
 "nbformat_minor": 5
}
