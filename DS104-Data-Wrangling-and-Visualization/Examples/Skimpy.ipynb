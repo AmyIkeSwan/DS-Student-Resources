{
 "cells": [
  {
   "cell_type": "markdown",
   "id": "2ba5fe0e-f5fe-4a31-add4-3e1c020f390d",
   "metadata": {},
   "source": [
    "# Skimpy - A simple way to summarize your dataset\n",
    "\n",
    "skimpy is a light weight tool that provides summary statistics about variables in data frames within the console. Think of it as a super version of df.summary().\n",
    "\n",
    "```bash\n",
    "pip install skimpy\n",
    "```\n",
    "https://pypi.org/project/skimpy/\n"
   ]
  },
  {
   "cell_type": "markdown",
   "id": "02f12a68-a503-4e91-b4b2-f04a765713ee",
   "metadata": {
    "tags": []
   },
   "source": [
    "# Table of Contents (datasets)\n",
    "\n",
    "### Table of Contents <a class=\"anchor\" id=\"skimpy_toc\"></a>\n",
    "\n",
    "* [Table of Contents](#DS103L2_toc)\n",
    "    * [builtin seaborn datasets](#skimpy_datasets)\n",
    "    * [about skim](#skimpy_skim)\n",
    "    * [load external diabetes](#skimpy_diabetes)\n",
    "    * [generate test data](#skimpy_generate_test_data)\n",
    "    * [skimpy cli](#skimpy_cli)\n",
    "    * [anagrams](#skimpy_anagrams)\n",
    "    * [anscombe](#skimpy_anscombe)\n",
    "    * [attention](#skimpy_attention)\n",
    "    * [brain_networks](#skimpy_brain_networks)\n",
    "    * [car_crashes](#skimpy_car_crashes)\n",
    "    * [diamonds](#skimpy_diamonds)\n",
    "    * [dots](#skimpy_dots)\n",
    "    * [exercise](#skimpy_exercise)\n",
    "    * [flights](#skimpy_flights)\n",
    "    * [fmri](#skimpy_fmri)\n",
    "    * [gammas](#skimpy_gammas)\n",
    "    * [geyser](#skimpy_geyser)\n",
    "    * [iris](#skimpy_iris)\n",
    "    * [mpg](#skimpy_mpg)\n",
    "    * [penguins](#skimpy_penguins)\n",
    "    * [planets](#skimpy_planets)\n",
    "    * [taxis](#skimpy_taxis)\n",
    "    * [tips](#skimpy_tips)\n",
    "    * [titanic](#skimpy_titanic)"
   ]
  },
  {
   "cell_type": "code",
   "execution_count": 1,
   "id": "f49956f5-98ae-4837-94a6-318d5d540291",
   "metadata": {},
   "outputs": [],
   "source": [
    "# import all the libraries that are required for creating the statistical analysis and loading the data\n",
    "import pandas as pd\n",
    "from skimpy import skim, generate_test_data\n",
    "import seaborn as sns"
   ]
  },
  {
   "cell_type": "markdown",
   "id": "b6cfdfd9-6d06-46e8-b0de-8beb3152a44b",
   "metadata": {},
   "source": [
    "# list builtin seaborn datasets <a class=\"anchor\" id=\"skimpy_datasets\"></a>\n",
    "[Back to Top](#skimpy_toc)"
   ]
  },
  {
   "cell_type": "code",
   "execution_count": 2,
   "id": "9b74e228-ea40-4342-831a-02c1e71714f4",
   "metadata": {},
   "outputs": [],
   "source": [
    "dataset_names = sns.get_dataset_names()"
   ]
  },
  {
   "cell_type": "code",
   "execution_count": 3,
   "id": "68296278-f594-4176-81b1-f8c2e1baac0f",
   "metadata": {},
   "outputs": [
    {
     "data": {
      "text/plain": [
       "['anagrams',\n",
       " 'anscombe',\n",
       " 'attention',\n",
       " 'brain_networks',\n",
       " 'car_crashes',\n",
       " 'diamonds',\n",
       " 'dots',\n",
       " 'exercise',\n",
       " 'flights',\n",
       " 'fmri',\n",
       " 'gammas',\n",
       " 'geyser',\n",
       " 'iris',\n",
       " 'mpg',\n",
       " 'penguins',\n",
       " 'planets',\n",
       " 'taxis',\n",
       " 'tips',\n",
       " 'titanic']"
      ]
     },
     "execution_count": 3,
     "metadata": {},
     "output_type": "execute_result"
    }
   ],
   "source": [
    "dataset_names"
   ]
  },
  {
   "cell_type": "markdown",
   "id": "5c6148b3-f2d8-4e7c-8aa8-342eca99a750",
   "metadata": {},
   "source": [
    "# about skim <a class=\"anchor\" id=\"skimpy_skim\"></a>\n",
    "[Back to Top](#skimpy_toc)"
   ]
  },
  {
   "cell_type": "code",
   "execution_count": 4,
   "id": "c7b96784-5955-4c2c-925c-90324ace4dac",
   "metadata": {},
   "outputs": [
    {
     "data": {
      "text/plain": [
       "\u001b[0;31mSignature:\u001b[0m\n",
       "\u001b[0mskim\u001b[0m\u001b[0;34m(\u001b[0m\u001b[0;34m\u001b[0m\n",
       "\u001b[0;34m\u001b[0m    \u001b[0mdf\u001b[0m\u001b[0;34m:\u001b[0m \u001b[0mpandas\u001b[0m\u001b[0;34m.\u001b[0m\u001b[0mcore\u001b[0m\u001b[0;34m.\u001b[0m\u001b[0mframe\u001b[0m\u001b[0;34m.\u001b[0m\u001b[0mDataFrame\u001b[0m\u001b[0;34m,\u001b[0m\u001b[0;34m\u001b[0m\n",
       "\u001b[0;34m\u001b[0m    \u001b[0mheader_style\u001b[0m\u001b[0;34m:\u001b[0m \u001b[0mstr\u001b[0m \u001b[0;34m=\u001b[0m \u001b[0;34m'bold cyan'\u001b[0m\u001b[0;34m,\u001b[0m\u001b[0;34m\u001b[0m\n",
       "\u001b[0;34m\u001b[0m    \u001b[0;34m**\u001b[0m\u001b[0mcolour_kwargs\u001b[0m\u001b[0;34m:\u001b[0m \u001b[0mstr\u001b[0m\u001b[0;34m,\u001b[0m\u001b[0;34m\u001b[0m\n",
       "\u001b[0;34m\u001b[0m\u001b[0;34m)\u001b[0m \u001b[0;34m->\u001b[0m \u001b[0;32mNone\u001b[0m\u001b[0;34m\u001b[0m\u001b[0;34m\u001b[0m\u001b[0m\n",
       "\u001b[0;31mDocstring:\u001b[0m\n",
       "Skim a data frame and return statistics.\n",
       "\n",
       "skim is an alternative to pandas.DataFrame.summary(), quickly providing\n",
       "an overview of a data frame. It produces a different set of summary\n",
       "functions based on the types of columns in the dataframe. You may get\n",
       "better results from ensuring that you set the datatypes in your dataframe\n",
       "you want before running skim.\n",
       "The colour_kwargs (str) are defined in dataframe_to_rich_table.\n",
       "\n",
       "Args:\n",
       "    df (pd.DataFrame): Dataframe to skim\n",
       "    header_style (str): A style to use for headers. See Rich API Styles.\n",
       "    colour_kwargs (dict[str]): colour keyword arguments for rich table\n",
       "\u001b[0;31mFile:\u001b[0m      /usr/local/lib/python3.9/site-packages/skimpy/__init__.py\n",
       "\u001b[0;31mType:\u001b[0m      function\n"
      ]
     },
     "metadata": {},
     "output_type": "display_data"
    }
   ],
   "source": [
    "skim?"
   ]
  },
  {
   "cell_type": "markdown",
   "id": "f6dac44c-73dc-4a18-9920-3bbc7df096b0",
   "metadata": {},
   "source": [
    "# diabetes <a class=\"anchor\" id=\"skimpy_diabetes\"></a>\n",
    "[Back to Top](#skimpy_toc)"
   ]
  },
  {
   "cell_type": "code",
   "execution_count": 5,
   "id": "800b4dfd-d7eb-4c65-b704-45db5ef019ae",
   "metadata": {},
   "outputs": [],
   "source": [
    "# import an external file from Kaggle https://www.kaggle.com/saurabh00007/diabetescsv and move into Data folder\n",
    "# use a relative path to load dataset\n",
    "diabetes = pd.read_csv(\"../Data/Diabetes.csv\")"
   ]
  },
  {
   "cell_type": "code",
   "execution_count": 6,
   "id": "df9ed43f-df2f-443d-8bdb-c2bd23ba6cfe",
   "metadata": {},
   "outputs": [
    {
     "data": {
      "text/html": [
       "<div>\n",
       "<style scoped>\n",
       "    .dataframe tbody tr th:only-of-type {\n",
       "        vertical-align: middle;\n",
       "    }\n",
       "\n",
       "    .dataframe tbody tr th {\n",
       "        vertical-align: top;\n",
       "    }\n",
       "\n",
       "    .dataframe thead th {\n",
       "        text-align: right;\n",
       "    }\n",
       "</style>\n",
       "<table border=\"1\" class=\"dataframe\">\n",
       "  <thead>\n",
       "    <tr style=\"text-align: right;\">\n",
       "      <th></th>\n",
       "      <th>Pregnancies</th>\n",
       "      <th>Glucose</th>\n",
       "      <th>BloodPressure</th>\n",
       "      <th>SkinThickness</th>\n",
       "      <th>Insulin</th>\n",
       "      <th>BMI</th>\n",
       "      <th>DiabetesPedigreeFunction</th>\n",
       "      <th>Age</th>\n",
       "      <th>Outcome</th>\n",
       "    </tr>\n",
       "  </thead>\n",
       "  <tbody>\n",
       "    <tr>\n",
       "      <th>count</th>\n",
       "      <td>768.000000</td>\n",
       "      <td>768.000000</td>\n",
       "      <td>768.000000</td>\n",
       "      <td>768.000000</td>\n",
       "      <td>768.000000</td>\n",
       "      <td>768.000000</td>\n",
       "      <td>768.000000</td>\n",
       "      <td>768.000000</td>\n",
       "      <td>768.000000</td>\n",
       "    </tr>\n",
       "    <tr>\n",
       "      <th>mean</th>\n",
       "      <td>3.845052</td>\n",
       "      <td>120.894531</td>\n",
       "      <td>69.105469</td>\n",
       "      <td>20.536458</td>\n",
       "      <td>79.799479</td>\n",
       "      <td>31.992578</td>\n",
       "      <td>0.471876</td>\n",
       "      <td>33.240885</td>\n",
       "      <td>0.348958</td>\n",
       "    </tr>\n",
       "    <tr>\n",
       "      <th>std</th>\n",
       "      <td>3.369578</td>\n",
       "      <td>31.972618</td>\n",
       "      <td>19.355807</td>\n",
       "      <td>15.952218</td>\n",
       "      <td>115.244002</td>\n",
       "      <td>7.884160</td>\n",
       "      <td>0.331329</td>\n",
       "      <td>11.760232</td>\n",
       "      <td>0.476951</td>\n",
       "    </tr>\n",
       "    <tr>\n",
       "      <th>min</th>\n",
       "      <td>0.000000</td>\n",
       "      <td>0.000000</td>\n",
       "      <td>0.000000</td>\n",
       "      <td>0.000000</td>\n",
       "      <td>0.000000</td>\n",
       "      <td>0.000000</td>\n",
       "      <td>0.078000</td>\n",
       "      <td>21.000000</td>\n",
       "      <td>0.000000</td>\n",
       "    </tr>\n",
       "    <tr>\n",
       "      <th>25%</th>\n",
       "      <td>1.000000</td>\n",
       "      <td>99.000000</td>\n",
       "      <td>62.000000</td>\n",
       "      <td>0.000000</td>\n",
       "      <td>0.000000</td>\n",
       "      <td>27.300000</td>\n",
       "      <td>0.243750</td>\n",
       "      <td>24.000000</td>\n",
       "      <td>0.000000</td>\n",
       "    </tr>\n",
       "    <tr>\n",
       "      <th>50%</th>\n",
       "      <td>3.000000</td>\n",
       "      <td>117.000000</td>\n",
       "      <td>72.000000</td>\n",
       "      <td>23.000000</td>\n",
       "      <td>30.500000</td>\n",
       "      <td>32.000000</td>\n",
       "      <td>0.372500</td>\n",
       "      <td>29.000000</td>\n",
       "      <td>0.000000</td>\n",
       "    </tr>\n",
       "    <tr>\n",
       "      <th>75%</th>\n",
       "      <td>6.000000</td>\n",
       "      <td>140.250000</td>\n",
       "      <td>80.000000</td>\n",
       "      <td>32.000000</td>\n",
       "      <td>127.250000</td>\n",
       "      <td>36.600000</td>\n",
       "      <td>0.626250</td>\n",
       "      <td>41.000000</td>\n",
       "      <td>1.000000</td>\n",
       "    </tr>\n",
       "    <tr>\n",
       "      <th>max</th>\n",
       "      <td>17.000000</td>\n",
       "      <td>199.000000</td>\n",
       "      <td>122.000000</td>\n",
       "      <td>99.000000</td>\n",
       "      <td>846.000000</td>\n",
       "      <td>67.100000</td>\n",
       "      <td>2.420000</td>\n",
       "      <td>81.000000</td>\n",
       "      <td>1.000000</td>\n",
       "    </tr>\n",
       "  </tbody>\n",
       "</table>\n",
       "</div>"
      ],
      "text/plain": [
       "       Pregnancies     Glucose  BloodPressure  SkinThickness     Insulin  \\\n",
       "count   768.000000  768.000000     768.000000     768.000000  768.000000   \n",
       "mean      3.845052  120.894531      69.105469      20.536458   79.799479   \n",
       "std       3.369578   31.972618      19.355807      15.952218  115.244002   \n",
       "min       0.000000    0.000000       0.000000       0.000000    0.000000   \n",
       "25%       1.000000   99.000000      62.000000       0.000000    0.000000   \n",
       "50%       3.000000  117.000000      72.000000      23.000000   30.500000   \n",
       "75%       6.000000  140.250000      80.000000      32.000000  127.250000   \n",
       "max      17.000000  199.000000     122.000000      99.000000  846.000000   \n",
       "\n",
       "              BMI  DiabetesPedigreeFunction         Age     Outcome  \n",
       "count  768.000000                768.000000  768.000000  768.000000  \n",
       "mean    31.992578                  0.471876   33.240885    0.348958  \n",
       "std      7.884160                  0.331329   11.760232    0.476951  \n",
       "min      0.000000                  0.078000   21.000000    0.000000  \n",
       "25%     27.300000                  0.243750   24.000000    0.000000  \n",
       "50%     32.000000                  0.372500   29.000000    0.000000  \n",
       "75%     36.600000                  0.626250   41.000000    1.000000  \n",
       "max     67.100000                  2.420000   81.000000    1.000000  "
      ]
     },
     "execution_count": 6,
     "metadata": {},
     "output_type": "execute_result"
    }
   ],
   "source": [
    "diabetes.describe()"
   ]
  },
  {
   "cell_type": "code",
   "execution_count": 7,
   "id": "047a6cf2-2c72-4010-8642-ae5f01edf248",
   "metadata": {},
   "outputs": [
    {
     "data": {
      "text/html": [
       "<pre style=\"white-space:pre;overflow-x:auto;line-height:normal;font-family:Menlo,'DejaVu Sans Mono',consolas,'Courier New',monospace\">╭───────────────────────────────────── skimpy summary ──────────────────────────────────────╮\n",
       "│ <span style=\"font-style: italic\">         Data Summary         </span> <span style=\"font-style: italic\">      Data Types       </span>                                    │\n",
       "│ ┏━━━━━━━━━━━━━━━━━━━┳━━━━━━━━┓ ┏━━━━━━━━━━━━━┳━━━━━━━┓                                    │\n",
       "│ ┃<span style=\"color: #008080; text-decoration-color: #008080; font-weight: bold\"> dataframe         </span>┃<span style=\"color: #008080; text-decoration-color: #008080; font-weight: bold\"> Values </span>┃ ┃<span style=\"color: #008080; text-decoration-color: #008080; font-weight: bold\"> Column Type </span>┃<span style=\"color: #008080; text-decoration-color: #008080; font-weight: bold\"> Count </span>┃                                    │\n",
       "│ ┡━━━━━━━━━━━━━━━━━━━╇━━━━━━━━┩ ┡━━━━━━━━━━━━━╇━━━━━━━┩                                    │\n",
       "│ │ Number of rows    │ 768    │ │ int64       │ 7     │                                    │\n",
       "│ │ Number of columns │ 9      │ │ float64     │ 2     │                                    │\n",
       "│ └───────────────────┴────────┘ └─────────────┴───────┘                                    │\n",
       "│ <span style=\"font-style: italic\">                                         number                                         </span>  │\n",
       "│ ┏━━━━━━━━━┳━━━━━━━━━┳━━━━━━━━━━┳━━━━━━━┳━━━━━━━┳━━━━━━━┳━━━━━━┳━━━━━━━┳━━━━━━━┳━━━━━━━━┓  │\n",
       "│ ┃<span style=\"font-weight: bold\">         </span>┃<span style=\"font-weight: bold\"> missing </span>┃<span style=\"font-weight: bold\"> complete </span>┃<span style=\"font-weight: bold\"> mean  </span>┃<span style=\"font-weight: bold\"> sd    </span>┃<span style=\"font-weight: bold\"> p0    </span>┃<span style=\"font-weight: bold\"> p25  </span>┃<span style=\"font-weight: bold\"> p75   </span>┃<span style=\"font-weight: bold\"> p100  </span>┃<span style=\"font-weight: bold\"> hist   </span>┃  │\n",
       "│ ┃         ┃         ┃<span style=\"font-weight: bold\"> rate     </span>┃       ┃       ┃       ┃      ┃       ┃       ┃        ┃  │\n",
       "│ ┡━━━━━━━━━╇━━━━━━━━━╇━━━━━━━━━━╇━━━━━━━╇━━━━━━━╇━━━━━━━╇━━━━━━╇━━━━━━━╇━━━━━━━╇━━━━━━━━┩  │\n",
       "│ │ <span style=\"color: #af87ff; text-decoration-color: #af87ff\">Pregnan</span> │ <span style=\"color: #008080; text-decoration-color: #008080\">0.0    </span> │ <span style=\"color: #008080; text-decoration-color: #008080\">1.0     </span> │ <span style=\"color: #008080; text-decoration-color: #008080\">3.8  </span> │ <span style=\"color: #008080; text-decoration-color: #008080\">3.4  </span> │ <span style=\"color: #008080; text-decoration-color: #008080\">0.0  </span> │ <span style=\"color: #008080; text-decoration-color: #008080\">1.0 </span> │ <span style=\"color: #008080; text-decoration-color: #008080\">6.0  </span> │ <span style=\"color: #008080; text-decoration-color: #008080\">17.0 </span> │ <span style=\"color: #008000; text-decoration-color: #008000\">█▅▃▁  </span> │  │\n",
       "│ │ <span style=\"color: #af87ff; text-decoration-color: #af87ff\">cies   </span> │         │          │       │       │       │      │       │       │        │  │\n",
       "│ │ <span style=\"color: #af87ff; text-decoration-color: #af87ff\">Glucose</span> │ <span style=\"color: #008080; text-decoration-color: #008080\">0.0    </span> │ <span style=\"color: #008080; text-decoration-color: #008080\">1.0     </span> │ <span style=\"color: #008080; text-decoration-color: #008080\">120.0</span> │ <span style=\"color: #008080; text-decoration-color: #008080\">32.0 </span> │ <span style=\"color: #008080; text-decoration-color: #008080\">0.0  </span> │ <span style=\"color: #008080; text-decoration-color: #008080\">99.0</span> │ <span style=\"color: #008080; text-decoration-color: #008080\">140.0</span> │ <span style=\"color: #008080; text-decoration-color: #008080\">200.0</span> │ <span style=\"color: #008000; text-decoration-color: #008000\">  ▄█▄▂</span> │  │\n",
       "│ │ <span style=\"color: #af87ff; text-decoration-color: #af87ff\">BloodPr</span> │ <span style=\"color: #008080; text-decoration-color: #008080\">0.0    </span> │ <span style=\"color: #008080; text-decoration-color: #008080\">1.0     </span> │ <span style=\"color: #008080; text-decoration-color: #008080\">69.0 </span> │ <span style=\"color: #008080; text-decoration-color: #008080\">19.0 </span> │ <span style=\"color: #008080; text-decoration-color: #008080\">0.0  </span> │ <span style=\"color: #008080; text-decoration-color: #008080\">62.0</span> │ <span style=\"color: #008080; text-decoration-color: #008080\">80.0 </span> │ <span style=\"color: #008080; text-decoration-color: #008080\">120.0</span> │ <span style=\"color: #008000; text-decoration-color: #008000\">▁ ▂█▃ </span> │  │\n",
       "│ │ <span style=\"color: #af87ff; text-decoration-color: #af87ff\">essure </span> │         │          │       │       │       │      │       │       │        │  │\n",
       "│ │ <span style=\"color: #af87ff; text-decoration-color: #af87ff\">SkinThi</span> │ <span style=\"color: #008080; text-decoration-color: #008080\">0.0    </span> │ <span style=\"color: #008080; text-decoration-color: #008080\">1.0     </span> │ <span style=\"color: #008080; text-decoration-color: #008080\">21.0 </span> │ <span style=\"color: #008080; text-decoration-color: #008080\">16.0 </span> │ <span style=\"color: #008080; text-decoration-color: #008080\">0.0  </span> │ <span style=\"color: #008080; text-decoration-color: #008080\">0.0 </span> │ <span style=\"color: #008080; text-decoration-color: #008080\">32.0 </span> │ <span style=\"color: #008080; text-decoration-color: #008080\">99.0 </span> │ <span style=\"color: #008000; text-decoration-color: #008000\">██▅   </span> │  │\n",
       "│ │ <span style=\"color: #af87ff; text-decoration-color: #af87ff\">ckness </span> │         │          │       │       │       │      │       │       │        │  │\n",
       "│ │ <span style=\"color: #af87ff; text-decoration-color: #af87ff\">Insulin</span> │ <span style=\"color: #008080; text-decoration-color: #008080\">0.0    </span> │ <span style=\"color: #008080; text-decoration-color: #008080\">1.0     </span> │ <span style=\"color: #008080; text-decoration-color: #008080\">80.0 </span> │ <span style=\"color: #008080; text-decoration-color: #008080\">120.0</span> │ <span style=\"color: #008080; text-decoration-color: #008080\">0.0  </span> │ <span style=\"color: #008080; text-decoration-color: #008080\">0.0 </span> │ <span style=\"color: #008080; text-decoration-color: #008080\">130.0</span> │ <span style=\"color: #008080; text-decoration-color: #008080\">850.0</span> │ <span style=\"color: #008000; text-decoration-color: #008000\">█▂    </span> │  │\n",
       "│ │ <span style=\"color: #af87ff; text-decoration-color: #af87ff\">BMI    </span> │ <span style=\"color: #008080; text-decoration-color: #008080\">0.0    </span> │ <span style=\"color: #008080; text-decoration-color: #008080\">1.0     </span> │ <span style=\"color: #008080; text-decoration-color: #008080\">32.0 </span> │ <span style=\"color: #008080; text-decoration-color: #008080\">7.9  </span> │ <span style=\"color: #008080; text-decoration-color: #008080\">0.0  </span> │ <span style=\"color: #008080; text-decoration-color: #008080\">27.0</span> │ <span style=\"color: #008080; text-decoration-color: #008080\">37.0 </span> │ <span style=\"color: #008080; text-decoration-color: #008080\">67.0 </span> │ <span style=\"color: #008000; text-decoration-color: #008000\"> ▁█▆▁ </span> │  │\n",
       "│ │ <span style=\"color: #af87ff; text-decoration-color: #af87ff\">Diabete</span> │ <span style=\"color: #008080; text-decoration-color: #008080\">0.0    </span> │ <span style=\"color: #008080; text-decoration-color: #008080\">1.0     </span> │ <span style=\"color: #008080; text-decoration-color: #008080\">0.47 </span> │ <span style=\"color: #008080; text-decoration-color: #008080\">0.33 </span> │ <span style=\"color: #008080; text-decoration-color: #008080\">0.078</span> │ <span style=\"color: #008080; text-decoration-color: #008080\">0.24</span> │ <span style=\"color: #008080; text-decoration-color: #008080\">0.63 </span> │ <span style=\"color: #008080; text-decoration-color: #008080\">2.4  </span> │ <span style=\"color: #008000; text-decoration-color: #008000\">█▄▁   </span> │  │\n",
       "│ │ <span style=\"color: #af87ff; text-decoration-color: #af87ff\">sPedigr</span> │         │          │       │       │       │      │       │       │        │  │\n",
       "│ │ <span style=\"color: #af87ff; text-decoration-color: #af87ff\">eeFunc </span> │         │          │       │       │       │      │       │       │        │  │\n",
       "│ │ <span style=\"color: #af87ff; text-decoration-color: #af87ff\">Age    </span> │ <span style=\"color: #008080; text-decoration-color: #008080\">0.0    </span> │ <span style=\"color: #008080; text-decoration-color: #008080\">1.0     </span> │ <span style=\"color: #008080; text-decoration-color: #008080\">33.0 </span> │ <span style=\"color: #008080; text-decoration-color: #008080\">12.0 </span> │ <span style=\"color: #008080; text-decoration-color: #008080\">21.0 </span> │ <span style=\"color: #008080; text-decoration-color: #008080\">24.0</span> │ <span style=\"color: #008080; text-decoration-color: #008080\">41.0 </span> │ <span style=\"color: #008080; text-decoration-color: #008080\">81.0 </span> │ <span style=\"color: #008000; text-decoration-color: #008000\">█▃▂▁  </span> │  │\n",
       "│ │ <span style=\"color: #af87ff; text-decoration-color: #af87ff\">Outcome</span> │ <span style=\"color: #008080; text-decoration-color: #008080\">0.0    </span> │ <span style=\"color: #008080; text-decoration-color: #008080\">1.0     </span> │ <span style=\"color: #008080; text-decoration-color: #008080\">0.35 </span> │ <span style=\"color: #008080; text-decoration-color: #008080\">0.48 </span> │ <span style=\"color: #008080; text-decoration-color: #008080\">0.0  </span> │ <span style=\"color: #008080; text-decoration-color: #008080\">0.0 </span> │ <span style=\"color: #008080; text-decoration-color: #008080\">1.0  </span> │ <span style=\"color: #008080; text-decoration-color: #008080\">1.0  </span> │ <span style=\"color: #008000; text-decoration-color: #008000\">█    ▄</span> │  │\n",
       "│ └─────────┴─────────┴──────────┴───────┴───────┴───────┴──────┴───────┴───────┴────────┘  │\n",
       "╰─────────────────────────────────────────── End ───────────────────────────────────────────╯\n",
       "</pre>\n"
      ],
      "text/plain": [
       "╭───────────────────────────────────── skimpy summary ──────────────────────────────────────╮\n",
       "│ \u001b[3m         Data Summary         \u001b[0m \u001b[3m      Data Types       \u001b[0m                                    │\n",
       "│ ┏━━━━━━━━━━━━━━━━━━━┳━━━━━━━━┓ ┏━━━━━━━━━━━━━┳━━━━━━━┓                                    │\n",
       "│ ┃\u001b[1;36m \u001b[0m\u001b[1;36mdataframe        \u001b[0m\u001b[1;36m \u001b[0m┃\u001b[1;36m \u001b[0m\u001b[1;36mValues\u001b[0m\u001b[1;36m \u001b[0m┃ ┃\u001b[1;36m \u001b[0m\u001b[1;36mColumn Type\u001b[0m\u001b[1;36m \u001b[0m┃\u001b[1;36m \u001b[0m\u001b[1;36mCount\u001b[0m\u001b[1;36m \u001b[0m┃                                    │\n",
       "│ ┡━━━━━━━━━━━━━━━━━━━╇━━━━━━━━┩ ┡━━━━━━━━━━━━━╇━━━━━━━┩                                    │\n",
       "│ │ Number of rows    │ 768    │ │ int64       │ 7     │                                    │\n",
       "│ │ Number of columns │ 9      │ │ float64     │ 2     │                                    │\n",
       "│ └───────────────────┴────────┘ └─────────────┴───────┘                                    │\n",
       "│ \u001b[3m                                         number                                         \u001b[0m  │\n",
       "│ ┏━━━━━━━━━┳━━━━━━━━━┳━━━━━━━━━━┳━━━━━━━┳━━━━━━━┳━━━━━━━┳━━━━━━┳━━━━━━━┳━━━━━━━┳━━━━━━━━┓  │\n",
       "│ ┃\u001b[1m \u001b[0m\u001b[1m       \u001b[0m\u001b[1m \u001b[0m┃\u001b[1m \u001b[0m\u001b[1mmissing\u001b[0m\u001b[1m \u001b[0m┃\u001b[1m \u001b[0m\u001b[1mcomplete\u001b[0m\u001b[1m \u001b[0m┃\u001b[1m \u001b[0m\u001b[1mmean \u001b[0m\u001b[1m \u001b[0m┃\u001b[1m \u001b[0m\u001b[1msd   \u001b[0m\u001b[1m \u001b[0m┃\u001b[1m \u001b[0m\u001b[1mp0   \u001b[0m\u001b[1m \u001b[0m┃\u001b[1m \u001b[0m\u001b[1mp25 \u001b[0m\u001b[1m \u001b[0m┃\u001b[1m \u001b[0m\u001b[1mp75  \u001b[0m\u001b[1m \u001b[0m┃\u001b[1m \u001b[0m\u001b[1mp100 \u001b[0m\u001b[1m \u001b[0m┃\u001b[1m \u001b[0m\u001b[1mhist  \u001b[0m\u001b[1m \u001b[0m┃  │\n",
       "│ ┃         ┃         ┃\u001b[1m \u001b[0m\u001b[1mrate    \u001b[0m\u001b[1m \u001b[0m┃       ┃       ┃       ┃      ┃       ┃       ┃        ┃  │\n",
       "│ ┡━━━━━━━━━╇━━━━━━━━━╇━━━━━━━━━━╇━━━━━━━╇━━━━━━━╇━━━━━━━╇━━━━━━╇━━━━━━━╇━━━━━━━╇━━━━━━━━┩  │\n",
       "│ │ \u001b[38;5;141mPregnan\u001b[0m │ \u001b[36m0.0    \u001b[0m │ \u001b[36m1.0     \u001b[0m │ \u001b[36m3.8  \u001b[0m │ \u001b[36m3.4  \u001b[0m │ \u001b[36m0.0  \u001b[0m │ \u001b[36m1.0 \u001b[0m │ \u001b[36m6.0  \u001b[0m │ \u001b[36m17.0 \u001b[0m │ \u001b[32m█▅▃▁  \u001b[0m │  │\n",
       "│ │ \u001b[38;5;141mcies   \u001b[0m │         │          │       │       │       │      │       │       │        │  │\n",
       "│ │ \u001b[38;5;141mGlucose\u001b[0m │ \u001b[36m0.0    \u001b[0m │ \u001b[36m1.0     \u001b[0m │ \u001b[36m120.0\u001b[0m │ \u001b[36m32.0 \u001b[0m │ \u001b[36m0.0  \u001b[0m │ \u001b[36m99.0\u001b[0m │ \u001b[36m140.0\u001b[0m │ \u001b[36m200.0\u001b[0m │ \u001b[32m  ▄█▄▂\u001b[0m │  │\n",
       "│ │ \u001b[38;5;141mBloodPr\u001b[0m │ \u001b[36m0.0    \u001b[0m │ \u001b[36m1.0     \u001b[0m │ \u001b[36m69.0 \u001b[0m │ \u001b[36m19.0 \u001b[0m │ \u001b[36m0.0  \u001b[0m │ \u001b[36m62.0\u001b[0m │ \u001b[36m80.0 \u001b[0m │ \u001b[36m120.0\u001b[0m │ \u001b[32m▁ ▂█▃ \u001b[0m │  │\n",
       "│ │ \u001b[38;5;141messure \u001b[0m │         │          │       │       │       │      │       │       │        │  │\n",
       "│ │ \u001b[38;5;141mSkinThi\u001b[0m │ \u001b[36m0.0    \u001b[0m │ \u001b[36m1.0     \u001b[0m │ \u001b[36m21.0 \u001b[0m │ \u001b[36m16.0 \u001b[0m │ \u001b[36m0.0  \u001b[0m │ \u001b[36m0.0 \u001b[0m │ \u001b[36m32.0 \u001b[0m │ \u001b[36m99.0 \u001b[0m │ \u001b[32m██▅   \u001b[0m │  │\n",
       "│ │ \u001b[38;5;141mckness \u001b[0m │         │          │       │       │       │      │       │       │        │  │\n",
       "│ │ \u001b[38;5;141mInsulin\u001b[0m │ \u001b[36m0.0    \u001b[0m │ \u001b[36m1.0     \u001b[0m │ \u001b[36m80.0 \u001b[0m │ \u001b[36m120.0\u001b[0m │ \u001b[36m0.0  \u001b[0m │ \u001b[36m0.0 \u001b[0m │ \u001b[36m130.0\u001b[0m │ \u001b[36m850.0\u001b[0m │ \u001b[32m█▂    \u001b[0m │  │\n",
       "│ │ \u001b[38;5;141mBMI    \u001b[0m │ \u001b[36m0.0    \u001b[0m │ \u001b[36m1.0     \u001b[0m │ \u001b[36m32.0 \u001b[0m │ \u001b[36m7.9  \u001b[0m │ \u001b[36m0.0  \u001b[0m │ \u001b[36m27.0\u001b[0m │ \u001b[36m37.0 \u001b[0m │ \u001b[36m67.0 \u001b[0m │ \u001b[32m ▁█▆▁ \u001b[0m │  │\n",
       "│ │ \u001b[38;5;141mDiabete\u001b[0m │ \u001b[36m0.0    \u001b[0m │ \u001b[36m1.0     \u001b[0m │ \u001b[36m0.47 \u001b[0m │ \u001b[36m0.33 \u001b[0m │ \u001b[36m0.078\u001b[0m │ \u001b[36m0.24\u001b[0m │ \u001b[36m0.63 \u001b[0m │ \u001b[36m2.4  \u001b[0m │ \u001b[32m█▄▁   \u001b[0m │  │\n",
       "│ │ \u001b[38;5;141msPedigr\u001b[0m │         │          │       │       │       │      │       │       │        │  │\n",
       "│ │ \u001b[38;5;141meeFunc \u001b[0m │         │          │       │       │       │      │       │       │        │  │\n",
       "│ │ \u001b[38;5;141mAge    \u001b[0m │ \u001b[36m0.0    \u001b[0m │ \u001b[36m1.0     \u001b[0m │ \u001b[36m33.0 \u001b[0m │ \u001b[36m12.0 \u001b[0m │ \u001b[36m21.0 \u001b[0m │ \u001b[36m24.0\u001b[0m │ \u001b[36m41.0 \u001b[0m │ \u001b[36m81.0 \u001b[0m │ \u001b[32m█▃▂▁  \u001b[0m │  │\n",
       "│ │ \u001b[38;5;141mOutcome\u001b[0m │ \u001b[36m0.0    \u001b[0m │ \u001b[36m1.0     \u001b[0m │ \u001b[36m0.35 \u001b[0m │ \u001b[36m0.48 \u001b[0m │ \u001b[36m0.0  \u001b[0m │ \u001b[36m0.0 \u001b[0m │ \u001b[36m1.0  \u001b[0m │ \u001b[36m1.0  \u001b[0m │ \u001b[32m█    ▄\u001b[0m │  │\n",
       "│ └─────────┴─────────┴──────────┴───────┴───────┴───────┴──────┴───────┴───────┴────────┘  │\n",
       "╰─────────────────────────────────────────── End ───────────────────────────────────────────╯\n"
      ]
     },
     "metadata": {},
     "output_type": "display_data"
    }
   ],
   "source": [
    "skim(diabetes)"
   ]
  },
  {
   "cell_type": "markdown",
   "id": "f703ac68-ad8d-4783-be72-9ab2db2c206a",
   "metadata": {},
   "source": [
    "# generate test data <a class=\"anchor\" id=\"skimpy_generate_test_data\"></a>\n",
    "[Back to Top](#skimpy_toc)"
   ]
  },
  {
   "cell_type": "code",
   "execution_count": null,
   "id": "1bacb7a6-8dcd-41f0-96c0-c7a0c3e401e5",
   "metadata": {},
   "outputs": [],
   "source": [
    "# generate test data from seaborn\n",
    "test_data = generate_test_data()"
   ]
  },
  {
   "cell_type": "code",
   "execution_count": null,
   "id": "e76e1ce2-bf73-4031-b50e-b276425f3ae5",
   "metadata": {},
   "outputs": [],
   "source": [
    "generate_test_data?"
   ]
  },
  {
   "cell_type": "code",
   "execution_count": null,
   "id": "59db797e-4793-42d0-a598-b20a9eaaf3a8",
   "metadata": {},
   "outputs": [],
   "source": [
    "test_data.describe()"
   ]
  },
  {
   "cell_type": "code",
   "execution_count": null,
   "id": "82c47a02-d0cd-4c82-8b25-b1f9bae82796",
   "metadata": {},
   "outputs": [],
   "source": [
    "test_data.info()"
   ]
  },
  {
   "cell_type": "code",
   "execution_count": null,
   "id": "9d81f6ce-6df1-4608-885a-21abf168a3ec",
   "metadata": {},
   "outputs": [],
   "source": [
    "skim(test_data)"
   ]
  },
  {
   "cell_type": "markdown",
   "id": "5fb8f547-aec9-4f13-b63d-73ae951567a8",
   "metadata": {},
   "source": [
    "# command line (CLI) skimpy <a class=\"anchor\" id=\"skimpy_cli\"></a>\n",
    "[Back to Top](#skimpy_toc)"
   ]
  },
  {
   "cell_type": "code",
   "execution_count": null,
   "id": "4c92223f-149c-48ca-a876-06c9dc0e34da",
   "metadata": {},
   "outputs": [],
   "source": [
    "#you can also run command line (CLI) skimpy on the data\n",
    "!skimpy ../Data/diabetes.csv"
   ]
  },
  {
   "cell_type": "markdown",
   "id": "aecad8af-39dc-4b79-9441-7385914937ff",
   "metadata": {},
   "source": [
    "# anagrams <a class=\"anchor\" id=\"skimpy_anagrams\"></a>\n",
    "[Back to Top](#skimpy_toc)"
   ]
  },
  {
   "cell_type": "code",
   "execution_count": 8,
   "id": "268edc2c-c533-4092-ae7e-fbee8d7d98e1",
   "metadata": {},
   "outputs": [],
   "source": [
    "anagrams= sns.load_dataset(\"anagrams\")"
   ]
  },
  {
   "cell_type": "code",
   "execution_count": 9,
   "id": "c1525def-b6db-4fb4-a4f0-03268b3330bf",
   "metadata": {},
   "outputs": [
    {
     "data": {
      "text/html": [
       "<pre style=\"white-space:pre;overflow-x:auto;line-height:normal;font-family:Menlo,'DejaVu Sans Mono',consolas,'Courier New',monospace\">╭───────────────────────────────────── skimpy summary ──────────────────────────────────────╮\n",
       "│ <span style=\"font-style: italic\">         Data Summary         </span> <span style=\"font-style: italic\">      Data Types       </span>                                    │\n",
       "│ ┏━━━━━━━━━━━━━━━━━━━┳━━━━━━━━┓ ┏━━━━━━━━━━━━━┳━━━━━━━┓                                    │\n",
       "│ ┃<span style=\"color: #008080; text-decoration-color: #008080; font-weight: bold\"> dataframe         </span>┃<span style=\"color: #008080; text-decoration-color: #008080; font-weight: bold\"> Values </span>┃ ┃<span style=\"color: #008080; text-decoration-color: #008080; font-weight: bold\"> Column Type </span>┃<span style=\"color: #008080; text-decoration-color: #008080; font-weight: bold\"> Count </span>┃                                    │\n",
       "│ ┡━━━━━━━━━━━━━━━━━━━╇━━━━━━━━┩ ┡━━━━━━━━━━━━━╇━━━━━━━┩                                    │\n",
       "│ │ Number of rows    │ 20     │ │ int64       │ 3     │                                    │\n",
       "│ │ Number of columns │ 5      │ │ object      │ 1     │                                    │\n",
       "│ └───────────────────┴────────┘ │ float64     │ 1     │                                    │\n",
       "│                                └─────────────┴───────┘                                    │\n",
       "│ <span style=\"font-style: italic\">                                         number                                         </span>  │\n",
       "│ ┏━━━━━━━━━┳━━━━━━━━━━┳━━━━━━━━━━━━━━━━┳━━━━━━━┳━━━━━┳━━━━━┳━━━━━┳━━━━━━┳━━━━━━┳━━━━━━━━┓  │\n",
       "│ ┃<span style=\"font-weight: bold\">         </span>┃<span style=\"font-weight: bold\"> missing  </span>┃<span style=\"font-weight: bold\"> complete rate  </span>┃<span style=\"font-weight: bold\"> mean  </span>┃<span style=\"font-weight: bold\"> sd  </span>┃<span style=\"font-weight: bold\"> p0  </span>┃<span style=\"font-weight: bold\"> p25 </span>┃<span style=\"font-weight: bold\"> p75  </span>┃<span style=\"font-weight: bold\"> p100 </span>┃<span style=\"font-weight: bold\"> hist   </span>┃  │\n",
       "│ ┡━━━━━━━━━╇━━━━━━━━━━╇━━━━━━━━━━━━━━━━╇━━━━━━━╇━━━━━╇━━━━━╇━━━━━╇━━━━━━╇━━━━━━╇━━━━━━━━┩  │\n",
       "│ │ <span style=\"color: #af87ff; text-decoration-color: #af87ff\">subidr </span> │ <span style=\"color: #008080; text-decoration-color: #008080\">0.0     </span> │ <span style=\"color: #008080; text-decoration-color: #008080\">1.0           </span> │ <span style=\"color: #008080; text-decoration-color: #008080\">10.0 </span> │ <span style=\"color: #008080; text-decoration-color: #008080\">5.9</span> │ <span style=\"color: #008080; text-decoration-color: #008080\">1.0</span> │ <span style=\"color: #008080; text-decoration-color: #008080\">5.8</span> │ <span style=\"color: #008080; text-decoration-color: #008080\">15.0</span> │ <span style=\"color: #008080; text-decoration-color: #008080\">20.0</span> │ <span style=\"color: #008000; text-decoration-color: #008000\">█▆▆▆▆█</span> │  │\n",
       "│ │ <span style=\"color: #af87ff; text-decoration-color: #af87ff\">num1   </span> │ <span style=\"color: #008080; text-decoration-color: #008080\">0.0     </span> │ <span style=\"color: #008080; text-decoration-color: #008080\">1.0           </span> │ <span style=\"color: #008080; text-decoration-color: #008080\">5.3  </span> │ <span style=\"color: #008080; text-decoration-color: #008080\">1.8</span> │ <span style=\"color: #008080; text-decoration-color: #008080\">2.0</span> │ <span style=\"color: #008080; text-decoration-color: #008080\">4.8</span> │ <span style=\"color: #008080; text-decoration-color: #008080\">6.2 </span> │ <span style=\"color: #008080; text-decoration-color: #008080\">8.0 </span> │ <span style=\"color: #008000; text-decoration-color: #008000\">▃▃▂███</span> │  │\n",
       "│ │ <span style=\"color: #af87ff; text-decoration-color: #af87ff\">num2   </span> │ <span style=\"color: #008080; text-decoration-color: #008080\">0.0     </span> │ <span style=\"color: #008080; text-decoration-color: #008080\">1.0           </span> │ <span style=\"color: #008080; text-decoration-color: #008080\">6.0  </span> │ <span style=\"color: #008080; text-decoration-color: #008080\">1.7</span> │ <span style=\"color: #008080; text-decoration-color: #008080\">3.0</span> │ <span style=\"color: #008080; text-decoration-color: #008080\">5.0</span> │ <span style=\"color: #008080; text-decoration-color: #008080\">7.2 </span> │ <span style=\"color: #008080; text-decoration-color: #008080\">9.0 </span> │ <span style=\"color: #008000; text-decoration-color: #008000\">▁▄█▃▄▇</span> │  │\n",
       "│ │ <span style=\"color: #af87ff; text-decoration-color: #af87ff\">num3   </span> │ <span style=\"color: #008080; text-decoration-color: #008080\">0.0     </span> │ <span style=\"color: #008080; text-decoration-color: #008080\">1.0           </span> │ <span style=\"color: #008080; text-decoration-color: #008080\">6.5  </span> │ <span style=\"color: #008080; text-decoration-color: #008080\">1.1</span> │ <span style=\"color: #008080; text-decoration-color: #008080\">5.0</span> │ <span style=\"color: #008080; text-decoration-color: #008080\">6.0</span> │ <span style=\"color: #008080; text-decoration-color: #008080\">7.0 </span> │ <span style=\"color: #008080; text-decoration-color: #008080\">9.0 </span> │ <span style=\"color: #008000; text-decoration-color: #008000\">▃█ ▅▃▁</span> │  │\n",
       "│ └─────────┴──────────┴────────────────┴───────┴─────┴─────┴─────┴──────┴──────┴────────┘  │\n",
       "╰─────────────────────────────────────────── End ───────────────────────────────────────────╯\n",
       "</pre>\n"
      ],
      "text/plain": [
       "╭───────────────────────────────────── skimpy summary ──────────────────────────────────────╮\n",
       "│ \u001b[3m         Data Summary         \u001b[0m \u001b[3m      Data Types       \u001b[0m                                    │\n",
       "│ ┏━━━━━━━━━━━━━━━━━━━┳━━━━━━━━┓ ┏━━━━━━━━━━━━━┳━━━━━━━┓                                    │\n",
       "│ ┃\u001b[1;36m \u001b[0m\u001b[1;36mdataframe        \u001b[0m\u001b[1;36m \u001b[0m┃\u001b[1;36m \u001b[0m\u001b[1;36mValues\u001b[0m\u001b[1;36m \u001b[0m┃ ┃\u001b[1;36m \u001b[0m\u001b[1;36mColumn Type\u001b[0m\u001b[1;36m \u001b[0m┃\u001b[1;36m \u001b[0m\u001b[1;36mCount\u001b[0m\u001b[1;36m \u001b[0m┃                                    │\n",
       "│ ┡━━━━━━━━━━━━━━━━━━━╇━━━━━━━━┩ ┡━━━━━━━━━━━━━╇━━━━━━━┩                                    │\n",
       "│ │ Number of rows    │ 20     │ │ int64       │ 3     │                                    │\n",
       "│ │ Number of columns │ 5      │ │ object      │ 1     │                                    │\n",
       "│ └───────────────────┴────────┘ │ float64     │ 1     │                                    │\n",
       "│                                └─────────────┴───────┘                                    │\n",
       "│ \u001b[3m                                         number                                         \u001b[0m  │\n",
       "│ ┏━━━━━━━━━┳━━━━━━━━━━┳━━━━━━━━━━━━━━━━┳━━━━━━━┳━━━━━┳━━━━━┳━━━━━┳━━━━━━┳━━━━━━┳━━━━━━━━┓  │\n",
       "│ ┃\u001b[1m \u001b[0m\u001b[1m       \u001b[0m\u001b[1m \u001b[0m┃\u001b[1m \u001b[0m\u001b[1mmissing \u001b[0m\u001b[1m \u001b[0m┃\u001b[1m \u001b[0m\u001b[1mcomplete rate \u001b[0m\u001b[1m \u001b[0m┃\u001b[1m \u001b[0m\u001b[1mmean \u001b[0m\u001b[1m \u001b[0m┃\u001b[1m \u001b[0m\u001b[1msd \u001b[0m\u001b[1m \u001b[0m┃\u001b[1m \u001b[0m\u001b[1mp0 \u001b[0m\u001b[1m \u001b[0m┃\u001b[1m \u001b[0m\u001b[1mp25\u001b[0m\u001b[1m \u001b[0m┃\u001b[1m \u001b[0m\u001b[1mp75 \u001b[0m\u001b[1m \u001b[0m┃\u001b[1m \u001b[0m\u001b[1mp100\u001b[0m\u001b[1m \u001b[0m┃\u001b[1m \u001b[0m\u001b[1mhist  \u001b[0m\u001b[1m \u001b[0m┃  │\n",
       "│ ┡━━━━━━━━━╇━━━━━━━━━━╇━━━━━━━━━━━━━━━━╇━━━━━━━╇━━━━━╇━━━━━╇━━━━━╇━━━━━━╇━━━━━━╇━━━━━━━━┩  │\n",
       "│ │ \u001b[38;5;141msubidr \u001b[0m │ \u001b[36m0.0     \u001b[0m │ \u001b[36m1.0           \u001b[0m │ \u001b[36m10.0 \u001b[0m │ \u001b[36m5.9\u001b[0m │ \u001b[36m1.0\u001b[0m │ \u001b[36m5.8\u001b[0m │ \u001b[36m15.0\u001b[0m │ \u001b[36m20.0\u001b[0m │ \u001b[32m█▆▆▆▆█\u001b[0m │  │\n",
       "│ │ \u001b[38;5;141mnum1   \u001b[0m │ \u001b[36m0.0     \u001b[0m │ \u001b[36m1.0           \u001b[0m │ \u001b[36m5.3  \u001b[0m │ \u001b[36m1.8\u001b[0m │ \u001b[36m2.0\u001b[0m │ \u001b[36m4.8\u001b[0m │ \u001b[36m6.2 \u001b[0m │ \u001b[36m8.0 \u001b[0m │ \u001b[32m▃▃▂███\u001b[0m │  │\n",
       "│ │ \u001b[38;5;141mnum2   \u001b[0m │ \u001b[36m0.0     \u001b[0m │ \u001b[36m1.0           \u001b[0m │ \u001b[36m6.0  \u001b[0m │ \u001b[36m1.7\u001b[0m │ \u001b[36m3.0\u001b[0m │ \u001b[36m5.0\u001b[0m │ \u001b[36m7.2 \u001b[0m │ \u001b[36m9.0 \u001b[0m │ \u001b[32m▁▄█▃▄▇\u001b[0m │  │\n",
       "│ │ \u001b[38;5;141mnum3   \u001b[0m │ \u001b[36m0.0     \u001b[0m │ \u001b[36m1.0           \u001b[0m │ \u001b[36m6.5  \u001b[0m │ \u001b[36m1.1\u001b[0m │ \u001b[36m5.0\u001b[0m │ \u001b[36m6.0\u001b[0m │ \u001b[36m7.0 \u001b[0m │ \u001b[36m9.0 \u001b[0m │ \u001b[32m▃█ ▅▃▁\u001b[0m │  │\n",
       "│ └─────────┴──────────┴────────────────┴───────┴─────┴─────┴─────┴──────┴──────┴────────┘  │\n",
       "╰─────────────────────────────────────────── End ───────────────────────────────────────────╯\n"
      ]
     },
     "metadata": {},
     "output_type": "display_data"
    }
   ],
   "source": [
    "skim(anagrams)"
   ]
  },
  {
   "cell_type": "code",
   "execution_count": 10,
   "id": "0c6b9e5c-a2c3-446e-b726-2c5fd99b92f8",
   "metadata": {},
   "outputs": [
    {
     "data": {
      "text/html": [
       "<div>\n",
       "<style scoped>\n",
       "    .dataframe tbody tr th:only-of-type {\n",
       "        vertical-align: middle;\n",
       "    }\n",
       "\n",
       "    .dataframe tbody tr th {\n",
       "        vertical-align: top;\n",
       "    }\n",
       "\n",
       "    .dataframe thead th {\n",
       "        text-align: right;\n",
       "    }\n",
       "</style>\n",
       "<table border=\"1\" class=\"dataframe\">\n",
       "  <thead>\n",
       "    <tr style=\"text-align: right;\">\n",
       "      <th></th>\n",
       "      <th>subidr</th>\n",
       "      <th>attnr</th>\n",
       "      <th>num1</th>\n",
       "      <th>num2</th>\n",
       "      <th>num3</th>\n",
       "    </tr>\n",
       "  </thead>\n",
       "  <tbody>\n",
       "    <tr>\n",
       "      <th>0</th>\n",
       "      <td>1</td>\n",
       "      <td>divided</td>\n",
       "      <td>2</td>\n",
       "      <td>4.0</td>\n",
       "      <td>7</td>\n",
       "    </tr>\n",
       "    <tr>\n",
       "      <th>1</th>\n",
       "      <td>2</td>\n",
       "      <td>divided</td>\n",
       "      <td>3</td>\n",
       "      <td>4.0</td>\n",
       "      <td>5</td>\n",
       "    </tr>\n",
       "    <tr>\n",
       "      <th>2</th>\n",
       "      <td>3</td>\n",
       "      <td>divided</td>\n",
       "      <td>3</td>\n",
       "      <td>5.0</td>\n",
       "      <td>6</td>\n",
       "    </tr>\n",
       "    <tr>\n",
       "      <th>3</th>\n",
       "      <td>4</td>\n",
       "      <td>divided</td>\n",
       "      <td>5</td>\n",
       "      <td>7.0</td>\n",
       "      <td>5</td>\n",
       "    </tr>\n",
       "    <tr>\n",
       "      <th>4</th>\n",
       "      <td>5</td>\n",
       "      <td>divided</td>\n",
       "      <td>4</td>\n",
       "      <td>5.0</td>\n",
       "      <td>8</td>\n",
       "    </tr>\n",
       "  </tbody>\n",
       "</table>\n",
       "</div>"
      ],
      "text/plain": [
       "   subidr    attnr  num1  num2  num3\n",
       "0       1  divided     2   4.0     7\n",
       "1       2  divided     3   4.0     5\n",
       "2       3  divided     3   5.0     6\n",
       "3       4  divided     5   7.0     5\n",
       "4       5  divided     4   5.0     8"
      ]
     },
     "execution_count": 10,
     "metadata": {},
     "output_type": "execute_result"
    }
   ],
   "source": [
    "anagrams.head()"
   ]
  },
  {
   "cell_type": "markdown",
   "id": "5f6b614d-2b6d-4515-9322-2746670e1410",
   "metadata": {},
   "source": [
    "# anscombe <a class=\"anchor\" id=\"skimpy_anscombe\"></a>\n",
    "[Back to Top](#skimpy_toc)"
   ]
  },
  {
   "cell_type": "code",
   "execution_count": 11,
   "id": "60ca51eb-54cc-4687-84ec-e6bd0e25e3fd",
   "metadata": {},
   "outputs": [],
   "source": [
    "anscombe = sns.load_dataset(\"anscombe\")"
   ]
  },
  {
   "cell_type": "code",
   "execution_count": 12,
   "id": "67d9fcc7-1e14-40c0-a90f-3b4e6cc18b93",
   "metadata": {},
   "outputs": [
    {
     "data": {
      "text/html": [
       "<pre style=\"white-space:pre;overflow-x:auto;line-height:normal;font-family:Menlo,'DejaVu Sans Mono',consolas,'Courier New',monospace\">╭───────────────────────────────────── skimpy summary ──────────────────────────────────────╮\n",
       "│ <span style=\"font-style: italic\">         Data Summary         </span> <span style=\"font-style: italic\">      Data Types       </span>                                    │\n",
       "│ ┏━━━━━━━━━━━━━━━━━━━┳━━━━━━━━┓ ┏━━━━━━━━━━━━━┳━━━━━━━┓                                    │\n",
       "│ ┃<span style=\"color: #008080; text-decoration-color: #008080; font-weight: bold\"> dataframe         </span>┃<span style=\"color: #008080; text-decoration-color: #008080; font-weight: bold\"> Values </span>┃ ┃<span style=\"color: #008080; text-decoration-color: #008080; font-weight: bold\"> Column Type </span>┃<span style=\"color: #008080; text-decoration-color: #008080; font-weight: bold\"> Count </span>┃                                    │\n",
       "│ ┡━━━━━━━━━━━━━━━━━━━╇━━━━━━━━┩ ┡━━━━━━━━━━━━━╇━━━━━━━┩                                    │\n",
       "│ │ Number of rows    │ 44     │ │ float64     │ 2     │                                    │\n",
       "│ │ Number of columns │ 3      │ │ object      │ 1     │                                    │\n",
       "│ └───────────────────┴────────┘ └─────────────┴───────┘                                    │\n",
       "│ <span style=\"font-style: italic\">                                         number                                         </span>  │\n",
       "│ ┏━━━━┳━━━━━━━━━━━┳━━━━━━━━━━━━━━━━━┳━━━━━━━┳━━━━━━┳━━━━━━┳━━━━━━┳━━━━━━┳━━━━━━┳━━━━━━━━┓  │\n",
       "│ ┃<span style=\"font-weight: bold\">    </span>┃<span style=\"font-weight: bold\"> missing   </span>┃<span style=\"font-weight: bold\"> complete rate   </span>┃<span style=\"font-weight: bold\"> mean  </span>┃<span style=\"font-weight: bold\"> sd   </span>┃<span style=\"font-weight: bold\"> p0   </span>┃<span style=\"font-weight: bold\"> p25  </span>┃<span style=\"font-weight: bold\"> p75  </span>┃<span style=\"font-weight: bold\"> p100 </span>┃<span style=\"font-weight: bold\"> hist   </span>┃  │\n",
       "│ ┡━━━━╇━━━━━━━━━━━╇━━━━━━━━━━━━━━━━━╇━━━━━━━╇━━━━━━╇━━━━━━╇━━━━━━╇━━━━━━╇━━━━━━╇━━━━━━━━┩  │\n",
       "│ │ <span style=\"color: #af87ff; text-decoration-color: #af87ff\">x </span> │ <span style=\"color: #008080; text-decoration-color: #008080\">0.0      </span> │ <span style=\"color: #008080; text-decoration-color: #008080\">1.0            </span> │ <span style=\"color: #008080; text-decoration-color: #008080\">9.0  </span> │ <span style=\"color: #008080; text-decoration-color: #008080\">3.2 </span> │ <span style=\"color: #008080; text-decoration-color: #008080\">4.0 </span> │ <span style=\"color: #008080; text-decoration-color: #008080\">7.0 </span> │ <span style=\"color: #008080; text-decoration-color: #008080\">11.0</span> │ <span style=\"color: #008080; text-decoration-color: #008080\">19.0</span> │ <span style=\"color: #008000; text-decoration-color: #008000\">▄█▄▃▁ </span> │  │\n",
       "│ │ <span style=\"color: #af87ff; text-decoration-color: #af87ff\">y </span> │ <span style=\"color: #008080; text-decoration-color: #008080\">0.0      </span> │ <span style=\"color: #008080; text-decoration-color: #008080\">1.0            </span> │ <span style=\"color: #008080; text-decoration-color: #008080\">7.5  </span> │ <span style=\"color: #008080; text-decoration-color: #008080\">2.0 </span> │ <span style=\"color: #008080; text-decoration-color: #008080\">3.1 </span> │ <span style=\"color: #008080; text-decoration-color: #008080\">6.1 </span> │ <span style=\"color: #008080; text-decoration-color: #008080\">8.7 </span> │ <span style=\"color: #008080; text-decoration-color: #008080\">13.0</span> │ <span style=\"color: #008000; text-decoration-color: #008000\">▁▆██▁▁</span> │  │\n",
       "│ └────┴───────────┴─────────────────┴───────┴──────┴──────┴──────┴──────┴──────┴────────┘  │\n",
       "╰─────────────────────────────────────────── End ───────────────────────────────────────────╯\n",
       "</pre>\n"
      ],
      "text/plain": [
       "╭───────────────────────────────────── skimpy summary ──────────────────────────────────────╮\n",
       "│ \u001b[3m         Data Summary         \u001b[0m \u001b[3m      Data Types       \u001b[0m                                    │\n",
       "│ ┏━━━━━━━━━━━━━━━━━━━┳━━━━━━━━┓ ┏━━━━━━━━━━━━━┳━━━━━━━┓                                    │\n",
       "│ ┃\u001b[1;36m \u001b[0m\u001b[1;36mdataframe        \u001b[0m\u001b[1;36m \u001b[0m┃\u001b[1;36m \u001b[0m\u001b[1;36mValues\u001b[0m\u001b[1;36m \u001b[0m┃ ┃\u001b[1;36m \u001b[0m\u001b[1;36mColumn Type\u001b[0m\u001b[1;36m \u001b[0m┃\u001b[1;36m \u001b[0m\u001b[1;36mCount\u001b[0m\u001b[1;36m \u001b[0m┃                                    │\n",
       "│ ┡━━━━━━━━━━━━━━━━━━━╇━━━━━━━━┩ ┡━━━━━━━━━━━━━╇━━━━━━━┩                                    │\n",
       "│ │ Number of rows    │ 44     │ │ float64     │ 2     │                                    │\n",
       "│ │ Number of columns │ 3      │ │ object      │ 1     │                                    │\n",
       "│ └───────────────────┴────────┘ └─────────────┴───────┘                                    │\n",
       "│ \u001b[3m                                         number                                         \u001b[0m  │\n",
       "│ ┏━━━━┳━━━━━━━━━━━┳━━━━━━━━━━━━━━━━━┳━━━━━━━┳━━━━━━┳━━━━━━┳━━━━━━┳━━━━━━┳━━━━━━┳━━━━━━━━┓  │\n",
       "│ ┃\u001b[1m \u001b[0m\u001b[1m  \u001b[0m\u001b[1m \u001b[0m┃\u001b[1m \u001b[0m\u001b[1mmissing  \u001b[0m\u001b[1m \u001b[0m┃\u001b[1m \u001b[0m\u001b[1mcomplete rate  \u001b[0m\u001b[1m \u001b[0m┃\u001b[1m \u001b[0m\u001b[1mmean \u001b[0m\u001b[1m \u001b[0m┃\u001b[1m \u001b[0m\u001b[1msd  \u001b[0m\u001b[1m \u001b[0m┃\u001b[1m \u001b[0m\u001b[1mp0  \u001b[0m\u001b[1m \u001b[0m┃\u001b[1m \u001b[0m\u001b[1mp25 \u001b[0m\u001b[1m \u001b[0m┃\u001b[1m \u001b[0m\u001b[1mp75 \u001b[0m\u001b[1m \u001b[0m┃\u001b[1m \u001b[0m\u001b[1mp100\u001b[0m\u001b[1m \u001b[0m┃\u001b[1m \u001b[0m\u001b[1mhist  \u001b[0m\u001b[1m \u001b[0m┃  │\n",
       "│ ┡━━━━╇━━━━━━━━━━━╇━━━━━━━━━━━━━━━━━╇━━━━━━━╇━━━━━━╇━━━━━━╇━━━━━━╇━━━━━━╇━━━━━━╇━━━━━━━━┩  │\n",
       "│ │ \u001b[38;5;141mx \u001b[0m │ \u001b[36m0.0      \u001b[0m │ \u001b[36m1.0            \u001b[0m │ \u001b[36m9.0  \u001b[0m │ \u001b[36m3.2 \u001b[0m │ \u001b[36m4.0 \u001b[0m │ \u001b[36m7.0 \u001b[0m │ \u001b[36m11.0\u001b[0m │ \u001b[36m19.0\u001b[0m │ \u001b[32m▄█▄▃▁ \u001b[0m │  │\n",
       "│ │ \u001b[38;5;141my \u001b[0m │ \u001b[36m0.0      \u001b[0m │ \u001b[36m1.0            \u001b[0m │ \u001b[36m7.5  \u001b[0m │ \u001b[36m2.0 \u001b[0m │ \u001b[36m3.1 \u001b[0m │ \u001b[36m6.1 \u001b[0m │ \u001b[36m8.7 \u001b[0m │ \u001b[36m13.0\u001b[0m │ \u001b[32m▁▆██▁▁\u001b[0m │  │\n",
       "│ └────┴───────────┴─────────────────┴───────┴──────┴──────┴──────┴──────┴──────┴────────┘  │\n",
       "╰─────────────────────────────────────────── End ───────────────────────────────────────────╯\n"
      ]
     },
     "metadata": {},
     "output_type": "display_data"
    }
   ],
   "source": [
    "skim(anscombe)"
   ]
  },
  {
   "cell_type": "code",
   "execution_count": null,
   "id": "ee660b8f-2b75-4e73-8af3-0a1a416c84e4",
   "metadata": {},
   "outputs": [],
   "source": [
    "anscombe.head()"
   ]
  },
  {
   "cell_type": "markdown",
   "id": "bd41c62e-476f-4bad-bd83-bec89005d4f2",
   "metadata": {},
   "source": [
    "# attention <a class=\"anchor\" id=\"skimpy_attention\"></a>\n",
    "[Back to Top](#skimpy_toc)"
   ]
  },
  {
   "cell_type": "code",
   "execution_count": null,
   "id": "95b6364d-52cb-47b7-8767-dad671e9b194",
   "metadata": {},
   "outputs": [],
   "source": [
    "attention = sns.load_dataset(\"attention\")"
   ]
  },
  {
   "cell_type": "code",
   "execution_count": null,
   "id": "807996e2-4e76-4463-9a87-11aade6f072f",
   "metadata": {},
   "outputs": [],
   "source": [
    "attention.describe()"
   ]
  },
  {
   "cell_type": "code",
   "execution_count": null,
   "id": "f7078520-d885-4171-b15e-d242e87aac2b",
   "metadata": {},
   "outputs": [],
   "source": [
    "skim(attention)"
   ]
  },
  {
   "cell_type": "markdown",
   "id": "6526ea2b-b8ef-433f-8e6a-266d5182c37a",
   "metadata": {},
   "source": [
    "# brain_networks <a class=\"anchor\" id=\"skimpy_brain_networks\"></a>\n",
    "[Back to Top](#skimpy_toc)"
   ]
  },
  {
   "cell_type": "code",
   "execution_count": null,
   "id": "b48e61d6-8596-4d15-a844-d1661dc95bce",
   "metadata": {},
   "outputs": [],
   "source": [
    "brain_networks = sns.load_dataset(\"brain_networks\")"
   ]
  },
  {
   "cell_type": "code",
   "execution_count": null,
   "id": "2e346651-8ec1-4a41-a29c-888ea4983647",
   "metadata": {},
   "outputs": [],
   "source": [
    "brain_networks.describe()"
   ]
  },
  {
   "cell_type": "code",
   "execution_count": null,
   "id": "f3c6faea-8ec0-49be-b269-610a36dcc4f1",
   "metadata": {},
   "outputs": [],
   "source": [
    "# error\n",
    "#skim(brain_networks)"
   ]
  },
  {
   "cell_type": "markdown",
   "id": "d3cfda19-fcef-4d32-ab04-3ab0113b17a7",
   "metadata": {},
   "source": [
    "# car_crashes <a class=\"anchor\" id=\"skimpy_car_crashes\"></a>\n",
    "[Back to Top](#skimpy_toc)"
   ]
  },
  {
   "cell_type": "code",
   "execution_count": null,
   "id": "d1a1c3a2-34e3-476b-a1c1-d6fad9333230",
   "metadata": {},
   "outputs": [],
   "source": [
    "car_crashes = sns.load_dataset(\"car_crashes\")"
   ]
  },
  {
   "cell_type": "code",
   "execution_count": null,
   "id": "0b1296fb-e9ab-4739-a11c-d68814ee7d0e",
   "metadata": {},
   "outputs": [],
   "source": [
    "car_crashes.describe()"
   ]
  },
  {
   "cell_type": "code",
   "execution_count": null,
   "id": "c6996b2d-aa8c-4138-9b6d-803df9392e70",
   "metadata": {},
   "outputs": [],
   "source": [
    "skim(car_crashes)"
   ]
  },
  {
   "cell_type": "markdown",
   "id": "ece0f245-fc83-4b59-87e3-e18e92657cc5",
   "metadata": {},
   "source": [
    "# diamonds <a class=\"anchor\" id=\"skimpy_diamonds\"></a>\n",
    "[Back to Top](#skimpy_toc)"
   ]
  },
  {
   "cell_type": "code",
   "execution_count": null,
   "id": "c986e6e5-1c6a-4e73-a64e-dc047b594a2a",
   "metadata": {
    "tags": []
   },
   "outputs": [],
   "source": [
    "diamonds = sns.load_dataset(\"diamonds\")"
   ]
  },
  {
   "cell_type": "code",
   "execution_count": null,
   "id": "3cd9fd4c-49d1-465d-b4e7-bf2296379121",
   "metadata": {
    "tags": []
   },
   "outputs": [],
   "source": [
    "diamonds.describe()"
   ]
  },
  {
   "cell_type": "code",
   "execution_count": null,
   "id": "1ac890a3-8558-492b-b807-0e7072a163d5",
   "metadata": {
    "tags": []
   },
   "outputs": [],
   "source": [
    "skim(diamonds)"
   ]
  },
  {
   "cell_type": "markdown",
   "id": "4f8ad942-d82a-4547-912f-4a7884a5e90a",
   "metadata": {},
   "source": [
    "# dots <a class=\"anchor\" id=\"skimpy_dots\"></a>\n",
    "[Back to Top](#skimpy_toc)"
   ]
  },
  {
   "cell_type": "code",
   "execution_count": null,
   "id": "e0b054eb-2e61-483c-b7c5-9dcde72c9327",
   "metadata": {
    "tags": []
   },
   "outputs": [],
   "source": [
    "dots = sns.load_dataset(\"dots\")"
   ]
  },
  {
   "cell_type": "code",
   "execution_count": null,
   "id": "67f23044-b504-42ef-8c0e-d313ea3e3863",
   "metadata": {
    "tags": []
   },
   "outputs": [],
   "source": [
    "dots.describe()"
   ]
  },
  {
   "cell_type": "code",
   "execution_count": null,
   "id": "b11466c7-0ef4-4261-84ce-eed119933f07",
   "metadata": {
    "tags": []
   },
   "outputs": [],
   "source": [
    "skim(dots)"
   ]
  },
  {
   "cell_type": "markdown",
   "id": "c28837a2-4ae3-4c72-9092-72b7d17c1919",
   "metadata": {},
   "source": [
    "# exercise <a class=\"anchor\" id=\"skimpy_exercise\"></a>\n",
    "[Back to Top](#skimpy_toc)"
   ]
  },
  {
   "cell_type": "code",
   "execution_count": null,
   "id": "adf173e8-35ad-4928-bdf9-67e355d0a1f2",
   "metadata": {},
   "outputs": [],
   "source": [
    "exercise = sns.load_dataset(\"exercise\")"
   ]
  },
  {
   "cell_type": "code",
   "execution_count": null,
   "id": "59861826-85b7-4574-96e8-722cb54b2a8a",
   "metadata": {},
   "outputs": [],
   "source": [
    "exercise.describe()"
   ]
  },
  {
   "cell_type": "code",
   "execution_count": null,
   "id": "6447b141-3358-43d9-ae00-f747ac1b6e46",
   "metadata": {},
   "outputs": [],
   "source": [
    "skim(exercise)"
   ]
  },
  {
   "cell_type": "markdown",
   "id": "69cddd59-854e-44cd-96e7-ad8ff86eda6e",
   "metadata": {},
   "source": [
    "# flights <a class=\"anchor\" id=\"skimpy_flights\"></a>\n",
    "[Back to Top](#skimpy_toc)"
   ]
  },
  {
   "cell_type": "code",
   "execution_count": null,
   "id": "2ed16c10-35b8-474e-9c4d-604276bc727a",
   "metadata": {},
   "outputs": [],
   "source": [
    "flights = sns.load_dataset(\"flights\")"
   ]
  },
  {
   "cell_type": "code",
   "execution_count": null,
   "id": "bf833dfc-ecc6-4a8a-b915-24c77c5909e1",
   "metadata": {},
   "outputs": [],
   "source": [
    "flights.describe()"
   ]
  },
  {
   "cell_type": "code",
   "execution_count": null,
   "id": "6c46982a-f000-421c-bd3d-3882615f9a19",
   "metadata": {},
   "outputs": [],
   "source": [
    "skim(flights)"
   ]
  },
  {
   "cell_type": "code",
   "execution_count": null,
   "id": "fda6f059-022b-4965-96af-1687ccd4b77f",
   "metadata": {},
   "outputs": [],
   "source": [
    "flights.head()"
   ]
  },
  {
   "cell_type": "code",
   "execution_count": null,
   "id": "774c7047-27b5-4462-b8a6-4b6b2ad7e164",
   "metadata": {},
   "outputs": [],
   "source": [
    "flights.tail()"
   ]
  },
  {
   "cell_type": "markdown",
   "id": "95ad1edb-bf02-40c5-96ff-223b2fbb9e44",
   "metadata": {},
   "source": [
    "# fmri <a class=\"anchor\" id=\"skimpy_fmri\"></a>\n",
    "[Back to Top](#skimpy_toc)"
   ]
  },
  {
   "cell_type": "code",
   "execution_count": null,
   "id": "4db934e5-f5d7-4224-ad79-f5fb235e8310",
   "metadata": {},
   "outputs": [],
   "source": [
    "fmri = sns.load_dataset(\"fmri\")"
   ]
  },
  {
   "cell_type": "code",
   "execution_count": null,
   "id": "25338712-1cf3-4b8f-9573-f8299241b71e",
   "metadata": {},
   "outputs": [],
   "source": [
    "fmri.describe()"
   ]
  },
  {
   "cell_type": "code",
   "execution_count": null,
   "id": "bcce398f-a59d-4c88-8b10-38b3e00a1092",
   "metadata": {},
   "outputs": [],
   "source": [
    "skim(fmri)"
   ]
  },
  {
   "cell_type": "markdown",
   "id": "239c998b-3181-4731-ae4a-b6bccf790d62",
   "metadata": {},
   "source": [
    "# gammas <a class=\"anchor\" id=\"skimpy_gammas\"></a>\n",
    "[Back to Top](#skimpy_toc)"
   ]
  },
  {
   "cell_type": "code",
   "execution_count": null,
   "id": "1498d388-f961-4eb3-8995-98d2d17e64ab",
   "metadata": {},
   "outputs": [],
   "source": [
    "gammas  = sns.load_dataset(\"gammas\")"
   ]
  },
  {
   "cell_type": "code",
   "execution_count": null,
   "id": "a2187f75-a76d-4deb-baf0-ec87331542b2",
   "metadata": {},
   "outputs": [],
   "source": [
    "gammas.describe()"
   ]
  },
  {
   "cell_type": "code",
   "execution_count": null,
   "id": "23ab8de8-11af-4e70-91de-1fde84bf0791",
   "metadata": {},
   "outputs": [],
   "source": [
    "skim(gammas)"
   ]
  },
  {
   "cell_type": "markdown",
   "id": "24eedde5-bb44-4b67-9189-c3ea8c6d6991",
   "metadata": {},
   "source": [
    "# geyser <a class=\"anchor\" id=\"skimpy_geyser\"></a>\n",
    "[Back to Top](#skimpy_toc)"
   ]
  },
  {
   "cell_type": "code",
   "execution_count": null,
   "id": "e61d9f5d-bee5-4af9-97f0-4be6d3139864",
   "metadata": {},
   "outputs": [],
   "source": [
    "geyser = sns.load_dataset(\"geyser\")"
   ]
  },
  {
   "cell_type": "code",
   "execution_count": null,
   "id": "9e14b71e-3016-44f8-a6e6-1ac8c1558995",
   "metadata": {},
   "outputs": [],
   "source": [
    "geyser.describe()"
   ]
  },
  {
   "cell_type": "code",
   "execution_count": null,
   "id": "bef8489e-7899-44e5-a901-6bc0876c85c4",
   "metadata": {},
   "outputs": [],
   "source": [
    "skim(geyser)"
   ]
  },
  {
   "cell_type": "markdown",
   "id": "2beba0aa-bdde-4f7e-983b-98d193a5caaa",
   "metadata": {},
   "source": [
    "# iris <a class=\"anchor\" id=\"skimpy_iris\"></a>\n",
    "[Back to Top](#skimpy_toc)"
   ]
  },
  {
   "cell_type": "code",
   "execution_count": null,
   "id": "0066f6ab-9ad1-41c2-b6af-d85822027249",
   "metadata": {},
   "outputs": [],
   "source": [
    "iris = sns.load_dataset(\"iris\")"
   ]
  },
  {
   "cell_type": "code",
   "execution_count": null,
   "id": "ccfab3fc-87af-4ed6-8f1f-8172ca674b0c",
   "metadata": {},
   "outputs": [],
   "source": [
    "iris.describe()"
   ]
  },
  {
   "cell_type": "code",
   "execution_count": null,
   "id": "388b4ae5-8872-4134-a22b-59dd65f2be54",
   "metadata": {},
   "outputs": [],
   "source": [
    "skim(iris)"
   ]
  },
  {
   "cell_type": "markdown",
   "id": "d00a6a91-afa0-4150-b3a1-25d06ad06f3b",
   "metadata": {},
   "source": [
    "# mpg <a class=\"anchor\" id=\"skimpy_mpg\"></a>\n",
    "[Back to Top](#skimpy_toc)"
   ]
  },
  {
   "cell_type": "code",
   "execution_count": null,
   "id": "c51da51d-ec12-461b-8c13-cf6714b645ff",
   "metadata": {},
   "outputs": [],
   "source": [
    "mpg = sns.load_dataset(\"mpg\")"
   ]
  },
  {
   "cell_type": "code",
   "execution_count": null,
   "id": "ddc50457-7050-4679-9e7b-dfa6a9e4fa84",
   "metadata": {},
   "outputs": [],
   "source": [
    "mpg.describe()"
   ]
  },
  {
   "cell_type": "code",
   "execution_count": null,
   "id": "fa3308f6-e5bd-4c2d-b146-0770f9251a17",
   "metadata": {},
   "outputs": [],
   "source": [
    "skim(mpg)"
   ]
  },
  {
   "cell_type": "markdown",
   "id": "6cecc4e8-3433-4cb6-b3ac-44575d1e926c",
   "metadata": {},
   "source": [
    "# penguins <a class=\"anchor\" id=\"skimpy_penguins\"></a>\n",
    "[Back to Top](#skimpy_toc)"
   ]
  },
  {
   "cell_type": "code",
   "execution_count": null,
   "id": "8432f226-909e-4192-82a0-3dd38501183e",
   "metadata": {},
   "outputs": [],
   "source": [
    "penguins = sns.load_dataset(\"penguins\")"
   ]
  },
  {
   "cell_type": "code",
   "execution_count": null,
   "id": "4b12cfa7-e0a9-4c7b-a723-04a41731a1ef",
   "metadata": {},
   "outputs": [],
   "source": [
    "penguins.describe()"
   ]
  },
  {
   "cell_type": "code",
   "execution_count": null,
   "id": "b9e26ec2-407d-406a-b798-079a7461c88c",
   "metadata": {},
   "outputs": [],
   "source": [
    "skim(penguins)"
   ]
  },
  {
   "cell_type": "markdown",
   "id": "fa414595-aac6-4a22-8a03-6d11eba35f14",
   "metadata": {},
   "source": [
    "# planets <a class=\"anchor\" id=\"skimpy_planets\"></a>\n",
    "[Back to Top](#skimpy_toc)"
   ]
  },
  {
   "cell_type": "code",
   "execution_count": null,
   "id": "8fa657de-9650-4940-b2d7-4c18321dba2e",
   "metadata": {},
   "outputs": [],
   "source": [
    "planets = sns.load_dataset(\"planets\")"
   ]
  },
  {
   "cell_type": "code",
   "execution_count": null,
   "id": "579d6248-9f73-4aff-875a-35f98b3fefd9",
   "metadata": {},
   "outputs": [],
   "source": [
    "planets.describe()"
   ]
  },
  {
   "cell_type": "code",
   "execution_count": null,
   "id": "44def2fe-de9f-48a7-bee9-af39547fdd4e",
   "metadata": {},
   "outputs": [],
   "source": [
    "skim(planets)"
   ]
  },
  {
   "cell_type": "markdown",
   "id": "a2c4a683-70a4-4d6c-9e8e-73a362f11130",
   "metadata": {},
   "source": [
    "# taxis <a class=\"anchor\" id=\"skimpy_taxis\"></a>\n",
    "[Back to Top](#skimpy_toc)"
   ]
  },
  {
   "cell_type": "code",
   "execution_count": null,
   "id": "e65a4cac-f2bb-41e3-b5af-9c1a0fad0abc",
   "metadata": {},
   "outputs": [],
   "source": [
    "taxis = sns.load_dataset(\"taxis\")"
   ]
  },
  {
   "cell_type": "code",
   "execution_count": null,
   "id": "2d1dbe2b-4b68-438e-95c6-3411a7711c76",
   "metadata": {},
   "outputs": [],
   "source": [
    "taxis.describe()"
   ]
  },
  {
   "cell_type": "code",
   "execution_count": null,
   "id": "5094e347-151f-4cfa-832a-57d3bfcc9c15",
   "metadata": {},
   "outputs": [],
   "source": [
    "skim(taxis)"
   ]
  },
  {
   "cell_type": "markdown",
   "id": "239669f7-3554-437e-a0e5-ffc24b54d53b",
   "metadata": {},
   "source": [
    "# tips <a class=\"anchor\" id=\"skimpy_tips\"></a>\n",
    "[Back to Top](#skimpy_toc)"
   ]
  },
  {
   "cell_type": "code",
   "execution_count": null,
   "id": "3c11ebab-d043-4a33-a7fc-6a443f319257",
   "metadata": {},
   "outputs": [],
   "source": [
    "tips = sns.load_dataset(\"tips\")"
   ]
  },
  {
   "cell_type": "code",
   "execution_count": null,
   "id": "193a53c5-349f-4061-aef6-67358d8f34ba",
   "metadata": {},
   "outputs": [],
   "source": [
    "tips.describe()"
   ]
  },
  {
   "cell_type": "code",
   "execution_count": null,
   "id": "cf15b1bd-1dc8-4eaa-bd42-a2104a8cf85b",
   "metadata": {},
   "outputs": [],
   "source": [
    "skim(tips)"
   ]
  },
  {
   "cell_type": "markdown",
   "id": "51e9782c-7bf2-4ac9-a420-0b6713a8cef9",
   "metadata": {},
   "source": [
    "# titanic <a class=\"anchor\" id=\"skimpy_titanic\"></a>\n",
    "[Back to Top](#skimpy_toc)"
   ]
  },
  {
   "cell_type": "code",
   "execution_count": 13,
   "id": "a31cc3ae-f83d-448f-80da-8a4c7d20270c",
   "metadata": {},
   "outputs": [],
   "source": [
    "titanic = sns.load_dataset(\"titanic\")"
   ]
  },
  {
   "cell_type": "code",
   "execution_count": 14,
   "id": "80e534e2-46a3-43d2-a92b-3194d4157965",
   "metadata": {},
   "outputs": [
    {
     "data": {
      "text/html": [
       "<div>\n",
       "<style scoped>\n",
       "    .dataframe tbody tr th:only-of-type {\n",
       "        vertical-align: middle;\n",
       "    }\n",
       "\n",
       "    .dataframe tbody tr th {\n",
       "        vertical-align: top;\n",
       "    }\n",
       "\n",
       "    .dataframe thead th {\n",
       "        text-align: right;\n",
       "    }\n",
       "</style>\n",
       "<table border=\"1\" class=\"dataframe\">\n",
       "  <thead>\n",
       "    <tr style=\"text-align: right;\">\n",
       "      <th></th>\n",
       "      <th>survived</th>\n",
       "      <th>pclass</th>\n",
       "      <th>age</th>\n",
       "      <th>sibsp</th>\n",
       "      <th>parch</th>\n",
       "      <th>fare</th>\n",
       "    </tr>\n",
       "  </thead>\n",
       "  <tbody>\n",
       "    <tr>\n",
       "      <th>count</th>\n",
       "      <td>891.000000</td>\n",
       "      <td>891.000000</td>\n",
       "      <td>714.000000</td>\n",
       "      <td>891.000000</td>\n",
       "      <td>891.000000</td>\n",
       "      <td>891.000000</td>\n",
       "    </tr>\n",
       "    <tr>\n",
       "      <th>mean</th>\n",
       "      <td>0.383838</td>\n",
       "      <td>2.308642</td>\n",
       "      <td>29.699118</td>\n",
       "      <td>0.523008</td>\n",
       "      <td>0.381594</td>\n",
       "      <td>32.204208</td>\n",
       "    </tr>\n",
       "    <tr>\n",
       "      <th>std</th>\n",
       "      <td>0.486592</td>\n",
       "      <td>0.836071</td>\n",
       "      <td>14.526497</td>\n",
       "      <td>1.102743</td>\n",
       "      <td>0.806057</td>\n",
       "      <td>49.693429</td>\n",
       "    </tr>\n",
       "    <tr>\n",
       "      <th>min</th>\n",
       "      <td>0.000000</td>\n",
       "      <td>1.000000</td>\n",
       "      <td>0.420000</td>\n",
       "      <td>0.000000</td>\n",
       "      <td>0.000000</td>\n",
       "      <td>0.000000</td>\n",
       "    </tr>\n",
       "    <tr>\n",
       "      <th>25%</th>\n",
       "      <td>0.000000</td>\n",
       "      <td>2.000000</td>\n",
       "      <td>20.125000</td>\n",
       "      <td>0.000000</td>\n",
       "      <td>0.000000</td>\n",
       "      <td>7.910400</td>\n",
       "    </tr>\n",
       "    <tr>\n",
       "      <th>50%</th>\n",
       "      <td>0.000000</td>\n",
       "      <td>3.000000</td>\n",
       "      <td>28.000000</td>\n",
       "      <td>0.000000</td>\n",
       "      <td>0.000000</td>\n",
       "      <td>14.454200</td>\n",
       "    </tr>\n",
       "    <tr>\n",
       "      <th>75%</th>\n",
       "      <td>1.000000</td>\n",
       "      <td>3.000000</td>\n",
       "      <td>38.000000</td>\n",
       "      <td>1.000000</td>\n",
       "      <td>0.000000</td>\n",
       "      <td>31.000000</td>\n",
       "    </tr>\n",
       "    <tr>\n",
       "      <th>max</th>\n",
       "      <td>1.000000</td>\n",
       "      <td>3.000000</td>\n",
       "      <td>80.000000</td>\n",
       "      <td>8.000000</td>\n",
       "      <td>6.000000</td>\n",
       "      <td>512.329200</td>\n",
       "    </tr>\n",
       "  </tbody>\n",
       "</table>\n",
       "</div>"
      ],
      "text/plain": [
       "         survived      pclass         age       sibsp       parch        fare\n",
       "count  891.000000  891.000000  714.000000  891.000000  891.000000  891.000000\n",
       "mean     0.383838    2.308642   29.699118    0.523008    0.381594   32.204208\n",
       "std      0.486592    0.836071   14.526497    1.102743    0.806057   49.693429\n",
       "min      0.000000    1.000000    0.420000    0.000000    0.000000    0.000000\n",
       "25%      0.000000    2.000000   20.125000    0.000000    0.000000    7.910400\n",
       "50%      0.000000    3.000000   28.000000    0.000000    0.000000   14.454200\n",
       "75%      1.000000    3.000000   38.000000    1.000000    0.000000   31.000000\n",
       "max      1.000000    3.000000   80.000000    8.000000    6.000000  512.329200"
      ]
     },
     "execution_count": 14,
     "metadata": {},
     "output_type": "execute_result"
    }
   ],
   "source": [
    "titanic.describe()"
   ]
  },
  {
   "cell_type": "code",
   "execution_count": 15,
   "id": "0cf527e7-11a3-4819-a9f3-d403f3336f2e",
   "metadata": {},
   "outputs": [
    {
     "data": {
      "text/html": [
       "<pre style=\"white-space:pre;overflow-x:auto;line-height:normal;font-family:Menlo,'DejaVu Sans Mono',consolas,'Courier New',monospace\">╭───────────────────────────────────── skimpy summary ──────────────────────────────────────╮\n",
       "│ <span style=\"font-style: italic\">         Data Summary         </span> <span style=\"font-style: italic\">      Data Types       </span> <span style=\"font-style: italic\">       Categories        </span>          │\n",
       "│ ┏━━━━━━━━━━━━━━━━━━━┳━━━━━━━━┓ ┏━━━━━━━━━━━━━┳━━━━━━━┓ ┏━━━━━━━━━━━━━━━━━━━━━━━┓          │\n",
       "│ ┃<span style=\"color: #008080; text-decoration-color: #008080; font-weight: bold\"> dataframe         </span>┃<span style=\"color: #008080; text-decoration-color: #008080; font-weight: bold\"> Values </span>┃ ┃<span style=\"color: #008080; text-decoration-color: #008080; font-weight: bold\"> Column Type </span>┃<span style=\"color: #008080; text-decoration-color: #008080; font-weight: bold\"> Count </span>┃ ┃<span style=\"color: #008080; text-decoration-color: #008080; font-weight: bold\"> Categorical Variables </span>┃          │\n",
       "│ ┡━━━━━━━━━━━━━━━━━━━╇━━━━━━━━┩ ┡━━━━━━━━━━━━━╇━━━━━━━┩ ┡━━━━━━━━━━━━━━━━━━━━━━━┩          │\n",
       "│ │ Number of rows    │ 891    │ │ object      │ 5     │ │ class                 │          │\n",
       "│ │ Number of columns │ 15     │ │ int64       │ 4     │ │ deck                  │          │\n",
       "│ └───────────────────┴────────┘ │ float64     │ 2     │ └───────────────────────┘          │\n",
       "│                                │ category    │ 2     │                                    │\n",
       "│                                │ bool        │ 2     │                                    │\n",
       "│                                └─────────────┴───────┘                                    │\n",
       "│ <span style=\"font-style: italic\">                                         number                                         </span>  │\n",
       "│ ┏━━━━━━━━━━┳━━━━━━━━━┳━━━━━━━━━━━━━┳━━━━━━┳━━━━━━┳━━━━━━┳━━━━━━┳━━━━━━┳━━━━━━━┳━━━━━━━━┓  │\n",
       "│ ┃<span style=\"font-weight: bold\">          </span>┃<span style=\"font-weight: bold\"> missing </span>┃<span style=\"font-weight: bold\"> complete    </span>┃<span style=\"font-weight: bold\"> mean </span>┃<span style=\"font-weight: bold\"> sd   </span>┃<span style=\"font-weight: bold\"> p0   </span>┃<span style=\"font-weight: bold\"> p25  </span>┃<span style=\"font-weight: bold\"> p75  </span>┃<span style=\"font-weight: bold\"> p100  </span>┃<span style=\"font-weight: bold\"> hist   </span>┃  │\n",
       "│ ┃          ┃         ┃<span style=\"font-weight: bold\"> rate        </span>┃      ┃      ┃      ┃      ┃      ┃       ┃        ┃  │\n",
       "│ ┡━━━━━━━━━━╇━━━━━━━━━╇━━━━━━━━━━━━━╇━━━━━━╇━━━━━━╇━━━━━━╇━━━━━━╇━━━━━━╇━━━━━━━╇━━━━━━━━┩  │\n",
       "│ │ <span style=\"color: #af87ff; text-decoration-color: #af87ff\">survived</span> │ <span style=\"color: #008080; text-decoration-color: #008080\">0.0    </span> │ <span style=\"color: #008080; text-decoration-color: #008080\">1.0        </span> │ <span style=\"color: #008080; text-decoration-color: #008080\">0.38</span> │ <span style=\"color: #008080; text-decoration-color: #008080\">0.49</span> │ <span style=\"color: #008080; text-decoration-color: #008080\">0.0 </span> │ <span style=\"color: #008080; text-decoration-color: #008080\">0.0 </span> │ <span style=\"color: #008080; text-decoration-color: #008080\">1.0 </span> │ <span style=\"color: #008080; text-decoration-color: #008080\">1.0  </span> │ <span style=\"color: #008000; text-decoration-color: #008000\">█    ▅</span> │  │\n",
       "│ │ <span style=\"color: #af87ff; text-decoration-color: #af87ff\">pclass  </span> │ <span style=\"color: #008080; text-decoration-color: #008080\">0.0    </span> │ <span style=\"color: #008080; text-decoration-color: #008080\">1.0        </span> │ <span style=\"color: #008080; text-decoration-color: #008080\">2.3 </span> │ <span style=\"color: #008080; text-decoration-color: #008080\">0.84</span> │ <span style=\"color: #008080; text-decoration-color: #008080\">1.0 </span> │ <span style=\"color: #008080; text-decoration-color: #008080\">2.0 </span> │ <span style=\"color: #008080; text-decoration-color: #008080\">3.0 </span> │ <span style=\"color: #008080; text-decoration-color: #008080\">3.0  </span> │ <span style=\"color: #008000; text-decoration-color: #008000\">▄  ▃ █</span> │  │\n",
       "│ │ <span style=\"color: #af87ff; text-decoration-color: #af87ff\">age     </span> │ <span style=\"color: #008080; text-decoration-color: #008080\">180.0  </span> │ <span style=\"color: #008080; text-decoration-color: #008080\">0.8        </span> │ <span style=\"color: #008080; text-decoration-color: #008080\">30.0</span> │ <span style=\"color: #008080; text-decoration-color: #008080\">15.0</span> │ <span style=\"color: #008080; text-decoration-color: #008080\">0.42</span> │ <span style=\"color: #008080; text-decoration-color: #008080\">20.0</span> │ <span style=\"color: #008080; text-decoration-color: #008080\">38.0</span> │ <span style=\"color: #008080; text-decoration-color: #008080\">80.0 </span> │ <span style=\"color: #008000; text-decoration-color: #008000\">▂██▃▁ </span> │  │\n",
       "│ │ <span style=\"color: #af87ff; text-decoration-color: #af87ff\">sibsp   </span> │ <span style=\"color: #008080; text-decoration-color: #008080\">0.0    </span> │ <span style=\"color: #008080; text-decoration-color: #008080\">1.0        </span> │ <span style=\"color: #008080; text-decoration-color: #008080\">0.52</span> │ <span style=\"color: #008080; text-decoration-color: #008080\">1.1 </span> │ <span style=\"color: #008080; text-decoration-color: #008080\">0.0 </span> │ <span style=\"color: #008080; text-decoration-color: #008080\">0.0 </span> │ <span style=\"color: #008080; text-decoration-color: #008080\">1.0 </span> │ <span style=\"color: #008080; text-decoration-color: #008080\">8.0  </span> │ <span style=\"color: #008000; text-decoration-color: #008000\">█     </span> │  │\n",
       "│ │ <span style=\"color: #af87ff; text-decoration-color: #af87ff\">parch   </span> │ <span style=\"color: #008080; text-decoration-color: #008080\">0.0    </span> │ <span style=\"color: #008080; text-decoration-color: #008080\">1.0        </span> │ <span style=\"color: #008080; text-decoration-color: #008080\">0.38</span> │ <span style=\"color: #008080; text-decoration-color: #008080\">0.81</span> │ <span style=\"color: #008080; text-decoration-color: #008080\">0.0 </span> │ <span style=\"color: #008080; text-decoration-color: #008080\">0.0 </span> │ <span style=\"color: #008080; text-decoration-color: #008080\">0.0 </span> │ <span style=\"color: #008080; text-decoration-color: #008080\">6.0  </span> │ <span style=\"color: #008000; text-decoration-color: #008000\">█▁▁   </span> │  │\n",
       "│ │ <span style=\"color: #af87ff; text-decoration-color: #af87ff\">fare    </span> │ <span style=\"color: #008080; text-decoration-color: #008080\">0.0    </span> │ <span style=\"color: #008080; text-decoration-color: #008080\">1.0        </span> │ <span style=\"color: #008080; text-decoration-color: #008080\">32.0</span> │ <span style=\"color: #008080; text-decoration-color: #008080\">50.0</span> │ <span style=\"color: #008080; text-decoration-color: #008080\">0.0 </span> │ <span style=\"color: #008080; text-decoration-color: #008080\">7.9 </span> │ <span style=\"color: #008080; text-decoration-color: #008080\">31.0</span> │ <span style=\"color: #008080; text-decoration-color: #008080\">510.0</span> │ <span style=\"color: #008000; text-decoration-color: #008000\">█     </span> │  │\n",
       "│ └──────────┴─────────┴─────────────┴──────┴──────┴──────┴──────┴──────┴───────┴────────┘  │\n",
       "│ <span style=\"font-style: italic\">                                        category                                        </span>  │\n",
       "│ ┏━━━━━━━━━━━━┳━━━━━━━━━━━━━━━━┳━━━━━━━━━━━━━━━━━━━━━━━━━━┳━━━━━━━━━━━━━━━┳━━━━━━━━━━━━━┓  │\n",
       "│ ┃<span style=\"font-weight: bold\">            </span>┃<span style=\"font-weight: bold\"> missing        </span>┃<span style=\"font-weight: bold\"> complete rate            </span>┃<span style=\"font-weight: bold\"> ordered       </span>┃<span style=\"font-weight: bold\"> unique      </span>┃  │\n",
       "│ ┡━━━━━━━━━━━━╇━━━━━━━━━━━━━━━━╇━━━━━━━━━━━━━━━━━━━━━━━━━━╇━━━━━━━━━━━━━━━╇━━━━━━━━━━━━━┩  │\n",
       "│ │ <span style=\"color: #af87ff; text-decoration-color: #af87ff\">class     </span> │ <span style=\"color: #008080; text-decoration-color: #008080\">0.0           </span> │ <span style=\"color: #008080; text-decoration-color: #008080\">1.0                     </span> │ <span style=\"color: #00d7ff; text-decoration-color: #00d7ff\">False        </span> │ <span style=\"color: #008080; text-decoration-color: #008080\">3.0        </span> │  │\n",
       "│ │ <span style=\"color: #af87ff; text-decoration-color: #af87ff\">deck      </span> │ <span style=\"color: #008080; text-decoration-color: #008080\">690.0         </span> │ <span style=\"color: #008080; text-decoration-color: #008080\">0.23                    </span> │ <span style=\"color: #00d7ff; text-decoration-color: #00d7ff\">False        </span> │ <span style=\"color: #008080; text-decoration-color: #008080\">8.0        </span> │  │\n",
       "│ └────────────┴────────────────┴──────────────────────────┴───────────────┴─────────────┘  │\n",
       "│ <span style=\"font-style: italic\">                                          bool                                          </span>  │\n",
       "│ ┏━━━━━━━━━━━━━━━━━━━━━━━━━━━┳━━━━━━━━━━━━━━━━┳━━━━━━━━━━━━━━━━━━━━━━━━┳━━━━━━━━━━━━━━━━┓  │\n",
       "│ ┃<span style=\"font-weight: bold\">                           </span>┃<span style=\"font-weight: bold\"> true           </span>┃<span style=\"font-weight: bold\"> true rate              </span>┃<span style=\"font-weight: bold\"> hist           </span>┃  │\n",
       "│ ┡━━━━━━━━━━━━━━━━━━━━━━━━━━━╇━━━━━━━━━━━━━━━━╇━━━━━━━━━━━━━━━━━━━━━━━━╇━━━━━━━━━━━━━━━━┩  │\n",
       "│ │ <span style=\"color: #af87ff; text-decoration-color: #af87ff\">adult_male               </span> │ <span style=\"color: #008080; text-decoration-color: #008080\">540.0         </span> │ <span style=\"color: #008080; text-decoration-color: #008080\">0.6                   </span> │ <span style=\"color: #008000; text-decoration-color: #008000\">▅    █        </span> │  │\n",
       "│ │ <span style=\"color: #af87ff; text-decoration-color: #af87ff\">alone                    </span> │ <span style=\"color: #008080; text-decoration-color: #008080\">540.0         </span> │ <span style=\"color: #008080; text-decoration-color: #008080\">0.6                   </span> │ <span style=\"color: #008000; text-decoration-color: #008000\">▅    █        </span> │  │\n",
       "│ └───────────────────────────┴────────────────┴────────────────────────┴────────────────┘  │\n",
       "╰─────────────────────────────────────────── End ───────────────────────────────────────────╯\n",
       "</pre>\n"
      ],
      "text/plain": [
       "╭───────────────────────────────────── skimpy summary ──────────────────────────────────────╮\n",
       "│ \u001b[3m         Data Summary         \u001b[0m \u001b[3m      Data Types       \u001b[0m \u001b[3m       Categories        \u001b[0m          │\n",
       "│ ┏━━━━━━━━━━━━━━━━━━━┳━━━━━━━━┓ ┏━━━━━━━━━━━━━┳━━━━━━━┓ ┏━━━━━━━━━━━━━━━━━━━━━━━┓          │\n",
       "│ ┃\u001b[1;36m \u001b[0m\u001b[1;36mdataframe        \u001b[0m\u001b[1;36m \u001b[0m┃\u001b[1;36m \u001b[0m\u001b[1;36mValues\u001b[0m\u001b[1;36m \u001b[0m┃ ┃\u001b[1;36m \u001b[0m\u001b[1;36mColumn Type\u001b[0m\u001b[1;36m \u001b[0m┃\u001b[1;36m \u001b[0m\u001b[1;36mCount\u001b[0m\u001b[1;36m \u001b[0m┃ ┃\u001b[1;36m \u001b[0m\u001b[1;36mCategorical Variables\u001b[0m\u001b[1;36m \u001b[0m┃          │\n",
       "│ ┡━━━━━━━━━━━━━━━━━━━╇━━━━━━━━┩ ┡━━━━━━━━━━━━━╇━━━━━━━┩ ┡━━━━━━━━━━━━━━━━━━━━━━━┩          │\n",
       "│ │ Number of rows    │ 891    │ │ object      │ 5     │ │ class                 │          │\n",
       "│ │ Number of columns │ 15     │ │ int64       │ 4     │ │ deck                  │          │\n",
       "│ └───────────────────┴────────┘ │ float64     │ 2     │ └───────────────────────┘          │\n",
       "│                                │ category    │ 2     │                                    │\n",
       "│                                │ bool        │ 2     │                                    │\n",
       "│                                └─────────────┴───────┘                                    │\n",
       "│ \u001b[3m                                         number                                         \u001b[0m  │\n",
       "│ ┏━━━━━━━━━━┳━━━━━━━━━┳━━━━━━━━━━━━━┳━━━━━━┳━━━━━━┳━━━━━━┳━━━━━━┳━━━━━━┳━━━━━━━┳━━━━━━━━┓  │\n",
       "│ ┃\u001b[1m \u001b[0m\u001b[1m        \u001b[0m\u001b[1m \u001b[0m┃\u001b[1m \u001b[0m\u001b[1mmissing\u001b[0m\u001b[1m \u001b[0m┃\u001b[1m \u001b[0m\u001b[1mcomplete   \u001b[0m\u001b[1m \u001b[0m┃\u001b[1m \u001b[0m\u001b[1mmean\u001b[0m\u001b[1m \u001b[0m┃\u001b[1m \u001b[0m\u001b[1msd  \u001b[0m\u001b[1m \u001b[0m┃\u001b[1m \u001b[0m\u001b[1mp0  \u001b[0m\u001b[1m \u001b[0m┃\u001b[1m \u001b[0m\u001b[1mp25 \u001b[0m\u001b[1m \u001b[0m┃\u001b[1m \u001b[0m\u001b[1mp75 \u001b[0m\u001b[1m \u001b[0m┃\u001b[1m \u001b[0m\u001b[1mp100 \u001b[0m\u001b[1m \u001b[0m┃\u001b[1m \u001b[0m\u001b[1mhist  \u001b[0m\u001b[1m \u001b[0m┃  │\n",
       "│ ┃          ┃         ┃\u001b[1m \u001b[0m\u001b[1mrate       \u001b[0m\u001b[1m \u001b[0m┃      ┃      ┃      ┃      ┃      ┃       ┃        ┃  │\n",
       "│ ┡━━━━━━━━━━╇━━━━━━━━━╇━━━━━━━━━━━━━╇━━━━━━╇━━━━━━╇━━━━━━╇━━━━━━╇━━━━━━╇━━━━━━━╇━━━━━━━━┩  │\n",
       "│ │ \u001b[38;5;141msurvived\u001b[0m │ \u001b[36m0.0    \u001b[0m │ \u001b[36m1.0        \u001b[0m │ \u001b[36m0.38\u001b[0m │ \u001b[36m0.49\u001b[0m │ \u001b[36m0.0 \u001b[0m │ \u001b[36m0.0 \u001b[0m │ \u001b[36m1.0 \u001b[0m │ \u001b[36m1.0  \u001b[0m │ \u001b[32m█    ▅\u001b[0m │  │\n",
       "│ │ \u001b[38;5;141mpclass  \u001b[0m │ \u001b[36m0.0    \u001b[0m │ \u001b[36m1.0        \u001b[0m │ \u001b[36m2.3 \u001b[0m │ \u001b[36m0.84\u001b[0m │ \u001b[36m1.0 \u001b[0m │ \u001b[36m2.0 \u001b[0m │ \u001b[36m3.0 \u001b[0m │ \u001b[36m3.0  \u001b[0m │ \u001b[32m▄  ▃ █\u001b[0m │  │\n",
       "│ │ \u001b[38;5;141mage     \u001b[0m │ \u001b[36m180.0  \u001b[0m │ \u001b[36m0.8        \u001b[0m │ \u001b[36m30.0\u001b[0m │ \u001b[36m15.0\u001b[0m │ \u001b[36m0.42\u001b[0m │ \u001b[36m20.0\u001b[0m │ \u001b[36m38.0\u001b[0m │ \u001b[36m80.0 \u001b[0m │ \u001b[32m▂██▃▁ \u001b[0m │  │\n",
       "│ │ \u001b[38;5;141msibsp   \u001b[0m │ \u001b[36m0.0    \u001b[0m │ \u001b[36m1.0        \u001b[0m │ \u001b[36m0.52\u001b[0m │ \u001b[36m1.1 \u001b[0m │ \u001b[36m0.0 \u001b[0m │ \u001b[36m0.0 \u001b[0m │ \u001b[36m1.0 \u001b[0m │ \u001b[36m8.0  \u001b[0m │ \u001b[32m█     \u001b[0m │  │\n",
       "│ │ \u001b[38;5;141mparch   \u001b[0m │ \u001b[36m0.0    \u001b[0m │ \u001b[36m1.0        \u001b[0m │ \u001b[36m0.38\u001b[0m │ \u001b[36m0.81\u001b[0m │ \u001b[36m0.0 \u001b[0m │ \u001b[36m0.0 \u001b[0m │ \u001b[36m0.0 \u001b[0m │ \u001b[36m6.0  \u001b[0m │ \u001b[32m█▁▁   \u001b[0m │  │\n",
       "│ │ \u001b[38;5;141mfare    \u001b[0m │ \u001b[36m0.0    \u001b[0m │ \u001b[36m1.0        \u001b[0m │ \u001b[36m32.0\u001b[0m │ \u001b[36m50.0\u001b[0m │ \u001b[36m0.0 \u001b[0m │ \u001b[36m7.9 \u001b[0m │ \u001b[36m31.0\u001b[0m │ \u001b[36m510.0\u001b[0m │ \u001b[32m█     \u001b[0m │  │\n",
       "│ └──────────┴─────────┴─────────────┴──────┴──────┴──────┴──────┴──────┴───────┴────────┘  │\n",
       "│ \u001b[3m                                        category                                        \u001b[0m  │\n",
       "│ ┏━━━━━━━━━━━━┳━━━━━━━━━━━━━━━━┳━━━━━━━━━━━━━━━━━━━━━━━━━━┳━━━━━━━━━━━━━━━┳━━━━━━━━━━━━━┓  │\n",
       "│ ┃\u001b[1m \u001b[0m\u001b[1m          \u001b[0m\u001b[1m \u001b[0m┃\u001b[1m \u001b[0m\u001b[1mmissing       \u001b[0m\u001b[1m \u001b[0m┃\u001b[1m \u001b[0m\u001b[1mcomplete rate           \u001b[0m\u001b[1m \u001b[0m┃\u001b[1m \u001b[0m\u001b[1mordered      \u001b[0m\u001b[1m \u001b[0m┃\u001b[1m \u001b[0m\u001b[1munique     \u001b[0m\u001b[1m \u001b[0m┃  │\n",
       "│ ┡━━━━━━━━━━━━╇━━━━━━━━━━━━━━━━╇━━━━━━━━━━━━━━━━━━━━━━━━━━╇━━━━━━━━━━━━━━━╇━━━━━━━━━━━━━┩  │\n",
       "│ │ \u001b[38;5;141mclass     \u001b[0m │ \u001b[36m0.0           \u001b[0m │ \u001b[36m1.0                     \u001b[0m │ \u001b[38;5;45mFalse        \u001b[0m │ \u001b[36m3.0        \u001b[0m │  │\n",
       "│ │ \u001b[38;5;141mdeck      \u001b[0m │ \u001b[36m690.0         \u001b[0m │ \u001b[36m0.23                    \u001b[0m │ \u001b[38;5;45mFalse        \u001b[0m │ \u001b[36m8.0        \u001b[0m │  │\n",
       "│ └────────────┴────────────────┴──────────────────────────┴───────────────┴─────────────┘  │\n",
       "│ \u001b[3m                                          bool                                          \u001b[0m  │\n",
       "│ ┏━━━━━━━━━━━━━━━━━━━━━━━━━━━┳━━━━━━━━━━━━━━━━┳━━━━━━━━━━━━━━━━━━━━━━━━┳━━━━━━━━━━━━━━━━┓  │\n",
       "│ ┃\u001b[1m \u001b[0m\u001b[1m                         \u001b[0m\u001b[1m \u001b[0m┃\u001b[1m \u001b[0m\u001b[1mtrue          \u001b[0m\u001b[1m \u001b[0m┃\u001b[1m \u001b[0m\u001b[1mtrue rate             \u001b[0m\u001b[1m \u001b[0m┃\u001b[1m \u001b[0m\u001b[1mhist          \u001b[0m\u001b[1m \u001b[0m┃  │\n",
       "│ ┡━━━━━━━━━━━━━━━━━━━━━━━━━━━╇━━━━━━━━━━━━━━━━╇━━━━━━━━━━━━━━━━━━━━━━━━╇━━━━━━━━━━━━━━━━┩  │\n",
       "│ │ \u001b[38;5;141madult_male               \u001b[0m │ \u001b[36m540.0         \u001b[0m │ \u001b[36m0.6                   \u001b[0m │ \u001b[32m▅    █        \u001b[0m │  │\n",
       "│ │ \u001b[38;5;141malone                    \u001b[0m │ \u001b[36m540.0         \u001b[0m │ \u001b[36m0.6                   \u001b[0m │ \u001b[32m▅    █        \u001b[0m │  │\n",
       "│ └───────────────────────────┴────────────────┴────────────────────────┴────────────────┘  │\n",
       "╰─────────────────────────────────────────── End ───────────────────────────────────────────╯\n"
      ]
     },
     "metadata": {},
     "output_type": "display_data"
    }
   ],
   "source": [
    "skim(titanic)"
   ]
  },
  {
   "cell_type": "code",
   "execution_count": null,
   "id": "25dfc035-f63f-4684-8442-baed860f316a",
   "metadata": {},
   "outputs": [],
   "source": []
  }
 ],
 "metadata": {
  "kernelspec": {
   "display_name": "Python 3 (ipykernel)",
   "language": "python",
   "name": "python3"
  },
  "language_info": {
   "codemirror_mode": {
    "name": "ipython",
    "version": 3
   },
   "file_extension": ".py",
   "mimetype": "text/x-python",
   "name": "python",
   "nbconvert_exporter": "python",
   "pygments_lexer": "ipython3",
   "version": "3.9.7"
  }
 },
 "nbformat": 4,
 "nbformat_minor": 5
}
