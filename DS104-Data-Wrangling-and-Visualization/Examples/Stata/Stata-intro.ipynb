{
 "cells": [
  {
   "cell_type": "code",
   "execution_count": null,
   "id": "783565ba-9d04-499c-aeff-cee174bcd39c",
   "metadata": {},
   "outputs": [],
   "source": [
    "sysuse auto"
   ]
  },
  {
   "cell_type": "code",
   "execution_count": null,
   "id": "d41e9758-b03b-41a3-b774-1cac6ae6dcbc",
   "metadata": {},
   "outputs": [],
   "source": [
    "help logistic"
   ]
  },
  {
   "cell_type": "code",
   "execution_count": null,
   "id": "bbcc3582-94ce-4044-b06e-34cfdffd43ed",
   "metadata": {},
   "outputs": [],
   "source": []
  }
 ],
 "metadata": {
  "kernelspec": {
   "display_name": "Stata",
   "language": "stata",
   "name": "stata"
  },
  "language_info": {
   "name": ""
  }
 },
 "nbformat": 4,
 "nbformat_minor": 5
}
