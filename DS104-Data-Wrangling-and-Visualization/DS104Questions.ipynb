{
 "cells": [
  {
   "cell_type": "markdown",
   "id": "701c6664-c3af-4538-bac7-f1a5cc1826cd",
   "metadata": {},
   "source": [
    "# DS104 Questions\n",
    "\n",
    "## Lesson 1\n",
    "\n",
    "## Page 2"
   ]
  },
  {
   "cell_type": "code",
   "execution_count": 1,
   "id": "9fdc1222-3d73-42e1-b6bf-b95d73e3d8ff",
   "metadata": {},
   "outputs": [],
   "source": [
    "from DS_Students import *"
   ]
  },
  {
   "cell_type": "code",
   "execution_count": 2,
   "id": "6963cd34-6d30-40e7-9b8d-b9e9be3e36a6",
   "metadata": {},
   "outputs": [],
   "source": [
    "L1P2Q1 = MC('1. What will the following code do? babies$Footprint = \"Yes\"',['A. Create a new column in the Footprint dataset called babies that is filled with the value Yes','B. Create a new column in the babies dataset called Footprint that is filled witht the value Yes','C. Create a new column in the babies dataset called Footprint that is empty', 'D. Create a new column in the Footprint dataset called babies that is empty'],'B. Create a new column in the babies dataset called Footprint that is filled witht the value Yes', cor='Adding Columns in R: DatasetName$AddingNewColumnName = \"NewValueInsideSpecifiedColumn\"', incor='')\n"
   ]
  },
  {
   "cell_type": "markdown",
   "id": "bc25d849-f627-4c10-a60e-2a48fb7108ae",
   "metadata": {},
   "source": [
    "L1P2Q1 = MC('1. Question?',['A','B','C', 'D'],'D')\n",
    "L1P2Q2 = MC('2. Question?',['A','B','C', 'D'],'D')\n",
    "L1P2Q3 = MC('3. Question?',['A','B','C', 'D'],'D')\n",
    "L1P2Q4 = MC('4. Question?',['A','B','C', 'D'],'D')\n",
    "L1P2Q5 = MC('5. Question?',['A','B','C', 'D'],'D')\n"
   ]
  },
  {
   "cell_type": "code",
   "execution_count": 3,
   "id": "6f20d99a-0d5d-482e-82a1-2adf01327726",
   "metadata": {},
   "outputs": [
    {
     "data": {
      "application/vnd.jupyter.widget-view+json": {
       "model_id": "8329114bfdb34b5babb4c9e8350fcb5c",
       "version_major": 2,
       "version_minor": 0
      },
      "text/plain": [
       "VBox(children=(Output(outputs=({'name': 'stdout', 'text': '1. What will the following code do? babies$Footprin…"
      ]
     },
     "metadata": {},
     "output_type": "display_data"
    }
   ],
   "source": [
    "if __name__ == \"__main__\":\n",
    "    display(L1P2Q1)"
   ]
  },
  {
   "cell_type": "markdown",
   "id": "59237b93-23a1-4511-9c47-069ff58089ca",
   "metadata": {},
   "source": [
    "## Page 3"
   ]
  },
  {
   "cell_type": "code",
   "execution_count": 4,
   "id": "804f8220-30a7-408a-b4b6-c31c43c63510",
   "metadata": {},
   "outputs": [],
   "source": [
    "L1P3Q1 = MC('2. What will the following code do? babies[\"Footprint\"] = \"No\"',['A. Create a new column in the Footprint dataset called babies that is filled with the value No','B. Create a new column in the babies dataset called Footprint that is filled witht the value No','C.Create a new column in the babies dataset called Footprint that is empty ', 'D. Create a new column in the Footprint dataset called babies that is empty'],'B. Create a new column in the babies dataset called Footprint that is filled witht the value No', cor='Adding Columns in Python: DatasetName[\"AddingNewColumnName\"] = \"NewValueInsideSpecifiedColumn\"', incor='')\n"
   ]
  },
  {
   "cell_type": "markdown",
   "id": "35661294-10f1-4ed9-b382-e7f263e38976",
   "metadata": {},
   "source": [
    "L1P3Q1 = MC('1. Question?',['A','B','C', 'D'],'D')\n",
    "L1P3Q2 = MC('2. Question?',['A','B','C', 'D'],'D')\n",
    "L1P3Q3 = MC('3. Question?',['A','B','C', 'D'],'D')\n",
    "L1P3Q4 = MC('4. Question?',['A','B','C', 'D'],'D')\n",
    "L1P3Q5 = MC('5. Question?',['A','B','C', 'D'],'D')\n"
   ]
  },
  {
   "cell_type": "code",
   "execution_count": 5,
   "id": "395b4e32-213a-432c-8570-dba7e76bc602",
   "metadata": {},
   "outputs": [
    {
     "data": {
      "application/vnd.jupyter.widget-view+json": {
       "model_id": "bf835c9f667442c680c476df4b45dc80",
       "version_major": 2,
       "version_minor": 0
      },
      "text/plain": [
       "VBox(children=(Output(outputs=({'name': 'stdout', 'text': '2. What will the following code do? babies[\"Footpri…"
      ]
     },
     "metadata": {},
     "output_type": "display_data"
    }
   ],
   "source": [
    "if __name__ == \"__main__\":\n",
    "    display(L1P3Q1)"
   ]
  },
  {
   "cell_type": "markdown",
   "id": "214526dd-72ee-40d8-a2e5-41e165dcd951",
   "metadata": {},
   "source": [
    "## Page 4"
   ]
  },
  {
   "cell_type": "code",
   "execution_count": 6,
   "id": "bb0caab7-f101-4130-8828-01a93915ed5d",
   "metadata": {},
   "outputs": [],
   "source": [
    "L1P4Q1 = MC('3. What is the function used in R to rename columns?',['A. rename()','B. names()','C. There is no function'],'B. names()', cor='names() function, renames columns in R', incor= '')\n",
    "L1P4Q2 = MC('2. What does the following code do? names(babies)[names(babies) == \"Weight\"] <- \"BabyWeight\"',['A. Change the values in the Babyweight column to Weight','B. Change the values in the Weight column to BabyWeight','C. Rename the BabyWeight column to Weight', 'D. Rename the Weight column to BabyWeight'],'D. Rename the Weight column to BabyWeight', cor= 'names(DatasetName)[names(DatasetName) == \"OldColumnName\"] <- \"NewColumnName\"', incor='')\n",
    "L1P4Q3 = MC('3. True or False? The following is a good column name: Gen Kids',['A. True','B. False'],'B. False', cor=' False: This column is not a good name to rename a column because it contains spaces and the meaning is not very clear - gen could stand for gender, generation, etc', incor='')\n"
   ]
  },
  {
   "cell_type": "markdown",
   "id": "cdd63ebc-99a6-42c9-8ca5-e132dd120d24",
   "metadata": {},
   "source": [
    "L1P4Q1 = MC('1. Question?',['A','B','C', 'D'],'D')\n",
    "L1P4Q2 = MC('2. Question?',['A','B','C', 'D'],'D')\n",
    "L1P4Q3 = MC('3. Question?',['A','B','C', 'D'],'D')\n",
    "L1P4Q4 = MC('4. Question?',['A','B','C', 'D'],'D')\n",
    "L1P4Q5 = MC('5. Question?',['A','B','C', 'D'],'D')\n"
   ]
  },
  {
   "cell_type": "code",
   "execution_count": 7,
   "id": "3adf2b8c-6d74-449d-abd7-f2ecd2cef18e",
   "metadata": {},
   "outputs": [
    {
     "data": {
      "application/vnd.jupyter.widget-view+json": {
       "model_id": "23532dd9f98f4b588da2baa9e91c5e12",
       "version_major": 2,
       "version_minor": 0
      },
      "text/plain": [
       "VBox(children=(Output(outputs=({'name': 'stdout', 'text': '3. What is the function used in R to rename columns…"
      ]
     },
     "metadata": {},
     "output_type": "display_data"
    },
    {
     "data": {
      "application/vnd.jupyter.widget-view+json": {
       "model_id": "62d11edbafda4cf38e220d8119e5adcf",
       "version_major": 2,
       "version_minor": 0
      },
      "text/plain": [
       "VBox(children=(Output(outputs=({'name': 'stdout', 'text': '2. What does the following code do? names(babies)[n…"
      ]
     },
     "metadata": {},
     "output_type": "display_data"
    },
    {
     "data": {
      "application/vnd.jupyter.widget-view+json": {
       "model_id": "760b9ecf8d3549fb909413cf5ab475f3",
       "version_major": 2,
       "version_minor": 0
      },
      "text/plain": [
       "VBox(children=(Output(outputs=({'name': 'stdout', 'text': '3. True or False? The following is a good column na…"
      ]
     },
     "metadata": {},
     "output_type": "display_data"
    }
   ],
   "source": [
    "if __name__ == \"__main__\":\n",
    "    display(L1P4Q1, L1P4Q2, L1P4Q3)"
   ]
  },
  {
   "cell_type": "markdown",
   "id": "108d5139-1700-4dde-8d88-66796da8fae0",
   "metadata": {},
   "source": [
    "## Page 5"
   ]
  },
  {
   "cell_type": "code",
   "execution_count": 8,
   "id": "27aac8f4-a1d5-465f-92d9-534378e76d18",
   "metadata": {},
   "outputs": [],
   "source": [
    "L1P5Q1 = MC('1. What is the function used in Python to rename columns?',['A. renames()','B. names() This is the function used in R','C. inplace = True , This is the agrument used to make the change permanent', 'D. There is no function'],'A. renames()', cor=\" The rename() method of pandas.DataFrame to change column / index name individually.\", incor= '')\n",
    "L1P5Q2 = MC('2. What does the following code do? babies.rename(columns={\"Weight\" : \"BabyWeight\"}, inplace=True)',['A. Change the values in the Babyweight column to Weight','B. Change the values in the Weight column to BabyWeight','C. Rename the BabyWeight column to Weight', 'D. Rename the Weight column to BabyWeight'],'D. Rename the Weight column to BabyWeight', cor= 'DatasetName.rename(columns={\"OldColumnName\" : \"NewColumnName\"}, inplace=True)', incor='')\n",
    "L1P5Q3 = MC('3. True or False?',['A. True','B. False'],'B. False', cor= \"Python does not support periods as part of variable names\", incor='')\n"
   ]
  },
  {
   "cell_type": "markdown",
   "id": "dbad1965-c117-4e0a-a490-c72c2b834dc1",
   "metadata": {},
   "source": [
    "L1P5Q1 = MC('1. Question?',['A','B','C', 'D'],'D')\n",
    "L1P5Q2 = MC('2. Question?',['A','B','C', 'D'],'D')\n",
    "L1P5Q3 = MC('3. Question?',['A','B','C', 'D'],'D')\n",
    "L1P5Q4 = MC('4. Question?',['A','B','C', 'D'],'D')\n",
    "L1P5Q5 = MC('5. Question?',['A','B','C', 'D'],'D')"
   ]
  },
  {
   "cell_type": "code",
   "execution_count": 9,
   "id": "e33a33b6-a747-41db-aa4c-9dc9a112fd0a",
   "metadata": {},
   "outputs": [
    {
     "data": {
      "application/vnd.jupyter.widget-view+json": {
       "model_id": "1fcf6b67fbbf44ee91069905ce4700ac",
       "version_major": 2,
       "version_minor": 0
      },
      "text/plain": [
       "VBox(children=(Output(outputs=({'name': 'stdout', 'text': '1. What is the function used in Python to rename co…"
      ]
     },
     "metadata": {},
     "output_type": "display_data"
    },
    {
     "data": {
      "application/vnd.jupyter.widget-view+json": {
       "model_id": "73be119aa0474da3ae6d9ffb27bcee4e",
       "version_major": 2,
       "version_minor": 0
      },
      "text/plain": [
       "VBox(children=(Output(outputs=({'name': 'stdout', 'text': '2. What does the following code do? babies.rename(c…"
      ]
     },
     "metadata": {},
     "output_type": "display_data"
    },
    {
     "data": {
      "application/vnd.jupyter.widget-view+json": {
       "model_id": "9dc4115d2ccb41cea9710db442b9ae38",
       "version_major": 2,
       "version_minor": 0
      },
      "text/plain": [
       "VBox(children=(Output(outputs=({'name': 'stdout', 'text': '3. True or False?\\n', 'output_type': 'stream'},)), …"
      ]
     },
     "metadata": {},
     "output_type": "display_data"
    }
   ],
   "source": [
    "if __name__ == \"__main__\":\n",
    "    display(L1P5Q1, L1P5Q2, L1P5Q3)"
   ]
  },
  {
   "cell_type": "markdown",
   "id": "a84efdae-f709-44fc-a554-1b2b668e6038",
   "metadata": {},
   "source": [
    "## Page 6"
   ]
  },
  {
   "cell_type": "code",
   "execution_count": 10,
   "id": "ef7e45c2-7bbc-4b6e-8ee9-dd81e4b3acea",
   "metadata": {},
   "outputs": [],
   "source": [
    "L1P6Q1 = MC('1. Which function will combine columns in R?',['A. c()','B. names()','C. unite()', 'D. seperate()'],'C. unite()', cor= 'The unite() method is used to merge two or more columns into a single column or variable', incor= '')\n",
    "L1P6Q2 = MultipleChoice(\"2. True or False? If you get this warning message, then there's a chance your separators haven't worked like you thought when combining columns: Expected X pieces. Additional pieces discard.\",['A. True','B. False'],'A. True')\n"
   ]
  },
  {
   "cell_type": "markdown",
   "id": "4eb34ae0-9f23-4dec-9166-715ffe4ecb15",
   "metadata": {},
   "source": [
    "L1P6Q1 = MC('1. Question?',['A','B','C', 'D'],'D')\n",
    "L1P6Q2 = MC('2. Question?',['A','B','C', 'D'],'D')\n",
    "L1P6Q3 = MC('3. Question?',['A','B','C', 'D'],'D')\n",
    "L1P6Q4 = MC('4. Question?',['A','B','C', 'D'],'D')\n",
    "L1P6Q5 = MC('5. Question?',['A','B','C', 'D'],'D')"
   ]
  },
  {
   "cell_type": "code",
   "execution_count": 11,
   "id": "5e57d136-7016-44b0-b430-5f34233a786d",
   "metadata": {},
   "outputs": [
    {
     "data": {
      "application/vnd.jupyter.widget-view+json": {
       "model_id": "a0ef2051d1d8470ab80e74e325de31ae",
       "version_major": 2,
       "version_minor": 0
      },
      "text/plain": [
       "VBox(children=(Output(outputs=({'name': 'stdout', 'text': '1. Which function will combine columns in R?\\n', 'o…"
      ]
     },
     "metadata": {},
     "output_type": "display_data"
    },
    {
     "data": {
      "application/vnd.jupyter.widget-view+json": {
       "model_id": "6b54f91aeb734c33950622b38343dfe6",
       "version_major": 2,
       "version_minor": 0
      },
      "text/plain": [
       "VBox(children=(Output(outputs=({'name': 'stdout', 'text': \"2. True or False? If you get this warning message, …"
      ]
     },
     "metadata": {},
     "output_type": "display_data"
    }
   ],
   "source": [
    "if __name__ == \"__main__\":\n",
    "    display(L1P6Q1, L1P6Q2)"
   ]
  },
  {
   "cell_type": "markdown",
   "id": "fcf406c2-3f4d-438e-8dc6-e53dcae822f7",
   "metadata": {},
   "source": [
    "## Page 7 CONTINUE HERE!!!!"
   ]
  },
  {
   "cell_type": "code",
   "execution_count": 13,
   "id": "9b7ce9f2-156f-429a-b0c5-3cadc6f5173c",
   "metadata": {},
   "outputs": [],
   "source": [
    "L1P7Q1 = MultipleChoice('1. What is does the sep= argument do?',['A. It is a character where the columns will be split','B. It gives the new columns names','C. It makes a new dataset', 'D. It creates a vector'],'A. It is a character where the columns will be split')\n",
    "L1P7Q2 = MultipleChoice('2. You have data in a column named FullName that has this piece of data after a historical elopement: Juliet Capulet MontagueHow would you break this column into FirstName, MiddleName, and LastName?',['A. data1 <- separate(data, FullName, c(\"FirstName\", \"MiddleName\", \"LastName\"), sep=\"/\")','B. data1 <- separate(data, FullName, c(\"FirstName\", \"MiddleName\", \"LastName\"), sep=\" \")','C. data1 <- separate(data, FirstName, MiddleName, LastName, c(\"FullName\"), sep=\" \")', 'D. data1 <- separate(data, FirstName, MiddleName, LastName, c(\"FullName\"), sep=\"/\")'],'B. data1 <- separate(data, FullName, c(\"FirstName\", \"MiddleName\", \"LastName\"), sep=\" \")')\n"
   ]
  },
  {
   "cell_type": "markdown",
   "id": "cc866ba2-e1f6-415d-b33f-8368fb31ea2b",
   "metadata": {},
   "source": [
    "L1P7Q1 = MC('1. Question?',['A','B','C', 'D'],'D')\n",
    "L1P7Q2 = MC('2. Question?',['A','B','C', 'D'],'D')\n",
    "L1P7Q3 = MC('3. Question?',['A','B','C', 'D'],'D')\n",
    "L1P7Q4 = MC('4. Question?',['A','B','C', 'D'],'D')\n",
    "L1P7Q5 = MC('5. Question?',['A','B','C', 'D'],'D')"
   ]
  },
  {
   "cell_type": "code",
   "execution_count": 15,
   "id": "83eaf88c-2414-483b-8305-f7e679dc2cb4",
   "metadata": {},
   "outputs": [
    {
     "data": {
      "application/vnd.jupyter.widget-view+json": {
       "model_id": "2db700dff98f45c8b81b7b7918ea6912",
       "version_major": 2,
       "version_minor": 0
      },
      "text/plain": [
       "VBox(children=(Output(outputs=({'name': 'stdout', 'text': '1. What is does the sep= argument do?\\n', 'output_t…"
      ]
     },
     "metadata": {},
     "output_type": "display_data"
    },
    {
     "data": {
      "application/vnd.jupyter.widget-view+json": {
       "model_id": "3488de08d5294b61a4a9b1939f3625bd",
       "version_major": 2,
       "version_minor": 0
      },
      "text/plain": [
       "VBox(children=(Output(outputs=({'name': 'stdout', 'text': '2. You have data in a column named\\xa0FullName\\xa0t…"
      ]
     },
     "metadata": {},
     "output_type": "display_data"
    }
   ],
   "source": [
    "if __name__ == \"__main__\":\n",
    "    display(L1P7Q1, L1P7Q2)"
   ]
  },
  {
   "cell_type": "markdown",
   "id": "d9027fb4-ce19-4620-9afa-674232f5dcf2",
   "metadata": {},
   "source": [
    "## Page 8"
   ]
  },
  {
   "cell_type": "code",
   "execution_count": 30,
   "id": "e5d99266-0b4b-4efa-87b3-ceb9c5d6b064",
   "metadata": {},
   "outputs": [],
   "source": [
    "L1P8Q1 = MultipleChoice('1. What would this new column end up looking like, given the example code provided below? data1[\"UniqueID\"] = data[\"DateOfBirth\"] + \",\" + data[\"LastName\"].map(str)',['A. Adams, 12/5/96','B. 12/5/96,Adams','C. 12/5/96, Adams', 'D. 12/5/96 Adams'],'B. 12/5/96,Adams')\n",
    "L1P8Q2 = MultipleChoice(\"1. What does the str specifier do when you're combining columns in Python?\",['A. Turn the information into a number','B. Turn the information into a string','C. Concatenate', 'D. Append'],'B. Turn the information into a string')\n"
   ]
  },
  {
   "cell_type": "markdown",
   "id": "556e2feb-32b8-4978-8d97-eeaa7038a1b5",
   "metadata": {},
   "source": [
    "L1P8Q1 = MC('1. Question?',['A','B','C', 'D'],'D')\n",
    "L1P8Q2 = MC('2. Question?',['A','B','C', 'D'],'D')\n",
    "L1P8Q3 = MC('3. Question?',['A','B','C', 'D'],'D')\n",
    "L1P8Q4 = MC('4. Question?',['A','B','C', 'D'],'D')\n",
    "L1P8Q5 = MC('5. Question?',['A','B','C', 'D'],'D')"
   ]
  },
  {
   "cell_type": "code",
   "execution_count": 31,
   "id": "5a6b263b-b11e-4881-abde-87a8d7a17d2a",
   "metadata": {},
   "outputs": [
    {
     "data": {
      "application/vnd.jupyter.widget-view+json": {
       "model_id": "53851feffaf743a4894eb9abc8f849bd",
       "version_major": 2,
       "version_minor": 0
      },
      "text/plain": [
       "VBox(children=(Output(outputs=({'name': 'stdout', 'text': '1. What would this new column end up looking like, …"
      ]
     },
     "metadata": {},
     "output_type": "display_data"
    },
    {
     "data": {
      "application/vnd.jupyter.widget-view+json": {
       "model_id": "14432fa6a69f4302a42c887145b93143",
       "version_major": 2,
       "version_minor": 0
      },
      "text/plain": [
       "VBox(children=(Output(outputs=({'name': 'stdout', 'text': \"1. What does the\\xa0str\\xa0specifier do when you're…"
      ]
     },
     "metadata": {},
     "output_type": "display_data"
    }
   ],
   "source": [
    "if __name__ == \"__main__\":\n",
    "    display(L1P8Q1, L1P8Q2)"
   ]
  },
  {
   "cell_type": "markdown",
   "id": "fc0cc521-0127-4d74-bebf-d47201f1b19c",
   "metadata": {},
   "source": [
    "## Page 9"
   ]
  },
  {
   "cell_type": "code",
   "execution_count": 22,
   "id": "7b3bb1e6-3fc9-4d24-868d-e570aabd6edf",
   "metadata": {},
   "outputs": [],
   "source": [
    "L1P9Q1 = MultipleChoice('1. Which of the following separates a column in Python?',['A. .rename() This function is used to rename columns.','B. expand=True This function is used to make the columns a dataframe rather than a list.','C. str.split()', 'D. pd.concat()This function appends data.'],'C. str.split()')\n",
    "L1P9Q2 = MultipleChoice('2. What does the argument axis=1 do in the pd.concat() function?',['A. Add columns side by side','B. Add rows','C. Make the change permanent', 'D. Split a string'],'A. Add columns side by side')"
   ]
  },
  {
   "cell_type": "markdown",
   "id": "40c91ee9-b859-42ff-8f34-44732c90bc76",
   "metadata": {},
   "source": [
    "L1P9Q1 = MC('1. Question?',['A','B','C', 'D'],'D')\n",
    "L1P9Q2 = MC('2. Question?',['A','B','C', 'D'],'D')\n",
    "L1P9Q3 = MC('3. Question?',['A','B','C', 'D'],'D')\n",
    "L1P9Q4 = MC('4. Question?',['A','B','C', 'D'],'D')\n",
    "L1P9Q5 = MC('5. Question?',['A','B','C', 'D'],'D')"
   ]
  },
  {
   "cell_type": "code",
   "execution_count": 23,
   "id": "73ec7fdb-358e-4333-a960-fe26e4d83a3f",
   "metadata": {},
   "outputs": [
    {
     "data": {
      "application/vnd.jupyter.widget-view+json": {
       "model_id": "52401e60ca2e4d938be58c0f744d284e",
       "version_major": 2,
       "version_minor": 0
      },
      "text/plain": [
       "VBox(children=(Output(outputs=({'name': 'stdout', 'text': '1. Which of the following separates a column in Pyt…"
      ]
     },
     "metadata": {},
     "output_type": "display_data"
    },
    {
     "data": {
      "application/vnd.jupyter.widget-view+json": {
       "model_id": "7b418d425e2041f7b87612670e341947",
       "version_major": 2,
       "version_minor": 0
      },
      "text/plain": [
       "VBox(children=(Output(outputs=({'name': 'stdout', 'text': '2. What does the argument\\xa0axis=1\\xa0do in the\\xa…"
      ]
     },
     "metadata": {},
     "output_type": "display_data"
    }
   ],
   "source": [
    "if __name__ == \"__main__\":\n",
    "    display(L1P9Q1, L1P9Q2)"
   ]
  },
  {
   "cell_type": "markdown",
   "id": "c0a77dd3-e852-408a-8832-75fc8dd94444",
   "metadata": {},
   "source": [
    "## Page 10"
   ]
  },
  {
   "cell_type": "code",
   "execution_count": 28,
   "id": "0ee6565d-e5c5-4d98-9b1c-4e6b16f058a2",
   "metadata": {},
   "outputs": [],
   "source": [
    "L1P10Q1 = MultipleChoice('1. What will this line of code keep? poverty1 <- poverty[35: 500, 2:8]',['A. Rows 35-500 and columns 2-8','B. Columns 35-500 and rows 2-8 '],'A. Rows 35-500 and columns 2-8')"
   ]
  },
  {
   "cell_type": "markdown",
   "id": "e875921b-d2a4-4f00-9d8a-6628a258f114",
   "metadata": {},
   "source": [
    "L1P10Q1 = MC('1. Question?',['A','B','C', 'D'],'D')\n",
    "L1P10Q2 = MC('2. Question?',['A','B','C', 'D'],'D')\n",
    "L1P10Q3 = MC('3. Question?',['A','B','C', 'D'],'D')\n",
    "L1P10Q4 = MC('4. Question?',['A','B','C', 'D'],'D')\n",
    "L1P10Q5 = MC('5. Question?',['A','B','C', 'D'],'D')"
   ]
  },
  {
   "cell_type": "code",
   "execution_count": 29,
   "id": "3a63ec17-2155-458c-aabf-cfcfd32dee63",
   "metadata": {},
   "outputs": [
    {
     "data": {
      "application/vnd.jupyter.widget-view+json": {
       "model_id": "1aa673992fc04123aa19680aabb13d51",
       "version_major": 2,
       "version_minor": 0
      },
      "text/plain": [
       "VBox(children=(Output(outputs=({'name': 'stdout', 'text': '1. What will this line of code keep? poverty1 <- po…"
      ]
     },
     "metadata": {},
     "output_type": "display_data"
    }
   ],
   "source": [
    "if __name__ == \"__main__\":\n",
    "    display(L1P10Q1)"
   ]
  },
  {
   "cell_type": "markdown",
   "id": "31205ce5-4ea0-4b22-8916-651509780013",
   "metadata": {},
   "source": [
    "## Page 11"
   ]
  },
  {
   "cell_type": "code",
   "execution_count": 26,
   "id": "12e88c31-fd77-4f1d-8049-9f4912801b0d",
   "metadata": {},
   "outputs": [],
   "source": [
    "L1P11Q1 = MultipleChoice('1. What function would you use to drop columns in Python?',[\"A. You don't use a function - just place the names of the columns in double brackets. This is how you would keep columns in Python.\",'B. .drop()','C. .rename() This is used to rename columns in Python.', 'D. keeps() ",
    "You would use a vector named keeps and apply it to keep columns in R.'],'B. .drop()')\n",
    "L1P11Q2 = MultipleChoice('2. What does this code do? data2 = data[:17]',['A. Keeps the first 17 columns','B. Drops the first 17 columns','C. Keeps the first 17 rows', 'D. Drops the first 17 rows'],'C. Keeps the first 17 rows')\n"
   ]
  },
  {
   "cell_type": "markdown",
   "id": "6402e8a9-bf8c-4d42-a624-b048ab53376c",
   "metadata": {},
   "source": [
    "L1P11Q1 = MC('1. Question?',['A','B','C', 'D'],'D')\n",
    "L1P11Q2 = MC('2. Question?',['A','B','C', 'D'],'D')\n",
    "L1P11Q3 = MC('3. Question?',['A','B','C', 'D'],'D')\n",
    "L1P11Q4 = MC('4. Question?',['A','B','C', 'D'],'D')\n",
    "L1P11Q5 = MC('5. Question?',['A','B','C', 'D'],'D')"
   ]
  },
  {
   "cell_type": "code",
   "execution_count": 27,
   "id": "2e0addbd-2fae-4349-9ef4-2c263dd20a3f",
   "metadata": {},
   "outputs": [
    {
     "data": {
      "application/vnd.jupyter.widget-view+json": {
       "model_id": "be7a4b733de3429b8730cca62ee64dc4",
       "version_major": 2,
       "version_minor": 0
      },
      "text/plain": [
       "VBox(children=(Output(outputs=({'name': 'stdout', 'text': '1. What function would you use to drop columns in P…"
      ]
     },
     "metadata": {},
     "output_type": "display_data"
    },
    {
     "data": {
      "application/vnd.jupyter.widget-view+json": {
       "model_id": "304686ee390c48feb3ab4f8b996a687c",
       "version_major": 2,
       "version_minor": 0
      },
      "text/plain": [
       "VBox(children=(Output(outputs=({'name': 'stdout', 'text': '2. What does this code do? data2 = data[:17]\\n', 'o…"
      ]
     },
     "metadata": {},
     "output_type": "display_data"
    }
   ],
   "source": [
    "if __name__ == \"__main__\":\n",
    "    display(L1P11Q1, L1P11Q2)"
   ]
  },
  {
   "cell_type": "markdown",
   "id": "fbd02314-2ef4-43be-aa7f-82453a99c3aa",
   "metadata": {},
   "source": [
    "## Lesson 2"
   ]
  },
  {
   "cell_type": "markdown",
   "id": "fd7a9e27-0f5c-4f41-8c60-c0679796b53d",
   "metadata": {},
   "source": [
    "## Page 2"
   ]
  },
  {
   "cell_type": "code",
   "execution_count": 33,
   "id": "fc0a8ebf-f2f5-49e2-a86d-77552ea4f910",
   "metadata": {},
   "outputs": [],
   "source": [
    "L2P2Q1 = MultipleChoice('1. In which library is the t() function located?',['A. ggplot2','B. base R','C. tidyr', 'D. dplyr'],'C. tidyr')\n",
    "L2P2Q2 = MultipleChoice('2. What does the function t() do?',['A. Flips your data','B. Flips your data only from wide to long The t() function will flip your data the reverse way of what it is currently in.',\"C. Renames your data after a flip To rename your data after a flip, make use of the names() and gsub() functions.\", 'D. Changes your dataset to a data frame. This would be the function as.data.frame().'],'A. Flips your data')\n",
    "L2P2Q3 = MultipleChoice('3. Which function will allow you to determine the format of your data?',['A. t() This transposes your data.','B. str() This checks the variable type of your data.','C. class()', 'D. as.data.frame() This turns your data into a data frame.'],'C. class()')\n",
    "L2P2Q4 = MultipleChoice(\"4. True or False? gsub() conceptually functions similarly to Python's lambda x function.\",['A. True','B. False'],'A. True')\n"
   ]
  },
  {
   "cell_type": "code",
   "execution_count": 34,
   "id": "9da89662-599d-4833-a17a-a8a93847c536",
   "metadata": {},
   "outputs": [
    {
     "data": {
      "application/vnd.jupyter.widget-view+json": {
       "model_id": "98117f8f2adb493386008afb5417e745",
       "version_major": 2,
       "version_minor": 0
      },
      "text/plain": [
       "VBox(children=(Output(outputs=({'name': 'stdout', 'text': '1. In which library is the\\xa0t()\\xa0function locat…"
      ]
     },
     "metadata": {},
     "output_type": "display_data"
    },
    {
     "data": {
      "application/vnd.jupyter.widget-view+json": {
       "model_id": "a6a338a67ca24956a58c98a4fa694c4d",
       "version_major": 2,
       "version_minor": 0
      },
      "text/plain": [
       "VBox(children=(Output(outputs=({'name': 'stdout', 'text': '2. What does the function\\xa0t()\\xa0do?\\n', 'output…"
      ]
     },
     "metadata": {},
     "output_type": "display_data"
    },
    {
     "data": {
      "application/vnd.jupyter.widget-view+json": {
       "model_id": "5661373c7e554e3dae72a4c58dbb244b",
       "version_major": 2,
       "version_minor": 0
      },
      "text/plain": [
       "VBox(children=(Output(outputs=({'name': 'stdout', 'text': '3. Which function will allow you to determine the f…"
      ]
     },
     "metadata": {},
     "output_type": "display_data"
    },
    {
     "data": {
      "application/vnd.jupyter.widget-view+json": {
       "model_id": "794c98e470724ae49ce6699af3fd780c",
       "version_major": 2,
       "version_minor": 0
      },
      "text/plain": [
       "VBox(children=(Output(outputs=({'name': 'stdout', 'text': \"4. True or False? gsub() conceptually functions sim…"
      ]
     },
     "metadata": {},
     "output_type": "display_data"
    }
   ],
   "source": [
    "if __name__ == \"__main__\":\n",
    "    display(L2P2Q1, L2P2Q2, L2P2Q3, L2P2Q4)"
   ]
  },
  {
   "cell_type": "markdown",
   "id": "3df3489b-6780-4319-a4cf-e4260035f831",
   "metadata": {},
   "source": [
    "## Page 5"
   ]
  },
  {
   "cell_type": "code",
   "execution_count": 37,
   "id": "bfbf849f-0e90-4622-9549-34451f1e3aae",
   "metadata": {},
   "outputs": [],
   "source": [
    "L2P5Q1 = MultipleChoice('1. What does the argument set_index() allow you to do with the function .T?',['A. Flip the data from the long to wide','B. Flip the data from wide to long','C. Automatically re-name the transposed data columns', 'D. Change the Python system from zero-index to one-index'],'C. Automatically re-name the transposed data columns')\n"
   ]
  },
  {
   "cell_type": "code",
   "execution_count": 38,
   "id": "00b75a16-5f3a-4c50-835e-d2cdb8b5fc51",
   "metadata": {},
   "outputs": [
    {
     "data": {
      "application/vnd.jupyter.widget-view+json": {
       "model_id": "0d89554ecf894ba6b5ac39fa9b672e1c",
       "version_major": 2,
       "version_minor": 0
      },
      "text/plain": [
       "VBox(children=(Output(outputs=({'name': 'stdout', 'text': '1. What does the argument\\xa0set_index()\\xa0allow y…"
      ]
     },
     "metadata": {},
     "output_type": "display_data"
    }
   ],
   "source": [
    "if __name__ == \"__main__\":\n",
    "    display(L2P5Q1)"
   ]
  },
  {
   "cell_type": "markdown",
   "id": "4ffabc98-4399-4737-8f8b-ec99f1eae529",
   "metadata": {},
   "source": [
    "## Page 8"
   ]
  },
  {
   "cell_type": "code",
   "execution_count": 39,
   "id": "a4b7c6b6-3d4e-4e1d-a16b-bbeff996b20f",
   "metadata": {},
   "outputs": [],
   "source": [
    "L2P8Q1 = MultipleChoice('1.True or False? It is easy to transpose small amounts of data in a spreadsheet program.',['A. True','B. False'],'A. True')\n"
   ]
  },
  {
   "cell_type": "code",
   "execution_count": 40,
   "id": "067f4336-7f3d-4622-a10c-10682361c6ba",
   "metadata": {},
   "outputs": [
    {
     "data": {
      "application/vnd.jupyter.widget-view+json": {
       "model_id": "1ca142b616c04aa9a23da0629adaecc4",
       "version_major": 2,
       "version_minor": 0
      },
      "text/plain": [
       "VBox(children=(Output(outputs=({'name': 'stdout', 'text': '1.True or False? It is easy to transpose small amou…"
      ]
     },
     "metadata": {},
     "output_type": "display_data"
    }
   ],
   "source": [
    "if __name__ == \"__main__\":\n",
    "    display(L2P8Q1)"
   ]
  },
  {
   "cell_type": "markdown",
   "id": "afe2c131-7318-42a8-bad1-e12c9739ab8f",
   "metadata": {},
   "source": [
    "## Page 9"
   ]
  },
  {
   "cell_type": "code",
   "execution_count": 42,
   "id": "b30a483f-2ad3-4221-94f9-6f0799b10818",
   "metadata": {},
   "outputs": [],
   "source": [
    "L2P9Q1 = MultipleChoice('1. Which type of join would provide all the data in both tables?',['A. Full Outer','B. Inner','C. Left', 'D. Right'],'A. Full Outer')\n",
    "L2P9Q2 = MultipleChoice('2. Which type of join would provide all the data on the left, but only data that matched the first table on the right?',['A. Full Outer','B. Inner','C. Left', 'D. Right'],'C. Left')\n",
    "L2P9Q3 = MultipleChoice('3. If you were adding data to the bottom of your dataset, or columns to the end of your dataset, what is this called?',['A. Concatenating','B. Merging','C. Joining', 'D. Appending'],'D. Appending')\n"
   ]
  },
  {
   "cell_type": "code",
   "execution_count": 43,
   "id": "bbbe39a4-727b-4a09-a400-00a26e044fb2",
   "metadata": {},
   "outputs": [
    {
     "data": {
      "application/vnd.jupyter.widget-view+json": {
       "model_id": "43673298a96c4c80b720754f5cb34c63",
       "version_major": 2,
       "version_minor": 0
      },
      "text/plain": [
       "VBox(children=(Output(outputs=({'name': 'stdout', 'text': '1. Which type of join would provide all the data in…"
      ]
     },
     "metadata": {},
     "output_type": "display_data"
    },
    {
     "data": {
      "application/vnd.jupyter.widget-view+json": {
       "model_id": "548f2bf6bc7f464596788a2fdbce8a4f",
       "version_major": 2,
       "version_minor": 0
      },
      "text/plain": [
       "VBox(children=(Output(outputs=({'name': 'stdout', 'text': '2. Which type of join would provide all the data on…"
      ]
     },
     "metadata": {},
     "output_type": "display_data"
    },
    {
     "data": {
      "application/vnd.jupyter.widget-view+json": {
       "model_id": "59806e6c7a9d42e791ab0d8c2cc98630",
       "version_major": 2,
       "version_minor": 0
      },
      "text/plain": [
       "VBox(children=(Output(outputs=({'name': 'stdout', 'text': '3. If you were adding data to the bottom of your da…"
      ]
     },
     "metadata": {},
     "output_type": "display_data"
    }
   ],
   "source": [
    "if __name__ == \"__main__\":\n",
    "    display(L2P9Q1, L2P9Q2, L2P9Q3)"
   ]
  },
  {
   "cell_type": "markdown",
   "id": "c0750caf-51bf-44b0-97b0-36a5a936a157",
   "metadata": {},
   "source": [
    "## Page 10"
   ]
  },
  {
   "cell_type": "code",
   "execution_count": 46,
   "id": "962fbce1-d8ee-4052-b3a1-59fd0e1a836a",
   "metadata": {},
   "outputs": [],
   "source": [
    "L2P10Q1 = MC('1. True or False? By default, R provides an Outer Join.',['A. True','B. False'],'B. False', cor='False: R provides an inner join by default, but you can change it to an outer join by using the argument all=TRUE.', incor=\" \")\n",
    "L2P10Q2 = MC('2. True or False? It is possible to merge based on columns that contain the same data, but are named differently.',['A. True','B. False'],'A. True', cor= \"True: You will need to make use of the by x= and by y= arguments to do so.\", incor= \" \")\n"
   ]
  },
  {
   "cell_type": "code",
   "execution_count": 48,
   "id": "48e2b24d-4a5b-4f22-bb77-c5159b6b7df5",
   "metadata": {},
   "outputs": [
    {
     "data": {
      "application/vnd.jupyter.widget-view+json": {
       "model_id": "f0273e3b2b1d4518b609d43af1f69e9a",
       "version_major": 2,
       "version_minor": 0
      },
      "text/plain": [
       "VBox(children=(Output(outputs=({'name': 'stdout', 'text': '1. True or False? By default, R provides an Outer J…"
      ]
     },
     "metadata": {},
     "output_type": "display_data"
    },
    {
     "data": {
      "application/vnd.jupyter.widget-view+json": {
       "model_id": "f8ef9e6c84144a12b843dd2817447715",
       "version_major": 2,
       "version_minor": 0
      },
      "text/plain": [
       "VBox(children=(Output(outputs=({'name': 'stdout', 'text': '2. True or False? It is possible to merge based on …"
      ]
     },
     "metadata": {},
     "output_type": "display_data"
    }
   ],
   "source": [
    "if __name__ == \"__main__\":\n",
    "    display(L2P10Q1, L2P10Q2)"
   ]
  },
  {
   "cell_type": "markdown",
   "id": "f80e4487-e16e-4e0c-943b-4261c69192d4",
   "metadata": {},
   "source": [
    "## Page 11"
   ]
  },
  {
   "cell_type": "code",
   "execution_count": 49,
   "id": "319447e2-ccda-4a37-8933-6762bd7d05c7",
   "metadata": {},
   "outputs": [],
   "source": [
    "L2P11Q1 = MultipleChoice('1. What is the function for appending data in R?',['A. join()','B. merge()','C. rbind()', 'D. append()'],'C. rbind()')\n"
   ]
  },
  {
   "cell_type": "code",
   "execution_count": 50,
   "id": "c64a7c46-f5f7-4e3b-9ed8-476593f27ffe",
   "metadata": {},
   "outputs": [
    {
     "data": {
      "application/vnd.jupyter.widget-view+json": {
       "model_id": "67055ae78f7448f6ba949fba52e326e1",
       "version_major": 2,
       "version_minor": 0
      },
      "text/plain": [
       "VBox(children=(Output(outputs=({'name': 'stdout', 'text': '1. What is the function for appending data in R?\\n'…"
      ]
     },
     "metadata": {},
     "output_type": "display_data"
    }
   ],
   "source": [
    "if __name__ == \"__main__\":\n",
    "    display(L2P11Q1)"
   ]
  },
  {
   "cell_type": "markdown",
   "id": "e852a289-99b8-426d-ad94-9c05a49cfeae",
   "metadata": {},
   "source": [
    "## Page 14"
   ]
  },
  {
   "cell_type": "code",
   "execution_count": 51,
   "id": "019ce21a-1415-4aeb-9c48-ea230865d48b",
   "metadata": {},
   "outputs": [],
   "source": [
    "L2P14Q1 = MultipleChoice('1. True or False? One of the benefits of merging in Python is that you are not required to specify a column to merge by.',['A. True','B. False'],'A. True')\n",
    "L2P14Q2 = MultipleChoice('2. If the columns you are merging by have different names, how will you specify them?',['A. Using how= This is for specifying the type of join.','B. Using left_on= and right_on=','C. Using _x and _y. This is what happens if you have duplicate column names.', 'D. Using on= .You will use this to specify matching column names to merge upon.'],'B. Using left_on= and right_on=')\n",
    "L2P14Q3 = MultipleChoice('3. Which one of these would provide a join that only provides records that match in both tables?',['A. how=\"left\"','B. how=\"right\"','C. how=\"outer\"', 'D. how=\"inner\"'],'D. how=\"inner\"')\n"
   ]
  },
  {
   "cell_type": "code",
   "execution_count": 52,
   "id": "d7fc9f4c-f859-4227-b4dd-78a67b86e9ed",
   "metadata": {},
   "outputs": [
    {
     "data": {
      "application/vnd.jupyter.widget-view+json": {
       "model_id": "5202eb61185241568608c2a4801effe4",
       "version_major": 2,
       "version_minor": 0
      },
      "text/plain": [
       "VBox(children=(Output(outputs=({'name': 'stdout', 'text': '1. True or False? One of the benefits of merging in…"
      ]
     },
     "metadata": {},
     "output_type": "display_data"
    },
    {
     "data": {
      "application/vnd.jupyter.widget-view+json": {
       "model_id": "4ee9805f77474fcdac28096c32520d82",
       "version_major": 2,
       "version_minor": 0
      },
      "text/plain": [
       "VBox(children=(Output(outputs=({'name': 'stdout', 'text': '2. If the columns you are merging by have different…"
      ]
     },
     "metadata": {},
     "output_type": "display_data"
    },
    {
     "data": {
      "application/vnd.jupyter.widget-view+json": {
       "model_id": "c569d9fc7c9349a5b274990721cc3f19",
       "version_major": 2,
       "version_minor": 0
      },
      "text/plain": [
       "VBox(children=(Output(outputs=({'name': 'stdout', 'text': '3. Which one of these would provide a join that onl…"
      ]
     },
     "metadata": {},
     "output_type": "display_data"
    }
   ],
   "source": [
    "if __name__ == \"__main__\":\n",
    "    display(L2P14Q1, L2P14Q2, L2P14Q3)"
   ]
  },
  {
   "cell_type": "markdown",
   "id": "23f17404-6e7f-44ed-a944-bed854c1934b",
   "metadata": {},
   "source": [
    "## Page 15"
   ]
  },
  {
   "cell_type": "code",
   "execution_count": 53,
   "id": "9a6c2168-b61b-4a5e-809f-02e23ab80b3d",
   "metadata": {},
   "outputs": [],
   "source": [
    "L2P15Q1 = MultipleChoice('1. Which argument will help you determine if you have overlapping indices when appending in Python?',['A. verify_integrity= True','B. ignore_index= True. This gives the dataset a common index.','C. how= \"inner\". This performs an inner join on the data.', 'D. pd.concat(). This is the function to merge data.'],'A. verify_integrity= True')\n"
   ]
  },
  {
   "cell_type": "code",
   "execution_count": 54,
   "id": "e7f185f2-195a-4772-b7d5-2c5037040fd0",
   "metadata": {},
   "outputs": [
    {
     "data": {
      "application/vnd.jupyter.widget-view+json": {
       "model_id": "8515f674b0734b6ba7eab32b4931efa0",
       "version_major": 2,
       "version_minor": 0
      },
      "text/plain": [
       "VBox(children=(Output(outputs=({'name': 'stdout', 'text': '1. Which argument will help you determine if you ha…"
      ]
     },
     "metadata": {},
     "output_type": "display_data"
    }
   ],
   "source": [
    "if __name__ == \"__main__\":\n",
    "    display(L2P15Q1)"
   ]
  },
  {
   "cell_type": "markdown",
   "id": "b3741fa8-ddd5-45b4-9741-5903005eec2c",
   "metadata": {},
   "source": [
    "## Page 18"
   ]
  },
  {
   "cell_type": "code",
   "execution_count": 57,
   "id": "050c2541-9c31-47d6-b47c-c959247a3556",
   "metadata": {},
   "outputs": [],
   "source": [
    "L2P18Q1 = MultipleChoice('1. To easily summarize your data by a particular variable, you would use which function in R?',['A. merge()','B. group_by()','C. aggregate()', 'D. sum()'],'C. aggregate()')\n",
    "L2P18Q2 = MultipleChoice('2. Which of the following descriptive statistics is NOT an argument for the function aggregate()?',['A. n','B. sum','C. median', 'D. mean'],'A. n')\n"
   ]
  },
  {
   "cell_type": "code",
   "execution_count": 58,
   "id": "ecd5b9ff-374e-4cb3-9324-7cc0ac125385",
   "metadata": {},
   "outputs": [
    {
     "data": {
      "application/vnd.jupyter.widget-view+json": {
       "model_id": "f080776f82dd4c1a813f263f30a95c92",
       "version_major": 2,
       "version_minor": 0
      },
      "text/plain": [
       "VBox(children=(Output(outputs=({'name': 'stdout', 'text': '1. To easily summarize your data by a particular va…"
      ]
     },
     "metadata": {},
     "output_type": "display_data"
    },
    {
     "data": {
      "application/vnd.jupyter.widget-view+json": {
       "model_id": "47e62d3d9c144f4eabbfb25e27e5cd1d",
       "version_major": 2,
       "version_minor": 0
      },
      "text/plain": [
       "VBox(children=(Output(outputs=({'name': 'stdout', 'text': '2. Which of the following descriptive statistics is…"
      ]
     },
     "metadata": {},
     "output_type": "display_data"
    }
   ],
   "source": [
    "if __name__ == \"__main__\":\n",
    "    display(L2P18Q1, L2P18Q2)"
   ]
  },
  {
   "cell_type": "markdown",
   "id": "9ba07eb1-a5d2-42fd-9c84-3cc90f44ef11",
   "metadata": {},
   "source": [
    "## Page 19"
   ]
  },
  {
   "cell_type": "code",
   "execution_count": 59,
   "id": "e0b592aa-c65b-4f93-8db1-23e1328c6834",
   "metadata": {},
   "outputs": [],
   "source": [
    "L2P19Q1 = MultipleChoice('1. In which package is the function groupby() housed?',['A. pandas','B. numpy'],'A. pandas')\n",
    "L2P19Q2 = MultipleChoice('2. Which of the following descriptive statistics is NOT an operation used with the function groupby()?',['A. sd','B. sum','C. median', 'D. mean'],'A. sd')\n"
   ]
  },
  {
   "cell_type": "code",
   "execution_count": 60,
   "id": "683c5386-df66-48e2-b302-f3cbdbe26e0b",
   "metadata": {},
   "outputs": [
    {
     "data": {
      "application/vnd.jupyter.widget-view+json": {
       "model_id": "0e165ae1d80f40b58608d54f1d016560",
       "version_major": 2,
       "version_minor": 0
      },
      "text/plain": [
       "VBox(children=(Output(outputs=({'name': 'stdout', 'text': '1. In which package is the function groupby() house…"
      ]
     },
     "metadata": {},
     "output_type": "display_data"
    },
    {
     "data": {
      "application/vnd.jupyter.widget-view+json": {
       "model_id": "35a50c4a5d0e4964b297c5510334a22d",
       "version_major": 2,
       "version_minor": 0
      },
      "text/plain": [
       "VBox(children=(Output(outputs=({'name': 'stdout', 'text': '2. Which of the following descriptive statistics is…"
      ]
     },
     "metadata": {},
     "output_type": "display_data"
    }
   ],
   "source": [
    "if __name__ == \"__main__\":\n",
    "    display(L2P19Q1, L2P19Q2)"
   ]
  },
  {
   "cell_type": "markdown",
   "id": "c536d2c7-6364-4ba6-b985-8ece3043cc56",
   "metadata": {},
   "source": [
    "## Page 20"
   ]
  },
  {
   "cell_type": "code",
   "execution_count": 62,
   "id": "c604eafe-c1bc-49e3-8e9f-4819be376dd5",
   "metadata": {},
   "outputs": [],
   "source": [
    "L2P20Q1 = MultipleChoice('1. True or false? Pivot tables are a way for your clients to easily examine data on their own.',['A. True','B. False'],'A. True')\n"
   ]
  },
  {
   "cell_type": "code",
   "execution_count": 63,
   "id": "bfc17006-59a2-4e0e-8537-b598836dfaf5",
   "metadata": {},
   "outputs": [
    {
     "data": {
      "application/vnd.jupyter.widget-view+json": {
       "model_id": "1eaa0909d44b41bc817d48cfd7fa4c6c",
       "version_major": 2,
       "version_minor": 0
      },
      "text/plain": [
       "VBox(children=(Output(outputs=({'name': 'stdout', 'text': '1. True or false? Pivot tables are a way for your c…"
      ]
     },
     "metadata": {},
     "output_type": "display_data"
    }
   ],
   "source": [
    "if __name__ == \"__main__\":\n",
    "    display(L2P20Q1)"
   ]
  },
  {
   "cell_type": "code",
   "execution_count": null,
   "id": "4229aa81-838e-4151-81ed-5200bce236ff",
   "metadata": {},
   "outputs": [],
   "source": []
  }
 ],
 "metadata": {
  "kernelspec": {
   "display_name": "Python 3 (ipykernel)",
   "language": "python",
   "name": "python3"
  },
  "language_info": {
   "codemirror_mode": {
    "name": "ipython",
    "version": 3
   },
   "file_extension": ".py",
   "mimetype": "text/x-python",
   "name": "python",
   "nbconvert_exporter": "python",
   "pygments_lexer": "ipython3",
   "version": "3.9.9"
  }
 },
 "nbformat": 4,
 "nbformat_minor": 5
}
