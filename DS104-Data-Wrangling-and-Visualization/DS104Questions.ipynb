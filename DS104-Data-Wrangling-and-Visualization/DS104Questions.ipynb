{
 "cells": [
  {
   "cell_type": "markdown",
   "id": "701c6664-c3af-4538-bac7-f1a5cc1826cd",
   "metadata": {},
   "source": [
    "# DS104 Questions\n",
    "\n",
    "## Lesson 1\n",
    "\n",
    "## Page 2"
   ]
  },
  {
   "cell_type": "code",
   "execution_count": 1,
   "id": "9fdc1222-3d73-42e1-b6bf-b95d73e3d8ff",
   "metadata": {},
   "outputs": [],
   "source": [
    "from DS_Students import *"
   ]
  },
  {
   "cell_type": "code",
   "execution_count": 11,
   "id": "6963cd34-6d30-40e7-9b8d-b9e9be3e36a6",
   "metadata": {},
   "outputs": [],
   "source": [
    "L1P2Q1 = MC('1. What will the following code do? babies$Footprint = \"Yes\"',['A. Create a new column in the Footprint dataset called babies that is filled with the value Yes','B. Create a new column in the babies dataset called Footprint that is filled witht the value Yes','C. Create a new column in the babies dataset called Footprint that is empty', 'D. Create a new column in the Footprint dataset called babies that is empty'],'B. Create a new column in the babies dataset called Footprint that is filled witht the value Yes', cor='Adding Columns in R: DatasetName$AddingNewColumnName = \"NewValueInsideSpecifiedColumn\"', incor='')\n"
   ]
  },
  {
   "cell_type": "markdown",
   "id": "bc25d849-f627-4c10-a60e-2a48fb7108ae",
   "metadata": {},
   "source": [
    "L1P2Q1 = MC('1. Question?',['A','B','C', 'D'],'D')\n",
    "L1P2Q2 = MC('2. Question?',['A','B','C', 'D'],'D')\n",
    "L1P2Q3 = MC('3. Question?',['A','B','C', 'D'],'D')\n",
    "L1P2Q4 = MC('4. Question?',['A','B','C', 'D'],'D')\n",
    "L1P2Q5 = MC('5. Question?',['A','B','C', 'D'],'D')\n"
   ]
  },
  {
   "cell_type": "code",
   "execution_count": 13,
   "id": "6f20d99a-0d5d-482e-82a1-2adf01327726",
   "metadata": {},
   "outputs": [
    {
     "data": {
      "application/vnd.jupyter.widget-view+json": {
       "model_id": "9aefe80169fd4428928ca42a0fde3c6a",
       "version_major": 2,
       "version_minor": 0
      },
      "text/plain": [
       "VBox(children=(Output(outputs=({'name': 'stdout', 'text': '1. What will the following code do? babies$Footprin…"
      ]
     },
     "metadata": {},
     "output_type": "display_data"
    }
   ],
   "source": [
    "if __name__ == \"__main__\":\n",
    "    display(L1P2Q1)"
   ]
  },
  {
   "cell_type": "markdown",
   "id": "59237b93-23a1-4511-9c47-069ff58089ca",
   "metadata": {},
   "source": [
    "## Page 3"
   ]
  },
  {
   "cell_type": "code",
   "execution_count": 14,
   "id": "804f8220-30a7-408a-b4b6-c31c43c63510",
   "metadata": {},
   "outputs": [],
   "source": [
    "L1P3Q1 = MC('2. What will the following code do? babies[\"Footprint\"] = \"No\"',['A. Create a new column in the Footprint dataset called babies that is filled with the value No','B. Create a new column in the babies dataset called Footprint that is filled witht the value No','C.Create a new column in the babies dataset called Footprint that is empty ', 'D. Create a new column in the Footprint dataset called babies that is empty'],'B. Create a new column in the babies dataset called Footprint that is filled witht the value No', cor='Adding Columns in Python: DatasetName[\"AddingNewColumnName\"] = \"NewValueInsideSpecifiedColumn\"', incor='')\n"
   ]
  },
  {
   "cell_type": "markdown",
   "id": "35661294-10f1-4ed9-b382-e7f263e38976",
   "metadata": {},
   "source": [
    "L1P3Q1 = MC('1. Question?',['A','B','C', 'D'],'D')\n",
    "L1P3Q2 = MC('2. Question?',['A','B','C', 'D'],'D')\n",
    "L1P3Q3 = MC('3. Question?',['A','B','C', 'D'],'D')\n",
    "L1P3Q4 = MC('4. Question?',['A','B','C', 'D'],'D')\n",
    "L1P3Q5 = MC('5. Question?',['A','B','C', 'D'],'D')\n"
   ]
  },
  {
   "cell_type": "code",
   "execution_count": 15,
   "id": "395b4e32-213a-432c-8570-dba7e76bc602",
   "metadata": {},
   "outputs": [
    {
     "data": {
      "application/vnd.jupyter.widget-view+json": {
       "model_id": "c5844017b3c14930a4251c1a18cbf175",
       "version_major": 2,
       "version_minor": 0
      },
      "text/plain": [
       "VBox(children=(Output(outputs=({'name': 'stdout', 'text': '2. What will the following code do? babies[\"Footpri…"
      ]
     },
     "metadata": {},
     "output_type": "display_data"
    }
   ],
   "source": [
    "if __name__ == \"__main__\":\n",
    "    display(L1P3Q1)"
   ]
  },
  {
   "cell_type": "markdown",
   "id": "214526dd-72ee-40d8-a2e5-41e165dcd951",
   "metadata": {},
   "source": [
    "## Page 4"
   ]
  },
  {
   "cell_type": "code",
   "execution_count": 23,
   "id": "bb0caab7-f101-4130-8828-01a93915ed5d",
   "metadata": {},
   "outputs": [],
   "source": [
    "L1P4Q1 = MC('3. What is the function used in R to rename columns?',['A. rename()','B. names()','C. There is no function'],'B. names()', cor='names() function, renames columns in R', incor= '')\n",
    "L1P4Q2 = MC('2. What does the following code do? names(babies)[names(babies) == \"Weight\"] <- \"BabyWeight\"',['A. Change the values in the Babyweight column to Weight','B. Change the values in the Weight column to BabyWeight','C. Rename the BabyWeight column to Weight', 'D. Rename the Weight column to BabyWeight'],'D. Rename the Weight column to BabyWeight', cor= 'names(DatasetName)[names(DatasetName) == \"OldColumnName\"] <- \"NewColumnName\"', incor='')\n",
    "L1P4Q3 = MC('3. True or False? The following is a good column name: Gen Kids',['A. True','B. False'],'B. False', cor=' False: This column is not a good name to rename a column because it contains spaces and the meaning is not very clear - gen could stand for gender, generation, etc', incor='')\n"
   ]
  },
  {
   "cell_type": "markdown",
   "id": "cdd63ebc-99a6-42c9-8ca5-e132dd120d24",
   "metadata": {},
   "source": [
    "L1P4Q1 = MC('1. Question?',['A','B','C', 'D'],'D')\n",
    "L1P4Q2 = MC('2. Question?',['A','B','C', 'D'],'D')\n",
    "L1P4Q3 = MC('3. Question?',['A','B','C', 'D'],'D')\n",
    "L1P4Q4 = MC('4. Question?',['A','B','C', 'D'],'D')\n",
    "L1P4Q5 = MC('5. Question?',['A','B','C', 'D'],'D')\n"
   ]
  },
  {
   "cell_type": "code",
   "execution_count": 24,
   "id": "3adf2b8c-6d74-449d-abd7-f2ecd2cef18e",
   "metadata": {},
   "outputs": [
    {
     "data": {
      "application/vnd.jupyter.widget-view+json": {
       "model_id": "f1eb9aeed44d4102abb1df816ede534c",
       "version_major": 2,
       "version_minor": 0
      },
      "text/plain": [
       "VBox(children=(Output(outputs=({'name': 'stdout', 'text': '3. What is the function used in R to rename columns…"
      ]
     },
     "metadata": {},
     "output_type": "display_data"
    },
    {
     "data": {
      "application/vnd.jupyter.widget-view+json": {
       "model_id": "6d07f6f20b92417e91ac7a4ff0095b04",
       "version_major": 2,
       "version_minor": 0
      },
      "text/plain": [
       "VBox(children=(Output(outputs=({'name': 'stdout', 'text': '2. What does the following code do? names(babies)[n…"
      ]
     },
     "metadata": {},
     "output_type": "display_data"
    },
    {
     "data": {
      "application/vnd.jupyter.widget-view+json": {
       "model_id": "12b94b7b1aba4908a5245a4b1cb5092d",
       "version_major": 2,
       "version_minor": 0
      },
      "text/plain": [
       "VBox(children=(Output(outputs=({'name': 'stdout', 'text': '3. True or False? The following is a good column na…"
      ]
     },
     "metadata": {},
     "output_type": "display_data"
    }
   ],
   "source": [
    "if __name__ == \"__main__\":\n",
    "    display(L1P4Q1, L1P4Q2, L1P4Q3)"
   ]
  },
  {
   "cell_type": "markdown",
   "id": "108d5139-1700-4dde-8d88-66796da8fae0",
   "metadata": {},
   "source": [
    "## Page 5"
   ]
  },
  {
   "cell_type": "code",
   "execution_count": 33,
   "id": "27aac8f4-a1d5-465f-92d9-534378e76d18",
   "metadata": {},
   "outputs": [],
   "source": [
    "L1P5Q1 = MC('1. What is the function used in Python to rename columns?',['A. renames()','B. names() This is the function used in R','C. inplace = True , This is the agrument used to make the change permanent', 'D. There is no function'],'A. renames()', cor=\" The rename() method of pandas.DataFrame to change column / index name individually.\", incor= '')\n",
    "L1P5Q2 = MC('2. What does the following code do? babies.rename(columns={\"Weight\" : \"BabyWeight\"}, inplace=True)',['A. Change the values in the Babyweight column to Weight','B. Change the values in the Weight column to BabyWeight','C. Rename the BabyWeight column to Weight', 'D. Rename the Weight column to BabyWeight'],'D. Rename the Weight column to BabyWeight', cor= 'DatasetName.rename(columns={\"OldColumnName\" : \"NewColumnName\"}, inplace=True)', incor='')\n",
    "L1P5Q3 = MC('3. True or False?',['A. True','B. False'],'B. False', cor= \"Python does not support periods as part of variable names\", incor='')\n"
   ]
  },
  {
   "cell_type": "markdown",
   "id": "dbad1965-c117-4e0a-a490-c72c2b834dc1",
   "metadata": {},
   "source": [
    "L1P5Q1 = MC('1. Question?',['A','B','C', 'D'],'D')\n",
    "L1P5Q2 = MC('2. Question?',['A','B','C', 'D'],'D')\n",
    "L1P5Q3 = MC('3. Question?',['A','B','C', 'D'],'D')\n",
    "L1P5Q4 = MC('4. Question?',['A','B','C', 'D'],'D')\n",
    "L1P5Q5 = MC('5. Question?',['A','B','C', 'D'],'D')"
   ]
  },
  {
   "cell_type": "code",
   "execution_count": 34,
   "id": "e33a33b6-a747-41db-aa4c-9dc9a112fd0a",
   "metadata": {},
   "outputs": [
    {
     "data": {
      "application/vnd.jupyter.widget-view+json": {
       "model_id": "1bfb3d69e8064371bfe062407b867c4e",
       "version_major": 2,
       "version_minor": 0
      },
      "text/plain": [
       "VBox(children=(Output(outputs=({'name': 'stdout', 'text': '1. What is the function used in Python to rename co…"
      ]
     },
     "metadata": {},
     "output_type": "display_data"
    },
    {
     "data": {
      "application/vnd.jupyter.widget-view+json": {
       "model_id": "eb582e6a86594458a7c1e09732863feb",
       "version_major": 2,
       "version_minor": 0
      },
      "text/plain": [
       "VBox(children=(Output(outputs=({'name': 'stdout', 'text': '2. What does the following code do? babies.rename(c…"
      ]
     },
     "metadata": {},
     "output_type": "display_data"
    },
    {
     "data": {
      "application/vnd.jupyter.widget-view+json": {
       "model_id": "6b7c6375e5e14443957c3ca955e8469a",
       "version_major": 2,
       "version_minor": 0
      },
      "text/plain": [
       "VBox(children=(Output(outputs=({'name': 'stdout', 'text': '3. True or False?\\n', 'output_type': 'stream'},)), …"
      ]
     },
     "metadata": {},
     "output_type": "display_data"
    }
   ],
   "source": [
    "if __name__ == \"__main__\":\n",
    "    display(L1P5Q1, L1P5Q2, L1P5Q3)"
   ]
  },
  {
   "cell_type": "markdown",
   "id": "a84efdae-f709-44fc-a554-1b2b668e6038",
   "metadata": {},
   "source": [
    "## Page 6"
   ]
  },
  {
   "cell_type": "code",
   "execution_count": 26,
   "id": "ef7e45c2-7bbc-4b6e-8ee9-dd81e4b3acea",
   "metadata": {},
   "outputs": [],
   "source": [
    "L1P6Q1 = MC('1. Which function will combine columns in R?',['A. c()','B. names()','C. unite()', 'D. seperate()'],'C. unite()', cor= 'The unite() method is used to merge two or more columns into a single column or variable', incor= '')\n",
    "L1P6Q2 = MultipleChoice(\"2. True or False? If you get this warning message, then there's a chance your separators haven't worked like you thought when combining columns: Expected X pieces. Additional pieces discard.\",['A. True','B. False'],'A. True')\n"
   ]
  },
  {
   "cell_type": "markdown",
   "id": "4eb34ae0-9f23-4dec-9166-715ffe4ecb15",
   "metadata": {},
   "source": [
    "L1P6Q1 = MC('1. Question?',['A','B','C', 'D'],'D')\n",
    "L1P6Q2 = MC('2. Question?',['A','B','C', 'D'],'D')\n",
    "L1P6Q3 = MC('3. Question?',['A','B','C', 'D'],'D')\n",
    "L1P6Q4 = MC('4. Question?',['A','B','C', 'D'],'D')\n",
    "L1P6Q5 = MC('5. Question?',['A','B','C', 'D'],'D')"
   ]
  },
  {
   "cell_type": "code",
   "execution_count": 28,
   "id": "5e57d136-7016-44b0-b430-5f34233a786d",
   "metadata": {},
   "outputs": [
    {
     "data": {
      "application/vnd.jupyter.widget-view+json": {
       "model_id": "0ffc39550f9f4c43a7fa037f635c4565",
       "version_major": 2,
       "version_minor": 0
      },
      "text/plain": [
       "VBox(children=(Output(outputs=({'name': 'stdout', 'text': '1. Which function will combine columns in R?\\n', 'o…"
      ]
     },
     "metadata": {},
     "output_type": "display_data"
    },
    {
     "data": {
      "application/vnd.jupyter.widget-view+json": {
       "model_id": "8ffddc57fc55408687b42c3b8fe03261",
       "version_major": 2,
       "version_minor": 0
      },
      "text/plain": [
       "VBox(children=(Output(outputs=({'name': 'stdout', 'text': \"2. True or False? If you get this warning message, …"
      ]
     },
     "metadata": {},
     "output_type": "display_data"
    }
   ],
   "source": [
    "if __name__ == \"__main__\":\n",
    "    display(L1P6Q1, L1P6Q2)"
   ]
  },
  {
   "cell_type": "markdown",
   "id": "fcf406c2-3f4d-438e-8dc6-e53dcae822f7",
   "metadata": {},
   "source": [
    "## Page 7 CONTINUE HERE!!!!"
   ]
  },
  {
   "cell_type": "code",
   "execution_count": null,
   "id": "9b7ce9f2-156f-429a-b0c5-3cadc6f5173c",
   "metadata": {},
   "outputs": [],
   "source": [
    "L1P7Q1 = MC('1. What is does the sep= argument do?',['A. It is a character','B','C', 'D'],'D')\n",
    "L1P7Q2 = MC('2. Question?',['A','B','C', 'D'],'D')\n"
   ]
  },
  {
   "cell_type": "markdown",
   "id": "cc866ba2-e1f6-415d-b33f-8368fb31ea2b",
   "metadata": {},
   "source": [
    "L1P7Q1 = MC('1. Question?',['A','B','C', 'D'],'D')\n",
    "L1P7Q2 = MC('2. Question?',['A','B','C', 'D'],'D')\n",
    "L1P7Q3 = MC('3. Question?',['A','B','C', 'D'],'D')\n",
    "L1P7Q4 = MC('4. Question?',['A','B','C', 'D'],'D')\n",
    "L1P7Q5 = MC('5. Question?',['A','B','C', 'D'],'D')"
   ]
  },
  {
   "cell_type": "code",
   "execution_count": null,
   "id": "83eaf88c-2414-483b-8305-f7e679dc2cb4",
   "metadata": {},
   "outputs": [],
   "source": [
    "if __name__ == \"__main__\":\n",
    "    display(L1P7Q1, L1P7Q2, L1P7Q3, L1P7Q4, L1P7Q5)"
   ]
  },
  {
   "cell_type": "markdown",
   "id": "d9027fb4-ce19-4620-9afa-674232f5dcf2",
   "metadata": {},
   "source": [
    "## Page 8"
   ]
  },
  {
   "cell_type": "code",
   "execution_count": null,
   "id": "e5d99266-0b4b-4efa-87b3-ceb9c5d6b064",
   "metadata": {},
   "outputs": [],
   "source": []
  },
  {
   "cell_type": "code",
   "execution_count": null,
   "id": "410cf5af-97a9-4ad2-8627-79f78c4005e2",
   "metadata": {},
   "outputs": [],
   "source": [
    "L1P8Q1 = MC('1. Question?',['A','B','C', 'D'],'D')\n",
    "L1P8Q2 = MC('2. Question?',['A','B','C', 'D'],'D')\n",
    "L1P8Q3 = MC('3. Question?',['A','B','C', 'D'],'D')\n",
    "L1P8Q4 = MC('4. Question?',['A','B','C', 'D'],'D')\n",
    "L1P8Q5 = MC('5. Question?',['A','B','C', 'D'],'D')"
   ]
  },
  {
   "cell_type": "code",
   "execution_count": null,
   "id": "5a6b263b-b11e-4881-abde-87a8d7a17d2a",
   "metadata": {},
   "outputs": [],
   "source": [
    "if __name__ == \"__main__\":\n",
    "    display(L1P8Q1, L1P8Q2, L1P8Q3, L1P8Q4, L1P8Q5)"
   ]
  },
  {
   "cell_type": "markdown",
   "id": "fc0cc521-0127-4d74-bebf-d47201f1b19c",
   "metadata": {},
   "source": [
    "## Page 9"
   ]
  },
  {
   "cell_type": "code",
   "execution_count": null,
   "id": "7b3bb1e6-3fc9-4d24-868d-e570aabd6edf",
   "metadata": {},
   "outputs": [],
   "source": []
  },
  {
   "cell_type": "code",
   "execution_count": null,
   "id": "7d0212b6-4cb4-4278-b926-8fb6e43c9169",
   "metadata": {},
   "outputs": [],
   "source": [
    "L1P9Q1 = MC('1. Question?',['A','B','C', 'D'],'D')\n",
    "L1P9Q2 = MC('2. Question?',['A','B','C', 'D'],'D')\n",
    "L1P9Q3 = MC('3. Question?',['A','B','C', 'D'],'D')\n",
    "L1P9Q4 = MC('4. Question?',['A','B','C', 'D'],'D')\n",
    "L1P9Q5 = MC('5. Question?',['A','B','C', 'D'],'D')"
   ]
  },
  {
   "cell_type": "code",
   "execution_count": null,
   "id": "73ec7fdb-358e-4333-a960-fe26e4d83a3f",
   "metadata": {},
   "outputs": [],
   "source": [
    "if __name__ == \"__main__\":\n",
    "    display(L1P9Q1, L1P9Q2, L1P9Q3, L1P9Q4, L1P9Q5)"
   ]
  },
  {
   "cell_type": "markdown",
   "id": "c0a77dd3-e852-408a-8832-75fc8dd94444",
   "metadata": {},
   "source": [
    "## Page 10"
   ]
  },
  {
   "cell_type": "code",
   "execution_count": null,
   "id": "0ee6565d-e5c5-4d98-9b1c-4e6b16f058a2",
   "metadata": {},
   "outputs": [],
   "source": []
  },
  {
   "cell_type": "code",
   "execution_count": null,
   "id": "fde324e3-128c-45fb-a851-69adc96b1408",
   "metadata": {},
   "outputs": [],
   "source": [
    "L1P10Q1 = MC('1. Question?',['A','B','C', 'D'],'D')\n",
    "L1P10Q2 = MC('2. Question?',['A','B','C', 'D'],'D')\n",
    "L1P10Q3 = MC('3. Question?',['A','B','C', 'D'],'D')\n",
    "L1P10Q4 = MC('4. Question?',['A','B','C', 'D'],'D')\n",
    "L1P10Q5 = MC('5. Question?',['A','B','C', 'D'],'D')"
   ]
  },
  {
   "cell_type": "code",
   "execution_count": null,
   "id": "3a63ec17-2155-458c-aabf-cfcfd32dee63",
   "metadata": {},
   "outputs": [],
   "source": [
    "if __name__ == \"__main__\":\n",
    "    display(L1P10Q1, L1P10Q2, L1P10Q3, L1P10Q4, L1P10Q5)"
   ]
  },
  {
   "cell_type": "markdown",
   "id": "31205ce5-4ea0-4b22-8916-651509780013",
   "metadata": {},
   "source": [
    "## Page 11"
   ]
  },
  {
   "cell_type": "code",
   "execution_count": null,
   "id": "12e88c31-fd77-4f1d-8049-9f4912801b0d",
   "metadata": {},
   "outputs": [],
   "source": []
  },
  {
   "cell_type": "code",
   "execution_count": null,
   "id": "eb00ac3c-8888-4871-bb3d-e1e45caa0b91",
   "metadata": {},
   "outputs": [],
   "source": [
    "L1P5Q1 = MC('1. Question?',['A','B','C', 'D'],'D')\n",
    "L1P5Q2 = MC('2. Question?',['A','B','C', 'D'],'D')\n",
    "L1P5Q3 = MC('3. Question?',['A','B','C', 'D'],'D')\n",
    "L1P5Q4 = MC('4. Question?',['A','B','C', 'D'],'D')\n",
    "L1P5Q5 = MC('5. Question?',['A','B','C', 'D'],'D')"
   ]
  },
  {
   "cell_type": "code",
   "execution_count": null,
   "id": "2e0addbd-2fae-4349-9ef4-2c263dd20a3f",
   "metadata": {},
   "outputs": [],
   "source": [
    "if __name__ == \"__main__\":\n",
    "    display(L1P5Q1, L1P5Q2, L1P5Q3, L1P5Q4, L1P5Q5)"
   ]
  },
  {
   "cell_type": "markdown",
   "id": "fbd02314-2ef4-43be-aa7f-82453a99c3aa",
   "metadata": {},
   "source": [
    "## Lesson 2"
   ]
  },
  {
   "cell_type": "code",
   "execution_count": null,
   "id": "d909d1fb-8f00-4e28-b8ed-31c3be525a4c",
   "metadata": {},
   "outputs": [],
   "source": []
  }
 ],
 "metadata": {
  "kernelspec": {
   "display_name": "Python 3 (ipykernel)",
   "language": "python",
   "name": "python3"
  },
  "language_info": {
   "codemirror_mode": {
    "name": "ipython",
    "version": 3
   },
   "file_extension": ".py",
   "mimetype": "text/x-python",
   "name": "python",
   "nbconvert_exporter": "python",
   "pygments_lexer": "ipython3",
   "version": "3.9.9"
  }
 },
 "nbformat": 4,
 "nbformat_minor": 5
}
