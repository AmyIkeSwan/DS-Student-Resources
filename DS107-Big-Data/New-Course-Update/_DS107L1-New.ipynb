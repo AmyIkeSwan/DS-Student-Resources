{
 "cells": [
  {
   "cell_type": "markdown",
   "id": "50e6ddbb-52d3-4a02-9b69-100a4181e3b0",
   "metadata": {},
   "source": [
    "# DS107 Big Data : Lesson One Companion Notebook"
   ]
  },
  {
   "cell_type": "markdown",
   "id": "d1bd4bfc-9b15-4b80-87b4-b8b60eb56371",
   "metadata": {},
   "source": [
    "### Table of Contents <a class=\"anchor\" id=\"DS107L1_toc\"></a>\n",
    "\n",
    "* [Table of Contents](#DS107L1_toc)\n",
    "    * [Page 1 - Module Overview](#DS107L1_page_1)\n",
    "    * [Page 2 - What is Big Data?](#DS107L1_page_2)\n",
    "    * [Page 3 - Introduction to Amazon Academy](#DS107L1_page_3)\n",
    "    * [Page 4 - Introduction to Cloud Computer Core Concepts](#DS107L1_page_4)\n",
    "    * [Page 5 - The Advantages of Cloud Computing](#DS107L1_page_5)\n",
    "    * [Page 6 - Cloud Economics and Billing](#DS107L1_page_6)\n",
    "    * [Page 7 - Fundamentals of pricing](#DS107L1_page_7)\n",
    "    * [Page 8 - Total Cost of Ownership](#DS107L1_page_8)\n",
    "    * [Page 9 - AWS Organizations](#DS107L1_page_9)\n",
    "    * [Page 10 - AWS Billing and Cost Management](#DS107L1_page_10)\n",
    "    * [Page 11 - Technical Support](#DS107L1_page_11)\n",
    "    * [Page 12 - Key Terms](#DS107L1_page_12)\n",
    "    * [Page 13 - Lesson 1 Hands-On](#DS107L1_page_13)\n",
    "    "
   ]
  },
  {
   "cell_type": "markdown",
   "id": "ef5a8c65-ed48-4354-a257-e01b0fd733d4",
   "metadata": {},
   "source": [
    "<hr style=\"height:10px;border-width:0;color:gray;background-color:gray\">\n",
    "\n",
    "# Page 1 - Module Overview<a class=\"anchor\" id=\"DS107L1_page_1\"></a>\n",
    "\n",
    "[Back to Top](#DS107L1_toc)\n",
    "\n",
    "<hr style=\"height:10px;border-width:0;color:gray;background-color:gray\">"
   ]
  },
  {
   "cell_type": "code",
   "execution_count": 2,
   "id": "e8e7af81-ed31-4e50-b3f6-8584674d3502",
   "metadata": {},
   "outputs": [
    {
     "data": {
      "text/html": [
       "\n",
       "        <iframe\n",
       "            width=\"720\"\n",
       "            height=\"480\"\n",
       "            src=\"https://player.vimeo.com/video/251886621\"\n",
       "            frameborder=\"0\"\n",
       "            allowfullscreen\n",
       "            \n",
       "        ></iframe>\n",
       "        "
      ],
      "text/plain": [
       "<IPython.lib.display.VimeoVideo at 0x1217a0310>"
      ]
     },
     "execution_count": 2,
     "metadata": {},
     "output_type": "execute_result"
    }
   ],
   "source": [
    "from IPython.display import VimeoVideo\n",
    "# Tutorial Video Name: Introduction to Big Data\n",
    "VimeoVideo('251886621', width=720, height=480)"
   ]
  },
  {
   "cell_type": "markdown",
   "id": "5b6ad526-95fa-43c4-bc43-1fe807708ed3",
   "metadata": {
    "tags": []
   },
   "source": [
    "The transcript for the above overview video **[is located here](https://repo.exeterlms.com/documents/V2/DataScience/Video-Transcripts/DSO107L01overview.zip)**.\n",
    "\n",
    "# Module Overview\n",
    "\n",
    "## Big Data\n",
    "As society becomes increasingly digital, the amount of data being created and collected is growing and accelerating significantly. Analyzing this ever-growing data with traditional tools is a challenge. Innovation is required to bridge the gap between the data being generated and the data that can be analyzed effectively.\n",
    "\n",
    "The concept of big data is more than just the collection and analysis of the data. The actual value of an organization’s data is found when questions can be answered and used to create competitive advantages for the organization.\n",
    "\n",
    "\n",
    "\n",
    "Big data refers to both the storage and analysis of large collections of data. For perspective, in the year 2010, **[Volume of data/information created, captured, copied, and consumed worldwide from 2010 to 2025(in zettabytes)](https://www.statista.com/statistics/871513/worldwide-data-created/)** 2 zeetabytes was generated but in 2025 there will be 181 zettabytes. \n",
    "\n",
    "\n",
    "![A laptop labeled Master Manager has one vertical and two horizontal lines in between connects six laptops, three in row one and three in row two.](Media/GlobalData.png)\n",
    "\n",
    "\n",
    "This trend is going to continue to increase exponentially as computing becomes cheaper. In this module, you will learn how to process large datasets using cloud computing, and how cloud computing works to distribute computation to multiple computers for better performance, and how to prevent and recover from errors. By the end of this module, you should be able to:\n",
    "\n",
    "Understand:\n",
    "\n",
    "* Cloud Foundations\n",
    "* Big Data\n",
    "* Big Data Pipeline\n",
    "* Big Data Tools\n",
    "* Big Data Collection\n",
    "* Big Data Storage\n",
    "* Big Data Ingestion\n",
    "* Big Data Processing and Analysis\n",
    "* Big Data Visualization\n",
    "\n",
    "---\n",
    "\n",
    "## Lesson Overview\n",
    "\n",
    "In this lesson, you will get an introduction to cloud foundations, big data and the Amazon Web Service (AWS) ecosystem.\n",
    "\n"
   ]
  },
  {
   "cell_type": "markdown",
   "id": "7990ac7a-5a2f-4744-af14-1b7e385ea484",
   "metadata": {},
   "source": [
    "<hr style=\"height:10px;border-width:0;color:gray;background-color:gray\">\n",
    "\n",
    "# Page 2 - What is Big Data?<a class=\"anchor\" id=\"DS107L1_page_2\"></a>\n",
    "\n",
    "[Back to Top](#DS107L1_toc)\n",
    "\n",
    "<hr style=\"height:10px;border-width:0;color:gray;background-color:gray\">\n"
   ]
  },
  {
   "cell_type": "markdown",
   "id": "612429df-e4ef-4d85-8460-5bc8914079c3",
   "metadata": {
    "tags": []
   },
   "source": [
    "# What is Big Data?\n",
    "\n",
    "Data is usually categorized as \"big\" when you can no longer process it efficiently on one computer.  However, the parameters for this will differ by both dataset and computer setup.  There is no one cutoff that allows someone to say \"my data is big;\" there is no set number of columns or rows that will push you over the edge into \"big data\" territory.  You could have a relatively small number of records (rows), but have a lot of columns.  You could have data that are images, audio, or text that is space and processing intensive.  You could have a relatively small set of variables in key-pair format that is updated incredibly frequently.  All of these may or may not be instances of big data, based on their particular ramifications AND based on the computer you're using.  A ten year old system running an Intel i5 processor is going to be able to handle much less data than a brand-new computer with a solid state hard drive and an Intel i9 or Mac M1 Max processor.\n",
    "\n",
    "---\n",
    "\n",
    "## Example\n",
    "\n",
    "If ACME Groceries has collected both the dates and times of each item sold in their store, they're empowered to ask questions concerning inventory. This sounds simple, right? The variables you're interested in are only date, time, and item.  How can that possibly become big data? Well, think about how many items a store has.  Think about how many customers PER DAY they may receive.  Think about how many items at a time a customer may purchase.  Think about how many years back you may want to conduct your analysis. Is it starting to look a lot bigger now? What if you wanted just a little more information, and you increased data collection to include multiple ACME Groceries in the chain? Now maybe you need store location as well, and you have increased the number of dates, times, and items tenfold. The amount of data generated and stored becomes monumental! \n",
    "\n",
    "With fine detail and vast records of customer purchase history, companies can spot patterns and predict customer behavior. Big data makes large-scale insights possible. For instance, consider the following questions that can be answered with just those few variables and the actions that can be taken with those answers:\n",
    "\n",
    "* What month has the highest produce sales?\n",
    "\n",
    "  **_Action:_** Mail out advertisements and coupons the week prior to additionally incentivize produce purchase.\n",
    "\n",
    "* Which two items are frequently purchased together?\n",
    "\n",
    "  **_Action:_** Place these items adjacent to each other to enhance the likelihood they will both be purchased.\n",
    "\n",
    "* What are the five most frequently purchased items between the hours of 6:00 AM and 8:00 AM?\n",
    "\n",
    "  **_Action:_** Place the items in a popup kiosk near the front of the store for quick access in the morning.\n",
    "\n",
    "* Which brand of toothpaste generates the most money?\n",
    "\n",
    "  **_Action:_** Move the best seller to the middle shelf (eye-level) to encourage purchases.\n",
    "\n",
    "---\n",
    "\n",
    "## Properties of Big Data\n",
    "\n",
    "The properties of big data are all denoted with a V. There are the main 3 Vs of Big Data, which are _Volume_, _Variety_, and _Velocity_.\n",
    "\n",
    "1.  **Volume** refers to the size of the datasets being stored. According to an **[article](https://www.statista.com/statistics/871513/worldwide-data-created/)** by Statista, the total amount of data in the world is projected to rise steeply to 79 zetabytes by 2021. For those who are unfamiliar with the **[metric prefixes](https://www.nist.gov/pml/weights-and-measures/metric-si-prefixes)**, 79 zetabytes expanded is 79,000,000,000,000,000,000,000 bytes! \n",
    "\n",
    "    <div class=\"panel panel-success\">\n",
    "        <div class=\"panel-heading\">\n",
    "            <h3 class=\"panel-title\">Additional Info!</h3>\n",
    "        </div>\n",
    "        <div class=\"panel-body\">\n",
    "            <p>To really get a perspective on how much data volume has changed, think about this: NASA traveled to the moon and back on only 4kb of memory! For more details about the early Apollo computing system, <a href=\"https://www.metroweekly.com/2014/07/to-the-moon-and-back-on-4kb-of-memory/\"> check this article out! </a></p>\n",
    "        </div>\n",
    "    </div>\n",
    "\n",
    "2.  **Variety** refers to the different forms the data can take, such as images, video, audio, and text. These types of data often take more space to store and require longer processing times as well. Some systems will have a lot of variety, but others may be a little less dispersed. For example, Twitter's _variety_ dimension may consist mostly of text while YouTube's _variety_ dimension is primarily video.\n",
    "\n",
    "3.  **Velocity** refers to the speed of data generation and storage. This typically ties into the \"real-time\" rate of data transmission.  With large-scale or global companies that are dealing with transactional or monitoring data, the velocity can be incredibly fast.  For instance, **[at the end of 2021 there were a half a billion Tweets being sent per day](https://startupbonsai.com/twitter-statistics/)**. \n",
    "\n",
    "In addition, as big data has gotten more popular, other Vs have been added.  Consider also noting: \n",
    "\n",
    "4. **Veracity:** How trustworthy the data is. As data is coming in, is it likely to create discrepancies on your cluster? Are you likely to have duplicate records? What happens in the case of computer failure?\n",
    "\n",
    "5. **Value:** It don't mean a thing if it ain't got that swing! Big data has got to provide useful information and insights from it, otherwise, why are you throwing all this computer processing power and storage at it?\n",
    "\n",
    "The Vs can continue: read [The 42 V’s of Big Data and Data Science](https://www.elderresearch.com/blog/the-42-vs-of-big-data-and-data-science/) for imaginative and further reading. \n",
    "\n",
    "\n",
    "\n",
    "---\n",
    "\n",
    "## Big Data Computing\n",
    "\n",
    "A fundamental part of big data analysis is being able to process all of the necessary data, and because of the nature of big data, you're going to need more than one computer, elsewise the the processing time and cost is too much to justify the usefulness of the data. What if the work could be shared among two computers? Well, that would cut the time in half. What if a third computer were added? As you may guess, the more computers that are added, the shorter the amount of time required to process the same amount of data. This is called *scalability* - the ability to keep throwing additional computers at the data in a linear fashion - the more data you have, the more computers you need.\n",
    "\n",
    "When you're harnessing multiple computers to do one job, altogether those computers are referred to as a *cluster*. Each individual computer in a cluster is referred to as a *node* typically, and you will have one main node that is running the whole enchilada, and then others that are just doing the work.  The node that is in charge is called the *manager node* and the computers that are working are the *worker nodes*.   \n",
    "\n",
    "Note that your workplace may or may not actually physically own the computers in the cluster. There are many services out there that allow you to rent out clusters.  This then becomes an endeavor in *virtual machines* as well.  For instance, depending on the processing needs of your data, you may be renting anywhere from a small partition on just one of the small silver boxes below to several silver boxes (each a computer). \n",
    "\n",
    "![AWS Data Center.](Media/Data-Center-AWS.png)\n",
    "\n",
    "---"
   ]
  },
  {
   "cell_type": "markdown",
   "id": "7ffd433a-2254-416c-a706-9570a62b7213",
   "metadata": {},
   "source": [
    "## Review and Practice\n",
    "\n",
    "Below you will find a quiz to review the recently covered material. \n",
    "\n",
    "```c-lms\n",
    "start-activity: Introduction to Big Data Quiz\n",
    "```"
   ]
  },
  {
   "cell_type": "code",
   "execution_count": 3,
   "id": "2f9bd5d2-7dfe-42c0-9d3b-6095b756e80e",
   "metadata": {},
   "outputs": [
    {
     "data": {
      "application/vnd.jupyter.widget-view+json": {
       "model_id": "c87b77f19e604fa28ba3ba633ee4c51c",
       "version_major": 2,
       "version_minor": 0
      },
      "text/plain": [
       "VBox(children=(Output(outputs=({'name': 'stdout', 'text': '1. True or False? Big data is when you reach a mill…"
      ]
     },
     "metadata": {},
     "output_type": "display_data"
    },
    {
     "data": {
      "application/vnd.jupyter.widget-view+json": {
       "model_id": "c4de56b34db64858a34d3778a010f839",
       "version_major": 2,
       "version_minor": 0
      },
      "text/plain": [
       "VBox(children=(Output(outputs=({'name': 'stdout', 'text': '2. Which of the following is not one of the 3Vs of …"
      ]
     },
     "metadata": {},
     "output_type": "display_data"
    },
    {
     "data": {
      "application/vnd.jupyter.widget-view+json": {
       "model_id": "49c44712d8f84b3b9b2577e9b5ab6bad",
       "version_major": 2,
       "version_minor": 0
      },
      "text/plain": [
       "VBox(children=(Output(outputs=({'name': 'stdout', 'text': '3. Which dimension of big data represents the diffe…"
      ]
     },
     "metadata": {},
     "output_type": "display_data"
    },
    {
     "data": {
      "application/vnd.jupyter.widget-view+json": {
       "model_id": "22cfd94c8f8f44f59480d51bd1e9b387",
       "version_major": 2,
       "version_minor": 0
      },
      "text/plain": [
       "VBox(children=(Output(outputs=({'name': 'stdout', 'text': '4. What is a group of computers harnessed together …"
      ]
     },
     "metadata": {},
     "output_type": "display_data"
    },
    {
     "data": {
      "application/vnd.jupyter.widget-view+json": {
       "model_id": "2fa2404b40574eef905f55140f9708a7",
       "version_major": 2,
       "version_minor": 0
      },
      "text/plain": [
       "VBox(children=(Output(outputs=({'name': 'stdout', 'text': '5. What is responsible for controlling the other co…"
      ]
     },
     "metadata": {},
     "output_type": "display_data"
    }
   ],
   "source": [
    "try:\n",
    "    from DS_Students import MC \n",
    "except:\n",
    "    !pip install DS_Students\n",
    "    from DS_Students import MC\n",
    "from ipynb.fs.full.DS107Questions import *\n",
    "\n",
    "try:\n",
    "    display(L1P2Q1, L1P2Q2, L1P2Q3, L1P2Q4, L1P2Q5)\n",
    "except:\n",
    "    pass"
   ]
  },
  {
   "cell_type": "markdown",
   "id": "832358fd-55fa-420a-8aa2-46fbf2097986",
   "metadata": {},
   "source": [
    "<hr style=\"height:10px;border-width:0;color:gray;background-color:gray\">\n",
    "\n",
    "# Page 3 - Introduction to Amazon Academy<a class=\"anchor\" id=\"DS107L1_page_3\"></a>\n",
    "\n",
    "[Back to Top](#DS107L1_toc)\n",
    "\n",
    "<hr style=\"height:10px;border-width:0;color:gray;background-color:gray\">"
   ]
  },
  {
   "cell_type": "markdown",
   "id": "f564e3e7-3a7f-4936-b3a3-2e0a9ab78512",
   "metadata": {
    "tags": []
   },
   "source": [
    "# Amazon Academy\n",
    "\n",
    "Empowers students for industry-recognized certifications and careers in the cloud. Helps to Bridge the gap between industry and academia. As cloud technologies continue to help organizations transform at a rapid pace, employees with the necessary cloud skills are in high demand. According to LinkedIn data, cloud computing is the number one hard skill companies need most.\n",
    "\n",
    "AWS Academy provides cloud computing that prepares students to pursue industry-recognized certifications and in-demand cloud jobs. This helps students stay at the forefront of AWS Cloud innovation so that they can be equipped with the skills they need to get hired in one of the fastest-growing industries.\n",
    "\n",
    "AWS Academy provides courses and learning resources that enable students to develop a range of skills in the AWS Cloud.\n",
    "\n",
    "Let's get started!\n",
    "\n",
    "## Set up your AWS Academy Account\n",
    "\n",
    "There are many different ways and places from which to spin up virtual machines and rent clusters. One of them is *Amazon Web Services (AWS)*, which you will be utilizing later in this module.  In order to access AWS for free, and to take advantaged of their free student services, like training and job boards, you will create an AWS Academy account.  If you haven't received an invitation from AWS Academy, check your spam or junk email folder of the email account you registered with the data science program. If you still have not found or received an email please contact your mentor. \n",
    "\n",
    "\n",
    "\n",
    "\n",
    "The process to obtain an AWS account is described below.\n",
    "\n",
    "<div class=\"panel panel-success\">\n",
    "    <div class=\"panel-heading\">\n",
    "        <h3 class=\"panel-title\">Additional Info!</h3>\n",
    "    </div>\n",
    "    <div class=\"panel-body\">\n",
    "        <p>If you already have an AWS Academy account, you can skip to the end of the page.</p>\n",
    "    </div>\n",
    "</div>\n",
    "\n",
    "# Amazon Academy Account\n",
    "\n",
    "AWS Academy is a program Amazon offers that will allow you to obtain an AWS account for free (with limitations). \n",
    "\n",
    "** Check your email for an invite to AWS Academy. **\n",
    "\n",
    "## Check Email for AWS Academy Application Process\n",
    "You should receive an email from AWS Academy Support providing a link to complete the `AWS Academy application process`.   **If you did not receive an email, please inform your mentor right away**.\n",
    "\n",
    "![A snapshot of an email from AWS Academy Support where four options and one icon are highlighted in blue, below salutations and email content is mentioned.](Media/AWSAcademy.png \"AWS Academy Application Process\")\n",
    "\n",
    "---"
   ]
  },
  {
   "cell_type": "markdown",
   "id": "3c555d97-2d81-4a6d-85b4-114d1b2e086c",
   "metadata": {},
   "source": [
    "<hr style=\"height:10px;border-width:0;color:gray;background-color:gray\">\n",
    "\n",
    "# Page 4 - Introduction to Cloud Computer Core Concepts<a class=\"anchor\" id=\"DS107L1_page_4\"></a>\n",
    "\n",
    "[Back to Top](#DS107L1_toc)\n",
    "\n",
    "<hr style=\"height:10px;border-width:0;color:gray;background-color:gray\">"
   ]
  },
  {
   "cell_type": "markdown",
   "id": "eba2ed6e-98dd-43f7-8761-6ecc9a13af08",
   "metadata": {
    "tags": []
   },
   "source": [
    "# Introduction to Cloud Computer Core Concepts\n",
    "\n",
    "Follow along with [AWS Academy](https://awsacademy.instructure.com) Cloud Foundations Module 1 - Cloud Concepts Overview.\n",
    "\n",
    "# Introduction to Amazon Web Services\n",
    "\n",
    "## What is AWS?\n",
    "\n",
    "From Amazon's website:\n",
    "\n",
    "> \"Amazon Web Services (AWS) is the world’s most comprehensive and broadly adopted cloud platform, offering over 200 fully featured services from data centers globally. Millions of customers—including the fastest-growing startups, largest enterprises, and leading government agencies—are using AWS to lower costs, become more agile, and innovate faster..\" - [Amazon AWS](https://aws.amazon.com/what-is-aws/).\n",
    "\n",
    "After completing this module, you should be able to:\n",
    "- Define different types of cloud computing models\n",
    "- Describe six advantages of cloud computing\n",
    "- Recognize the main AWS service categories and core services\n",
    "- Review the AWS Cloud Adoption Framework (AWS CAF)\n",
    "\n",
    "![Logo of AWS](Media/aws-logo.png)\n",
    "\n",
    "<div class=\"panel panel-success\">\n",
    "    <div class=\"panel-heading\">\n",
    "        <h3 class=\"panel-title\">Fun Fact!</h3>\n",
    "    </div>\n",
    "    <div class=\"panel-body\">\n",
    "        <p>Explore more than 100 products and start building on AWS using the Free Tier. </p>\n",
    "    </div>\n",
    "</div>\n",
    "\n",
    "---\n",
    "\n",
    "## Introduction to Cloud Computing\n",
    "\n",
    "### Cloud computing defined\n",
    "\n",
    "Cloud computing is the on-demand delivery of compute power, database, storage, applications, and other IT resources via the internet with pay-as-you-go pricing.\n",
    "\n",
    "---\n",
    "\n",
    "### Infrastructure as software\n",
    "\n",
    "Cloud computing enables you to stop thinking of your infrastructure as hardware, and instead think of (and use) it as software. \n",
    "\n",
    "![Infrastructure as Software](Media/IaS.png)\n",
    "\n",
    "#### Traditional computing model: \n",
    "Infrastructure as hardware\n",
    "- Hardware solutions:\n",
    "    - Require space, staff, physical security, planning, capital expenditure\n",
    "    - Have a long hardware procurement cycle\n",
    "    - Require you to provision capacity by guessing theoretical maximum peaks\n",
    "\n",
    "#### Cloud computing model: \n",
    "Infrastructure as software\n",
    "- Software solutions:\n",
    "    - Are flexible\n",
    "    - Can change more quickly, easily, and cost-effectively than hardware solutions\n",
    "    - Eliminate the undifferentiated heavylifting tasks\n",
    "\n",
    "---\n",
    "\n",
    "### Cloud service models\n",
    "\n",
    "There are three main types of cloud service models each giving more or less control over what you need:\n",
    "\n",
    "- IaaS Infrastructure as a Service\n",
    "- PaaS Platform as a Service\n",
    "- SaaS Software as a Service\n",
    "\n",
    "![Cloud Service Models](Media/CloudServiceModels.png)\n",
    "\n",
    "---\n",
    "\n",
    "### Cloud Computing Deployment Models\n",
    "\n",
    "Generally there are three different types of cloud computing deployment models:\n",
    "\n",
    "- Cloud\n",
    "- Hybrid\n",
    "- On Premise (Private cloud)\n",
    "\n",
    "\n",
    "![Cloud Computing Deployment Models](Media/CloudComputingDeploymentModels.png)\n",
    "\n",
    "---\n",
    "\n",
    "### Similarities between AWS and traditional IT\n",
    "\n",
    "There are a variety of similarities between traditional IT and AWS Cloud Computing. Take a look at the below graphic and see if you can spot some of the similarities. Don't fear the graphic we'll explain more as you progress into the lessons.\n",
    "\n",
    "![Similarities between AWS and traditional IT](Media/Similarities-between-AWS-and-traditional-IT.png)"
   ]
  },
  {
   "cell_type": "markdown",
   "id": "44d915ab-97d3-4427-a8c4-2fe6ebb3e40b",
   "metadata": {
    "tags": []
   },
   "source": [
    "## Review and Practice\n",
    "\n",
    "Below you will find a quiz to review the recently covered material. Quizzes are _not_ graded.\n",
    "\n",
    "```c-lms\n",
    "start-activity: Core Cloud Quiz\n",
    "```"
   ]
  },
  {
   "cell_type": "code",
   "execution_count": 4,
   "id": "1fddc7e8-1c3e-4d88-8a6c-3ef57e94d0d2",
   "metadata": {},
   "outputs": [
    {
     "data": {
      "application/vnd.jupyter.widget-view+json": {
       "model_id": "2b5ecf92519c4f6aac4644cd554f266a",
       "version_major": 2,
       "version_minor": 0
      },
      "text/plain": [
       "VBox(children=(Output(outputs=({'name': 'stdout', 'text': '1. Cloud computing is the on-demand delivery of IT …"
      ]
     },
     "metadata": {},
     "output_type": "display_data"
    },
    {
     "data": {
      "application/vnd.jupyter.widget-view+json": {
       "model_id": "33ed6b9428194ed6b5ffa1a2e266ebe8",
       "version_major": 2,
       "version_minor": 0
      },
      "text/plain": [
       "VBox(children=(Output(outputs=({'name': 'stdout', 'text': '2. Cloud computing enables you to think of (and use…"
      ]
     },
     "metadata": {},
     "output_type": "display_data"
    },
    {
     "data": {
      "application/vnd.jupyter.widget-view+json": {
       "model_id": "9dbf0cde6f80444888893e1c5ee743e9",
       "version_major": 2,
       "version_minor": 0
      },
      "text/plain": [
       "VBox(children=(Output(outputs=({'name': 'stdout', 'text': '3. Which cloud service model/s are available in clo…"
      ]
     },
     "metadata": {},
     "output_type": "display_data"
    },
    {
     "data": {
      "application/vnd.jupyter.widget-view+json": {
       "model_id": "9ad73a15214b488b9cf2b18dd286f62f",
       "version_major": 2,
       "version_minor": 0
      },
      "text/plain": [
       "VBox(children=(Output(outputs=({'name': 'stdout', 'text': '4. Which of these can be utilized as cloud deployme…"
      ]
     },
     "metadata": {},
     "output_type": "display_data"
    },
    {
     "data": {
      "application/vnd.jupyter.widget-view+json": {
       "model_id": "7dea28d2200d42aab7e7330712411d77",
       "version_major": 2,
       "version_minor": 0
      },
      "text/plain": [
       "VBox(children=(Output(outputs=({'name': 'stdout', 'text': '5. Can almost anything done with traditional IT als…"
      ]
     },
     "metadata": {},
     "output_type": "display_data"
    }
   ],
   "source": [
    "try:\n",
    "    display(L1P4Q1, L1P4Q2, L1P4Q3, L1P4Q4, L1P4Q5)\n",
    "except:\n",
    "    pass"
   ]
  },
  {
   "cell_type": "markdown",
   "id": "ead4ad3c-2fe6-457e-8924-1410e951bebd",
   "metadata": {},
   "source": [
    "<hr style=\"height:10px;border-width:0;color:gray;background-color:gray\">\n",
    "\n",
    "# Page 5 - The Advantages of Cloud Computing<a class=\"anchor\" id=\"DS107L1_page_5\"></a>\n",
    "\n",
    "[Back to Top](#DS107L1_toc)\n",
    "\n",
    "<hr style=\"height:10px;border-width:0;color:gray;background-color:gray\">\n"
   ]
  },
  {
   "cell_type": "markdown",
   "id": "bbbc06a2-e702-47a1-942f-cbcbe31221a7",
   "metadata": {},
   "source": [
    "# The Advantages of Cloud Computing\n",
    "\n",
    "\n",
    "## Trade Capital for Variable Expense\n",
    "\n",
    "Instead of having upfront capital costs for data center equipment, operations and services you can scale on demand with pay as you go services and infrastructure.\n",
    "\n",
    "\n",
    "![trade capital for variable expense](Media/Capital-Variable-Expense.png)\n",
    "\n",
    "---\n",
    "\n",
    "##  Massive Economies of Scale\n",
    "\n",
    "Because of aggregate usage from all customers, AWS can achieve higher economies of scale and pass savings on to customers.\n",
    "\n",
    "![economies of scale](Media/Economies-Scale.png)\n",
    "\n",
    "---\n",
    "\n",
    "## Stop Guessing Capacity \n",
    "\n",
    "Technology is rapidly changing and it's difficult to keep a data center up to date with the latest technology. Procurement of hardware and software is often difficult and takes time. Increasing capacity in the cloud or testing out new software hardware technologies can be rapidly prototyped. \n",
    "![Guessing Capacity](Media/Guessing-Capacity.png)\n",
    "\n",
    "---\n",
    "\n",
    "## Increase Speed and Agility\n",
    "\n",
    "Cloud computing can assist in the organization being faster for technology adoption and allow people within the organization to be more innovative and agile.\n",
    "\n",
    "---\n",
    "\n",
    "![Speed and Agility](Media/Speed-Agility.png)\n",
    "\n",
    "## Maintaining Data Centers is Costly\n",
    "\n",
    "Running your own data center can have a variety of costs associted with them:\n",
    "\n",
    "1. Equipment\n",
    "2. Software\n",
    "3. Own and Operate Building (Lease/Rent/Own)\n",
    "4. Physical Security\n",
    "5. Cyber Security\n",
    "6. Personnel (Pay and Benefits) for everyone involved\n",
    "7. Insurance\n",
    "8. The list goes on...\n",
    "\n",
    "\n",
    "![Data Center](Media/Data-Center-Cost.png)\n",
    "\n",
    "---\n",
    "\n",
    "## Go Global in Minutes\n",
    "\n",
    "How would you like to scale your capability and go global in minutes? With cloud computing it is much simpler and cost effective to enable scalability worldwide.\n",
    "\n",
    "\n",
    "![Go Global](Media/Go-Global.png)\n",
    "---"
   ]
  },
  {
   "cell_type": "markdown",
   "id": "556b19a7-91fa-4672-8123-fcac1f877266",
   "metadata": {},
   "source": [
    "## Review and Practice\n",
    "\n",
    "Below you will find a quiz to review the recently covered material. Quizzes are _not_ graded.\n",
    "\n",
    "```c-lms\n",
    "start-activity: The Advantages of Cloud Computing Quiz\n",
    "```"
   ]
  },
  {
   "cell_type": "code",
   "execution_count": 5,
   "id": "d960cbb4-1301-4c67-a467-85a04e73e37f",
   "metadata": {},
   "outputs": [
    {
     "data": {
      "application/vnd.jupyter.widget-view+json": {
       "model_id": "4bf1fd6804bf45ebafd7c8c25707ed6b",
       "version_major": 2,
       "version_minor": 0
      },
      "text/plain": [
       "VBox(children=(Output(outputs=({'name': 'stdout', 'text': '1. Which of the following takes advantage of cloud …"
      ]
     },
     "metadata": {},
     "output_type": "display_data"
    }
   ],
   "source": [
    "try:\n",
    "    display(L1P5Q1)\n",
    "except:\n",
    "    pass"
   ]
  },
  {
   "cell_type": "markdown",
   "id": "dd9e3b8a-9224-447f-8cf7-5035cae86421",
   "metadata": {},
   "source": [
    "<hr style=\"height:10px;border-width:0;color:gray;background-color:gray\">\n",
    "\n",
    "# Page 6 - Cloud Economics and Billing<a class=\"anchor\" id=\"DS107L1_page_6\"></a>\n",
    "\n",
    "[Back to Top](#DS107L1_toc)\n",
    "\n",
    "<hr style=\"height:10px;border-width:0;color:gray;background-color:gray\">\n"
   ]
  },
  {
   "cell_type": "markdown",
   "id": "03d2af27-8557-49d6-b22e-5cb35088d5f0",
   "metadata": {},
   "source": [
    "Follow along with [AWS Academy](https://awsacademy.instructure.com) Cloud Foundations Module 2 - Cloud Economics and Billing.\n",
    "\n",
    "## Overview\n",
    "\n",
    "Topics\n",
    "- Fundamentals of pricing\n",
    "- Total Cost of Ownership\n",
    "- AWS Organizations\n",
    "- AWS Billing and Cost Management\n",
    "- Technical Support\n",
    "\n",
    "Demo\n",
    "- Overview of the Billing Dashboard\n",
    "\n",
    "Activities\n",
    "- AWS Pricing Calculator\n",
    "- Support plans scavenger hunt\n",
    "\n",
    "## Module Objectives\n",
    "\n",
    "After completing this module, you should be able to:\n",
    "- Explain the AWS pricing philosophy\n",
    "- Recognize fundamental pricing characteristics\n",
    "- Indicate the elements of total cost of ownership\n",
    "- Discuss the results of the AWS Pricing Calculator\n",
    "- Identify how to set up an organizational structure that simplifies billing and account\n",
    "visibility to review cost data.\n",
    "- Identify the functionality in the AWS Billing Dashboard\n",
    "- Describe how to use AWS Bills, AWS Cost Explorer, AWS Budgets, and AWS Cost and\n",
    "Usage Reports\n",
    "- Identify the various AWS technical support plans and features"
   ]
  },
  {
   "cell_type": "markdown",
   "id": "9894a02f-38e5-4077-881f-f65697c146c1",
   "metadata": {},
   "source": [
    "<hr style=\"height:10px;border-width:0;color:gray;background-color:gray\">\n",
    "\n",
    "# Page 7 - Fundamentals of pricing<a class=\"anchor\" id=\"DS107L1_page_7\"></a>\n",
    "\n",
    "[Back to Top](#DS107L1_toc)\n",
    "\n",
    "<hr style=\"height:10px;border-width:0;color:gray;background-color:gray\">\n"
   ]
  },
  {
   "cell_type": "markdown",
   "id": "6b937b8e-9ed8-49ce-95de-2887148627f3",
   "metadata": {
    "tags": []
   },
   "source": [
    "## AWS Pricing Model\n",
    "\n",
    "### Three fundamental drivers of cost with AWS\n",
    "\n",
    "#### Compute\n",
    "- Charged per hour/second*\n",
    "- Varies by instance type\n",
    "\n",
    "*Linux only\n",
    "\n",
    "#### Storage\n",
    "- Charged typically per GB\n",
    "\n",
    "#### Data transfer\n",
    "- Outbound is aggregated and\n",
    "charged\n",
    "- Inbound has no charge (with\n",
    "some exceptions)\n",
    "- Charged typically per GB\n",
    "\n",
    "![AWS Pricing Model](Media/AWS-Pricing-Model.png)"
   ]
  },
  {
   "cell_type": "markdown",
   "id": "012a250c-1d18-48cc-b965-e32578745360",
   "metadata": {
    "tags": []
   },
   "source": [
    "### How do you pay for AWS?\n",
    "\n",
    "- Pay for what you use\n",
    "    - Pay only for the services that you consume, with no large upfront expenses.\n",
    "- Pay for a reserved instance\n",
    "    - Invest in Reserved Instances (RIs):\n",
    "    - Save up to 75 percent\n",
    "    - Options:\n",
    "        - All Upfront Reserved Instance (AURI) → largest discount\n",
    "        - Partial Upfront Reserved Instance (PURI) → lower discounts\n",
    "        - No Upfront Payments Reserved Instance (NURI) → smaller discount\n",
    "        \n",
    "![Pay for what you use](Media/Pay-less.png)\n",
    "        \n",
    "- Pay less the more you use\n",
    "    Realize volume-based discounts:\n",
    "        - Savings as usage increases.\n",
    "        - Tiered pricing for services like Amazon\n",
    "            Simple Storage Service (Amazon S3), \n",
    "            Amazon Elastic Block Store (Amazon EBS), or \n",
    "            Amazon Elastic File System (Amazon EFS) → the more you use, the less you pay per GB.\n",
    "        - Multiple storage services deliver lower storage costs based on needs.\n",
    "\n",
    "![Pay less by using more](Media/Use-more.png)\n",
    "\n",
    "\n",
    "As AWS grows:\n",
    "- AWS focuses on lowering cost of doing business.\n",
    "- This practice results in AWS passing savings from economies of scale to you.\n",
    "- Since 2006, AWS has lowered pricing 75 times (as of September 2019).\n",
    "- Future higher-performing resources replace current resources for no extra charge.\n",
    "\n",
    "AWS Custom Pricing:\n",
    "- Meet varying needs through custom pricing.\n",
    "- Available for high-volume projects with unique requirements.\n",
    "\n",
    "AWS Free Tier:\n",
    "- Enables you to gain free hands-on experience with the AWS platform, products, and services. \n",
    "- Free for 1 year for new customers.\n",
    "\n",
    "![AWS Free Tier](Media/AWS-Free-Tier.png)\n",
    "\n",
    "AWS Services with no charge:\n",
    "- Amazon VPC\n",
    "- Elastic Beanstalk**\n",
    "- Auto Scaling**\n",
    "- AWS CloudFormation**\n",
    "- AWS Identity and Access Management (IAM)\n",
    "\n",
    "** Note: There might be charges associated with other AWS services that are used with these services. \n",
    "\n",
    "### Key Takeaways\n",
    "\n",
    "There is no charge for:\n",
    "- Inbound data transfer.\n",
    "- Data transfer between services within the same AWS Region.\n",
    "- Pay for what you use.\n",
    "- Start and stop anytime.\n",
    "- No long-term contracts are required.\n",
    "- Some services are free, but the other AWS services that they provision might not be free."
   ]
  },
  {
   "cell_type": "markdown",
   "id": "24278d80-6372-422d-b4a6-313bd1cffb46",
   "metadata": {},
   "source": [
    "<hr style=\"height:10px;border-width:0;color:gray;background-color:gray\">\n",
    "\n",
    "# Page 8 - Total Cost of Ownership<a class=\"anchor\" id=\"DS107L1_page_8\"></a>\n",
    "\n",
    "[Back to Top](#DS107L1_toc)\n",
    "\n",
    "<hr style=\"height:10px;border-width:0;color:gray;background-color:gray\">\n"
   ]
  },
  {
   "cell_type": "markdown",
   "id": "538d72e8-140c-43c9-b99d-eeadb1dd7d6b",
   "metadata": {},
   "source": [
    "## On-premises versus cloud\n",
    "\n",
    "Total Cost of Ownership (TCO) is the financial estimate to help identify direct and indirect costs of a system. Why use TCO?\n",
    "- To compare the costs of running an entire infrastructure environment or specific workload on-premises versus on AWS\n",
    "- To budget and build the business case for moving to the cloud\n",
    "\n",
    "![On-premise-vs-cloud](Media/On-premise-vs-cloud.png)\n",
    "\n"
   ]
  },
  {
   "cell_type": "markdown",
   "id": "ceb3e254-06e6-4244-b461-cba56cd51820",
   "metadata": {},
   "source": [
    "<hr style=\"height:10px;border-width:0;color:gray;background-color:gray\">\n",
    "\n",
    "# Page 9 - AWS Organizations<a class=\"anchor\" id=\"DS107L1_page_9\"></a>\n",
    "\n",
    "[Back to Top](#DS107L1_toc)\n",
    "\n",
    "<hr style=\"height:10px;border-width:0;color:gray;background-color:gray\">\n"
   ]
  },
  {
   "cell_type": "markdown",
   "id": "78f4a8ed-59c2-49ae-998b-0e4820ba1e7e",
   "metadata": {},
   "source": [
    "<hr style=\"height:10px;border-width:0;color:gray;background-color:gray\">\n",
    "\n",
    "# Page 10 - AWS Billing and Cost Management<a class=\"anchor\" id=\"DS107L1_page_10\"></a>\n",
    "\n",
    "[Back to Top](#DS107L1_toc)\n",
    "\n",
    "<hr style=\"height:10px;border-width:0;color:gray;background-color:gray\">\n"
   ]
  },
  {
   "cell_type": "markdown",
   "id": "47994444-3e69-420f-b91e-d09c8cf27bc5",
   "metadata": {},
   "source": [
    "<hr style=\"height:10px;border-width:0;color:gray;background-color:gray\">\n",
    "\n",
    "# Page 11 - Technical Support<a class=\"anchor\" id=\"DS107L1_page_11\"></a>\n",
    "\n",
    "[Back to Top](#DS107L1_toc)\n",
    "\n",
    "<hr style=\"height:10px;border-width:0;color:gray;background-color:gray\">\n"
   ]
  },
  {
   "cell_type": "markdown",
   "id": "979fccfa-1654-49c5-bcf5-fb4bc5e030c4",
   "metadata": {},
   "source": [
    "<hr style=\"height:10px;border-width:0;color:gray;background-color:gray\">\n",
    "\n",
    "# Page 12 - Key Terms<a class=\"anchor\" id=\"DS107L1_page_12\"></a>\n",
    "\n",
    "[Back to Top](#DS107L1_toc)\n",
    "\n",
    "<hr style=\"height:10px;border-width:0;color:gray;background-color:gray\">\n"
   ]
  },
  {
   "cell_type": "markdown",
   "id": "a81e2098-28ef-4ff5-a155-afe824de4323",
   "metadata": {},
   "source": [
    "# Key Terms\n",
    "\n",
    "Below is a list and short description of the important keywords learned in this lesson. Please read through and go back and review any concepts you do not fully understand. Great Work!\n",
    "\n",
    "<table class=\"table table-striped\">\n",
    "    <tr>\n",
    "        <th>Keyword</th>\n",
    "        <th>Description</th>\n",
    "    </tr>\n",
    "    <tr>\n",
    "        <td style=\"font-weight: bold;\" nowrap>Cluster</td>\n",
    "        <td>A group of connected computers.</td>\n",
    "    </tr>\n",
    "    <tr>\n",
    "        <td style=\"font-weight: bold;\" nowrap>3 Vs of Big Data</td>\n",
    "        <td>Volume, variety, and velocity.</td>\n",
    "    </tr>\n",
    "    <tr>\n",
    "        <td style=\"font-weight: bold;\" nowrap>Volume</td>\n",
    "        <td>Size of the data being stored.</td>\n",
    "    </tr>\n",
    "    <tr>\n",
    "        <td style=\"font-weight: bold;\" nowrap>Variety</td>\n",
    "        <td>Different types of data.</td>\n",
    "    </tr>\n",
    "    <tr>\n",
    "        <td style=\"font-weight: bold;\" nowrap>Velocity</td>\n",
    "        <td>Speed of data generation and storage.</td>\n",
    "    </tr>\n",
    "    <tr>\n",
    "        <td style=\"font-weight: bold;\" nowrap>Veracity</td>\n",
    "        <td>Trustworthiness of the data.</td>\n",
    "    </tr>\n",
    "    <tr>\n",
    "        <td style=\"font-weight: bold;\" nowrap>Value</td>\n",
    "        <td>Usefulness of the data.</td>\n",
    "    </tr>\n",
    "    <tr>\n",
    "        <td style=\"font-weight: bold;\" nowrap>Scalability</td>\n",
    "        <td>The ability to continue adding computers to deal with more data.</td>\n",
    "    </tr>\n",
    "    <tr>\n",
    "        <td style=\"font-weight: bold;\" nowrap>Cluster</td>\n",
    "        <td>A group of computers all harnessed for the same purpose.</td>\n",
    "    </tr>\n",
    "    <tr>\n",
    "        <td style=\"font-weight: bold;\" nowrap>Node</td>\n",
    "        <td>A computer in the cluster.</td>\n",
    "    </tr>\n",
    "    <tr>\n",
    "        <td style=\"font-weight: bold;\" nowrap>Manager Node</td>\n",
    "        <td>The node controlling the other computers in the cluster.</td>\n",
    "    </tr>\n",
    "    <tr>\n",
    "        <td style=\"font-weight: bold;\" nowrap>Worker Node</td>\n",
    "        <td>The computers doing the work in the cluster.</td>\n",
    "    </tr>\n",
    "    <tr>\n",
    "        <td style=\"font-weight: bold;\" nowrap>Amazon Web Services (AWS)</td>\n",
    "        <td>A system for spinning up cloud services to use in big data processing.</td>\n",
    "    </tr>\n",
    "    <tr>\n",
    "        <td style=\"font-weight: bold;\" nowrap>IaaS</td>\n",
    "        <td>Infrastructure as a Service.</td>\n",
    "    </tr>\n",
    "    <tr>\n",
    "        <td style=\"font-weight: bold;\" nowrap>PaaS</td>\n",
    "        <td>Platform as a Service.</td>\n",
    "    </tr>\n",
    "    <tr>\n",
    "        <td style=\"font-weight: bold;\" nowrap>SaaS</td>\n",
    "        <td>Software as a Service</td>\n",
    "    </tr>\n",
    "    <tr>\n",
    "        <td style=\"font-weight: bold;\" nowrap>Data Ingestion</td>\n",
    "        <td>Getting data into your cluster.</td>\n",
    "    </tr>\n",
    "    <tr>\n",
    "        <td style=\"font-weight: bold;\" nowrap>Database Connection (DBC)</td>\n",
    "        <td>A way of connecting to SQL databases.</td>\n",
    "    </tr>\n",
    "</table>"
   ]
  },
  {
   "cell_type": "markdown",
   "id": "42cb7d8a-aced-42e5-ac24-32acf8c95473",
   "metadata": {},
   "source": [
    "<hr style=\"height:10px;border-width:0;color:gray;background-color:gray\">\n",
    "\n",
    "# Page 13 - Lesson 1 Hands-On<a class=\"anchor\" id=\"DS107L1_page_13\"></a>\n",
    "\n",
    "[Back to Top](#DS107L1_toc)\n",
    "\n",
    "<hr style=\"height:10px;border-width:0;color:gray;background-color:gray\">\n"
   ]
  },
  {
   "cell_type": "markdown",
   "id": "cf0debaf-5fae-4035-8e7d-ae62e62456cb",
   "metadata": {},
   "source": [
    "# Lesson 1 Hands On\n",
    "\n",
    "This Hands-­On **will** be graded, so make sure you complete each part. When you are done, please submit one document with all of your findings for grading.\n",
    "\n",
    "<div class=\"panel panel-danger\">\n",
    "    <div class=\"panel-heading\">\n",
    "        <h3 class=\"panel-title\">Caution!</h3>\n",
    "    </div>\n",
    "    <div class=\"panel-body\">\n",
    "        <p>Do not submit your project until you have completed all requirements, as you will not be able to resubmit.</p>\n",
    "    </div>\n",
    "</div>\n",
    "\n",
    "Pick one aspect of the AWS Ecosystem that you are most interested in and read a little further about it. Write down a few interesting key points about that program and how it operates. \n",
    "\n",
    "<div class=\"panel panel-danger\">\n",
    "    <div class=\"panel-heading\">\n",
    "        <h3 class=\"panel-title\">Caution!</h3>\n",
    "    </div>\n",
    "    <div class=\"panel-body\">\n",
    "        <p>Be sure to zip and submit your entire directory when finished!</p>\n",
    "    </div>\n",
    "</div>"
   ]
  },
  {
   "cell_type": "code",
   "execution_count": null,
   "id": "aa682177-eff5-46b4-8b5b-1231434b8542",
   "metadata": {},
   "outputs": [],
   "source": []
  }
 ],
 "metadata": {
  "kernelspec": {
   "display_name": "Python 3 (ipykernel)",
   "language": "python",
   "name": "python3"
  },
  "language_info": {
   "codemirror_mode": {
    "name": "ipython",
    "version": 3
   },
   "file_extension": ".py",
   "mimetype": "text/x-python",
   "name": "python",
   "nbconvert_exporter": "python",
   "pygments_lexer": "ipython3",
   "version": "3.9.9"
  }
 },
 "nbformat": 4,
 "nbformat_minor": 5
}
