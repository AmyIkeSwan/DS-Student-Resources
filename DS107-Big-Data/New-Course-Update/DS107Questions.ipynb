{
 "cells": [
  {
   "cell_type": "markdown",
   "id": "ebae2c8b-1d2e-4724-8b13-f3bd87d7f449",
   "metadata": {},
   "source": [
    "# DS107 Questions\n",
    "\n",
    "## Lesson 1"
   ]
  },
  {
   "cell_type": "code",
   "execution_count": 1,
   "id": "cc877c15-39ed-49d3-8494-07b7540a11f1",
   "metadata": {},
   "outputs": [],
   "source": [
    "from DS_Students import *"
   ]
  },
  {
   "cell_type": "markdown",
   "id": "bb7593ff-c5c9-4fa4-8a48-e52c285f7c57",
   "metadata": {},
   "source": [
    "## Page 2"
   ]
  },
  {
   "cell_type": "code",
   "execution_count": 2,
   "id": "f262e652-38c0-455a-80b0-ee16062ada26",
   "metadata": {},
   "outputs": [],
   "source": [
    "L1P2Q1 = MC('1. True or False? Big data is when you reach a million records.',['True','False'],'False', cor='You have big data when you need multiple computers to process and store it.', incor='')\n",
    "L1P2Q2 = MC(' 2. Which of the following is not one of the 3Vs of Big Data?',['Velocity','Validity','Variety', 'Volume'],'Validity', cor=\"While it's important to have valid data, it is not one of the 3Vs.\", incor='')\n",
    "L1P2Q3 = MC(' 3. Which dimension of big data represents the different kinds of data that can be collected?',['Velocity','Validity','Variety', 'Volume'],'Variety', cor='refers to the different forms the data can take, such as images, video, audio, and text.', incor='')\n",
    "L1P2Q4 = MC(' 4. What is a group of computers harnessed together called? ',['Manager','Worker','Node', 'Cluster'],'Cluster', cor='This is a group of computers that are connected to each other.', incor='')\n",
    "L1P2Q5 = MC(' 5. What is responsible for controlling the other computers in a cluster?',['Manager','Worker','Node'],'Manager', cor='This is the computer that is responsible for the other computers in the cluster.', incor='')"
   ]
  },
  {
   "cell_type": "code",
   "execution_count": 3,
   "id": "ed8e3b08-08bd-4bfd-a7c3-31724bdf6fa8",
   "metadata": {},
   "outputs": [
    {
     "data": {
      "application/vnd.jupyter.widget-view+json": {
       "model_id": "6c142801e8294c92851bc86bdbd99c5c",
       "version_major": 2,
       "version_minor": 0
      },
      "text/plain": [
       "VBox(children=(Output(), RadioButtons(layout=Layout(width='max-content'), options=(('True', 0), ('False', 1)),…"
      ]
     },
     "metadata": {},
     "output_type": "display_data"
    },
    {
     "data": {
      "application/vnd.jupyter.widget-view+json": {
       "model_id": "bcc266da2c15425ba729880d690f6c44",
       "version_major": 2,
       "version_minor": 0
      },
      "text/plain": [
       "VBox(children=(Output(), RadioButtons(layout=Layout(width='max-content'), options=(('Velocity', 0), ('Validity…"
      ]
     },
     "metadata": {},
     "output_type": "display_data"
    },
    {
     "data": {
      "application/vnd.jupyter.widget-view+json": {
       "model_id": "c4ed5989c0e64aa99986ef347875327a",
       "version_major": 2,
       "version_minor": 0
      },
      "text/plain": [
       "VBox(children=(Output(), RadioButtons(layout=Layout(width='max-content'), options=(('Velocity', 0), ('Validity…"
      ]
     },
     "metadata": {},
     "output_type": "display_data"
    },
    {
     "data": {
      "application/vnd.jupyter.widget-view+json": {
       "model_id": "1f5e89dee0f24d0b98e3e3adced7f4d5",
       "version_major": 2,
       "version_minor": 0
      },
      "text/plain": [
       "VBox(children=(Output(), RadioButtons(layout=Layout(width='max-content'), options=(('Manager', 0), ('Worker', …"
      ]
     },
     "metadata": {},
     "output_type": "display_data"
    },
    {
     "data": {
      "application/vnd.jupyter.widget-view+json": {
       "model_id": "c6d7b0943550420cba36026dc57f5f0a",
       "version_major": 2,
       "version_minor": 0
      },
      "text/plain": [
       "VBox(children=(Output(), RadioButtons(layout=Layout(width='max-content'), options=(('Manager', 0), ('Worker', …"
      ]
     },
     "metadata": {},
     "output_type": "display_data"
    }
   ],
   "source": [
    "if __name__ == \"__main__\":\n",
    "    display(L1P2Q1, L1P2Q2, L1P2Q3, L1P2Q4, L1P2Q5)"
   ]
  },
  {
   "cell_type": "markdown",
   "id": "05c396e2-de6f-4c32-a032-ce60089596f4",
   "metadata": {
    "tags": []
   },
   "source": [
    "## Page 4"
   ]
  },
  {
   "cell_type": "code",
   "execution_count": 4,
   "id": "3f4d7e61-b4b5-4388-81ac-53a952b51d98",
   "metadata": {},
   "outputs": [],
   "source": [
    "L1P4Q1 = MC(' 1. Cloud computing is the on-demand delivery of IT resources via the internet with pay-as-you-go pricing.',['True','False'],'True', cor='Cloud Computing is a technology that allows IT resources to be delivered to end users without the need for dedicated on premise servers and applications.', incor='')\n",
    "L1P4Q2 = MC(' 2. Cloud computing enables you to think of (and use) your infrastructure as software.',['True','False'],'True', cor=\"Cloud Computing is a technology that allows you to think of your infrastructure as software.\", incor='')\n",
    "L1P4Q3 = MC(' 3. Which cloud service model/s are available in cloud computing?',['IaaS: Infrastructure as a Service','PaaS: Platform as a Service','SaaS: Software as a Service', 'All of the Above'],'All of the Above', cor='IaaS: Infrastructure as a Service, PaaS: Platform as a Service, SaaS: Software as a Service', incor='')\n",
    "L1P4Q4 = MC(' 4. Which of these can be utilized as cloud deployment models? ',['Public: Public cloud deployment','Private: Private cloud deployment', 'Hybrid: Public and Private cloud deployment', 'All of the Above'],'All of the Above', cor='Public: Public cloud deployment, Private: Private cloud deployment, Hybrid: Public and Private cloud deployment', incor='')\n",
    "L1P4Q5 = MC(' 5. Can almost anything done with traditional IT also be implemented as an AWS cloud computing service?',['True','False'],'True', cor='Almost anything you can implement with traditional IT can also be implemented as an AWS cloud computing service.', incor='')"
   ]
  },
  {
   "cell_type": "code",
   "execution_count": 5,
   "id": "cce693e3-f94b-4505-8e7e-1f40133ad8b7",
   "metadata": {},
   "outputs": [
    {
     "data": {
      "application/vnd.jupyter.widget-view+json": {
       "model_id": "217920174c894078b674089e9fb78ad1",
       "version_major": 2,
       "version_minor": 0
      },
      "text/plain": [
       "VBox(children=(Output(), RadioButtons(layout=Layout(width='max-content'), options=(('True', 0), ('False', 1)),…"
      ]
     },
     "metadata": {},
     "output_type": "display_data"
    },
    {
     "data": {
      "application/vnd.jupyter.widget-view+json": {
       "model_id": "52e8edc75d094e07986643c1fba22891",
       "version_major": 2,
       "version_minor": 0
      },
      "text/plain": [
       "VBox(children=(Output(), RadioButtons(layout=Layout(width='max-content'), options=(('True', 0), ('False', 1)),…"
      ]
     },
     "metadata": {},
     "output_type": "display_data"
    },
    {
     "data": {
      "application/vnd.jupyter.widget-view+json": {
       "model_id": "88d5fa450c0945b1821cdbec49913b83",
       "version_major": 2,
       "version_minor": 0
      },
      "text/plain": [
       "VBox(children=(Output(), RadioButtons(layout=Layout(width='max-content'), options=(('IaaS: Infrastructure as a…"
      ]
     },
     "metadata": {},
     "output_type": "display_data"
    },
    {
     "data": {
      "application/vnd.jupyter.widget-view+json": {
       "model_id": "30fd8c5f5d7445c98b5a8e696cf58e20",
       "version_major": 2,
       "version_minor": 0
      },
      "text/plain": [
       "VBox(children=(Output(), RadioButtons(layout=Layout(width='max-content'), options=(('Public: Public cloud depl…"
      ]
     },
     "metadata": {},
     "output_type": "display_data"
    },
    {
     "data": {
      "application/vnd.jupyter.widget-view+json": {
       "model_id": "8db018b9f1204e0584b268aaee60c864",
       "version_major": 2,
       "version_minor": 0
      },
      "text/plain": [
       "VBox(children=(Output(), RadioButtons(layout=Layout(width='max-content'), options=(('True', 0), ('False', 1)),…"
      ]
     },
     "metadata": {},
     "output_type": "display_data"
    }
   ],
   "source": [
    "if __name__ == \"__main__\":\n",
    "    display(L1P4Q1, L1P4Q2, L1P4Q3, L1P4Q4, L1P4Q5)"
   ]
  },
  {
   "cell_type": "markdown",
   "id": "7315ab91-85a4-4aef-810d-a1e308a2ca6d",
   "metadata": {},
   "source": [
    "## Page 5 The Advantages of Cloud Computing Quiz"
   ]
  },
  {
   "cell_type": "code",
   "execution_count": 6,
   "id": "190c2578-c56d-42c7-b6c7-71e1ef183268",
   "metadata": {},
   "outputs": [],
   "source": [
    "L1P5Q1 = MC(' 1. What are the advantages of cloud computing over computing on premises? ',['Trade capital for variable expense','Economies of scale', 'Stop guessing capacity', 'Increase speed and agility', 'Stop runaway data center costs', 'Go global in minutes', 'All of the Above'],'All of the Above', cor='Lots of benefits indeed!', incor='')\n",
    "L1P5Q2 = MC(' 2. What is the pricing model that enables AWS customers to pay for resources on an as-needed basis?',['Pay as you decommission','Pay as you go', 'Pay as you buy', 'Pay as you reserve'],'Pay as you go', cor='Cloud Computing is Pay as you go', incor='')\n",
    "L1P5Q3 = MC(' 3. Which of these is NOT a cloud computing model?',['Platform as a Service','Infrastructure as a Service', 'System administration as a service', 'Software as a service'],'System administration as a service', cor=\"System administration as a service is not a cloud computing model\", incor='')\n",
    "L1P5Q4 = MC(' 4. True or False? AWS owns and maintains the network-connected hardware required for application services, while you provision and use what you need.',['True', 'False'],'True', cor='AWS owns and maintains the hardware while you provision what you need.', incor='')\n",
    "L1P5Q5 = MC(' 5. Which of these is NOT a benefit of cloud computing over on-premises computing?(Select the best answer)',['Increase speed and agility','Pay for racking, stacking, and powering servers', 'Eliminate guessing on your infrastructure capacity needs', 'Trade capital expense for variable expense', 'Benefit from massive economies of scale'],'Pay for racking, stacking, and powering servers', cor='Pay for racking, stacking, and powering servers is NOT a benefit of cloud computing', incor='')\n",
    "L1P5Q6 = MC(' 6. Which is NOT a benefit of AWS Cloud computing?',['Multiple procurement cycles and High availability', 'High latency', 'Temporary resources', 'Fault-tolerant databases'],'Multiple procurement cycles and High availability', cor='Multiple procurement cycles and High availability are NOT benefits of AWS Cloud computing', incor='')\n",
    "L1P5Q7 = MC(' 7. Which of the following is a compute service?',['Amazon VPC', 'Amazon S3', 'Amazon EC2', 'Amazon CloudFront', 'Amazon Redshift'],'Amazon EC2', cor='Amazon Elastic Compute Cloud (Amazon EC2) is a web service that provides secure, resizable compute capacity in the cloud.', incor='')\n",
    "L1P5Q8 = MC(' 8. True or False?, Cloud computing provides a simple way to access servers, storage, databases, and a broad set of application services over the internet.',['True', 'False'],'True', cor='', incor='')\n",
    "L1P5Q9 = MC(' 9. Economies of scale result from _________. (Select the best answer.) ',['having many different cloud providers', 'having hundreds of thousands of customers aggregated in the cloud', 'having hundreds of cloud services available over the internet', 'having to invest heavily in data centers and servers'],'having hundreds of thousands of customers aggregated in the cloud', cor='having hundreds of thousands of customers aggregated in the cloud', incor='')\n",
    "L1P5Q10 = MC(' 10. Which of these are ways to access AWS core services (Select the best answer.) ',['Technical Support Calls', 'AWS Marketplace', 'AWS Console, CLI and SDKs'],'AWS Console, CLI and SDKs', cor='AWS Console, CLI and SDKs are the three ways to access the AWS core services', incor='')"
   ]
  },
  {
   "cell_type": "code",
   "execution_count": 7,
   "id": "8d879d1c-ca69-487c-b391-a14f58888e74",
   "metadata": {},
   "outputs": [
    {
     "data": {
      "application/vnd.jupyter.widget-view+json": {
       "model_id": "5320849a31ac40fdb98077522ec12b3e",
       "version_major": 2,
       "version_minor": 0
      },
      "text/plain": [
       "VBox(children=(Output(), RadioButtons(layout=Layout(width='max-content'), options=(('Trade capital for variabl…"
      ]
     },
     "metadata": {},
     "output_type": "display_data"
    },
    {
     "data": {
      "application/vnd.jupyter.widget-view+json": {
       "model_id": "61def56d797643fcb9d6156281396672",
       "version_major": 2,
       "version_minor": 0
      },
      "text/plain": [
       "VBox(children=(Output(), RadioButtons(layout=Layout(width='max-content'), options=(('Pay as you decommission',…"
      ]
     },
     "metadata": {},
     "output_type": "display_data"
    },
    {
     "data": {
      "application/vnd.jupyter.widget-view+json": {
       "model_id": "30e838d20b04462ea6a837719b7c3946",
       "version_major": 2,
       "version_minor": 0
      },
      "text/plain": [
       "VBox(children=(Output(), RadioButtons(layout=Layout(width='max-content'), options=(('Platform as a Service', 0…"
      ]
     },
     "metadata": {},
     "output_type": "display_data"
    },
    {
     "data": {
      "application/vnd.jupyter.widget-view+json": {
       "model_id": "16c569391e1d43cf96bda53ec492d310",
       "version_major": 2,
       "version_minor": 0
      },
      "text/plain": [
       "VBox(children=(Output(), RadioButtons(layout=Layout(width='max-content'), options=(('True', 0), ('False', 1)),…"
      ]
     },
     "metadata": {},
     "output_type": "display_data"
    },
    {
     "data": {
      "application/vnd.jupyter.widget-view+json": {
       "model_id": "a9eb0dee3e6d4d219ce5d0aa8401610a",
       "version_major": 2,
       "version_minor": 0
      },
      "text/plain": [
       "VBox(children=(Output(), RadioButtons(layout=Layout(width='max-content'), options=(('Increase speed and agilit…"
      ]
     },
     "metadata": {},
     "output_type": "display_data"
    },
    {
     "data": {
      "application/vnd.jupyter.widget-view+json": {
       "model_id": "8b75f1bfab244e908bbcdef17758e509",
       "version_major": 2,
       "version_minor": 0
      },
      "text/plain": [
       "VBox(children=(Output(), RadioButtons(layout=Layout(width='max-content'), options=(('Multiple procurement cycl…"
      ]
     },
     "metadata": {},
     "output_type": "display_data"
    },
    {
     "data": {
      "application/vnd.jupyter.widget-view+json": {
       "model_id": "7e6d162727a74d5e93e3b2e4c21f3f2d",
       "version_major": 2,
       "version_minor": 0
      },
      "text/plain": [
       "VBox(children=(Output(), RadioButtons(layout=Layout(width='max-content'), options=(('Amazon VPC', 0), ('Amazon…"
      ]
     },
     "metadata": {},
     "output_type": "display_data"
    },
    {
     "data": {
      "application/vnd.jupyter.widget-view+json": {
       "model_id": "5144c67188a2451eaffe7e58e2b1dccd",
       "version_major": 2,
       "version_minor": 0
      },
      "text/plain": [
       "VBox(children=(Output(), RadioButtons(layout=Layout(width='max-content'), options=(('True', 0), ('False', 1)),…"
      ]
     },
     "metadata": {},
     "output_type": "display_data"
    },
    {
     "data": {
      "application/vnd.jupyter.widget-view+json": {
       "model_id": "26947c02b156412b99f7c323cca1bebd",
       "version_major": 2,
       "version_minor": 0
      },
      "text/plain": [
       "VBox(children=(Output(), RadioButtons(layout=Layout(width='max-content'), options=(('having many different clo…"
      ]
     },
     "metadata": {},
     "output_type": "display_data"
    },
    {
     "data": {
      "application/vnd.jupyter.widget-view+json": {
       "model_id": "42d036ab47944dd894fad352bdc3fc69",
       "version_major": 2,
       "version_minor": 0
      },
      "text/plain": [
       "VBox(children=(Output(), RadioButtons(layout=Layout(width='max-content'), options=(('Technical Support Calls',…"
      ]
     },
     "metadata": {},
     "output_type": "display_data"
    }
   ],
   "source": [
    "if __name__ == \"__main__\":\n",
    "    display(L1P5Q1, L1P5Q2, L1P5Q3, L1P5Q4, L1P5Q5, L1P5Q6, L1P5Q7, L1P5Q8, L1P5Q9, L1P5Q10)"
   ]
  },
  {
   "cell_type": "code",
   "execution_count": 8,
   "id": "8a272029-12c6-44bb-aae9-6389a4605619",
   "metadata": {},
   "outputs": [],
   "source": [
    "L1P11Q1 = MC(' 1. For certain services like Amazon Elastic Compute Cloud (Amazon EC2) and Amazon Relational Database Service (Amazon RDS), you can invest in reserved capacity. What options are available for Reserved Instances? (Choose one set.)',['AURI, CURI, DURI','LURI, KURI, SURI', 'AURI, NURI, PURI', 'KAMI, DAMI, LAMI'],'AURI, NURI, PURI', cor='Pay only for the services that you consume, with no large upfront expenses, Save up to 75%', incor='')\n",
    "L1P11Q2 = MC(' 2. Where can a customer go to get more details about Amazon Elastic Compute Cloud (Amazon EC2) billing activity that took place 3 months ago? (Select the best answer.)',['Amazon EC2 dashboard','AWS Cost Explorer', 'AWS Trusted Advisor dashboard', 'AWS CloudTrail logs scored in a Simple Storage Service (Amazon S3)'],'AWS Cost Explorer', cor='Visualize, understand, and manage your AWS costs and usage over time', incor='')\n",
    "L1P11Q3 = MC(' 3. True or false? To receive the discounted rate associated with Reserved Instances, you must make a full, upfront payment for the term of the agreement. (Select the best answer.)',['True', 'False'],'False', cor=\"The No Upfront option does not require any upfront payment and provides a discounted hourly rate for the duration of the term.\", incor='')\n",
    "L1P11Q4 = MC(' 4. There is no charge for which of the following?',['Compute or Storage', 'Inbound data transfer and Data transfer between services within the same AWS Region', 'Outbound data transfer '],'Inbound data transfer and Data transfer between services within the same AWS Region', cor='there is no charge for inbound data transfer (with some exceptions) and data transfers within the same AWS region', incor='')\n",
    "L1P11Q5 = MC(' 5. What are the four support plans offered by AWS Support? (Select the best answer.)',['Basic, Developer, Business, Enterprise','Basic, Startup, Business, Enterprise', 'Free, Bronze, Silver, Gold', 'All support is free'],'Basic, Developer, Business, Enterprise', cor='AWS Support provides a mix of tools and technology, people, and programs designed to proactively help you optimize performance, lower costs, and innovate faster.g', incor='')\n",
    "L1P11Q6 = MC(' 6. What AWS tool lets you explore AWS services and create an estimate for the cost of your use cases on AWS?(Select the best answer.)',['AWS Pricing Calculator', 'AWS Budgets', 'AWS Cost and Usage Report', 'AWS Billing Dashboard '],'AWS Pricing Calculator', cor='Configure a cost estimate that fits your unique business or personal needs with AWS products and services.', incor='')\n",
    "L1P11Q7 = MC(' 7. As AWS grows, the cost of doing business is reduced and savings are passed back to the customer with lower pricing. What is this optimization called? (Select the best answer.)',['Expenditure awareness', 'Economies of scale', 'Matching supply and demand', 'EC2 Right Sizing'],'Economies of scale', cor='By using cloud computing, you can achieve a lower variable cost than you can get on your own.', incor='')\n",
    "L1P11Q8 = MC(' 8. True or false? AWS offers some services at no charge, such as, Amazon Virtual Private Cloud, AWS Identity and Access Management, Consolidated Billing, AWS Elastic Beanstalk, automatic scaling, AWS OpsWorks and AWS CloudFormation. However, you might be charged for other AWS services that you use in conjunction with these services.',['True', 'False'],'True', cor=' We love Free!', incor='')\n",
    "L1P11Q9 = MC(' 9. When are free data transfers applicable across AWS? (Choose wisely)',['A. Free inbound data transfer across all AWS services in all Regions', 'B. Free outbound data transfer across all AWS services in all Regions ', 'C. Free i nbound data transfer for Amazon Elastic Compute Cloud (Amazon EC2) instances', 'D. Free outbound data transfer between AWS services within the same Region', 'Both A and D', 'Both B and C'],'Both A and D', cor='Free inbound data transfer across all AWS services in all Regions and Free outbound data transfer between AWS services within the same Region', incor='')\n",
    "L1P11Q10 = MC(' 10. True or false? Unlimited services are available with the AWS Free Tier to new AWS customers for 12 months following their AWS sign-up date. (Select the best answer.)',['True', 'False'],'False', cor=\"The AWS Free Tier applies to certain services and options.\", incor='')"
   ]
  },
  {
   "cell_type": "code",
   "execution_count": 9,
   "id": "160647d9-cb3a-49dd-87f0-0fef29883994",
   "metadata": {},
   "outputs": [
    {
     "data": {
      "application/vnd.jupyter.widget-view+json": {
       "model_id": "344a3a0a9fcf4a77ade30eb697140b20",
       "version_major": 2,
       "version_minor": 0
      },
      "text/plain": [
       "VBox(children=(Output(), RadioButtons(layout=Layout(width='max-content'), options=(('AURI, CURI, DURI', 0), ('…"
      ]
     },
     "metadata": {},
     "output_type": "display_data"
    },
    {
     "data": {
      "application/vnd.jupyter.widget-view+json": {
       "model_id": "fddf6aac2b674caeb70d6af28b5f88bf",
       "version_major": 2,
       "version_minor": 0
      },
      "text/plain": [
       "VBox(children=(Output(), RadioButtons(layout=Layout(width='max-content'), options=(('Amazon EC2 dashboard', 0)…"
      ]
     },
     "metadata": {},
     "output_type": "display_data"
    },
    {
     "data": {
      "application/vnd.jupyter.widget-view+json": {
       "model_id": "fcbd26b20cc646e289f3a34f98fc0de3",
       "version_major": 2,
       "version_minor": 0
      },
      "text/plain": [
       "VBox(children=(Output(), RadioButtons(layout=Layout(width='max-content'), options=(('True', 0), ('False', 1)),…"
      ]
     },
     "metadata": {},
     "output_type": "display_data"
    },
    {
     "data": {
      "application/vnd.jupyter.widget-view+json": {
       "model_id": "3d78bc93a54243ceb933dddb434512c0",
       "version_major": 2,
       "version_minor": 0
      },
      "text/plain": [
       "VBox(children=(Output(), RadioButtons(layout=Layout(width='max-content'), options=(('Compute or Storage', 0), …"
      ]
     },
     "metadata": {},
     "output_type": "display_data"
    },
    {
     "data": {
      "application/vnd.jupyter.widget-view+json": {
       "model_id": "8ded2b0113544fd1987be7fd40079d11",
       "version_major": 2,
       "version_minor": 0
      },
      "text/plain": [
       "VBox(children=(Output(), RadioButtons(layout=Layout(width='max-content'), options=(('Basic, Developer, Busines…"
      ]
     },
     "metadata": {},
     "output_type": "display_data"
    },
    {
     "data": {
      "application/vnd.jupyter.widget-view+json": {
       "model_id": "a405757356304809a3cd7418464df059",
       "version_major": 2,
       "version_minor": 0
      },
      "text/plain": [
       "VBox(children=(Output(), RadioButtons(layout=Layout(width='max-content'), options=(('AWS Pricing Calculator', …"
      ]
     },
     "metadata": {},
     "output_type": "display_data"
    },
    {
     "data": {
      "application/vnd.jupyter.widget-view+json": {
       "model_id": "9195d15ddc674281850f004081049ed1",
       "version_major": 2,
       "version_minor": 0
      },
      "text/plain": [
       "VBox(children=(Output(), RadioButtons(layout=Layout(width='max-content'), options=(('Expenditure awareness', 0…"
      ]
     },
     "metadata": {},
     "output_type": "display_data"
    },
    {
     "data": {
      "application/vnd.jupyter.widget-view+json": {
       "model_id": "3989e12afbd04dc9af7ef5b85b774d7a",
       "version_major": 2,
       "version_minor": 0
      },
      "text/plain": [
       "VBox(children=(Output(), RadioButtons(layout=Layout(width='max-content'), options=(('True', 0), ('False', 1)),…"
      ]
     },
     "metadata": {},
     "output_type": "display_data"
    },
    {
     "data": {
      "application/vnd.jupyter.widget-view+json": {
       "model_id": "e07415c4d5b74bcea7f2334cb4591324",
       "version_major": 2,
       "version_minor": 0
      },
      "text/plain": [
       "VBox(children=(Output(), RadioButtons(layout=Layout(width='max-content'), options=(('A. Free inbound data tran…"
      ]
     },
     "metadata": {},
     "output_type": "display_data"
    },
    {
     "data": {
      "application/vnd.jupyter.widget-view+json": {
       "model_id": "84bc54fc0529437598564dbdcb89e744",
       "version_major": 2,
       "version_minor": 0
      },
      "text/plain": [
       "VBox(children=(Output(), RadioButtons(layout=Layout(width='max-content'), options=(('True', 0), ('False', 1)),…"
      ]
     },
     "metadata": {},
     "output_type": "display_data"
    }
   ],
   "source": [
    "if __name__ == \"__main__\":\n",
    "    display(L1P11Q1, L1P11Q2, L1P11Q3, L1P11Q4, L1P11Q5, L1P11Q6, L1P11Q7, L1P11Q8, L1P11Q9, L1P11Q10)"
   ]
  },
  {
   "cell_type": "markdown",
   "id": "aec08a26-f794-4cb2-8c71-d7db45fcc465",
   "metadata": {},
   "source": [
    "# Lesson 2\n",
    "\n",
    "## Page 6"
   ]
  },
  {
   "cell_type": "code",
   "execution_count": 10,
   "id": "0c97d3db-b4d0-4241-bc65-4fa9315e34ff",
   "metadata": {},
   "outputs": [],
   "source": [
    "L2P6Q1 = MC('1. A Data Center is a physical location within an Availablitly Zone, that houses hundreds of computer systems, network devices, and storage appliances. \\nEach AZ(Availablitly Zone) is typcally how far from each other?',['100 miles','60 kilometers','100 kilometers or 60 miles', '1000 kilometers or 600 miles'],'100 kilometers or 60 miles', cor='Think of it as a cluster of interconnected Data Centers in a specific geographic zone, that help your applications become highly available', incor='')\n",
    "L2P6Q2 = MC('2. You can run your applications in two or more Data Centers to achieve high availability and fault tolerance.',['True','False'],'True', cor='If there is an outage in one Data Center you can still have your service running in another Data Center', incor='')\n",
    "L2P6Q3 = MC('3. An AWS Region consists of 1 AZ',['True','False'],'False', cor='An AWS Region consists of multiple AZs and each AZ concists of multiple Data Centers', incor='')\n",
    "L2P6Q4 = MC('4. Which aws service uses edge locations?',['Route 53','EC2','CloudFront', 'All of the above'],'CloudFront', cor='CloudFront is the most commonly discussed use of edge locations. It\\'s a content delivery network that caches content in edge locations.', incor='')\n",
    "L2P6Q5 = MC('5. AWS has created a large number of Edge Locations as part of its Global Infrastructure. Which of the following is NOT a benefit of using Edge Locations?',['Edge locations are used by CloudFront to distribute content to global users with low latency','Edge locations are used by CloudFront to distribute traffic across multiple instances to reduce latency','Edge locations are used by CloudFront to improve your end users’ experience when uploading files', 'Edge locations are used by CloudFront to cache the most recent responses'],'Edge locations are used by CloudFront to distribute traffic across multiple instances to reduce latency', cor='With Amazon CloudFront, your users can also benefit from accelerated content uploads. As the data arrives at an edge location, data is routed to AWS storage services over an optimized network path.', incor='')\n",
    "L2P6Q6 = MC('6. A company has business critical workloads hosted on AWS and they are unwilling to accept any downtime. Which of the following is a recommended best practice to protect their workloads in the event of an unexpected natural disaster?',['Create point-in-time backups in another subnet and recover this data when a disaster occurs','Deploy AWS resources to another AWS Region and implement an Active-Active disaster recovery strategy','Replicate data across multiple Edge Locations worldwide and use Amazon CloudFront to perform automatic failover in the event of an outage', 'Deploy AWS resources across multiple Availability Zones within the same AWS Region'],'Deploy AWS resources to another AWS Region and implement an Active-Active disaster recovery strategy', cor='In AWS, customers have the flexibility to choose the disaster recovery approach that fits their budget. The approaches could be as minimum as backup and restore from another AWS Region or full-scale multi-region Active-Active solution.', incor='')\n",
    "L2P6Q7 = MC('7. Which of the following does NOT belong to the AWS Cloud Computing models?',['Infrastructure as a Service (IaaS)','Software as a Service (SaaS)','Platform as a Service (PaaS)', 'Networking as a Service (NaaS)'],'Networking as a Service (NaaS)', cor='There are three Cloud Computing Models: \\n\\n1) Infrastructure as a Service (IaaS) - Infrastructure as a Service (IaaS) contains the basic building blocks for cloud IT and typically provide access to networking features, computers (virtual or on dedicated hardware), and data storage space. IaaS provides you with the highest level of flexibility and management control over your IT resources and is most similar to existing IT resources that many IT departments and developers are familiar with today. \\n\\n2) Platform as a Service (PaaS) - Platform as a Service (PaaS) removes the need for your organization to manage the underlying infrastructure (usually hardware and operating systems) and allows you to focus on the deployment and management of your applications. This helps you be more efficient as you don’t need to worry about resource procurement, capacity planning, software maintenance, patching, or any of the other undifferentiated heavy lifting involved in running your application. \\n\\n3) Software as a Service (SaaS) - Software as a Service (SaaS) provides you with a completed product that is run and managed by the service provider. In most cases, people referring to Software as a Service are referring to end-user applications. With a SaaS offering you do not have to think about how the service is maintained or how the underlying infrastructure is managed; you only need to think about how you will use that particular piece of software. A common example of a SaaS application is web-based email which you can use to send and receive email without having to manage feature additions to the email product or maintain the servers and operating systems that the email program is running on. ', incor='')"
   ]
  },
  {
   "cell_type": "code",
   "execution_count": 11,
   "id": "0ee32c53-3a7f-49e8-8151-20e1c073a15c",
   "metadata": {},
   "outputs": [
    {
     "data": {
      "application/vnd.jupyter.widget-view+json": {
       "model_id": "e62c8f8831bb4f12b3235852717bdbed",
       "version_major": 2,
       "version_minor": 0
      },
      "text/plain": [
       "VBox(children=(Output(), RadioButtons(layout=Layout(width='max-content'), options=(('100 miles', 0), ('60 kilo…"
      ]
     },
     "metadata": {},
     "output_type": "display_data"
    },
    {
     "data": {
      "application/vnd.jupyter.widget-view+json": {
       "model_id": "e2b01954976241fd915813d26ed4ab08",
       "version_major": 2,
       "version_minor": 0
      },
      "text/plain": [
       "VBox(children=(Output(), RadioButtons(layout=Layout(width='max-content'), options=(('True', 0), ('False', 1)),…"
      ]
     },
     "metadata": {},
     "output_type": "display_data"
    },
    {
     "data": {
      "application/vnd.jupyter.widget-view+json": {
       "model_id": "5ea5e731e62a442fbb93786aebb6e253",
       "version_major": 2,
       "version_minor": 0
      },
      "text/plain": [
       "VBox(children=(Output(), RadioButtons(layout=Layout(width='max-content'), options=(('True', 0), ('False', 1)),…"
      ]
     },
     "metadata": {},
     "output_type": "display_data"
    },
    {
     "data": {
      "application/vnd.jupyter.widget-view+json": {
       "model_id": "df9523564e9b4a49b4148f17dedf2b6e",
       "version_major": 2,
       "version_minor": 0
      },
      "text/plain": [
       "VBox(children=(Output(), RadioButtons(layout=Layout(width='max-content'), options=(('Route 53', 0), ('EC2', 1)…"
      ]
     },
     "metadata": {},
     "output_type": "display_data"
    },
    {
     "data": {
      "application/vnd.jupyter.widget-view+json": {
       "model_id": "36a03bfc68ab4658bc1f23eb344f56f1",
       "version_major": 2,
       "version_minor": 0
      },
      "text/plain": [
       "VBox(children=(Output(), RadioButtons(layout=Layout(width='max-content'), options=(('Edge locations are used b…"
      ]
     },
     "metadata": {},
     "output_type": "display_data"
    },
    {
     "data": {
      "application/vnd.jupyter.widget-view+json": {
       "model_id": "4c3df76e26944afc80a33291d0bf8107",
       "version_major": 2,
       "version_minor": 0
      },
      "text/plain": [
       "VBox(children=(Output(), RadioButtons(layout=Layout(width='max-content'), options=(('Create point-in-time back…"
      ]
     },
     "metadata": {},
     "output_type": "display_data"
    },
    {
     "data": {
      "application/vnd.jupyter.widget-view+json": {
       "model_id": "2e462d99bf9e40c5a717a2bf1e6d2d1d",
       "version_major": 2,
       "version_minor": 0
      },
      "text/plain": [
       "VBox(children=(Output(), RadioButtons(layout=Layout(width='max-content'), options=(('Infrastructure as a Servi…"
      ]
     },
     "metadata": {},
     "output_type": "display_data"
    }
   ],
   "source": [
    "if __name__ == \"__main__\":\n",
    "    display(L2P6Q1, L2P6Q2, L2P6Q3, L2P6Q4, L2P6Q5, L2P6Q6, L2P6Q7)"
   ]
  },
  {
   "cell_type": "markdown",
   "id": "ee661097-3bb5-4e1c-b03e-a517f637ec3b",
   "metadata": {},
   "source": [
    "## Page 14"
   ]
  },
  {
   "cell_type": "code",
   "execution_count": 12,
   "id": "379745d9-e8a9-42e0-8e4f-06c49eac1a45",
   "metadata": {},
   "outputs": [],
   "source": [
    "L2P14Q1 = MC('1. List the 6 most utilized foundational services',['Compute, Cost Management, Database, Management and Governance, Networking and Content Delivery, SecOps(Security, Identity, and Compliance), Storage','Compute, Cost Management, Database, Management and Governance, Networking and Content Delivery, Robotics, Storage','Compute, Cost Management, Database, Management and Governance, Networking and Content Delivery, Robotics, IoT', 'Compute, Cost Management, Database, Management and Governance, Networking and Content Delivery, Machine Learning, IoT'],'Compute, Cost Management, Database, Management and Governance, Networking and Content Delivery, SecOps(Security, Identity, and Compliance), Storage', cor='', incor='')\n",
    "L2P14Q2 = MC('2. Which service provides object-level storage in AWS?',['Amazon Instance Store','Amazon EBS','Amazon EFS', 'Amazon S3'],'Amazon S3', cor='', incor='')\n",
    "L2P14Q3 = MC('3. Which compute service allows you to run code without thinking about servers?',['Amazon EC2','AWS Elastic Beanstalk','AWS Lambda', 'Amazon Lightsail'],'AWS Lambda', cor='', incor='')\n",
    "L2P14Q4 = MC('4. Which of the following is NOT a relational database?',['Amazon Aurora','Amazon DynamoDB','MariaDB', ' MySQL'],'Amazon DynamoDB', cor='', incor='')\n",
    "L2P14Q5 = MC('5. What is the AWS service that provides a virtual network dedicated to your AWS account?',['AWS Dedicated Hosts','AWS VPN','AWS Subnets', 'Amazon VPC'],'Amazon VPC', cor='', incor='')\n",
    "L2P14Q6 = MC('6. Which AWS service allows you to access comprehensive cost and usage information',['AWS Cost and Usage Report','AWS Budgets','Savings Plans', 'AWS Config'],'AWS Cost and Usage Report', cor='', incor='')\n",
    "L2P14Q7 = MC('7. What do you gain from setting up consolidated billing for five different AWS accounts under another master account?',['Each AWS account gets volume discounts','AWS services’ costs will be reduced to half the original price','Each AWS account gets five times the free-tier services capacity', 'The consolidated billing feature is just for organizational purposes'],'Each AWS account gets volume discounts', cor='AWS consolidated billing enables an organization to consolidate payments for multiple AWS accounts within a single organization by making a single paying account. For billing purposes, AWS treats all the accounts on the consolidated bill as one account. Some services, such as Amazon EC2 and Amazon S3 have volume pricing tiers across certain usage dimensions that give the user lower prices when they use the service more. For example, if you use 50 TB in each account you would normally be charged $23 *50*3 (because they are 3 different accounts), But with consolidated billing you would be charged $23*50+$22*50*2 (because they are treated as one account) which means that you would save $100.', incor='')\n",
    "L2P14Q8 = MC('8. You have AWS Basic support, and you have discovered that some AWS resources are being used maliciously, and those resources could potentially compromise your data. \\nWhat should you do?',['Contact the AWS Security team','Contact the AWS Customer Service team','Contact the AWS Concierge team', 'Contact the AWS Abuse team'],'Contact the AWS Abuse team', cor='The AWS Abuse team can assist you when AWS resources are being used to engage in the following types of abusive behavior: \\n\\nI. Spam: You are receiving unwanted emails from an AWS-owned IP address, or AWS resources are being used to spam websites or forums. \\n\\nII. Port scanning: Your logs show that one or more AWS-owned IP addresses are sending packets to multiple ports on your server, and you believe this is an attempt to discover unsecured ports. \\n\\nIII. Denial of service attacks (DOS): Your logs show that one or more AWS-owned IP addresses are being used to flood ports on your resources with packets, and you believe this is an attempt to overwhelm or crash your server or software running on your server. \\n\\nIV. Intrusion attempts: Your logs show that one or more AWS-owned IP addresses are being used to attempt to log in to your resources.', incor='')"
   ]
  },
  {
   "cell_type": "code",
   "execution_count": 13,
   "id": "65464c3c-a3d8-428c-b8d8-44f13a63c93c",
   "metadata": {},
   "outputs": [
    {
     "data": {
      "application/vnd.jupyter.widget-view+json": {
       "model_id": "0d4fb20836ef45ccaa3f5e93ff32929d",
       "version_major": 2,
       "version_minor": 0
      },
      "text/plain": [
       "VBox(children=(Output(), RadioButtons(layout=Layout(width='max-content'), options=(('Compute, Cost Management,…"
      ]
     },
     "metadata": {},
     "output_type": "display_data"
    },
    {
     "data": {
      "application/vnd.jupyter.widget-view+json": {
       "model_id": "7f6fae007ef543719f5aacd4afaef369",
       "version_major": 2,
       "version_minor": 0
      },
      "text/plain": [
       "VBox(children=(Output(), RadioButtons(layout=Layout(width='max-content'), options=(('Amazon Instance Store', 0…"
      ]
     },
     "metadata": {},
     "output_type": "display_data"
    },
    {
     "data": {
      "application/vnd.jupyter.widget-view+json": {
       "model_id": "9dfd4c9515ec4d64b27bb0f4a4a330de",
       "version_major": 2,
       "version_minor": 0
      },
      "text/plain": [
       "VBox(children=(Output(), RadioButtons(layout=Layout(width='max-content'), options=(('Amazon EC2', 0), ('AWS El…"
      ]
     },
     "metadata": {},
     "output_type": "display_data"
    },
    {
     "data": {
      "application/vnd.jupyter.widget-view+json": {
       "model_id": "14b6357eee754a588135217359e6718f",
       "version_major": 2,
       "version_minor": 0
      },
      "text/plain": [
       "VBox(children=(Output(), RadioButtons(layout=Layout(width='max-content'), options=(('Amazon Aurora', 0), ('Ama…"
      ]
     },
     "metadata": {},
     "output_type": "display_data"
    },
    {
     "data": {
      "application/vnd.jupyter.widget-view+json": {
       "model_id": "59b5578e320d4f7b8ff6274eb0e3653b",
       "version_major": 2,
       "version_minor": 0
      },
      "text/plain": [
       "VBox(children=(Output(), RadioButtons(layout=Layout(width='max-content'), options=(('AWS Dedicated Hosts', 0),…"
      ]
     },
     "metadata": {},
     "output_type": "display_data"
    },
    {
     "data": {
      "application/vnd.jupyter.widget-view+json": {
       "model_id": "8d34d0af21ac42cab5da592fb22b7d9d",
       "version_major": 2,
       "version_minor": 0
      },
      "text/plain": [
       "VBox(children=(Output(), RadioButtons(layout=Layout(width='max-content'), options=(('AWS Cost and Usage Report…"
      ]
     },
     "metadata": {},
     "output_type": "display_data"
    },
    {
     "data": {
      "application/vnd.jupyter.widget-view+json": {
       "model_id": "0030a28329ef46a781431cd630a1e211",
       "version_major": 2,
       "version_minor": 0
      },
      "text/plain": [
       "VBox(children=(Output(), RadioButtons(layout=Layout(width='max-content'), options=(('Each AWS account gets vol…"
      ]
     },
     "metadata": {},
     "output_type": "display_data"
    },
    {
     "data": {
      "application/vnd.jupyter.widget-view+json": {
       "model_id": "a81709295bbd4608bb1c33cb2d0413f9",
       "version_major": 2,
       "version_minor": 0
      },
      "text/plain": [
       "VBox(children=(Output(), RadioButtons(layout=Layout(width='max-content'), options=(('Contact the AWS Security …"
      ]
     },
     "metadata": {},
     "output_type": "display_data"
    }
   ],
   "source": [
    "if __name__ == \"__main__\":\n",
    "    display(L2P14Q1, L2P14Q2, L2P14Q3, L2P14Q4, L2P14Q5, L2P14Q6, L2P14Q7, L2P14Q8)"
   ]
  },
  {
   "cell_type": "markdown",
   "id": "cca0667c-a475-4465-95e3-274a1cc3cbfe",
   "metadata": {},
   "source": [
    "## Page 15"
   ]
  },
  {
   "cell_type": "code",
   "execution_count": 14,
   "id": "83a87a35-af0b-4366-850a-ad7777589cf9",
   "metadata": {},
   "outputs": [],
   "source": [
    "L2P15Q1 = MC('Out of the many AWS Management and Governance Services \\n1. What would you use to access the AWS Cloud from a browser?',['AWS Command Line Interface','AWS CloudTrail ','AWS Trusted Advisor', 'AWS Management Console'],'AWS Management Console', cor='The AWS Management Console allows you to access everything on the AWS Cloud', incor='')\n",
    "L2P15Q2 = MC('2. What is AWS CLI used for?',['Track user activity and API usage','A unified tool to manage AWS services','Create and manage resources with templates', 'Create and use standardized products'],'A unified tool to manage AWS services', cor='The AWS Command Line Interface (CLI) is a unified tool to manage your AWS services.', incor='')\n",
    "L2P15Q3 = MC('3. Which is NOT a benifit of AWS Auto Scaling?',['Make Smart Scaling Decisions','Pay only for what you need','AWS Auto Scaling can help you optimize your utilization and cost efficiencies when consuming AWS services', 'Allows you to decide when your hardware is used by AWS'],'Allows you to decide when your hardware is used by AWS', cor='AWS Auto Scaling monitors your applications and automatically adjusts capacity to maintain steady, predictable performance at the lowest possible cost. It is much more cost effective then using your own on premise servers.', incor='')\n",
    "L2P15Q4 = MC('4. AWS CloudTrail does what?',['Creates and manages resources with templates','Access resources on the go','Monitors and records account activity across your AWS infrastructure', 'Gain operational insights and take action'],'Monitors and records account activity across your AWS infrastructure', cor='AWS CloudTrail monitors and records account activity across your AWS infrastructure, giving you control over storage, analysis, and remediation actions.', incor='')\n",
    "L2P15Q5 = MC('5. Which of the following services allows customers to manage their agreements with AWS?',['AWS Organizations','AWS Artifact','AWS Systems Manager', 'AWS Certificate Manager'],'AWS Artifact', cor='AWS Artifact is a self-service audit artifact retrieval portal that provides customers with on-demand access to AWS’ compliance documentation and AWS agreements.', incor='')\n",
    "L2P15Q6 = MC('6. Which statement is true regarding the AWS Shared Responsibility Model?',['Patching the guest OS is always the responsibility of AWS','Security of the IaaS services is the responsibility of AWS','Responsibilities vary depending on the services used', 'Security of the managed services is the responsibility of the customer'],'Responsibilities vary depending on the services used', cor='Customers should be aware that their responsibilities may vary depending on the AWS services chosen.  For example, when using Amazon EC2, you are responsible for applying operating system and application security patches regularly. However, such patches are applied automatically when using Amazon RDS.', incor='')\n",
    "L2P15Q7 = MC('7. An organization has decided to purchase an Amazon EC2 Reserved Instance (RI) for three years in order to reduce costs. It is possible that the application workloads could change during the reservation period. \\nWhat is the EC2 Reserved Instance (RI) type that will allow the company to exchange the purchased reserved instance for another reserved instance with higher computing power if they need to?',['Elastic RI','Premium RI','Convertible RI', 'Standard RI'],'Convertible RI', cor='When your needs change, you can exchange your Convertible Reserved Instances and continue to benefit from the reservation\\'s pricing discount. With Convertible RIs, you can exchange one or more Reserved Instances for another Reserved Instance with a different configuration, including instance family, operating system, and tenancy. There are no limits to how many times you perform an exchange, as long as the new Convertible Reserved Instance is of an equal or higher value than the original Convertible Reserved Instances that you are exchanging.', incor='')"
   ]
  },
  {
   "cell_type": "code",
   "execution_count": 15,
   "id": "3f38c9a4-5aaa-4812-a315-c6be575de4a7",
   "metadata": {},
   "outputs": [
    {
     "data": {
      "application/vnd.jupyter.widget-view+json": {
       "model_id": "e8375d729b8147e28363eb97ebb4cc65",
       "version_major": 2,
       "version_minor": 0
      },
      "text/plain": [
       "VBox(children=(Output(), RadioButtons(layout=Layout(width='max-content'), options=(('AWS Command Line Interfac…"
      ]
     },
     "metadata": {},
     "output_type": "display_data"
    },
    {
     "data": {
      "application/vnd.jupyter.widget-view+json": {
       "model_id": "b3b131478e724eada72c3da28a3e740d",
       "version_major": 2,
       "version_minor": 0
      },
      "text/plain": [
       "VBox(children=(Output(), RadioButtons(layout=Layout(width='max-content'), options=(('Track user activity and A…"
      ]
     },
     "metadata": {},
     "output_type": "display_data"
    },
    {
     "data": {
      "application/vnd.jupyter.widget-view+json": {
       "model_id": "99ad9b8843a2440083c08e551ed2bcd7",
       "version_major": 2,
       "version_minor": 0
      },
      "text/plain": [
       "VBox(children=(Output(), RadioButtons(layout=Layout(width='max-content'), options=(('Make Smart Scaling Decisi…"
      ]
     },
     "metadata": {},
     "output_type": "display_data"
    },
    {
     "data": {
      "application/vnd.jupyter.widget-view+json": {
       "model_id": "b6e70dd00573428597720add20ec9dc6",
       "version_major": 2,
       "version_minor": 0
      },
      "text/plain": [
       "VBox(children=(Output(), RadioButtons(layout=Layout(width='max-content'), options=(('Creates and manages resou…"
      ]
     },
     "metadata": {},
     "output_type": "display_data"
    },
    {
     "data": {
      "application/vnd.jupyter.widget-view+json": {
       "model_id": "c26559eccc4f4b9d93b95d66072de988",
       "version_major": 2,
       "version_minor": 0
      },
      "text/plain": [
       "VBox(children=(Output(), RadioButtons(layout=Layout(width='max-content'), options=(('AWS Organizations', 0), (…"
      ]
     },
     "metadata": {},
     "output_type": "display_data"
    },
    {
     "data": {
      "application/vnd.jupyter.widget-view+json": {
       "model_id": "633304714e8c442a9e3caa6ce77b4b70",
       "version_major": 2,
       "version_minor": 0
      },
      "text/plain": [
       "VBox(children=(Output(), RadioButtons(layout=Layout(width='max-content'), options=(('Patching the guest OS is …"
      ]
     },
     "metadata": {},
     "output_type": "display_data"
    },
    {
     "data": {
      "application/vnd.jupyter.widget-view+json": {
       "model_id": "7d57336bd3304bed95bd495bd1e25644",
       "version_major": 2,
       "version_minor": 0
      },
      "text/plain": [
       "VBox(children=(Output(), RadioButtons(layout=Layout(width='max-content'), options=(('Elastic RI', 0), ('Premiu…"
      ]
     },
     "metadata": {},
     "output_type": "display_data"
    }
   ],
   "source": [
    "if __name__ == \"__main__\":\n",
    "    display(L2P15Q1, L2P15Q2, L2P15Q3, L2P15Q4, L2P15Q5, L2P15Q6, L2P15Q7)"
   ]
  },
  {
   "cell_type": "markdown",
   "id": "b75af3d8-7aac-42ae-abf6-250002f98f8d",
   "metadata": {},
   "source": [
    "## Page 16"
   ]
  },
  {
   "cell_type": "code",
   "execution_count": 16,
   "id": "d1dfd51d-017a-42f1-90f1-8eeeab1d18db",
   "metadata": {},
   "outputs": [],
   "source": [
    "L2P16Q1 = MC('1. True or False \\nAWS is responsible for protecting the infrastructure that runs all of the services offered in the AWS Cloud.',['True','False'],'True', cor='This infrastructure is composed of the hardware, software, networking, and facilities that run AWS Cloud services.', incor='')\n",
    "L2P16Q2 = MC('2. What does the \"Principle of Least Privilege\" refer to?',['All IAM users should have at least the necessary permissions to access the core AWS services','IAM users should not be granted any permissions; to keep your account safe','All trusted IAM users should have access to any AWS service in the respective AWS account', 'You should grant your users only the permissions they need when they need them and nothing more'],'You should grant your users only the permissions they need when they need them and nothing more', cor='The principle of least privilege is one of the most important security practices and it means granting users the required permissions to perform the tasks entrusted to them and nothing more. The security administrator determines what tasks users need to perform and then attaches the policies that allow them to perform only those tasks. You should start with a minimum set of permissions and grant additional permissions when necessary. Doing so is more secure than starting with permissions that are too lenient and then trying to tighten them down.', incor='')\n",
    "L2P16Q3 = MC('3. Which of the following must an IAM user provide to interact with AWS services using the AWS Command Line Interface (AWS CLI)?',['Access keys','Secret token','Username and password', 'User ID'],'Access keys', cor='Access keys consist of an access key ID and secret access key, which are used to sign programmatic requests to AWS using the CLI or the SDK.', incor='')\n",
    "L2P16Q4 = MC('4. Which of the following services allows customers to manage their agreements with AWS?',['AWS Certificate Manager','AWS Systems Manager','AWS Artifact', 'AWS Organizations'],'AWS Artifact', cor='AWS Artifact is a self-service audit artifact retrieval portal that provides customers with on-demand access to AWS’ compliance documentation and AWS agreements. You can use AWS Artifact Agreements to review, accept, and track the status of AWS agreements such as the Business Associate Addendum (BAA).', incor='')\n",
    "L2P16Q5 = MC('5. An organization has many technical employees who operate their AWS Cloud infrastructure. What does AWS provide to help organize them into teams and then assign the appropriate permissions for each team?',['IAM Groups','AWS Organizations','IAM roles', 'IAM users'],'IAM Groups', cor='An IAM group is a collection of IAM users that are managed as a unit. Groups let you specify permissions for multiple users, which can make it easier to manage the permissions for those users. For example, you could have a group called Admins and give that group the types of permissions that administrators typically need. Any user in that group automatically has the permissions that are assigned to the group. If a new user joins your organization and needs administrator privileges, you can assign the appropriate permissions by adding the user to that group. Similarly, if a person changes jobs in your organization, instead of editing that user\\'s permissions, you can remove him or her from the old groups and add him or her to the appropriate new groups.', incor='')\n",
    "L2P16Q6 = MC('6. What is the AWS feature that provides an additional level of security above the default authentication mechanism of usernames and passwords?',['AWS MFA','Encrypted keys','AWS KMS', 'Email verification'],'AWS MFA', cor='AWS Multi-Factor Authentication (MFA) is a simple best practice that adds an extra layer of protection on top of using just your username and password to authenticate.', incor='')"
   ]
  },
  {
   "cell_type": "code",
   "execution_count": 17,
   "id": "8586ab0c-205f-46a5-b5df-79107b2a573e",
   "metadata": {},
   "outputs": [
    {
     "data": {
      "application/vnd.jupyter.widget-view+json": {
       "model_id": "c363687c0e4b4bcf853816d6d2a5ba98",
       "version_major": 2,
       "version_minor": 0
      },
      "text/plain": [
       "VBox(children=(Output(), RadioButtons(layout=Layout(width='max-content'), options=(('True', 0), ('False', 1)),…"
      ]
     },
     "metadata": {},
     "output_type": "display_data"
    },
    {
     "data": {
      "application/vnd.jupyter.widget-view+json": {
       "model_id": "4aaac3b034b14422b169e6e673174e1b",
       "version_major": 2,
       "version_minor": 0
      },
      "text/plain": [
       "VBox(children=(Output(), RadioButtons(layout=Layout(width='max-content'), options=(('All IAM users should have…"
      ]
     },
     "metadata": {},
     "output_type": "display_data"
    },
    {
     "data": {
      "application/vnd.jupyter.widget-view+json": {
       "model_id": "26bae3e7a87a4051b59d141f0262dd56",
       "version_major": 2,
       "version_minor": 0
      },
      "text/plain": [
       "VBox(children=(Output(), RadioButtons(layout=Layout(width='max-content'), options=(('Access keys', 0), ('Secre…"
      ]
     },
     "metadata": {},
     "output_type": "display_data"
    },
    {
     "data": {
      "application/vnd.jupyter.widget-view+json": {
       "model_id": "99095d8cf1334fa1826321616d615025",
       "version_major": 2,
       "version_minor": 0
      },
      "text/plain": [
       "VBox(children=(Output(), RadioButtons(layout=Layout(width='max-content'), options=(('AWS Certificate Manager',…"
      ]
     },
     "metadata": {},
     "output_type": "display_data"
    },
    {
     "data": {
      "application/vnd.jupyter.widget-view+json": {
       "model_id": "314ccea2ee114f51a52bd74a00ad04b1",
       "version_major": 2,
       "version_minor": 0
      },
      "text/plain": [
       "VBox(children=(Output(), RadioButtons(layout=Layout(width='max-content'), options=(('IAM Groups', 0), ('AWS Or…"
      ]
     },
     "metadata": {},
     "output_type": "display_data"
    },
    {
     "data": {
      "application/vnd.jupyter.widget-view+json": {
       "model_id": "4db579c43cf14b4dacc90d3749a672cd",
       "version_major": 2,
       "version_minor": 0
      },
      "text/plain": [
       "VBox(children=(Output(), RadioButtons(layout=Layout(width='max-content'), options=(('AWS MFA', 0), ('Encrypted…"
      ]
     },
     "metadata": {},
     "output_type": "display_data"
    }
   ],
   "source": [
    "if __name__ == \"__main__\":\n",
    "    display(L2P16Q1, L2P16Q2, L2P16Q3, L2P16Q4, L2P16Q5, L2P16Q6)"
   ]
  },
  {
   "cell_type": "code",
   "execution_count": null,
   "id": "23733fc9-8ded-4118-baf9-9b48a0f924eb",
   "metadata": {},
   "outputs": [],
   "source": []
  },
  {
   "cell_type": "code",
   "execution_count": null,
   "id": "bd4a2ea8-0efc-41d3-9173-42934d19ca02",
   "metadata": {},
   "outputs": [],
   "source": []
  },
  {
   "cell_type": "code",
   "execution_count": 18,
   "id": "1081b528-6d6a-4c9e-ad79-e786347b90bf",
   "metadata": {},
   "outputs": [],
   "source": [
    "# Template\n",
    "\n",
    "# Lesson 2\n",
    "\n",
    "## Page 6\n",
    "\n",
    "# L2P6Q1 = MC('1. Question?',['A','B','C', 'D'],'D', cor='', incor='')\n",
    "# L2P6Q2 = MC('2. Question?',['A','B','C', 'D'],'D', cor='', incor='')\n",
    "# L2P6Q3 = MC('3. Question?',['A','B','C', 'D'],'D', cor='', incor='')\n",
    "# L2P6Q4 = MC('4. Question?',['A','B','C', 'D'],'D', cor='', incor='')\n",
    "# L2P6Q5 = MC('5. Question?',['A','B','C', 'D'],'D', cor='', incor='')\n",
    "# L2P6Q6 = MC('6. Question?',['A','B','C', 'D'],'D', cor='', incor='')"
   ]
  },
  {
   "cell_type": "code",
   "execution_count": null,
   "id": "4b5484b0-5742-4daf-8bdd-52294e483190",
   "metadata": {},
   "outputs": [],
   "source": []
  },
  {
   "cell_type": "markdown",
   "id": "63887f13-b414-4d00-8b56-7fd4b3545a38",
   "metadata": {},
   "source": []
  },
  {
   "cell_type": "code",
   "execution_count": null,
   "id": "def0a0d1-8273-406c-92af-48108c480dc4",
   "metadata": {},
   "outputs": [],
   "source": []
  },
  {
   "cell_type": "code",
   "execution_count": null,
   "id": "3f4ad5ba-3884-4b41-a85a-f78026a1ce48",
   "metadata": {},
   "outputs": [],
   "source": []
  },
  {
   "cell_type": "markdown",
   "id": "883affec-82fc-43a0-b6d9-0b9ddd31e72b",
   "metadata": {},
   "source": [
    "## Page 3"
   ]
  },
  {
   "cell_type": "code",
   "execution_count": null,
   "id": "e20c2ccc-d516-4399-913c-c0ecaea17eab",
   "metadata": {},
   "outputs": [],
   "source": []
  },
  {
   "cell_type": "code",
   "execution_count": null,
   "id": "d90c37c2-54a3-462e-a394-db26cf52694a",
   "metadata": {},
   "outputs": [],
   "source": []
  },
  {
   "cell_type": "markdown",
   "id": "2e55081d-a664-4183-b732-f66617511d37",
   "metadata": {},
   "source": [
    "## Page 4"
   ]
  },
  {
   "cell_type": "code",
   "execution_count": null,
   "id": "6187205f-3c1e-4635-9c6f-fe890b724d8b",
   "metadata": {},
   "outputs": [],
   "source": []
  },
  {
   "cell_type": "code",
   "execution_count": null,
   "id": "0256fd32-503b-46a7-8740-03051ed865b4",
   "metadata": {},
   "outputs": [],
   "source": []
  },
  {
   "cell_type": "markdown",
   "id": "5f1c111e-d753-4991-845d-266959920338",
   "metadata": {},
   "source": [
    "## Page 5"
   ]
  },
  {
   "cell_type": "code",
   "execution_count": null,
   "id": "7a8cd829-374d-4562-b563-effe7064f805",
   "metadata": {},
   "outputs": [],
   "source": []
  },
  {
   "cell_type": "code",
   "execution_count": null,
   "id": "b3e1b41b-35ae-4155-9a78-aa7f11ead292",
   "metadata": {},
   "outputs": [],
   "source": []
  },
  {
   "cell_type": "markdown",
   "id": "701a3008-173b-440a-b9e6-8230f9ea9aea",
   "metadata": {},
   "source": [
    "## Page 6"
   ]
  },
  {
   "cell_type": "code",
   "execution_count": null,
   "id": "8d4e55df-223a-4364-ac65-1f277aa74324",
   "metadata": {},
   "outputs": [],
   "source": []
  },
  {
   "cell_type": "code",
   "execution_count": null,
   "id": "e8817254-7d78-4b7c-bce8-38039d304f71",
   "metadata": {},
   "outputs": [],
   "source": []
  },
  {
   "cell_type": "markdown",
   "id": "1c5a22c4-0500-446d-a04a-3966520f6ba4",
   "metadata": {},
   "source": [
    "## Page 7"
   ]
  },
  {
   "cell_type": "code",
   "execution_count": null,
   "id": "44c87e90-8beb-4438-ac9c-67d88ba8c45b",
   "metadata": {},
   "outputs": [],
   "source": []
  },
  {
   "cell_type": "code",
   "execution_count": null,
   "id": "0af0d13b-00d8-4c5f-b06b-5b6278ef0aee",
   "metadata": {},
   "outputs": [],
   "source": []
  },
  {
   "cell_type": "markdown",
   "id": "77b41143-3ed5-4664-adbc-04d41d4801c7",
   "metadata": {},
   "source": [
    "## Page 8"
   ]
  },
  {
   "cell_type": "code",
   "execution_count": null,
   "id": "45ab180a-58a8-4033-ab7a-c7c3dad3fe49",
   "metadata": {},
   "outputs": [],
   "source": []
  },
  {
   "cell_type": "code",
   "execution_count": null,
   "id": "806e12c5-f0bc-4a2a-bd74-d9f049a0b23e",
   "metadata": {},
   "outputs": [],
   "source": []
  },
  {
   "cell_type": "markdown",
   "id": "6accf081-f45e-4653-9237-746d1f781f44",
   "metadata": {},
   "source": [
    "## Page 9"
   ]
  },
  {
   "cell_type": "code",
   "execution_count": null,
   "id": "92ca9641-d128-444e-a5e4-0309f92b3e76",
   "metadata": {},
   "outputs": [],
   "source": []
  },
  {
   "cell_type": "code",
   "execution_count": null,
   "id": "fc464f27-a85d-4bdd-835a-7e00c8998074",
   "metadata": {},
   "outputs": [],
   "source": []
  },
  {
   "cell_type": "markdown",
   "id": "d63da683-1614-45ad-90ca-cab56e41a05b",
   "metadata": {},
   "source": [
    "## Page 10"
   ]
  },
  {
   "cell_type": "code",
   "execution_count": null,
   "id": "605ca3e7-d4fa-4a54-8339-136586fe4beb",
   "metadata": {},
   "outputs": [],
   "source": []
  },
  {
   "cell_type": "code",
   "execution_count": null,
   "id": "855a48f4-789d-4497-bd03-cd0da4ce5554",
   "metadata": {},
   "outputs": [],
   "source": []
  },
  {
   "cell_type": "markdown",
   "id": "5aa0a7ad-86d9-4edc-b595-d2d7f6d63cab",
   "metadata": {},
   "source": [
    "## Page 11"
   ]
  },
  {
   "cell_type": "code",
   "execution_count": null,
   "id": "ba97168a-8ac5-41e5-95f8-f1e945ad724a",
   "metadata": {},
   "outputs": [],
   "source": []
  },
  {
   "cell_type": "code",
   "execution_count": null,
   "id": "10dcc66c-b451-49e8-bf6b-243071da24af",
   "metadata": {},
   "outputs": [],
   "source": []
  },
  {
   "cell_type": "markdown",
   "id": "bf0bf7c7-e3de-4a72-861c-544595fea19e",
   "metadata": {},
   "source": [
    "## Page 12"
   ]
  },
  {
   "cell_type": "code",
   "execution_count": null,
   "id": "256d54b8-8855-417c-a09e-0b3a54710a9c",
   "metadata": {},
   "outputs": [],
   "source": []
  },
  {
   "cell_type": "code",
   "execution_count": null,
   "id": "e22fc446-19c0-4002-9e65-9b23fd90bdbe",
   "metadata": {},
   "outputs": [],
   "source": []
  },
  {
   "cell_type": "markdown",
   "id": "9cae9bb7-15ec-4d63-a700-598c67a9bd21",
   "metadata": {},
   "source": [
    "## Page 13"
   ]
  },
  {
   "cell_type": "code",
   "execution_count": null,
   "id": "cef80256-0620-40fd-98a5-14219c889c47",
   "metadata": {},
   "outputs": [],
   "source": []
  },
  {
   "cell_type": "code",
   "execution_count": null,
   "id": "14dd94c5-a8eb-4b0e-aef1-4454af78d47d",
   "metadata": {},
   "outputs": [],
   "source": []
  },
  {
   "cell_type": "markdown",
   "id": "d21f7914-d12d-4586-8755-6c02354392bc",
   "metadata": {},
   "source": [
    "## Page 14"
   ]
  },
  {
   "cell_type": "code",
   "execution_count": null,
   "id": "00a2b275-494a-4449-baaa-f138c42c5d98",
   "metadata": {},
   "outputs": [],
   "source": []
  },
  {
   "cell_type": "code",
   "execution_count": null,
   "id": "3121d233-52b4-4f09-afd8-84b8bafb5681",
   "metadata": {},
   "outputs": [],
   "source": []
  },
  {
   "cell_type": "markdown",
   "id": "03bf1ec9-e764-4557-84a0-50b8d1d12535",
   "metadata": {},
   "source": [
    "## Page 15"
   ]
  },
  {
   "cell_type": "code",
   "execution_count": null,
   "id": "4eb1019e-a7e6-47ef-b421-810850fa0e74",
   "metadata": {},
   "outputs": [],
   "source": []
  },
  {
   "cell_type": "code",
   "execution_count": null,
   "id": "e08a3276-976a-46cd-806a-3230e15161e6",
   "metadata": {},
   "outputs": [],
   "source": []
  },
  {
   "cell_type": "markdown",
   "id": "7aa7a151-8510-41c0-a96a-8b07171a1919",
   "metadata": {},
   "source": [
    "## Lesson 3\n",
    "\n",
    "## Page 2\n",
    "\n",
    "**For the next three questions:** Novum Ice Cream has taken three of their most popular flavors of ice cream and sent several containers of each flavor to a local lab. They are looking for an independent evaluation of the fat content for the three flavors. They believe that the fat content is the same for each flavor. After doing the analysis, the lab sends the results back to Novum."
   ]
  },
  {
   "cell_type": "code",
   "execution_count": 19,
   "id": "3b719398-73e2-4072-8dd8-56b4e2ef5281",
   "metadata": {},
   "outputs": [],
   "source": [
    "L3P2Q1 = MC('1. What is the independent variable for this scenario?',['The different flavors of ice cream','The fat content of one flavor','The local lab doing the analysis', 'One container of ice cream'],'The different flavors of ice cream', cor='The test is being done on the flavors.', incor='')\n",
    "L3P2Q2 = MC('2. What is the dependent variable?',['The different flavors of ice cream','The fat content of the ice cream','The local lab doing the analysis', 'One flavor of ice cream'],'The fat content of the ice cream', cor='This is what is being measured as a result of the change in the independent variable.', incor='')\n",
    "L3P2Q3 = MC('3. After learning that all flavors are full of fat, Novum Ice Cream decides to experiment with fat content. They want to know whether ice cream will sell better with whole milk or fat-free.\\nWhat is the control group?',['Fat-free ice cream','Ice cream sales','Full-fat ice cream', 'Fat content'],'Full-fat ice cream', cor='The full-fat ice cream was the existing group; therefore, it is the control group.',incor='')"
   ]
  },
  {
   "cell_type": "code",
   "execution_count": 20,
   "id": "2cc61373-1e6a-4651-a920-db186d335281",
   "metadata": {},
   "outputs": [
    {
     "data": {
      "application/vnd.jupyter.widget-view+json": {
       "model_id": "356b7360af664918afce3acddfa0c9b3",
       "version_major": 2,
       "version_minor": 0
      },
      "text/plain": [
       "VBox(children=(Output(), RadioButtons(layout=Layout(width='max-content'), options=(('The different flavors of …"
      ]
     },
     "metadata": {},
     "output_type": "display_data"
    },
    {
     "data": {
      "application/vnd.jupyter.widget-view+json": {
       "model_id": "031394fd9c2046e8a0bc18bc581f02c5",
       "version_major": 2,
       "version_minor": 0
      },
      "text/plain": [
       "VBox(children=(Output(), RadioButtons(layout=Layout(width='max-content'), options=(('The different flavors of …"
      ]
     },
     "metadata": {},
     "output_type": "display_data"
    },
    {
     "data": {
      "application/vnd.jupyter.widget-view+json": {
       "model_id": "b33d59cecfe24b5a9e331c68c97474b2",
       "version_major": 2,
       "version_minor": 0
      },
      "text/plain": [
       "VBox(children=(Output(), RadioButtons(layout=Layout(width='max-content'), options=(('Fat-free ice cream', 0), …"
      ]
     },
     "metadata": {},
     "output_type": "display_data"
    }
   ],
   "source": [
    "if __name__ == \"__main__\":\n",
    "    display(L3P2Q1, L3P2Q2, L3P2Q3)"
   ]
  },
  {
   "cell_type": "markdown",
   "id": "b2b035d1-b3bb-4b4c-9ca3-2f2bd78969b9",
   "metadata": {},
   "source": [
    "## Page 3"
   ]
  },
  {
   "cell_type": "code",
   "execution_count": 21,
   "id": "73dcec54-58dd-418c-8669-43af565fc22d",
   "metadata": {},
   "outputs": [],
   "source": [
    "L3P3Q1 = MultipleChoice('1. Which research design is the most rigorous?',['Surveys','Quasi-experimental design','Experimental design', 'Observations'],'Experimental design')\n",
    "L3P3Q2 = MultipleChoice('2. What is the difference between the quasi-experimental and the experimental design?',[\"Experimental designs randomly assign people to conditions, quasi-experiments don't\",\"Quasi-experimental designs randomly assign people to conditions; experimental designs don't\",'Experimental designs are in the real world, quasi-experimental designs are in a controlled lab', 'Experimental designs are more common than quasi-experimental designs'],\"Experimental designs randomly assign people to conditions, quasi-experiments don't\")\n",
    "L3P3Q3 = MultipleChoice('3. Why are surveys and observational studies the least rigorous?',['No one does them anymore','They don\\'t examine anything over time','They are too common', 'Without control, you can\\'t prove a cause-and-effect relationship'],'Without control, you can\\'t prove a cause-and-effect relationship')\n",
    "L3P3Q4 = MC('4. A biologist wants to study the developmental differences in babies to determine how aging takes place. He wants to examine babies at 2 months, 4 months, and 6 months, and uses the same babies for each measurement. \\nWhat kind of longitudinal design is this?',['Cross-Sectional','Longitudinal','Cohort'],'Longitudinal', cor='A longitudinal design looks at the same people or things over time.', incor='')\n",
    "L3P3Q5 = MC('5. A biologist wants to study the developmental differences in babies to determine how aging takes place. He wants to examine babies at 2 months, 4 months, and 6 months, and uses the different babies of those ages all at the same time.\\nWhat kind of longitudinal design is this?',['Cross-Sectional','Longitudinal','Cohort'],'Cohort', cor='A cohort design looks at different people or things at different time points.', incor='')\n",
    "L3P3Q6 = MC('6. A biologist wants to study the developmental differences in babies to determine how aging takes place. He wants to examine babies at 2 months, 4 months, and 6 months. To minimize the burden on any one group of children, the biologist takes 2-month-old babies and studies them for 2 months, takes 4-month-old babies and studies them for 2 months, and 6-month-old babies and studies them for two months.\\nWhat kind of longitudinal design is this?',['Cross-Sectional','Longitudinal','Cohort'],'Cross-Sectional', cor='A cross-sectional design combines the longitudinal and Cohort designs to examine the same people or things at more than one-time point and have a different set of people or things at another time point.',incor='')"
   ]
  },
  {
   "cell_type": "code",
   "execution_count": 22,
   "id": "af0e9fba-df6b-47e6-b1d7-e406f6d01441",
   "metadata": {},
   "outputs": [
    {
     "data": {
      "application/vnd.jupyter.widget-view+json": {
       "model_id": "e2e638cbe2a94993ad30202715ba32f6",
       "version_major": 2,
       "version_minor": 0
      },
      "text/plain": [
       "VBox(children=(Output(), RadioButtons(layout=Layout(width='max-content'), options=(('Surveys', 0), ('Quasi-exp…"
      ]
     },
     "metadata": {},
     "output_type": "display_data"
    },
    {
     "data": {
      "application/vnd.jupyter.widget-view+json": {
       "model_id": "39d222817c134de7b223bea5f4fe3ccb",
       "version_major": 2,
       "version_minor": 0
      },
      "text/plain": [
       "VBox(children=(Output(), RadioButtons(layout=Layout(width='max-content'), options=((\"Experimental designs rand…"
      ]
     },
     "metadata": {},
     "output_type": "display_data"
    },
    {
     "data": {
      "application/vnd.jupyter.widget-view+json": {
       "model_id": "3dfcf36e53aa43a496642d4a24bbdca2",
       "version_major": 2,
       "version_minor": 0
      },
      "text/plain": [
       "VBox(children=(Output(), RadioButtons(layout=Layout(width='max-content'), options=(('No one does them anymore'…"
      ]
     },
     "metadata": {},
     "output_type": "display_data"
    },
    {
     "data": {
      "application/vnd.jupyter.widget-view+json": {
       "model_id": "42bfe1b6a0cb4c7998ea63246c97add7",
       "version_major": 2,
       "version_minor": 0
      },
      "text/plain": [
       "VBox(children=(Output(), RadioButtons(layout=Layout(width='max-content'), options=(('Cross-Sectional', 0), ('L…"
      ]
     },
     "metadata": {},
     "output_type": "display_data"
    },
    {
     "data": {
      "application/vnd.jupyter.widget-view+json": {
       "model_id": "45e48bae1841457e8658a763af98364e",
       "version_major": 2,
       "version_minor": 0
      },
      "text/plain": [
       "VBox(children=(Output(), RadioButtons(layout=Layout(width='max-content'), options=(('Cross-Sectional', 0), ('L…"
      ]
     },
     "metadata": {},
     "output_type": "display_data"
    },
    {
     "data": {
      "application/vnd.jupyter.widget-view+json": {
       "model_id": "30a52dbb6b2a4d19a474a27b4d06f3fb",
       "version_major": 2,
       "version_minor": 0
      },
      "text/plain": [
       "VBox(children=(Output(), RadioButtons(layout=Layout(width='max-content'), options=(('Cross-Sectional', 0), ('L…"
      ]
     },
     "metadata": {},
     "output_type": "display_data"
    }
   ],
   "source": [
    "if __name__ == \"__main__\":\n",
    "    display(L3P3Q1, L3P3Q2, L3P3Q3, L3P3Q4, L3P3Q5, L3P3Q6)"
   ]
  },
  {
   "cell_type": "markdown",
   "id": "b7a7b6bc-4a35-4c08-8ab5-9a5001dd8953",
   "metadata": {
    "tags": []
   },
   "source": [
    "## Page 4"
   ]
  },
  {
   "cell_type": "code",
   "execution_count": 23,
   "id": "25881438-ed62-4953-a0e2-26d41a63f220",
   "metadata": {},
   "outputs": [],
   "source": [
    "L3P4Q1 = MC('1. You are looking at the jersey numbers on the backs of the football team players:',['This is a quantitative variable','This is a categorical variable','This is an ordinal variable'],'This is a categorical variable', cor='Even though the information on a jersey has a number in it, this is categorical because it represents a player. You couldn\\'t do the math on the jersey numbers and get any meaningful information out of it.',incor='')\n",
    "L3P4Q2 = MC('2. You read an article about the ten best \"sleeper\" movies of the year, in order from worst to best:',['This is a quantitative variable','This is a categorical variable','This is an ordinal variable'],'This is an ordinal variable', cor='Since this list is ordered, it is ordinal, not categorical.',incor='')\n",
    "L3P4Q3 = MC('3. You read an article about the ten best \"sleeper\" movies of the year, but the writer says they are \"in no particular order\":',['This is a quantitative variable','This is a categorical variable','This is an ordinal variable'],'This is a categorical variable',cor='Since this list is in no particular order, it is categorical, not ordinal.', incor='')\n",
    "L3P4Q4 = MC('4. This week\\'s coaches\\’ poll of the top 25 college football teams is released, and you are looking at the teams and their rankings:',['This is a quantitative variable','This is a categorical variable','This is an ordinal variable'],'This is an ordinal variable', cor='The list is ordered, making it ordinal, not categorical.', incor='')\n",
    "L3P4Q5 = MC('5. This week\\'s coaches\\’ poll of the top 25 college football teams is released, and you are looking at the number of votes give to each team:',['This is a quantitative variable','This is a categorical variable','This is an ordinal variable'],'This is a quantitative variable', cor='This is a number, which means it is quantitative.', incor='')\n",
    "L3P4Q6 = MC('6. You have a copy of the breakfast menu from your favorite greasy spoon, and there are 7 breakfast options:',['This is a quantitative variable','This is a categorical variable','This is an ordinal variable'],'This is a categorical variable', cor='There are no numbers involved, which means this can\\'t be quantitative. The breakfast items are not in order in any way, so this is categorical, not ordinal.',incor='')\n",
    "L3P4Q7 = MC('7. People on the street are asked to estimate the distance between them and a sign a few doors down the street:',['This is a quantitative variable','This is a categorical variable','This is an ordinal variable'],'This is a quantitative variable', cor='Distance can be measured with a number, so it is quantitative.',incor='')"
   ]
  },
  {
   "cell_type": "markdown",
   "id": "8679fc48-2555-4998-a115-d29f1ee485a6",
   "metadata": {},
   "source": [
    "**For the nex seven questions:** In each of the following situations, how would you categorize the variable?"
   ]
  },
  {
   "cell_type": "code",
   "execution_count": 24,
   "id": "c1337c1a-97bd-49a7-862c-98826a3bf616",
   "metadata": {},
   "outputs": [
    {
     "data": {
      "application/vnd.jupyter.widget-view+json": {
       "model_id": "f4d2fe47635442d7be721ef7221a6e9c",
       "version_major": 2,
       "version_minor": 0
      },
      "text/plain": [
       "VBox(children=(Output(), RadioButtons(layout=Layout(width='max-content'), options=(('This is a quantitative va…"
      ]
     },
     "metadata": {},
     "output_type": "display_data"
    },
    {
     "data": {
      "application/vnd.jupyter.widget-view+json": {
       "model_id": "8e7c8d96ed1248baaea9935a9aa85210",
       "version_major": 2,
       "version_minor": 0
      },
      "text/plain": [
       "VBox(children=(Output(), RadioButtons(layout=Layout(width='max-content'), options=(('This is a quantitative va…"
      ]
     },
     "metadata": {},
     "output_type": "display_data"
    },
    {
     "data": {
      "application/vnd.jupyter.widget-view+json": {
       "model_id": "788d6396f12448cdb7ffc16ade2648bc",
       "version_major": 2,
       "version_minor": 0
      },
      "text/plain": [
       "VBox(children=(Output(), RadioButtons(layout=Layout(width='max-content'), options=(('This is a quantitative va…"
      ]
     },
     "metadata": {},
     "output_type": "display_data"
    },
    {
     "data": {
      "application/vnd.jupyter.widget-view+json": {
       "model_id": "a4640432ae3d4fc1b209f95106a1fd2a",
       "version_major": 2,
       "version_minor": 0
      },
      "text/plain": [
       "VBox(children=(Output(), RadioButtons(layout=Layout(width='max-content'), options=(('This is a quantitative va…"
      ]
     },
     "metadata": {},
     "output_type": "display_data"
    },
    {
     "data": {
      "application/vnd.jupyter.widget-view+json": {
       "model_id": "49245b96d537482e8bea5e9d98ab0494",
       "version_major": 2,
       "version_minor": 0
      },
      "text/plain": [
       "VBox(children=(Output(), RadioButtons(layout=Layout(width='max-content'), options=(('This is a quantitative va…"
      ]
     },
     "metadata": {},
     "output_type": "display_data"
    },
    {
     "data": {
      "application/vnd.jupyter.widget-view+json": {
       "model_id": "63697be250e148f4aa1b45b37624c09c",
       "version_major": 2,
       "version_minor": 0
      },
      "text/plain": [
       "VBox(children=(Output(), RadioButtons(layout=Layout(width='max-content'), options=(('This is a quantitative va…"
      ]
     },
     "metadata": {},
     "output_type": "display_data"
    },
    {
     "data": {
      "application/vnd.jupyter.widget-view+json": {
       "model_id": "e32476e9c61046e59dadf7c70a08dad2",
       "version_major": 2,
       "version_minor": 0
      },
      "text/plain": [
       "VBox(children=(Output(), RadioButtons(layout=Layout(width='max-content'), options=(('This is a quantitative va…"
      ]
     },
     "metadata": {},
     "output_type": "display_data"
    }
   ],
   "source": [
    "if __name__ == \"__main__\":\n",
    "    display(L3P4Q1, L3P4Q2, L3P4Q3, L3P4Q4, L3P4Q5, L3P4Q6, L3P4Q7)"
   ]
  },
  {
   "cell_type": "markdown",
   "id": "ac3cdd21-98d3-422e-9398-443dbbcbaf65",
   "metadata": {},
   "source": [
    "## Page 5"
   ]
  },
  {
   "cell_type": "code",
   "execution_count": 25,
   "id": "0e654523-f885-42c4-9f72-cad6e5533f7c",
   "metadata": {},
   "outputs": [],
   "source": [
    "L3P5Q1 = MultipleChoice('1. How would you recode someone\\'s height into categories?',['Small: Under 5\\'; Medium: 5\\'1\" to 5\\'7\"; Large: 5\\'8\" or More','Small, Medium, or Large','It is not appropriate to recode this data', 'Look at each person and make a snap judgement as to whether they seem short or tall'],'Small: Under 5\\'; Medium: 5\\'1\" to 5\\'7\"; Large: 5\\'8\" or More')\n",
    "L3P5Q2 = MC('2. True or False? It is easier to go from categorical to quantitative variables',['True','False'],'False', cor='Typically, you want to go from quantitative to categorical, because the quantitative variable is more precise and thus can be translated into categories. The categories are less precise than the quantitative, so something in a category has the possibility of being more than one number.', incor='')"
   ]
  },
  {
   "cell_type": "code",
   "execution_count": 26,
   "id": "498465c2-ccb5-4cd9-9b32-aa735dd67034",
   "metadata": {},
   "outputs": [
    {
     "data": {
      "application/vnd.jupyter.widget-view+json": {
       "model_id": "fc2c4bb950bc492fa607dedfe81327dd",
       "version_major": 2,
       "version_minor": 0
      },
      "text/plain": [
       "VBox(children=(Output(), RadioButtons(layout=Layout(width='max-content'), options=(('Small: Under 5\\'; Medium:…"
      ]
     },
     "metadata": {},
     "output_type": "display_data"
    },
    {
     "data": {
      "application/vnd.jupyter.widget-view+json": {
       "model_id": "8b4e38f78720478dae99f0dec9c5e258",
       "version_major": 2,
       "version_minor": 0
      },
      "text/plain": [
       "VBox(children=(Output(), RadioButtons(layout=Layout(width='max-content'), options=(('True', 0), ('False', 1)),…"
      ]
     },
     "metadata": {},
     "output_type": "display_data"
    }
   ],
   "source": [
    "if __name__ == \"__main__\":\n",
    "    display(L3P5Q1, L3P5Q2)"
   ]
  },
  {
   "cell_type": "markdown",
   "id": "27641477-debd-4503-8ee2-9d30a6ec9c1f",
   "metadata": {},
   "source": [
    "## Page 6"
   ]
  },
  {
   "cell_type": "code",
   "execution_count": 27,
   "id": "71b60929-bd03-4910-99d0-e56fe3a94a9b",
   "metadata": {},
   "outputs": [],
   "source": [
    "L3P6Q1 = MultipleChoice('1. What is the difference between an ordinal and a categorical variable?',['An ordinal variable uses rank-ordered data, and categorical variables do not','An ordinal variable doesn\\'t use rank-ordered data; categorical does','Ordinal data is quantitative, categorical is qualitative', 'Ordinal data is qualitative, categorical is quantitative'],'An ordinal variable uses rank-ordered data, and categorical variables do not')\n",
    "L3P6Q2 = MC('2. Which of the following is an example of ordinal data?',['Age in years','Gender','Rankings of runners in a race', 'Written sentences about education equality'],'Rankings of runners in a race', cor='Since you are ordering the runners, this would be ordinal, not categorical.',incor='')"
   ]
  },
  {
   "cell_type": "code",
   "execution_count": 28,
   "id": "77d4254b-8931-4292-831d-ba017f60c3fc",
   "metadata": {},
   "outputs": [
    {
     "data": {
      "application/vnd.jupyter.widget-view+json": {
       "model_id": "96b148f2448040ed97824ee31a5a501b",
       "version_major": 2,
       "version_minor": 0
      },
      "text/plain": [
       "VBox(children=(Output(), RadioButtons(layout=Layout(width='max-content'), options=(('An ordinal variable uses …"
      ]
     },
     "metadata": {},
     "output_type": "display_data"
    },
    {
     "data": {
      "application/vnd.jupyter.widget-view+json": {
       "model_id": "c28188fd09974fa3ac5678a8ee451a5f",
       "version_major": 2,
       "version_minor": 0
      },
      "text/plain": [
       "VBox(children=(Output(), RadioButtons(layout=Layout(width='max-content'), options=(('Age in years', 0), ('Gend…"
      ]
     },
     "metadata": {},
     "output_type": "display_data"
    }
   ],
   "source": [
    "if __name__ == \"__main__\":\n",
    "    display(L3P6Q1, L3P6Q2)"
   ]
  },
  {
   "cell_type": "markdown",
   "id": "f81476df-1308-4a66-afc4-ad5314e35b7b",
   "metadata": {},
   "source": [
    "## Page 7"
   ]
  },
  {
   "cell_type": "code",
   "execution_count": 29,
   "id": "be51cd2e-56a0-4499-8372-10c24f8f0f89",
   "metadata": {},
   "outputs": [],
   "source": [
    "L3P7Q1 = MC('1. Please state whether the variable is discrete or continuous. Measurement of cheese wheels',['Discrete','Continuous'],'Continuous', cor='This is continuous because you can have half a cheese wheel.', incor='Sorry.. Try again!!')\n",
    "L3P7Q2 = MC('2. Please state whether the variable is discrete or continuous. Number of dogs you own',['Discrete','Continuous'],'Discrete', cor='It is impossible to have half a dog, so this is discrete.', incor='Sorry.. Try again!!')\n",
    "L3P7Q3 = MC('3. Please state whether the variable is discrete or continuous. Time it takes to gulp down a glass of milk',['Discrete','Continuous'],'Continuous', cor='You can have time on a continuum (for instance, part of a second), so it is continuous.', incor='Sorry.. Try again!!')"
   ]
  },
  {
   "cell_type": "code",
   "execution_count": 30,
   "id": "68ec9db8-8fe1-48f1-8d7f-9d21a884d99a",
   "metadata": {},
   "outputs": [
    {
     "data": {
      "application/vnd.jupyter.widget-view+json": {
       "model_id": "66226e87e0c343a7a6d0265fcbc38f11",
       "version_major": 2,
       "version_minor": 0
      },
      "text/plain": [
       "VBox(children=(Output(), RadioButtons(layout=Layout(width='max-content'), options=(('Discrete', 0), ('Continuo…"
      ]
     },
     "metadata": {},
     "output_type": "display_data"
    },
    {
     "data": {
      "application/vnd.jupyter.widget-view+json": {
       "model_id": "46f0b1db278c431d8478d58f2bc0cbe3",
       "version_major": 2,
       "version_minor": 0
      },
      "text/plain": [
       "VBox(children=(Output(), RadioButtons(layout=Layout(width='max-content'), options=(('Discrete', 0), ('Continuo…"
      ]
     },
     "metadata": {},
     "output_type": "display_data"
    },
    {
     "data": {
      "application/vnd.jupyter.widget-view+json": {
       "model_id": "b28b896806dc4d78bd2e83be275b2aff",
       "version_major": 2,
       "version_minor": 0
      },
      "text/plain": [
       "VBox(children=(Output(), RadioButtons(layout=Layout(width='max-content'), options=(('Discrete', 0), ('Continuo…"
      ]
     },
     "metadata": {},
     "output_type": "display_data"
    }
   ],
   "source": [
    "if __name__ == \"__main__\":\n",
    "    display(L3P7Q1, L3P7Q2, L3P7Q3)"
   ]
  },
  {
   "cell_type": "markdown",
   "id": "719efa58-168e-43a3-9dca-85ad6103c896",
   "metadata": {},
   "source": [
    "## Lesson 3 Exam\n",
    "### Page 9\n",
    "##### Below is an exam to review the recently covered material. This exam is not graded. Please feel free to refer to your notes or the curriculum since you don't have to memorize everything in the real world - as long as you know where to find information!"
   ]
  },
  {
   "cell_type": "code",
   "execution_count": 31,
   "id": "7c263b8d-dd3d-4be1-aa74-f5b06f6ad4c3",
   "metadata": {},
   "outputs": [],
   "source": [
    "L3P9Q1 = MC('1. Is type of rock a categorical, quantitative, or ordinal variable type?',['Categorical','Quantitative','Ordinal'],'Categorical', cor='Type of rock can be grouped, not in order, so it is categorical.', incor='')\n",
    "L3P9Q2 = MC('2. Is speed of a car a categorical, quantitative, or ordinal variable type?',['Categorical','Quantitative','Ordinal'],'Quantitative', cor='Speed is a number, so it is quantitative.', incor='')\n",
    "L3P9Q3 = MC('3. Is the state you live in a categorical, quantitative, or ordinal variable type?',['Categorical','Quantitative','Ordinal'],'Categorical', cor='State is a category and not numeric, so it is categorical.', incor='')\n",
    "L3P9Q4 = MC('4. Is height of buildings in a city block a categorical, quantitative, or ordinal variable type?',['Categorical','Quantitative','Ordinal'],'Quantitative', cor='Height is a number and can be measured, so it is quantitative.', incor='')\n",
    "L3P9Q5 = MC('5. Is the \"hot\" scale for peppers a categorical, quantitative, or ordinal variable type?',['Categorical','Quantitative','Ordinal'],'Ordinal', cor='Because there is the hottest pepper and a least hot pepper, this is an ordered list, which means it is an ordinal variable.', incor='')\n",
    "L3P9Q6 = MC('6. Is weight of newborn babies a categorical, quantitative, or ordinal variable type?',['Categorical','Quantitative','Ordinal'],'Quantitative', cor='Weight is a number and can be measured, so it is quantitative.', incor='')\n",
    "L3P9Q7 = MC('7. Is socio-economic class a categorical, quantitative, or ordinal variable type?',['Categorical','Quantitative','Ordinal'],'Ordinal', cor='Because upper, middle, and lower classes can appear in a specific order, thus making this is an ordinal variable, not a categorical one.', incor='')\n",
    "L3P9Q8 = MultipleChoice('8. Look at the following situation, and determine which best describes the data conversion. \\nIn a cooking class, students have self-identified as excellent cooks, average cooks, or poor cooks by preparing their best dishes for a judge. Then, the judges determine which is the best dish.',['Quantitative to categorical','Categorical to quantitative','Both of the above','Neither of the above'],'Neither of the above')\n",
    "L3P9Q9 = MC('9. Look at the following situation, and determine which best describes the data conversion: \\nUsing a stopwatch, a teacher measures the time it takes for each student\\'s paper airplane to hit the ground after being dropped from the top of the bleachers. After counting 140 drops, the teacher reports the results in the following groups: \"like a rock,\" \"got lucky because of an updraft,\" and \"would make Orville and Wilbur proud.\"',['Quantitative to categorical','Categorical to quantitative','Both of the above','Neither of the above'],'Quantitative to categorical', cor='This starts as a quantitative measurement of time and then is converted into categories.', incor='')"
   ]
  },
  {
   "cell_type": "code",
   "execution_count": 32,
   "id": "1476772c-c595-4bae-894e-c449431562ba",
   "metadata": {},
   "outputs": [
    {
     "data": {
      "application/vnd.jupyter.widget-view+json": {
       "model_id": "62ebe54b604f4e5198d4480b503b6817",
       "version_major": 2,
       "version_minor": 0
      },
      "text/plain": [
       "VBox(children=(Output(), RadioButtons(layout=Layout(width='max-content'), options=(('Categorical', 0), ('Quant…"
      ]
     },
     "metadata": {},
     "output_type": "display_data"
    },
    {
     "data": {
      "application/vnd.jupyter.widget-view+json": {
       "model_id": "c64b19c46983491fad830d962723368a",
       "version_major": 2,
       "version_minor": 0
      },
      "text/plain": [
       "VBox(children=(Output(), RadioButtons(layout=Layout(width='max-content'), options=(('Categorical', 0), ('Quant…"
      ]
     },
     "metadata": {},
     "output_type": "display_data"
    },
    {
     "data": {
      "application/vnd.jupyter.widget-view+json": {
       "model_id": "da417f854bf848f8ad4474a3543e926a",
       "version_major": 2,
       "version_minor": 0
      },
      "text/plain": [
       "VBox(children=(Output(), RadioButtons(layout=Layout(width='max-content'), options=(('Categorical', 0), ('Quant…"
      ]
     },
     "metadata": {},
     "output_type": "display_data"
    },
    {
     "data": {
      "application/vnd.jupyter.widget-view+json": {
       "model_id": "5efa97e1aa1b4316a0dcedc78eb9328f",
       "version_major": 2,
       "version_minor": 0
      },
      "text/plain": [
       "VBox(children=(Output(), RadioButtons(layout=Layout(width='max-content'), options=(('Categorical', 0), ('Quant…"
      ]
     },
     "metadata": {},
     "output_type": "display_data"
    },
    {
     "data": {
      "application/vnd.jupyter.widget-view+json": {
       "model_id": "2578c928c05744308980e3eeb9d12a92",
       "version_major": 2,
       "version_minor": 0
      },
      "text/plain": [
       "VBox(children=(Output(), RadioButtons(layout=Layout(width='max-content'), options=(('Categorical', 0), ('Quant…"
      ]
     },
     "metadata": {},
     "output_type": "display_data"
    },
    {
     "data": {
      "application/vnd.jupyter.widget-view+json": {
       "model_id": "a1d27ee4a7904aaeaea281744cb67712",
       "version_major": 2,
       "version_minor": 0
      },
      "text/plain": [
       "VBox(children=(Output(), RadioButtons(layout=Layout(width='max-content'), options=(('Categorical', 0), ('Quant…"
      ]
     },
     "metadata": {},
     "output_type": "display_data"
    },
    {
     "data": {
      "application/vnd.jupyter.widget-view+json": {
       "model_id": "3138091cfed94d6d83b820be437fb117",
       "version_major": 2,
       "version_minor": 0
      },
      "text/plain": [
       "VBox(children=(Output(), RadioButtons(layout=Layout(width='max-content'), options=(('Categorical', 0), ('Quant…"
      ]
     },
     "metadata": {},
     "output_type": "display_data"
    },
    {
     "data": {
      "application/vnd.jupyter.widget-view+json": {
       "model_id": "2ba509b7a3014b54bd2e15a0eb2f0601",
       "version_major": 2,
       "version_minor": 0
      },
      "text/plain": [
       "VBox(children=(Output(), RadioButtons(layout=Layout(width='max-content'), options=(('Quantitative to categoric…"
      ]
     },
     "metadata": {},
     "output_type": "display_data"
    },
    {
     "data": {
      "application/vnd.jupyter.widget-view+json": {
       "model_id": "12935e7806874c3380ccf3e41f7443ca",
       "version_major": 2,
       "version_minor": 0
      },
      "text/plain": [
       "VBox(children=(Output(), RadioButtons(layout=Layout(width='max-content'), options=(('Quantitative to categoric…"
      ]
     },
     "metadata": {},
     "output_type": "display_data"
    }
   ],
   "source": [
    "if __name__ == \"__main__\":\n",
    "    display(L3P9Q1, L3P9Q2, L3P9Q3, L3P9Q4, L3P9Q5, L3P9Q6, L3P9Q7, L3P9Q8, L3P9Q9)"
   ]
  },
  {
   "cell_type": "markdown",
   "id": "29c9b6be-4d57-46d0-b421-6ae371794622",
   "metadata": {},
   "source": [
    "## Lesson 4\n",
    "\n",
    "## Page 2"
   ]
  },
  {
   "cell_type": "code",
   "execution_count": 33,
   "id": "162d8148-c1cf-452c-b1ab-2ffad5fcb12a",
   "metadata": {},
   "outputs": [],
   "source": [
    "L4P2Q1 = MultipleChoice('1. To what does the word parameter refer?',['Population','Sample'],'Population')\n",
    "L4P2Q2 = MultipleChoice('2. To what does the word statistic refer?',['Population','Sample'],'Sample')\n",
    "L4P2Q3 = MultipleChoice('3. When would you use inferential statistics?',['When drawing conclusions about your data','When describing your data','When taking a sample from your data', 'When you are using a population parameter'],'When drawing conclusions about your data')\n",
    "L4P2Q4 = MultipleChoice('4. When would you use descriptive statistics?',['When drawing conclusions about your data','When describing your data','When taking a sample from your data', 'When you are using a population parameter'],'When describing your data')"
   ]
  },
  {
   "cell_type": "code",
   "execution_count": 34,
   "id": "71b58ccd-de7e-4e6a-b4af-2a3edf4fed2b",
   "metadata": {},
   "outputs": [
    {
     "data": {
      "application/vnd.jupyter.widget-view+json": {
       "model_id": "2e67ae8757704b2cb2444b11793a6d08",
       "version_major": 2,
       "version_minor": 0
      },
      "text/plain": [
       "VBox(children=(Output(), RadioButtons(layout=Layout(width='max-content'), options=(('Population', 0), ('Sample…"
      ]
     },
     "metadata": {},
     "output_type": "display_data"
    },
    {
     "data": {
      "application/vnd.jupyter.widget-view+json": {
       "model_id": "1199c227ebae4438977c21e8e06a5cc3",
       "version_major": 2,
       "version_minor": 0
      },
      "text/plain": [
       "VBox(children=(Output(), RadioButtons(layout=Layout(width='max-content'), options=(('Population', 0), ('Sample…"
      ]
     },
     "metadata": {},
     "output_type": "display_data"
    },
    {
     "data": {
      "application/vnd.jupyter.widget-view+json": {
       "model_id": "47a0fdb960884b8ba7ec69589b4f2f4e",
       "version_major": 2,
       "version_minor": 0
      },
      "text/plain": [
       "VBox(children=(Output(), RadioButtons(layout=Layout(width='max-content'), options=(('When drawing conclusions …"
      ]
     },
     "metadata": {},
     "output_type": "display_data"
    },
    {
     "data": {
      "application/vnd.jupyter.widget-view+json": {
       "model_id": "9b666f9ea35b4e11bfc2f96cac4b8bc1",
       "version_major": 2,
       "version_minor": 0
      },
      "text/plain": [
       "VBox(children=(Output(), RadioButtons(layout=Layout(width='max-content'), options=(('When drawing conclusions …"
      ]
     },
     "metadata": {},
     "output_type": "display_data"
    }
   ],
   "source": [
    "if __name__ == \"__main__\":\n",
    "    display(L4P2Q1, L4P2Q2, L4P2Q3, L4P2Q4)"
   ]
  },
  {
   "cell_type": "markdown",
   "id": "916e8a24-b3bf-4cf6-9c8c-3af3f6f60601",
   "metadata": {},
   "source": [
    "## Page 3"
   ]
  },
  {
   "cell_type": "code",
   "execution_count": 35,
   "id": "e4fb0703-1981-4787-9ed9-05f1ef9a5e2f",
   "metadata": {},
   "outputs": [],
   "source": [
    "L4P3Q1 = MultipleChoice('1. How do you calculate the mean for a categorical variable?',['Add up all the responses and divide by the number of responses','The mean of a categorical variable cannot be calculated','Find the probability of each occurring and then multiply by the discrete number in the question and add up the totals', 'Add up all the responses'],'The mean of a categorical variable cannot be calculated')\n",
    "L4P3Q2 = MC('2. A carpenter wants to make sure he has all his boards cut correctly. He measures the same board three different times and then takes the average. Given the following measurements, what is the average board length?',['3','18','6.1', '6'],'6', cor='6 + 6.1 + 5.9 = 18, 18 / 3 = 6', incor='')\n",
    "L4P3Q3 = MultipleChoice('3. What is the mode?',['The height of fashion','The addition of all numbers together divided by the number of numbers','The middle of the dataset', 'The most frequent number in a dataset'],'The most frequent number in a dataset')\n",
    "L4P3Q4 = MultipleChoice('4. What is the median?',['The weighted addition of all numbers divided by the total','The addition of all numbers together divided by the number of numbers','The middle of the dataset', 'The most frequent number in a dataset'],'The middle of the dataset')"
   ]
  },
  {
   "cell_type": "code",
   "execution_count": 36,
   "id": "8d691a32-2108-447f-a6be-9968c547af0f",
   "metadata": {},
   "outputs": [
    {
     "data": {
      "application/vnd.jupyter.widget-view+json": {
       "model_id": "791a04e6cb2440d685fb64939e1f083e",
       "version_major": 2,
       "version_minor": 0
      },
      "text/plain": [
       "VBox(children=(Output(), RadioButtons(layout=Layout(width='max-content'), options=(('Add up all the responses …"
      ]
     },
     "metadata": {},
     "output_type": "display_data"
    },
    {
     "data": {
      "application/vnd.jupyter.widget-view+json": {
       "model_id": "132f17bcf2ee4109bc2063e567fd78d5",
       "version_major": 2,
       "version_minor": 0
      },
      "text/plain": [
       "VBox(children=(Output(), RadioButtons(layout=Layout(width='max-content'), options=(('3', 0), ('18', 1), ('6.1'…"
      ]
     },
     "metadata": {},
     "output_type": "display_data"
    }
   ],
   "source": [
    "if __name__ == \"__main__\":\n",
    "    display(L4P3Q1, L4P3Q2)"
   ]
  },
  {
   "cell_type": "markdown",
   "id": "9932479a-bd67-4c24-b980-afd248c28a3d",
   "metadata": {},
   "source": [
    "A carpenter wants to make sure he has all his boards cut correctly. He measures the same board three different times and then takes the average. Given the following measurements, what is the average board length?\n",
    "\n",
    "**6**\n",
    "\n",
    "**6.1**\n",
    "\n",
    "**5.9**"
   ]
  },
  {
   "cell_type": "code",
   "execution_count": 37,
   "id": "a82c4f08-6269-4677-a884-5926f1f890ad",
   "metadata": {},
   "outputs": [
    {
     "data": {
      "application/vnd.jupyter.widget-view+json": {
       "model_id": "78b95d8b793643eeb06a6b4ea0bfb5b4",
       "version_major": 2,
       "version_minor": 0
      },
      "text/plain": [
       "VBox(children=(Output(), RadioButtons(layout=Layout(width='max-content'), options=(('The height of fashion', 0…"
      ]
     },
     "metadata": {},
     "output_type": "display_data"
    },
    {
     "data": {
      "application/vnd.jupyter.widget-view+json": {
       "model_id": "4ebadd08c78241f285886f20137c84fb",
       "version_major": 2,
       "version_minor": 0
      },
      "text/plain": [
       "VBox(children=(Output(), RadioButtons(layout=Layout(width='max-content'), options=(('The weighted addition of …"
      ]
     },
     "metadata": {},
     "output_type": "display_data"
    }
   ],
   "source": [
    "if __name__ == \"__main__\":\n",
    "    display(L4P3Q3, L4P3Q4)"
   ]
  },
  {
   "cell_type": "markdown",
   "id": "e55be1d5-12cd-45af-bdf8-8a19b49cb225",
   "metadata": {},
   "source": [
    "## Page 6"
   ]
  },
  {
   "cell_type": "code",
   "execution_count": 38,
   "id": "450c04d0-d818-4e2b-b28d-2bb691531fb6",
   "metadata": {},
   "outputs": [],
   "source": [
    "L4P6Q1 = MultipleChoice('1. How is the range calculated?',['By subtracting the minimum value from the maximum value','By subtracting the maximum value from the minimum value','By subtracting the third quartile from the first quartile', 'By subtracting the first quartile from the third quartile'],'By subtracting the minimum value from the maximum value')\n",
    "L4P6Q2 = MultipleChoice('2. What is the advantage of the inter-quartile range compared to the range?',['It looks at the average change in data','It can be graphed with a box-and-whisker plot','It is more stable because it does not take into account outliers'],'It is more stable because it does not take into account outliers')\n",
    "L4P6Q3 = MultipleChoice('3. How are variance and standard deviation related?',['Standard deviation is the square of variance','Variance is the square of standard deviation','Variance is the square root of standard deviation', 'Only standard deviation looks at the sum of the differences'],'Variance is the square of standard deviation')\n",
    "L4P6Q4 = MultipleChoice('4. What is the advantage of the inter-quartile range compared to the range?',['It looks at the average change in data','A box-and-whisker plot graph','It is more stable because it does not take into account outliers'],'It is more stable because it does not take into account outliers')\n",
    "L4P6Q5 = MultipleChoice('5. How are variance and standard deviation related?',['Standard deviation is the square of variance','Variance is the square of standard deviation','Variance is the square root of standard deviation', 'Only standard deviation looks at the sum of the differences'],'Variance is the square of standard deviation')"
   ]
  },
  {
   "cell_type": "code",
   "execution_count": 39,
   "id": "8ccf723c-c887-4a15-b329-a97fa83d3bb5",
   "metadata": {},
   "outputs": [
    {
     "data": {
      "application/vnd.jupyter.widget-view+json": {
       "model_id": "7ce08f1de8e148079945c4030461d531",
       "version_major": 2,
       "version_minor": 0
      },
      "text/plain": [
       "VBox(children=(Output(), RadioButtons(layout=Layout(width='max-content'), options=(('By subtracting the minimu…"
      ]
     },
     "metadata": {},
     "output_type": "display_data"
    },
    {
     "data": {
      "application/vnd.jupyter.widget-view+json": {
       "model_id": "a14d2efea74a4dbd93712a3529673e12",
       "version_major": 2,
       "version_minor": 0
      },
      "text/plain": [
       "VBox(children=(Output(), RadioButtons(layout=Layout(width='max-content'), options=(('It looks at the average c…"
      ]
     },
     "metadata": {},
     "output_type": "display_data"
    },
    {
     "data": {
      "application/vnd.jupyter.widget-view+json": {
       "model_id": "c92e01f8239f446995ae3d7801f447b1",
       "version_major": 2,
       "version_minor": 0
      },
      "text/plain": [
       "VBox(children=(Output(), RadioButtons(layout=Layout(width='max-content'), options=(('Standard deviation is the…"
      ]
     },
     "metadata": {},
     "output_type": "display_data"
    },
    {
     "data": {
      "application/vnd.jupyter.widget-view+json": {
       "model_id": "dc32e997d0564b79acfdbb3017e1bb04",
       "version_major": 2,
       "version_minor": 0
      },
      "text/plain": [
       "VBox(children=(Output(), RadioButtons(layout=Layout(width='max-content'), options=(('It looks at the average c…"
      ]
     },
     "metadata": {},
     "output_type": "display_data"
    },
    {
     "data": {
      "application/vnd.jupyter.widget-view+json": {
       "model_id": "00974c0578384d2b8ea8f13af3503d65",
       "version_major": 2,
       "version_minor": 0
      },
      "text/plain": [
       "VBox(children=(Output(), RadioButtons(layout=Layout(width='max-content'), options=(('Standard deviation is the…"
      ]
     },
     "metadata": {},
     "output_type": "display_data"
    }
   ],
   "source": [
    "if __name__ == \"__main__\":\n",
    "    display(L4P6Q1, L4P6Q2, L4P6Q3, L4P6Q4, L4P6Q5)"
   ]
  },
  {
   "cell_type": "markdown",
   "id": "b77b4867-f55b-4c79-afea-0fdf385a502a",
   "metadata": {},
   "source": [
    "## Page 9"
   ]
  },
  {
   "cell_type": "code",
   "execution_count": 40,
   "id": "d3b08fd9-4f3d-415a-b2e5-cdf43001e85d",
   "metadata": {},
   "outputs": [],
   "source": [
    "L4P9Q1 = MultipleChoice('1. What does a confidence interval represent?',['The variance','The population mean','The amount of error that estimated on either side of the mean', 'The amount of change that expected'],'The amount of error that estimated on either side of the mean')"
   ]
  },
  {
   "cell_type": "code",
   "execution_count": 41,
   "id": "a8b209a6-9643-4d7b-a706-ccfd87e4bff9",
   "metadata": {},
   "outputs": [
    {
     "data": {
      "application/vnd.jupyter.widget-view+json": {
       "model_id": "a6df7dfbb9674424b21738ad1750ca3e",
       "version_major": 2,
       "version_minor": 0
      },
      "text/plain": [
       "VBox(children=(Output(), RadioButtons(layout=Layout(width='max-content'), options=(('The variance', 0), ('The …"
      ]
     },
     "metadata": {},
     "output_type": "display_data"
    }
   ],
   "source": [
    "if __name__ == \"__main__\":\n",
    "    display(L4P9Q1)"
   ]
  },
  {
   "cell_type": "markdown",
   "id": "d72c7912-107d-4d2f-8e72-f80a1fdcdceb",
   "metadata": {},
   "source": [
    "## Page 10"
   ]
  },
  {
   "cell_type": "code",
   "execution_count": 42,
   "id": "dd6923ec-863c-456e-b184-2227f413324f",
   "metadata": {},
   "outputs": [],
   "source": [
    "L4P10Q1 = MultipleChoice('1. How would you report on a categorical variable?',['Using means','Convert it into a quantitative variable','Convert it into an ordinal variable', 'Using frequency counts or percentages'],'Using frequency counts or percentages')\n",
    "L4P10Q2 = MultipleChoice('2. How does probability differ from proportion?',['Probability uses frequencies, and proportions don\\'t','Probability counts from the sample, a proportion is theoretical','Probability is theoretical, and a proportion counts from the sample', 'Probability doesn\\'t use frequencies; proportions do'],'Probability is theoretical, and a proportion counts from the sample')"
   ]
  },
  {
   "cell_type": "code",
   "execution_count": 43,
   "id": "7c590f02-2c02-48a8-9c40-93ce44c8ab99",
   "metadata": {},
   "outputs": [
    {
     "data": {
      "application/vnd.jupyter.widget-view+json": {
       "model_id": "8620dbd7db5e4c14873f3851ebe9b004",
       "version_major": 2,
       "version_minor": 0
      },
      "text/plain": [
       "VBox(children=(Output(), RadioButtons(layout=Layout(width='max-content'), options=(('Using means', 0), ('Conve…"
      ]
     },
     "metadata": {},
     "output_type": "display_data"
    },
    {
     "data": {
      "application/vnd.jupyter.widget-view+json": {
       "model_id": "b899ecf6ab714b23ab452ef851d8e9b7",
       "version_major": 2,
       "version_minor": 0
      },
      "text/plain": [
       "VBox(children=(Output(), RadioButtons(layout=Layout(width='max-content'), options=((\"Probability uses frequenc…"
      ]
     },
     "metadata": {},
     "output_type": "display_data"
    }
   ],
   "source": [
    "if __name__ == \"__main__\":\n",
    "    display(L4P10Q1, L4P10Q2)"
   ]
  },
  {
   "cell_type": "markdown",
   "id": "6e4e0ec8-5895-4518-a36f-1ded002716c6",
   "metadata": {},
   "source": [
    "---\n",
    "## Common Descriptive Statistics\n",
    "### Lesson 4 Exam\n",
    "---\n",
    "This exam ***will be graded***, but please feel free to refer to your notes or the curriculum since you don't have to memorize everything in the real world - as long as you know where to find information!\n",
    "Which of the following formulas will yield the mean in a spreadsheet program like MS Excel or Google Sheets?"
   ]
  },
  {
   "cell_type": "code",
   "execution_count": 44,
   "id": "ea4488e7-f318-4d2c-8fd1-73a23e7cb8e8",
   "metadata": {},
   "outputs": [],
   "source": [
    "L4P14Q1 = MultipleChoice('1. Which of the following formulas will yield the mean in a spreadsheet program like MS Excel or Google Sheets?',['.mean()','.average()','.median()', '.stdev.s()'],'.average()')\n",
    "L4P14Q2 = MultipleChoice('2. Which of the following measures of central tendency looks at the exact middle of the data?',['Mean','Median','Mode'],'Median')\n",
    "L4P14Q3 = MultipleChoice('3. Which of the following formulas in MS Excel or Google Sheets will assist in finding the range?',['.min()','.max()','.range()', 'Both A & B'],'Both A & B')\n",
    "L4P14Q4 = MultipleChoice('4. Which of the following measures of distribution is the standard deviation squared?',['Range','Inter-quartile Range','Variance', 'Percentiles'],'Variance')\n",
    "L4P14Q5 = MultipleChoice('5. In reference to the margin of error, what does CV stand for?',['Coefficient of variation','Coded Variable','Confidence Value', 'Critical Value'],'Critical Value')\n",
    "L4P14Q6 = MultipleChoice('6. What is the purpose of creating a confidence interval?',['It provides a range for where the true mean of a population lies','It is an exercise to frustrate and confuse students','It builds up a student\\'s confidence for future questions', 'It provides a little bit of leeway for rounding errors during calculations'],'It provides a range for where the true mean of a population lies')"
   ]
  },
  {
   "cell_type": "code",
   "execution_count": 45,
   "id": "b238f567-2915-4b2a-848a-4207f685c4ec",
   "metadata": {},
   "outputs": [
    {
     "data": {
      "application/vnd.jupyter.widget-view+json": {
       "model_id": "c3112c2bab1a455f9e5d6c8a86c93773",
       "version_major": 2,
       "version_minor": 0
      },
      "text/plain": [
       "VBox(children=(Output(), RadioButtons(layout=Layout(width='max-content'), options=(('.mean()', 0), ('.average(…"
      ]
     },
     "metadata": {},
     "output_type": "display_data"
    },
    {
     "data": {
      "application/vnd.jupyter.widget-view+json": {
       "model_id": "2565552efb1745e4896e37a997602aab",
       "version_major": 2,
       "version_minor": 0
      },
      "text/plain": [
       "VBox(children=(Output(), RadioButtons(layout=Layout(width='max-content'), options=(('Mean', 0), ('Median', 1),…"
      ]
     },
     "metadata": {},
     "output_type": "display_data"
    },
    {
     "data": {
      "application/vnd.jupyter.widget-view+json": {
       "model_id": "630b2c36961b422890f6310440f5e467",
       "version_major": 2,
       "version_minor": 0
      },
      "text/plain": [
       "VBox(children=(Output(), RadioButtons(layout=Layout(width='max-content'), options=(('.min()', 0), ('.max()', 1…"
      ]
     },
     "metadata": {},
     "output_type": "display_data"
    },
    {
     "data": {
      "application/vnd.jupyter.widget-view+json": {
       "model_id": "d815b78fc2b14f258e77a23b14a78151",
       "version_major": 2,
       "version_minor": 0
      },
      "text/plain": [
       "VBox(children=(Output(), RadioButtons(layout=Layout(width='max-content'), options=(('Range', 0), ('Inter-quart…"
      ]
     },
     "metadata": {},
     "output_type": "display_data"
    },
    {
     "data": {
      "application/vnd.jupyter.widget-view+json": {
       "model_id": "462364f71e17469d921aca9e63d5e742",
       "version_major": 2,
       "version_minor": 0
      },
      "text/plain": [
       "VBox(children=(Output(), RadioButtons(layout=Layout(width='max-content'), options=(('Coefficient of variation'…"
      ]
     },
     "metadata": {},
     "output_type": "display_data"
    },
    {
     "data": {
      "application/vnd.jupyter.widget-view+json": {
       "model_id": "0b92c2fbdac34086824b56e73a39a335",
       "version_major": 2,
       "version_minor": 0
      },
      "text/plain": [
       "VBox(children=(Output(), RadioButtons(layout=Layout(width='max-content'), options=(('It provides a range for w…"
      ]
     },
     "metadata": {},
     "output_type": "display_data"
    }
   ],
   "source": [
    "if __name__ == \"__main__\":\n",
    "    display(L4P14Q1, L4P14Q2, L4P14Q3, L4P14Q4, L4P14Q5, L4P14Q6)"
   ]
  },
  {
   "cell_type": "markdown",
   "id": "a74634c1-5616-4a2f-a25d-ae105881d41d",
   "metadata": {},
   "source": [
    "## Lesson 5\n",
    "\n",
    "## Page 2"
   ]
  },
  {
   "cell_type": "code",
   "execution_count": 46,
   "id": "e2a33d9d-04e4-4d15-bad3-18895ac72ad4",
   "metadata": {},
   "outputs": [],
   "source": [
    "L5P2Q1 = MultipleChoice('1. For a normal distribution, which is greater, the mean or median?',['They are equal','The mean','The median'],'They are equal')\n",
    "L5P2Q2 = MultipleChoice('2. When considering a normal distribution, how far away from the mean does the curve contact the horizontal axis?',['Usually at about two standard deviations','Between two and three standard deviations','Right at three standard deviations', 'At about four standard deviations', 'It never does'],'It never does')"
   ]
  },
  {
   "cell_type": "code",
   "execution_count": 47,
   "id": "c3716d3b-21b2-4660-a0f5-108257dbf992",
   "metadata": {},
   "outputs": [
    {
     "data": {
      "application/vnd.jupyter.widget-view+json": {
       "model_id": "1ab77bbb66cf483585552bb614a85f23",
       "version_major": 2,
       "version_minor": 0
      },
      "text/plain": [
       "VBox(children=(Output(), RadioButtons(layout=Layout(width='max-content'), options=(('They are equal', 0), ('Th…"
      ]
     },
     "metadata": {},
     "output_type": "display_data"
    },
    {
     "data": {
      "application/vnd.jupyter.widget-view+json": {
       "model_id": "38d6e0f98e9e4c09b9c55ee41218b9f7",
       "version_major": 2,
       "version_minor": 0
      },
      "text/plain": [
       "VBox(children=(Output(), RadioButtons(layout=Layout(width='max-content'), options=(('Usually at about two stan…"
      ]
     },
     "metadata": {},
     "output_type": "display_data"
    }
   ],
   "source": [
    "if __name__ == \"__main__\":\n",
    "    display(L5P2Q1, L5P2Q2)"
   ]
  },
  {
   "cell_type": "markdown",
   "id": "d91043b2-b96f-4f43-b8dd-2adeedc37d6f",
   "metadata": {},
   "source": [
    "## Page 3"
   ]
  },
  {
   "cell_type": "code",
   "execution_count": 48,
   "id": "8d8475e5-c81a-4fd5-8367-4d747338a0aa",
   "metadata": {},
   "outputs": [],
   "source": [
    "L5P3Q1 = MultipleChoice('1. What is the mean of the standard normal distribution?',['It depends on the dataset','0','1', '3'],'0')\n",
    "L5P3Q2 = MultipleChoice('2. What is the standard deviation of the standard normal distribution?',['It depends on the dataset','0','1', '3'],'1')\n",
    "L5P3Q3 = MultipleChoice('3. What is the probability that all values fall within one standard deviation of the mean?',['34%','68%','95%', '99%'],'68%')\n",
    "L5P3Q4 = MultipleChoice('4. What is the probability that all values fall within two standard deviations of the mean?',['34%','68%','95%', '99%'],'95%')\n",
    "L5P3Q5 = MultipleChoice('5. What is the probability that all values fall with three standard deviations of the mean?',['34%','68%','95%', '99%'],'99%')"
   ]
  },
  {
   "cell_type": "code",
   "execution_count": 49,
   "id": "bf94e733-197b-4804-a6bf-1d63171e4951",
   "metadata": {},
   "outputs": [
    {
     "data": {
      "application/vnd.jupyter.widget-view+json": {
       "model_id": "a04374f3e8ad41deb6867ae9b694bdeb",
       "version_major": 2,
       "version_minor": 0
      },
      "text/plain": [
       "VBox(children=(Output(), RadioButtons(layout=Layout(width='max-content'), options=(('It depends on the dataset…"
      ]
     },
     "metadata": {},
     "output_type": "display_data"
    },
    {
     "data": {
      "application/vnd.jupyter.widget-view+json": {
       "model_id": "0813b5bc934a4a48a43dd30b1bbe8bb9",
       "version_major": 2,
       "version_minor": 0
      },
      "text/plain": [
       "VBox(children=(Output(), RadioButtons(layout=Layout(width='max-content'), options=(('It depends on the dataset…"
      ]
     },
     "metadata": {},
     "output_type": "display_data"
    },
    {
     "data": {
      "application/vnd.jupyter.widget-view+json": {
       "model_id": "7495da4fef2e43109000f1d1a6e4288a",
       "version_major": 2,
       "version_minor": 0
      },
      "text/plain": [
       "VBox(children=(Output(), RadioButtons(layout=Layout(width='max-content'), options=(('34%', 0), ('68%', 1), ('9…"
      ]
     },
     "metadata": {},
     "output_type": "display_data"
    },
    {
     "data": {
      "application/vnd.jupyter.widget-view+json": {
       "model_id": "a5238ef88cda4d97baed4b45137caa24",
       "version_major": 2,
       "version_minor": 0
      },
      "text/plain": [
       "VBox(children=(Output(), RadioButtons(layout=Layout(width='max-content'), options=(('34%', 0), ('68%', 1), ('9…"
      ]
     },
     "metadata": {},
     "output_type": "display_data"
    },
    {
     "data": {
      "application/vnd.jupyter.widget-view+json": {
       "model_id": "6c2dab8fe6e147e284dd975be101f6c1",
       "version_major": 2,
       "version_minor": 0
      },
      "text/plain": [
       "VBox(children=(Output(), RadioButtons(layout=Layout(width='max-content'), options=(('34%', 0), ('68%', 1), ('9…"
      ]
     },
     "metadata": {},
     "output_type": "display_data"
    }
   ],
   "source": [
    "if __name__ == \"__main__\":\n",
    "    display(L5P3Q1, L5P3Q2, L5P3Q3, L5P3Q4, L5P3Q5)"
   ]
  },
  {
   "cell_type": "markdown",
   "id": "b686ff53-3aad-4597-9255-f0348e843b40",
   "metadata": {},
   "source": [
    "## Page 4"
   ]
  },
  {
   "cell_type": "code",
   "execution_count": 50,
   "id": "e229ec92-a5da-4eeb-802f-8ec4d008a1ba",
   "metadata": {},
   "outputs": [],
   "source": [
    "L5P4Q1 = MC('1. Which of the following scenarios has a z-score of 2.72?',['mu = 55, sigma = 8, x = 49','mu = 220, sigma = 82, x = 443','mu = -28, sigma = 2, x = -23', 'mu = 125, sigma = 16.8, x = 79.3'],'mu = 220, sigma = 82, x = 443', cor='Use the z score formula.',incor='')\n",
    "L5P4Q2 = MC('2. Calculate the z-score for a value of 9.2 when the population mean is 18.4 and the standard deviation is 9.2:',['0','1','-1', 'Not enough information has been given'],'-1', cor='Use the z score formula, where x is 9.2, mu is 18.4, and sigma is 9.2.',incor='')"
   ]
  },
  {
   "cell_type": "code",
   "execution_count": 51,
   "id": "0e36f778-6d87-40eb-b886-c49d8acd2146",
   "metadata": {},
   "outputs": [
    {
     "data": {
      "application/vnd.jupyter.widget-view+json": {
       "model_id": "7b7cefb5cfb845409e665e1d5d6f4661",
       "version_major": 2,
       "version_minor": 0
      },
      "text/plain": [
       "VBox(children=(Output(), RadioButtons(layout=Layout(width='max-content'), options=(('mu = 55, sigma = 8, x = 4…"
      ]
     },
     "metadata": {},
     "output_type": "display_data"
    },
    {
     "data": {
      "application/vnd.jupyter.widget-view+json": {
       "model_id": "39109284c270422396f6e850e397f931",
       "version_major": 2,
       "version_minor": 0
      },
      "text/plain": [
       "VBox(children=(Output(), RadioButtons(layout=Layout(width='max-content'), options=(('0', 0), ('1', 1), ('-1', …"
      ]
     },
     "metadata": {},
     "output_type": "display_data"
    }
   ],
   "source": [
    "if __name__ == \"__main__\":\n",
    "    display(L5P4Q1, L5P4Q2)"
   ]
  },
  {
   "cell_type": "markdown",
   "id": "a95906ee-430f-485f-844d-d37bfc7bdecb",
   "metadata": {},
   "source": [
    "## Page 5"
   ]
  },
  {
   "cell_type": "code",
   "execution_count": 52,
   "id": "3a9691b7-2629-486d-87e2-cf84ec7057bc",
   "metadata": {},
   "outputs": [],
   "source": [
    "L5P5Q1 = MultipleChoice('1. When is an event considered rare?',['When it falls outside one standard deviation of the mean','When the probability is 68%','When the probability is less than 5%', 'When it is not a random chance'],'When the probability is less than 5%')"
   ]
  },
  {
   "cell_type": "code",
   "execution_count": 53,
   "id": "ff630957-6a4a-4f0c-88d5-d915e91262df",
   "metadata": {},
   "outputs": [
    {
     "data": {
      "application/vnd.jupyter.widget-view+json": {
       "model_id": "2b8ea4723eb5411c91f254220d170411",
       "version_major": 2,
       "version_minor": 0
      },
      "text/plain": [
       "VBox(children=(Output(), RadioButtons(layout=Layout(width='max-content'), options=(('When it falls outside one…"
      ]
     },
     "metadata": {},
     "output_type": "display_data"
    }
   ],
   "source": [
    "if __name__ == \"__main__\":\n",
    "    display(L5P5Q1)"
   ]
  },
  {
   "cell_type": "markdown",
   "id": "5102e8dc-8f2f-4dbc-aaa0-920edb796590",
   "metadata": {},
   "source": [
    "## Page 6"
   ]
  },
  {
   "cell_type": "code",
   "execution_count": 54,
   "id": "56dbf96a-3251-4dfb-be26-00579a326b5d",
   "metadata": {},
   "outputs": [],
   "source": [
    "L5P6Q1 = MC('1. What is the probability that a single milk bottle will have between 128.1 and 128.3 oz?',['0.909','1.000','0.818', '0.683'],'0.818', cor='Enter the mean and standard deviation into the applet, then choose the between number and impute 128.1 and 128.3, which yields an area, or probability, of .82.', incor='')\n",
    "L5P6Q2 = MC('2. What is the probability that a single milk bottle has less than 128 oz?',['0.004','0.008','0.015', '0.213'],'0.004', cor='Choose the below 128 option on the applet, and you will get a probability of .0038, which rounds to .004.', incor='')"
   ]
  },
  {
   "cell_type": "markdown",
   "id": "35d747b3-e8df-4629-9f42-cd6a41880267",
   "metadata": {},
   "source": [
    "**For the next two questions:** A milk producer bottles milk in gallon bottles. The machine that fills the bottles has a bit of variation, so the producer can't just set the dial to 128 oz, because that would cause some of the bottles to have slightly less than one gallon. To be reasonably sure that each bottle will have at least 1 gallon, the producer set it a bit higher.\n",
    "Historical data indicate that each bottle has an average of 128.2 oz, and the standard deviation is 0.075 oz."
   ]
  },
  {
   "cell_type": "code",
   "execution_count": 55,
   "id": "f1f9a706-d4c3-4f0c-b984-7487c8e1b9c3",
   "metadata": {},
   "outputs": [
    {
     "data": {
      "application/vnd.jupyter.widget-view+json": {
       "model_id": "f49f169709f543f788296584cad207c9",
       "version_major": 2,
       "version_minor": 0
      },
      "text/plain": [
       "VBox(children=(Output(), RadioButtons(layout=Layout(width='max-content'), options=(('0.909', 0), ('1.000', 1),…"
      ]
     },
     "metadata": {},
     "output_type": "display_data"
    },
    {
     "data": {
      "application/vnd.jupyter.widget-view+json": {
       "model_id": "3094d4599d5f41dc97be38c0dd2cd96b",
       "version_major": 2,
       "version_minor": 0
      },
      "text/plain": [
       "VBox(children=(Output(), RadioButtons(layout=Layout(width='max-content'), options=(('0.004', 0), ('0.008', 1),…"
      ]
     },
     "metadata": {},
     "output_type": "display_data"
    }
   ],
   "source": [
    "if __name__ == \"__main__\":\n",
    "    display(L5P6Q1, L5P6Q2)"
   ]
  },
  {
   "cell_type": "markdown",
   "id": "435b24c7-da2a-4094-bda8-f8128e5e0850",
   "metadata": {},
   "source": [
    "## Page 7"
   ]
  },
  {
   "cell_type": "code",
   "execution_count": 56,
   "id": "d854c05b-91ea-4022-9adc-eaa37b772008",
   "metadata": {},
   "outputs": [],
   "source": [
    "L5P7Q1 = MC('1. A particular track athlete has a personal best high jump of 6.4 ft. However, the average high jump is 6.1 ft for his age division, with a standard deviation of 0.27 ft. What is the percentile of this athlete\\'s best jump?',['78th percentile','73rd percentile','87th percentile', '91st percentile'],'87th percentile', cor='Enter the mean and standard deviation into the probability applet, and choose the below option because, with a percentile, you are looking to see what percentage of people fall Below a particular score. The area then becomes your percentile.', incor='')\n",
    "L5P7Q2 = MC('2. A woman takes her baby in for a well-baby checkup at 12 months. The doctor weighs the baby, and she then looks it up on a chart. She tells you your baby is healthy and in the 75th percentile for weight. The weight of 12-month-old babies is normally distributed with a mean of 19.8 lbs with a standard deviation of 0.6 lbs. \\nHow much does your baby weigh?',['20.2 lbs','20.4 lbs','21.6 lbs', '23.3 lbs'],'20.2 lbs', cor='For this problem, you will need to work backward, so make sure the radio button for Value from an area is selected. Enter the mean and standard deviation and the percentile as a decimal (.75) into the applet. Then choose the below option, which will provide the value of your baby.', incor='')"
   ]
  },
  {
   "cell_type": "code",
   "execution_count": 57,
   "id": "c32ddd94-41db-465f-bf29-c1d5e9fc23b8",
   "metadata": {},
   "outputs": [
    {
     "data": {
      "application/vnd.jupyter.widget-view+json": {
       "model_id": "eeeeca5bb63f48f4a2a7ef6d841f4083",
       "version_major": 2,
       "version_minor": 0
      },
      "text/plain": [
       "VBox(children=(Output(), RadioButtons(layout=Layout(width='max-content'), options=(('78th percentile', 0), ('7…"
      ]
     },
     "metadata": {},
     "output_type": "display_data"
    },
    {
     "data": {
      "application/vnd.jupyter.widget-view+json": {
       "model_id": "2c0275f99ed8472cb07443037f66a1fc",
       "version_major": 2,
       "version_minor": 0
      },
      "text/plain": [
       "VBox(children=(Output(), RadioButtons(layout=Layout(width='max-content'), options=(('20.2 lbs', 0), ('20.4 lbs…"
      ]
     },
     "metadata": {},
     "output_type": "display_data"
    }
   ],
   "source": [
    "if __name__ == \"__main__\":\n",
    "    display(L5P7Q1, L5P7Q2)"
   ]
  },
  {
   "cell_type": "markdown",
   "id": "990c813c-608b-4eaa-a318-f6d59af75d24",
   "metadata": {},
   "source": [
    "## Page 8"
   ]
  },
  {
   "cell_type": "code",
   "execution_count": 58,
   "id": "d460bf68-fdb8-486e-ae64-2fa1dc0a089b",
   "metadata": {},
   "outputs": [],
   "source": [
    "L5P8Q1 = MultipleChoice('1. Which is the larger overall group?',['Parent','Child'],'Parent')\n",
    "L5P8Q2 = MultipleChoice('2. How is the mean of a child distribution and the mean of a parent distribution-related?',['The means are approximately equal','The mean of the child distribution is larger than the mean of the parent','The mean of the parent distribution is larger than the mean of the child', 'The means are not related'],'The means are approximately equal')\n",
    "L5P8Q3 = MultipleChoice('3. How is the standard deviation of the child distribution related to the mean of the parent distribution?',['The child distribution has a larger standard deviation','The child distribution has a smaller standard deviation','The standard deviations are equal', 'The standard deviations are not related'],'The child distribution has a smaller standard deviation')\n",
    "L5P8Q4 = MultipleChoice('4. Please fill in the blanks in this sentence: According to the Central Limit Theorem, as the sample size gets ________, the sample is more likely to be ________.',['Smaller, normally distributed','Larger, normally distributed','Larger, not normally distributed'],'Larger, normally distributed')"
   ]
  },
  {
   "cell_type": "code",
   "execution_count": 59,
   "id": "cd03adda-4ae8-4bd9-a640-e6c5f79aca74",
   "metadata": {},
   "outputs": [
    {
     "data": {
      "application/vnd.jupyter.widget-view+json": {
       "model_id": "f0b316f583b44105b842f10c694637ce",
       "version_major": 2,
       "version_minor": 0
      },
      "text/plain": [
       "VBox(children=(Output(), RadioButtons(layout=Layout(width='max-content'), options=(('Parent', 0), ('Child', 1)…"
      ]
     },
     "metadata": {},
     "output_type": "display_data"
    },
    {
     "data": {
      "application/vnd.jupyter.widget-view+json": {
       "model_id": "d0bea8a8536f46f4850aff38d6515c26",
       "version_major": 2,
       "version_minor": 0
      },
      "text/plain": [
       "VBox(children=(Output(), RadioButtons(layout=Layout(width='max-content'), options=(('The means are approximate…"
      ]
     },
     "metadata": {},
     "output_type": "display_data"
    },
    {
     "data": {
      "application/vnd.jupyter.widget-view+json": {
       "model_id": "592f8df2d7fc467b9c7594e6b964a9c5",
       "version_major": 2,
       "version_minor": 0
      },
      "text/plain": [
       "VBox(children=(Output(), RadioButtons(layout=Layout(width='max-content'), options=(('The child distribution ha…"
      ]
     },
     "metadata": {},
     "output_type": "display_data"
    },
    {
     "data": {
      "application/vnd.jupyter.widget-view+json": {
       "model_id": "34fd1dcf8dea4faebe9879d0a125b616",
       "version_major": 2,
       "version_minor": 0
      },
      "text/plain": [
       "VBox(children=(Output(), RadioButtons(layout=Layout(width='max-content'), options=(('Smaller, normally distrib…"
      ]
     },
     "metadata": {},
     "output_type": "display_data"
    }
   ],
   "source": [
    "if __name__ == \"__main__\":\n",
    "    display(L5P8Q1, L5P8Q2, L5P8Q3, L5P8Q4)"
   ]
  },
  {
   "cell_type": "markdown",
   "id": "7dda2484-527b-4d89-a1fd-3bf7d7126f7d",
   "metadata": {},
   "source": [
    "---\n",
    "## The Normal Distribution\n",
    "## Lesson 5 Exam\n",
    "\n",
    "Below is an exam to review the recently covered material. This exam is not graded. Please feel free to refer to your notes or the curriculum since you don't have to memorize everything in the real world - as long as you know where to find information!"
   ]
  },
  {
   "cell_type": "code",
   "execution_count": 60,
   "id": "8ca9dbbd-8717-482d-99a1-42668bb86d91",
   "metadata": {},
   "outputs": [],
   "source": [
    "L5P9Q1 = MC('1. For a normally distributed variable with mean of 44 and standard deviation of 6, how much of the distribution is between 32 and 56, according to the 68-95-99.7 rule?',['68%','95%','99.7%', '40%'],'95%', cor='Start by determining how many standard deviations away those numbers are. You can begin by adding the standard deviation to the mean once. 44 + 6 is 50. That\\'s one standard deviation away. Then again, the standard deviation to the mean a second time: 50 + 6 = 56. So that makes two standard deviations on the top. Then start subtracting the standard deviation value from the mean to get how many standard deviations below 32 is. 44 - 6 is 38. That\\'s one standard deviation. 38 - 6 is 32, so that\\'s two standard deviations away. So you know that both the top and bottom values are two standard deviations away, and the 68-95-99 rule says that 95% of the distribution is between two standard deviations from the mean.', incor='')\n",
    "L5P9Q2 = MC('2. For a normally distributed variable with mean of 44 and standard deviation of 6, how much of the distribution is between 44 and 56, according to the 68-95-99.7 rule?',['34%','47.5%','68%', '50%'],'47.5%', cor='Start by determining how many standard deviations away those numbers are. You already know from the last problem that 56 is two standard deviations away. So now you need to add up the area percentages for each of those. According to the percentages from the 68-95-99 rule, for two standard deviations above the mean, the value will be .341 + .136, or .477.', incor='')\n",
    "L5P9Q3 = MC('3. For a normally distributed variable with mean of 44 and standard deviation of 6, how much of the distribution is between 38 and 44, according to the 68-95-99.7 rule?',['34%','47.5%','68%', '95%'],'34%', cor='Start by determining how many standard deviations away those numbers are. You already know from the problems before that 38 is one standard deviation below. So, the area from one standard deviation below to the mean according to the 68-95-99 rule is .34, or 34%.', incor='')\n",
    "L5P9Q4 = MC('4. What is the z-score if mu = 72 and sigma = 18?',['-1','0','2.8', 'There is not enough information given'],'There is not enough information given', cor='You also need an x to calculate a z score.', incor='')\n",
    "L5P9Q5 = MC('5. What is the z-score if mu = 80, sigma = 10, and x = 57?',['-3.3','-2.3','1.65', '2.3'],'-2.3', cor='z = (57 - 80) / 10', incor='')\n",
    "L5P9Q6 = MC('6. If x = 270, mu = 225, and the z-score is 1.5, what is sigma?',['495','255','85', '30'],'30', cor='You will plug all the other numbers in and solve for sigma: 1.5 = (270 - 225 ) / sigma', incor='')\n",
    "L5P9Q7 = MC('7. For a distribution whose mean is 320 and sigma is 14, what is the probability of randomly selecting a single value that is less than 290?',['0.0161','0.0321','0.161', '0.321'],'0.0161', cor='Plug in the mean and standard deviation into the applet, with the radio button for Area from a value selected. Then choose the below option and type in 290. The result is your answer.', incor='')\n",
    "L5P9Q8 = MC('8. For a distribution whose mean is 320 and sigma is 14, what is the probability of randomly selecting a single value that is less than 345?',['0.0741','0.6854','0.9259', '0.9630'],'0.9630', cor='Plug in the mean and standard deviation into the applet, with the radio button for Area from a value selected. Then choose the below option and type in 345. The result is your answer.', incor='')\n",
    "L5P9Q9 = MC('9. For a distribution whose mean is 320 and sigma is 14, what is the probability of randomly selecting a single value that is either less than 317 or greater than 323?',['0.4153','0.5000','0.8305', '1.0000'],'0.8305', cor='Plug in the mean and standard deviation into the applet, with the radio button for Area from a value selected. Then choose the outside option and type in the values. The result is your answer.', incor='')\n",
    "L5P9Q10 = MC('10. For a distribution whose mean is 320 and sigma is 14, what is the probability of randomly selecting a single value that is either less than 312 or greater than 325?',['0.2840','0.3605','0.6445', '0.7211'],'0.6445', cor='Plug in the mean and standard deviation into the applet, with the radio button for Area from a value selected. Then choose the outside option and type in the values. The result is your answer.', incor='')\n",
    "L5P9Q11 = MC('11. If the LSAT exam has a mean score of 151 and a standard deviation of 10, what is your percentile if you score a 172?',['98th percentile','18th percentile','96th percentile', '35th percentile'],'98th percentile', cor='Plug in the mean and standard deviation into the applet, with the radio button for Area from a value selected. Then choose the below option and type in the value 172. The result is your answer.', incor='')\n",
    "L5P9Q12 = MC('12. If your score on a standardized exam reports as being in the 68th percentile, what is your raw score if the mean for the exam is 260 points?',['Cannot determine from the information provided','328','382', '355'],'Cannot determine from the information provided', cor='You are missing the sigma as well.', incor='')\n",
    "L5P9Q13 = MC('13. If a parent distribution has a mean of 160 and a standard deviation of 24, and you create a distribution of x-bar using samples of size 16, what are the mean and standard deviation of your distribution',['Mean = 160, standard deviation = 24','Mean = 160, standard deviation = 6','Mean = 10, standard deviation = 24'],'Mean = 160, standard deviation = 6', cor='The mean of a child distribution will always be the same as the parent, but the standard deviation will be smaller.', incor='')"
   ]
  },
  {
   "cell_type": "code",
   "execution_count": 61,
   "id": "64ad9274-5fca-4bde-a3ec-56e873b97b96",
   "metadata": {},
   "outputs": [
    {
     "data": {
      "application/vnd.jupyter.widget-view+json": {
       "model_id": "f9f774d2559f4ab18eae38fc6af0b041",
       "version_major": 2,
       "version_minor": 0
      },
      "text/plain": [
       "VBox(children=(Output(), RadioButtons(layout=Layout(width='max-content'), options=(('68%', 0), ('95%', 1), ('9…"
      ]
     },
     "metadata": {},
     "output_type": "display_data"
    },
    {
     "data": {
      "application/vnd.jupyter.widget-view+json": {
       "model_id": "d973ec9df6f0478a8a014c2b6beafa2d",
       "version_major": 2,
       "version_minor": 0
      },
      "text/plain": [
       "VBox(children=(Output(), RadioButtons(layout=Layout(width='max-content'), options=(('34%', 0), ('47.5%', 1), (…"
      ]
     },
     "metadata": {},
     "output_type": "display_data"
    },
    {
     "data": {
      "application/vnd.jupyter.widget-view+json": {
       "model_id": "f1ea24b34622487a88f87ad817af97c7",
       "version_major": 2,
       "version_minor": 0
      },
      "text/plain": [
       "VBox(children=(Output(), RadioButtons(layout=Layout(width='max-content'), options=(('34%', 0), ('47.5%', 1), (…"
      ]
     },
     "metadata": {},
     "output_type": "display_data"
    },
    {
     "data": {
      "application/vnd.jupyter.widget-view+json": {
       "model_id": "927d90ecdffc4cc08ac5975f075f1cfc",
       "version_major": 2,
       "version_minor": 0
      },
      "text/plain": [
       "VBox(children=(Output(), RadioButtons(layout=Layout(width='max-content'), options=(('-1', 0), ('0', 1), ('2.8'…"
      ]
     },
     "metadata": {},
     "output_type": "display_data"
    },
    {
     "data": {
      "application/vnd.jupyter.widget-view+json": {
       "model_id": "650ec40466634c8bbdcf06317be928e9",
       "version_major": 2,
       "version_minor": 0
      },
      "text/plain": [
       "VBox(children=(Output(), RadioButtons(layout=Layout(width='max-content'), options=(('-3.3', 0), ('-2.3', 1), (…"
      ]
     },
     "metadata": {},
     "output_type": "display_data"
    },
    {
     "data": {
      "application/vnd.jupyter.widget-view+json": {
       "model_id": "95b02cbbc8d44cadb25393cd974e3595",
       "version_major": 2,
       "version_minor": 0
      },
      "text/plain": [
       "VBox(children=(Output(), RadioButtons(layout=Layout(width='max-content'), options=(('495', 0), ('255', 1), ('8…"
      ]
     },
     "metadata": {},
     "output_type": "display_data"
    },
    {
     "data": {
      "application/vnd.jupyter.widget-view+json": {
       "model_id": "5a6cd47c08444dd291364d2c9a60b3a2",
       "version_major": 2,
       "version_minor": 0
      },
      "text/plain": [
       "VBox(children=(Output(), RadioButtons(layout=Layout(width='max-content'), options=(('0.0161', 0), ('0.0321', 1…"
      ]
     },
     "metadata": {},
     "output_type": "display_data"
    },
    {
     "data": {
      "application/vnd.jupyter.widget-view+json": {
       "model_id": "5f4f182f433a4c7d80881115bc688069",
       "version_major": 2,
       "version_minor": 0
      },
      "text/plain": [
       "VBox(children=(Output(), RadioButtons(layout=Layout(width='max-content'), options=(('0.0741', 0), ('0.6854', 1…"
      ]
     },
     "metadata": {},
     "output_type": "display_data"
    },
    {
     "data": {
      "application/vnd.jupyter.widget-view+json": {
       "model_id": "831dc2166adc488ba75e203ec42ff9dd",
       "version_major": 2,
       "version_minor": 0
      },
      "text/plain": [
       "VBox(children=(Output(), RadioButtons(layout=Layout(width='max-content'), options=(('0.4153', 0), ('0.5000', 1…"
      ]
     },
     "metadata": {},
     "output_type": "display_data"
    },
    {
     "data": {
      "application/vnd.jupyter.widget-view+json": {
       "model_id": "5f4b6e4fa40c40e58af35692348c8ae6",
       "version_major": 2,
       "version_minor": 0
      },
      "text/plain": [
       "VBox(children=(Output(), RadioButtons(layout=Layout(width='max-content'), options=(('0.2840', 0), ('0.3605', 1…"
      ]
     },
     "metadata": {},
     "output_type": "display_data"
    },
    {
     "data": {
      "application/vnd.jupyter.widget-view+json": {
       "model_id": "01918866891e4f41877f93565383e772",
       "version_major": 2,
       "version_minor": 0
      },
      "text/plain": [
       "VBox(children=(Output(), RadioButtons(layout=Layout(width='max-content'), options=(('98th percentile', 0), ('1…"
      ]
     },
     "metadata": {},
     "output_type": "display_data"
    },
    {
     "data": {
      "application/vnd.jupyter.widget-view+json": {
       "model_id": "a8a4c663a3264cf890f7be5ccfe21483",
       "version_major": 2,
       "version_minor": 0
      },
      "text/plain": [
       "VBox(children=(Output(), RadioButtons(layout=Layout(width='max-content'), options=(('Cannot determine from the…"
      ]
     },
     "metadata": {},
     "output_type": "display_data"
    },
    {
     "data": {
      "application/vnd.jupyter.widget-view+json": {
       "model_id": "f917ce135bcf4963b0cf8f324ad148c4",
       "version_major": 2,
       "version_minor": 0
      },
      "text/plain": [
       "VBox(children=(Output(), RadioButtons(layout=Layout(width='max-content'), options=(('Mean = 160, standard devi…"
      ]
     },
     "metadata": {},
     "output_type": "display_data"
    }
   ],
   "source": [
    "if __name__ == \"__main__\":\n",
    "    display(L5P9Q1, L5P9Q2, L5P9Q3, L5P9Q4, L5P9Q5, L5P9Q6, L5P9Q7, L5P9Q8, L5P9Q9, L5P9Q10, L5P9Q11, L5P9Q12, L5P9Q13)"
   ]
  },
  {
   "cell_type": "markdown",
   "id": "fa605826-98ce-45ec-9c94-d034d229f4ec",
   "metadata": {},
   "source": [
    "## Lesson 6\n",
    "\n",
    "## Page 2"
   ]
  },
  {
   "cell_type": "code",
   "execution_count": 62,
   "id": "70d0dc6a-5e93-47c8-8681-8e969fe18b2e",
   "metadata": {},
   "outputs": [],
   "source": [
    "L6P2Q1 = MC('1. A marketing firm in Austin is researching a local auto parts chain based in Dallas. They have identified 72,500 households within 10 miles of any store. They send out surveys to 2,200 homes in the Dallas area. Of those 2,200 surveys, the marketing firm gets some response from 168 of them. What is the sample in this example?',['All marketing firms in Austin','The 168 households that responded to the survey','All 72,500 households in the Dallas area', 'The 2200 households that received a survey'],'The 168 households that responded to the survey', cor='Since the sample is the smaller part and only the portion you have data for, the 168 households are the sample.', incor=\"\")\n",
    "L6P2Q2 = MultipleChoice('2. A marketing firm in Austin is researching a local auto parts chain based in Dallas. They have identified 72,500 households within 10 miles of any store. They send out surveys to 2,200 homes in the Dallas area. Of those 2,200 surveys, the marketing firm gets some response from 168 of them. What is the population in this example?',['All marketing firms in Austin','The 168 households that responded to the survey','All 72,500 households in the Dallas area'],'All 72,500 households in the Dallas area')"
   ]
  },
  {
   "cell_type": "code",
   "execution_count": 63,
   "id": "493357be-29a3-49be-96d2-0b4333f3d0e5",
   "metadata": {},
   "outputs": [
    {
     "data": {
      "application/vnd.jupyter.widget-view+json": {
       "model_id": "ae61354b56334633b1af6dee8fc34c58",
       "version_major": 2,
       "version_minor": 0
      },
      "text/plain": [
       "VBox(children=(Output(), RadioButtons(layout=Layout(width='max-content'), options=(('All marketing firms in Au…"
      ]
     },
     "metadata": {},
     "output_type": "display_data"
    },
    {
     "data": {
      "application/vnd.jupyter.widget-view+json": {
       "model_id": "0790e9ee1b3a44f9afb9ba6af886b27b",
       "version_major": 2,
       "version_minor": 0
      },
      "text/plain": [
       "VBox(children=(Output(), RadioButtons(layout=Layout(width='max-content'), options=(('All marketing firms in Au…"
      ]
     },
     "metadata": {},
     "output_type": "display_data"
    }
   ],
   "source": [
    "if __name__ == \"__main__\":\n",
    "    display(L6P2Q1, L6P2Q2)"
   ]
  },
  {
   "cell_type": "markdown",
   "id": "225fafb1-7a74-44f6-89fc-c8455acace46",
   "metadata": {},
   "source": [
    "## Page 3"
   ]
  },
  {
   "cell_type": "code",
   "execution_count": 64,
   "id": "f75e1004-cada-4eae-ba81-c653da5bbc26",
   "metadata": {},
   "outputs": [],
   "source": [
    "L6P3Q1 = MultipleChoice('1. A simple random sample means that every person/object has an equal chance of being selected.',['True','False'],'True')"
   ]
  },
  {
   "cell_type": "code",
   "execution_count": 65,
   "id": "130ed844-b54a-4035-87bc-576d36533ff0",
   "metadata": {},
   "outputs": [
    {
     "data": {
      "application/vnd.jupyter.widget-view+json": {
       "model_id": "f71d59a8c4a44c3d98816c87b3de0a87",
       "version_major": 2,
       "version_minor": 0
      },
      "text/plain": [
       "VBox(children=(Output(), RadioButtons(layout=Layout(width='max-content'), options=(('True', 0), ('False', 1)),…"
      ]
     },
     "metadata": {},
     "output_type": "display_data"
    }
   ],
   "source": [
    "if __name__ == \"__main__\":\n",
    "    display(L6P3Q1)"
   ]
  },
  {
   "cell_type": "markdown",
   "id": "3b78bf9a-53ac-4c91-b6d6-4aa0de48dbb3",
   "metadata": {},
   "source": [
    "## Page 4"
   ]
  },
  {
   "cell_type": "code",
   "execution_count": 66,
   "id": "99f8136f-c735-495e-acfb-dce3ed726e0b",
   "metadata": {},
   "outputs": [],
   "source": [
    "L6P4Q1 = MC('1. A financial auditor has to audit 6,000 accounts receivable. The accounts cover 12 years\\' worth of business, which comes down to about ten accounts per week on average. So, the financial auditor decides to randomly choose five different weeks during those 12 years and review all of the registered accounts for each of those weeks, totaling 57 accounts. What type of sampling is this?',['Stratified sampling','Cluster sampling','Systematic sampling', 'Simple random sampling', 'Convenience sampling'],'Cluster sampling', cor='The data is broken down into chunks, or clusters, of weeks. So, by choosing everything in certain weeks, that is cluster sampling.', incor='')\n",
    "L6P4Q2 = MultipleChoice('2. What is the difference between cluster and simple random sampling?',['Simple random sampling randomly selects groups; cluster sampling randomly selects individuals','Cluster sampling randomly selects groups; simple random sampling randomly selects individuals','Cluster sampling is proportionate to the population; simple random sampling isn\\t', 'Simple random sampling is proportionate to the population; cluster sampling isn\\'t'],'Cluster sampling randomly selects groups; simple random sampling randomly selects individuals')"
   ]
  },
  {
   "cell_type": "code",
   "execution_count": 67,
   "id": "5344a982-19cd-425f-af81-0922d4f051cc",
   "metadata": {},
   "outputs": [
    {
     "data": {
      "application/vnd.jupyter.widget-view+json": {
       "model_id": "527022f6e2a04c889d9e428a576a8998",
       "version_major": 2,
       "version_minor": 0
      },
      "text/plain": [
       "VBox(children=(Output(), RadioButtons(layout=Layout(width='max-content'), options=(('Stratified sampling', 0),…"
      ]
     },
     "metadata": {},
     "output_type": "display_data"
    },
    {
     "data": {
      "application/vnd.jupyter.widget-view+json": {
       "model_id": "2787d89e339044c9a4a4fbea9902a088",
       "version_major": 2,
       "version_minor": 0
      },
      "text/plain": [
       "VBox(children=(Output(), RadioButtons(layout=Layout(width='max-content'), options=(('Simple random sampling ra…"
      ]
     },
     "metadata": {},
     "output_type": "display_data"
    }
   ],
   "source": [
    "if __name__ == \"__main__\":\n",
    "    display(L6P4Q1, L6P4Q2)"
   ]
  },
  {
   "cell_type": "markdown",
   "id": "74abc89a-65b3-4ae6-8053-14eab0d87b79",
   "metadata": {},
   "source": [
    "## Page 5"
   ]
  },
  {
   "cell_type": "code",
   "execution_count": 68,
   "id": "f7283b6e-dd8c-44e3-8430-67d8ed14e85c",
   "metadata": {},
   "outputs": [],
   "source": [
    "L6P5Q1 = MC('1. An insurance company is reviewing policies to see if they can recommend a better coverage option for their clients. They have hundreds of thousands of policyholders and don\\'t have time to review them all. One employee suggests they categorize the policyholders into the following groups: Auto only, auto and home, motorcycle only, and recreational vehicles only. From each of these groups, they randomly select a small portion of the total policyholders in that category. What type of sampling does this example show?',['Stratified sampling','Cluster sampling','Systematic sampling', 'Simple random sampling'],'Stratified sampling', cor='This is stratified sampling because the policyholders break up into groups, or strata, based on their characteristics.', incor='')"
   ]
  },
  {
   "cell_type": "code",
   "execution_count": 69,
   "id": "86469cf6-516a-499c-9cf1-1d06e96920d1",
   "metadata": {},
   "outputs": [
    {
     "data": {
      "application/vnd.jupyter.widget-view+json": {
       "model_id": "2d240c37d7664815bab2e626c88fa8ab",
       "version_major": 2,
       "version_minor": 0
      },
      "text/plain": [
       "VBox(children=(Output(), RadioButtons(layout=Layout(width='max-content'), options=(('Stratified sampling', 0),…"
      ]
     },
     "metadata": {},
     "output_type": "display_data"
    }
   ],
   "source": [
    "if __name__ == \"__main__\":\n",
    "    display(L6P5Q1)"
   ]
  },
  {
   "cell_type": "markdown",
   "id": "789ac406-049b-4867-8a39-6f73023b2213",
   "metadata": {},
   "source": [
    "## Page 6"
   ]
  },
  {
   "cell_type": "code",
   "execution_count": 70,
   "id": "6689f10e-2767-4c73-b578-c8a6d1d09dea",
   "metadata": {},
   "outputs": [],
   "source": [
    "L6P6Q1 = MC('1. A financial auditor has 6,000 accounts receivable that need auditing. She wants to audit 50 of the accounts, so she calculates that 50 / 6,000 is 120. She randomly selects a starting point of 85 and then selects every 120th account after that. Thus, her total sample size is 50 accounts. What type of sampling is this?',['Stratified sampling','Cluster sampling','Systematic sampling', 'Simple random sampling'],'Systematic sampling', cor='This is systematic sampling because the starting point is identified, and then every nth thing is selected.', incor='')"
   ]
  },
  {
   "cell_type": "code",
   "execution_count": 71,
   "id": "7cbb7b3a-6e00-473b-8031-1174187867e8",
   "metadata": {},
   "outputs": [
    {
     "data": {
      "application/vnd.jupyter.widget-view+json": {
       "model_id": "0f31f42faa4a47e9866f4004cf23c6c0",
       "version_major": 2,
       "version_minor": 0
      },
      "text/plain": [
       "VBox(children=(Output(), RadioButtons(layout=Layout(width='max-content'), options=(('Stratified sampling', 0),…"
      ]
     },
     "metadata": {},
     "output_type": "display_data"
    }
   ],
   "source": [
    "if __name__ == \"__main__\":\n",
    "    display(L6P6Q1)"
   ]
  },
  {
   "cell_type": "markdown",
   "id": "37075aa6-65a9-41d9-9a4f-bf3bc5485869",
   "metadata": {},
   "source": [
    "## Page 7"
   ]
  },
  {
   "cell_type": "code",
   "execution_count": 72,
   "id": "07edad15-7169-43bd-bb68-a220db082c4d",
   "metadata": {},
   "outputs": [],
   "source": [
    "L6P7Q1 = MC('1. A financial auditor has to audit 6,000 accounts receivable. She has all of the account files on a single sub-directory on her computer, so she sorts them from smallest file to largest file. Experience tells her that the smaller files are usually less messy. She then takes the 50 smallest files and audits those because she has better things to do than this audit. What type of sampling is this?',['Stratified sampling','Cluster sampling','Systematic sampling', 'Simple random sampling', 'Convenience sampling'],'Convenience sampling', cor='This is easy, or convenient, for the auditor because it is the 50 smallest files. There is no systematic way of choosing files, so this is convenience sampling.',incor='')"
   ]
  },
  {
   "cell_type": "code",
   "execution_count": 73,
   "id": "ae04f94e-14b6-49cf-b115-ab848ecc304a",
   "metadata": {},
   "outputs": [
    {
     "data": {
      "application/vnd.jupyter.widget-view+json": {
       "model_id": "0e0ce3ad66c14ba3b02c0725f0e64b32",
       "version_major": 2,
       "version_minor": 0
      },
      "text/plain": [
       "VBox(children=(Output(), RadioButtons(layout=Layout(width='max-content'), options=(('Stratified sampling', 0),…"
      ]
     },
     "metadata": {},
     "output_type": "display_data"
    }
   ],
   "source": [
    "if __name__ == \"__main__\":\n",
    "    display(L6P7Q1)"
   ]
  },
  {
   "cell_type": "markdown",
   "id": "824dd473-4659-4423-9c13-db5d2f443e1e",
   "metadata": {},
   "source": [
    "## Page 8"
   ]
  },
  {
   "cell_type": "code",
   "execution_count": 74,
   "id": "0638f80b-ba48-4202-abbf-ffdfcfc137fa",
   "metadata": {},
   "outputs": [],
   "source": [
    "L6P8Q1 = MC('1. Which sampling strategy is the least rigorous and yet the most common?',['Stratified Sampling','Simple Random Sampling','Cluster Sampling', 'Convenience Sampling'],'Convenience Sampling', cor='Convenience sampling happens often but isn\\'t a robust design because there isn\\'t a rationale for choosing data.', incor='')"
   ]
  },
  {
   "cell_type": "code",
   "execution_count": 75,
   "id": "f596a3d0-599a-4351-899b-366ec0b2e01f",
   "metadata": {},
   "outputs": [
    {
     "data": {
      "application/vnd.jupyter.widget-view+json": {
       "model_id": "a47b08cc68474ac58f1d9351b7766452",
       "version_major": 2,
       "version_minor": 0
      },
      "text/plain": [
       "VBox(children=(Output(), RadioButtons(layout=Layout(width='max-content'), options=(('Stratified Sampling', 0),…"
      ]
     },
     "metadata": {},
     "output_type": "display_data"
    }
   ],
   "source": [
    "if __name__ == \"__main__\":\n",
    "    display(L6P8Q1)"
   ]
  },
  {
   "cell_type": "markdown",
   "id": "a2977bac-cdaa-4c4f-9d96-c32444f9e445",
   "metadata": {},
   "source": [
    "## Page 9"
   ]
  },
  {
   "cell_type": "code",
   "execution_count": 76,
   "id": "2f203a77-eb11-48ef-b15c-b8194b9ca3f4",
   "metadata": {},
   "outputs": [],
   "source": [
    "L6P9Q1 = MultipleChoice('1. Which of the following is not a good reason for sampling?',['It helps you estimate the population','It is cheaper than looking at the whole population','You can make up data if you are sampling', 'You can develop confidence intervals for our estimates', 'You usually get results faster'],'You can make up data if you are sampling')\n",
    "L6P9Q2 = MC('2. Which method of sampling is least reliable?',['Stratified sampling','Cluster sampling','Simple random sampling', 'Systematic sampling', 'Convenience sampling'],'Convenience sampling', cor=\"Convenience sampling does not follow a routine method, so the possibility of bias is high.\", incor='')\n",
    "L6P9Q3 = MC('3. Which method of sampling is the most reliable?',['Stratified sampling','Cluster sampling','Simple random sampling', 'Systematic sampling', 'Convenience sampling'],'Simple random sampling', cor='When you are simple random sampling, you are making every effort to reduce bias.', incor='')"
   ]
  },
  {
   "cell_type": "code",
   "execution_count": 77,
   "id": "4bae0048-4708-4789-b1f9-a00712433710",
   "metadata": {},
   "outputs": [
    {
     "data": {
      "application/vnd.jupyter.widget-view+json": {
       "model_id": "c1a9faad2ab548e6ad4224613ee742db",
       "version_major": 2,
       "version_minor": 0
      },
      "text/plain": [
       "VBox(children=(Output(), RadioButtons(layout=Layout(width='max-content'), options=(('It helps you estimate the…"
      ]
     },
     "metadata": {},
     "output_type": "display_data"
    },
    {
     "data": {
      "application/vnd.jupyter.widget-view+json": {
       "model_id": "d960ed7d9458433fa11c6bcd7a875b25",
       "version_major": 2,
       "version_minor": 0
      },
      "text/plain": [
       "VBox(children=(Output(), RadioButtons(layout=Layout(width='max-content'), options=(('Stratified sampling', 0),…"
      ]
     },
     "metadata": {},
     "output_type": "display_data"
    },
    {
     "data": {
      "application/vnd.jupyter.widget-view+json": {
       "model_id": "09cbc7fd45f14ce2a1f90b6195990ab5",
       "version_major": 2,
       "version_minor": 0
      },
      "text/plain": [
       "VBox(children=(Output(), RadioButtons(layout=Layout(width='max-content'), options=(('Stratified sampling', 0),…"
      ]
     },
     "metadata": {},
     "output_type": "display_data"
    }
   ],
   "source": [
    "if __name__ == \"__main__\":\n",
    "    display(L6P9Q1, L6P9Q2, L6P9Q3)"
   ]
  },
  {
   "cell_type": "markdown",
   "id": "5cf76658-e622-448e-9232-fa0cfee610fa",
   "metadata": {},
   "source": [
    "## Page 10"
   ]
  },
  {
   "cell_type": "code",
   "execution_count": 78,
   "id": "e80912ac-65c4-4e28-89e3-91fad904d88b",
   "metadata": {},
   "outputs": [],
   "source": [
    "L6P10Q1 = MultipleChoice('1. Which hypothesis always contains the \"=\" sign?',['The alternative hypothesis','The null hypothesis','Both the null and alternative hypotheses', 'The LaGuardia hypothesis'],'The null hypothesis')\n",
    "L6P10Q2 = MC('2. Which of the following is NOT a form the alternative hypothesis can take?',['Better than','Worse than','The same as', 'Different than'],'The same as', cor='\"The same as\" would be a form of the null, not the alternative, hypothesis.',incor='')\n",
    "L6P10Q3 = MultipleChoice('3. Ha is the symbol for the alternative hypothesis. \\nTrue or False?',['True','False'],'True')\n",
    "L6P10Q4 = MultipleChoice('4. What is the p value?',['The null hypothesis','The alternative hypothesis','The probability of having a value greater than or less than the test statistic', 'The alpha value'],'The probability of having a value greater than or less than the test statistic')\n",
    "L6P10Q5 = MultipleChoice('5. What does an alpha level of .01 mean?',['There is a 99% chance of accuracy','There is a 1% chance of error','There is a 99% chance of error', 'Both A & B are correct'],'Both A & B are correct')\n",
    "L6P10Q6 = MultipleChoice('6. If the p-value is less than alpha, what should you do?',['Accept the null hypothesis','Reject the alternative hypothesis','Fail to reject the null hypothesis', 'Reject the null hypothesis'],'Reject the null hypothesis')"
   ]
  },
  {
   "cell_type": "code",
   "execution_count": 79,
   "id": "6fd55939-0845-4a38-a661-b975f4b4c54c",
   "metadata": {},
   "outputs": [
    {
     "data": {
      "application/vnd.jupyter.widget-view+json": {
       "model_id": "3ee1a1b7431d4c658bdb71c46cbb6921",
       "version_major": 2,
       "version_minor": 0
      },
      "text/plain": [
       "VBox(children=(Output(), RadioButtons(layout=Layout(width='max-content'), options=(('The alternative hypothesi…"
      ]
     },
     "metadata": {},
     "output_type": "display_data"
    },
    {
     "data": {
      "application/vnd.jupyter.widget-view+json": {
       "model_id": "22139ab68e7d41af871f26d89d52debf",
       "version_major": 2,
       "version_minor": 0
      },
      "text/plain": [
       "VBox(children=(Output(), RadioButtons(layout=Layout(width='max-content'), options=(('Better than', 0), ('Worse…"
      ]
     },
     "metadata": {},
     "output_type": "display_data"
    },
    {
     "data": {
      "application/vnd.jupyter.widget-view+json": {
       "model_id": "9f366e91ed524c42a596808cad525e4d",
       "version_major": 2,
       "version_minor": 0
      },
      "text/plain": [
       "VBox(children=(Output(), RadioButtons(layout=Layout(width='max-content'), options=(('True', 0), ('False', 1)),…"
      ]
     },
     "metadata": {},
     "output_type": "display_data"
    },
    {
     "data": {
      "application/vnd.jupyter.widget-view+json": {
       "model_id": "4a04d82ef1214c46bad0a316e63df663",
       "version_major": 2,
       "version_minor": 0
      },
      "text/plain": [
       "VBox(children=(Output(), RadioButtons(layout=Layout(width='max-content'), options=(('The null hypothesis', 0),…"
      ]
     },
     "metadata": {},
     "output_type": "display_data"
    },
    {
     "data": {
      "application/vnd.jupyter.widget-view+json": {
       "model_id": "89c564979a024aed96720231ed24da41",
       "version_major": 2,
       "version_minor": 0
      },
      "text/plain": [
       "VBox(children=(Output(), RadioButtons(layout=Layout(width='max-content'), options=(('There is a 99% chance of …"
      ]
     },
     "metadata": {},
     "output_type": "display_data"
    },
    {
     "data": {
      "application/vnd.jupyter.widget-view+json": {
       "model_id": "dc18fe4dda3644c5b9dd2004e19843a1",
       "version_major": 2,
       "version_minor": 0
      },
      "text/plain": [
       "VBox(children=(Output(), RadioButtons(layout=Layout(width='max-content'), options=(('Accept the null hypothesi…"
      ]
     },
     "metadata": {},
     "output_type": "display_data"
    }
   ],
   "source": [
    "if __name__ == \"__main__\":\n",
    "    display(L6P10Q1, L6P10Q2, L6P10Q3, L6P10Q4, L6P10Q5, L6P10Q6)"
   ]
  },
  {
   "cell_type": "markdown",
   "id": "733aa33d-e0d3-4617-8e4a-9200cf692fac",
   "metadata": {},
   "source": [
    "## Page 11"
   ]
  },
  {
   "cell_type": "code",
   "execution_count": 80,
   "id": "22d30e11-436b-4599-a2e0-080988b9f548",
   "metadata": {},
   "outputs": [],
   "source": [
    "L6P11Q1 = MultipleChoice('1. What is a Type I error?',['It happens when you collect the wrong data','It happens when you don\\'t use the right formula for the standard deviation','It happens when the null is false, but you fail to reject it anyway', 'It happens when the null is true, but you reject it anyway'],'It happens when the null is true, but you reject it anyway')\n",
    "L6P11Q2 = MultipleChoice('2. What is a Type II error?',['It happens when you collect the wrong data','It happens when you don\\'t use the right formula for the standard deviation','It happens when the null is false, but you fail to reject it anyway', 'It happens when the null is true, but you reject it anyway'],'It happens when the null is false, but you fail to reject it anyway')"
   ]
  },
  {
   "cell_type": "code",
   "execution_count": 81,
   "id": "e3fcf824-826e-4828-b8ed-c0bd0a8c2d58",
   "metadata": {},
   "outputs": [
    {
     "data": {
      "application/vnd.jupyter.widget-view+json": {
       "model_id": "a0d4e5509ffc44a9a4db76e1cd7066f4",
       "version_major": 2,
       "version_minor": 0
      },
      "text/plain": [
       "VBox(children=(Output(), RadioButtons(layout=Layout(width='max-content'), options=(('It happens when you colle…"
      ]
     },
     "metadata": {},
     "output_type": "display_data"
    },
    {
     "data": {
      "application/vnd.jupyter.widget-view+json": {
       "model_id": "6fed620329244671b91693fe07bbeebf",
       "version_major": 2,
       "version_minor": 0
      },
      "text/plain": [
       "VBox(children=(Output(), RadioButtons(layout=Layout(width='max-content'), options=(('It happens when you colle…"
      ]
     },
     "metadata": {},
     "output_type": "display_data"
    }
   ],
   "source": [
    "if __name__ == \"__main__\":\n",
    "    display(L6P11Q1, L6P11Q2)"
   ]
  },
  {
   "cell_type": "markdown",
   "id": "88a76ee9-8361-421e-af87-e754e24fa380",
   "metadata": {},
   "source": [
    "## Page 12"
   ]
  },
  {
   "cell_type": "code",
   "execution_count": 82,
   "id": "044fe200-d797-4bb9-9fb7-b665e07f9fe8",
   "metadata": {},
   "outputs": [],
   "source": [
    "L6P12Q1 = MultipleChoice('1. If a defendant is guilty, but the jury finds him not guilty, is this an example of Type I or Type II error?',['Type I','Type II'],'Type II')\n",
    "L6P12Q2 = MultipleChoice('2. If a defendant is not guilty, but the jury finds him guilty, is this an example of Type I or Type II error?',['Type I','Type II'],'Type I')"
   ]
  },
  {
   "cell_type": "code",
   "execution_count": 83,
   "id": "fdf6ca00-dca6-4a94-9324-71e587dcf9b3",
   "metadata": {},
   "outputs": [
    {
     "data": {
      "application/vnd.jupyter.widget-view+json": {
       "model_id": "02937df9659442d5b589f692ed28baf4",
       "version_major": 2,
       "version_minor": 0
      },
      "text/plain": [
       "VBox(children=(Output(), RadioButtons(layout=Layout(width='max-content'), options=(('Type I', 0), ('Type II', …"
      ]
     },
     "metadata": {},
     "output_type": "display_data"
    },
    {
     "data": {
      "application/vnd.jupyter.widget-view+json": {
       "model_id": "af6c37b67e1d45dcb4d0c2b36cb0c452",
       "version_major": 2,
       "version_minor": 0
      },
      "text/plain": [
       "VBox(children=(Output(), RadioButtons(layout=Layout(width='max-content'), options=(('Type I', 0), ('Type II', …"
      ]
     },
     "metadata": {},
     "output_type": "display_data"
    }
   ],
   "source": [
    "if __name__ == \"__main__\":\n",
    "    display(L6P12Q1, L6P12Q2)"
   ]
  },
  {
   "cell_type": "markdown",
   "id": "a906d765-224d-47db-a665-14af3bd959f4",
   "metadata": {},
   "source": [
    "---\n",
    "## Lesson 6 Exam \n",
    "## Statistical Inference\n",
    "### Page 14\n",
    "\n",
    "Below is an exam to review the recently covered material. Please feel free to refer to your notes or the curriculum since you don't have to memorize everything in the real world - as long as you know where to find information!"
   ]
  },
  {
   "cell_type": "code",
   "execution_count": 84,
   "id": "492682f7-e9e6-4a03-a6d1-410b5fc6d775",
   "metadata": {},
   "outputs": [],
   "source": [
    "L6P14Q1 = MC('1. The following scenario is an example of what type of sampling? Shonda is doing some polling for an organization in her city. She starts at her neighbor\\'s house and begins knocking on doors until she has collected the necessary data.',['Cluster sampling','Simple Random sampling','Convenience sampling', 'Stratified sampling', 'Systematic sampling'],'Convenience sampling', cor='Since Shonda starts at her neighbor\\'s house, convenient and easy for her, this is convenience sampling.', incor='')\n",
    "L6P14Q2 = MC('2. The following scenario is an example of what type of sampling? At the Mars plant, a single candy bar is pulled for nutritional content testing out of every 300th batch.',['Cluster sampling','Simple Random sampling','Convenience sampling', 'Stratified sampling', 'Systematic sampling'],'Systematic sampling', cor='Since they are pulling every nth bar, this is systematically done and thus systematic sampling.', incor='')\n",
    "L6P14Q3 = MC('3. The following scenario is an example of what type of sampling? A new testing method is being investigated at Timpview High School. The investigation will sample all students in the 3rd period American History class and the 5th-period Geography class.',['Cluster sampling','Simple Random sampling','Convenience sampling', 'Stratified sampling', 'Systematic sampling'],'Cluster sampling', cor='The high school is being broken into groups, or clusters, by class. Everyone in the entire class is a part of the sample, so this is cluster sampling.', incor='')\n",
    "L6P14Q4 = MC('4. The following scenario is an example of what type of sampling? A company is interested in the amount of time a customer spends on their website. When the visit starts, the number generator creates a random number from 1 to 50. If the number generated is 50, then the visit details are recorded, but otherwise, they are not.',['Cluster sampling','Simple random sampling','Convenience sampling', 'Stratified sampling', 'Systematic sampling'],'Simple random sampling', cor='Since there is a random number generator, and customers are assigned a random number, this is simple random sampling.', incor='')\n",
    "L6P14Q5 = MC('5. The following scenario is an example of what type of sampling?',['Cluster sampling','Simple Random sampling','Convenience sampling', 'Stratified sampling', 'Systematic sampling'],'Convenience sampling', cor='Since there is no set plan for sampling, and the police department gives tickets/warnings nearby, this is convenience sampling.', incor='')\n",
    "\n",
    "L6P14Q6 = MC('6. The following scenario is an example of what type of sampling? A fertilizer is being tested on crops eighteen different planted plots of land with barley and the fertilizer. Scientists use 3 of the plots (selected randomly).',['Cluster sampling','Simple Random sampling','Convenience sampling', 'Stratified sampling', 'Systematic sampling'],'Simple Random sampling', cor='Since the three plots were selected randomly, this is simple random sampling.', incor='')\n",
    "L6P14Q7 = MC('7. The following scenario is an example of what type of sampling? People in Europe are asked about whether they agree with a new monetary policy. All 22 European countries will participate in the survey, and the number of people surveyed in each country is proportional to the population in that country.',['Cluster sampling','Simple Random sampling','Convenience sampling', 'Stratified sampling','Systematic sampling'],'Stratified sampling', cor='The strata, or groups, are the countries. Since they are trying to get a proportional sample, this is stratified sampling.', incor='')\n",
    "L6P14Q8 = MC('8. The following scenario is an example of what type of sampling? A packaging facility puts digital desk clocks into clamshell packages and then welds them shut. Then, they pull every 40th package to do a visual inspection on the welds.',['Cluster sampling','Simple Random sampling','Convenience sampling', 'Stratified sampling', 'Systematic sampling'],'Systematic sampling', cor='Because they inspect every 40th package, this is systematic sampling.', incor='')\n",
    "L6P14Q9 = MultipleChoice('9. Which is bigger?',['Population','Sample'],'Population')\n",
    "L6P14Q10 = MultipleChoice('10. What is meant by the phrase \"convenience sample?\"',['It means you do what is convenient for the people you are surveying, such as talk to them when they are available, etc.','It means you use a convenient source for your randomization','It means you should use an app on your phone to select your sample', 'It means that you grab whatever is easily available to create your sample, without worrying about whether it is representative of the population'],'It means that you grab whatever is easily available to create your sample, without worrying about whether it is representative of the population')\n",
    "\n",
    "L6P14Q11 = MultipleChoice('11. Which hypothesis makes a statement of equality?',['The alternative hypothesis','The null hypothesis','Either one can; it just depends on what you are trying to prove', 'Equality cannot be proven, so it doesn\\'t matter which one contains the statement of equality'],'The null hypothesis')\n",
    "L6P14Q12 = MultipleChoice('12. How do the p value and alpha relate to each other?',['Calculate the p value using alpha','If the p value is less than alpha; reject the null hypothesis','If the p value is greater than alpha; reject the null hypothesis', 'If the p value is greater than alpha; accept the null hypothesis', 'Both B & D are correct'],'Both B & D are correct')\n",
    "L6P14Q13 = MultipleChoice('13. What is a type II error?',['The null is true; fail to reject it','The null is true; reject it','The null is false; fail to reject it', 'The null is false; reject it'],'The null is false; fail to reject it')\n",
    "L6P14Q14 = MultipleChoice('14. What is a type I error?',['The null is true; fail to reject it','The null is true; reject it','The null is false; fail to reject it', 'The null is false; reject it'],'The null is true; reject it')\n",
    "L6P14Q15 = MultipleChoice('15. Which of the following is NOT a way in which you can state the alternative hypothesis?',['A and B are not equal','A is greater than B','A and B are equal', 'A is less than B'],'A and B are equal')\n",
    "\n",
    "L6P14Q16 = MultipleChoice('16. True or false? The greater your alpha, the larger the possibility for error.',['True','False'],'True')\n",
    "L6P14Q17 = MultipleChoice('17. True or false? You should assume alpha is .05 unless told otherwise.',['True','False'],'True')"
   ]
  },
  {
   "cell_type": "code",
   "execution_count": 85,
   "id": "72c62c85-08c0-4635-b72e-887dacea9667",
   "metadata": {},
   "outputs": [
    {
     "data": {
      "application/vnd.jupyter.widget-view+json": {
       "model_id": "3200b8e615fc49cd92a815eb50efcddf",
       "version_major": 2,
       "version_minor": 0
      },
      "text/plain": [
       "VBox(children=(Output(), RadioButtons(layout=Layout(width='max-content'), options=(('Cluster sampling', 0), ('…"
      ]
     },
     "metadata": {},
     "output_type": "display_data"
    },
    {
     "data": {
      "application/vnd.jupyter.widget-view+json": {
       "model_id": "d18daa92b5314950ac7658292e1c9ed5",
       "version_major": 2,
       "version_minor": 0
      },
      "text/plain": [
       "VBox(children=(Output(), RadioButtons(layout=Layout(width='max-content'), options=(('Cluster sampling', 0), ('…"
      ]
     },
     "metadata": {},
     "output_type": "display_data"
    },
    {
     "data": {
      "application/vnd.jupyter.widget-view+json": {
       "model_id": "667bbb10d9454b2db9322620589d65ab",
       "version_major": 2,
       "version_minor": 0
      },
      "text/plain": [
       "VBox(children=(Output(), RadioButtons(layout=Layout(width='max-content'), options=(('Cluster sampling', 0), ('…"
      ]
     },
     "metadata": {},
     "output_type": "display_data"
    },
    {
     "data": {
      "application/vnd.jupyter.widget-view+json": {
       "model_id": "e06d023589e1469b9e84e52eb3be50fa",
       "version_major": 2,
       "version_minor": 0
      },
      "text/plain": [
       "VBox(children=(Output(), RadioButtons(layout=Layout(width='max-content'), options=(('Cluster sampling', 0), ('…"
      ]
     },
     "metadata": {},
     "output_type": "display_data"
    },
    {
     "data": {
      "application/vnd.jupyter.widget-view+json": {
       "model_id": "78501f54c42b41689d403010ba93d74b",
       "version_major": 2,
       "version_minor": 0
      },
      "text/plain": [
       "VBox(children=(Output(), RadioButtons(layout=Layout(width='max-content'), options=(('Cluster sampling', 0), ('…"
      ]
     },
     "metadata": {},
     "output_type": "display_data"
    },
    {
     "data": {
      "application/vnd.jupyter.widget-view+json": {
       "model_id": "e75d4e4904d84643bac66a7eefa6f7ae",
       "version_major": 2,
       "version_minor": 0
      },
      "text/plain": [
       "VBox(children=(Output(), RadioButtons(layout=Layout(width='max-content'), options=(('Cluster sampling', 0), ('…"
      ]
     },
     "metadata": {},
     "output_type": "display_data"
    },
    {
     "data": {
      "application/vnd.jupyter.widget-view+json": {
       "model_id": "0946a73740ec4aca849237f53a84835b",
       "version_major": 2,
       "version_minor": 0
      },
      "text/plain": [
       "VBox(children=(Output(), RadioButtons(layout=Layout(width='max-content'), options=(('Cluster sampling', 0), ('…"
      ]
     },
     "metadata": {},
     "output_type": "display_data"
    },
    {
     "data": {
      "application/vnd.jupyter.widget-view+json": {
       "model_id": "b36b58977dc8417faa1c9dcc4698a863",
       "version_major": 2,
       "version_minor": 0
      },
      "text/plain": [
       "VBox(children=(Output(), RadioButtons(layout=Layout(width='max-content'), options=(('Cluster sampling', 0), ('…"
      ]
     },
     "metadata": {},
     "output_type": "display_data"
    },
    {
     "data": {
      "application/vnd.jupyter.widget-view+json": {
       "model_id": "03a538a6019d43b494ca05a908488890",
       "version_major": 2,
       "version_minor": 0
      },
      "text/plain": [
       "VBox(children=(Output(), RadioButtons(layout=Layout(width='max-content'), options=(('Population', 0), ('Sample…"
      ]
     },
     "metadata": {},
     "output_type": "display_data"
    },
    {
     "data": {
      "application/vnd.jupyter.widget-view+json": {
       "model_id": "78cc2cdbe18f49ffb2b6a9d9f8b75c68",
       "version_major": 2,
       "version_minor": 0
      },
      "text/plain": [
       "VBox(children=(Output(), RadioButtons(layout=Layout(width='max-content'), options=(('It means you do what is c…"
      ]
     },
     "metadata": {},
     "output_type": "display_data"
    },
    {
     "data": {
      "application/vnd.jupyter.widget-view+json": {
       "model_id": "3d38e0a9b205461ab8d41575a8b42935",
       "version_major": 2,
       "version_minor": 0
      },
      "text/plain": [
       "VBox(children=(Output(), RadioButtons(layout=Layout(width='max-content'), options=(('The alternative hypothesi…"
      ]
     },
     "metadata": {},
     "output_type": "display_data"
    },
    {
     "data": {
      "application/vnd.jupyter.widget-view+json": {
       "model_id": "a942fb3d41184300b6e2b8f1b865a4f9",
       "version_major": 2,
       "version_minor": 0
      },
      "text/plain": [
       "VBox(children=(Output(), RadioButtons(layout=Layout(width='max-content'), options=(('Calculate the p value usi…"
      ]
     },
     "metadata": {},
     "output_type": "display_data"
    },
    {
     "data": {
      "application/vnd.jupyter.widget-view+json": {
       "model_id": "08a46d70e95142bbb0a22f692ec2c97f",
       "version_major": 2,
       "version_minor": 0
      },
      "text/plain": [
       "VBox(children=(Output(), RadioButtons(layout=Layout(width='max-content'), options=(('The null is true; fail to…"
      ]
     },
     "metadata": {},
     "output_type": "display_data"
    },
    {
     "data": {
      "application/vnd.jupyter.widget-view+json": {
       "model_id": "5153b58c349a4a6bb6006dc9f997afef",
       "version_major": 2,
       "version_minor": 0
      },
      "text/plain": [
       "VBox(children=(Output(), RadioButtons(layout=Layout(width='max-content'), options=(('The null is true; fail to…"
      ]
     },
     "metadata": {},
     "output_type": "display_data"
    },
    {
     "data": {
      "application/vnd.jupyter.widget-view+json": {
       "model_id": "04d056a0200947c2b0a6c8a3b30864e2",
       "version_major": 2,
       "version_minor": 0
      },
      "text/plain": [
       "VBox(children=(Output(), RadioButtons(layout=Layout(width='max-content'), options=(('A and B are not equal', 0…"
      ]
     },
     "metadata": {},
     "output_type": "display_data"
    },
    {
     "data": {
      "application/vnd.jupyter.widget-view+json": {
       "model_id": "53604ba8647242a99b03c96806c2c8c2",
       "version_major": 2,
       "version_minor": 0
      },
      "text/plain": [
       "VBox(children=(Output(), RadioButtons(layout=Layout(width='max-content'), options=(('True', 0), ('False', 1)),…"
      ]
     },
     "metadata": {},
     "output_type": "display_data"
    },
    {
     "data": {
      "application/vnd.jupyter.widget-view+json": {
       "model_id": "d7b04ed9d2fb4b0d8547e3a5913bb8ff",
       "version_major": 2,
       "version_minor": 0
      },
      "text/plain": [
       "VBox(children=(Output(), RadioButtons(layout=Layout(width='max-content'), options=(('True', 0), ('False', 1)),…"
      ]
     },
     "metadata": {},
     "output_type": "display_data"
    }
   ],
   "source": [
    "if __name__ == \"__main__\":\n",
    "    display(L6P14Q1, L6P14Q2, L6P14Q3, L6P14Q4, L6P14Q5, L6P14Q6, L6P14Q7, L6P14Q8, L6P14Q9, L6P14Q10, L6P14Q11, L6P14Q12, L6P14Q13, L6P14Q14, L6P14Q15, L6P14Q16,L6P14Q17)"
   ]
  },
  {
   "cell_type": "markdown",
   "id": "ec284eec-d5bd-4132-9a20-35865ac99660",
   "metadata": {},
   "source": [
    "## Lesson 7\n",
    "\n",
    "## Page 2"
   ]
  },
  {
   "cell_type": "code",
   "execution_count": 86,
   "id": "803692ec-e78d-49e2-99ba-1e3923b5500b",
   "metadata": {},
   "outputs": [],
   "source": [
    "L7P2Q1 = MC('1. In which distribution type could you select 7.21?',['Discrete','Continuous'],'Continuous', cor='7.21 is continuous because there is a decimal point after the 7.', incor='')\n",
    "L7P2Q2 = MultipleChoice('2. True or False: In a continuous uniform distribution, the mean and the median are the same.',['True','False'],'True')"
   ]
  },
  {
   "cell_type": "code",
   "execution_count": 87,
   "id": "84b54e3a-517a-4da3-a91d-687c59340536",
   "metadata": {},
   "outputs": [
    {
     "data": {
      "application/vnd.jupyter.widget-view+json": {
       "model_id": "da7a97f306394cc1bcbf51673a5e68eb",
       "version_major": 2,
       "version_minor": 0
      },
      "text/plain": [
       "VBox(children=(Output(), RadioButtons(layout=Layout(width='max-content'), options=(('Discrete', 0), ('Continuo…"
      ]
     },
     "metadata": {},
     "output_type": "display_data"
    },
    {
     "data": {
      "application/vnd.jupyter.widget-view+json": {
       "model_id": "dc7a83a15b2c45ae8855d1410cf88b28",
       "version_major": 2,
       "version_minor": 0
      },
      "text/plain": [
       "VBox(children=(Output(), RadioButtons(layout=Layout(width='max-content'), options=(('True', 0), ('False', 1)),…"
      ]
     },
     "metadata": {},
     "output_type": "display_data"
    }
   ],
   "source": [
    "if __name__ == \"__main__\":\n",
    "    display(L7P2Q1, L7P2Q2)"
   ]
  },
  {
   "cell_type": "markdown",
   "id": "cc6373ec-41e9-41ba-a00c-2bc1ff27e2ef",
   "metadata": {},
   "source": [
    "## Page 3"
   ]
  },
  {
   "cell_type": "code",
   "execution_count": 88,
   "id": "9e5e2b87-9d07-4b63-9d34-63640e528e01",
   "metadata": {},
   "outputs": [],
   "source": [
    "L7P3Q1 = MultipleChoice('1. When using a binomial distribution, there are only two outcomes. \\nTrue or False?',['True','False'],'True')\n",
    "L7P3Q2 = MC('2. When using a multinomial distribution, there are only two outcomes. True or False?',['True','False'],'False', cor='A multinomial distribution can have more than two outcomes.', incor='')"
   ]
  },
  {
   "cell_type": "code",
   "execution_count": 89,
   "id": "b7346e9f-f7da-434c-867f-5d8a7729f2b4",
   "metadata": {},
   "outputs": [
    {
     "data": {
      "application/vnd.jupyter.widget-view+json": {
       "model_id": "f812d476cf284e58b24c5c06831a2c71",
       "version_major": 2,
       "version_minor": 0
      },
      "text/plain": [
       "VBox(children=(Output(), RadioButtons(layout=Layout(width='max-content'), options=(('True', 0), ('False', 1)),…"
      ]
     },
     "metadata": {},
     "output_type": "display_data"
    },
    {
     "data": {
      "application/vnd.jupyter.widget-view+json": {
       "model_id": "925e2123e9544a52ab1580a5437d9c54",
       "version_major": 2,
       "version_minor": 0
      },
      "text/plain": [
       "VBox(children=(Output(), RadioButtons(layout=Layout(width='max-content'), options=(('True', 0), ('False', 1)),…"
      ]
     },
     "metadata": {},
     "output_type": "display_data"
    }
   ],
   "source": [
    "if __name__ == \"__main__\":\n",
    "    display(L7P3Q1, L7P3Q2)"
   ]
  },
  {
   "cell_type": "markdown",
   "id": "4c6ad3e3-1bfe-43e0-82a2-c0894130c0c2",
   "metadata": {},
   "source": [
    "## Page 5"
   ]
  },
  {
   "cell_type": "code",
   "execution_count": 90,
   "id": "15d62e3d-31ba-4279-90ff-22bed3a355cb",
   "metadata": {},
   "outputs": [],
   "source": [
    "L7P5Q1 = MC('1. Given the following data and an expected population mean of 80, calculate the t-score:',['0.926','1.132','0.803', '1.384'],'0.926', cor='You can use the single sample t-test formula for this problem. Calculate the sample mean in MS Excel using the formula =average(), then the sample standard deviation using the formula =stdev.s(). Then you can plug everything into the formula like this: (80.47 - 80) / (1.69 / sqrt(11))', incor='')\n",
    "L7P5Q2 = MC('2. Using the Student\\'s t probability applet, and highlighting both the left tail and the right tail, determine the probability associated with your answer for the t-score:',['0.390','0.374','0.376', '0.284'],'0.376', cor='Use the t probability applet to enter in the t score you calculated in the last problem. Then put in the degrees of freedom at the top, which is the sample size (number of rows) - 1. So enter the degrees of freedom as 10 (11 - 1)', incor='')"
   ]
  },
  {
   "cell_type": "code",
   "execution_count": 91,
   "id": "a84f41f4-1ccb-4e06-bf46-62a6e99692ee",
   "metadata": {},
   "outputs": [
    {
     "data": {
      "application/vnd.jupyter.widget-view+json": {
       "model_id": "65ef94e2b623498c9fc6bb3ac548a2df",
       "version_major": 2,
       "version_minor": 0
      },
      "text/plain": [
       "VBox(children=(Output(), RadioButtons(layout=Layout(width='max-content'), options=(('0.926', 0), ('1.132', 1),…"
      ]
     },
     "metadata": {},
     "output_type": "display_data"
    },
    {
     "data": {
      "application/vnd.jupyter.widget-view+json": {
       "model_id": "2b7c4c09445e4f0fabd42533bbe88962",
       "version_major": 2,
       "version_minor": 0
      },
      "text/plain": [
       "VBox(children=(Output(), RadioButtons(layout=Layout(width='max-content'), options=(('0.390', 0), ('0.374', 1),…"
      ]
     },
     "metadata": {},
     "output_type": "display_data"
    }
   ],
   "source": [
    "if __name__ == \"__main__\":\n",
    "    display(L7P5Q1, L7P5Q2)"
   ]
  },
  {
   "cell_type": "markdown",
   "id": "b92288af-651d-4d68-8a0f-4976867b6c70",
   "metadata": {},
   "source": [
    "## Page 6"
   ]
  },
  {
   "cell_type": "code",
   "execution_count": 92,
   "id": "ce792966-48ca-4741-abee-bdaeb35129ad",
   "metadata": {},
   "outputs": [],
   "source": [
    "L7P6Q1 = MC('1. Pre-test and post-test on the same person Is this data paired?',['Yes','No'],'Yes', cor='The data is paired because you have data on the same person.', incor='')\n",
    "L7P6Q2 = MC('2. Pre-test and post-test, using different people \\nIs this data paired?',['Yes','No'],'No', cor='Because you are using different people, the data is not paired.', incor='')\n",
    "L7P6Q3 = MC('3. Soil samples from the same field \\nIs this data paired?',['Yes','No'],'Yes', cor='The data is paired because you have data from the same field.', incor='')\n",
    "L7P6Q4 = MC('4. Soil samples from the different states \\nIs this data paired?',['Yes','No'],'No', cor='Because you are using different states, the data is not paired.', incor='')"
   ]
  },
  {
   "cell_type": "code",
   "execution_count": 93,
   "id": "57d59b34-4515-47bd-864c-2deac08f9af7",
   "metadata": {},
   "outputs": [
    {
     "data": {
      "application/vnd.jupyter.widget-view+json": {
       "model_id": "8a4896da248e45e7860f1134f41a1f3d",
       "version_major": 2,
       "version_minor": 0
      },
      "text/plain": [
       "VBox(children=(Output(), RadioButtons(layout=Layout(width='max-content'), options=(('Yes', 0), ('No', 1)), val…"
      ]
     },
     "metadata": {},
     "output_type": "display_data"
    },
    {
     "data": {
      "application/vnd.jupyter.widget-view+json": {
       "model_id": "37cc970d5da6404a9fbfa11528bb931f",
       "version_major": 2,
       "version_minor": 0
      },
      "text/plain": [
       "VBox(children=(Output(), RadioButtons(layout=Layout(width='max-content'), options=(('Yes', 0), ('No', 1)), val…"
      ]
     },
     "metadata": {},
     "output_type": "display_data"
    },
    {
     "data": {
      "application/vnd.jupyter.widget-view+json": {
       "model_id": "ac3814df26304a8b81de4401cb20771f",
       "version_major": 2,
       "version_minor": 0
      },
      "text/plain": [
       "VBox(children=(Output(), RadioButtons(layout=Layout(width='max-content'), options=(('Yes', 0), ('No', 1)), val…"
      ]
     },
     "metadata": {},
     "output_type": "display_data"
    },
    {
     "data": {
      "application/vnd.jupyter.widget-view+json": {
       "model_id": "d125e6f655374808a546a2739d4197d4",
       "version_major": 2,
       "version_minor": 0
      },
      "text/plain": [
       "VBox(children=(Output(), RadioButtons(layout=Layout(width='max-content'), options=(('Yes', 0), ('No', 1)), val…"
      ]
     },
     "metadata": {},
     "output_type": "display_data"
    }
   ],
   "source": [
    "if __name__ == \"__main__\":\n",
    "    display(L7P6Q1, L7P6Q2, L7P6Q3, L7P6Q4)"
   ]
  },
  {
   "cell_type": "markdown",
   "id": "ae761e70-329a-4c25-b1fc-fd835695954c",
   "metadata": {},
   "source": [
    "## Page 7"
   ]
  },
  {
   "cell_type": "code",
   "execution_count": 94,
   "id": "854af8ae-6937-47ec-b940-374970c8de14",
   "metadata": {},
   "outputs": [],
   "source": [
    "L7P7Q1 = MultipleChoice('1. What is D-bar?',['The mean','The difference','The mean of the differences between scores', 'The standard deviation of the difference'],'The mean of the differences between scores')\n",
    "L7P7Q2 = MultipleChoice('2. When would you reject the null hypothesis?',['When the p value is less than .05','When the p value is greater than .05'],'When the p value is less than .05')\n",
    "L7P7Q3 = MultipleChoice('3. If the p value is less than .05, how would you interpret the findings of a two-tailed dependent t test?',['There is not a significant difference between individual scores','There is a significant difference between individual scores','There is not a significant difference between the paired group means', 'There is a significant difference between the paired group means'],'There is a significant difference between the paired group means')"
   ]
  },
  {
   "cell_type": "code",
   "execution_count": 95,
   "id": "3c2cc75c-7d5a-4fcb-9d06-9d4c13bfd176",
   "metadata": {},
   "outputs": [
    {
     "data": {
      "application/vnd.jupyter.widget-view+json": {
       "model_id": "28c39c4b6b124e9eae77e322aa65232a",
       "version_major": 2,
       "version_minor": 0
      },
      "text/plain": [
       "VBox(children=(Output(), RadioButtons(layout=Layout(width='max-content'), options=(('The mean', 0), ('The diff…"
      ]
     },
     "metadata": {},
     "output_type": "display_data"
    },
    {
     "data": {
      "application/vnd.jupyter.widget-view+json": {
       "model_id": "b92d102c41be4845b10acd90d04fd8ad",
       "version_major": 2,
       "version_minor": 0
      },
      "text/plain": [
       "VBox(children=(Output(), RadioButtons(layout=Layout(width='max-content'), options=(('When the p value is less …"
      ]
     },
     "metadata": {},
     "output_type": "display_data"
    },
    {
     "data": {
      "application/vnd.jupyter.widget-view+json": {
       "model_id": "01a60297b9d64e4488af82d8fc9c8b42",
       "version_major": 2,
       "version_minor": 0
      },
      "text/plain": [
       "VBox(children=(Output(), RadioButtons(layout=Layout(width='max-content'), options=(('There is not a significan…"
      ]
     },
     "metadata": {},
     "output_type": "display_data"
    }
   ],
   "source": [
    "if __name__ == \"__main__\":\n",
    "    display(L7P7Q1, L7P7Q2, L7P7Q3)"
   ]
  },
  {
   "cell_type": "markdown",
   "id": "08080185-ea6b-46b1-8154-92824c8ae506",
   "metadata": {},
   "source": [
    "## Page 8"
   ]
  },
  {
   "cell_type": "code",
   "execution_count": 96,
   "id": "506eab9c-dc1f-4290-b16c-235eb30be889",
   "metadata": {},
   "outputs": [],
   "source": [
    "L7P8Q1 = MultipleChoice('1. What is the advantage of using effect size instead of the p value to interpret results?',['Effect size isn\\'t dependent on sample size','It is easier to calculate','It is used by fewer people'],'Effect size isn\\'t dependent on sample size')\n",
    "L7P8Q2 = MC('2. You measure the weights of tomatoes grown from the same vine, compute the dependent t test, and then create an effect size of Cohen\\'s d = .37. What is the size of this effect?',['Small','Medium','Large'],'Medium', cor='A medium effect size is from .3 - .5', incor='')\n",
    "L7P8Q3 = MultipleChoice('3. What does effect size represent?',['Sample size','A significant difference between means','How meaningful the difference between means is', 'Whether there is a meaningful difference between means'],'How meaningful the difference between means is')"
   ]
  },
  {
   "cell_type": "code",
   "execution_count": 97,
   "id": "93cd3e0c-b8b1-43e3-9346-088caa609401",
   "metadata": {},
   "outputs": [
    {
     "data": {
      "application/vnd.jupyter.widget-view+json": {
       "model_id": "d3687d40e4f740339978fc00620b5549",
       "version_major": 2,
       "version_minor": 0
      },
      "text/plain": [
       "VBox(children=(Output(), RadioButtons(layout=Layout(width='max-content'), options=((\"Effect size isn't depende…"
      ]
     },
     "metadata": {},
     "output_type": "display_data"
    },
    {
     "data": {
      "application/vnd.jupyter.widget-view+json": {
       "model_id": "2384054aa88b4330942d3c2486b1b276",
       "version_major": 2,
       "version_minor": 0
      },
      "text/plain": [
       "VBox(children=(Output(), RadioButtons(layout=Layout(width='max-content'), options=(('Small', 0), ('Medium', 1)…"
      ]
     },
     "metadata": {},
     "output_type": "display_data"
    },
    {
     "data": {
      "application/vnd.jupyter.widget-view+json": {
       "model_id": "d7a88e4f207542ca9f94511cf6e4b4b6",
       "version_major": 2,
       "version_minor": 0
      },
      "text/plain": [
       "VBox(children=(Output(), RadioButtons(layout=Layout(width='max-content'), options=(('Sample size', 0), ('A sig…"
      ]
     },
     "metadata": {},
     "output_type": "display_data"
    }
   ],
   "source": [
    "if __name__ == \"__main__\":\n",
    "    display(L7P8Q1, L7P8Q2, L7P8Q3)"
   ]
  },
  {
   "cell_type": "markdown",
   "id": "c8a3484d-2b07-49b6-a759-54d2a6faf169",
   "metadata": {},
   "source": [
    "## Page 9"
   ]
  },
  {
   "cell_type": "code",
   "execution_count": 98,
   "id": "81f5943b-ed34-4832-be8a-e456704adb42",
   "metadata": {},
   "outputs": [],
   "source": [
    "L7P9Q1 = MultipleChoice('1. What type should you choose for a dependent t-test in MS Excel?',['1','2','3'],'1')\n",
    "L7P9Q2 = MultipleChoice('2. What results from using the formula =t.test() in MS Excel?',['Mean differences','Standard deviation of the mean differences','The p value', 'Degrees of freedom'],'The p value')"
   ]
  },
  {
   "cell_type": "code",
   "execution_count": 99,
   "id": "f140254f-7d9e-4180-acf6-dc3b153c2a6c",
   "metadata": {},
   "outputs": [
    {
     "data": {
      "application/vnd.jupyter.widget-view+json": {
       "model_id": "4d05d981ad7b478f9c9e16fe236d76fd",
       "version_major": 2,
       "version_minor": 0
      },
      "text/plain": [
       "VBox(children=(Output(), RadioButtons(layout=Layout(width='max-content'), options=(('1', 0), ('2', 1), ('3', 2…"
      ]
     },
     "metadata": {},
     "output_type": "display_data"
    },
    {
     "data": {
      "application/vnd.jupyter.widget-view+json": {
       "model_id": "0dea872fea464d69965b229bb9ed23c8",
       "version_major": 2,
       "version_minor": 0
      },
      "text/plain": [
       "VBox(children=(Output(), RadioButtons(layout=Layout(width='max-content'), options=(('Mean differences', 0), ('…"
      ]
     },
     "metadata": {},
     "output_type": "display_data"
    }
   ],
   "source": [
    "if __name__ == \"__main__\":\n",
    "    display(L7P9Q1, L7P9Q2)"
   ]
  },
  {
   "cell_type": "markdown",
   "id": "1204192e-208f-42c8-84e6-55514939f643",
   "metadata": {},
   "source": [
    "## Page 12"
   ]
  },
  {
   "cell_type": "code",
   "execution_count": 100,
   "id": "ff506737-7fa2-4e04-9dd1-f53ab4b7286b",
   "metadata": {},
   "outputs": [],
   "source": [
    "L7P12Q1 = MultipleChoice('1. When in doubt, assume equal variance. \\nIs the statement above True or False?',['True','False'],'False')"
   ]
  },
  {
   "cell_type": "code",
   "execution_count": 101,
   "id": "913724ca-f83f-471e-9e17-578b3443a42b",
   "metadata": {},
   "outputs": [
    {
     "data": {
      "application/vnd.jupyter.widget-view+json": {
       "model_id": "5f15e99446a644d19cd3980c6978fab6",
       "version_major": 2,
       "version_minor": 0
      },
      "text/plain": [
       "VBox(children=(Output(), RadioButtons(layout=Layout(width='max-content'), options=(('True', 0), ('False', 1)),…"
      ]
     },
     "metadata": {},
     "output_type": "display_data"
    }
   ],
   "source": [
    "if __name__ == \"__main__\":\n",
    "    display(L7P12Q1)"
   ]
  },
  {
   "cell_type": "markdown",
   "id": "436a1ea8-f333-4725-804b-3884f2259688",
   "metadata": {},
   "source": [
    "## Page 15"
   ]
  },
  {
   "cell_type": "code",
   "execution_count": 102,
   "id": "90878ada-753a-4ef4-a386-287ab4bd3d7d",
   "metadata": {},
   "outputs": [],
   "source": [
    "L7P15Q1 = MultipleChoice('1. What hypothesis testing can be done with the F-distribution?',['Analyses of Variance (ANOVAs)','Regression','Both A & B', 'None of the above'],'Both A & B')\n",
    "L7P15Q2 = MultipleChoice('2. A value of zero is impossible on the F-Distribution\\nTrue or False?',['True','False'],'True')"
   ]
  },
  {
   "cell_type": "code",
   "execution_count": 103,
   "id": "58e7e61d-6e91-4850-819d-f87abbdf7d37",
   "metadata": {},
   "outputs": [
    {
     "data": {
      "application/vnd.jupyter.widget-view+json": {
       "model_id": "524b1e1933104455b13ff99ef21a605b",
       "version_major": 2,
       "version_minor": 0
      },
      "text/plain": [
       "VBox(children=(Output(), RadioButtons(layout=Layout(width='max-content'), options=(('Analyses of Variance (ANO…"
      ]
     },
     "metadata": {},
     "output_type": "display_data"
    },
    {
     "data": {
      "application/vnd.jupyter.widget-view+json": {
       "model_id": "67d7c1b7e5264c78950d4284063c0100",
       "version_major": 2,
       "version_minor": 0
      },
      "text/plain": [
       "VBox(children=(Output(), RadioButtons(layout=Layout(width='max-content'), options=(('True', 0), ('False', 1)),…"
      ]
     },
     "metadata": {},
     "output_type": "display_data"
    }
   ],
   "source": [
    "if __name__ == \"__main__\":\n",
    "    display(L7P15Q1, L7P15Q2)"
   ]
  },
  {
   "cell_type": "markdown",
   "id": "33569495-ab99-4ac8-8b95-19fa82bb59ab",
   "metadata": {},
   "source": [
    "## Lesson 8\n",
    "\n",
    "## Page 2"
   ]
  },
  {
   "cell_type": "code",
   "execution_count": 104,
   "id": "f73c9cee-45f8-4722-8837-eb626b82750e",
   "metadata": {},
   "outputs": [],
   "source": [
    "L8P2Q1 = MultipleChoice('1. In what situation would you use a Poisson distribution?',['Looking at two related means','Looking at the probability of a categorical event with successes and failures','Looking at the probability of a categorical event with more than two categories', 'Looking at the number of events in a specific area or time'],'Looking at the number of events in a specific area or time')\n",
    "L8P2Q2 = MC('2. For which of these WOULD NOT be a Poisson situation?',['Number of cattle on 30 acres of land','Number of cars in a drive-thru in two hours','Temperature outside', 'Number of snowflakes on your windshield'],'Temperature outside',  cor='Because you are not specifying a window of time or an area for the data, you cannot use the Poisson distribution.', incor='')"
   ]
  },
  {
   "cell_type": "code",
   "execution_count": 105,
   "id": "fb6f9053-7d50-42e6-baa7-bc335a338fc2",
   "metadata": {},
   "outputs": [
    {
     "data": {
      "application/vnd.jupyter.widget-view+json": {
       "model_id": "a383ce5f58f54b6dadf265ad4ebb081a",
       "version_major": 2,
       "version_minor": 0
      },
      "text/plain": [
       "VBox(children=(Output(), RadioButtons(layout=Layout(width='max-content'), options=(('Looking at two related me…"
      ]
     },
     "metadata": {},
     "output_type": "display_data"
    },
    {
     "data": {
      "application/vnd.jupyter.widget-view+json": {
       "model_id": "900eff5ceac248118ce78b8f6beba970",
       "version_major": 2,
       "version_minor": 0
      },
      "text/plain": [
       "VBox(children=(Output(), RadioButtons(layout=Layout(width='max-content'), options=(('Number of cattle on 30 ac…"
      ]
     },
     "metadata": {},
     "output_type": "display_data"
    }
   ],
   "source": [
    "if __name__ == \"__main__\":\n",
    "    display(L8P2Q1, L8P2Q2)"
   ]
  },
  {
   "cell_type": "markdown",
   "id": "4d887c66-b562-4da5-bb1b-f50b6e88dd41",
   "metadata": {},
   "source": [
    "## Page 3"
   ]
  },
  {
   "cell_type": "code",
   "execution_count": 106,
   "id": "25dc776f-488b-4dd6-987b-595a3011f007",
   "metadata": {},
   "outputs": [],
   "source": [
    "L8P3Q1 = MultipleChoice('1. What is the difference between the Poisson and the exponential distribution?',['The Poisson distribution uses a continuous outcome, and exponential uses a continuous outcome','The Poisson distribution uses a discrete outcome, and exponential uses a continuous outcome','The Poisson distribution looks at outcomes in a chunk of time and space; exponential doesn\\'t', 'The exponential distribution looks at outcomes in a chunk of time and space; Poisson doesn\\'t'],'The Poisson distribution uses a discrete outcome, and exponential uses a continuous outcome')"
   ]
  },
  {
   "cell_type": "code",
   "execution_count": 107,
   "id": "f73b0252-694e-45a7-98d7-679fa8164198",
   "metadata": {},
   "outputs": [
    {
     "data": {
      "application/vnd.jupyter.widget-view+json": {
       "model_id": "099e73fe5b02419a9266ba33c39228c1",
       "version_major": 2,
       "version_minor": 0
      },
      "text/plain": [
       "VBox(children=(Output(), RadioButtons(layout=Layout(width='max-content'), options=(('The Poisson distribution …"
      ]
     },
     "metadata": {},
     "output_type": "display_data"
    }
   ],
   "source": [
    "if __name__ == \"__main__\":\n",
    "    display(L8P3Q1)"
   ]
  },
  {
   "cell_type": "markdown",
   "id": "52c95dda-da84-4885-b24e-7853bfbc9cba",
   "metadata": {},
   "source": [
    "## Page 4"
   ]
  },
  {
   "cell_type": "code",
   "execution_count": 108,
   "id": "bab16189-5d25-4201-b887-05aae360f26c",
   "metadata": {},
   "outputs": [],
   "source": [
    "L8P4Q1 = MultipleChoice('1. When a product suffers from a high infant mortality rate, what does that mean?',['It means only parents who have lost children can work on the product','It means the product is/was not made in a factory','It means the product has a lot of failures immediately after manufacturing', 'It means the product was manufactured during wartime'],'It means the product has a lot of failures immediately after manufacturing')\n",
    "L8P4Q2 = MultipleChoice('2. If you are a manufacturer, looking at the bathtub curve, what amount of time for a warranty makes the most sense?',['As short as possible','Right before the curve starts to increase steeply on the right side','The warranty time should be right in the middle of the curve, at the lowest point', 'There is no way to determine this from a bathtub curve'],'Right before the curve starts to increase steeply on the right side')"
   ]
  },
  {
   "cell_type": "code",
   "execution_count": 109,
   "id": "d0252a17-5a6a-40dd-a9cc-c1d672580c9e",
   "metadata": {},
   "outputs": [
    {
     "data": {
      "application/vnd.jupyter.widget-view+json": {
       "model_id": "557ec190894549a4ad9282e668c12a3f",
       "version_major": 2,
       "version_minor": 0
      },
      "text/plain": [
       "VBox(children=(Output(), RadioButtons(layout=Layout(width='max-content'), options=(('It means only parents who…"
      ]
     },
     "metadata": {},
     "output_type": "display_data"
    },
    {
     "data": {
      "application/vnd.jupyter.widget-view+json": {
       "model_id": "30cabd44b0ef4addb9557c88dd63115b",
       "version_major": 2,
       "version_minor": 0
      },
      "text/plain": [
       "VBox(children=(Output(), RadioButtons(layout=Layout(width='max-content'), options=(('As short as possible', 0)…"
      ]
     },
     "metadata": {},
     "output_type": "display_data"
    }
   ],
   "source": [
    "if __name__ == \"__main__\":\n",
    "    display(L8P4Q1, L8P4Q2)"
   ]
  },
  {
   "cell_type": "markdown",
   "id": "a8731ca2-7685-4fe3-b73c-d53243158669",
   "metadata": {},
   "source": [
    "## Page 5"
   ]
  },
  {
   "cell_type": "code",
   "execution_count": 110,
   "id": "542f60f8-164b-4d13-b12e-de48c36d2fb0",
   "metadata": {},
   "outputs": [],
   "source": [
    "L8P5Q1 = MultipleChoice('1. When would you use a Chi-Square distribution?',['When you are comparing two means','When you are comparing proportions','When you want to compare the sample to the population, but you have categorical data', 'When you want to compare the sample to the population, but you have continuous data'],'When you want to compare the sample to the population, but you have categorical data')"
   ]
  },
  {
   "cell_type": "code",
   "execution_count": 111,
   "id": "46b3e494-4fb8-407b-9feb-2c73f04953df",
   "metadata": {},
   "outputs": [
    {
     "data": {
      "application/vnd.jupyter.widget-view+json": {
       "model_id": "99f29a5f0cac4797ae0590dd6a16c551",
       "version_major": 2,
       "version_minor": 0
      },
      "text/plain": [
       "VBox(children=(Output(), RadioButtons(layout=Layout(width='max-content'), options=(('When you are comparing tw…"
      ]
     },
     "metadata": {},
     "output_type": "display_data"
    }
   ],
   "source": [
    "if __name__ == \"__main__\":\n",
    "    display(L8P5Q1)"
   ]
  },
  {
   "cell_type": "markdown",
   "id": "8f67a847-e046-4886-9fa5-35a522bc23ed",
   "metadata": {},
   "source": [
    "## Page 6"
   ]
  },
  {
   "cell_type": "code",
   "execution_count": 112,
   "id": "38484d04-ece9-4d4e-b8dd-8fa5598faa21",
   "metadata": {},
   "outputs": [],
   "source": [
    "L8P6Q1 = MultipleChoice('1. What does \"independent\" mean in the context of a chi-square?',['The means are different','The data comes from an independent t-test','The variables do not depend on each other'],'The variables do not depend on each other')\n",
    "L8P6Q2 = MultipleChoice('2. How do you calculate the degrees of freedom?',['(number of rows - 1) * (number of columns -1)','(number of rows + 1) * (number of columns + 1)','(number of rows -1) + (number of columns -1)', '(number of rows + 1) / (number of columns +1)'],'(number of rows - 1) * (number of columns -1)')\n",
    "L8P6Q3 = MultipleChoice('3. Which of the following is NOT a requirement for chi-square?',['Use of simple random sampling','Normality','Expected count of at least 5 in each cell'],'Normality')\n",
    "L8P6Q4 = MultipleChoice('4. What is the null hypothesis for chi-square?',['Rows and columns are dependent upon each other','Rows and columns are independent of each other','Rows and columns are not independent of each other'],'Rows and columns are independent of each other')"
   ]
  },
  {
   "cell_type": "code",
   "execution_count": 113,
   "id": "1d913e8f-a61d-44fc-bc10-e7c9df1dbf63",
   "metadata": {},
   "outputs": [
    {
     "data": {
      "application/vnd.jupyter.widget-view+json": {
       "model_id": "6eca00ca0c0247bd97813f579917e31e",
       "version_major": 2,
       "version_minor": 0
      },
      "text/plain": [
       "VBox(children=(Output(), RadioButtons(layout=Layout(width='max-content'), options=(('The means are different',…"
      ]
     },
     "metadata": {},
     "output_type": "display_data"
    },
    {
     "data": {
      "application/vnd.jupyter.widget-view+json": {
       "model_id": "ff43acb902df45d985242b1a8fda7065",
       "version_major": 2,
       "version_minor": 0
      },
      "text/plain": [
       "VBox(children=(Output(), RadioButtons(layout=Layout(width='max-content'), options=(('(number of rows - 1) * (n…"
      ]
     },
     "metadata": {},
     "output_type": "display_data"
    },
    {
     "data": {
      "application/vnd.jupyter.widget-view+json": {
       "model_id": "530dc6ef2da048c9b2a31bea1f068daf",
       "version_major": 2,
       "version_minor": 0
      },
      "text/plain": [
       "VBox(children=(Output(), RadioButtons(layout=Layout(width='max-content'), options=(('Use of simple random samp…"
      ]
     },
     "metadata": {},
     "output_type": "display_data"
    },
    {
     "data": {
      "application/vnd.jupyter.widget-view+json": {
       "model_id": "5df83fb3979f4d41abc76b60e3604d7e",
       "version_major": 2,
       "version_minor": 0
      },
      "text/plain": [
       "VBox(children=(Output(), RadioButtons(layout=Layout(width='max-content'), options=(('Rows and columns are depe…"
      ]
     },
     "metadata": {},
     "output_type": "display_data"
    }
   ],
   "source": [
    "if __name__ == \"__main__\":\n",
    "    display(L8P6Q1, L8P6Q2, L8P6Q3, L8P6Q4)"
   ]
  },
  {
   "cell_type": "markdown",
   "id": "f86fc760-7899-4f96-9a4a-2802c34bf1ca",
   "metadata": {},
   "source": [
    "---\n",
    "## Other Common Distributions\n",
    "## Lesson 8 Exam\n",
    "### Page 10\n",
    "\n",
    "Below is an exam to review the recently covered material. Please feel free to refer to your notes or the curriculum since you don't have to memorize everything in the real world - as long as you know where to find information!"
   ]
  },
  {
   "cell_type": "code",
   "execution_count": 114,
   "id": "f8d77332-6bdc-45e7-a107-cf6e9be0e0e1",
   "metadata": {},
   "outputs": [],
   "source": [
    "L8P10Q1 = MultipleChoice('1. Which distribution would you use to examine the probability of an event happening in a certain period of time when the outcome is discrete?',['Poisson Distribution','Bathtub Curve','Exponential Distribution', 'Chi-Square Distribution'],'Poisson Distribution')\n",
    "L8P10Q2 = MultipleChoice('2. Which distribution would you use to examine the probability of an event happening in a certain period of time when the outcome is continuous?',['Poisson Distribution','Bathtub Curve','Exponential Distribution', 'Chi-Square Distribution'],'Exponential Distribution')\n",
    "L8P10Q3 = MultipleChoice('3. Which distribution would you use to pinpoint the terms of a warranty for a manufacturing company?',['Poisson Distribution','Bathtub Curve','Exponential Distribution', 'Chi-Square Distribution'],'Bathtub Curve')\n",
    "L8P10Q4 = MultipleChoice('4. Which distribution would you use to determine whether two variables are independent of each other?',['Poisson Distribution','Bathtub Curve','Exponential Distribution', 'Chi-Square Distribution'],'Chi-Square Distribution')\n",
    "L8P10Q5 = MultipleChoice('5. Which of the following is a requirement to run a Chi-Square test of independence?',['Expected cell count less than 5','Expected cell count greater than 5','Normality', 'Lack of normality'],'Expected cell count greater than 5')\n",
    "L8P10Q6 = MultipleChoice('6. What is the alternative hypothesis for an Independent Chi-Square?',['There is no difference between the means','There is a difference between the means','The row and column variables are not related', 'The row and column variables are related'],'The row and column variables are related')\n",
    "L8P10Q7 = MultipleChoice('7. You run an independent Chi-Square and get a p value of .90. How would you interpret this finding?',['Accept the null hypothesis, since p is greater than .05.','Accept the alternative hypothesis, since p is greater than .05'],'Accept the null hypothesis, since p is greater than .05.')\n",
    "L8P10Q8 = MultipleChoice('8. How do you calculate degrees of freedom for an independent Chi-Square?',['Total sample size','Total sample size -1','CNumber of rows x Number of columns', 'Number of rows - 1 x Number of columns - 1'],'Number of rows - 1 x Number of columns - 1')"
   ]
  },
  {
   "cell_type": "code",
   "execution_count": 115,
   "id": "a7dcfe02-271d-4f04-8550-1d0ecc6e67eb",
   "metadata": {},
   "outputs": [
    {
     "data": {
      "application/vnd.jupyter.widget-view+json": {
       "model_id": "94bff725168b4b31a3db5775cdd513fa",
       "version_major": 2,
       "version_minor": 0
      },
      "text/plain": [
       "VBox(children=(Output(), RadioButtons(layout=Layout(width='max-content'), options=(('Poisson Distribution', 0)…"
      ]
     },
     "metadata": {},
     "output_type": "display_data"
    },
    {
     "data": {
      "application/vnd.jupyter.widget-view+json": {
       "model_id": "159c751a2a5c40fdaa3217933657d01b",
       "version_major": 2,
       "version_minor": 0
      },
      "text/plain": [
       "VBox(children=(Output(), RadioButtons(layout=Layout(width='max-content'), options=(('Poisson Distribution', 0)…"
      ]
     },
     "metadata": {},
     "output_type": "display_data"
    },
    {
     "data": {
      "application/vnd.jupyter.widget-view+json": {
       "model_id": "cf9e2554a1fe4a92bd567f081d0d16b5",
       "version_major": 2,
       "version_minor": 0
      },
      "text/plain": [
       "VBox(children=(Output(), RadioButtons(layout=Layout(width='max-content'), options=(('Poisson Distribution', 0)…"
      ]
     },
     "metadata": {},
     "output_type": "display_data"
    },
    {
     "data": {
      "application/vnd.jupyter.widget-view+json": {
       "model_id": "9bef9ef3e7304d62bc5a0e630de79563",
       "version_major": 2,
       "version_minor": 0
      },
      "text/plain": [
       "VBox(children=(Output(), RadioButtons(layout=Layout(width='max-content'), options=(('Poisson Distribution', 0)…"
      ]
     },
     "metadata": {},
     "output_type": "display_data"
    },
    {
     "data": {
      "application/vnd.jupyter.widget-view+json": {
       "model_id": "aa99d4387358483f8c4bac446708108b",
       "version_major": 2,
       "version_minor": 0
      },
      "text/plain": [
       "VBox(children=(Output(), RadioButtons(layout=Layout(width='max-content'), options=(('Expected cell count less …"
      ]
     },
     "metadata": {},
     "output_type": "display_data"
    },
    {
     "data": {
      "application/vnd.jupyter.widget-view+json": {
       "model_id": "6ae344d663564e8dbd29e85aba30643d",
       "version_major": 2,
       "version_minor": 0
      },
      "text/plain": [
       "VBox(children=(Output(), RadioButtons(layout=Layout(width='max-content'), options=(('There is no difference be…"
      ]
     },
     "metadata": {},
     "output_type": "display_data"
    },
    {
     "data": {
      "application/vnd.jupyter.widget-view+json": {
       "model_id": "7e917accdf4444d2948d997574cf9335",
       "version_major": 2,
       "version_minor": 0
      },
      "text/plain": [
       "VBox(children=(Output(), RadioButtons(layout=Layout(width='max-content'), options=(('Accept the null hypothesi…"
      ]
     },
     "metadata": {},
     "output_type": "display_data"
    },
    {
     "data": {
      "application/vnd.jupyter.widget-view+json": {
       "model_id": "c9cc5c04d05f46d99e8385aea41883cc",
       "version_major": 2,
       "version_minor": 0
      },
      "text/plain": [
       "VBox(children=(Output(), RadioButtons(layout=Layout(width='max-content'), options=(('Total sample size', 0), (…"
      ]
     },
     "metadata": {},
     "output_type": "display_data"
    }
   ],
   "source": [
    "if __name__ == \"__main__\":\n",
    "    display(L8P10Q1, L8P10Q2, L8P10Q3, L8P10Q4, L8P10Q5, L8P10Q6, L8P10Q7, L8P10Q8)"
   ]
  },
  {
   "cell_type": "markdown",
   "id": "91501a84-2a8a-4eb9-8059-1110a3863819",
   "metadata": {},
   "source": [
    "## Lesson 9\n",
    "\n",
    "## Page 2"
   ]
  },
  {
   "cell_type": "code",
   "execution_count": 116,
   "id": "2cb9c934-4750-48cb-a65c-db02d419a31f",
   "metadata": {},
   "outputs": [],
   "source": [
    "L9P2Q1 = MultipleChoice('1. Why does data exploration take place?',['To draw inferences','To save time','To gain a basic understanding of the data before embarking upon more complicated analyses', 'To test hypotheses'],'To gain a basic understanding of the data before embarking upon more complicated analyses')"
   ]
  },
  {
   "cell_type": "code",
   "execution_count": 117,
   "id": "14aac8e8-e443-4647-8786-90bc48cf294a",
   "metadata": {},
   "outputs": [
    {
     "data": {
      "application/vnd.jupyter.widget-view+json": {
       "model_id": "e69b24e449ab4f6f9826359a62408061",
       "version_major": 2,
       "version_minor": 0
      },
      "text/plain": [
       "VBox(children=(Output(), RadioButtons(layout=Layout(width='max-content'), options=(('To draw inferences', 0), …"
      ]
     },
     "metadata": {},
     "output_type": "display_data"
    }
   ],
   "source": [
    "if __name__ == \"__main__\":\n",
    "    display(L9P2Q1)"
   ]
  },
  {
   "cell_type": "markdown",
   "id": "d22e46d3-2b46-44be-b593-76159fe717ee",
   "metadata": {},
   "source": [
    "## Page 4"
   ]
  },
  {
   "cell_type": "code",
   "execution_count": 118,
   "id": "a7c6fa9e-fdaf-41ff-a195-a8f3e6df87c7",
   "metadata": {},
   "outputs": [],
   "source": [
    "L9P4Q1 = MultipleChoice('1. What is the advantage of stacking in a histogram?',['You can add colors, making the histogram more pleasing to the eye','It allows you to put two or more groups on one graph','There is no advantage', 'It forces your bars to be vertical rather than horizontal'],'It allows you to put two or more groups on one graph')\n",
    "L9P4Q2 = MultipleChoice('2. What is the disadvantage of stacking in a histogram?',['Sometimes, it is hard to discern the shape of a group that is not on the bottom of the histogram','It can make a graph messy','There is no disadvantage', 'You don\\'t get to choose the order of stacking'],'Sometimes, it is hard to discern the shape of a group that is not on the bottom of the histogram')\n",
    "L9P4Q3 = MultipleChoice('3. When making a histogram, the vertical axis usually represents what?',['Color','Group','Count', 'Percentage'],'Count')\n",
    "L9P4Q4 = MultipleChoice('4. What are the divisions in the horizontal axis usually called?',['Groups','Categories','Buckets', 'Situations'],'Buckets')"
   ]
  },
  {
   "cell_type": "code",
   "execution_count": 119,
   "id": "1dd1b96c-639d-4eaf-a754-7c297aff6290",
   "metadata": {},
   "outputs": [
    {
     "data": {
      "application/vnd.jupyter.widget-view+json": {
       "model_id": "cd2e9b51d1a84dcfa3e7bc1be45eae4b",
       "version_major": 2,
       "version_minor": 0
      },
      "text/plain": [
       "VBox(children=(Output(), RadioButtons(layout=Layout(width='max-content'), options=(('You can add colors, makin…"
      ]
     },
     "metadata": {},
     "output_type": "display_data"
    },
    {
     "data": {
      "application/vnd.jupyter.widget-view+json": {
       "model_id": "e8bc6ff837cc4f0298051432bcc84e10",
       "version_major": 2,
       "version_minor": 0
      },
      "text/plain": [
       "VBox(children=(Output(), RadioButtons(layout=Layout(width='max-content'), options=(('Sometimes, it is hard to …"
      ]
     },
     "metadata": {},
     "output_type": "display_data"
    },
    {
     "data": {
      "application/vnd.jupyter.widget-view+json": {
       "model_id": "08c5cbec3d1741c785a735d4469e5590",
       "version_major": 2,
       "version_minor": 0
      },
      "text/plain": [
       "VBox(children=(Output(), RadioButtons(layout=Layout(width='max-content'), options=(('Color', 0), ('Group', 1),…"
      ]
     },
     "metadata": {},
     "output_type": "display_data"
    },
    {
     "data": {
      "application/vnd.jupyter.widget-view+json": {
       "model_id": "d8b72cd47e3a46558a0500ce1375bf1b",
       "version_major": 2,
       "version_minor": 0
      },
      "text/plain": [
       "VBox(children=(Output(), RadioButtons(layout=Layout(width='max-content'), options=(('Groups', 0), ('Categories…"
      ]
     },
     "metadata": {},
     "output_type": "display_data"
    }
   ],
   "source": [
    "if __name__ == \"__main__\":\n",
    "    display(L9P4Q1, L9P4Q2, L9P4Q3, L9P4Q4)"
   ]
  },
  {
   "cell_type": "markdown",
   "id": "c9e011db-883e-4ed3-ba93-bd32cfa6f074",
   "metadata": {},
   "source": [
    "## Page 5"
   ]
  },
  {
   "cell_type": "code",
   "execution_count": 120,
   "id": "2a61792e-f8c6-41ad-8223-4b77a34cb206",
   "metadata": {},
   "outputs": [],
   "source": [
    "L9P5Q1 = MultipleChoice('1. What sort of data would you need to create a side-by-side boxplot?',['One categorical variable','Two or more categorical variables and one quantitative variable','One quantitative variable', 'One quantitative variable, and one categorical variable'],'One quantitative variable, and one categorical variable')\n",
    "L9P5Q2 = MultipleChoice('2. What is it called when the data for a single boxplot is spread out to distinguish individual data points?',['Spreading','Jumbling','Jittering', 'Expanding'],'Jittering')\n",
    "L9P5Q3 = MultipleChoice('3. For a boxplot, what does the \"box\" part in the middle represent?',['It is the middle half of the data','It is the middle 75% of the data','It is an arbitrary box showing the highest concentration of data points', 'It represents mean +/- one standard developers_navigation'],'It is the middle half of the data')"
   ]
  },
  {
   "cell_type": "code",
   "execution_count": 121,
   "id": "9b49fd31-2bb4-46ed-9204-67df8133f59c",
   "metadata": {},
   "outputs": [
    {
     "data": {
      "application/vnd.jupyter.widget-view+json": {
       "model_id": "4a18a2cb813846899386915214d160c4",
       "version_major": 2,
       "version_minor": 0
      },
      "text/plain": [
       "VBox(children=(Output(), RadioButtons(layout=Layout(width='max-content'), options=(('One categorical variable'…"
      ]
     },
     "metadata": {},
     "output_type": "display_data"
    },
    {
     "data": {
      "application/vnd.jupyter.widget-view+json": {
       "model_id": "d8e75536c40b485c986d6273d3815d46",
       "version_major": 2,
       "version_minor": 0
      },
      "text/plain": [
       "VBox(children=(Output(), RadioButtons(layout=Layout(width='max-content'), options=(('Spreading', 0), ('Jumblin…"
      ]
     },
     "metadata": {},
     "output_type": "display_data"
    },
    {
     "data": {
      "application/vnd.jupyter.widget-view+json": {
       "model_id": "f275beaf5b7748b1868b174c5acd5134",
       "version_major": 2,
       "version_minor": 0
      },
      "text/plain": [
       "VBox(children=(Output(), RadioButtons(layout=Layout(width='max-content'), options=(('It is the middle half of …"
      ]
     },
     "metadata": {},
     "output_type": "display_data"
    }
   ],
   "source": [
    "if __name__ == \"__main__\":\n",
    "    display(L9P5Q1, L9P5Q2, L9P5Q3)"
   ]
  },
  {
   "cell_type": "markdown",
   "id": "34585097-d4e6-4373-8a1b-7a124258e8de",
   "metadata": {},
   "source": [
    "## Page 6"
   ]
  },
  {
   "cell_type": "code",
   "execution_count": 122,
   "id": "e95949b6-f154-4429-9942-2b761ea78695",
   "metadata": {},
   "outputs": [],
   "source": [
    "L9P6Q1 = MultipleChoice('1. All of the following are disadvantages of using pie charts except what?',['Most people have never seen one before','To communicate information, numbers usually add to the pie slices','It can be hard to distinguish relative sizes', 'Adding 3D makes it even more misleading'],'Most people have never seen one before')\n",
    "L9P6Q2 = MultipleChoice('2. Quite often, data represented by a pie chart can easily be represented by what other type of visualization?',['Scatterplot','Boxplot','Trend line', 'Bar graph'],'Bar graph')"
   ]
  },
  {
   "cell_type": "code",
   "execution_count": 123,
   "id": "3a1fc6ec-6eae-4741-aa4f-821009c28e71",
   "metadata": {},
   "outputs": [
    {
     "data": {
      "application/vnd.jupyter.widget-view+json": {
       "model_id": "fcd284434f594addb115fb52a78cc955",
       "version_major": 2,
       "version_minor": 0
      },
      "text/plain": [
       "VBox(children=(Output(), RadioButtons(layout=Layout(width='max-content'), options=(('Most people have never se…"
      ]
     },
     "metadata": {},
     "output_type": "display_data"
    },
    {
     "data": {
      "application/vnd.jupyter.widget-view+json": {
       "model_id": "bd84846ec62e46e8bf96cd5e12e113e3",
       "version_major": 2,
       "version_minor": 0
      },
      "text/plain": [
       "VBox(children=(Output(), RadioButtons(layout=Layout(width='max-content'), options=(('Scatterplot', 0), ('Boxpl…"
      ]
     },
     "metadata": {},
     "output_type": "display_data"
    }
   ],
   "source": [
    "if __name__ == \"__main__\":\n",
    "    display(L9P6Q1, L9P6Q2)"
   ]
  },
  {
   "cell_type": "markdown",
   "id": "f9a92a78-b228-4ee6-a7db-8bb7c960f8d9",
   "metadata": {},
   "source": [
    "## Page 7"
   ]
  },
  {
   "cell_type": "code",
   "execution_count": 124,
   "id": "bf911907-8b13-4d0e-be06-e3b6b637c678",
   "metadata": {},
   "outputs": [],
   "source": [
    "L9P7Q1 = MultipleChoice('1. What are the appropriate data types you must make a bar graph?',['One categorical variable','One quantitative variable','Two or more quantitative variables', 'One quantitative and one or more categorical variables'],'One categorical variable')\n",
    "L9P7Q2 = MultipleChoice('2. A bar graph that is sorted from tallest to shortest is commonly referred to as what?',['An ordered bar graph','An 80/20 bar graph','A Pareto chart', 'A histogram'],'A Pareto chart')"
   ]
  },
  {
   "cell_type": "code",
   "execution_count": 125,
   "id": "f5e3ead4-1fae-4d0a-8273-cc94b34548a6",
   "metadata": {},
   "outputs": [
    {
     "data": {
      "application/vnd.jupyter.widget-view+json": {
       "model_id": "5750453643fc4483a90b44b753164286",
       "version_major": 2,
       "version_minor": 0
      },
      "text/plain": [
       "VBox(children=(Output(), RadioButtons(layout=Layout(width='max-content'), options=(('One categorical variable'…"
      ]
     },
     "metadata": {},
     "output_type": "display_data"
    },
    {
     "data": {
      "application/vnd.jupyter.widget-view+json": {
       "model_id": "c4a9e5d120254e91bd7dee0121ab9ce3",
       "version_major": 2,
       "version_minor": 0
      },
      "text/plain": [
       "VBox(children=(Output(), RadioButtons(layout=Layout(width='max-content'), options=(('An ordered bar graph', 0)…"
      ]
     },
     "metadata": {},
     "output_type": "display_data"
    }
   ],
   "source": [
    "if __name__ == \"__main__\":\n",
    "    display(L9P7Q1, L9P7Q2)"
   ]
  },
  {
   "cell_type": "markdown",
   "id": "e4ab0fb5-712d-4aff-83c9-0cbdfd089d87",
   "metadata": {},
   "source": [
    "## Page 8"
   ]
  },
  {
   "cell_type": "code",
   "execution_count": 126,
   "id": "538746e4-e848-4a02-8ca4-d9860cec8a62",
   "metadata": {},
   "outputs": [],
   "source": [
    "L9P8Q1 = MultipleChoice('1. What is the input data for a scatterplot?',['Two or more categorical variables','Two or more quantitative variables','One categorical variable and one or more quantitative variables', 'Two ordinal variables'],'Two or more quantitative variables')\n",
    "L9P8Q2 = MultipleChoice('2. If you are doing a scatterplot but want to use more than two quantitative variables, what is the best solution?',['A scatterplot matrix works well in this case','Using every possible pair-wise grouping of the variables is the best option','Use a stacked bar graph instead', 'Use a pie chart instead'],'A scatterplot matrix works well in this case')"
   ]
  },
  {
   "cell_type": "code",
   "execution_count": 127,
   "id": "1313d2cb-b9f5-48ae-9ee2-27ab8d4ed17f",
   "metadata": {},
   "outputs": [
    {
     "data": {
      "application/vnd.jupyter.widget-view+json": {
       "model_id": "949cd2d71c5e410b8a2f27cf2f726166",
       "version_major": 2,
       "version_minor": 0
      },
      "text/plain": [
       "VBox(children=(Output(), RadioButtons(layout=Layout(width='max-content'), options=(('Two or more categorical v…"
      ]
     },
     "metadata": {},
     "output_type": "display_data"
    },
    {
     "data": {
      "application/vnd.jupyter.widget-view+json": {
       "model_id": "7735b28fd2a8494cb0c39b05f5fac816",
       "version_major": 2,
       "version_minor": 0
      },
      "text/plain": [
       "VBox(children=(Output(), RadioButtons(layout=Layout(width='max-content'), options=(('A scatterplot matrix work…"
      ]
     },
     "metadata": {},
     "output_type": "display_data"
    }
   ],
   "source": [
    "if __name__ == \"__main__\":\n",
    "    display(L9P8Q1, L9P8Q2)"
   ]
  },
  {
   "cell_type": "markdown",
   "id": "52a41c1c-a933-4524-86ee-336a89f4740b",
   "metadata": {},
   "source": [
    "## Page 9"
   ]
  },
  {
   "cell_type": "code",
   "execution_count": 128,
   "id": "c125e10d-27ed-4060-9d72-8b446c27d92f",
   "metadata": {},
   "outputs": [],
   "source": [
    "L9P9Q1 = MultipleChoice('1. What does the line represent in a line graph?',['It helps explain what is happening in the spaces \"between\" measured data points','It doesn\\'t represent anything. It there to help the reader see what the flow looks like from left to right','It lets the author choose colors that will represent the data displayed'],'It doesn\\'t represent anything. It there to help the reader see what the flow looks like from left to right')"
   ]
  },
  {
   "cell_type": "code",
   "execution_count": 129,
   "id": "4ca3c482-52fa-470d-b3e8-b2606232d005",
   "metadata": {},
   "outputs": [
    {
     "data": {
      "application/vnd.jupyter.widget-view+json": {
       "model_id": "cafe538b71af4385993f9d9cf54f8f49",
       "version_major": 2,
       "version_minor": 0
      },
      "text/plain": [
       "VBox(children=(Output(), RadioButtons(layout=Layout(width='max-content'), options=(('It helps explain what is …"
      ]
     },
     "metadata": {},
     "output_type": "display_data"
    }
   ],
   "source": [
    "if __name__ == \"__main__\":\n",
    "    display(L9P9Q1)"
   ]
  },
  {
   "cell_type": "markdown",
   "id": "f027a635-dad0-45e1-96fe-38b6641bec7b",
   "metadata": {},
   "source": [
    "## Page 10"
   ]
  },
  {
   "cell_type": "code",
   "execution_count": 130,
   "id": "6634de94-994e-4b84-a9c8-d34c6dccf0c1",
   "metadata": {},
   "outputs": [],
   "source": [
    "L9P10Q1 = MultipleChoice('1. What are the input variables required for a data map?',['One quantitative variable, and one categorical variable that indicates a piece of location, such as zip code','One quantitative variable and one categorical variable','Two quantitative variables, one of which is city or state', 'Two categorical variables, with one that can break into sub-categories'],'One quantitative variable, and one categorical variable that indicates a piece of location, such as zip code')\n",
    "L9P10Q2 = MultipleChoice('2. What is a weakness of the data map?',['If you are not good at geography, it can be hard to interpret','Natural geographic breaks, such as counties, can have vastly different populations, which can lead to misinterpretation','If there are too many colors, the interpretation can be difficult', 'Data maps have no weaknesses'],'Natural geographic breaks, such as counties, can have vastly different populations, which can lead to misinterpretation')"
   ]
  },
  {
   "cell_type": "code",
   "execution_count": 131,
   "id": "17660829-e9c7-476a-9f86-f653e84cf810",
   "metadata": {},
   "outputs": [
    {
     "data": {
      "application/vnd.jupyter.widget-view+json": {
       "model_id": "26eb037fa20d446fb3f52563257430cd",
       "version_major": 2,
       "version_minor": 0
      },
      "text/plain": [
       "VBox(children=(Output(), RadioButtons(layout=Layout(width='max-content'), options=(('One quantitative variable…"
      ]
     },
     "metadata": {},
     "output_type": "display_data"
    },
    {
     "data": {
      "application/vnd.jupyter.widget-view+json": {
       "model_id": "06139f9ec1de4f748a6fbbcdded43dac",
       "version_major": 2,
       "version_minor": 0
      },
      "text/plain": [
       "VBox(children=(Output(), RadioButtons(layout=Layout(width='max-content'), options=(('If you are not good at ge…"
      ]
     },
     "metadata": {},
     "output_type": "display_data"
    }
   ],
   "source": [
    "if __name__ == \"__main__\":\n",
    "    display(L9P10Q1, L9P10Q2)"
   ]
  },
  {
   "cell_type": "markdown",
   "id": "0ed45982-4cb1-49dc-8551-a1abd4e4d3ce",
   "metadata": {},
   "source": [
    "## Page 11"
   ]
  },
  {
   "cell_type": "code",
   "execution_count": 132,
   "id": "bc7bf9ab-3a05-4cf2-a1d7-93c7ff6aec47",
   "metadata": {},
   "outputs": [],
   "source": [
    "L9P11Q1 = MultipleChoice('1. What input variable(s) is required for an area graph?',['Two quantitative variables','Two categorical variables','One quantitative variable and one categorical variable, where the categorical variable is broken down into sub-categories', 'Two quantitative variables, where one of them is broken down into categories, and the other is time'],'Two quantitative variables, where one of them is broken down into categories, and the other is time')\n",
    "L9P11Q2 = MultipleChoice('2. Which of the following is a weakness of the area graph?',['Any area that doesn\\'t sit on the x-axis can be hard to interpret when there is a spike','The colors add a lot of unnecessary noise','It is hard to get the labels done correctly', 'The grouping variable must be sorted in a way that makes sense'],'Any area that doesn\\'t sit on the x-axis can be hard to interpret when there is a spike')"
   ]
  },
  {
   "cell_type": "code",
   "execution_count": 133,
   "id": "399b8014-4451-4ab0-b897-a3b3740135d6",
   "metadata": {},
   "outputs": [
    {
     "data": {
      "application/vnd.jupyter.widget-view+json": {
       "model_id": "bc49d4fb0844477a8b7083e11347c143",
       "version_major": 2,
       "version_minor": 0
      },
      "text/plain": [
       "VBox(children=(Output(), RadioButtons(layout=Layout(width='max-content'), options=(('Two quantitative variable…"
      ]
     },
     "metadata": {},
     "output_type": "display_data"
    },
    {
     "data": {
      "application/vnd.jupyter.widget-view+json": {
       "model_id": "ff88a8a14b504d1a834c9905fa4cc1c7",
       "version_major": 2,
       "version_minor": 0
      },
      "text/plain": [
       "VBox(children=(Output(), RadioButtons(layout=Layout(width='max-content'), options=((\"Any area that doesn't sit…"
      ]
     },
     "metadata": {},
     "output_type": "display_data"
    }
   ],
   "source": [
    "if __name__ == \"__main__\":\n",
    "    display(L9P11Q1, L9P11Q2)"
   ]
  },
  {
   "cell_type": "markdown",
   "id": "e9ed641d-24a1-4c33-82ad-e96d22225971",
   "metadata": {},
   "source": [
    "## Page 12"
   ]
  },
  {
   "cell_type": "code",
   "execution_count": 134,
   "id": "79d806f5-2f68-430e-b000-fb7960a59198",
   "metadata": {},
   "outputs": [],
   "source": [
    "L9P12Q1 = MultipleChoice('1. When creating a treemap, what data types will you use?',['One categorical variable and one quantitative variable','Three or more quantitative variables','One quantitative variables, and one or more categorical variables', 'Two categorical variables'],'One quantitative variables, and one or more categorical variables')\n",
    "L9P12Q2 = MultipleChoice('2. When making a heat map, what data types will you use?',['Two or more quantitative variables','One quantitative variable and one-time variable','Two or more ordinal variables', 'One or more quantitative variables, and one or more categorical variables'],'One or more quantitative variables, and one or more categorical variables')"
   ]
  },
  {
   "cell_type": "code",
   "execution_count": 135,
   "id": "63d980fe-7d7a-4272-a22f-8b92092386a9",
   "metadata": {},
   "outputs": [
    {
     "data": {
      "application/vnd.jupyter.widget-view+json": {
       "model_id": "e9bdcde7cb5f4f03a2c9fa4c5758cef4",
       "version_major": 2,
       "version_minor": 0
      },
      "text/plain": [
       "VBox(children=(Output(), RadioButtons(layout=Layout(width='max-content'), options=(('One categorical variable …"
      ]
     },
     "metadata": {},
     "output_type": "display_data"
    },
    {
     "data": {
      "application/vnd.jupyter.widget-view+json": {
       "model_id": "a85b440fe1bf4ec79ad5be039a9bdfb6",
       "version_major": 2,
       "version_minor": 0
      },
      "text/plain": [
       "VBox(children=(Output(), RadioButtons(layout=Layout(width='max-content'), options=(('Two or more quantitative …"
      ]
     },
     "metadata": {},
     "output_type": "display_data"
    }
   ],
   "source": [
    "if __name__ == \"__main__\":\n",
    "    display(L9P12Q1, L9P12Q2)"
   ]
  },
  {
   "cell_type": "markdown",
   "id": "074bab84-7b3c-4f8e-a90f-3ecd3193d7e8",
   "metadata": {},
   "source": [
    "---\n",
    "## High Level Data Exploration\n",
    "## Lesson 9 Exam\n",
    "### Page 14\n",
    "Next is an exam to review the recently covered material. This exam is not graded. Please feel free to refer to your notes or the curriculum, since in the real world, you don't have to memorize everything - just know where to find information!\n",
    "For each of the following data visualizations, indicate the input data format required:\n",
    "\n",
    "Below is an exam to review the recently covered material. Please feel free to refer to your notes or the curriculum since you don't have to memorize everything in the real world - as long as you know where to find information!"
   ]
  },
  {
   "cell_type": "code",
   "execution_count": 136,
   "id": "90285e4c-855e-451a-99b8-d26efb612f89",
   "metadata": {},
   "outputs": [],
   "source": [
    "L9P14Q1 = MultipleChoice('1. Pie Chart?',['Categorical','Continuous','Categorical and Continuous'],'Categorical')\n",
    "L9P14Q2 = MultipleChoice('2. Histogram with Multiple Groups?',['Categorical','Continuous','Categorical and Continuous'],'Categorical and Continuous')\n",
    "L9P14Q3 = MultipleChoice('3. Scatter Plot?',['Categorical','Continuous','Categorical and Continuous'],'Continuous')\n",
    "L9P14Q4 = MultipleChoice('4. Histogram?',['Categorical','Continuous','Categorical and Continuous'],'Continuous')\n",
    "L9P14Q5 = MultipleChoice('5. Pareto Chart?',['Categorical','Continuous','Categorical and Continuous'],'Categorical')\n",
    "\n",
    "L9P14Q6 = MultipleChoice('6. Bar Graph?',['Categorical','Continuous','Categorical and Continuous'],'Categorical')\n",
    "L9P14Q7 = MultipleChoice('7. TreeMap?',['Categorical','Continuous','Categorical and Continuous'],'Categorical and Continuous')\n",
    "L9P14Q8 = MultipleChoice('8. Heat Map?',['Categorical','Continuous','Categorical and Continuous'],'Categorical and Continuous')\n",
    "L9P14Q9 = MultipleChoice('9. Line Graph?',['Categorical','Continuous','Categorical and Continuous'],'Continuous')\n",
    "L9P14Q10 = MultipleChoice('10. Box Plot?',['Categorical','Continuous','Categorical and Continuous'],'Continuous')\n",
    "\n",
    "L9P14Q11 = MultipleChoice('11. Side-by-Side Box Plots?',['Categorical','Continuous','Categorical and Continuous'],'Categorical and Continuous')\n",
    "L9P14Q12 = MultipleChoice('12. Data Map?',['Categorical','Continuous','Categorical and Continuous'],'Categorical and Continuous')"
   ]
  },
  {
   "cell_type": "code",
   "execution_count": 137,
   "id": "add0dba6-5b33-4d52-98f4-f9199d107bd8",
   "metadata": {},
   "outputs": [
    {
     "data": {
      "application/vnd.jupyter.widget-view+json": {
       "model_id": "1a3b233034364d5db0e57cb4e74e7d65",
       "version_major": 2,
       "version_minor": 0
      },
      "text/plain": [
       "VBox(children=(Output(), RadioButtons(layout=Layout(width='max-content'), options=(('Categorical', 0), ('Conti…"
      ]
     },
     "metadata": {},
     "output_type": "display_data"
    },
    {
     "data": {
      "application/vnd.jupyter.widget-view+json": {
       "model_id": "18a931ff3d07468d9e18ce5b7c3c833d",
       "version_major": 2,
       "version_minor": 0
      },
      "text/plain": [
       "VBox(children=(Output(), RadioButtons(layout=Layout(width='max-content'), options=(('Categorical', 0), ('Conti…"
      ]
     },
     "metadata": {},
     "output_type": "display_data"
    },
    {
     "data": {
      "application/vnd.jupyter.widget-view+json": {
       "model_id": "6d67ee612dce42169e2d0f97f5ef8b61",
       "version_major": 2,
       "version_minor": 0
      },
      "text/plain": [
       "VBox(children=(Output(), RadioButtons(layout=Layout(width='max-content'), options=(('Categorical', 0), ('Conti…"
      ]
     },
     "metadata": {},
     "output_type": "display_data"
    },
    {
     "data": {
      "application/vnd.jupyter.widget-view+json": {
       "model_id": "4e65b42032614393b8585969471a08e1",
       "version_major": 2,
       "version_minor": 0
      },
      "text/plain": [
       "VBox(children=(Output(), RadioButtons(layout=Layout(width='max-content'), options=(('Categorical', 0), ('Conti…"
      ]
     },
     "metadata": {},
     "output_type": "display_data"
    },
    {
     "data": {
      "application/vnd.jupyter.widget-view+json": {
       "model_id": "6b88c846287d4b9287b43e5e54fdfc24",
       "version_major": 2,
       "version_minor": 0
      },
      "text/plain": [
       "VBox(children=(Output(), RadioButtons(layout=Layout(width='max-content'), options=(('Categorical', 0), ('Conti…"
      ]
     },
     "metadata": {},
     "output_type": "display_data"
    },
    {
     "data": {
      "application/vnd.jupyter.widget-view+json": {
       "model_id": "e86cb651a5b04d9ea32e55524a5ddd72",
       "version_major": 2,
       "version_minor": 0
      },
      "text/plain": [
       "VBox(children=(Output(), RadioButtons(layout=Layout(width='max-content'), options=(('Categorical', 0), ('Conti…"
      ]
     },
     "metadata": {},
     "output_type": "display_data"
    },
    {
     "data": {
      "application/vnd.jupyter.widget-view+json": {
       "model_id": "772e0812c0044f738377cebd951a0c72",
       "version_major": 2,
       "version_minor": 0
      },
      "text/plain": [
       "VBox(children=(Output(), RadioButtons(layout=Layout(width='max-content'), options=(('Categorical', 0), ('Conti…"
      ]
     },
     "metadata": {},
     "output_type": "display_data"
    },
    {
     "data": {
      "application/vnd.jupyter.widget-view+json": {
       "model_id": "6b860e76dafb40749fd39680d30885b9",
       "version_major": 2,
       "version_minor": 0
      },
      "text/plain": [
       "VBox(children=(Output(), RadioButtons(layout=Layout(width='max-content'), options=(('Categorical', 0), ('Conti…"
      ]
     },
     "metadata": {},
     "output_type": "display_data"
    },
    {
     "data": {
      "application/vnd.jupyter.widget-view+json": {
       "model_id": "bbb2b6ba6f95453bb4b35777fb5ec0da",
       "version_major": 2,
       "version_minor": 0
      },
      "text/plain": [
       "VBox(children=(Output(), RadioButtons(layout=Layout(width='max-content'), options=(('Categorical', 0), ('Conti…"
      ]
     },
     "metadata": {},
     "output_type": "display_data"
    },
    {
     "data": {
      "application/vnd.jupyter.widget-view+json": {
       "model_id": "11387069514447b8a4ec3efe523e11a9",
       "version_major": 2,
       "version_minor": 0
      },
      "text/plain": [
       "VBox(children=(Output(), RadioButtons(layout=Layout(width='max-content'), options=(('Categorical', 0), ('Conti…"
      ]
     },
     "metadata": {},
     "output_type": "display_data"
    },
    {
     "data": {
      "application/vnd.jupyter.widget-view+json": {
       "model_id": "c56ba8c79f8242899f0f15deb78185ea",
       "version_major": 2,
       "version_minor": 0
      },
      "text/plain": [
       "VBox(children=(Output(), RadioButtons(layout=Layout(width='max-content'), options=(('Categorical', 0), ('Conti…"
      ]
     },
     "metadata": {},
     "output_type": "display_data"
    },
    {
     "data": {
      "application/vnd.jupyter.widget-view+json": {
       "model_id": "5d25e0a965074e89b917215a81a2f30c",
       "version_major": 2,
       "version_minor": 0
      },
      "text/plain": [
       "VBox(children=(Output(), RadioButtons(layout=Layout(width='max-content'), options=(('Categorical', 0), ('Conti…"
      ]
     },
     "metadata": {},
     "output_type": "display_data"
    }
   ],
   "source": [
    "if __name__ == \"__main__\":\n",
    "    display(L9P14Q1, L9P14Q2, L9P14Q3, L9P14Q4, L9P14Q5, L9P14Q6, L9P14Q7, L9P14Q8, L9P14Q9, L9P14Q10, L9P14Q11, L9P14Q12)"
   ]
  },
  {
   "cell_type": "markdown",
   "id": "d0169232-5325-4317-8158-2addd98aaaf7",
   "metadata": {},
   "source": [
    "##  Basic Statistics - Skills Mastery Exam\n",
    "## Lesson 10\n",
    "Below is an exam to review the recently covered material.  Please feel free to refer to your notes or the curriculum since you don't have to memorize everything in the real world - as long as you know where to find information!\n",
    "\n",
    "\n",
    "The following scenario is an example of what type of sampling?"
   ]
  },
  {
   "cell_type": "code",
   "execution_count": 138,
   "id": "f0528349-dab1-4423-9d0c-5d5eb0e37a90",
   "metadata": {},
   "outputs": [],
   "source": [
    "L10Q1 = MC('1. A single candy bar is pulled at the Mars plant for nutritional content testing out of every 300th batch of Snickers selected.',['Cluster sampling','Simple Random sampling','Convenience sampling', 'Stratified sampling', 'Systematic sampling'],'Systematic sampling',cor='Since it is asking you to take every 300th Snickers, this is systematic sampling.', incor='')\n",
    "L10Q2 = MC('2. Is the following variable categorical, quantitative, or ordinal? \\nThe \"hot\" scale for peppers',['Categorical','Quantitative','Ordinal'],'Ordinal',cor='Because the rating is from hottest to least hot, the categorical data is ordered and thus ordinal.', incor='')\n",
    "L10Q3 = MultipleChoice('3. If two events are independent, how do you calculate the probability of an \"or\" in the probability question?',[\"Bayes' Theorem\",'Add the two individual probabilities','Multiply the two probabilities', 'Use a Gantt chart'],'Add the two individual probabilities')\n",
    "L10Q4 = MC('4. In a game show, a board with 30 spaces has prizes behind each space. The prizes have the following frequencies: 6 toasters, 1 car, 8 vacations, 10 dinner gift cards, and 5 empty soda cans. \\nWhat is the probability of selecting a door with anything except a soda can?',['16','0.833','0.267', '0.533'],'0.833',cor='Because this is a \"not\" probability problem, you will add up everything BUT the 5 empty soda cans. So 6 + 1 + 8 + 10 = 25, and 25 / 30 (the total spaces) = .833.', incor='')\n",
    "L10Q5 = MultipleChoice('5. What is the difference between the distribution of X and the distribution of x-bar?',['One is the first sample; the other is all subsequent samples','The distribution of x is the population distribution, and the distribution of x-bar is the distribution of sample means','There is no difference'],'The distribution of x is the population distribution, and the distribution of x-bar is the distribution of sample means')\n",
    "\n",
    "L10Q6 = MC('6. The following scenario is an example of what type of sampling? \\nThe police department is starting to pay attention to their tickets to warnings ratio. So, they grab all of the patrol officers from the briefing area and ask them what they think the ratio is on their shift.',['Cluster sampling','Simple Random sampling','Convenience sampling', 'Stratified sampling', 'Systematic sampling'],'Convenience sampling',cor='Since the briefing area was easy and convenient to the person briefing, and there was no methodology behind this sampling, this would be convenience sampling.', incor='')\n",
    "L10Q7 = MultipleChoice('7. Is the following variable categorical, quantitative, or ordinal?',['Categorical','Quantitative','Ordinal'],'Categorical')\n",
    "L10Q8 = MultipleChoice('8. Which of the following is not a rule of probability?',['All probabilities are between 0 and 1','Probability of an event can change depending on the outcome of a previous event','The probability of an event not happening is 1 - the probability of the event happening', 'The total probability of all possible outcomes is 1'],'Probability of an event can change depending on the outcome of a previous event')\n",
    "L10Q9 = MC('9. If x = 270, mu = 225, and the z-score is 1.5, what is sigma?',['495','255','85', '30'],'30', cor='For this problem, you will need to use the z-score formula, plug in all the values, and then solve for sigma. The formula is z = (x - mu) / sigma, so when plugged in that is 1.5 = (270 - 225) / sigma. Bring sigma to the other side - now you have 1.5sigma = 45. Bring 1.5 over, so you have sigma = 45 / 1.5, and sigma = 30.', incor='')\n",
    "L10Q10 = MC('10. The following scenario is an example of what type of sampling? \\nPeople in Europe get asked whether they agree with a new monetary policy for the Euro. Twenty-two countries will participate in the survey, and the number of people surveyed in each country is proportional to the population in that country. That is, more populous countries will have a larger number of participants than less populated countries.',['Cluster sampling','Simple Random sampling','Convenience sampling', 'Stratified sampling', 'Systematic sampling', 'More than one type of sampling, or unknown'],'Stratified sampling', cor='The keyword \"proportional\" clues you in that you have stratified sampling here.', incor='')\n",
    "\n",
    "L10Q11 = MultipleChoice('11. Is the following variable categorical, quantitative, or ordinal?',['Categorical','Quantitative','Ordinal'],'Categorical')\n",
    "L10Q12 = MultipleChoice('12. What does the word \"random\" mean?',['All subjects have an equal probability of being chosen','I can say anything I want, whether it is on the topic or out of left field','Someone has unpredictable behavior', 'Aimless'],'All subjects have an equal probability of being chosen')\n",
    "L10Q13 = MC('13. If you have a population with a mu of 55 and a sigma of 21, what is the standard deviation of the distribution of x-bar if your sample size is 22?',['1.89','4.48','7.59', '21', '22'],'4.48',cor='You will use the formula to find the standard deviation of the child for this problem: sigma divided by the square root of the sample size. 21 / 4.69 rounds to 4.48.', incor='')\n",
    "L10Q14 = MC('14. For a distribution whose mean is 320 and sigma is 14, what is the probability of randomly selecting a single value of less than 317 or greater than 323?',['0.4153','0.5000','0.8305', '1.0000'],'0.8305',cor='You will need to use the z score applet for this. Enter the mean and standard deviation, then choose outside and place the remaining two values in. The resulting area, or p value, is .83.', incor='')\n",
    "L10Q15 = MC('15. Look at the following situation, and determine which best describes the data conversion. \\nUsing a stopwatch, a teacher measures the time it takes for each student\\'s paper airplane to hit the ground after being dropped from the top of the bleachers. After counting 140 drops, the teacher reports the results in the following groups: \"like a rock,\" \"got lucky because of an updraft,\" and \"would make Orville and Wilbur proud.\"',['Quantitative to categorical','Categorical to quantitative','Both of the above', 'Neither of the above'],'Quantitative to categorical',cor='The actual stopwatch times would be quantitative, but they got put into the three fun and descriptive categories.', incor='')\n",
    "\n",
    "L10Q16 = MC('16. You roll three 6-sided dice. If exactly two of the dice show 5, what is the probability that the total is 11 or less?',['0.180','0.200','0.250', '0.285'],'0.200',cor=\"Since only two dice can show five, this means that there are only 5 possibilities, not 6, for the last die - you can to exclude the 5. If you have 2 dice showing 5, that means 10 pips total (5 + 5 = 10), and if you need an 11, then 11-10 = 1 and the last die must show a 1. Since you can't have a 5, you have a 1 in 5 chance of getting 11, not 1 in 6.\", incor='')\n",
    "L10Q17 = MC('17. When rolling a 6 sided die, what is the probability of rolling an even number or a number greater than or equal to 4?',['1/6','2/6','3/6', '4/6', '5/6', '6/6'],'4/6',cor='This is an \"or\" probability problem and so you will need to add the probability of getting an even number (3/6) up with the probability of getting a number greater than or equal to 4 (3 / 6), which would be 6/6. You then subtract the overlap. Since 4 and 6 falls in both categories, remove them, so 6/6 becomes 4/6.', incor='')\n",
    "L10Q18 = MultipleChoice('18. What is the purpose of creating a confidence interval?',['It gives you a feel of where the true mean of a population is','It is an exercise to frustrate and confuse students',\"It builds up a student's confidence for future questions\", 'It provides a little bit of leeway for rounding errors during calculations'],'It gives you a feel of where the true mean of a population is')\n",
    "L10Q19 = MC('19. The following scenario is an example of what type of sampling? \\nA new testing method is being investigated at Timpview high school. The investigation evaluates the students in both 3rd period American History class and the 5th-period Geography class.',['Cluster sampling','Simple Random sampling','Convenience sampling', 'Stratified sampling', 'Systematic sampling'],'Cluster sampling',cor='The key here is the term \"all students in each.\" Cluster sampling randomly selects groups and then takes everyone in that group.', incor='')\n",
    "L10Q20 = MultipleChoice('20. For a given sample size and sigma, which is wider: the 90% confidence interval or the 95% confidence interval?',['The 90% confidence interval, because there is less confidence, so there is more uncertainty','They are the same','The 95% confidence interval, because there is more confidence so that the interval will be bigger', 'It varies, depending on the sample size'],'The 95% confidence interval, because there is more confidence so that the interval will be bigger')\n",
    "\n",
    "L10Q21 = MC('21. If a parent distribution has a mean of 160 and a standard deviation of 24, and you create a distribution of x-bar using samples of size 16, what are the mean and standard deviation of your distribution',['Mean = 160, standard deviation = 24','Mean = 160, standard deviation = 6','Mean = 10, standard deviation = 24', 'Mean = 10, standard deviation = 16', 'Mean = 10, standard deviation = 6'],'Mean = 160, standard deviation = 6',cor='The child distribution will always have the same mean as the parent, so the last three answers can be eliminated. The child standard deviation will always be smaller than the parent, so this is the only one that has a smaller deviation than the parent.', incor='')\n",
    "L10Q22 = MultipleChoice('22. What data type(s) does a Bar Graph take?',['Categorical','Continuous','Categorical and Continuous'],'Categorical')\n",
    "L10Q23 = MultipleChoice('23. What data type(s) does a Line Graph take?',['Categorical','Continuous','Categorical and Continuous'],'Continuous')\n",
    "L10Q24 = MultipleChoice('24. What data type(s) does a Box Plot take?',['Categorical','Continuous','Categorical and Continuous'],'Continuous')\n",
    "L10Q25 = MultipleChoice('25. What data type(s) does a Scatter Plot take?',['Categorical','Continuous','Categorical and Continuous'],'Continuous')\n",
    "\n",
    "L10Q26 = MultipleChoice('26. What is the alternative hypothesis for an Independent Chi-Square?',['There is no difference between the means','There is a difference between the means','The row and column variables are not related', 'The row and column variables are related'],'The row and column variables are related')\n",
    "L10Q27 = MultipleChoice('27. You run an Independent Chi-Square and get a p value of .90. How would you interpret this finding?',['Accept the null hypothesis, since p is greater than .05.','Accept the alternative hypothesis, since p is greater than .05'],'Accept the null hypothesis, since p is greater than .05.')\n",
    "L10Q28 = MC('28. What is the z-score if mu = 72 and sigma = 18?',['-1','0','2.8', 'There is not enough information given'],'There is not enough information given', cor='You also need an x to calculate a z score.', incor='')"
   ]
  },
  {
   "cell_type": "code",
   "execution_count": 139,
   "id": "6aa2a9df-e64c-43ff-8ef1-ec0befe80607",
   "metadata": {},
   "outputs": [
    {
     "data": {
      "application/vnd.jupyter.widget-view+json": {
       "model_id": "f250fdf6105e40438f59f35dcbacc9f2",
       "version_major": 2,
       "version_minor": 0
      },
      "text/plain": [
       "VBox(children=(Output(), RadioButtons(layout=Layout(width='max-content'), options=(('Cluster sampling', 0), ('…"
      ]
     },
     "metadata": {},
     "output_type": "display_data"
    },
    {
     "data": {
      "application/vnd.jupyter.widget-view+json": {
       "model_id": "e80cee0deeaa4a3e977b0cd80aedad70",
       "version_major": 2,
       "version_minor": 0
      },
      "text/plain": [
       "VBox(children=(Output(), RadioButtons(layout=Layout(width='max-content'), options=(('Categorical', 0), ('Quant…"
      ]
     },
     "metadata": {},
     "output_type": "display_data"
    },
    {
     "data": {
      "application/vnd.jupyter.widget-view+json": {
       "model_id": "979a1fd3d12d489a9f1b693dd80b1fda",
       "version_major": 2,
       "version_minor": 0
      },
      "text/plain": [
       "VBox(children=(Output(), RadioButtons(layout=Layout(width='max-content'), options=((\"Bayes' Theorem\", 0), ('Ad…"
      ]
     },
     "metadata": {},
     "output_type": "display_data"
    },
    {
     "data": {
      "application/vnd.jupyter.widget-view+json": {
       "model_id": "52848866101843afa42c43b0b9027787",
       "version_major": 2,
       "version_minor": 0
      },
      "text/plain": [
       "VBox(children=(Output(), RadioButtons(layout=Layout(width='max-content'), options=(('16', 0), ('0.833', 1), ('…"
      ]
     },
     "metadata": {},
     "output_type": "display_data"
    },
    {
     "data": {
      "application/vnd.jupyter.widget-view+json": {
       "model_id": "155bd49ed00e4f568fe57a74059a394c",
       "version_major": 2,
       "version_minor": 0
      },
      "text/plain": [
       "VBox(children=(Output(), RadioButtons(layout=Layout(width='max-content'), options=(('One is the first sample; …"
      ]
     },
     "metadata": {},
     "output_type": "display_data"
    },
    {
     "data": {
      "application/vnd.jupyter.widget-view+json": {
       "model_id": "a6cb76e1d61f4c0597b5fabf7b75ae62",
       "version_major": 2,
       "version_minor": 0
      },
      "text/plain": [
       "VBox(children=(Output(), RadioButtons(layout=Layout(width='max-content'), options=(('Cluster sampling', 0), ('…"
      ]
     },
     "metadata": {},
     "output_type": "display_data"
    },
    {
     "data": {
      "application/vnd.jupyter.widget-view+json": {
       "model_id": "c1d1643f3f4b4321a43633a4da5c150f",
       "version_major": 2,
       "version_minor": 0
      },
      "text/plain": [
       "VBox(children=(Output(), RadioButtons(layout=Layout(width='max-content'), options=(('Categorical', 0), ('Quant…"
      ]
     },
     "metadata": {},
     "output_type": "display_data"
    },
    {
     "data": {
      "application/vnd.jupyter.widget-view+json": {
       "model_id": "e8383d7397c04038b464f61f2cadf752",
       "version_major": 2,
       "version_minor": 0
      },
      "text/plain": [
       "VBox(children=(Output(), RadioButtons(layout=Layout(width='max-content'), options=(('All probabilities are bet…"
      ]
     },
     "metadata": {},
     "output_type": "display_data"
    },
    {
     "data": {
      "application/vnd.jupyter.widget-view+json": {
       "model_id": "72d9aa33493a4f6fa95b0aa9ce77add3",
       "version_major": 2,
       "version_minor": 0
      },
      "text/plain": [
       "VBox(children=(Output(), RadioButtons(layout=Layout(width='max-content'), options=(('495', 0), ('255', 1), ('8…"
      ]
     },
     "metadata": {},
     "output_type": "display_data"
    },
    {
     "data": {
      "application/vnd.jupyter.widget-view+json": {
       "model_id": "8452f283b85944d9a36285ee0134bbfd",
       "version_major": 2,
       "version_minor": 0
      },
      "text/plain": [
       "VBox(children=(Output(), RadioButtons(layout=Layout(width='max-content'), options=(('Cluster sampling', 0), ('…"
      ]
     },
     "metadata": {},
     "output_type": "display_data"
    },
    {
     "data": {
      "application/vnd.jupyter.widget-view+json": {
       "model_id": "6e18de37d22541c493c286404ec6f8a0",
       "version_major": 2,
       "version_minor": 0
      },
      "text/plain": [
       "VBox(children=(Output(), RadioButtons(layout=Layout(width='max-content'), options=(('Categorical', 0), ('Quant…"
      ]
     },
     "metadata": {},
     "output_type": "display_data"
    },
    {
     "data": {
      "application/vnd.jupyter.widget-view+json": {
       "model_id": "903a3b0b5b4a4180b3a47580bd5f408b",
       "version_major": 2,
       "version_minor": 0
      },
      "text/plain": [
       "VBox(children=(Output(), RadioButtons(layout=Layout(width='max-content'), options=(('All subjects have an equa…"
      ]
     },
     "metadata": {},
     "output_type": "display_data"
    },
    {
     "data": {
      "application/vnd.jupyter.widget-view+json": {
       "model_id": "fe1e839c5b524f4fa554f69ec4b95559",
       "version_major": 2,
       "version_minor": 0
      },
      "text/plain": [
       "VBox(children=(Output(), RadioButtons(layout=Layout(width='max-content'), options=(('1.89', 0), ('4.48', 1), (…"
      ]
     },
     "metadata": {},
     "output_type": "display_data"
    },
    {
     "data": {
      "application/vnd.jupyter.widget-view+json": {
       "model_id": "c3a956746f8a4155ae987e3d21c6dfe7",
       "version_major": 2,
       "version_minor": 0
      },
      "text/plain": [
       "VBox(children=(Output(), RadioButtons(layout=Layout(width='max-content'), options=(('0.4153', 0), ('0.5000', 1…"
      ]
     },
     "metadata": {},
     "output_type": "display_data"
    },
    {
     "data": {
      "application/vnd.jupyter.widget-view+json": {
       "model_id": "79cf7d9977c04993b087bce94161041a",
       "version_major": 2,
       "version_minor": 0
      },
      "text/plain": [
       "VBox(children=(Output(), RadioButtons(layout=Layout(width='max-content'), options=(('Quantitative to categoric…"
      ]
     },
     "metadata": {},
     "output_type": "display_data"
    },
    {
     "data": {
      "application/vnd.jupyter.widget-view+json": {
       "model_id": "a3221ba6be794c13b2b51e9ac4f2fd6c",
       "version_major": 2,
       "version_minor": 0
      },
      "text/plain": [
       "VBox(children=(Output(), RadioButtons(layout=Layout(width='max-content'), options=(('0.180', 0), ('0.200', 1),…"
      ]
     },
     "metadata": {},
     "output_type": "display_data"
    },
    {
     "data": {
      "application/vnd.jupyter.widget-view+json": {
       "model_id": "143cf3a2138a4b6b9c68a21b7f16f628",
       "version_major": 2,
       "version_minor": 0
      },
      "text/plain": [
       "VBox(children=(Output(), RadioButtons(layout=Layout(width='max-content'), options=(('1/6', 0), ('2/6', 1), ('3…"
      ]
     },
     "metadata": {},
     "output_type": "display_data"
    },
    {
     "data": {
      "application/vnd.jupyter.widget-view+json": {
       "model_id": "478a3076593949389ed10a10d35c6d79",
       "version_major": 2,
       "version_minor": 0
      },
      "text/plain": [
       "VBox(children=(Output(), RadioButtons(layout=Layout(width='max-content'), options=(('It gives you a feel of wh…"
      ]
     },
     "metadata": {},
     "output_type": "display_data"
    },
    {
     "data": {
      "application/vnd.jupyter.widget-view+json": {
       "model_id": "5c8f2bd71f3a4bfd9ed834fffcade6ed",
       "version_major": 2,
       "version_minor": 0
      },
      "text/plain": [
       "VBox(children=(Output(), RadioButtons(layout=Layout(width='max-content'), options=(('Cluster sampling', 0), ('…"
      ]
     },
     "metadata": {},
     "output_type": "display_data"
    },
    {
     "data": {
      "application/vnd.jupyter.widget-view+json": {
       "model_id": "ae254b92e38541c38a5b06a33130f783",
       "version_major": 2,
       "version_minor": 0
      },
      "text/plain": [
       "VBox(children=(Output(), RadioButtons(layout=Layout(width='max-content'), options=(('The 90% confidence interv…"
      ]
     },
     "metadata": {},
     "output_type": "display_data"
    },
    {
     "data": {
      "application/vnd.jupyter.widget-view+json": {
       "model_id": "5bc019a32f89491ca6f6d8d950e45e2f",
       "version_major": 2,
       "version_minor": 0
      },
      "text/plain": [
       "VBox(children=(Output(), RadioButtons(layout=Layout(width='max-content'), options=(('Mean = 160, standard devi…"
      ]
     },
     "metadata": {},
     "output_type": "display_data"
    },
    {
     "data": {
      "application/vnd.jupyter.widget-view+json": {
       "model_id": "2d3d03d9b1434e71acbb1cd3c2bb152c",
       "version_major": 2,
       "version_minor": 0
      },
      "text/plain": [
       "VBox(children=(Output(), RadioButtons(layout=Layout(width='max-content'), options=(('Categorical', 0), ('Conti…"
      ]
     },
     "metadata": {},
     "output_type": "display_data"
    },
    {
     "data": {
      "application/vnd.jupyter.widget-view+json": {
       "model_id": "ac0d9181bc6c4188a2c3a29300a9f857",
       "version_major": 2,
       "version_minor": 0
      },
      "text/plain": [
       "VBox(children=(Output(), RadioButtons(layout=Layout(width='max-content'), options=(('Categorical', 0), ('Conti…"
      ]
     },
     "metadata": {},
     "output_type": "display_data"
    },
    {
     "data": {
      "application/vnd.jupyter.widget-view+json": {
       "model_id": "c2b259e3555c4a9e9c060473b7396074",
       "version_major": 2,
       "version_minor": 0
      },
      "text/plain": [
       "VBox(children=(Output(), RadioButtons(layout=Layout(width='max-content'), options=(('Categorical', 0), ('Conti…"
      ]
     },
     "metadata": {},
     "output_type": "display_data"
    },
    {
     "data": {
      "application/vnd.jupyter.widget-view+json": {
       "model_id": "2c9d74b79180425cba7c0fadcb2cd335",
       "version_major": 2,
       "version_minor": 0
      },
      "text/plain": [
       "VBox(children=(Output(), RadioButtons(layout=Layout(width='max-content'), options=(('Categorical', 0), ('Conti…"
      ]
     },
     "metadata": {},
     "output_type": "display_data"
    },
    {
     "data": {
      "application/vnd.jupyter.widget-view+json": {
       "model_id": "d5d9d9e5938245429ef49064da4a9119",
       "version_major": 2,
       "version_minor": 0
      },
      "text/plain": [
       "VBox(children=(Output(), RadioButtons(layout=Layout(width='max-content'), options=(('There is no difference be…"
      ]
     },
     "metadata": {},
     "output_type": "display_data"
    },
    {
     "data": {
      "application/vnd.jupyter.widget-view+json": {
       "model_id": "dadbc39ec5aa43eabc5a8a995e0399b5",
       "version_major": 2,
       "version_minor": 0
      },
      "text/plain": [
       "VBox(children=(Output(), RadioButtons(layout=Layout(width='max-content'), options=(('Accept the null hypothesi…"
      ]
     },
     "metadata": {},
     "output_type": "display_data"
    },
    {
     "data": {
      "application/vnd.jupyter.widget-view+json": {
       "model_id": "d7cf8fdb84da4a37805977688db75548",
       "version_major": 2,
       "version_minor": 0
      },
      "text/plain": [
       "VBox(children=(Output(), RadioButtons(layout=Layout(width='max-content'), options=(('-1', 0), ('0', 1), ('2.8'…"
      ]
     },
     "metadata": {},
     "output_type": "display_data"
    }
   ],
   "source": [
    "if __name__ == \"__main__\":\n",
    "    display(L10Q1, L10Q2, L10Q3, L10Q4, L10Q5, L10Q6, L10Q7, L10Q8, L10Q9, L10Q10, L10Q11, L10Q12, L10Q13, L10Q14, L10Q15, L10Q16, L10Q17, L10Q18, L10Q19, L10Q20, L10Q21, L10Q22, L10Q23, L10Q24, L10Q25, L10Q26, L10Q27, L10Q28)"
   ]
  },
  {
   "cell_type": "code",
   "execution_count": null,
   "id": "f6294923-3368-43d9-adcd-4f23cc893f0a",
   "metadata": {},
   "outputs": [],
   "source": []
  }
 ],
 "metadata": {
  "kernelspec": {
   "display_name": "Python 3 (ipykernel)",
   "language": "python",
   "name": "python3"
  },
  "language_info": {
   "codemirror_mode": {
    "name": "ipython",
    "version": 3
   },
   "file_extension": ".py",
   "mimetype": "text/x-python",
   "name": "python",
   "nbconvert_exporter": "python",
   "pygments_lexer": "ipython3",
   "version": "3.9.7"
  }
 },
 "nbformat": 4,
 "nbformat_minor": 5
}
