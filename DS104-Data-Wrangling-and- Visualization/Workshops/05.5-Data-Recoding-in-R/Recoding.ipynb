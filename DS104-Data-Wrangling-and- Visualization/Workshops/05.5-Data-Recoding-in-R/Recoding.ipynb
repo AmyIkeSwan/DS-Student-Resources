{
 "cells": [
  {
   "cell_type": "code",
   "execution_count": null,
   "id": "8a75be44-6585-431c-9834-03df6a4d3c4c",
   "metadata": {},
   "outputs": [],
   "source": [
    "# Load in Libraries\n",
    "library(\"dplyr\")\n",
    "# Recoding State into a New Column unique(glassdoor$State)\n",
    "glassdoor$StateR <- NA glassdoor$StateR[glassdoor$State=='NY'] <- 0 glassdoor$StateR[glassdoor$State=='NJ'] <- 1\n",
    "# Recoding City into the same variable\n",
    "unique(glassdoor$City)\n",
    "glassdoor$City[glassdoor$City=='New York'] <- 0 glassdoor$City[glassdoor$City=='Rego Park'] <- 1 glassdoor$City[glassdoor$City=='West New York'] <- 2 glassdoor$City[glassdoor$City=='Williston Park'] <- 3 glassdoor$City[glassdoor$City=='Brooklyn'] <- 4 glassdoor$City[glassdoor$City=='Maspeth'] <- 5 glassdoor$City[glassdoor$City=='Paramus'] <- 6 glassdoor$City[glassdoor$City=='West Orange'] <- 7 glassdoor$City[glassdoor$City=='Staten Island'] <- 8 glassdoor$City[glassdoor$City=='Lynbrook'] <- 9 glassdoor$City[glassdoor$City=='Fort Lee'] <- 10 glassdoor$City[glassdoor$City=='Jersey City'] <- 11 glassdoor$City[glassdoor$City=='Bronx'] <- 12 glassdoor$City[glassdoor$City=='Mamaroneck'] <- 13\n",
    "# Don't need to dummy code in R - all analyses that need it do it automa\u0000cally # Recoding con\u0000nuous to categorical with the Max Salary Variable\n",
    "glassdoor$Max_SalaryR = ifelse(glassdoor$Max_Salary < 30000, \"0\", ifelse(glassdoor$Max_Salary <= 60000,\"1\", \"2\"))"
   ]
  }
 ],
 "metadata": {
  "kernelspec": {
   "display_name": "R",
   "language": "R",
   "name": "ir"
  },
  "language_info": {
   "codemirror_mode": "r",
   "file_extension": ".r",
   "mimetype": "text/x-r-source",
   "name": "R",
   "pygments_lexer": "r",
   "version": "4.1.1"
  }
 },
 "nbformat": 4,
 "nbformat_minor": 5
}
