{
 "cells": [
  {
   "cell_type": "code",
   "execution_count": null,
   "id": "ff64c3de-c51e-4f3f-9505-2b0a1e5211ce",
   "metadata": {},
   "outputs": [],
   "source": [
    "# Data Visualiza\u0000on in R\n",
    "# Load in Libraries\n",
    "library(\"ggplot2\") library(\"la\u0000ce\") library(\"IDPmisc\")\n",
    "# Histogram in R\n",
    "ggplot(flowers, aes(x = Days.to.grow)) + geom_histogram() # Bar Chart with ggplot\n",
    "ggplot(flowers, aes(type.of.flower))+ geom_bar() +\n",
    "gg\u0000tle(\"Frequency of Flower Types\") + xlab(\"Flower Types\") + ylab(\"Frequency\")\n",
    "# Bar chart with la\u0000ce\n",
    "barchart(flowers$type.of.flower, main=\"Frequency of Salary\", ylab=\"Salary Category\", xlab=\"Frequency\") # Stacked Bar Charts in R\n",
    "# Sca\u0000er Plot in R\n",
    "ggplot(flowers, aes(x = Cost.to.grow, y = Cost.of.force)) + geom_point()\n",
    "# Line Charts in R\n",
    "ggplot(flowerShipment, aes(as.Date(Date, \"%m/%d/%Y\"), Cost)) + geom_line() +\n",
    "xlab(\"Date of Flower Shipment\") +\n",
    "ylab(\"Cost of Flowers\") +\n",
    "gg\u0000tle(\"Cost of Flowers Over Time\")"
   ]
  }
 ],
 "metadata": {
  "kernelspec": {
   "display_name": "R",
   "language": "R",
   "name": "ir"
  },
  "language_info": {
   "codemirror_mode": "r",
   "file_extension": ".r",
   "mimetype": "text/x-r-source",
   "name": "R",
   "pygments_lexer": "r",
   "version": "4.1.1"
  }
 },
 "nbformat": 4,
 "nbformat_minor": 5
}
