{
 "cells": [
  {
   "cell_type": "code",
   "execution_count": null,
   "id": "5851fe47-cf4c-43de-925a-ded4683772f8",
   "metadata": {},
   "outputs": [],
   "source": [
    "# Load in Packages\n",
    "library(\"tidyr\") \n",
    "library(\"dplyr\")\n",
    "# Add Columns\n",
    "volcanoes$ErruptionYN = \"Y\"\n",
    "# Rename Columns\n",
    "names(volcanoes)[names(volcanoes) == \"event_remarks\"] <- \"Notes\"\n",
    "# Combine Columns\n",
    "volcanoes1 <- unite(volcanoes, NameType, volcano_name, event_type, sep = \",\") # Separate Columns\n",
    "volcanoes2 <- separate(volcanoes1, NameType, c(\"Name\", \"Type\"), sep=\",\")\n",
    "# Subset Data - keep only the first two rows of data\n",
    "volcanoes3 <- volcanoes2[1:2,]\n",
    "# Subset by keeping columns\n",
    "volcanoes4 <- volcanoes3 %>% select(Name, Type)"
   ]
  }
 ],
 "metadata": {
  "kernelspec": {
   "display_name": "R",
   "language": "R",
   "name": "ir"
  },
  "language_info": {
   "codemirror_mode": "r",
   "file_extension": ".r",
   "mimetype": "text/x-r-source",
   "name": "R",
   "pygments_lexer": "r",
   "version": "4.1.1"
  }
 },
 "nbformat": 4,
 "nbformat_minor": 5
}
